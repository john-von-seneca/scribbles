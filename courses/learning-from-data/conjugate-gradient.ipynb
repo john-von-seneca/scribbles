{
 "cells": [
  {
   "cell_type": "code",
   "metadata": {},
   "outputs": [],
   "source": [
    "import numpy as np\n",
    "import math\n",
    "import matplotlib.pyplot as plt\n",
    "from mpl_toolkits.mplot3d import Axes3D\n",
    "%matplotlib inline\n",
    "import numpy_display\n",
    "# import plotly.plotly as py\n",
    "# import plotly.graph_objs as go\n",
    "# py.sign_in('horrendous.git', '8vbgagde6d')"
   ]
  },
  {
   "cell_type": "code",
   "metadata": {},
   "outputs": [],
   "source": [
    "k_s = np.arange(2,10, 1.0)\n",
    "plt.plot(k_s, [math.log((k+1)/(k-1)) for k in k_s])\n",
    "plt.plot(k_s, [2/k for k in k_s])\n",
    "plt.plot(k_s, [2/(k-1) for k in k_s])\n",
    "plt.show()"
   ]
  },
  {
   "cell_type": "code",
   "metadata": {},
   "outputs": [],
   "source": [
    "import plotly\n",
    "plotly.__version__"
   ]
  },
  {
   "cell_type": "code",
   "metadata": {},
   "outputs": [],
   "source": [
    "A = np.matrix(((3,2),(2,6)))\n",
    "b = np.matrix((2,-8)).transpose()\n",
    "c = 0\n",
    "print(A)\n",
    "print(b)\n",
    "print(A*b)"
   ]
  },
  {
   "cell_type": "code",
   "metadata": {},
   "outputs": [],
   "source": [
    "def f_(x, A, b, c):\n",
    "    return x.transpose()*A*x/2.0 - b.transpose()*x + c\n",
    "\n",
    "def f(x):\n",
    "    return f_(x, A, b, c)\n"
   ]
  },
  {
   "cell_type": "code",
   "metadata": {},
   "outputs": [],
   "source": [
    "x = np.matrix((1,1)).transpose()\n",
    "print(x.transpose()*A*x/2.0)\n"
   ]
  },
  {
   "cell_type": "code",
   "metadata": {},
   "outputs": [],
   "source": [
    "np.arange(-4, 4, 0.25).transpose()\n",
    "x_1 = np.arange(-4, 6, 0.25)\n",
    "x_2 = np.arange(-6, 4, 0.25)\n",
    "xx, yy = np.meshgrid(x_1, x_2)\n",
    "for ix, xxx in enumerate(xx.reshape(-1,).tolist()):\n",
    "    print((ix, xxx))\n",
    "# for x, y in np.enu\n",
    "#     print(x,y)"
   ]
  },
  {
   "cell_type": "code",
   "metadata": {},
   "outputs": [],
   "source": [
    "fig = plt.figure()\n",
    "\n",
    "x_1 = np.arange(-4, 6, 0.25)\n",
    "x_2 = np.arange(-6, 4, 0.25)\n",
    "xx, yy = np.meshgrid(x_1, x_2)\n",
    "print(xx.shape)\n",
    "print(yy.shape)\n",
    "z = np.zeros(xx.shape)\n",
    "for (row,col), trash in np.ndenumerate(xx):\n",
    "    #print((row,col,xx[row,col], yy[row,col]))\n",
    "    pt = np.matrix((xx[row,col], yy[row,col])).transpose()\n",
    "    z[row, col] = f(pt)\n",
    "\n",
    "# for surface plot\n",
    "%matplotlib qt\n",
    "ax = Axes3D(fig)\n",
    "ax.plot_surface(x_1, x_2, z, rstride=1, cstride=1, cmap='hot')\n",
    "plt.show()\n",
    "\n",
    "# ax\n",
    "# ax = plt.axes(projection='3d')\n",
    "# ax.plot_wireframe(x_1, x_2, z)"
   ]
  },
  {
   "cell_type": "code",
   "metadata": {},
   "outputs": [],
   "source": [
    "cls=[[0, 'rgb(0,0,131)'], [0.125, 'rgb(0,60,170)'], [0.375, 'rgb(5,255,255)'], [0.625, 'rgb(255,255,0)'], [0.875, 'rgb(250,0,0)'], [1, 'rgb(128,0,0)']]\n",
    "\n",
    "data = go.Data([ go.Surface(x=x_1, \n",
    "                            y=x_2,\n",
    "                            z=z, \n",
    "                            colorscale=cls) ])\n",
    "\n"
   ]
  },
  {
   "cell_type": "code",
   "metadata": {},
   "outputs": [],
   "source": [
    "# Dictionary of style options for all axes\n",
    "axis = dict(\n",
    "    showbackground=True, # (!) show axis background\n",
    "    backgroundcolor=\"rgb(204, 204, 204)\", # set background color to grey\n",
    "    gridcolor=\"rgb(255, 255, 255)\",       # set grid line color\n",
    "    zerolinecolor=\"rgb(255, 255, 255)\",   # set zero grid line color\n",
    ")\n",
    "\n",
    "# Make a layout object\n",
    "layout = go.Layout(\n",
    "    title='$ f(x) = x^T A x / 2 - b^T x + c $', # set plot title\n",
    "    scene=go.Scene(  # (!) axes are part of a 'scene' in 3d plots\n",
    "        xaxis=go.XAxis(axis), # set x-axis style\n",
    "        yaxis=go.YAxis(axis), # set y-axis style\n",
    "        zaxis=go.ZAxis(axis)  # set z-axis style\n",
    "    )\n",
    ")"
   ]
  },
  {
   "cell_type": "code",
   "metadata": {},
   "outputs": [],
   "source": [
    "# Make a figure object\n",
    "fig = go.Figure(data=data, layout=layout)\n",
    "\n",
    "# (@) Send to Plotly and show in notebook\n",
    "py.plot(fig, filename='s8_surface')"
   ]
  }
 ],
 "metadata": {
  "kernelspec": {
   "display_name": "Python 3",
   "language": "python3",
   "name": "python3"
  },
  "language_info": {
   "codemirror_mode": {
    "name": "ipython",
    "version": 3
   },
   "file_extension": ".py",
   "mimetype": "text/x-python",
   "name": "python",
   "nbconvert_exporter": "python",
   "pygments_lexer": "ipython3"
  }
 },
 "nbformat": 4,
 "nbformat_minor": 0
}
