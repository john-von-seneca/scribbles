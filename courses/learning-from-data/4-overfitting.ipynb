{
 "cells": [
  {
   "cell_type": "code",
   "metadata": {},
   "outputs": [],
   "source": [
    "import math\n",
    "import matplotlib.pyplot as plt\n",
    "import matplotlib as mpl\n",
    "from mpl_toolkits.mplot3d import Axes3D\n",
    "%matplotlib inline\n",
    "import numpy as np\n"
   ]
  },
  {
   "cell_type": "code",
   "metadata": {},
   "outputs": [],
   "source": [
    "# how to use numpy polynomials\n",
    "# required for interactive plotting\n",
    "from __future__ import print_function\n",
    "from ipywidgets import interact, interactive, fixed\n",
    "import ipywidgets as widgets\n",
    "import numpy.polynomial as np_poly\n",
    "\n",
    "def poly_visualize(root1,root2,root3,root4,root5):\n",
    "    poly1 = np_poly.Polynomial.fromroots((root1,root2,root3,root4,root5))\n",
    "    x, y = poly1.linspace(domain=(-10,10))\n",
    "    plt.plot(x, y)\n",
    "\n",
    "interact(poly_visualize, root1=(-10,10), root2=(-10,10), root3=(-10,10), root4=(-10,10), root5=(-10,10))"
   ]
  },
  {
   "cell_type": "code",
   "metadata": {},
   "outputs": [],
   "source": [
    "def lm_inner(a, b):\n",
    "    return (a.transpose()*b)[0,0]"
   ]
  },
  {
   "cell_type": "code",
   "metadata": {},
   "outputs": [],
   "source": [
    "# example 4.1\n",
    "# target function: sine\n",
    "# N = 2\n",
    "# with and w/o weight decay\n",
    "N, T = 2, 200\n",
    "N_plot = 200\n",
    "x_plot = np.linspace(-1,1,N_plot).reshape((N_plot,1))\n",
    "xx_plot = np.matrix(np.hstack([np.ones_like(x_plot), x_plot])).reshape(N_plot, 2)\n",
    "all_ys = np.matrix(np.zeros((N_plot, T))).reshape(N_plot, T)\n",
    "for t in range(T):\n",
    "    # sample the N points from sine\n",
    "    x = np.matrix(np.random.rand(N)).reshape((N,1))*2-1\n",
    "    sin_x = np.matrix([math.sin(math.pi*xx) for xx in x]).reshape((N,1))\n",
    "    \n",
    "    # form the homogenous coordinates\n",
    "    X = np.hstack([np.ones_like(x),x])\n",
    "    # could have done w/ the inverse instead, but what the heck\n",
    "    w = (X.transpose()*X)**-1 * X.transpose() * sin_x\n",
    "    \n",
    "    # show the line\n",
    "    w_plot = np.matrix([lm_inner(w,xx_plot[ix,:].transpose()) for ix in range(N_plot)]).reshape((N_plot,1))\n",
    "    all_ys[:,t] = w_plot\n",
    "    #plt.plot(xx_plot[:,1], w_plot, color=('#B5FA5E'))\n",
    "\n",
    "w_mean = np.mean(all_ys, 1)\n",
    "w_std  = np.std(all_ys,  1)\n",
    "for ix in range(N_plot):\n",
    "    x_val = xx_plot[ix, 1]\n",
    "    y_mean, y_std = w_mean[ix,0], w_std[ix,0]\n",
    "    # mpl.lines.Line2D\n",
    "    plt.plot([x_val,x_val], [y_mean-y_std, y_mean+y_std], color='#B5FA5E', linewidth=2)\n",
    "\n",
    "# show the sine man\n",
    "sin_x_plot = np.matrix([math.sin(math.pi*xx) for xx in x_plot]).reshape(N_plot,1)\n",
    "plt.plot(x_plot, sin_x_plot, color='magenta', linewidth=3)\n",
    "plt.axis((-1,1,-3,3))\n",
    "\n",
    "plt.show()"
   ]
  },
  {
   "cell_type": "code",
   "metadata": {},
   "outputs": [],
   "source": [
    "a = np.matrix(np.zeros((5,3)))\n",
    "# print(a)\n",
    "a[:,1] = np.matrix(np.ones((5,1)))\n",
    "# print(a)\n",
    "a = np.matrix(np.random.rand(5,3))\n",
    "# print(a)\n",
    "# print(np.mean(a,1))\n",
    "# print(np.var(a,1))\n",
    "np.std(a,1)"
   ]
  },
  {
   "cell_type": "code",
   "metadata": {},
   "outputs": [],
   "source": [
    "# printing polynomials\n",
    "\n",
    "def leg_term(ix, coeff):\n",
    "    if coeff==0:\n",
    "        return None\n",
    "    if ix==0:\n",
    "        return '{0}'.format(coeff)\n",
    "    \n",
    "    str_coeff = '{0}*'.format(coeff) if coeff!=1.0 else ''\n",
    "    if ix==0:\n",
    "        str_x = ''\n",
    "    elif ix==1.0:\n",
    "        str_x = 'x'\n",
    "    else:\n",
    "        str_x = 'x^{0}'.format(ix)\n",
    "        \n",
    "    return '{0}{1}'.format(str_coeff,str_x)\n",
    "\n",
    "def poly_print(b_poly):\n",
    "    poly = [leg_term(ix,a) for (ix,a) in enumerate(b_poly.coef)]\n",
    "#     poly2 = list(filter(lambda x: x is not None, poly))\n",
    "#     poly2 = [x for x in poly if x is not None]\n",
    "    poly2 = filter(None, poly)\n",
    "    print(' + '.join(poly2))\n",
    "    \n",
    "def leg_print(degree):\n",
    "    b = np_poly.legendre.Legendre.basis(degree)\n",
    "    b_poly = b.convert(kind=np_poly.Polynomial)\n",
    "    poly_print(b_poly)\n",
    "    \n",
    "\n",
    "degree = 2\n",
    "leg_print(degree)\n"
   ]
  },
  {
   "cell_type": "code",
   "metadata": {
    "code_folding": [
     8
    ]
   },
   "outputs": [],
   "source": [
    "## legendre polynomials\n",
    "\n",
    "# required for interactive plotting\n",
    "from __future__ import print_function\n",
    "from ipywidgets import interact, interactive, fixed\n",
    "import ipywidgets as widgets\n",
    "import numpy.polynomial as np_poly\n",
    "\n",
    "def show_legendre(degree):\n",
    "    leg_print(degree)\n",
    "    b = np_poly.legendre.Legendre.basis(degree)\n",
    "    x, y = b.linspace()\n",
    "    plt.plot(x,y)\n",
    "    plt.show()\n",
    "    \n",
    "interact(show_legendre, degree=(1,10))\n"
   ]
  },
  {
   "cell_type": "code",
   "metadata": {},
   "outputs": [],
   "source": []
  }
 ],
 "metadata": {
  "hide_input": true,
  "kernelspec": {
   "display_name": "Python 3",
   "language": "python3",
   "name": "python3"
  },
  "language_info": {
   "codemirror_mode": {
    "name": "ipython",
    "version": 3
   },
   "file_extension": ".py",
   "mimetype": "text/x-python",
   "name": "python",
   "nbconvert_exporter": "python",
   "pygments_lexer": "ipython3"
  },
  "latex_envs": {
   "bibliofile": "biblio.bib",
   "cite_by": "apalike",
   "current_citInitial": 1,
   "eqLabelWithNumbers": true,
   "eqNumInitial": 0
  }
 },
 "nbformat": 4,
 "nbformat_minor": 0
}
