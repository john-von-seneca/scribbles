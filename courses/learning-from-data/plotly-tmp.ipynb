{
 "cells": [
  {
   "cell_type": "code",
   "metadata": {},
   "outputs": [],
   "source": [
    "import plotly.plotly as py\n",
    "import numpy as np\n",
    "from plotly.graph_objs import *\n",
    "py.sign_in('horrendous.git', '8vbgagde6d')"
   ]
  },
  {
   "cell_type": "code",
   "metadata": {},
   "outputs": [],
   "source": [
    "import plotly.plotly as py\n",
    "from plotly.graph_objs import *\n",
    "# auto sign-in with credentials or use py.sign_in()\n",
    "trace1 = Scatter3d(\n",
    "        x=[1,2,3],\n",
    "        y=[3,4,5],\n",
    "        z=[1,3,4]\n",
    "    )\n",
    "data = Data([trace1])\n",
    "py.plot(data)"
   ]
  },
  {
   "cell_type": "code",
   "metadata": {},
   "outputs": [],
   "source": [
    "x1 = y1 = np.arange(-1,1,0.4)\n",
    "yt1 = x1[:,np.newaxis]\n",
    "print np.shape(yt1)\n",
    "print '***'\n",
    "print yt1"
   ]
  },
  {
   "cell_type": "code",
   "metadata": {},
   "outputs": [],
   "source": [
    "print x1, '-->', np.shape(x1)\n",
    "print y1, '-->', np.shape(y1)\n",
    "print x1*y1, '-->', np.shape(x1*y1)"
   ]
  },
  {
   "cell_type": "code",
   "metadata": {},
   "outputs": [],
   "source": [
    "print x1*yt1\n",
    "print '***'\n",
    "print"
   ]
  },
  {
   "cell_type": "code",
   "metadata": {},
   "outputs": [],
   "source": [
    "x = y = np.arange(-5,5,0.1)\n",
    "yt = x[:,np.newaxis]\n",
    "z = np.cos(x*yt)+np.sin(x*yt)"
   ]
  },
  {
   "cell_type": "code",
   "metadata": {},
   "outputs": [],
   "source": [
    "%%capture\n",
    "# capture to suppress help() output\n",
    "# remeber you can always call help on Plotly objects\n",
    "help(Surface)"
   ]
  },
  {
   "cell_type": "code",
   "metadata": {},
   "outputs": [],
   "source": [
    "# aquatic colorscale\n",
    "cls=[[0, 'rgb(0,0,131)'], [0.125, 'rgb(0,60,170)'], [0.375, 'rgb(5,255,255)'], [0.625, 'rgb(255,255,0)'], [0.875, 'rgb(250,0,0)'], [1, 'rgb(128,0,0)']]\n",
    "\n",
    "data = Data([ Surface( x=x, y=y, z=z, colorscale=cls ) ])\n",
    "\n",
    "layout = Layout(\n",
    "    title='waaaaves',\n",
    "    autosize=True,\n",
    "    scene=Scene( \n",
    "        zaxis=ZAxis(range=[-5, 5],autorange=False,nticks=10,gridcolor='rgb(255, 255, 255)',gridwidth=2,zerolinecolor='rgb(255, 255, 255)',zerolinewidth=2),\n",
    "        xaxis=XAxis(nticks=10,gridcolor='rgb(255, 255, 255)',gridwidth=2,zerolinecolor='rgb(255, 255, 255)',zerolinewidth=2),   \n",
    "        yaxis=YAxis(nticks=10,gridcolor='rgb(255, 255, 255)',gridwidth=2,zerolinecolor='rgb(255, 255, 255)',zerolinewidth=2),        \n",
    "        bgcolor=\"rgb(244, 244, 248)\"\n",
    "    )\n",
    ")\n",
    "\n",
    "fig = Figure(data=data, layout=layout)\n",
    "\n",
    "# As of Plotly's python package plotly-1.5.0\n",
    "# 2d contours in 3d plots aren't supported, \n",
    "# but you can hack them in like this.\n",
    "# Stayed tuned for updates.\n",
    "contours = { 'z':{ 'show':True } }\n",
    "fig['data'][0]['contours'] = contours\n",
    "\n",
    "# validate = False prevents syntax checking that would complain about the 2d contour hack (see above)\n",
    "py.iplot(fig, filename='waaaaves', validate=False)"
   ]
  },
  {
   "cell_type": "code",
   "metadata": {},
   "outputs": [],
   "source": []
  },
  {
   "cell_type": "code",
   "metadata": {},
   "outputs": [],
   "source": []
  },
  {
   "cell_type": "code",
   "metadata": {},
   "outputs": [],
   "source": []
  }
 ],
 "metadata": {
  "kernelspec": {
   "display_name": "Python 2",
   "language": "python",
   "name": "python2"
  },
  "language_info": {
   "codemirror_mode": {
    "name": "ipython",
    "version": 2
   },
   "file_extension": ".py",
   "mimetype": "text/x-python",
   "name": "python",
   "nbconvert_exporter": "python",
   "pygments_lexer": "ipython2"
  }
 },
 "nbformat": 4,
 "nbformat_minor": 0
}
