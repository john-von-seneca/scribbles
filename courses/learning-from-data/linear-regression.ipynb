{
 "cells": [
  {
   "cell_type": "code",
   "metadata": {},
   "outputs": [],
   "source": [
    "from __future__ import print_function\n",
    "from ipywidgets import interact, interactive, fixed\n",
    "import ipywidgets as widgets\n",
    "import numpy as np\n",
    "%matplotlib inline\n",
    "import matplotlib.pyplot as plt\n",
    "import math\n",
    "import sympy as sp"
   ]
  },
  {
   "cell_type": "code",
   "metadata": {},
   "outputs": [],
   "source": [
    "def f(w, x):\n",
    "    xx, val = 1, 0\n",
    "    for ww in w:\n",
    "        val += ww*xx\n",
    "        xx *= x\n",
    "    return val"
   ]
  },
  {
   "cell_type": "code",
   "metadata": {},
   "outputs": [],
   "source": [
    "def g(x_val,x0,x1,x2,x3):\n",
    "    x = sp.symbols('x')\n",
    "    expression = (x - x0)*(x-x1)*(x-x2)*(x-x3)\n",
    "    return expression.subs(x, x_val)"
   ]
  },
  {
   "cell_type": "code",
   "metadata": {},
   "outputs": [],
   "source": [
    "def g2(roots, x):\n",
    "    val = 1\n",
    "    for root in roots:\n",
    "        val *= (x-root)\n",
    "    return val\n"
   ]
  },
  {
   "cell_type": "code",
   "metadata": {},
   "outputs": [],
   "source": [
    "def compute2(x0, x1, x2, x3,x4):\n",
    "    x = np.linspace(0,5,100)\n",
    "    roots = (x0,x1,x2,x3,x4)\n",
    "    plt.plot(x, [g2(roots,xx) for xx in x])\n",
    "    \n",
    "    \n",
    "    plt.show()"
   ]
  },
  {
   "cell_type": "code",
   "metadata": {},
   "outputs": [],
   "source": [
    "interact(compute2, x0=(-10,10),x1=(-10,10),x2=(-10,10),x3=(-10,10),x4=(-10,10))"
   ]
  },
  {
   "cell_type": "code",
   "metadata": {},
   "outputs": [],
   "source": [
    "roots = (-2,1,-1,5,2)\n",
    "N, x_max = 10, 5\n",
    "x = np.random.rand(N)*x_max\n",
    "noise_sigma = 50\n",
    "noise =np.random.normal(0, noise_sigma, N)\n",
    "y = [g2(roots,xx) for xx in x] + noise\n",
    "plt.plot(x,y,'o')\n",
    "plt.show()\n",
    "x_original = x"
   ]
  },
  {
   "cell_type": "code",
   "metadata": {},
   "outputs": [],
   "source": [
    "x = np.linspace(0,x_max,100)\n",
    "deg_max = 7\n",
    "fig, ax = plt.subplots()\n",
    "ax.plot(x_original,y,'o')\n",
    "for deg in range(1,deg_max+1):\n",
    "  w = np.polyfit(x_original, y, deg)\n",
    "  ax.plot(x, [f(w[::-1],xx) for xx in x], label='degree '+str(deg))\n",
    "\n",
    "legend = ax.legend(loc='lower left', shadow=True)\n",
    "plt.show()\n",
    "\n",
    "def show_poly(deg):\n",
    "    w = np.polyfit(x_original, y, deg)\n",
    "    plt.plot(x_original, y, 'o')\n",
    "    plt.plot(x, [f(w[::-1],xx) for xx in x], label='degree '+str(deg))\n",
    "    plt.show()\n",
    "\n",
    "interactive(show_poly, deg=(1,9))\n"
   ]
  },
  {
   "cell_type": "code",
   "metadata": {},
   "outputs": [],
   "source": [
    "w[::-1]"
   ]
  },
  {
   "cell_type": "code",
   "metadata": {},
   "outputs": [],
   "source": []
  },
  {
   "cell_type": "code",
   "metadata": {},
   "outputs": [],
   "source": []
  },
  {
   "cell_type": "code",
   "metadata": {},
   "outputs": [],
   "source": []
  },
  {
   "cell_type": "code",
   "metadata": {},
   "outputs": [],
   "source": []
  },
  {
   "cell_type": "code",
   "metadata": {},
   "outputs": [],
   "source": []
  },
  {
   "cell_type": "code",
   "metadata": {},
   "outputs": [],
   "source": []
  },
  {
   "cell_type": "code",
   "metadata": {},
   "outputs": [],
   "source": []
  },
  {
   "cell_type": "code",
   "metadata": {},
   "outputs": [],
   "source": []
  },
  {
   "cell_type": "code",
   "metadata": {},
   "outputs": [],
   "source": []
  },
  {
   "cell_type": "code",
   "metadata": {},
   "outputs": [],
   "source": [
    "def compute(w0, w1, w2, w3, w4):\n",
    "    x = np.linspace(0,5,100)\n",
    "    w = (w0, w1, w2, w3, w4)\n",
    "    plt.plot(x, [f(w,xx) for xx in x])\n",
    "    plt.show()"
   ]
  },
  {
   "cell_type": "code",
   "metadata": {},
   "outputs": [],
   "source": [
    "interact(compute, w0=(-5,5),w1=(-5,5),w2=(-5,5),w3=(-5,5), w4=(-5,5))"
   ]
  }
 ],
 "metadata": {
  "hide_input": true,
  "kernelspec": {
   "display_name": "Python 3",
   "language": "python3",
   "name": "python3"
  },
  "language_info": {
   "codemirror_mode": {
    "name": "ipython",
    "version": 3
   },
   "file_extension": ".py",
   "mimetype": "text/x-python",
   "name": "python",
   "nbconvert_exporter": "python",
   "pygments_lexer": "ipython3"
  },
  "latex_envs": {
   "bibliofile": "biblio.bib",
   "cite_by": "apalike",
   "current_citInitial": 1,
   "eqLabelWithNumbers": true,
   "eqNumInitial": 0
  }
 },
 "nbformat": 4,
 "nbformat_minor": 0
}
