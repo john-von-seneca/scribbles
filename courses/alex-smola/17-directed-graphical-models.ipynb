{
 "cells": [
  {
   "cell_type": "code",
   "execution_count": 2,
   "metadata": {
    "collapsed": true
   },
   "outputs": [],
   "source": [
    "import math\n",
    "import scipy as sp\n",
    "import numpy as np\n",
    "import matplotlib.pyplot as plt\n",
    "%matplotlib inline\n",
    "\n",
    "# required for interactive plotting\n",
    "from __future__ import print_function\n",
    "from ipywidgets import interact, interactive, fixed\n",
    "import ipywidgets as widgets\n",
    "import numpy.polynomial as np_poly\n",
    "\n",
    "from IPython.display import Math\n",
    "from IPython.display import Latex\n",
    "from IPython.display import HTML"
   ]
  },
  {
   "cell_type": "markdown",
   "metadata": {},
   "source": [
    "Explaining away\n",
    "==============="
   ]
  },
  {
   "cell_type": "markdown",
   "metadata": {},
   "source": [
    "p(b) = 0.1  \n",
    "p(s) = 0.2"
   ]
  },
  {
   "cell_type": "markdown",
   "metadata": {},
   "source": [
    "$p(g \\mid s,b)$"
   ]
  },
  {
   "cell_type": "code",
   "execution_count": 58,
   "metadata": {
    "collapsed": false
   },
   "outputs": [
    {
     "name": "stdout",
     "output_type": "stream",
     "text": [
      "p(g | s,b)\n",
      "\n",
      "\tb\n",
      "s  [[ 0.1  0.8]\n",
      " [ 0.8  0.9]]\n"
     ]
    }
   ],
   "source": [
    "p_g_sl_s_b = np.matrix(((0.1,0.8),(0.8,0.9)))\n",
    "print('p(g | s,b)\\n\\n\\tb\\ns ', p_g_sl_s_b)"
   ]
  },
  {
   "cell_type": "markdown",
   "metadata": {},
   "source": [
    "p(s,b)"
   ]
  },
  {
   "cell_type": "code",
   "execution_count": 59,
   "metadata": {
    "collapsed": false
   },
   "outputs": [
    {
     "name": "stdout",
     "output_type": "stream",
     "text": [
      "p(s,b)\n",
      "\n",
      "\tb\n",
      "s [[ 0.72  0.08]\n",
      " [ 0.18  0.02]]\n"
     ]
    }
   ],
   "source": [
    "p_s_b = np.matrix((0.8,0.2)).transpose() * np.matrix((0.9, 0.1)) \n",
    "print('p(s,b)\\n\\n\\tb\\ns',p_s_b)"
   ]
  },
  {
   "cell_type": "markdown",
   "metadata": {},
   "source": [
    "$$\n",
    "p(g,s,b) = p(g \\mid s,b) ~p(s) ~p(b)\n",
    "$$"
   ]
  },
  {
   "cell_type": "code",
   "execution_count": 61,
   "metadata": {
    "collapsed": false
   },
   "outputs": [
    {
     "name": "stdout",
     "output_type": "stream",
     "text": [
      "p(g,s,b)\n",
      "\n",
      "\tb\n",
      "s [[ 0.072  0.064]\n",
      " [ 0.144  0.018]]\n"
     ]
    }
   ],
   "source": [
    "p_g_s_b = np.multiply(p_g_sl_s_b,p_s_b)\n",
    "print('p(g,s,b)\\n\\n\\tb\\ns',p_g_s_b)"
   ]
  },
  {
   "cell_type": "markdown",
   "metadata": {},
   "source": [
    "Normalize p(s,b) like this  \n",
    "$$\n",
    "p(g,s,b) = \\frac{p(g,s,b)}{\\sum_{i,j} p(g,s,b)}\n",
    "$$"
   ]
  },
  {
   "cell_type": "code",
   "execution_count": 62,
   "metadata": {
    "collapsed": false
   },
   "outputs": [
    {
     "name": "stdout",
     "output_type": "stream",
     "text": [
      "p(g,s,b) normalized\n",
      "\n",
      "\tb\n",
      "s [[ 0.24161074  0.2147651 ]\n",
      " [ 0.48322148  0.06040268]]\n"
     ]
    }
   ],
   "source": [
    "p_g_s_b_n = p_g_s_b / np.sum(p_g_s_b)\n",
    "print('p(g,s,b) normalized\\n\\n\\tb\\ns',p_g_s_b_n)"
   ]
  },
  {
   "cell_type": "markdown",
   "metadata": {},
   "source": [
    "\\begin{array}{llr}\n",
    "p(b=1 \\mid g) &= \\frac{p(g , b=1)}{p(g)}\n",
    "\\\\\n",
    " &= \\frac{\\left\\{\\sum_s{p(g \\mid s,b=1)}\\right\\} * p(b=1)}{p(g)}\n",
    " \\\\\n",
    " &= \\sum_s{p(g=1,s,b=1)}\n",
    "\\end{array}"
   ]
  },
  {
   "cell_type": "code",
   "execution_count": 41,
   "metadata": {
    "collapsed": false
   },
   "outputs": [
    {
     "name": "stdout",
     "output_type": "stream",
     "text": [
      "p(b=1 | g=1) =  0.275167785235\n"
     ]
    }
   ],
   "source": [
    "print('p(b=1 | g=1) = ', np.sum(p_g_s_b_n[:,1]))"
   ]
  },
  {
   "cell_type": "markdown",
   "metadata": {},
   "source": [
    "\\begin{array}{ll}\n",
    "p(s = 1 \\mid g=1) &= \\frac{p(g=1 \\mid s=1) p(s=1)}{p(g=1)}\n",
    "\\\\\n",
    "&= \\sum_b p(g=1, s=1, b)\n",
    "\\end{array}"
   ]
  },
  {
   "cell_type": "code",
   "execution_count": 40,
   "metadata": {
    "collapsed": false
   },
   "outputs": [
    {
     "name": "stdout",
     "output_type": "stream",
     "text": [
      "p(s=1 | g=1) =  0.543624161074\n"
     ]
    }
   ],
   "source": [
    "print('p(s=1 | g=1) = ', np.sum(p_g_s_b_n[1,:]))"
   ]
  },
  {
   "cell_type": "markdown",
   "metadata": {},
   "source": [
    "\\begin{array}{ll}\n",
    "p(b=1 \\mid g=1, s=1)\n",
    "&=\n",
    "\\frac{p(g=1, s=1, b=1)}{p(g=1, s=1)}\n",
    "\\\\\n",
    "&=\n",
    "\\frac{p(g=1, s=1, b=1)}{\\sum_b p(g=1, s=1, b)}\n",
    "\\\\ &=\n",
    "\\frac{0.06}{0.483+0.06}\n",
    "\\end{array}"
   ]
  },
  {
   "cell_type": "code",
   "execution_count": 42,
   "metadata": {
    "collapsed": false
   },
   "outputs": [
    {
     "name": "stdout",
     "output_type": "stream",
     "text": [
      "p(b=1 | g=1, s=1) 0.111111111111\n"
     ]
    }
   ],
   "source": [
    "print('p(b=1 | g=1, s=1)', p_g_s_b_n[1,1] / np.sum(p_g_s_b_n[1,:]))"
   ]
  },
  {
   "cell_type": "markdown",
   "metadata": {},
   "source": [
    "\\begin{array}{ll}\n",
    "p(b=1 \\mid g=1, s=0)\n",
    "&=\n",
    "\\frac{p(g=1, s=0, b=1)}{p(g=1, s=0)}\n",
    "\\\\\n",
    "&=\n",
    "\\frac{p(g=1, s=0, b=1)}{\\sum_b p(g=1, s=0, b)}\n",
    "\\\\ &=\n",
    "\\frac{0.215}{0.215 + 0.242}\n",
    "\\end{array}"
   ]
  },
  {
   "cell_type": "code",
   "execution_count": 49,
   "metadata": {
    "collapsed": false
   },
   "outputs": [
    {
     "name": "stdout",
     "output_type": "stream",
     "text": [
      "p(b=1 | g=1, s=0) 0.470588235294 0.4704595185995624\n"
     ]
    }
   ],
   "source": [
    "print('p(b=1 | g=1, s=0)',\n",
    "      p_g_s_b_n[0,1] / np.sum(p_g_s_b_n[0,:]),\n",
    "     0.215/(0.215+0.242))"
   ]
  },
  {
   "cell_type": "markdown",
   "metadata": {},
   "source": [
    "\\begin{array}{ll}\n",
    "p(s=1 \\mid g=1, b=1)\n",
    "&=\n",
    "\\frac{p(g=1, s=1, b=1)}{p(g=1, b=1)}\n",
    "\\\\\n",
    "&=\n",
    "\\frac{p(g=1, s=1, b=1)}{\\sum_s p(g=1, s, b=1)}\n",
    "\\\\ &=\n",
    "\\frac{0.060}{0.060+0.215}\n",
    "\\end{array}"
   ]
  },
  {
   "cell_type": "code",
   "execution_count": 50,
   "metadata": {
    "collapsed": false
   },
   "outputs": [
    {
     "name": "stdout",
     "output_type": "stream",
     "text": [
      "p(s=1 | g=1, b=1) 0.219512195122 0.21818181818181814\n"
     ]
    }
   ],
   "source": [
    "print('p(s=1 | g=1, b=1)',\n",
    "      p_g_s_b_n[1,1] / np.sum(p_g_s_b_n[:,1]),\n",
    "     0.06/(0.06+0.215))"
   ]
  },
  {
   "cell_type": "markdown",
   "metadata": {},
   "source": [
    "\\begin{array}{ll}\n",
    "p(s=1 \\mid g=1, b=0)\n",
    "&=\n",
    "\\frac{p(g=1, s=1, b=0)}{p(g=1, b=0)}\n",
    "\\\\\n",
    "&=\n",
    "\\frac{p(g=1, s=1, b=0)}{\\sum_s p(g=1, s, b=0)}\n",
    "\\\\ &=\n",
    "\\frac{0.483}{0.483+0.242}\n",
    "\\end{array}"
   ]
  },
  {
   "cell_type": "code",
   "execution_count": 52,
   "metadata": {
    "collapsed": false
   },
   "outputs": [
    {
     "name": "stdout",
     "output_type": "stream",
     "text": [
      "p(s=1 | g=1, b=0) 0.666666666667 0.6662068965517242\n"
     ]
    }
   ],
   "source": [
    "print('p(s=1 | g=1, b=0)',\n",
    "      p_g_s_b_n[1,0] / np.sum(p_g_s_b_n[:,0]),\n",
    "     0.483/(0.483+0.242))"
   ]
  },
  {
   "cell_type": "code",
   "execution_count": 36,
   "metadata": {
    "collapsed": false
   },
   "outputs": [
    {
     "data": {
      "text/plain": [
       "matrix([[ 0.24161074,  0.2147651 ],\n",
       "        [ 0.48322148,  0.06040268]])"
      ]
     },
     "execution_count": 36,
     "metadata": {},
     "output_type": "execute_result"
    }
   ],
   "source": [
    "p_g_s_b_n"
   ]
  }
 ],
 "metadata": {
  "hide_input": false,
  "kernelspec": {
   "display_name": "Python 3",
   "language": "python",
   "name": "python3"
  },
  "language_info": {
   "codemirror_mode": {
    "name": "ipython",
    "version": 3
   },
   "file_extension": ".py",
   "mimetype": "text/x-python",
   "name": "python",
   "nbconvert_exporter": "python",
   "pygments_lexer": "ipython3",
   "version": "3.4.3"
  },
  "latex_envs": {
   "bibliofile": "biblio.bib",
   "cite_by": "apalike",
   "current_citInitial": 1,
   "eqLabelWithNumbers": true,
   "eqNumInitial": 0
  }
 },
 "nbformat": 4,
 "nbformat_minor": 0
}
