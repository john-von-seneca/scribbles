{
 "cells": [
  {
   "cell_type": "code",
   "metadata": {},
   "outputs": [],
   "source": [
    "import math\n",
    "import scipy as sp\n",
    "import numpy as np\n",
    "import matplotlib.pyplot as plt\n",
    "%matplotlib inline\n",
    "\n",
    "# required for interactive plotting\n",
    "from __future__ import print_function\n",
    "from ipywidgets import interact, interactive, fixed\n",
    "import ipywidgets as widgets\n",
    "import numpy.polynomial as np_poly\n",
    "\n",
    "from IPython.display import Math\n",
    "from IPython.display import Latex\n",
    "from IPython.display import HTML"
   ]
  },
  {
   "cell_type": "markdown",
   "metadata": {},
   "source": [
    "Explaining away\n",
    "==============="
   ]
  },
  {
   "cell_type": "markdown",
   "metadata": {},
   "source": [
    "p(b) = 0.1  \n",
    "p(s) = 0.2"
   ]
  },
  {
   "cell_type": "markdown",
   "metadata": {},
   "source": [
    "$p(g \\mid s,b)$"
   ]
  },
  {
   "cell_type": "code",
   "metadata": {},
   "outputs": [],
   "source": [
    "p_g_sl_s_b = np.matrix(((0.1,0.8),(0.8,0.9)))\n",
    "print('p(g | s,b)\\n\\n\\tb\\ns ', p_g_sl_s_b)"
   ]
  },
  {
   "cell_type": "markdown",
   "metadata": {},
   "source": [
    "p(s,b)"
   ]
  },
  {
   "cell_type": "code",
   "metadata": {},
   "outputs": [],
   "source": [
    "p_s_b = np.matrix((0.8,0.2)).transpose() * np.matrix((0.9, 0.1)) \n",
    "print('p(s,b)\\n\\n\\tb\\ns',p_s_b)"
   ]
  },
  {
   "cell_type": "markdown",
   "metadata": {},
   "source": [
    "$$\n",
    "p(g,s,b) = p(g \\mid s,b) ~p(s) ~p(b)\n",
    "$$"
   ]
  },
  {
   "cell_type": "code",
   "metadata": {},
   "outputs": [],
   "source": [
    "p_g_s_b = np.multiply(p_g_sl_s_b,p_s_b)\n",
    "print('p(g,s,b)\\n\\n\\tb\\ns',p_g_s_b)"
   ]
  },
  {
   "cell_type": "markdown",
   "metadata": {},
   "source": [
    "Normalize p(s,b) like this  \n",
    "$$\n",
    "p(g,s,b) = \\frac{p(g,s,b)}{\\sum_{i,j} p(g,s,b)}\n",
    "$$"
   ]
  },
  {
   "cell_type": "code",
   "metadata": {},
   "outputs": [],
   "source": [
    "p_g_s_b_n = p_g_s_b / np.sum(p_g_s_b)\n",
    "print('p(g,s,b) normalized\\n\\n\\tb\\ns',p_g_s_b_n)"
   ]
  },
  {
   "cell_type": "markdown",
   "metadata": {},
   "source": [
    "\\begin{array}{llr}\n",
    "p(b=1 \\mid g) &= \\frac{p(g , b=1)}{p(g)}\n",
    "\\\\\n",
    " &= \\frac{\\left\\{\\sum_s{p(g \\mid s,b=1)}\\right\\} * p(b=1)}{p(g)}\n",
    " \\\\\n",
    " &= \\sum_s{p(g=1,s,b=1)}\n",
    "\\end{array}"
   ]
  },
  {
   "cell_type": "code",
   "metadata": {},
   "outputs": [],
   "source": [
    "print('p(b=1 | g=1) = ', np.sum(p_g_s_b_n[:,1]))"
   ]
  },
  {
   "cell_type": "markdown",
   "metadata": {},
   "source": [
    "\\begin{array}{ll}\n",
    "p(s = 1 \\mid g=1) &= \\frac{p(g=1 \\mid s=1) p(s=1)}{p(g=1)}\n",
    "\\\\\n",
    "&= \\sum_b p(g=1, s=1, b)\n",
    "\\end{array}"
   ]
  },
  {
   "cell_type": "code",
   "metadata": {},
   "outputs": [],
   "source": [
    "print('p(s=1 | g=1) = ', np.sum(p_g_s_b_n[1,:]))"
   ]
  },
  {
   "cell_type": "markdown",
   "metadata": {},
   "source": [
    "\\begin{array}{ll}\n",
    "p(b=1 \\mid g=1, s=1)\n",
    "&=\n",
    "\\frac{p(g=1, s=1, b=1)}{p(g=1, s=1)}\n",
    "\\\\\n",
    "&=\n",
    "\\frac{p(g=1, s=1, b=1)}{\\sum_b p(g=1, s=1, b)}\n",
    "\\\\ &=\n",
    "\\frac{0.06}{0.483+0.06}\n",
    "\\end{array}"
   ]
  },
  {
   "cell_type": "code",
   "metadata": {},
   "outputs": [],
   "source": [
    "print('p(b=1 | g=1, s=1)', p_g_s_b_n[1,1] / np.sum(p_g_s_b_n[1,:]))"
   ]
  },
  {
   "cell_type": "markdown",
   "metadata": {},
   "source": [
    "\\begin{array}{ll}\n",
    "p(b=1 \\mid g=1, s=0)\n",
    "&=\n",
    "\\frac{p(g=1, s=0, b=1)}{p(g=1, s=0)}\n",
    "\\\\\n",
    "&=\n",
    "\\frac{p(g=1, s=0, b=1)}{\\sum_b p(g=1, s=0, b)}\n",
    "\\\\ &=\n",
    "\\frac{0.215}{0.215 + 0.242}\n",
    "\\end{array}"
   ]
  },
  {
   "cell_type": "code",
   "metadata": {},
   "outputs": [],
   "source": [
    "print('p(b=1 | g=1, s=0)',\n",
    "      p_g_s_b_n[0,1] / np.sum(p_g_s_b_n[0,:]),\n",
    "     0.215/(0.215+0.242))"
   ]
  },
  {
   "cell_type": "markdown",
   "metadata": {},
   "source": [
    "\\begin{array}{ll}\n",
    "p(s=1 \\mid g=1, b=1)\n",
    "&=\n",
    "\\frac{p(g=1, s=1, b=1)}{p(g=1, b=1)}\n",
    "\\\\\n",
    "&=\n",
    "\\frac{p(g=1, s=1, b=1)}{\\sum_s p(g=1, s, b=1)}\n",
    "\\\\ &=\n",
    "\\frac{0.060}{0.060+0.215}\n",
    "\\end{array}"
   ]
  },
  {
   "cell_type": "code",
   "metadata": {},
   "outputs": [],
   "source": [
    "print('p(s=1 | g=1, b=1)',\n",
    "      p_g_s_b_n[1,1] / np.sum(p_g_s_b_n[:,1]),\n",
    "     0.06/(0.06+0.215))"
   ]
  },
  {
   "cell_type": "markdown",
   "metadata": {},
   "source": [
    "\\begin{array}{ll}\n",
    "p(s=1 \\mid g=1, b=0)\n",
    "&=\n",
    "\\frac{p(g=1, s=1, b=0)}{p(g=1, b=0)}\n",
    "\\\\\n",
    "&=\n",
    "\\frac{p(g=1, s=1, b=0)}{\\sum_s p(g=1, s, b=0)}\n",
    "\\\\ &=\n",
    "\\frac{0.483}{0.483+0.242}\n",
    "\\end{array}"
   ]
  },
  {
   "cell_type": "code",
   "metadata": {},
   "outputs": [],
   "source": [
    "print('p(s=1 | g=1, b=0)',\n",
    "      p_g_s_b_n[1,0] / np.sum(p_g_s_b_n[:,0]),\n",
    "     0.483/(0.483+0.242))"
   ]
  },
  {
   "cell_type": "code",
   "metadata": {},
   "outputs": [],
   "source": [
    "p_g_s_b_n"
   ]
  }
 ],
 "metadata": {
  "hide_input": false,
  "kernelspec": {
   "display_name": "Python 3",
   "language": "python",
   "name": "python3"
  },
  "language_info": {
   "codemirror_mode": {
    "name": "ipython",
    "version": 3
   },
   "file_extension": ".py",
   "mimetype": "text/x-python",
   "name": "python",
   "nbconvert_exporter": "python",
   "pygments_lexer": "ipython3"
  },
  "latex_envs": {
   "bibliofile": "biblio.bib",
   "cite_by": "apalike",
   "current_citInitial": 1,
   "eqLabelWithNumbers": true,
   "eqNumInitial": 0
  }
 },
 "nbformat": 4,
 "nbformat_minor": 0
}
