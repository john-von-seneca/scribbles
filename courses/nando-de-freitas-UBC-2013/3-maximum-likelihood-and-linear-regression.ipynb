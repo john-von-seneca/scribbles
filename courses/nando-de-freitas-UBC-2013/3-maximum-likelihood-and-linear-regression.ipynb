{
 "cells": [
  {
   "cell_type": "code",
   "execution_count": 2,
   "metadata": {
    "collapsed": true,
    "run_control": {
     "frozen": false,
     "read_only": false
    }
   },
   "outputs": [],
   "source": [
    "import numpy as np\n",
    "from matplotlib import pyplot as plt\n",
    "%matplotlib inline\n",
    "\n",
    "import random as rnd\n",
    "import os\n",
    "import math\n",
    "\n",
    "# required for interactive plotting\n",
    "from __future__ import print_function\n",
    "from ipywidgets import interact, interactive, fixed\n",
    "import ipywidgets as widgets\n",
    "import numpy.polynomial as np_poly\n",
    "\n",
    "from IPython.display import Math\n",
    "from IPython.display import Latex\n",
    "from IPython.display import HTML\n",
    "\n",
    "from pprint import pprint"
   ]
  },
  {
   "cell_type": "markdown",
   "metadata": {},
   "source": [
    "initialization  \n",
    "$\n",
    "\\newcommand{\\E}[1]{\\mathbb{E}\\left[ #1 \\right]}\n",
    "\\newcommand{\\V}[1]{\\mathbb{V}\\left[#1\\right]}\n",
    "\\newcommand{\\cov}[1]{\\text{cov} \\sigma\\left[#1\\right]}\n",
    "\\newcommand{\\EXP}[1]{\\exp\\left\\{#1\\right\\}} \n",
    "\\newcommand{\\LN}[1]{\\ln\\left\\{#1\\right\\}} \n",
    "\\newcommand{\\P}{\\mathbb{P}}\n",
    "\\newcommand{\\underl}[1]{\\text{$\\underline{#1}$}}\n",
    "\\newcommand{\\fracone}[1]{\\frac{1}{#1}}\n",
    "\\newcommand{\\half}{\\fracone{2}}\n",
    "\\newcommand{\\Lim}[1]{\\displaystyle \\lim_{#1}}\n",
    "\\newcommand{\\Norm}[1]{\\left\\lVert #1 \\right\\rVert}\n",
    "\\DeclareMathOperator*{\\argmin}{arg\\,min}\n",
    "\\DeclareMathOperator*{\\argmax}{arg\\,max}\n",
    "$\n",
    "\n",
    "$\\newcommand{\\mat}[1]{\n",
    "\\left[\n",
    "\\begin{matrix}\n",
    "#1\n",
    "\\end{matrix}\n",
    "\\right]\n",
    "}\n",
    "$\n",
    "\n",
    "$\\newcommand{\\arrthree}[1]{\n",
    "\\begin{array}{rlr}\n",
    "#1\n",
    "\\end{array}\n",
    "}\n",
    "$\n",
    "\n",
    "$\n",
    "\\newcommand{\\D}{\\mathcal{D}}\n",
    "\\newcommand{\\G}{\\mathcal{G}}\n",
    "\\newcommand{\\N}{\\mathbb{N}}\n",
    "\\newcommand{\\R}{\\mathbb{R}}\n",
    "$\n",
    "\n",
    "$\n",
    "\\newcommand{\\commentgray}[1]{\\color{gray}{\\text{#1}}}\n",
    "$\n",
    "\n"
   ]
  },
  {
   "cell_type": "markdown",
   "metadata": {},
   "source": [
    "sum, product\n",
    "$\n",
    "\\newcommand{\\sumiN}{\\displaystyle \\sum_{i=1}^{N}}\n",
    "\\newcommand{\\sumjD}{\\displaystyle \\sum_{j=1}^{D}}\n",
    "\\newcommand{\\sumjK}{\\displaystyle \\sum_{j=1}^{K}}\n",
    "\\newcommand{\\sumkK}{\\displaystyle \\sum_{k=1}^{K}}\n",
    "\\newcommand{\\sumkM}{\\displaystyle \\sum_{k=1}^{M}}\n",
    "\\newcommand{\\summN}{\\displaystyle \\sum_{m=1}^{N}}\n",
    "\\newcommand{\\sumnN}{\\displaystyle \\sum_{n=1}^{N}}\n",
    "$\n",
    "$\n",
    "\\newcommand{\\prodiN}{\\displaystyle \\prod_{i=1}^{N}}\n",
    "\\newcommand{\\prodjK}{\\displaystyle \\prod_{j=1}^{K}}\n",
    "\\newcommand{\\prodkK}{\\displaystyle \\prod_{k=1}^{K}}\n",
    "\\newcommand{\\prodmN}{\\displaystyle \\prod_{m=1}^{N}}\n",
    "\\newcommand{\\prodnN}{\\displaystyle \\prod_{n=1}^{N}}\n",
    "$"
   ]
  },
  {
   "cell_type": "markdown",
   "metadata": {},
   "source": [
    "alphabet bold,\n",
    "$\n",
    "\\newcommand{\\Nl}[3]{\\mathcal{N}\\left(#1 \\mid #2, #3\\right)}\n",
    "\\newcommand{\\Nstdx}{\\Nl{\\mathbf{x}}{\\mathbf{\\mu}}{\\Sigma}}\n",
    "\\newcommand{\\ab}{\\mathbf{a}}\n",
    "\\newcommand{\\Ab}{\\mathbf{A}}\n",
    "\\newcommand{\\Abt}{\\Ab^T}\n",
    "\\newcommand{\\Abjk}{\\Ab_{jk}}\n",
    "\\newcommand{\\bb}{\\mathbf{b}}\n",
    "\\newcommand{\\Bb}{\\mathbf{B}}\n",
    "\\newcommand{\\Bt}{\\Bb^T}\n",
    "\\newcommand{\\Cb}{\\mathbf{C}}\n",
    "\\newcommand{\\Db}{\\mathbf{D}}\n",
    "\\newcommand{\\Hb}{\\mathbf{H}}\n",
    "\\newcommand{\\Lb}{\\mathbf{L}}\n",
    "\\newcommand{\\Lbi}{\\Lb^{-1}}\n",
    "\\newcommand{\\mb}{\\mathbf{m}}\n",
    "\\newcommand{\\Mb}{\\mathbf{M}}\n",
    "\\newcommand{\\Qb}{\\mathbf{Q}}\n",
    "\\newcommand{\\Rb}{\\mathbf{R}}\n",
    "\\newcommand{\\ub}{\\mathbf{u}}\n",
    "\\newcommand{\\Xb}{\\mathbf{X}}\n",
    "\\newcommand{\\Xt}{\\Xb^T}\n",
    "\\newcommand{\\xb}{\\mathbf{x}}\n",
    "\\newcommand{\\xbm}{\\xb_m}\n",
    "\\newcommand{\\xbn}{\\xb_n}\n",
    "\\newcommand{\\xab}{\\mathbf{x_a}}\n",
    "\\newcommand{\\xabt}{\\mathbf{x_a}^T}\n",
    "\\newcommand{\\xbb}{\\mathbf{x_b}}\n",
    "\\newcommand{\\xbbt}{\\mathbf{x_b}^T}\n",
    "\\newcommand{\\yb}{\\mathbf{y}}\n",
    "\\newcommand{\\yt}{\\yb^T}\n",
    "\\newcommand{\\zb}{\\mathbf{z}}\n",
    "\\newcommand{\\zbm}{\\zb_m}\n",
    "\\newcommand{\\zbn}{\\zb_n}\n",
    "\\newcommand{\\zbnp}{\\zb_{n-1}}\n",
    "\\newcommand{\\znk}{\\zb_{nk}}\n",
    "\\newcommand{\\znpj}{\\zb_{n-1,j}}\n",
    "\\newcommand{\\Zb}{\\mathbf{Z}}\n",
    "\\newcommand{\\Ub}{\\mathbf{U}}\n",
    "$"
   ]
  },
  {
   "cell_type": "markdown",
   "metadata": {},
   "source": [
    "math bold\n",
    "$\n",
    "\\newcommand{\\chib}{\\boldsymbol{\\chi}}\n",
    "\\newcommand{\\etab}{\\pmb{\\eta}}\n",
    "\\newcommand{\\etat}{\\eta^T}\n",
    "\\newcommand{\\etabt}{\\etab^T}\n",
    "\\newcommand{\\laa}{\\Lambda_{aa}}\n",
    "\\newcommand{\\laai}{\\Lambda_{aa}^{-1}}\n",
    "\\newcommand{\\lab}{\\Lambda_{ab}}\n",
    "\\newcommand{\\lba}{\\Lambda_{ba}}\n",
    "\\newcommand{\\lbb}{\\Lambda_{bb}}\n",
    "\\newcommand{\\lbbi}{\\Lambda_{bb}^{-1}}\n",
    "\\newcommand{\\li}{\\Lambda^{-1}}\n",
    "\\newcommand{\\mub}{\\pmb{\\mu}}\n",
    "\\newcommand{\\muab}{\\pmb{\\mu}_a}\n",
    "\\newcommand{\\mubb}{\\pmb{\\mu}_b}\n",
    "\\newcommand{\\pib}{\\pmb{\\pi}}\n",
    "\\newcommand{\\saa}{\\Sigma_{aa}}\n",
    "\\newcommand{\\sab}{\\Sigma_{ab}}\n",
    "\\newcommand{\\sba}{\\Sigma_{ba}}\n",
    "\\newcommand{\\sbb}{\\Sigma_{bb}}\n",
    "\\newcommand{\\thetab}{\\pmb{\\theta}}\n",
    "\\newcommand{\\thetat}{\\thetab^T}\n",
    "\\newcommand{\\thetabh}{\\hat{\\thetab}}\n",
    "\\newcommand{\\thetaold}{\\thetab^{\\text{old}}}\n",
    "$"
   ]
  },
  {
   "cell_type": "markdown",
   "metadata": {},
   "source": [
    "aliases for distributions\n",
    "$\\newcommand{\\multivarcoeff}{\\frac{1}{(2\\pi)^{D/2}}\n",
    "\\frac{1}{\\left| \\mathbf{\\Sigma}\\right|^{1/2}}}$\n",
    "$\\newcommand{\\multivarexp}[2]\n",
    "{\n",
    "\\left\\{\n",
    " -\\frac{1}{2} \n",
    " {#1}^T \n",
    " #2\n",
    " {#1}\n",
    "\\right\\}\n",
    "}$\n",
    "$\\newcommand{\\multivarexpx}[1]{\\multivarexp{#1}{\\Sigma^{-1}}}$\n",
    "$\\newcommand{\\multivarexpstd}{\\multivarexpx{(\\xb-\\mub)}}$\n",
    "$\\newcommand{\\gam}{\\operatorname{Gam}}$\n",
    "$\n",
    "\\newcommand{\\sumkMl}{\\sum_{k=1}^{M-1}}\n",
    "\\newcommand{\\sumjMl}{\\sum_{j=1}^{M-1}}\n",
    "$"
   ]
  },
  {
   "cell_type": "markdown",
   "metadata": {},
   "source": []
  },
  {
   "cell_type": "markdown",
   "metadata": {},
   "source": [
    "Maximum Likelihood and Linear Regression\n"
   ]
  },
  {
   "cell_type": "markdown",
   "metadata": {},
   "source": [
    "Gaussian\n",
    "========"
   ]
  },
  {
   "cell_type": "markdown",
   "metadata": {},
   "source": [
    "Univariate Gaussian\n",
    "----------------------\n",
    "\n",
    "$$\n",
    "p(x) =\n",
    "\\fracone{\\sqrt{2\\pi\\sigma^2}}\n",
    "\\exp\n",
    "\\left\\{\n",
    "  -\\fracone{2\\sigma^2}\n",
    "  \\left(\n",
    "    x - \\mu\n",
    "  \\right)^2\n",
    "\\right\\}\n",
    "~~~ ~~~ ~~~ ~~~ \n",
    "x \\sim \\mathcal{N} \\left( \\mu, \\sigma^2 \\right)\n",
    "$$"
   ]
  },
  {
   "cell_type": "markdown",
   "metadata": {},
   "source": [
    "Sampling\n",
    "\n",
    "* sample x from $U(0,1)$\n",
    "* find $cum^{-1}(x)$"
   ]
  },
  {
   "cell_type": "markdown",
   "metadata": {},
   "source": [
    "Multivariate\n",
    "--------------\n",
    "\n",
    "If $\\yb \\in \\mathbb{R}^n$, then\n",
    "$$\n",
    "p(\\yb)\n",
    "=\n",
    "\\left|\n",
    "  2 \\pi \\Sigma\n",
    "\\right|^{-1/2}\n",
    "\\exp\\left\\{\n",
    "  -\\half (\\yb-\\mub)^T \\Sigma^{-1} (\\yb-\\mub)\n",
    "\\right\\}\n",
    "$$\n",
    "where\n",
    "$$\n",
    "\\mub =\n",
    "\\mat{\n",
    "  \\mu_1 \\\\ \\vdots \\\\ \\mu_n\n",
    "}\n",
    "=\n",
    "\\mat{\n",
    "  \\E{y_1} \\\\ \\vdots \\\\ \\E{y_n}\n",
    "}\n",
    "$$\n",
    "and\n",
    "$$\n",
    "\\Sigma = \n",
    "\\mat{\n",
    "  \\sigma_{11} & \\cdots & \\sigma_{1n} \\\\\n",
    "  \\vdots      & \\ddots & \\vdots      \\\\\n",
    "  \\sigma_{n1} & \\cdots & \\sigma_{nn}\n",
    "}\n",
    "=\n",
    "\\E{ (\\yb-\\mub) (\\yb-\\mub)^T }\n",
    "$$"
   ]
  },
  {
   "cell_type": "markdown",
   "metadata": {},
   "source": [
    "Bivariate: Example\n",
    "-------------------\n",
    "\n",
    "two independent Gaussian RV's.\n",
    "$$\n",
    "x_1 = \\mathcal{\\mu_1, \\sigma^2} ~~~ ~~~ ~~~\n",
    "x_2 = \\mathcal{\\mu_2, \\sigma^2}\n",
    "$$\n",
    "\n",
    "Joint distribution $p(x_1, x_2)$ is:\n",
    "\\begin{array}{rll}\n",
    "p(x_1, x_2) \n",
    "&=\n",
    "p(x_1) ~p(x_2)\n",
    "\\\\ &=\n",
    "\\frac{\\EXP{-\\fracone{2\\sigma^2} (x_1 - \\mu_1)^2}}\n",
    "{(2\\pi\\sigma^2)^{-1/2}}\n",
    "\\frac{\\EXP{-\\fracone{2\\sigma^2} (x_2- \\mu_2)^2}}\n",
    "{(2\\pi\\sigma^2)^{-1/2}}\n",
    "\\\\ &=\n",
    "\\frac{\n",
    "\\EXP{\n",
    "-\\half\n",
    "\\displaystyle \\sum_{i=1}^{2}\n",
    "\\left[\n",
    "  (x_i - \\mu_i)^T (\\sigma^2)^{-1} (x_i - \\mu_i)\n",
    "\\right]\n",
    "}\n",
    "}\n",
    "{2\\pi\\sigma^2}\n",
    "\\\\ &=\n",
    "\\frac{\n",
    "\\EXP{\n",
    "-\\half\n",
    "\\mat{ (x_2 - \\mu_1) & (x_2 - \\mu_2) }\n",
    "\\mat{\n",
    "  \\sigma^2 & 0 \\\\\n",
    "  0 & \\sigma^2\n",
    "}^{-1}\n",
    "\\mat{ (x_2 - \\mu_1) \\\\ (x_2 - \\mu_2) }\n",
    "}\n",
    "}\n",
    "{2\\pi\\sigma^2}\n",
    "\\end{array}"
   ]
  },
  {
   "cell_type": "markdown",
   "metadata": {},
   "source": [
    "Sampling from a multivariate\n",
    "-----------------------------\n",
    "\n",
    "take the 1D case\n",
    "$$\n",
    "y \\sim \\mathcal{N}(0,\\sigma)\n",
    "\\sim \\sigma + \\mathcal{N}(0, 1)\n",
    "$$\n",
    "\n",
    "$$\n",
    "\\arrthree{\n",
    "y_1 &\\sim \\mathcal{N}(\\mu, \\sigma^2) \\\\\n",
    "y_2 &\\sim \\mu + \\sigma \\mathcal{N}(0, 1) \\\\\n",
    "}\n",
    "$$\n",
    "\n",
    "Remember the [properties](/notebooks/all-of-statistics/3-expectation.ipynb#Variance)\n",
    "$$\n",
    "\\arrthree{\n",
    "\\E{X_1 + X_2} &= \\E{X_1} + \\E{X_2}\\\\\n",
    "\\E{aX} &= a \\E{X}\\\\\n",
    "\\V{X + a} &= \\V{X}\\\\\n",
    "\\V{aX} &= a^2 \\V{X}\n",
    "}\n",
    "$$\n",
    "So\n",
    "$$\n",
    "\\E{y2} = \\E{\\mu} + \\sigma \\E{\\mathcal{N}(0,1)} = \\mu\n",
    "\\\\\n",
    "\\V{y2} = \\V{\\sigma \\mathcal{N}(0,1)} = \\sigma^2\n",
    "$$\n",
    "\n",
    "Similarly, for the multivariate case,\n",
    "$$\n",
    "\\underl{x} \\sim \\mathcal{N}(\\underl{\\mu}, \\Sigma)\n",
    "$$\n",
    "Using Cholesky decomposition, $\\Sigma = \\Bb \\Bt$, we have\n",
    "$$\n",
    "\\underl{x} \\sim \\underl{\\mu} + \\Bb \\mathcal{N}(0, I)\n",
    "$$\n",
    "\n",
    "That is, sample D times from $\\mathcal{N}(0,1)$ and form a vector outta it, multiply it by **B** and then add $\\underl{\\mu}$"
   ]
  },
  {
   "cell_type": "markdown",
   "metadata": {},
   "source": [
    "Likelihood\n",
    "============"
   ]
  },
  {
   "cell_type": "markdown",
   "metadata": {},
   "source": [
    "Example\n",
    "--------\n",
    "\n",
    "3 points $y_1 = 1, y_2 = 0.5, y_3 = 1.5$ which are independent and Gaussian with unknown mean $\\theta$ and variance 1.\n",
    "\n",
    "$$\n",
    "y_i \\sim \\mathcal{N}(\\theta, 1)\n",
    "=\n",
    "\\theta + \\mathcal{N}(0,1)\n",
    "$$\n",
    "\n",
    "Likelihood\n",
    "$$\n",
    "p(y_1 ~y_2 ~y_3 \\mid \\theta)\n",
    "=\n",
    "p(y_1 \\mid \\theta) ~p(y_2 \\mid \\theta) ~p(y_3 \\mid \\theta)\n",
    "$$\n",
    "\n",
    "Consider two guesses of $\\theta$, 1 and 2.5. which is more likely?\n",
    "\n",
    "ofc, $\\theta = 1$, since it is more likely.  \n",
    "Hence, in the light of this, we can define likelihood as the probability of seeing the data $\\D$ given the parameters of the model. tat is, the one that explains the data well."
   ]
  },
  {
   "cell_type": "markdown",
   "metadata": {},
   "source": [
    "for Linear regression\n",
    "----------------------\n",
    "\n",
    "Let\n",
    "$$\n",
    "y_i \\sim \\mathcal{N}(x_i^T \\theta, \\sigma^2)\n",
    "= x_i^T + \\mathcal{N}(0, \\sigma^2)\n",
    "$$\n",
    "\n",
    "$$\n",
    "\\arrthree{\n",
    "p(\\yb \\mid \\Xb, \\thetab, \\sigma)\n",
    "&=\n",
    "\\prodiN p(y_i \\mid \\xb_i \\thetab, \\sigma)\n",
    "\\\\ &=\n",
    "\\prodiN\n",
    "\\left( 2 \\pi \\sigma^2 \\right)^{-1/2}\n",
    "\\EXP{\n",
    "  -\\fracone{2\\sigma^2}\n",
    "  \\left( y_i - \\xb_i^T \\thetab \\right)^2\n",
    "}\n",
    "\\\\ &=\n",
    "\\left( 2 \\pi \\sigma^2 \\right)^{-N/2}\n",
    "\\EXP{\n",
    "  -\\fracone{2\\sigma^2}\n",
    "  \\sumiN\n",
    "  \\left( y_i - \\xb_i^T \\thetab \\right)^2\n",
    "}\n",
    "\\\\ &=\n",
    "\\left( 2 \\pi \\sigma^2 \\right)^{-N/2}\n",
    "\\EXP{\n",
    "  -\\fracone{2\\sigma^2}\n",
    "  \\left( \\yb - \\Xb \\thetab \\right)^T\n",
    "  \\left( \\yb - \\Xb \\thetab \\right)\n",
    "}\n",
    "}\n",
    "$$\n",
    "\n",
    "The exponent looks like the least squares objective."
   ]
  },
  {
   "cell_type": "markdown",
   "metadata": {},
   "source": [
    "Cost function\n",
    "-------------\n",
    "\n",
    "$$\n",
    "\\arrthree{\n",
    "J(\\thetab)\n",
    "&=\n",
    "\\sumiN \\left(y_i - \\xb_i^T \\thetab \\right)^2\n",
    "\\\\\n",
    "p(\\yb \\mid \\Xb, \\thetab, \\sigma)\n",
    "&=\n",
    "\\left( 2 \\pi \\sigma^2 \\right)^{-N/2}\n",
    "\\EXP{\n",
    "  -\\fracone{2\\sigma^2}\n",
    "  \\sumiN\n",
    "  \\left( y_i - \\xb_i^T \\thetab \\right)^2\n",
    "}\n",
    "\\\\ &=\n",
    "\\prodiN\n",
    "\\left( 2 \\pi \\sigma^2 \\right)^{-1/2}\n",
    "\\EXP{\n",
    "  -\\fracone{2\\sigma^2}\n",
    "  \\left( y_i - \\xb_i^T \\thetab \\right)^2\n",
    "}\n",
    "}\n",
    "$$"
   ]
  },
  {
   "cell_type": "markdown",
   "metadata": {},
   "source": [
    "Max Likelihood\n",
    "==============="
   ]
  },
  {
   "cell_type": "markdown",
   "metadata": {},
   "source": [
    "* there is a gaussian (say, of equal variance $\\sigma^2$) centered at the $\\hat{y}_i = \\xb_i^T \\thetab$, whose \"x\" axis is the axis of y or the label to be predicted.\n",
    "* now, the likelihood of $\\xb_i$ is given by $\\mathcal{N}(\\xb_i \\mid \\hat{y}_i, \\sigma^2)$\n",
    "* now, lin regression is all about increasing this likelihood for all the points in $\\D$\n",
    "* if the likelihood is increased, then the distance $\\Norm{\\hat{y}_i - y_i}$ decreases as well\n",
    "  * if likelihood increases, then the point $x_i$ moves closer to the mean, which in turn means the distance or the error decreases\n",
    "* the outliers screw up the fit, since the gaussian f tends to move the line closer to the outlier\n",
    "  * fix: use a [student's t](/notebooks/all-of-statistics/2-random-variables.ipynb#t-Distribution)"
   ]
  },
  {
   "cell_type": "markdown",
   "metadata": {},
   "source": [
    "ML\n",
    "---\n",
    "\n",
    "MLE of $\\thetab$ is obtained by taking the derivative of the log-likelihood, $\\log p(\\yb \\mid \\Xb, \\thetab, \\sigma)$. The goal is to maximize the likelihood of seeting the training data **y** by modifying the parameters $(\\thetab, \\sigma)$.\n",
    "\n",
    "$$\n",
    "\\arrthree{\n",
    "p(\\yb \\mid \\Xb, \\thetab, \\sigma)\n",
    "&= \n",
    "\\left( 2 \\pi \\sigma^2 \\right)^{-N/2}\n",
    "\\EXP{\n",
    "  -\\fracone{2\\sigma^2}\n",
    "  \\left( \\yb - \\Xb \\thetab \\right)^T\n",
    "  \\left( \\yb - \\Xb \\thetab \\right)\n",
    "}\n",
    "\\\\\n",
    "l(\\theta)\n",
    "&=\n",
    "-\\frac{N}{2} \\LN{2 \\pi \\sigma^2}\n",
    "-\\fracone{2\\sigma^2}\n",
    "\\left( \\yb - \\Xb \\thetab \\right)^T\n",
    "\\left( \\yb - \\Xb \\thetab \\right)\n",
    "}\n",
    "$$\n"
   ]
  },
  {
   "cell_type": "markdown",
   "metadata": {},
   "source": [
    "ML Estimate of $\\theta$\n",
    "---------------------\n",
    "\n",
    "$$\n",
    "\\arrthree{\n",
    "\\frac{\\partial \\ln(\\theta)}{\\partial \\thetab}\n",
    "&=\n",
    "-\\fracone{2\\sigma^2}\n",
    "\\left[\n",
    "  -2 \\Xb^T \\yb\n",
    "  + 2 \\Xb^T \\Xb \\thetab\n",
    "\\right]\n",
    "= 0 \n",
    "\\\\\n",
    "\\hat{\\thetab}_{ML}\n",
    "&=\n",
    "\\left( \\Xt \\Xb \\right)^{-1} \\Xt \\yb\n",
    "}\n",
    "$$\n",
    "\n",
    "same as that was obtained was using Least squares"
   ]
  },
  {
   "cell_type": "markdown",
   "metadata": {},
   "source": [
    "ML Estimate of $\\sigma$\n",
    "---------------------\n",
    "\n",
    "$$\n",
    "\\arrthree{\n",
    "\\frac{\\partial \\ln(\\theta)}{\\partial \\sigma^2}\n",
    "&=\n",
    "-\\frac{N}{2}\n",
    "\\fracone{\\sigma^2}\n",
    "+\n",
    "\\fracone{2\\sigma^4}\n",
    "\\left( \\yb - \\Xb \\thetab \\right)^T\n",
    "\\left( \\yb - \\Xb \\thetab \\right)\n",
    "= 0\n",
    "\\\\\n",
    "\\sigma^2 &=\n",
    "\\fracone{N}\n",
    "\\left( \\yb - \\Xb \\thetab \\right)^T\n",
    "\\left( \\yb - \\Xb \\thetab \\right)\n",
    "\\\\ &=\n",
    "\\fracone{N}\n",
    "\\sumiN\n",
    "\\left(\n",
    "  y_i - \\xb_i^T \\thetab\n",
    "\\right)^2\n",
    "}\n",
    "$$"
   ]
  },
  {
   "cell_type": "markdown",
   "metadata": {},
   "source": [
    "Making Predictions\n",
    "====================\n",
    "\n",
    "given training data $\\D = (\\Xb, \\yb)$, for a new input $\\xb_{*}$ and known $\\sigma^2$ is given by\n",
    "$$\n",
    "p(\\yb \\mid \\xb_{*}, \\D, \\hat{\\sigma}^2)\n",
    "= \\G \\left( \\yb \\mid \\xb_*^T \\thetab_{ML}, \\hat{\\sigma}^2 \\right)\n",
    "$$\n",
    "\n",
    "Risk management is all about reducing variance."
   ]
  },
  {
   "cell_type": "markdown",
   "metadata": {},
   "source": [
    "Frequentist learning and ML\n",
    "=============================\n",
    "\n",
    "* Frequentist learning: assumes that there exists a true model, say, with parameters $\\thetab_0$\n",
    "* The estimate (learned value) will be denoted as $\\hat{\\thetab}$\n",
    "* Given $\\D = \\left\\{ \\xb_i \\right\\}_{i=1}^{N}$, we choose the  $\\theta$ which has more probability of generating the data. that is,\n",
    "$$\n",
    "\\hat{\\thetab} = \\argmax_{\\thetab} p(\\D \\mid \\thetab)\n",
    "$$"
   ]
  },
  {
   "cell_type": "markdown",
   "metadata": {},
   "source": [
    "Examples\n",
    "========="
   ]
  },
  {
   "cell_type": "markdown",
   "metadata": {},
   "source": [
    "Bernoulli: a model for coins\n",
    "-------------------------------\n",
    "\n",
    "great for text data\n",
    "\n",
    "$$\n",
    "p(x \\mid \\theta) = \n",
    "\\begin{cases}\n",
    "\\theta   & \\text{if } x=1 \\\\\n",
    "1-\\theta & \\text{if } x=0\\\\\n",
    "\\end{cases}\n",
    "$$\n",
    "That is,\n",
    "$$\n",
    "p(x \\mid \\theta) = \\theta^{x} (1-\\theta)^{1-x}\n",
    "$$"
   ]
  },
  {
   "cell_type": "markdown",
   "metadata": {},
   "source": [
    "Entropy\n",
    "-------\n",
    "\n",
    "measure of uncertainty associated with a random variable. It is defined as,\n",
    "$$\n",
    "\\Hb(x) =\n",
    "-\\sum_x p(x \\mid \\theta) \\log p(x \\mid \\theta)\n",
    "$$\n",
    "\n",
    "For Bernoulli, entropy is\n",
    "$$\n",
    "\\arrthree{\n",
    "\\Hb(x) &=\n",
    "- \\displaystyle \\sum_{x=0}^{1}\n",
    "\\theta^x (1-\\theta)^{1-x}\n",
    "\\log \\left[\n",
    "  \\theta^x (1-\\theta)^{1-x}\n",
    "\\right]\n",
    "\\\\&=\n",
    "-\\left[\n",
    "  \\theta \\log \\theta + (1-\\theta) \\log(1-\\theta)\n",
    "\\right]\n",
    "}\n",
    "$$"
   ]
  },
  {
   "cell_type": "code",
   "execution_count": 6,
   "metadata": {
    "collapsed": false,
    "run_control": {
     "frozen": false,
     "read_only": false
    }
   },
   "outputs": [
    {
     "data": {
      "image/png": "[encoded data removed]",
      "text/plain": [
       "<matplotlib.figure.Figure at 0x7f02c6a88898>"
      ]
     },
     "metadata": {},
     "output_type": "display_data"
    }
   ],
   "source": [
    "# plotting entropy of bernoulli\n",
    "x = np.linspace(0+1e-10,1-1e-10,100)\n",
    "y = [-(1-xx)*math.log(1-xx) - xx*math.log(xx) for xx in x]\n",
    "plt.plot(x,y)\n",
    "plt.title('Entropy of Bernoulli')\n",
    "plt.ylabel('H(X)')\n",
    "plt.xlabel('Pr(X=1)')\n",
    "plt.show()"
   ]
  },
  {
   "cell_type": "markdown",
   "metadata": {},
   "source": [
    "* Entropy of unbiased coin is max, we are completely uncertain about the outcome\n",
    "* if the coin is biased, close to 0 or 1, then we will have a better idea about the outcome and we will get less information from the occurrence/event."
   ]
  },
  {
   "cell_type": "markdown",
   "metadata": {},
   "source": [
    "ML Learning is about reducing the uncertainty about the world"
   ]
  },
  {
   "cell_type": "markdown",
   "metadata": {},
   "source": [
    "MLE Properties\n",
    "================\n",
    "\n",
    "Law of large numbers:  \n",
    "as $N \\rightarrow \\infty$, the sample average tends to expectation\n",
    "\n",
    "$$\n",
    "\\arrthree{\n",
    "\\hat{\\mathbb{E}}[X] &= \\fracone{N} \\sumiN \\xb_i & \\commentgray{for small N}\n",
    "\\\\\n",
    "\\E{X} &= \\int \\xb p(\\xb) ~d\\xb & \\commentgray{for large N}\n",
    "}\n",
    "$$\n",
    "when $\\xb_i \\sim p(\\xb)$"
   ]
  },
  {
   "cell_type": "markdown",
   "metadata": {},
   "source": [
    "for iid data from $p(x \\mid \\thetab_0)$, MLE minimizes the KL divergence:\n",
    "\n",
    "$$\n",
    "\\arrthree{\n",
    "\\hat{\\thetab} &=\n",
    "\\argmax_{\\thetab} \\prodiN p(\\xb_i \\mid \\thetab)\n",
    "\\\\ &=\n",
    "\\argmax_{\\thetab} \\sumiN \\log p(\\xb_i \\mid \\thetab)\n",
    "\\\\ &=\n",
    "\\argmax_{\\thetab}\n",
    "\\fracone{N} \\sumiN \\log(p(\\xb_i \\mid \\thetab))\n",
    "-\n",
    "\\fracone{N} \\sumiN \\log(p(\\xb_i \\mid \\thetab_o))\n",
    "\\\\ &=\n",
    "\\argmax_{\\thetab}\n",
    "\\fracone{N} \\sumiN \\log\n",
    "\\left(\n",
    " \\frac{p(\\xb_i \\mid \\thetab)}{p(\\xb_i \\mid \\thetab_o)}\n",
    "\\right)\n",
    "\\\\ & \\xrightarrow{N \\rightarrow \\infty}\n",
    "\\argmin_{\\thetab}\n",
    "\\int\n",
    "\\log\n",
    "\\left(\n",
    " \\frac{p(\\xb \\mid \\thetab)}{p(\\xb \\mid \\thetab_o)}\n",
    "\\right)\n",
    "p(\\xb \\mid \\thetab_0) ~d\\xb\n",
    "\\\\\n",
    "}\n",
    "$$\n",
    "This is KL Divergence"
   ]
  },
  {
   "cell_type": "markdown",
   "metadata": {},
   "source": [
    "Here, we assumed $\\xb_i \\sim p(\\xb \\mid \\thetab_0)$. why do we do that? coz $\\thetab_0$ is the true model in frequentist paradigm"
   ]
  },
  {
   "cell_type": "markdown",
   "metadata": {},
   "source": [
    "$$\n",
    "\\argmin_{\\thetab}\n",
    "\\int\n",
    "\\log\n",
    "\\left(\n",
    " \\frac{p(\\xb \\mid \\thetab)}{p(\\xb \\mid \\thetab_o)}\n",
    "\\right)\n",
    "p(\\xb \\mid \\thetab_0) ~d\\xb\n",
    "\\\\\n",
    "\\argmin_{\\thetab}\n",
    "\\underbrace{\n",
    "\\int p(\\xb \\mid \\thetab_0)\n",
    "\\log p(\\xb \\mid \\thetab_0) ~dx\n",
    "}_{\\text{information world}}\n",
    "-\n",
    "\\underbrace{\n",
    "\\int p(\\xb \\mid \\thetab_0)\n",
    "\\log p(\\xb \\mid \\thetab) ~dx\n",
    "}_{\\text{in model}}\n",
    "$$"
   ]
  },
  {
   "cell_type": "markdown",
   "metadata": {},
   "source": [
    "* if the information in the real world matches the information in my model, then we have achieved the true minimum.\n",
    "* First term: negative entropy or information\n",
    "* Second term: cross entropy"
   ]
  },
  {
   "cell_type": "markdown",
   "metadata": {},
   "source": [
    "theoretical statistics  \n",
    "by alex wishart, ruben zumar"
   ]
  },
  {
   "cell_type": "markdown",
   "metadata": {},
   "source": [
    "under smoothness and identifiability assumptions, the MLE is consistent:\n",
    "$$\n",
    "\\arrthree{\n",
    "\\hat{\\thetab} &\\xrightarrow{p} \\thetab_0\n",
    "\\\\\n",
    "plim(\\hat{\\thetab}) &= \\thetab_0\n",
    "\\\\\n",
    "\\Lim{N \\rightarrow \\infty}\n",
    "p( \\left| \\hat{\\thetab} - \\thetab_0 \\right| > \\alpha) &\\rightarrow 0\n",
    "} \n",
    "$$\n",
    "All the three formulations are equivalent and can be used interchangeably "
   ]
  },
  {
   "cell_type": "markdown",
   "metadata": {},
   "source": [
    "* MLE is asymptotically normal\n",
    "* as $N \\rightarrow \\infty$, we have:\n",
    "$$\n",
    "(\\hat{\\thetab} - \\thetab_0) \\Rightarrow \\mathcal{N}(0, I^{-1})\n",
    "$$\n",
    "where I is the fisher information matrix.\n",
    "from All of statistics\n",
    "\n",
    "* It is asymptotically optimal or efficient.\n",
    "* asymptotically, it has the lowerst vriance among all well behaved estimators.\n",
    "* attains a lower bound on the CLT variance known as the Cramer-Rao lower bound\n",
    "* is MLE always the right option?"
   ]
  },
  {
   "cell_type": "markdown",
   "metadata": {},
   "source": [
    "* But only for $N \\rightarrow \\infty$\n",
    "* problems posed in this setting tend to be intracable\n",
    "* belong to NP Hard or #P complete"
   ]
  },
  {
   "cell_type": "markdown",
   "metadata": {},
   "source": [
    "Bias and Variance\n",
    "=================\n",
    "\n",
    "* estimator is a function of the data $\\hat{\\thetab} = g(\\D)$\n",
    "$$\n",
    "\\text{Bias}(\\hat{\\thetab}) = \\mathbb{E}_{\\D \\mid \\thetab_0}(\\hat{\\thetab}) - \\thetab_0 = \\bar{\\thetab} - \\thetab_0\n",
    "$$\n",
    "\n",
    "$\\bar{\\thetab}$ is the average of all the estimates for $\\thetab$ for different data sets $\\D$ sampled from the model given by $\\thetab_0$\n",
    "$$\n",
    "\\bar{\\thetab} = \\int \\hat{\\thetab} ~p(\\D \\mid \\thetab_0) ~d\\D\n",
    "$$"
   ]
  },
  {
   "cell_type": "markdown",
   "metadata": {},
   "source": [
    "random forests used in kinect, lotta estimators which have a large variance and then average the estimates from these and you will get an estimate close to the true value"
   ]
  },
  {
   "cell_type": "markdown",
   "metadata": {},
   "source": [
    "Variance is\n",
    "$$\n",
    "\\V{\\hat{\\thetab}}\n",
    "=\n",
    "\\mathbb{E}_{p(\\D \\mid \\thetab_0)}(\\hat{\\thetab} - \\bar{\\thetab})^2\n",
    "$$\n",
    "\n",
    "MSE is\n",
    "$$\n",
    "\\mathbb{E}_{p(\\D \\mid \\thetab_0)}(\\hat{\\thetab} - \\bar{\\thetab})^2\n",
    "=\n",
    "\\left(\n",
    "  \\bar{\\thetab} - \\thetab_0\n",
    "\\right)^2\n",
    "+\n",
    "\\mathbb{E}_{p(\\D \\mid \\thetab_0)}(\\hat{\\thetab} - \\bar{\\thetab})^2\n",
    "$$"
   ]
  },
  {
   "cell_type": "markdown",
   "metadata": {},
   "source": []
  }
 ],
 "metadata": {
  "hide_input": false,
  "kernelspec": {
   "display_name": "Python 3",
   "language": "python",
   "name": "python3"
  },
  "language_info": {
   "codemirror_mode": {
    "name": "ipython",
    "version": 3
   },
   "file_extension": ".py",
   "mimetype": "text/x-python",
   "name": "python",
   "nbconvert_exporter": "python",
   "pygments_lexer": "ipython3",
   "version": "3.5.2"
  },
  "latex_envs": {
   "bibliofile": "biblio.bib",
   "cite_by": "apalike",
   "current_citInitial": 1,
   "eqLabelWithNumbers": true,
   "eqNumInitial": 0
  },
  "nav_menu": {},
  "toc": {
   "navigate_menu": true,
   "number_sections": true,
   "sideBar": false,
   "threshold": 6,
   "toc_cell": false,
   "toc_section_display": "block",
   "toc_window_display": false
  }
 },
 "nbformat": 4,
 "nbformat_minor": 0
}
