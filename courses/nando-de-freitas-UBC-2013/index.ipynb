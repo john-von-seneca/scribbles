{
 "cells": [
  {
   "cell_type": "markdown",
   "metadata": {},
   "source": [
    "Nando De Freitas\n",
    "UBC\n",
    "\n",
    "Machine learning 2013"
   ]
  },
  {
   "cell_type": "markdown",
   "metadata": {},
   "source": [
    "1. [Introduction](1-intro.ipynb)\n",
    "1. [Linear Prediction](2-linear-prediction.ipynb)\n",
    "1. [Maximum Likelihood and Linear Regression](3-maximum-likelihood-and-linear-regression.ipynb)\n",
    "1. [Regularization and Regression](4-regularization-and-regression.ipynb)\n",
    "1. [Bayesian Learning](5-bayesian-learning.ipynb)\n",
    "1. [Gaussian Process](6-gaussian-process.ipynb)\n",
    "1. [Bayesian Optimization](7-bayesian-optimization.ipynb)\n",
    "1. [Decision Trees](8-decision-trees.ipynb)\n"
   ]
  }
 ],
 "metadata": {
  "hide_input": true,
  "kernelspec": {
   "display_name": "Python 3",
   "language": "python3",
   "name": "python3"
  },
  "language_info": {
   "codemirror_mode": {
    "name": "ipython",
    "version": 3
   },
   "file_extension": ".py",
   "mimetype": "text/x-python",
   "name": "python",
   "nbconvert_exporter": "python",
   "pygments_lexer": "ipython3",
   "version": "3.5.1"
  },
  "latex_envs": {
   "bibliofile": "biblio.bib",
   "cite_by": "apalike",
   "current_citInitial": 1,
   "eqLabelWithNumbers": true,
   "eqNumInitial": 0
  }
 },
 "nbformat": 4,
 "nbformat_minor": 0
}
