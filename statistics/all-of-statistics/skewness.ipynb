{
 "cells": [
  {
   "cell_type": "code",
   "execution_count": 1,
   "metadata": {
    "collapsed": true
   },
   "outputs": [],
   "source": [
    "import math\n",
    "import scipy as sp\n",
    "import numpy as np\n",
    "import matplotlib.pyplot as plt\n",
    "%matplotlib inline\n",
    "\n",
    "# required for interactive plotting\n",
    "from __future__ import print_function\n",
    "from ipywidgets import interact, interactive, fixed\n",
    "import ipywidgets as widgets\n",
    "import numpy.polynomial as np_poly\n",
    "\n",
    "from IPython.display import Math\n",
    "from IPython.display import Latex"
   ]
  },
  {
   "cell_type": "markdown",
   "metadata": {},
   "source": [
    "initialization  \n",
    "$ \\newcommand{\\E}[1]{\\mathbb{E}\\left[#1\\right]}$  \n",
    "$ \\newcommand{\\V}[1]{\\mathbb{V}\\left[#1\\right]}$\n",
    "$ \\newcommand{\\P}{\\mathbb{P}}$"
   ]
  },
  {
   "cell_type": "markdown",
   "metadata": {},
   "source": [
    "[[wiki](http://www.wikiwand.com/en/Skewness)]"
   ]
  },
  {
   "cell_type": "markdown",
   "metadata": {},
   "source": [
    "todo:\n",
    "* [Coskewness](http://www.wikiwand.com/en/Coskewness)"
   ]
  },
  {
   "cell_type": "markdown",
   "metadata": {},
   "source": [
    "General\n",
    "=======\n",
    "* The third central moment is a measure of the lopsidedness of the distribution\n",
    "* Any symmetric distribution will have a third central moment, if defined, of zero.\n",
    "* The normalised third central moment is called the skewness, often $\\gamma$.  "
   ]
  },
  {
   "cell_type": "markdown",
   "metadata": {},
   "source": [
    "Left and right Skewness\n",
    "========================\n",
    "* *Left-Skewed, Left-tailed, Negative-skew*  \n",
    "  A distribution that is skewed to the left (the tail of the distribution is longer on the left) will have a negative skewness.\n",
    "* *Right-Skewed, Right-tailed, Positive-skew*  \n",
    "  A distribution that is skewed to the right (the tail of the distribution is longer on the right), will have a positive skewness."
   ]
  },
  {
   "cell_type": "markdown",
   "metadata": {},
   "source": [
    "Interpretation\n",
    "==============\n",
    "* For a unimodal distribution, negative skew indicates that the tail on the left side of the probability density function is longer or fatter than the right side – it does not distinguish these shapes.\n",
    "* Conversely, positive skew indicates that the tail on the right side is longer or fatter than the left side.\n",
    "* In cases where one tail is long but the other tail is fat, skewness does not obey a simple rule.\n",
    "  * For example, a zero value indicates that the tails on both sides of the mean balance out, which is the case for a symmetric distribution, but is also true for an asymmetric distribution where the asymmetries even out, such as one tail being long but thin, and the other being short but fat.\n",
    "* Further, in multimodal distributions and discrete distributions, skewness is also difficult to interpret\n"
   ]
  },
  {
   "cell_type": "markdown",
   "metadata": {},
   "source": [
    "Relationship with mean, median\n",
    "==============================\n",
    "\n",
    "* Older notion of Nonparametric skew: $(\\mu - \\nu)/\\sigma$  \n",
    "where $\\mu, \\nu, \\sigma$ are mean, median and standard deviation. \n",
    "* Here Positive skew => Mean > Median, Negative Skew => Mean < Median.  \n",
    "* The modern definition of skewness doesn't generally have the same sign\n",
    "* If distribution is symmetric, mean=median and zero skew.\n",
    "  * If unimodal, mean=median=mode.\n",
    "* But zero skewness doesn't imply mean = median"
   ]
  },
  {
   "cell_type": "markdown",
   "metadata": {},
   "source": [
    "Pearson's moment coefficient of skewness\n",
    "=========================================\n",
    "\n",
    "$$\n",
    "\\gamma_1\n",
    "= \\E{\\left(\\frac{X-\\mu}{\\sigma}\\right)^3}\n",
    "= \\frac{\\mu_3}{\\sigma^3}\n",
    "= \\frac{ \\E{(X-\\mu)^3} }\n",
    "       { (\\E{ (X-\\mu)^2 })^{3/2} }\n",
    "= \\frac{\\kappa_3}{\\kappa_2^{3/2}}\n",
    "$$\n",
    "Here $\\kappa$ is the cumulant, $\\mu_3$ third central moment.\n",
    "\n",
    "If Y = sum of IID X's, then\n",
    "* Third cumulant of Y = n times that of X\n",
    "* Second cumulant of Y = n times that of X  \n",
    "\n",
    "Hence Skew[Y] = Skew[X]/n\n",
    "\n",
    "If $G_1 = \\kappa_3 / \\kappa_2^{3/2} $, then\n",
    "$$\n",
    "\\V{G_1}= \\frac{6n ( n - 1 )}{ ( n - 2 )( n + 1 )( n + 3 ) }\n",
    "$$\n",
    "\n",
    "An approximate alternative is 6/n, but this is inaccurate for small samples.  \n",
    "\n",
    "Let \n",
    "\\begin{array}{llr}\n",
    "\\overline{x} & & \\color{gray}{\\text{sample mean}}\\\\\n",
    "m_3\n",
    "&= \\frac{1}{n} \\sum_{i=1}^n (x_i-\\overline{x})^3\n",
    "& \\color{gray}{\\text{sample third central moment}}\n",
    "\\\\\n",
    "s^3\n",
    "&= \\left[\n",
    "      \\frac{1}{n-1} \\sum_{i=1}^n (x_i-\\overline{x})^2\n",
    "    \\right]^{3/2}\n",
    "& \\color{gray}{\\text{sample standard deviation}}\n",
    "\\\\\n",
    "b_1 &= \\mu_3 / \\sigma^3\\\\\n",
    "\\end{array}\n",
    "\n",
    "Then, $b_1$ has a smaller variance, given by\n",
    "$$\n",
    "\\V{b_1} < \\V{\\frac{m_3}{m_2^{3/2}}} < \\V{G_1} \n",
    "$$\n"
   ]
  },
  {
   "cell_type": "markdown",
   "metadata": {},
   "source": [
    "Applications\n",
    "============\n",
    "\n",
    "* Many models assume normal distribution,\n",
    "  * data are symmetric about the mean.\n",
    "* The normal distribution has a skewness of zero.\n",
    "* But in reality, data points may not be perfectly symmetric.\n",
    "* So, an understanding of the skewness of the dataset indicates whether deviations from the mean are going to be positive or negative"
   ]
  },
  {
   "cell_type": "markdown",
   "metadata": {},
   "source": [
    "Other Measures of Skewness\n",
    "==========================\n",
    "\n",
    "* Pearson's First skewness coefficient (mode skewness)  \n",
    "$$\\frac{ \\text{mean - mode} }{ \\text{standard deviation}}$$\n",
    "\n",
    "\n",
    "* Pearson's Second skewness coefficient (median skewness)  \n",
    "$$\n",
    "S = 3 \\frac{ \\mu - \\nu } { \\sigma } \n",
    "$$\n",
    "where $\\mu, \\nu, \\sigma$ are mean, mode, standard deviation\n",
    "THis is scaling of Non parametric skew."
   ]
  }
 ],
 "metadata": {
  "hide_input": false,
  "kernelspec": {
   "display_name": "Python 3",
   "language": "python",
   "name": "python3"
  },
  "language_info": {
   "codemirror_mode": {
    "name": "ipython",
    "version": 3
   },
   "file_extension": ".py",
   "mimetype": "text/x-python",
   "name": "python",
   "nbconvert_exporter": "python",
   "pygments_lexer": "ipython3",
   "version": "3.4.3"
  },
  "latex_envs": {
   "bibliofile": "biblio.bib",
   "cite_by": "apalike",
   "current_citInitial": 1,
   "eqLabelWithNumbers": true,
   "eqNumInitial": 0
  }
 },
 "nbformat": 4,
 "nbformat_minor": 0
}
