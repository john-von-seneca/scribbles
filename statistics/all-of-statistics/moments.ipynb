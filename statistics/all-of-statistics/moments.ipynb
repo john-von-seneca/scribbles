{
 "cells": [
  {
   "cell_type": "code",
   "execution_count": 1,
   "metadata": {
    "collapsed": true
   },
   "outputs": [],
   "source": [
    "import math\n",
    "import scipy as sp\n",
    "import numpy as np\n",
    "import matplotlib.pyplot as plt\n",
    "%matplotlib inline\n",
    "\n",
    "# required for interactive plotting\n",
    "from __future__ import print_function\n",
    "from ipywidgets import interact, interactive, fixed\n",
    "import ipywidgets as widgets\n",
    "import numpy.polynomial as np_poly\n",
    "\n",
    "from IPython.display import Math\n",
    "from IPython.display import Latex"
   ]
  },
  {
   "cell_type": "markdown",
   "metadata": {},
   "source": [
    "initialization  \n",
    "$ \\newcommand{\\E}[1]{\\mathbb{E}\\left[#1\\right]}$  \n",
    "$ \\newcommand{\\V}{\\mathbb{V}}$\n",
    "$ \\newcommand{\\P}{\\mathbb{P}}$"
   ]
  },
  {
   "cell_type": "markdown",
   "metadata": {},
   "source": [
    "Moments\n",
    "========\n",
    "\n"
   ]
  },
  {
   "cell_type": "markdown",
   "metadata": {},
   "source": [
    "* Zeroth Moment -> Total Probability  \n",
    "* First Moment -> Mean\n",
    "* Second Moment -> Variance\n",
    "* Third Moment -> Skewness\n",
    "* Fourth Moment -> Kurtosis (with normalization+shift)"
   ]
  },
  {
   "cell_type": "markdown",
   "metadata": {},
   "source": [
    "If the density function is not well defined, then the n-th moment is given by [Riemann–Stieltjes integral](http://www.wikiwand.com/en/Riemann%E2%80%93Stieltjes_integral) as,\n",
    "\n",
    "$$\n",
    "\\mu_{n}^{\\prime} = \\E{X^n} = \\int_{-\\infty}^{\\infty} x^n dF(x)\n",
    "$$"
   ]
  },
  {
   "cell_type": "markdown",
   "metadata": {},
   "source": [
    "If\n",
    "$$\n",
    "\\E{\\left|X^n\\right|} = \\int_{-\\infty}^{\\infty} \\left|x^n\\right| dF(x) = \\infty\n",
    "$$\n",
    "then the n-moment doesn't exist.\n",
    "If the n-moment exists, then the (n-1)-th moment exists."
   ]
  },
  {
   "cell_type": "markdown",
   "metadata": {},
   "source": [
    "Normalized moments\n",
    "==================\n",
    "\n",
    "$$\n",
    "\\text{Normalized n-th central moment of} x = \n",
    "\\frac{\\E{(x-\\mu)^n}}{\\sigma^n}\n",
    "$$"
   ]
  },
  {
   "cell_type": "markdown",
   "metadata": {},
   "source": [
    "Mean\n",
    "====\n",
    "\n",
    "[Explained](3-expectation.ipynb#Expectation)"
   ]
  },
  {
   "cell_type": "markdown",
   "metadata": {},
   "source": [
    "Variance\n",
    "========\n",
    "\n",
    "[Here](3-expectation.ipynb#Variance)"
   ]
  },
  {
   "cell_type": "markdown",
   "metadata": {},
   "source": [
    "Skewness\n",
    "========\n",
    "\n",
    "[Here](skewness.ipynb)"
   ]
  },
  {
   "cell_type": "markdown",
   "metadata": {},
   "source": [
    "Kurtosis\n",
    "========\n",
    "\n",
    "[Here](kurtosis.ipynb)"
   ]
  },
  {
   "cell_type": "markdown",
   "metadata": {},
   "source": [
    "todo:\n",
    "\n",
    "review [Sas Documentation on Measures](http://support.sas.com/onlinedoc/913/getDoc/en/proc.hlp/a002473332.htm)"
   ]
  }
 ],
 "metadata": {
  "hide_input": false,
  "kernelspec": {
   "display_name": "Python 3",
   "language": "python",
   "name": "python3"
  },
  "language_info": {
   "codemirror_mode": {
    "name": "ipython",
    "version": 3
   },
   "file_extension": ".py",
   "mimetype": "text/x-python",
   "name": "python",
   "nbconvert_exporter": "python",
   "pygments_lexer": "ipython3",
   "version": "3.4.3"
  },
  "latex_envs": {
   "bibliofile": "biblio.bib",
   "cite_by": "apalike",
   "current_citInitial": 1,
   "eqLabelWithNumbers": true,
   "eqNumInitial": 0
  }
 },
 "nbformat": 4,
 "nbformat_minor": 0
}
