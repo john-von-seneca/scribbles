{
 "cells": [
  {
   "cell_type": "code",
   "execution_count": 4,
   "metadata": {
    "collapsed": true
   },
   "outputs": [],
   "source": [
    "import numpy as np"
   ]
  },
  {
   "cell_type": "code",
   "execution_count": 5,
   "metadata": {
    "collapsed": false
   },
   "outputs": [
    {
     "name": "stdout",
     "output_type": "stream",
     "text": [
      "4.96\n"
     ]
    }
   ],
   "source": [
    "n, T = 10, 10**2\n",
    "\n",
    "total = 0\n",
    "for t in range(T):\n",
    "    x = np.random.rand(n,1)\n",
    "    in_wins = sum([1 for xx in x if xx<=0.5])\n",
    "    #total += (2**in_wins * (1/2)**(n-in_wins))\n",
    "    total += in_wins\n",
    "    \n",
    "print(total/T)\n"
   ]
  },
  {
   "cell_type": "code",
   "execution_count": 10,
   "metadata": {
    "collapsed": false
   },
   "outputs": [
    {
     "name": "stdout",
     "output_type": "stream",
     "text": [
      "rc ids:  [0, 1]\n"
     ]
    },
    {
     "data": {
      "text/plain": [
       "<DirectView [0, 1]>"
      ]
     },
     "execution_count": 10,
     "metadata": {},
     "output_type": "execute_result"
    }
   ],
   "source": [
    "from ipyparallel import Client\n",
    "#sshserver='you@192.168.1.102'\n",
    "#rc = Client(sshserver='192.168.1.102')\n",
    "rc = Client('/Users/dragon/.ipython/profile_default/security/ipcontroller-client.json')\n",
    "print('rc ids: ', rc.ids)\n",
    "dview = rc[:]\n",
    "dview"
   ]
  },
  {
   "cell_type": "code",
   "execution_count": 11,
   "metadata": {
    "collapsed": false
   },
   "outputs": [
    {
     "data": {
      "text/plain": [
       "False"
      ]
     },
     "execution_count": 11,
     "metadata": {},
     "output_type": "execute_result"
    }
   ],
   "source": [
    "serial_result = map(lambda x:x**10, range(32))\n",
    "parallel_result = dview.map_sync(lambda x: x**10, range(32))\n",
    "parallel_result == serial_result"
   ]
  },
  {
   "cell_type": "code",
   "execution_count": 33,
   "metadata": {
    "collapsed": false
   },
   "outputs": [
    {
     "name": "stdout",
     "output_type": "stream",
     "text": [
      "start\n"
     ]
    }
   ],
   "source": [
    "print('start')"
   ]
  },
  {
   "cell_type": "code",
   "execution_count": 34,
   "metadata": {
    "collapsed": false
   },
   "outputs": [],
   "source": [
    "import numpy as np\n",
    "A = np.random.random((6400,4800))\n",
    "\n",
    "@dview.parallel(block=True)\n",
    "def pmul(A, B):\n",
    "    return A*B\n",
    "\n",
    "C_local = A*A\n"
   ]
  },
  {
   "cell_type": "code",
   "execution_count": 35,
   "metadata": {
    "collapsed": false
   },
   "outputs": [],
   "source": [
    "C_remote = pmul(A,A)\n"
   ]
  },
  {
   "cell_type": "code",
   "execution_count": 36,
   "metadata": {
    "collapsed": false
   },
   "outputs": [
    {
     "name": "stdout",
     "output_type": "stream",
     "text": [
      "True\n"
     ]
    }
   ],
   "source": [
    "aa = (C_local == C_remote).all()\n",
    "print(aa)"
   ]
  },
  {
   "cell_type": "code",
   "execution_count": 37,
   "metadata": {
    "collapsed": false
   },
   "outputs": [],
   "source": [
    "@dview.remote(block=True)\n",
    "def get_pid():\n",
    "    import os\n",
    "    return os.getpid()\n",
    "\n",
    "# get_pid()"
   ]
  },
  {
   "cell_type": "code",
   "execution_count": 43,
   "metadata": {
    "collapsed": false
   },
   "outputs": [
    {
     "name": "stdout",
     "output_type": "stream",
     "text": [
      "['range(0, 3)', 'range(3, 5)']\n",
      "['0', '1', '2', '3', '4']\n"
     ]
    }
   ],
   "source": [
    "@dview.parallel(block=True)\n",
    "def echo(x):\n",
    "    return str(x)\n",
    "\n",
    "print(echo(range(5)))\n",
    "print(echo.map(range(5)))"
   ]
  }
 ],
 "metadata": {
  "hide_input": true,
  "kernelspec": {
   "display_name": "Python 3",
   "language": "python3",
   "name": "python3"
  },
  "language_info": {
   "codemirror_mode": {
    "name": "ipython",
    "version": 3
   },
   "file_extension": ".py",
   "mimetype": "text/x-python",
   "name": "python",
   "nbconvert_exporter": "python",
   "pygments_lexer": "ipython3",
   "version": "3.5.0"
  },
  "latex_envs": {
   "bibliofile": "biblio.bib",
   "cite_by": "apalike",
   "current_citInitial": 1,
   "eqLabelWithNumbers": true,
   "eqNumInitial": 0
  }
 },
 "nbformat": 4,
 "nbformat_minor": 0
}
