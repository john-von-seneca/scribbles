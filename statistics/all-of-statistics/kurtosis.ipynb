{
 "cells": [
  {
   "cell_type": "code",
   "metadata": {},
   "outputs": [],
   "source": [
    "import math\n",
    "import scipy as sp\n",
    "import numpy as np\n",
    "import matplotlib.pyplot as plt\n",
    "%matplotlib inline\n",
    "\n",
    "# required for interactive plotting\n",
    "from __future__ import print_function\n",
    "from ipywidgets import interact, interactive, fixed\n",
    "import ipywidgets as widgets\n",
    "import numpy.polynomial as np_poly\n",
    "\n",
    "from IPython.display import Math\n",
    "from IPython.display import Latex"
   ]
  },
  {
   "cell_type": "markdown",
   "metadata": {},
   "source": [
    "initialization  \n",
    "$ \\newcommand{\\E}[1]{\\mathbb{E}\\left[#1\\right]}$  \n",
    "$ \\newcommand{\\V}[1]{\\mathbb{V}\\left[#1\\right]}$\n",
    "$ \\newcommand{\\P}{\\mathbb{P}}$"
   ]
  },
  {
   "cell_type": "markdown",
   "metadata": {},
   "source": [
    "Definition\n",
    "==========\n",
    "\n",
    "The fourth central moment is a measure of the heaviness of the tail of the distribution, compared to the normal distribution of the same variance. Since it is the expectation of a fourth power, the fourth central moment, where defined, is always positive; and except for a point distribution, it is always strictly positive. The fourth central moment of a normal distribution is $3\\sigma^4$.\n",
    "\n",
    "The kurtosis κ is defined to be the normalised fourth central moment minus 3 (Equivalently, as in the next section, it is the fourth cumulant divided by the square of the variance). Some authorities do not subtract three, but it is usually more convenient to have the normal distribution at the origin of coordinates.[4][5] If a distribution has heavy tails, the kurtosis will be high (sometimes called leptokurtic); conversely, light-tailed distributions (for example, bounded distributions such as the uniform) have low kurtosis (sometimes called platykurtic).\n",
    "\n",
    "The kurtosis can be positive without limit, but κ must be greater than or equal to γ2 − 2; equality only holds for binary distributions. For unbounded skew distributions not too far from normal, κ tends to be somewhere in the area of γ2 and 2γ2."
   ]
  },
  {
   "cell_type": "markdown",
   "metadata": {},
   "source": [
    "Interpretations\n",
    "===============\n",
    "* Tail weight\n",
    "* Peakedness (width of the peak)\n",
    "* Lack of shoulders (distribution peaks and tails, not in between)"
   ]
  },
  {
   "cell_type": "markdown",
   "metadata": {},
   "source": [
    "Measures\n",
    "==========\n",
    "\n",
    "If $\\mu_i$ represents the $i^{th}$ moment about the mean, then\n",
    "$$\n",
    "\\operatorname{Kurt}[X]\n",
    "= \\frac{\\mu_4}{\\sigma^4}\n",
    "= \\frac{ \\E{X-\\mu}^4 }\n",
    "       { \\left( \\E{(X-\\mu)^2} \\right)^2}\n",
    "$$\n",
    "* This number measures heavy tails, and not peakedness; hence, the \"peakedness\" definition is misleading.\n",
    "* For this measure, higher kurtosis means more of the variance is the result of infrequent extreme deviations, as opposed to frequent modestly sized deviations."
   ]
  },
  {
   "cell_type": "markdown",
   "metadata": {},
   "source": [
    "Kurtosis is bounded below by squared [skewness](skewness.ipynb):  \n",
    "$$\n",
    " \\frac{\\mu_4}{\\sigma^4} \\geq \\left(\\frac{\\mu_3}{\\sigma^3}\\right)^2 + 1,\n",
    "$$\n",
    "\n",
    "There is no upper limit."
   ]
  },
  {
   "cell_type": "markdown",
   "metadata": {},
   "source": [
    "Titbits\n",
    "=======\n",
    "\n",
    "* Kurtosis of any univariate normal distribution = 3\n",
    "* Excess kurtosis:\n",
    "  * is equal to kurtosis - 3\n",
    "  * = 0 for normal\n",
    "  * tells the deviation of the given distribution from being normal\n",
    "  * "
   ]
  },
  {
   "cell_type": "markdown",
   "metadata": {},
   "source": [
    "On the meaning\n",
    "==============\n",
    "From [here][DeCarlo1997]\n",
    "\n",
    "[DeCarlo1997]: http://dx.doi.org/10.1037/1082-989X.2.3.292 \"On the meaning and use of kurtosis. DeCarlo, Lawrence T. Psychological Methods, Vol 2(3), Sep 1997, 292-307.\""
   ]
  },
  {
   "cell_type": "markdown",
   "metadata": {},
   "source": [
    "$$\n",
    "\\text{Let }\n",
    "\\beta_2 = \\frac{ \\E{X-\\mu}^4 }\n",
    "               { \\left( \\E{(X-\\mu)^2} \\right)^2} \n",
    "$$\n",
    "\n",
    "Note that $\\beta_2 -3 $ is the excess kurtosis.  \n",
    "* If $\\beta_2 - 3 > 0$\n",
    "  * we have positive kurtosis or leptokurtic  \n",
    "  * Taller\n",
    "  * Peak: Higher than normal\n",
    "  * Tails: Heavier than normal\n",
    "* If $\\beta_2 - 3 < 0$,\n",
    "  * we have negative kurtosis or platykurtic\n",
    "  * Flatter\n",
    "  * Peak: Lower than normal\n",
    "  * Tails: Lighter than normal\n",
    "  \n",
    "> The $t_5$ distribution shows the pattern of higher-lower-higher on each side, which is a common characteristic of distributions with excess kurtosis\n",
    "\n",
    "...\n",
    "\n",
    "> The uniform distribution crosses the normal twice on each side of the mean\n",
    "\n",
    "Examples of leptokurtic symmetric distributions\n",
    "1. Logistic distribution [$\\beta_2 - 3 = 1.2$]\n",
    "2. Laplace distribution  [$\\beta_2 - 3 = 3$]"
   ]
  },
  {
   "cell_type": "markdown",
   "metadata": {},
   "source": [
    "A simplified explanation\n",
    "-------------------------\n",
    "\n",
    "* Tailedness and peakedness are both part of ~, because ~ represents a movement of mass keeping the variance unchanged.\n",
    "* It relates to the movement from(to) the shoulder to(from) the head and tails in case of positive (negative) ~.\n",
    "* ~ reflects an excess (lightness) in either tails, head or both in case of postive (negative) ~.\n",
    "* An approach by means of influence functions show that ~ primarily reflects the tails with center/head having a smaller influence.\n",
    "* "
   ]
  },
  {
   "cell_type": "markdown",
   "metadata": {},
   "source": [
    "Misconceptions\n",
    "--------------\n",
    "\n",
    "1. Kurtosis as simply peakedness\n",
    "1. On Tailedness and Peakedness\n",
    "1. Kurtosis and Variance"
   ]
  },
  {
   "cell_type": "markdown",
   "metadata": {},
   "source": [
    "**Kurtosis as simply peakedness**  \n",
    "[Kaplansky 1945][Kaplansky1945] showed density functions with smaller peak but positive kurtosis and vice versa.\n",
    "\n",
    "\n",
    "\n",
    "\n",
    "\n",
    "[Kaplansky1945]: http://dx.doi.org/10.1080/01621459.1945.10501856  \"A Common Error concerning Kurtosis, Kaplansky I, Journal of the American Statistical Association, 1945\""
   ]
  },
  {
   "cell_type": "markdown",
   "metadata": {},
   "source": [
    "**On tailedness and peakedness**  \n",
    "Many textbooks describe positive kurtosis as indicating peakedness and light tails (rather than heavy tails) and vice versa for negative kurtosis."
   ]
  },
  {
   "cell_type": "markdown",
   "metadata": {},
   "source": [
    "**Kurtosis and Variance**  \n",
    "* Positive(Negative) kurtosis is described as large(small) variance.\n",
    "* It should be noted that kurtosis measure $\\beta_2$ is scaled with respect to variance, so it is scale-free and not affected by it.\n",
    "* ~ reflects the shape of the distribution *apart* from variance.\n",
    "* Say $N_1$ is standard normal($\\sigma^2 = 1$), $N_2$ has $\\sigma^2 = 0.5$ and $N_3$ has $\\sigma^2 = 2$. But all these have the same ~, which is $\\beta_2 = 3$. Hence, larger(smaller) variance does not imply positive(negative) ~."
   ]
  },
  {
   "cell_type": "markdown",
   "metadata": {},
   "source": [
    "Use of Kurtosis\n",
    "-----------------\n",
    "\n",
    "* Mean, variance - location and variability of the distribution\n",
    "* Skewness, Kurtosis - shape of the distribution\n",
    "* ~ and skewness can be tested for checking the normality of distributions, up to sample sizes of size nine.\n",
    "  * Use omnibus tests like\n",
    "     1. Shapiro-Wilk test \n",
    "     1. D'Agostino & Pearson $K^2$ test.\n",
    "* Multivariate testing can be preceded by checking the univariate normality of each variable. This is a necessary but not sufficient condition for multivariate normality\n",
    "* Robustness: means affected more by skewness and variance is affected more by kurtosis.\n",
    "* Outliers: Positive ~ can arise either because outliers are present or the underlying distribution is non-normal (in which case, heavy tail nonnormal distributions can be considered as alternatives to the normal)[?]."
   ]
  },
  {
   "cell_type": "markdown",
   "metadata": {},
   "source": [
    "Limitations\n",
    "-----------\n",
    "\n",
    "1. More than one distributional shape can correspond to a single value of ~\n",
    "1. Cannot be used when the moments are not finite\n",
    "1. Does not necessarily allow comparisons between nonnormal distributions but only with respect to normal distribution."
   ]
  },
  {
   "cell_type": "markdown",
   "metadata": {},
   "source": [
    "For uniform distribution U(-w,+w),\n",
    "$$\n",
    "\\E{x-\\mu}^4 = \\frac{1}{2w}\\int_{-w}^{+w} x^4 dx\n",
    "= \\frac{w^5 - (-w)^5}{10w} = \\frac{w^4}{5}  \n",
    "$$\n",
    "$$\n",
    "\\E{x-\\mu}^2 = \\frac{1}{2w}\\int_{-w}^{+w} x^2 dx\n",
    "= \\frac{w^3 - (-w)^3}{6w} = \\frac{w^2}{3}  \n",
    "$$\n",
    "$$\n",
    "\\beta_2 = \\frac{w^4}{5} * \\frac{3^2}{w^4} = \\frac{9}{5}\\\\\n",
    "\\Rightarrow \\beta_2 - 3 = \\frac{-6}{5} = -1.2\n",
    "$$"
   ]
  },
  {
   "cell_type": "code",
   "metadata": {},
   "outputs": [],
   "source": [
    "def compute_normal(x, mu, sigma):\n",
    "    exponent = (-1./2)*((x - mu)/sigma)**2\n",
    "    scaling_factor = 1./(math.sqrt(math.pi)*sigma)\n",
    "    return scaling_factor * math.exp(exponent)\n",
    "def show_platykurtic(sigma=1.4, mu=0, width_rect=1.8):\n",
    "    x = np.linspace(-4,4,100)\n",
    "    mu = 0\n",
    "    y = [compute_normal(xx, mu, sigma) for xx in x]\n",
    "    plt.plot(x,y,'r.',label='normal')\n",
    "    \n",
    "    x_lim = plt.xlim(); x_range = x_lim[1] - x_lim[0]\n",
    "    y_lim = plt.ylim(); y_range = y_lim[1] - y_lim[0]\n",
    "    # uniform distribution\n",
    "    ht_uniform = 1/(2.*width_rect)\n",
    "    plt.axvline(x=-width_rect, ymin=0, ymax=(1.*ht_uniform)/y_range)\n",
    "    plt.axvline(x=width_rect, ymin=0, ymax=(1.*ht_uniform)/y_range)\n",
    "    plt.axhline(y=ht_uniform,\n",
    "                xmin=(-width_rect+x_range/2.)/x_range,\n",
    "                xmax=(width_rect+x_range/2.)/x_range,\n",
    "                label='Uniform'\n",
    "               )\n",
    "    plt.legend()\n",
    "    plt.title('b2 -3 = -1.2')\n",
    "    plt.show()\n",
    "interactive(show_platykurtic,\n",
    "            sigma=(-5,5,0.1),\n",
    "            mu=(-1,1,0.1),\n",
    "            width_rect=(-4,4,0.1))\n",
    "    "
   ]
  },
  {
   "cell_type": "markdown",
   "metadata": {},
   "source": [
    "References\n",
    "==========\n",
    "\n",
    "1. On the meaning and the use of Kurtosis, Lawrence T DeCarlo [link](http://www.columbia.edu/~ld208/psymeth97.pdf)"
   ]
  }
 ],
 "metadata": {
  "hide_input": true,
  "kernelspec": {
   "display_name": "Python 3",
   "language": "python3",
   "name": "python3"
  },
  "language_info": {
   "codemirror_mode": {
    "name": "ipython",
    "version": 3
   },
   "file_extension": ".py",
   "mimetype": "text/x-python",
   "name": "python",
   "nbconvert_exporter": "python",
   "pygments_lexer": "ipython3"
  },
  "latex_envs": {
   "bibliofile": "biblio.bib",
   "cite_by": "apalike",
   "current_citInitial": 1,
   "eqLabelWithNumbers": true,
   "eqNumInitial": 0
  }
 },
 "nbformat": 4,
 "nbformat_minor": 0
}
