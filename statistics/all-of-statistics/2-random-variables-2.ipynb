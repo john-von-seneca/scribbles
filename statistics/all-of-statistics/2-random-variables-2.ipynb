{
 "cells": [
  {
   "cell_type": "code",
   "metadata": {},
   "outputs": [],
   "source": [
    "import math\n",
    "import scipy as sp\n",
    "import numpy as np\n",
    "import matplotlib.pyplot as plt\n",
    "%matplotlib inline\n",
    "\n",
    "# required for interactive plotting\n",
    "from __future__ import print_function\n",
    "from ipywidgets import interact, interactive, fixed\n",
    "import ipywidgets as widgets\n",
    "import numpy.polynomial as np_poly"
   ]
  },
  {
   "cell_type": "code",
   "metadata": {},
   "outputs": [],
   "source": [
    "from IPython.display import Math\n",
    "from IPython.display import Latex\n",
    "Math(r'F(k) = \\int_{-\\infty}^{\\infty} f(x) e^{2\\pi i k} dx')"
   ]
  },
  {
   "cell_type": "markdown",
   "metadata": {},
   "source": [
    "\n",
    "initialization  \n",
    "$ \\newcommand{\\E}[1]{\\mathbb{E}\\left[#1\\right]}$  \n",
    "$ \\newcommand{\\V}[1]{\\mathbb{V}\\left[#1\\right]}$\n",
    "$ \\newcommand{\\EXP}[1]{\\exp\\left(#1\\right)}$  \n",
    "$ \\newcommand{\\P}[1]{\\mathbb{P}\\left(#1\\right)}$\n",
    "$\\newcommand{\\nck}[2]{\\left( \\begin{matrix}#1\\\\#2\\end{matrix} \\right)}$"
   ]
  },
  {
   "cell_type": "markdown",
   "metadata": {},
   "source": [
    "# Exponential distribution"
   ]
  },
  {
   "cell_type": "markdown",
   "metadata": {},
   "source": [
    "[here](/notebooks/probability-distributions/exponential.ipynb)"
   ]
  },
  {
   "cell_type": "markdown",
   "metadata": {},
   "source": [
    "Bernoulli Distribution\n",
    "============\n",
    "[here](/notebooks/probability-distributions/bernoulli.ipynb)"
   ]
  },
  {
   "cell_type": "markdown",
   "metadata": {},
   "source": [
    "Binomial Distribution\n",
    "=====================\n",
    "[here](/notebooks/probability-distributions/binomial.ipynb)"
   ]
  },
  {
   "cell_type": "markdown",
   "metadata": {},
   "source": [
    "# Geometric\n",
    "[here](/notebooks/probability-distributions/geometric.ipynb)"
   ]
  },
  {
   "cell_type": "markdown",
   "metadata": {},
   "source": [
    "Memorylessness\n",
    "================\n",
    "\n",
    "[wiki](http://www.wikiwand.com/en/Memorylessness)\n",
    "\n",
    "A probability distribution is memoryless only if $P( X>(s+t) | X>s ) = P(X>t)$.  \n",
    "This holds for both discrete and continuous random variables.\n",
    "\n",
    "pretty vague but here is an example.  \n",
    "Let $X$ be the number of trials until the first success in a probability distribution \n",
    "Then, \n",
    "$P(X>(10+20) | X>20) = P(X>10)$  \n",
    "The distribution forgets the fact $X>2$\n",
    "\n",
    "As another example,  \n",
    "suppose X is the lifetime of a car engine given in terms of number of miles driven.   \n",
    "If the engine has lasted 200,000 miles, then, based on our intuition,   \n",
    "it is clear that the probability that the engine lasts another 100,000 miles  \n",
    "is not the same as the engine lasting 100,000 miles from the first time it was built.  \n",
    "However, memorylessness states that the two probabilities are the same.   \n",
    "In essence, we 'forget' what state the car is in.   \n",
    "In other words, the probabilities are not influenced by how much time has elapsed.\n",
    "\n",
    "The only memoryless discrete probability distributions are the geometric distributions,  \n",
    "which feature the number of independent Bernoulli trials needed to get one \"success,\"  \n",
    "with a fixed probability p of \"success\" on each trial.  \n",
    "In other words those are the distributions of waiting time in a Bernoulli process.  "
   ]
  },
  {
   "cell_type": "markdown",
   "metadata": {},
   "source": [
    "Poisson Distribution\n",
    "===============\n",
    "\n",
    "[here](/notebooks/probability-distributions/poisson.ipynb)"
   ]
  },
  {
   "cell_type": "markdown",
   "metadata": {},
   "source": [
    "Erlang Distribution\n",
    "=========================\n",
    "[here](/notebooks/probability-distributions/erlang.ipynb)"
   ]
  },
  {
   "cell_type": "markdown",
   "metadata": {},
   "source": [
    "Gamma distribution\n",
    "===========================\n",
    "[here](/notebooks/probability-distributions/gamma.ipynb)"
   ]
  },
  {
   "cell_type": "markdown",
   "metadata": {},
   "source": [
    "# Beta Distribution\n",
    "\n",
    "[here](/notebooks/probability-distributions/beta.ipynb)"
   ]
  },
  {
   "cell_type": "markdown",
   "metadata": {},
   "source": [
    "t Distribution\n",
    "================\n",
    "\n",
    "[here](/notebooks/probability-distributions/students-t.ipynb)"
   ]
  },
  {
   "cell_type": "markdown",
   "metadata": {},
   "source": [
    "Cauchy Distribution\n",
    "===========================\n",
    "[here](/notebooks/probability-distributions/cauchy.ipynb)"
   ]
  },
  {
   "cell_type": "markdown",
   "metadata": {},
   "source": [
    "Chi Squared ( $\\chi^2$ ) Distribution\n",
    "==========================\n",
    "[here](/notebooks/probability-distributions/chi-squared.ipynb)"
   ]
  },
  {
   "cell_type": "markdown",
   "metadata": {},
   "source": [
    "*******************************************\n",
    "\n",
    "Pearson's chi-squared test\n",
    "================\n",
    "\n",
    "* applicable to categorical data \n",
    "* How likely is the observed difference arose by chance\n",
    "* tests the null hypothesis \n",
    "* Events considered must be mutually exclusive and have total probability of 1\n",
    "* used to assess two types of comparison\n",
    "  * [Goodness of fit](https://www.wikiwand.com/en/Goodness_of_fit): whether or not the observed frequency distribution differs from a theoretical / expected distribution\n",
    "  * Test of independence: Whether unpaired observations of two variables, expressed in a contingency table are independent of each other. For ex, the polling repsonses from people of different nationalities if one's nationality is related to the response\n",
    " "
   ]
  },
  {
   "cell_type": "markdown",
   "metadata": {},
   "source": [
    "Procedure\n",
    "--------\n",
    "1. Calculate the chi-squared test statistic, $\\chi^2$, which resembles a normalized sum of squared deviations between observed and theoretical frequencies (see below).\n",
    "2. Determine the [degrees of freedom](https://www.wikiwand.com/en/Degrees_of_freedom_(statistics)), $df$, of that statistic, which is essentially the number of categories reduced by the number of parameters of the fitted distribution.\n",
    "3. Select a desired level of confidence (significance level, [p-value](https://www.wikiwand.com/en/P-value) [explanation](http://stats.stackexchange.com/questions/31/what-is-the-meaning-of-p-values-and-t-values-in-statistical-tests) or alpha level) for the result of the test.\n",
    "4. Compare $\\chi^2$ to the critical value from the chi-squared distribution with df degrees of freedom and the selected confidence level (one-sided since the test is only one direction, i.e. is the test value greater than the critical value?), which in many cases gives a good approximation of the distribution of $\\chi^2$.\n",
    "5. Accept or reject the null hypothesis that the observed frequency distribution is different from the theoretical distribution based on whether the test statistic exceeds the critical value of $\\chi^2$. If the test statistic exceeds the critical value of $\\chi^2$, the null hypothesis ($H_o$ = there is no difference between the distributions) can be rejected with the selected level of confidence and the alternative hypothesis ($H_a$ = there is a difference between the distributions) can be accepted with the selected level of confidence."
   ]
  },
  {
   "cell_type": "markdown",
   "metadata": {},
   "source": [
    "Example\n",
    "----------\n",
    "\n",
    "Given Data ([Khan Academy](https://www.khanacademy.org/math/probability/statistics-inferential/chi-square/v/contingency-table-chi-square-test))\n",
    "\n",
    "|  \t        | Herb 1 \t| Herb 2 \t| Placebo \t|\n",
    "|---\t    |---\t    |---\t    |---\t    |\n",
    "| Sick \t    |  \t20      | 30        | 30        |\n",
    "| Not Sick \t|  100      | 110       | 90        |\n",
    "\n",
    "Null Hypothesis $H_0$: No difference between herbs and Placebo.  \n",
    "$H_a$: Herbs show some effect"
   ]
  },
  {
   "cell_type": "markdown",
   "metadata": {},
   "source": [
    "Compute the totals\n",
    "\n",
    "|  \t        | Herb 1 \t| Herb 2 \t| Placebo \t| *Total* \t|\n",
    "|---\t    |---\t    |---\t    |---\t    |--- \t \t|\n",
    "| Sick \t    | 20 \t \t| 30        | 30        | <span class=\"mark\">*80*</span> \t \t|\n",
    "| Not Sick \t| 100 \t \t| 110       | 90        | <span class=\"mark\">*300*</span>\t \t|\n",
    "| *Total*\t| <span class=\"mark\">*120*</span> \t| <span class=\"mark\">*140*</span> \t| <span class=\"mark\">*120*</span> \t| <span class=\"mark\">*380*</span>\t \t|"
   ]
  },
  {
   "cell_type": "markdown",
   "metadata": {},
   "source": [
    "Find the percentages\n",
    "\n",
    "|  \t        | Herb 1 \t| Herb 2 \t| Placebo \t| *Total* \t\t\t\t|\n",
    "|---\t    |---\t    |---\t    |---\t    |--- \t \t\t\t\t|\n",
    "| Sick\t\t| 20 \t \t| 30        | 30        | *80*  <br> <span class=\"mark\">(*21%*)</span>\t|\n",
    "| Not Sick \t| 100 \t \t| 110       | 90        | *300* <br> <span class=\"mark\">(*79%*)</span>\t|\n",
    "| *Total*\t| *120* \t| *140* \t| *120* \t| *380*\t \t\t\t\t|"
   ]
  },
  {
   "cell_type": "markdown",
   "metadata": {},
   "source": [
    "Find expected values\n",
    "\n",
    "|  \t        | Herb 1\t\t\t| Herb 2 \t\t\t\t| Placebo \t\t\t| *Total* \t\t\t\t|\n",
    "|---\t    |---\t    \t\t|---\t\t\t\t\t|---\t\t\t\t|--- \t \t\t\t\t|\n",
    "| Sick\t\t| 20 <br> <span class=\"mark\">(*25.3*)</span>\t| 30 <br> <span class=\"mark\">(*29.4*)</span>\t\t| 30 <br> <span class=\"mark\">(*25.3*)</span>\t| *80*  <br> (*21%*)\t|\n",
    "| Not Sick \t| 100 <br> <span class=\"mark\">(*94.7*)</span>\t| 110 <br> <span class=\"mark\">(*110.6*)</span>\t| 90 <br> <span class=\"mark\">(*94.7*)</span>\t| *300* <br> (*79%*)\t|\n",
    "| *Total*\t| *120* \t\t\t| *140* \t\t\t\t| *120* \t\t\t| *380*\t \t\t\t\t|\n",
    "\n",
    "Question: why take 21% of 120, 140 and 120?  \n",
    "coz, if there is no difference between the herbs and the placebo, then the percentages of sick people in \"herb1\", \"herb2\" and \"placebo\" should be equal."
   ]
  },
  {
   "cell_type": "markdown",
   "metadata": {},
   "source": [
    "Compute the statistic:  \n",
    "$$ \\sum_{i} (O_i-E_i)^2/E_i \\\\\n",
    "= (20-25.3)^2/25.3 + (30-29.4)^2/29.4 + (30-25.3)^2/25.3 + \\\\\n",
    "(100-94.7)^2/94.7 + (110-110.6)^2/110.6 + (90-94.7)^2/94.7 \\\\\n",
    " = 2.53\n",
    "$$"
   ]
  },
  {
   "cell_type": "markdown",
   "metadata": {},
   "source": [
    "Now, say the significance level is 0.10 (10%).  \n",
    "The d.f. is $(r-1)(c-1)$ = $1 \\times 2$ = $2$  \n",
    "From the tables, we find the critical value for $0.10$ is $\\chi_2^2(0.10) = 4.60$. This value can be thought of as the max allowed value of the statistic aka the deviation.   \n",
    "That is, probability of deviation taking a value gt 4.60 is 1%.  \n",
    "that is, $P(X>4.60) = 0.10$  \n",
    "Since the computed value, $2.53 < 4.60$, we accept $H_0$, which is there is no difference between the placebo and the herbs."
   ]
  },
  {
   "cell_type": "markdown",
   "metadata": {},
   "source": [
    "  \n",
    "Caveats\n",
    "-------\n",
    "1. Breaks down if the expected frequencies are too low.\n",
    "2. Acceptable as long as no more than 20% of the events have expected frequencies less than 5.\n",
    "3. If there is one d.f., then approximation is not reliable if the expected frequencies are below 10.\n",
    "4. In such cases, use [Yates' correction for continuity](https://www.wikiwand.com/en/Yates%27s_correction_for_continuity): reduce the abs. value of the difference by 0.5 before squaring"
   ]
  },
  {
   "cell_type": "markdown",
   "metadata": {},
   "source": [
    "**************************\n",
    "\n",
    "Bivariate distributions\n",
    "=================\n",
    "\n",
    "Example\n",
    "\n",
    "$$\n",
    "f(x) = \n",
    "\\begin{cases}\n",
    "x+y & if ~0 \\le x,y \\le 1\\\\\n",
    "0 & \\text{otherwise}\n",
    "\\end{cases}\n",
    "$$\n",
    "\n",
    "Cumulative distribution:  \n",
    "$$\n",
    "\\begin{align}\n",
    "F(x) & = \\int_0^{x_1} \\int_0^{y_1} x+y dx dy\\\\\n",
    "     & = \\int_0^{y_1} \\left\\{ \\int_0^{x_1} x dx\\right\\} dy + \n",
    "         \\int_0^{y_1} \\left\\{ \\int_0^{x_1} y dx\\right\\} dy \\\\\n",
    "     & = \\int_0^{y_1} \\frac{x_1^2}{2} dy + \n",
    "         \\int_0^{y_1} x_1 y dy \\\\\n",
    "     & = \\frac{x_1^2 y_1 + x_1 y_1^2}{2} \\\\ \n",
    "     & = \\frac{x_1 y_1 (x_1 + y_1) }{2}\n",
    "\\end{align}\n",
    "$$"
   ]
  },
  {
   "cell_type": "code",
   "metadata": {},
   "outputs": [],
   "source": [
    "for x1,x2 in enumerate([1,3,5]):\n",
    "    print(x1,x2)"
   ]
  },
  {
   "cell_type": "code",
   "metadata": {},
   "outputs": [],
   "source": [
    "# cumulative distribution\n",
    "def compute_bivariate_cdf(x, y):\n",
    "    return x*y*(x+y)/2.\n",
    "\n",
    "in_bivariate_cdf = 100\n",
    "xy = np.linspace(0, 1, in_bivariate_cdf)\n",
    "mat1 = np.zeros((in_bivariate_cdf,in_bivariate_cdf))\n",
    "for ix, xx in enumerate(xy):\n",
    "    for iy, yy in enumerate(xy):\n",
    "        mat1[ix, iy] = compute_bivariate_cdf(xx, yy)\n",
    "        \n",
    "\n",
    "plt.matshow(mat1)\n",
    "plt.gca().invert_yaxis()\n",
    "plt.colorbar()\n",
    "plt.title('CDF of Bivariate')\n",
    "plt.show()"
   ]
  },
  {
   "cell_type": "markdown",
   "metadata": {},
   "source": [
    "********************************\n",
    "\n",
    "Independence of Random Variables\n",
    "========================\n",
    "\n",
    "Two RV's, X \\& Y are independent, if, $\\forall A,B$,  \n",
    "$$\\mathbb{P}(X \\in A, Y \\in B) = \\mathbb{P}(X \\in A) \\mathbb{P}(Y \\in B)$$.  \n",
    "It is written as $X \\amalg Y$ or $X \\perp Y$.  \n",
    "\n",
    "We need to check the above for all subsets A,B. But there are other better ways.\n",
    "\n",
    "**Method 1:**  \n",
    "If X,Y has joint PDF $f_{X,Y}$. Then $X \\amalg Y$ iff $f_{X,Y}(x,y) = f_X(x) f_Y(y)$ for all values x,y. This holds good for both discrete as well as continuous.\n",
    "\n",
    "**Method 2:**  \n",
    "Suppose that the range of X and Y is a (possibly infinite) rectangle. If $f(x,y) = g(x) ~ h(y)$ for some function $g,h$ which need not be pdf's themselves, then $X \\amalg Y$.\n",
    "\n",
    "2.33 Theorem. Suppose that the range of X and Y is a (possibly infinite) rectangle. If f(x,y) = g(x)h(y) for some functions g and h (not necessarily pro"
   ]
  },
  {
   "cell_type": "markdown",
   "metadata": {},
   "source": [
    "More than two events\n",
    "-------------------\n",
    "A finite set of events {A_i} is *pairwise independent* if and only if every pair of events is independent. That is, $\\forall m, ~k$,  \n",
    "$$\\mathbb{P}(A_m \\cap A_k) = \\mathbb{P}(A_m) ~ \\mathbb{P}(A_k)$$\n",
    "\n",
    "A finite set of events is *mutually independent* if and only if every event is independent of any intersection of the other events. That is, for every n-element subset $\\{A_i\\}$,  \n",
    "$$\\mathbb{P}\\left( \\bigcap_{i=1}^n A_i \\right) = \n",
    "\\prod_{i=1}^n \\mathbb{P}(A_i)$$  \n",
    "* This is called the multiplication rule for independent events.  \n",
    "* For more than 2 events, mutual independece $\\Rightarrow$ Pairwise Independence and not the other way around.\n",
    "\n",
    "*********************************************\n",
    "Pairwise independent, not mutually independent\n",
    "![Alt text](images/440px-Pairwise_independent.svg.png \"Pairwise but not mutually independent\")\n",
    "\n",
    "$\\mathbb{P}(A) = \\mathbb{P}(B) = 1/2$ and $\\mathbb{P}(C) = 1/4$.  \n",
    "$$\n",
    "\\begin{align}\n",
    "\\mathrm{P}(A|BC) &= \\frac{ \\frac{4}{40} }\n",
    "                         {\\frac{4}{40} + \\frac{1}{40}}\n",
    "                 &= \\frac{4}{5}\n",
    "                 & \\ne \\mathrm{P}(A)\\\\\n",
    "\\mathrm{P}(B|AC) &= \\frac{ \\frac{4}{40} }\n",
    "                         {\\frac{4}{40} + \\frac{1}{40}}\n",
    "                 & = \\frac{4}{5} \n",
    "                 &\\ne \\mathrm{P}(B)\\\\\n",
    "\\mathrm{P}(C|AB) &= \\frac{\\frac{4}{40}}\n",
    "                         {\\frac{4}{40} + \\frac{6}{40}}\n",
    "                 &= \\frac{2}{5} \n",
    "                 &\\ne \\mathrm{P}(C)\n",
    "\\end{align}\n",
    "$$\n",
    "\n",
    "\n",
    "\n",
    "\n",
    "![Alt Text](images/440px-Mutually_independent.svg.png \"Mutually independent\")\n",
    "$\\mathbb{P}(A) = \\mathbb{P}(B) = 1/2$ and $\\mathbb{P}(C) = 1/4$.  \n",
    "\n",
    "$$\n",
    "\\begin{align}\n",
    "\\mathrm{P}(A|BC) &= \\frac{\\frac{1}{16}}\n",
    "                         {\\frac{1}{16} + \\frac{1}{16}}\n",
    "                 &= \\tfrac{1}{2}\n",
    "                 &= \\mathrm{P}(A) \\\\\n",
    "\\mathrm{P}(B|AC) &= \\frac{\\frac{1}{16}}\n",
    "                         {\\frac{1}{16} + \\frac{1}{16}}\n",
    "                 &= \\tfrac{1}{2}\n",
    "                 &= \\mathrm{P}(B)\\\\\n",
    "\\mathrm{P}(C|AB) &= \\frac{\\frac{1}{16}}\n",
    "                         {\\frac{1}{16} + \\frac{3}{16}}\n",
    "                 &= \\tfrac{1}{4}\n",
    "                 &= \\mathrm{P}(C)\n",
    "\\end{align}\n",
    "$$\n",
    "\n",
    "*********************************************\n",
    "Mutual Independence\n",
    "\n",
    "George, Glyn, \"Testing for the independence of three events,\" Mathematical Gazette 88, November 2004, 568 [pdf](resources/testing-for-independence-of-three-events.pdf)\n",
    "\n",
    "![Mutual, not pairwise](images/mutual-independence-not-pairwise.png)\n",
    "\n",
    "$\\mathbb{P}(ABC) = \\mathbb{P}(A) \\mathbb{P}(B) \\mathbb{P}(C) = 0.04$\n",
    "\n",
    "But no two of the 3 events are pairwise independent.\n",
    "\n",
    "$$\n",
    "\\begin{align}\n",
    "\\mathbb{P}(AB) &= 0.10 \n",
    "& \\text{but } & \\mathbb{P}(A) \\times \\mathbb{P}(B)\n",
    "= 0.2 \\times 0.4 = 0.08\\\\\n",
    "\\mathbb{P}(BC) &= 0.24 \n",
    "& \\text{but } & \\mathbb{P}(B) \\times \\mathbb{P}(C)\n",
    "= 0.4 \\times 0.5 = 0.20\\\\\n",
    "\\mathbb{P}(CA) &= 0.14 \n",
    "& \\text{but } & \\mathbb{P}(C) \\times \\mathbb{P}(C)\n",
    "= 0.5 \\times 0.2 = 0.10\n",
    "\\end{align}\n",
    "$$"
   ]
  },
  {
   "cell_type": "markdown",
   "metadata": {},
   "source": [
    "Problems\n",
    "=====================\n",
    "\n",
    "13. Transformation of RV's\n",
    "----\n",
    "\n",
    "$Y = e^{X}$ and $X \\sim N(0,1)$\n",
    "\n",
    "$$\n",
    "\\begin{align}\n",
    "P(Y=y) = P(X = ln(y)) = \\frac{1}{\\sqrt{2\\pi}} e^{-(\\ln{y})^2/2}\n",
    "\\end{align}\n",
    "$$"
   ]
  },
  {
   "cell_type": "code",
   "metadata": {},
   "outputs": [],
   "source": [
    "import math\n",
    "def p_y(y):\n",
    "    term1 = 1./math.sqrt(2*math.pi)\n",
    "    term1 = 1.\n",
    "    term2_pwr = -(math.log(y)**2) / 2.0\n",
    "    return term1 * math.e**term2_pwr\n",
    "\n",
    "def normal_mine(x):\n",
    "    term1 = 1./math.sqrt(2*math.pi)\n",
    "    term1 = 1.\n",
    "    term2_pwr = -x**2/2.\n",
    "    return term1 * math.e**term2_pwr\n",
    "\n",
    "def find_format_hist(data, in_pts, in_bins):\n",
    "    hist, edges = np.histogram(data, bins=in_bins)\n",
    "\n",
    "    dist_cum = np.matrix([sum(hist[:ix])/(1.*in_pts) for ix in range(in_bins)])\n",
    "    bin_centers = (edges[1:]+edges[:-1])/2.\n",
    "    \n",
    "    bin_centers = bin_centers.reshape((in_bins,1))\n",
    "    dist_cum = dist_cum.reshape((in_bins0,1))\n",
    "    \n",
    "    return (bin_centers, dist_cum)\n",
    "\n",
    "in_pts = 10000\n",
    "e_power = math.e**3\n",
    "y = np.linspace(1./e_power, e_power, in_pts)\n",
    "p_y_exp = [p_y(yy) for yy in y]\n",
    "sum_exp = sum(p_y_exp)\n",
    "sum_exp = 1.\n",
    "cdf_exp = [sum(p_y_exp[:ix])/sum_exp for ix in range(in_pts)]\n",
    "plt.plot(y, cdf_exp , label='expected y')\n",
    "\n",
    "xx = np.random.normal(loc=0.0, scale=1.0, size=(1, in_pts))\n",
    "xx.sort()\n",
    "\n",
    "print('yo')\n",
    "bin_centers0, dist_cum0 = find_format_hist(xx, in_pts, 1000)\n",
    "plt.plot(bin_centers0, dist_cum0, label='normal sampled')\n",
    "\n",
    "yy = [math.e**xxx for xxx in xx]\n",
    "\n",
    "data1 = [yyy for yyy in yy[0] if yyy<=1.0]\n",
    "bin_centers1, dist_cum1 = find_format_hist(data1, in_pts, 1000)\n",
    "print(dist_cum1[-1,0])\n",
    "plt.plot(bin_centers1, dist_cum1, label='first half')\n",
    "\n",
    "data2 = [yyy for yyy in yy[0] if yyy>1.0]\n",
    "bin_centers2, dist_cum2 = find_format_hist(data2, in_pts, 1000)\n",
    "#plt.plot(bin_centers2, dist_cum2, label='second half')\n",
    "\n",
    "x_min, x_max = plt.xlim()\n",
    "#plt.xlim((-20, 40.0))\n",
    "\n",
    "#plt.legend(loc='upper left')\n",
    "plt.legend(loc='lower right')\n",
    "plt.grid()\n",
    "plt.show()\n",
    "\n",
    "# # hist2, edges2 = np.histogram([yyy for yyy in yy[0] if yyy>1.0], 10)\n",
    "# # plt.plot((edges2[1:]+edges2[:-1])/2., hist2/(1.*in_pts), label='y actual > 1')\n",
    "\n",
    "# # bin_size = 10\n",
    "# # cdf = np.zeros((1,bin_size+1))\n",
    "# # #print(cdf)\n",
    "# # prev = 0.0\n",
    "# # for ix, xx_hist in enumerate(range(bin_size+1)):\n",
    "# #     edge1 = xx_hist/(1.*bin_size)\n",
    "# #     current = len([yyy for yyy in yy[0] if yyy<=edge1])/(1.*in_pts)\n",
    "# #     #print(edge1, current-prev)\n",
    "# #     plt.plot(edge1, current-prev, '*', markersize=15)\n",
    "# #     cdf[0,ix] = current\n",
    "# #     prev = current\n",
    "    \n",
    "# plt.show()\n",
    "# #print(cdf)\n"
   ]
  },
  {
   "cell_type": "code",
   "metadata": {},
   "outputs": [],
   "source": [
    "plt.plot(p_y_exp)\n",
    "print(sum(p_y_exp))"
   ]
  },
  {
   "cell_type": "code",
   "metadata": {},
   "outputs": [],
   "source": [
    "y=1.\n",
    "term1 = 1./math.sqrt(2*math.pi)\n",
    "print(term1)\n",
    "term2_pwr = -(math.log(y)**2) / 2.0\n",
    "print(term2_pwr)\n",
    "print(term1 * math.exp(term2_pwr))\n",
    "\n",
    "print(math.sqrt(2))\n",
    "print(math.pi)\n",
    "print(math.log(math.e))"
   ]
  },
  {
   "cell_type": "code",
   "metadata": {},
   "outputs": [],
   "source": [
    "def p_y(x):\n",
    "    term1 = 1./math.sqrt(2*math.pi)\n",
    "    term2_pwr = -(x**2) / 2.0\n",
    "    return term1 * math.e**term2_pwr\n",
    "\n",
    "x = np.linspace(-5,5,100)\n",
    "yy = [p_y(xx) for xx in x]\n",
    "plt.plot(x, yy)\n",
    "plt.show()\n"
   ]
  },
  {
   "cell_type": "code",
   "metadata": {},
   "outputs": [],
   "source": [
    "def p_y(y):\n",
    "    term1 = 1./math.sqrt(2*math.pi)\n",
    "    term2_pwr = -(math.log(y)**2) / 2.0\n",
    "    return term1 * math.e**term2_pwr\n",
    "\n",
    "x = np.linspace(0.1, 5, 100)\n",
    "yy = [p_y(xx) for xx in x]\n",
    "plt.plot(x, yy)\n",
    "plt.show()\n",
    "print(sum(yy))"
   ]
  },
  {
   "cell_type": "markdown",
   "metadata": {},
   "source": [
    "14. Sampling from a circle\n",
    "---------------------------------"
   ]
  },
  {
   "cell_type": "code",
   "metadata": {},
   "outputs": [],
   "source": [
    "def compute_hist(data, in_pts, in_bins):\n",
    "    hist, edges = np.histogram(data, bins=in_bins)\n",
    "\n",
    "    dist_cum = np.matrix([sum(hist[:ix])/(1.*in_pts) for ix in range(in_bins)])\n",
    "    bin_centers = (edges[1:]+edges[:-1])/2.\n",
    "    \n",
    "    bin_centers = bin_centers.reshape((in_bins,1))\n",
    "    dist_cum = dist_cum.reshape((in_bins,1))\n",
    "    \n",
    "    return (bin_centers, dist_cum, hist, edges)\n",
    "\n",
    "def plot_circle(radius=1):\n",
    "    thetas = np.linspace(0, 1, 100)* 2*math.pi\n",
    "    pts = np.asarray([polar_to_cartesian(theta, radius) for theta in thetas])\n",
    "    plt.plot(pts[:,0], pts[:,1])\n",
    "    "
   ]
  },
  {
   "cell_type": "markdown",
   "metadata": {},
   "source": [
    "Method 1:  \n",
    "Choose x uniformly from [-1,1] and choose a y in $[-\\sqrt{1-x^2}, \\sqrt{1-x^2}]$"
   ]
  },
  {
   "cell_type": "code",
   "metadata": {},
   "outputs": [],
   "source": [
    "def validate_on_circle(x, y):\n",
    "    is_valid=reduce(lambda zzz, t: zzz and t, \n",
    "                    [abs(zz-1.)<1e-8 for zz in (x**2+y**2)],\n",
    "                    True)\n",
    "    print('x and y on circle? :: ' + ('yes' if is_valid[0] else 'no'))\n",
    "\n",
    "def validate_inside_circle(arr_r, radius=1.):\n",
    "    is_valid=reduce(lambda zzz, t: zzz and t, [zz<=radius for zz in arr_r][0], True)\n",
    "    print('x and y_rand inside? :: ' + ('yes' if is_valid else 'no'))\n"
   ]
  },
  {
   "cell_type": "code",
   "metadata": {},
   "outputs": [],
   "source": [
    "\n",
    "in_pts, radius = 5e4, 1.\n",
    "x = np.random.rand(in_pts,1)*2.*radius - radius\n",
    "x.sort()\n",
    "y = np.sqrt(radius**2 - x**2)\n",
    "validate_on_circle(x, y)\n",
    "\n",
    "y_rand = np.asarray([np.random.rand(1)[0]*(2*yy)-yy for yy in y]).reshape(x.shape)\n",
    "arr_r = (x**2+y_rand**2)\n",
    "validate_inside_circle(arr_r, radius)\n",
    "plot_circle(radius=1)\n",
    "plt.gca().set_aspect('equal', adjustable='box')\n",
    "plt.plot(x, y_rand, '.', markersize=1)\n",
    "plt.show()\n",
    "\n",
    "bin_centers, dist_cum, hist, edges = compute_hist(arr_r, in_pts, 100)\n",
    "print(bin_centers.shape)\n",
    "print(dist_cum.shape)\n",
    "plt.plot(bin_centers, dist_cum, label='actual cdf')\n",
    "plt.plot(bin_centers, [ctr**2 for ctr in bin_centers], label='expected cdf')\n",
    "plt.legend(loc='upper left')\n",
    "plt.grid()\n",
    "plt.show()\n",
    "\n",
    "plt.plot(bin_centers, hist/in_pts, label='actual pdf')\n",
    "edges_sqrd = np.square(edges)\n",
    "expected_pdf = edges_sqrd[1:] - edges_sqrd[:-1]\n",
    "plt.plot(bin_centers, expected_pdf, label='expected pdf')\n",
    "plt.legend(loc='upper left')\n",
    "plt.show()\n",
    "\n",
    "bin_centers_x, cum_pdf, hist_x, edges_x = compute_hist(x, in_pts, in_bins=50)\n",
    "plt.plot(bin_centers_x, hist_x, label='X Histogram')\n",
    "bin_centers_y, cum_pdf, hist_y, edges_y = compute_hist(y_rand, in_pts, in_bins=50)\n",
    "plt.plot(bin_centers_y, hist_y, label='Y Histogram')\n",
    "plt.title('X-Y Histogram')\n",
    "plt.legend()\n",
    "plt.show()"
   ]
  },
  {
   "cell_type": "markdown",
   "metadata": {},
   "source": [
    "Method 2:  \n",
    "* choose two points randomly on the circumference of the circle\n",
    "  * sample two values for $\\theta$ from $[0, 2\\pi)$\n",
    "* find (x,y) for these points\n",
    "* find the midpoint of the chord formed by these points  \n",
    " "
   ]
  },
  {
   "cell_type": "code",
   "metadata": {
    "code_folding": [
     0,
     5,
     10,
     12
    ]
   },
   "outputs": [],
   "source": [
    "def check_mid_pts(mid_pts, radius=1.):\n",
    "    mid_pts_valid = reduce(lambda length,total: (length<=1.*radius) and total,\n",
    "                       [(x**2+y**2) for (x,y) in mid_pts],\n",
    "                       True)\n",
    "    print('midpts valid?: ' + ('yes' if mid_pts_valid else 'no'))\n",
    "\n",
    "def polar_to_cartesian(theta, radius=1):\n",
    "    return [radius*math.cos(theta), radius*math.sin(theta)]\n",
    "def midpoint(pt1, pt2):\n",
    "    x1, y1 = pt1\n",
    "    x2, y2 = pt2\n",
    "    return [(x1+x2)/2., (y1+y2)/2.]\n"
   ]
  },
  {
   "cell_type": "code",
   "metadata": {
    "code_folding": [
     0,
     6,
     11,
     14
    ]
   },
   "outputs": [],
   "source": [
    "in_pts, radius = 5e4, 1\n",
    "arr_thetas = np.random.rand(in_pts, 2) * 2*math.pi\n",
    "mid_pts = np.asarray([midpoint(polar_to_cartesian(thetas[0]), polar_to_cartesian(thetas[1]))\n",
    "                      for thetas in arr_thetas])\n",
    "check_mid_pts(mid_pts, radius)\n",
    "plt.plot(mid_pts[:,0], mid_pts[:, 1], '.', markersize=1)\n",
    "plot_circle(radius)\n",
    "plt.gca().set_aspect('equal', adjustable='box')\n",
    "plt.show()\n",
    "\n",
    "radii = np.sqrt(mid_pts[:,0]**2 + mid_pts[:,1]**2)\n",
    "bin_centers_r, cum_pdf_r, hist_r, edges_r = compute_hist(radii, in_pts, in_bins=10)\n",
    "plt.plot(bin_centers_r, cum_pdf_r)\n",
    "plt.show()\n",
    "\n",
    "plt.plot(bin_centers_r, hist_r/(in_pts*1.))\n",
    "plt.title('Radius Histogram')\n",
    "plt.show()\n",
    "\n",
    "bin_centers_x, cum_pdf, hist_x, edges_x = compute_hist(mid_pts[:,0], in_pts, in_bins=50)\n",
    "plt.plot(bin_centers_x, hist_x, label='X Histogram')\n",
    "bin_centers_y, cum_pdf, hist_y, edges_y = compute_hist(mid_pts[:,1], in_pts, in_bins=50)\n",
    "plt.plot(bin_centers_y, hist_y, label='Y Histogram')\n",
    "plt.title('X-Y Histogram')\n",
    "plt.legend()\n",
    "plt.show()"
   ]
  },
  {
   "cell_type": "markdown",
   "metadata": {
    "code_folding": [
     3,
     4,
     11
    ]
   },
   "source": [
    "Transformation of multiple RV's\n",
    "---------------\n",
    "\n",
    "$X,Y \\sim U(0,1)$\n",
    "\n",
    "Z=X+Y  \n",
    "* compute the cdf as follows\n",
    "* find $X+Y=z$ over multiple values of z\n",
    "* $Z \\in [0,2)$\n",
    "* four ranges\n",
    "  * $Z < 0$, $Z \\in [0, 1)$, $Z \\in [1, 2)$, $Z \\ge 0$\n",
    "  \n",
    "* $\\mathbb{P}(Z \\lt z: z \\in [0,1)$ = Area(blue triangle) = $\\frac{1}{2} z^2$\n",
    "* $\\mathbb{P}(Z \\lt z: z \\in [1,2)$ = 1 - $\\mathbb{P}(Z \\gt z: z \\in [1,2)$ = 1 - Area(red triangle)\n",
    "= $1 - \\frac{1}{2} (2-z)^2$"
   ]
  },
  {
   "cell_type": "code",
   "metadata": {
    "code_folding": [
     3,
     4,
     11
    ]
   },
   "outputs": [],
   "source": [
    "import matplotlib.lines as pltline\n",
    "import matplotlib.patches as pltpatch\n",
    "\n",
    "def show_poly(ax, vertices, color='b', label=''):\n",
    "    ax.add_patch(pltpatch.Polygon(vertices,\n",
    "                                       closed=True,\n",
    "                                       fill=True,\n",
    "                                       color=color, label=label\n",
    "                                      )\n",
    "                     )\n",
    "\n",
    "def show_x_plus_y(z1=0.2, z2=1.4):\n",
    "    fig = plt.figure()\n",
    "    arrowprops = dict(facecolor='black', width=1)\n",
    "    \n",
    "    ax1 = fig.add_subplot(111)\n",
    "    case_1_poly = [[0, 0], [0, z1], [z1, 0]]\n",
    "    show_poly(ax1, case_1_poly, color='b', label='0 <= z < 1')\n",
    "    ax1.annotate('P(Z<='+str(z1)+')', xy=(0.0, 0.0), xytext=(-0.3, 0.2), arrowprops=arrowprops)\n",
    "    \n",
    "    case_2_poly = [[1, 1], [1, z2-1], [z2-1, 1]]\n",
    "    show_poly(ax1, case_2_poly, color='r', label='1 <= z < 2')\n",
    "    ax1.annotate('P(Z>='+str(z2)+')', xy=(1.0, 1.0), xytext=(1.1, 1.1), arrowprops=arrowprops)\n",
    "\n",
    "    plt.xlim(0, 1)\n",
    "    plt.ylim(0, 1)\n",
    "    plt.legend(loc='upper left')\n",
    "    plt.grid()\n",
    "    plt.show()\n",
    "    \n",
    "\n",
    "interact(show_x_plus_y, z1=(0,1,0.1), z2=(1,2,0.1))"
   ]
  },
  {
   "cell_type": "markdown",
   "metadata": {},
   "source": [
    "$$\n",
    "F(z) = \\mathbb{P}(Z \\le z) =\n",
    "\\begin{cases}\n",
    "0                       & z \\lt 0\\\\\n",
    "\\frac{1}{2} z^2         & z \\in [0, 1)\\\\\n",
    "1 - \\frac{1}{2} (2-z)^2 & z \\in [1, 2)\\\\\n",
    "1                       & z \\ge 2\n",
    "\\end{cases}\n",
    "$$\n",
    "\n",
    "$$\n",
    "f(z) = \\mathbb{P}(Z = z) =\n",
    "\\begin{cases}\n",
    "z     & z \\in [0, 1)\\\\\n",
    "(2-z) & z \\in [1, 2)\\\\\n",
    "0     & elsewhere\n",
    "\\end{cases}\n",
    "$$"
   ]
  },
  {
   "cell_type": "code",
   "metadata": {},
   "outputs": [],
   "source": [
    "x = np.linspace(0, 1, 100)\n",
    "y = [xx for xx in x]\n",
    "plt.plot(x, y, label='0 <= z < 1')\n",
    "\n",
    "x = np.linspace(1, 2, 100)\n",
    "y = [2-xx for xx in x]\n",
    "plt.plot(x, y, label='1 <= z < 2')\n",
    "plt.legend()\n",
    "plt.grid()\n",
    "plt.title('Z = X+Y')\n",
    "plt.xlabel('z')\n",
    "plt.ylabel('f(z)')\n",
    "plt.show()"
   ]
  },
  {
   "cell_type": "markdown",
   "metadata": {},
   "source": [
    "*******************************\n",
    "\n",
    "$X,Y \\sim U(0,1)$\n",
    "\n",
    "Z=X-Y  \n",
    "* compute the cdf as follows\n",
    "* find $X-Y=z$ over multiple values of z\n",
    "* $Z \\in (-1,1)$\n",
    "* four ranges\n",
    "  * $Z < -1$, $Z \\in (-1, 0[$, $Z \\in [0, 1)$, $Z \\ge 1$\n",
    "  \n",
    "* $\\mathbb{P}(Z \\lt z: z \\in (-1,0]$ = Area(blue triangle) = $\\frac{1}{2} (1+z)^2 $\n",
    "* $\\mathbb{P}(Z \\lt z: z \\in [0,1)$ = 1 - $\\mathbb{P}(Z \\gt z: z \\in [0,1)$ = 1 - Area(red triangle)\n",
    "= $1 - \\frac{1}{2} (1-z)^2$"
   ]
  },
  {
   "cell_type": "code",
   "metadata": {},
   "outputs": [],
   "source": [
    "import matplotlib.lines as pltline\n",
    "import matplotlib.patches as pltpatch\n",
    "\n",
    "def show_poly(ax, vertices, color='b', label=''):\n",
    "    ax.add_patch(pltpatch.Polygon(vertices,\n",
    "                                  closed=True, fill=True,\n",
    "                                  color=color, label=label))\n",
    "\n",
    "def show_x_minus_y(z1=-0.6, z2=0.4):\n",
    "    fig = plt.figure()\n",
    "    arrowprops = dict(facecolor='black', width=1)\n",
    "    \n",
    "    ax1 = fig.add_subplot(111)\n",
    "    case_1_poly = [[0, 1], [0, -z1], [1+z1, 1]]\n",
    "    show_poly(ax1, case_1_poly, color='b', label='-1 <= z < '+str(z1))\n",
    "    ax1.annotate('P(Z<='+str(z1)+')', xy=(0.0, 0.9), xytext=(-0.3, 0.8), arrowprops=arrowprops)\n",
    "    \n",
    "    case_2_poly = [[1, 0], [z2, 0], [1, 1-z2]]\n",
    "    show_poly(ax1, case_2_poly, color='r', label=str(z2) + ' <= z < 1')\n",
    "    ax1.annotate('P(Z>='+str(z2)+')', xy=(1.0, 0.0), xytext=(1.1, 0.1), arrowprops=arrowprops)\n",
    "\n",
    "    plt.xlim(0, 1)\n",
    "    plt.ylim(0, 1)\n",
    "    plt.legend(loc='lower left')\n",
    "    plt.grid()\n",
    "    plt.show()\n",
    "    \n",
    "\n",
    "interact(show_x_minus_y, z1=(-1.0,0,0.1), z2=(0,1,0.1))"
   ]
  },
  {
   "cell_type": "markdown",
   "metadata": {},
   "source": [
    "$$\n",
    "F(z) = \\mathbb{P}(Z \\le z) =\n",
    "\\begin{cases}\n",
    "0                       & z \\lt -1\\\\\n",
    "\\frac{1}{2} (1+z)^2         & z \\in (-1, 0]\\\\\n",
    "1 - \\frac{1}{2} (1-z)^2 & z \\in [0, 1)\\\\\n",
    "1                       & z \\ge 1\n",
    "\\end{cases}\n",
    "$$\n",
    "\n",
    "$$\n",
    "f(z) = \\mathbb{P}(Z = z) =\n",
    "\\begin{cases}\n",
    "1+z  & z \\in (-1, 0]\\\\\n",
    "1-z  & z \\in [0, 1)\\\\\n",
    "0    & elsewhere\n",
    "\\end{cases}\n",
    "$$"
   ]
  },
  {
   "cell_type": "code",
   "metadata": {},
   "outputs": [],
   "source": [
    "x = np.linspace(-1, 0, 100)\n",
    "y = [1+xx for xx in x]\n",
    "plt.plot(x, y, label='-1 < z <= 0')\n",
    "\n",
    "x = np.linspace(0, 1, 100)\n",
    "y = [1-xx for xx in x]\n",
    "plt.plot(x, y, label='0 <= z < 1')\n",
    "plt.legend()\n",
    "plt.grid()\n",
    "plt.title('Z = X-Y')\n",
    "plt.xlabel('z')\n",
    "plt.ylabel('f(z)')\n",
    "plt.show()"
   ]
  },
  {
   "cell_type": "markdown",
   "metadata": {},
   "source": [
    "*******************************\n",
    "\n",
    "$X,Y \\sim U(0,1)$\n",
    "\n",
    "Z=X/Y  \n",
    "* compute the cdf as follows\n",
    "* find $X-Y=z$ over multiple values of z\n",
    "* $Z \\in (-\\infty,\\infty)$\n",
    "* two ranges\n",
    "  * $Z < 1 $, $Z \\ge 1$\n",
    "  \n",
    "* $\\mathbb{P}(Z \\lt z: z \\in (-\\infty,1]$ = Area(blue triangle) = $\\frac{1}{2} (1+z)^2 $\n",
    "* $\\mathbb{P}(Z \\lt z: z \\in [0,1)$ = 1 - $\\mathbb{P}(Z \\gt z: z \\in [0,1)$ = 1 - Area(red triangle)\n",
    "= $1 - \\frac{1}{2} (1-z)^2$\n"
   ]
  },
  {
   "cell_type": "code",
   "metadata": {},
   "outputs": [],
   "source": [
    "in_pts = 1000\n",
    "xy = np.linspace(0, 1, in_pts)\n",
    "mat1 = np.zeros((in_pts, in_pts))\n",
    "for ix, xx in enumerate(xy):\n",
    "    if xx < 1e-3:\n",
    "        continue\n",
    "    for iy, yy in enumerate(xy):\n",
    "        if yy < 1e-3:\n",
    "            continue\n",
    "        result = xx/yy\n",
    "        if result > 4:\n",
    "            #mat1[iy, ix] = math.log(xx/yy)\n",
    "            mat1[iy, ix] = 1\n",
    "        if result < 0.25:\n",
    "            mat1[iy, ix] = -1\n",
    "\n",
    "plt.matshow(mat1)\n",
    "plt.gca().invert_yaxis()\n",
    "plt.colorbar()\n",
    "plt.title('Z = X/y')"
   ]
  },
  {
   "cell_type": "code",
   "metadata": {},
   "outputs": [],
   "source": [
    "import matplotlib.lines as pltline\n",
    "import matplotlib.patches as pltpatch\n",
    "\n",
    "def show_poly(ax, vertices, color='b', label=''):\n",
    "    ax.add_patch(pltpatch.Polygon(vertices,\n",
    "                                  closed=True, fill=True,\n",
    "                                  color=color, label=label))\n",
    "\n",
    "def show_x_div_y(z1=0.5, z2=2):\n",
    "    fig = plt.figure()\n",
    "    arrowprops = dict(facecolor='black', width=1)\n",
    "    \n",
    "    ax1 = fig.add_subplot(111)\n",
    "    case_1_poly = [[0, 1], [0, 0], [z1, 1]]\n",
    "    show_poly(ax1, case_1_poly, color='b', label='z < '+str(z1))\n",
    "    ax1.annotate('P(Z<='+str(z1)+')', xy=(0.0, 0.9), xytext=(-0.3, 0.8), arrowprops=arrowprops)\n",
    "    \n",
    "    case_2_poly = [[1, 0], [0, 0], [1, 1./z2]]\n",
    "    show_poly(ax1, case_2_poly, color='r', label='z >' + str(z2))\n",
    "    ax1.annotate('P(Z>='+str(z2)+')', xy=(1.0, 0.0), xytext=(1.1, 0.1), arrowprops=arrowprops)\n",
    "\n",
    "    plt.xlim(0, 1)\n",
    "    plt.ylim(0, 1)\n",
    "    plt.legend(loc='lower left')\n",
    "    plt.grid()\n",
    "    plt.show()\n",
    "    \n",
    "\n",
    "interact(show_x_div_y, z1=(0.0001,1,0.2), z2=(1,10,0.1))"
   ]
  },
  {
   "cell_type": "markdown",
   "metadata": {},
   "source": [
    "* $\\mathbb{P}(Z \\lt z: z \\lt 1$ = Area(blue triangle) = $\\frac{z}{2} $\n",
    "* $\\mathbb{P}(Z \\lt z: z \\in [0,1)$ = 1 - $\\mathbb{P}(Z \\gt z: z \\in [0,1)$ = 1 - Area(red triangle)\n",
    "= $1 - \\frac{1}{z}$"
   ]
  },
  {
   "cell_type": "markdown",
   "metadata": {},
   "source": [
    "$$\n",
    "F(z) = \\mathbb{P}(Z \\le z) =\n",
    "\\begin{cases}\n",
    "\\frac{z}{2}      & z < 1.0 \\\\\n",
    "1 - \\frac{1}{2z}  & z \\ge 1\n",
    "\\end{cases}\n",
    "$$\n",
    "\n",
    "$$\n",
    "f(z) = \\mathbb{P}(Z = z) =\n",
    "\\begin{cases}\n",
    "\\frac{1}{2}    & z < 1.0 \\\\\n",
    "\\frac{1}{2z^2}  & z \\ge 1\n",
    "\\end{cases}\n",
    "$$"
   ]
  },
  {
   "cell_type": "markdown",
   "metadata": {},
   "source": [
    "*********************************\n",
    "$X_1, \\cdots, X_n \\sim Exp(\\beta)$\n",
    "$Y = max(X_1, \\cdots, X_n)$  \n",
    "$Y \\le y \\rightarrow \\forall X_i \\le y$  \n",
    "$$\n",
    "\\begin{align}\n",
    "F(y) &= \\mathbb{P}(Y \\le y)\\\\\n",
    "     &= \\prod_{i=1}^n Exp(X_i \\le y)\\\\\n",
    "     &= (1 - e^{-\\beta y})^n\n",
    "\\end{align}\n",
    "$$\n",
    "\n",
    "$f(y) = n (1 - e^{-\\beta y})^{n-1} (-e^{-\\beta y}) (-\\beta) = n \\beta e^{-\\beta y} (1 - e^{-\\beta y})^{n-1}$"
   ]
  },
  {
   "cell_type": "markdown",
   "metadata": {},
   "source": [
    "# References\n",
    "\n",
    "[<a id=\"cit-Wasserman2010\" href=\"#call-Wasserman2010\">Wasserman2010</a>] !! _This reference was not found in biblio.bib _ !!\n",
    "\n"
   ]
  }
 ],
 "metadata": {
  "hide_input": false,
  "kernelspec": {
   "display_name": "Python 3",
   "language": "python",
   "name": "python3"
  },
  "language_info": {
   "codemirror_mode": {
    "name": "ipython",
    "version": 3
   },
   "file_extension": ".py",
   "mimetype": "text/x-python",
   "name": "python",
   "nbconvert_exporter": "python",
   "pygments_lexer": "ipython3"
  },
  "latex_envs": {
   "bibliofile": "biblio.bib",
   "cite_by": "key",
   "current_citInitial": 1,
   "eqLabelWithNumbers": true,
   "eqNumInitial": 0
  },
  "nav_menu": {},
  "toc": {
   "navigate_menu": true,
   "number_sections": true,
   "sideBar": false,
   "threshold": 6,
   "toc_cell": false,
   "toc_section_display": "block",
   "toc_window_display": true
  },
  "toc_position": {
   "height": "317px",
   "left": "1633.8px",
   "right": "20px",
   "top": "120px",
   "width": "272px"
  }
 },
 "nbformat": 4,
 "nbformat_minor": 0
}
