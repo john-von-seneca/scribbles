{
 "cells": [
  {
   "cell_type": "code",
   "metadata": {},
   "outputs": [],
   "source": [
    "import math\n",
    "import scipy as sp\n",
    "import numpy as np\n",
    "import matplotlib.pyplot as plt\n",
    "%matplotlib inline\n",
    "\n",
    "# required for interactive plotting\n",
    "from __future__ import print_function\n",
    "from ipywidgets import interact, interactive, fixed\n",
    "import ipywidgets as widgets\n",
    "import numpy.polynomial as np_poly"
   ]
  },
  {
   "cell_type": "code",
   "metadata": {},
   "outputs": [],
   "source": [
    "from scipy.stats import rv_continuous as rvc"
   ]
  },
  {
   "cell_type": "code",
   "metadata": {},
   "outputs": [],
   "source": [
    "# exponential distribution\n",
    "\n",
    "# required for interactive plotting\n",
    "from __future__ import print_function\n",
    "from ipywidgets import interact, interactive, fixed\n",
    "import ipywidgets as widgets\n",
    "import numpy.polynomial as np_poly\n",
    "\n",
    "def get_exponential(beta=1, x=np.linspace(0, 20, 100)):\n",
    "    beta = 1 if beta == 0 else beta\n",
    "    return [math.e**(-xx/beta)/beta for xx in x]\n",
    "\n",
    "def show_exponential(beta):\n",
    "    x = np.linspace(0, 20, 100)\n",
    "    y = get_exponential(beta, x)\n",
    "    plt.plot(x,y)\n",
    "    plt.show()\n",
    "    \n",
    "# valid_range = list(range(-10,10))\n",
    "# valid_range.remove(0)\n",
    "# interact(show_exponential, beta=(-10, 10))\n",
    "\n",
    "x = np.linspace(0, 20, 100)\n",
    "for beta in range(5,10):\n",
    "    y = get_exponential(beta, x)\n",
    "    plt.plot(x, y, label='beta='+str(beta))\n",
    "    \n",
    "plt.legend()\n",
    "plt.show()\n"
   ]
  }
 ],
 "metadata": {
  "hide_input": true,
  "kernelspec": {
   "display_name": "Python 3",
   "language": "python3",
   "name": "python3"
  },
  "language_info": {
   "codemirror_mode": {
    "name": "ipython",
    "version": 3
   },
   "file_extension": ".py",
   "mimetype": "text/x-python",
   "name": "python",
   "nbconvert_exporter": "python",
   "pygments_lexer": "ipython3"
  },
  "latex_envs": {
   "bibliofile": "biblio.bib",
   "cite_by": "apalike",
   "current_citInitial": 1,
   "eqLabelWithNumbers": true,
   "eqNumInitial": 0
  }
 },
 "nbformat": 4,
 "nbformat_minor": 0
}
