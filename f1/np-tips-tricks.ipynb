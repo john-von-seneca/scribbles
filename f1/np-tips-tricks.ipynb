{
 "cells": [
  {
   "cell_type": "code",
   "metadata": {},
   "outputs": [],
   "source": [
    "import numpy as np\n",
    "import matplotlib.pyplot as plt\n",
    "%matplotlib inline"
   ]
  },
  {
   "cell_type": "markdown",
   "metadata": {},
   "source": [
    " The transpose is a view\n",
    "As a result, a matrix cannot be made symmetric in-place:"
   ]
  },
  {
   "cell_type": "code",
   "metadata": {},
   "outputs": [],
   "source": [
    "n=100\n",
    "a = np.ones((n,n))\n",
    "print(a)\n",
    "a += a.T\n",
    "print(np.histogram(a,[1,2,3,4,5,6,7]))"
   ]
  },
  {
   "cell_type": "markdown",
   "metadata": {},
   "source": [
    "Array multiplication is not matrix multiplication"
   ]
  },
  {
   "cell_type": "code",
   "metadata": {},
   "outputs": [],
   "source": [
    "c = np.ones((3, 3))\n",
    "print(c*c)"
   ]
  },
  {
   "cell_type": "markdown",
   "metadata": {},
   "source": [
    "This is matrix multiplication, using dot"
   ]
  },
  {
   "cell_type": "code",
   "metadata": {},
   "outputs": [],
   "source": [
    "print(c.dot(c))"
   ]
  },
  {
   "cell_type": "markdown",
   "metadata": {},
   "source": [
    "Comparison operations"
   ]
  },
  {
   "cell_type": "code",
   "metadata": {},
   "outputs": [],
   "source": [
    "a = np.array([1, 2, 3, 4])\n",
    "b = np.array([4, 2, 2, 4])\n",
    "print(a==b)\n",
    "print(a>b)\n"
   ]
  },
  {
   "cell_type": "markdown",
   "metadata": {},
   "source": [
    "Logical operations"
   ]
  },
  {
   "cell_type": "code",
   "metadata": {},
   "outputs": [],
   "source": [
    "a = np.array([1, 1, 0, 0], dtype=bool)\n",
    "b = np.array([1, 0, 1, 0], dtype=bool)\n",
    "print(np.logical_or(a, b))\n",
    "print(np.logical_and(a, b))"
   ]
  },
  {
   "cell_type": "markdown",
   "metadata": {},
   "source": [
    "Transposition"
   ]
  },
  {
   "cell_type": "code",
   "metadata": {},
   "outputs": [],
   "source": [
    "a = np.triu(np.ones((3, 3)), 1)\n",
    "print(a)\n",
    "print(a.T)"
   ]
  },
  {
   "cell_type": "markdown",
   "metadata": {},
   "source": [
    "Sum by rows, cols"
   ]
  },
  {
   "cell_type": "code",
   "metadata": {},
   "outputs": [],
   "source": [
    "x = np.array([[1, 1], [2, 2]])\n",
    "print(x)\n",
    "print('axis=0 ',x.sum(axis=0))\n",
    "print('axis=1 ',x.sum(axis=1))"
   ]
  },
  {
   "cell_type": "code",
   "metadata": {},
   "outputs": [],
   "source": [
    "x = np.random.rand(2, 2, 2)*20\n",
    "print(x)\n",
    "print('axis=0',x.sum(axis=0))\n",
    "print('axis=1',x.sum(axis=1))\n",
    "print('axis=2',x.sum(axis=2))\n"
   ]
  },
  {
   "cell_type": "markdown",
   "metadata": {},
   "source": [
    "sth"
   ]
  },
  {
   "cell_type": "code",
   "metadata": {},
   "outputs": [],
   "source": [
    "a = np.arange(0, 40, 10)\n",
    "print('a',a.shape)\n",
    "print(a)\n",
    "a = a[:, np.newaxis]\n",
    "print('a',a.shape)\n",
    "print(a)\n",
    "b = np.array([0, 1, 2])\n",
    "print('b',b.shape)\n",
    "print(b)\n",
    "c = b+a\n",
    "print('c',c.shape)\n",
    "print(c)"
   ]
  },
  {
   "cell_type": "code",
   "metadata": {},
   "outputs": [],
   "source": [
    "a = np.ones((4, 5))\n",
    "a[0] = 3\n",
    "print(a)"
   ]
  },
  {
   "cell_type": "markdown",
   "metadata": {},
   "source": [
    "if we want to compute the distance from the origin of points on a 10x10 grid, we can do"
   ]
  },
  {
   "cell_type": "code",
   "metadata": {},
   "outputs": [],
   "source": [
    "x, y = np.arange(5), np.arange(5)\n",
    "distance= np.sqrt(x**2 + y[:,np.newaxis]**2)\n",
    "print(distance)"
   ]
  },
  {
   "cell_type": "code",
   "metadata": {},
   "outputs": [],
   "source": [
    "plt.pcolor(distance)\n",
    "plt.colorbar()\n",
    "plt.axis('equal')\n",
    "plt.show()"
   ]
  },
  {
   "cell_type": "markdown",
   "metadata": {},
   "source": [
    "# Grid computing"
   ]
  },
  {
   "cell_type": "code",
   "metadata": {},
   "outputs": [],
   "source": [
    "x, y = np.ogrid[0:5, 0:5]\n",
    "print('x\\n',x,'\\ny\\n',y)\n",
    "print('x: ', x.shape, ' y: ', y.shape)"
   ]
  },
  {
   "cell_type": "code",
   "metadata": {},
   "outputs": [],
   "source": [
    "x**2 + y**2"
   ]
  },
  {
   "cell_type": "code",
   "metadata": {},
   "outputs": [],
   "source": [
    "x @ y"
   ]
  },
  {
   "cell_type": "code",
   "metadata": {},
   "outputs": [],
   "source": [
    "x**2 + y**2 - 2 * x @ y"
   ]
  },
  {
   "cell_type": "code",
   "metadata": {},
   "outputs": [],
   "source": [
    "result = np.zeros((5,5))\n",
    "for ix in range(5):\n",
    "    for iy in range(5):\n",
    "        result[ix,iy] = x[ix,0]**2 + y[0,iy]**2 - 2*x[ix,0]*y[0,iy]\n",
    "print(result)"
   ]
  },
  {
   "cell_type": "code",
   "metadata": {},
   "outputs": [],
   "source": [
    "x, y = np.mgrid[0:4, 0:4]\n",
    "print('x\\n',x,'\\ny\\n',y)"
   ]
  },
  {
   "cell_type": "markdown",
   "metadata": {},
   "source": [
    "# Shape manipulation"
   ]
  },
  {
   "cell_type": "markdown",
   "metadata": {},
   "source": [
    "## Ravel\n",
    "\n",
    "Higher dimensions ravel out first"
   ]
  },
  {
   "cell_type": "code",
   "metadata": {},
   "outputs": [],
   "source": [
    "a = np.array([[1, 2, 3], [4, 5, 6]])\n",
    "print(a.ravel())\n",
    "print(a.ravel().shape)\n",
    "print(a.ravel().T.shape)\n",
    "print(a.T.ravel())"
   ]
  },
  {
   "cell_type": "markdown",
   "metadata": {},
   "source": [
    "## Reshape"
   ]
  },
  {
   "cell_type": "code",
   "metadata": {},
   "outputs": [],
   "source": [
    "print('a.shape=',a.shape)\n",
    "b = a.ravel()\n",
    "print('b\\n',b)\n",
    "print('b - reshaped\\n',b.reshape(a.shape))"
   ]
  },
  {
   "cell_type": "code",
   "metadata": {},
   "outputs": [],
   "source": [
    "a.reshape((6, -1))    # unspecified (-1) value is inferred"
   ]
  },
  {
   "cell_type": "markdown",
   "metadata": {},
   "source": [
    "Reshape may or may not return a view. Depends on what you are asking"
   ]
  },
  {
   "cell_type": "code",
   "metadata": {},
   "outputs": [],
   "source": [
    "a = np.arange(1,25).reshape((2,3,4))\n",
    "print(a)\n",
    "print(a[0,1])"
   ]
  },
  {
   "cell_type": "markdown",
   "metadata": {},
   "source": [
    "# indexing"
   ]
  },
  {
   "cell_type": "code",
   "metadata": {},
   "outputs": [],
   "source": [
    "a_indexing = np.arange(10, step=1)\n",
    "print('a: ', a_indexing)"
   ]
  },
  {
   "cell_type": "markdown",
   "metadata": {},
   "source": [
    "## filtering"
   ]
  },
  {
   "cell_type": "code",
   "metadata": {},
   "outputs": [],
   "source": [
    "print('a[a>4]: ', a_indexing[a_indexing>4])\n",
    "print('a[odd-vals]: ', a_indexing[(a_indexing % 2) == 1])"
   ]
  },
  {
   "cell_type": "markdown",
   "metadata": {},
   "source": [
    "## removing dudes"
   ]
  },
  {
   "cell_type": "code",
   "metadata": {},
   "outputs": [],
   "source": [
    "print('a[even-vals]: ', a_indexing[~((a_indexing % 2) == 1)])"
   ]
  },
  {
   "cell_type": "markdown",
   "metadata": {},
   "source": [
    "# Broadcasting"
   ]
  },
  {
   "cell_type": "markdown",
   "metadata": {},
   "source": [
    "## Like fire, be careful"
   ]
  },
  {
   "cell_type": "code",
   "metadata": {},
   "outputs": [],
   "source": [
    "a = np.array([11,12]).reshape(-1,1)\n",
    "b = np.array([1,2]).reshape(1,-1)\n",
    "print('a\\n', a)\n",
    "print('b\\n', b)\n",
    "print('a-b\\n', a-b)\n",
    "print('a+b\\n', a+b)\n",
    "b = b.reshape(-1,1)\n",
    "print('a-b\\n', a-b)\n",
    "print('a^T: ',a.T)"
   ]
  },
  {
   "cell_type": "code",
   "metadata": {},
   "outputs": [],
   "source": [
    "a = np.array([[11,12],[13,14]]).reshape(2,-1)\n",
    "b = np.array([1,2]).reshape(1,-1)\n",
    "print('a\\n', a)\n",
    "print('b\\n', b)\n",
    "print('a-b\\n', a-b)"
   ]
  },
  {
   "cell_type": "code",
   "metadata": {},
   "outputs": [],
   "source": [
    "a = np.array([[1,2,3],[4,5,6]])\n",
    "print('a:\\n',a)\n",
    "print('a*a:\\n',a*a)\n",
    "print('np.sum(a*a,1)\\n',np.sum(a*a,1).reshape(-1,1))"
   ]
  },
  {
   "cell_type": "markdown",
   "metadata": {},
   "source": [
    "# Hstack and Vstack"
   ]
  },
  {
   "cell_type": "code",
   "metadata": {},
   "outputs": [],
   "source": [
    "x = np.array([1,2,3,4]).reshape(-1,1)\n",
    "y = np.array([10,20,30,40]).reshape(-1,1)\n",
    "print('hstack\\n',np.hstack([x,y]))\n",
    "print('vstack\\n',np.vstack([x.T,y.T]))\n"
   ]
  },
  {
   "cell_type": "markdown",
   "metadata": {},
   "source": [
    "# Iterate"
   ]
  },
  {
   "cell_type": "code",
   "metadata": {},
   "outputs": [],
   "source": [
    "x = np.array([1,2,3,4]).reshape(-1,1)\n",
    "y = np.array([10,20,30,40]).reshape(-1,1)\n",
    "z = np.hstack([x, y])\n",
    "[print(zz.shape) for zz in z]"
   ]
  },
  {
   "cell_type": "markdown",
   "metadata": {},
   "source": [
    "# Pairwise distances"
   ]
  },
  {
   "cell_type": "code",
   "metadata": {},
   "outputs": [],
   "source": [
    "from scipy.spatial.distance import pdist, squareform"
   ]
  },
  {
   "cell_type": "code",
   "metadata": {},
   "outputs": [],
   "source": [
    "# this is an NxD matrix, where N is number of items and D its dimensionalites\n",
    "X = np.array([[11,12],[13,14]]).reshape(-1,2)\n",
    "sigma = 2\n",
    "print('X\\n',X)\n",
    "pairwise_dists = squareform(pdist(X, 'euclidean'))\n",
    "K = np.exp(-pairwise_dists ** 2 / sigma ** 2)\n",
    "#print('K\\n',K)\n",
    "\n",
    "u, s, v = np.linalg.svd(X)\n",
    "print('s', s)\n",
    "print('u\\n', u, '\\n')\n",
    "print('v\\n', v, '\\n')\n",
    "print(u @ np.diag(s) @ v.T)\n",
    "L = u @ np.diag(np.sqrt(s))\n",
    "print(L @ L.T)"
   ]
  },
  {
   "cell_type": "markdown",
   "metadata": {},
   "source": [
    "# Argsort"
   ]
  },
  {
   "cell_type": "code",
   "metadata": {},
   "outputs": [],
   "source": [
    "x = np.array([3, 1, 2])\n",
    "print('op of argsort: ', np.argsort(x), x[np.argsort(x)])"
   ]
  },
  {
   "cell_type": "code",
   "metadata": {},
   "outputs": [],
   "source": [
    "x = np.array([[0,3],[2,2]])\n",
    "ixs = np.argsort(x, axis=0)\n",
    "print(ixs)\n",
    "x[ixs]"
   ]
  },
  {
   "cell_type": "code",
   "metadata": {},
   "outputs": [],
   "source": []
  },
  {
   "cell_type": "markdown",
   "metadata": {},
   "source": [
    "# Config"
   ]
  },
  {
   "cell_type": "code",
   "metadata": {},
   "outputs": [],
   "source": [
    "np.__config__.show()"
   ]
  }
 ],
 "metadata": {
  "hide_input": false,
  "kernelspec": {
   "display_name": "Python 3",
   "language": "python",
   "name": "python3"
  },
  "language_info": {
   "codemirror_mode": {
    "name": "ipython",
    "version": 3
   },
   "file_extension": ".py",
   "mimetype": "text/x-python",
   "name": "python",
   "nbconvert_exporter": "python",
   "pygments_lexer": "ipython3"
  },
  "latex_envs": {
   "bibliofile": "biblio.bib",
   "cite_by": "apalike",
   "current_citInitial": 1,
   "eqLabelWithNumbers": true,
   "eqNumInitial": 0
  },
  "nav_menu": {},
  "toc": {
   "navigate_menu": true,
   "number_sections": true,
   "sideBar": false,
   "threshold": 6,
   "toc_cell": false,
   "toc_section_display": "block",
   "toc_window_display": true
  }
 },
 "nbformat": 4,
 "nbformat_minor": 0
}
