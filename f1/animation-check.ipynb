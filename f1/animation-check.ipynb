{
 "cells": [
  {
   "cell_type": "code",
   "metadata": {},
   "outputs": [],
   "source": [
    "from JSAnimation import examples\n",
    "examples.basic_animation()"
   ]
  },
  {
   "cell_type": "code",
   "metadata": {},
   "outputs": [],
   "source": [
    "?animation.FuncAnimation"
   ]
  },
  {
   "cell_type": "markdown",
   "metadata": {},
   "source": [
    "# Steps for animating plots"
   ]
  },
  {
   "cell_type": "markdown",
   "metadata": {},
   "source": [
    "## import \n",
    "\n",
    "import the following:\n",
    "```python\n",
    "import matplotlib.pyplot as plt\n",
    "from matplotlib import animation\n",
    "from JSAnimation import IPython_display\n",
    "import numpy as np\n",
    "```"
   ]
  },
  {
   "cell_type": "markdown",
   "metadata": {},
   "source": [
    "## get the handles\n",
    "\n",
    "get the axes handles\n",
    "```python\n",
    "fig = plt.figure()\n",
    "ax = plt.axes(xlim=(0, 10), ylim=(-2, 2))\n",
    "line, = ax.plot([], [], lw=2)\n",
    "```\n",
    "\n",
    "in case you wanna show a matrix, use\n",
    "```python\n",
    "fig = plt.figure()\n",
    "ax = plt.axes()\n",
    "mat1 = ax.matshow(X, cmap=pl.cm.Paired, vmax=5.)\n",
    "```\n",
    "\n",
    "the colormap, vmax settings will be retained throughout"
   ]
  },
  {
   "cell_type": "markdown",
   "metadata": {},
   "source": [
    "## init function\n",
    "\n",
    "define an init function which starts the loop. this is useful if you wanna loop the animation\n",
    "```\n",
    "def init():\n",
    "    line.set_data([], [])\n",
    "    return line,\n",
    "```\n",
    "\n",
    "in case of mat\n",
    "```python\n",
    "def init():\n",
    "    global X_0\n",
    "    mat1.set_data(np.abs(X))\n",
    "    X_0 = X.copy()\n",
    "    return mat1,\n",
    "```"
   ]
  },
  {
   "cell_type": "markdown",
   "metadata": {},
   "source": [
    "## animation function\n",
    "\n",
    "this takes an index \"ix\" which is the frame number of the animation\n",
    "```python\n",
    "def animate(ix):\n",
    "    # compute x, y\n",
    "    line.set_data(x, y)\n",
    "    return line,\n",
    "```\n",
    "\n",
    "in case of mat\n",
    "```python\n",
    "def animate(i):\n",
    "    global X_0\n",
    "    # compute X_0\n",
    "    mat1.set_data(np.abs(X_0))\n",
    "    return mat1,\n",
    "\n",
    "```\n"
   ]
  },
  {
   "cell_type": "markdown",
   "metadata": {},
   "source": [
    "## finally\n",
    "\n",
    "```python\n",
    "animation.FuncAnimation(fig, animate, init_func=init,\n",
    "                        frames=100, interval=30)\n",
    "```\n",
    "\n",
    "* *interval*: no. of milliseconds between frames\n",
    "* *frames*: number of times to call the function \"animate\"\n"
   ]
  },
  {
   "cell_type": "code",
   "metadata": {},
   "outputs": [],
   "source": [
    "\n",
    "import matplotlib.pyplot as plt\n",
    "from matplotlib import animation\n",
    "from JSAnimation import IPython_display\n",
    "import numpy as np\n",
    "\n",
    "fig = plt.figure()\n",
    "ax = plt.axes(xlim=(0, 10), ylim=(-2, 2))\n",
    "line, = ax.plot([], [], lw=2)\n",
    "\n",
    "def init():\n",
    "    line.set_data([], [])\n",
    "    return line,\n",
    "\n",
    "def animate(i):\n",
    "    x = np.linspace(0, 10, 1000)\n",
    "    y = np.cos(i * 0.02 * np.pi) * np.sin(x - i * 0.02 * np.pi)\n",
    "    line.set_data(x, y)\n",
    "    return line,\n",
    "\n",
    "animation.FuncAnimation(fig, animate, init_func=init,\n",
    "                        frames=100, interval=30)"
   ]
  }
 ],
 "metadata": {
  "hide_input": true,
  "kernelspec": {
   "display_name": "Python 3",
   "language": "python3",
   "name": "python3"
  },
  "language_info": {
   "codemirror_mode": {
    "name": "ipython",
    "version": 3
   },
   "file_extension": ".py",
   "mimetype": "text/x-python",
   "name": "python",
   "nbconvert_exporter": "python",
   "pygments_lexer": "ipython3"
  },
  "latex_envs": {
   "bibliofile": "biblio.bib",
   "cite_by": "apalike",
   "current_citInitial": 1,
   "eqLabelWithNumbers": true,
   "eqNumInitial": 0
  }
 },
 "nbformat": 4,
 "nbformat_minor": 0
}
