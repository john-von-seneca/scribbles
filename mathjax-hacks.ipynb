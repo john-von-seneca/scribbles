{
 "cells": [
  {
   "cell_type": "markdown",
   "metadata": {},
   "source": [
    "# Table of Contents\n",
    "* [operators](#operators)\n",
    "* [Greek and Hebrew letters](#Greek-and-Hebrew-letters)\n",
    "* [Relations](#Relations)\n",
    "* [Arrows](#Arrows)\n"
   ]
  },
  {
   "cell_type": "markdown",
   "metadata": {},
   "source": [
    "Align and array\n",
    "================\n",
    "\n",
    "Align is little arbitrary when it comes to alignment. The $3^{rd}$ column alignment is right aligned, for whatever reason.\n",
    "\n",
    "\\begin{align}\n",
    "\\sigma(X, \\mathbb{E}(Y ~|~ X))\n",
    "&= \\mathbb{E}\\bigl[X ~ \\mathbb{E}(Y ~|~ X)\\bigr]\n",
    "& - \\mathbb{E}[X] ~ \\mathbb{E}\\bigl[\\mathbb{E}(Y ~|~ X))\\bigr] \\hspace{1pt}\n",
    "&  \\text{ deftn. of covariance} \\\\\n",
    "&= \\mathbb{E}[XY]\n",
    "& - \\mathbb{E}[X] ~ \\mathbb{E}\\bigl[\\mathbb{E}(Y ~|~ X))\\bigr] \\hspace{1pt}\n",
    "&\\text{ (fundamental property)}\\\\\n",
    "&= \\mathbb{E}[XY]\n",
    "& - \\mathbb{E}[X] ~ \\mathbb{E}[Y]\n",
    "&\\text{ (Equal means property)} \\\\\n",
    "&= \\sigma(X, Y) & & \n",
    "\\end{align}\n",
    "\n",
    "Instead, use the array environment which is super cool and you can specify the alignment\n",
    "\\begin{array}{lll|r}\n",
    "\\sigma(X, \\mathbb{E}(Y ~|~ X))\n",
    "&= \\mathbb{E}\\bigl[X ~ \\mathbb{E}(Y ~|~ X)\\bigr]\n",
    "& - \\mathbb{E}[X] ~ \\mathbb{E}\\bigl[\\mathbb{E}(Y ~|~ X))\\bigr] \\hspace{1pt}\n",
    "&  \\text{ deftn. of covariance} \\\\\n",
    "&= \\mathbb{E}[XY]\n",
    "& - \\mathbb{E}[X] ~ \\mathbb{E}\\bigl[\\mathbb{E}(Y ~|~ X))\\bigr] \\hspace{1pt}\n",
    "&\\text{ (fundamental property)}\\\\\n",
    "&= \\mathbb{E}[XY]\n",
    "& - \\mathbb{E}[X] ~ \\mathbb{E}[Y]\n",
    "&\\text{ (Equal means property)} \\\\\n",
    "&= \\sigma(X, Y) & & \n",
    "\\end{array}"
   ]
  },
  {
   "cell_type": "markdown",
   "metadata": {},
   "source": [
    "vertical bar\n",
    "===============\n",
    "\n",
    "The | symbol has the wrong spacing when it is used as a divider, for example in set comprehensions. Use \\mid instead:\n",
    "\n",
    "$$\n",
    "\\begin{array}{cc}\n",
    "\\mathrm{Bad} & \\mathrm{Better} \\\\\n",
    "\\hline \\\\\n",
    "\\{x|x^2\\in\\Bbb Z\\} & \\{x\\mid x^2\\in\\Bbb Z\\} \\\\\n",
    "\\end{array}\n",
    "$$\n",
    "\n",
    "Better yet, use \\middle, which adjusts its height\n",
    "\n",
    "$\\left\\{x \\mid  \\frac{x^2}{2} \\in \\mathbb{Z}\\right\\}$  \n",
    "vs.  \n",
    "$\\left\\{x \\middle | \\frac{x^2}{2} \\in \\mathbb{Z}\\right\\}$  \n",
    "or fucking use \\biggm which becomes really huge.  \n",
    "$\\left\\{x \\biggm | \\frac{x^2}{2} \\in \\mathbb{Z}\\right\\}$ "
   ]
  },
  {
   "cell_type": "markdown",
   "metadata": {},
   "source": [
    "big brackets\n",
    "==============\n",
    "\n",
    "use \\bigl[ and \\bigr] if you want the brackets to be big, no matter what\n",
    "\n",
    "$$\n",
    "\\begin{array}{lr}\n",
    "\\mathbb{E} [ \\mathbb{E}(Y \\mid X) ] & \\text{normal brackets}\\\\\n",
    "\\mathbb{E} \\bigl[ \\mathbb{E}(Y \\mid X) \\bigr] &\\text{using big\\{lr\\}}\n",
    "\\end{array}\n",
    "$$"
   ]
  },
  {
   "cell_type": "markdown",
   "metadata": {},
   "source": [
    "multi integrals\n",
    "=================\n",
    "\n",
    "For double and triple integrals, don't use \\int\\int or \\int\\int\\int. Instead use the special forms \\iint and \\iiint:\n",
    "\n",
    "\\begin{array}{cc}\n",
    "\\mathrm{Bad} & \\mathrm{Better} \\\\\n",
    "\\hline \\\\\n",
    "\\int\\int_S f(x)\\,dy\\,dx & \\iint_S f(x)\\,dy\\,dx \\\\\n",
    "\\int\\int\\int_V f(x)\\,dz\\,dy\\,dx & \\iiint_V f(x)\\,dz\\,dy\\,dx\n",
    "\\end{array}"
   ]
  },
  {
   "cell_type": "markdown",
   "metadata": {},
   "source": [
    "arrow text\n",
    "==========\n",
    "\n",
    "\\xrightarrow[world]{hello}\n",
    "gives\n",
    "$\\xrightarrow[world]{hello}$"
   ]
  },
  {
   "cell_type": "markdown",
   "metadata": {},
   "source": [
    "space between differentials\n",
    "============================\n",
    "\n",
    "\n",
    "Use \\, to insert a thin space before differentials; without this $\\TeX$ will mash them together:\n",
    "\n",
    "\\begin{array}{cc}\n",
    "\\mathrm{Bad} & \\mathrm{Better} \\\\\n",
    "\\hline \\\\\n",
    "\\iiint_V f(x)dz dy dx & \\iiint_V f(x)\\,dz\\,dy\\,dx\n",
    "\\end{array}"
   ]
  },
  {
   "cell_type": "markdown",
   "metadata": {},
   "source": [
    "colors\n",
    "===========\n",
    "Using colors  \n",
    "\n",
    "\\begin{array}{|rc|}\n",
    "\\hline\n",
    "\\verb+\\color{black}{text}+ & \\color{black}{text} \\\\\n",
    "\\verb+\\color{gray}{text}+ & \\color{gray}{text} \\\\\n",
    "\\verb+\\color{silver}{text}+ & \\color{silver}{text} \\\\\n",
    "\\verb+\\color{white}{text}+ & \\color{white}{text} \\\\\n",
    "\\hline\n",
    "\\verb+\\color{maroon}{text}+ & \\color{maroon}{text} \\\\\n",
    "\\verb+\\color{red}{text}+ & \\color{red}{text} \\\\\n",
    "\\verb+\\color{yellow}{text}+ & \\color{yellow}{text} \\\\\n",
    "\\verb+\\color{lime}{text}+ & \\color{lime}{text} \\\\\n",
    "\\verb+\\color{olive}{text}+ & \\color{olive}{text} \\\\\n",
    "\\verb+\\color{green}{text}+ & \\color{green}{text} \\\\\n",
    "\\verb+\\color{teal}{text}+ & \\color{teal}{text} \\\\\n",
    "\\verb+\\color{aqua}{text}+ & \\color{aqua}{text} \\\\\n",
    "\\verb+\\color{blue}{text}+ & \\color{blue}{text} \\\\\n",
    "\\verb+\\color{navy}{text}+ & \\color{navy}{text} \\\\\n",
    "\\verb+\\color{purple}{text}+ & \\color{purple}{text} \\\\ \n",
    "\\verb+\\color{fuchsia}{text}+ & \\color{magenta}{text} \\\\\n",
    "\\hline\n",
    "\\end{array}\n",
    "\n",
    "can be used in comments for derivations in  proofs  \n",
    "\\begin{array}{lllr}\n",
    "\\sigma(X, \\mathbb{E}(Y ~|~ X))\n",
    "&= \\mathbb{E}\\bigl[X ~ \\mathbb{E}(Y ~|~ X)\\bigr]\n",
    "& - \\mathbb{E}[X] ~ \\mathbb{E}\\bigl[\\mathbb{E}(Y ~|~ X))\\bigr] \\hspace{1pt}\n",
    "&  \\color{gray}{\\text{ deftn. of covariance}} \\\\\n",
    "&= \\mathbb{E}[XY]\n",
    "& - \\mathbb{E}[X] ~ \\mathbb{E}\\bigl[\\mathbb{E}(Y ~|~ X))\\bigr] \\hspace{1pt}\n",
    "&  \\color{gray}{\\text{ (fundamental property)}}\\\\\n",
    "&= \\mathbb{E}[XY]\n",
    "& - \\mathbb{E}[X] ~ \\mathbb{E}[Y]\n",
    "&  \\color{gray}{\\text{ (Equal means property)}} \\\\\n",
    "&= \\sigma(X, Y) & & \n",
    "\\end{array}"
   ]
  },
  {
   "cell_type": "markdown",
   "metadata": {},
   "source": [
    "variables\n",
    "==========\n",
    "I would like to remark that it is possible to define LaTeX commands as you do in your TeX files. I felt so happy when I first discovered it! It's enough to insert something like\n",
    "\n",
    "$ \\newcommand{\\SES}[3]{ 0 \\to #1 \\to #2 \\to #3 \\to 0 } $\n",
    " at the top of your post (remember the dollars!). Then you can just use your commands as you are used to do: in my example typing  $$ \\SES{A}{B}{C} $$ will produce the following:\n",
    "\n",
    "0→A→B→C→0\n",
    "0→A→B→C→0\n",
    "It's also possible to use plain \\def:\n",
    "```\n",
    "\\def\\ses#1#2#3{0 \\to #1 \\to #2 \\to #3 \\to 0}\n",
    "```"
   ]
  },
  {
   "cell_type": "markdown",
   "metadata": {},
   "source": [
    "and then \"\\$\\SES{A}{B}{C}\\$\" will produce the same output."
   ]
  },
  {
   "cell_type": "markdown",
   "metadata": {},
   "source": [
    "big fractions\n",
    "=============\n",
    "use \\dfrac instead of \\frac\n",
    "\\begin{array}{llr}\n",
    "\\text{\\frac} &  \\text{\\dfrac}\\\\\n",
    "\\frac{1}{2} & \\dfrac{1}{2} \\\\\n",
    "\\end{array}"
   ]
  },
  {
   "cell_type": "markdown",
   "metadata": {},
   "source": [
    "Bold Versions\n",
    "=============\n",
    "\n",
    "\\begin{array}{ccc}\n",
    "\\text{normal } & \\text{pmb} & \\text{boldsymbol} \\\\\n",
    "\\mu & \\pmb{\\mu} & \\boldsymbol{\\mu}\\\\\n",
    "\\infty & \\pmb{\\infty} & \\boldsymbol{\\infty}\\\\\n",
    "\\sim & \\pmb{\\sim} & \\boldsymbol{\\sim}\\\\\n",
    "+ & \\pmb{+} & \\boldsymbol{+}\\\\\n",
    "\\end{array}"
   ]
  },
  {
   "cell_type": "markdown",
   "metadata": {},
   "source": [
    "# operators"
   ]
  },
  {
   "cell_type": "markdown",
   "metadata": {},
   "source": [
    "\\begin{array}{rlrlrlrl}\n",
    "\\text{\\pm} & \\pm & \\text{\\mp} & \\mp & \\text{\\times} & \\times\\\\ \n",
    "\\text{\\div} & \\div & \\text{\\cdot} & \\cdot & \\text{\\ast} & \\ast\\\\ \n",
    "\\text{\\star} & \\star & \\text{\\dagger} & \\dagger & \\text{\\ddagger} & \\ddagger\\\\ \n",
    "\\text{\\amalg} & \\amalg & \\text{\\cap} & \\cap & \\text{\\cup} & \\cup\\\\ \n",
    "\\text{\\uplus} & \\uplus & \\text{\\sqcap} & \\sqcap & \\text{\\sqcup} & \\sqcup\\\\ \n",
    "\\text{\\vee} & \\vee & \\text{\\wedge} & \\wedge & \\text{\\oplus} & \\oplus\\\\ \n",
    "\\text{\\ominus} & \\ominus & \\text{\\otimes} & \\otimes & \\text{\\circ} & \\circ\\\\ \n",
    "\\text{\\bullet} & \\bullet & \\text{\\diamond} & \\diamond & \\text{\\lhd} & \\lhd\\\\ \n",
    "\\text{\\rhd} & \\rhd & \\text{\\unlhd} & \\unlhd & \\text{\\unrhd} & \\unrhd\\\\ \n",
    "\\text{\\oslash} & \\oslash & \\text{\\odot} & \\odot & \\text{\\bigcirc} & \\bigcirc\\\\ \n",
    "\\text{\\triangleleft} & \\triangleleft & \\text{\\Diamond} & \\Diamond & \\text{\\bigtriangleup} & \\bigtriangleup\\\\ \n",
    "\\text{\\bigtriangledown} & \\bigtriangledown & \\text{\\Box} & \\Box & \\text{\\triangleright} & \\triangleright\\\\ \n",
    "\\text{\\setminus} & \\setminus & \\text{\\wr} & \\wr & \\text{\\sqrt{x}} & \\sqrt{x}\\\\ \n",
    "\\text{x^{\\circ}} & x^{\\circ} & \\text{\\triangledown} & \\triangledown & \\text{\\sqrt[n]{x}} & \\sqrt[n]{x}\\\\ \n",
    "\\text{a^x} & a^x & \\text{a^{xyz}} & a^{xyz}\n",
    "\\end{array}"
   ]
  },
  {
   "cell_type": "markdown",
   "metadata": {},
   "source": [
    "# Greek and Hebrew letters"
   ]
  },
  {
   "cell_type": "markdown",
   "metadata": {},
   "source": [
    "$$\n",
    "\\begin{matrix}\n",
    "\\begin{matrix}\n",
    "\\alpha & \\text{\\alpha} \\\\\n",
    "\\beta & \\text{\\beta} \\\\\n",
    "\\chi & \\text{\\chi} \\\\\n",
    "\\delta & \\text{\\delta} \\\\\n",
    "\\epsilon & \\text{\\epsilon} \\\\\n",
    "\\eta & \\text{\\eta} \\\\\n",
    "\\gamma & \\text{\\gamma} \\\\\n",
    "\\iota & \\text{\\iota} \\\\\n",
    "\\end{matrix}\n",
    "\\begin{matrix}\n",
    "\\kappa & \\text{\\kappa} \\\\\n",
    "\\lambda & \\text{\\lambda} \\\\\n",
    "\\mu & \\text{\\mu} \\\\\n",
    "\\nu & \\text{\\nu} \\\\\n",
    "o & \\text{o} \\\\\n",
    "\\omega & \\text{\\omega} \\\\\n",
    "\\phi & \\text{\\phi} \\\\\n",
    "\\pi & \\text{\\pi} \\\\\n",
    "\\end{matrix}\n",
    "\\end{matrix}\n",
    "$$\n",
    "\n",
    "\n",
    "$$\n",
    "\\begin{matrix}\n",
    "\\psi & \\text{\\psi} \\\\\n",
    "\\rho & \\text{\\rho} \\\\\n",
    "\\sigma & \\text{\\sigma} \\\\\n",
    "\\tau & \\text{\\tau} \\\\\n",
    "\\theta & \\text{\\theta} \\\\\n",
    "\\upsilon & \\text{\\upsilon} \\\\\n",
    "\\xi & \\text{\\xi} \\\\\n",
    "\\zeta & \\text{\\zeta} \\\\\n",
    "\\end{matrix}\n",
    "\\begin{matrix}\n",
    "\\digamma & \\text{\\digamma} \\\\\n",
    "\\varepsilon & \\text{\\varepsilon} \\\\\n",
    "\\varkappa & \\text{\\varkappa} \\\\\n",
    "\\varphi & \\text{\\varphi} \\\\\n",
    "\\varpi & \\text{\\varpi} \\\\\n",
    "\\varrho & \\text{\\varrho} \\\\\n",
    "\\varsigma & \\text{\\varsigma} \\\\\n",
    "\\vartheta & \\text{\\vartheta} \\\\\n",
    "\\end{matrix}\n",
    "\\begin{matrix}\n",
    "\\Delta & \\text{\\Delta} \\\\\n",
    "\\Gamma & \\text{\\Gamma} \\\\\n",
    "\\Lambda & \\text{\\Lambda} \\\\\n",
    "\\Omega & \\text{\\Omega} \\\\\n",
    "\\Phi & \\text{\\Phi} \\\\\n",
    "\\Pi & \\text{\\Pi} \\\\\n",
    "\\Psi & \\text{\\Psi} \\\\\n",
    "\\Sigma & \\text{\\Sigma} \\\\\n",
    "\\end{matrix}\n",
    "\\begin{matrix}\n",
    "\\Theta & \\text{\\Theta} \\\\\n",
    "\\Upsilon & \\text{\\Upsilon} \\\\\n",
    "\\Xi & \\text{\\Xi} \\\\\n",
    "\\aleph & \\text{\\aleph} \\\\\n",
    "\\beth & \\text{\\beth} \\\\\n",
    "\\daleth & \\text{\\daleth} \\\\\n",
    "\\gimel & \\text{\\gimel} \\\\\n",
    "\\end{matrix}\n",
    "$$"
   ]
  },
  {
   "cell_type": "markdown",
   "metadata": {},
   "source": [
    "# Relations"
   ]
  },
  {
   "cell_type": "markdown",
   "metadata": {},
   "source": [
    "\\begin{array}{rlrlrl}\n",
    "\\text{\\le} & \\le & \\text{\\ge} & \\ge & \\text{\\neq} & \\neq \\\\ \n",
    "\\text{\\sim} & \\sim & \\text{\\ll} & \\ll & \\text{\\gg} & \\gg \\\\ \n",
    "\\text{\\doteq} & \\doteq & \\text{\\simeq} & \\simeq & \\text{\\subset} & \\subset \\\\ \n",
    "\\text{\\supset} & \\supset & \\text{\\approx} & \\approx & \\text{\\asymp} & \\asymp \\\\ \n",
    "\\text{\\subseteq} & \\subseteq & \\text{\\supseteq} & \\supseteq & \\text{\\cong} & \\cong \\\\ \n",
    "\\text{\\smile} & \\smile & \\text{\\sqsubset} & \\sqsubset & \\text{\\sqsupset} & \\sqsupset \\\\ \n",
    "\\text{\\equiv} & \\equiv & \\text{\\frown} & \\frown & \\text{\\sqsubseteq} & \\sqsubseteq \\\\ \n",
    "\\text{\\sqsupseteq} & \\sqsupseteq & \\text{\\propto} & \\propto & \\text{\\bowtie} & \\bowtie \\\\ \n",
    "\\text{\\in} & \\in & \\text{\\ni} & \\ni & \\text{\\prec} & \\prec \\\\ \n",
    "\\text{\\succ} & \\succ & \\text{\\vdash} & \\vdash & \\text{\\dashv} & \\dashv \\\\ \n",
    "\\text{\\preceq} & \\preceq & \\text{\\succeq} & \\succeq & \\text{\\models} & \\models \\\\ \n",
    "\\text{\\perp} & \\perp & \\text{\\parallel} & \\parallel & \\text{\\gg} & \\gg \\\\ \n",
    "\\text{\\mid} & \\mid & \\text{\\bumpeq} & \\bumpeq & \\text{\\ll} & \\ll\n",
    "\\end{array}"
   ]
  },
  {
   "cell_type": "markdown",
   "metadata": {},
   "source": [
    "\\begin{array}{rlrlrl}\n",
    "\\text{\\nmid} & \\nmid & \\text{\\nleq} & \\nleq & \\text{\\ngeq} & \\ngeq\\\\ \n",
    "\\text{\\nsim} & \\nsim & \\text{\\ncong} & \\ncong & \\text{\\nparallel} & \\nparallel\\\\ \n",
    "\\text{\\not<} & \\not< & \\text{\\not>} & \\not> & \\text{\\not=} & \\not=\\\\ \n",
    "\\text{\\not\\le} & \\not\\le & \\text{\\not\\ge} & \\not\\ge & \\text{\\not\\sim} & \\not\\sim\\\\ \n",
    "\\text{\\not \\approx} & \\not\\approx & \\text{\\not\\cong} & \\not\\cong & \\text{\\not\\equiv} & \\not\\equiv\\\\ \n",
    "\\text{\\not\\parallel} & \\not\\parallel & \\text{\\nless} & \\nless & \\text{\\ngtr} & \\ngtr\\\\ \n",
    "\\text{\\lneq} & \\lneq & \\text{\\gneq} & \\gneq & \\text{\\lnsim} & \\lnsim\\\\ \n",
    "\\text{\\lneqq} & \\lneqq & \\text{\\gneqq} & \\gneqq\\\\ \n",
    "\\end{array}"
   ]
  },
  {
   "cell_type": "markdown",
   "metadata": {},
   "source": [
    "\\begin{array}{cccc}\n",
    "\\end{array}"
   ]
  },
  {
   "cell_type": "markdown",
   "metadata": {},
   "source": [
    "# Arrows"
   ]
  },
  {
   "cell_type": "markdown",
   "metadata": {},
   "source": [
    "\\begin{array}{rlrl}\n",
    "\\text{\\gets} & \\gets & \\text{\\to} & \\to\\\\ \n",
    "\\text{\\leftarrow} & \\leftarrow & \\text{\\Leftarrow} & \\Leftarrow\\\\ \n",
    "\\text{\\rightarrow} & \\rightarrow & \\text{\\Rightarrow} & \\Rightarrow\\\\ \n",
    "\\text{\\leftrightarrow} & \\leftrightarrow & \\text{\\Leftrightarrow} & \\Leftrightarrow\\\\ \n",
    "\\text{\\mapsto} & \\mapsto & \\text{\\hookleftarrow} & \\hookleftarrow\\\\ \n",
    "\\text{\\leftharpoonup} & \\leftharpoonup & \\text{\\leftharpoondown} & \\leftharpoondown\\\\ \n",
    "\\text{\\rightleftharpoons} & \\rightleftharpoons & \\text{\\longleftarrow} & \\longleftarrow\\\\ \n",
    "\\text{\\Longleftarrow} & \\Longleftarrow & \\text{\\longrightarrow} & \\longrightarrow\\\\ \n",
    "\\text{\\Longrightarrow} & \\Longrightarrow & \\text{\\longleftrightarrow} & \\longleftrightarrow\\\\ \n",
    "\\text{\\Longleftrightarrow} & \\Longleftrightarrow & \\text{\\longmapsto} & \\longmapsto\\\\ \n",
    "\\text{\\hookrightarrow} & \\hookrightarrow & \\text{\\rightharpoonup} & \\rightharpoonup\\\\ \n",
    "\\text{\\rightharpoondown} & \\rightharpoondown & \\text{\\leadsto} & \\leadsto\\\\ \n",
    "\\text{\\uparrow} & \\uparrow & \\text{\\Uparrow} & \\Uparrow\\\\ \n",
    "\\text{\\downarrow} & \\downarrow & \\text{\\Downarrow} & \\Downarrow\\\\ \n",
    "\\text{\\updownarrow} & \\updownarrow & \\text{\\Updownarrow} & \\Updownarrow\\\\ \n",
    "\\text{\\nearrow} & \\nearrow & \\text{\\searrow} & \\searrow\\\\ \n",
    "\\text{\\swarrow} & \\swarrow & \\text{\\nwarrow} & \\nwarrow\n",
    "\\end{array}"
   ]
  },
  {
   "cell_type": "markdown",
   "metadata": {},
   "source": [
    "FUC (Frequently Used Cymbals)\n",
    "=============================\n",
    "\n",
    "\\begin{array}{llr}\n",
    "\\text{gradient} & \\text{\\nabla} & \\nabla \\\\\n",
    "\\text{proportional} & \\text{\\propto} & \\propto \\\\\n",
    "\\matrix{\\text{similar to,} \\\\ \\text{sampled from}}\n",
    "& \\text{\\sim} & \\sim \\\\\n",
    "\\text{product} & \\text{\\prod} & \\prod \\\\\n",
    "\\text{partial} & \\text{\\partial} & \\partial \\\\\n",
    "\\matrix{\n",
    " \\text{backslash} \\\\ \\text{setminus, set minus}} & \\text{\\setminus} & \\setminus \\\\\n",
    "\\end{array}"
   ]
  },
  {
   "cell_type": "markdown",
   "metadata": {},
   "source": []
  }
 ],
 "metadata": {
  "hide_input": true,
  "kernelspec": {
   "display_name": "Python 3",
   "language": "python",
   "name": "python3"
  },
  "language_info": {
   "codemirror_mode": {
    "name": "ipython",
    "version": 3
   },
   "file_extension": ".py",
   "mimetype": "text/x-python",
   "name": "python",
   "nbconvert_exporter": "python",
   "pygments_lexer": "ipython3",
   "version": "3.5.1+"
  },
  "latex_envs": {
   "bibliofile": "biblio.bib",
   "cite_by": "apalike",
   "current_citInitial": 1,
   "eqLabelWithNumbers": true,
   "eqNumInitial": 0
  },
  "toc": {
   "toc_cell": false,
   "toc_number_sections": true,
   "toc_threshold": 6,
   "toc_window_display": true
  },
  "widgets": {
   "state": {},
   "version": "1.1.0"
  }
 },
 "nbformat": 4,
 "nbformat_minor": 0
}
