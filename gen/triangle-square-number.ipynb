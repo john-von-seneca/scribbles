{
 "cells": [
  {
   "cell_type": "code",
   "metadata": {},
   "outputs": [],
   "source": [
    "import math\n",
    "from matplotlib import pyplot as plt\n",
    "%matplotlib inline"
   ]
  },
  {
   "cell_type": "markdown",
   "metadata": {},
   "source": [
    "https://youtu.be/Gh8h8MJFFdI"
   ]
  },
  {
   "cell_type": "code",
   "metadata": {},
   "outputs": [],
   "source": [
    "n = 10\n",
    "y_sqr = [x*x for x in range(n)]\n",
    "y_adj = [m*(m+1)/2 for m in range(n)]\n",
    "plt.plot(range(n), y_sqr, label='x*x')\n",
    "plt.plot(range(n), y_adj, label='m*(m+1)')\n",
    "plt.legend(loc=(1,0.5))\n",
    "plt.show()"
   ]
  },
  {
   "cell_type": "code",
   "metadata": {},
   "outputs": [],
   "source": [
    "N = 1000\n",
    "for m in range(N):\n",
    "    n = m*(m+1)/2\n",
    "    k = math.sqrt(n)\n",
    "    if(abs(k-round(k))<1e-6):\n",
    "        print(int(n), int(k), m, '{0}*{1}/2'.format(m,m+1))"
   ]
  }
 ],
 "metadata": {
  "kernelspec": {
   "display_name": "Python 3",
   "language": "python",
   "name": "python3"
  },
  "language_info": {
   "codemirror_mode": {
    "name": "ipython",
    "version": 3
   },
   "file_extension": ".py",
   "mimetype": "text/x-python",
   "name": "python",
   "nbconvert_exporter": "python",
   "pygments_lexer": "ipython3"
  },
  "nav_menu": {},
  "toc": {
   "navigate_menu": true,
   "number_sections": true,
   "sideBar": false,
   "threshold": 6,
   "toc_cell": false,
   "toc_section_display": "block",
   "toc_window_display": false
  }
 },
 "nbformat": 4,
 "nbformat_minor": 0
}
