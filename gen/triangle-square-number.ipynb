{
 "cells": [
  {
   "cell_type": "code",
   "execution_count": 9,
   "metadata": {
    "ExecuteTime": {
     "end_time": "2016-07-23T11:44:29.626276",
     "start_time": "2016-07-23T11:44:29.620796"
    },
    "collapsed": true
   },
   "outputs": [],
   "source": [
    "import math\n",
    "from matplotlib import pyplot as plt\n",
    "%matplotlib inline"
   ]
  },
  {
   "cell_type": "markdown",
   "metadata": {},
   "source": [
    "https://youtu.be/Gh8h8MJFFdI"
   ]
  },
  {
   "cell_type": "code",
   "execution_count": 8,
   "metadata": {
    "ExecuteTime": {
     "end_time": "2016-07-23T11:41:49.238899",
     "start_time": "2016-07-23T11:41:49.031192"
    },
    "collapsed": false,
    "run_control": {
     "frozen": false,
     "read_only": false
    }
   },
   "outputs": [
    {
     "data": {
      "image/png": "[encoded data removed]",
      "text/plain": [
       "<matplotlib.figure.Figure at 0x7fab10810d30>"
      ]
     },
     "metadata": {},
     "output_type": "display_data"
    }
   ],
   "source": [
    "n = 10\n",
    "y_sqr = [x*x for x in range(n)]\n",
    "y_adj = [m*(m+1)/2 for m in range(n)]\n",
    "plt.plot(range(n), y_sqr, label='x*x')\n",
    "plt.plot(range(n), y_adj, label='m*(m+1)')\n",
    "plt.legend(loc=(1,0.5))\n",
    "plt.show()"
   ]
  },
  {
   "cell_type": "code",
   "execution_count": 18,
   "metadata": {
    "ExecuteTime": {
     "end_time": "2016-07-23T11:47:20.705232",
     "start_time": "2016-07-23T11:47:20.690559"
    },
    "collapsed": false
   },
   "outputs": [
    {
     "name": "stdout",
     "output_type": "stream",
     "text": [
      "0 0 0 0*1/2\n",
      "1 1 1 1*2/2\n",
      "36 6 8 8*9/2\n",
      "1225 35 49 49*50/2\n",
      "41616 204 288 288*289/2\n"
     ]
    }
   ],
   "source": [
    "N = 1000\n",
    "for m in range(N):\n",
    "    n = m*(m+1)/2\n",
    "    k = math.sqrt(n)\n",
    "    if(abs(k-round(k))<1e-6):\n",
    "        print(int(n), int(k), m, '{0}*{1}/2'.format(m,m+1))"
   ]
  }
 ],
 "metadata": {
  "kernelspec": {
   "display_name": "Python 3",
   "language": "python",
   "name": "python3"
  },
  "language_info": {
   "codemirror_mode": {
    "name": "ipython",
    "version": 3
   },
   "file_extension": ".py",
   "mimetype": "text/x-python",
   "name": "python",
   "nbconvert_exporter": "python",
   "pygments_lexer": "ipython3",
   "version": "3.5.1+"
  },
  "nav_menu": {},
  "toc": {
   "navigate_menu": true,
   "number_sections": true,
   "sideBar": false,
   "threshold": 6,
   "toc_cell": false,
   "toc_section_display": "block",
   "toc_window_display": false
  }
 },
 "nbformat": 4,
 "nbformat_minor": 0
}
