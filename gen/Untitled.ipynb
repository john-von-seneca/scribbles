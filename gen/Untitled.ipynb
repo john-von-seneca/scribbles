{
 "cells": [
  {
   "cell_type": "code",
   "metadata": {},
   "outputs": [],
   "source": [
    "from matplotlib import pyplot as plt\n",
    "%matplotlib inline"
   ]
  },
  {
   "cell_type": "code",
   "metadata": {},
   "outputs": [],
   "source": [
    "x_first = [float(x) for x in \"10 8 25 24 23 22.8 22.5 22.2 30 29 28 27 26 25 17 24 23 22 21 14 6\".split(\" \")]\n",
    "print(x)"
   ]
  },
  {
   "cell_type": "code",
   "metadata": {},
   "outputs": [],
   "source": [
    "def yo(x, times=0):\n",
    "    result = [x[0]]\n",
    "    for ix in range(1, len(x)):\n",
    "        if x[ix] < x[ix-1]:\n",
    "            result.append(x[ix])\n",
    "    #print(result)\n",
    "    #plt.plot(result, 'o-')\n",
    "    #plt.show()\n",
    "    return [result,times] if len(result)==len(x) else yo(result, times+1)"
   ]
  },
  {
   "cell_type": "code",
   "metadata": {},
   "outputs": [],
   "source": [
    "plt.plot(x, 'o-')\n",
    "plt.show()\n",
    "print(x)\n",
    "yo(x)"
   ]
  },
  {
   "cell_type": "code",
   "metadata": {},
   "outputs": [],
   "source": [
    "x_second = [float(x) for x in \"10 8 25 24 23 22.8 22.5 22.2 30 29 28 27 26 25 22.3 24 23 20 19 14 6\".split(\" \")]\n",
    "plt.plot(x_second, 'o-')\n",
    "plt.grid()\n",
    "plt.show()\n",
    "yo(x_second)"
   ]
  },
  {
   "cell_type": "code",
   "metadata": {},
   "outputs": [],
   "source": [
    "x1 = [xx for xx in x_first]\n",
    "stack_elems = []\n",
    "killer_ix = None\n",
    "ttl_max = -1\n",
    "last_min_value = None\n",
    "for head_main in range(len(x1)):\n",
    "    curr_val = x1[head_main]\n",
    "    if(head_main==0):\n",
    "        stack_elems.append({'ix': head_main, 'ttl': -1, 'val': curr_vals})\n",
    "        last_min_value = curr_val\n",
    "        continue\n",
    "    print(head_main, curr_val, stack_elems)\n",
    "    \n",
    "    # rising edge\n",
    "    if(x1[head_main] > x1[head_main-1]):\n",
    "        if((head_main-1) == stack_elems[-1]['ix']): # to avoid duplication\n",
    "            continue\n",
    "        ttl_curr = head_main-1-stack_elems[-1]['ix']\n",
    "        stack_elems.append({'ix':head_main-1,\n",
    "                            'ttl': ttl_curr,\n",
    "                            'val': x1[head_main-1]\n",
    "                           })\n",
    "        ttl_max = max(ttl_curr, ttl_max)\n",
    "            \n",
    "    # falling edge\n",
    "    if(x1[head_main] < x1[head_main-1]):\n",
    "        # immortal node\n",
    "        if(curr_val < last_min_value):\n",
    "            stack_elems.append({'ix': head_main, 'ttl': -1, 'val': curr_val})\n",
    "            last_min_value = curr_val\n",
    "            continue\n",
    "            \n",
    "        if(curr_val < stack_elems[-1]['val']):\n",
    "            ttl_current = stack_elems[-1]['ttl']+1\n",
    "            stack_elems.append({'ix': head_main, 'ttl': ttl_current, 'val': curr_val})\n",
    "            ttl_max = max(ttl_max, ttl_current)\n",
    "\n",
    "        \n",
    "print(ttl_max)"
   ]
  },
  {
   "cell_type": "code",
   "metadata": {},
   "outputs": [],
   "source": [
    "x1 = [xx for xx in x]\n",
    "stack_elems = []\n",
    "killer_ix = None\n",
    "for head_main in range(len(x1)):\n",
    "    if(head_main==0):\n",
    "        stack_elems.append((head_main,-1))\n",
    "        continue\n",
    "        \n",
    "    # rising edge\n",
    "    if(x1[head_main] > x1[head_main-1]):\n",
    "        print(head_main, x1[head_main], stack_elems[-1])\n",
    "        if((head_main-1) != stack_elems[-1][0]): # to avoid duplication\n",
    "            stack_elems.append((head_main-1, head_main-1-stack_elems[-1][0]))\n",
    "            \n",
    "    # falling edge\n",
    "    if(x1[head_main] < x1[head_main-1]):\n",
    "        # if i am less than top of the stack\n",
    "        # which means i will be shot down by his killer,\n",
    "        # i will have one more clocktick to live\n",
    "        # if that guy is unkillable (killer_ix==-1)\n",
    "        # then i am immortal as well\n",
    "        if(stack_elems[-1][1] == -1):\n",
    "            stack_elems.append((head_main, -1))\n",
    "            time_yo = 0\n",
    "        # if i am less than the last element in the stack\n",
    "        # then his killer will kill me and i have one more clock tick\n",
    "        elif(x1[stack_elems[-1][0]] <  x1[head_main]):\n",
    "            stack_elems.append((head_main, x1[stack_elems[-1][1]]+1))\n",
    "        else:\n",
    "            time_yo += 1\n",
    "        \n",
    "print(stack_elems)       "
   ]
  }
 ],
 "metadata": {
  "hide_input": false,
  "kernelspec": {
   "display_name": "Python 3",
   "language": "python",
   "name": "python3"
  },
  "language_info": {
   "codemirror_mode": {
    "name": "ipython",
    "version": 3
   },
   "file_extension": ".py",
   "mimetype": "text/x-python",
   "name": "python",
   "nbconvert_exporter": "python",
   "pygments_lexer": "ipython3"
  },
  "latex_envs": {
   "bibliofile": "biblio.bib",
   "cite_by": "apalike",
   "current_citInitial": 1,
   "eqLabelWithNumbers": true,
   "eqNumInitial": 0
  }
 },
 "nbformat": 4,
 "nbformat_minor": 0
}
