{
 "cells": [
  {
   "cell_type": "markdown",
   "metadata": {
    "run_control": {
     "frozen": false,
     "read_only": false
    }
   },
   "source": [
    "Val vs Var  \n",
    "* Val is a value, which cannot be ressigned to sth else. like const Animal*\n",
    "  * When you define a variable with val, the variable can’t be reassigned\n",
    "  * but the object to which it refers could potentially still be changed.\n",
    "* Var is a variable, which can be raped to any extent."
   ]
  },
  {
   "cell_type": "code",
   "execution_count": 1,
   "metadata": {
    "ExecuteTime": {
     "end_time": "2017-01-05T21:16:38.355379",
     "start_time": "2017-01-05T15:46:36.555Z"
    },
    "collapsed": false,
    "run_control": {
     "frozen": false,
     "read_only": false
    }
   },
   "outputs": [
    {
     "data": {
      "text/plain": [
       "defined \u001b[32mclass\u001b[39m \u001b[36mA\u001b[39m\n",
       "defined \u001b[32mclass\u001b[39m \u001b[36mB\u001b[39m\n",
       "\u001b[36mB\u001b[39m: \u001b[32mB\u001b[39m = $sess.cmd0Wrapper$Helper$B@55c0e508"
      ]
     },
     "execution_count": 1,
     "metadata": {},
     "output_type": "execute_result"
    }
   ],
   "source": [
    "class A(n : Int) {\n",
    "    var value = n\n",
    "}\n",
    "\n",
    "class B(n : Int) {\n",
    "    val value = new A(n)\n",
    "}\n",
    "\n",
    "val B = new B(5)\n",
    "\n",
    "// this will err\n",
    "//B = new B(3)\n",
    "\n",
    "// so will this\n",
    "// B.value = new A(6)\n",
    "\n",
    "B.value.value = 7"
   ]
  },
  {
   "cell_type": "markdown",
   "metadata": {},
   "source": [
    "Value Parameterization"
   ]
  },
  {
   "cell_type": "code",
   "execution_count": 2,
   "metadata": {
    "ExecuteTime": {
     "end_time": "2017-01-05T21:16:39.768894",
     "start_time": "2017-01-05T15:46:36.645Z"
    },
    "collapsed": false,
    "run_control": {
     "frozen": false,
     "read_only": false
    }
   },
   "outputs": [
    {
     "name": "stdout",
     "output_type": "stream",
     "text": [
      "Cool is my name \n"
     ]
    },
    {
     "data": {
      "text/plain": [
       "\u001b[36mx\u001b[39m: \u001b[32mArray\u001b[39m[\u001b[32mString\u001b[39m] = \u001b[33mArray\u001b[39m(\u001b[32m\"Cool\"\u001b[39m, \u001b[32m\"is\"\u001b[39m, \u001b[32m\"my\"\u001b[39m, \u001b[32m\"name\"\u001b[39m)"
      ]
     },
     "execution_count": 2,
     "metadata": {},
     "output_type": "execute_result"
    }
   ],
   "source": [
    "val x = new Array[String](4)\n",
    "x(0) = \"Cool\"\n",
    "x(1) = \"is\"\n",
    "x(2) = \"my\"\n",
    "x(3) = \"name\"\n",
    "\n",
    "x.foreach(xx => print(xx + \" \"))\n",
    "println()"
   ]
  },
  {
   "cell_type": "markdown",
   "metadata": {},
   "source": [
    "# apply, update"
   ]
  },
  {
   "cell_type": "markdown",
   "metadata": {},
   "source": [
    "apply method: () maps to apply  \n",
    "\n",
    "instance(i) $\\equiv$ instance.apply(i)"
   ]
  },
  {
   "cell_type": "code",
   "execution_count": 3,
   "metadata": {
    "ExecuteTime": {
     "end_time": "2017-01-05T21:16:40.358927",
     "start_time": "2017-01-05T15:46:36.749Z"
    },
    "collapsed": false,
    "run_control": {
     "frozen": false,
     "read_only": false
    }
   },
   "outputs": [
    {
     "name": "stdout",
     "output_type": "stream",
     "text": [
      "Cool\n",
      "Cool\n"
     ]
    }
   ],
   "source": [
    "println(x(0))\n",
    "println(x.apply(0))"
   ]
  },
  {
   "cell_type": "markdown",
   "metadata": {},
   "source": [
    "update method\n",
    "()= called update(\n",
    "\n",
    "instance(i) = j $\\equiv$ instance.update(i, j)"
   ]
  },
  {
   "cell_type": "code",
   "execution_count": 4,
   "metadata": {
    "ExecuteTime": {
     "end_time": "2017-01-05T21:16:41.118389",
     "start_time": "2017-01-05T15:46:36.803Z"
    },
    "collapsed": false,
    "run_control": {
     "frozen": false,
     "read_only": false
    }
   },
   "outputs": [
    {
     "name": "stdout",
     "output_type": "stream",
     "text": [
      "Cool is my name \n"
     ]
    },
    {
     "data": {
      "text/plain": [
       "\u001b[36mx\u001b[39m: \u001b[32mArray\u001b[39m[\u001b[32mString\u001b[39m] = \u001b[33mArray\u001b[39m(\u001b[32m\"Cool\"\u001b[39m, \u001b[32m\"is\"\u001b[39m, \u001b[32m\"my\"\u001b[39m, \u001b[32m\"name\"\u001b[39m)"
      ]
     },
     "execution_count": 4,
     "metadata": {},
     "output_type": "execute_result"
    }
   ],
   "source": [
    "val x = new Array[String](4)\n",
    "x.update(0, \"Cool\")\n",
    "x.update(1, \"is\")\n",
    "x.update(2, \"my\")\n",
    "x.update(3, \"name\")\n",
    "\n",
    "x.foreach(xx => print(xx + \" \"))\n",
    "println()"
   ]
  },
  {
   "cell_type": "markdown",
   "metadata": {},
   "source": [
    "## apply which is static"
   ]
  },
  {
   "cell_type": "code",
   "execution_count": 5,
   "metadata": {
    "ExecuteTime": {
     "end_time": "2017-01-05T21:16:41.812492",
     "start_time": "2017-01-05T15:46:36.848Z"
    },
    "collapsed": false,
    "run_control": {
     "frozen": false,
     "read_only": false
    }
   },
   "outputs": [
    {
     "name": "stdout",
     "output_type": "stream",
     "text": [
      "ek dho theen \n",
      "ek dho theen \n"
     ]
    },
    {
     "data": {
      "text/plain": [
       "\u001b[36mx1\u001b[39m: \u001b[32mArray\u001b[39m[\u001b[32mString\u001b[39m] = \u001b[33mArray\u001b[39m(\u001b[32m\"ek\"\u001b[39m, \u001b[32m\"dho\"\u001b[39m, \u001b[32m\"theen\"\u001b[39m)\n",
       "\u001b[36mx2\u001b[39m: \u001b[32mArray\u001b[39m[\u001b[32mString\u001b[39m] = \u001b[33mArray\u001b[39m(\u001b[32m\"ek\"\u001b[39m, \u001b[32m\"dho\"\u001b[39m, \u001b[32m\"theen\"\u001b[39m)"
      ]
     },
     "execution_count": 5,
     "metadata": {},
     "output_type": "execute_result"
    }
   ],
   "source": [
    "var x1 = Array(\"ek\", \"dho\", \"theen\")\n",
    "var x2 = Array.apply(\"ek\", \"dho\", \"theen\")\n",
    "\n",
    "x1.foreach(x => print(x+\" \")); println()\n",
    "x2.foreach(x => print(x+\" \")); println()"
   ]
  },
  {
   "cell_type": "code",
   "execution_count": 5,
   "metadata": {
    "ExecuteTime": {
     "end_time": "2017-01-05T21:16:41.900466",
     "start_time": "2017-01-05T15:46:36.851Z"
    },
    "collapsed": false,
    "run_control": {
     "frozen": false,
     "read_only": false
    }
   },
   "outputs": [
    {
     "name": "stderr",
     "output_type": "stream",
     "text": [
      "cmd5.sc:1: value each is not a member of Array[String]\n",
      "val res5 = x1.each(print)\n",
      "              ^cmd5.sc:1: missing argument list for method print in object Predef\n",
      "Unapplied methods are only converted to functions when a function type is expected.\n",
      "You can make this conversion explicit by writing `print _` or `print(_)` instead of `print`.\n",
      "val res5 = x1.each(print)\n",
      "                   ^"
     ]
    },
    {
     "ename": "",
     "evalue": "",
     "output_type": "error",
     "traceback": [
      "Compilation Failed"
     ]
    }
   ],
   "source": [
    "x1.each(print)"
   ]
  },
  {
   "cell_type": "markdown",
   "metadata": {},
   "source": [
    "# Lists"
   ]
  },
  {
   "cell_type": "markdown",
   "metadata": {},
   "source": [
    "* Just like Array only immutable\n",
    "* Just like java.util.list, only immutable"
   ]
  },
  {
   "cell_type": "code",
   "execution_count": 6,
   "metadata": {
    "ExecuteTime": {
     "end_time": "2017-01-05T21:16:42.513742",
     "start_time": "2017-01-05T15:46:36.958Z"
    },
    "collapsed": false,
    "run_control": {
     "frozen": false,
     "read_only": false
    }
   },
   "outputs": [
    {
     "name": "stdout",
     "output_type": "stream",
     "text": [
      "list1: List(1, 2) and list2: List(3, 4) were not mutated\n",
      "list3: List(1, 2, 3, 4) is the concat of list1 and list2\n"
     ]
    },
    {
     "data": {
      "text/plain": [
       "\u001b[36mlist1\u001b[39m: \u001b[32mList\u001b[39m[\u001b[32mInt\u001b[39m] = \u001b[33mList\u001b[39m(\u001b[32m1\u001b[39m, \u001b[32m2\u001b[39m)\n",
       "\u001b[36mlist2\u001b[39m: \u001b[32mList\u001b[39m[\u001b[32mInt\u001b[39m] = \u001b[33mList\u001b[39m(\u001b[32m3\u001b[39m, \u001b[32m4\u001b[39m)\n",
       "\u001b[36mlist3\u001b[39m: \u001b[32mList\u001b[39m[\u001b[32mInt\u001b[39m] = \u001b[33mList\u001b[39m(\u001b[32m1\u001b[39m, \u001b[32m2\u001b[39m, \u001b[32m3\u001b[39m, \u001b[32m4\u001b[39m)"
      ]
     },
     "execution_count": 6,
     "metadata": {},
     "output_type": "execute_result"
    }
   ],
   "source": [
    "var list1 = List(1,2)\n",
    "var list2 = List(3,4)\n",
    "var list3 = list1 ::: list2\n",
    "\n",
    "println(\"list1: \" + list1 + \" and list2: \" + list2 + \" were not mutated\")\n",
    "println(\"list3: \" + list3 + \" is the concat of list1 and list2\")"
   ]
  },
  {
   "cell_type": "markdown",
   "metadata": {},
   "source": [
    "## cons operator ::"
   ]
  },
  {
   "cell_type": "code",
   "execution_count": 7,
   "metadata": {
    "ExecuteTime": {
     "end_time": "2017-01-05T21:16:43.036460",
     "start_time": "2017-01-05T15:46:37.009Z"
    },
    "collapsed": false,
    "run_control": {
     "frozen": false,
     "read_only": false
    }
   },
   "outputs": [
    {
     "data": {
      "text/plain": [
       "\u001b[36mlist4\u001b[39m: \u001b[32mList\u001b[39m[\u001b[32mInt\u001b[39m] = \u001b[33mList\u001b[39m(\u001b[32m6\u001b[39m, \u001b[32m7\u001b[39m)\n",
       "\u001b[36mlist5\u001b[39m: \u001b[32mList\u001b[39m[\u001b[32mInt\u001b[39m] = \u001b[33mList\u001b[39m(\u001b[32m5\u001b[39m, \u001b[32m6\u001b[39m, \u001b[32m7\u001b[39m)"
      ]
     },
     "execution_count": 7,
     "metadata": {},
     "output_type": "execute_result"
    }
   ],
   "source": [
    "var list4 = List(6,7)\n",
    "var list5 = 5 :: list4"
   ]
  },
  {
   "cell_type": "markdown",
   "metadata": {},
   "source": [
    "NB: If the method name ends in a colon, the method is invoked on the right operand. "
   ]
  },
  {
   "cell_type": "markdown",
   "metadata": {},
   "source": [
    "### cons for president"
   ]
  },
  {
   "cell_type": "markdown",
   "metadata": {},
   "source": [
    "cons is a right-associative operator  \n",
    "so the actual sequence of operations begin from the right  \n",
    "like arabic/persian (or any other Islamic Lang?)"
   ]
  },
  {
   "cell_type": "code",
   "execution_count": 8,
   "metadata": {
    "ExecuteTime": {
     "end_time": "2017-01-05T21:16:43.431227",
     "start_time": "2017-01-05T15:46:37.193Z"
    },
    "collapsed": false,
    "run_control": {
     "frozen": false,
     "read_only": false
    }
   },
   "outputs": [
    {
     "data": {
      "text/plain": [
       "\u001b[36mlist6\u001b[39m: \u001b[32mList\u001b[39m[\u001b[32mInt\u001b[39m] = \u001b[33mList\u001b[39m(\u001b[32m1\u001b[39m, \u001b[32m2\u001b[39m, \u001b[32m3\u001b[39m)\n",
       "\u001b[36mlist7\u001b[39m: \u001b[32mList\u001b[39m[\u001b[32mInt\u001b[39m] = \u001b[33mList\u001b[39m(\u001b[32m1\u001b[39m, \u001b[32m2\u001b[39m, \u001b[32m3\u001b[39m)"
      ]
     },
     "execution_count": 8,
     "metadata": {},
     "output_type": "execute_result"
    }
   ],
   "source": [
    "var list6 = 1 :: 2 :: 3 :: Nil\n",
    "var list7 = 1 :: 2 :: 3 :: List()"
   ]
  },
  {
   "cell_type": "markdown",
   "metadata": {},
   "source": [
    "# Methods of List"
   ]
  },
  {
   "cell_type": "code",
   "execution_count": 9,
   "metadata": {
    "ExecuteTime": {
     "end_time": "2017-01-05T21:16:43.929928",
     "start_time": "2017-01-05T15:46:37.297Z"
    },
    "collapsed": false,
    "run_control": {
     "frozen": false,
     "read_only": false
    }
   },
   "outputs": [
    {
     "data": {
      "text/plain": [
       "\u001b[36mthrill\u001b[39m: \u001b[32mList\u001b[39m[\u001b[32mString\u001b[39m] = \u001b[33mList\u001b[39m(\u001b[32m\"will\"\u001b[39m, \u001b[32m\"fill\"\u001b[39m, \u001b[32m\"until\"\u001b[39m)"
      ]
     },
     "execution_count": 9,
     "metadata": {},
     "output_type": "execute_result"
    }
   ],
   "source": [
    "var thrill = \"will\" :: \"fill\" :: \"until\" :: Nil"
   ]
  },
  {
   "cell_type": "markdown",
   "metadata": {},
   "source": [
    "## count"
   ]
  },
  {
   "cell_type": "code",
   "execution_count": 10,
   "metadata": {
    "ExecuteTime": {
     "end_time": "2017-01-05T21:16:44.298073",
     "start_time": "2017-01-05T15:46:37.377Z"
    },
    "collapsed": false,
    "run_control": {
     "frozen": false,
     "read_only": false
    }
   },
   "outputs": [
    {
     "data": {
      "text/plain": [
       "\u001b[36mres9\u001b[39m: \u001b[32mInt\u001b[39m = \u001b[32m2\u001b[39m"
      ]
     },
     "execution_count": 10,
     "metadata": {},
     "output_type": "execute_result"
    }
   ],
   "source": [
    "thrill.count(e => e.length == 4)"
   ]
  },
  {
   "cell_type": "markdown",
   "metadata": {},
   "source": [
    "## drop & dropRight"
   ]
  },
  {
   "cell_type": "code",
   "execution_count": 11,
   "metadata": {
    "ExecuteTime": {
     "end_time": "2017-01-05T21:16:45.006883",
     "start_time": "2017-01-05T15:46:37.579Z"
    },
    "collapsed": false,
    "run_control": {
     "frozen": false,
     "read_only": false
    }
   },
   "outputs": [
    {
     "data": {
      "text/plain": [
       "\u001b[36mres10_0\u001b[39m: \u001b[32mList\u001b[39m[\u001b[32mString\u001b[39m] = \u001b[33mList\u001b[39m(\u001b[32m\"until\"\u001b[39m)\n",
       "\u001b[36mres10_1\u001b[39m: \u001b[32mList\u001b[39m[\u001b[32mString\u001b[39m] = \u001b[33mList\u001b[39m()\n",
       "\u001b[36mres10_2\u001b[39m: \u001b[32mList\u001b[39m[\u001b[32mString\u001b[39m] = \u001b[33mList\u001b[39m()"
      ]
     },
     "execution_count": 11,
     "metadata": {},
     "output_type": "execute_result"
    }
   ],
   "source": [
    "thrill.drop(2)\n",
    "thrill.drop(3)\n",
    "thrill.drop(4)"
   ]
  },
  {
   "cell_type": "code",
   "execution_count": 12,
   "metadata": {
    "ExecuteTime": {
     "end_time": "2017-01-05T21:16:45.810426",
     "start_time": "2017-01-05T15:46:37.588Z"
    },
    "collapsed": false,
    "run_control": {
     "frozen": false,
     "read_only": false
    }
   },
   "outputs": [
    {
     "data": {
      "text/plain": [
       "\u001b[36mres11_0\u001b[39m: \u001b[32mList\u001b[39m[\u001b[32mString\u001b[39m] = \u001b[33mList\u001b[39m(\u001b[32m\"will\"\u001b[39m)\n",
       "\u001b[36mres11_1\u001b[39m: \u001b[32mList\u001b[39m[\u001b[32mString\u001b[39m] = \u001b[33mList\u001b[39m()\n",
       "\u001b[36mres11_2\u001b[39m: \u001b[32mList\u001b[39m[\u001b[32mString\u001b[39m] = \u001b[33mList\u001b[39m()"
      ]
     },
     "execution_count": 12,
     "metadata": {},
     "output_type": "execute_result"
    }
   ],
   "source": [
    "thrill.dropRight(2)\n",
    "thrill.dropRight(3)\n",
    "thrill.dropRight(4)"
   ]
  },
  {
   "cell_type": "markdown",
   "metadata": {},
   "source": [
    "## exists"
   ]
  },
  {
   "cell_type": "code",
   "execution_count": 13,
   "metadata": {
    "ExecuteTime": {
     "end_time": "2017-01-05T21:16:46.257081",
     "start_time": "2017-01-05T15:46:37.654Z"
    },
    "collapsed": false,
    "run_control": {
     "frozen": false,
     "read_only": false
    }
   },
   "outputs": [
    {
     "data": {
      "text/plain": [
       "\u001b[36mres12_0\u001b[39m: \u001b[32mBoolean\u001b[39m = \u001b[32mtrue\u001b[39m\n",
       "\u001b[36mres12_1\u001b[39m: \u001b[32mBoolean\u001b[39m = \u001b[32mfalse\u001b[39m"
      ]
     },
     "execution_count": 13,
     "metadata": {},
     "output_type": "execute_result"
    }
   ],
   "source": [
    "thrill.exists(e => e == \"will\")\n",
    "thrill.exists(e => e == \"wifi\")"
   ]
  },
  {
   "cell_type": "markdown",
   "metadata": {},
   "source": [
    "## forall, foreach"
   ]
  },
  {
   "cell_type": "code",
   "execution_count": 14,
   "metadata": {
    "ExecuteTime": {
     "end_time": "2017-01-05T21:16:46.696401",
     "start_time": "2017-01-05T15:46:37.701Z"
    },
    "collapsed": false,
    "run_control": {
     "frozen": false,
     "read_only": false
    }
   },
   "outputs": [
    {
     "data": {
      "text/plain": [
       "\u001b[36mres13_0\u001b[39m: \u001b[32mBoolean\u001b[39m = \u001b[32mtrue\u001b[39m\n",
       "\u001b[36mres13_1\u001b[39m: \u001b[32mBoolean\u001b[39m = \u001b[32mfalse\u001b[39m"
      ]
     },
     "execution_count": 14,
     "metadata": {},
     "output_type": "execute_result"
    }
   ],
   "source": [
    "thrill.forall(e => e.endsWith(\"l\"))\n",
    "thrill.forall(e => e.length == 4)"
   ]
  },
  {
   "cell_type": "code",
   "execution_count": 15,
   "metadata": {
    "ExecuteTime": {
     "end_time": "2017-01-05T21:16:47.064997",
     "start_time": "2017-01-05T15:46:37.704Z"
    },
    "collapsed": false,
    "run_control": {
     "frozen": false,
     "read_only": false
    }
   },
   "outputs": [
    {
     "name": "stdout",
     "output_type": "stream",
     "text": [
      "willfilluntil\n",
      "willfilluntil"
     ]
    }
   ],
   "source": [
    "thrill.foreach(e => print(e))\n",
    "println()\n",
    "thrill.foreach(print)"
   ]
  },
  {
   "cell_type": "markdown",
   "metadata": {},
   "source": [
    "## head, init, tail, last, reverse"
   ]
  },
  {
   "cell_type": "code",
   "execution_count": 16,
   "metadata": {
    "ExecuteTime": {
     "end_time": "2017-01-05T21:16:47.537916",
     "start_time": "2017-01-05T15:46:37.757Z"
    },
    "collapsed": false,
    "run_control": {
     "frozen": false,
     "read_only": false
    }
   },
   "outputs": [
    {
     "data": {
      "text/plain": [
       "\u001b[36mres15_0\u001b[39m: \u001b[32mString\u001b[39m = \u001b[32m\"will\"\u001b[39m\n",
       "\u001b[36mres15_1\u001b[39m: \u001b[32mList\u001b[39m[\u001b[32mString\u001b[39m] = \u001b[33mList\u001b[39m(\u001b[32m\"will\"\u001b[39m, \u001b[32m\"fill\"\u001b[39m)\n",
       "\u001b[36mres15_2\u001b[39m: \u001b[32mList\u001b[39m[\u001b[32mString\u001b[39m] = \u001b[33mList\u001b[39m(\u001b[32m\"fill\"\u001b[39m, \u001b[32m\"until\"\u001b[39m)\n",
       "\u001b[36mres15_3\u001b[39m: \u001b[32mString\u001b[39m = \u001b[32m\"until\"\u001b[39m\n",
       "\u001b[36mres15_4\u001b[39m: \u001b[32mList\u001b[39m[\u001b[32mString\u001b[39m] = \u001b[33mList\u001b[39m(\u001b[32m\"until\"\u001b[39m, \u001b[32m\"fill\"\u001b[39m, \u001b[32m\"will\"\u001b[39m)"
      ]
     },
     "execution_count": 16,
     "metadata": {},
     "output_type": "execute_result"
    }
   ],
   "source": [
    "thrill.head\n",
    "thrill.init\n",
    "thrill.tail\n",
    "thrill.last\n",
    "thrill.reverse"
   ]
  },
  {
   "cell_type": "markdown",
   "metadata": {},
   "source": [
    "## length"
   ]
  },
  {
   "cell_type": "code",
   "execution_count": 17,
   "metadata": {
    "ExecuteTime": {
     "end_time": "2017-01-05T21:16:47.785052",
     "start_time": "2017-01-05T15:46:37.808Z"
    },
    "collapsed": false,
    "run_control": {
     "frozen": false,
     "read_only": false
    }
   },
   "outputs": [
    {
     "data": {
      "text/plain": [
       "\u001b[36mres16\u001b[39m: \u001b[32mInt\u001b[39m = \u001b[32m3\u001b[39m"
      ]
     },
     "execution_count": 17,
     "metadata": {},
     "output_type": "execute_result"
    }
   ],
   "source": [
    "thrill.length"
   ]
  },
  {
   "cell_type": "markdown",
   "metadata": {},
   "source": [
    "## filter, filterNot"
   ]
  },
  {
   "cell_type": "code",
   "execution_count": 18,
   "metadata": {
    "ExecuteTime": {
     "end_time": "2017-01-05T21:16:48.122186",
     "start_time": "2017-01-05T15:46:37.859Z"
    },
    "collapsed": false,
    "run_control": {
     "frozen": false,
     "read_only": false
    }
   },
   "outputs": [
    {
     "data": {
      "text/plain": [
       "\u001b[36mres17_0\u001b[39m: \u001b[32mList\u001b[39m[\u001b[32mString\u001b[39m] = \u001b[33mList\u001b[39m(\u001b[32m\"will\"\u001b[39m, \u001b[32m\"fill\"\u001b[39m)\n",
       "\u001b[36mres17_1\u001b[39m: \u001b[32mList\u001b[39m[\u001b[32mString\u001b[39m] = \u001b[33mList\u001b[39m()"
      ]
     },
     "execution_count": 18,
     "metadata": {},
     "output_type": "execute_result"
    }
   ],
   "source": [
    "thrill.filter(e => e.length == 4)\n",
    "thrill.filter(e => e.length == 6)"
   ]
  },
  {
   "cell_type": "code",
   "execution_count": 19,
   "metadata": {
    "ExecuteTime": {
     "end_time": "2017-01-05T21:16:48.451280",
     "start_time": "2017-01-05T15:46:37.862Z"
    },
    "collapsed": false,
    "run_control": {
     "frozen": false,
     "read_only": false
    }
   },
   "outputs": [
    {
     "data": {
      "text/plain": [
       "\u001b[36mres18\u001b[39m: \u001b[32mList\u001b[39m[\u001b[32mString\u001b[39m] = \u001b[33mList\u001b[39m(\u001b[32m\"will\"\u001b[39m, \u001b[32m\"fill\"\u001b[39m)"
      ]
     },
     "execution_count": 19,
     "metadata": {},
     "output_type": "execute_result"
    }
   ],
   "source": [
    "//thrill.remove(e => e.length == 6)\n",
    "thrill.filterNot(e => e.length == 5)"
   ]
  },
  {
   "cell_type": "markdown",
   "metadata": {},
   "source": [
    "## map"
   ]
  },
  {
   "cell_type": "code",
   "execution_count": 20,
   "metadata": {
    "ExecuteTime": {
     "end_time": "2017-01-05T21:16:49.024763",
     "start_time": "2017-01-05T15:46:37.907Z"
    },
    "collapsed": false,
    "run_control": {
     "frozen": false,
     "read_only": false
    }
   },
   "outputs": [
    {
     "data": {
      "text/plain": [
       "\u001b[36mres19\u001b[39m: \u001b[32mList\u001b[39m[\u001b[32mString\u001b[39m] = \u001b[33mList\u001b[39m(\u001b[32m\"willy\"\u001b[39m, \u001b[32m\"filly\"\u001b[39m, \u001b[32m\"untily\"\u001b[39m)"
      ]
     },
     "execution_count": 20,
     "metadata": {},
     "output_type": "execute_result"
    }
   ],
   "source": [
    "thrill.map(e => e + \"y\")"
   ]
  },
  {
   "cell_type": "markdown",
   "metadata": {},
   "source": [
    "## mkString"
   ]
  },
  {
   "cell_type": "code",
   "execution_count": 21,
   "metadata": {
    "ExecuteTime": {
     "end_time": "2017-01-05T21:16:49.468363",
     "start_time": "2017-01-05T15:46:37.955Z"
    },
    "collapsed": false,
    "run_control": {
     "frozen": false,
     "read_only": false
    }
   },
   "outputs": [
    {
     "data": {
      "text/plain": [
       "\u001b[36mres20\u001b[39m: \u001b[32mString\u001b[39m = \u001b[32m\"will, fill, until\"\u001b[39m"
      ]
     },
     "execution_count": 21,
     "metadata": {},
     "output_type": "execute_result"
    }
   ],
   "source": [
    "thrill.mkString(\", \")"
   ]
  },
  {
   "cell_type": "markdown",
   "metadata": {},
   "source": [
    "## sorted, sortWith"
   ]
  },
  {
   "cell_type": "code",
   "execution_count": 22,
   "metadata": {
    "ExecuteTime": {
     "end_time": "2017-01-05T21:16:49.969631",
     "start_time": "2017-01-05T15:46:38.004Z"
    },
    "collapsed": false,
    "run_control": {
     "frozen": false,
     "read_only": false
    }
   },
   "outputs": [
    {
     "data": {
      "text/plain": [
       "\u001b[36mres21\u001b[39m: \u001b[32mList\u001b[39m[\u001b[32mString\u001b[39m] = \u001b[33mList\u001b[39m(\u001b[32m\"fill\"\u001b[39m, \u001b[32m\"until\"\u001b[39m, \u001b[32m\"will\"\u001b[39m)"
      ]
     },
     "execution_count": 22,
     "metadata": {},
     "output_type": "execute_result"
    }
   ],
   "source": [
    "//thrill.sorted((s:String,t:String) => s.charAt(0).toLower < t.charAt(0).toLower)\n",
    "thrill.sorted"
   ]
  },
  {
   "cell_type": "code",
   "execution_count": 23,
   "metadata": {
    "ExecuteTime": {
     "end_time": "2017-01-05T21:16:50.387319",
     "start_time": "2017-01-05T15:46:38.006Z"
    },
    "collapsed": false,
    "run_control": {
     "frozen": false,
     "read_only": false
    }
   },
   "outputs": [
    {
     "data": {
      "text/plain": [
       "\u001b[36mres22\u001b[39m: \u001b[32mList\u001b[39m[\u001b[32mString\u001b[39m] = \u001b[33mList\u001b[39m(\u001b[32m\"until\"\u001b[39m, \u001b[32m\"will\"\u001b[39m, \u001b[32m\"fill\"\u001b[39m)"
      ]
     },
     "execution_count": 23,
     "metadata": {},
     "output_type": "execute_result"
    }
   ],
   "source": [
    "thrill.sortWith(_.length > _.length)"
   ]
  },
  {
   "cell_type": "code",
   "execution_count": 24,
   "metadata": {
    "ExecuteTime": {
     "end_time": "2017-01-05T21:16:50.861342",
     "start_time": "2017-01-05T15:46:38.011Z"
    },
    "collapsed": false,
    "run_control": {
     "frozen": false,
     "read_only": false
    }
   },
   "outputs": [
    {
     "name": "stdout",
     "output_type": "stream",
     "text": [
      "comparing fill and will\n",
      "comparing will and fill\n",
      "comparing until and fill\n",
      "comparing until and fill\n",
      "comparing until and will\n"
     ]
    },
    {
     "data": {
      "text/plain": [
       "defined \u001b[32mfunction\u001b[39m \u001b[36msort_by_length\u001b[39m\n",
       "\u001b[36mres23_1\u001b[39m: \u001b[32mList\u001b[39m[\u001b[32mString\u001b[39m] = \u001b[33mList\u001b[39m(\u001b[32m\"until\"\u001b[39m, \u001b[32m\"will\"\u001b[39m, \u001b[32m\"fill\"\u001b[39m)"
      ]
     },
     "execution_count": 24,
     "metadata": {},
     "output_type": "execute_result"
    }
   ],
   "source": [
    "def sort_by_length(s1: String, s2: String) = {\n",
    "    println(\"comparing \" + s1 + \" and \" + s2)\n",
    "    s1.length > s2.length\n",
    "}\n",
    "\n",
    "thrill.sortWith(sort_by_length)"
   ]
  },
  {
   "cell_type": "markdown",
   "metadata": {},
   "source": [
    "# Tuples"
   ]
  },
  {
   "cell_type": "code",
   "execution_count": 25,
   "metadata": {
    "ExecuteTime": {
     "end_time": "2017-01-05T21:16:51.738515",
     "start_time": "2017-01-05T15:46:38.065Z"
    },
    "collapsed": false,
    "run_control": {
     "frozen": false,
     "read_only": false
    }
   },
   "outputs": [
    {
     "data": {
      "text/plain": [
       "\u001b[36mtriplet\u001b[39m: (\u001b[32mString\u001b[39m, \u001b[32mInt\u001b[39m, \u001b[32mNil\u001b[39m.type) = (\u001b[32m\"yo\"\u001b[39m, \u001b[32m1\u001b[39m, \u001b[33mList\u001b[39m())\n",
       "\u001b[36mres24_1\u001b[39m: \u001b[32mString\u001b[39m = \u001b[32m\"yo\"\u001b[39m\n",
       "\u001b[36mres24_2\u001b[39m: \u001b[32mInt\u001b[39m = \u001b[32m1\u001b[39m\n",
       "\u001b[36mres24_3\u001b[39m: \u001b[32mNil\u001b[39m.type = \u001b[33mList\u001b[39m()"
      ]
     },
     "execution_count": 25,
     "metadata": {},
     "output_type": "execute_result"
    }
   ],
   "source": [
    "var triplet = (\"yo\", 1, Nil)\n",
    "triplet._1\n",
    "triplet._2\n",
    "triplet._3"
   ]
  },
  {
   "cell_type": "markdown",
   "metadata": {},
   "source": [
    "Note  \n",
    "_N numbers are one-based, instead of zero-based, because starting with 1 is a tradition set by other languages with statically typed tuples, such as Haskell and ML.\n",
    " "
   ]
  },
  {
   "cell_type": "markdown",
   "metadata": {},
   "source": [
    "# Sets, Maps"
   ]
  },
  {
   "cell_type": "markdown",
   "metadata": {},
   "source": [
    "Sets, Maps, HashSets are all immutable by default.  \n",
    "To import the mutable type, use\n",
    "\n",
    "```java\n",
    "import scala.collection.immutable.{Set,Map,HashSet}\n",
    "```"
   ]
  },
  {
   "cell_type": "markdown",
   "metadata": {},
   "source": [
    "set1 & set2 are instances of immutable sets.  \n",
    "Thus any mutations will return to the creation of new set objects."
   ]
  },
  {
   "cell_type": "markdown",
   "metadata": {},
   "source": [
    "## Sets"
   ]
  },
  {
   "cell_type": "markdown",
   "metadata": {},
   "source": [
    "### immutable set"
   ]
  },
  {
   "cell_type": "code",
   "execution_count": 26,
   "metadata": {
    "ExecuteTime": {
     "end_time": "2017-01-05T21:16:52.768183",
     "start_time": "2017-01-05T15:46:38.282Z"
    },
    "collapsed": false,
    "run_control": {
     "frozen": false,
     "read_only": false
    }
   },
   "outputs": [
    {
     "name": "stdout",
     "output_type": "stream",
     "text": [
      "set1 is of type class scala.collection.immutable.Set$Set2\n",
      "713097991\n",
      "473217385\n",
      "473217385\n"
     ]
    },
    {
     "data": {
      "text/plain": [
       "\u001b[32mimport \u001b[39m\u001b[36mscala.collection.immutable.Set\n",
       "\n",
       "// changing var to val will err, since the set is immutable\n",
       "\u001b[39m\n",
       "\u001b[36mset1\u001b[39m: \u001b[32mSet\u001b[39m[\u001b[32mString\u001b[39m] = \u001b[33mSet\u001b[39m(\u001b[32m\"morning\"\u001b[39m, \u001b[32m\"evening\"\u001b[39m, \u001b[32m\"afty\"\u001b[39m)\n",
       "\u001b[36mset2\u001b[39m: \u001b[32mSet\u001b[39m[\u001b[32mAny\u001b[39m] = \u001b[33mSet\u001b[39m(morning, evening, 5)"
      ]
     },
     "execution_count": 26,
     "metadata": {},
     "output_type": "execute_result"
    }
   ],
   "source": [
    "import scala.collection.immutable.Set\n",
    "\n",
    "// changing var to val will err, since the set is immutable\n",
    "var set1 = Set(\"morning\", \"evening\")\n",
    "println(\"set1 is of type \" + set1.getClass)\n",
    "println(System.identityHashCode(set1))\n",
    "set1 += \"afty\"\n",
    "println(System.identityHashCode(set1))\n",
    "set1 += \"evening\"\n",
    "println(System.identityHashCode(set1))\n",
    "\n",
    "var set2 = Set(\"morning\", \"evening\", 5)"
   ]
  },
  {
   "cell_type": "markdown",
   "metadata": {},
   "source": [
    "### mutable set"
   ]
  },
  {
   "cell_type": "code",
   "execution_count": 27,
   "metadata": {
    "ExecuteTime": {
     "end_time": "2017-01-05T21:16:53.575785",
     "start_time": "2017-01-05T15:46:38.328Z"
    },
    "collapsed": false,
    "run_control": {
     "frozen": false,
     "read_only": false
    }
   },
   "outputs": [
    {
     "name": "stdout",
     "output_type": "stream",
     "text": [
      "set1 is of type class scala.collection.mutable.HashSet\n",
      "343220952\n",
      "343220952\n",
      "343220952\n"
     ]
    },
    {
     "data": {
      "text/plain": [
       "\u001b[32mimport \u001b[39m\u001b[36mscala.collection.mutable.Set\n",
       "\n",
       "\u001b[39m\n",
       "\u001b[36mset1\u001b[39m: \u001b[32mcollection\u001b[39m.\u001b[32mmutable\u001b[39m.\u001b[32mSet\u001b[39m[\u001b[32mString\u001b[39m] = \u001b[33mSet\u001b[39m(\u001b[32m\"evening\"\u001b[39m, \u001b[32m\"morning\"\u001b[39m, \u001b[32m\"afty\"\u001b[39m)\n",
       "\u001b[36mres26_4\u001b[39m: \u001b[32mcollection\u001b[39m.\u001b[32mmutable\u001b[39m.\u001b[32mSet\u001b[39m[\u001b[32mString\u001b[39m] = \u001b[33mSet\u001b[39m(\u001b[32m\"evening\"\u001b[39m, \u001b[32m\"morning\"\u001b[39m, \u001b[32m\"afty\"\u001b[39m)\n",
       "\u001b[36mres26_6\u001b[39m: \u001b[32mcollection\u001b[39m.\u001b[32mmutable\u001b[39m.\u001b[32mSet\u001b[39m[\u001b[32mString\u001b[39m] = \u001b[33mSet\u001b[39m(\u001b[32m\"evening\"\u001b[39m, \u001b[32m\"morning\"\u001b[39m, \u001b[32m\"afty\"\u001b[39m)\n",
       "\u001b[36mset2\u001b[39m: \u001b[32mcollection\u001b[39m.\u001b[32mmutable\u001b[39m.\u001b[32mSet\u001b[39m[\u001b[32mAny\u001b[39m] = \u001b[33mSet\u001b[39m(5, evening, morning)"
      ]
     },
     "execution_count": 27,
     "metadata": {},
     "output_type": "execute_result"
    }
   ],
   "source": [
    "import scala.collection.mutable.Set\n",
    "\n",
    "val set1 = Set(\"morning\", \"evening\")\n",
    "println(\"set1 is of type \" + set1.getClass)\n",
    "println(System.identityHashCode(set1))\n",
    "set1 += \"afty\"\n",
    "println(System.identityHashCode(set1))\n",
    "set1 += \"evening\"\n",
    "println(System.identityHashCode(set1))\n",
    "\n",
    "var set2 = Set(\"morning\", \"evening\", 5)"
   ]
  },
  {
   "cell_type": "markdown",
   "metadata": {},
   "source": [
    "## immutable hashset"
   ]
  },
  {
   "cell_type": "code",
   "execution_count": 28,
   "metadata": {
    "ExecuteTime": {
     "end_time": "2017-01-05T21:16:54.243821",
     "start_time": "2017-01-05T15:46:38.374Z"
    },
    "collapsed": false,
    "run_control": {
     "frozen": false,
     "read_only": false
    }
   },
   "outputs": [
    {
     "name": "stdout",
     "output_type": "stream",
     "text": [
      "304427388\n",
      "Set(pepper, chillies, coriander)\n"
     ]
    },
    {
     "data": {
      "text/plain": [
       "\u001b[32mimport \u001b[39m\u001b[36mscala.collection.immutable.HashSet\n",
       "\n",
       "\u001b[39m\n",
       "\u001b[36mhs1\u001b[39m: \u001b[32mcollection\u001b[39m.\u001b[32mimmutable\u001b[39m.\u001b[32mHashSet\u001b[39m[\u001b[32mString\u001b[39m] = \u001b[33mSet\u001b[39m(\u001b[32m\"chillies\"\u001b[39m, \u001b[32m\"coriander\"\u001b[39m)"
      ]
     },
     "execution_count": 28,
     "metadata": {},
     "output_type": "execute_result"
    }
   ],
   "source": [
    "import scala.collection.immutable.HashSet\n",
    "\n",
    "var hs1 = HashSet(\"chillies\", \"coriander\")\n",
    "println(System.identityHashCode(hs1))\n",
    "println(hs1 + \"pepper\")"
   ]
  },
  {
   "cell_type": "markdown",
   "metadata": {},
   "source": [
    "## Mutable Map"
   ]
  },
  {
   "cell_type": "code",
   "execution_count": 1,
   "metadata": {
    "ExecuteTime": {
     "end_time": "2017-01-05T21:46:41.199986",
     "start_time": "2017-01-05T16:16:36.344Z"
    },
    "collapsed": false,
    "run_control": {
     "frozen": false,
     "read_only": false
    }
   },
   "outputs": [
    {
     "data": {
      "text/plain": [
       "\u001b[32mimport \u001b[39m\u001b[36mscala.collection.mutable.Map\n",
       "\n",
       "\u001b[39m\n",
       "\u001b[36mmap1\u001b[39m: \u001b[32mcollection\u001b[39m.\u001b[32mmutable\u001b[39m.\u001b[32mMap\u001b[39m[\u001b[32mInt\u001b[39m, \u001b[32mString\u001b[39m] = \u001b[33mMap\u001b[39m(\u001b[32m1\u001b[39m -> \u001b[32m\"kick ass2\"\u001b[39m)\n",
       "\u001b[36mres0_2\u001b[39m: \u001b[32mcollection\u001b[39m.\u001b[32mmutable\u001b[39m.\u001b[32mMap\u001b[39m[\u001b[32mInt\u001b[39m, \u001b[32mString\u001b[39m] = \u001b[33mMap\u001b[39m(\u001b[32m1\u001b[39m -> \u001b[32m\"kick ass2\"\u001b[39m)\n",
       "\u001b[36mres0_3\u001b[39m: \u001b[32mString\u001b[39m = \u001b[32m\"kick ass\"\u001b[39m\n",
       "\u001b[36mres0_4\u001b[39m: \u001b[32mcollection\u001b[39m.\u001b[32mmutable\u001b[39m.\u001b[32mMap\u001b[39m[\u001b[32mInt\u001b[39m, \u001b[32mString\u001b[39m] = \u001b[33mMap\u001b[39m(\u001b[32m1\u001b[39m -> \u001b[32m\"kick ass2\"\u001b[39m)\n",
       "\u001b[36mres0_5\u001b[39m: \u001b[32mString\u001b[39m = \u001b[32m\"kick ass2\"\u001b[39m"
      ]
     },
     "execution_count": 1,
     "metadata": {},
     "output_type": "execute_result"
    }
   ],
   "source": [
    "import scala.collection.mutable.Map\n",
    "\n",
    "var map1 = Map[Int,String]()\n",
    "map1 += (1 -> \"kick ass\")\n",
    "map1(1)\n",
    "map1 += (1 -> \"kick ass2\")\n",
    "map1(1)"
   ]
  },
  {
   "cell_type": "markdown",
   "metadata": {},
   "source": [
    "# Functional style"
   ]
  },
  {
   "cell_type": "markdown",
   "metadata": {},
   "source": [
    "If you’re coming from an imperative background, such as Java, C++, or C#, you may think of var as a regular variable and val as a special kind of variable. On the other hand, if you’re coming from a functional background, such as Haskell, OCaml, or Erlang, you might think of val as a regular variable and var as akin to blasphemy. The Scala perspective, however, is that val and var are just two different tools in your toolbox, both useful, neither inherently evil. Scala encourages you to lean towards val s, but ultimately reach for the best tool given the job at hand. Even if you agree with this balanced philosophy, however, you may still find it challenging at first to figure out how to get rid of vars in your code.\n"
   ]
  },
  {
   "cell_type": "markdown",
   "metadata": {},
   "source": [
    "## assert"
   ]
  },
  {
   "cell_type": "code",
   "execution_count": 4,
   "metadata": {
    "ExecuteTime": {
     "end_time": "2017-01-05T21:57:10.653161",
     "start_time": "2017-01-05T16:27:09.847Z"
    },
    "collapsed": false
   },
   "outputs": [
    {
     "name": "stdout",
     "output_type": "stream",
     "text": [
      "one\n",
      "two\n",
      "three\n"
     ]
    },
    {
     "data": {
      "text/plain": [
       "defined \u001b[32mfunction\u001b[39m \u001b[36mformatArgs\u001b[39m\n",
       "\u001b[36mres\u001b[39m: \u001b[32mString\u001b[39m = \u001b[32m\"\"\"\n",
       "one\n",
       "two\n",
       "three\n",
       "\"\"\"\u001b[39m"
      ]
     },
     "execution_count": 4,
     "metadata": {},
     "output_type": "execute_result"
    }
   ],
   "source": [
    "def formatArgs(args: Array[String]) = args.mkString(\"\\n\")\n",
    "\n",
    "val res = formatArgs(Array(\"one\",\"two\",\"three\"))\n",
    "println(res)\n",
    "assert(\"one\\ntwo\\nthree\" == res)"
   ]
  },
  {
   "cell_type": "markdown",
   "metadata": {},
   "source": [
    "# Read lines from a file"
   ]
  },
  {
   "cell_type": "code",
   "execution_count": 8,
   "metadata": {
    "ExecuteTime": {
     "end_time": "2017-01-05T22:05:31.884941",
     "start_time": "2017-01-05T16:35:31.626Z"
    },
    "collapsed": false
   },
   "outputs": [
    {
     "data": {
      "text/plain": [
       "\u001b[36mstr1\u001b[39m: \u001b[32mString\u001b[39m = \u001b[32m\"\"\"\n",
       "\"\n",
       "import scala.io.Source\n",
       "if (args.length > 0) {\n",
       "    for (line <- Source.fromFile(args(0)).getLines())\n",
       "    println(line.length +\" \"+ line)\n",
       "}\n",
       "else\n",
       "    Console.err.println(\\\"Please enter filename\\\")\n",
       "\n",
       "\"\"\"\u001b[39m"
      ]
     },
     "execution_count": 8,
     "metadata": {},
     "output_type": "execute_result"
    }
   ],
   "source": [
    "val str1 = \"\"\"\"\n",
    "import scala.io.Source\n",
    "if (args.length > 0) {\n",
    "    for (line <- Source.fromFile(args(0)).getLines())\n",
    "    println(line.length +\" \"+ line)\n",
    "}\n",
    "else\n",
    "    Console.err.println(\\\"Please enter filename\\\")\n",
    "\"\"\""
   ]
  },
  {
   "cell_type": "code",
   "execution_count": 9,
   "metadata": {
    "ExecuteTime": {
     "end_time": "2017-01-05T22:07:36.542340",
     "start_time": "2017-01-05T16:37:36.133Z"
    },
    "collapsed": false
   },
   "outputs": [
    {
     "data": {
      "text/plain": [
       "\u001b[36mres8\u001b[39m: \u001b[32mArray\u001b[39m[\u001b[32mString\u001b[39m] = \u001b[33mArray\u001b[39m(\n",
       "  \u001b[32m\"\"\"\n",
       "\"\n",
       "  \"\"\"\u001b[39m,\n",
       "  \u001b[32m\"import scala.io.Source\"\u001b[39m,\n",
       "  \u001b[32m\"if (args.length > 0) {\"\u001b[39m,\n",
       "  \u001b[32m\"    for (line <- Source.fromFile(args(0)).getLines())\"\u001b[39m,\n",
       "  \u001b[32m\"\"\"\n",
       "    println(line.length +\" \"+ line)\n",
       "  \"\"\"\u001b[39m,\n",
       "  \u001b[32m\"}\"\u001b[39m,\n",
       "  \u001b[32m\"else\"\u001b[39m,\n",
       "\u001b[33m...\u001b[39m"
      ]
     },
     "execution_count": 9,
     "metadata": {},
     "output_type": "execute_result"
    }
   ],
   "source": [
    "str1.split(\"\\n\")"
   ]
  },
  {
   "cell_type": "code",
   "execution_count": 11,
   "metadata": {
    "ExecuteTime": {
     "end_time": "2017-01-05T22:08:25.189523",
     "start_time": "2017-01-05T16:38:24.823Z"
    },
    "collapsed": false
   },
   "outputs": [
    {
     "name": "stdout",
     "output_type": "stream",
     "text": [
      "1 \"\n",
      "22 import scala.io.Source\n",
      "22 if (args.length > 0) {\n",
      "53     for (line <- Source.fromFile(args(0)).getLines())\n",
      "35     println(line.length +\" \"+ line)\n",
      "1 }\n",
      "4 else\n",
      "50     Console.err.println(\\\"Please enter filename\\\")\n"
     ]
    },
    {
     "data": {
      "text/plain": [
       "\u001b[32mimport \u001b[39m\u001b[36mscala.io.Source\n",
       "\n",
       "\u001b[39m"
      ]
     },
     "execution_count": 11,
     "metadata": {},
     "output_type": "execute_result"
    }
   ],
   "source": [
    "import scala.io.Source\n",
    "\n",
    "for (line <- str1.split(\"\\n\"))\n",
    "    println(line.length +\" \"+ line)\n"
   ]
  },
  {
   "cell_type": "code",
   "execution_count": 47,
   "metadata": {
    "ExecuteTime": {
     "end_time": "2017-01-05T22:36:12.109795",
     "start_time": "2017-01-05T17:06:11.648Z"
    },
    "collapsed": false
   },
   "outputs": [
    {
     "name": "stdout",
     "output_type": "stream",
     "text": [
      "1 | \"\n",
      "22| import scala.io.Source\n",
      "22| if (args.length > 0) {\n",
      "53|     for (line <- Source.fromFile(args(0)).getLines())\n",
      "35|     println(line.length +\" \"+ line)\n",
      "1 | }\n",
      "4 | else\n",
      "50|     Console.err.println(\\\"Please enter filename\\\")\n"
     ]
    },
    {
     "data": {
      "text/plain": [
       "\u001b[32mimport \u001b[39m\u001b[36mscala.io.Source\n",
       "\n",
       "\u001b[39m\n",
       "\u001b[36mlines\u001b[39m: \u001b[32mArray\u001b[39m[\u001b[32mString\u001b[39m] = \u001b[33mArray\u001b[39m(\n",
       "  \u001b[32m\"\"\"\n",
       "\"\n",
       "  \"\"\"\u001b[39m,\n",
       "  \u001b[32m\"import scala.io.Source\"\u001b[39m,\n",
       "  \u001b[32m\"if (args.length > 0) {\"\u001b[39m,\n",
       "  \u001b[32m\"    for (line <- Source.fromFile(args(0)).getLines())\"\u001b[39m,\n",
       "  \u001b[32m\"\"\"\n",
       "    println(line.length +\" \"+ line)\n",
       "  \"\"\"\u001b[39m,\n",
       "  \u001b[32m\"}\"\u001b[39m,\n",
       "  \u001b[32m\"else\"\u001b[39m,\n",
       "\u001b[33m...\u001b[39m\n",
       "defined \u001b[32mfunction\u001b[39m \u001b[36mnum_digits\u001b[39m\n",
       "\u001b[36mline_longest\u001b[39m: \u001b[32mString\u001b[39m = \u001b[32m\"    for (line <- Source.fromFile(args(0)).getLines())\"\u001b[39m\n",
       "\u001b[36mmax_sz_len\u001b[39m: \u001b[32mInt\u001b[39m = \u001b[32m2\u001b[39m"
      ]
     },
     "execution_count": 47,
     "metadata": {},
     "output_type": "execute_result"
    }
   ],
   "source": [
    "import scala.io.Source\n",
    "\n",
    "val lines = str1.split(\"\\n\")\n",
    "\n",
    "def num_digits(x : Int) = {\n",
    "    var sz = 0\n",
    "    var x_tmp = x\n",
    "    while(x_tmp > 0) {\n",
    "        sz += 1\n",
    "        x_tmp /= 10\n",
    "    }\n",
    "    sz\n",
    "}\n",
    "\n",
    "val line_longest = lines.reduceLeft((a,b) => if (a.length > b.length) a else b)\n",
    "//val max_sz_len = num_digits(line_longest.length)\n",
    "val max_sz_len = line_longest.length.toString.length\n",
    "\n",
    "for(x <- sz_lengths.zip(lengths).zip(str1_split)) {\n",
    "    println(x._1._2 + \" \" * (max_sz_len-x._1._1) + \"| \" + x._2)\n",
    "}"
   ]
  },
  {
   "cell_type": "code",
   "execution_count": 37,
   "metadata": {
    "ExecuteTime": {
     "end_time": "2017-01-05T22:28:20.095932",
     "start_time": "2017-01-05T16:58:19.760Z"
    },
    "collapsed": false
   },
   "outputs": [
    {
     "name": "stdout",
     "output_type": "stream",
     "text": [
      "..\n",
      ".."
     ]
    }
   ],
   "source": [
    "for(x <- 1.to(2))\n",
    "    print(\".\")\n",
    "println()\n",
    "(1.to(2)).foreach(_ => print('.'))"
   ]
  },
  {
   "cell_type": "code",
   "execution_count": null,
   "metadata": {
    "collapsed": true
   },
   "outputs": [],
   "source": []
  },
  {
   "cell_type": "code",
   "execution_count": null,
   "metadata": {
    "collapsed": true
   },
   "outputs": [],
   "source": []
  }
 ],
 "metadata": {
  "hide_input": false,
  "kernelspec": {
   "display_name": "Scala",
   "language": "scala",
   "name": "scala"
  },
  "language_info": {
   "codemirror_mode": "text/x-scala",
   "file_extension": ".scala",
   "mimetype": "text/x-scala",
   "name": "scala211",
   "nbconvert_exporter": "scala",
   "pygments_lexer": "scala",
   "version": "2.11.8"
  },
  "latex_envs": {
   "LaTeX_envs_menu_present": true,
   "bibliofile": "biblio.bib",
   "cite_by": "apalike",
   "current_citInitial": 1,
   "eqLabelWithNumbers": true,
   "eqNumInitial": 1,
   "labels_anchors": false,
   "latex_user_defs": false,
   "report_style_numbering": false,
   "user_envs_cfg": false
  },
  "nav_menu": {},
  "toc": {
   "navigate_menu": true,
   "number_sections": true,
   "sideBar": true,
   "threshold": 4,
   "toc_cell": false,
   "toc_section_display": "block",
   "toc_window_display": false
  }
 },
 "nbformat": 4,
 "nbformat_minor": 2
}
