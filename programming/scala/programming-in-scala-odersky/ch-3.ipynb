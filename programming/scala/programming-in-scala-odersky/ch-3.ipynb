{
 "cells": [
  {
   "cell_type": "markdown",
   "metadata": {
    "run_control": {
     "frozen": false,
     "read_only": false
    }
   },
   "source": [
    "Val vs Var  \n",
    "* Val is a value, which cannot be ressigned to sth else. like const Animal*\n",
    "  * When you define a variable with val, the variable can’t be reassigned\n",
    "  * but the object to which it refers could potentially still be changed.\n",
    "* Var is a variable, which can be raped to any extent."
   ]
  },
  {
   "cell_type": "code",
   "execution_count": null,
   "metadata": {
    "ExecuteTime": {
     "end_time": "2017-01-05T21:16:38.355379",
     "start_time": "2017-01-05T15:46:36.555Z"
    },
    "collapsed": false,
    "run_control": {
     "frozen": false,
     "read_only": false
    }
   },
   "outputs": [],
   "source": [
    "class A(n : Int) {\n",
    "    var value = n\n",
    "}\n",
    "\n",
    "class B(n : Int) {\n",
    "    val value = new A(n)\n",
    "}\n",
    "\n",
    "val B = new B(5)\n",
    "\n",
    "// this will err\n",
    "//B = new B(3)\n",
    "\n",
    "// so will this\n",
    "// B.value = new A(6)\n",
    "\n",
    "B.value.value = 7"
   ]
  },
  {
   "cell_type": "markdown",
   "metadata": {},
   "source": [
    "Value Parameterization"
   ]
  },
  {
   "cell_type": "code",
   "execution_count": null,
   "metadata": {
    "ExecuteTime": {
     "end_time": "2017-01-05T21:16:39.768894",
     "start_time": "2017-01-05T15:46:36.645Z"
    },
    "collapsed": false,
    "run_control": {
     "frozen": false,
     "read_only": false
    }
   },
   "outputs": [],
   "source": [
    "val x = new Array[String](4)\n",
    "x(0) = \"Cool\"\n",
    "x(1) = \"is\"\n",
    "x(2) = \"my\"\n",
    "x(3) = \"name\"\n",
    "\n",
    "x.foreach(xx => print(xx + \" \"))\n",
    "println()"
   ]
  },
  {
   "cell_type": "markdown",
   "metadata": {},
   "source": [
    "# apply, update"
   ]
  },
  {
   "cell_type": "markdown",
   "metadata": {},
   "source": [
    "apply method: () maps to apply  \n",
    "\n",
    "instance(i) $\\equiv$ instance.apply(i)"
   ]
  },
  {
   "cell_type": "code",
   "execution_count": null,
   "metadata": {
    "ExecuteTime": {
     "end_time": "2017-01-05T21:16:40.358927",
     "start_time": "2017-01-05T15:46:36.749Z"
    },
    "collapsed": false,
    "run_control": {
     "frozen": false,
     "read_only": false
    }
   },
   "outputs": [],
   "source": [
    "println(x(0))\n",
    "println(x.apply(0))"
   ]
  },
  {
   "cell_type": "markdown",
   "metadata": {},
   "source": [
    "update method\n",
    "()= called update(\n",
    "\n",
    "instance(i) = j $\\equiv$ instance.update(i, j)"
   ]
  },
  {
   "cell_type": "code",
   "execution_count": null,
   "metadata": {
    "ExecuteTime": {
     "end_time": "2017-01-05T21:16:41.118389",
     "start_time": "2017-01-05T15:46:36.803Z"
    },
    "collapsed": false,
    "run_control": {
     "frozen": false,
     "read_only": false
    }
   },
   "outputs": [],
   "source": [
    "val x = new Array[String](4)\n",
    "x.update(0, \"Cool\")\n",
    "x.update(1, \"is\")\n",
    "x.update(2, \"my\")\n",
    "x.update(3, \"name\")\n",
    "\n",
    "x.foreach(xx => print(xx + \" \"))\n",
    "println()"
   ]
  },
  {
   "cell_type": "markdown",
   "metadata": {},
   "source": [
    "## apply which is static"
   ]
  },
  {
   "cell_type": "code",
   "execution_count": null,
   "metadata": {
    "ExecuteTime": {
     "end_time": "2017-01-05T21:16:41.812492",
     "start_time": "2017-01-05T15:46:36.848Z"
    },
    "collapsed": false,
    "run_control": {
     "frozen": false,
     "read_only": false
    }
   },
   "outputs": [],
   "source": [
    "var x1 = Array(\"ek\", \"dho\", \"theen\")\n",
    "var x2 = Array.apply(\"ek\", \"dho\", \"theen\")\n",
    "\n",
    "x1.foreach(x => print(x+\" \")); println()\n",
    "x2.foreach(x => print(x+\" \")); println()"
   ]
  },
  {
   "cell_type": "code",
   "execution_count": null,
   "metadata": {
    "ExecuteTime": {
     "end_time": "2017-01-05T21:16:41.900466",
     "start_time": "2017-01-05T15:46:36.851Z"
    },
    "collapsed": false,
    "run_control": {
     "frozen": false,
     "read_only": false
    }
   },
   "outputs": [],
   "source": [
    "x1.each(print)"
   ]
  },
  {
   "cell_type": "markdown",
   "metadata": {},
   "source": [
    "# Lists"
   ]
  },
  {
   "cell_type": "markdown",
   "metadata": {},
   "source": [
    "* Just like Array only immutable\n",
    "* Just like java.util.list, only immutable"
   ]
  },
  {
   "cell_type": "code",
   "execution_count": null,
   "metadata": {
    "ExecuteTime": {
     "end_time": "2017-01-05T21:16:42.513742",
     "start_time": "2017-01-05T15:46:36.958Z"
    },
    "collapsed": false,
    "run_control": {
     "frozen": false,
     "read_only": false
    }
   },
   "outputs": [],
   "source": [
    "var list1 = List(1,2)\n",
    "var list2 = List(3,4)\n",
    "var list3 = list1 ::: list2\n",
    "\n",
    "println(\"list1: \" + list1 + \" and list2: \" + list2 + \" were not mutated\")\n",
    "println(\"list3: \" + list3 + \" is the concat of list1 and list2\")"
   ]
  },
  {
   "cell_type": "markdown",
   "metadata": {},
   "source": [
    "## cons operator ::"
   ]
  },
  {
   "cell_type": "code",
   "execution_count": null,
   "metadata": {
    "ExecuteTime": {
     "end_time": "2017-01-05T21:16:43.036460",
     "start_time": "2017-01-05T15:46:37.009Z"
    },
    "collapsed": false,
    "run_control": {
     "frozen": false,
     "read_only": false
    }
   },
   "outputs": [],
   "source": [
    "var list4 = List(6,7)\n",
    "var list5 = 5 :: list4"
   ]
  },
  {
   "cell_type": "markdown",
   "metadata": {},
   "source": [
    "NB: If the method name ends in a colon, the method is invoked on the right operand. "
   ]
  },
  {
   "cell_type": "markdown",
   "metadata": {},
   "source": [
    "### cons for president"
   ]
  },
  {
   "cell_type": "markdown",
   "metadata": {},
   "source": [
    "cons is a right-associative operator  \n",
    "so the actual sequence of operations begin from the right  \n",
    "like arabic/persian (or any other Islamic Lang?)"
   ]
  },
  {
   "cell_type": "code",
   "execution_count": null,
   "metadata": {
    "ExecuteTime": {
     "end_time": "2017-01-05T21:16:43.431227",
     "start_time": "2017-01-05T15:46:37.193Z"
    },
    "collapsed": false,
    "run_control": {
     "frozen": false,
     "read_only": false
    }
   },
   "outputs": [],
   "source": [
    "var list6 = 1 :: 2 :: 3 :: Nil\n",
    "var list7 = 1 :: 2 :: 3 :: List()"
   ]
  },
  {
   "cell_type": "markdown",
   "metadata": {},
   "source": [
    "# Methods of List"
   ]
  },
  {
   "cell_type": "code",
   "execution_count": null,
   "metadata": {
    "ExecuteTime": {
     "end_time": "2017-01-05T21:16:43.929928",
     "start_time": "2017-01-05T15:46:37.297Z"
    },
    "collapsed": false,
    "run_control": {
     "frozen": false,
     "read_only": false
    }
   },
   "outputs": [],
   "source": [
    "var thrill = \"will\" :: \"fill\" :: \"until\" :: Nil"
   ]
  },
  {
   "cell_type": "markdown",
   "metadata": {},
   "source": [
    "## count"
   ]
  },
  {
   "cell_type": "code",
   "execution_count": null,
   "metadata": {
    "ExecuteTime": {
     "end_time": "2017-01-05T21:16:44.298073",
     "start_time": "2017-01-05T15:46:37.377Z"
    },
    "collapsed": false,
    "run_control": {
     "frozen": false,
     "read_only": false
    }
   },
   "outputs": [],
   "source": [
    "thrill.count(e => e.length == 4)"
   ]
  },
  {
   "cell_type": "markdown",
   "metadata": {},
   "source": [
    "## drop & dropRight"
   ]
  },
  {
   "cell_type": "code",
   "execution_count": null,
   "metadata": {
    "ExecuteTime": {
     "end_time": "2017-01-05T21:16:45.006883",
     "start_time": "2017-01-05T15:46:37.579Z"
    },
    "collapsed": false,
    "run_control": {
     "frozen": false,
     "read_only": false
    }
   },
   "outputs": [],
   "source": [
    "thrill.drop(2)\n",
    "thrill.drop(3)\n",
    "thrill.drop(4)"
   ]
  },
  {
   "cell_type": "code",
   "execution_count": null,
   "metadata": {
    "ExecuteTime": {
     "end_time": "2017-01-05T21:16:45.810426",
     "start_time": "2017-01-05T15:46:37.588Z"
    },
    "collapsed": false,
    "run_control": {
     "frozen": false,
     "read_only": false
    }
   },
   "outputs": [],
   "source": [
    "thrill.dropRight(2)\n",
    "thrill.dropRight(3)\n",
    "thrill.dropRight(4)"
   ]
  },
  {
   "cell_type": "markdown",
   "metadata": {},
   "source": [
    "## exists"
   ]
  },
  {
   "cell_type": "code",
   "execution_count": null,
   "metadata": {
    "ExecuteTime": {
     "end_time": "2017-01-05T21:16:46.257081",
     "start_time": "2017-01-05T15:46:37.654Z"
    },
    "collapsed": false,
    "run_control": {
     "frozen": false,
     "read_only": false
    }
   },
   "outputs": [],
   "source": [
    "thrill.exists(e => e == \"will\")\n",
    "thrill.exists(e => e == \"wifi\")"
   ]
  },
  {
   "cell_type": "markdown",
   "metadata": {},
   "source": [
    "## forall, foreach"
   ]
  },
  {
   "cell_type": "code",
   "execution_count": null,
   "metadata": {
    "ExecuteTime": {
     "end_time": "2017-01-05T21:16:46.696401",
     "start_time": "2017-01-05T15:46:37.701Z"
    },
    "collapsed": false,
    "run_control": {
     "frozen": false,
     "read_only": false
    }
   },
   "outputs": [],
   "source": [
    "thrill.forall(e => e.endsWith(\"l\"))\n",
    "thrill.forall(e => e.length == 4)"
   ]
  },
  {
   "cell_type": "code",
   "execution_count": null,
   "metadata": {
    "ExecuteTime": {
     "end_time": "2017-01-05T21:16:47.064997",
     "start_time": "2017-01-05T15:46:37.704Z"
    },
    "collapsed": false,
    "run_control": {
     "frozen": false,
     "read_only": false
    }
   },
   "outputs": [],
   "source": [
    "thrill.foreach(e => print(e))\n",
    "println()\n",
    "thrill.foreach(print)"
   ]
  },
  {
   "cell_type": "markdown",
   "metadata": {},
   "source": [
    "## head, init, tail, last, reverse"
   ]
  },
  {
   "cell_type": "code",
   "execution_count": null,
   "metadata": {
    "ExecuteTime": {
     "end_time": "2017-01-05T21:16:47.537916",
     "start_time": "2017-01-05T15:46:37.757Z"
    },
    "collapsed": false,
    "run_control": {
     "frozen": false,
     "read_only": false
    }
   },
   "outputs": [],
   "source": [
    "thrill.head\n",
    "thrill.init\n",
    "thrill.tail\n",
    "thrill.last\n",
    "thrill.reverse"
   ]
  },
  {
   "cell_type": "markdown",
   "metadata": {},
   "source": [
    "## length"
   ]
  },
  {
   "cell_type": "code",
   "execution_count": null,
   "metadata": {
    "ExecuteTime": {
     "end_time": "2017-01-05T21:16:47.785052",
     "start_time": "2017-01-05T15:46:37.808Z"
    },
    "collapsed": false,
    "run_control": {
     "frozen": false,
     "read_only": false
    }
   },
   "outputs": [],
   "source": [
    "thrill.length"
   ]
  },
  {
   "cell_type": "markdown",
   "metadata": {},
   "source": [
    "## filter, filterNot"
   ]
  },
  {
   "cell_type": "code",
   "execution_count": null,
   "metadata": {
    "ExecuteTime": {
     "end_time": "2017-01-05T21:16:48.122186",
     "start_time": "2017-01-05T15:46:37.859Z"
    },
    "collapsed": false,
    "run_control": {
     "frozen": false,
     "read_only": false
    }
   },
   "outputs": [],
   "source": [
    "thrill.filter(e => e.length == 4)\n",
    "thrill.filter(e => e.length == 6)"
   ]
  },
  {
   "cell_type": "code",
   "execution_count": null,
   "metadata": {
    "ExecuteTime": {
     "end_time": "2017-01-05T21:16:48.451280",
     "start_time": "2017-01-05T15:46:37.862Z"
    },
    "collapsed": false,
    "run_control": {
     "frozen": false,
     "read_only": false
    }
   },
   "outputs": [],
   "source": [
    "//thrill.remove(e => e.length == 6)\n",
    "thrill.filterNot(e => e.length == 5)"
   ]
  },
  {
   "cell_type": "markdown",
   "metadata": {},
   "source": [
    "## map"
   ]
  },
  {
   "cell_type": "code",
   "execution_count": null,
   "metadata": {
    "ExecuteTime": {
     "end_time": "2017-01-05T21:16:49.024763",
     "start_time": "2017-01-05T15:46:37.907Z"
    },
    "collapsed": false,
    "run_control": {
     "frozen": false,
     "read_only": false
    }
   },
   "outputs": [],
   "source": [
    "thrill.map(e => e + \"y\")"
   ]
  },
  {
   "cell_type": "markdown",
   "metadata": {},
   "source": [
    "## mkString"
   ]
  },
  {
   "cell_type": "code",
   "execution_count": null,
   "metadata": {
    "ExecuteTime": {
     "end_time": "2017-01-05T21:16:49.468363",
     "start_time": "2017-01-05T15:46:37.955Z"
    },
    "collapsed": false,
    "run_control": {
     "frozen": false,
     "read_only": false
    }
   },
   "outputs": [],
   "source": [
    "thrill.mkString(\", \")"
   ]
  },
  {
   "cell_type": "markdown",
   "metadata": {},
   "source": [
    "## sorted, sortWith"
   ]
  },
  {
   "cell_type": "code",
   "execution_count": null,
   "metadata": {
    "ExecuteTime": {
     "end_time": "2017-01-05T21:16:49.969631",
     "start_time": "2017-01-05T15:46:38.004Z"
    },
    "collapsed": false,
    "run_control": {
     "frozen": false,
     "read_only": false
    }
   },
   "outputs": [],
   "source": [
    "//thrill.sorted((s:String,t:String) => s.charAt(0).toLower < t.charAt(0).toLower)\n",
    "thrill.sorted"
   ]
  },
  {
   "cell_type": "code",
   "execution_count": null,
   "metadata": {
    "ExecuteTime": {
     "end_time": "2017-01-05T21:16:50.387319",
     "start_time": "2017-01-05T15:46:38.006Z"
    },
    "collapsed": false,
    "run_control": {
     "frozen": false,
     "read_only": false
    }
   },
   "outputs": [],
   "source": [
    "thrill.sortWith(_.length > _.length)"
   ]
  },
  {
   "cell_type": "code",
   "execution_count": null,
   "metadata": {
    "ExecuteTime": {
     "end_time": "2017-01-05T21:16:50.861342",
     "start_time": "2017-01-05T15:46:38.011Z"
    },
    "collapsed": false,
    "run_control": {
     "frozen": false,
     "read_only": false
    }
   },
   "outputs": [],
   "source": [
    "def sort_by_length(s1: String, s2: String) = {\n",
    "    println(\"comparing \" + s1 + \" and \" + s2)\n",
    "    s1.length > s2.length\n",
    "}\n",
    "\n",
    "thrill.sortWith(sort_by_length)"
   ]
  },
  {
   "cell_type": "markdown",
   "metadata": {},
   "source": [
    "# Tuples"
   ]
  },
  {
   "cell_type": "code",
   "execution_count": null,
   "metadata": {
    "ExecuteTime": {
     "end_time": "2017-01-05T21:16:51.738515",
     "start_time": "2017-01-05T15:46:38.065Z"
    },
    "collapsed": false,
    "run_control": {
     "frozen": false,
     "read_only": false
    }
   },
   "outputs": [],
   "source": [
    "var triplet = (\"yo\", 1, Nil)\n",
    "triplet._1\n",
    "triplet._2\n",
    "triplet._3"
   ]
  },
  {
   "cell_type": "markdown",
   "metadata": {},
   "source": [
    "Note  \n",
    "_N numbers are one-based, instead of zero-based, because starting with 1 is a tradition set by other languages with statically typed tuples, such as Haskell and ML.\n",
    " "
   ]
  },
  {
   "cell_type": "markdown",
   "metadata": {},
   "source": [
    "# Sets, Maps"
   ]
  },
  {
   "cell_type": "markdown",
   "metadata": {},
   "source": [
    "Sets, Maps, HashSets are all immutable by default.  \n",
    "To import the mutable type, use\n",
    "\n",
    "```java\n",
    "import scala.collection.immutable.{Set,Map,HashSet}\n",
    "```"
   ]
  },
  {
   "cell_type": "markdown",
   "metadata": {},
   "source": [
    "set1 & set2 are instances of immutable sets.  \n",
    "Thus any mutations will return to the creation of new set objects."
   ]
  },
  {
   "cell_type": "markdown",
   "metadata": {},
   "source": [
    "## Sets"
   ]
  },
  {
   "cell_type": "markdown",
   "metadata": {},
   "source": [
    "### immutable set"
   ]
  },
  {
   "cell_type": "code",
   "execution_count": null,
   "metadata": {
    "ExecuteTime": {
     "end_time": "2017-01-05T21:16:52.768183",
     "start_time": "2017-01-05T15:46:38.282Z"
    },
    "collapsed": false,
    "run_control": {
     "frozen": false,
     "read_only": false
    }
   },
   "outputs": [],
   "source": [
    "import scala.collection.immutable.Set\n",
    "\n",
    "// changing var to val will err, since the set is immutable\n",
    "var set1 = Set(\"morning\", \"evening\")\n",
    "println(\"set1 is of type \" + set1.getClass)\n",
    "println(System.identityHashCode(set1))\n",
    "set1 += \"afty\"\n",
    "println(System.identityHashCode(set1))\n",
    "set1 += \"evening\"\n",
    "println(System.identityHashCode(set1))\n",
    "\n",
    "var set2 = Set(\"morning\", \"evening\", 5)"
   ]
  },
  {
   "cell_type": "markdown",
   "metadata": {},
   "source": [
    "### mutable set"
   ]
  },
  {
   "cell_type": "code",
   "execution_count": null,
   "metadata": {
    "ExecuteTime": {
     "end_time": "2017-01-05T21:16:53.575785",
     "start_time": "2017-01-05T15:46:38.328Z"
    },
    "collapsed": false,
    "run_control": {
     "frozen": false,
     "read_only": false
    }
   },
   "outputs": [],
   "source": [
    "import scala.collection.mutable.Set\n",
    "\n",
    "val set1 = Set(\"morning\", \"evening\")\n",
    "println(\"set1 is of type \" + set1.getClass)\n",
    "println(System.identityHashCode(set1))\n",
    "set1 += \"afty\"\n",
    "println(System.identityHashCode(set1))\n",
    "set1 += \"evening\"\n",
    "println(System.identityHashCode(set1))\n",
    "\n",
    "var set2 = Set(\"morning\", \"evening\", 5)"
   ]
  },
  {
   "cell_type": "markdown",
   "metadata": {},
   "source": [
    "## immutable hashset"
   ]
  },
  {
   "cell_type": "code",
   "execution_count": null,
   "metadata": {
    "ExecuteTime": {
     "end_time": "2017-01-05T21:16:54.243821",
     "start_time": "2017-01-05T15:46:38.374Z"
    },
    "collapsed": false,
    "run_control": {
     "frozen": false,
     "read_only": false
    }
   },
   "outputs": [],
   "source": [
    "import scala.collection.immutable.HashSet\n",
    "\n",
    "var hs1 = HashSet(\"chillies\", \"coriander\")\n",
    "println(System.identityHashCode(hs1))\n",
    "println(hs1 + \"pepper\")"
   ]
  },
  {
   "cell_type": "markdown",
   "metadata": {},
   "source": [
    "## Mutable Map"
   ]
  },
  {
   "cell_type": "code",
   "execution_count": null,
   "metadata": {
    "ExecuteTime": {
     "end_time": "2017-01-05T21:46:41.199986",
     "start_time": "2017-01-05T16:16:36.344Z"
    },
    "collapsed": false,
    "run_control": {
     "frozen": false,
     "read_only": false
    }
   },
   "outputs": [],
   "source": [
    "import scala.collection.mutable.Map\n",
    "\n",
    "var map1 = Map[Int,String]()\n",
    "map1 += (1 -> \"kick ass\")\n",
    "map1(1)\n",
    "map1 += (1 -> \"kick ass2\")\n",
    "map1(1)"
   ]
  },
  {
   "cell_type": "markdown",
   "metadata": {},
   "source": [
    "# Functional style"
   ]
  },
  {
   "cell_type": "markdown",
   "metadata": {},
   "source": [
    "If you’re coming from an imperative background, such as Java, C++, or C#, you may think of var as a regular variable and val as a special kind of variable. On the other hand, if you’re coming from a functional background, such as Haskell, OCaml, or Erlang, you might think of val as a regular variable and var as akin to blasphemy. The Scala perspective, however, is that val and var are just two different tools in your toolbox, both useful, neither inherently evil. Scala encourages you to lean towards val s, but ultimately reach for the best tool given the job at hand. Even if you agree with this balanced philosophy, however, you may still find it challenging at first to figure out how to get rid of vars in your code.\n"
   ]
  },
  {
   "cell_type": "markdown",
   "metadata": {},
   "source": [
    "## assert"
   ]
  },
  {
   "cell_type": "code",
   "execution_count": null,
   "metadata": {
    "ExecuteTime": {
     "end_time": "2017-01-05T21:57:10.653161",
     "start_time": "2017-01-05T16:27:09.847Z"
    },
    "collapsed": false
   },
   "outputs": [],
   "source": [
    "def formatArgs(args: Array[String]) = args.mkString(\"\\n\")\n",
    "\n",
    "val res = formatArgs(Array(\"one\",\"two\",\"three\"))\n",
    "println(res)\n",
    "assert(\"one\\ntwo\\nthree\" == res)"
   ]
  },
  {
   "cell_type": "markdown",
   "metadata": {},
   "source": [
    "# Read lines from a file"
   ]
  },
  {
   "cell_type": "code",
   "execution_count": null,
   "metadata": {
    "ExecuteTime": {
     "end_time": "2017-01-05T22:05:31.884941",
     "start_time": "2017-01-05T16:35:31.626Z"
    },
    "collapsed": false
   },
   "outputs": [],
   "source": [
    "val str1 = \"\"\"\"\n",
    "import scala.io.Source\n",
    "if (args.length > 0) {\n",
    "    for (line <- Source.fromFile(args(0)).getLines())\n",
    "    println(line.length +\" \"+ line)\n",
    "}\n",
    "else\n",
    "    Console.err.println(\\\"Please enter filename\\\")\n",
    "\"\"\""
   ]
  },
  {
   "cell_type": "code",
   "execution_count": null,
   "metadata": {
    "ExecuteTime": {
     "end_time": "2017-01-05T22:07:36.542340",
     "start_time": "2017-01-05T16:37:36.133Z"
    },
    "collapsed": false
   },
   "outputs": [],
   "source": [
    "str1.split(\"\\n\")"
   ]
  },
  {
   "cell_type": "code",
   "execution_count": null,
   "metadata": {
    "ExecuteTime": {
     "end_time": "2017-01-05T22:08:25.189523",
     "start_time": "2017-01-05T16:38:24.823Z"
    },
    "collapsed": false
   },
   "outputs": [],
   "source": [
    "import scala.io.Source\n",
    "\n",
    "for (line <- str1.split(\"\\n\"))\n",
    "    println(line.length +\" \"+ line)\n"
   ]
  },
  {
   "cell_type": "code",
   "execution_count": null,
   "metadata": {
    "ExecuteTime": {
     "end_time": "2017-01-05T22:36:12.109795",
     "start_time": "2017-01-05T17:06:11.648Z"
    },
    "collapsed": false
   },
   "outputs": [],
   "source": [
    "import scala.io.Source\n",
    "\n",
    "val lines = str1.split(\"\\n\")\n",
    "\n",
    "def num_digits(x : Int) = {\n",
    "    var sz = 0\n",
    "    var x_tmp = x\n",
    "    while(x_tmp > 0) {\n",
    "        sz += 1\n",
    "        x_tmp /= 10\n",
    "    }\n",
    "    sz\n",
    "}\n",
    "\n",
    "val line_longest = lines.reduceLeft((a,b) => if (a.length > b.length) a else b)\n",
    "//val max_sz_len = num_digits(line_longest.length)\n",
    "val max_sz_len = line_longest.length.toString.length\n",
    "\n",
    "for(x <- sz_lengths.zip(lengths).zip(str1_split)) {\n",
    "    println(x._1._2 + \" \" * (max_sz_len-x._1._1) + \"| \" + x._2)\n",
    "}"
   ]
  },
  {
   "cell_type": "code",
   "execution_count": null,
   "metadata": {
    "ExecuteTime": {
     "end_time": "2017-01-05T22:28:20.095932",
     "start_time": "2017-01-05T16:58:19.760Z"
    },
    "collapsed": false
   },
   "outputs": [],
   "source": [
    "for(x <- 1.to(2))\n",
    "    print(\".\")\n",
    "println()\n",
    "(1.to(2)).foreach(_ => print('.'))"
   ]
  },
  {
   "cell_type": "code",
   "execution_count": null,
   "metadata": {
    "collapsed": true
   },
   "outputs": [],
   "source": []
  },
  {
   "cell_type": "code",
   "execution_count": null,
   "metadata": {
    "collapsed": true
   },
   "outputs": [],
   "source": []
  }
 ],
 "metadata": {
  "hide_input": true,
  "kernelspec": {
   "display_name": "Scala",
   "language": "scala",
   "name": "scala"
  },
  "language_info": {
   "codemirror_mode": "text/x-scala",
   "file_extension": ".scala",
   "mimetype": "text/x-scala",
   "name": "scala211",
   "nbconvert_exporter": "scala",
   "pygments_lexer": "scala",
   "version": "2.11.8"
  },
  "latex_envs": {
   "LaTeX_envs_menu_present": true,
   "bibliofile": "biblio.bib",
   "cite_by": "apalike",
   "current_citInitial": 1,
   "eqLabelWithNumbers": true,
   "eqNumInitial": 1,
   "labels_anchors": false,
   "latex_user_defs": false,
   "report_style_numbering": false,
   "user_envs_cfg": false
  },
  "nav_menu": {},
  "toc": {
   "navigate_menu": true,
   "number_sections": true,
   "sideBar": true,
   "threshold": 4,
   "toc_cell": false,
   "toc_section_display": "block",
   "toc_window_display": false
  }
 },
 "nbformat": 4,
 "nbformat_minor": 2
}
