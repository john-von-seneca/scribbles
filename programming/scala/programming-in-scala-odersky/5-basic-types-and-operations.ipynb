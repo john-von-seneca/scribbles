{
 "cells": [
  {
   "cell_type": "code",
   "execution_count": 5,
   "metadata": {
    "ExecuteTime": {
     "end_time": "2017-01-06T14:11:51.492696",
     "start_time": "2017-01-06T08:41:50.678Z"
    },
    "collapsed": false,
    "run_control": {
     "frozen": false,
     "read_only": false
    }
   },
   "outputs": [
    {
     "name": "stdout",
     "output_type": "stream",
     "text": [
      "Byte: -128.0 to 127.0\n",
      "Short: -32768.0 to 32767.0\n",
      "Int: -2.147483648E9 to 2.147483647E9\n",
      "Long: -9.223372036854776E18 to 9.223372036854776E18\n"
     ]
    }
   ],
   "source": [
    "println(\"Byte: \" + -scala.math.pow(2,7) + \" to \" + (scala.math.pow(2,7)-1))\n",
    "println(\"Short: \" + -scala.math.pow(2,15) + \" to \" + (scala.math.pow(2,15)-1))\n",
    "println(\"Int: \" + -scala.math.pow(2,31) + \" to \" + (scala.math.pow(2,31)-1))\n",
    "println(\"Long: \" + -scala.math.pow(2,63) + \" to \" + (scala.math.pow(2,63)-1))"
   ]
  },
  {
   "cell_type": "code",
   "execution_count": 6,
   "metadata": {
    "ExecuteTime": {
     "end_time": "2017-01-06T14:29:51.336789",
     "start_time": "2017-01-06T08:59:50.266Z"
    },
    "collapsed": false
   },
   "outputs": [
    {
     "name": "stdout",
     "output_type": "stream",
     "text": [
      "362.2 - 362.6 = -0.4000000000000341\n"
     ]
    }
   ],
   "source": [
    "println( \"362.2 - 362.6 = \" + ( 362.2 - 362.6 ) )"
   ]
  },
  {
   "cell_type": "code",
   "execution_count": 1,
   "metadata": {
    "ExecuteTime": {
     "end_time": "2017-01-06T15:08:06.756371",
     "start_time": "2017-01-06T09:38:02.456Z"
    },
    "collapsed": false
   },
   "outputs": [
    {
     "data": {
      "text/plain": [
       "\u001b[36mres0\u001b[39m: \u001b[32mInt\u001b[39m = \u001b[32m1\u001b[39m"
      ]
     },
     "execution_count": 1,
     "metadata": {},
     "output_type": "execute_result"
    }
   ],
   "source": [
    "\"1\".toInt"
   ]
  },
  {
   "cell_type": "code",
   "execution_count": 8,
   "metadata": {
    "ExecuteTime": {
     "end_time": "2017-01-06T14:35:45.093969",
     "start_time": "2017-01-06T09:05:44.443Z"
    },
    "collapsed": false
   },
   "outputs": [
    {
     "name": "stdout",
     "output_type": "stream",
     "text": [
      "double\n"
     ]
    }
   ],
   "source": [
    "println(1000*1000*100.getClass)"
   ]
  },
  {
   "cell_type": "code",
   "execution_count": null,
   "metadata": {
    "collapsed": true
   },
   "outputs": [],
   "source": [
    "def time[R](block: => R): R = {\n",
    "    val t0 = System.nanoTime()\n",
    "    val result = block    // call-by-name\n",
    "    val t1 = System.nanoTime()\n",
    "    println(\"Elapsed time: \" + (t1 - t0) + \"ns\")\n",
    "    result\n",
    "}\n",
    "\n",
    "// Now wrap your method calls, for example change this...\n",
    "// val result = 1 to 1000 sum\n",
    "// ... into this\n",
    "// val result = time { 1 to 1000 sum }"
   ]
  },
  {
   "cell_type": "markdown",
   "metadata": {
    "cell_style": "split"
   },
   "source": [
    "Double Computations"
   ]
  },
  {
   "cell_type": "markdown",
   "metadata": {
    "cell_style": "split"
   },
   "source": [
    "Big Decimal computations"
   ]
  },
  {
   "cell_type": "code",
   "execution_count": 3,
   "metadata": {
    "ExecuteTime": {
     "end_time": "2017-01-06T15:11:42.623012",
     "start_time": "2017-01-06T09:41:39.248Z"
    },
    "cell_style": "center",
    "collapsed": false
   },
   "outputs": [
    {
     "name": "stdout",
     "output_type": "stream",
     "text": [
      "time elapsed: 2 ms\n"
     ]
    },
    {
     "data": {
      "text/plain": [
       "\u001b[36morig\u001b[39m: \u001b[32mInt\u001b[39m = \u001b[32m36220\u001b[39m\n",
       "\u001b[36mres\u001b[39m: \u001b[32mInt\u001b[39m = \u001b[32m1000\u001b[39m\n",
       "\u001b[36mITERS\u001b[39m: \u001b[32mInt\u001b[39m = \u001b[32m1000\u001b[39m\n",
       "\u001b[36mtime_taken\u001b[39m: (\u001b[32mUnit\u001b[39m, \u001b[32mconcurrent\u001b[39m.\u001b[32mduration\u001b[39m.\u001b[32mFiniteDuration\u001b[39m) = (\u001b[32m()\u001b[39m, 2801648 nanoseconds)"
      ]
     },
     "execution_count": 3,
     "metadata": {},
     "output_type": "execute_result"
    }
   ],
   "source": [
    "val orig = 36220; //362.2 in cents\n",
    "var res = 0\n",
    "val ITERS = 1000\n",
    "\n",
    "val time_taken =\n",
    "time {\n",
    "    for ( i <- 1.to(ITERS) ) {\n",
    "        val result = Math.round( orig * i )\n",
    "        if ( result != 543 ) res += 1    //compare with something\n",
    "    }\n",
    "}\n",
    "\n",
    "println(\"time elapsed: \" + time_taken._2.toMillis + \" ms\")"
   ]
  },
  {
   "cell_type": "code",
   "execution_count": 4,
   "metadata": {
    "ExecuteTime": {
     "end_time": "2017-01-06T15:21:22.976426",
     "start_time": "2017-01-06T09:51:20.962Z"
    },
    "cell_style": "center",
    "collapsed": false
   },
   "outputs": [
    {
     "name": "stdout",
     "output_type": "stream",
     "text": [
      "time elapsed: 24 ms\n"
     ]
    },
    {
     "data": {
      "text/plain": [
       "\u001b[36morig\u001b[39m: \u001b[32mBigDecimal\u001b[39m = 362.2\n",
       "\u001b[36mmult\u001b[39m: \u001b[32mBigDecimal\u001b[39m = 0.015\n",
       "\u001b[36mITERS\u001b[39m: \u001b[32mInt\u001b[39m = \u001b[32m1000\u001b[39m\n",
       "\u001b[36mres\u001b[39m: \u001b[32mInt\u001b[39m = \u001b[32m1000\u001b[39m\n",
       "\u001b[36mtime_taken\u001b[39m: (\u001b[32mUnit\u001b[39m, \u001b[32mconcurrent\u001b[39m.\u001b[32mduration\u001b[39m.\u001b[32mFiniteDuration\u001b[39m) = (\u001b[32m()\u001b[39m, 24199735 nanoseconds)"
      ]
     },
     "execution_count": 4,
     "metadata": {},
     "output_type": "execute_result"
    }
   ],
   "source": [
    "val orig = BigDecimal(362.2)\n",
    "val mult = BigDecimal(0.015)\n",
    "val ITERS = 1000\n",
    "var res = 0\n",
    "\n",
    "val time_taken =\n",
    "time {\n",
    "    for ( i <- 1.to(ITERS) ) {\n",
    "        val result = orig * mult\n",
    "        if ( result != 543 ) res += 1    //compare with something\n",
    "    }\n",
    "}\n",
    "\n",
    "println(\"time elapsed: \" + time_taken._2.toMillis + \" ms\")"
   ]
  },
  {
   "cell_type": "code",
   "execution_count": 11,
   "metadata": {
    "ExecuteTime": {
     "end_time": "2017-01-06T15:41:15.572354",
     "start_time": "2017-01-06T10:11:12.871Z"
    },
    "collapsed": false
   },
   "outputs": [
    {
     "name": "stdout",
     "output_type": "stream",
     "text": [
      "Elapsed time: 705517476ns\n",
      "Elapsed time: 694229658ns\n",
      "Elapsed time: 687007503ns\n"
     ]
    },
    {
     "data": {
      "text/plain": [
       "defined \u001b[32mfunction\u001b[39m \u001b[36mtime\u001b[39m\n",
       "defined \u001b[32mfunction\u001b[39m \u001b[36mevaluate\u001b[39m"
      ]
     },
     "execution_count": 11,
     "metadata": {},
     "output_type": "execute_result"
    }
   ],
   "source": [
    "def time[R](block: => R): R = {\n",
    "    val t0 = System.nanoTime()\n",
    "    val result = block    // call-by-name\n",
    "    val t1 = System.nanoTime()\n",
    "    println(\"Elapsed time: \" + (t1 - t0) + \"ns\")\n",
    "    result\n",
    "}\n",
    "\n",
    "def evaluate(context : java.math.MathContext) {\n",
    "    val orig = BigDecimal(362.2, context)\n",
    "    val mult = BigDecimal(0.015, context)\n",
    "    val ITERS = 1000*100\n",
    "    var res = 0\n",
    "\n",
    "    val time_taken = time {\n",
    "        for ( i <- 1.to(ITERS) ) {\n",
    "            val result = orig * mult\n",
    "            if ( result != 543 ) res += 1    //compare with something\n",
    "        }\n",
    "    }\n",
    "    //println(\"time elapsed: \" + time_taken._2.toMillis + \" ms\")\n",
    "}\n",
    "\n",
    "\n",
    "evaluate(java.math.MathContext.DECIMAL32)\n",
    "evaluate(java.math.MathContext.DECIMAL64)\n",
    "evaluate(java.math.MathContext.DECIMAL128)\n",
    "\n"
   ]
  }
 ],
 "metadata": {
  "kernelspec": {
   "display_name": "Scala",
   "language": "scala",
   "name": "scala"
  },
  "language_info": {
   "codemirror_mode": "text/x-scala",
   "file_extension": ".scala",
   "mimetype": "text/x-scala",
   "name": "scala211",
   "nbconvert_exporter": "scala",
   "pygments_lexer": "scala",
   "version": "2.11.8"
  },
  "latex_envs": {
   "LaTeX_envs_menu_present": true,
   "bibliofile": "biblio.bib",
   "cite_by": "apalike",
   "current_citInitial": 1,
   "eqLabelWithNumbers": true,
   "eqNumInitial": 1,
   "labels_anchors": false,
   "latex_user_defs": false,
   "report_style_numbering": false,
   "user_envs_cfg": false
  },
  "toc": {
   "colors": {
    "hover_highlight": "#DAA520",
    "running_highlight": "#FF0000",
    "selected_highlight": "#FFD700"
   },
   "moveMenuLeft": true,
   "nav_menu": {
    "height": "12px",
    "width": "252px"
   },
   "navigate_menu": true,
   "number_sections": true,
   "sideBar": true,
   "threshold": 4,
   "toc_cell": false,
   "toc_section_display": "block",
   "toc_window_display": false
  }
 },
 "nbformat": 4,
 "nbformat_minor": 2
}
