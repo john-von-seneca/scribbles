{
 "cells": [
  {
   "cell_type": "code",
   "execution_count": 5,
   "metadata": {
    "ExecuteTime": {
     "end_time": "2017-01-06T14:11:51.492696",
     "start_time": "2017-01-06T08:41:50.678Z"
    },
    "collapsed": false,
    "run_control": {
     "frozen": false,
     "read_only": false
    }
   },
   "outputs": [
    {
     "name": "stdout",
     "output_type": "stream",
     "text": [
      "Byte: -128.0 to 127.0\n",
      "Short: -32768.0 to 32767.0\n",
      "Int: -2.147483648E9 to 2.147483647E9\n",
      "Long: -9.223372036854776E18 to 9.223372036854776E18\n"
     ]
    }
   ],
   "source": [
    "println(\"Byte: \" + -scala.math.pow(2,7) + \" to \" + (scala.math.pow(2,7)-1))\n",
    "println(\"Short: \" + -scala.math.pow(2,15) + \" to \" + (scala.math.pow(2,15)-1))\n",
    "println(\"Int: \" + -scala.math.pow(2,31) + \" to \" + (scala.math.pow(2,31)-1))\n",
    "println(\"Long: \" + -scala.math.pow(2,63) + \" to \" + (scala.math.pow(2,63)-1))"
   ]
  },
  {
   "cell_type": "markdown",
   "metadata": {},
   "source": [
    "If an Int literal is assigned to a variable of type Short or Byte,   \n",
    "the literal is treated as if it were a Short or Byte type so long as the literal value is within the valid range for that type."
   ]
  },
  {
   "cell_type": "code",
   "execution_count": 4,
   "metadata": {
    "ExecuteTime": {
     "end_time": "2017-03-27T16:43:07.939543",
     "start_time": "2017-03-27T11:13:07.280Z"
    },
    "collapsed": false
   },
   "outputs": [
    {
     "data": {
      "text/plain": [
       "\u001b[36ma\u001b[39m: \u001b[32mByte\u001b[39m = \u001b[32m127\u001b[39m\n",
       "\u001b[36mc\u001b[39m: \u001b[32mInt\u001b[39m = \u001b[32m127\u001b[39m"
      ]
     },
     "execution_count": 4,
     "metadata": {},
     "output_type": "execute_result"
    }
   ],
   "source": [
    "val a: Byte = 127\n",
    "\n",
    "// this would result in a type mismatch error\n",
    "// val b: Byte = 128\n",
    "\n",
    "val c  = 127"
   ]
  },
  {
   "cell_type": "markdown",
   "metadata": {},
   "source": [
    "Unicode characters can appear anywhere in a Scala program.   \n",
    "For instance you could also write an identifier like this:"
   ]
  },
  {
   "cell_type": "code",
   "execution_count": 5,
   "metadata": {
    "ExecuteTime": {
     "end_time": "2017-03-27T16:45:15.839864",
     "start_time": "2017-03-27T11:15:15.180Z"
    },
    "collapsed": false
   },
   "outputs": [
    {
     "data": {
      "text/plain": [
       "\u001b[36mBAD\u001b[39m: \u001b[32mInt\u001b[39m = \u001b[32m1\u001b[39m"
      ]
     },
     "execution_count": 5,
     "metadata": {},
     "output_type": "execute_result"
    }
   ],
   "source": [
    "val B\\u0041\\u0044 = 1"
   ]
  },
  {
   "cell_type": "markdown",
   "metadata": {},
   "source": [
    "### strings"
   ]
  },
  {
   "cell_type": "markdown",
   "metadata": {},
   "source": [
    "**raw strings**"
   ]
  },
  {
   "cell_type": "code",
   "execution_count": 6,
   "metadata": {
    "ExecuteTime": {
     "end_time": "2017-03-27T16:46:52.183989",
     "start_time": "2017-03-27T11:16:51.299Z"
    },
    "collapsed": false
   },
   "outputs": [
    {
     "name": "stdout",
     "output_type": "stream",
     "text": [
      "Welcome to Ultamix 3000.\n",
      "             Type \"HELP\" for help.\n"
     ]
    }
   ],
   "source": [
    "println(\"\"\"Welcome to Ultamix 3000.\n",
    "             Type \"HELP\" for help.\"\"\")"
   ]
  },
  {
   "cell_type": "code",
   "execution_count": 7,
   "metadata": {
    "ExecuteTime": {
     "end_time": "2017-03-27T16:47:11.725787",
     "start_time": "2017-03-27T11:17:10.970Z"
    },
    "collapsed": false
   },
   "outputs": [
    {
     "name": "stdout",
     "output_type": "stream",
     "text": [
      "Welcome to Ultamix 3000.\n",
      "Type \"HELP\" for help.\n"
     ]
    }
   ],
   "source": [
    "println(\"\"\"|Welcome to Ultamix 3000.\n",
    "           |Type \"HELP\" for help.\"\"\".stripMargin)"
   ]
  },
  {
   "cell_type": "markdown",
   "metadata": {},
   "source": [
    "### symbols"
   ]
  },
  {
   "cell_type": "markdown",
   "metadata": {},
   "source": [
    "like ruby's  \n",
    "comparison is cheap  \n",
    "refer to the same instance, that is, they are **interned**"
   ]
  },
  {
   "cell_type": "code",
   "execution_count": 6,
   "metadata": {
    "ExecuteTime": {
     "end_time": "2017-01-06T14:29:51.336789",
     "start_time": "2017-01-06T08:59:50.266Z"
    },
    "collapsed": false,
    "run_control": {
     "frozen": false,
     "read_only": false
    }
   },
   "outputs": [
    {
     "name": "stdout",
     "output_type": "stream",
     "text": [
      "362.2 - 362.6 = -0.4000000000000341\n"
     ]
    }
   ],
   "source": [
    "println( \"362.2 - 362.6 = \" + ( 362.2 - 362.6 ) )"
   ]
  },
  {
   "cell_type": "code",
   "execution_count": 1,
   "metadata": {
    "ExecuteTime": {
     "end_time": "2017-01-06T15:08:06.756371",
     "start_time": "2017-01-06T09:38:02.456Z"
    },
    "collapsed": false,
    "run_control": {
     "frozen": false,
     "read_only": false
    }
   },
   "outputs": [
    {
     "data": {
      "text/plain": [
       "\u001b[36mres0\u001b[39m: \u001b[32mInt\u001b[39m = \u001b[32m1\u001b[39m"
      ]
     },
     "execution_count": 1,
     "metadata": {},
     "output_type": "execute_result"
    }
   ],
   "source": [
    "\"1\".toInt"
   ]
  },
  {
   "cell_type": "code",
   "execution_count": 8,
   "metadata": {
    "ExecuteTime": {
     "end_time": "2017-01-06T14:35:45.093969",
     "start_time": "2017-01-06T09:05:44.443Z"
    },
    "collapsed": false,
    "run_control": {
     "frozen": false,
     "read_only": false
    }
   },
   "outputs": [
    {
     "name": "stdout",
     "output_type": "stream",
     "text": [
      "double\n"
     ]
    }
   ],
   "source": [
    "println(1000*1000*100.getClass)"
   ]
  },
  {
   "cell_type": "code",
   "execution_count": null,
   "metadata": {
    "collapsed": false,
    "run_control": {
     "frozen": false,
     "read_only": false
    }
   },
   "outputs": [],
   "source": [
    "def time[R](block: => R): R = {\n",
    "    val t0 = System.nanoTime()\n",
    "    val result = block    // call-by-name\n",
    "    val t1 = System.nanoTime()\n",
    "    println(\"Elapsed time: \" + (t1 - t0) + \"ns\")\n",
    "    result\n",
    "}\n",
    "\n",
    "// Now wrap your method calls, for example change this...\n",
    "// val result = 1 to 1000 sum\n",
    "// ... into this\n",
    "// val result = time { 1 to 1000 sum }"
   ]
  },
  {
   "cell_type": "markdown",
   "metadata": {
    "cell_style": "split",
    "run_control": {
     "frozen": false,
     "read_only": false
    }
   },
   "source": [
    "Double Computations"
   ]
  },
  {
   "cell_type": "markdown",
   "metadata": {
    "cell_style": "split",
    "run_control": {
     "frozen": false,
     "read_only": false
    }
   },
   "source": [
    "Big Decimal computations"
   ]
  },
  {
   "cell_type": "code",
   "execution_count": 3,
   "metadata": {
    "ExecuteTime": {
     "end_time": "2017-01-06T15:11:42.623012",
     "start_time": "2017-01-06T09:41:39.248Z"
    },
    "cell_style": "center",
    "collapsed": false,
    "run_control": {
     "frozen": false,
     "read_only": false
    }
   },
   "outputs": [
    {
     "name": "stdout",
     "output_type": "stream",
     "text": [
      "time elapsed: 2 ms\n"
     ]
    },
    {
     "data": {
      "text/plain": [
       "\u001b[36morig\u001b[39m: \u001b[32mInt\u001b[39m = \u001b[32m36220\u001b[39m\n",
       "\u001b[36mres\u001b[39m: \u001b[32mInt\u001b[39m = \u001b[32m1000\u001b[39m\n",
       "\u001b[36mITERS\u001b[39m: \u001b[32mInt\u001b[39m = \u001b[32m1000\u001b[39m\n",
       "\u001b[36mtime_taken\u001b[39m: (\u001b[32mUnit\u001b[39m, \u001b[32mconcurrent\u001b[39m.\u001b[32mduration\u001b[39m.\u001b[32mFiniteDuration\u001b[39m) = (\u001b[32m()\u001b[39m, 2801648 nanoseconds)"
      ]
     },
     "execution_count": 3,
     "metadata": {},
     "output_type": "execute_result"
    }
   ],
   "source": [
    "val orig = 36220; //362.2 in cents\n",
    "var res = 0\n",
    "val ITERS = 1000\n",
    "\n",
    "val time_taken =\n",
    "time {\n",
    "    for ( i <- 1.to(ITERS) ) {\n",
    "        val result = Math.round( orig * i )\n",
    "        if ( result != 543 ) res += 1    //compare with something\n",
    "    }\n",
    "}\n",
    "\n",
    "println(\"time elapsed: \" + time_taken._2.toMillis + \" ms\")"
   ]
  },
  {
   "cell_type": "code",
   "execution_count": 4,
   "metadata": {
    "ExecuteTime": {
     "end_time": "2017-01-06T15:21:22.976426",
     "start_time": "2017-01-06T09:51:20.962Z"
    },
    "cell_style": "center",
    "collapsed": false,
    "run_control": {
     "frozen": false,
     "read_only": false
    }
   },
   "outputs": [
    {
     "name": "stdout",
     "output_type": "stream",
     "text": [
      "time elapsed: 24 ms\n"
     ]
    },
    {
     "data": {
      "text/plain": [
       "\u001b[36morig\u001b[39m: \u001b[32mBigDecimal\u001b[39m = 362.2\n",
       "\u001b[36mmult\u001b[39m: \u001b[32mBigDecimal\u001b[39m = 0.015\n",
       "\u001b[36mITERS\u001b[39m: \u001b[32mInt\u001b[39m = \u001b[32m1000\u001b[39m\n",
       "\u001b[36mres\u001b[39m: \u001b[32mInt\u001b[39m = \u001b[32m1000\u001b[39m\n",
       "\u001b[36mtime_taken\u001b[39m: (\u001b[32mUnit\u001b[39m, \u001b[32mconcurrent\u001b[39m.\u001b[32mduration\u001b[39m.\u001b[32mFiniteDuration\u001b[39m) = (\u001b[32m()\u001b[39m, 24199735 nanoseconds)"
      ]
     },
     "execution_count": 4,
     "metadata": {},
     "output_type": "execute_result"
    }
   ],
   "source": [
    "val orig = BigDecimal(362.2)\n",
    "val mult = BigDecimal(0.015)\n",
    "val ITERS = 1000\n",
    "var res = 0\n",
    "\n",
    "val time_taken =\n",
    "time {\n",
    "    for ( i <- 1.to(ITERS) ) {\n",
    "        val result = orig * mult\n",
    "        if ( result != 543 ) res += 1    //compare with something\n",
    "    }\n",
    "}\n",
    "\n",
    "println(\"time elapsed: \" + time_taken._2.toMillis + \" ms\")"
   ]
  },
  {
   "cell_type": "code",
   "execution_count": 11,
   "metadata": {
    "ExecuteTime": {
     "end_time": "2017-01-06T15:41:15.572354",
     "start_time": "2017-01-06T10:11:12.871Z"
    },
    "collapsed": false,
    "run_control": {
     "frozen": false,
     "read_only": false
    }
   },
   "outputs": [
    {
     "name": "stdout",
     "output_type": "stream",
     "text": [
      "Elapsed time: 705517476ns\n",
      "Elapsed time: 694229658ns\n",
      "Elapsed time: 687007503ns\n"
     ]
    },
    {
     "data": {
      "text/plain": [
       "defined \u001b[32mfunction\u001b[39m \u001b[36mtime\u001b[39m\n",
       "defined \u001b[32mfunction\u001b[39m \u001b[36mevaluate\u001b[39m"
      ]
     },
     "execution_count": 11,
     "metadata": {},
     "output_type": "execute_result"
    }
   ],
   "source": [
    "def time[R](block: => R): R = {\n",
    "    val t0 = System.nanoTime()\n",
    "    val result = block    // call-by-name\n",
    "    val t1 = System.nanoTime()\n",
    "    println(\"Elapsed time: \" + (t1 - t0) + \"ns\")\n",
    "    result\n",
    "}\n",
    "\n",
    "def evaluate(context : java.math.MathContext) {\n",
    "    val orig = BigDecimal(362.2, context)\n",
    "    val mult = BigDecimal(0.015, context)\n",
    "    val ITERS = 1000*100\n",
    "    var res = 0\n",
    "\n",
    "    val time_taken = time {\n",
    "        for ( i <- 1.to(ITERS) ) {\n",
    "            val result = orig * mult\n",
    "            if ( result != 543 ) res += 1    //compare with something\n",
    "        }\n",
    "    }\n",
    "    //println(\"time elapsed: \" + time_taken._2.toMillis + \" ms\")\n",
    "}\n",
    "\n",
    "\n",
    "evaluate(java.math.MathContext.DECIMAL32)\n",
    "evaluate(java.math.MathContext.DECIMAL64)\n",
    "evaluate(java.math.MathContext.DECIMAL128)\n",
    "\n"
   ]
  },
  {
   "cell_type": "markdown",
   "metadata": {},
   "source": [
    "# operators are methods"
   ]
  },
  {
   "cell_type": "markdown",
   "metadata": {},
   "source": [
    "class String has a method, indexOf, that takes one Char parameter.   \n",
    "The indexOf method searches the string for the first occurrence of the specified character,"
   ]
  },
  {
   "cell_type": "code",
   "execution_count": 9,
   "metadata": {
    "ExecuteTime": {
     "end_time": "2017-03-27T16:57:05.542873",
     "start_time": "2017-03-27T11:27:04.794Z"
    },
    "collapsed": false
   },
   "outputs": [
    {
     "data": {
      "text/plain": [
       "\u001b[36mstr_1\u001b[39m: \u001b[32mString\u001b[39m = \u001b[32m\"Hello, world!\"\u001b[39m"
      ]
     },
     "execution_count": 9,
     "metadata": {},
     "output_type": "execute_result"
    }
   ],
   "source": [
    "val str_1 = \"Hello, world!\""
   ]
  },
  {
   "cell_type": "markdown",
   "metadata": {},
   "source": [
    "whenever you call a method that takes multiple arguments using operator notation,   \n",
    "you have to place those arguments in parentheses"
   ]
  },
  {
   "cell_type": "code",
   "execution_count": 12,
   "metadata": {
    "ExecuteTime": {
     "end_time": "2017-03-27T16:57:49.476747",
     "start_time": "2017-03-27T11:27:48.440Z"
    },
    "collapsed": false
   },
   "outputs": [
    {
     "data": {
      "text/plain": [
       "\u001b[36mres11_0\u001b[39m: \u001b[32mInt\u001b[39m = \u001b[32m4\u001b[39m\n",
       "\u001b[36mres11_1\u001b[39m: \u001b[32mInt\u001b[39m = \u001b[32m4\u001b[39m\n",
       "\u001b[36mres11_2\u001b[39m: \u001b[32mInt\u001b[39m = \u001b[32m4\u001b[39m\n",
       "\u001b[36mres11_3\u001b[39m: \u001b[32mInt\u001b[39m = \u001b[32m4\u001b[39m\n",
       "\u001b[36mres11_4\u001b[39m: \u001b[32mInt\u001b[39m = \u001b[32m4\u001b[39m\n",
       "\u001b[36mres11_5\u001b[39m: \u001b[32mInt\u001b[39m = \u001b[32m8\u001b[39m"
      ]
     },
     "execution_count": 12,
     "metadata": {},
     "output_type": "execute_result"
    }
   ],
   "source": [
    "s indexOf 'o'\n",
    "s.indexOf('o')\n",
    "s indexOf ('o', 0)\n",
    "s indexOf ('o', 2)\n",
    "s indexOf ('o', 4)\n",
    "s indexOf ('o', 6)"
   ]
  },
  {
   "cell_type": "markdown",
   "metadata": {},
   "source": [
    "infix, prefix and postfix  \n",
    "\n",
    "in case of infix operators, the method name and the operator name are the same..  \n",
    "but in case of prefix, \"unary_\" is prepended to the operator name  "
   ]
  },
  {
   "cell_type": "code",
   "execution_count": 13,
   "metadata": {
    "ExecuteTime": {
     "end_time": "2017-03-27T17:03:03.929315",
     "start_time": "2017-03-27T11:33:03.289Z"
    },
    "collapsed": false
   },
   "outputs": [
    {
     "data": {
      "text/plain": [
       "\u001b[36mres12_0\u001b[39m: \u001b[32mDouble\u001b[39m = \u001b[32m-2.0\u001b[39m\n",
       "\u001b[36mres12_1\u001b[39m: \u001b[32mInt\u001b[39m = \u001b[32m-2\u001b[39m"
      ]
     },
     "execution_count": 13,
     "metadata": {},
     "output_type": "execute_result"
    }
   ],
   "source": [
    "-2.0\n",
    "2.unary_-"
   ]
  },
  {
   "cell_type": "markdown",
   "metadata": {},
   "source": [
    "The only identifiers that can be used as prefix operators are +, -, !, and ~."
   ]
  },
  {
   "cell_type": "markdown",
   "metadata": {},
   "source": [
    "You may be wondering how short-circuiting can work given operators are just methods.   \n",
    "Normally, all arguments are evaluated before entering a method,   \n",
    "so how can a method avoid evaluating its second argument?  \n",
    "\n",
    "The answer is that all Scala methods have a facility for delaying the evaluation of their arguments,  \n",
    "or even declining to evaluate them at all.    \n",
    "The facility is called by-name parameters and is discussed in Section 9.5."
   ]
  },
  {
   "cell_type": "markdown",
   "metadata": {},
   "source": [
    "## operators"
   ]
  },
  {
   "cell_type": "markdown",
   "metadata": {},
   "source": [
    "\\begin{array}{rl}\n",
    "\\text{Logical And} & \\&\\& \\\\\n",
    "\\text{Logical Or} & || \\\\\n",
    "\\end{array}"
   ]
  },
  {
   "cell_type": "markdown",
   "metadata": {},
   "source": [
    "\\begin{array}{rl}\n",
    "\\text{Bitwise And} & \\& \\\\\n",
    "\\text{Bitwise Or} & | \\\\\n",
    "\\text{Bitwise Xor} & \\text{^} \\\\\n",
    "\\end{array}"
   ]
  },
  {
   "cell_type": "markdown",
   "metadata": {},
   "source": [
    "Shift operators\n",
    "\\begin{array}{rl}\n",
    "\\text{Left Shift} & << \\\\\n",
    "\\text{Right Shift} & >> \\\\\n",
    "\\text{Unsigned Right Shift} & >>> \\\\\n",
    "\\end{array}"
   ]
  },
  {
   "cell_type": "markdown",
   "metadata": {},
   "source": [
    " 5.8\n",
    "How Scala’s == differs from Java’s\n",
    "\n",
    "In Java, you can use == to compare both primitive and reference types.  \n",
    "On primitive types, Java’s == compares value equality, as in Scala.   \n",
    "\n",
    "On reference types, however, Java’s == compares reference equality, \n",
    "which means the two variables point to the same object on the JVM’s heap.  \n",
    "\n",
    "Scala provides a facility for comparing reference equality, as well, under the name eq.   \n",
    "However, eq and its opposite, ne, only apply to objects that directly map to Java objects.  \n",
    "The full details about eq and ne are given in Sections 11.1 and 11.2. Also, see Chapter 30 on how to write a good equals method."
   ]
  },
  {
   "cell_type": "markdown",
   "metadata": {},
   "source": [
    "### operator precedence"
   ]
  },
  {
   "cell_type": "markdown",
   "metadata": {},
   "source": [
    "(all other special characters)   \n",
    "*/%    \n",
    "+-   \n",
    ":    \n",
    "=! <> &   \n",
    "ˆ   \n",
    "|   \n",
    "(all letters)  \n",
    "(all assignment operators)  \n"
   ]
  },
  {
   "cell_type": "markdown",
   "metadata": {},
   "source": [
    "Special case  \n",
    "\n",
    "The one exception to the precedence rule, alluded to above,   \n",
    "concerns assignment operators, which end in an equals character.    \n",
    "\n",
    "If an operator ends in an equals character (=),   \n",
    "and the operator is not one of the comparison operators <=, >=, ==, or !=,    \n",
    "then the precedence of the operator is the same as that of simple assignment (=). \n",
    "\n",
    "That is, it is lower than the precedence of any other operator."
   ]
  },
  {
   "cell_type": "markdown",
   "metadata": {},
   "source": [
    "### associativity\n",
    "\n",
    "generally left associative,  \n",
    "except for methods ending with \":\", which are right associative.\n",
    "\n",
    "No matter what associativity an operator has, however, its operands are always evaluated left to right.  \n",
    "That is, in a ::: b, the expression a is evaluated before b"
   ]
  },
  {
   "cell_type": "markdown",
   "metadata": {},
   "source": [
    "| Code | Result |\n",
    "| ---- | ------ |\n",
    "| 0 max 5 | 5 |\n",
    "| 0 min 5 | 0 |\n",
    "| -2.7 abs | 2.7 |\n",
    "| -2.7 round | -3L |\n",
    "| 1.5 isInfinity | false |\n",
    "| (1.0 / 0) isInfinity | true |\n",
    "| 4 to 6 | range(4, 5, 6) |\n",
    "| \"bob\" capitalize | \"Bob\" |\n",
    "| \"robert\" drop 2 | \"bert\" |\n"
   ]
  },
  {
   "cell_type": "markdown",
   "metadata": {},
   "source": [
    "Table 5.5 · Rich wrapper classes\n",
    "\n",
    "| Basic type | Rich wrapper |\n",
    "| ---------- | ------------ |\n",
    "| Byte     | scala.runtime.RichByte |\n",
    "| Short    | scala.runtime.RichShort |\n",
    "| Int      | scala.runtime.RichInt |\n",
    "| Char     | scala.runtime.RichChar |\n",
    "| Float    | scala.runtime.RichFloat |\n",
    "| Double   | scala.runtime.RichDouble |\n",
    "| Boolean  | scala.runtime.RichBoolean |\n",
    "| String   | scala.collection.immutable.StringOps |\n"
   ]
  },
  {
   "cell_type": "markdown",
   "metadata": {},
   "source": []
  },
  {
   "cell_type": "code",
   "execution_count": null,
   "metadata": {
    "collapsed": true
   },
   "outputs": [],
   "source": []
  },
  {
   "cell_type": "code",
   "execution_count": null,
   "metadata": {
    "collapsed": true
   },
   "outputs": [],
   "source": []
  },
  {
   "cell_type": "code",
   "execution_count": null,
   "metadata": {
    "collapsed": true
   },
   "outputs": [],
   "source": []
  },
  {
   "cell_type": "code",
   "execution_count": null,
   "metadata": {
    "collapsed": true
   },
   "outputs": [],
   "source": []
  },
  {
   "cell_type": "code",
   "execution_count": null,
   "metadata": {
    "collapsed": true
   },
   "outputs": [],
   "source": []
  },
  {
   "cell_type": "code",
   "execution_count": null,
   "metadata": {
    "collapsed": true
   },
   "outputs": [],
   "source": []
  },
  {
   "cell_type": "code",
   "execution_count": null,
   "metadata": {
    "collapsed": true
   },
   "outputs": [],
   "source": []
  },
  {
   "cell_type": "code",
   "execution_count": null,
   "metadata": {
    "collapsed": true
   },
   "outputs": [],
   "source": []
  },
  {
   "cell_type": "code",
   "execution_count": null,
   "metadata": {
    "collapsed": true
   },
   "outputs": [],
   "source": []
  },
  {
   "cell_type": "code",
   "execution_count": null,
   "metadata": {
    "collapsed": true
   },
   "outputs": [],
   "source": []
  },
  {
   "cell_type": "code",
   "execution_count": null,
   "metadata": {
    "collapsed": true
   },
   "outputs": [],
   "source": []
  },
  {
   "cell_type": "code",
   "execution_count": null,
   "metadata": {
    "collapsed": true
   },
   "outputs": [],
   "source": []
  },
  {
   "cell_type": "code",
   "execution_count": null,
   "metadata": {
    "collapsed": true
   },
   "outputs": [],
   "source": []
  },
  {
   "cell_type": "code",
   "execution_count": null,
   "metadata": {
    "collapsed": true
   },
   "outputs": [],
   "source": []
  },
  {
   "cell_type": "code",
   "execution_count": null,
   "metadata": {
    "collapsed": true
   },
   "outputs": [],
   "source": []
  },
  {
   "cell_type": "code",
   "execution_count": null,
   "metadata": {
    "collapsed": true
   },
   "outputs": [],
   "source": []
  },
  {
   "cell_type": "code",
   "execution_count": null,
   "metadata": {
    "collapsed": true
   },
   "outputs": [],
   "source": []
  },
  {
   "cell_type": "code",
   "execution_count": null,
   "metadata": {
    "collapsed": true
   },
   "outputs": [],
   "source": []
  },
  {
   "cell_type": "code",
   "execution_count": null,
   "metadata": {
    "collapsed": true
   },
   "outputs": [],
   "source": []
  },
  {
   "cell_type": "code",
   "execution_count": null,
   "metadata": {
    "collapsed": true
   },
   "outputs": [],
   "source": []
  },
  {
   "cell_type": "code",
   "execution_count": null,
   "metadata": {
    "collapsed": true
   },
   "outputs": [],
   "source": []
  },
  {
   "cell_type": "code",
   "execution_count": null,
   "metadata": {
    "collapsed": true
   },
   "outputs": [],
   "source": []
  },
  {
   "cell_type": "code",
   "execution_count": null,
   "metadata": {
    "collapsed": true
   },
   "outputs": [],
   "source": []
  },
  {
   "cell_type": "code",
   "execution_count": null,
   "metadata": {
    "collapsed": true
   },
   "outputs": [],
   "source": []
  },
  {
   "cell_type": "code",
   "execution_count": null,
   "metadata": {
    "collapsed": true
   },
   "outputs": [],
   "source": []
  },
  {
   "cell_type": "code",
   "execution_count": null,
   "metadata": {
    "collapsed": true
   },
   "outputs": [],
   "source": []
  },
  {
   "cell_type": "code",
   "execution_count": null,
   "metadata": {
    "collapsed": true
   },
   "outputs": [],
   "source": []
  },
  {
   "cell_type": "code",
   "execution_count": null,
   "metadata": {
    "collapsed": true
   },
   "outputs": [],
   "source": []
  },
  {
   "cell_type": "code",
   "execution_count": null,
   "metadata": {
    "collapsed": true
   },
   "outputs": [],
   "source": []
  },
  {
   "cell_type": "code",
   "execution_count": null,
   "metadata": {
    "collapsed": true
   },
   "outputs": [],
   "source": []
  },
  {
   "cell_type": "code",
   "execution_count": null,
   "metadata": {
    "collapsed": true
   },
   "outputs": [],
   "source": []
  },
  {
   "cell_type": "code",
   "execution_count": null,
   "metadata": {
    "collapsed": true
   },
   "outputs": [],
   "source": []
  },
  {
   "cell_type": "code",
   "execution_count": null,
   "metadata": {
    "collapsed": true
   },
   "outputs": [],
   "source": []
  },
  {
   "cell_type": "code",
   "execution_count": null,
   "metadata": {
    "collapsed": true
   },
   "outputs": [],
   "source": []
  },
  {
   "cell_type": "code",
   "execution_count": null,
   "metadata": {
    "collapsed": true
   },
   "outputs": [],
   "source": []
  },
  {
   "cell_type": "code",
   "execution_count": null,
   "metadata": {
    "collapsed": true
   },
   "outputs": [],
   "source": []
  },
  {
   "cell_type": "code",
   "execution_count": null,
   "metadata": {
    "collapsed": true
   },
   "outputs": [],
   "source": []
  },
  {
   "cell_type": "code",
   "execution_count": null,
   "metadata": {
    "collapsed": true
   },
   "outputs": [],
   "source": []
  },
  {
   "cell_type": "code",
   "execution_count": null,
   "metadata": {
    "collapsed": true
   },
   "outputs": [],
   "source": []
  },
  {
   "cell_type": "code",
   "execution_count": null,
   "metadata": {
    "collapsed": true
   },
   "outputs": [],
   "source": []
  },
  {
   "cell_type": "code",
   "execution_count": null,
   "metadata": {
    "collapsed": true
   },
   "outputs": [],
   "source": []
  },
  {
   "cell_type": "code",
   "execution_count": null,
   "metadata": {
    "collapsed": true
   },
   "outputs": [],
   "source": []
  }
 ],
 "metadata": {
  "hide_input": false,
  "kernelspec": {
   "display_name": "Scala",
   "language": "scala",
   "name": "scala"
  },
  "language_info": {
   "codemirror_mode": "text/x-scala",
   "file_extension": ".scala",
   "mimetype": "text/x-scala",
   "name": "scala211",
   "nbconvert_exporter": "scala",
   "pygments_lexer": "scala",
   "version": "2.11.8"
  },
  "latex_envs": {
   "LaTeX_envs_menu_present": true,
   "bibliofile": "biblio.bib",
   "cite_by": "apalike",
   "current_citInitial": 1,
   "eqLabelWithNumbers": true,
   "eqNumInitial": 1,
   "labels_anchors": false,
   "latex_user_defs": false,
   "report_style_numbering": false,
   "user_envs_cfg": false
  },
  "toc": {
   "colors": {
    "hover_highlight": "#DAA520",
    "running_highlight": "#FF0000",
    "selected_highlight": "#FFD700"
   },
   "moveMenuLeft": true,
   "nav_menu": {
    "height": "12px",
    "width": "252px"
   },
   "navigate_menu": true,
   "number_sections": true,
   "sideBar": true,
   "threshold": 4,
   "toc_cell": false,
   "toc_section_display": "block",
   "toc_window_display": false
  }
 },
 "nbformat": 4,
 "nbformat_minor": 2
}
