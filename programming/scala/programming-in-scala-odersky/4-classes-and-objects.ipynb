{
 "cells": [
  {
   "cell_type": "markdown",
   "metadata": {},
   "source": [
    "# Gen stuff"
   ]
  },
  {
   "cell_type": "code",
   "execution_count": null,
   "metadata": {
    "cell_style": "split",
    "collapsed": true
   },
   "outputs": [],
   "source": [
    "class Animal {\n",
    "\tprivate var x = 0;\n",
    "\tdef update_x(n : Int) = x = n\n",
    "\tdef print_x() {println(\"x: \" + x)}\n",
    "\tdef other_x(other : Animal) = other.x\n",
    "}\n",
    "\n",
    "val a1 = new Animal()\n",
    "val a2 = new Animal()\n",
    "a1.update_x(55)"
   ]
  },
  {
   "cell_type": "markdown",
   "metadata": {
    "cell_style": "split"
   },
   "source": [
    "* Method body can be on the same line without braces  \n",
    "* Methods which return **Unit** type can be written w/o equals sign\n",
    "    * like *print_x* method in class **Animal**"
   ]
  },
  {
   "cell_type": "markdown",
   "metadata": {},
   "source": []
  },
  {
   "cell_type": "code",
   "execution_count": null,
   "metadata": {
    "cell_style": "split",
    "collapsed": true
   },
   "outputs": [],
   "source": [
    "a1.print_x"
   ]
  },
  {
   "cell_type": "markdown",
   "metadata": {
    "cell_style": "split"
   },
   "source": [
    "No need for paratheses for method calls with no args"
   ]
  },
  {
   "cell_type": "code",
   "execution_count": 9,
   "metadata": {
    "ExecuteTime": {
     "end_time": "2017-01-06T10:48:54.818123",
     "start_time": "2017-01-06T05:18:53.767Z"
    },
    "cell_style": "split",
    "collapsed": false,
    "run_control": {
     "frozen": false,
     "read_only": false
    }
   },
   "outputs": [
    {
     "name": "stdout",
     "output_type": "stream",
     "text": [
      "x: 55\n",
      "55\n"
     ]
    },
    {
     "data": {
      "text/plain": [
       "defined \u001b[32mclass\u001b[39m \u001b[36mAnimal\u001b[39m\n",
       "\u001b[36ma1\u001b[39m: \u001b[32mwrapper\u001b[39m.\u001b[32mwrapper\u001b[39m.\u001b[32mAnimal\u001b[39m = $sess.cmd8Wrapper$Helper$Animal@43f2b296\n",
       "\u001b[36ma2\u001b[39m: \u001b[32mwrapper\u001b[39m.\u001b[32mwrapper\u001b[39m.\u001b[32mAnimal\u001b[39m = $sess.cmd8Wrapper$Helper$Animal@6bf6310b"
      ]
     },
     "execution_count": 9,
     "metadata": {},
     "output_type": "execute_result"
    }
   ],
   "source": [
    "println(a2.other_x(a1))"
   ]
  },
  {
   "cell_type": "markdown",
   "metadata": {
    "cell_style": "split"
   },
   "source": [
    "Instances of the same class can access each others' privates..    \n",
    "much like an animal..  "
   ]
  },
  {
   "cell_type": "markdown",
   "metadata": {},
   "source": [
    "# Singleton Objects"
   ]
  },
  {
   "cell_type": "code",
   "execution_count": 10,
   "metadata": {
    "ExecuteTime": {
     "end_time": "2017-01-06T11:11:01.513239",
     "start_time": "2017-01-06T05:41:01.016Z"
    },
    "collapsed": false
   },
   "outputs": [
    {
     "data": {
      "text/plain": [
       "defined \u001b[32mclass\u001b[39m \u001b[36mCheckSumAcc\u001b[39m"
      ]
     },
     "execution_count": 10,
     "metadata": {},
     "output_type": "execute_result"
    }
   ],
   "source": [
    "class CheckSumAcc {\n",
    "    private var sum = 0\n",
    "    def add(b : Byte) { sum += b}\n",
    "    def checksum() = ~(sum & 0xFF) + 1\n",
    "}"
   ]
  },
  {
   "cell_type": "code",
   "execution_count": 12,
   "metadata": {
    "ExecuteTime": {
     "end_time": "2017-01-06T11:50:16.913622",
     "start_time": "2017-01-06T06:20:16.156Z"
    },
    "cell_style": "split",
    "collapsed": false
   },
   "outputs": [
    {
     "data": {
      "text/plain": [
       "defined \u001b[32mobject\u001b[39m \u001b[36mCheckSumAcc\u001b[39m"
      ]
     },
     "execution_count": 12,
     "metadata": {},
     "output_type": "execute_result"
    }
   ],
   "source": [
    "object CheckSumAcc {\n",
    "    private val cache = scala.collection.mutable.Map[String, Int]()\n",
    "    def get(str1 : String) =\n",
    "        if (cache.contains(str1))\n",
    "            cache.get(str1)\n",
    "        else {\n",
    "            val acc = new CheckSumAcc\n",
    "            for(c <- str1) acc.add(c.toByte)\n",
    "            val cs = acc.checksum()\n",
    "            cache += (str1 -> cs)\n",
    "            cs\n",
    "        }\n",
    "}"
   ]
  },
  {
   "cell_type": "markdown",
   "metadata": {
    "cell_style": "split"
   },
   "source": [
    "**Companion object**: Singleton object w/ same name as the class"
   ]
  },
  {
   "cell_type": "code",
   "execution_count": 13,
   "metadata": {
    "ExecuteTime": {
     "end_time": "2017-01-06T12:17:07.636167",
     "start_time": "2017-01-06T06:47:07.624Z"
    },
    "collapsed": false
   },
   "outputs": [
    {
     "ename": "",
     "evalue": "",
     "output_type": "error",
     "traceback": [
      "SyntaxError: found \"\\\"55\\\"}\", expected (`val` | `var`) ~/ ValVarDef | `def` ~/ FunDef | `type` ~/ TypeDef | \"}\" at index 21",
      "ef kill() : String {\"55\"}",
      "                    ^"
     ]
    }
   ],
   "source": [
    "def kill() : String {\"55\"}"
   ]
  },
  {
   "cell_type": "code",
   "execution_count": 14,
   "metadata": {
    "ExecuteTime": {
     "end_time": "2017-01-06T13:11:28.170704",
     "start_time": "2017-01-06T07:41:27.306Z"
    },
    "cell_style": "split",
    "collapsed": false
   },
   "outputs": [
    {
     "data": {
      "text/plain": [
       "defined \u001b[32mobject\u001b[39m \u001b[36mTraitExposition\u001b[39m"
      ]
     },
     "execution_count": 14,
     "metadata": {},
     "output_type": "execute_result"
    }
   ],
   "source": [
    "object TraitExposition extends scala.App {\n",
    "    for(season <- List(\"cool\",\"man\")) {\n",
    "        println(season + \": \" + CheckSumAcc.get(season))\n",
    "    }\n",
    "}"
   ]
  },
  {
   "cell_type": "markdown",
   "metadata": {
    "cell_style": "split"
   },
   "source": [
    "you first write “extends Application” after the name of your singleton object. Then instead of writing a main method, you place the code you would have put in the main method directly between the curly braces of the singleton object. That’s it. You can compile and run this appli- cation just like any other."
   ]
  },
  {
   "cell_type": "code",
   "execution_count": null,
   "metadata": {
    "collapsed": true
   },
   "outputs": [],
   "source": []
  },
  {
   "cell_type": "code",
   "execution_count": null,
   "metadata": {
    "collapsed": true
   },
   "outputs": [],
   "source": []
  },
  {
   "cell_type": "code",
   "execution_count": null,
   "metadata": {
    "collapsed": true
   },
   "outputs": [],
   "source": []
  }
 ],
 "metadata": {
  "kernelspec": {
   "display_name": "Scala",
   "language": "scala",
   "name": "scala"
  },
  "language_info": {
   "codemirror_mode": "text/x-scala",
   "file_extension": ".scala",
   "mimetype": "text/x-scala",
   "name": "scala211",
   "nbconvert_exporter": "scala",
   "pygments_lexer": "scala",
   "version": "2.11.8"
  },
  "latex_envs": {
   "LaTeX_envs_menu_present": true,
   "bibliofile": "biblio.bib",
   "cite_by": "apalike",
   "current_citInitial": 1,
   "eqLabelWithNumbers": true,
   "eqNumInitial": 1,
   "labels_anchors": false,
   "latex_user_defs": false,
   "report_style_numbering": false,
   "user_envs_cfg": false
  },
  "toc": {
   "colors": {
    "hover_highlight": "#DAA520",
    "running_highlight": "#FF0000",
    "selected_highlight": "#FFD700"
   },
   "moveMenuLeft": true,
   "nav_menu": {
    "height": "48px",
    "width": "252px"
   },
   "navigate_menu": true,
   "number_sections": true,
   "sideBar": true,
   "threshold": 4,
   "toc_cell": false,
   "toc_section_display": "block",
   "toc_window_display": false
  }
 },
 "nbformat": 4,
 "nbformat_minor": 2
}
