{
 "cells": [
  {
   "cell_type": "markdown",
   "metadata": {},
   "source": [
    "# Gen stuff"
   ]
  },
  {
   "cell_type": "code",
   "metadata": {
    "cell_style": "split"
   },
   "outputs": [],
   "source": [
    "class Animal {\n",
    "\tprivate var x = 0;\n",
    "\tdef update_x(n : Int) = x = n\n",
    "\tdef print_x() {println(\"x: \" + x)}\n",
    "\tdef other_x(other : Animal) = other.x\n",
    "}\n",
    "\n",
    "val a1 = new Animal()\n",
    "val a2 = new Animal()\n",
    "a1.update_x(55)"
   ]
  },
  {
   "cell_type": "markdown",
   "metadata": {
    "cell_style": "split"
   },
   "source": [
    "* Public is Scala’s default access level.\n",
    "* Method body can be on the same line without braces  \n",
    "* Methods which return **Unit** type can be written w/o equals sign\n",
    "    * like *print_x* method in class **Animal**\n",
    "    * leave off the result type and the equals sign, \n",
    "      and enclose the body of the method in curly braces"
   ]
  },
  {
   "cell_type": "markdown",
   "metadata": {},
   "source": [
    " "
   ]
  },
  {
   "cell_type": "code",
   "metadata": {
    "cell_style": "split"
   },
   "outputs": [],
   "source": [
    "a1.print_x"
   ]
  },
  {
   "cell_type": "markdown",
   "metadata": {
    "cell_style": "split"
   },
   "source": [
    "No need for paratheses for method calls with no args"
   ]
  },
  {
   "cell_type": "code",
   "metadata": {
    "cell_style": "split"
   },
   "outputs": [],
   "source": [
    "println(a2.other_x(a1))"
   ]
  },
  {
   "cell_type": "markdown",
   "metadata": {
    "cell_style": "split"
   },
   "source": [
    "Instances of the same class can access each others' privates..    \n",
    "much like an animal.. ooooh. those animals...."
   ]
  },
  {
   "cell_type": "markdown",
   "metadata": {},
   "source": [
    "**Warning**  \n",
    "whenever you leave off the equals sign before the body of a function, its result type will definitely be Unit."
   ]
  },
  {
   "cell_type": "markdown",
   "metadata": {},
   "source": [
    "**semicolon inference**  \n",
    "A semicolon is required if you write multiple statements on a single line:"
   ]
  },
  {
   "cell_type": "markdown",
   "metadata": {},
   "source": [
    "```scala\n",
    "x\n",
    "+ y\n",
    "```\n",
    "parses as two statements, x and +y  "
   ]
  },
  {
   "cell_type": "markdown",
   "metadata": {},
   "source": [
    "```scala\n",
    "(x\n",
    "+ y)\n",
    "```\n",
    "parses as a single statement, ```x+y```"
   ]
  },
  {
   "cell_type": "markdown",
   "metadata": {},
   "source": [
    "```scala\n",
    "x +\n",
    "y\n",
    "```\n",
    "parses as a single statement, ```x+y```"
   ]
  },
  {
   "cell_type": "markdown",
   "metadata": {},
   "source": [
    "**The rules of semicolon inference**  \n",
    "The precise rules for statement separation are surprisingly simple for how well they work.  \n",
    "In short, a line ending is treated as a semicolon unless one of the following conditions is true:  \n",
    "1. The line in question ends in a word that would not be legal as the end of a statement, such as a period or an infix operator.\n",
    "1. The next line begins with a word that cannot start a statement.\n",
    "1. The line ends while inside parentheses (...) or brackets [...], because these cannot contain multiple statements anyway."
   ]
  },
  {
   "cell_type": "markdown",
   "metadata": {},
   "source": [
    "# Singleton Objects"
   ]
  },
  {
   "cell_type": "markdown",
   "metadata": {},
   "source": [
    "classes in Scala cannot have static members"
   ]
  },
  {
   "cell_type": "code",
   "metadata": {},
   "outputs": [],
   "source": [
    "class CheckSumAcc {\n",
    "    private var sum = 0\n",
    "    def add(b : Byte) { sum += b}\n",
    "    def checksum() = ~(sum & 0xFF) + 1\n",
    "}"
   ]
  },
  {
   "cell_type": "code",
   "metadata": {
    "cell_style": "split"
   },
   "outputs": [],
   "source": [
    "object CheckSumAcc {\n",
    "    private val cache = scala.collection.mutable.Map[String, Int]()\n",
    "    def get(str1 : String) =\n",
    "        if (cache.contains(str1))\n",
    "            cache.get(str1)\n",
    "        else {\n",
    "            val acc = new CheckSumAcc\n",
    "            for(c <- str1) acc.add(c.toByte)\n",
    "            val cs = acc.checksum()\n",
    "            cache += (str1 -> cs)\n",
    "            cs\n",
    "        }\n",
    "}"
   ]
  },
  {
   "cell_type": "markdown",
   "metadata": {
    "cell_style": "split"
   },
   "source": [
    "**Companion object**: Singleton object w/ same name as the class\n",
    "\n",
    "You must define both the class and its companion object in the same source file.   \n",
    "A class and its companion object can access each other’s private members.\n",
    "\n",
    "If you are a Java programmer, one way to think of singleton objects is as the home for any static methods"
   ]
  },
  {
   "cell_type": "markdown",
   "metadata": {},
   "source": [
    "Defining a singleton object doesn’t define a type  \n",
    "Each singleton object is implemented as an instance of a synthetic class.  \n",
    "A singleton object is initialized the first time some code accesses it.  \n",
    "A singleton object that does not share the same name with a companion class is called a standalone object."
   ]
  },
  {
   "cell_type": "code",
   "metadata": {},
   "outputs": [],
   "source": [
    "def kill() : String {\"55\"}"
   ]
  },
  {
   "cell_type": "markdown",
   "metadata": {},
   "source": [
    "To run a Scala program,   \n",
    "you must supply the name of a standalone singleton object with a main method that takes one parameter,  \n",
    "an Array[String],  \n",
    "and has a result type of Unit. \n",
    "\n",
    "Any standalone object with a main method of the proper signature can be used as the entry point into an application"
   ]
  },
  {
   "cell_type": "markdown",
   "metadata": {},
   "source": [
    "Scala implicitly imports members of packages java.lang and scala,\n",
    "as well as the members of a singleton object named Predef.  \n",
    "\n",
    "you’re actually invoking println on Predef.   \n",
    "(Predef.println turns around and invokes Console.println, which does the real work.)  \n",
    "When you say assert, you’re invoking Predef.assert."
   ]
  },
  {
   "cell_type": "markdown",
   "metadata": {},
   "source": [
    "```shell\n",
    "scala filename.scala\n",
    "```\n",
    "compiles your source files, but there may be a perceptible delay before the compilation finishes.  \n",
    "The reason is that every time the compiler starts up,   \n",
    "it spends time scanning the contents of jar files and doing other initial work before it even looks at the fresh source files you submit to it.  \n",
    "For this reason, the Scala distribution also includes a Scala compiler daemon called fsc (for fast Scala compiler).   \n",
    "You use it like this:\n",
    "```shell\n",
    "  $ fsc ChecksumAccumulator.scala Summer.scala\n",
    "```\n",
    "\n",
    "The first time you run fsc, it will create a local server daemon attached to a port on your computer.  \n",
    "It will then send the list of files to compile to the daemon via the port, and the daemon will compile the files.   \n",
    "The next time you run fsc, the daemon will already be running, so fsc will simply send the file list to the daemon, which will immediately compile the files.    \n",
    "Using fsc, you only need to wait for the Java runtime to startup the first time.  \n",
    "If you ever want to stop the fsc daemon, you can do so with fsc -shutdown."
   ]
  },
  {
   "cell_type": "code",
   "metadata": {
    "cell_style": "split"
   },
   "outputs": [],
   "source": [
    "object TraitExposition extends scala.App {\n",
    "    for(season <- List(\"cool\",\"man\")) {\n",
    "        println(season + \": \" + CheckSumAcc.get(season))\n",
    "    }\n",
    "}"
   ]
  },
  {
   "cell_type": "markdown",
   "metadata": {
    "cell_style": "split"
   },
   "source": [
    "you first write “extends Application” after the name of your singleton object. Then instead of writing a main method, you place the code you would have put in the main method directly between the curly braces of the singleton object. That’s it. You can compile and run this appli- cation just like any other."
   ]
  },
  {
   "cell_type": "markdown",
   "metadata": {},
   "source": [
    "* you can’t use this trait if you need to access command-line arguments   \n",
    "* Because of some restrictions in the JVM threading model, you need an explicit main method if your program is multi-threaded.\n",
    "* Some implementations of the JVM do not optimize the initialization code of an object which is executed by the Application trait. So you should inherit from Application only when your program is relatively simple and single-threaded."
   ]
  },
  {
   "cell_type": "code",
   "metadata": {},
   "outputs": [],
   "source": []
  },
  {
   "cell_type": "code",
   "metadata": {},
   "outputs": [],
   "source": []
  }
 ],
 "metadata": {
  "hide_input": false,
  "kernelspec": {
   "display_name": "Scala",
   "language": "scala",
   "name": "scala"
  },
  "language_info": {
   "codemirror_mode": "text/x-scala",
   "file_extension": ".scala",
   "mimetype": "text/x-scala",
   "name": "scala211",
   "nbconvert_exporter": "scala",
   "pygments_lexer": "scala"
  },
  "latex_envs": {
   "LaTeX_envs_menu_present": true,
   "bibliofile": "biblio.bib",
   "cite_by": "apalike",
   "current_citInitial": 1,
   "eqLabelWithNumbers": true,
   "eqNumInitial": 1,
   "labels_anchors": false,
   "latex_user_defs": false,
   "report_style_numbering": false,
   "user_envs_cfg": false
  },
  "toc": {
   "colors": {
    "hover_highlight": "#DAA520",
    "running_highlight": "#FF0000",
    "selected_highlight": "#FFD700"
   },
   "moveMenuLeft": true,
   "nav_menu": {
    "height": "48px",
    "width": "252px"
   },
   "navigate_menu": true,
   "number_sections": true,
   "sideBar": true,
   "threshold": 4,
   "toc_cell": false,
   "toc_section_display": "block",
   "toc_window_display": false
  }
 },
 "nbformat": 4,
 "nbformat_minor": 2
}
