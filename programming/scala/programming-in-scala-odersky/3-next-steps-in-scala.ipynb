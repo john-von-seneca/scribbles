{
 "cells": [
  {
   "cell_type": "markdown",
   "metadata": {},
   "source": [
    "Val vs Var  \n",
    "* Val is a value, which cannot be ressigned to sth else. like const Animal*\n",
    "  * When you define a variable with val, the variable can’t be reassigned\n",
    "  * but the object to which it refers could potentially still be changed.\n",
    "* Var is a variable, which can be raped to any extent."
   ]
  },
  {
   "cell_type": "code",
   "metadata": {},
   "outputs": [],
   "source": [
    "class A(n : Int) {\n",
    "    var value = n\n",
    "}\n",
    "\n",
    "class B(n : Int) {\n",
    "    val value = new A(n)\n",
    "}\n",
    "\n",
    "val B = new B(5)\n",
    "\n",
    "// this will err\n",
    "//B = new B(3)\n",
    "\n",
    "// so will this\n",
    "// B.value = new A(6)\n",
    "\n",
    "B.value.value = 7"
   ]
  },
  {
   "cell_type": "markdown",
   "metadata": {},
   "source": [
    "Value Parameterization"
   ]
  },
  {
   "cell_type": "code",
   "metadata": {},
   "outputs": [],
   "source": [
    "val x = new Array[String](4)\n",
    "x(0) = \"Cool\"\n",
    "x(1) = \"is\"\n",
    "x(2) = \"my\"\n",
    "x(3) = \"name\"\n",
    "\n",
    "x.foreach(xx => print(xx + \" \"))\n",
    "println()"
   ]
  },
  {
   "cell_type": "code",
   "metadata": {},
   "outputs": [],
   "source": [
    "for (i <- 0 to 3) {\n",
    "    print(x(i) + \" \")\n",
    "}\n",
    "println()"
   ]
  },
  {
   "cell_type": "markdown",
   "metadata": {},
   "source": [
    "f a method takes only one parameter, you can call it without a dot or parentheses.  \n",
    "```0 to 3``` is transformed to ```(0).to(3)```"
   ]
  },
  {
   "cell_type": "markdown",
   "metadata": {},
   "source": [
    "Scala doesn’t actually have operators in the traditional sense.   \n",
    "Instead, characters such as +, -, *, and / can be used in method names."
   ]
  },
  {
   "cell_type": "markdown",
   "metadata": {},
   "source": [
    "# apply, update"
   ]
  },
  {
   "cell_type": "markdown",
   "metadata": {},
   "source": [
    "apply method: \"()\" maps to apply  \n",
    "\n",
    "instance(i) $\\equiv$ instance.apply(i)"
   ]
  },
  {
   "cell_type": "code",
   "metadata": {},
   "outputs": [],
   "source": [
    "println(x(0))\n",
    "println(x.apply(0))"
   ]
  },
  {
   "cell_type": "markdown",
   "metadata": {},
   "source": [
    "update method\n",
    "\"()=\" called update(\n",
    "\n",
    "instance(i) = j $\\equiv$ instance.update(i, j)"
   ]
  },
  {
   "cell_type": "code",
   "metadata": {},
   "outputs": [],
   "source": [
    "val x = new Array[String](4)\n",
    "x.update(0, \"Cool\")\n",
    "x.update(1, \"is\")\n",
    "x.update(2, \"my\")\n",
    "x.update(3, \"name\")\n",
    "\n",
    "x.foreach(xx => print(xx + \" \"))\n",
    "println()"
   ]
  },
  {
   "cell_type": "markdown",
   "metadata": {},
   "source": [
    "## apply which is static"
   ]
  },
  {
   "cell_type": "code",
   "metadata": {},
   "outputs": [],
   "source": [
    "var x1 = Array(\"ek\", \"dho\", \"theen\")\n",
    "var x2 = Array.apply(\"ek\", \"dho\", \"theen\")\n",
    "\n",
    "x1.foreach(x => print(x+\" \")); println()\n",
    "x2.foreach(x => print(x+\" \")); println()"
   ]
  },
  {
   "cell_type": "code",
   "metadata": {},
   "outputs": [],
   "source": [
    "x1.each(print)"
   ]
  },
  {
   "cell_type": "markdown",
   "metadata": {},
   "source": [
    "# Lists"
   ]
  },
  {
   "cell_type": "markdown",
   "metadata": {},
   "source": [
    "* Just like Array only immutable\n",
    "* Just like java.util.list, only immutable"
   ]
  },
  {
   "cell_type": "code",
   "metadata": {},
   "outputs": [],
   "source": [
    "var list1 = List(1,2)\n",
    "var list2 = List(3,4)\n",
    "var list3 = list1 ::: list2\n",
    "\n",
    "println(\"list1: \" + list1 + \" and list2: \" + list2 + \" were not mutated\")\n",
    "println(\"list3: \" + list3 + \" is the concat of list1 and list2\")s"
   ]
  },
  {
   "cell_type": "markdown",
   "metadata": {},
   "source": [
    "## cons operator ::"
   ]
  },
  {
   "cell_type": "code",
   "metadata": {},
   "outputs": [],
   "source": [
    "var list4 = List(6,7)\n",
    "var list5 = 5 :: list4"
   ]
  },
  {
   "cell_type": "markdown",
   "metadata": {},
   "source": [
    "NB: If the method name ends in a colon, the method is invoked on the right operand. "
   ]
  },
  {
   "cell_type": "markdown",
   "metadata": {},
   "source": [
    "### cons for president"
   ]
  },
  {
   "cell_type": "markdown",
   "metadata": {},
   "source": [
    "cons is a right-associative operator  \n",
    "so the actual sequence of operations begin from the right  \n",
    "like arabic/persian (or any other Islamic Lang?)"
   ]
  },
  {
   "cell_type": "markdown",
   "metadata": {},
   "source": [
    "shorthand way to specify an empty list is Nil"
   ]
  },
  {
   "cell_type": "code",
   "metadata": {},
   "outputs": [],
   "source": [
    "var list6 = 1 :: 2 :: 3 :: Nil\n",
    "var list7 = 1 :: 2 :: 3 :: List()"
   ]
  },
  {
   "cell_type": "markdown",
   "metadata": {},
   "source": [
    "# Methods of List"
   ]
  },
  {
   "cell_type": "code",
   "metadata": {},
   "outputs": [],
   "source": [
    "var thrill = \"will\" :: \"fill\" :: \"until\" :: Nil"
   ]
  },
  {
   "cell_type": "markdown",
   "metadata": {},
   "source": [
    "## count"
   ]
  },
  {
   "cell_type": "code",
   "metadata": {},
   "outputs": [],
   "source": [
    "thrill.count(e => e.length == 4)"
   ]
  },
  {
   "cell_type": "markdown",
   "metadata": {},
   "source": [
    "## drop & dropRight"
   ]
  },
  {
   "cell_type": "code",
   "metadata": {},
   "outputs": [],
   "source": [
    "println(thrill)\n",
    "thrill.drop(1)\n",
    "thrill.drop(2)\n",
    "thrill.drop(3)\n",
    "thrill.drop(4)"
   ]
  },
  {
   "cell_type": "code",
   "metadata": {},
   "outputs": [],
   "source": [
    "println(thrill)\n",
    "thrill.dropRight(1)\n",
    "thrill.dropRight(2)\n",
    "thrill.dropRight(3)\n",
    "thrill.dropRight(4)"
   ]
  },
  {
   "cell_type": "markdown",
   "metadata": {},
   "source": [
    "## exists"
   ]
  },
  {
   "cell_type": "code",
   "metadata": {},
   "outputs": [],
   "source": [
    "println(thrill)\n",
    "thrill.exists(e => e == \"will\")\n",
    "thrill.exists(e => e == \"wifi\")"
   ]
  },
  {
   "cell_type": "markdown",
   "metadata": {},
   "source": [
    "## forall, foreach"
   ]
  },
  {
   "cell_type": "code",
   "metadata": {},
   "outputs": [],
   "source": [
    "println(thrill)\n",
    "thrill.forall(e => e.endsWith(\"l\"))\n",
    "thrill.forall(e => e.length == 4)"
   ]
  },
  {
   "cell_type": "code",
   "metadata": {},
   "outputs": [],
   "source": [
    "thrill.foreach(e => print(e))\n",
    "println()\n",
    "thrill.foreach(print)"
   ]
  },
  {
   "cell_type": "markdown",
   "metadata": {},
   "source": [
    "## head, init, tail, last, reverse"
   ]
  },
  {
   "cell_type": "code",
   "metadata": {},
   "outputs": [],
   "source": [
    "println(thrill)\n",
    "thrill.head\n",
    "thrill.init\n",
    "thrill.tail\n",
    "thrill.last\n",
    "thrill.reverse"
   ]
  },
  {
   "cell_type": "markdown",
   "metadata": {},
   "source": [
    "## length"
   ]
  },
  {
   "cell_type": "code",
   "metadata": {},
   "outputs": [],
   "source": [
    "thrill.length"
   ]
  },
  {
   "cell_type": "markdown",
   "metadata": {},
   "source": [
    "## filter, filterNot"
   ]
  },
  {
   "cell_type": "code",
   "metadata": {},
   "outputs": [],
   "source": [
    "println(thrill)\n",
    "thrill.filter(e => e.length == 4)\n",
    "thrill.filter(e => e.length == 6)"
   ]
  },
  {
   "cell_type": "code",
   "metadata": {},
   "outputs": [],
   "source": [
    "println(thrill)\n",
    "//thrill.remove(e => e.length == 6)\n",
    "thrill.filterNot(e => e.length == 5)"
   ]
  },
  {
   "cell_type": "markdown",
   "metadata": {},
   "source": [
    "## map"
   ]
  },
  {
   "cell_type": "code",
   "metadata": {},
   "outputs": [],
   "source": [
    "thrill.map(e => e + \"y\")"
   ]
  },
  {
   "cell_type": "markdown",
   "metadata": {},
   "source": [
    "## mkString"
   ]
  },
  {
   "cell_type": "code",
   "metadata": {},
   "outputs": [],
   "source": [
    "thrill.mkString(\", \")"
   ]
  },
  {
   "cell_type": "markdown",
   "metadata": {},
   "source": [
    "## sorted, sortWith"
   ]
  },
  {
   "cell_type": "code",
   "metadata": {},
   "outputs": [],
   "source": [
    "println(thrill)\n",
    "//thrill.sorted((s:String,t:String) => s.charAt(0).toLower < t.charAt(0).toLower)\n",
    "thrill.sorted"
   ]
  },
  {
   "cell_type": "code",
   "metadata": {},
   "outputs": [],
   "source": [
    "println(thrill)\n",
    "thrill.sortWith(_.length > _.length)"
   ]
  },
  {
   "cell_type": "code",
   "metadata": {},
   "outputs": [],
   "source": [
    "def sort_by_length(s1: String, s2: String) = {\n",
    "    println(\"comparing \" + s1 + \" and \" + s2)\n",
    "    s1.length > s2.length\n",
    "}\n",
    "thrill.sortWith(sort_by_length)"
   ]
  },
  {
   "cell_type": "markdown",
   "metadata": {},
   "source": [
    "# Tuples"
   ]
  },
  {
   "cell_type": "code",
   "metadata": {},
   "outputs": [],
   "source": [
    "var triplet = (\"yo\", 1, Nil)\n",
    "triplet._1\n",
    "triplet._2\n",
    "triplet._3"
   ]
  },
  {
   "cell_type": "markdown",
   "metadata": {},
   "source": [
    "Note  \n",
    "_N numbers are one-based, instead of zero-based, because starting with 1 is a tradition set by other languages with statically typed tuples, such as Haskell and ML.\n",
    " "
   ]
  },
  {
   "cell_type": "markdown",
   "metadata": {},
   "source": [
    "# Sets, Maps"
   ]
  },
  {
   "cell_type": "markdown",
   "metadata": {},
   "source": [
    "Sets, Maps, HashSets are all immutable by default.  \n",
    "To import the mutable type, use\n",
    "\n",
    "```java\n",
    "import scala.collection.immutable.{Set,Map,HashSet}\n",
    "```"
   ]
  },
  {
   "cell_type": "markdown",
   "metadata": {},
   "source": [
    "set1 & set2 are instances of immutable sets.  \n",
    "Thus any mutations will return to the creation of new set objects."
   ]
  },
  {
   "cell_type": "markdown",
   "metadata": {},
   "source": [
    "## Sets"
   ]
  },
  {
   "cell_type": "markdown",
   "metadata": {},
   "source": [
    "Scala's mutable and immutable HashSet implementations are concrete classes which you can instantiate. For example, if you explicitly ask for a new scala.collection.immutable.HashSet, you will always get a set which is implemented by a hash trie. There are other set implementations, such as ListSet, which uses a list.  \n",
    "[stack](http://stackoverflow.com/a/7018941/7633308)"
   ]
  },
  {
   "cell_type": "markdown",
   "metadata": {},
   "source": [
    "### immutable set"
   ]
  },
  {
   "cell_type": "markdown",
   "metadata": {},
   "source": [
    "Thus any mutations will return to the creation of new set objects"
   ]
  },
  {
   "cell_type": "code",
   "metadata": {},
   "outputs": [],
   "source": [
    "import scala.collection.immutable.Set\n",
    "\n",
    "// changing var to val will err, since the set is immutable\n",
    "var set1 = Set(\"morning\", \"evening\")\n",
    "println(\"set1 is of type \" + set1.getClass)\n",
    "println(System.identityHashCode(set1))\n",
    "set1 += \"afty\"\n",
    "println(System.identityHashCode(set1))\n",
    "set1 += \"evening\"\n",
    "println(System.identityHashCode(set1))\n",
    "\n",
    "var set2 = Set(\"morning\", \"evening\", 5)"
   ]
  },
  {
   "cell_type": "markdown",
   "metadata": {},
   "source": [
    "### mutable set"
   ]
  },
  {
   "cell_type": "code",
   "metadata": {},
   "outputs": [],
   "source": [
    "import scala.collection.mutable.Set\n",
    "\n",
    "val set1 = Set(\"morning\", \"evening\")\n",
    "println(\"set1 is of type \" + set1.getClass)\n",
    "println(System.identityHashCode(set1))\n",
    "set1 += \"afty\"\n",
    "println(System.identityHashCode(set1))\n",
    "set1 += \"evening\"\n",
    "println(System.identityHashCode(set1))\n",
    "\n",
    "var set2 = Set(\"morning\", \"evening\", 5)"
   ]
  },
  {
   "cell_type": "markdown",
   "metadata": {},
   "source": [
    "## immutable hashset"
   ]
  },
  {
   "cell_type": "code",
   "metadata": {},
   "outputs": [],
   "source": [
    "import scala.collection.immutable.HashSet\n",
    "\n",
    "var hs1 = HashSet(\"chillies\", \"coriander\")\n",
    "println(System.identityHashCode(hs1))\n",
    "println(hs1 + \"pepper\")"
   ]
  },
  {
   "cell_type": "markdown",
   "metadata": {},
   "source": [
    "## Mutable Map"
   ]
  },
  {
   "cell_type": "code",
   "metadata": {},
   "outputs": [],
   "source": [
    "import scala.collection.mutable.Map\n",
    "\n",
    "var map1 = Map[Int,String]()\n",
    "map1 += (1 -> \"kick ass\")\n",
    "map1(1)\n",
    "map1 += (1 -> \"kick ass2\")\n",
    "map1(1)"
   ]
  },
  {
   "cell_type": "markdown",
   "metadata": {},
   "source": [
    "This -> method, which you can invoke on any object in a Scala program, returns a two-element tuple containing the key and value\n"
   ]
  },
  {
   "cell_type": "markdown",
   "metadata": {},
   "source": [
    "# Functional style"
   ]
  },
  {
   "cell_type": "markdown",
   "metadata": {},
   "source": [
    "If you’re coming from an imperative background, such as Java, C++, or C#, you may think of var as a regular variable and val as a special kind of variable. On the other hand, if you’re coming from a functional background, such as Haskell, OCaml, or Erlang, you might think of val as a regular variable and var as akin to blasphemy. The Scala perspective, however, is that val and var are just two different tools in your toolbox, both useful, neither inherently evil. Scala encourages you to lean towards val s, but ultimately reach for the best tool given the job at hand. Even if you agree with this balanced philosophy, however, you may still find it challenging at first to figure out how to get rid of vars in your code.\n"
   ]
  },
  {
   "cell_type": "markdown",
   "metadata": {},
   "source": [
    "## assert"
   ]
  },
  {
   "cell_type": "code",
   "metadata": {},
   "outputs": [],
   "source": [
    "def formatArgs(args: Array[String]) = args.mkString(\"\\n\")\n",
    "\n",
    "val res = formatArgs(Array(\"one\",\"two\",\"three\"))\n",
    "println(res)\n",
    "assert(\"one\\ntwo\\nthree\" == res)"
   ]
  },
  {
   "cell_type": "markdown",
   "metadata": {},
   "source": [
    "# Read lines from a file"
   ]
  },
  {
   "cell_type": "code",
   "metadata": {},
   "outputs": [],
   "source": [
    "val str1 = \"\"\"\"\n",
    "import scala.io.Source\n",
    "if (args.length > 0) {\n",
    "    for (line <- Source.fromFile(args(0)).getLines())\n",
    "    println(line.length +\" \"+ line)\n",
    "}\n",
    "else\n",
    "    Console.err.println(\\\"Please enter filename\\\")\n",
    "\"\"\""
   ]
  },
  {
   "cell_type": "code",
   "metadata": {},
   "outputs": [],
   "source": [
    "str1.split(\"\\n\")"
   ]
  },
  {
   "cell_type": "code",
   "metadata": {},
   "outputs": [],
   "source": [
    "for (line <- str1.split(\"\\n\"))\n",
    "    println(line.length +\" \"+ line)\n"
   ]
  },
  {
   "cell_type": "code",
   "metadata": {},
   "outputs": [],
   "source": [
    "val lines = str1.split(\"\\n\")\n",
    "\n",
    "def num_digits(x : Int) = {\n",
    "    var sz = 0\n",
    "    var x_tmp = x\n",
    "    while(x_tmp > 0) {\n",
    "        sz += 1\n",
    "        x_tmp /= 10\n",
    "    }\n",
    "    sz\n",
    "}\n",
    "\n",
    "val line_longest = lines.reduceLeft((a,b) => if (a.length > b.length) a else b)\n",
    "//val max_sz_len = num_digits(line_longest.length)\n",
    "val max_sz_len = line_longest.length.toString.length\n",
    "\n",
    "for(x <- sz_lengths.zip(lengths).zip(str1_split)) {\n",
    "    println(x._1._2 + \" \" * (max_sz_len-x._1._1) + \"| \" + x._2)\n",
    "}"
   ]
  },
  {
   "cell_type": "code",
   "metadata": {},
   "outputs": [],
   "source": [
    "for(x <- 1.to(2))\n",
    "    print(\".\")\n",
    "println()\n",
    "(1.to(2)).foreach(_ => print('.'))"
   ]
  },
  {
   "cell_type": "code",
   "metadata": {},
   "outputs": [],
   "source": []
  },
  {
   "cell_type": "code",
   "metadata": {},
   "outputs": [],
   "source": []
  }
 ],
 "metadata": {
  "hide_input": false,
  "kernelspec": {
   "display_name": "Scala",
   "language": "scala",
   "name": "scala"
  },
  "language_info": {
   "codemirror_mode": "text/x-scala",
   "file_extension": ".scala",
   "mimetype": "text/x-scala",
   "name": "scala211",
   "nbconvert_exporter": "scala",
   "pygments_lexer": "scala"
  },
  "latex_envs": {
   "LaTeX_envs_menu_present": true,
   "bibliofile": "biblio.bib",
   "cite_by": "apalike",
   "current_citInitial": 1,
   "eqLabelWithNumbers": true,
   "eqNumInitial": 1,
   "labels_anchors": false,
   "latex_user_defs": false,
   "report_style_numbering": false,
   "user_envs_cfg": false
  },
  "nav_menu": {},
  "toc": {
   "colors": {
    "hover_highlight": "#DAA520",
    "running_highlight": "#FF0000",
    "selected_highlight": "#FFD700"
   },
   "moveMenuLeft": true,
   "nav_menu": {
    "height": "480px",
    "width": "252px"
   },
   "navigate_menu": true,
   "number_sections": true,
   "sideBar": true,
   "threshold": 4,
   "toc_cell": false,
   "toc_section_display": "block",
   "toc_window_display": false
  }
 },
 "nbformat": 4,
 "nbformat_minor": 2
}
