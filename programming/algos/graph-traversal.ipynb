{
 "cells": [
  {
   "cell_type": "code",
   "execution_count": 91,
   "metadata": {
    "collapsed": false
   },
   "outputs": [
    {
     "name": "stdout",
     "output_type": "stream",
     "text": [
      "ix: 0 , id:  , #edges: 6 111 111\n",
      "ix: 1 , id: 1 , #edges: 5 011 111\n",
      "ix: 2 , id: 2 , #edges: 5 101 111\n",
      "ix: 3 , id: 3 , #edges: 5 110 111\n",
      "ix: 4 , id: 4 , #edges: 5 111 011\n",
      "ix: 5 , id: 5 , #edges: 5 111 101\n",
      "ix: 6 , id: 6 , #edges: 5 111 110\n",
      "ix: 7 , id: 12 , #edges: 4 001 111\n",
      "ix: 8 , id: 13 , #edges: 4 010 111\n",
      "ix: 9 , id: 14 , #edges: 4 011 011\n",
      "ix: 10 , id: 15 , #edges: 4 011 101\n",
      "ix: 11 , id: 16 , #edges: 4 011 110\n",
      "ix: 12 , id: 123 , #edges: 3 000 111\n",
      "ix: 13 , id: 124 , #edges: 3 001 011\n",
      "ix: 14 , id: 125 , #edges: 3 001 101\n",
      "ix: 15 , id: 126 , #edges: 3 001 110\n",
      "ix: 16 , id: 134 , #edges: 3 010 011\n",
      "ix: 17 , id: 135 , #edges: 3 010 101\n",
      "ix: 18 , id: 136 , #edges: 3 010 110\n",
      "ix: 19 , id: 145 , #edges: 3 011 001\n",
      "ix: 20 , id: 146 , #edges: 3 011 010\n",
      "ix: 21 , id: 156 , #edges: 3 011 100\n",
      "ix: 22 , id: 23 , #edges: 4 100 111\n",
      "ix: 23 , id: 24 , #edges: 4 101 011\n",
      "ix: 24 , id: 25 , #edges: 4 101 101\n",
      "ix: 25 , id: 26 , #edges: 4 101 110\n",
      "ix: 26 , id: 234 , #edges: 3 100 011\n",
      "ix: 27 , id: 235 , #edges: 3 100 101\n",
      "ix: 28 , id: 236 , #edges: 3 100 110\n",
      "ix: 29 , id: 245 , #edges: 3 101 001\n",
      "ix: 30 , id: 246 , #edges: 3 101 010\n",
      "ix: 31 , id: 256 , #edges: 3 101 100\n",
      "ix: 32 , id: 34 , #edges: 4 110 011\n",
      "ix: 33 , id: 35 , #edges: 4 110 101\n",
      "ix: 34 , id: 36 , #edges: 4 110 110\n",
      "ix: 35 , id: 345 , #edges: 3 110 001\n",
      "ix: 36 , id: 346 , #edges: 3 110 010\n",
      "ix: 37 , id: 356 , #edges: 3 110 100\n",
      "ix: 38 , id: 45 , #edges: 4 111 001\n",
      "ix: 39 , id: 46 , #edges: 4 111 010\n",
      "ix: 40 , id: 456 , #edges: 3 111 000\n",
      "ix: 41 , id: 56 , #edges: 4 111 100\n"
     ]
    }
   ],
   "source": [
    "def print_graph(graph, ix_graph, number_of_edges):\n",
    "    edges_absent = ''.join([str(jx+1) for (jx,edge) in enumerate(graph) if not edge])\n",
    "    group_size = 3\n",
    "    str_graph = ''.join([str(int(edge)) for edge in graph])\n",
    "    graph_bin = ' '.join([str_graph[kx*3:(kx+1)*3] for kx in range(len(graph)//3)])\n",
    "    print('ix:', ix_graph, ', id:', edges_absent ,', #edges:', number_of_edges, graph_bin)\n",
    "    \n",
    "def not_connected(graph):\n",
    "    return False\n",
    "\n",
    "def generate_graphs(nv, graph, number_of_edges, start_from=None):\n",
    "    global ix\n",
    "    \n",
    "    if(start_from is None):\n",
    "        start_from = 0\n",
    "    \n",
    "    if(not_connected(graph)):\n",
    "        return\n",
    "    \n",
    "    if(number_of_edges == (nv-1)):\n",
    "        return\n",
    "    \n",
    "    graphs = []\n",
    "    for next_edge in range(start_from, len(graph)):\n",
    "        ix += 1\n",
    "        graph[next_edge] = False\n",
    "        \n",
    "        print_graph(graph, ix, number_of_edges-1)\n",
    "        # or process graph, whatever\n",
    "        graphs.append([[e for e in graph],next_edge+1])\n",
    "        graph[next_edge] = True\n",
    "        \n",
    "    [generate_graphs(nv,graph,number_of_edges-1,start_from) for (graph, start_from) in graphs]\n",
    "\n",
    "ix=0        \n",
    "nv=4\n",
    "ne=nv*(nv-1)//2\n",
    "kn = [True for _ in range(ne)]\n",
    "print_graph(kn, ix, ne)\n",
    "generate_graphs(nv, kn, ne)"
   ]
  },
  {
   "cell_type": "code",
   "execution_count": 50,
   "metadata": {
    "collapsed": false
   },
   "outputs": [
    {
     "name": "stdout",
     "output_type": "stream",
     "text": [
      "01234\n",
      "100 100\n"
     ]
    },
    {
     "data": {
      "text/plain": [
       "'1'"
      ]
     },
     "execution_count": 50,
     "metadata": {},
     "output_type": "execute_result"
    }
   ],
   "source": [
    "print(''.join([str(ix) for ix in range(5)]))\n",
    "str_binary = '100100'\n",
    "print(' '.join([str_binary[ix*3:(ix+1)*3] for ix in range(len(str_binary)//3)]))\n",
    "str(int(True))"
   ]
  },
  {
   "cell_type": "code",
   "execution_count": 100,
   "metadata": {
    "collapsed": false
   },
   "outputs": [
    {
     "name": "stdout",
     "output_type": "stream",
     "text": [
      "ix: 1 , id:  , #edges: 6 111 111\n",
      "ix: 2 , id: 1 , #edges: 5 011 111\n",
      "ix: 3 , id: 2 , #edges: 5 101 111\n",
      "ix: 4 , id: 3 , #edges: 5 110 111\n",
      "ix: 5 , id: 4 , #edges: 5 111 011\n",
      "ix: 6 , id: 5 , #edges: 5 111 101\n",
      "ix: 7 , id: 6 , #edges: 5 111 110\n",
      "ix: 8 , id: 12 , #edges: 4 001 111\n",
      "ix: 9 , id: 13 , #edges: 4 010 111\n",
      "ix: 10 , id: 14 , #edges: 4 011 011\n",
      "ix: 11 , id: 15 , #edges: 4 011 101\n",
      "ix: 12 , id: 16 , #edges: 4 011 110\n",
      "ix: 13 , id: 23 , #edges: 4 100 111\n",
      "ix: 14 , id: 24 , #edges: 4 101 011\n",
      "ix: 15 , id: 25 , #edges: 4 101 101\n",
      "ix: 16 , id: 26 , #edges: 4 101 110\n",
      "ix: 17 , id: 34 , #edges: 4 110 011\n",
      "ix: 18 , id: 35 , #edges: 4 110 101\n",
      "ix: 19 , id: 36 , #edges: 4 110 110\n",
      "ix: 20 , id: 45 , #edges: 4 111 001\n",
      "ix: 21 , id: 46 , #edges: 4 111 010\n",
      "ix: 22 , id: 56 , #edges: 4 111 100\n",
      "ix: 23 , id: 123 , #edges: 3 000 111\n",
      "ix: 24 , id: 124 , #edges: 3 001 011\n",
      "ix: 25 , id: 125 , #edges: 3 001 101\n",
      "ix: 26 , id: 126 , #edges: 3 001 110\n",
      "ix: 27 , id: 134 , #edges: 3 010 011\n",
      "ix: 28 , id: 135 , #edges: 3 010 101\n",
      "ix: 29 , id: 136 , #edges: 3 010 110\n",
      "ix: 30 , id: 145 , #edges: 3 011 001\n",
      "ix: 31 , id: 146 , #edges: 3 011 010\n",
      "ix: 32 , id: 156 , #edges: 3 011 100\n",
      "ix: 33 , id: 234 , #edges: 3 100 011\n",
      "ix: 34 , id: 235 , #edges: 3 100 101\n",
      "ix: 35 , id: 236 , #edges: 3 100 110\n",
      "ix: 36 , id: 245 , #edges: 3 101 001\n",
      "ix: 37 , id: 246 , #edges: 3 101 010\n",
      "ix: 38 , id: 256 , #edges: 3 101 100\n",
      "ix: 39 , id: 345 , #edges: 3 110 001\n",
      "ix: 40 , id: 346 , #edges: 3 110 010\n",
      "ix: 41 , id: 356 , #edges: 3 110 100\n",
      "ix: 42 , id: 456 , #edges: 3 111 000\n"
     ]
    }
   ],
   "source": [
    "def print_graph(graph, ix_graph, number_of_edges):\n",
    "    edges_absent = ''.join([str(jx+1) for (jx,edge) in enumerate(graph) if not edge])\n",
    "    group_size = 3\n",
    "    str_graph = ''.join([str(int(edge)) for edge in graph])\n",
    "    graph_bin = ' '.join([str_graph[kx*3:(kx+1)*3] for kx in range(len(graph)//3)])\n",
    "    print('ix:', ix_graph, ', id:', edges_absent ,', #edges:', number_of_edges, graph_bin)\n",
    "\n",
    "from collections import deque\n",
    "def generate_graphs_iterative(nv, graph, number_of_edges):\n",
    "    if(number_of_edges == (nv-1)):\n",
    "        return\n",
    "    \n",
    "    graphs = deque([[graph, number_of_edges,0]])\n",
    "    ix_graph=0\n",
    "    while(len(graphs)>0):\n",
    "        graph, ne, start_from = graphs.popleft()   \n",
    "        ix_graph += 1\n",
    "        \n",
    "        print_graph(graph, ix_graph, ne)\n",
    "        # or process graph, whatever\n",
    "        \n",
    "        if(ne == (nv-1)):\n",
    "            continue\n",
    "            \n",
    "        for next_edge in range(start_from,number_of_edges):\n",
    "            graph[next_edge] = False\n",
    "            \n",
    "            if(not_connected(graph)):\n",
    "                continue\n",
    "            \n",
    "            graphs.append([[e for e in graph],ne-1,next_edge+1])\n",
    "            graph[next_edge] = True\n",
    "      \n",
    "nv=4\n",
    "ne=nv*(nv-1)//2\n",
    "generate_graphs_iterative(nv, [True for _ in range(ne)], ne)"
   ]
  },
  {
   "cell_type": "code",
   "execution_count": 83,
   "metadata": {
    "collapsed": false
   },
   "outputs": [
    {
     "name": "stdout",
     "output_type": "stream",
     "text": [
      "[0, 1, 2, 3, 4]\n",
      "[0, 1, 2, 3]\n"
     ]
    }
   ],
   "source": [
    "a = list(range(5))\n",
    "print(a)\n",
    "a.pop()\n",
    "print(a)"
   ]
  }
 ],
 "metadata": {
  "hide_input": true,
  "kernelspec": {
   "display_name": "Python 3",
   "language": "python3",
   "name": "python3"
  },
  "language_info": {
   "codemirror_mode": {
    "name": "ipython",
    "version": 3
   },
   "file_extension": ".py",
   "mimetype": "text/x-python",
   "name": "python",
   "nbconvert_exporter": "python",
   "pygments_lexer": "ipython3",
   "version": "3.5.1"
  },
  "latex_envs": {
   "bibliofile": "biblio.bib",
   "cite_by": "apalike",
   "current_citInitial": 1,
   "eqLabelWithNumbers": true,
   "eqNumInitial": 0
  }
 },
 "nbformat": 4,
 "nbformat_minor": 0
}
