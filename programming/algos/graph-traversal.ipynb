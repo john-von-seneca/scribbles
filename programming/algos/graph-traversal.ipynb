{
 "cells": [
  {
   "cell_type": "code",
   "metadata": {},
   "outputs": [],
   "source": [
    "def print_graph(graph, ix_graph, number_of_edges):\n",
    "    edges_absent = ''.join([str(jx+1) for (jx,edge) in enumerate(graph) if not edge])\n",
    "    group_size = 3\n",
    "    str_graph = ''.join([str(int(edge)) for edge in graph])\n",
    "    graph_bin = ' '.join([str_graph[kx*3:(kx+1)*3] for kx in range(len(graph)//3)])\n",
    "    print('ix:', ix_graph, ', id:', edges_absent ,', #edges:', number_of_edges, graph_bin)\n",
    "    \n",
    "def not_connected(graph):\n",
    "    return False\n",
    "\n",
    "def generate_graphs(nv, graph, number_of_edges, start_from=None):\n",
    "    global ix\n",
    "    \n",
    "    if(start_from is None):\n",
    "        start_from = 0\n",
    "    \n",
    "    if(not_connected(graph)):\n",
    "        return\n",
    "    \n",
    "    if(number_of_edges == (nv-1)):\n",
    "        return\n",
    "    \n",
    "    graphs = []\n",
    "    for next_edge in range(start_from, len(graph)):\n",
    "        ix += 1\n",
    "        graph[next_edge] = False\n",
    "        \n",
    "        print_graph(graph, ix, number_of_edges-1)\n",
    "        # or process graph, whatever\n",
    "        graphs.append([[e for e in graph],next_edge+1])\n",
    "        graph[next_edge] = True\n",
    "        \n",
    "    [generate_graphs(nv,graph,number_of_edges-1,start_from) for (graph, start_from) in graphs]\n",
    "\n",
    "ix=0        \n",
    "nv=4\n",
    "ne=nv*(nv-1)//2\n",
    "kn = [True for _ in range(ne)]\n",
    "print_graph(kn, ix, ne)\n",
    "generate_graphs(nv, kn, ne)"
   ]
  },
  {
   "cell_type": "code",
   "metadata": {},
   "outputs": [],
   "source": [
    "print(''.join([str(ix) for ix in range(5)]))\n",
    "str_binary = '100100'\n",
    "print(' '.join([str_binary[ix*3:(ix+1)*3] for ix in range(len(str_binary)//3)]))\n",
    "str(int(True))"
   ]
  },
  {
   "cell_type": "code",
   "metadata": {},
   "outputs": [],
   "source": [
    "def print_graph(graph, ix_graph, number_of_edges):\n",
    "    edges_absent = ''.join([str(jx+1) for (jx,edge) in enumerate(graph) if not edge])\n",
    "    group_size = 3\n",
    "    str_graph = ''.join([str(int(edge)) for edge in graph])\n",
    "    graph_bin = ' '.join([str_graph[kx*3:(kx+1)*3] for kx in range(len(graph)//3)])\n",
    "    print('ix:', ix_graph, ', id:', edges_absent ,', #edges:', number_of_edges, graph_bin)\n",
    "\n",
    "from collections import deque\n",
    "def generate_graphs_iterative(nv, graph, number_of_edges):\n",
    "    if(number_of_edges == (nv-1)):\n",
    "        return\n",
    "    \n",
    "    graphs = deque([[graph, number_of_edges,0]])\n",
    "    ix_graph=0\n",
    "    while(len(graphs)>0):\n",
    "        graph, ne, start_from = graphs.popleft()   \n",
    "        ix_graph += 1\n",
    "        \n",
    "        print_graph(graph, ix_graph, ne)\n",
    "        # or process graph, whatever\n",
    "        \n",
    "        if(ne == (nv-1)):\n",
    "            continue\n",
    "            \n",
    "        for next_edge in range(start_from,number_of_edges):\n",
    "            graph[next_edge] = False\n",
    "            \n",
    "            if(not_connected(graph)):\n",
    "                continue\n",
    "            \n",
    "            graphs.append([[e for e in graph],ne-1,next_edge+1])\n",
    "            graph[next_edge] = True\n",
    "      \n",
    "nv=4\n",
    "ne=nv*(nv-1)//2\n",
    "generate_graphs_iterative(nv, [True for _ in range(ne)], ne)"
   ]
  },
  {
   "cell_type": "code",
   "metadata": {},
   "outputs": [],
   "source": [
    "a = list(range(5))\n",
    "print(a)\n",
    "a.pop()\n",
    "print(a)"
   ]
  }
 ],
 "metadata": {
  "hide_input": true,
  "kernelspec": {
   "display_name": "Python 3",
   "language": "python",
   "name": "python3"
  },
  "language_info": {
   "codemirror_mode": {
    "name": "ipython",
    "version": 3
   },
   "file_extension": ".py",
   "mimetype": "text/x-python",
   "name": "python",
   "nbconvert_exporter": "python",
   "pygments_lexer": "ipython3"
  },
  "latex_envs": {
   "LaTeX_envs_menu_present": true,
   "bibliofile": "biblio.bib",
   "cite_by": "apalike",
   "current_citInitial": 1,
   "eqLabelWithNumbers": true,
   "eqNumInitial": 0,
   "labels_anchors": false,
   "latex_user_defs": false,
   "report_style_numbering": false,
   "user_envs_cfg": false
  },
  "toc": {
   "colors": {
    "hover_highlight": "#DAA520",
    "running_highlight": "#FF0000",
    "selected_highlight": "#FFD700"
   },
   "moveMenuLeft": true,
   "nav_menu": {
    "height": "12px",
    "width": "252px"
   },
   "navigate_menu": true,
   "number_sections": true,
   "sideBar": true,
   "threshold": 4,
   "toc_cell": false,
   "toc_section_display": "block",
   "toc_window_display": false
  }
 },
 "nbformat": 4,
 "nbformat_minor": 0
}
