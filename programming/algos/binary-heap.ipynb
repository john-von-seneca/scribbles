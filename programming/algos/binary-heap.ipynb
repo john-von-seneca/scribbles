{
 "cells": [
  {
   "cell_type": "code",
   "metadata": {},
   "outputs": [],
   "source": [
    "import numpy as np\n",
    "import math as m\n",
    "import matplotlib.pyplot as plt\n",
    "%matplotlib inline"
   ]
  },
  {
   "cell_type": "code",
   "metadata": {},
   "outputs": [],
   "source": [
    "N = 40\n",
    "x = range(1,N)\n",
    "plt.plot(x, [m.log2(xx) for xx in x], label='log')\n",
    "plt.plot(x, [m.floor(m.log2(xx)) for xx in x],label='floor(log)')\n",
    "plt.title('Log2')\n",
    "plt.xlabel('x')\n",
    "plt.ylabel('log2(x)')\n",
    "plt.legend()\n",
    "plt.show()"
   ]
  },
  {
   "cell_type": "code",
   "metadata": {},
   "outputs": [],
   "source": [
    "class BinaryHeap:\n",
    "    def __init__(self, data, dbg=False):\n",
    "        self.debug = dbg\n",
    "        self.data = data\n",
    "        self.heap_size = len(data)\n",
    "        \n",
    "    def parent(self, ix, data=None):\n",
    "        data = self.get_data(data)\n",
    "        return data[int(m.floor(ix/2.))]\n",
    "    \n",
    "    def left_index(self, ix):\n",
    "        return int(2*ix+1)\n",
    "    def left_child(self, ix, data=None):\n",
    "        data = self.get_data(data)\n",
    "        return data[self.left_index(ix)]\n",
    "    \n",
    "    def right_index(self, ix):\n",
    "        return int(2*ix+2)\n",
    "    def right_child(self, ix, data=None):\n",
    "        data = self.get_data(data)\n",
    "        return data[self.right_index(ix)]\n",
    "    \n",
    "    def current(self, ix, data=None):\n",
    "        data = self.get_data(data)\n",
    "        return data[ix]\n",
    "    \n",
    "    def get_data(self, data=None):\n",
    "        return self.data if data is None else data\n",
    "    \n",
    "    def max_heapify(self, ix, data=None):\n",
    "        data  = self.get_data(data)\n",
    "        ix_left  = self.left_index(ix)\n",
    "        ix_right = self.right_index(ix)\n",
    "        if ix_left<self.heap_size and self.left_child(ix) > self.current(ix):\n",
    "            print('[cs: 1]',end='') if self.debug else 1\n",
    "            largest = ix_left\n",
    "        else:\n",
    "            print('[cs: 2]',end='') if self.debug else 1\n",
    "            largest = ix\n",
    "        if ix_right<self.heap_size and self.right_child(ix) > self.current(largest):\n",
    "            print('[cs: 3]',end='') if self.debug else 1\n",
    "            largest = ix_right\n",
    "        else:\n",
    "            print(' '*7,end='')\n",
    "        if self.debug:\n",
    "            print(' ix: {0}, (l,r): ({1},{2}), lg: {3}'.format(ix, ix_left, ix_right, largest),end='') \n",
    "            print(', left:{0}'.format(self.left_child(ix)),end='') if ix_left<self.heap_size else 1\n",
    "            print(', right:{0}'.format(self.right_child(ix)),end='') if ix_right<self.heap_size else 1\n",
    "            print('')\n",
    "        else: 1\n",
    "        if largest != ix:\n",
    "            data[ix], data[largest] = data[largest], data[ix]\n",
    "            self.max_heapify(largest, data)\n",
    "            \n",
    "    def build_max_heap(self, data=None):\n",
    "        data = self.get_data(data)\n",
    "        half_length = int(m.floor(len(data)/2.))+1\n",
    "        [self.max_heapify(ix) for ix in reversed(range(half_length))]\n",
    "        \n",
    "    def heap_sort(self, data=None):\n",
    "        data = self.get_data(data)\n",
    "        self.build_max_heap(data)\n",
    "        for ix in reversed(range(1,len(data))):\n",
    "            data[ix], data[0] = data[0], data[ix]\n",
    "            self.heap_size -= 1\n",
    "            self.max_heapify(0)\n",
    "        "
   ]
  },
  {
   "cell_type": "code",
   "metadata": {},
   "outputs": [],
   "source": [
    "a = [16, 4, 10, 14, 7, 9, 20, 3, 2, 8, 1]\n",
    "bh = BinaryHeap(a, dbg=True)\n",
    "half_length = int(m.floor(len(a)/2.))\n",
    "print(bh.data)\n",
    "bh.heap_sort()\n",
    "print(bh.data)"
   ]
  }
 ],
 "metadata": {
  "hide_input": true,
  "kernelspec": {
   "display_name": "Python 3",
   "language": "python3",
   "name": "python3"
  },
  "language_info": {
   "codemirror_mode": {
    "name": "ipython",
    "version": 3
   },
   "file_extension": ".py",
   "mimetype": "text/x-python",
   "name": "python",
   "nbconvert_exporter": "python",
   "pygments_lexer": "ipython3"
  },
  "latex_envs": {
   "bibliofile": "biblio.bib",
   "cite_by": "apalike",
   "current_citInitial": 1,
   "eqLabelWithNumbers": true,
   "eqNumInitial": 0
  }
 },
 "nbformat": 4,
 "nbformat_minor": 0
}
