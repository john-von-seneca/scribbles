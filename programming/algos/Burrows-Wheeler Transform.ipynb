{
 "cells": [
  {
   "cell_type": "markdown",
   "metadata": {},
   "source": [
    "Burrows-Wheeler Transform  \n",
    "[wiki](https://www.wikiwand.com/en/Burrows%E2%80%93Wheeler_transform)"
   ]
  },
  {
   "cell_type": "code",
   "metadata": {},
   "outputs": [],
   "source": [
    "import math\n",
    "import random as rnd\n",
    "import numpy as np"
   ]
  },
  {
   "cell_type": "code",
   "metadata": {},
   "outputs": [],
   "source": [
    "print(chr(64))\n",
    "print(ord(chr(64)))\n",
    "print(ord('A'))"
   ]
  },
  {
   "cell_type": "code",
   "metadata": {},
   "outputs": [],
   "source": [
    "string = 'FLASH'\n",
    "in_chars = 6\n",
    "string = ''.join([chr(64+rnd.randint(1,26)) for ix in range(in_chars)])\n",
    "# insert a char from string into string\n",
    "char_rnd = string[rnd.randint(0,len(string)-1)]\n",
    "pos_rnd = rnd.randint(0,len(string2)-1)\n",
    "print(\"random character '{0}' at {1}\".format(char_rnd, pos_rnd))\n",
    "string = string[:pos_rnd] + char_rnd + string[pos_rnd:] \n",
    "string2 = '^' + string + '|'\n",
    "print(string2)"
   ]
  },
  {
   "cell_type": "code",
   "metadata": {},
   "outputs": [],
   "source": [
    "print(string2[rnd.randint(0,len(string2)-1)])"
   ]
  },
  {
   "cell_type": "code",
   "metadata": {},
   "outputs": [],
   "source": [
    "# get all rotations\n",
    "all_rotations = [string2[ix:]+string2[:ix] for ix in range(len(string2))]\n",
    "print('All Rotations' + \"\\n\" + \"-\"*40) \n",
    "dummy = [print(rot) for rot in all_rotations]"
   ]
  },
  {
   "cell_type": "code",
   "metadata": {},
   "outputs": [],
   "source": [
    "all_rotations_sorted = sorted(all_rotations)\n",
    "print('All Rotations Sorted' + \"\\n\" + \"-\"*40) \n",
    "dummy = [print(rot) for rot in all_rotations_sorted]"
   ]
  },
  {
   "cell_type": "code",
   "metadata": {},
   "outputs": [],
   "source": [
    "# last characters\n",
    "last_characters = [rot[-1] for rot in all_rotations_sorted]\n",
    "print(last_characters)"
   ]
  },
  {
   "cell_type": "code",
   "metadata": {},
   "outputs": [],
   "source": [
    "# sort last characters and \"append\" them to the original\n",
    "last_characters_sorted = sorted(last_characters)\n",
    "print(last_characters)\n",
    "print(last_characters_sorted)"
   ]
  },
  {
   "cell_type": "code",
   "metadata": {},
   "outputs": [],
   "source": [
    "print(\"Known Pairs\")\n",
    "pairs = [last_characters[ix]+last_characters_sorted[ix] for ix in range(len(last_characters))]\n",
    "print(pairs)"
   ]
  },
  {
   "cell_type": "code",
   "metadata": {},
   "outputs": [],
   "source": [
    "dict = {}\n",
    "for pair in pairs:\n",
    "    key, val = pair[0], pair\n",
    "    if key not in dict:\n",
    "        dict[key] = []\n",
    "    #if val not in dict[key]:\n",
    "    dict[key].append(val)\n",
    "print(dict)"
   ]
  },
  {
   "cell_type": "code",
   "metadata": {},
   "outputs": [],
   "source": [
    "[ix for ix in reversed(list(range(in_str2)))]"
   ]
  },
  {
   "cell_type": "code",
   "metadata": {},
   "outputs": [],
   "source": [
    "dummy = [print(rot) for rot in all_rotations_sorted]\n",
    "in_str2 = len(last_characters)\n",
    "yo = list(last_characters)\n",
    "yo1 = ['']*in_str2\n",
    "for ix in range(in_str2):\n",
    "    for iy in range(in_str2):\n",
    "        yo1[iy] = yo[iy] + yo1[iy]\n",
    "    print(yo1)\n",
    "    yo1.sort()\n",
    "    print(yo1)\n",
    "    \n",
    "# find the one with '|' as last char\n",
    "inverse_str = [yo2 for yo2 in yo1 if yo2[-1]=='|'][0]\n",
    "print(string2)\n",
    "print(inverse_str)"
   ]
  },
  {
   "cell_type": "code",
   "metadata": {},
   "outputs": [],
   "source": [
    "a = ['mama','mia']"
   ]
  },
  {
   "cell_type": "code",
   "metadata": {},
   "outputs": [],
   "source": []
  }
 ],
 "metadata": {
  "hide_input": true,
  "kernelspec": {
   "display_name": "Python 3",
   "language": "python3",
   "name": "python3"
  },
  "language_info": {
   "codemirror_mode": {
    "name": "ipython",
    "version": 3
   },
   "file_extension": ".py",
   "mimetype": "text/x-python",
   "name": "python",
   "nbconvert_exporter": "python",
   "pygments_lexer": "ipython3"
  },
  "latex_envs": {
   "bibliofile": "biblio.bib",
   "cite_by": "apalike",
   "current_citInitial": 1,
   "eqLabelWithNumbers": true,
   "eqNumInitial": 0
  }
 },
 "nbformat": 4,
 "nbformat_minor": 0
}
