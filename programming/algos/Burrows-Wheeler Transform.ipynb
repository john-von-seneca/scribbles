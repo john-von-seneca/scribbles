{
 "cells": [
  {
   "cell_type": "markdown",
   "metadata": {},
   "source": [
    "Burrows-Wheeler Transform  \n",
    "[wiki](https://www.wikiwand.com/en/Burrows%E2%80%93Wheeler_transform)"
   ]
  },
  {
   "cell_type": "code",
   "execution_count": 236,
   "metadata": {
    "collapsed": true
   },
   "outputs": [],
   "source": [
    "import math\n",
    "import random as rnd\n",
    "import numpy as np"
   ]
  },
  {
   "cell_type": "code",
   "execution_count": 237,
   "metadata": {
    "collapsed": false
   },
   "outputs": [
    {
     "name": "stdout",
     "output_type": "stream",
     "text": [
      "@\n",
      "64\n",
      "65\n"
     ]
    }
   ],
   "source": [
    "print(chr(64))\n",
    "print(ord(chr(64)))\n",
    "print(ord('A'))"
   ]
  },
  {
   "cell_type": "code",
   "execution_count": 238,
   "metadata": {
    "collapsed": false
   },
   "outputs": [
    {
     "name": "stdout",
     "output_type": "stream",
     "text": [
      "random character 'E' at 8\n",
      "^IGEBFPE|\n"
     ]
    }
   ],
   "source": [
    "string = 'FLASH'\n",
    "in_chars = 6\n",
    "string = ''.join([chr(64+rnd.randint(1,26)) for ix in range(in_chars)])\n",
    "# insert a char from string into string\n",
    "char_rnd = string[rnd.randint(0,len(string)-1)]\n",
    "pos_rnd = rnd.randint(0,len(string2)-1)\n",
    "print(\"random character '{0}' at {1}\".format(char_rnd, pos_rnd))\n",
    "string = string[:pos_rnd] + char_rnd + string[pos_rnd:] \n",
    "string2 = '^' + string + '|'\n",
    "print(string2)"
   ]
  },
  {
   "cell_type": "code",
   "execution_count": 239,
   "metadata": {
    "collapsed": false
   },
   "outputs": [
    {
     "name": "stdout",
     "output_type": "stream",
     "text": [
      "B\n"
     ]
    }
   ],
   "source": [
    "print(string2[rnd.randint(0,len(string2)-1)])"
   ]
  },
  {
   "cell_type": "code",
   "execution_count": 240,
   "metadata": {
    "collapsed": false
   },
   "outputs": [
    {
     "name": "stdout",
     "output_type": "stream",
     "text": [
      "All Rotations\n",
      "----------------------------------------\n",
      "^IGEBFPE|\n",
      "IGEBFPE|^\n",
      "GEBFPE|^I\n",
      "EBFPE|^IG\n",
      "BFPE|^IGE\n",
      "FPE|^IGEB\n",
      "PE|^IGEBF\n",
      "E|^IGEBFP\n",
      "|^IGEBFPE\n"
     ]
    }
   ],
   "source": [
    "# get all rotations\n",
    "all_rotations = [string2[ix:]+string2[:ix] for ix in range(len(string2))]\n",
    "print('All Rotations' + \"\\n\" + \"-\"*40) \n",
    "dummy = [print(rot) for rot in all_rotations]"
   ]
  },
  {
   "cell_type": "code",
   "execution_count": 241,
   "metadata": {
    "collapsed": false
   },
   "outputs": [
    {
     "name": "stdout",
     "output_type": "stream",
     "text": [
      "All Rotations Sorted\n",
      "----------------------------------------\n",
      "BFPE|^IGE\n",
      "EBFPE|^IG\n",
      "E|^IGEBFP\n",
      "FPE|^IGEB\n",
      "GEBFPE|^I\n",
      "IGEBFPE|^\n",
      "PE|^IGEBF\n",
      "^IGEBFPE|\n",
      "|^IGEBFPE\n"
     ]
    }
   ],
   "source": [
    "all_rotations_sorted = sorted(all_rotations)\n",
    "print('All Rotations Sorted' + \"\\n\" + \"-\"*40) \n",
    "dummy = [print(rot) for rot in all_rotations_sorted]"
   ]
  },
  {
   "cell_type": "code",
   "execution_count": 242,
   "metadata": {
    "collapsed": false
   },
   "outputs": [
    {
     "name": "stdout",
     "output_type": "stream",
     "text": [
      "['E', 'G', 'P', 'B', 'I', '^', 'F', '|', 'E']\n"
     ]
    }
   ],
   "source": [
    "# last characters\n",
    "last_characters = [rot[-1] for rot in all_rotations_sorted]\n",
    "print(last_characters)"
   ]
  },
  {
   "cell_type": "code",
   "execution_count": 243,
   "metadata": {
    "collapsed": false
   },
   "outputs": [
    {
     "name": "stdout",
     "output_type": "stream",
     "text": [
      "['E', 'G', 'P', 'B', 'I', '^', 'F', '|', 'E']\n",
      "['B', 'E', 'E', 'F', 'G', 'I', 'P', '^', '|']\n"
     ]
    }
   ],
   "source": [
    "# sort last characters and \"append\" them to the original\n",
    "last_characters_sorted = sorted(last_characters)\n",
    "print(last_characters)\n",
    "print(last_characters_sorted)"
   ]
  },
  {
   "cell_type": "code",
   "execution_count": 244,
   "metadata": {
    "collapsed": false
   },
   "outputs": [
    {
     "name": "stdout",
     "output_type": "stream",
     "text": [
      "Known Pairs\n",
      "['EB', 'GE', 'PE', 'BF', 'IG', '^I', 'FP', '|^', 'E|']\n"
     ]
    }
   ],
   "source": [
    "print(\"Known Pairs\")\n",
    "pairs = [last_characters[ix]+last_characters_sorted[ix] for ix in range(len(last_characters))]\n",
    "print(pairs)"
   ]
  },
  {
   "cell_type": "code",
   "execution_count": 245,
   "metadata": {
    "collapsed": false
   },
   "outputs": [
    {
     "name": "stdout",
     "output_type": "stream",
     "text": [
      "{'B': ['BF'], 'F': ['FP'], '^': ['^I'], 'P': ['PE'], '|': ['|^'], 'G': ['GE'], 'I': ['IG'], 'E': ['EB', 'E|']}\n"
     ]
    }
   ],
   "source": [
    "dict = {}\n",
    "for pair in pairs:\n",
    "    key, val = pair[0], pair\n",
    "    if key not in dict:\n",
    "        dict[key] = []\n",
    "    #if val not in dict[key]:\n",
    "    dict[key].append(val)\n",
    "print(dict)"
   ]
  },
  {
   "cell_type": "code",
   "execution_count": 246,
   "metadata": {
    "collapsed": false
   },
   "outputs": [
    {
     "data": {
      "text/plain": [
       "[8, 7, 6, 5, 4, 3, 2, 1, 0]"
      ]
     },
     "execution_count": 246,
     "metadata": {},
     "output_type": "execute_result"
    }
   ],
   "source": [
    "[ix for ix in reversed(list(range(in_str2)))]"
   ]
  },
  {
   "cell_type": "code",
   "execution_count": 249,
   "metadata": {
    "collapsed": false
   },
   "outputs": [
    {
     "name": "stdout",
     "output_type": "stream",
     "text": [
      "BFPE|^IGE\n",
      "EBFPE|^IG\n",
      "E|^IGEBFP\n",
      "FPE|^IGEB\n",
      "GEBFPE|^I\n",
      "IGEBFPE|^\n",
      "PE|^IGEBF\n",
      "^IGEBFPE|\n",
      "|^IGEBFPE\n",
      "['E', 'G', 'P', 'B', 'I', '^', 'F', '|', 'E']\n",
      "['B', 'E', 'E', 'F', 'G', 'I', 'P', '^', '|']\n",
      "['EB', 'GE', 'PE', 'BF', 'IG', '^I', 'FP', '|^', 'E|']\n",
      "['BF', 'EB', 'E|', 'FP', 'GE', 'IG', 'PE', '^I', '|^']\n",
      "['EBF', 'GEB', 'PE|', 'BFP', 'IGE', '^IG', 'FPE', '|^I', 'E|^']\n",
      "['BFP', 'EBF', 'E|^', 'FPE', 'GEB', 'IGE', 'PE|', '^IG', '|^I']\n",
      "['EBFP', 'GEBF', 'PE|^', 'BFPE', 'IGEB', '^IGE', 'FPE|', '|^IG', 'E|^I']\n",
      "['BFPE', 'EBFP', 'E|^I', 'FPE|', 'GEBF', 'IGEB', 'PE|^', '^IGE', '|^IG']\n",
      "['EBFPE', 'GEBFP', 'PE|^I', 'BFPE|', 'IGEBF', '^IGEB', 'FPE|^', '|^IGE', 'E|^IG']\n",
      "['BFPE|', 'EBFPE', 'E|^IG', 'FPE|^', 'GEBFP', 'IGEBF', 'PE|^I', '^IGEB', '|^IGE']\n",
      "['EBFPE|', 'GEBFPE', 'PE|^IG', 'BFPE|^', 'IGEBFP', '^IGEBF', 'FPE|^I', '|^IGEB', 'E|^IGE']\n",
      "['BFPE|^', 'EBFPE|', 'E|^IGE', 'FPE|^I', 'GEBFPE', 'IGEBFP', 'PE|^IG', '^IGEBF', '|^IGEB']\n",
      "['EBFPE|^', 'GEBFPE|', 'PE|^IGE', 'BFPE|^I', 'IGEBFPE', '^IGEBFP', 'FPE|^IG', '|^IGEBF', 'E|^IGEB']\n",
      "['BFPE|^I', 'EBFPE|^', 'E|^IGEB', 'FPE|^IG', 'GEBFPE|', 'IGEBFPE', 'PE|^IGE', '^IGEBFP', '|^IGEBF']\n",
      "['EBFPE|^I', 'GEBFPE|^', 'PE|^IGEB', 'BFPE|^IG', 'IGEBFPE|', '^IGEBFPE', 'FPE|^IGE', '|^IGEBFP', 'E|^IGEBF']\n",
      "['BFPE|^IG', 'EBFPE|^I', 'E|^IGEBF', 'FPE|^IGE', 'GEBFPE|^', 'IGEBFPE|', 'PE|^IGEB', '^IGEBFPE', '|^IGEBFP']\n",
      "['EBFPE|^IG', 'GEBFPE|^I', 'PE|^IGEBF', 'BFPE|^IGE', 'IGEBFPE|^', '^IGEBFPE|', 'FPE|^IGEB', '|^IGEBFPE', 'E|^IGEBFP']\n",
      "['BFPE|^IGE', 'EBFPE|^IG', 'E|^IGEBFP', 'FPE|^IGEB', 'GEBFPE|^I', 'IGEBFPE|^', 'PE|^IGEBF', '^IGEBFPE|', '|^IGEBFPE']\n",
      "^IGEBFPE|\n",
      "^IGEBFPE|\n"
     ]
    }
   ],
   "source": [
    "dummy = [print(rot) for rot in all_rotations_sorted]\n",
    "in_str2 = len(last_characters)\n",
    "yo = list(last_characters)\n",
    "yo1 = ['']*in_str2\n",
    "for ix in range(in_str2):\n",
    "    for iy in range(in_str2):\n",
    "        yo1[iy] = yo[iy] + yo1[iy]\n",
    "    print(yo1)\n",
    "    yo1.sort()\n",
    "    print(yo1)\n",
    "    \n",
    "# find the one with '|' as last char\n",
    "inverse_str = [yo2 for yo2 in yo1 if yo2[-1]=='|'][0]\n",
    "print(string2)\n",
    "print(inverse_str)"
   ]
  },
  {
   "cell_type": "code",
   "execution_count": 248,
   "metadata": {
    "collapsed": false
   },
   "outputs": [],
   "source": [
    "a = ['mama','mia']"
   ]
  },
  {
   "cell_type": "code",
   "execution_count": null,
   "metadata": {
    "collapsed": false
   },
   "outputs": [],
   "source": []
  }
 ],
 "metadata": {
  "hide_input": true,
  "kernelspec": {
   "display_name": "Python 3",
   "language": "python3",
   "name": "python3"
  },
  "language_info": {
   "codemirror_mode": {
    "name": "ipython",
    "version": 3
   },
   "file_extension": ".py",
   "mimetype": "text/x-python",
   "name": "python",
   "nbconvert_exporter": "python",
   "pygments_lexer": "ipython3",
   "version": "3.5.0"
  },
  "latex_envs": {
   "bibliofile": "biblio.bib",
   "cite_by": "apalike",
   "current_citInitial": 1,
   "eqLabelWithNumbers": true,
   "eqNumInitial": 0
  }
 },
 "nbformat": 4,
 "nbformat_minor": 0
}
