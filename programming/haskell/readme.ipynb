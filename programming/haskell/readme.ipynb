{
 "cells": [
  {
   "cell_type": "markdown",
   "metadata": {},
   "source": []
  },
  {
   "cell_type": "markdown",
   "metadata": {
    "collapsed": true
   },
   "source": [
    "this is the dude\n",
    "https://github.com/gibiansky/IHaskell"
   ]
  },
  {
   "cell_type": "markdown",
   "metadata": {},
   "source": [
    "Dependencies\n",
    "==============\n",
    "\n",
    "1. zeromq\n",
    "  1. **ubuntu**: ```sudo apt-fast -y install libzmq3-dev```\n",
    "  1. **mac**: ```brew install zeromq```\n",
    "  \n",
    "1. libmagic\n",
    "  1. **ubuntu**: ```sudo apt-fast -y install libmagic-dev```\n",
    "  1. **mac**: ```brew install libmagic```\n",
    "  \n",
    "1. stack\n",
    "  1. **ubuntu**: [Instructions](http://docs.haskellstack.org/en/stable/install_and_upgrade.html#ubuntu)\n",
    "  1. **mac**: ```brew install haskell-stack```\n",
    "  1. post installation\n",
    "      ```\n",
    "      stack setup\n",
    "      ```"
   ]
  },
  {
   "cell_type": "markdown",
   "metadata": {
    "collapsed": true
   },
   "source": [
    "Main thing\n",
    "==========\n",
    "\n",
    "```\n",
    "git clone https://github.com/gibiansky/IHaskell\n",
    "cd Ihaskell\n",
    "stack install\n",
    "ihaskell install\n",
    "```"
   ]
  }
 ],
 "metadata": {
  "hide_input": false,
  "kernelspec": {
   "display_name": "Haskell",
   "language": "haskell",
   "name": "haskell"
  },
  "language_info": {
   "codemirror_mode": "ihaskell",
   "file_extension": ".hs",
   "name": "haskell",
   "version": "7.10.2"
  },
  "latex_envs": {
   "bibliofile": "biblio.bib",
   "cite_by": "apalike",
   "current_citInitial": 1,
   "eqLabelWithNumbers": true,
   "eqNumInitial": 0
  }
 },
 "nbformat": 4,
 "nbformat_minor": 0
}
