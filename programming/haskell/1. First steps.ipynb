{
 "cells": [
  {
   "cell_type": "markdown",
   "metadata": {},
   "source": [
    "List operations\n",
    "================="
   ]
  },
  {
   "cell_type": "code",
   "metadata": {},
   "outputs": [],
   "source": [
    "head [1..5]"
   ]
  },
  {
   "cell_type": "code",
   "metadata": {},
   "outputs": [],
   "source": [
    "tail [1..5]"
   ]
  },
  {
   "cell_type": "markdown",
   "metadata": {},
   "source": [
    "N-th element of the list computed this way is linear in time, since lists are not arrays [and not indexed?]"
   ]
  },
  {
   "cell_type": "code",
   "metadata": {},
   "outputs": [],
   "source": [
    "[1..5] !! 2"
   ]
  },
  {
   "cell_type": "code",
   "metadata": {},
   "outputs": [],
   "source": [
    "take 3 [1..5]"
   ]
  },
  {
   "cell_type": "code",
   "metadata": {},
   "outputs": [],
   "source": [
    "drop 3 [1..5]"
   ]
  },
  {
   "cell_type": "markdown",
   "metadata": {},
   "source": [
    "Length of the list computed this way is linear in time, since lists are not arrays [and not indexed?]"
   ]
  },
  {
   "cell_type": "code",
   "metadata": {},
   "outputs": [],
   "source": [
    "length [1..5]"
   ]
  },
  {
   "cell_type": "code",
   "metadata": {},
   "outputs": [],
   "source": [
    "sum [1..5]"
   ]
  },
  {
   "cell_type": "code",
   "metadata": {},
   "outputs": [],
   "source": [
    "product [1..5]"
   ]
  },
  {
   "cell_type": "code",
   "metadata": {},
   "outputs": [],
   "source": [
    "[1..3] ++ [3..5]"
   ]
  },
  {
   "cell_type": "code",
   "metadata": {},
   "outputs": [],
   "source": [
    "reverse [1..5]"
   ]
  },
  {
   "cell_type": "markdown",
   "metadata": {},
   "source": [
    "Function Application\n",
    "======================\n",
    "\n",
    "f(a,b) + cd means apply $f$ to (a,b) and add the product of c,d.  \n",
    "\n",
    "In haskell, function application is done by space  \n",
    "f a b + c*d\n",
    "\n",
    "f a + b  \n",
    "means (f a) + b, because f binds stronger than addition.  \n",
    "\n",
    "| Mathematics | Haskell   |\n",
    "| ----------- | -------   |\n",
    "| f(x)        | f x       |\n",
    "| f(x,y)      | f x y     |\n",
    "| f(g(x))     | f (g x)   |\n",
    "| f(x,g(y))   | f x (g y) |\n",
    "| f(x) g(y)   | f x * g y |"
   ]
  },
  {
   "cell_type": "markdown",
   "metadata": {},
   "source": [
    "Haskell has extenstion .hs"
   ]
  },
  {
   "cell_type": "code",
   "metadata": {},
   "outputs": [],
   "source": [
    "double x = x + x\n",
    "quadrapule x = double (double x)"
   ]
  },
  {
   "cell_type": "code",
   "metadata": {},
   "outputs": [],
   "source": [
    "quadrapule 10"
   ]
  },
  {
   "cell_type": "code",
   "metadata": {},
   "outputs": [],
   "source": [
    "take (double 2) [1..6]"
   ]
  },
  {
   "cell_type": "markdown",
   "metadata": {},
   "source": [
    "* div is enclosed in backquotes, not forward\n",
    "* \"x \\`f\\` y\" $\\Leftrightarrow$ \"f x y\""
   ]
  },
  {
   "cell_type": "code",
   "metadata": {},
   "outputs": [],
   "source": [
    "factorial n = product [1..n]\n",
    "average ns = sum ns `div` length ns"
   ]
  },
  {
   "cell_type": "markdown",
   "metadata": {},
   "source": [
    ":reload -- reloads the files [all files?]"
   ]
  },
  {
   "cell_type": "code",
   "metadata": {},
   "outputs": [],
   "source": [
    "factorial 10"
   ]
  },
  {
   "cell_type": "code",
   "metadata": {},
   "outputs": [],
   "source": [
    "average [1..5]"
   ]
  },
  {
   "cell_type": "markdown",
   "metadata": {},
   "source": [
    "Naming requirements  \n",
    "1. functions\n",
    "  1. must begin with lower case letter\n",
    "  1. can have _\n",
    "  1. can have prime(') $\\color{gray}{\\text{for complements etc.}}$\n",
    "  \n",
    "1. lists  \n",
    "  1. $\\color{gray}{\\text{convention}}$\n",
    "      parameters with \"s\" suffix: list of \"prefix\" object\n",
    "      \n",
    "      \n",
    "1. Layout rule, whitespace is significant (like in python)\n",
    "\n",
    "  > ```haskell\n",
    "  a = b + c\n",
    "      where\n",
    "          b = 1\n",
    "          c = 2\n",
    "  d = a * 2\n",
    "  ```\n",
    "   \n",
    "  means this\n",
    "  \n",
    "  > ```haskell\n",
    "   a = {b + c\n",
    "        where\n",
    "          {b = 1;\n",
    "           c = 2;}}\n",
    "  \n",
    "  > d = a*2\n",
    "  ```\n"
   ]
  },
  {
   "cell_type": "markdown",
   "metadata": {},
   "source": [
    "Useful GHCi commands\n",
    "======================\n",
    "\n",
    "\\begin{array}{ll}\n",
    "\\bf{:load } ~ \\it{ name} & \\text{load script } name\\\\\n",
    "\\bf{:reload}     & \\text{reload current script}\\\\\n",
    "\\bf{:edit } ~ \\it{name} & \\text{edit script } name \\\\\n",
    "\\bf{:edit}       & \\text{edit current script}\\\\\n",
    "\\bf{:type } ~ \\it{expr} & \\text{show type of } expr \\\\\n",
    "\\bf{:?}          & \\text{show all commands}\\\\\n",
    "\\bf{:quit}       & \\text{quit GHCi}\n",
    "\\end{array}\n"
   ]
  }
 ],
 "metadata": {
  "hide_input": false,
  "kernelspec": {
   "display_name": "Haskell",
   "language": "haskell",
   "name": "haskell"
  },
  "language_info": {
   "codemirror_mode": "ihaskell",
   "file_extension": ".hs",
   "name": "haskell"
  },
  "latex_envs": {
   "bibliofile": "biblio.bib",
   "cite_by": "apalike",
   "current_citInitial": 1,
   "eqLabelWithNumbers": true,
   "eqNumInitial": 0
  }
 },
 "nbformat": 4,
 "nbformat_minor": 0
}
