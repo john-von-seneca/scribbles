{
 "cells": [
  {
   "cell_type": "markdown",
   "metadata": {},
   "source": [
    "Believe the type\n",
    "================="
   ]
  },
  {
   "cell_type": "code",
   "execution_count": 1,
   "metadata": {
    "collapsed": false,
    "run_control": {
     "frozen": false,
     "read_only": false
    }
   },
   "outputs": [
    {
     "data": {
      "text/html": [
       "<style>/*\n",
       "Custom IHaskell CSS.\n",
       "*/\n",
       "\n",
       "/* Styles used for the Hoogle display in the pager */\n",
       ".hoogle-doc {\n",
       "    display: block;\n",
       "    padding-bottom: 1.3em;\n",
       "    padding-left: 0.4em;\n",
       "}\n",
       ".hoogle-code {\n",
       "    display: block;\n",
       "    font-family: monospace;\n",
       "    white-space: pre;\n",
       "}\n",
       ".hoogle-text {\n",
       "    display: block;\n",
       "}\n",
       ".hoogle-name {\n",
       "    color: green;\n",
       "    font-weight: bold;\n",
       "}\n",
       ".hoogle-head {\n",
       "    font-weight: bold;\n",
       "}\n",
       ".hoogle-sub {\n",
       "    display: block;\n",
       "    margin-left: 0.4em;\n",
       "}\n",
       ".hoogle-package {\n",
       "    font-weight: bold;\n",
       "    font-style: italic;\n",
       "}\n",
       ".hoogle-module {\n",
       "    font-weight: bold;\n",
       "}\n",
       ".hoogle-class {\n",
       "    font-weight: bold;\n",
       "}\n",
       "\n",
       "/* Styles used for basic displays */\n",
       ".get-type {\n",
       "    color: green;\n",
       "    font-weight: bold;\n",
       "    font-family: monospace;\n",
       "    display: block;\n",
       "    white-space: pre-wrap;\n",
       "}\n",
       "\n",
       ".show-type {\n",
       "    color: green;\n",
       "    font-weight: bold;\n",
       "    font-family: monospace;\n",
       "    margin-left: 1em;\n",
       "}\n",
       "\n",
       ".mono {\n",
       "    font-family: monospace;\n",
       "    display: block;\n",
       "}\n",
       "\n",
       ".err-msg {\n",
       "    color: red;\n",
       "    font-style: italic;\n",
       "    font-family: monospace;\n",
       "    white-space: pre;\n",
       "    display: block;\n",
       "}\n",
       "\n",
       "#unshowable {\n",
       "    color: red;\n",
       "    font-weight: bold;\n",
       "}\n",
       "\n",
       ".err-msg.in.collapse {\n",
       "  padding-top: 0.7em;\n",
       "}\n",
       "\n",
       "/* Code that will get highlighted before it is highlighted */\n",
       ".highlight-code {\n",
       "    white-space: pre;\n",
       "    font-family: monospace;\n",
       "}\n",
       "\n",
       "/* Hlint styles */\n",
       ".suggestion-warning { \n",
       "    font-weight: bold;\n",
       "    color: rgb(200, 130, 0);\n",
       "}\n",
       ".suggestion-error { \n",
       "    font-weight: bold;\n",
       "    color: red;\n",
       "}\n",
       ".suggestion-name {\n",
       "    font-weight: bold;\n",
       "}\n",
       "</style><span class='get-type'>1 :: forall a. Num a => a</span>"
      ],
      "text/plain": [
       "1 :: forall a. Num a => a"
      ]
     },
     "metadata": {},
     "output_type": "display_data"
    }
   ],
   "source": [
    ":t 1"
   ]
  },
  {
   "cell_type": "code",
   "execution_count": 2,
   "metadata": {
    "collapsed": false,
    "run_control": {
     "frozen": false,
     "read_only": false
    }
   },
   "outputs": [
    {
     "data": {
      "text/html": [
       "<style>/*\n",
       "Custom IHaskell CSS.\n",
       "*/\n",
       "\n",
       "/* Styles used for the Hoogle display in the pager */\n",
       ".hoogle-doc {\n",
       "    display: block;\n",
       "    padding-bottom: 1.3em;\n",
       "    padding-left: 0.4em;\n",
       "}\n",
       ".hoogle-code {\n",
       "    display: block;\n",
       "    font-family: monospace;\n",
       "    white-space: pre;\n",
       "}\n",
       ".hoogle-text {\n",
       "    display: block;\n",
       "}\n",
       ".hoogle-name {\n",
       "    color: green;\n",
       "    font-weight: bold;\n",
       "}\n",
       ".hoogle-head {\n",
       "    font-weight: bold;\n",
       "}\n",
       ".hoogle-sub {\n",
       "    display: block;\n",
       "    margin-left: 0.4em;\n",
       "}\n",
       ".hoogle-package {\n",
       "    font-weight: bold;\n",
       "    font-style: italic;\n",
       "}\n",
       ".hoogle-module {\n",
       "    font-weight: bold;\n",
       "}\n",
       ".hoogle-class {\n",
       "    font-weight: bold;\n",
       "}\n",
       "\n",
       "/* Styles used for basic displays */\n",
       ".get-type {\n",
       "    color: green;\n",
       "    font-weight: bold;\n",
       "    font-family: monospace;\n",
       "    display: block;\n",
       "    white-space: pre-wrap;\n",
       "}\n",
       "\n",
       ".show-type {\n",
       "    color: green;\n",
       "    font-weight: bold;\n",
       "    font-family: monospace;\n",
       "    margin-left: 1em;\n",
       "}\n",
       "\n",
       ".mono {\n",
       "    font-family: monospace;\n",
       "    display: block;\n",
       "}\n",
       "\n",
       ".err-msg {\n",
       "    color: red;\n",
       "    font-style: italic;\n",
       "    font-family: monospace;\n",
       "    white-space: pre;\n",
       "    display: block;\n",
       "}\n",
       "\n",
       "#unshowable {\n",
       "    color: red;\n",
       "    font-weight: bold;\n",
       "}\n",
       "\n",
       ".err-msg.in.collapse {\n",
       "  padding-top: 0.7em;\n",
       "}\n",
       "\n",
       "/* Code that will get highlighted before it is highlighted */\n",
       ".highlight-code {\n",
       "    white-space: pre;\n",
       "    font-family: monospace;\n",
       "}\n",
       "\n",
       "/* Hlint styles */\n",
       ".suggestion-warning { \n",
       "    font-weight: bold;\n",
       "    color: rgb(200, 130, 0);\n",
       "}\n",
       ".suggestion-error { \n",
       "    font-weight: bold;\n",
       "    color: red;\n",
       "}\n",
       ".suggestion-name {\n",
       "    font-weight: bold;\n",
       "}\n",
       "</style><span class='get-type'>'a' :: Char</span>"
      ],
      "text/plain": [
       "'a' :: Char"
      ]
     },
     "metadata": {},
     "output_type": "display_data"
    }
   ],
   "source": [
    ":t 'a'"
   ]
  },
  {
   "cell_type": "code",
   "execution_count": 3,
   "metadata": {
    "collapsed": false,
    "run_control": {
     "frozen": false,
     "read_only": false
    }
   },
   "outputs": [
    {
     "data": {
      "text/html": [
       "<style>/*\n",
       "Custom IHaskell CSS.\n",
       "*/\n",
       "\n",
       "/* Styles used for the Hoogle display in the pager */\n",
       ".hoogle-doc {\n",
       "    display: block;\n",
       "    padding-bottom: 1.3em;\n",
       "    padding-left: 0.4em;\n",
       "}\n",
       ".hoogle-code {\n",
       "    display: block;\n",
       "    font-family: monospace;\n",
       "    white-space: pre;\n",
       "}\n",
       ".hoogle-text {\n",
       "    display: block;\n",
       "}\n",
       ".hoogle-name {\n",
       "    color: green;\n",
       "    font-weight: bold;\n",
       "}\n",
       ".hoogle-head {\n",
       "    font-weight: bold;\n",
       "}\n",
       ".hoogle-sub {\n",
       "    display: block;\n",
       "    margin-left: 0.4em;\n",
       "}\n",
       ".hoogle-package {\n",
       "    font-weight: bold;\n",
       "    font-style: italic;\n",
       "}\n",
       ".hoogle-module {\n",
       "    font-weight: bold;\n",
       "}\n",
       ".hoogle-class {\n",
       "    font-weight: bold;\n",
       "}\n",
       "\n",
       "/* Styles used for basic displays */\n",
       ".get-type {\n",
       "    color: green;\n",
       "    font-weight: bold;\n",
       "    font-family: monospace;\n",
       "    display: block;\n",
       "    white-space: pre-wrap;\n",
       "}\n",
       "\n",
       ".show-type {\n",
       "    color: green;\n",
       "    font-weight: bold;\n",
       "    font-family: monospace;\n",
       "    margin-left: 1em;\n",
       "}\n",
       "\n",
       ".mono {\n",
       "    font-family: monospace;\n",
       "    display: block;\n",
       "}\n",
       "\n",
       ".err-msg {\n",
       "    color: red;\n",
       "    font-style: italic;\n",
       "    font-family: monospace;\n",
       "    white-space: pre;\n",
       "    display: block;\n",
       "}\n",
       "\n",
       "#unshowable {\n",
       "    color: red;\n",
       "    font-weight: bold;\n",
       "}\n",
       "\n",
       ".err-msg.in.collapse {\n",
       "  padding-top: 0.7em;\n",
       "}\n",
       "\n",
       "/* Code that will get highlighted before it is highlighted */\n",
       ".highlight-code {\n",
       "    white-space: pre;\n",
       "    font-family: monospace;\n",
       "}\n",
       "\n",
       "/* Hlint styles */\n",
       ".suggestion-warning { \n",
       "    font-weight: bold;\n",
       "    color: rgb(200, 130, 0);\n",
       "}\n",
       ".suggestion-error { \n",
       "    font-weight: bold;\n",
       "    color: red;\n",
       "}\n",
       ".suggestion-name {\n",
       "    font-weight: bold;\n",
       "}\n",
       "</style><span class='get-type'>\"a\" :: [Char]</span>"
      ],
      "text/plain": [
       "\"a\" :: [Char]"
      ]
     },
     "metadata": {},
     "output_type": "display_data"
    }
   ],
   "source": [
    ":t \"a\""
   ]
  },
  {
   "cell_type": "code",
   "execution_count": 4,
   "metadata": {
    "collapsed": false,
    "run_control": {
     "frozen": false,
     "read_only": false
    }
   },
   "outputs": [
    {
     "data": {
      "text/html": [
       "<style>/*\n",
       "Custom IHaskell CSS.\n",
       "*/\n",
       "\n",
       "/* Styles used for the Hoogle display in the pager */\n",
       ".hoogle-doc {\n",
       "    display: block;\n",
       "    padding-bottom: 1.3em;\n",
       "    padding-left: 0.4em;\n",
       "}\n",
       ".hoogle-code {\n",
       "    display: block;\n",
       "    font-family: monospace;\n",
       "    white-space: pre;\n",
       "}\n",
       ".hoogle-text {\n",
       "    display: block;\n",
       "}\n",
       ".hoogle-name {\n",
       "    color: green;\n",
       "    font-weight: bold;\n",
       "}\n",
       ".hoogle-head {\n",
       "    font-weight: bold;\n",
       "}\n",
       ".hoogle-sub {\n",
       "    display: block;\n",
       "    margin-left: 0.4em;\n",
       "}\n",
       ".hoogle-package {\n",
       "    font-weight: bold;\n",
       "    font-style: italic;\n",
       "}\n",
       ".hoogle-module {\n",
       "    font-weight: bold;\n",
       "}\n",
       ".hoogle-class {\n",
       "    font-weight: bold;\n",
       "}\n",
       "\n",
       "/* Styles used for basic displays */\n",
       ".get-type {\n",
       "    color: green;\n",
       "    font-weight: bold;\n",
       "    font-family: monospace;\n",
       "    display: block;\n",
       "    white-space: pre-wrap;\n",
       "}\n",
       "\n",
       ".show-type {\n",
       "    color: green;\n",
       "    font-weight: bold;\n",
       "    font-family: monospace;\n",
       "    margin-left: 1em;\n",
       "}\n",
       "\n",
       ".mono {\n",
       "    font-family: monospace;\n",
       "    display: block;\n",
       "}\n",
       "\n",
       ".err-msg {\n",
       "    color: red;\n",
       "    font-style: italic;\n",
       "    font-family: monospace;\n",
       "    white-space: pre;\n",
       "    display: block;\n",
       "}\n",
       "\n",
       "#unshowable {\n",
       "    color: red;\n",
       "    font-weight: bold;\n",
       "}\n",
       "\n",
       ".err-msg.in.collapse {\n",
       "  padding-top: 0.7em;\n",
       "}\n",
       "\n",
       "/* Code that will get highlighted before it is highlighted */\n",
       ".highlight-code {\n",
       "    white-space: pre;\n",
       "    font-family: monospace;\n",
       "}\n",
       "\n",
       "/* Hlint styles */\n",
       ".suggestion-warning { \n",
       "    font-weight: bold;\n",
       "    color: rgb(200, 130, 0);\n",
       "}\n",
       ".suggestion-error { \n",
       "    font-weight: bold;\n",
       "    color: red;\n",
       "}\n",
       ".suggestion-name {\n",
       "    font-weight: bold;\n",
       "}\n",
       "</style><span class='get-type'>True :: Bool</span>"
      ],
      "text/plain": [
       "True :: Bool"
      ]
     },
     "metadata": {},
     "output_type": "display_data"
    }
   ],
   "source": [
    ":t True"
   ]
  },
  {
   "cell_type": "code",
   "execution_count": 5,
   "metadata": {
    "collapsed": false,
    "run_control": {
     "frozen": false,
     "read_only": false
    }
   },
   "outputs": [
    {
     "data": {
      "text/html": [
       "<style>/*\n",
       "Custom IHaskell CSS.\n",
       "*/\n",
       "\n",
       "/* Styles used for the Hoogle display in the pager */\n",
       ".hoogle-doc {\n",
       "    display: block;\n",
       "    padding-bottom: 1.3em;\n",
       "    padding-left: 0.4em;\n",
       "}\n",
       ".hoogle-code {\n",
       "    display: block;\n",
       "    font-family: monospace;\n",
       "    white-space: pre;\n",
       "}\n",
       ".hoogle-text {\n",
       "    display: block;\n",
       "}\n",
       ".hoogle-name {\n",
       "    color: green;\n",
       "    font-weight: bold;\n",
       "}\n",
       ".hoogle-head {\n",
       "    font-weight: bold;\n",
       "}\n",
       ".hoogle-sub {\n",
       "    display: block;\n",
       "    margin-left: 0.4em;\n",
       "}\n",
       ".hoogle-package {\n",
       "    font-weight: bold;\n",
       "    font-style: italic;\n",
       "}\n",
       ".hoogle-module {\n",
       "    font-weight: bold;\n",
       "}\n",
       ".hoogle-class {\n",
       "    font-weight: bold;\n",
       "}\n",
       "\n",
       "/* Styles used for basic displays */\n",
       ".get-type {\n",
       "    color: green;\n",
       "    font-weight: bold;\n",
       "    font-family: monospace;\n",
       "    display: block;\n",
       "    white-space: pre-wrap;\n",
       "}\n",
       "\n",
       ".show-type {\n",
       "    color: green;\n",
       "    font-weight: bold;\n",
       "    font-family: monospace;\n",
       "    margin-left: 1em;\n",
       "}\n",
       "\n",
       ".mono {\n",
       "    font-family: monospace;\n",
       "    display: block;\n",
       "}\n",
       "\n",
       ".err-msg {\n",
       "    color: red;\n",
       "    font-style: italic;\n",
       "    font-family: monospace;\n",
       "    white-space: pre;\n",
       "    display: block;\n",
       "}\n",
       "\n",
       "#unshowable {\n",
       "    color: red;\n",
       "    font-weight: bold;\n",
       "}\n",
       "\n",
       ".err-msg.in.collapse {\n",
       "  padding-top: 0.7em;\n",
       "}\n",
       "\n",
       "/* Code that will get highlighted before it is highlighted */\n",
       ".highlight-code {\n",
       "    white-space: pre;\n",
       "    font-family: monospace;\n",
       "}\n",
       "\n",
       "/* Hlint styles */\n",
       ".suggestion-warning { \n",
       "    font-weight: bold;\n",
       "    color: rgb(200, 130, 0);\n",
       "}\n",
       ".suggestion-error { \n",
       "    font-weight: bold;\n",
       "    color: red;\n",
       "}\n",
       ".suggestion-name {\n",
       "    font-weight: bold;\n",
       "}\n",
       "</style><span class='get-type'>(1,2,\"hi\",True) :: forall t t1. (Num t, Num t1) => (t, t1, [Char], Bool)</span>"
      ],
      "text/plain": [
       "(1,2,\"hi\",True) :: forall t t1. (Num t, Num t1) => (t, t1, [Char], Bool)"
      ]
     },
     "metadata": {},
     "output_type": "display_data"
    }
   ],
   "source": [
    ":t (1,2,\"hi\",True)"
   ]
  },
  {
   "cell_type": "code",
   "execution_count": 6,
   "metadata": {
    "collapsed": true,
    "run_control": {
     "frozen": false,
     "read_only": false
    }
   },
   "outputs": [],
   "source": [
    "removeNonUpperCase st = [c | c <- st, c `elem` ['A' .. 'Z']]"
   ]
  },
  {
   "cell_type": "code",
   "execution_count": 7,
   "metadata": {
    "collapsed": false,
    "run_control": {
     "frozen": false,
     "read_only": false
    }
   },
   "outputs": [
    {
     "data": {
      "text/html": [
       "<style>/*\n",
       "Custom IHaskell CSS.\n",
       "*/\n",
       "\n",
       "/* Styles used for the Hoogle display in the pager */\n",
       ".hoogle-doc {\n",
       "    display: block;\n",
       "    padding-bottom: 1.3em;\n",
       "    padding-left: 0.4em;\n",
       "}\n",
       ".hoogle-code {\n",
       "    display: block;\n",
       "    font-family: monospace;\n",
       "    white-space: pre;\n",
       "}\n",
       ".hoogle-text {\n",
       "    display: block;\n",
       "}\n",
       ".hoogle-name {\n",
       "    color: green;\n",
       "    font-weight: bold;\n",
       "}\n",
       ".hoogle-head {\n",
       "    font-weight: bold;\n",
       "}\n",
       ".hoogle-sub {\n",
       "    display: block;\n",
       "    margin-left: 0.4em;\n",
       "}\n",
       ".hoogle-package {\n",
       "    font-weight: bold;\n",
       "    font-style: italic;\n",
       "}\n",
       ".hoogle-module {\n",
       "    font-weight: bold;\n",
       "}\n",
       ".hoogle-class {\n",
       "    font-weight: bold;\n",
       "}\n",
       "\n",
       "/* Styles used for basic displays */\n",
       ".get-type {\n",
       "    color: green;\n",
       "    font-weight: bold;\n",
       "    font-family: monospace;\n",
       "    display: block;\n",
       "    white-space: pre-wrap;\n",
       "}\n",
       "\n",
       ".show-type {\n",
       "    color: green;\n",
       "    font-weight: bold;\n",
       "    font-family: monospace;\n",
       "    margin-left: 1em;\n",
       "}\n",
       "\n",
       ".mono {\n",
       "    font-family: monospace;\n",
       "    display: block;\n",
       "}\n",
       "\n",
       ".err-msg {\n",
       "    color: red;\n",
       "    font-style: italic;\n",
       "    font-family: monospace;\n",
       "    white-space: pre;\n",
       "    display: block;\n",
       "}\n",
       "\n",
       "#unshowable {\n",
       "    color: red;\n",
       "    font-weight: bold;\n",
       "}\n",
       "\n",
       ".err-msg.in.collapse {\n",
       "  padding-top: 0.7em;\n",
       "}\n",
       "\n",
       "/* Code that will get highlighted before it is highlighted */\n",
       ".highlight-code {\n",
       "    white-space: pre;\n",
       "    font-family: monospace;\n",
       "}\n",
       "\n",
       "/* Hlint styles */\n",
       ".suggestion-warning { \n",
       "    font-weight: bold;\n",
       "    color: rgb(200, 130, 0);\n",
       "}\n",
       ".suggestion-error { \n",
       "    font-weight: bold;\n",
       "    color: red;\n",
       "}\n",
       ".suggestion-name {\n",
       "    font-weight: bold;\n",
       "}\n",
       "</style><span class='get-type'>removeNonUpperCase :: [Char] -> [Char]</span>"
      ],
      "text/plain": [
       "removeNonUpperCase :: [Char] -> [Char]"
      ]
     },
     "metadata": {},
     "output_type": "display_data"
    }
   ],
   "source": [
    ":t removeNonUpperCase"
   ]
  },
  {
   "cell_type": "code",
   "execution_count": 9,
   "metadata": {
    "collapsed": false,
    "run_control": {
     "frozen": false,
     "read_only": false
    }
   },
   "outputs": [],
   "source": [
    "addThree x y z = x+y+z"
   ]
  },
  {
   "cell_type": "code",
   "execution_count": 10,
   "metadata": {
    "collapsed": false,
    "run_control": {
     "frozen": false,
     "read_only": false
    }
   },
   "outputs": [
    {
     "data": {
      "text/html": [
       "<style>/*\n",
       "Custom IHaskell CSS.\n",
       "*/\n",
       "\n",
       "/* Styles used for the Hoogle display in the pager */\n",
       ".hoogle-doc {\n",
       "    display: block;\n",
       "    padding-bottom: 1.3em;\n",
       "    padding-left: 0.4em;\n",
       "}\n",
       ".hoogle-code {\n",
       "    display: block;\n",
       "    font-family: monospace;\n",
       "    white-space: pre;\n",
       "}\n",
       ".hoogle-text {\n",
       "    display: block;\n",
       "}\n",
       ".hoogle-name {\n",
       "    color: green;\n",
       "    font-weight: bold;\n",
       "}\n",
       ".hoogle-head {\n",
       "    font-weight: bold;\n",
       "}\n",
       ".hoogle-sub {\n",
       "    display: block;\n",
       "    margin-left: 0.4em;\n",
       "}\n",
       ".hoogle-package {\n",
       "    font-weight: bold;\n",
       "    font-style: italic;\n",
       "}\n",
       ".hoogle-module {\n",
       "    font-weight: bold;\n",
       "}\n",
       ".hoogle-class {\n",
       "    font-weight: bold;\n",
       "}\n",
       "\n",
       "/* Styles used for basic displays */\n",
       ".get-type {\n",
       "    color: green;\n",
       "    font-weight: bold;\n",
       "    font-family: monospace;\n",
       "    display: block;\n",
       "    white-space: pre-wrap;\n",
       "}\n",
       "\n",
       ".show-type {\n",
       "    color: green;\n",
       "    font-weight: bold;\n",
       "    font-family: monospace;\n",
       "    margin-left: 1em;\n",
       "}\n",
       "\n",
       ".mono {\n",
       "    font-family: monospace;\n",
       "    display: block;\n",
       "}\n",
       "\n",
       ".err-msg {\n",
       "    color: red;\n",
       "    font-style: italic;\n",
       "    font-family: monospace;\n",
       "    white-space: pre;\n",
       "    display: block;\n",
       "}\n",
       "\n",
       "#unshowable {\n",
       "    color: red;\n",
       "    font-weight: bold;\n",
       "}\n",
       "\n",
       ".err-msg.in.collapse {\n",
       "  padding-top: 0.7em;\n",
       "}\n",
       "\n",
       "/* Code that will get highlighted before it is highlighted */\n",
       ".highlight-code {\n",
       "    white-space: pre;\n",
       "    font-family: monospace;\n",
       "}\n",
       "\n",
       "/* Hlint styles */\n",
       ".suggestion-warning { \n",
       "    font-weight: bold;\n",
       "    color: rgb(200, 130, 0);\n",
       "}\n",
       ".suggestion-error { \n",
       "    font-weight: bold;\n",
       "    color: red;\n",
       "}\n",
       ".suggestion-name {\n",
       "    font-weight: bold;\n",
       "}\n",
       "</style><span class='get-type'>addThree :: forall a. Num a => a -> a -> a -> a</span>"
      ],
      "text/plain": [
       "addThree :: forall a. Num a => a -> a -> a -> a"
      ]
     },
     "metadata": {},
     "output_type": "display_data"
    }
   ],
   "source": [
    ":t addThree"
   ]
  },
  {
   "cell_type": "code",
   "execution_count": 6,
   "metadata": {
    "collapsed": true,
    "run_control": {
     "frozen": false,
     "read_only": false
    }
   },
   "outputs": [],
   "source": [
    "factorial n = product [1 .. n]"
   ]
  },
  {
   "cell_type": "code",
   "execution_count": 7,
   "metadata": {
    "collapsed": false,
    "run_control": {
     "frozen": false,
     "read_only": false
    }
   },
   "outputs": [
    {
     "data": {
      "text/html": [
       "<style>/*\n",
       "Custom IHaskell CSS.\n",
       "*/\n",
       "\n",
       "/* Styles used for the Hoogle display in the pager */\n",
       ".hoogle-doc {\n",
       "    display: block;\n",
       "    padding-bottom: 1.3em;\n",
       "    padding-left: 0.4em;\n",
       "}\n",
       ".hoogle-code {\n",
       "    display: block;\n",
       "    font-family: monospace;\n",
       "    white-space: pre;\n",
       "}\n",
       ".hoogle-text {\n",
       "    display: block;\n",
       "}\n",
       ".hoogle-name {\n",
       "    color: green;\n",
       "    font-weight: bold;\n",
       "}\n",
       ".hoogle-head {\n",
       "    font-weight: bold;\n",
       "}\n",
       ".hoogle-sub {\n",
       "    display: block;\n",
       "    margin-left: 0.4em;\n",
       "}\n",
       ".hoogle-package {\n",
       "    font-weight: bold;\n",
       "    font-style: italic;\n",
       "}\n",
       ".hoogle-module {\n",
       "    font-weight: bold;\n",
       "}\n",
       ".hoogle-class {\n",
       "    font-weight: bold;\n",
       "}\n",
       "\n",
       "/* Styles used for basic displays */\n",
       ".get-type {\n",
       "    color: green;\n",
       "    font-weight: bold;\n",
       "    font-family: monospace;\n",
       "    display: block;\n",
       "    white-space: pre-wrap;\n",
       "}\n",
       "\n",
       ".show-type {\n",
       "    color: green;\n",
       "    font-weight: bold;\n",
       "    font-family: monospace;\n",
       "    margin-left: 1em;\n",
       "}\n",
       "\n",
       ".mono {\n",
       "    font-family: monospace;\n",
       "    display: block;\n",
       "}\n",
       "\n",
       ".err-msg {\n",
       "    color: red;\n",
       "    font-style: italic;\n",
       "    font-family: monospace;\n",
       "    white-space: pre;\n",
       "    display: block;\n",
       "}\n",
       "\n",
       "#unshowable {\n",
       "    color: red;\n",
       "    font-weight: bold;\n",
       "}\n",
       "\n",
       ".err-msg.in.collapse {\n",
       "  padding-top: 0.7em;\n",
       "}\n",
       "\n",
       "/* Code that will get highlighted before it is highlighted */\n",
       ".highlight-code {\n",
       "    white-space: pre;\n",
       "    font-family: monospace;\n",
       "}\n",
       "\n",
       "/* Hlint styles */\n",
       ".suggestion-warning { \n",
       "    font-weight: bold;\n",
       "    color: rgb(200, 130, 0);\n",
       "}\n",
       ".suggestion-error { \n",
       "    font-weight: bold;\n",
       "    color: red;\n",
       "}\n",
       ".suggestion-name {\n",
       "    font-weight: bold;\n",
       "}\n",
       "</style><span class='get-type'>factorial :: forall a. (Enum a, Num a) => a -> a</span>"
      ],
      "text/plain": [
       "factorial :: forall a. (Enum a, Num a) => a -> a"
      ]
     },
     "metadata": {},
     "output_type": "display_data"
    }
   ],
   "source": [
    ":t factorial"
   ]
  },
  {
   "cell_type": "code",
   "execution_count": 8,
   "metadata": {
    "collapsed": false,
    "run_control": {
     "frozen": false,
     "read_only": false
    }
   },
   "outputs": [
    {
     "data": {
      "text/plain": [
       "2432902008176640000"
      ]
     },
     "metadata": {},
     "output_type": "display_data"
    }
   ],
   "source": [
    "factorial 20"
   ]
  },
  {
   "cell_type": "code",
   "execution_count": 1,
   "metadata": {
    "collapsed": true,
    "run_control": {
     "frozen": false,
     "read_only": false
    }
   },
   "outputs": [],
   "source": [
    "circumference :: Float -> Float\n",
    "circumference r = 2*pi*r"
   ]
  },
  {
   "cell_type": "code",
   "execution_count": 2,
   "metadata": {
    "collapsed": false,
    "run_control": {
     "frozen": false,
     "read_only": false
    }
   },
   "outputs": [
    {
     "data": {
      "text/html": [
       "<style>/*\n",
       "Custom IHaskell CSS.\n",
       "*/\n",
       "\n",
       "/* Styles used for the Hoogle display in the pager */\n",
       ".hoogle-doc {\n",
       "    display: block;\n",
       "    padding-bottom: 1.3em;\n",
       "    padding-left: 0.4em;\n",
       "}\n",
       ".hoogle-code {\n",
       "    display: block;\n",
       "    font-family: monospace;\n",
       "    white-space: pre;\n",
       "}\n",
       ".hoogle-text {\n",
       "    display: block;\n",
       "}\n",
       ".hoogle-name {\n",
       "    color: green;\n",
       "    font-weight: bold;\n",
       "}\n",
       ".hoogle-head {\n",
       "    font-weight: bold;\n",
       "}\n",
       ".hoogle-sub {\n",
       "    display: block;\n",
       "    margin-left: 0.4em;\n",
       "}\n",
       ".hoogle-package {\n",
       "    font-weight: bold;\n",
       "    font-style: italic;\n",
       "}\n",
       ".hoogle-module {\n",
       "    font-weight: bold;\n",
       "}\n",
       ".hoogle-class {\n",
       "    font-weight: bold;\n",
       "}\n",
       "\n",
       "/* Styles used for basic displays */\n",
       ".get-type {\n",
       "    color: green;\n",
       "    font-weight: bold;\n",
       "    font-family: monospace;\n",
       "    display: block;\n",
       "    white-space: pre-wrap;\n",
       "}\n",
       "\n",
       ".show-type {\n",
       "    color: green;\n",
       "    font-weight: bold;\n",
       "    font-family: monospace;\n",
       "    margin-left: 1em;\n",
       "}\n",
       "\n",
       ".mono {\n",
       "    font-family: monospace;\n",
       "    display: block;\n",
       "}\n",
       "\n",
       ".err-msg {\n",
       "    color: red;\n",
       "    font-style: italic;\n",
       "    font-family: monospace;\n",
       "    white-space: pre;\n",
       "    display: block;\n",
       "}\n",
       "\n",
       "#unshowable {\n",
       "    color: red;\n",
       "    font-weight: bold;\n",
       "}\n",
       "\n",
       ".err-msg.in.collapse {\n",
       "  padding-top: 0.7em;\n",
       "}\n",
       "\n",
       "/* Code that will get highlighted before it is highlighted */\n",
       ".highlight-code {\n",
       "    white-space: pre;\n",
       "    font-family: monospace;\n",
       "}\n",
       "\n",
       "/* Hlint styles */\n",
       ".suggestion-warning { \n",
       "    font-weight: bold;\n",
       "    color: rgb(200, 130, 0);\n",
       "}\n",
       ".suggestion-error { \n",
       "    font-weight: bold;\n",
       "    color: red;\n",
       "}\n",
       ".suggestion-name {\n",
       "    font-weight: bold;\n",
       "}\n",
       "</style><span class='get-type'>circumference :: Float -> Float</span>"
      ],
      "text/plain": [
       "circumference :: Float -> Float"
      ]
     },
     "metadata": {},
     "output_type": "display_data"
    }
   ],
   "source": [
    ":t circumference"
   ]
  },
  {
   "cell_type": "code",
   "execution_count": 13,
   "metadata": {
    "collapsed": false,
    "run_control": {
     "frozen": false,
     "read_only": false
    }
   },
   "outputs": [
    {
     "data": {
      "text/plain": [
       "31.41592653589793"
      ]
     },
     "metadata": {},
     "output_type": "display_data"
    }
   ],
   "source": [
    "circumference 5"
   ]
  },
  {
   "cell_type": "code",
   "execution_count": 19,
   "metadata": {
    "collapsed": false,
    "run_control": {
     "frozen": false,
     "read_only": false
    }
   },
   "outputs": [],
   "source": [
    "circumference' :: Double -> Double\n",
    "circumference' r = 2*pi*r"
   ]
  },
  {
   "cell_type": "code",
   "execution_count": 20,
   "metadata": {
    "collapsed": false,
    "run_control": {
     "frozen": false,
     "read_only": false
    }
   },
   "outputs": [
    {
     "data": {
      "text/plain": [
       "31.41592653589793"
      ]
     },
     "metadata": {},
     "output_type": "display_data"
    }
   ],
   "source": [
    "circumference' 5"
   ]
  },
  {
   "cell_type": "markdown",
   "metadata": {},
   "source": [
    "this results in an error, god knows why"
   ]
  },
  {
   "cell_type": "code",
   "execution_count": 23,
   "metadata": {
    "collapsed": false,
    "run_control": {
     "frozen": false,
     "read_only": false
    }
   },
   "outputs": [
    {
     "data": {
      "text/html": [
       "<style>/*\n",
       "Custom IHaskell CSS.\n",
       "*/\n",
       "\n",
       "/* Styles used for the Hoogle display in the pager */\n",
       ".hoogle-doc {\n",
       "    display: block;\n",
       "    padding-bottom: 1.3em;\n",
       "    padding-left: 0.4em;\n",
       "}\n",
       ".hoogle-code {\n",
       "    display: block;\n",
       "    font-family: monospace;\n",
       "    white-space: pre;\n",
       "}\n",
       ".hoogle-text {\n",
       "    display: block;\n",
       "}\n",
       ".hoogle-name {\n",
       "    color: green;\n",
       "    font-weight: bold;\n",
       "}\n",
       ".hoogle-head {\n",
       "    font-weight: bold;\n",
       "}\n",
       ".hoogle-sub {\n",
       "    display: block;\n",
       "    margin-left: 0.4em;\n",
       "}\n",
       ".hoogle-package {\n",
       "    font-weight: bold;\n",
       "    font-style: italic;\n",
       "}\n",
       ".hoogle-module {\n",
       "    font-weight: bold;\n",
       "}\n",
       ".hoogle-class {\n",
       "    font-weight: bold;\n",
       "}\n",
       "\n",
       "/* Styles used for basic displays */\n",
       ".get-type {\n",
       "    color: green;\n",
       "    font-weight: bold;\n",
       "    font-family: monospace;\n",
       "    display: block;\n",
       "    white-space: pre-wrap;\n",
       "}\n",
       "\n",
       ".show-type {\n",
       "    color: green;\n",
       "    font-weight: bold;\n",
       "    font-family: monospace;\n",
       "    margin-left: 1em;\n",
       "}\n",
       "\n",
       ".mono {\n",
       "    font-family: monospace;\n",
       "    display: block;\n",
       "}\n",
       "\n",
       ".err-msg {\n",
       "    color: red;\n",
       "    font-style: italic;\n",
       "    font-family: monospace;\n",
       "    white-space: pre;\n",
       "    display: block;\n",
       "}\n",
       "\n",
       "#unshowable {\n",
       "    color: red;\n",
       "    font-weight: bold;\n",
       "}\n",
       "\n",
       ".err-msg.in.collapse {\n",
       "  padding-top: 0.7em;\n",
       "}\n",
       "\n",
       "/* Code that will get highlighted before it is highlighted */\n",
       ".highlight-code {\n",
       "    white-space: pre;\n",
       "    font-family: monospace;\n",
       "}\n",
       "\n",
       "/* Hlint styles */\n",
       ".suggestion-warning { \n",
       "    font-weight: bold;\n",
       "    color: rgb(200, 130, 0);\n",
       "}\n",
       ".suggestion-error { \n",
       "    font-weight: bold;\n",
       "    color: red;\n",
       "}\n",
       ".suggestion-name {\n",
       "    font-weight: bold;\n",
       "}\n",
       "</style><span class='err-msg'>Couldn't match expected type ‘Float’ with actual type ‘Double’<br/>In the second argument of ‘(*)’, namely ‘r’<br/>In the expression: 2 * pi * r</span>"
      ],
      "text/plain": [
       "Couldn't match expected type ‘Float’ with actual type ‘Double’\n",
       "In the second argument of ‘(*)’, namely ‘r’\n",
       "In the expression: 2 * pi * r"
      ]
     },
     "metadata": {},
     "output_type": "display_data"
    }
   ],
   "source": [
    "circumference' :: Double -> Float\n",
    "circumference' r = 2*pi*r"
   ]
  },
  {
   "cell_type": "markdown",
   "metadata": {},
   "source": [
    "Type variables\n",
    "================"
   ]
  },
  {
   "cell_type": "code",
   "execution_count": 24,
   "metadata": {
    "collapsed": false,
    "run_control": {
     "frozen": false,
     "read_only": false
    }
   },
   "outputs": [
    {
     "data": {
      "text/html": [
       "<style>/*\n",
       "Custom IHaskell CSS.\n",
       "*/\n",
       "\n",
       "/* Styles used for the Hoogle display in the pager */\n",
       ".hoogle-doc {\n",
       "    display: block;\n",
       "    padding-bottom: 1.3em;\n",
       "    padding-left: 0.4em;\n",
       "}\n",
       ".hoogle-code {\n",
       "    display: block;\n",
       "    font-family: monospace;\n",
       "    white-space: pre;\n",
       "}\n",
       ".hoogle-text {\n",
       "    display: block;\n",
       "}\n",
       ".hoogle-name {\n",
       "    color: green;\n",
       "    font-weight: bold;\n",
       "}\n",
       ".hoogle-head {\n",
       "    font-weight: bold;\n",
       "}\n",
       ".hoogle-sub {\n",
       "    display: block;\n",
       "    margin-left: 0.4em;\n",
       "}\n",
       ".hoogle-package {\n",
       "    font-weight: bold;\n",
       "    font-style: italic;\n",
       "}\n",
       ".hoogle-module {\n",
       "    font-weight: bold;\n",
       "}\n",
       ".hoogle-class {\n",
       "    font-weight: bold;\n",
       "}\n",
       "\n",
       "/* Styles used for basic displays */\n",
       ".get-type {\n",
       "    color: green;\n",
       "    font-weight: bold;\n",
       "    font-family: monospace;\n",
       "    display: block;\n",
       "    white-space: pre-wrap;\n",
       "}\n",
       "\n",
       ".show-type {\n",
       "    color: green;\n",
       "    font-weight: bold;\n",
       "    font-family: monospace;\n",
       "    margin-left: 1em;\n",
       "}\n",
       "\n",
       ".mono {\n",
       "    font-family: monospace;\n",
       "    display: block;\n",
       "}\n",
       "\n",
       ".err-msg {\n",
       "    color: red;\n",
       "    font-style: italic;\n",
       "    font-family: monospace;\n",
       "    white-space: pre;\n",
       "    display: block;\n",
       "}\n",
       "\n",
       "#unshowable {\n",
       "    color: red;\n",
       "    font-weight: bold;\n",
       "}\n",
       "\n",
       ".err-msg.in.collapse {\n",
       "  padding-top: 0.7em;\n",
       "}\n",
       "\n",
       "/* Code that will get highlighted before it is highlighted */\n",
       ".highlight-code {\n",
       "    white-space: pre;\n",
       "    font-family: monospace;\n",
       "}\n",
       "\n",
       "/* Hlint styles */\n",
       ".suggestion-warning { \n",
       "    font-weight: bold;\n",
       "    color: rgb(200, 130, 0);\n",
       "}\n",
       ".suggestion-error { \n",
       "    font-weight: bold;\n",
       "    color: red;\n",
       "}\n",
       ".suggestion-name {\n",
       "    font-weight: bold;\n",
       "}\n",
       "</style><span class='get-type'>head :: forall a. [a] -> a</span>"
      ],
      "text/plain": [
       "head :: forall a. [a] -> a"
      ]
     },
     "metadata": {},
     "output_type": "display_data"
    }
   ],
   "source": [
    ":t head"
   ]
  },
  {
   "cell_type": "markdown",
   "metadata": {},
   "source": [
    "Here **a** can be anything  \n",
    "Functions like this are called polymorphic functions  \n",
    "The *type variables* of such functions have names a,b,c,..."
   ]
  },
  {
   "cell_type": "code",
   "execution_count": 25,
   "metadata": {
    "collapsed": false,
    "run_control": {
     "frozen": false,
     "read_only": false
    }
   },
   "outputs": [
    {
     "data": {
      "text/html": [
       "<style>/*\n",
       "Custom IHaskell CSS.\n",
       "*/\n",
       "\n",
       "/* Styles used for the Hoogle display in the pager */\n",
       ".hoogle-doc {\n",
       "    display: block;\n",
       "    padding-bottom: 1.3em;\n",
       "    padding-left: 0.4em;\n",
       "}\n",
       ".hoogle-code {\n",
       "    display: block;\n",
       "    font-family: monospace;\n",
       "    white-space: pre;\n",
       "}\n",
       ".hoogle-text {\n",
       "    display: block;\n",
       "}\n",
       ".hoogle-name {\n",
       "    color: green;\n",
       "    font-weight: bold;\n",
       "}\n",
       ".hoogle-head {\n",
       "    font-weight: bold;\n",
       "}\n",
       ".hoogle-sub {\n",
       "    display: block;\n",
       "    margin-left: 0.4em;\n",
       "}\n",
       ".hoogle-package {\n",
       "    font-weight: bold;\n",
       "    font-style: italic;\n",
       "}\n",
       ".hoogle-module {\n",
       "    font-weight: bold;\n",
       "}\n",
       ".hoogle-class {\n",
       "    font-weight: bold;\n",
       "}\n",
       "\n",
       "/* Styles used for basic displays */\n",
       ".get-type {\n",
       "    color: green;\n",
       "    font-weight: bold;\n",
       "    font-family: monospace;\n",
       "    display: block;\n",
       "    white-space: pre-wrap;\n",
       "}\n",
       "\n",
       ".show-type {\n",
       "    color: green;\n",
       "    font-weight: bold;\n",
       "    font-family: monospace;\n",
       "    margin-left: 1em;\n",
       "}\n",
       "\n",
       ".mono {\n",
       "    font-family: monospace;\n",
       "    display: block;\n",
       "}\n",
       "\n",
       ".err-msg {\n",
       "    color: red;\n",
       "    font-style: italic;\n",
       "    font-family: monospace;\n",
       "    white-space: pre;\n",
       "    display: block;\n",
       "}\n",
       "\n",
       "#unshowable {\n",
       "    color: red;\n",
       "    font-weight: bold;\n",
       "}\n",
       "\n",
       ".err-msg.in.collapse {\n",
       "  padding-top: 0.7em;\n",
       "}\n",
       "\n",
       "/* Code that will get highlighted before it is highlighted */\n",
       ".highlight-code {\n",
       "    white-space: pre;\n",
       "    font-family: monospace;\n",
       "}\n",
       "\n",
       "/* Hlint styles */\n",
       ".suggestion-warning { \n",
       "    font-weight: bold;\n",
       "    color: rgb(200, 130, 0);\n",
       "}\n",
       ".suggestion-error { \n",
       "    font-weight: bold;\n",
       "    color: red;\n",
       "}\n",
       ".suggestion-name {\n",
       "    font-weight: bold;\n",
       "}\n",
       "</style><span class='get-type'>fst :: forall a b. (a, b) -> a</span>"
      ],
      "text/plain": [
       "fst :: forall a b. (a, b) -> a"
      ]
     },
     "metadata": {},
     "output_type": "display_data"
    }
   ],
   "source": [
    ":t fst"
   ]
  },
  {
   "cell_type": "markdown",
   "metadata": {},
   "source": [
    "Typeclasses 101\n",
    "=================="
   ]
  },
  {
   "cell_type": "markdown",
   "metadata": {},
   "source": [
    "* typeclass: sort of interface that defines some behaviour\n",
    "* if a type is of a typeclass, it supports and implements the behaviour the typeclass describes\n",
    "* they are like interfaces in java, only better [since it is done by haskellians]"
   ]
  },
  {
   "cell_type": "code",
   "execution_count": 27,
   "metadata": {
    "collapsed": false,
    "run_control": {
     "frozen": false,
     "read_only": false
    }
   },
   "outputs": [
    {
     "data": {
      "text/html": [
       "<style>/*\n",
       "Custom IHaskell CSS.\n",
       "*/\n",
       "\n",
       "/* Styles used for the Hoogle display in the pager */\n",
       ".hoogle-doc {\n",
       "    display: block;\n",
       "    padding-bottom: 1.3em;\n",
       "    padding-left: 0.4em;\n",
       "}\n",
       ".hoogle-code {\n",
       "    display: block;\n",
       "    font-family: monospace;\n",
       "    white-space: pre;\n",
       "}\n",
       ".hoogle-text {\n",
       "    display: block;\n",
       "}\n",
       ".hoogle-name {\n",
       "    color: green;\n",
       "    font-weight: bold;\n",
       "}\n",
       ".hoogle-head {\n",
       "    font-weight: bold;\n",
       "}\n",
       ".hoogle-sub {\n",
       "    display: block;\n",
       "    margin-left: 0.4em;\n",
       "}\n",
       ".hoogle-package {\n",
       "    font-weight: bold;\n",
       "    font-style: italic;\n",
       "}\n",
       ".hoogle-module {\n",
       "    font-weight: bold;\n",
       "}\n",
       ".hoogle-class {\n",
       "    font-weight: bold;\n",
       "}\n",
       "\n",
       "/* Styles used for basic displays */\n",
       ".get-type {\n",
       "    color: green;\n",
       "    font-weight: bold;\n",
       "    font-family: monospace;\n",
       "    display: block;\n",
       "    white-space: pre-wrap;\n",
       "}\n",
       "\n",
       ".show-type {\n",
       "    color: green;\n",
       "    font-weight: bold;\n",
       "    font-family: monospace;\n",
       "    margin-left: 1em;\n",
       "}\n",
       "\n",
       ".mono {\n",
       "    font-family: monospace;\n",
       "    display: block;\n",
       "}\n",
       "\n",
       ".err-msg {\n",
       "    color: red;\n",
       "    font-style: italic;\n",
       "    font-family: monospace;\n",
       "    white-space: pre;\n",
       "    display: block;\n",
       "}\n",
       "\n",
       "#unshowable {\n",
       "    color: red;\n",
       "    font-weight: bold;\n",
       "}\n",
       "\n",
       ".err-msg.in.collapse {\n",
       "  padding-top: 0.7em;\n",
       "}\n",
       "\n",
       "/* Code that will get highlighted before it is highlighted */\n",
       ".highlight-code {\n",
       "    white-space: pre;\n",
       "    font-family: monospace;\n",
       "}\n",
       "\n",
       "/* Hlint styles */\n",
       ".suggestion-warning { \n",
       "    font-weight: bold;\n",
       "    color: rgb(200, 130, 0);\n",
       "}\n",
       ".suggestion-error { \n",
       "    font-weight: bold;\n",
       "    color: red;\n",
       "}\n",
       ".suggestion-name {\n",
       "    font-weight: bold;\n",
       "}\n",
       "</style><span class='get-type'>(==) :: forall a. Eq a => a -> a -> Bool</span>"
      ],
      "text/plain": [
       "(==) :: forall a. Eq a => a -> a -> Bool"
      ]
     },
     "metadata": {},
     "output_type": "display_data"
    }
   ],
   "source": [
    ":t (==)"
   ]
  },
  {
   "cell_type": "code",
   "execution_count": 28,
   "metadata": {
    "collapsed": false,
    "run_control": {
     "frozen": false,
     "read_only": false
    }
   },
   "outputs": [
    {
     "data": {
      "text/html": [
       "<style>/*\n",
       "Custom IHaskell CSS.\n",
       "*/\n",
       "\n",
       "/* Styles used for the Hoogle display in the pager */\n",
       ".hoogle-doc {\n",
       "    display: block;\n",
       "    padding-bottom: 1.3em;\n",
       "    padding-left: 0.4em;\n",
       "}\n",
       ".hoogle-code {\n",
       "    display: block;\n",
       "    font-family: monospace;\n",
       "    white-space: pre;\n",
       "}\n",
       ".hoogle-text {\n",
       "    display: block;\n",
       "}\n",
       ".hoogle-name {\n",
       "    color: green;\n",
       "    font-weight: bold;\n",
       "}\n",
       ".hoogle-head {\n",
       "    font-weight: bold;\n",
       "}\n",
       ".hoogle-sub {\n",
       "    display: block;\n",
       "    margin-left: 0.4em;\n",
       "}\n",
       ".hoogle-package {\n",
       "    font-weight: bold;\n",
       "    font-style: italic;\n",
       "}\n",
       ".hoogle-module {\n",
       "    font-weight: bold;\n",
       "}\n",
       ".hoogle-class {\n",
       "    font-weight: bold;\n",
       "}\n",
       "\n",
       "/* Styles used for basic displays */\n",
       ".get-type {\n",
       "    color: green;\n",
       "    font-weight: bold;\n",
       "    font-family: monospace;\n",
       "    display: block;\n",
       "    white-space: pre-wrap;\n",
       "}\n",
       "\n",
       ".show-type {\n",
       "    color: green;\n",
       "    font-weight: bold;\n",
       "    font-family: monospace;\n",
       "    margin-left: 1em;\n",
       "}\n",
       "\n",
       ".mono {\n",
       "    font-family: monospace;\n",
       "    display: block;\n",
       "}\n",
       "\n",
       ".err-msg {\n",
       "    color: red;\n",
       "    font-style: italic;\n",
       "    font-family: monospace;\n",
       "    white-space: pre;\n",
       "    display: block;\n",
       "}\n",
       "\n",
       "#unshowable {\n",
       "    color: red;\n",
       "    font-weight: bold;\n",
       "}\n",
       "\n",
       ".err-msg.in.collapse {\n",
       "  padding-top: 0.7em;\n",
       "}\n",
       "\n",
       "/* Code that will get highlighted before it is highlighted */\n",
       ".highlight-code {\n",
       "    white-space: pre;\n",
       "    font-family: monospace;\n",
       "}\n",
       "\n",
       "/* Hlint styles */\n",
       ".suggestion-warning { \n",
       "    font-weight: bold;\n",
       "    color: rgb(200, 130, 0);\n",
       "}\n",
       ".suggestion-error { \n",
       "    font-weight: bold;\n",
       "    color: red;\n",
       "}\n",
       ".suggestion-name {\n",
       "    font-weight: bold;\n",
       "}\n",
       "</style><span class='get-type'>(+) :: forall a. Num a => a -> a -> a</span>"
      ],
      "text/plain": [
       "(+) :: forall a. Num a => a -> a -> a"
      ]
     },
     "metadata": {},
     "output_type": "display_data"
    }
   ],
   "source": [
    ":t (+)"
   ]
  },
  {
   "cell_type": "markdown",
   "metadata": {},
   "source": [
    "==, +, -, *, / are operators as well as functions  \n",
    "if we have to examine its type, pass it to another function or call it as a prefix function, surround it in paranthesis"
   ]
  },
  {
   "cell_type": "code",
   "execution_count": 29,
   "metadata": {
    "collapsed": false,
    "run_control": {
     "frozen": false,
     "read_only": false
    }
   },
   "outputs": [
    {
     "data": {
      "text/plain": [
       "5"
      ]
     },
     "metadata": {},
     "output_type": "display_data"
    }
   ],
   "source": [
    "(+) 2 3"
   ]
  },
  {
   "cell_type": "markdown",
   "metadata": {},
   "source": [
    "anyways, back to typeclasses. we now encounter a new symbol **=>**  \n",
    "Everything before the => symbol is called a class constraint  \n",
    "It is read like this:  \n",
    "\n",
    "> The equality function takes any two values that of the same type and returns a Bool.  \n",
    "The type of those values must be a member of the Eq class\n"
   ]
  },
  {
   "cell_type": "code",
   "execution_count": null,
   "metadata": {
    "collapsed": false,
    "run_control": {
     "frozen": false,
     "read_only": false
    }
   },
   "outputs": [
    {
     "data": {
      "text/html": [
       "<style>/*\n",
       "Custom IHaskell CSS.\n",
       "*/\n",
       "\n",
       "/* Styles used for the Hoogle display in the pager */\n",
       ".hoogle-doc {\n",
       "    display: block;\n",
       "    padding-bottom: 1.3em;\n",
       "    padding-left: 0.4em;\n",
       "}\n",
       ".hoogle-code {\n",
       "    display: block;\n",
       "    font-family: monospace;\n",
       "    white-space: pre;\n",
       "}\n",
       ".hoogle-text {\n",
       "    display: block;\n",
       "}\n",
       ".hoogle-name {\n",
       "    color: green;\n",
       "    font-weight: bold;\n",
       "}\n",
       ".hoogle-head {\n",
       "    font-weight: bold;\n",
       "}\n",
       ".hoogle-sub {\n",
       "    display: block;\n",
       "    margin-left: 0.4em;\n",
       "}\n",
       ".hoogle-package {\n",
       "    font-weight: bold;\n",
       "    font-style: italic;\n",
       "}\n",
       ".hoogle-module {\n",
       "    font-weight: bold;\n",
       "}\n",
       ".hoogle-class {\n",
       "    font-weight: bold;\n",
       "}\n",
       "\n",
       "/* Styles used for basic displays */\n",
       ".get-type {\n",
       "    color: green;\n",
       "    font-weight: bold;\n",
       "    font-family: monospace;\n",
       "    display: block;\n",
       "    white-space: pre-wrap;\n",
       "}\n",
       "\n",
       ".show-type {\n",
       "    color: green;\n",
       "    font-weight: bold;\n",
       "    font-family: monospace;\n",
       "    margin-left: 1em;\n",
       "}\n",
       "\n",
       ".mono {\n",
       "    font-family: monospace;\n",
       "    display: block;\n",
       "}\n",
       "\n",
       ".err-msg {\n",
       "    color: red;\n",
       "    font-style: italic;\n",
       "    font-family: monospace;\n",
       "    white-space: pre;\n",
       "    display: block;\n",
       "}\n",
       "\n",
       "#unshowable {\n",
       "    color: red;\n",
       "    font-weight: bold;\n",
       "}\n",
       "\n",
       ".err-msg.in.collapse {\n",
       "  padding-top: 0.7em;\n",
       "}\n",
       "\n",
       "/* Code that will get highlighted before it is highlighted */\n",
       ".highlight-code {\n",
       "    white-space: pre;\n",
       "    font-family: monospace;\n",
       "}\n",
       "\n",
       "/* Hlint styles */\n",
       ".suggestion-warning { \n",
       "    font-weight: bold;\n",
       "    color: rgb(200, 130, 0);\n",
       "}\n",
       ".suggestion-error { \n",
       "    font-weight: bold;\n",
       "    color: red;\n",
       "}\n",
       ".suggestion-name {\n",
       "    font-weight: bold;\n",
       "}\n",
       "</style><span class='get-type'>elem :: forall (t :: * -> *) a. (Eq a, Foldable t) => a -> t a -> Bool</span>"
      ],
      "text/plain": [
       "elem :: forall (t :: * -> *) a. (Eq a, Foldable t) => a -> t a -> Bool"
      ]
     },
     "metadata": {},
     "output_type": "display_data"
    }
   ],
   "source": [
    ":t elem"
   ]
  },
  {
   "cell_type": "markdown",
   "metadata": {},
   "source": [
    "we shall look at some basic typeclasses"
   ]
  },
  {
   "cell_type": "markdown",
   "metadata": {},
   "source": [
    "Eq\n",
    "---"
   ]
  },
  {
   "cell_type": "code",
   "execution_count": 7,
   "metadata": {
    "collapsed": false,
    "run_control": {
     "frozen": false,
     "read_only": false
    }
   },
   "outputs": [
    {
     "data": {
      "text/plain": [
       "True"
      ]
     },
     "metadata": {},
     "output_type": "display_data"
    }
   ],
   "source": [
    "5==5"
   ]
  },
  {
   "cell_type": "code",
   "execution_count": 8,
   "metadata": {
    "collapsed": false,
    "run_control": {
     "frozen": false,
     "read_only": false
    }
   },
   "outputs": [
    {
     "data": {
      "text/plain": [
       "True"
      ]
     },
     "metadata": {},
     "output_type": "display_data"
    }
   ],
   "source": [
    "5 /= 6"
   ]
  },
  {
   "cell_type": "code",
   "execution_count": 10,
   "metadata": {
    "collapsed": false,
    "run_control": {
     "frozen": false,
     "read_only": false
    }
   },
   "outputs": [
    {
     "data": {
      "text/html": [
       "<style>/*\n",
       "Custom IHaskell CSS.\n",
       "*/\n",
       "\n",
       "/* Styles used for the Hoogle display in the pager */\n",
       ".hoogle-doc {\n",
       "    display: block;\n",
       "    padding-bottom: 1.3em;\n",
       "    padding-left: 0.4em;\n",
       "}\n",
       ".hoogle-code {\n",
       "    display: block;\n",
       "    font-family: monospace;\n",
       "    white-space: pre;\n",
       "}\n",
       ".hoogle-text {\n",
       "    display: block;\n",
       "}\n",
       ".hoogle-name {\n",
       "    color: green;\n",
       "    font-weight: bold;\n",
       "}\n",
       ".hoogle-head {\n",
       "    font-weight: bold;\n",
       "}\n",
       ".hoogle-sub {\n",
       "    display: block;\n",
       "    margin-left: 0.4em;\n",
       "}\n",
       ".hoogle-package {\n",
       "    font-weight: bold;\n",
       "    font-style: italic;\n",
       "}\n",
       ".hoogle-module {\n",
       "    font-weight: bold;\n",
       "}\n",
       ".hoogle-class {\n",
       "    font-weight: bold;\n",
       "}\n",
       "\n",
       "/* Styles used for basic displays */\n",
       ".get-type {\n",
       "    color: green;\n",
       "    font-weight: bold;\n",
       "    font-family: monospace;\n",
       "    display: block;\n",
       "    white-space: pre-wrap;\n",
       "}\n",
       "\n",
       ".show-type {\n",
       "    color: green;\n",
       "    font-weight: bold;\n",
       "    font-family: monospace;\n",
       "    margin-left: 1em;\n",
       "}\n",
       "\n",
       ".mono {\n",
       "    font-family: monospace;\n",
       "    display: block;\n",
       "}\n",
       "\n",
       ".err-msg {\n",
       "    color: red;\n",
       "    font-style: italic;\n",
       "    font-family: monospace;\n",
       "    white-space: pre;\n",
       "    display: block;\n",
       "}\n",
       "\n",
       "#unshowable {\n",
       "    color: red;\n",
       "    font-weight: bold;\n",
       "}\n",
       "\n",
       ".err-msg.in.collapse {\n",
       "  padding-top: 0.7em;\n",
       "}\n",
       "\n",
       "/* Code that will get highlighted before it is highlighted */\n",
       ".highlight-code {\n",
       "    white-space: pre;\n",
       "    font-family: monospace;\n",
       "}\n",
       "\n",
       "/* Hlint styles */\n",
       ".suggestion-warning { \n",
       "    font-weight: bold;\n",
       "    color: rgb(200, 130, 0);\n",
       "}\n",
       ".suggestion-error { \n",
       "    font-weight: bold;\n",
       "    color: red;\n",
       "}\n",
       ".suggestion-name {\n",
       "    font-weight: bold;\n",
       "}\n",
       "</style><span class='get-type'>(==) :: forall a. Eq a => a -> a -> Bool</span>"
      ],
      "text/plain": [
       "(==) :: forall a. Eq a => a -> a -> Bool"
      ]
     },
     "metadata": {},
     "output_type": "display_data"
    }
   ],
   "source": [
    ":t (==)"
   ]
  },
  {
   "cell_type": "markdown",
   "metadata": {},
   "source": [
    " We see a new thing here, the => symbol. Everything before the => symbol is called a\n",
    "class constraint. We can read the previous type declaration like this: the equality function takes\n",
    "any two values that are of the same type and returns a Bool. The type of those two values must be\n",
    "a member of the Eq class (this was the class constraint)."
   ]
  },
  {
   "cell_type": "code",
   "execution_count": 11,
   "metadata": {
    "collapsed": false,
    "run_control": {
     "frozen": false,
     "read_only": false
    }
   },
   "outputs": [
    {
     "data": {
      "text/html": [
       "<style>/*\n",
       "Custom IHaskell CSS.\n",
       "*/\n",
       "\n",
       "/* Styles used for the Hoogle display in the pager */\n",
       ".hoogle-doc {\n",
       "    display: block;\n",
       "    padding-bottom: 1.3em;\n",
       "    padding-left: 0.4em;\n",
       "}\n",
       ".hoogle-code {\n",
       "    display: block;\n",
       "    font-family: monospace;\n",
       "    white-space: pre;\n",
       "}\n",
       ".hoogle-text {\n",
       "    display: block;\n",
       "}\n",
       ".hoogle-name {\n",
       "    color: green;\n",
       "    font-weight: bold;\n",
       "}\n",
       ".hoogle-head {\n",
       "    font-weight: bold;\n",
       "}\n",
       ".hoogle-sub {\n",
       "    display: block;\n",
       "    margin-left: 0.4em;\n",
       "}\n",
       ".hoogle-package {\n",
       "    font-weight: bold;\n",
       "    font-style: italic;\n",
       "}\n",
       ".hoogle-module {\n",
       "    font-weight: bold;\n",
       "}\n",
       ".hoogle-class {\n",
       "    font-weight: bold;\n",
       "}\n",
       "\n",
       "/* Styles used for basic displays */\n",
       ".get-type {\n",
       "    color: green;\n",
       "    font-weight: bold;\n",
       "    font-family: monospace;\n",
       "    display: block;\n",
       "    white-space: pre-wrap;\n",
       "}\n",
       "\n",
       ".show-type {\n",
       "    color: green;\n",
       "    font-weight: bold;\n",
       "    font-family: monospace;\n",
       "    margin-left: 1em;\n",
       "}\n",
       "\n",
       ".mono {\n",
       "    font-family: monospace;\n",
       "    display: block;\n",
       "}\n",
       "\n",
       ".err-msg {\n",
       "    color: red;\n",
       "    font-style: italic;\n",
       "    font-family: monospace;\n",
       "    white-space: pre;\n",
       "    display: block;\n",
       "}\n",
       "\n",
       "#unshowable {\n",
       "    color: red;\n",
       "    font-weight: bold;\n",
       "}\n",
       "\n",
       ".err-msg.in.collapse {\n",
       "  padding-top: 0.7em;\n",
       "}\n",
       "\n",
       "/* Code that will get highlighted before it is highlighted */\n",
       ".highlight-code {\n",
       "    white-space: pre;\n",
       "    font-family: monospace;\n",
       "}\n",
       "\n",
       "/* Hlint styles */\n",
       ".suggestion-warning { \n",
       "    font-weight: bold;\n",
       "    color: rgb(200, 130, 0);\n",
       "}\n",
       ".suggestion-error { \n",
       "    font-weight: bold;\n",
       "    color: red;\n",
       "}\n",
       ".suggestion-name {\n",
       "    font-weight: bold;\n",
       "}\n",
       "</style><span class='get-type'>(>) :: forall a. Ord a => a -> a -> Bool</span>"
      ],
      "text/plain": [
       "(>) :: forall a. Ord a => a -> a -> Bool"
      ]
     },
     "metadata": {},
     "output_type": "display_data"
    }
   ],
   "source": [
    ":t (>)"
   ]
  },
  {
   "cell_type": "markdown",
   "metadata": {},
   "source": [
    "## ords"
   ]
  },
  {
   "cell_type": "markdown",
   "metadata": {
    "collapsed": true
   },
   "source": [
    "**Ord** covers all std comparison functions such as $\\gt, \\lt, \\ge, \\le$.  "
   ]
  },
  {
   "cell_type": "code",
   "execution_count": 12,
   "metadata": {
    "collapsed": false,
    "run_control": {
     "frozen": false,
     "read_only": false
    }
   },
   "outputs": [
    {
     "data": {
      "text/plain": [
       "True"
      ]
     },
     "metadata": {},
     "output_type": "display_data"
    }
   ],
   "source": [
    "5 >= 2"
   ]
  },
  {
   "cell_type": "markdown",
   "metadata": {},
   "source": [
    "## compare"
   ]
  },
  {
   "cell_type": "code",
   "execution_count": 13,
   "metadata": {
    "collapsed": false,
    "run_control": {
     "frozen": false,
     "read_only": false
    }
   },
   "outputs": [
    {
     "data": {
      "text/plain": [
       "GT"
      ]
     },
     "metadata": {},
     "output_type": "display_data"
    }
   ],
   "source": [
    "5 `compare` 2"
   ]
  },
  {
   "cell_type": "code",
   "execution_count": 16,
   "metadata": {
    "collapsed": false,
    "run_control": {
     "frozen": false,
     "read_only": false
    }
   },
   "outputs": [
    {
     "data": {
      "text/plain": [
       "EQ"
      ]
     },
     "metadata": {},
     "output_type": "display_data"
    }
   ],
   "source": [
    "5 `compare` 5"
   ]
  },
  {
   "cell_type": "markdown",
   "metadata": {
    "collapsed": true
   },
   "source": [
    "## show"
   ]
  },
  {
   "cell_type": "markdown",
   "metadata": {},
   "source": [
    "take a value whose type is a member of Show and converts it to a string"
   ]
  },
  {
   "cell_type": "code",
   "execution_count": 20,
   "metadata": {
    "collapsed": false,
    "run_control": {
     "frozen": false,
     "read_only": false
    }
   },
   "outputs": [
    {
     "data": {
      "text/html": [
       "<style>/*\n",
       "Custom IHaskell CSS.\n",
       "*/\n",
       "\n",
       "/* Styles used for the Hoogle display in the pager */\n",
       ".hoogle-doc {\n",
       "    display: block;\n",
       "    padding-bottom: 1.3em;\n",
       "    padding-left: 0.4em;\n",
       "}\n",
       ".hoogle-code {\n",
       "    display: block;\n",
       "    font-family: monospace;\n",
       "    white-space: pre;\n",
       "}\n",
       ".hoogle-text {\n",
       "    display: block;\n",
       "}\n",
       ".hoogle-name {\n",
       "    color: green;\n",
       "    font-weight: bold;\n",
       "}\n",
       ".hoogle-head {\n",
       "    font-weight: bold;\n",
       "}\n",
       ".hoogle-sub {\n",
       "    display: block;\n",
       "    margin-left: 0.4em;\n",
       "}\n",
       ".hoogle-package {\n",
       "    font-weight: bold;\n",
       "    font-style: italic;\n",
       "}\n",
       ".hoogle-module {\n",
       "    font-weight: bold;\n",
       "}\n",
       ".hoogle-class {\n",
       "    font-weight: bold;\n",
       "}\n",
       "\n",
       "/* Styles used for basic displays */\n",
       ".get-type {\n",
       "    color: green;\n",
       "    font-weight: bold;\n",
       "    font-family: monospace;\n",
       "    display: block;\n",
       "    white-space: pre-wrap;\n",
       "}\n",
       "\n",
       ".show-type {\n",
       "    color: green;\n",
       "    font-weight: bold;\n",
       "    font-family: monospace;\n",
       "    margin-left: 1em;\n",
       "}\n",
       "\n",
       ".mono {\n",
       "    font-family: monospace;\n",
       "    display: block;\n",
       "}\n",
       "\n",
       ".err-msg {\n",
       "    color: red;\n",
       "    font-style: italic;\n",
       "    font-family: monospace;\n",
       "    white-space: pre;\n",
       "    display: block;\n",
       "}\n",
       "\n",
       "#unshowable {\n",
       "    color: red;\n",
       "    font-weight: bold;\n",
       "}\n",
       "\n",
       ".err-msg.in.collapse {\n",
       "  padding-top: 0.7em;\n",
       "}\n",
       "\n",
       "/* Code that will get highlighted before it is highlighted */\n",
       ".highlight-code {\n",
       "    white-space: pre;\n",
       "    font-family: monospace;\n",
       "}\n",
       "\n",
       "/* Hlint styles */\n",
       ".suggestion-warning { \n",
       "    font-weight: bold;\n",
       "    color: rgb(200, 130, 0);\n",
       "}\n",
       ".suggestion-error { \n",
       "    font-weight: bold;\n",
       "    color: red;\n",
       "}\n",
       ".suggestion-name {\n",
       "    font-weight: bold;\n",
       "}\n",
       "</style><span class='get-type'>show :: forall a. Show a => a -> String</span>"
      ],
      "text/plain": [
       "show :: forall a. Show a => a -> String"
      ]
     },
     "metadata": {},
     "output_type": "display_data"
    }
   ],
   "source": [
    ":t show"
   ]
  },
  {
   "cell_type": "code",
   "execution_count": 17,
   "metadata": {
    "collapsed": false,
    "run_control": {
     "frozen": false,
     "read_only": false
    }
   },
   "outputs": [
    {
     "data": {
      "text/plain": [
       "\"3\""
      ]
     },
     "metadata": {},
     "output_type": "display_data"
    }
   ],
   "source": [
    "show 3"
   ]
  },
  {
   "cell_type": "code",
   "execution_count": 18,
   "metadata": {
    "collapsed": false,
    "run_control": {
     "frozen": false,
     "read_only": false
    }
   },
   "outputs": [
    {
     "data": {
      "text/plain": [
       "\"5.334\""
      ]
     },
     "metadata": {},
     "output_type": "display_data"
    }
   ],
   "source": [
    "show 5.334"
   ]
  },
  {
   "cell_type": "code",
   "execution_count": 19,
   "metadata": {
    "collapsed": false,
    "run_control": {
     "frozen": false,
     "read_only": false
    }
   },
   "outputs": [
    {
     "data": {
      "text/plain": [
       "\"True\""
      ]
     },
     "metadata": {},
     "output_type": "display_data"
    }
   ],
   "source": [
    "show True"
   ]
  },
  {
   "cell_type": "markdown",
   "metadata": {
    "collapsed": true
   },
   "source": [
    "## read"
   ]
  },
  {
   "cell_type": "markdown",
   "metadata": {},
   "source": [
    "opp of show, takes a string and returns a type which is a member of type **Read**"
   ]
  },
  {
   "cell_type": "code",
   "execution_count": 21,
   "metadata": {
    "collapsed": false,
    "run_control": {
     "frozen": false,
     "read_only": false
    }
   },
   "outputs": [
    {
     "data": {
      "text/html": [
       "<style>/*\n",
       "Custom IHaskell CSS.\n",
       "*/\n",
       "\n",
       "/* Styles used for the Hoogle display in the pager */\n",
       ".hoogle-doc {\n",
       "    display: block;\n",
       "    padding-bottom: 1.3em;\n",
       "    padding-left: 0.4em;\n",
       "}\n",
       ".hoogle-code {\n",
       "    display: block;\n",
       "    font-family: monospace;\n",
       "    white-space: pre;\n",
       "}\n",
       ".hoogle-text {\n",
       "    display: block;\n",
       "}\n",
       ".hoogle-name {\n",
       "    color: green;\n",
       "    font-weight: bold;\n",
       "}\n",
       ".hoogle-head {\n",
       "    font-weight: bold;\n",
       "}\n",
       ".hoogle-sub {\n",
       "    display: block;\n",
       "    margin-left: 0.4em;\n",
       "}\n",
       ".hoogle-package {\n",
       "    font-weight: bold;\n",
       "    font-style: italic;\n",
       "}\n",
       ".hoogle-module {\n",
       "    font-weight: bold;\n",
       "}\n",
       ".hoogle-class {\n",
       "    font-weight: bold;\n",
       "}\n",
       "\n",
       "/* Styles used for basic displays */\n",
       ".get-type {\n",
       "    color: green;\n",
       "    font-weight: bold;\n",
       "    font-family: monospace;\n",
       "    display: block;\n",
       "    white-space: pre-wrap;\n",
       "}\n",
       "\n",
       ".show-type {\n",
       "    color: green;\n",
       "    font-weight: bold;\n",
       "    font-family: monospace;\n",
       "    margin-left: 1em;\n",
       "}\n",
       "\n",
       ".mono {\n",
       "    font-family: monospace;\n",
       "    display: block;\n",
       "}\n",
       "\n",
       ".err-msg {\n",
       "    color: red;\n",
       "    font-style: italic;\n",
       "    font-family: monospace;\n",
       "    white-space: pre;\n",
       "    display: block;\n",
       "}\n",
       "\n",
       "#unshowable {\n",
       "    color: red;\n",
       "    font-weight: bold;\n",
       "}\n",
       "\n",
       ".err-msg.in.collapse {\n",
       "  padding-top: 0.7em;\n",
       "}\n",
       "\n",
       "/* Code that will get highlighted before it is highlighted */\n",
       ".highlight-code {\n",
       "    white-space: pre;\n",
       "    font-family: monospace;\n",
       "}\n",
       "\n",
       "/* Hlint styles */\n",
       ".suggestion-warning { \n",
       "    font-weight: bold;\n",
       "    color: rgb(200, 130, 0);\n",
       "}\n",
       ".suggestion-error { \n",
       "    font-weight: bold;\n",
       "    color: red;\n",
       "}\n",
       ".suggestion-name {\n",
       "    font-weight: bold;\n",
       "}\n",
       "</style><span class='get-type'>read :: forall a. Read a => String -> a</span>"
      ],
      "text/plain": [
       "read :: forall a. Read a => String -> a"
      ]
     },
     "metadata": {},
     "output_type": "display_data"
    }
   ],
   "source": [
    ":t read"
   ]
  },
  {
   "cell_type": "code",
   "execution_count": 22,
   "metadata": {
    "collapsed": false,
    "run_control": {
     "frozen": false,
     "read_only": false
    }
   },
   "outputs": [
    {
     "data": {
      "text/plain": [
       "True"
      ]
     },
     "metadata": {},
     "output_type": "display_data"
    }
   ],
   "source": [
    "read \"True\" || False"
   ]
  },
  {
   "cell_type": "code",
   "execution_count": 29,
   "metadata": {
    "collapsed": false,
    "run_control": {
     "frozen": false,
     "read_only": false
    }
   },
   "outputs": [
    {
     "data": {
      "text/plain": [
       "11.66"
      ]
     },
     "metadata": {},
     "output_type": "display_data"
    }
   ],
   "source": [
    "read \"5.33\" + 6.33"
   ]
  },
  {
   "cell_type": "code",
   "execution_count": 30,
   "metadata": {
    "collapsed": false,
    "run_control": {
     "frozen": false,
     "read_only": false
    }
   },
   "outputs": [
    {
     "data": {
      "text/plain": [
       "[1,2,3,4,3]"
      ]
     },
     "metadata": {},
     "output_type": "display_data"
    }
   ],
   "source": [
    "read \"[1,2,3,4]\" ++ [3]"
   ]
  },
  {
   "cell_type": "code",
   "execution_count": 31,
   "metadata": {
    "collapsed": false,
    "run_control": {
     "frozen": false,
     "read_only": false
    }
   },
   "outputs": [
    {
     "data": {
      "text/html": [
       "<style>/*\n",
       "Custom IHaskell CSS.\n",
       "*/\n",
       "\n",
       "/* Styles used for the Hoogle display in the pager */\n",
       ".hoogle-doc {\n",
       "    display: block;\n",
       "    padding-bottom: 1.3em;\n",
       "    padding-left: 0.4em;\n",
       "}\n",
       ".hoogle-code {\n",
       "    display: block;\n",
       "    font-family: monospace;\n",
       "    white-space: pre;\n",
       "}\n",
       ".hoogle-text {\n",
       "    display: block;\n",
       "}\n",
       ".hoogle-name {\n",
       "    color: green;\n",
       "    font-weight: bold;\n",
       "}\n",
       ".hoogle-head {\n",
       "    font-weight: bold;\n",
       "}\n",
       ".hoogle-sub {\n",
       "    display: block;\n",
       "    margin-left: 0.4em;\n",
       "}\n",
       ".hoogle-package {\n",
       "    font-weight: bold;\n",
       "    font-style: italic;\n",
       "}\n",
       ".hoogle-module {\n",
       "    font-weight: bold;\n",
       "}\n",
       ".hoogle-class {\n",
       "    font-weight: bold;\n",
       "}\n",
       "\n",
       "/* Styles used for basic displays */\n",
       ".get-type {\n",
       "    color: green;\n",
       "    font-weight: bold;\n",
       "    font-family: monospace;\n",
       "    display: block;\n",
       "    white-space: pre-wrap;\n",
       "}\n",
       "\n",
       ".show-type {\n",
       "    color: green;\n",
       "    font-weight: bold;\n",
       "    font-family: monospace;\n",
       "    margin-left: 1em;\n",
       "}\n",
       "\n",
       ".mono {\n",
       "    font-family: monospace;\n",
       "    display: block;\n",
       "}\n",
       "\n",
       ".err-msg {\n",
       "    color: red;\n",
       "    font-style: italic;\n",
       "    font-family: monospace;\n",
       "    white-space: pre;\n",
       "    display: block;\n",
       "}\n",
       "\n",
       "#unshowable {\n",
       "    color: red;\n",
       "    font-weight: bold;\n",
       "}\n",
       "\n",
       ".err-msg.in.collapse {\n",
       "  padding-top: 0.7em;\n",
       "}\n",
       "\n",
       "/* Code that will get highlighted before it is highlighted */\n",
       ".highlight-code {\n",
       "    white-space: pre;\n",
       "    font-family: monospace;\n",
       "}\n",
       "\n",
       "/* Hlint styles */\n",
       ".suggestion-warning { \n",
       "    font-weight: bold;\n",
       "    color: rgb(200, 130, 0);\n",
       "}\n",
       ".suggestion-error { \n",
       "    font-weight: bold;\n",
       "    color: red;\n",
       "}\n",
       ".suggestion-name {\n",
       "    font-weight: bold;\n",
       "}\n",
       "</style><span class='err-msg'>Prelude.read: no parse</span>"
      ],
      "text/plain": [
       "Prelude.read: no parse"
      ]
     },
     "metadata": {},
     "output_type": "display_data"
    }
   ],
   "source": [
    "read \"5\""
   ]
  },
  {
   "cell_type": "code",
   "execution_count": 36,
   "metadata": {
    "collapsed": false,
    "run_control": {
     "frozen": false,
     "read_only": false
    }
   },
   "outputs": [
    {
     "data": {
      "text/plain": [
       "5.0"
      ]
     },
     "metadata": {},
     "output_type": "display_data"
    }
   ],
   "source": [
    "read \"5\" :: Float"
   ]
  },
  {
   "cell_type": "markdown",
   "metadata": {},
   "source": [
    "## enum"
   ]
  },
  {
   "cell_type": "markdown",
   "metadata": {},
   "source": [
    "can use its types in list ranges.  \n",
    "also have succ and pred functions defined"
   ]
  },
  {
   "cell_type": "code",
   "execution_count": 37,
   "metadata": {
    "collapsed": false,
    "run_control": {
     "frozen": false,
     "read_only": false
    }
   },
   "outputs": [
    {
     "data": {
      "text/plain": [
       "\"abcde\""
      ]
     },
     "metadata": {},
     "output_type": "display_data"
    }
   ],
   "source": [
    "['a' .. 'e']"
   ]
  },
  {
   "cell_type": "code",
   "execution_count": 39,
   "metadata": {
    "collapsed": false,
    "run_control": {
     "frozen": false,
     "read_only": false
    }
   },
   "outputs": [
    {
     "data": {
      "text/plain": [
       "[LT,EQ,GT]"
      ]
     },
     "metadata": {},
     "output_type": "display_data"
    }
   ],
   "source": [
    "[LT .. GT]"
   ]
  },
  {
   "cell_type": "code",
   "execution_count": 40,
   "metadata": {
    "collapsed": false,
    "run_control": {
     "frozen": false,
     "read_only": false
    }
   },
   "outputs": [
    {
     "data": {
      "text/plain": [
       "0.10000000000000009"
      ]
     },
     "metadata": {},
     "output_type": "display_data"
    }
   ],
   "source": [
    "pred 1.1"
   ]
  },
  {
   "cell_type": "code",
   "execution_count": 41,
   "metadata": {
    "collapsed": false,
    "run_control": {
     "frozen": false,
     "read_only": false
    }
   },
   "outputs": [
    {
     "data": {
      "text/plain": [
       "2.1"
      ]
     },
     "metadata": {},
     "output_type": "display_data"
    }
   ],
   "source": [
    "succ 1.1"
   ]
  },
  {
   "cell_type": "markdown",
   "metadata": {},
   "source": [
    "## bounds"
   ]
  },
  {
   "cell_type": "code",
   "execution_count": 52,
   "metadata": {
    "collapsed": false,
    "run_control": {
     "frozen": false,
     "read_only": false
    }
   },
   "outputs": [
    {
     "data": {
      "text/html": [
       "<style>/*\n",
       "Custom IHaskell CSS.\n",
       "*/\n",
       "\n",
       "/* Styles used for the Hoogle display in the pager */\n",
       ".hoogle-doc {\n",
       "    display: block;\n",
       "    padding-bottom: 1.3em;\n",
       "    padding-left: 0.4em;\n",
       "}\n",
       ".hoogle-code {\n",
       "    display: block;\n",
       "    font-family: monospace;\n",
       "    white-space: pre;\n",
       "}\n",
       ".hoogle-text {\n",
       "    display: block;\n",
       "}\n",
       ".hoogle-name {\n",
       "    color: green;\n",
       "    font-weight: bold;\n",
       "}\n",
       ".hoogle-head {\n",
       "    font-weight: bold;\n",
       "}\n",
       ".hoogle-sub {\n",
       "    display: block;\n",
       "    margin-left: 0.4em;\n",
       "}\n",
       ".hoogle-package {\n",
       "    font-weight: bold;\n",
       "    font-style: italic;\n",
       "}\n",
       ".hoogle-module {\n",
       "    font-weight: bold;\n",
       "}\n",
       ".hoogle-class {\n",
       "    font-weight: bold;\n",
       "}\n",
       "\n",
       "/* Styles used for basic displays */\n",
       ".get-type {\n",
       "    color: green;\n",
       "    font-weight: bold;\n",
       "    font-family: monospace;\n",
       "    display: block;\n",
       "    white-space: pre-wrap;\n",
       "}\n",
       "\n",
       ".show-type {\n",
       "    color: green;\n",
       "    font-weight: bold;\n",
       "    font-family: monospace;\n",
       "    margin-left: 1em;\n",
       "}\n",
       "\n",
       ".mono {\n",
       "    font-family: monospace;\n",
       "    display: block;\n",
       "}\n",
       "\n",
       ".err-msg {\n",
       "    color: red;\n",
       "    font-style: italic;\n",
       "    font-family: monospace;\n",
       "    white-space: pre;\n",
       "    display: block;\n",
       "}\n",
       "\n",
       "#unshowable {\n",
       "    color: red;\n",
       "    font-weight: bold;\n",
       "}\n",
       "\n",
       ".err-msg.in.collapse {\n",
       "  padding-top: 0.7em;\n",
       "}\n",
       "\n",
       "/* Code that will get highlighted before it is highlighted */\n",
       ".highlight-code {\n",
       "    white-space: pre;\n",
       "    font-family: monospace;\n",
       "}\n",
       "\n",
       "/* Hlint styles */\n",
       ".suggestion-warning { \n",
       "    font-weight: bold;\n",
       "    color: rgb(200, 130, 0);\n",
       "}\n",
       ".suggestion-error { \n",
       "    font-weight: bold;\n",
       "    color: red;\n",
       "}\n",
       ".suggestion-name {\n",
       "    font-weight: bold;\n",
       "}\n",
       "</style><span class='get-type'>minBound :: forall a. Bounded a => a</span>"
      ],
      "text/plain": [
       "minBound :: forall a. Bounded a => a"
      ]
     },
     "metadata": {},
     "output_type": "display_data"
    }
   ],
   "source": [
    ":t minBound"
   ]
  },
  {
   "cell_type": "code",
   "execution_count": 50,
   "metadata": {
    "collapsed": false,
    "run_control": {
     "frozen": false,
     "read_only": false
    }
   },
   "outputs": [
    {
     "data": {
      "text/plain": [
       "-9223372036854775808"
      ]
     },
     "metadata": {},
     "output_type": "display_data"
    }
   ],
   "source": [
    "print (minBound :: Int)"
   ]
  },
  {
   "cell_type": "code",
   "execution_count": 51,
   "metadata": {
    "collapsed": false,
    "run_control": {
     "frozen": false,
     "read_only": false
    }
   },
   "outputs": [
    {
     "data": {
      "text/plain": [
       "9223372036854775807"
      ]
     },
     "metadata": {},
     "output_type": "display_data"
    }
   ],
   "source": [
    "print (maxBound :: Int)"
   ]
  },
  {
   "cell_type": "code",
   "execution_count": 56,
   "metadata": {
    "collapsed": false,
    "run_control": {
     "frozen": false,
     "read_only": false
    }
   },
   "outputs": [
    {
     "data": {
      "text/plain": [
       "(9223372036854775807,'\\1114111')"
      ]
     },
     "metadata": {},
     "output_type": "display_data"
    }
   ],
   "source": [
    "print (maxBound :: (Int, Char))"
   ]
  },
  {
   "cell_type": "markdown",
   "metadata": {},
   "source": [
    "## star"
   ]
  },
  {
   "cell_type": "code",
   "execution_count": 58,
   "metadata": {
    "collapsed": false,
    "run_control": {
     "frozen": false,
     "read_only": false
    }
   },
   "outputs": [
    {
     "data": {
      "text/html": [
       "<style>/*\n",
       "Custom IHaskell CSS.\n",
       "*/\n",
       "\n",
       "/* Styles used for the Hoogle display in the pager */\n",
       ".hoogle-doc {\n",
       "    display: block;\n",
       "    padding-bottom: 1.3em;\n",
       "    padding-left: 0.4em;\n",
       "}\n",
       ".hoogle-code {\n",
       "    display: block;\n",
       "    font-family: monospace;\n",
       "    white-space: pre;\n",
       "}\n",
       ".hoogle-text {\n",
       "    display: block;\n",
       "}\n",
       ".hoogle-name {\n",
       "    color: green;\n",
       "    font-weight: bold;\n",
       "}\n",
       ".hoogle-head {\n",
       "    font-weight: bold;\n",
       "}\n",
       ".hoogle-sub {\n",
       "    display: block;\n",
       "    margin-left: 0.4em;\n",
       "}\n",
       ".hoogle-package {\n",
       "    font-weight: bold;\n",
       "    font-style: italic;\n",
       "}\n",
       ".hoogle-module {\n",
       "    font-weight: bold;\n",
       "}\n",
       ".hoogle-class {\n",
       "    font-weight: bold;\n",
       "}\n",
       "\n",
       "/* Styles used for basic displays */\n",
       ".get-type {\n",
       "    color: green;\n",
       "    font-weight: bold;\n",
       "    font-family: monospace;\n",
       "    display: block;\n",
       "    white-space: pre-wrap;\n",
       "}\n",
       "\n",
       ".show-type {\n",
       "    color: green;\n",
       "    font-weight: bold;\n",
       "    font-family: monospace;\n",
       "    margin-left: 1em;\n",
       "}\n",
       "\n",
       ".mono {\n",
       "    font-family: monospace;\n",
       "    display: block;\n",
       "}\n",
       "\n",
       ".err-msg {\n",
       "    color: red;\n",
       "    font-style: italic;\n",
       "    font-family: monospace;\n",
       "    white-space: pre;\n",
       "    display: block;\n",
       "}\n",
       "\n",
       "#unshowable {\n",
       "    color: red;\n",
       "    font-weight: bold;\n",
       "}\n",
       "\n",
       ".err-msg.in.collapse {\n",
       "  padding-top: 0.7em;\n",
       "}\n",
       "\n",
       "/* Code that will get highlighted before it is highlighted */\n",
       ".highlight-code {\n",
       "    white-space: pre;\n",
       "    font-family: monospace;\n",
       "}\n",
       "\n",
       "/* Hlint styles */\n",
       ".suggestion-warning { \n",
       "    font-weight: bold;\n",
       "    color: rgb(200, 130, 0);\n",
       "}\n",
       ".suggestion-error { \n",
       "    font-weight: bold;\n",
       "    color: red;\n",
       "}\n",
       ".suggestion-name {\n",
       "    font-weight: bold;\n",
       "}\n",
       "</style><span class='get-type'>(*) :: forall a. Num a => a -> a -> a</span>"
      ],
      "text/plain": [
       "(*) :: forall a. Num a => a -> a -> a"
      ]
     },
     "metadata": {},
     "output_type": "display_data"
    }
   ],
   "source": [
    ":t (*)"
   ]
  },
  {
   "cell_type": "markdown",
   "metadata": {},
   "source": [
    "## Num"
   ]
  },
  {
   "cell_type": "markdown",
   "metadata": {},
   "source": [
    "To join Num, a type must already be friends with Show and Eq"
   ]
  },
  {
   "cell_type": "code",
   "execution_count": 59,
   "metadata": {
    "collapsed": false,
    "run_control": {
     "frozen": false,
     "read_only": false
    }
   },
   "outputs": [
    {
     "data": {
      "text/html": [
       "<style>/*\n",
       "Custom IHaskell CSS.\n",
       "*/\n",
       "\n",
       "/* Styles used for the Hoogle display in the pager */\n",
       ".hoogle-doc {\n",
       "    display: block;\n",
       "    padding-bottom: 1.3em;\n",
       "    padding-left: 0.4em;\n",
       "}\n",
       ".hoogle-code {\n",
       "    display: block;\n",
       "    font-family: monospace;\n",
       "    white-space: pre;\n",
       "}\n",
       ".hoogle-text {\n",
       "    display: block;\n",
       "}\n",
       ".hoogle-name {\n",
       "    color: green;\n",
       "    font-weight: bold;\n",
       "}\n",
       ".hoogle-head {\n",
       "    font-weight: bold;\n",
       "}\n",
       ".hoogle-sub {\n",
       "    display: block;\n",
       "    margin-left: 0.4em;\n",
       "}\n",
       ".hoogle-package {\n",
       "    font-weight: bold;\n",
       "    font-style: italic;\n",
       "}\n",
       ".hoogle-module {\n",
       "    font-weight: bold;\n",
       "}\n",
       ".hoogle-class {\n",
       "    font-weight: bold;\n",
       "}\n",
       "\n",
       "/* Styles used for basic displays */\n",
       ".get-type {\n",
       "    color: green;\n",
       "    font-weight: bold;\n",
       "    font-family: monospace;\n",
       "    display: block;\n",
       "    white-space: pre-wrap;\n",
       "}\n",
       "\n",
       ".show-type {\n",
       "    color: green;\n",
       "    font-weight: bold;\n",
       "    font-family: monospace;\n",
       "    margin-left: 1em;\n",
       "}\n",
       "\n",
       ".mono {\n",
       "    font-family: monospace;\n",
       "    display: block;\n",
       "}\n",
       "\n",
       ".err-msg {\n",
       "    color: red;\n",
       "    font-style: italic;\n",
       "    font-family: monospace;\n",
       "    white-space: pre;\n",
       "    display: block;\n",
       "}\n",
       "\n",
       "#unshowable {\n",
       "    color: red;\n",
       "    font-weight: bold;\n",
       "}\n",
       "\n",
       ".err-msg.in.collapse {\n",
       "  padding-top: 0.7em;\n",
       "}\n",
       "\n",
       "/* Code that will get highlighted before it is highlighted */\n",
       ".highlight-code {\n",
       "    white-space: pre;\n",
       "    font-family: monospace;\n",
       "}\n",
       "\n",
       "/* Hlint styles */\n",
       ".suggestion-warning { \n",
       "    font-weight: bold;\n",
       "    color: rgb(200, 130, 0);\n",
       "}\n",
       ".suggestion-error { \n",
       "    font-weight: bold;\n",
       "    color: red;\n",
       "}\n",
       ".suggestion-name {\n",
       "    font-weight: bold;\n",
       "}\n",
       "</style><span class='get-type'>fromIntegral :: forall a b. (Integral a, Num b) => a -> b</span>"
      ],
      "text/plain": [
       "fromIntegral :: forall a b. (Integral a, Num b) => a -> b"
      ]
     },
     "metadata": {},
     "output_type": "display_data"
    }
   ],
   "source": [
    ":t fromIntegral"
   ]
  },
  {
   "cell_type": "markdown",
   "metadata": {},
   "source": [
    "for a nice interplay between floating and integral types"
   ]
  },
  {
   "cell_type": "code",
   "execution_count": 60,
   "metadata": {
    "collapsed": false,
    "run_control": {
     "frozen": false,
     "read_only": false
    }
   },
   "outputs": [
    {
     "data": {
      "text/plain": [
       "6.2"
      ]
     },
     "metadata": {},
     "output_type": "display_data"
    }
   ],
   "source": [
    "fromIntegral (length [1,2,3]) + 3.2"
   ]
  },
  {
   "cell_type": "code",
   "execution_count": 62,
   "metadata": {
    "collapsed": false,
    "run_control": {
     "frozen": false,
     "read_only": false
    }
   },
   "outputs": [
    {
     "data": {
      "text/html": [
       "<style>/*\n",
       "Custom IHaskell CSS.\n",
       "*/\n",
       "\n",
       "/* Styles used for the Hoogle display in the pager */\n",
       ".hoogle-doc {\n",
       "    display: block;\n",
       "    padding-bottom: 1.3em;\n",
       "    padding-left: 0.4em;\n",
       "}\n",
       ".hoogle-code {\n",
       "    display: block;\n",
       "    font-family: monospace;\n",
       "    white-space: pre;\n",
       "}\n",
       ".hoogle-text {\n",
       "    display: block;\n",
       "}\n",
       ".hoogle-name {\n",
       "    color: green;\n",
       "    font-weight: bold;\n",
       "}\n",
       ".hoogle-head {\n",
       "    font-weight: bold;\n",
       "}\n",
       ".hoogle-sub {\n",
       "    display: block;\n",
       "    margin-left: 0.4em;\n",
       "}\n",
       ".hoogle-package {\n",
       "    font-weight: bold;\n",
       "    font-style: italic;\n",
       "}\n",
       ".hoogle-module {\n",
       "    font-weight: bold;\n",
       "}\n",
       ".hoogle-class {\n",
       "    font-weight: bold;\n",
       "}\n",
       "\n",
       "/* Styles used for basic displays */\n",
       ".get-type {\n",
       "    color: green;\n",
       "    font-weight: bold;\n",
       "    font-family: monospace;\n",
       "    display: block;\n",
       "    white-space: pre-wrap;\n",
       "}\n",
       "\n",
       ".show-type {\n",
       "    color: green;\n",
       "    font-weight: bold;\n",
       "    font-family: monospace;\n",
       "    margin-left: 1em;\n",
       "}\n",
       "\n",
       ".mono {\n",
       "    font-family: monospace;\n",
       "    display: block;\n",
       "}\n",
       "\n",
       ".err-msg {\n",
       "    color: red;\n",
       "    font-style: italic;\n",
       "    font-family: monospace;\n",
       "    white-space: pre;\n",
       "    display: block;\n",
       "}\n",
       "\n",
       "#unshowable {\n",
       "    color: red;\n",
       "    font-weight: bold;\n",
       "}\n",
       "\n",
       ".err-msg.in.collapse {\n",
       "  padding-top: 0.7em;\n",
       "}\n",
       "\n",
       "/* Code that will get highlighted before it is highlighted */\n",
       ".highlight-code {\n",
       "    white-space: pre;\n",
       "    font-family: monospace;\n",
       "}\n",
       "\n",
       "/* Hlint styles */\n",
       ".suggestion-warning { \n",
       "    font-weight: bold;\n",
       "    color: rgb(200, 130, 0);\n",
       "}\n",
       ".suggestion-error { \n",
       "    font-weight: bold;\n",
       "    color: red;\n",
       "}\n",
       ".suggestion-name {\n",
       "    font-weight: bold;\n",
       "}\n",
       "</style><span class='get-type'>fromInteger :: forall a. Num a => Integer -> a</span>"
      ],
      "text/plain": [
       "fromInteger :: forall a. Num a => Integer -> a"
      ]
     },
     "metadata": {},
     "output_type": "display_data"
    }
   ],
   "source": [
    ":t fromInteger"
   ]
  },
  {
   "cell_type": "code",
   "execution_count": 61,
   "metadata": {
    "collapsed": false,
    "run_control": {
     "frozen": false,
     "read_only": false
    }
   },
   "outputs": [
    {
     "data": {
      "text/html": [
       "<style>/*\n",
       "Custom IHaskell CSS.\n",
       "*/\n",
       "\n",
       "/* Styles used for the Hoogle display in the pager */\n",
       ".hoogle-doc {\n",
       "    display: block;\n",
       "    padding-bottom: 1.3em;\n",
       "    padding-left: 0.4em;\n",
       "}\n",
       ".hoogle-code {\n",
       "    display: block;\n",
       "    font-family: monospace;\n",
       "    white-space: pre;\n",
       "}\n",
       ".hoogle-text {\n",
       "    display: block;\n",
       "}\n",
       ".hoogle-name {\n",
       "    color: green;\n",
       "    font-weight: bold;\n",
       "}\n",
       ".hoogle-head {\n",
       "    font-weight: bold;\n",
       "}\n",
       ".hoogle-sub {\n",
       "    display: block;\n",
       "    margin-left: 0.4em;\n",
       "}\n",
       ".hoogle-package {\n",
       "    font-weight: bold;\n",
       "    font-style: italic;\n",
       "}\n",
       ".hoogle-module {\n",
       "    font-weight: bold;\n",
       "}\n",
       ".hoogle-class {\n",
       "    font-weight: bold;\n",
       "}\n",
       "\n",
       "/* Styles used for basic displays */\n",
       ".get-type {\n",
       "    color: green;\n",
       "    font-weight: bold;\n",
       "    font-family: monospace;\n",
       "    display: block;\n",
       "    white-space: pre-wrap;\n",
       "}\n",
       "\n",
       ".show-type {\n",
       "    color: green;\n",
       "    font-weight: bold;\n",
       "    font-family: monospace;\n",
       "    margin-left: 1em;\n",
       "}\n",
       "\n",
       ".mono {\n",
       "    font-family: monospace;\n",
       "    display: block;\n",
       "}\n",
       "\n",
       ".err-msg {\n",
       "    color: red;\n",
       "    font-style: italic;\n",
       "    font-family: monospace;\n",
       "    white-space: pre;\n",
       "    display: block;\n",
       "}\n",
       "\n",
       "#unshowable {\n",
       "    color: red;\n",
       "    font-weight: bold;\n",
       "}\n",
       "\n",
       ".err-msg.in.collapse {\n",
       "  padding-top: 0.7em;\n",
       "}\n",
       "\n",
       "/* Code that will get highlighted before it is highlighted */\n",
       ".highlight-code {\n",
       "    white-space: pre;\n",
       "    font-family: monospace;\n",
       "}\n",
       "\n",
       "/* Hlint styles */\n",
       ".suggestion-warning { \n",
       "    font-weight: bold;\n",
       "    color: rgb(200, 130, 0);\n",
       "}\n",
       ".suggestion-error { \n",
       "    font-weight: bold;\n",
       "    color: red;\n",
       "}\n",
       ".suggestion-name {\n",
       "    font-weight: bold;\n",
       "}\n",
       "</style><span class='err-msg'>Couldn't match expected type ‘Integer’ with actual type ‘Int’<br/>In the first argument of ‘fromInteger’, namely ‘(length [1, 2, 3])’<br/>In the first argument of ‘(+)’, namely ‘fromInteger (length [1, 2, 3])’</span>"
      ],
      "text/plain": [
       "Couldn't match expected type ‘Integer’ with actual type ‘Int’\n",
       "In the first argument of ‘fromInteger’, namely ‘(length [1, 2, 3])’\n",
       "In the first argument of ‘(+)’, namely ‘fromInteger (length [1, 2, 3])’"
      ]
     },
     "metadata": {},
     "output_type": "display_data"
    }
   ],
   "source": [
    "fromInteger (length [1,2,3]) + 3.2"
   ]
  },
  {
   "cell_type": "code",
   "execution_count": null,
   "metadata": {
    "collapsed": true,
    "run_control": {
     "frozen": false,
     "read_only": false
    }
   },
   "outputs": [],
   "source": []
  },
  {
   "cell_type": "code",
   "execution_count": null,
   "metadata": {
    "collapsed": true,
    "run_control": {
     "frozen": false,
     "read_only": false
    }
   },
   "outputs": [],
   "source": []
  },
  {
   "cell_type": "code",
   "execution_count": null,
   "metadata": {
    "collapsed": true,
    "run_control": {
     "frozen": false,
     "read_only": false
    }
   },
   "outputs": [],
   "source": []
  },
  {
   "cell_type": "code",
   "execution_count": null,
   "metadata": {
    "collapsed": true,
    "run_control": {
     "frozen": false,
     "read_only": false
    }
   },
   "outputs": [],
   "source": []
  }
 ],
 "metadata": {
  "hide_input": false,
  "kernelspec": {
   "display_name": "Haskell",
   "language": "haskell",
   "name": "haskell"
  },
  "language_info": {
   "codemirror_mode": "ihaskell",
   "file_extension": ".hs",
   "name": "haskell",
   "version": "7.10.2"
  },
  "latex_envs": {
   "bibliofile": "biblio.bib",
   "cite_by": "apalike",
   "current_citInitial": 1,
   "eqLabelWithNumbers": true,
   "eqNumInitial": 0
  },
  "nav_menu": {},
  "toc": {
   "navigate_menu": true,
   "number_sections": true,
   "sideBar": false,
   "threshold": 6,
   "toc_cell": false,
   "toc_section_display": "block",
   "toc_window_display": true
  },
  "toc_position": {
   "height": "240px",
   "left": "754.375px",
   "right": "20px",
   "top": "120px",
   "width": "194px"
  }
 },
 "nbformat": 4,
 "nbformat_minor": 0
}
