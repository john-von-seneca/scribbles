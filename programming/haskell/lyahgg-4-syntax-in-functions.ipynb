{
 "cells": [
  {
   "cell_type": "markdown",
   "metadata": {},
   "source": [
    "# Pattern Matching"
   ]
  },
  {
   "cell_type": "markdown",
   "metadata": {},
   "source": [
    " just like switch case only for functions"
   ]
  },
  {
   "cell_type": "code",
   "metadata": {},
   "outputs": [],
   "source": [
    "sayMe :: (Integral a) => a -> String\n",
    "sayMe 1 = \"One!\"\n",
    "sayMe 2 = \"Two!\"\n",
    "sayMe x = \"Not between 1 and 5\""
   ]
  },
  {
   "cell_type": "code",
   "metadata": {},
   "outputs": [],
   "source": [
    "sayMe 1"
   ]
  },
  {
   "cell_type": "code",
   "metadata": {},
   "outputs": [],
   "source": [
    "sayMe 10"
   ]
  },
  {
   "cell_type": "code",
   "metadata": {},
   "outputs": [],
   "source": [
    "factorial :: (Integral n) => n -> n\n",
    "factorial 0 = 1\n",
    "factorial n = n * factorial (n-1)"
   ]
  },
  {
   "cell_type": "code",
   "metadata": {},
   "outputs": [],
   "source": [
    "factorial 5"
   ]
  },
  {
   "cell_type": "markdown",
   "metadata": {},
   "source": [
    "had we written factorial n as the first line, the function call would never terminate\n",
    "so its better to write the general cases later on"
   ]
  },
  {
   "cell_type": "markdown",
   "metadata": {},
   "source": [
    "what happens if we have called with sth uncalled (pun) for?"
   ]
  },
  {
   "cell_type": "code",
   "metadata": {},
   "outputs": [],
   "source": [
    "charName :: Char -> String\n",
    "charName 'a' = \"Albert\""
   ]
  },
  {
   "cell_type": "code",
   "metadata": {},
   "outputs": [],
   "source": [
    "charName 'a'"
   ]
  },
  {
   "cell_type": "code",
   "metadata": {},
   "outputs": [],
   "source": [
    "charName 'b'"
   ]
  },
  {
   "cell_type": "markdown",
   "metadata": {},
   "source": [
    "Adding vectors"
   ]
  },
  {
   "cell_type": "markdown",
   "metadata": {},
   "source": [
    "Normal way"
   ]
  },
  {
   "cell_type": "code",
   "metadata": {},
   "outputs": [],
   "source": [
    "addVectors :: (Num a) => (a,a) -> (a,a) -> (a,a)\n",
    "addVectors a b = (fst a + fst b, snd a + snd b)"
   ]
  },
  {
   "cell_type": "code",
   "metadata": {},
   "outputs": [],
   "source": [
    "addVectors (5,3) (3,9)"
   ]
  },
  {
   "cell_type": "markdown",
   "metadata": {},
   "source": [
    "sexy way to add 2D vectors"
   ]
  },
  {
   "cell_type": "code",
   "metadata": {},
   "outputs": [],
   "source": [
    "addVectors :: (Num a) => (a,a) -> (a,a) -> (a,a)\n",
    "addVectors (x1,y1) (x2,y2) = (x1+x2, y1+y2)"
   ]
  },
  {
   "cell_type": "code",
   "metadata": {},
   "outputs": [],
   "source": [
    "addVectors (5,3) (3,9)"
   ]
  },
  {
   "cell_type": "markdown",
   "metadata": {},
   "source": [
    "first, second and now introducing the third!"
   ]
  },
  {
   "cell_type": "markdown",
   "metadata": {},
   "source": [
    "_ means ignore the fucker"
   ]
  },
  {
   "cell_type": "code",
   "metadata": {},
   "outputs": [],
   "source": [
    "first :: (a,b,c) -> a\n",
    "first (x,_,_) = x\n",
    "\n",
    "second :: (a,b,c) -> b\n",
    "second (_,x,_) = x\n",
    "\n",
    "third :: (a,b,c) -> c\n",
    "third (_,_,x) = x"
   ]
  },
  {
   "cell_type": "code",
   "metadata": {},
   "outputs": [],
   "source": [
    "print (first (1,2,3))\n",
    "print (second (1,2,3))\n",
    "print (third (1,2,3))"
   ]
  },
  {
   "cell_type": "markdown",
   "metadata": {},
   "source": [
    "## pattern matching in list compre"
   ]
  },
  {
   "cell_type": "code",
   "metadata": {},
   "outputs": [],
   "source": [
    "let xs = [(1,3),(4,3),(2,4),(5,3),(5,6),(3,1)]\n",
    "[a+b | (a,b) <- xs]"
   ]
  },
  {
   "cell_type": "code",
   "metadata": {},
   "outputs": [],
   "source": [
    "1:2:[]"
   ]
  },
  {
   "cell_type": "markdown",
   "metadata": {},
   "source": [
    "lets implement owr own head: calling all cog sci practitioners"
   ]
  },
  {
   "cell_type": "code",
   "metadata": {},
   "outputs": [],
   "source": [
    "head' :: [a] -> a\n",
    "head' [] = error \"calling head on empty, dummy!\"\n",
    "head' (x:_) = x"
   ]
  },
  {
   "cell_type": "code",
   "metadata": {},
   "outputs": [],
   "source": [
    "head' []"
   ]
  },
  {
   "cell_type": "code",
   "metadata": {},
   "outputs": [],
   "source": [
    "head' [1,2,3]"
   ]
  },
  {
   "cell_type": "markdown",
   "metadata": {},
   "source": [
    "## tell don't show: pattern matching using lists"
   ]
  },
  {
   "cell_type": "markdown",
   "metadata": {},
   "source": [
    "important thing wrap the args inside paratheses"
   ]
  },
  {
   "cell_type": "code",
   "metadata": {},
   "outputs": [],
   "source": [
    "tell :: (Show a) => [a] -> String\n",
    "tell [] = \"the list is empty\"\n",
    "tell (x:[]) = \"list has one element: \" ++ show x\n",
    "tell (x:y:[]) = \"list has two elements: \" ++ show x ++ \", \" ++ show y\n",
    "tell (x:y:_) = \"list has many elements such as \" ++ show x ++ \", \" ++ show y"
   ]
  },
  {
   "cell_type": "code",
   "metadata": {},
   "outputs": [],
   "source": [
    "print (tell [])\n",
    "print (tell [1])\n",
    "print (tell [1,2])\n",
    "print (tell [1,2,3])"
   ]
  },
  {
   "cell_type": "markdown",
   "metadata": {},
   "source": [
    "## the length, the way we roll"
   ]
  },
  {
   "cell_type": "code",
   "metadata": {},
   "outputs": [],
   "source": [
    "length' :: (Num b) => [a] -> b\n",
    "length' [] = 0\n",
    "length' (_:xs) = 1 + length' xs"
   ]
  },
  {
   "cell_type": "code",
   "metadata": {},
   "outputs": [],
   "source": [
    "print (length' [])\n",
    "print (length' [1])\n",
    "print (length' [1,2,3,4])\n",
    "print (length' \"yo mama\")"
   ]
  },
  {
   "cell_type": "markdown",
   "metadata": {},
   "source": [
    "## sum"
   ]
  },
  {
   "cell_type": "code",
   "metadata": {},
   "outputs": [],
   "source": [
    "sum' :: (Num a) => [a] -> a\n",
    "sum' [] = 0\n",
    "sum' (x:xs) = x + sum' xs"
   ]
  },
  {
   "cell_type": "code",
   "metadata": {},
   "outputs": [],
   "source": [
    "print (sum' [])\n",
    "print (sum' [1,2,3])\n",
    "print (sum' [1,3,5,7])\n",
    "print (sum' [10,20])\n"
   ]
  },
  {
   "cell_type": "markdown",
   "metadata": {},
   "source": [
    "## whole pattern"
   ]
  },
  {
   "cell_type": "code",
   "metadata": {},
   "outputs": [],
   "source": [
    "capital :: String -> String\n",
    "capital \"\" = \"String is empty\"\n",
    "capital all@(x:xs) = \"First of '\" ++ all ++ \"' is \" ++ [x]"
   ]
  },
  {
   "cell_type": "code",
   "metadata": {},
   "outputs": [],
   "source": [
    "print (capital \"Yo mama\")"
   ]
  },
  {
   "cell_type": "markdown",
   "metadata": {},
   "source": [
    "# Guards, Guards!"
   ]
  },
  {
   "cell_type": "markdown",
   "metadata": {},
   "source": [
    "Guards are a way of testing whether some property of some value or several of them are true or false. like if, only more readable and they place nice with the patterns."
   ]
  },
  {
   "cell_type": "markdown",
   "metadata": {},
   "source": [
    "## bmi"
   ]
  },
  {
   "cell_type": "code",
   "metadata": {},
   "outputs": [],
   "source": [
    "bmiTell :: (RealFloat a) => a -> String\n",
    "bmiTell bmi\n",
    "    | bmi <= 18.5 = \"You're are underweight\"\n",
    "    | bmi <= 25.0 = \"you're supposedly normal. Pffft, i bet you're fucking ugly\"\n",
    "    | bmi <= 30.0 = \"Lose some weight, fatty!\"\n",
    "    | otherwise   = \"You're a whale, congratulations\""
   ]
  },
  {
   "cell_type": "code",
   "metadata": {},
   "outputs": [],
   "source": [
    "print (bmiTell 5)\n",
    "print (bmiTell 19)\n",
    "print (bmiTell 25.1)\n",
    "print (bmiTell 30.1)"
   ]
  },
  {
   "cell_type": "markdown",
   "metadata": {},
   "source": [
    "Guards are bool expressions.  \n",
    "if it evaluates to true, then the corresponding function body is used.  \n",
    "else, the checking drops to the next guard and so on\n",
    "\n",
    "reminiscent of the big if-else tree in imperative languages.  \n",
    "guards are an attractive way of doing 'em\n",
    "\n",
    "**otherwise** is the catch-all guard"
   ]
  },
  {
   "cell_type": "markdown",
   "metadata": {},
   "source": [
    "Note that there's no = right after the function name and its parameters, before the first guard.\n",
    "Many newbies get syntax errors because they sometimes put it there."
   ]
  },
  {
   "cell_type": "code",
   "metadata": {},
   "outputs": [],
   "source": [
    "bmiTell2 :: (RealFloat a) => a -> a -> String\n",
    "bmiTell2 weight height\n",
    "    | weight / height ^ 2 <= 18.5 = \"You're are underweight\"\n",
    "    | weight / height ^ 2 <= 25.0 = \"you're supposedly normal. Pffft, i bet you're fucking ugly\"\n",
    "    | weight / height ^ 2 <= 30.0 = \"Lose some weight, fatty!\"\n",
    "    | otherwise   = \"You're a whale, congratulations\""
   ]
  },
  {
   "cell_type": "code",
   "metadata": {},
   "outputs": [],
   "source": [
    "print (bmiTell2 5 5)\n",
    "print (bmiTell2 85 1.90)\n",
    "print (bmiTell2 105.1 2)\n",
    "print (bmiTell2 125.1 2)"
   ]
  },
  {
   "cell_type": "markdown",
   "metadata": {},
   "source": [
    "## max"
   ]
  },
  {
   "cell_type": "code",
   "metadata": {},
   "outputs": [],
   "source": [
    "max2 :: (Ord a) => a -> a -> a\n",
    "max2 a b\n",
    "    | a > b = a\n",
    "    | otherwise = b"
   ]
  },
  {
   "cell_type": "code",
   "metadata": {},
   "outputs": [],
   "source": [
    "print (max2 5 3)\n",
    "print (max2 5 5)\n",
    "print (max2 5 30)"
   ]
  },
  {
   "cell_type": "markdown",
   "metadata": {},
   "source": [
    "Unreadable guards"
   ]
  },
  {
   "cell_type": "code",
   "metadata": {},
   "outputs": [],
   "source": [
    "max3 :: (Ord a) => a -> a -> a\n",
    "max3 a b | a > b = a | otherwise = b"
   ]
  },
  {
   "cell_type": "code",
   "metadata": {},
   "outputs": [],
   "source": [
    "print (max3 5 3)\n",
    "print (max3 5 5)\n",
    "print (max3 5 30)"
   ]
  },
  {
   "cell_type": "markdown",
   "metadata": {},
   "source": [
    "## compare"
   ]
  },
  {
   "cell_type": "code",
   "metadata": {},
   "outputs": [],
   "source": [
    "compare2 :: (Ord a) => a -> a -> Ordering\n",
    "a `compare2` b\n",
    "    | a > b = GT\n",
    "    | a < b = LT\n",
    "    | otherwise = EQ"
   ]
  },
  {
   "cell_type": "markdown",
   "metadata": {},
   "source": [
    "Not only can we call functions as infix with backticks, we can also define them using backticks. Sometimes it's easier to read that way."
   ]
  },
  {
   "cell_type": "code",
   "metadata": {},
   "outputs": [],
   "source": [
    "print (compare2 5 3)\n",
    "print (compare2 5 5)\n",
    "print (compare2 5 30)"
   ]
  },
  {
   "cell_type": "markdown",
   "metadata": {},
   "source": [
    "# Where!?"
   ]
  },
  {
   "cell_type": "code",
   "metadata": {},
   "outputs": [],
   "source": [
    "bmiTell3 :: (RealFloat a) => a -> a -> String\n",
    "bmiTell3 weight height\n",
    "    | bmi <= 18.5 = \"You're are underweight\"\n",
    "    | bmi <= 25.0 = \"you're supposedly normal. Pffft, i bet you're fucking ugly\"\n",
    "    | bmi <= 30.0 = \"Lose some weight, fatty!\"\n",
    "    | otherwise   = \"You're a whale, congratulations\"\n",
    "    where bmi = weight / height ^ 2"
   ]
  },
  {
   "cell_type": "code",
   "metadata": {},
   "outputs": [],
   "source": [
    "print (bmiTell3 5 5)\n",
    "print (bmiTell3 85 1.90)\n",
    "print (bmiTell3 105.1 2)\n",
    "print (bmiTell3 125.1 2)"
   ]
  },
  {
   "cell_type": "markdown",
   "metadata": {},
   "source": [
    "We put the keyword where after the guards (usually it's best to indent it as much as the pipes are indented) and then we define several names or functions.   \n",
    "These names are visible across the guards and give us the advantage of not having to repeat ourselves"
   ]
  },
  {
   "cell_type": "code",
   "metadata": {},
   "outputs": [],
   "source": [
    "bmiTell4 :: (RealFloat a) => a -> a -> String\n",
    "bmiTell4 weight height\n",
    "    | bmi <= skinny = \"You're are underweight\"\n",
    "    | bmi <= normal = \"you're supposedly normal. Pffft, i bet you're fucking ugly\"\n",
    "    | bmi <= fat = \"Lose some weight, fatty!\"\n",
    "    | otherwise   = \"You're a whale, congratulations\"\n",
    "    where bmi = weight / height ^ 2\n",
    "          skinny = 18.5\n",
    "          normal = 25.0\n",
    "          fat = 30.0"
   ]
  },
  {
   "cell_type": "code",
   "metadata": {},
   "outputs": [],
   "source": [
    "print (bmiTell4 5 5)\n",
    "print (bmiTell4 85 1.90)\n",
    "print (bmiTell4 105.1 2)\n",
    "print (bmiTell4 125.1 2)"
   ]
  },
  {
   "cell_type": "markdown",
   "metadata": {},
   "source": [
    "* The names we define in the where section of a function are only visible to that function, so we don't have to worry about them polluting the namespace of other functions.   \n",
    "* All the names are aligned at a single column.\n",
    "  * If we don't align them nice and proper, Haskell gets confused because then it doesn't know they're all part of the same block.\n"
   ]
  },
  {
   "cell_type": "markdown",
   "metadata": {},
   "source": [
    "## pattern matching in function body"
   ]
  },
  {
   "cell_type": "markdown",
   "metadata": {},
   "source": [
    "This is just to show the use of pattern matching in where clause"
   ]
  },
  {
   "cell_type": "code",
   "metadata": {},
   "outputs": [],
   "source": [
    "initials :: String -> String -> String\n",
    "initials first_name last_name = [f] ++ \". \" ++ [l] ++ \".\"\n",
    "    where (f:_) = first_name\n",
    "          (l:_) = last_name"
   ]
  },
  {
   "cell_type": "code",
   "metadata": {},
   "outputs": [],
   "source": [
    "print (initials \"John\" \"Green\")"
   ]
  },
  {
   "cell_type": "markdown",
   "metadata": {},
   "source": [
    "This is a clearer way of obtaining initials"
   ]
  },
  {
   "cell_type": "code",
   "metadata": {},
   "outputs": [],
   "source": [
    "initials2 :: String -> String -> String\n",
    "initials2 (f:_) (l:_) = [f] ++ \". \" ++ [l] ++ \".\""
   ]
  },
  {
   "cell_type": "code",
   "metadata": {},
   "outputs": [],
   "source": [
    "print (initials2 \"John\" \"Green\")"
   ]
  },
  {
   "cell_type": "markdown",
   "metadata": {},
   "source": [
    "## functions in where clause"
   ]
  },
  {
   "cell_type": "code",
   "metadata": {},
   "outputs": [],
   "source": [
    "calc_bmis :: (RealFloat a) => [(a,a)] -> [a]\n",
    "calc_bmis xs = [bmi w h | (w, h) <- xs]\n",
    "    where bmi height weight = weight / height ^ 2"
   ]
  },
  {
   "cell_type": "markdown",
   "metadata": {},
   "source": [
    "* fyi, where bindings can also be nested.\n",
    "* It's a common idiom to make a function and define some helper function in its where clause and then to give those functions helper functions as well, each with its own where clause.\n"
   ]
  },
  {
   "cell_type": "markdown",
   "metadata": {},
   "source": [
    "# Let it be"
   ]
  },
  {
   "cell_type": "markdown",
   "metadata": {},
   "source": [
    "https://www.youtube.com/watch?v=H-Hu0pHNfIE"
   ]
  },
  {
   "cell_type": "markdown",
   "metadata": {},
   "source": [
    "\"Let\" bindings are similar to \"where\" bindings  \n",
    "\"where\" bindings happen at the end of the function  \n",
    "\"let\" bindings can be anywhere and they are expressions. just rem that for now, will get back on that later"
   ]
  },
  {
   "cell_type": "markdown",
   "metadata": {},
   "source": [
    "## pattern matching"
   ]
  },
  {
   "cell_type": "code",
   "metadata": {},
   "outputs": [],
   "source": [
    "volume_cylinder :: (RealFloat a) => a -> a -> a\n",
    "volume_cylinder r h = \n",
    "    let side_area = 2 * pi * r * h\n",
    "        top_area = pi * r ^ 2\n",
    "    in side_area + 2 * top_area"
   ]
  },
  {
   "cell_type": "code",
   "metadata": {},
   "outputs": [],
   "source": [
    "print (volume_cylinder 5 3)"
   ]
  },
  {
   "cell_type": "markdown",
   "metadata": {},
   "source": [
    "Syntax:  \n",
    "**let** *bindings* **in** *expression*"
   ]
  },
  {
   "cell_type": "markdown",
   "metadata": {},
   "source": [
    "\"let\" puts the binding before the expression  \n",
    "\"where\" puts the binding after the expression"
   ]
  },
  {
   "cell_type": "markdown",
   "metadata": {},
   "source": [
    "## can use it anywhere"
   ]
  },
  {
   "cell_type": "markdown",
   "metadata": {},
   "source": [
    "First, some examples with if"
   ]
  },
  {
   "cell_type": "code",
   "metadata": {},
   "outputs": [],
   "source": [
    "[if 5 >3 then \"woo\" else \"boo\", if 'a' > 'b' then \"Foo\" else \"Bar\"]"
   ]
  },
  {
   "cell_type": "code",
   "metadata": {},
   "outputs": [],
   "source": [
    "4 * (if 10 > 5 then 10 else 0) + 2"
   ]
  },
  {
   "cell_type": "markdown",
   "metadata": {},
   "source": [
    "we can use \"let\" wherever we have use \"if\""
   ]
  },
  {
   "cell_type": "code",
   "metadata": {},
   "outputs": [],
   "source": [
    "4 * (let a = 9 in a+1) + 2"
   ]
  },
  {
   "cell_type": "markdown",
   "metadata": {},
   "source": [
    "can be used to introduce function in the local scope"
   ]
  },
  {
   "cell_type": "code",
   "metadata": {},
   "outputs": [],
   "source": [
    "[let square x = x*x in (square 5, square 3, square 2)]"
   ]
  },
  {
   "cell_type": "markdown",
   "metadata": {},
   "source": [
    "use semicolons to bind multiple variables"
   ]
  },
  {
   "cell_type": "code",
   "metadata": {},
   "outputs": [],
   "source": [
    "(let a=100; b=200; c=300 in a*b*c, let foo=\"Hey \";bar=\"there!\" in foo ++ bar)"
   ]
  },
  {
   "cell_type": "markdown",
   "metadata": {},
   "source": [
    "No need to semicolons at the end of the last binding"
   ]
  },
  {
   "cell_type": "markdown",
   "metadata": {},
   "source": [
    "quickly dismantling elements of a tuple"
   ]
  },
  {
   "cell_type": "code",
   "metadata": {},
   "outputs": [],
   "source": [
    "(let (a,b,c) = (1,2,3) in a*b*c) * 100"
   ]
  },
  {
   "cell_type": "markdown",
   "metadata": {},
   "source": [
    "* bindings inside list comprehension  \n",
    "* it doesn't filter the list, it only binds to names."
   ]
  },
  {
   "cell_type": "code",
   "metadata": {},
   "outputs": [],
   "source": [
    "calc_bmis2 :: (RealFloat a) -> [(a,a)] -> [a]\n",
    "calc_bmis2 xs = [bmi | (w,h) <- xs, let bmi = w / h ^ 2]"
   ]
  },
  {
   "cell_type": "markdown",
   "metadata": {},
   "source": [
    "* names defined in a **let** inside a list comprehension are visible to the output function and all predicates and sections that come after the **let** binding"
   ]
  },
  {
   "cell_type": "code",
   "metadata": {},
   "outputs": [],
   "source": [
    "calc_bmis3 :: (RealFloat a) -> [(a,a)] -> [a]\n",
    "calc_bmis3 xs = [bmi | (w,h) <- xs, let bmi = w / h ^ 2, bmi >= 25.0]"
   ]
  },
  {
   "cell_type": "markdown",
   "metadata": {},
   "source": [
    "we can't use *bmi* in the *(w,h) <- xs* part since it comes before **let** binding"
   ]
  },
  {
   "cell_type": "markdown",
   "metadata": {},
   "source": [
    "we can omit the **in** part when defining functions and constants, in which case they would be visible throughout"
   ]
  },
  {
   "cell_type": "markdown",
   "metadata": {},
   "source": [
    "# case expressions"
   ]
  },
  {
   "cell_type": "markdown",
   "metadata": {},
   "source": [
    "traditional definition of head"
   ]
  },
  {
   "cell_type": "code",
   "metadata": {},
   "outputs": [],
   "source": [
    "head' :: [a] -> a\n",
    "head' [] = error \"no head for empty lists!\"\n",
    "head' (x:_) = x"
   ]
  },
  {
   "cell_type": "code",
   "metadata": {},
   "outputs": [],
   "source": [
    "print (head' [1,2])\n",
    "print (head' [])"
   ]
  },
  {
   "cell_type": "markdown",
   "metadata": {},
   "source": [
    "alt. definition of head using **case** expressions"
   ]
  },
  {
   "cell_type": "code",
   "metadata": {},
   "outputs": [],
   "source": [
    "head' :: [a] -> a\n",
    "head' xs = case xs of [] -> error \"no head for empty lists!\"\n",
    "                      (x:_) -> x"
   ]
  },
  {
   "cell_type": "code",
   "metadata": {},
   "outputs": [],
   "source": [
    "print (head' [1,2])\n",
    "print (head' [])"
   ]
  },
  {
   "cell_type": "markdown",
   "metadata": {},
   "source": [
    "syntax:  \n",
    "**case** *expression* **of** *pattern1* **->** *result1*  \n",
    "                             *pattern2* **->** *result2*"
   ]
  },
  {
   "cell_type": "markdown",
   "metadata": {},
   "source": [
    "evaluated as fall through the patterns and raises a runtime error if no suitable pattern is found"
   ]
  },
  {
   "cell_type": "markdown",
   "metadata": {},
   "source": [
    "**case** expressions aint limited to inside functions, but anywhere they fucking want"
   ]
  },
  {
   "cell_type": "code",
   "metadata": {},
   "outputs": [],
   "source": [
    "describe_list :: [a] -> String\n",
    "describe_list xs = \"This list is \" ++ case xs of [] -> \"empty\"\n",
    "                                                 [x] -> \"singleton\"\n",
    "                                                 xs -> \"a longer list\""
   ]
  },
  {
   "cell_type": "code",
   "metadata": {},
   "outputs": [],
   "source": [
    "print (describe_list [])\n",
    "print (describe_list [1])\n",
    "print (describe_list [1,2])"
   ]
  },
  {
   "cell_type": "markdown",
   "metadata": {},
   "source": [
    "the equvalent using **where** expression"
   ]
  },
  {
   "cell_type": "code",
   "metadata": {},
   "outputs": [],
   "source": [
    "describe_list2 :: [a] -> String\n",
    "describe_list2 xs = \"This list is \" ++ what xs\n",
    "    where what [] = \"empty\"\n",
    "          what [x] = \"singleton\"\n",
    "          what xs = \"a longer list\""
   ]
  },
  {
   "cell_type": "code",
   "metadata": {},
   "outputs": [],
   "source": [
    "print (describe_list2 [])\n",
    "print (describe_list2 [1])\n",
    "print (describe_list2 [1,2])"
   ]
  }
 ],
 "metadata": {
  "hide_input": true,
  "kernelspec": {
   "display_name": "Haskell",
   "language": "haskell",
   "name": "haskell"
  },
  "language_info": {
   "codemirror_mode": "ihaskell",
   "file_extension": ".hs",
   "name": "haskell"
  },
  "latex_envs": {
   "bibliofile": "biblio.bib",
   "cite_by": "apalike",
   "current_citInitial": 1,
   "eqLabelWithNumbers": true,
   "eqNumInitial": 0
  },
  "nav_menu": {},
  "toc": {
   "navigate_menu": true,
   "number_sections": true,
   "sideBar": false,
   "threshold": 6,
   "toc_cell": false,
   "toc_section_display": "block",
   "toc_window_display": false
  }
 },
 "nbformat": 4,
 "nbformat_minor": 0
}
