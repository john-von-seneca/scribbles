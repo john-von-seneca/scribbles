{
 "cells": [
  {
   "cell_type": "markdown",
   "metadata": {
    "heading_collapsed": true
   },
   "source": [
    "# help"
   ]
  },
  {
   "cell_type": "code",
   "execution_count": null,
   "metadata": {
    "collapsed": true,
    "hidden": true
   },
   "outputs": [],
   "source": [
    "help(solve)"
   ]
  },
  {
   "cell_type": "code",
   "execution_count": null,
   "metadata": {
    "collapsed": true,
    "hidden": true
   },
   "outputs": [],
   "source": [
    "?solve"
   ]
  },
  {
   "cell_type": "code",
   "execution_count": 6,
   "metadata": {
    "ExecuteTime": {
     "end_time": "2016-05-24T21:31:08.736797",
     "start_time": "2016-05-24T16:01:08.558Z"
    },
    "collapsed": false,
    "hidden": true,
    "run_control": {
     "frozen": false,
     "read_only": false
    }
   },
   "outputs": [
    {
     "name": "stdout",
     "output_type": "stream",
     "text": [
      "\n",
      "solve> hilbert <- function(n) { i <- 1:n; 1 / outer(i - 1, i, \"+\") }\n",
      "\n",
      "solve> h8 <- hilbert(8); h8\n",
      "          [,1]      [,2]      [,3]       [,4]       [,5]       [,6]       [,7]\n",
      "[1,] 1.0000000 0.5000000 0.3333333 0.25000000 0.20000000 0.16666667 0.14285714\n",
      "[2,] 0.5000000 0.3333333 0.2500000 0.20000000 0.16666667 0.14285714 0.12500000\n",
      "[3,] 0.3333333 0.2500000 0.2000000 0.16666667 0.14285714 0.12500000 0.11111111\n",
      "[4,] 0.2500000 0.2000000 0.1666667 0.14285714 0.12500000 0.11111111 0.10000000\n",
      "[5,] 0.2000000 0.1666667 0.1428571 0.12500000 0.11111111 0.10000000 0.09090909\n",
      "[6,] 0.1666667 0.1428571 0.1250000 0.11111111 0.10000000 0.09090909 0.08333333\n",
      "[7,] 0.1428571 0.1250000 0.1111111 0.10000000 0.09090909 0.08333333 0.07692308\n",
      "[8,] 0.1250000 0.1111111 0.1000000 0.09090909 0.08333333 0.07692308 0.07142857\n",
      "           [,8]\n",
      "[1,] 0.12500000\n",
      "[2,] 0.11111111\n",
      "[3,] 0.10000000\n",
      "[4,] 0.09090909\n",
      "[5,] 0.08333333\n",
      "[6,] 0.07692308\n",
      "[7,] 0.07142857\n",
      "[8,] 0.06666667\n",
      "\n",
      "solve> sh8 <- solve(h8)\n",
      "\n",
      "solve> round(sh8 %*% h8, 3)\n",
      "     [,1] [,2] [,3] [,4] [,5] [,6] [,7] [,8]\n",
      "[1,]    1    0    0    0    0    0    0    0\n",
      "[2,]    0    1    0    0    0    0    0    0\n",
      "[3,]    0    0    1    0    0    0    0    0\n",
      "[4,]    0    0    0    1    0    0    0    0\n",
      "[5,]    0    0    0    0    1    0    0    0\n",
      "[6,]    0    0    0    0    0    1    0    0\n",
      "[7,]    0    0    0    0    0    0    1    0\n",
      "[8,]    0    0    0    0    0    0    0    1\n",
      "\n",
      "solve> A <- hilbert(4)\n",
      "\n",
      "solve> A[] <- as.complex(A)\n",
      "\n",
      "solve> ## might not be supported on all platforms\n",
      "solve> try(solve(A))\n",
      "        [,1]     [,2]     [,3]     [,4]\n",
      "[1,]   16+0i  -120+0i   240+0i  -140+0i\n",
      "[2,] -120+0i  1200+0i -2700+0i  1680+0i\n",
      "[3,]  240+0i -2700+0i  6480+0i -4200+0i\n",
      "[4,] -140+0i  1680+0i -4200+0i  2800+0i\n"
     ]
    }
   ],
   "source": [
    "example(solve)"
   ]
  },
  {
   "cell_type": "markdown",
   "metadata": {},
   "source": [
    "# emacs"
   ]
  },
  {
   "cell_type": "markdown",
   "metadata": {},
   "source": [
    "please install ess (emacs speaks statistics) for emacs"
   ]
  },
  {
   "cell_type": "markdown",
   "metadata": {},
   "source": [
    "# from/to"
   ]
  },
  {
   "cell_type": "markdown",
   "metadata": {},
   "source": [
    "```r\n",
    "source(\"<filename>\")\n",
    "```\n",
    "will load and execute the contents of the file"
   ]
  },
  {
   "cell_type": "markdown",
   "metadata": {},
   "source": [
    "```r\n",
    "sink(\"record.lis\")\n",
    "```\n",
    "will redirect all the output to the file\n",
    "\n",
    "```r\n",
    "sink()\n",
    "```\n",
    "will restore it to console once again."
   ]
  },
  {
   "cell_type": "markdown",
   "metadata": {},
   "source": [
    "# objects"
   ]
  },
  {
   "cell_type": "markdown",
   "metadata": {},
   "source": [
    "```r\n",
    "objects()\n",
    "```\n",
    "or\n",
    "```r\n",
    "ls()\n",
    "```\n",
    "will list the objects in the current sessions."
   ]
  },
  {
   "cell_type": "code",
   "execution_count": 8,
   "metadata": {
    "ExecuteTime": {
     "end_time": "2016-05-24T21:46:01.647204",
     "start_time": "2016-05-24T16:16:01.618Z"
    },
    "collapsed": false
   },
   "outputs": [
    {
     "data": {
      "text/html": [
       "<ol class=list-inline>\n",
       "\t<li>'A'</li>\n",
       "\t<li>'h8'</li>\n",
       "\t<li>'hilbert'</li>\n",
       "\t<li>'sh8'</li>\n",
       "</ol>\n"
      ],
      "text/latex": [
       "\\begin{enumerate*}\n",
       "\\item 'A'\n",
       "\\item 'h8'\n",
       "\\item 'hilbert'\n",
       "\\item 'sh8'\n",
       "\\end{enumerate*}\n"
      ],
      "text/markdown": [
       "1. 'A'\n",
       "2. 'h8'\n",
       "3. 'hilbert'\n",
       "4. 'sh8'\n",
       "\n",
       "\n"
      ],
      "text/plain": [
       "[1] \"A\"       \"h8\"      \"hilbert\" \"sh8\"    "
      ]
     },
     "metadata": {},
     "output_type": "display_data"
    }
   ],
   "source": [
    "objects()"
   ]
  },
  {
   "cell_type": "code",
   "execution_count": 9,
   "metadata": {
    "ExecuteTime": {
     "end_time": "2016-05-24T21:46:06.715295",
     "start_time": "2016-05-24T16:16:06.685Z"
    },
    "collapsed": false
   },
   "outputs": [
    {
     "data": {
      "text/html": [
       "<ol class=list-inline>\n",
       "\t<li>'A'</li>\n",
       "\t<li>'h8'</li>\n",
       "\t<li>'hilbert'</li>\n",
       "\t<li>'sh8'</li>\n",
       "</ol>\n"
      ],
      "text/latex": [
       "\\begin{enumerate*}\n",
       "\\item 'A'\n",
       "\\item 'h8'\n",
       "\\item 'hilbert'\n",
       "\\item 'sh8'\n",
       "\\end{enumerate*}\n"
      ],
      "text/markdown": [
       "1. 'A'\n",
       "2. 'h8'\n",
       "3. 'hilbert'\n",
       "4. 'sh8'\n",
       "\n",
       "\n"
      ],
      "text/plain": [
       "[1] \"A\"       \"h8\"      \"hilbert\" \"sh8\"    "
      ]
     },
     "metadata": {},
     "output_type": "display_data"
    }
   ],
   "source": [
    "ls()"
   ]
  },
  {
   "cell_type": "markdown",
   "metadata": {},
   "source": [
    "```r\n",
    "rm(a,b,c)\n",
    "```\n",
    "will remove the objects from the current session"
   ]
  },
  {
   "cell_type": "code",
   "execution_count": 10,
   "metadata": {
    "ExecuteTime": {
     "end_time": "2016-05-24T21:46:49.354652",
     "start_time": "2016-05-24T16:16:49.338Z"
    },
    "collapsed": true
   },
   "outputs": [],
   "source": [
    "a <- 5"
   ]
  },
  {
   "cell_type": "code",
   "execution_count": 11,
   "metadata": {
    "ExecuteTime": {
     "end_time": "2016-05-24T21:46:55.182484",
     "start_time": "2016-05-24T16:16:55.151Z"
    },
    "collapsed": false
   },
   "outputs": [
    {
     "data": {
      "text/html": [
       "<ol class=list-inline>\n",
       "\t<li>'a'</li>\n",
       "\t<li>'A'</li>\n",
       "\t<li>'h8'</li>\n",
       "\t<li>'hilbert'</li>\n",
       "\t<li>'sh8'</li>\n",
       "</ol>\n"
      ],
      "text/latex": [
       "\\begin{enumerate*}\n",
       "\\item 'a'\n",
       "\\item 'A'\n",
       "\\item 'h8'\n",
       "\\item 'hilbert'\n",
       "\\item 'sh8'\n",
       "\\end{enumerate*}\n"
      ],
      "text/markdown": [
       "1. 'a'\n",
       "2. 'A'\n",
       "3. 'h8'\n",
       "4. 'hilbert'\n",
       "5. 'sh8'\n",
       "\n",
       "\n"
      ],
      "text/plain": [
       "[1] \"a\"       \"A\"       \"h8\"      \"hilbert\" \"sh8\"    "
      ]
     },
     "metadata": {},
     "output_type": "display_data"
    }
   ],
   "source": [
    "ls()"
   ]
  },
  {
   "cell_type": "code",
   "execution_count": 12,
   "metadata": {
    "ExecuteTime": {
     "end_time": "2016-05-24T21:47:02.922918",
     "start_time": "2016-05-24T16:17:02.895Z"
    },
    "collapsed": true
   },
   "outputs": [],
   "source": [
    "rm(a)"
   ]
  },
  {
   "cell_type": "code",
   "execution_count": 13,
   "metadata": {
    "ExecuteTime": {
     "end_time": "2016-05-24T21:47:05.876434",
     "start_time": "2016-05-24T16:17:05.847Z"
    },
    "collapsed": false
   },
   "outputs": [
    {
     "data": {
      "text/html": [
       "<ol class=list-inline>\n",
       "\t<li>'A'</li>\n",
       "\t<li>'h8'</li>\n",
       "\t<li>'hilbert'</li>\n",
       "\t<li>'sh8'</li>\n",
       "</ol>\n"
      ],
      "text/latex": [
       "\\begin{enumerate*}\n",
       "\\item 'A'\n",
       "\\item 'h8'\n",
       "\\item 'hilbert'\n",
       "\\item 'sh8'\n",
       "\\end{enumerate*}\n"
      ],
      "text/markdown": [
       "1. 'A'\n",
       "2. 'h8'\n",
       "3. 'hilbert'\n",
       "4. 'sh8'\n",
       "\n",
       "\n"
      ],
      "text/plain": [
       "[1] \"A\"       \"h8\"      \"hilbert\" \"sh8\"    "
      ]
     },
     "metadata": {},
     "output_type": "display_data"
    }
   ],
   "source": [
    "ls()"
   ]
  }
 ],
 "metadata": {
  "hide_input": false,
  "kernelspec": {
   "display_name": "R",
   "language": "R",
   "name": "ir"
  },
  "language_info": {
   "codemirror_mode": "r",
   "file_extension": ".r",
   "mimetype": "text/x-r-source",
   "name": "R",
   "pygments_lexer": "r",
   "version": "3.2.3"
  },
  "latex_envs": {
   "bibliofile": "biblio.bib",
   "cite_by": "apalike",
   "current_citInitial": 1,
   "eqLabelWithNumbers": true,
   "eqNumInitial": 0
  },
  "toc": {
   "toc_cell": false,
   "toc_number_sections": true,
   "toc_threshold": 6,
   "toc_window_display": true
  }
 },
 "nbformat": 4,
 "nbformat_minor": 0
}
