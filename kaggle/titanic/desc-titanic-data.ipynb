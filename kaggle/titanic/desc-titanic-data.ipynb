{
 "cells": [
  {
   "cell_type": "markdown",
   "metadata": {},
   "source": [
    "source: [kaggle](https://www.kaggle.com/c/titanic/data)"
   ]
  },
  {
   "cell_type": "markdown",
   "metadata": {},
   "source": [
    "# Data Dictionary"
   ]
  },
  {
   "cell_type": "markdown",
   "metadata": {},
   "source": [
    "| Variable | \tDefinition |\tKey |\n",
    "| - | - | - |\n",
    "| survival | \tSurvival |\t0 = No, 1 = Yes |\n",
    "| pclass | \tTicket class |\t1 = 1st, 2 = 2nd, 3 = 3rd |\n",
    "| sex | \tSex\t | |\n",
    "| Age | \tAge in years\t ||\n",
    "| sibsp | \t# of siblings / spouses aboard the Titanic |\t |\n",
    "| parch | \t# of parents / children aboard the Titanic |\t |\n",
    "| ticket | \tTicket number\t | |\n",
    "| fare | \tPassenger fare\t | |\n",
    "| cabin | \tCabin number\t | |\n",
    "| embarked | \tPort of Embarkation\t| C = Cherbourg, Q = Queenstown, S = Southampton |"
   ]
  },
  {
   "cell_type": "markdown",
   "metadata": {
    "run_control": {
     "frozen": false,
     "read_only": false
    }
   },
   "source": [
    "# Variable Notes\n",
    "\n",
    "**pclass**: A proxy for socio-economic status (SES)\n",
    "\n",
    "| class | class1 |\n",
    "| - | - |\n",
    "| 1st | Upper |\n",
    "| 2nd | Middle |\n",
    "| 3rd | Lower |\n",
    "\n",
    "**age**:  \n",
    "Age is fractional if less than 1. If the age is estimated, is it in the form of xx.5\n",
    "\n",
    "**sibsp**:   \n",
    "The dataset defines family relations in this way...\n",
    "* *Sibling* = brother, sister, stepbrother, stepsister\n",
    "* *Spouse* = husband, wife (mistresses and fiancés were ignored)\n",
    "\n",
    "\n",
    "**parch**: \n",
    "The dataset defines family relations in this way...\n",
    "\n",
    "| field | desc |\n",
    "| - | - |\n",
    "| Parent | mother, father |\n",
    "| Child  | daughter, son, stepdaughter, stepson |\n",
    "\n",
    "\n",
    "Some children travelled only with a nanny, therefore parch=0 for them."
   ]
  }
 ],
 "metadata": {
  "hide_input": false,
  "kernelspec": {
   "display_name": "Python 3",
   "language": "python",
   "name": "python3"
  },
  "language_info": {
   "codemirror_mode": {
    "name": "ipython",
    "version": 3
   },
   "file_extension": ".py",
   "mimetype": "text/x-python",
   "name": "python",
   "nbconvert_exporter": "python",
   "pygments_lexer": "ipython3",
   "version": "3.5.2"
  },
  "latex_envs": {
   "bibliofile": "biblio.bib",
   "cite_by": "apalike",
   "current_citInitial": 1,
   "eqLabelWithNumbers": true,
   "eqNumInitial": 0
  },
  "nav_menu": {},
  "toc": {
   "navigate_menu": true,
   "number_sections": true,
   "sideBar": false,
   "threshold": 6,
   "toc_cell": false,
   "toc_section_display": "block",
   "toc_window_display": false
  }
 },
 "nbformat": 4,
 "nbformat_minor": 2
}
