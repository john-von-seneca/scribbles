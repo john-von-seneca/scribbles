{
 "cells": [
  {
   "cell_type": "code",
   "execution_count": 2,
   "metadata": {
    "collapsed": false,
    "run_control": {
     "frozen": false,
     "read_only": false
    }
   },
   "outputs": [],
   "source": [
    "import numpy as np\n",
    "from matplotlib import pyplot as plt\n",
    "%matplotlib inline\n",
    "\n",
    "import random as rnd\n",
    "import os\n",
    "import math\n",
    "\n",
    "# required for interactive plotting\n",
    "from __future__ import print_function\n",
    "from ipywidgets import interact, interactive, fixed\n",
    "import ipywidgets as widgets\n",
    "import numpy.polynomial as np_poly\n",
    "\n",
    "from IPython.display import Math\n",
    "from IPython.display import Latex\n",
    "from IPython.display import HTML\n",
    "\n",
    "from pprint import pprint\n",
    "import functools as ft"
   ]
  },
  {
   "cell_type": "markdown",
   "metadata": {},
   "source": [
    "initialization\n",
    "$\n",
    "\\newcommand{\\Brace}[1]{\\left\\{#1\\right\\}}\n",
    "\\newcommand{\\Bracket}[1]{\\left[#1\\right]}\n",
    "\\newcommand{\\cases}[1]{\\begin{cases}#1\\end{cases}}\n",
    "\\newcommand{\\cov}[1]{\\text{cov} \\sigma\\left[#1\\right]}\n",
    "\\newcommand{\\diff}[2]{\\frac{d #1}{d #2}}\n",
    "\\newcommand{\\difftwo}[2]{\\frac{d^2 #1}{d {#2}^2}}\n",
    "\\newcommand{\\diffn}[2]{{#1}^{\\prime}(#2)}\n",
    "\\newcommand{\\ds}{\\displaystyle}\n",
    "\\newcommand{\\E}[1]{\\mathbb{E}\\left[ #1 \\right]}\n",
    "\\newcommand{\\expb}[1]{\\exp\\left\\{#1\\right\\}} \n",
    "\\newcommand{\\EXP}[1]{\\exp\\left\\{#1\\right\\}} \n",
    "\\newcommand{\\frachalf}[1]{\\frac{#1}{2}~}\n",
    "\\newcommand{\\fracone}[1]{\\frac{1}{#1}~}\n",
    "\\newcommand{\\fracrec}[1]{\\frac{1}{#1}~}\n",
    "\\newcommand{\\half}{\\fracone{2}}\n",
    "\\newcommand{\\H}[1]{\\mathbb{H}\\left[#1\\right]}\n",
    "\\newcommand{\\Int}[2]{\\displaystyle \\int_{#1}^{#2}~}\n",
    "\\newcommand{\\intinfinf}{\\Int{-\\infty}{\\infty}}\n",
    "\\newcommand{\\inv}[1]{#1^{-1}}\n",
    "\\newcommand{\\invp}[1]{\\left({#1}\\right)^{-1}}\n",
    "\\newcommand{\\KL}[2]{\\text{KL}\\left(#1 \\Vert #2\\right)}\n",
    "\\newcommand{\\Lim}[1]{\\displaystyle \\lim_{#1}}\n",
    "\\newcommand{\\Ln}[1]{\\ln \\left\\(#1\\right\\)}\n",
    "\\newcommand{\\Lnb}[1]{\\ln \\left\\{#1\\right\\} }\n",
    "\\newcommand{\\Mod}[1]{\\left|#1\\right|}\n",
    "\\newcommand{\\Norm}[1]{\\left\\lVert #1 \\right\\rVert}\n",
    "\\newcommand{\\Normsqr}[1]{\\Norm{#1}^2}\n",
    "\\newcommand{\\map}[1]{#1_{\\text{MAP}}}\n",
    "\\newcommand{\\ml}[1]{#1_{\\text{ML}}}\n",
    "\\newcommand{\\MI}[1]{\\mathcal{I}\\left(#1\\right)}\n",
    "\\newcommand{\\P}{\\mathbb{P}}\n",
    "\\newcommand{\\Paran}[1]{\\left(#1\\right)}\n",
    "\\newcommand{\\Partial}[2]{\\frac{\\partial #1}{\\partial #2}}\n",
    "\\newcommand{\\sqrbrkt}[1]{\\Bracket{#1}^2}\n",
    "\\newcommand{\\sqrbrc}[1]{\\Brace{#1}^2}\n",
    "\\newcommand{\\trace}[1]{\\text{Tr}\\left( #1 \\right)}\n",
    "\\newcommand{\\traceb}[1]{\\text{Tr}\\left\\{#1\\right\\}}\n",
    "\\newcommand{\\underl}[1]{\\text{$\\underline{#1}$}}\n",
    "\\newcommand{\\V}[1]{\\mathbb{V}\\left[#1\\right]}\n",
    "$\n",
    "$\n",
    "\\DeclareMathOperator*{\\argmin}{arg\\,min}\n",
    "\\DeclareMathOperator*{\\argmax}{arg\\,max}\n",
    "$\n",
    "$\n",
    "\\newcommand{\\mat}[1]{ \\left[ \\begin{matrix} #1 \\end{matrix} \\right] }\n",
    "\\newcommand{\\matp}[1]{ \\left( \\begin{matrix} #1 \\end{matrix} \\right)}\n",
    "\\newcommand{\\mats}[1]{ \\begin{matrix}#1\\end{matrix} }\n",
    "\\newcommand{\\arrthree}[1]{\n",
    "\\begin{array}{rlr} #1 \\end{array}}\n",
    "$"
   ]
  },
  {
   "cell_type": "markdown",
   "metadata": {},
   "source": [
    "$\n",
    "\\newcommand{\\C}{\\mathbb{C}}\n",
    "\\newcommand{\\Ca}{\\mathcal{C}}\n",
    "\\newcommand{\\Caone}{\\Ca_1}\n",
    "\\newcommand{\\Catwo}{\\Ca_2}\n",
    "\\newcommand{\\Cak}{\\Ca_k}\n",
    "\\newcommand{\\D}{\\mathcal{D}}\n",
    "\\newcommand{\\G}{\\mathcal{G}}\n",
    "\\newcommand{\\I}{\\mathcal{I}}\n",
    "\\newcommand{\\L}{\\mathcal{L}}\n",
    "\\newcommand{\\M}{\\mathcal{M}}\n",
    "\\newcommand{\\N}{\\mathbb{N}}\n",
    "\\newcommand{\\R}{\\mathbb{R}}\n",
    "\\newcommand{\\Ra}{\\mathcal{R}}\n",
    "$\n",
    "$\n",
    "\\newcommand{\\commentgray}[1]{\\color{gray}{\\text{#1}}}\n",
    "$"
   ]
  },
  {
   "cell_type": "markdown",
   "metadata": {},
   "source": [
    "sum, product\n",
    "$\n",
    "\\newcommand{\\sumi}{\\displaystyle \\sum_i}\n",
    "\\newcommand{\\sumiD}{\\displaystyle \\sum_{i=1}^{D}}\n",
    "\\newcommand{\\sumiL}{\\displaystyle \\sum_{i=1}^{L}}\n",
    "\\newcommand{\\sumiN}{\\displaystyle \\sum_{i=1}^{N}}\n",
    "\\newcommand{\\sumjD}{\\displaystyle \\sum_{j=1}^{D}}\n",
    "\\newcommand{\\sumjK}{\\displaystyle \\sum_{j=1}^{K}}\n",
    "\\newcommand{\\sumjMl}{\\sum_{j=1}^{M-1}}\n",
    "\\newcommand{\\sumkK}{\\displaystyle \\sum_{k=1}^{K}}\n",
    "\\newcommand{\\sumkM}{\\displaystyle \\sum_{k=1}^{M}}\n",
    "\\newcommand{\\sumkMl}{\\sum_{k=1}^{M-1}}\n",
    "\\newcommand{\\sumkp}{\\displaystyle \\sum_{k=1}^{p}}\n",
    "\\newcommand{\\summN}{\\displaystyle \\sum_{m=1}^{N}}\n",
    "\\newcommand{\\sumnN}{\\displaystyle \\sum_{n=1}^{N}}\n",
    "$\n",
    "$\n",
    "\\newcommand{\\prodi}{\\displaystyle \\prod_i}\n",
    "\\newcommand{\\prodiD}{\\displaystyle \\prod_{i=1}^{D}}\n",
    "\\newcommand{\\prodiL}{\\displaystyle \\prod_{i=1}^{L}}\n",
    "\\newcommand{\\prodiN}{\\displaystyle \\prod_{i=1}^{N}}\n",
    "\\newcommand{\\prodjK}{\\displaystyle \\prod_{j=1}^{K}}\n",
    "\\newcommand{\\prodkK}{\\displaystyle \\prod_{k=1}^{K}}\n",
    "\\newcommand{\\prodmN}{\\displaystyle \\prod_{m=1}^{N}}\n",
    "\\newcommand{\\prodnN}{\\displaystyle \\prod_{n=1}^{N}}\n",
    "$"
   ]
  },
  {
   "cell_type": "markdown",
   "metadata": {},
   "source": [
    "alphabet shortcuts\n",
    "$\n",
    "\\newcommand{\\ab}{\\mathbf{a}}\n",
    "\\newcommand{\\at}{\\ab^T}\n",
    "\\newcommand{\\Ab}{\\mathbf{A}}\n",
    "\\newcommand{\\At}{\\Ab^T}\n",
    "\\newcommand{\\Ai}{\\inv{\\Ab}}\n",
    "\\newcommand{\\Abjk}{\\Ab_{jk}}\n",
    "\\newcommand{\\bb}{\\mathbf{b}}\n",
    "\\newcommand{\\bt}{\\bb^T}\n",
    "\\newcommand{\\Bb}{\\mathbf{B}}\n",
    "\\newcommand{\\Bt}{\\Bb^T}\n",
    "\\newcommand{\\Cb}{\\mathbf{C}}\n",
    "\\newcommand{\\Cn}{\\Cb_{N}}\n",
    "\\newcommand{\\Db}{\\mathbf{D}}\n",
    "\\newcommand{\\fb}{\\mathbf{f}}\n",
    "\\newcommand{\\fp}{f^{\\prime}}\n",
    "\\newcommand{\\Hb}{\\mathbf{H}}\n",
    "\\newcommand{\\hx}{h(\\xb)}\n",
    "\\newcommand{\\Jb}{\\mathbf{J}}\n",
    "\\newcommand{\\kb}{\\mathbf{k}}\n",
    "\\newcommand{\\kt}{\\kb^T}\n",
    "\\newcommand{\\Kb}{\\mathbf{K}}\n",
    "\\newcommand{\\Lb}{\\mathbf{L}}\n",
    "\\newcommand{\\Lt}{\\Lb^T}\n",
    "\\newcommand{\\Lbi}{\\Lb^{-1}}\n",
    "\\newcommand{\\mb}{\\mathbf{m}}\n",
    "\\newcommand{\\mt}{\\mb^T}\n",
    "\\newcommand{\\mbn}{\\mb_N}\n",
    "\\newcommand{\\mbnt}{\\mbn^T}\n",
    "\\newcommand{\\mbN}{\\mb_N}\n",
    "\\newcommand{\\mbNt}{\\mbn^T}\n",
    "\\newcommand{\\Mb}{\\mathbf{M}}\n",
    "\\newcommand{\\Qb}{\\mathbf{Q}}\n",
    "\\newcommand{\\Rb}{\\mathbf{R}}\n",
    "\\newcommand{\\sb}{\\mathbf{s}}\n",
    "\\newcommand{\\Sb}{\\mathbf{S}}\n",
    "\\newcommand{\\tb}{\\mathbf{t}}\n",
    "\\newcommand{\\tbnn}{\\tb_{N}}\n",
    "\\newcommand{\\tbnp}{\\tb_{N+1}}\n",
    "\\newcommand{\\tt}{\\tb^T}\n",
    "\\newcommand{\\Tb}{\\mathbf{T}}\n",
    "\\newcommand{\\Tt}{\\Tb^T}\n",
    "\\newcommand{\\ub}{\\mathbf{u}}\n",
    "\\newcommand{\\Ub}{\\mathbf{U}}\n",
    "\\newcommand{\\Ut}{\\Ub^T}\n",
    "\\newcommand{\\vb}{\\mathbf{v}}\n",
    "\\newcommand{\\Vb}{\\mathbf{V}}\n",
    "\\newcommand{\\wb}{\\mathbf{w}}\n",
    "\\newcommand{\\wnr}[1]{\\wb^{(\\text{#1})}}\n",
    "\\newcommand{\\wt}{\\wb^T}\n",
    "\\newcommand{\\Wb}{\\mathbf{W}}\n",
    "\\newcommand{\\Wt}{\\Wb^T}\n",
    "\\newcommand{\\Wtilde}{\\widetilde{\\Wb}}\n",
    "\\newcommand{\\Wtildet}{\\Wtilde^T}\n",
    "\\newcommand{\\Xb}{\\mathbf{X}}\n",
    "\\newcommand{\\Xt}{\\Xb^T}\n",
    "\\newcommand{\\Xk}{\\Xb_k}\n",
    "\\newcommand{\\Xkt}{\\Xk^T}\n",
    "\\newcommand{\\Xtilde}{\\widetilde{\\Xb}}\n",
    "\\newcommand{\\Xtildet}{\\Xtilde^T}\n",
    "\\newcommand{\\xb}{\\mathbf{x}}\n",
    "\\newcommand{\\xt}{\\xb^T}\n",
    "\\newcommand{\\xtilde}{\\widetilde{\\xb}}\n",
    "\\newcommand{\\xtilden}{\\xtilde_n}\n",
    "\\newcommand{\\xtildent}{\\xtilden^T}\n",
    "\\newcommand{\\xp}{x^{\\prime}}\n",
    "\\newcommand{\\xbp}{\\xb^{\\prime}}\n",
    "\\newcommand{\\xbm}{\\xb_m}\n",
    "\\newcommand{\\xbn}{\\xb_n}\n",
    "\\newcommand{\\xbnp}{\\xb_{N+1}}\n",
    "\\newcommand{\\xab}{\\mathbf{x_a}}\n",
    "\\newcommand{\\xabt}{\\mathbf{x_a}^T}\n",
    "\\newcommand{\\xbb}{\\mathbf{x_b}}\n",
    "\\newcommand{\\xbbt}{\\mathbf{x_b}^T}\n",
    "\\newcommand{\\yb}{\\mathbf{y}}\n",
    "\\newcommand{\\yt}{\\yb^T}\n",
    "\\newcommand{\\yx}{y(\\xb)}\n",
    "\\newcommand{\\Yb}{\\mathbf{Y}}\n",
    "\\newcommand{\\Yt}{\\Yb^T}\n",
    "\\newcommand{\\zb}{\\mathbf{z}}\n",
    "\\newcommand{\\zt}{\\zb^T}\n",
    "\\newcommand{\\zbm}{\\zb_m}\n",
    "\\newcommand{\\zbn}{\\zb_n}\n",
    "\\newcommand{\\zbnp}{\\zb_{n-1}}\n",
    "\\newcommand{\\znk}{\\zb_{nk}}\n",
    "\\newcommand{\\znpj}{\\zb_{n-1,j}}\n",
    "\\newcommand{\\Zb}{\\mathbf{Z}}\n",
    "$"
   ]
  },
  {
   "cell_type": "markdown",
   "metadata": {},
   "source": [
    "math shortcuts\n",
    "$\n",
    "\\newcommand{\\alphab}{\\pmb{\\alpha}}\n",
    "\\newcommand{\\alphabt}{\\alphab^T}\n",
    "\\newcommand{\\betab}{\\pmb{\\beta}}\n",
    "\\newcommand{\\betabp}{\\betab^{\\prime}}\n",
    "\\newcommand{\\chib}{\\boldsymbol{\\chi}}\n",
    "\\newcommand{\\etab}{\\pmb{\\eta}}\n",
    "\\newcommand{\\etabp}{\\etab^{\\prime}}\n",
    "\\newcommand{\\etat}{\\eta^T}\n",
    "\\newcommand{\\etabt}{\\etab^T}\n",
    "\\newcommand{\\Lambdab}{\\pmb{\\Lambda}}\n",
    "\\newcommand{\\laa}{\\Lambda_{aa}}\n",
    "\\newcommand{\\laai}{\\Lambda_{aa}^{-1}}\n",
    "\\newcommand{\\lab}{\\Lambda_{ab}}\n",
    "\\newcommand{\\lba}{\\Lambda_{ba}}\n",
    "\\newcommand{\\lbb}{\\Lambda_{bb}}\n",
    "\\newcommand{\\lbbi}{\\Lambda_{bb}^{-1}}\n",
    "\\newcommand{\\li}{\\Lambda^{-1}}\n",
    "\\newcommand{\\Li}{\\Lambda^{-1}}\n",
    "\\newcommand{\\mub}{\\pmb{\\mu}}\n",
    "\\newcommand{\\mut}{\\mub^T}\n",
    "\\newcommand{\\muab}{\\pmb{\\mu}_a}\n",
    "\\newcommand{\\mubb}{\\pmb{\\mu}_b}\n",
    "\\newcommand{\\Phib}{\\pmb{\\Phi}}\n",
    "\\newcommand{\\Phibt}{\\Phib^T}\n",
    "\\newcommand{\\pib}{\\pmb{\\pi}}\n",
    "\\newcommand{\\sigmasqr}{\\sigma^2}\n",
    "\\newcommand{\\saa}{\\Sigma_{aa}}\n",
    "\\newcommand{\\sab}{\\Sigma_{ab}}\n",
    "\\newcommand{\\sba}{\\Sigma_{ba}}\n",
    "\\newcommand{\\sbb}{\\Sigma_{bb}}\n",
    "\\newcommand{\\Sigmai}{\\inv{\\Sigma}}\n",
    "\\newcommand{\\thetab}{\\pmb{\\theta}}\n",
    "\\newcommand{\\thetat}{\\thetab^T}\n",
    "\\newcommand{\\thetabh}{\\hat{\\thetab}}\n",
    "\\newcommand{\\thetaold}{\\thetab^{\\text{old}}}\n",
    "$\n",
    "$\n",
    "\\newcommand{\\zerob}{\\pmb{0}}\n",
    "\\newcommand{\\oneb}{\\pmb{1}}\n",
    "\\newcommand{\\ed}{\\mathbb{E}_{\\D}}\n",
    "\\newcommand{\\edyx}{\\ed\\left[y(\\xb ; \\D)\\right]}\n",
    "\\newcommand{\\dx}{~dx}\n",
    "\\newcommand{\\dxb}{~d\\xb}\n",
    "\\newcommand{\\pxdxb}{p(\\xb) \\dxb}\n",
    "\\newcommand{\\dwb}{~d\\wb}\n",
    "$"
   ]
  },
  {
   "cell_type": "markdown",
   "metadata": {},
   "source": [
    "aliases for distributions\n",
    "$\\newcommand{\\multivarcoeff}{\\frac{1}{(2\\pi)^{D/2}}\n",
    "\\frac{1}{\\left| \\mathbf{\\Sigma}\\right|^{1/2}}}$\n",
    "$\\newcommand{\\multivarexp}[2]\n",
    "{\n",
    "\\left\\{\n",
    " -\\frac{1}{2} \n",
    " {#1}^T \n",
    " #2\n",
    " {#1}\n",
    "\\right\\}\n",
    "}$\n",
    "$\\newcommand{\\multivarexpx}[1]{\\multivarexp{#1}{\\Sigma^{-1}}}$\n",
    "$\\newcommand{\\multivarexpstd}{\\multivarexpx{(\\xb-\\mub)}}$\n",
    "$\\newcommand{\\gam}{\\operatorname{Gam}}$\n",
    "$\n",
    "\\newcommand{\\Nl}[3]{\\mathcal{N}\\left(#1 \\mid #2, #3\\right)}\n",
    "\\newcommand{\\Nstdx}{\\Nl{\\mathbf{x}}{\\mathbf{\\mu}}{\\Sigma}}\n",
    "$"
   ]
  },
  {
   "cell_type": "markdown",
   "metadata": {},
   "source": [
    "** LEARNING SEQUENCE KERNELS **\n",
    "\n",
    "Corinna Cortes  \n",
    "Mehryar Mohri  \n",
    "Afshin Rostamizadeh  \n",
    "\n",
    "MLSP 2008\n"
   ]
  },
  {
   "cell_type": "markdown",
   "metadata": {},
   "source": [
    "Terms  \n",
    "* $\\Sigma$ - alphabet\n",
    "* $\\epsilon$ - empty string / null symbol\n",
    "* \n",
    "* \n",
    "* \n",
    "* \n",
    "* \n",
    "* \n",
    "* \n",
    "* \n",
    "* \n"
   ]
  },
  {
   "cell_type": "markdown",
   "metadata": {},
   "source": [
    "# Intro"
   ]
  },
  {
   "cell_type": "markdown",
   "metadata": {},
   "source": [
    "# Preliminaries"
   ]
  },
  {
   "cell_type": "markdown",
   "metadata": {},
   "source": [
    "following the definitions and terminology in\n",
    "> Rational Kernels: Theory and Algorithms"
   ]
  },
  {
   "cell_type": "markdown",
   "metadata": {},
   "source": [
    "## Weighted transducers"
   ]
  },
  {
   "cell_type": "markdown",
   "metadata": {},
   "source": [
    "### weighted transducer\n",
    "finite automata with each transition having\n",
    "* input label\n",
    "* real-valued weight\n",
    "* output label *[extra]*"
   ]
  },
  {
   "cell_type": "markdown",
   "metadata": {},
   "source": [
    "input (output) labels along a path concatenated along a parth to form an input (output) sequence.\n",
    "\n",
    "the weight of a sequence is the product of the weights of the constituent transitions and the weight of the final state."
   ]
  },
  {
   "cell_type": "markdown",
   "metadata": {},
   "source": [
    "### T(x,y)  \n",
    "* The weight associated by a weighted transducer T to a pair of strings $(x, y) \\in \\Sigma^* \\times \\Sigma^∗$\n",
    "* obtained by summing the weights of all accepting paths with input label x and output label y"
   ]
  },
  {
   "cell_type": "markdown",
   "metadata": {},
   "source": [
    "### inverse of T  \n",
    "* denoted as $\\inv{T}(x,y)$\n",
    "* obtained by swapping x and y\n",
    "* ie. $\\inv{T}(x,y) = T(x,y)$"
   ]
  },
  {
   "cell_type": "markdown",
   "metadata": {},
   "source": [
    "### composition  \n",
    "* $(T_1 \\circ T_2)(x,y) = \\ds \\sum_{z \\in \\Sigma^*} T_1(x,z) T_2(z,y)$\n",
    "* ie, $T_1$ outputs z on x and $T_2$ reads this z and outputs y"
   ]
  },
  {
   "cell_type": "markdown",
   "metadata": {},
   "source": [
    "## Rational kernels"
   ]
  },
  {
   "cell_type": "markdown",
   "metadata": {},
   "source": [
    "### definition\n",
    "A sequence kernel $K: \\Sigma^* \\times \\Sigma^* \\rightarrow \\R$ is rational if it coincides with the function defined by a weighted transducer U. that is if \n",
    "$$K(x, y) = U (x, y) ~~ \\forall x, y \\in \\Sigma^* $$\n",
    "\n",
    "* Not all rational kernels are positive definite and symmetric (PDS)\n",
    "* equivalently verify the Mercer condition\n",
    "  * This is crucial for the convergence of training for discriminant algorithms such as SVMs.\n",
    "  "
   ]
  },
  {
   "cell_type": "markdown",
   "metadata": {},
   "source": [
    "### theorem\n",
    "\n",
    "The following theorem will guide the formulation of the problem of learning PDS rational kernels.\n",
    "\n",
    "Theorem 1 ( [11])\n",
    "\n",
    "Let T be an arbitrary weighted transducer. Then, the function defined by the transducer $U = T \\circ \\inv{T}$ is a PDS rational kernel."
   ]
  },
  {
   "cell_type": "markdown",
   "metadata": {},
   "source": [
    "# Problem formulation"
   ]
  },
  {
   "cell_type": "markdown",
   "metadata": {},
   "source": [
    "## Given\n",
    "$$\n",
    "S = \\Brace{(x_1, y_1), \\cdots, (x_m, y_m)} \\in (X \\times Y)^m\n",
    "$$\n",
    "* X is the input space\n",
    "* $$Y = \\cases{\\R & \\text{regression} \\\\ \\Brace{+1,-1} & \\text{classification}}$$"
   ]
  },
  {
   "cell_type": "markdown",
   "metadata": {},
   "source": [
    "## Goal\n",
    "\n",
    "Select a kernel function $K \\in \\mathcal{K}$ that minimizes the generalization error of the SVM predictor."
   ]
  },
  {
   "cell_type": "markdown",
   "metadata": {},
   "source": [
    "## Let\n",
    "\n",
    "* $\\Kb \\in \\R^{m \\times m}$: Kernel matrix \n",
    "  * of kernel function K restricted to sample S\n",
    "  * $\\Kb_{ij} = K(x_i, x_j)$\n",
    "* $\\Yb \\in \\R^{m \\times m}$: diagonal matrix of labels\n",
    "  * $\\Yb = \\text{diag}(y_1, \\dots, y_m)$\n",
    "* $\\zerob \\in \\R^m$\n",
    "* $\\Cb = C \\oneb \\in \\R^m$\n",
    "  * C: tradeoff parameter in SVM optimization problem\n",
    "* $\\alpha_m \\in \\R^m$: column vector of dual variables\n",
    "* $\\Lambda \\ge 0$:  a parameter controlling the trace of **K**\n",
    "  * widely used constraint when learning kernels, see [13–17].\n"
   ]
  },
  {
   "cell_type": "markdown",
   "metadata": {},
   "source": [
    "## optimization problem\n",
    "\n",
    "$$\n",
    "\\arrthree{\n",
    "\\min_{\\Kb \\in \\mathcal{K}} \\max_{\\alphab} &\n",
    "2 \\alphabt \\oneb - \\alphabt \\Yt \\Kb \\Yb \\alphab\n",
    "\\\\\n",
    "\\text{subject to} \n",
    "&\\alphabt \\yb = 0 \\\\\n",
    "&\\zerob \\le \\alphab \\le \\Cb \\\\\n",
    "&\\Kb \\succeq 0 \\\\\n",
    "&Tr[\\Kb] = \\Lambda\n",
    "}\n",
    "$$"
   ]
  },
  {
   "cell_type": "markdown",
   "metadata": {},
   "source": [
    "* In general, this optimization leads to SDP programs\n",
    "  * due to the condition on the positive-definiteness of K\n",
    "* However, this condition is not necessary when searching for kernels of the type $T \\circ \\inv{T}$\n",
    "  * since by Theorem 1, they are PDS, regardless of the T used."
   ]
  },
  {
   "cell_type": "markdown",
   "metadata": {},
   "source": [
    "### let\n",
    "\n",
    "* for pds rational kernels, for any x, set of sequences z such that T(x,z) $\\ne$ 0 is finite\n",
    "* let $z_1, \\dots, z_p$: sequences of z such that $T(x_i, z) \\ne 0$ for some $i \\in [1, m]$\n",
    "* $\\Tb \\in \\R^{m \\times p}:: \\Tb_{ij} = T(x_i, z_j)$"
   ]
  },
  {
   "cell_type": "markdown",
   "metadata": {},
   "source": [
    "## rational kernel objective  \n",
    "\n",
    "$$\n",
    "\\arrthree{\n",
    "\\min_{\\Tb \\in \\mathcal{T}} \\max_{\\alphab} &\n",
    "2 \\alphabt \\oneb -\n",
    "\\Paran{\\alphabt \\Yt \\Tb}\n",
    "\\Paran{\\alphabt \\Yt \\Tb}^T\n",
    "\\\\\n",
    "\\text{subject to} &\n",
    "\\alphabt \\yb = 0\n",
    "\\\\ &\n",
    "\\zerob \\le \\alphab \\le \\Cb\n",
    "\\\\ &\n",
    "\\Norm{\\Tb}_F^2 = \\Lambda\n",
    "}\n",
    "$$\n",
    "where $\\Norm{.}_F$ is Frobenius Norm\n",
    "\n",
    "The matrix coefficients $\\Tb_{ij} = T(x_i, z_j)$ is obtained by summing the weights of all the accepting path of T with input label $x_i$ and output label $z_j$\n",
    "\n",
    "$$\n",
    "\\color{red}{\\text{Thus, in general, they are polynomials over}} \\\\\n",
    "\\color{red}{\\text{the transitions weights of the transducer T}}\n",
    "$$"
   ]
  },
  {
   "cell_type": "markdown",
   "metadata": {},
   "source": [
    "# Algorithms for learning rational kernels"
   ]
  },
  {
   "cell_type": "markdown",
   "metadata": {},
   "source": [
    "## Count-based rational kernels"
   ]
  },
  {
   "cell_type": "markdown",
   "metadata": {},
   "source": [
    "### Figure 2(a)\n",
    "\n",
    "* The output label of the accepting paths of this transducer are precisely the set of possible bigrams\n",
    "* T maps an input sequence u to the set of bigrams appearing in u\n",
    "* It further generates as many paths labeled with a given bigram z as there are occurrences of z in u.\n",
    "* Since the weights of the paths are added, the kernel $T \\circ \\inv{T}$ associates to each pair (x, y) the sum of the products of the counts of their common bigrams. "
   ]
  },
  {
   "cell_type": "markdown",
   "metadata": {},
   "source": [
    "### acyclic transducer for counting\n",
    "\n",
    "* A is a acyclic deterministic automaton\n",
    "* $A:A/1$: acyclic transducer mapping each sequence of A to itself with weight one"
   ]
  },
  {
   "cell_type": "markdown",
   "metadata": {},
   "source": [
    "* Let $w_k$ be the wieght ass. with the sequence $z_k$ accepted by A. * * then, $T(x, z_k)$: product of $w_k$ with number of occurrences of $z_k$ in x"
   ]
  },
  {
   "cell_type": "markdown",
   "metadata": {},
   "source": [
    "That is\n",
    "$$\n",
    "\\arrthree{\n",
    "(T \\circ \\inv{T})(x_i, x_j) &=\n",
    "\\ds \\sum_{k=1}^{p}\n",
    "T(x_i, z_k) ~T(x_j, z_k)\n",
    "\\\\ &=\n",
    "\\ds \\sum_{k=1}^{p}\n",
    "w_k^2 ~|x_i|_k ~|x_j|_k\n",
    "}\n",
    "$$\n",
    "where $|x_i|_k$: no. of occurrence of $z_k$ in $x_i$ for $i \\in [1,m]$ and $k \\in [1,p]$"
   ]
  },
  {
   "cell_type": "markdown",
   "metadata": {},
   "source": [
    "### Let\n",
    "\n",
    "* $\\Xb \\in \\R^{m \\times p}$: $\\Xb_{ik} = |x_i|_k$\n",
    "* $\\Xb_k \\in \\R^{m}$: k-th column of **X**."
   ]
  },
  {
   "cell_type": "markdown",
   "metadata": {},
   "source": [
    "### Then\n",
    "\n",
    "$$\n",
    "\\Paran{T \\circ \\inv{T}} =\n",
    "\\ds \\sum_{k=1}^{p} \\mu_k ~\\Xb_k ~\\Xb_k^T\n",
    "$$\n",
    "where $\\mu_k = w_k^2$"
   ]
  },
  {
   "cell_type": "markdown",
   "metadata": {},
   "source": [
    "# Support vector machines"
   ]
  },
  {
   "cell_type": "markdown",
   "metadata": {},
   "source": [
    "$$\n",
    "\\arrthree{\n",
    "\\ds \\min_{\\mub} \\max_{\\alphab} F(\\mub, \\alphab) &=\n",
    "\\ds\n",
    "2 \\alphabt \\oneb -\n",
    "\\sum_{k=1}^{p}\n",
    "\\mu_k \\alphabt \\Yt \\Xk \\Xkt \\Yb \\alphab\n",
    "\\\\\n",
    "\\text{subject to} &\n",
    "\\zerob \\le \\alphab \\le \\Cb\n",
    "\\\\ &\n",
    "\\alphabt \\yb = 0\n",
    "\\\\ &\n",
    "\\mub \\ge \\zerob\n",
    "\\\\ &\n",
    "\\ds \\sumkp \\mu_k \\Norm{\\Xk}^2 = \\Lambda\n",
    "}\n",
    "$$\n"
   ]
  },
  {
   "cell_type": "markdown",
   "metadata": {},
   "source": [
    "* $\\mathcal{M} = \\Brace{\\mub : \\mub \\ge \\zerob \\text{ and } \\sumkp \\mu_k \\Norm{\\Xk}^2 = \\Lambda}$\n",
    "* $\\mathcal{A} = \\Brace{\\alphab : \\zerob \\le \\alphab \\le \\Cb \\text{ and } \\alphabt \\yb = 0}$"
   ]
  },
  {
   "cell_type": "markdown",
   "metadata": {},
   "source": [
    "due to von neumann's minimax theorem, the min and max can be swapped\n",
    "$$\n",
    "\\ds \\min_{\\mub \\in \\mathcal{M}} \\max_{\\alphab \\in \\mathcal{A}} F(\\mub, \\alphab)\n",
    "=\n",
    "\\max_{\\alphab \\in \\mathcal{A}} \\min_{\\mub \\in \\mathcal{M}} F(\\mub, \\alphab)\n",
    "$$"
   ]
  },
  {
   "cell_type": "markdown",
   "metadata": {},
   "source": [
    "since $2 \\alphabt \\oneb$ doesn't depend on $\\mub$. hence\n",
    "$$\n",
    "\\max_{\\alphab \\in \\mathcal{A}} \\min_{\\mub \\in \\mathcal{M}} F(\\mub, \\alphab)\n",
    "\\\\ =\n",
    "\\max_{\\alphab \\in \\mathcal{A}} 2 \\alphabt \\oneb\n",
    "-\n",
    "\\max_{\\mub \\in \\mathcal{M}}\n",
    "\\sumkp \\mu_k\n",
    "\\Paran{\\alphabt \\Yt \\Xk}^2\n",
    "$$\n",
    "* since $\\ds \\min_\\mu \\Brace{-f(\\mu)} = - \\max_\\mu f(\\mu)$"
   ]
  },
  {
   "cell_type": "markdown",
   "metadata": {},
   "source": [
    "* Now in the second term, all the coefficients of $\\mu_k$ are positive.\n",
    "* hence optimal solution is obtained by placed all of the $\\mub$ weight on the largest of $\\Paran{\\alphabt \\Yt \\Xk}^2$  \n",
    "* since the contract $\\ds \\sumkp \\mu_k \\Norm{\\Xk}^2 = \\Lambda$. if we gonna choose a single $\\mu_{k^*}$ to absorb all the $\\mub$ weight, we have $\\ds \\sumkp \\mu_k \\Norm{\\Xk}^2 \\approx \\ds \\mu_{k^*} \\Norm{\\Xb_{k^*}}^2 = \\Lambda$.\n",
    "* hence, $\\ds \\mu_{k^*} = \\frac{\\Lambda}{\\Norm{\\Xb_{k^*}}^2}$"
   ]
  },
  {
   "cell_type": "markdown",
   "metadata": {},
   "source": [
    "$$\n",
    "\\max_{\\alphab \\in \\mathcal{A}} \\min_{\\mub \\in \\mathcal{M}} F(\\mub, \\alphab)\n",
    "\\\\ =\n",
    "\\max_{\\alphab \\in \\mathcal{A}} 2 \\alphabt \\oneb\n",
    "-\n",
    "\\Lambda \\max_{k \\in [1,p]}\n",
    "\\Paran{\n",
    "\\frac{\\alphabt \\Yt \\Xk}{\\Norm{\\Xk}}\n",
    "}^2\n",
    "\\\\ =\n",
    "\\max_{\\alphab \\in \\mathcal{A}} 2 \\alphabt \\oneb\n",
    "-\n",
    "\\Lambda \\max_{k \\in [1,p]}\n",
    "\\Paran{\\alphabt \\mub_k^{\\prime}}^2\n",
    "$$\n",
    "\n",
    "where\n",
    "$\\ds\\mub_k^{\\prime} = \\frac{\\Yt \\Xk}{\\Norm{\\Xk}}$"
   ]
  },
  {
   "cell_type": "markdown",
   "metadata": {},
   "source": [
    "Notes:\n",
    "$$\n",
    "\\max_\\alpha 2 \\alphabt \\oneb - \\Lambda \\max_{k\\ \\in [1,p]} (\\alphabt \\mub_k^{\\prime})^2\n",
    "\\\\=\n",
    "\\max_\\alpha 2 \\alphabt \\oneb - \\Lambda \\max_{t} t^2\n",
    "\\\\=\n",
    "\\max_{\\alpha, t}\n",
    "\\Brace{\n",
    "2 \\alphabt \\oneb - \\Lambda t^2\n",
    "}\n",
    "\\\\ =\n",
    "\\min_{\\alpha, t}\n",
    "\\Brace{\n",
    "- 2 \\alphabt \\oneb + \\Lambda t^2\n",
    "}\n",
    "$$"
   ]
  },
  {
   "cell_type": "markdown",
   "metadata": {},
   "source": [
    "This makes senses in this way  \n",
    "if we have to maximize $\\Lambda (\\alphabt \\mub_k^{\\prime})^2$ over all k, then we have one dude, the max k, say, $k_*$ such that\n",
    "$$\n",
    "(\\alphabt \\mub_{k_*}^{\\prime})^2 \\ge\n",
    "(\\alphabt \\mub_k^{\\prime})^2 ~~ \\forall k\n",
    "$$\n",
    "or\n",
    "$$\n",
    "-(\\alphabt \\mub_{k_*}^{\\prime}) \\le\n",
    "(\\alphabt \\mub_k^{\\prime}) \\le\n",
    "(\\alphabt \\mub_{k_*}^{\\prime})\n",
    "$$"
   ]
  },
  {
   "cell_type": "markdown",
   "metadata": {},
   "source": [
    "Thus, we have\n",
    "$$\n",
    "\\arrthree{\n",
    "\\ds \\min_{\\alphab, t} &\n",
    "- 2 \\alphabt \\oneb + \\Lambda t^2\n",
    "\\\\\n",
    "\\text{subject to} &\n",
    "\\zerob \\le \\alphab \\lt \\Cb\n",
    "\\\\ &\n",
    "\\alphabt \\yb = 0\n",
    "\\\\ &\n",
    "-t \\le \\alphabt \\mub_k^{\\prime} \\le t\n",
    "~,~ \\forall k \\in [1,p]\n",
    "}\n",
    "$$"
   ]
  },
  {
   "cell_type": "markdown",
   "metadata": {},
   "source": [
    "Now, the lagrange multipliers apply to $\\le$ form positively. Hence\n",
    "$$\n",
    "\\arrthree{\n",
    "L(\\alphab, t, \\betab, \\betabp, \\etab, \\etabp, \\delta)\n",
    "&=\n",
    "- 2 \\alphabt \\oneb + \\Lambda t^2\n",
    "\\\\ &\n",
    "- \\etabt \\alphabt & \\commentgray{for $\\zerob \\le \\alphab$}\n",
    "\\\\ &\n",
    "+ {\\etabp}^T (\\alphabt - \\Cb) & \\commentgray{for $ \\alphab \\le \\Cb $}\n",
    "\\\\ &\n",
    "- \\etabt \\alphabt & \\commentgray{for $\\zerob \\le \\alphab$}\n",
    "}\n",
    "$$"
   ]
  },
  {
   "cell_type": "markdown",
   "metadata": {},
   "source": []
  },
  {
   "cell_type": "markdown",
   "metadata": {},
   "source": []
  },
  {
   "cell_type": "markdown",
   "metadata": {},
   "source": []
  },
  {
   "cell_type": "markdown",
   "metadata": {},
   "source": []
  }
 ],
 "metadata": {
  "hide_input": false,
  "kernelspec": {
   "display_name": "Python 3",
   "language": "python",
   "name": "python3"
  },
  "language_info": {
   "codemirror_mode": {
    "name": "ipython",
    "version": 3
   },
   "file_extension": ".py",
   "mimetype": "text/x-python",
   "name": "python",
   "nbconvert_exporter": "python",
   "pygments_lexer": "ipython3",
   "version": "3.5.1"
  },
  "latex_envs": {
   "bibliofile": "biblio.bib",
   "cite_by": "apalike",
   "current_citInitial": 1,
   "eqLabelWithNumbers": true,
   "eqNumInitial": 0
  },
  "toc": {
   "toc_cell": false,
   "toc_number_sections": true,
   "toc_threshold": 6,
   "toc_window_display": false
  }
 },
 "nbformat": 4,
 "nbformat_minor": 0
}
