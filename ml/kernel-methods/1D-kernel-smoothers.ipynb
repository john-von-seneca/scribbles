{
 "cells": [
  {
   "cell_type": "code",
   "metadata": {},
   "outputs": [],
   "source": [
    "import numpy as np\n",
    "import scipy as sp\n",
    "from matplotlib import pyplot as plt\n",
    "%matplotlib inline\n",
    "\n",
    "import random as rnd\n",
    "import os\n",
    "import math\n",
    "\n",
    "# required for interactive plotting\n",
    "from __future__ import print_function\n",
    "from ipywidgets import interact, interactive, fixed\n",
    "import ipywidgets as widgets\n",
    "import numpy.polynomial as np_poly\n",
    "\n",
    "from IPython.display import Math\n",
    "from IPython.display import Latex\n",
    "from IPython.display import HTML\n",
    "\n",
    "from pprint import pprint\n",
    "import functools as ft\n",
    "\n",
    "from graphviz import Digraph\n",
    "\n",
    "DIR_HOME = os.environ['HOME']\n",
    "DIR_REPOS = DIR_HOME + \"/neo-human/repos\"\n",
    "DIR_BMLSP = DIR_REPOS + \"/luispedro/BuildingMachineLearningSystemsWithPython\""
   ]
  },
  {
   "cell_type": "markdown",
   "metadata": {},
   "source": [
    "initialization\n",
    "$\n",
    "\\newcommand{\\Brace}[1]{\\left\\{#1\\right\\}}\n",
    "\\newcommand{\\Bracket}[1]{\\left[#1\\right]}\n",
    "\\newcommand{\\cases}[1]{\\begin{cases}#1\\end{cases}}\n",
    "\\newcommand{\\cov}[1]{\\text{cov} \\sigma\\left[#1\\right]}\n",
    "\\newcommand{\\diff}[2]{\\frac{d #1}{d #2}}\n",
    "\\newcommand{\\difftwo}[2]{\\frac{d^2 #1}{d {#2}^2}}\n",
    "\\newcommand{\\diffn}[2]{{#1}^{\\prime}(#2)}\n",
    "\\newcommand{\\ds}{\\displaystyle}\n",
    "\\newcommand{\\E}[1]{\\mathbb{E}\\left[ #1 \\right]}\n",
    "\\newcommand{\\expb}[1]{\\exp\\left\\{#1\\right\\}} \n",
    "\\newcommand{\\EXP}[1]{\\exp\\left\\{#1\\right\\}} \n",
    "\\newcommand{\\frachalf}[1]{\\frac{#1}{2}~}\n",
    "\\newcommand{\\fracone}[1]{\\frac{1}{#1}~}\n",
    "\\newcommand{\\fracrec}[1]{\\frac{1}{#1}~}\n",
    "\\newcommand{\\half}{\\fracone{2}}\n",
    "\\newcommand{\\H}[1]{\\mathbb{H}\\left[#1\\right]}\n",
    "\\newcommand{\\Int}[2]{\\displaystyle \\int_{#1}^{#2}~}\n",
    "\\newcommand{\\intinfinf}{\\Int{-\\infty}{\\infty}}\n",
    "\\newcommand{\\inv}[1]{#1^{-1}}\n",
    "\\newcommand{\\invp}[1]{\\left({#1}\\right)^{-1}}\n",
    "\\newcommand{\\KL}[2]{\\text{KL}\\left(#1 \\Vert #2\\right)}\n",
    "\\newcommand{\\Lim}[1]{\\displaystyle \\lim_{#1}}\n",
    "\\newcommand{\\Ln}[1]{\\ln \\left\\(#1\\right\\)}\n",
    "\\newcommand{\\Lnb}[1]{\\ln \\left\\{#1\\right\\} }\n",
    "\\newcommand{\\Mod}[1]{\\left|#1\\right|}\n",
    "\\newcommand{\\Norm}[1]{\\left\\lVert #1 \\right\\rVert}\n",
    "\\newcommand{\\Normsqr}[1]{\\Norm{#1}^2}\n",
    "\\newcommand{\\map}[1]{#1_{\\text{MAP}}}\n",
    "\\newcommand{\\ml}[1]{#1_{\\text{ML}}}\n",
    "\\newcommand{\\MI}[1]{\\mathcal{I}\\left(#1\\right)}\n",
    "\\newcommand{\\P}{\\mathbb{P}}\n",
    "\\newcommand{\\Paran}[1]{\\left(#1\\right)}\n",
    "\\newcommand{\\Partial}[2]{\\frac{\\partial #1}{\\partial #2}}\n",
    "\\newcommand{\\sqrbrkt}[1]{\\Bracket{#1}^2}\n",
    "\\newcommand{\\sqrbrc}[1]{\\Brace{#1}^2}\n",
    "\\newcommand{\\trace}[1]{\\text{Tr}\\left( #1 \\right)}\n",
    "\\newcommand{\\traceb}[1]{\\text{Tr}\\left\\{#1\\right\\}}\n",
    "\\newcommand{\\underl}[1]{\\text{$\\underline{#1}$}}\n",
    "\\newcommand{\\V}[1]{\\mathbb{V}\\left[#1\\right]}\n",
    "$\n",
    "$\n",
    "\\DeclareMathOperator*{\\argmin}{arg\\,min}\n",
    "\\DeclareMathOperator*{\\argmax}{arg\\,max}\n",
    "$\n",
    "$\n",
    "\\newcommand{\\mat}[1]{ \\left[ \\begin{matrix} #1 \\end{matrix} \\right] }\n",
    "\\newcommand{\\matp}[1]{ \\left( \\begin{matrix} #1 \\end{matrix} \\right)}\n",
    "\\newcommand{\\mats}[1]{ \\begin{matrix}#1\\end{matrix} }\n",
    "\\newcommand{\\arrthree}[1]{\n",
    "\\begin{array}{rlr} #1 \\end{array}}\n",
    "$"
   ]
  },
  {
   "cell_type": "markdown",
   "metadata": {},
   "source": [
    "$\n",
    "\\newcommand{\\C}{\\mathbb{C}}\n",
    "\\newcommand{\\Ca}{\\mathcal{C}}\n",
    "\\newcommand{\\Caone}{\\Ca_1}\n",
    "\\newcommand{\\Catwo}{\\Ca_2}\n",
    "\\newcommand{\\Cak}{\\Ca_k}\n",
    "\\newcommand{\\D}{\\mathcal{D}}\n",
    "\\newcommand{\\G}{\\mathcal{G}}\n",
    "\\newcommand{\\I}{\\mathcal{I}}\n",
    "\\newcommand{\\L}{\\mathcal{L}}\n",
    "\\newcommand{\\M}{\\mathcal{M}}\n",
    "\\newcommand{\\N}{\\mathbb{N}}\n",
    "\\newcommand{\\R}{\\mathbb{R}}\n",
    "\\newcommand{\\Ra}{\\mathcal{R}}\n",
    "$\n",
    "$\n",
    "\\newcommand{\\commentgray}[1]{\\color{gray}{\\text{#1}}}\n",
    "$"
   ]
  },
  {
   "cell_type": "markdown",
   "metadata": {},
   "source": [
    "sum, product\n",
    "$\n",
    "\\newcommand{\\sumi}{\\displaystyle \\sum_i}\n",
    "\\newcommand{\\sumiD}{\\displaystyle \\sum_{i=1}^{D}}\n",
    "\\newcommand{\\sumiL}{\\displaystyle \\sum_{i=1}^{L}}\n",
    "\\newcommand{\\sumiN}{\\displaystyle \\sum_{i=1}^{N}}\n",
    "\\newcommand{\\sumjD}{\\displaystyle \\sum_{j=1}^{D}}\n",
    "\\newcommand{\\sumjK}{\\displaystyle \\sum_{j=1}^{K}}\n",
    "\\newcommand{\\sumjMl}{\\sum_{j=1}^{M-1}}\n",
    "\\newcommand{\\sumkK}{\\displaystyle \\sum_{k=1}^{K}}\n",
    "\\newcommand{\\sumkM}{\\displaystyle \\sum_{k=1}^{M}}\n",
    "\\newcommand{\\sumkMl}{\\sum_{k=1}^{M-1}}\n",
    "\\newcommand{\\sumkp}{\\displaystyle \\sum_{k=1}^{p}}\n",
    "\\newcommand{\\summN}{\\displaystyle \\sum_{m=1}^{N}}\n",
    "\\newcommand{\\sumnN}{\\displaystyle \\sum_{n=1}^{N}}\n",
    "$\n",
    "$\n",
    "\\newcommand{\\prodi}{\\displaystyle \\prod_i}\n",
    "\\newcommand{\\prodiD}{\\displaystyle \\prod_{i=1}^{D}}\n",
    "\\newcommand{\\prodiL}{\\displaystyle \\prod_{i=1}^{L}}\n",
    "\\newcommand{\\prodiN}{\\displaystyle \\prod_{i=1}^{N}}\n",
    "\\newcommand{\\prodjK}{\\displaystyle \\prod_{j=1}^{K}}\n",
    "\\newcommand{\\prodkK}{\\displaystyle \\prod_{k=1}^{K}}\n",
    "\\newcommand{\\prodmN}{\\displaystyle \\prod_{m=1}^{N}}\n",
    "\\newcommand{\\prodnN}{\\displaystyle \\prod_{n=1}^{N}}\n",
    "$"
   ]
  },
  {
   "cell_type": "markdown",
   "metadata": {},
   "source": [
    "alphabet shortcuts\n",
    "$\n",
    "\\newcommand{\\ab}{\\mathbf{a}}\n",
    "\\newcommand{\\at}{\\ab^T}\n",
    "\\newcommand{\\Ab}{\\mathbf{A}}\n",
    "\\newcommand{\\At}{\\Ab^T}\n",
    "\\newcommand{\\Ai}{\\inv{\\Ab}}\n",
    "\\newcommand{\\Abjk}{\\Ab_{jk}}\n",
    "\\newcommand{\\bb}{\\mathbf{b}}\n",
    "\\newcommand{\\bt}{\\bb^T}\n",
    "\\newcommand{\\Bb}{\\mathbf{B}}\n",
    "\\newcommand{\\Bt}{\\Bb^T}\n",
    "\\newcommand{\\Cb}{\\mathbf{C}}\n",
    "\\newcommand{\\Cn}{\\Cb_{N}}\n",
    "\\newcommand{\\Db}{\\mathbf{D}}\n",
    "\\newcommand{\\fb}{\\mathbf{f}}\n",
    "\\newcommand{\\fp}{f^{\\prime}}\n",
    "\\newcommand{\\Hb}{\\mathbf{H}}\n",
    "\\newcommand{\\hx}{h(\\xb)}\n",
    "\\newcommand{\\Jb}{\\mathbf{J}}\n",
    "\\newcommand{\\kb}{\\mathbf{k}}\n",
    "\\newcommand{\\kt}{\\kb^T}\n",
    "\\newcommand{\\Kb}{\\mathbf{K}}\n",
    "\\newcommand{\\Lb}{\\mathbf{L}}\n",
    "\\newcommand{\\Lt}{\\Lb^T}\n",
    "\\newcommand{\\Lbi}{\\Lb^{-1}}\n",
    "\\newcommand{\\mb}{\\mathbf{m}}\n",
    "\\newcommand{\\mt}{\\mb^T}\n",
    "\\newcommand{\\mbn}{\\mb_N}\n",
    "\\newcommand{\\mbnt}{\\mbn^T}\n",
    "\\newcommand{\\mbN}{\\mb_N}\n",
    "\\newcommand{\\mbNt}{\\mbn^T}\n",
    "\\newcommand{\\Mb}{\\mathbf{M}}\n",
    "\\newcommand{\\Qb}{\\mathbf{Q}}\n",
    "\\newcommand{\\Rb}{\\mathbf{R}}\n",
    "\\newcommand{\\sb}{\\mathbf{s}}\n",
    "\\newcommand{\\Sb}{\\mathbf{S}}\n",
    "\\newcommand{\\tb}{\\mathbf{t}}\n",
    "\\newcommand{\\tbnn}{\\tb_{N}}\n",
    "\\newcommand{\\tbnp}{\\tb_{N+1}}\n",
    "\\newcommand{\\tt}{\\tb^T}\n",
    "\\newcommand{\\Tb}{\\mathbf{T}}\n",
    "\\newcommand{\\Tt}{\\Tb^T}\n",
    "\\newcommand{\\ub}{\\mathbf{u}}\n",
    "\\newcommand{\\Ub}{\\mathbf{U}}\n",
    "\\newcommand{\\Ut}{\\Ub^T}\n",
    "\\newcommand{\\vb}{\\mathbf{v}}\n",
    "\\newcommand{\\Vb}{\\mathbf{V}}\n",
    "\\newcommand{\\wb}{\\mathbf{w}}\n",
    "\\newcommand{\\wnr}[1]{\\wb^{(\\text{#1})}}\n",
    "\\newcommand{\\wt}{\\wb^T}\n",
    "\\newcommand{\\Wb}{\\mathbf{W}}\n",
    "\\newcommand{\\Wt}{\\Wb^T}\n",
    "\\newcommand{\\Wtilde}{\\widetilde{\\Wb}}\n",
    "\\newcommand{\\Wtildet}{\\Wtilde^T}\n",
    "\\newcommand{\\Xb}{\\mathbf{X}}\n",
    "\\newcommand{\\Xt}{\\Xb^T}\n",
    "\\newcommand{\\Xk}{\\Xb_k}\n",
    "\\newcommand{\\Xkt}{\\Xk^T}\n",
    "\\newcommand{\\Xtilde}{\\widetilde{\\Xb}}\n",
    "\\newcommand{\\Xtildet}{\\Xtilde^T}\n",
    "\\newcommand{\\xb}{\\mathbf{x}}\n",
    "\\newcommand{\\xt}{\\xb^T}\n",
    "\\newcommand{\\xtilde}{\\widetilde{\\xb}}\n",
    "\\newcommand{\\xtilden}{\\xtilde_n}\n",
    "\\newcommand{\\xtildent}{\\xtilden^T}\n",
    "\\newcommand{\\xp}{x^{\\prime}}\n",
    "\\newcommand{\\xbp}{\\xb^{\\prime}}\n",
    "\\newcommand{\\xbm}{\\xb_m}\n",
    "\\newcommand{\\xbn}{\\xb_n}\n",
    "\\newcommand{\\xbnp}{\\xb_{N+1}}\n",
    "\\newcommand{\\xab}{\\mathbf{x_a}}\n",
    "\\newcommand{\\xabt}{\\mathbf{x_a}^T}\n",
    "\\newcommand{\\xbb}{\\mathbf{x_b}}\n",
    "\\newcommand{\\xbbt}{\\mathbf{x_b}^T}\n",
    "\\newcommand{\\yb}{\\mathbf{y}}\n",
    "\\newcommand{\\yt}{\\yb^T}\n",
    "\\newcommand{\\yx}{y(\\xb)}\n",
    "\\newcommand{\\Yb}{\\mathbf{Y}}\n",
    "\\newcommand{\\Yt}{\\Yb^T}\n",
    "\\newcommand{\\zb}{\\mathbf{z}}\n",
    "\\newcommand{\\zt}{\\zb^T}\n",
    "\\newcommand{\\zbm}{\\zb_m}\n",
    "\\newcommand{\\zbn}{\\zb_n}\n",
    "\\newcommand{\\zbnp}{\\zb_{n-1}}\n",
    "\\newcommand{\\znk}{\\zb_{nk}}\n",
    "\\newcommand{\\znpj}{\\zb_{n-1,j}}\n",
    "\\newcommand{\\Zb}{\\mathbf{Z}}\n",
    "$"
   ]
  },
  {
   "cell_type": "markdown",
   "metadata": {},
   "source": [
    "math shortcuts\n",
    "$\n",
    "\\newcommand{\\alphab}{\\pmb{\\alpha}}\n",
    "\\newcommand{\\alphabt}{\\alphab^T}\n",
    "\\newcommand{\\betab}{\\pmb{\\beta}}\n",
    "\\newcommand{\\betabp}{\\betab^{\\prime}}\n",
    "\\newcommand{\\chib}{\\boldsymbol{\\chi}}\n",
    "\\newcommand{\\etab}{\\pmb{\\eta}}\n",
    "\\newcommand{\\etabp}{\\etab^{\\prime}}\n",
    "\\newcommand{\\etat}{\\eta^T}\n",
    "\\newcommand{\\etabt}{\\etab^T}\n",
    "\\newcommand{\\Lambdab}{\\pmb{\\Lambda}}\n",
    "\\newcommand{\\laa}{\\Lambda_{aa}}\n",
    "\\newcommand{\\laai}{\\Lambda_{aa}^{-1}}\n",
    "\\newcommand{\\lab}{\\Lambda_{ab}}\n",
    "\\newcommand{\\lba}{\\Lambda_{ba}}\n",
    "\\newcommand{\\lbb}{\\Lambda_{bb}}\n",
    "\\newcommand{\\lbbi}{\\Lambda_{bb}^{-1}}\n",
    "\\newcommand{\\li}{\\Lambda^{-1}}\n",
    "\\newcommand{\\Li}{\\Lambda^{-1}}\n",
    "\\newcommand{\\mub}{\\pmb{\\mu}}\n",
    "\\newcommand{\\mut}{\\mub^T}\n",
    "\\newcommand{\\muab}{\\pmb{\\mu}_a}\n",
    "\\newcommand{\\mubb}{\\pmb{\\mu}_b}\n",
    "\\newcommand{\\Phib}{\\pmb{\\Phi}}\n",
    "\\newcommand{\\Phibt}{\\Phib^T}\n",
    "\\newcommand{\\pib}{\\pmb{\\pi}}\n",
    "\\newcommand{\\sigmasqr}{\\sigma^2}\n",
    "\\newcommand{\\saa}{\\Sigma_{aa}}\n",
    "\\newcommand{\\sab}{\\Sigma_{ab}}\n",
    "\\newcommand{\\sba}{\\Sigma_{ba}}\n",
    "\\newcommand{\\sbb}{\\Sigma_{bb}}\n",
    "\\newcommand{\\Sigmai}{\\inv{\\Sigma}}\n",
    "\\newcommand{\\thetab}{\\pmb{\\theta}}\n",
    "\\newcommand{\\thetat}{\\thetab^T}\n",
    "\\newcommand{\\thetabh}{\\hat{\\thetab}}\n",
    "\\newcommand{\\thetaold}{\\thetab^{\\text{old}}}\n",
    "$\n",
    "$\n",
    "\\newcommand{\\zerob}{\\pmb{0}}\n",
    "\\newcommand{\\oneb}{\\pmb{1}}\n",
    "\\newcommand{\\ed}{\\mathbb{E}_{\\D}}\n",
    "\\newcommand{\\edyx}{\\ed\\left[y(\\xb ; \\D)\\right]}\n",
    "\\newcommand{\\dx}{~dx}\n",
    "\\newcommand{\\dxb}{~d\\xb}\n",
    "\\newcommand{\\pxdxb}{p(\\xb) \\dxb}\n",
    "\\newcommand{\\dwb}{~d\\wb}\n",
    "$"
   ]
  },
  {
   "cell_type": "markdown",
   "metadata": {},
   "source": [
    "aliases for distributions\n",
    "$\\newcommand{\\multivarcoeff}{\\frac{1}{(2\\pi)^{D/2}}\n",
    "\\frac{1}{\\left| \\mathbf{\\Sigma}\\right|^{1/2}}}$\n",
    "$\\newcommand{\\multivarexp}[2]\n",
    "{\n",
    "\\left\\{\n",
    " -\\frac{1}{2} \n",
    " {#1}^T \n",
    " #2\n",
    " {#1}\n",
    "\\right\\}\n",
    "}$\n",
    "$\\newcommand{\\multivarexpx}[1]{\\multivarexp{#1}{\\Sigma^{-1}}}$\n",
    "$\\newcommand{\\multivarexpstd}{\\multivarexpx{(\\xb-\\mub)}}$\n",
    "$\\newcommand{\\gam}{\\operatorname{Gam}}$\n",
    "$\n",
    "\\newcommand{\\Nl}[3]{\\mathcal{N}\\left(#1 \\mid #2, #3\\right)}\n",
    "\\newcommand{\\Nstdx}{\\Nl{\\mathbf{x}}{\\mathbf{\\mu}}{\\Sigma}}\n",
    "$"
   ]
  },
  {
   "cell_type": "code",
   "metadata": {},
   "outputs": [],
   "source": [
    "HTML(\"<style>\"\\\n",
    "    \"div.cell{\"\\\n",
    "        \"width:100%;\"\\\n",
    "        \"margin-left:0%;\"\\\n",
    "        \"margin-right:auto;\"\\\n",
    "    \"}\"\\\n",
    "\"</style>\")"
   ]
  },
  {
   "cell_type": "markdown",
   "metadata": {},
   "source": [
    "# knn average"
   ]
  },
  {
   "cell_type": "markdown",
   "metadata": {},
   "source": [
    "$$\n",
    "\\hat{f}(x) = \\text{Ave} \\Paran{y_i \\mid x_i \\in N_k(x) ~}\n",
    "$$"
   ]
  },
  {
   "cell_type": "code",
   "metadata": {},
   "outputs": [],
   "source": [
    "def plot_sin(x_max=5., num_pts=100):\n",
    "    x = np.linspace(0,x_max,num_pts)\n",
    "    plt.plot(x, np.sin(x), label='actual sin')"
   ]
  },
  {
   "cell_type": "code",
   "metadata": {},
   "outputs": [],
   "source": [
    "num_pts, x_max, sig_noise = 100, 5., 0.2\n",
    "x_train = np.random.rand(num_pts)*x_max\n",
    "x_train.sort()\n",
    "y_train = np.sin(x_train) + np.random.normal(loc=0.0, scale=sig_noise, size=x_train.shape)\n",
    "plt.plot(x_train,y_train,'o')\n",
    "plot_sin(x_max)\n",
    "plt.legend(loc=(1,0.5))\n",
    "plt.show()"
   ]
  },
  {
   "cell_type": "code",
   "metadata": {},
   "outputs": [],
   "source": [
    "def knn_prediction(x_train, y_train, x_max, k=10, num_pts_pred=50):\n",
    "    x_pred = np.linspace(0,x_max,num_pts_pred)\n",
    "    y_pred = np.zeros_like(x_pred)\n",
    "    for ix in range(num_pts_pred):\n",
    "        xx_pred = x_pred[ix]\n",
    "        distances = np.abs(x_train-xx_pred)\n",
    "        ixs_sorted = distances.argsort()\n",
    "        ixs_nbrs = ixs_sorted[:k]\n",
    "        y_pred[ix] = np.average(y_train[ixs_nbrs])\n",
    "    return (x_pred, y_pred)\n"
   ]
  },
  {
   "cell_type": "code",
   "metadata": {},
   "outputs": [],
   "source": [
    "num_pts, x_max, sig_noise = 100, 5., 0.3\n",
    "x_train = np.random.rand(num_pts)*x_max\n",
    "x_train.sort()\n",
    "y_train = np.sin(x_train) + np.random.normal(loc=0.0, scale=sig_noise, size=x_train.shape)\n",
    "\n",
    "x_pred_knn, y_pred_knn = knn_prediction(x_train, y_train, x_max, k=10, num_pts_pred=50)\n",
    "    \n",
    "plot_sin(x_max)\n",
    "plt.plot(x_train, y_train, 'o', label='train')\n",
    "plt.plot(x_pred, y_pred,label='prediction')\n",
    "plt.legend(loc=(1,0.5))\n",
    "plt.show()"
   ]
  },
  {
   "cell_type": "markdown",
   "metadata": {},
   "source": [
    "# Epanechnikov quadratic kernel"
   ]
  },
  {
   "cell_type": "markdown",
   "metadata": {},
   "source": [
    "$$\n",
    "\\arrthree{\n",
    "\\hat{f}(x_0) &= \n",
    "\\frac{\\sumiN K_\\lambda(x_0,x_i) ~y_i}{\\sumiN K_\\lambda(x_0,x_i)} \\\\\n",
    "K_\\lambda(x_0,x) &=\n",
    "\\ds D \\Paran{\\frac{\\mid x-x_0 \\mid}{\\lambda}}\n",
    "\\\\\n",
    "D(t) &=\n",
    "\\cases{\n",
    "\\frac{3}{4} (1-t^2) & \\text{if } |t| \\le 1 \\\\\n",
    "0 & \\text{otherwise}\n",
    "}\n",
    "}\n",
    "$$"
   ]
  },
  {
   "cell_type": "code",
   "metadata": {},
   "outputs": [],
   "source": [
    "def epanechnikov_predictions(x_train, y_train, x_max, lamb=0.2, num_pts_pred=100):\n",
    "    x_pred = np.linspace(0,x_max,num_pts_pred)\n",
    "    y_pred = np.zeros_like(x_pred)\n",
    "    for ix in range(num_pts_pred):\n",
    "        x_0 = x_pred[ix]\n",
    "        d_arg = np.abs(x_train-x_0)/lamb\n",
    "        ixs_nbrd = (d_arg<=1)\n",
    "        d_out = np.zeros_like(x_train)\n",
    "        d_out[ixs_nbrd] = 3./4.*(1 - d_arg[ixs_nbrd]**2)\n",
    "        y_pred[ix] = np.sum(y_train*d_out)/np.sum(d_out)\n",
    "    return (x_pred, y_pred)\n"
   ]
  },
  {
   "cell_type": "code",
   "metadata": {},
   "outputs": [],
   "source": [
    "\n",
    "def lcr_interact(sig_noise=0.3, lamb=0.2):\n",
    "    num_pts, x_max = 100, 5.\n",
    "    x_train = np.random.rand(num_pts)*x_max\n",
    "    x_train.sort()\n",
    "    y_train = np.sin(x_train) + np.random.normal(loc=0.0, scale=sig_noise, \n",
    "                                                 size=x_train.shape)\n",
    "    x_pred,y_pred = epanechnikov_predictions(x_train,y_train,x_max,lamb=0.2,num_pts_pred=50)\n",
    "\n",
    "    plot_sin(x_max)\n",
    "    plt.plot(x_train, y_train, 'o', label='train')\n",
    "    plt.plot(x_pred, y_pred,label='prediction')\n",
    "    plt.legend(loc=(1,0.5))\n",
    "    plt.show()\n",
    "    \n",
    "interact(lcr_interact, sig_noise=(0.1,1.,0.1), lamb=(0.1,2,0.2))"
   ]
  },
  {
   "cell_type": "markdown",
   "metadata": {},
   "source": [
    "# Local Linear Regression"
   ]
  },
  {
   "cell_type": "markdown",
   "metadata": {},
   "source": [
    "$$\n",
    "\\argmin_{\\alpha(x_0),\\beta(x_0)}\n",
    "\\sumiN K_\\lambda(x_0, x_i)\n",
    "\\Bracket{y_i - \\alpha(x_0) - \\beta(x_0)}^2\n",
    "$$"
   ]
  },
  {
   "cell_type": "markdown",
   "metadata": {},
   "source": [
    "Let\n",
    "$$\n",
    "\\arrthree{\n",
    "b(x)^T &= (1,x) \\\\\n",
    "\\Bb &=\n",
    "\\mat{b(x_1)^T \\\\ \\vdots \\\\ b(x_N)^T} & \\commentgray{N x 2}\n",
    "\\\\\n",
    "\\Wb(x_0) &=\n",
    "diag \\Paran{K_\\lambda(x_0,x_1),\\cdots,K_\\lambda(x_0,x_i),\\cdots,K_\\lambda(x_0,x_N)}\n",
    "& \\commentgray{N x N diag}\n",
    "}\n",
    "$$"
   ]
  },
  {
   "cell_type": "markdown",
   "metadata": {},
   "source": [
    "$$\n",
    "\\arrthree{\n",
    "\\argmin_{\\alpha(x_0),\\beta(x_0)}\n",
    "\\sumiN & K_\\lambda(x_0, x_i)\n",
    "\\Bracket{y_i - \\alpha(x_0) - \\beta(x_0)}^2\n",
    "\\\\\n",
    "&= \n",
    "\\argmin_{\\alpha(x_0),\\beta(x_0)}\n",
    "\\Paran{\\yb - \\Bb \\mat{\\alpha_0 \\\\ \\beta_0}}^T\n",
    "\\Wb(x_0)\n",
    "\\Paran{\\yb - \\Bb \\mat{\\alpha_0 \\\\ \\beta_0}}\n",
    "}\n",
    "$$"
   ]
  },
  {
   "cell_type": "markdown",
   "metadata": {},
   "source": [
    "$$\n",
    "\\mat{\\alpha_0 \\\\ \\beta_0}\n",
    "=\n",
    "\\inv{\\Paran{\\Bt \\Wb(x_0) \\Bb}} \\Bt \\Wb(x_0) \\yb\n",
    "$$\n",
    "\n",
    "Predictions\n",
    "$$\n",
    "\\hat{f}(x_0) = \n",
    "b(x_0)^T \\inv{\\Paran{\\Bt \\Wb(x_0) \\Bb}} \\Bt \\Wb(x_0) \\yb\n",
    "$$"
   ]
  },
  {
   "cell_type": "code",
   "metadata": {},
   "outputs": [],
   "source": [
    "def epanechnikov_kernel(x_train, x_0, lamb):\n",
    "    d_arg = np.abs(x_train-x_0)/lamb\n",
    "    ixs_nbrd = (d_arg<=1)\n",
    "    d_out = np.zeros_like(x_train)\n",
    "    d_out[ixs_nbrd] = 3./4.*(1 - d_arg[ixs_nbrd]**2)\n",
    "    return np.diag(d_out)"
   ]
  },
  {
   "cell_type": "code",
   "metadata": {},
   "outputs": [],
   "source": [
    "def loc_lin_reg_matrix(xN, yN, x_0, lamb):\n",
    "    N = xN.shape[0]\n",
    "    B = np.hstack([np.ones((N,1)), xN.reshape(-1,1)])\n",
    "    W_x0 = epanechnikov_kernel(x_train, x_0, lamb)\n",
    "#     print('xN', xN.shape)\n",
    "#     print('yN', yN.shape)\n",
    "#     print('B', B.shape)\n",
    "#     print('W_x0', W_x0.shape)\n",
    "    mat_0 = B.T @ W_x0 @ B\n",
    "    mat_0 += np.random.rand()*np.eye(mat_0.shape[0])\n",
    "    return np.linalg.inv(mat_0) @ B.T @ W_x0 @ yN\n",
    "    "
   ]
  },
  {
   "cell_type": "code",
   "metadata": {},
   "outputs": [],
   "source": [
    "def loc_lin_reg_predictions(x_train, y_train, x_max, lamb, num_pts_pred=100):\n",
    "    x_pred = np.linspace(0,x_max,num_pts_pred)\n",
    "    y_pred = np.zeros_like(x_pred)\n",
    "    # form\n",
    "    for ix in range(num_pts_pred):\n",
    "        x_0 = x_pred[ix]\n",
    "        mat1 = loc_lin_reg_matrix(x_train, y_train, x_0, lamb)\n",
    "        y_pred[ix] = np.array([1,x_0]) @ mat1\n",
    "    return (x_pred, y_pred)\n"
   ]
  },
  {
   "cell_type": "code",
   "metadata": {},
   "outputs": [],
   "source": [
    "\n",
    "def llr_interact(sig_noise=0.3, lamb=0.7, plot_all=True):\n",
    "    num_pts, x_max = 100, 6.\n",
    "    x_train = np.random.rand(num_pts)*x_max\n",
    "    x_train.sort()\n",
    "    y_train = np.sin(x_train) + np.random.normal(loc=0.0, scale=sig_noise, size=x_train.shape)\n",
    "    if(plot_all):\n",
    "        lambdas = [0.1,0.5,1.0,1.5,2.0]\n",
    "    else:\n",
    "        lambdas = [lamb]\n",
    "\n",
    "    plt.plot(x_train, y_train, 'og', label='train')\n",
    "    \n",
    "    for lamb in lambdas:\n",
    "        x_pred,y_pred = loc_lin_reg_predictions(x_train,y_train,x_max,\n",
    "                                            lamb=lamb,num_pts_pred=50)\n",
    "        plt.plot(x_pred, y_pred,label='lamb='+str(lamb),linewidth=2)\n",
    "\n",
    "    plot_sin(x_max)\n",
    "    plt.legend(loc=(1,0.1))\n",
    "    plt.title('Local Linear Regression')\n",
    "    plt.show()\n",
    "interact(llr_interact, sig_noise=(0.1,1,0.1), lamb=(0.1,2,0.1))"
   ]
  },
  {
   "cell_type": "markdown",
   "metadata": {},
   "source": [
    "# Local Polynomial Regression"
   ]
  },
  {
   "cell_type": "markdown",
   "metadata": {},
   "source": [
    "$$\n",
    "\\argmin_{\\alpha(x_0),\\beta(x_0)}\n",
    "\\sumiN K_\\lambda(x_0, x_i)\n",
    "\\Bracket{y_i - \\alpha(x_0) - \\sum_{j=1}^d \\beta_j(x_0) x_i^j}^2\n",
    "$$"
   ]
  },
  {
   "cell_type": "markdown",
   "metadata": {},
   "source": [
    "Let\n",
    "$$\n",
    "\\arrthree{\n",
    "b(x)^T &= (1,x,x^2,\\cdots,x^d) & \\commentgray{1 x (d+1)}\\\\\n",
    "\\Bb &=\n",
    "\\mat{b(x_1)^T \\\\ \\vdots \\\\ b(x_N)^T} & \\commentgray{N x (d+1)}\n",
    "\\\\\n",
    "\\Wb(x_0) &=\n",
    "diag \\Paran{K_\\lambda(x_0,x_1),\\cdots,K_\\lambda(x_0,x_i),\\cdots,K_\\lambda(x_0,x_N)}\n",
    "& \\commentgray{N x N diag}\n",
    "}\n",
    "$$"
   ]
  },
  {
   "cell_type": "markdown",
   "metadata": {},
   "source": [
    "$$\n",
    "\\arrthree{\n",
    "\\argmin_{\\alpha(x_0),\\beta(x_0)}\n",
    "\\sumiN & K_\\lambda(x_0, x_i)\n",
    "\\Bracket{y_i - \\alpha(x_0) - \\sum_{j=1}^d \\beta_j(x_0) x_i^j}^2\n",
    "\\\\\n",
    "&= \n",
    "\\argmin_{\\alpha(x_0),\\beta(x_0)}\n",
    "\\Paran{\\yb - \\Bb \\mat{\\alpha_0 \\\\ \\beta_0}}^T\n",
    "\\Wb(x_0)\n",
    "\\Paran{\\yb - \\Bb \\mat{\\alpha_0 \\\\ \\beta_0}}\n",
    "}\n",
    "$$"
   ]
  },
  {
   "cell_type": "markdown",
   "metadata": {},
   "source": [
    "$$\n",
    "\\mat{\\alpha_0 \\\\ \\beta_0}\n",
    "=\n",
    "\\inv{\\Paran{\\Bt \\Wb(x_0) \\Bb}} \\Bt \\Wb(x_0) \\yb\n",
    "$$\n",
    "\n",
    "Predictions\n",
    "$$\n",
    "\\hat{f}(x_0) = \n",
    "b(x_0)^T \\inv{\\Paran{\\Bt \\Wb(x_0) \\Bb}} \\Bt \\Wb(x_0) \\yb\n",
    "$$"
   ]
  },
  {
   "cell_type": "code",
   "metadata": {},
   "outputs": [],
   "source": [
    "def loc_poly_reg_matrix(xN, yN, x_0, lamb, deg_poly=2):\n",
    "    N = xN.shape[0]\n",
    "    B = np.ones((N,deg_poly+1))\n",
    "    xN_tmp = xN.reshape(-1,1)\n",
    "    for ix_dim in range(1, deg_poly+1):\n",
    "        B[:,ix_dim:ix_dim+1] = xN_tmp**ix_dim\n",
    "    W_x0 = epanechnikov_kernel(x_train, x_0, lamb)\n",
    "    mat_0 = B.T @ W_x0 @ B\n",
    "    mat_0 += np.random.rand()*np.eye(mat_0.shape[0])\n",
    "    return np.linalg.inv(mat_0) @ B.T @ W_x0 @ yN\n",
    "    "
   ]
  },
  {
   "cell_type": "code",
   "metadata": {},
   "outputs": [],
   "source": [
    "def loc_poly_reg_predictions(x_train, y_train, x_max, lamb, deg_poly=2, num_pts_pred=100):\n",
    "    x_pred = np.linspace(0,x_max,num_pts_pred)\n",
    "    y_pred = np.zeros_like(x_pred)\n",
    "    # form\n",
    "    for ix in range(num_pts_pred):\n",
    "        x_0 = x_pred[ix]\n",
    "        mat1 = loc_poly_reg_matrix(x_train, y_train, x_0, lamb, deg_poly)\n",
    "        x_homo = np.array([x_0**ix_dim for ix_dim in range(deg_poly+1)])\n",
    "        y_pred[ix] = x_homo @ mat1\n",
    "    return (x_pred, y_pred)\n"
   ]
  },
  {
   "cell_type": "code",
   "metadata": {},
   "outputs": [],
   "source": [
    "\n",
    "def lpr_interact(sig_noise=0.3, lamb=1.0, deg_poly=2, plot_all=False):\n",
    "    num_pts, x_max = 100, 6.\n",
    "    x_train = np.random.rand(num_pts)*x_max\n",
    "    x_train.sort()\n",
    "    y_train = np.sin(x_train) + np.random.normal(loc=0.0, scale=sig_noise, size=x_train.shape)\n",
    "    if(plot_all):\n",
    "        lambdas = [0.1,0.5,1.0,1.5,2.0]\n",
    "    else:\n",
    "        lambdas = [lamb]\n",
    "\n",
    "    plt.plot(x_train, y_train, 'og', label='train')\n",
    "    \n",
    "    for lamb in lambdas:\n",
    "        x_pred,y_pred = loc_poly_reg_predictions(x_train,y_train,x_max,\n",
    "                                            lamb=lamb,deg_poly=deg_poly,\n",
    "                                                 num_pts_pred=50)\n",
    "        plt.plot(x_pred, y_pred,\n",
    "                 label='lamb='+str(lamb)+', deg='+str(deg_poly),\n",
    "                 linewidth=2)\n",
    "\n",
    "    plot_sin(x_max)\n",
    "    plt.legend(loc=(1,0.1))\n",
    "    plt.title('Local Polynomial Regression')\n",
    "    plt.show()\n",
    "interact(lpr_interact, sig_noise=(0.1,1,0.1), lamb=(0.1,2,0.1), deg_poly=(2,4))"
   ]
  },
  {
   "cell_type": "markdown",
   "metadata": {},
   "source": [
    "* So, the $\\lambda$ value of local linear regression at which the estimate best approximates the sine is less than that of local polynomial regression.\n",
    "* This is because LPR is quite erractic and exhibits high variance. So to get rid of that, we have to increase the support region ($\\lambda$)\n",
    "* Also, the behaviour at the boundary is quite good"
   ]
  },
  {
   "cell_type": "markdown",
   "metadata": {},
   "source": [
    "# All"
   ]
  },
  {
   "cell_type": "code",
   "metadata": {},
   "outputs": [],
   "source": [
    "def interact_all(sig_noise=0.3, k=10, lamb=0.2):\n",
    "    num_pts, x_max = 100, 5.\n",
    "    x_train = np.random.rand(num_pts)*x_max\n",
    "    x_train.sort()\n",
    "    y_train = np.sin(x_train) + np.random.normal(loc=0.0,\n",
    "                                                 scale=sig_noise,\n",
    "                                                 size=x_train.shape)\n",
    "\n",
    "    x_pred_knn, y_pred_knn = knn_prediction(x_train, y_train, x_max,\n",
    "                                            k=k, num_pts_pred=50)\n",
    "    x_pred_e,y_pred_e = epanechnikov_predictions(x_train,y_train,x_max,\n",
    "                                                 lamb=lamb,num_pts_pred=50)\n",
    "    x_pred_e_llr,y_pred_e_llr = loc_lin_reg_predictions(x_train,y_train,x_max,\n",
    "                                                 lamb=lamb,num_pts_pred=50)\n",
    "\n",
    "    plot_sin(x_max)\n",
    "    plt.plot(x_train, y_train, 'o', label='train')\n",
    "    plt.plot(x_pred_knn, y_pred_knn,label='knn', linewidth=3)\n",
    "    plt.plot(x_pred_e, y_pred_e,label='epanechnikov', linewidth=3)\n",
    "    plt.plot(x_pred_e_llr, y_pred_e_llr,label='llr', linewidth=3)\n",
    "    plt.legend(loc=(1,0.5))\n",
    "    plt.show()\n",
    "interactive(interact_all, sig_noise=(0,1,0.1),k=(5,40,5),lamb=(0.1,2,0.1))"
   ]
  },
  {
   "cell_type": "code",
   "metadata": {},
   "outputs": [],
   "source": []
  },
  {
   "cell_type": "code",
   "metadata": {},
   "outputs": [],
   "source": []
  },
  {
   "cell_type": "code",
   "metadata": {},
   "outputs": [],
   "source": []
  },
  {
   "cell_type": "code",
   "metadata": {},
   "outputs": [],
   "source": []
  },
  {
   "cell_type": "code",
   "metadata": {},
   "outputs": [],
   "source": []
  },
  {
   "cell_type": "markdown",
   "metadata": {},
   "source": []
  }
 ],
 "metadata": {
  "hide_input": false,
  "kernelspec": {
   "display_name": "Python 3",
   "language": "python",
   "name": "python3"
  },
  "language_info": {
   "codemirror_mode": {
    "name": "ipython",
    "version": 3
   },
   "file_extension": ".py",
   "mimetype": "text/x-python",
   "name": "python",
   "nbconvert_exporter": "python",
   "pygments_lexer": "ipython3"
  },
  "latex_envs": {
   "bibliofile": "biblio.bib",
   "cite_by": "apalike",
   "current_citInitial": 1,
   "eqLabelWithNumbers": true,
   "eqNumInitial": 0
  },
  "nav_menu": {},
  "toc": {
   "navigate_menu": true,
   "number_sections": true,
   "sideBar": false,
   "threshold": 6,
   "toc_cell": false,
   "toc_section_display": "block",
   "toc_window_display": true
  },
  "toc_position": {
   "height": "226px",
   "left": "707.672px",
   "right": "20px",
   "top": "120px",
   "width": "241px"
  }
 },
 "nbformat": 4,
 "nbformat_minor": 0
}
