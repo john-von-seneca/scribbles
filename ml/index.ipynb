{
 "cells": [
  {
   "cell_type": "markdown",
   "metadata": {},
   "source": [
    "# Introduction\n",
    "\n",
    "[Introduction](introduction/index.ipynb)\n",
    "\n",
    "1. [Example: Polynomial Curve Fitting](introduction/1-example-polynomial-curve-fitting.ipynb)\n",
    "1. [Probability Theory](introduction/2-probability-theory.ipynb)\n",
    "1. [Model Selection](introduction/3-model-selection.ipynb)\n",
    "1. [Curse of Dimensionality](introduction/4-curse-of-dimensionality.ipynb)\n",
    "1. [Decision Theory](introduction/5-decision-theory.ipynb)\n",
    "1. [Information Theory](introduction/6-information-theory.ipynb)\n",
    "\n"
   ]
  },
  {
   "cell_type": "markdown",
   "metadata": {},
   "source": [
    "# Probability Distributions\n",
    "\n",
    "1. [Binary Variables]()\n",
    "1. [Multinomial Variables]()\n",
    "1. [Gaussian Distribution](probability-distributions/3-gaussian.ipynb)\n",
    "1. [The exponential family](probability-distributions/4-exponential-family.ipynb)\n",
    "1. [Nonparametric methods](probability-distributions/5-nonparametric-methods.ipynb)\n"
   ]
  },
  {
   "cell_type": "markdown",
   "metadata": {},
   "source": [
    "# Linear Models for Regression\n",
    "\n",
    "1. [Linear Basis function models](linear-models-for-regression/linear-basis-function-models.ipynb)\n",
    "1. [The Bias-Variance Decomposition](linear-models-for-regression/bias-variance-decomposition.ipynb)\n",
    "1. [Bayesian Linear Regression](linear-models-for-regression/bayesian-linear-regression.ipynb)\n",
    "1. [Bayesian Model Comparison](linear-models-for-regression/bayesian-model-comparison.ipynb)\n",
    "1. [Evidence Approximation](linear-models-for-regression/evidence-approximation.ipynb)"
   ]
  },
  {
   "cell_type": "markdown",
   "metadata": {},
   "source": [
    "# Linear Models for Classification\n",
    "\n",
    "1. [Discriminant functions](linear-models-for-classification/discriminant-functions.ipynb)\n",
    "1. [Probabilistic Generative Models](linear-models-for-classification/probabilistic-generative-models.ipynb)\n",
    "1. [Probabilistic Discriminative Models](linear-models-for-classification/probabilistic-discriminative-models.ipynb)\n",
    "  1. [IRLS](linear-models-for-classification/pdm-irls.ipynb)\n",
    "  1. [Multiclass logistic regression](linear-models-for-classification/pdm-multiclass.ipynb)\n",
    "1. [The Laplace Approximation](linear-models-for-classification/laplace-approximation.ipynb)\n",
    "1. [Bayesian Logistic Regression](linear-models-for-classification/bayesian-logistic-regression.ipynb)\n"
   ]
  },
  {
   "cell_type": "markdown",
   "metadata": {},
   "source": [
    "# Kernel Methods\n",
    "\n",
    "1. [Dual representations](kernel-methods/dual-representations.ipynb)\n",
    "1. Constructing Kernels\n",
    "1. [Radial Basis Function Networks](kernel-methods/radial-basis-function-networks.ipynb)\n",
    "1. [Gaussian Processes](kernel-methods/gp/index.ipynb)\n",
    "  1. [Linear Regression revisited](kernel-methods/gp/linear-regression-revisited.ipynb)\n",
    "  1. [GP for regression](kernel-methods/gp/gp-for-regression.ipynb)\n",
    "  1. [Learning hyperparamters](kernel-methods/gp/learning-hyperparameters.ipynb)\n",
    "  1. [Automatic relevance determination](kernel-methods/gp/.ipynb)\n",
    "  1. [GP for classification](kernel-methods/gp/.ipynb)\n",
    "  1. [Laplace approximation](kernel-methods/gp/.ipynb)\n",
    "  1. [Connection to neural networks](kernel-methods/gp/.ipynb)\n",
    "\n"
   ]
  },
  {
   "cell_type": "markdown",
   "metadata": {},
   "source": [
    "# Sparse Kernel Machines"
   ]
  },
  {
   "cell_type": "markdown",
   "metadata": {},
   "source": [
    "1. SVM\n",
    "  1. [Burges](sparse-kernel-machines/svm/tutorial-burges.ipynb)"
   ]
  },
  {
   "cell_type": "markdown",
   "metadata": {},
   "source": [
    "[Sampling Methods](sampling-methods/index.ipynb)"
   ]
  },
  {
   "cell_type": "markdown",
   "metadata": {},
   "source": [
    "[Continuous Latent Variables](continuous-latent-variables/index.ipynb)"
   ]
  },
  {
   "cell_type": "markdown",
   "metadata": {},
   "source": [
    "[Sequential Data](sequential-data/index.ipynb)"
   ]
  }
 ],
 "metadata": {
  "hide_input": false,
  "kernelspec": {
   "display_name": "Python 3",
   "language": "python",
   "name": "python3"
  },
  "language_info": {
   "codemirror_mode": {
    "name": "ipython",
    "version": 3
   },
   "file_extension": ".py",
   "mimetype": "text/x-python",
   "name": "python",
   "nbconvert_exporter": "python",
   "pygments_lexer": "ipython3",
   "version": "3.5.2"
  },
  "latex_envs": {
   "bibliofile": "biblio.bib",
   "cite_by": "apalike",
   "current_citInitial": 1,
   "eqLabelWithNumbers": true,
   "eqNumInitial": 0
  },
  "nav_menu": {},
  "toc": {
   "navigate_menu": true,
   "number_sections": true,
   "sideBar": false,
   "threshold": 6,
   "toc_cell": false,
   "toc_section_display": "block",
   "toc_window_display": false
  }
 },
 "nbformat": 4,
 "nbformat_minor": 0
}
