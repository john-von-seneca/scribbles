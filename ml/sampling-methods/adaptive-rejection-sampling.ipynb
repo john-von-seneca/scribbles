{
 "cells": [
  {
   "cell_type": "code",
   "execution_count": 1,
   "metadata": {
    "ExecuteTime": {
     "end_time": "2017-04-24T17:15:19.452770Z",
     "start_time": "2017-04-24T17:15:19.025351Z"
    }
   },
   "outputs": [],
   "source": [
    "import numpy as np\n",
    "from matplotlib import pyplot as plt\n",
    "%matplotlib inline\n",
    "\n",
    "import random as rnd\n",
    "import os\n",
    "import math\n",
    "\n",
    "# required for interactive plotting\n",
    "from __future__ import print_function\n",
    "from ipywidgets import interact, interactive, fixed\n",
    "import ipywidgets as widgets\n",
    "import numpy.polynomial as np_poly\n",
    "\n",
    "from IPython.display import Math\n",
    "from IPython.display import Latex\n",
    "from IPython.display import HTML"
   ]
  },
  {
   "cell_type": "markdown",
   "metadata": {},
   "source": [
    "The construction of the envelope function is much more straightforward\n",
    "if the distribution p(z) is log concave."
   ]
  },
  {
   "cell_type": "markdown",
   "metadata": {},
   "source": [
    "Lets consider Gaussian distribution\n",
    "\n",
    "$$\n",
    "p(z) =\n",
    "\\frac{1}{\\sqrt{2\\pi}}\n",
    "\\exp\n",
    "\\left\\{\n",
    "  -\\frac{(x-\\mu)^2}{2\\sigma^2}\n",
    "\\right\\}\n",
    "$$\n",
    "\n",
    "$$\n",
    "h(z) = \\ln p(z) =\n",
    "-\\frac{1}{2}ln(2\\pi)\n",
    "-\\frac{(x-\\mu)^2}{2\\sigma^2}\n",
    "$$\n",
    "\n",
    "Lets plot these fuckers"
   ]
  },
  {
   "cell_type": "code",
   "execution_count": 2,
   "metadata": {
    "ExecuteTime": {
     "end_time": "2017-04-24T17:15:19.779509Z",
     "start_time": "2017-04-24T17:15:19.454295Z"
    }
   },
   "outputs": [
    {
     "data": {
      "image/png": "[encoded data removed]",
      "text/plain": [
       "<matplotlib.figure.Figure at 0x111467b00>"
      ]
     },
     "metadata": {},
     "output_type": "display_data"
    }
   ],
   "source": [
    "def compute_gaussian(x, mu, sigma):\n",
    "    term1 = 1./(math.sqrt(2 * math.pi))\n",
    "    term2_exp = -(x-mu)**2 /(2*sigma)**2\n",
    "    return term1 * math.e**term2_exp\n",
    "\n",
    "def compute_gaussian_range(x, mu, sigma):\n",
    "    return [compute_gaussian(xx, mu, sigma) for xx in x]\n",
    "\n",
    "def show_gaussian(x_max=5, mu=0, sigma2=0.2):\n",
    "    x = np.linspace(1e-5, x_max, 100)\n",
    "    x = np.append(-x[::-1],x)\n",
    "    sigma2 = max(10e-10, sigma2)\n",
    "    y = compute_gaussian_range(x, mu, math.sqrt(sigma2))\n",
    "    plt.plot(x, y)\n",
    "    plt.show()\n",
    "\n",
    "interactive(show_gaussian, x_max=(0,10), \n",
    "            mu=(-5,5,0.1), sigma2=(0, 2, 0.1))"
   ]
  },
  {
   "cell_type": "code",
   "execution_count": 3,
   "metadata": {
    "ExecuteTime": {
     "end_time": "2017-04-24T17:15:20.076011Z",
     "start_time": "2017-04-24T17:15:19.782081Z"
    }
   },
   "outputs": [
    {
     "data": {
      "image/png": "[encoded data removed]",
      "text/plain": [
       "<matplotlib.figure.Figure at 0x11174e0b8>"
      ]
     },
     "metadata": {},
     "output_type": "display_data"
    }
   ],
   "source": [
    "def compute_gaussian_lc(x, mu, sigma):\n",
    "    term1 = -0.5 * math.log(2 * math.pi)\n",
    "    term2_exp = -(x-mu)**2 /(2*sigma)**2\n",
    "    return term1 + term2_exp\n",
    "\n",
    "def compute_gaussian_lc_range(x, mu, sigma):\n",
    "    return [compute_gaussian_lc(xx, mu, sigma) for xx in x]\n",
    "\n",
    "def show_gaussian_lc(x_max=5, mu=0, sigma2=0.2):\n",
    "    x = np.linspace(1e-5, x_max, 100)\n",
    "    x = np.append(-x[::-1],x)\n",
    "    sigma2 = max(10e-10, sigma2)\n",
    "    y = compute_gaussian_lc_range(x, mu, math.sqrt(sigma2))\n",
    "    plt.plot(x, y)\n",
    "    plt.show()\n",
    "\n",
    "interactive(show_gaussian_lc, x_max=(0,10), \n",
    "            mu=(-5,5,0.1), sigma2=(0, 2, 0.1))"
   ]
  },
  {
   "cell_type": "markdown",
   "metadata": {},
   "source": [
    "\\begin{array}{rlr}\n",
    "y_1 &= m_1 x_1 + c1 \\\\\n",
    "y_2 &= m_2 x_1 + c2 \\\\\n",
    "m_1 x_1 + c_1 &= m_2 x_1 + c_2\\\\\n",
    "(m_1-m_2)x_1 &= c_2 - c_1 \\\\\n",
    "x_1 &= \\frac{c_2 - c_1}{m_1 - m_2} \\\\\n",
    "y_1 &= m_1 \\frac{c_2 - c_1}{m_1 - m_2} + c1\n",
    "\\end{array}"
   ]
  },
  {
   "cell_type": "code",
   "execution_count": 4,
   "metadata": {
    "ExecuteTime": {
     "end_time": "2017-04-24T17:15:20.086006Z",
     "start_time": "2017-04-24T17:15:20.079328Z"
    }
   },
   "outputs": [],
   "source": [
    "def tgt_intersection(tgt1, tgt2):\n",
    "    x1 = (tgt2['c'] - tgt1['c'])/(tgt1['m']-tgt2['m'])\n",
    "    y1 = tgt1['m'] * x1 + tgt1['c']\n",
    "    return (x1, y1)"
   ]
  },
  {
   "cell_type": "markdown",
   "metadata": {},
   "source": [
    "the algo  \n",
    "1. choose a set of grid points, ie, set of points for which we compute ln p(z) and its gradient"
   ]
  },
  {
   "cell_type": "code",
   "execution_count": 5,
   "metadata": {
    "ExecuteTime": {
     "end_time": "2017-04-24T17:15:20.167866Z",
     "start_time": "2017-04-24T17:15:20.088570Z"
    }
   },
   "outputs": [],
   "source": [
    "def tangent_at_pt(fun_p, *args):\n",
    "    x_val = args[0]\n",
    "    y_val = fun_p(*args)\n",
    "    \n",
    "    delta = 0.1\n",
    "    y_val_left  = fun_p(x_val-delta, *args[1:])\n",
    "    y_val_right = fun_p(x_val+delta, *args[1:])\n",
    "    slope = (y_val_right - y_val_left)/(2*delta)\n",
    "    intercept = y_val - slope * x_val\n",
    "    return {'x':x_val, 'y': y_val, 'm': slope, 'c': intercept}\n",
    "\n",
    "def tgt_y(tgt, x):\n",
    "    return [tgt['m']*xx + tgt['c'] for xx in x]\n",
    "\n",
    "def tgt_plt(tgt, x0, x1):\n",
    "    x = np.linspace(x0,x1,100)\n",
    "    plt.plot(x, tgt_y(tgt,x))\n",
    "\n",
    "def plot_segment(tgt1, tgt2):\n",
    "    x1,y1 = tgt_intersection(tgt1, tgt2)\n",
    "    x0, y0 = tgt1['x'], tgt1['y']\n",
    "    x2, y2 = tgt2['x'], tgt2['y']\n",
    "    tgt_plt(tgt1, x0, x1)\n",
    "    tgt_plt(tgt2, x1, x2)\n",
    "    plt.plot(x1,y1,'*')\n",
    "    return (x0,x1)\n",
    "    \n",
    "def plot_segments(tgts):\n",
    "    tgts = sorted(tgts, key=lambda t: t['x'])\n",
    "    # plt grid pts\n",
    "    [plt.plot(t['x'], t['y'],'*') for t in tgts]\n",
    "    pts = [plot_segment(tgts[ix-1], tgts[ix]) for ix in range(1,len(tgts))]\n",
    "    "
   ]
  },
  {
   "cell_type": "code",
   "execution_count": 6,
   "metadata": {
    "ExecuteTime": {
     "end_time": "2017-04-24T17:15:20.175971Z",
     "start_time": "2017-04-24T17:15:20.170526Z"
    }
   },
   "outputs": [],
   "source": [
    "def choose_equally_spaced(pts, in_pts):\n",
    "    return [pts[math.floor(ix)] for ix in np.linspace(0,1,in_pts)*(len(pts)-1)]"
   ]
  },
  {
   "cell_type": "code",
   "execution_count": 7,
   "metadata": {
    "ExecuteTime": {
     "end_time": "2017-04-24T17:15:20.444550Z",
     "start_time": "2017-04-24T17:15:20.179380Z"
    }
   },
   "outputs": [
    {
     "data": {
      "image/png": "[encoded data removed]",
      "text/plain": [
       "<matplotlib.figure.Figure at 0x1117c8630>"
      ]
     },
     "metadata": {},
     "output_type": "display_data"
    }
   ],
   "source": [
    "x_max = 5\n",
    "x = np.linspace(1e-5,x_max,100)\n",
    "x = np.append(-x[::-1], x)\n",
    "\n",
    "mu, sigma = 0, math.sqrt(0.2)\n",
    "\n",
    "#grid_pts = np.random.choice(x, 4)\n",
    "grid_pts = choose_equally_spaced(x, 4)\n",
    "tgts = [tangent_at_pt(compute_gaussian_lc, xx, mu, sigma) for xx in grid_pts]\n",
    "plot_segments(tgts)\n",
    "plt.plot(x, compute_gaussian_lc_range(x, mu, sigma),'-')\n",
    "plt.show()"
   ]
  },
  {
   "cell_type": "code",
   "execution_count": 8,
   "metadata": {
    "ExecuteTime": {
     "end_time": "2017-04-24T17:15:20.454275Z",
     "start_time": "2017-04-24T17:15:20.446836Z"
    }
   },
   "outputs": [
    {
     "name": "stdout",
     "output_type": "stream",
     "text": [
      "Help on built-in function sorted in module builtins:\n",
      "\n",
      "sorted(iterable, /, *, key=None, reverse=False)\n",
      "    Return a new list containing all items from the iterable in ascending order.\n",
      "    \n",
      "    A custom key function can be supplied to customize the sort order, and the\n",
      "    reverse flag can be set to request the result in descending order.\n",
      "\n"
     ]
    }
   ],
   "source": [
    "help(sorted)"
   ]
  },
  {
   "cell_type": "code",
   "execution_count": 9,
   "metadata": {
    "ExecuteTime": {
     "end_time": "2017-04-24T17:15:20.469442Z",
     "start_time": "2017-04-24T17:15:20.458334Z"
    }
   },
   "outputs": [
    {
     "data": {
      "text/plain": [
       "[0, 3, 6, 9, 12, 16, 19, 22, 25, 29]"
      ]
     },
     "execution_count": 9,
     "metadata": {},
     "output_type": "execute_result"
    }
   ],
   "source": [
    "[math.floor(x) for x in np.linspace(0,1,10)*29]"
   ]
  },
  {
   "cell_type": "code",
   "execution_count": 10,
   "metadata": {
    "ExecuteTime": {
     "end_time": "2017-04-24T17:15:20.488560Z",
     "start_time": "2017-04-24T17:15:20.472133Z"
    }
   },
   "outputs": [
    {
     "data": {
      "text/plain": [
       "array([ 0.89473684,  0.42105263,  0.        ,  1.        ,  1.        ])"
      ]
     },
     "execution_count": 10,
     "metadata": {},
     "output_type": "execute_result"
    }
   ],
   "source": [
    "x = np.linspace(0,1,20)\n",
    "np.random.choice(x,5)"
   ]
  },
  {
   "cell_type": "code",
   "execution_count": 11,
   "metadata": {
    "ExecuteTime": {
     "end_time": "2017-04-24T17:15:20.497650Z",
     "start_time": "2017-04-24T17:15:20.490820Z"
    }
   },
   "outputs": [
    {
     "name": "stdout",
     "output_type": "stream",
     "text": [
      "[-5.         -4.55555556 -4.11111111 -3.66666667 -3.22222222 -2.77777778\n",
      " -2.33333333 -1.88888889 -1.44444444 -1.          1.          1.44444444\n",
      "  1.88888889  2.33333333  2.77777778  3.22222222  3.66666667  4.11111111\n",
      "  4.55555556  5.        ]\n"
     ]
    }
   ],
   "source": [
    "x = np.linspace(1,5,10)\n",
    "#print(x)\n",
    "#print(x[::-1])\n",
    "print(np.append(-x[::-1], x))\n"
   ]
  },
  {
   "cell_type": "code",
   "execution_count": 12,
   "metadata": {
    "ExecuteTime": {
     "end_time": "2017-04-24T17:15:20.512062Z",
     "start_time": "2017-04-24T17:15:20.499987Z"
    }
   },
   "outputs": [],
   "source": [
    "def plot_tangent(tgt, x, y_max=1):\n",
    "    y = tgt_y(tgt, x)\n",
    "    ixs = [ix for (ix,yy) in enumerate(y) if yy<=y_max]\n",
    "    y_f = [y[ix] for ix in ixs]\n",
    "    x_f = [x[ix] for ix in ixs]\n",
    "    plt.plot(x_f, y_f)\n",
    "    plt.plot(tgt['x'],tgt['y'],'*')\n"
   ]
  },
  {
   "cell_type": "code",
   "execution_count": null,
   "metadata": {},
   "outputs": [],
   "source": []
  },
  {
   "cell_type": "code",
   "execution_count": null,
   "metadata": {},
   "outputs": [],
   "source": []
  },
  {
   "cell_type": "code",
   "execution_count": null,
   "metadata": {},
   "outputs": [],
   "source": []
  }
 ],
 "metadata": {
  "hide_input": false,
  "kernelspec": {
   "display_name": "Python 3",
   "language": "python3",
   "name": "python3"
  },
  "language_info": {
   "codemirror_mode": {
    "name": "ipython",
    "version": 3
   },
   "file_extension": ".py",
   "mimetype": "text/x-python",
   "name": "python",
   "nbconvert_exporter": "python",
   "pygments_lexer": "ipython3",
   "version": "3.6.1"
  },
  "latex_envs": {
   "bibliofile": "biblio.bib",
   "cite_by": "apalike",
   "current_citInitial": 1,
   "eqLabelWithNumbers": true,
   "eqNumInitial": 0
  },
  "toc": {
   "colors": {
    "hover_highlight": "#DAA520",
    "running_highlight": "#FF0000",
    "selected_highlight": "#FFD700"
   },
   "moveMenuLeft": true,
   "nav_menu": {
    "height": "12px",
    "width": "252px"
   },
   "navigate_menu": true,
   "number_sections": true,
   "sideBar": true,
   "threshold": 4,
   "toc_cell": false,
   "toc_section_display": "block",
   "toc_window_display": false,
   "widenNotebook": false
  }
 },
 "nbformat": 4,
 "nbformat_minor": 1
}
