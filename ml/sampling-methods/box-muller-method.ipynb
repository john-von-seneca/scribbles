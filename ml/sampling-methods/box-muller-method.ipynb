{
 "cells": [
  {
   "cell_type": "code",
   "metadata": {},
   "outputs": [],
   "source": [
    "import numpy as np\n",
    "from matplotlib import pyplot as plt\n",
    "%matplotlib inline\n",
    "\n",
    "import random as rnd\n",
    "import os\n",
    "import math\n",
    "\n",
    "# required for interactive plotting\n",
    "from __future__ import print_function\n",
    "from ipywidgets import interact, interactive, fixed\n",
    "import ipywidgets as widgets\n",
    "import numpy.polynomial as np_poly\n",
    "\n",
    "from IPython.display import Math\n",
    "from IPython.display import Latex\n",
    "from IPython.display import HTML"
   ]
  },
  {
   "cell_type": "markdown",
   "metadata": {},
   "source": [
    "Check the perf of system random"
   ]
  },
  {
   "cell_type": "code",
   "metadata": {},
   "outputs": [],
   "source": [
    "y=rnd.SystemRandom(5)\n",
    "def check_random_stats(power_of_ten=1):\n",
    "    z_sys = [y.random() for _ in range(10**power_of_ten)]\n",
    "    z_ran = [rnd.random() for _ in range(10**power_of_ten)]\n",
    "    plt.plot(sorted(z_sys), label='system-random')\n",
    "    plt.plot(sorted(z_ran), label='ordinary-random')\n",
    "    plt.legend(loc='upper left')\n",
    "    plt.show()\n",
    "interactive(check_random_stats,power_of_ten=(1,10))"
   ]
  },
  {
   "cell_type": "markdown",
   "metadata": {},
   "source": [
    "sample values in the range(-1,+1)"
   ]
  },
  {
   "cell_type": "code",
   "metadata": {},
   "outputs": [],
   "source": [
    "y = rnd.SystemRandom(25)\n",
    "z = [rnd.random()*2-1 for _ in range(5*10**3)]\n",
    "print(\"min: \", min(z), \" max: \", max(z))\n",
    "z1,z2 = z[:len(z)//2], z[len(z)//2:]\n",
    "z1_s = [zz1**2 for zz1 in z1]\n",
    "z2_s = [zz2**2 for zz2 in z2]\n",
    "pts_inside1 = sum([1 for zz1 in z1_s for zz2 in z2_s if (zz1+zz2)<=1 ])\n",
    "\n",
    "print(\"#total pts: \", len(z1)*len(z2))\n",
    "print(\"#pts inside:: \", pts_inside, pts_inside1, pts_inside2)\n",
    "print(\" prob: \", pts_inside1/(len(z1)*len(z2)))\n",
    "print(\"1/pi\", 1./math.pi, \" pi/4: \", math.pi/4.)"
   ]
  },
  {
   "cell_type": "code",
   "metadata": {},
   "outputs": [],
   "source": [
    "pts_inside, pts_total = 0, 5*10**3\n",
    "for _ in range(pts_total):\n",
    "    z1, z2 = 2*rnd.random()-1, 2*rnd.random()-1\n",
    "    if (z1**2+z2**2<=1):\n",
    "        pts_inside += 1\n",
    "\n",
    "print(\"pts_inside: \", pts_inside, \" total: \", pts_total)\n",
    "print(\"prob: \", pts_inside/float(pts_total))\n",
    "print(\"expected (pi/4): \", math.pi/4.)"
   ]
  },
  {
   "cell_type": "code",
   "metadata": {},
   "outputs": [],
   "source": []
  },
  {
   "cell_type": "code",
   "metadata": {},
   "outputs": [],
   "source": []
  },
  {
   "cell_type": "code",
   "metadata": {},
   "outputs": [],
   "source": []
  }
 ],
 "metadata": {
  "hide_input": false,
  "kernelspec": {
   "display_name": "Python 3",
   "language": "python",
   "name": "python3"
  },
  "language_info": {
   "codemirror_mode": {
    "name": "ipython",
    "version": 3
   },
   "file_extension": ".py",
   "mimetype": "text/x-python",
   "name": "python",
   "nbconvert_exporter": "python",
   "pygments_lexer": "ipython3"
  },
  "latex_envs": {
   "bibliofile": "biblio.bib",
   "cite_by": "apalike",
   "current_citInitial": 1,
   "eqLabelWithNumbers": true,
   "eqNumInitial": 0
  }
 },
 "nbformat": 4,
 "nbformat_minor": 0
}
