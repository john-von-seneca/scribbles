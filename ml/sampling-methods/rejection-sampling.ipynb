{
 "cells": [
  {
   "cell_type": "code",
   "metadata": {},
   "outputs": [],
   "source": [
    "import numpy as np\n",
    "from matplotlib import pyplot as plt\n",
    "%matplotlib inline\n",
    "\n",
    "import random as rnd\n",
    "import os\n",
    "import math\n",
    "\n",
    "# required for interactive plotting\n",
    "from __future__ import print_function\n",
    "from ipywidgets import interact, interactive, fixed\n",
    "import ipywidgets as widgets\n",
    "import numpy.polynomial as np_poly\n",
    "\n",
    "from IPython.display import Math\n",
    "from IPython.display import Latex\n",
    "from IPython.display import HTML"
   ]
  },
  {
   "cell_type": "markdown",
   "metadata": {},
   "source": [
    "Rejection Sampling\n",
    "==================="
   ]
  },
  {
   "cell_type": "markdown",
   "metadata": {},
   "source": [
    "Overview\n",
    "---------\n",
    "Suppose we wish to sample from p(z) and assume that sampling from p(z) is difficult.  \n",
    "Define a simpler distribution q(z), called *proposal distribution*, from which we can sample readily.  \n",
    "Introduce a constant *k* such that $kq(z) \\ge \\tilde{p}(z)$ for all values of z.  \n",
    "\n",
    "1. Generate a number $z_0$ from q(z).  \n",
    "1. Generate a number $u_0$ from the uniform distribution [0, $kq(z_0)$]. that is, from the vertical line at $z_0$.  \n",
    "  1. this pair, $(z_0, u_0)$ has a uniform distribution under kq(z)\n",
    "1. If $u_0 \\gt \\tilde(p)(z_0)$, reject the sample, else retain it."
   ]
  },
  {
   "cell_type": "markdown",
   "metadata": {},
   "source": [
    "Proof\n",
    "-----\n",
    "\n",
    "Original values are generated from the distribution q(z).  \n",
    "Such samples are accepted with a probability $\\tilde{p}(z)) / kq(z)$  \n",
    "\n",
    "Hence the probability that the sample will be accepted is given by  \n",
    "\\begin{array}{llr}\n",
    "p(\\text{accept})\n",
    "&=\n",
    "\\displaystyle \\int \\left\\{ \\frac{\\tilde{p}(z)}{kq(z)} \\right\\} q(z) dz\n",
    "\\\\ &=\n",
    "\\displaystyle \\frac{1}{k} \\int \\tilde{p}(z) dz \n",
    "\\end{array}"
   ]
  },
  {
   "cell_type": "markdown",
   "metadata": {},
   "source": [
    "Illustration\n",
    "---------------\n",
    "\n",
    "Consider the [gamma distribution](/notebooks/all-of-statistics/2-random-variables.ipynb#Gamma-distribution),\n",
    "$$\n",
    "\\text{Gam}(z \\mid a,b)\n",
    "=\n",
    "\\frac{b^a ~z^{a-1}\\exp(-bz)}{\\Gamma(a)}\n",
    "$$"
   ]
  },
  {
   "cell_type": "code",
   "metadata": {
    "code_folding": []
   },
   "outputs": [],
   "source": [
    "def compute_gamma(z, a, b):\n",
    "    #nr = (b**a) * (z**(a-1)) * (math.e**(-b*z))\n",
    "    z = max(10e-5, z)\n",
    "    log_nr = a*math.log(b) + (a-1)*math.log(z) - (b*z)\n",
    "    nr = math.e**log_nr\n",
    "    dr = math.gamma(a)\n",
    "    return nr / dr\n",
    "\n",
    "def compute_gamma_all(x, a=24, b=2):\n",
    "    return [compute_gamma(xx, a, b) for xx in x]\n",
    "    \n",
    "def show_gamma(a=24, b=2, x_max=30):\n",
    "    x = np.linspace(1e-5, x_max, 100)\n",
    "    y = compute_gamma_all(x,a,b)\n",
    "    plt.plot(x, y)\n",
    "    plt.show()\n",
    "\n",
    "# as alpha increases, the hill moves to the right and \n",
    "# also, the peak becomes short => the spread increases\n",
    "# as beta increases, the hill slides to the left and\n",
    "# the peak goes up\n",
    "# alpha and beta have the opposite effects\n",
    "interact(show_gamma, a=(1,100), b=(1, 50), x_max=(0,100))"
   ]
  },
  {
   "cell_type": "markdown",
   "metadata": {},
   "source": [
    "Cauchy distribution\n",
    "-------------------\n",
    "\n",
    "$$\n",
    "p(x ; x_0, \\gamma)\n",
    "=\n",
    "\\left(\n",
    "   \\pi \\gamma\n",
    "   \\left[\n",
    "     1+\n",
    "      \\left(\n",
    "        \\frac{x-x_0}{\\gamma}\n",
    "      \\right)^2\n",
    "    \\right]\n",
    "\\right)^{-1}\n",
    "$$"
   ]
  },
  {
   "cell_type": "code",
   "metadata": {},
   "outputs": [],
   "source": [
    "def compute_cauchy(x, x0, gamma):\n",
    "    term1 = math.pi * gamma\n",
    "    term2 = 1 + ((x-x0)/gamma)**2\n",
    "    return 1./(term1 * term2)\n",
    "\n",
    "def compute_cauchy_all(x, x0, gamma):\n",
    "    return [compute_cauchy(xx, x0, gamma) for xx in x]\n",
    "\n",
    "def show_cauchy(gamma=0.5, x0=0, x_max=5):\n",
    "    x = np.linspace(-x_max, x_max, 100)\n",
    "    y = compute_cauchy_all(x, x0, gamma)\n",
    "    plt.plot(x, y)\n",
    "    plt.show()\n",
    "\n",
    "# as alpha increases, the hill moves to the right and \n",
    "# also, the peak becomes short => the spread increases\n",
    "# as beta increases, the hill slides to the left and\n",
    "# the peak goes up\n",
    "# alpha and beta have the opposite effects\n",
    "interact(show_cauchy, gamma=(0,5,0.1), x0=(-5, 5), x_max=(0,100))"
   ]
  },
  {
   "cell_type": "markdown",
   "metadata": {},
   "source": [
    "CDF of Cauchy is\n",
    "\n",
    "$$\n",
    "y\n",
    "=\n",
    "\\frac{1}{\\pi}\n",
    "\\arctan \\left( \\frac{x-x_0}{\\gamma} \\right)\n",
    "+\n",
    "\\frac{1}{2}\n",
    "$$\n",
    "Note that $y \\in [0,1]$\n",
    "\n",
    "Then,\n",
    "$$\n",
    "x = \\gamma \\tan(\\pi(y-0.5)) + x_0\n",
    "$$\n",
    "\n",
    "Assume $\\gamma = 1, x_0 = 0$  \n",
    "Then\n",
    "$$\n",
    "z = \\tan \\left(\\pi(y - 0.5)\\right)\n",
    "$$"
   ]
  },
  {
   "cell_type": "code",
   "metadata": {},
   "outputs": [],
   "source": [
    "pmtrs_gamma = {'a': 24, 'b': 2}\n",
    "pmtrs_cauchy = {'x0': pmtrs_gamma['a'],\n",
    "                'gamma': math.sqrt(2*pmtrs_gamma['a']-1)}\n",
    "\n",
    "x0, gamma = pmtrs_cauchy['x0'], pmtrs_cauchy['gamma']\n",
    "\n",
    "x_range = np.linspace(1e-5,30,1000)\n",
    "y_gamma = compute_gamma_all(x_range, pmtrs_gamma['a'], pmtrs_gamma['b'])\n",
    "y_cauchy = compute_cauchy_all(x_range, x0, gamma)\n",
    "\n",
    "# finding k\n",
    "ratios = np.divide(y_gamma, y_cauchy)\n",
    "k = max(ratios)+1.\n",
    "print('k:', k)\n",
    "\n",
    "# values of cauchy's cdf\n",
    "y = [rnd.random() for _ in range(100)]\n",
    "\n",
    "for yy in y:\n",
    "    # value of z such that cauchy_pdf(z)==y\n",
    "    z = gamma * math.tan(math.pi * (yy-0.5)) + x0\n",
    "    q_z = compute_cauchy(z, x0, gamma)\n",
    "    k_q_z = k * q_z\n",
    "\n",
    "    # find u_0 in ([0, kq(z_0)])\n",
    "    u0 = rnd.random()*k_q_z\n",
    "    p_z = compute_gamma(z, pmtrs_gamma['a'], pmtrs_gamma['b'])\n",
    "    \n",
    "    if (p_z > k_q_z):\n",
    "        print('fucked z: {0}, p_z: {1}'\n",
    "              ',q_z: {2} k_q_z: {3}'.format(z, p_z, q_z, k_q_z ))\n",
    "        break\n",
    "print(pmtrs_cauchy)\n",
    "y_cauchy_k = [k*yy_cauchy for yy_cauchy in y_cauchy]\n",
    "plt.plot(x_range, y_gamma, label='gamma')\n",
    "plt.plot(x_range, y_cauchy_k, label='k*cauchy')\n",
    "plt.legend(loc='upper left')\n",
    "plt.show()"
   ]
  },
  {
   "cell_type": "markdown",
   "metadata": {},
   "source": [
    "$$\n",
    "q(z) = \\frac{k}{1 + (z-c)^2/b^2}\n",
    "$$\n",
    "\n",
    "The minimum reject rate is obtained by setting $c = a − 1, b^2 = 2a − 1$ and choosing the constant k to be as small as possible while still satisfying the requirement $kq(z) \\ge \\tilde{p}(z)$  "
   ]
  },
  {
   "cell_type": "markdown",
   "metadata": {},
   "source": [
    "$$\n",
    "p(x ; x_0, \\gamma)\n",
    "=\n",
    "\\left(\n",
    "   \\pi \\gamma\n",
    "   \\left[\n",
    "     1+\n",
    "      \\left(\n",
    "        \\frac{x-x_0}{\\gamma}\n",
    "      \\right)^2\n",
    "    \\right]\n",
    "\\right)^{-1}\n",
    "$$\n",
    "\n",
    "$$\n",
    "\\text{Gam}(z \\mid a,b)\n",
    "=\n",
    "\\frac{b^a ~z^{a-1}\\exp(-bz)}{\\Gamma(a)}\n",
    "$$"
   ]
  },
  {
   "cell_type": "code",
   "metadata": {},
   "outputs": [],
   "source": [
    "def compute_cauchy(z, z_0, gamma):\n",
    "    term1 = math.pi * gamma\n",
    "    term2 = 1 + ((z-z_0)/gamma)**2\n",
    "    return 1./(term1 * term2)\n",
    "def compute_q(z, k, b_sqrd, c):\n",
    "    den = 1. + (z-c)**2/b_sqrd\n",
    "    return k / den\n",
    "def compute_gamma(z, a, b, normalize=True):\n",
    "    return (b**a) * (z**(a-1)) * (math.e**(-b*z)) / math.gamma(a)"
   ]
  },
  {
   "cell_type": "code",
   "metadata": {},
   "outputs": [],
   "source": [
    "x = np.linspace(0, 30, 100)\n",
    "a,b = 10, 1\n",
    "k_low, k = 0., 1.\n",
    "y_gamma = np.array([compute_gamma(xx, a, b) for xx in x])\n",
    "y_cauchy = np.array([compute_cauchy(xx, a-1, math.sqrt(2*a-1)) for xx in x])\n",
    "y_cauchy_mod = np.array([compute_q(xx, k, b_sqrd, c) for xx in x])\n",
    "for _ in range(42):\n",
    "    if np.all(k*y_cauchy > y_gamma):\n",
    "        k = (k+k_low)/2.\n",
    "    else:\n",
    "        k_low = k\n",
    "        k = k_low + k/2.\n",
    "plt.plot(x, y_gamma, label='gamma')\n",
    "plt.plot(x, k*y_cauchy, label='k cachy_mod')\n",
    "plt.legend()\n",
    "plt.show()"
   ]
  },
  {
   "cell_type": "code",
   "metadata": {},
   "outputs": [],
   "source": [
    "k*y_cauchy_mod > y_gamma"
   ]
  },
  {
   "cell_type": "code",
   "metadata": {},
   "outputs": [],
   "source": [
    "np.all( k*y_cauchy_mod > y_gamma)"
   ]
  },
  {
   "cell_type": "code",
   "metadata": {},
   "outputs": [],
   "source": [
    "compute_gamma??"
   ]
  },
  {
   "cell_type": "code",
   "metadata": {},
   "outputs": [],
   "source": []
  }
 ],
 "metadata": {
  "hide_input": false,
  "kernelspec": {
   "display_name": "Python 3",
   "language": "python3",
   "name": "python3"
  },
  "language_info": {
   "codemirror_mode": {
    "name": "ipython",
    "version": 3
   },
   "file_extension": ".py",
   "mimetype": "text/x-python",
   "name": "python",
   "nbconvert_exporter": "python",
   "pygments_lexer": "ipython3"
  },
  "latex_envs": {
   "bibliofile": "biblio.bib",
   "cite_by": "apalike",
   "current_citInitial": 1,
   "eqLabelWithNumbers": true,
   "eqNumInitial": 0
  },
  "toc": {
   "colors": {
    "hover_highlight": "#DAA520",
    "running_highlight": "#FF0000",
    "selected_highlight": "#FFD700"
   },
   "moveMenuLeft": true,
   "nav_menu": {
    "height": "103px",
    "width": "252px"
   },
   "navigate_menu": true,
   "number_sections": true,
   "sideBar": true,
   "threshold": 4,
   "toc_cell": false,
   "toc_section_display": "block",
   "toc_window_display": false,
   "widenNotebook": false
  }
 },
 "nbformat": 4,
 "nbformat_minor": 1
}
