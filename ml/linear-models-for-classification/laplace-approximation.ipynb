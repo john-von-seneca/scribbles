{
 "cells": [
  {
   "cell_type": "code",
   "execution_count": 2,
   "metadata": {
    "collapsed": false,
    "run_control": {
     "frozen": false,
     "read_only": false
    }
   },
   "outputs": [],
   "source": [
    "import numpy as np\n",
    "from matplotlib import pyplot as plt\n",
    "%matplotlib inline\n",
    "\n",
    "import random as rnd\n",
    "import os\n",
    "import math\n",
    "\n",
    "# required for interactive plotting\n",
    "from __future__ import print_function\n",
    "from ipywidgets import interact, interactive, fixed\n",
    "import ipywidgets as widgets\n",
    "import numpy.polynomial as np_poly\n",
    "\n",
    "from IPython.display import Math\n",
    "from IPython.display import Latex\n",
    "from IPython.display import HTML\n",
    "\n",
    "from pprint import pprint\n",
    "import functools as ft"
   ]
  },
  {
   "cell_type": "markdown",
   "metadata": {},
   "source": [
    "initialization\n",
    "$\n",
    "\\newcommand{\\Brace}[1]{\\left\\{#1\\right\\}}\n",
    "\\newcommand{\\Bracket}[1]{\\left[#1\\right]}\n",
    "\\newcommand{\\cases}[1]{\\begin{cases}#1\\end{cases}}\n",
    "\\newcommand{\\cov}[1]{\\text{cov} \\sigma\\left[#1\\right]}\n",
    "\\newcommand{\\diff}[2]{\\frac{d #1}{d #2}}\n",
    "\\newcommand{\\difftwo}[2]{\\frac{d^2 #1}{d {#2}^2}}\n",
    "\\newcommand{\\diffn}[2]{{#1}^{\\prime}(#2)}\n",
    "\\newcommand{\\E}[1]{\\mathbb{E}\\left[ #1 \\right]}\n",
    "\\newcommand{\\expb}[1]{\\exp\\left\\{#1\\right\\}} \n",
    "\\newcommand{\\EXP}[1]{\\exp\\left\\{#1\\right\\}} \n",
    "\\newcommand{\\frachalf}[1]{\\frac{#1}{2}}\n",
    "\\newcommand{\\fracone}[1]{\\frac{1}{#1}}\n",
    "\\newcommand{\\fracrec}[1]{\\frac{1}{#1}}\n",
    "\\newcommand{\\half}{\\fracone{2}}\n",
    "\\newcommand{\\H}[1]{\\mathbb{H}\\left[#1\\right]}\n",
    "\\newcommand{\\Int}[2]{\\displaystyle \\int_{#1}^{#2}}\n",
    "\\newcommand{\\inv}[1]{#1^{-1}}\n",
    "\\newcommand{\\invp}[1]{\\left({#1}\\right)^{-1}}\n",
    "\\newcommand{\\KL}[2]{\\text{KL}\\left(#1 \\Vert #2\\right)}\n",
    "\\newcommand{\\Lim}[1]{\\displaystyle \\lim_{#1}}\n",
    "\\newcommand{\\Ln}[1]{\\ln \\left\\(#1\\right\\)}\n",
    "\\newcommand{\\Lnb}[1]{\\ln \\left\\{#1\\right\\} }\n",
    "\\newcommand{\\Mod}[1]{\\left|#1\\right|}\n",
    "\\newcommand{\\Norm}[1]{\\left\\lVert #1 \\right\\rVert}\n",
    "\\newcommand{\\Normsqr}[1]{\\Norm{#1}^2}\n",
    "\\newcommand{\\map}[1]{#1_{\\text{MAP}}}\n",
    "\\newcommand{\\ml}[1]{#1_{\\text{ML}}}\n",
    "\\newcommand{\\MI}[1]{\\mathcal{I}\\left(#1\\right)}\n",
    "\\newcommand{\\P}{\\mathbb{P}}\n",
    "\\newcommand{\\Paran}[1]{\\left(#1\\right)}\n",
    "\\newcommand{\\Partial}[2]{\\frac{\\partial #1}{\\partial #2}}\n",
    "\\newcommand{\\sqrbrkt}[1]{\\Bracket{#1}^2}\n",
    "\\newcommand{\\sqrbrc}[1]{\\Brace{#1}^2}\n",
    "\\newcommand{\\trace}[1]{\\text{Tr}\\left( #1 \\right)}\n",
    "\\newcommand{\\traceb}[1]{\\text{Tr}\\left\\{#1\\right\\}}\n",
    "\\newcommand{\\underl}[1]{\\text{$\\underline{#1}$}}\n",
    "\\newcommand{\\V}[1]{\\mathbb{V}\\left[#1\\right]}\n",
    "$\n",
    "$\n",
    "\\DeclareMathOperator*{\\argmin}{arg\\,min}\n",
    "\\DeclareMathOperator*{\\argmax}{arg\\,max}\n",
    "$\n",
    "$\n",
    "\\newcommand{\\mat}[1]{ \\left[ \\begin{matrix} #1 \\end{matrix} \\right] }\n",
    "\\newcommand{\\matp}[1]{ \\left( \\begin{matrix} #1 \\end{matrix} \\right)}\n",
    "\\newcommand{\\mats}[1]{ \\begin{matrix}#1\\end{matrix} }\n",
    "\\newcommand{\\arrthree}[1]{\n",
    "\\begin{array}{rlr} #1 \\end{array}}\n",
    "$"
   ]
  },
  {
   "cell_type": "markdown",
   "metadata": {},
   "source": [
    "$\n",
    "\\newcommand{\\C}{\\mathbb{C}}\n",
    "\\newcommand{\\Ca}{\\mathcal{C}}\n",
    "\\newcommand{\\Caone}{\\Ca_1}\n",
    "\\newcommand{\\Catwo}{\\Ca_2}\n",
    "\\newcommand{\\Cak}{\\Ca_k}\n",
    "\\newcommand{\\D}{\\mathcal{D}}\n",
    "\\newcommand{\\G}{\\mathcal{G}}\n",
    "\\newcommand{\\I}{\\mathcal{I}}\n",
    "\\newcommand{\\L}{\\mathcal{L}}\n",
    "\\newcommand{\\M}{\\mathcal{M}}\n",
    "\\newcommand{\\N}{\\mathbb{N}}\n",
    "\\newcommand{\\R}{\\mathbb{R}}\n",
    "\\newcommand{\\Ra}{\\mathcal{R}}\n",
    "$\n",
    "$\n",
    "\\newcommand{\\commentgray}[1]{\\color{gray}{\\text{#1}}}\n",
    "$"
   ]
  },
  {
   "cell_type": "markdown",
   "metadata": {},
   "source": [
    "sum, product\n",
    "$\n",
    "\\newcommand{\\sumi}{\\displaystyle \\sum_i}\n",
    "\\newcommand{\\sumiD}{\\displaystyle \\sum_{i=1}^{D}}\n",
    "\\newcommand{\\sumiL}{\\displaystyle \\sum_{i=1}^{L}}\n",
    "\\newcommand{\\sumiN}{\\displaystyle \\sum_{i=1}^{N}}\n",
    "\\newcommand{\\sumjD}{\\displaystyle \\sum_{j=1}^{D}}\n",
    "\\newcommand{\\sumjK}{\\displaystyle \\sum_{j=1}^{K}}\n",
    "\\newcommand{\\sumjMl}{\\sum_{j=1}^{M-1}}\n",
    "\\newcommand{\\sumkK}{\\displaystyle \\sum_{k=1}^{K}}\n",
    "\\newcommand{\\sumkM}{\\displaystyle \\sum_{k=1}^{M}}\n",
    "\\newcommand{\\sumkMl}{\\sum_{k=1}^{M-1}}\n",
    "\\newcommand{\\summN}{\\displaystyle \\sum_{m=1}^{N}}\n",
    "\\newcommand{\\sumnN}{\\displaystyle \\sum_{n=1}^{N}}\n",
    "$\n",
    "$\n",
    "\\newcommand{\\prodi}{\\displaystyle \\prod_i}\n",
    "\\newcommand{\\prodiD}{\\displaystyle \\prod_{i=1}^{D}}\n",
    "\\newcommand{\\prodiL}{\\displaystyle \\prod_{i=1}^{L}}\n",
    "\\newcommand{\\prodiN}{\\displaystyle \\prod_{i=1}^{N}}\n",
    "\\newcommand{\\prodjK}{\\displaystyle \\prod_{j=1}^{K}}\n",
    "\\newcommand{\\prodkK}{\\displaystyle \\prod_{k=1}^{K}}\n",
    "\\newcommand{\\prodmN}{\\displaystyle \\prod_{m=1}^{N}}\n",
    "\\newcommand{\\prodnN}{\\displaystyle \\prod_{n=1}^{N}}\n",
    "$"
   ]
  },
  {
   "cell_type": "markdown",
   "metadata": {},
   "source": [
    "alphabet shortcuts\n",
    "$\n",
    "\\newcommand{\\ab}{\\mathbf{a}}\n",
    "\\newcommand{\\Ab}{\\mathbf{A}}\n",
    "\\newcommand{\\At}{\\Ab^T}\n",
    "\\newcommand{\\Ai}{\\inv{\\Ab}}\n",
    "\\newcommand{\\Abjk}{\\Ab_{jk}}\n",
    "\\newcommand{\\bb}{\\mathbf{b}}\n",
    "\\newcommand{\\bt}{\\bb^T}\n",
    "\\newcommand{\\Bb}{\\mathbf{B}}\n",
    "\\newcommand{\\Bt}{\\Bb^T}\n",
    "\\newcommand{\\Cb}{\\mathbf{C}}\n",
    "\\newcommand{\\Db}{\\mathbf{D}}\n",
    "\\newcommand{\\fb}{\\mathbf{f}}\n",
    "\\newcommand{\\fp}{f^{\\prime}}\n",
    "\\newcommand{\\Hb}{\\mathbf{H}}\n",
    "\\newcommand{\\hx}{h(\\xb)}\n",
    "\\newcommand{\\Jb}{\\mathbf{J}}\n",
    "\\newcommand{\\Kb}{\\mathbf{K}}\n",
    "\\newcommand{\\Lb}{\\mathbf{L}}\n",
    "\\newcommand{\\Lt}{\\Lb^T}\n",
    "\\newcommand{\\Lbi}{\\Lb^{-1}}\n",
    "\\newcommand{\\mb}{\\mathbf{m}}\n",
    "\\newcommand{\\mt}{\\mb^T}\n",
    "\\newcommand{\\mbn}{\\mb_N}\n",
    "\\newcommand{\\mbnt}{\\mbn^T}\n",
    "\\newcommand{\\mbN}{\\mb_N}\n",
    "\\newcommand{\\mbNt}{\\mbn^T}\n",
    "\\newcommand{\\Mb}{\\mathbf{M}}\n",
    "\\newcommand{\\Qb}{\\mathbf{Q}}\n",
    "\\newcommand{\\Rb}{\\mathbf{R}}\n",
    "\\newcommand{\\sb}{\\mathbf{s}}\n",
    "\\newcommand{\\Sb}{\\mathbf{S}}\n",
    "\\newcommand{\\tb}{\\mathbf{t}}\n",
    "\\newcommand{\\tt}{\\tb^T}\n",
    "\\newcommand{\\Tb}{\\mathbf{T}}\n",
    "\\newcommand{\\Tt}{\\Tb^T}\n",
    "\\newcommand{\\ub}{\\mathbf{u}}\n",
    "\\newcommand{\\Ub}{\\mathbf{U}}\n",
    "\\newcommand{\\Ut}{\\Ub^T}\n",
    "\\newcommand{\\vb}{\\mathbf{v}}\n",
    "\\newcommand{\\Vb}{\\mathbf{V}}\n",
    "\\newcommand{\\wb}{\\mathbf{w}}\n",
    "\\newcommand{\\wnr}[1]{\\wb^{(\\text{#1})}}\n",
    "\\newcommand{\\wt}{\\wb^T}\n",
    "\\newcommand{\\Wb}{\\mathbf{W}}\n",
    "\\newcommand{\\Wt}{\\Wb^T}\n",
    "\\newcommand{\\Wtilde}{\\widetilde{\\Wb}}\n",
    "\\newcommand{\\Wtildet}{\\Wtilde^T}\n",
    "\\newcommand{\\Xb}{\\mathbf{X}}\n",
    "\\newcommand{\\Xt}{\\Xb^T}\n",
    "\\newcommand{\\Xtilde}{\\widetilde{\\Xb}}\n",
    "\\newcommand{\\Xtildet}{\\Xtilde^T}\n",
    "\\newcommand{\\xb}{\\mathbf{x}}\n",
    "\\newcommand{\\xt}{\\xb^T}\n",
    "\\newcommand{\\xtilde}{\\widetilde{\\xb}}\n",
    "\\newcommand{\\xtilden}{\\xtilde_n}\n",
    "\\newcommand{\\xtildent}{\\xtilden^T}\n",
    "\\newcommand{\\xp}{x^{\\prime}}\n",
    "\\newcommand{\\xbp}{\\xb^{\\prime}}\n",
    "\\newcommand{\\xbm}{\\xb_m}\n",
    "\\newcommand{\\xbn}{\\xb_n}\n",
    "\\newcommand{\\xab}{\\mathbf{x_a}}\n",
    "\\newcommand{\\xabt}{\\mathbf{x_a}^T}\n",
    "\\newcommand{\\xbb}{\\mathbf{x_b}}\n",
    "\\newcommand{\\xbbt}{\\mathbf{x_b}^T}\n",
    "\\newcommand{\\yb}{\\mathbf{y}}\n",
    "\\newcommand{\\yt}{\\yb^T}\n",
    "\\newcommand{\\yx}{y(\\xb)}\n",
    "\\newcommand{\\zb}{\\mathbf{z}}\n",
    "\\newcommand{\\zt}{\\zb^T}\n",
    "\\newcommand{\\zbm}{\\zb_m}\n",
    "\\newcommand{\\zbn}{\\zb_n}\n",
    "\\newcommand{\\zbnp}{\\zb_{n-1}}\n",
    "\\newcommand{\\znk}{\\zb_{nk}}\n",
    "\\newcommand{\\znpj}{\\zb_{n-1,j}}\n",
    "\\newcommand{\\Zb}{\\mathbf{Z}}\n",
    "$"
   ]
  },
  {
   "cell_type": "markdown",
   "metadata": {},
   "source": [
    "math shortcuts\n",
    "$\n",
    "\\newcommand{\\chib}{\\boldsymbol{\\chi}}\n",
    "\\newcommand{\\etab}{\\pmb{\\eta}}\n",
    "\\newcommand{\\etat}{\\eta^T}\n",
    "\\newcommand{\\etabt}{\\etab^T}\n",
    "\\newcommand{\\Lambdab}{\\pmb{\\Lambda}}\n",
    "\\newcommand{\\laa}{\\Lambda_{aa}}\n",
    "\\newcommand{\\laai}{\\Lambda_{aa}^{-1}}\n",
    "\\newcommand{\\lab}{\\Lambda_{ab}}\n",
    "\\newcommand{\\lba}{\\Lambda_{ba}}\n",
    "\\newcommand{\\lbb}{\\Lambda_{bb}}\n",
    "\\newcommand{\\lbbi}{\\Lambda_{bb}^{-1}}\n",
    "\\newcommand{\\li}{\\Lambda^{-1}}\n",
    "\\newcommand{\\Li}{\\Lambda^{-1}}\n",
    "\\newcommand{\\mub}{\\pmb{\\mu}}\n",
    "\\newcommand{\\mut}{\\mub^T}\n",
    "\\newcommand{\\muab}{\\pmb{\\mu}_a}\n",
    "\\newcommand{\\mubb}{\\pmb{\\mu}_b}\n",
    "\\newcommand{\\Phib}{\\pmb{\\Phi}}\n",
    "\\newcommand{\\Phibt}{\\Phib^T}\n",
    "\\newcommand{\\pib}{\\pmb{\\pi}}\n",
    "\\newcommand{\\sigmasqr}{\\sigma^2}\n",
    "\\newcommand{\\saa}{\\Sigma_{aa}}\n",
    "\\newcommand{\\sab}{\\Sigma_{ab}}\n",
    "\\newcommand{\\sba}{\\Sigma_{ba}}\n",
    "\\newcommand{\\sbb}{\\Sigma_{bb}}\n",
    "\\newcommand{\\Sigmai}{\\inv{\\Sigma}}\n",
    "\\newcommand{\\thetab}{\\pmb{\\theta}}\n",
    "\\newcommand{\\thetat}{\\thetab^T}\n",
    "\\newcommand{\\thetabh}{\\hat{\\thetab}}\n",
    "\\newcommand{\\thetaold}{\\thetab^{\\text{old}}}\n",
    "$\n",
    "$\n",
    "\\newcommand{\\zerob}{\\pmb{0}}\n",
    "\\newcommand{\\ed}{\\mathbb{E}_{\\D}}\n",
    "\\newcommand{\\edyx}{\\ed\\left[y(\\xb ; \\D)\\right]}\n",
    "\\newcommand{\\dx}{~dx}\n",
    "\\newcommand{\\dxb}{~d\\xb}\n",
    "\\newcommand{\\pxdxb}{p(\\xb) \\dxb}\n",
    "\\newcommand{\\dwb}{~d\\wb}\n",
    "$"
   ]
  },
  {
   "cell_type": "markdown",
   "metadata": {},
   "source": [
    "aliases for distributions\n",
    "$\\newcommand{\\multivarcoeff}{\\frac{1}{(2\\pi)^{D/2}}\n",
    "\\frac{1}{\\left| \\mathbf{\\Sigma}\\right|^{1/2}}}$\n",
    "$\\newcommand{\\multivarexp}[2]\n",
    "{\n",
    "\\left\\{\n",
    " -\\frac{1}{2} \n",
    " {#1}^T \n",
    " #2\n",
    " {#1}\n",
    "\\right\\}\n",
    "}$\n",
    "$\\newcommand{\\multivarexpx}[1]{\\multivarexp{#1}{\\Sigma^{-1}}}$\n",
    "$\\newcommand{\\multivarexpstd}{\\multivarexpx{(\\xb-\\mub)}}$\n",
    "$\\newcommand{\\gam}{\\operatorname{Gam}}$\n",
    "$\n",
    "\\newcommand{\\Nl}[3]{\\mathcal{N}\\left(#1 \\mid #2, #3\\right)}\n",
    "\\newcommand{\\Nstdx}{\\Nl{\\mathbf{x}}{\\mathbf{\\mu}}{\\Sigma}}\n",
    "$"
   ]
  },
  {
   "cell_type": "markdown",
   "metadata": {},
   "source": [
    "# Motivation"
   ]
  },
  {
   "cell_type": "markdown",
   "metadata": {},
   "source": [
    "from [wiki](https://en.wikipedia.org/wiki/Laplace%27s_method)\n",
    "\n",
    "![yo](https://upload.wikimedia.org/wikipedia/commons/thumb/b/bd/Laplaces_method.svg/300px-Laplaces_method.svg.png \"1\")"
   ]
  },
  {
   "cell_type": "markdown",
   "metadata": {},
   "source": [
    "* The red curve is $f(x) = sin(x)/x$\n",
    "* blue curve is $\\exp{Mf(x)}$\n",
    "* for the top figure, M=0.5 and M=2 for bottom figure\n",
    "\n",
    "It can be seen that as M increases, the approximation becomes better."
   ]
  },
  {
   "cell_type": "markdown",
   "metadata": {},
   "source": [
    "# Assumptions\n",
    "\n",
    "1. $x_0$ is not an endpoint of the interval of integration\n",
    "1. Values ƒ(x) cannot be very close to ƒ($x_0$) unless x is close to $x_0$\n",
    "1. Second derivative $f''(x_{0})<0$."
   ]
  },
  {
   "cell_type": "markdown",
   "metadata": {},
   "source": [
    "# Derivation"
   ]
  },
  {
   "cell_type": "markdown",
   "metadata": {},
   "source": [
    "Taylor's theorem expansion of a function f(x) around the point $x_0$ is \n",
    "$$\n",
    "\\arrthree{\n",
    "f(x) &= f(x_{0}) + f'(x_{0})(x-x_{0}) + \n",
    "\\\\\n",
    "& +\\frac12 f''(x_{0})(x-x_{0})^{2}+R\n",
    "}$$\n",
    "where $R=O\\left((x-x_{0})^{3}\\right)$."
   ]
  },
  {
   "cell_type": "markdown",
   "metadata": {},
   "source": [
    "## method 1\n",
    "[from wiki]\n",
    "\n",
    "We can expand ƒ(x) around $x_0$ by Taylor's theorem.\n",
    "$$\n",
    "f(x) \\approx f(x_{0}) -\n",
    "\\half \\left|f''(x_{0})\\right|(x-x_{0})^{2}\n",
    "$$\n",
    "Note that there is no first order term since it vanishes."
   ]
  },
  {
   "cell_type": "markdown",
   "metadata": {},
   "source": [
    "$$\n",
    "\\int _{a}^{b}\\!e^{Mf(x)}\\,dx\\approx e^{Mf(x_{0})}\\int _{a}^{b}e^{-M|f''(x_{0})|(x-x_{0})^{2}/2}\\,dx\n",
    "$$"
   ]
  },
  {
   "cell_type": "markdown",
   "metadata": {},
   "source": [
    "This is a [Gaussian integral](https://en.wikipedia.org/wiki/Gaussian_integral#The_integral_of_a_Gaussian_function), whose value is given by\n",
    "$$\n",
    "\\int_{-\\infty }^{\\infty }\n",
    "e^{-a(x+b)^{2}} \\, dx\n",
    "=\n",
    "\\sqrt{\\frac{\\pi}{a}}.\n",
    "$$"
   ]
  },
  {
   "cell_type": "markdown",
   "metadata": {},
   "source": [
    "$$\n",
    "\\int_{a}^{b}\\!e^{Mf(x)}\\,dx\n",
    "\\approx \n",
    "\\sqrt{\n",
    "  \\frac{2\\pi}\n",
    "       {M \\left| f''(x_{0}) \\right| }\n",
    "}\n",
    "~e^{Mf(x_{0})}\n",
    "\\text{ as }\n",
    "M \\to \\infty .\\,\n",
    "$$"
   ]
  },
  {
   "cell_type": "markdown",
   "metadata": {},
   "source": [
    "## One Dimension - method 2\n",
    "\n",
    "from prml\n",
    "\n",
    "Consider the function \n",
    "$$\n",
    "p(z) = \n",
    "\\frac1{Z}\n",
    "f(z)\n",
    "$$\n",
    "Here, Z is the normalization coefficient given by\n",
    "$$\n",
    "Z = \\int f(z) ~dz\n",
    "$$"
   ]
  },
  {
   "cell_type": "markdown",
   "metadata": {},
   "source": [
    "To find the Laplace approximation, we need to find the mode of p(z), which can be obtained by setting $\\diffn{p}{z} = 0$"
   ]
  },
  {
   "cell_type": "markdown",
   "metadata": {},
   "source": [
    "The taylor approximation around the mode $z_0$ is given by\n",
    "$$\n",
    "\\arrthree{\n",
    "f(z) \n",
    "&= f(z_0) + (z-z_0)f^{\\prime}(z) \\mid_{z=z_0} + \\frac12 (z-z_0)^2 f^{\\prime\\prime}(z)\n",
    "\\\\\n",
    "&= f(z_0) + \\frac12 (z-z_0)^2 f^{\\prime\\prime}(z)\n",
    "}\n",
    "$$\n",
    "since $z_0$ is local max, the first derivative vanishes."
   ]
  },
  {
   "cell_type": "markdown",
   "metadata": {},
   "source": [
    "$$\n",
    "\\arrthree{\n",
    "\\ln f(z)\n",
    "&= \\ln f(z_0) + \\frac12 (z-z_0)^2 \\frac{d^2}{dz^2} \\ln f(z) \\mid_{z=z_0}\n",
    "\\\\\n",
    "&= \\ln f(z_0) - \\frac12 A ~(z-z_0)^2 \n",
    "}\n",
    "$$\n",
    "where\n",
    "$$\n",
    "A = - \\frac{d^2}{dz^2} \\ln f(z) \\mid_{z=z_0}\n",
    "$$"
   ]
  },
  {
   "cell_type": "markdown",
   "metadata": {},
   "source": [
    "Taking exponentials, we have\n",
    "$$\n",
    "f(z) = f(z_0) \\expb{- \\frac12 A ~(z-z_0)^2}\n",
    "$$\n",
    "\n",
    "If A gives the precision of a gaussian with mean $z_0$, then the gaussian is given by\n",
    "$$\n",
    "q(z) = \\left(\\frac{A}{2\\pi}\\right)^{1/2} \\expb{- \\frac12 A ~(z-z_0)^2}\n",
    "$$\n",
    "\n",
    "It should be noted that since $z_0$ is the local maxima, A is positive definite. "
   ]
  },
  {
   "cell_type": "markdown",
   "metadata": {},
   "source": [
    "# Multi dimensional\n",
    "from prml"
   ]
  },
  {
   "cell_type": "markdown",
   "metadata": {},
   "source": [
    "For M-D, we have\n",
    "$$\n",
    "\\ln f(\\zb) \\simeq \\ln f(\\zb_0) - \\frac12 (\\zb-\\zb_0)^T \\Ab(\\zb-\\zb_0)\n",
    "$$\n",
    "where\n",
    "$$\n",
    "A = -\\nabla \\nabla f(\\zb) \\mid_{\\zb=\\zb_0}\n",
    "$$"
   ]
  },
  {
   "cell_type": "markdown",
   "metadata": {},
   "source": [
    "Taking exponentials\n",
    "$$\n",
    "\\arrthree{\n",
    "f(\\zb) &\\simeq\n",
    "f(\\zb_0) \\expb{- \\frac12 (\\zb-\\zb_0)^T \\Ab(\\zb-\\zb_0)}\n",
    "}\n",
    "$$"
   ]
  },
  {
   "cell_type": "markdown",
   "metadata": {},
   "source": [
    "The distribution q(**z**) is proportional to f(**z**).  \n",
    "The normalization coef is simply that of Gaussian's.  \n",
    "Tha is\n",
    "$$\n",
    "\\arrthree{\n",
    "q(\\zb) &=\n",
    "\\frac{\\mid A \\mid^{1/2}}{(2\\pi)^{M/2}}\n",
    "\\expb{- \\frac12 (\\zb-\\zb_0)^T \\Ab(\\zb-\\zb_0)}\n",
    "\\\\ &=\n",
    "\\mathcal{N}(\\zb \\mid \\zb_0, A^{-1})\n",
    "}\n",
    "$$"
   ]
  },
  {
   "cell_type": "markdown",
   "metadata": {},
   "source": [
    "The Gaussian is well defined if the precision matrix, **A** is positive definite.\n",
    "\n",
    "This means that the stationary point $\\zb_0$ is a local maxima, not a local minima or a saddle point"
   ]
  },
  {
   "cell_type": "markdown",
   "metadata": {},
   "source": [
    "# problems"
   ]
  },
  {
   "cell_type": "markdown",
   "metadata": {},
   "source": [
    "1. have to fit multiple approximations for multimodal fuckers\n",
    "1. applicable only to real variables (since it is based on Gaussian)\n",
    "1. very myopic, captures only the local not the global properties"
   ]
  },
  {
   "cell_type": "markdown",
   "metadata": {},
   "source": [
    "Examples\n",
    "==========\n",
    "\n",
    "Stirling's approximation\n",
    "-------------------------\n",
    "\n",
    "$\\ln(N!) = N\\ln(N) - B +O(\\ln(N))$  \n",
    "that is  \n",
    "$\n",
    "N!\\approx {\\sqrt {2\\pi N}} ~N^{N} ~e^{-N}\\,\n",
    "$\n",
    "\n",
    "From the definition of the Gamma function, we have\n",
    "$$\n",
    "N!=\\Gamma (N+1)=\\int _{0}^{\\infty }e^{-x}x^{N}\\,dx.\n",
    "$$\n",
    "Now we change variables, letting x=Nz so that dx=N dz.\n",
    "\n",
    "Plug these values back in to obtain\n",
    "\n",
    "$${\\begin{aligned}N!&=\\int _{0}^{\\infty }e^{-Nz}\\left(Nz\\right)^{N}N\\,dz\\\\&=N^{N+1}\\int _{0}^{\\infty }e^{-Nz}z^{N}\\,dz\\\\&=N^{N+1}\\int _{0}^{\\infty }e^{-Nz}e^{N\\ln z}\\,dz\\\\&=N^{N+1}\\int _{0}^{\\infty }e^{N(\\ln z-z)}\\,dz.\\end{aligned}}$$\n",
    "\n",
    "This integral has the form necessary for Laplace's method with $f\\left(z\\right)=\\ln {z}-z$ which is twice-differentiable:\n",
    "\n",
    "$$f'(z)={\\frac {1}{z}}-1,\\,\n",
    "f''(z)=-{\\frac {1}{z^{2}}}.\\,\n",
    "$$\n",
    "The maximum of ƒ(z) lies at $z_0 = 1$, and the second derivative of ƒ(z) has the value −1 at this point. Therefore, we obtain\n",
    "\n",
    "$$\n",
    "N!\\approx \n",
    "N^{N+1}\n",
    "{\\sqrt {\\frac {2\\pi }{N}}}e^{-N}\n",
    "={\\sqrt {2\\pi N}} ~N^{N} ~e^{-N}.\\,$$"
   ]
  },
  {
   "cell_type": "markdown",
   "metadata": {},
   "source": [
    "# Model comparison and BIC"
   ]
  },
  {
   "cell_type": "markdown",
   "metadata": {},
   "source": [
    "We can also get an approximation to the normalization constant Z."
   ]
  },
  {
   "cell_type": "markdown",
   "metadata": {},
   "source": [
    "$$\n",
    "\\arrthree{\n",
    "Z &= \\int f(\\zb) ~d\\zb\n",
    "\\\\ &\\simeq\n",
    "f(\\zb_0) ~\\int\n",
    "\\expb{-\\half (\\zb - \\zb_0)^T \\Ab (\\zb - \\zb_0)} ~d\\zb\n",
    "\\\\ &=\n",
    "f(\\zb_0) \\frac{(2\\pi)^{M/2}}{\\Mod{\\Ab}^{1/2}}\n",
    "}\n",
    "$$"
   ]
  },
  {
   "cell_type": "markdown",
   "metadata": {},
   "source": [
    "* COnsider a data set $\\D$ and a set of models $\\Brace{\\M_i}$ having parameters $\\Brace{\\thetab_i}$\n",
    "* for each model, we define a likelihood $p(\\D \\mid \\thetab_i, \\M_i)$\n",
    "* introducing prior $p(\\thetab_i \\mid \\M_i)$\n",
    "* omitting the dependence on $\\M_i$ to keep things uncluttered"
   ]
  },
  {
   "cell_type": "markdown",
   "metadata": {},
   "source": [
    "From Bayes theorem, the model evidence is given by\n",
    "$$\n",
    "p(\\D) = \\int p(\\D \\mid \\thetab) ~p(\\theta) ~d\\thetab\n",
    "$$"
   ]
  },
  {
   "cell_type": "markdown",
   "metadata": {},
   "source": [
    "Now we set\n",
    "$$\n",
    "\\arrthree{\n",
    "f(\\thetab) &= p(\\D \\mid \\thetab) ~p(\\thetab) \\\\\n",
    "Z &= \\int f(\\thetab) ~d\\thetab = p(\\D)\n",
    "}\n",
    "$$"
   ]
  },
  {
   "cell_type": "markdown",
   "metadata": {},
   "source": [
    "Hence\n",
    "$$\n",
    "\\arrthree{\n",
    "\\ln p(\\D)  &\\simeq\n",
    "f(\\map{\\thetab})\n",
    "+ \\frachalf{M} \\ln(2\\pi) - \\half \\ln \\Mod{\\Ab}\n",
    "\\\\ &=\n",
    "\\ln p(\\D \\mid \\map{\\theta})\n",
    "+\n",
    "\\underbrace{\n",
    "\\ln p(\\map{\\thetab})\n",
    "+ \\frachalf{M} \\ln(2\\pi) - \\half \\ln \\Mod{\\Ab}\n",
    "}_{\\color{green}{\\text{Occam factor}}}\n",
    "}\n",
    "$$\n",
    "\n",
    "here $\\map{\\thetab}$ is the value of $\\thetab$ at the mode of the distribution.  \n",
    "**A** is the Hessian matrix of second derivatives of the negative log posterior\n",
    "$$\n",
    "\\arrthree{\n",
    "\\Ab &=\n",
    "- \\nabla \\nabla \\ln p(\\D \\mid \\map{\\thetab}) p(\\map{\\thetab})\n",
    "\\\\ &=\n",
    "- \\nabla \\nabla \\ln p(\\map{\\thetab} \\mid \\D)p(\\D)\n",
    "\\\\ &=\n",
    "- \\nabla \\nabla \\ln p(\\map{\\thetab} \\mid \\D)- \\nabla \\nabla \\ln p(\\D)\n",
    "\\\\ &=\n",
    "- \\nabla \\nabla \\ln p(\\map{\\thetab} \\mid \\D)\n",
    "}\n",
    "$$"
   ]
  },
  {
   "cell_type": "markdown",
   "metadata": {},
   "source": [
    "The Occam factor penalizes the model complexity"
   ]
  },
  {
   "cell_type": "markdown",
   "metadata": {},
   "source": [
    "$$\n",
    "\\arrthree{\n",
    "\\Ab &=\n",
    "- \\nabla \\nabla \\ln p(\\D \\mid \\map{\\thetab}) p(\\map{\\thetab})\n",
    "\\\\ &=\n",
    "- \\nabla \\nabla \\ln p(\\D \\mid \\map{\\thetab})\n",
    "- \\nabla \\nabla \\ln p(\\map{\\thetab})\n",
    "\\\\ &=\n",
    "\\Hb - \\nabla \\nabla \\ln p(\\map{\\thetab})\n",
    "}\n",
    "$$"
   ]
  },
  {
   "cell_type": "markdown",
   "metadata": {},
   "source": [
    "If $p(\\map{\\thetab})$ is Gaussian, then\n",
    "$$\n",
    "\\arrthree{\n",
    "\\nabla \\nabla \\ln p(\\map{\\thetab}) &=\n",
    "\\nabla \\nabla (\\wb - \\wb_0)^T \\Sigmai (\\wb - \\wb_0)\n",
    "\\\\ &=\n",
    "- \\Sigmai\n",
    "}\n",
    "$$"
   ]
  },
  {
   "cell_type": "markdown",
   "metadata": {},
   "source": [
    "Hence\n",
    "$$\n",
    "\\Ab = \\Hb + \\Sigmai\n",
    "$$\n",
    "\n",
    "That is\n",
    "$$\n",
    "\\ln \\Mod{\\Ab} = \\ln \\Mod{\\Hb} + O(1) \\simeq \\ln \\Mod{\\Hb}\n",
    "$$"
   ]
  },
  {
   "cell_type": "markdown",
   "metadata": {},
   "source": [
    "Now, if we can assume iid, then\n",
    "$$\n",
    "\\arrthree{\n",
    "\\Hb &=\n",
    "- \\nabla \\nabla \\ln p(\\D \\mid \\map{\\thetab})\n",
    "\\\\ &=\n",
    "- \\nabla \\nabla \\displaystyle \\sum_n \n",
    "\\ln p(\\xb_n \\mid \\map{\\thetab})\n",
    "\\\\ &=\n",
    "\\displaystyle \\sum_n \\Hb_n\n",
    "\\\\ &=\n",
    "N \\hat{\\Hb}\n",
    "}\n",
    "$$\n",
    "where\n",
    "$$\n",
    "\\arrthree{\n",
    "\\Hb_n &= \\ln p(\\xb_n \\mid \\map{\\thetab}) \\\\\n",
    "\\hat{\\Hb} &= \\fracrec{N} \\displaystyle \\sum_n \\Hb_n\n",
    "}\n",
    "$$"
   ]
  },
  {
   "cell_type": "markdown",
   "metadata": {},
   "source": [
    "Hence\n",
    "$$\n",
    "\\arrthree{\n",
    "\\ln \\Mod{\\Ab} &=\n",
    "\\ln \\Mod{N \\hat{\\Hb}}\n",
    "\\\\ &=\n",
    "\\ln N^M \\Mod{\\hat{\\Hb}}\n",
    "\\\\ &=\n",
    "M \\ln N + O(1)\n",
    "\\\\ &\\simeq\n",
    "M \\ln N\n",
    "}\n",
    "$$"
   ]
  },
  {
   "cell_type": "markdown",
   "metadata": {},
   "source": [
    "Hence\n",
    "$$\n",
    "\\ln p(\\D) \\simeq\n",
    "\\ln p(\\D \\mid \\map{\\thetab}) - \\half M \\ln N\n",
    "$$"
   ]
  },
  {
   "cell_type": "code",
   "execution_count": null,
   "metadata": {
    "collapsed": true,
    "run_control": {
     "frozen": false,
     "read_only": false
    }
   },
   "outputs": [],
   "source": []
  },
  {
   "cell_type": "markdown",
   "metadata": {},
   "source": [
    "This is calle the fucking **Bayesian Information Criterion**\n",
    "or **Schwarz criterion**"
   ]
  }
 ],
 "metadata": {
  "hide_input": true,
  "kernelspec": {
   "display_name": "Python 3",
   "language": "python",
   "name": "python3"
  },
  "language_info": {
   "codemirror_mode": {
    "name": "ipython",
    "version": 3
   },
   "file_extension": ".py",
   "mimetype": "text/x-python",
   "name": "python",
   "nbconvert_exporter": "python",
   "pygments_lexer": "ipython3",
   "version": "3.5.2"
  },
  "latex_envs": {
   "bibliofile": "biblio.bib",
   "cite_by": "apalike",
   "current_citInitial": 1,
   "eqLabelWithNumbers": true,
   "eqNumInitial": 0
  },
  "nav_menu": {},
  "toc": {
   "navigate_menu": true,
   "number_sections": true,
   "sideBar": false,
   "threshold": 6,
   "toc_cell": false,
   "toc_section_display": "block",
   "toc_window_display": false
  }
 },
 "nbformat": 4,
 "nbformat_minor": 0
}
