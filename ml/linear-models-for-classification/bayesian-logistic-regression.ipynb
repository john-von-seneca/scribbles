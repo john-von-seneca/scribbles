{
 "cells": [
  {
   "cell_type": "code",
   "execution_count": 2,
   "metadata": {
    "collapsed": false,
    "run_control": {
     "frozen": false,
     "read_only": false
    }
   },
   "outputs": [],
   "source": [
    "import numpy as np\n",
    "from matplotlib import pyplot as plt\n",
    "%matplotlib inline\n",
    "\n",
    "import random as rnd\n",
    "import os\n",
    "import math\n",
    "\n",
    "# required for interactive plotting\n",
    "from __future__ import print_function\n",
    "from ipywidgets import interact, interactive, fixed\n",
    "import ipywidgets as widgets\n",
    "import numpy.polynomial as np_poly\n",
    "\n",
    "from IPython.display import Math\n",
    "from IPython.display import Latex\n",
    "from IPython.display import HTML\n",
    "\n",
    "from pprint import pprint\n",
    "import functools as ft"
   ]
  },
  {
   "cell_type": "markdown",
   "metadata": {},
   "source": [
    "initialization\n",
    "$\n",
    "\\newcommand{\\Brace}[1]{\\left\\{#1\\right\\}}\n",
    "\\newcommand{\\Bracket}[1]{\\left[#1\\right]}\n",
    "\\newcommand{\\cases}[1]{\\begin{cases}#1\\end{cases}}\n",
    "\\newcommand{\\cov}[1]{\\text{cov} \\sigma\\left[#1\\right]}\n",
    "\\newcommand{\\diff}[2]{\\frac{d #1}{d #2}}\n",
    "\\newcommand{\\diffn}[2]{{#1}^{\\prime}(#2)}\n",
    "\\newcommand{\\E}[1]{\\mathbb{E}\\left[ #1 \\right]}\n",
    "\\newcommand{\\EXP}[1]{\\exp\\left\\{#1\\right\\}} \n",
    "\\newcommand{\\frachalf}[1]{\\frac{#1}{2}}\n",
    "\\newcommand{\\fracone}[1]{\\frac{1}{#1}}\n",
    "\\newcommand{\\fracrec}[1]{\\frac{1}{#1}}\n",
    "\\newcommand{\\half}{\\fracone{2}}\n",
    "\\newcommand{\\H}[1]{\\mathbb{H}\\left[#1\\right]}\n",
    "\\newcommand{\\Int}[2]{\\displaystyle \\int_{#1}^{#2}}\n",
    "\\newcommand{\\inv}[1]{#1^{-1}}\n",
    "\\newcommand{\\invp}[1]{\\left({#1}\\right)^{-1}}\n",
    "\\newcommand{\\KL}[2]{\\text{KL}\\left(#1 \\Vert #2\\right)}\n",
    "\\newcommand{\\Lim}[1]{\\displaystyle \\lim_{#1}}\n",
    "\\newcommand{\\Ln}[1]{\\ln \\left\\(#1\\right\\)}\n",
    "\\newcommand{\\Lnb}[1]{\\ln \\left\\{#1\\right\\} }\n",
    "\\newcommand{\\Mod}[1]{\\left|#1\\right|}\n",
    "\\newcommand{\\Norm}[1]{\\left\\lVert #1 \\right\\rVert}\n",
    "\\newcommand{\\Normsqr}[1]{\\Norm{#1}^2}\n",
    "\\newcommand{\\map}[1]{#1_{\\text{MAP}}}\n",
    "\\newcommand{\\ml}[1]{#1_{\\text{ML}}}\n",
    "\\newcommand{\\MI}[1]{\\mathcal{I}\\left(#1\\right)}\n",
    "\\newcommand{\\P}{\\mathbb{P}}\n",
    "\\newcommand{\\Paran}[1]{\\left(#1\\right)}\n",
    "\\newcommand{\\Partial}[2]{\\frac{\\partial #1}{\\partial #2}}\n",
    "\\newcommand{\\sqrbrkt}[1]{\\Bracket{#1}^2}\n",
    "\\newcommand{\\sqrbrc}[1]{\\Brace{#1}^2}\n",
    "\\newcommand{\\trace}[1]{\\text{Tr}\\left( #1 \\right)}\n",
    "\\newcommand{\\traceb}[1]{\\text{Tr}\\left\\{#1\\right\\}}\n",
    "\\newcommand{\\underl}[1]{\\text{$\\underline{#1}$}}\n",
    "\\newcommand{\\V}[1]{\\mathbb{V}\\left[#1\\right]}\n",
    "$\n",
    "$\n",
    "\\DeclareMathOperator*{\\argmin}{arg\\,min}\n",
    "\\DeclareMathOperator*{\\argmax}{arg\\,max}\n",
    "$\n",
    "$\n",
    "\\newcommand{\\mat}[1]{ \\left[ \\begin{matrix} #1 \\end{matrix} \\right] }\n",
    "\\newcommand{\\matp}[1]{ \\left( \\begin{matrix} #1 \\end{matrix} \\right)}\n",
    "\\newcommand{\\mats}[1]{ \\begin{matrix}#1\\end{matrix} }\n",
    "\\newcommand{\\arrthree}[1]{\n",
    "\\begin{array}{rlr} #1 \\end{array}}\n",
    "$"
   ]
  },
  {
   "cell_type": "markdown",
   "metadata": {},
   "source": [
    "$\n",
    "\\newcommand{\\C}{\\mathbb{C}}\n",
    "\\newcommand{\\Ca}{\\mathcal{C}}\n",
    "\\newcommand{\\Caone}{\\Ca_1}\n",
    "\\newcommand{\\Catwo}{\\Ca_2}\n",
    "\\newcommand{\\Cak}{\\Ca_k}\n",
    "\\newcommand{\\D}{\\mathcal{D}}\n",
    "\\newcommand{\\G}{\\mathcal{G}}\n",
    "\\newcommand{\\I}{\\mathcal{I}}\n",
    "\\newcommand{\\L}{\\mathcal{L}}\n",
    "\\newcommand{\\M}{\\mathcal{M}}\n",
    "\\newcommand{\\N}{\\mathbb{N}}\n",
    "\\newcommand{\\R}{\\mathbb{R}}\n",
    "\\newcommand{\\Ra}{\\mathcal{R}}\n",
    "$\n",
    "$\n",
    "\\newcommand{\\commentgray}[1]{\\color{gray}{\\text{#1}}}\n",
    "$"
   ]
  },
  {
   "cell_type": "markdown",
   "metadata": {},
   "source": [
    "sum, product\n",
    "$\n",
    "\\newcommand{\\sumi}{\\displaystyle \\sum_i}\n",
    "\\newcommand{\\sumiD}{\\displaystyle \\sum_{i=1}^{D}}\n",
    "\\newcommand{\\sumiL}{\\displaystyle \\sum_{i=1}^{L}}\n",
    "\\newcommand{\\sumiN}{\\displaystyle \\sum_{i=1}^{N}}\n",
    "\\newcommand{\\sumjD}{\\displaystyle \\sum_{j=1}^{D}}\n",
    "\\newcommand{\\sumjK}{\\displaystyle \\sum_{j=1}^{K}}\n",
    "\\newcommand{\\sumjMl}{\\sum_{j=1}^{M-1}}\n",
    "\\newcommand{\\sumkK}{\\displaystyle \\sum_{k=1}^{K}}\n",
    "\\newcommand{\\sumkM}{\\displaystyle \\sum_{k=1}^{M}}\n",
    "\\newcommand{\\sumkMl}{\\sum_{k=1}^{M-1}}\n",
    "\\newcommand{\\summN}{\\displaystyle \\sum_{m=1}^{N}}\n",
    "\\newcommand{\\sumnN}{\\displaystyle \\sum_{n=1}^{N}}\n",
    "$\n",
    "$\n",
    "\\newcommand{\\prodi}{\\displaystyle \\prod_i}\n",
    "\\newcommand{\\prodiD}{\\displaystyle \\prod_{i=1}^{D}}\n",
    "\\newcommand{\\prodiL}{\\displaystyle \\prod_{i=1}^{L}}\n",
    "\\newcommand{\\prodiN}{\\displaystyle \\prod_{i=1}^{N}}\n",
    "\\newcommand{\\prodjK}{\\displaystyle \\prod_{j=1}^{K}}\n",
    "\\newcommand{\\prodkK}{\\displaystyle \\prod_{k=1}^{K}}\n",
    "\\newcommand{\\prodmN}{\\displaystyle \\prod_{m=1}^{N}}\n",
    "\\newcommand{\\prodnN}{\\displaystyle \\prod_{n=1}^{N}}\n",
    "$"
   ]
  },
  {
   "cell_type": "markdown",
   "metadata": {},
   "source": [
    "alphabet shortcuts\n",
    "$\n",
    "\\newcommand{\\ab}{\\mathbf{a}}\n",
    "\\newcommand{\\Ab}{\\mathbf{A}}\n",
    "\\newcommand{\\At}{\\Ab^T}\n",
    "\\newcommand{\\Ai}{\\inv{\\Ab}}\n",
    "\\newcommand{\\Abjk}{\\Ab_{jk}}\n",
    "\\newcommand{\\bb}{\\mathbf{b}}\n",
    "\\newcommand{\\bt}{\\bb^T}\n",
    "\\newcommand{\\Bb}{\\mathbf{B}}\n",
    "\\newcommand{\\Bt}{\\Bb^T}\n",
    "\\newcommand{\\Cb}{\\mathbf{C}}\n",
    "\\newcommand{\\Db}{\\mathbf{D}}\n",
    "\\newcommand{\\fb}{\\mathbf{f}}\n",
    "\\newcommand{\\fp}{f^{\\prime}}\n",
    "\\newcommand{\\Hb}{\\mathbf{H}}\n",
    "\\newcommand{\\hx}{h(\\xb)}\n",
    "\\newcommand{\\Jb}{\\mathbf{J}}\n",
    "\\newcommand{\\Kb}{\\mathbf{K}}\n",
    "\\newcommand{\\Lb}{\\mathbf{L}}\n",
    "\\newcommand{\\Lt}{\\Lb^T}\n",
    "\\newcommand{\\Lbi}{\\Lb^{-1}}\n",
    "\\newcommand{\\mb}{\\mathbf{m}}\n",
    "\\newcommand{\\mt}{\\mb^T}\n",
    "\\newcommand{\\mbn}{\\mb_N}\n",
    "\\newcommand{\\mbnt}{\\mbn^T}\n",
    "\\newcommand{\\mbN}{\\mb_N}\n",
    "\\newcommand{\\mbNt}{\\mbn^T}\n",
    "\\newcommand{\\Mb}{\\mathbf{M}}\n",
    "\\newcommand{\\Qb}{\\mathbf{Q}}\n",
    "\\newcommand{\\Rb}{\\mathbf{R}}\n",
    "\\newcommand{\\sb}{\\mathbf{s}}\n",
    "\\newcommand{\\Sb}{\\mathbf{S}}\n",
    "\\newcommand{\\tb}{\\mathbf{t}}\n",
    "\\newcommand{\\tt}{\\tb^T}\n",
    "\\newcommand{\\Tb}{\\mathbf{T}}\n",
    "\\newcommand{\\Tt}{\\Tb^T}\n",
    "\\newcommand{\\ub}{\\mathbf{u}}\n",
    "\\newcommand{\\Ub}{\\mathbf{U}}\n",
    "\\newcommand{\\Ut}{\\Ub^T}\n",
    "\\newcommand{\\vb}{\\mathbf{v}}\n",
    "\\newcommand{\\Vb}{\\mathbf{V}}\n",
    "\\newcommand{\\wb}{\\mathbf{w}}\n",
    "\\newcommand{\\wnr}[1]{\\wb^{(\\text{#1})}}\n",
    "\\newcommand{\\wt}{\\wb^T}\n",
    "\\newcommand{\\Wb}{\\mathbf{W}}\n",
    "\\newcommand{\\Wt}{\\Wb^T}\n",
    "\\newcommand{\\Wtilde}{\\widetilde{\\Wb}}\n",
    "\\newcommand{\\Wtildet}{\\Wtilde^T}\n",
    "\\newcommand{\\Xb}{\\mathbf{X}}\n",
    "\\newcommand{\\Xt}{\\Xb^T}\n",
    "\\newcommand{\\Xtilde}{\\widetilde{\\Xb}}\n",
    "\\newcommand{\\Xtildet}{\\Xtilde^T}\n",
    "\\newcommand{\\xb}{\\mathbf{x}}\n",
    "\\newcommand{\\xt}{\\xb^T}\n",
    "\\newcommand{\\xtilde}{\\widetilde{\\xb}}\n",
    "\\newcommand{\\xtilden}{\\xtilde_n}\n",
    "\\newcommand{\\xtildent}{\\xtilden^T}\n",
    "\\newcommand{\\xp}{x^{\\prime}}\n",
    "\\newcommand{\\xbp}{\\xb^{\\prime}}\n",
    "\\newcommand{\\xbm}{\\xb_m}\n",
    "\\newcommand{\\xbn}{\\xb_n}\n",
    "\\newcommand{\\xab}{\\mathbf{x_a}}\n",
    "\\newcommand{\\xabt}{\\mathbf{x_a}^T}\n",
    "\\newcommand{\\xbb}{\\mathbf{x_b}}\n",
    "\\newcommand{\\xbbt}{\\mathbf{x_b}^T}\n",
    "\\newcommand{\\yb}{\\mathbf{y}}\n",
    "\\newcommand{\\yt}{\\yb^T}\n",
    "\\newcommand{\\yx}{y(\\xb)}\n",
    "\\newcommand{\\zb}{\\mathbf{z}}\n",
    "\\newcommand{\\zt}{\\zb^T}\n",
    "\\newcommand{\\zbm}{\\zb_m}\n",
    "\\newcommand{\\zbn}{\\zb_n}\n",
    "\\newcommand{\\zbnp}{\\zb_{n-1}}\n",
    "\\newcommand{\\znk}{\\zb_{nk}}\n",
    "\\newcommand{\\znpj}{\\zb_{n-1,j}}\n",
    "\\newcommand{\\Zb}{\\mathbf{Z}}\n",
    "$"
   ]
  },
  {
   "cell_type": "markdown",
   "metadata": {},
   "source": [
    "math shortcuts\n",
    "$\n",
    "\\newcommand{\\chib}{\\boldsymbol{\\chi}}\n",
    "\\newcommand{\\etab}{\\pmb{\\eta}}\n",
    "\\newcommand{\\etat}{\\eta^T}\n",
    "\\newcommand{\\etabt}{\\etab^T}\n",
    "\\newcommand{\\Lambdab}{\\pmb{\\Lambda}}\n",
    "\\newcommand{\\laa}{\\Lambda_{aa}}\n",
    "\\newcommand{\\laai}{\\Lambda_{aa}^{-1}}\n",
    "\\newcommand{\\lab}{\\Lambda_{ab}}\n",
    "\\newcommand{\\lba}{\\Lambda_{ba}}\n",
    "\\newcommand{\\lbb}{\\Lambda_{bb}}\n",
    "\\newcommand{\\lbbi}{\\Lambda_{bb}^{-1}}\n",
    "\\newcommand{\\li}{\\Lambda^{-1}}\n",
    "\\newcommand{\\Li}{\\Lambda^{-1}}\n",
    "\\newcommand{\\mub}{\\pmb{\\mu}}\n",
    "\\newcommand{\\mut}{\\mub^T}\n",
    "\\newcommand{\\muab}{\\pmb{\\mu}_a}\n",
    "\\newcommand{\\mubb}{\\pmb{\\mu}_b}\n",
    "\\newcommand{\\Phib}{\\pmb{\\Phi}}\n",
    "\\newcommand{\\Phibt}{\\Phib^T}\n",
    "\\newcommand{\\pib}{\\pmb{\\pi}}\n",
    "\\newcommand{\\sigmasqr}{\\sigma^2}\n",
    "\\newcommand{\\saa}{\\Sigma_{aa}}\n",
    "\\newcommand{\\sab}{\\Sigma_{ab}}\n",
    "\\newcommand{\\sba}{\\Sigma_{ba}}\n",
    "\\newcommand{\\sbb}{\\Sigma_{bb}}\n",
    "\\newcommand{\\Sigmai}{\\inv{\\Sigma}}\n",
    "\\newcommand{\\thetab}{\\pmb{\\theta}}\n",
    "\\newcommand{\\thetat}{\\thetab^T}\n",
    "\\newcommand{\\thetabh}{\\hat{\\thetab}}\n",
    "\\newcommand{\\thetaold}{\\thetab^{\\text{old}}}\n",
    "$\n",
    "$\n",
    "\\newcommand{\\zerob}{\\pmb{0}}\n",
    "\\newcommand{\\ed}{\\mathbb{E}_{\\D}}\n",
    "\\newcommand{\\edyx}{\\ed\\left[y(\\xb ; \\D)\\right]}\n",
    "\\newcommand{\\dx}{~dx}\n",
    "\\newcommand{\\dxb}{~d\\xb}\n",
    "\\newcommand{\\pxdxb}{p(\\xb) \\dxb}\n",
    "\\newcommand{\\dwb}{~d\\wb}\n",
    "$"
   ]
  },
  {
   "cell_type": "markdown",
   "metadata": {},
   "source": [
    "aliases for distributions\n",
    "$\\newcommand{\\multivarcoeff}{\\frac{1}{(2\\pi)^{D/2}}\n",
    "\\frac{1}{\\left| \\mathbf{\\Sigma}\\right|^{1/2}}}$\n",
    "$\\newcommand{\\multivarexp}[2]\n",
    "{\n",
    "\\left\\{\n",
    " -\\frac{1}{2} \n",
    " {#1}^T \n",
    " #2\n",
    " {#1}\n",
    "\\right\\}\n",
    "}$\n",
    "$\\newcommand{\\multivarexpx}[1]{\\multivarexp{#1}{\\Sigma^{-1}}}$\n",
    "$\\newcommand{\\multivarexpstd}{\\multivarexpx{(\\xb-\\mub)}}$\n",
    "$\\newcommand{\\gam}{\\operatorname{Gam}}$\n",
    "$\n",
    "\\newcommand{\\Nl}[3]{\\mathcal{N}\\left(#1 \\mid #2, #3\\right)}\n",
    "\\newcommand{\\Nstdx}{\\Nl{\\mathbf{x}}{\\mathbf{\\mu}}{\\Sigma}}\n",
    "$"
   ]
  },
  {
   "cell_type": "markdown",
   "metadata": {},
   "source": [
    "# Intro\n",
    "\n",
    "exact Bayesian inference for logistic regression is intractable. \n",
    "\n",
    "the posterior = prior x likelihood  \n",
    "likelihood = product of logistic sigmoids, one for each data point\n",
    "\n",
    "hence eval of predictive is intractable as well"
   ]
  },
  {
   "cell_type": "markdown",
   "metadata": {},
   "source": [
    "Steps involved\n",
    "--------------\n",
    "\n",
    "1. Predictive = $\\int sigmoid \\times posterior$ \n",
    "1. posterior $\\approx$ Gaussian using Laplace method\n",
    "1. sigmoid = $\\int dirac(.) \\times sigmoid$\n",
    "1. Hence Predictive = $\\int gaussian (\\int ~dirac ~sigmoid)$\n",
    "1. Change the order of integration: $\\int (gaussian ~dirac) ~sigmoid $\n",
    "1. first term marginalizes to gaussian\n",
    "1. predictive = $\\int sigmoid ~gaussian$\n",
    "1. sigmoid $\\approx$ probit\n",
    "1. predictive = $\\int probit ~gaussian$\n",
    "1. conv of probit with gaussian is another probit\n",
    "1. predictive = probit\n",
    "1. since probit $\\approx$ sigmoid, we have predictive $\\approx$ sigmoid"
   ]
  },
  {
   "cell_type": "markdown",
   "metadata": {},
   "source": [
    "Predictive distribution\n",
    "-----------------------\n",
    "\n",
    "for a class $\\mathcal{C}_1$ and a given feature vector $\\phi(\\xb)$ is obtained by marginalizing wrt to the posterior $p(\\wb \\mid \\tb)$. That is,\n",
    "$$\n",
    "p(\\mathcal{C}_1 \\mid \\phi, \\tb)\n",
    "= \\int\n",
    "p(\\mathcal{C}_1 \\mid \\phi, \\wb)\n",
    "~p(\\wb \\mid \\tb) ~d\\wb\n",
    "$$"
   ]
  },
  {
   "cell_type": "markdown",
   "metadata": {},
   "source": [
    "# Lap Apprx to posterior"
   ]
  },
  {
   "cell_type": "markdown",
   "metadata": {},
   "source": [
    "The posterior can be approximated using laplace method as follows:\n",
    "\n",
    "$$\n",
    "\\begin{array}{lcl}\n",
    "\\text{Prior: }  & p(\\wb) &= \\mathcal{N}(\\wb \\mid \\mb_0, \\Sb_0)\n",
    "\\\\\n",
    "\\text{likelihood: } & p(\\tb \\mid \\wb) &= \n",
    "\\prodnN {y_n}^{t_n} \\Brace{1 - y_n}^{1 - t_n}\n",
    "\\end{array}\n",
    "$$"
   ]
  },
  {
   "cell_type": "markdown",
   "metadata": {},
   "source": [
    "Hence the posterior is given by\n",
    "$$\n",
    "p(\\wb \\mid \\tb) \\propto p(\\wb) ~p(\\tb \\mid \\wb)\n",
    "$$"
   ]
  },
  {
   "cell_type": "markdown",
   "metadata": {},
   "source": [
    "Thus,\n",
    "$$\n",
    "\\arrthree{\n",
    "\\ln p(\\wb \\mid \\tb)\n",
    "&= -\\frac12 (\\wb-\\mb_0)^T \\Sb_0^{-1} (\\wb-\\mb_0)\n",
    "&\\commentgray{prior}\n",
    "\\\\  &+\n",
    "\\sumnN t_n \\ln y_n + (1-t_n) \\ln (1-y_n)\n",
    "&\\commentgray{sigmoid likelihood}\n",
    "\\\\ &+\n",
    "\\text{const}\n",
    "}\n",
    "$$\n",
    "where $y_n = \\sigma(\\wt \\phi_n)$"
   ]
  },
  {
   "cell_type": "markdown",
   "metadata": {},
   "source": [
    "TO find a Gaussian approximation to the posterior distribution, we have to maximize the posteriro to give the MAP solution $\\map{\\wb}$. this gives the mean of the Gaussian\n",
    "\n",
    "the covariance of the Gaussian is given by the inverse of the matrix of second derivatives of the negative log likelihood"
   ]
  },
  {
   "cell_type": "markdown",
   "metadata": {},
   "source": [
    "For the laplace approximation, the mode is $\\wb_{MAP}$ and the cov is given by,\n",
    "$$\n",
    "\\Sb_N = - \\nabla \\nabla \\ln p(\\wb \\mid \\tb)\n",
    "= \n",
    "\\Sb_{0}^{-1} + \\sumnN y_n (1-y_n) \\phi_n \\phi_n^T\n",
    "$$\n",
    "\n",
    "Thus,\n",
    "$$\n",
    "p(\\wb \\mid \\tb) \\approx q(\\wb) = \\mathcal{N}(\\wb \\mid \\wb_{MAP}, \\Sb_N)\n",
    "$$"
   ]
  },
  {
   "cell_type": "markdown",
   "metadata": {},
   "source": [
    "# Predictive distribution"
   ]
  },
  {
   "cell_type": "markdown",
   "metadata": {},
   "source": [
    "the predictive distribution for a class $\\Caone$ given a new feature vector $\\phi(\\xb)$ is obtained by marginalizing wrt the posterior distribution $p(\\wb \\mid \\tb)$.\n",
    "\n",
    "this posterior can be approximatd by the Gaussian $q(\\wb)$ defined above"
   ]
  },
  {
   "cell_type": "markdown",
   "metadata": {},
   "source": [
    "Thus\n",
    "$$\n",
    "\\arrthree{\n",
    "p(\\mathcal{C}_1 \\mid \\phi, \\tb)\n",
    "&= \\int\n",
    "p(\\mathcal{C}_1 \\mid \\phi, \\wb)\n",
    "~p(\\wb \\mid \\tb) ~d\\wb\n",
    "\\\\ & \\approx\n",
    "\\int \\sigma(\\wt\\phi) q(\\wb) ~d\\wb\n",
    "}\n",
    "$$"
   ]
  },
  {
   "cell_type": "markdown",
   "metadata": {},
   "source": [
    "* $\\sigma(\\wt \\phi)$ depends on $\\wb$ only thro' its projection on $\\phi$.\n",
    "* Denote $a = \\wt \\phi$ and we have,\n",
    "\n",
    "$$\n",
    "\\sigma(\\wt \\phi) = \\int \\delta(a - \\wt \\phi) ~\\sigma(a) ~da\n",
    "$$\n",
    "here $\\delta(.)$ is the dirac delta function"
   ]
  },
  {
   "cell_type": "markdown",
   "metadata": {},
   "source": [
    "Sub this above, we have\n",
    "$$\n",
    "\\arrthree{\n",
    "\\int \\sigma(\\wt\\phi) q(\\wb) ~d\\wb\n",
    "&=  \\int \n",
    "\\Brace{\\int \\delta(a - \\wt \\phi) ~\\sigma(a) ~da} ~q(\\wb) ~d\\wb\n",
    "\\\\ &= \\int \n",
    "\\Brace{\\int ~q(\\wb) \\delta(a - \\wt \\phi) ~d\\wb} ~\\sigma(a) ~da\n",
    "\\\\ &=\n",
    "\\int p(a) ~\\sigma(a) ~da\n",
    "}\n",
    "$$\n",
    "where\n",
    "$$\n",
    "p(a) = \\int ~q(\\wb) \\delta(a - \\wt \\phi) ~d\\wb\n",
    "$$"
   ]
  },
  {
   "cell_type": "markdown",
   "metadata": {},
   "source": [
    "# parameters of the marginal"
   ]
  },
  {
   "cell_type": "markdown",
   "metadata": {},
   "source": [
    "$$\n",
    "p(a) = \\int \\delta(a-\\wt\\phi) ~q(\\wb) ~d\\wb\n",
    "$$"
   ]
  },
  {
   "cell_type": "markdown",
   "metadata": {},
   "source": [
    "* The delta function imposes a linear contraint since $a-\\wt\\phi$ is a hyperplane and only those $\\wb$'s which are on the hyperplane are chosen for the integrand. \n",
    "* This in effect trims outs $\\wb ~\\bot ~\\phi$\n",
    "* This marginalizes $q(\\wb)$.\n",
    "* Since $q(\\wb)$ is Gaussian, the marginal would be Gaussian as well\n",
    "* we can find the mean and cov as follows"
   ]
  },
  {
   "cell_type": "markdown",
   "metadata": {},
   "source": [
    "## Mean\n",
    "\n",
    "$$\n",
    "\\arrthree{\n",
    "\\mu_a &= \\E{a}\n",
    "\\\\ &=\n",
    "\\int a ~p(a) ~da\n",
    "\\\\ &=\n",
    "\\int \\wt \\phi ~q(\\wb) ~d\\wb\n",
    "\\\\\n",
    "\\mu_a &= \\wb_{MAP}^{T} \\phi\n",
    "}\n",
    "$$"
   ]
  },
  {
   "cell_type": "markdown",
   "metadata": {},
   "source": [
    "## Variance\n",
    "\n",
    "$$\n",
    "\\arrthree{\n",
    "\\sigma_{a}^{2} &= \\text{var}[a]\n",
    "\\\\ &=\n",
    "\\int \\Brace{ a^2 - \\E{a}^2} ~p(a) ~da\n",
    "\\\\ &=\n",
    "\\int \\Brace{\n",
    "\\Paran{\\wt \\phi}^2 -\n",
    "\\Paran{\\mb_{N}^{T} \\phi}^2\n",
    "} q(\\wb) \\dwb\n",
    "}\n",
    "$$"
   ]
  },
  {
   "cell_type": "markdown",
   "metadata": {},
   "source": [
    "$$\n",
    "\\arrthree{\n",
    "yo &=\n",
    "\\Paran{\\wt \\phi}^2 -\n",
    "\\Paran{\\mb_{N}^{T} \\phi}^2\n",
    "\\\\ &=\n",
    "\\Paran{\\wt \\phi}^T \\Paran{\\wt \\phi} -\n",
    "\\Paran{\\mb_{N}^{T} \\phi}^T \\Paran{\\mb_{N}^{T} \\phi}\n",
    "\\\\ &=\n",
    "\\phi^t \\wb \\wt \\phi - \\phi^t \\mbn \\mbnt \\phi\n",
    "\\\\ &=\n",
    "\\phi^T \\Brace{\\wb \\wt - \\mbn \\mbnt} \\phi\n",
    "}\n",
    "$$"
   ]
  },
  {
   "cell_type": "markdown",
   "metadata": {},
   "source": [
    "Hence,\n",
    "$$\n",
    "\\arrthree{\n",
    "\\sigma_a^2 &=\n",
    "\\phi^T \n",
    "\\Brace{\n",
    "\\int \\Brace{\\wb \\wt - \\mbn \\mbnt} ~q(\\wb) \\dwb\n",
    "}\n",
    "\\phi\n",
    "\\\\ &=\n",
    "\\phi^T \\Sb_N \\phi\n",
    "}\n",
    "$$"
   ]
  },
  {
   "cell_type": "markdown",
   "metadata": {},
   "source": [
    "Thus,\n",
    "$$\n",
    "\\arrthree{\n",
    "p(\\mathcal{C}_1 \\mid \\tb)\n",
    "&=\n",
    "\\int \\sigma(a) ~p(a) ~da\n",
    "\\\\ &=\n",
    "\\int \\sigma(a) ~\\mathcal{N}(a \\mid \\mu_a,\\sigma_{a}^{2}) ~da\n",
    "}\n",
    "$$"
   ]
  },
  {
   "cell_type": "markdown",
   "metadata": {},
   "source": [
    "# Probit"
   ]
  },
  {
   "cell_type": "markdown",
   "metadata": {},
   "source": [
    "Probit function $\\Phi(a)$ is given by\n",
    "$$\n",
    "\\Phi(a) = \\int_{-\\infty}^{a} \\mathcal{N}(\\theta \\mid 0,1) ~d\\theta\n",
    "= \\frac12 + \\int_{0}^{a} \\mathcal{N}(\\theta \\mid 0,1) ~d\\theta\n",
    "$$\n",
    "\n",
    "This has close resemblance to the logistic sigmoid given by\n",
    "$$\n",
    "\\sigma(a) = \\frac1{1+e^{-a}}\n",
    "$$"
   ]
  },
  {
   "cell_type": "markdown",
   "metadata": {},
   "source": [
    "The best approximation is obtained by scaling the horizontal axis by $\\lambda$ so that $\\sigma(a) \\approx \\Phi(\\lambda a)$\n",
    "\n",
    "Suitable value for $\\lambda$ can be obtained by ensuring the sigmoid and probit to have the same slope same at origin, which gives $\\lambda^2 = \\pi/8$\n",
    "\n",
    "Thus,\n",
    "$$\n",
    "\\arrthree{\n",
    "p(\\mathcal{C}_1 \\mid \\tb)\n",
    "&=\n",
    "\\int \\sigma(a) ~p(a) ~da\n",
    "\\\\ &=\n",
    "\\int \\sigma(a) ~\\mathcal{N}(a \\mid \\mu_a,\\sigma_{a}^{2}) ~da\n",
    "\\\\ &=\n",
    "\\int \\Phi(\\lambda a) ~\\mathcal{N}(a \\mid \\mu_a,\\sigma_{a}^{2}) ~da\n",
    "}\n",
    "$$"
   ]
  },
  {
   "cell_type": "markdown",
   "metadata": {},
   "source": [
    "convolving normal with probit\n",
    "--------------------------\n",
    "\n",
    "The adv of using probit is that its convolution with gaussian is another probit. that is\n",
    "$$\n",
    "\\int \\Phi(\\lambda a) ~\\mathcal{N}(a \\mid \\mu,\\sigma^{2}) ~da\n",
    "=\n",
    "\\phi\n",
    "\\left(\n",
    "  \\frac{\\mu}\n",
    "       {\\left(\n",
    "         \\frac1{\\lambda^2} + \\sigma^2\n",
    "        \\right)^{1/2}}\n",
    "\\right)\n",
    "$$"
   ]
  },
  {
   "cell_type": "markdown",
   "metadata": {},
   "source": [
    "We can apply the approximation $\\sigma(a) = \\Phi(\\lambda a)$ to the probit functions on both sides\n",
    "\n",
    "$$\n",
    "\\arrthree{\n",
    "\\int \\sigma(a) ~\\mathcal{N}(a \\mid \\mu,\\sigma^{2}) ~da\n",
    "&\\approx\n",
    "\\int \\Phi(\\lambda a) ~\\mathcal{N}(a \\mid \\mu,\\sigma^{2}) ~da\n",
    "\\\\ &=\n",
    "\\phi\n",
    "\\Paran{\n",
    "  \\frac\n",
    "  {\\mu}\n",
    "  {\\Paran{\\lambda^{-2} + \\sigma^2}^{1/2}}\n",
    "}\n",
    "\\\\ &=\n",
    "\\sigma \\Paran{ \\Paran{\\lambda^{-2} + \\sigma^2}^{-1/2} \\mu }\n",
    "\\\\\n",
    "p(\\mathcal{C}_1 \\mid \\tb)\n",
    "&=\n",
    "\\sigma(\\kappa(\\sigma^2) \\mu)\n",
    "\\\\ \\text{where }\n",
    "& \\kappa(\\sigma^2) = \\Paran{ 1 + \\pi \\sigma^2/8}^{-1/2}\n",
    "}\n",
    "$$"
   ]
  },
  {
   "cell_type": "markdown",
   "metadata": {},
   "source": [
    "That is\n",
    "$$\n",
    "p(\\mathcal{C}_1 \\mid \\tb)\n",
    "=\n",
    "\\sigma(\\kappa(\\sigma_{a}^2) \\mu_a)\n",
    "$$\n",
    "Thus the predictive distribution is given by a logistic sigmoid. Aint that super cool"
   ]
  },
  {
   "cell_type": "markdown",
   "metadata": {},
   "source": [
    "* The decision boundary corresponding to  $ p(\\Caone \\mid \\phi, \\tb) = 0.5$ is given by $\\mu_a = 0$\n",
    "* This is the same as the decision boundary obtained by using the MAP\n",
    "value for **w**.\n",
    "* Thus if the decision criterion is based on minimizing misclassifica-\n",
    "tion rate, with equal prior probabilities, then the marginalization over w has no effect.\n",
    "* However, for more complex decision criteria it will play an important role.\n",
    "* Marginalization of the logistic sigmoid model under a Gaussian approximation to the posterior distribution will be illustrated in the context of variational inference in Figure 10.13.\n"
   ]
  }
 ],
 "metadata": {
  "hide_input": false,
  "kernelspec": {
   "display_name": "Python 3",
   "language": "python",
   "name": "python3"
  },
  "language_info": {
   "codemirror_mode": {
    "name": "ipython",
    "version": 3
   },
   "file_extension": ".py",
   "mimetype": "text/x-python",
   "name": "python",
   "nbconvert_exporter": "python",
   "pygments_lexer": "ipython3",
   "version": "3.5.2"
  },
  "latex_envs": {
   "bibliofile": "biblio.bib",
   "cite_by": "apalike",
   "current_citInitial": 1,
   "eqLabelWithNumbers": true,
   "eqNumInitial": 0
  },
  "nav_menu": {},
  "toc": {
   "navigate_menu": true,
   "number_sections": true,
   "sideBar": false,
   "threshold": 6,
   "toc_cell": false,
   "toc_section_display": "block",
   "toc_window_display": false
  }
 },
 "nbformat": 4,
 "nbformat_minor": 0
}
