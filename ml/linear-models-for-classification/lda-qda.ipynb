{
 "cells": [
  {
   "cell_type": "code",
   "execution_count": 285,
   "metadata": {
    "ExecuteTime": {
     "end_time": "2016-08-31T09:03:37.207468",
     "start_time": "2016-08-31T09:03:37.196620"
    },
    "collapsed": false,
    "run_control": {
     "frozen": false,
     "read_only": false
    }
   },
   "outputs": [],
   "source": [
    "import numpy as np\n",
    "import scipy as sp\n",
    "from matplotlib import pyplot as plt\n",
    "%matplotlib inline\n",
    "\n",
    "import random as rnd\n",
    "import os\n",
    "import math\n",
    "\n",
    "# required for interactive plotting\n",
    "from __future__ import print_function\n",
    "from ipywidgets import interact, interactive, fixed\n",
    "import ipywidgets as widgets\n",
    "import numpy.polynomial as np_poly\n",
    "\n",
    "from IPython.display import Math\n",
    "from IPython.display import Latex\n",
    "from IPython.display import HTML\n",
    "\n",
    "from pprint import pprint\n",
    "import functools as ft\n",
    "\n",
    "from graphviz import Digraph\n",
    "\n",
    "DIR_HOME = os.environ['HOME']\n",
    "DIR_REPOS = DIR_HOME + \"/neo-human/repos\"\n",
    "DIR_BMLSP = DIR_REPOS + \"/luispedro/BuildingMachineLearningSystemsWithPython\""
   ]
  },
  {
   "cell_type": "markdown",
   "metadata": {},
   "source": [
    "initialization\n",
    "$\n",
    "\\newcommand{\\Brace}[1]{\\left\\{#1\\right\\}}\n",
    "\\newcommand{\\Bracket}[1]{\\left[#1\\right]}\n",
    "\\newcommand{\\cases}[1]{\\begin{cases}#1\\end{cases}}\n",
    "\\newcommand{\\cov}[1]{\\text{cov} \\sigma\\left[#1\\right]}\n",
    "\\newcommand{\\diff}[2]{\\frac{d #1}{d #2}}\n",
    "\\newcommand{\\difftwo}[2]{\\frac{d^2 #1}{d {#2}^2}}\n",
    "\\newcommand{\\diffn}[2]{{#1}^{\\prime}(#2)}\n",
    "\\newcommand{\\ds}{\\displaystyle}\n",
    "\\newcommand{\\E}[1]{\\mathbb{E}\\left[ #1 \\right]}\n",
    "\\newcommand{\\expb}[1]{\\exp\\left\\{#1\\right\\}} \n",
    "\\newcommand{\\EXP}[1]{\\exp\\left\\{#1\\right\\}} \n",
    "\\newcommand{\\frachalf}[1]{\\frac{#1}{2}~}\n",
    "\\newcommand{\\fracone}[1]{\\frac{1}{#1}~}\n",
    "\\newcommand{\\fracrec}[1]{\\frac{1}{#1}~}\n",
    "\\newcommand{\\half}{\\fracone{2}}\n",
    "\\newcommand{\\H}[1]{\\mathbb{H}\\left[#1\\right]}\n",
    "\\newcommand{\\Int}[2]{\\displaystyle \\int_{#1}^{#2}~}\n",
    "\\newcommand{\\intinfinf}{\\Int{-\\infty}{\\infty}}\n",
    "\\newcommand{\\inv}[1]{#1^{-1}}\n",
    "\\newcommand{\\invp}[1]{\\left({#1}\\right)^{-1}}\n",
    "\\newcommand{\\KL}[2]{\\text{KL}\\left(#1 \\Vert #2\\right)}\n",
    "\\newcommand{\\Lim}[1]{\\displaystyle \\lim_{#1}}\n",
    "\\newcommand{\\Ln}[1]{\\ln \\left\\(#1\\right\\)}\n",
    "\\newcommand{\\Lnb}[1]{\\ln \\left\\{#1\\right\\} }\n",
    "\\newcommand{\\Mod}[1]{\\left|#1\\right|}\n",
    "\\newcommand{\\Norm}[1]{\\left\\lVert #1 \\right\\rVert}\n",
    "\\newcommand{\\Normsqr}[1]{\\Norm{#1}^2}\n",
    "\\newcommand{\\map}[1]{#1_{\\text{MAP}}}\n",
    "\\newcommand{\\ml}[1]{#1_{\\text{ML}}}\n",
    "\\newcommand{\\MI}[1]{\\mathcal{I}\\left(#1\\right)}\n",
    "\\newcommand{\\P}{\\mathbb{P}}\n",
    "\\newcommand{\\Paran}[1]{\\left(#1\\right)}\n",
    "\\newcommand{\\Partial}[2]{\\frac{\\partial #1}{\\partial #2}}\n",
    "\\newcommand{\\sqrbrkt}[1]{\\Bracket{#1}^2}\n",
    "\\newcommand{\\sqrbrc}[1]{\\Brace{#1}^2}\n",
    "\\newcommand{\\trace}[1]{\\text{Tr}\\left( #1 \\right)}\n",
    "\\newcommand{\\traceb}[1]{\\text{Tr}\\left\\{#1\\right\\}}\n",
    "\\newcommand{\\underl}[1]{\\text{$\\underline{#1}$}}\n",
    "\\newcommand{\\V}[1]{\\mathbb{V}\\left[#1\\right]}\n",
    "$\n",
    "$\n",
    "\\DeclareMathOperator*{\\argmin}{arg\\,min}\n",
    "\\DeclareMathOperator*{\\argmax}{arg\\,max}\n",
    "$\n",
    "$\n",
    "\\newcommand{\\mat}[1]{ \\left[ \\begin{matrix} #1 \\end{matrix} \\right] }\n",
    "\\newcommand{\\matp}[1]{ \\left( \\begin{matrix} #1 \\end{matrix} \\right)}\n",
    "\\newcommand{\\mats}[1]{ \\begin{matrix}#1\\end{matrix} }\n",
    "\\newcommand{\\arrthree}[1]{\n",
    "\\begin{array}{rlr} #1 \\end{array}}\n",
    "$"
   ]
  },
  {
   "cell_type": "markdown",
   "metadata": {},
   "source": [
    "$\n",
    "\\newcommand{\\C}{\\mathbb{C}}\n",
    "\\newcommand{\\Ca}{\\mathcal{C}}\n",
    "\\newcommand{\\Caone}{\\Ca_1}\n",
    "\\newcommand{\\Catwo}{\\Ca_2}\n",
    "\\newcommand{\\Cak}{\\Ca_k}\n",
    "\\newcommand{\\D}{\\mathcal{D}}\n",
    "\\newcommand{\\G}{\\mathcal{G}}\n",
    "\\newcommand{\\I}{\\mathcal{I}}\n",
    "\\newcommand{\\L}{\\mathcal{L}}\n",
    "\\newcommand{\\M}{\\mathcal{M}}\n",
    "\\newcommand{\\N}{\\mathbb{N}}\n",
    "\\newcommand{\\R}{\\mathbb{R}}\n",
    "\\newcommand{\\Ra}{\\mathcal{R}}\n",
    "$\n",
    "$\n",
    "\\newcommand{\\commentgray}[1]{\\color{gray}{\\text{#1}}}\n",
    "$"
   ]
  },
  {
   "cell_type": "markdown",
   "metadata": {},
   "source": [
    "sum, product\n",
    "$\n",
    "\\newcommand{\\sumi}{\\displaystyle \\sum_i}\n",
    "\\newcommand{\\sumiD}{\\displaystyle \\sum_{i=1}^{D}}\n",
    "\\newcommand{\\sumiL}{\\displaystyle \\sum_{i=1}^{L}}\n",
    "\\newcommand{\\sumiN}{\\displaystyle \\sum_{i=1}^{N}}\n",
    "\\newcommand{\\sumjD}{\\displaystyle \\sum_{j=1}^{D}}\n",
    "\\newcommand{\\sumjK}{\\displaystyle \\sum_{j=1}^{K}}\n",
    "\\newcommand{\\sumjMl}{\\sum_{j=1}^{M-1}}\n",
    "\\newcommand{\\sumkK}{\\displaystyle \\sum_{k=1}^{K}}\n",
    "\\newcommand{\\sumkM}{\\displaystyle \\sum_{k=1}^{M}}\n",
    "\\newcommand{\\sumkMl}{\\sum_{k=1}^{M-1}}\n",
    "\\newcommand{\\sumkp}{\\displaystyle \\sum_{k=1}^{p}}\n",
    "\\newcommand{\\summN}{\\displaystyle \\sum_{m=1}^{N}}\n",
    "\\newcommand{\\sumnN}{\\displaystyle \\sum_{n=1}^{N}}\n",
    "$\n",
    "$\n",
    "\\newcommand{\\prodi}{\\displaystyle \\prod_i}\n",
    "\\newcommand{\\prodiD}{\\displaystyle \\prod_{i=1}^{D}}\n",
    "\\newcommand{\\prodiL}{\\displaystyle \\prod_{i=1}^{L}}\n",
    "\\newcommand{\\prodiN}{\\displaystyle \\prod_{i=1}^{N}}\n",
    "\\newcommand{\\prodjK}{\\displaystyle \\prod_{j=1}^{K}}\n",
    "\\newcommand{\\prodkK}{\\displaystyle \\prod_{k=1}^{K}}\n",
    "\\newcommand{\\prodmN}{\\displaystyle \\prod_{m=1}^{N}}\n",
    "\\newcommand{\\prodnN}{\\displaystyle \\prod_{n=1}^{N}}\n",
    "$"
   ]
  },
  {
   "cell_type": "markdown",
   "metadata": {},
   "source": [
    "alphabet shortcuts\n",
    "$\n",
    "\\newcommand{\\ab}{\\mathbf{a}}\n",
    "\\newcommand{\\at}{\\ab^T}\n",
    "\\newcommand{\\Ab}{\\mathbf{A}}\n",
    "\\newcommand{\\At}{\\Ab^T}\n",
    "\\newcommand{\\Ai}{\\inv{\\Ab}}\n",
    "\\newcommand{\\Abjk}{\\Ab_{jk}}\n",
    "\\newcommand{\\bb}{\\mathbf{b}}\n",
    "\\newcommand{\\bt}{\\bb^T}\n",
    "\\newcommand{\\Bb}{\\mathbf{B}}\n",
    "\\newcommand{\\Bt}{\\Bb^T}\n",
    "\\newcommand{\\Cb}{\\mathbf{C}}\n",
    "\\newcommand{\\Cn}{\\Cb_{N}}\n",
    "\\newcommand{\\Db}{\\mathbf{D}}\n",
    "\\newcommand{\\fb}{\\mathbf{f}}\n",
    "\\newcommand{\\fp}{f^{\\prime}}\n",
    "\\newcommand{\\Hb}{\\mathbf{H}}\n",
    "\\newcommand{\\hx}{h(\\xb)}\n",
    "\\newcommand{\\Jb}{\\mathbf{J}}\n",
    "\\newcommand{\\kb}{\\mathbf{k}}\n",
    "\\newcommand{\\kt}{\\kb^T}\n",
    "\\newcommand{\\Kb}{\\mathbf{K}}\n",
    "\\newcommand{\\Lb}{\\mathbf{L}}\n",
    "\\newcommand{\\Lt}{\\Lb^T}\n",
    "\\newcommand{\\Lbi}{\\Lb^{-1}}\n",
    "\\newcommand{\\mb}{\\mathbf{m}}\n",
    "\\newcommand{\\mt}{\\mb^T}\n",
    "\\newcommand{\\mbn}{\\mb_N}\n",
    "\\newcommand{\\mbnt}{\\mbn^T}\n",
    "\\newcommand{\\mbN}{\\mb_N}\n",
    "\\newcommand{\\mbNt}{\\mbn^T}\n",
    "\\newcommand{\\Mb}{\\mathbf{M}}\n",
    "\\newcommand{\\Qb}{\\mathbf{Q}}\n",
    "\\newcommand{\\Rb}{\\mathbf{R}}\n",
    "\\newcommand{\\sb}{\\mathbf{s}}\n",
    "\\newcommand{\\Sb}{\\mathbf{S}}\n",
    "\\newcommand{\\tb}{\\mathbf{t}}\n",
    "\\newcommand{\\tbnn}{\\tb_{N}}\n",
    "\\newcommand{\\tbnp}{\\tb_{N+1}}\n",
    "\\newcommand{\\tt}{\\tb^T}\n",
    "\\newcommand{\\Tb}{\\mathbf{T}}\n",
    "\\newcommand{\\Tt}{\\Tb^T}\n",
    "\\newcommand{\\ub}{\\mathbf{u}}\n",
    "\\newcommand{\\Ub}{\\mathbf{U}}\n",
    "\\newcommand{\\Ut}{\\Ub^T}\n",
    "\\newcommand{\\vb}{\\mathbf{v}}\n",
    "\\newcommand{\\Vb}{\\mathbf{V}}\n",
    "\\newcommand{\\wb}{\\mathbf{w}}\n",
    "\\newcommand{\\wnr}[1]{\\wb^{(\\text{#1})}}\n",
    "\\newcommand{\\wt}{\\wb^T}\n",
    "\\newcommand{\\Wb}{\\mathbf{W}}\n",
    "\\newcommand{\\Wt}{\\Wb^T}\n",
    "\\newcommand{\\Wtilde}{\\widetilde{\\Wb}}\n",
    "\\newcommand{\\Wtildet}{\\Wtilde^T}\n",
    "\\newcommand{\\Xb}{\\mathbf{X}}\n",
    "\\newcommand{\\Xt}{\\Xb^T}\n",
    "\\newcommand{\\Xk}{\\Xb_k}\n",
    "\\newcommand{\\Xkt}{\\Xk^T}\n",
    "\\newcommand{\\Xtilde}{\\widetilde{\\Xb}}\n",
    "\\newcommand{\\Xtildet}{\\Xtilde^T}\n",
    "\\newcommand{\\xb}{\\mathbf{x}}\n",
    "\\newcommand{\\xt}{\\xb^T}\n",
    "\\newcommand{\\xtilde}{\\widetilde{\\xb}}\n",
    "\\newcommand{\\xtilden}{\\xtilde_n}\n",
    "\\newcommand{\\xtildent}{\\xtilden^T}\n",
    "\\newcommand{\\xp}{x^{\\prime}}\n",
    "\\newcommand{\\xbp}{\\xb^{\\prime}}\n",
    "\\newcommand{\\xbm}{\\xb_m}\n",
    "\\newcommand{\\xbn}{\\xb_n}\n",
    "\\newcommand{\\xbnp}{\\xb_{N+1}}\n",
    "\\newcommand{\\xab}{\\mathbf{x_a}}\n",
    "\\newcommand{\\xabt}{\\mathbf{x_a}^T}\n",
    "\\newcommand{\\xbb}{\\mathbf{x_b}}\n",
    "\\newcommand{\\xbbt}{\\mathbf{x_b}^T}\n",
    "\\newcommand{\\yb}{\\mathbf{y}}\n",
    "\\newcommand{\\yt}{\\yb^T}\n",
    "\\newcommand{\\yx}{y(\\xb)}\n",
    "\\newcommand{\\Yb}{\\mathbf{Y}}\n",
    "\\newcommand{\\Yt}{\\Yb^T}\n",
    "\\newcommand{\\zb}{\\mathbf{z}}\n",
    "\\newcommand{\\zt}{\\zb^T}\n",
    "\\newcommand{\\zbm}{\\zb_m}\n",
    "\\newcommand{\\zbn}{\\zb_n}\n",
    "\\newcommand{\\zbnp}{\\zb_{n-1}}\n",
    "\\newcommand{\\znk}{\\zb_{nk}}\n",
    "\\newcommand{\\znpj}{\\zb_{n-1,j}}\n",
    "\\newcommand{\\Zb}{\\mathbf{Z}}\n",
    "$"
   ]
  },
  {
   "cell_type": "markdown",
   "metadata": {},
   "source": [
    "math shortcuts\n",
    "$\n",
    "\\newcommand{\\alphab}{\\pmb{\\alpha}}\n",
    "\\newcommand{\\alphabt}{\\alphab^T}\n",
    "\\newcommand{\\betab}{\\pmb{\\beta}}\n",
    "\\newcommand{\\betabp}{\\betab^{\\prime}}\n",
    "\\newcommand{\\chib}{\\boldsymbol{\\chi}}\n",
    "\\newcommand{\\etab}{\\pmb{\\eta}}\n",
    "\\newcommand{\\etabp}{\\etab^{\\prime}}\n",
    "\\newcommand{\\etat}{\\eta^T}\n",
    "\\newcommand{\\etabt}{\\etab^T}\n",
    "\\newcommand{\\Lambdab}{\\pmb{\\Lambda}}\n",
    "\\newcommand{\\laa}{\\Lambda_{aa}}\n",
    "\\newcommand{\\laai}{\\Lambda_{aa}^{-1}}\n",
    "\\newcommand{\\lab}{\\Lambda_{ab}}\n",
    "\\newcommand{\\lba}{\\Lambda_{ba}}\n",
    "\\newcommand{\\lbb}{\\Lambda_{bb}}\n",
    "\\newcommand{\\lbbi}{\\Lambda_{bb}^{-1}}\n",
    "\\newcommand{\\li}{\\Lambda^{-1}}\n",
    "\\newcommand{\\Li}{\\Lambda^{-1}}\n",
    "\\newcommand{\\mub}{\\pmb{\\mu}}\n",
    "\\newcommand{\\mut}{\\mub^T}\n",
    "\\newcommand{\\muab}{\\pmb{\\mu}_a}\n",
    "\\newcommand{\\mubb}{\\pmb{\\mu}_b}\n",
    "\\newcommand{\\Phib}{\\pmb{\\Phi}}\n",
    "\\newcommand{\\Phibt}{\\Phib^T}\n",
    "\\newcommand{\\pib}{\\pmb{\\pi}}\n",
    "\\newcommand{\\sigmasqr}{\\sigma^2}\n",
    "\\newcommand{\\Sigmab}{\\pmb{\\Sigma}}\n",
    "\\newcommand{\\saa}{\\Sigma_{aa}}\n",
    "\\newcommand{\\sab}{\\Sigma_{ab}}\n",
    "\\newcommand{\\sba}{\\Sigma_{ba}}\n",
    "\\newcommand{\\sbb}{\\Sigma_{bb}}\n",
    "\\newcommand{\\Sigmai}{\\inv{\\Sigma}}\n",
    "\\newcommand{\\thetab}{\\pmb{\\theta}}\n",
    "\\newcommand{\\thetat}{\\thetab^T}\n",
    "\\newcommand{\\thetabh}{\\hat{\\thetab}}\n",
    "\\newcommand{\\thetaold}{\\thetab^{\\text{old}}}\n",
    "$\n",
    "$\n",
    "\\newcommand{\\zerob}{\\pmb{0}}\n",
    "\\newcommand{\\oneb}{\\pmb{1}}\n",
    "\\newcommand{\\ed}{\\mathbb{E}_{\\D}}\n",
    "\\newcommand{\\edyx}{\\ed\\left[y(\\xb ; \\D)\\right]}\n",
    "\\newcommand{\\dx}{~dx}\n",
    "\\newcommand{\\dxb}{~d\\xb}\n",
    "\\newcommand{\\pxdxb}{p(\\xb) \\dxb}\n",
    "\\newcommand{\\dwb}{~d\\wb}\n",
    "$"
   ]
  },
  {
   "cell_type": "markdown",
   "metadata": {},
   "source": [
    "aliases for distributions\n",
    "$\\newcommand{\\multivarcoeff}{\\frac{1}{(2\\pi)^{D/2}}\n",
    "\\frac{1}{\\left| \\mathbf{\\Sigma}\\right|^{1/2}}}$\n",
    "$\\newcommand{\\multivarexp}[2]\n",
    "{\n",
    "\\left\\{\n",
    " -\\frac{1}{2} \n",
    " {#1}^T \n",
    " #2\n",
    " {#1}\n",
    "\\right\\}\n",
    "}$\n",
    "$\\newcommand{\\multivarexpx}[1]{\\multivarexp{#1}{\\Sigma^{-1}}}$\n",
    "$\\newcommand{\\multivarexpstd}{\\multivarexpx{(\\xb-\\mub)}}$\n",
    "$\\newcommand{\\gam}{\\operatorname{Gam}}$\n",
    "$\n",
    "\\newcommand{\\Nl}[3]{\\mathcal{N}\\left(#1 \\mid #2, #3\\right)}\n",
    "\\newcommand{\\Nstdx}{\\Nl{\\mathbf{x}}{\\mathbf{\\mu}}{\\Sigma}}\n",
    "$"
   ]
  },
  {
   "cell_type": "code",
   "execution_count": 286,
   "metadata": {
    "ExecuteTime": {
     "end_time": "2016-08-31T09:03:37.484535",
     "start_time": "2016-08-31T09:03:37.480764"
    },
    "collapsed": false,
    "run_control": {
     "frozen": false,
     "read_only": false
    }
   },
   "outputs": [
    {
     "data": {
      "text/html": [
       "<style>div.cell{width:100%;margin-left:0%;margin-right:auto;}</style>"
      ],
      "text/plain": [
       "<IPython.core.display.HTML object>"
      ]
     },
     "execution_count": 286,
     "metadata": {},
     "output_type": "execute_result"
    }
   ],
   "source": [
    "HTML(\"<style>\"\\\n",
    "    \"div.cell{\"\\\n",
    "        \"width:100%;\"\\\n",
    "        \"margin-left:0%;\"\\\n",
    "        \"margin-right:auto;\"\\\n",
    "    \"}\"\\\n",
    "\"</style>\")"
   ]
  },
  {
   "cell_type": "code",
   "execution_count": 1,
   "metadata": {
    "ExecuteTime": {
     "end_time": "2016-08-31T23:28:39.101758",
     "start_time": "2016-08-31T23:28:39.027505"
    },
    "collapsed": false,
    "run_control": {
     "frozen": false,
     "read_only": false
    }
   },
   "outputs": [
    {
     "ename": "NameError",
     "evalue": "name 'np' is not defined",
     "output_type": "error",
     "traceback": [
      "\u001b[0;31m---------------------------------------------------------------------------\u001b[0m",
      "\u001b[0;31mNameError\u001b[0m                                 Traceback (most recent call last)",
      "\u001b[0;32m<ipython-input-1-82c23b4b498e>\u001b[0m in \u001b[0;36m<module>\u001b[0;34m()\u001b[0m\n\u001b[1;32m      1\u001b[0m \u001b[0mnum_pts\u001b[0m \u001b[0;34m=\u001b[0m \u001b[0;36m100\u001b[0m\u001b[0;34m\u001b[0m\u001b[0m\n\u001b[0;32m----> 2\u001b[0;31m \u001b[0mcovar\u001b[0m \u001b[0;34m=\u001b[0m \u001b[0;36m0.9\u001b[0m \u001b[0;34m*\u001b[0m \u001b[0mnp\u001b[0m\u001b[0;34m.\u001b[0m\u001b[0meye\u001b[0m\u001b[0;34m(\u001b[0m\u001b[0;36m2\u001b[0m\u001b[0;34m)\u001b[0m\u001b[0;34m\u001b[0m\u001b[0m\n\u001b[0m\u001b[1;32m      3\u001b[0m \u001b[0mnum_classes\u001b[0m \u001b[0;34m=\u001b[0m \u001b[0;36m4\u001b[0m\u001b[0;34m\u001b[0m\u001b[0m\n\u001b[1;32m      4\u001b[0m \u001b[0;34m\u001b[0m\u001b[0m\n\u001b[1;32m      5\u001b[0m \u001b[0mpts_class1\u001b[0m \u001b[0;34m=\u001b[0m \u001b[0mnp\u001b[0m\u001b[0;34m.\u001b[0m\u001b[0mrandom\u001b[0m\u001b[0;34m.\u001b[0m\u001b[0mmultivariate_normal\u001b[0m\u001b[0;34m(\u001b[0m\u001b[0;34m[\u001b[0m\u001b[0;34m-\u001b[0m\u001b[0;36m20\u001b[0m\u001b[0;34m,\u001b[0m\u001b[0;36m20\u001b[0m\u001b[0;34m]\u001b[0m\u001b[0;34m,\u001b[0m \u001b[0;36m1\u001b[0m\u001b[0;34m*\u001b[0m\u001b[0mcovar\u001b[0m\u001b[0;34m,\u001b[0m \u001b[0mnum_pts\u001b[0m\u001b[0;34m)\u001b[0m\u001b[0;34m\u001b[0m\u001b[0m\n",
      "\u001b[0;31mNameError\u001b[0m: name 'np' is not defined"
     ]
    }
   ],
   "source": [
    "num_pts = 100\n",
    "covar = 0.9 * np.eye(2)\n",
    "num_classes = 4\n",
    "\n",
    "pts_class1 = np.random.multivariate_normal([-20,20], 1*covar, num_pts)\n",
    "pts_class2 = np.random.multivariate_normal([-10,10], 5*covar, num_pts)\n",
    "pts_class3 = np.random.multivariate_normal([5,-5],   1*covar, num_pts)\n",
    "pts_class4 = np.random.multivariate_normal([15,-15], 1*covar, num_pts)\n",
    "\n",
    "pts_all = np.vstack([pts_class1, pts_class2, pts_class3, pts_class4])\n",
    "#pts_all = np.hstack([np.ones((pts_all.shape[0],1)),pts_all])\n",
    "class_labels = np.zeros((num_classes*num_pts,1)).ravel()\n",
    "for k in range(num_classes):\n",
    "    class_labels[k*num_pts:(k+1)*num_pts] = k\n",
    "    \n",
    "clr_classes2 = [(222/255,165/255,164/255),\n",
    "                (196/255,209/255,134/255),\n",
    "                (119/255,158/255,203/255),\n",
    "                (131/255,105/255,83/255),\n",
    "                (174/255,198/255,207/255),\n",
    "                (244/255,154/255,194/255),\n",
    "                (203/255,153/255,201/255),\n",
    "                (194/255,59/255,34/255),\n",
    "                (1,0,0),(0,1,0),(0,0,1),(1,0,1)]\n",
    "\n",
    "plt.plot(pts_class1[:,0], pts_class1[:,1], '.', c=clr_classes2[0],label='class 1')\n",
    "plt.plot(pts_class2[:,0], pts_class2[:,1], '.', c=clr_classes2[1],label='class 2')\n",
    "plt.plot(pts_class3[:,0], pts_class3[:,1], '.', c=clr_classes2[2],label='class 3')\n",
    "plt.plot(pts_class4[:,0], pts_class4[:,1], '.', c=clr_classes2[3],label='class 4')\n",
    "plt.legend(loc=(1,0.5))\n",
    "plt.show()"
   ]
  },
  {
   "cell_type": "code",
   "execution_count": 288,
   "metadata": {
    "ExecuteTime": {
     "end_time": "2016-08-31T09:03:37.742462",
     "start_time": "2016-08-31T09:03:37.738091"
    },
    "collapsed": false,
    "run_control": {
     "frozen": false,
     "read_only": false
    }
   },
   "outputs": [
    {
     "name": "stdout",
     "output_type": "stream",
     "text": [
      "(400,)\n",
      "100\n",
      "100\n",
      "100\n",
      "100\n"
     ]
    }
   ],
   "source": [
    "print(class_labels.shape)\n",
    "for k in range(num_classes):\n",
    "    print(len(class_labels[class_labels==k]))\n"
   ]
  },
  {
   "cell_type": "markdown",
   "metadata": {},
   "source": [
    "Test points - grid in this case"
   ]
  },
  {
   "cell_type": "code",
   "execution_count": 289,
   "metadata": {
    "ExecuteTime": {
     "end_time": "2016-08-31T09:03:37.749825",
     "start_time": "2016-08-31T09:03:37.744072"
    },
    "collapsed": false,
    "run_control": {
     "frozen": false,
     "read_only": false
    }
   },
   "outputs": [
    {
     "name": "stdout",
     "output_type": "stream",
     "text": [
      "X-test (10000, 2)\n"
     ]
    }
   ],
   "source": [
    "num_pts_test = 100\n",
    "x_test = y_test = np.linspace(-25,25,num_pts_test)\n",
    "x_test, y_test = np.meshgrid(x_test, x_test)\n",
    "x_test = x_test.reshape(-1,1)\n",
    "y_test = y_test.reshape(-1,1)\n",
    "\n",
    "X_test = np.hstack([x_test, y_test])\n",
    "print('X-test', X_test.shape)"
   ]
  },
  {
   "cell_type": "markdown",
   "metadata": {},
   "source": [
    "# LDA"
   ]
  },
  {
   "cell_type": "markdown",
   "metadata": {},
   "source": [
    "$$\n",
    "\\arrthree{\n",
    "\\pi_k &= \\ds \\frac{N_k}{N}\n",
    "\\\\\n",
    "\\mub_k &= \\ds \\fracone{N_k} \\sum_{\\xb_k \\in \\Xb_k} \\xb_k\n",
    "\\\\\n",
    "\\Sigma &=\n",
    "\\ds \\fracone{N-K} \\sumkK \\sum_{\\xb_k \\in \\Xb_k} (\\xb_k - \\mub_k) (\\xb_k - \\mub_k)^T \n",
    "}\n",
    "$$"
   ]
  },
  {
   "cell_type": "code",
   "execution_count": 290,
   "metadata": {
    "ExecuteTime": {
     "end_time": "2016-08-31T09:03:37.772077",
     "start_time": "2016-08-31T09:03:37.751240"
    },
    "collapsed": false,
    "run_control": {
     "frozen": false,
     "read_only": false
    }
   },
   "outputs": [
    {
     "name": "stdout",
     "output_type": "stream",
     "text": [
      "(400, 2)\n",
      "(2,)\n",
      "100 0.25 [[-19.99179358]\n",
      " [ 19.85368346]]\n",
      "(2,)\n",
      "100 0.25 [[-10.20664197]\n",
      " [ 10.10478644]]\n",
      "(2,)\n",
      "100 0.25 [[ 4.99119956]\n",
      " [-5.11826232]]\n",
      "(2,)\n",
      "100 0.25 [[ 15.08108058]\n",
      " [-14.9803372 ]]\n",
      "[[ 2.03961562  0.10918567]\n",
      " [ 0.10918567  1.9178381 ]]\n",
      "[[-19.99179358 -10.20664197   4.99119956  15.08108058]\n",
      " [ 19.85368346  10.10478644  -5.11826232 -14.9803372 ]]\n"
     ]
    }
   ],
   "source": [
    "# computing parameters\n",
    "print(pts_all.shape)\n",
    "N, p = pts_all.shape[0], pts_all.shape[1]\n",
    "muks = np.zeros((p, num_classes))\n",
    "piks = np.zeros((num_classes,1))\n",
    "covar = np.zeros((p,p))\n",
    "for k in range(num_classes):\n",
    "    ixs_k = k==class_labels\n",
    "    X_k = pts_all[ixs_k,:]\n",
    "    N_k = X_k.shape[0]\n",
    "    pi_k = N_k/N\n",
    "    mu_k = (np.sum(X_k,axis=0)/N_k).reshape(-1,1)\n",
    "    for ix_k in range(N_k):\n",
    "        x_k = X_k[ix_k,:].reshape(-1, 1)\n",
    "        covar += (x_k-mu_k) @ (x_k-mu_k).T\n",
    "    print(muks[:,k].shape)\n",
    "    piks[k] = pi_k\n",
    "    muks[:,k] = mu_k.ravel()\n",
    "    print(N_k, pi_k, mu_k)\n",
    "covar = covar / (N - num_classes)\n",
    "print(covar)\n",
    "print(muks)\n",
    "    \n",
    "    "
   ]
  },
  {
   "cell_type": "code",
   "execution_count": 291,
   "metadata": {
    "ExecuteTime": {
     "end_time": "2016-08-31T09:03:37.833414",
     "start_time": "2016-08-31T09:03:37.773357"
    },
    "collapsed": false,
    "run_control": {
     "frozen": false,
     "read_only": false
    }
   },
   "outputs": [
    {
     "name": "stdout",
     "output_type": "stream",
     "text": [
      "[[-10.38757822  -5.30241305   2.59791086   7.83610686]\n",
      " [ 10.94349842   5.57071736  -2.81666996  -8.25717658]]\n",
      "[[ 424.93507305]\n",
      " [ 110.41074083]\n",
      " [  27.38314725]\n",
      " [ 241.8722484 ]]\n"
     ]
    }
   ],
   "source": [
    "N, p = pts_all.shape[0], pts_all.shape[1]\n",
    "\n",
    "# cache\n",
    "sig_inv = np.linalg.inv(covar)\n",
    "sig_i_mu_k = np.zeros((p, num_classes))\n",
    "muk_si_muk = np.zeros((num_classes,1))\n",
    "for k in range(num_classes):\n",
    "    sig_i_mu_k[:,k] = sig_inv @ muks[:,k]\n",
    "    muk_si_muk[k] = muks[:,k] @ sig_i_mu_k[:,k]\n",
    "    \n",
    "print(sig_i_mu_k)\n",
    "print(muk_si_muk)\n"
   ]
  },
  {
   "cell_type": "markdown",
   "metadata": {},
   "source": [
    "$$\n",
    "\\delta_k(\\xb) = \\xt \\inv{\\Sigma} \\mu_k - \\half \\mu_k^T \\inv{\\Sigma} \\mu_k + \\log \\pi_k\n",
    "$$"
   ]
  },
  {
   "cell_type": "code",
   "execution_count": 292,
   "metadata": {
    "ExecuteTime": {
     "end_time": "2016-08-31T09:03:38.032634",
     "start_time": "2016-08-31T09:03:37.834632"
    },
    "collapsed": false,
    "run_control": {
     "frozen": false,
     "read_only": false
    }
   },
   "outputs": [
    {
     "name": "stdout",
     "output_type": "stream",
     "text": [
      "(10000, 4)\n",
      "(10000, 4)\n",
      "predictions: (10000,)\n"
     ]
    },
    {
     "data": {
      "image/png": "[encoded data removed]",
      "text/plain": [
       "<matplotlib.figure.Figure at 0x7f6382c514a8>"
      ]
     },
     "metadata": {},
     "output_type": "display_data"
    }
   ],
   "source": [
    "N_test = X_test.shape[0]\n",
    "print((X_test @ sig_i_mu_k).shape)\n",
    "print((X_test @ sig_i_mu_k - 0.5*muk_si_muk.reshape(1,-1) + np.log(pi_k)).shape)\n",
    "delta_ks = X_test @ sig_i_mu_k - 0.5*muk_si_muk.reshape(1,-1) + np.log(pi_k)\n",
    "predictions = np.argmax(delta_ks, axis=1)\n",
    "print('predictions:', predictions.shape)\n",
    "\n",
    "clr_classes = ['r','g','b','m']\n",
    "\n",
    "for k in range(num_classes):\n",
    "    plt.plot(X_test[predictions==k,0], X_test[predictions==k,1],\n",
    "             '.',c=clr_classes2[k])\n",
    "plt.plot(pts_class1[:,0], pts_class1[:,1], 'o', c=clr_classes2[0], label='class 1')\n",
    "plt.plot(pts_class2[:,0], pts_class2[:,1], 'o', c=clr_classes2[1], label='class 2')\n",
    "plt.plot(pts_class3[:,0], pts_class3[:,1], 'o', c=clr_classes2[2], label='class 3')\n",
    "plt.plot(pts_class4[:,0], pts_class4[:,1], 'o', c=clr_classes2[3], label='class 4')\n",
    "plt.legend(loc=(1,0.5))\n",
    "\n",
    "plt.show()"
   ]
  },
  {
   "cell_type": "markdown",
   "metadata": {},
   "source": [
    "# QDA"
   ]
  },
  {
   "cell_type": "markdown",
   "metadata": {},
   "source": [
    "$$\n",
    "\\arrthree{\n",
    "\\pi_k &= \\ds \\frac{N_k}{N}\n",
    "\\\\\n",
    "\\mub_k &= \\ds \\fracone{N_k} \\sum_{\\xb_k \\in \\Xb_k} \\xb_k\n",
    "\\\\\n",
    "\\Sigma_k &=\n",
    "\\ds \\fracone{N_k-1} \\sum_{\\xb_k \\in \\Xb_k} (\\xb_k - \\mub_k) (\\xb_k - \\mub_k)^T \n",
    "}\n",
    "$$"
   ]
  },
  {
   "cell_type": "code",
   "execution_count": 293,
   "metadata": {
    "ExecuteTime": {
     "end_time": "2016-08-31T09:03:38.036832",
     "start_time": "2016-08-31T09:03:38.033815"
    },
    "collapsed": false,
    "run_control": {
     "frozen": false,
     "read_only": false
    }
   },
   "outputs": [
    {
     "name": "stdout",
     "output_type": "stream",
     "text": [
      "(4, 2, 2)\n",
      "(2, 2)\n"
     ]
    }
   ],
   "source": [
    "covar = np.zeros((num_classes, p,p))\n",
    "print(covar.shape)\n",
    "print(covar[0,:,:].shape)"
   ]
  },
  {
   "cell_type": "code",
   "execution_count": 294,
   "metadata": {
    "ExecuteTime": {
     "end_time": "2016-08-31T09:03:38.063825",
     "start_time": "2016-08-31T09:03:38.037967"
    },
    "collapsed": false,
    "run_control": {
     "frozen": false,
     "read_only": false
    }
   },
   "outputs": [
    {
     "name": "stdout",
     "output_type": "stream",
     "text": [
      "pts_all (400, 2)\n",
      "[[ 0.25]\n",
      " [ 0.25]\n",
      " [ 0.25]\n",
      " [ 0.25]]\n",
      "[[[ 0.72029144 -0.16087871]\n",
      "  [-0.16087871  0.86416664]]\n",
      "\n",
      " [[ 5.82313213  0.45992423]\n",
      "  [ 0.45992423  5.03223912]]\n",
      "\n",
      " [[ 0.7448934   0.18230233]\n",
      "  [ 0.18230233  1.00060352]]\n",
      "\n",
      " [[ 0.87014552 -0.04460516]\n",
      "  [-0.04460516  0.7743431 ]]]\n",
      "[[-19.99179358 -10.20664197   4.99119956  15.08108058]\n",
      " [ 19.85368346  10.10478644  -5.11826232 -14.9803372 ]]\n"
     ]
    }
   ],
   "source": [
    "# computing parameters\n",
    "print('pts_all', pts_all.shape)\n",
    "\n",
    "N, p = pts_all.shape[0], pts_all.shape[1]\n",
    "muks = np.zeros((p, num_classes))\n",
    "piks = np.zeros((num_classes,1))\n",
    "covar = np.zeros((num_classes, p,p))\n",
    "for k in range(num_classes):\n",
    "    ixs_k = (k==class_labels)\n",
    "    X_k = pts_all[ixs_k,:]\n",
    "    N_k = X_k.shape[0]\n",
    "    pi_k = N_k/N\n",
    "    mu_k = (np.sum(X_k,axis=0)/N_k).reshape(-1,1)\n",
    "    for ix_k in range(N_k):\n",
    "        x_k = X_k[ix_k,:].reshape(-1, 1)\n",
    "        covar[k,:,:] += (x_k-mu_k) @ (x_k-mu_k).T\n",
    "    piks[k] = pi_k\n",
    "    muks[:,k] = mu_k.ravel()\n",
    "    covar[k,:,:] /= (N_k-1)\n",
    "\n",
    "print(piks)\n",
    "print(covar)\n",
    "print(muks)\n",
    "    \n",
    "    "
   ]
  },
  {
   "cell_type": "markdown",
   "metadata": {},
   "source": [
    "$$\n",
    "\\delta_k(\\xb) = -\\half \\log ~\\Mod{\\Sigmab_k}\n",
    "- \\half (\\xb - \\mub_k)^T \\inv{\\Sigmab} (\\xb - \\mub_k)\n",
    "+ \\log ~ \\pi_k\n",
    "$$"
   ]
  },
  {
   "cell_type": "code",
   "execution_count": 295,
   "metadata": {
    "ExecuteTime": {
     "end_time": "2016-08-31T09:03:38.441557",
     "start_time": "2016-08-31T09:03:38.065292"
    },
    "collapsed": false,
    "run_control": {
     "frozen": false,
     "read_only": false
    }
   },
   "outputs": [
    {
     "name": "stdout",
     "output_type": "stream",
     "text": [
      "(10000, 2) (2, 4)\n",
      "(10000, 4)\n",
      "predictions: (10000,)\n"
     ]
    },
    {
     "data": {
      "image/png": "[encoded data removed]",
      "text/plain": [
       "<matplotlib.figure.Figure at 0x7f6382cc4390>"
      ]
     },
     "metadata": {},
     "output_type": "display_data"
    }
   ],
   "source": [
    "N_test = X_test.shape[0]\n",
    "print(X_test.shape, muks.shape)\n",
    "\n",
    "delta_ks = np.zeros([N_test,num_classes])\n",
    "for k in range(num_classes):\n",
    "    sig_k = covar[k,:,:]\n",
    "    sig_k_inv = np.linalg.inv(sig_k)\n",
    "    # (N_test, K)\n",
    "    x_m_muk = X_test - muks[:,k].reshape(1,-1)\n",
    "\n",
    "    delta_ks[:,k] = math.log(piks[k]) - 0.5*math.log(np.linalg.det(sig_k))\n",
    "    for ix in range(N_test):\n",
    "        delta_ks[ix,k] -= 0.5*(x_m_muk[ix,:] @ sig_k_inv @ x_m_muk[ix,:].T)\n",
    "print(delta_ks.shape)\n",
    "\n",
    "predictions = np.argmax(delta_ks, axis=1)\n",
    "print('predictions:', predictions.shape)\n",
    "\n",
    "clr_classes = ['r','g','b','m']\n",
    "\n",
    "for k in range(num_classes):\n",
    "    plt.plot(X_test[predictions==k,0], X_test[predictions==k,1],\n",
    "             '.', c=clr_classes2[k])\n",
    "    \n",
    "plt.plot(pts_class1[:,0], pts_class1[:,1], 'o', c=clr_classes2[0], label='class 1')\n",
    "plt.plot(pts_class2[:,0], pts_class2[:,1], 'o', c=clr_classes2[1], label='class 2')\n",
    "plt.plot(pts_class3[:,0], pts_class3[:,1], 'o', c=clr_classes2[2], label='class 3')\n",
    "plt.plot(pts_class4[:,0], pts_class4[:,1], 'o', c=clr_classes2[3], label='class 4')\n",
    "plt.legend(loc=(1,0.5))\n",
    "\n",
    "plt.show()"
   ]
  },
  {
   "cell_type": "code",
   "execution_count": 296,
   "metadata": {
    "ExecuteTime": {
     "end_time": "2016-08-31T09:03:38.445704",
     "start_time": "2016-08-31T09:03:38.442831"
    },
    "collapsed": false,
    "run_control": {
     "frozen": false,
     "read_only": false
    }
   },
   "outputs": [
    {
     "name": "stdout",
     "output_type": "stream",
     "text": [
      "[[-19.99179358 -10.20664197   4.99119956  15.08108058]\n",
      " [ 19.85368346  10.10478644  -5.11826232 -14.9803372 ]]\n"
     ]
    }
   ],
   "source": [
    "print(muks)"
   ]
  }
 ],
 "metadata": {
  "hide_input": false,
  "kernelspec": {
   "display_name": "Python 3",
   "language": "python",
   "name": "python3"
  },
  "language_info": {
   "codemirror_mode": {
    "name": "ipython",
    "version": 3
   },
   "file_extension": ".py",
   "mimetype": "text/x-python",
   "name": "python",
   "nbconvert_exporter": "python",
   "pygments_lexer": "ipython3",
   "version": "3.5.2"
  },
  "latex_envs": {
   "bibliofile": "biblio.bib",
   "cite_by": "apalike",
   "current_citInitial": 1,
   "eqLabelWithNumbers": true,
   "eqNumInitial": 0
  },
  "nav_menu": {},
  "toc": {
   "navigate_menu": true,
   "number_sections": true,
   "sideBar": false,
   "threshold": 6,
   "toc_cell": false,
   "toc_section_display": "block",
   "toc_window_display": false
  }
 },
 "nbformat": 4,
 "nbformat_minor": 0
}
