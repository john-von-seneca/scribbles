{
 "cells": [
  {
   "cell_type": "code",
   "execution_count": 2,
   "metadata": {
    "collapsed": false
   },
   "outputs": [],
   "source": [
    "import numpy as np\n",
    "from matplotlib import pyplot as plt\n",
    "%matplotlib inline\n",
    "\n",
    "import random as rnd\n",
    "import os\n",
    "import math\n",
    "\n",
    "# required for interactive plotting\n",
    "from __future__ import print_function\n",
    "from ipywidgets import interact, interactive, fixed\n",
    "import ipywidgets as widgets\n",
    "import numpy.polynomial as np_poly\n",
    "\n",
    "from IPython.display import Math\n",
    "from IPython.display import Latex\n",
    "from IPython.display import HTML\n",
    "\n",
    "from pprint import pprint\n",
    "import functools as ft"
   ]
  },
  {
   "cell_type": "markdown",
   "metadata": {},
   "source": [
    "initialization\n",
    "$\n",
    "\\newcommand{\\Brace}[1]{\\left\\{#1\\right\\}}\n",
    "\\newcommand{\\Bracket}[1]{\\left[#1\\right]}\n",
    "\\newcommand{\\cov}[1]{\\text{cov} \\sigma\\left[#1\\right]}\n",
    "\\newcommand{\\E}[1]{\\mathbb{E}\\left[ #1 \\right]}\n",
    "\\newcommand{\\EXP}[1]{\\exp\\left\\{#1\\right\\}} \n",
    "\\newcommand{\\frachalf}[1]{\\frac{#1}{2}}\n",
    "\\newcommand{\\fracone}[1]{\\frac{1}{#1}}\n",
    "\\newcommand{\\fracrec}[1]{\\frac{1}{#1}}\n",
    "\\newcommand{\\half}{\\fracone{2}}\n",
    "\\newcommand{\\H}[1]{\\mathbb{H}\\left[#1\\right]}\n",
    "\\newcommand{\\inv}[1]{#1^{-1}}\n",
    "\\newcommand{\\invp}[1]{\\left({#1}\\right)^{-1}}\n",
    "\\newcommand{\\KL}[2]{\\text{KL}\\left(#1 \\Vert #2\\right)}\n",
    "\\newcommand{\\Lim}[1]{\\displaystyle \\lim_{#1}}\n",
    "\\newcommand{\\Ln}[1]{\\ln \\left\\(#1\\right\\)}\n",
    "\\newcommand{\\Lnb}[1]{\\ln \\left\\{#1\\right\\} }\n",
    "\\newcommand{\\Mod}[1]{\\left|#1\\right|}\n",
    "\\newcommand{\\Norm}[1]{\\left\\lVert #1 \\right\\rVert}\n",
    "\\newcommand{\\Normsqr}[1]{\\Norm{#1}^2}\n",
    "\\newcommand{\\map}[1]{#1_{\\text{MAP}}}\n",
    "\\newcommand{\\ml}[1]{#1_{\\text{ML}}}\n",
    "\\newcommand{\\MI}[1]{\\mathcal{I}\\left(#1\\right)}\n",
    "\\newcommand{\\P}{\\mathbb{P}}\n",
    "\\newcommand{\\Paran}[1]{\\left(#1\\right)}\n",
    "\\newcommand{\\Partial}[2]{\\frac{\\partial #1}{\\partial #2}}\n",
    "\\newcommand{\\sqrbrkt}[1]{\\Bracket{#1}^2}\n",
    "\\newcommand{\\sqrbrc}[1]{\\Brace{#1}^2}\n",
    "\\newcommand{\\trace}[1]{\\text{Tr}\\left( #1 \\right)}\n",
    "\\newcommand{\\traceb}[1]{\\text{Tr}\\left\\{#1\\right\\}}\n",
    "\\newcommand{\\underl}[1]{\\text{$\\underline{#1}$}}\n",
    "\\newcommand{\\V}[1]{\\mathbb{V}\\left[#1\\right]}\n",
    "$\n",
    "$\n",
    "\\DeclareMathOperator*{\\argmin}{arg\\,min}\n",
    "\\DeclareMathOperator*{\\argmax}{arg\\,max}\n",
    "$\n",
    "$\n",
    "\\newcommand{\\mat}[1]{ \\left[ \\begin{matrix} #1 \\end{matrix} \\right] }\n",
    "\\newcommand{\\matp}[1]{ \\left( \\begin{matrix} #1 \\end{matrix} \\right)}\n",
    "\\newcommand{\\mats}[1]{ \\begin{matrix}#1\\end{matrix} }\n",
    "\\newcommand{\\arrthree}[1]{\n",
    "\\begin{array}{rlr} #1 \\end{array}}\n",
    "$"
   ]
  },
  {
   "cell_type": "markdown",
   "metadata": {},
   "source": [
    "$\n",
    "\\newcommand{\\C}{\\mathbb{C}}\n",
    "\\newcommand{\\Ca}{\\mathcal{C}}\n",
    "\\newcommand{\\Caone}{\\Ca_1}\n",
    "\\newcommand{\\Catwo}{\\Ca_2}\n",
    "\\newcommand{\\Cak}{\\Ca_k}\n",
    "\\newcommand{\\D}{\\mathcal{D}}\n",
    "\\newcommand{\\G}{\\mathcal{G}}\n",
    "\\newcommand{\\I}{\\mathcal{I}}\n",
    "\\newcommand{\\L}{\\mathcal{L}}\n",
    "\\newcommand{\\M}{\\mathcal{M}}\n",
    "\\newcommand{\\N}{\\mathbb{N}}\n",
    "\\newcommand{\\R}{\\mathbb{R}}\n",
    "\\newcommand{\\Ra}{\\mathcal{R}}\n",
    "$\n",
    "$\n",
    "\\newcommand{\\commentgray}[1]{\\color{gray}{\\text{#1}}}\n",
    "$"
   ]
  },
  {
   "cell_type": "markdown",
   "metadata": {},
   "source": [
    "sum, product\n",
    "$\n",
    "\\newcommand{\\sumi}{\\displaystyle \\sum_i}\n",
    "\\newcommand{\\sumiD}{\\displaystyle \\sum_{i=1}^{D}}\n",
    "\\newcommand{\\sumiL}{\\displaystyle \\sum_{i=1}^{L}}\n",
    "\\newcommand{\\sumiN}{\\displaystyle \\sum_{i=1}^{N}}\n",
    "\\newcommand{\\sumjD}{\\displaystyle \\sum_{j=1}^{D}}\n",
    "\\newcommand{\\sumjK}{\\displaystyle \\sum_{j=1}^{K}}\n",
    "\\newcommand{\\sumjMl}{\\sum_{j=1}^{M-1}}\n",
    "\\newcommand{\\sumkK}{\\displaystyle \\sum_{k=1}^{K}}\n",
    "\\newcommand{\\sumkM}{\\displaystyle \\sum_{k=1}^{M}}\n",
    "\\newcommand{\\sumkMl}{\\sum_{k=1}^{M-1}}\n",
    "\\newcommand{\\summN}{\\displaystyle \\sum_{m=1}^{N}}\n",
    "\\newcommand{\\sumnN}{\\displaystyle \\sum_{n=1}^{N}}\n",
    "$\n",
    "$\n",
    "\\newcommand{\\prodi}{\\displaystyle \\prod_i}\n",
    "\\newcommand{\\prodiD}{\\displaystyle \\prod_{i=1}^{D}}\n",
    "\\newcommand{\\prodiL}{\\displaystyle \\prod_{i=1}^{L}}\n",
    "\\newcommand{\\prodiN}{\\displaystyle \\prod_{i=1}^{N}}\n",
    "\\newcommand{\\prodjK}{\\displaystyle \\prod_{j=1}^{K}}\n",
    "\\newcommand{\\prodkK}{\\displaystyle \\prod_{k=1}^{K}}\n",
    "\\newcommand{\\prodmN}{\\displaystyle \\prod_{m=1}^{N}}\n",
    "\\newcommand{\\prodnN}{\\displaystyle \\prod_{n=1}^{N}}\n",
    "$"
   ]
  },
  {
   "cell_type": "markdown",
   "metadata": {},
   "source": [
    "alphabet shortcuts\n",
    "$\n",
    "\\newcommand{\\ab}{\\mathbf{a}}\n",
    "\\newcommand{\\Ab}{\\mathbf{A}}\n",
    "\\newcommand{\\At}{\\Ab^T}\n",
    "\\newcommand{\\Ai}{\\inv{\\Ab}}\n",
    "\\newcommand{\\Abjk}{\\Ab_{jk}}\n",
    "\\newcommand{\\bb}{\\mathbf{b}}\n",
    "\\newcommand{\\bt}{\\bb^T}\n",
    "\\newcommand{\\Bb}{\\mathbf{B}}\n",
    "\\newcommand{\\Bt}{\\Bb^T}\n",
    "\\newcommand{\\Cb}{\\mathbf{C}}\n",
    "\\newcommand{\\Db}{\\mathbf{D}}\n",
    "\\newcommand{\\fb}{\\mathbf{f}}\n",
    "\\newcommand{\\fp}{f^{\\prime}}\n",
    "\\newcommand{\\Hb}{\\mathbf{H}}\n",
    "\\newcommand{\\hx}{h(\\xb)}\n",
    "\\newcommand{\\Jb}{\\mathbf{J}}\n",
    "\\newcommand{\\Kb}{\\mathbf{K}}\n",
    "\\newcommand{\\Lb}{\\mathbf{L}}\n",
    "\\newcommand{\\Lt}{\\Lb^T}\n",
    "\\newcommand{\\Lbi}{\\Lb^{-1}}\n",
    "\\newcommand{\\mb}{\\mathbf{m}}\n",
    "\\newcommand{\\mt}{\\mb^T}\n",
    "\\newcommand{\\mbn}{\\mb_N}\n",
    "\\newcommand{\\mbnt}{\\mbn^T}\n",
    "\\newcommand{\\Mb}{\\mathbf{M}}\n",
    "\\newcommand{\\Qb}{\\mathbf{Q}}\n",
    "\\newcommand{\\Rb}{\\mathbf{R}}\n",
    "\\newcommand{\\sb}{\\mathbf{s}}\n",
    "\\newcommand{\\Sb}{\\mathbf{S}}\n",
    "\\newcommand{\\tb}{\\mathbf{t}}\n",
    "\\newcommand{\\tt}{\\tb^T}\n",
    "\\newcommand{\\Tb}{\\mathbf{T}}\n",
    "\\newcommand{\\Tt}{\\Tb^T}\n",
    "\\newcommand{\\ub}{\\mathbf{u}}\n",
    "\\newcommand{\\Ub}{\\mathbf{U}}\n",
    "\\newcommand{\\Ut}{\\Ub^T}\n",
    "\\newcommand{\\vb}{\\mathbf{v}}\n",
    "\\newcommand{\\Vb}{\\mathbf{V}}\n",
    "\\newcommand{\\wb}{\\mathbf{w}}\n",
    "\\newcommand{\\wt}{\\wb^T}\n",
    "\\newcommand{\\Wb}{\\mathbf{W}}\n",
    "\\newcommand{\\Wt}{\\Wb^T}\n",
    "\\newcommand{\\Wtilde}{\\widetilde{\\Wb}}\n",
    "\\newcommand{\\Wtildet}{\\Wtilde^T}\n",
    "\\newcommand{\\Xb}{\\mathbf{X}}\n",
    "\\newcommand{\\Xt}{\\Xb^T}\n",
    "\\newcommand{\\Xtilde}{\\widetilde{\\Xb}}\n",
    "\\newcommand{\\Xtildet}{\\Xtilde^T}\n",
    "\\newcommand{\\xb}{\\mathbf{x}}\n",
    "\\newcommand{\\xt}{\\xb^T}\n",
    "\\newcommand{\\xtilde}{\\widetilde{\\xb}}\n",
    "\\newcommand{\\xtilden}{\\xtilde_n}\n",
    "\\newcommand{\\xtildent}{\\xtilden^T}\n",
    "\\newcommand{\\xp}{x^{\\prime}}\n",
    "\\newcommand{\\xbp}{\\xb^{\\prime}}\n",
    "\\newcommand{\\xbm}{\\xb_m}\n",
    "\\newcommand{\\xbn}{\\xb_n}\n",
    "\\newcommand{\\xab}{\\mathbf{x_a}}\n",
    "\\newcommand{\\xabt}{\\mathbf{x_a}^T}\n",
    "\\newcommand{\\xbb}{\\mathbf{x_b}}\n",
    "\\newcommand{\\xbbt}{\\mathbf{x_b}^T}\n",
    "\\newcommand{\\yb}{\\mathbf{y}}\n",
    "\\newcommand{\\yt}{\\yb^T}\n",
    "\\newcommand{\\yx}{y(\\xb)}\n",
    "\\newcommand{\\zb}{\\mathbf{z}}\n",
    "\\newcommand{\\zt}{\\zb^T}\n",
    "\\newcommand{\\zbm}{\\zb_m}\n",
    "\\newcommand{\\zbn}{\\zb_n}\n",
    "\\newcommand{\\zbnp}{\\zb_{n-1}}\n",
    "\\newcommand{\\znk}{\\zb_{nk}}\n",
    "\\newcommand{\\znpj}{\\zb_{n-1,j}}\n",
    "\\newcommand{\\Zb}{\\mathbf{Z}}\n",
    "$"
   ]
  },
  {
   "cell_type": "markdown",
   "metadata": {},
   "source": [
    "math shortcuts\n",
    "$\n",
    "\\newcommand{\\chib}{\\boldsymbol{\\chi}}\n",
    "\\newcommand{\\etab}{\\pmb{\\eta}}\n",
    "\\newcommand{\\etat}{\\eta^T}\n",
    "\\newcommand{\\etabt}{\\etab^T}\n",
    "\\newcommand{\\Lambdab}{\\pmb{\\Lambda}}\n",
    "\\newcommand{\\laa}{\\Lambda_{aa}}\n",
    "\\newcommand{\\laai}{\\Lambda_{aa}^{-1}}\n",
    "\\newcommand{\\lab}{\\Lambda_{ab}}\n",
    "\\newcommand{\\lba}{\\Lambda_{ba}}\n",
    "\\newcommand{\\lbb}{\\Lambda_{bb}}\n",
    "\\newcommand{\\lbbi}{\\Lambda_{bb}^{-1}}\n",
    "\\newcommand{\\li}{\\Lambda^{-1}}\n",
    "\\newcommand{\\Li}{\\Lambda^{-1}}\n",
    "\\newcommand{\\mub}{\\pmb{\\mu}}\n",
    "\\newcommand{\\mut}{\\mub^T}\n",
    "\\newcommand{\\muab}{\\pmb{\\mu}_a}\n",
    "\\newcommand{\\mubb}{\\pmb{\\mu}_b}\n",
    "\\newcommand{\\Phib}{\\pmb{\\Phi}}\n",
    "\\newcommand{\\Phibt}{\\Phib^T}\n",
    "\\newcommand{\\pib}{\\pmb{\\pi}}\n",
    "\\newcommand{\\sigmasqr}{\\sigma^2}\n",
    "\\newcommand{\\saa}{\\Sigma_{aa}}\n",
    "\\newcommand{\\sab}{\\Sigma_{ab}}\n",
    "\\newcommand{\\sba}{\\Sigma_{ba}}\n",
    "\\newcommand{\\sbb}{\\Sigma_{bb}}\n",
    "\\newcommand{\\Sigmai}{\\inv{\\Sigma}}\n",
    "\\newcommand{\\thetab}{\\pmb{\\theta}}\n",
    "\\newcommand{\\thetat}{\\thetab^T}\n",
    "\\newcommand{\\thetabh}{\\hat{\\thetab}}\n",
    "\\newcommand{\\thetaold}{\\thetab^{\\text{old}}}\n",
    "$\n",
    "$\n",
    "\\newcommand{\\zerob}{\\pmb{0}}\n",
    "\\newcommand{\\ed}{\\mathbb{E}_{\\D}}\n",
    "\\newcommand{\\edyx}{\\ed\\left[y(\\xb ; \\D)\\right]}\n",
    "\\newcommand{\\dx}{~dx}\n",
    "\\newcommand{\\dxb}{~d\\xb}\n",
    "\\newcommand{\\pxdxb}{p(\\xb) \\dxb}\n",
    "\\newcommand{\\dwb}{~d\\wb}\n",
    "$"
   ]
  },
  {
   "cell_type": "markdown",
   "metadata": {},
   "source": [
    "aliases for distributions\n",
    "$\\newcommand{\\multivarcoeff}{\\frac{1}{(2\\pi)^{D/2}}\n",
    "\\frac{1}{\\left| \\mathbf{\\Sigma}\\right|^{1/2}}}$\n",
    "$\\newcommand{\\multivarexp}[2]\n",
    "{\n",
    "\\left\\{\n",
    " -\\frac{1}{2} \n",
    " {#1}^T \n",
    " #2\n",
    " {#1}\n",
    "\\right\\}\n",
    "}$\n",
    "$\\newcommand{\\multivarexpx}[1]{\\multivarexp{#1}{\\Sigma^{-1}}}$\n",
    "$\\newcommand{\\multivarexpstd}{\\multivarexpx{(\\xb-\\mub)}}$\n",
    "$\\newcommand{\\gam}{\\operatorname{Gam}}$\n",
    "$\n",
    "\\newcommand{\\Nl}[3]{\\mathcal{N}\\left(#1 \\mid #2, #3\\right)}\n",
    "\\newcommand{\\Nstdx}{\\Nl{\\mathbf{x}}{\\mathbf{\\mu}}{\\Sigma}}\n",
    "$"
   ]
  },
  {
   "cell_type": "markdown",
   "metadata": {},
   "source": [
    "# Intro"
   ]
  },
  {
   "cell_type": "markdown",
   "metadata": {},
   "source": [
    "A generative approach in which we model the class-conditional densities $p(\\xb \\mid \\Ca_k)$ as well as the class priors $p(\\Ca_k)$. We then use Bayes' theorem to compute $p(\\Ca_k \\mid \\xb)$"
   ]
  },
  {
   "cell_type": "markdown",
   "metadata": {},
   "source": [
    "## Two classes"
   ]
  },
  {
   "cell_type": "markdown",
   "metadata": {},
   "source": [
    "$$\n",
    "\\arrthree{\n",
    "p(\\Ca_1 \\mid \\xb)\n",
    "&=\n",
    "\\frac\n",
    "{p(\\xb \\mid \\Ca_1) ~p(\\Ca_1)}\n",
    "{p(\\xb \\mid \\Ca_1) ~p(\\Ca_1) + p(\\xb \\mid \\Ca_2) ~p(\\Ca_2)}\n",
    "\\\\\n",
    "&=\\invp{1 + \n",
    "\\frac{p(\\xb \\mid \\Ca_2) ~p(\\Ca_2)}{p(\\xb \\mid \\Ca_1) ~p(\\Ca_1)}\n",
    "}\n",
    "\\\\\n",
    "&= \\fracone{1 + \\exp(-a)} = \\sigma(a)\n",
    "}\n",
    "$$\n",
    "where\n",
    "$$\n",
    "a = \\Lnb{\\frac{p(\\xb \\mid \\Ca_1) ~p(\\Ca_1)}{p(\\xb \\mid \\Ca_2) ~p(\\Ca_2)}}\n",
    "$$"
   ]
  },
  {
   "cell_type": "markdown",
   "metadata": {},
   "source": [
    "### Logistic Sigmoid\n",
    "\n",
    "$\\sigma(a)$ is the **logistic sigmoid** function defined by\n",
    "$$\n",
    "\\sigma(a) = \\fracrec{1 + \\exp(-a)}\n",
    "$$\n",
    "\n",
    "* Sigmoid mean S-shaped\n",
    "* Aka squashing function\n",
    "  * since maps entire real axis on to a finite interval\n",
    "* $\\sigma(-a) = 1 - \\sigma(a) $"
   ]
  },
  {
   "cell_type": "markdown",
   "metadata": {},
   "source": [
    "### Logit function\n",
    "\n",
    "Inverse of logistic sigmoid, called logit function, is given by\n",
    "$$\n",
    "a = \\Lnb{\\frac{\\sigma}{1-\\sigma}}\n",
    "$$\n",
    "\n",
    "* represents the log of ratio of probabilities ln[$p(\\Ca_1 \\mid \\xb)/p(\\Ca_2 \\mid \\xb)$] called **log odds**"
   ]
  },
  {
   "cell_type": "markdown",
   "metadata": {},
   "source": [
    "## Multiple classes"
   ]
  },
  {
   "cell_type": "markdown",
   "metadata": {},
   "source": [
    "For K>2 classes, we have\n",
    "$$\n",
    "\\arrthree{\n",
    "p(\\Ca_k \\mid \\xb) &= \n",
    "\\frac\n",
    "{p(\\xb \\mid \\Ca_k) ~p(\\Ca_k)}\n",
    "{\\sum_j ~p(\\xb \\mid \\Ca_j) ~p(\\Ca_j)}\n",
    "\\\\ &=\n",
    "\\frac{\\exp(a_k)}{\\sum_j ~\\exp(a_j)}\n",
    "}\n",
    "$$\n",
    "* This is called **normalized exponential**\n",
    "* Here $a_k = \\ln p(\\xb \\mid \\Ca_k) ~p(\\Ca_k)$\n",
    "* aka **softmax function**\n",
    "  * if $a_k \\gg a_j$ for all $j \\ne k$, then\n",
    "  * $p(\\Ca_k \\mid \\xb) \\approx 1$ and $p(\\Ca_j \\mid \\xb) \\approx 0$"
   ]
  },
  {
   "cell_type": "markdown",
   "metadata": {},
   "source": [
    "# continuous inputs"
   ]
  },
  {
   "cell_type": "markdown",
   "metadata": {},
   "source": [
    "## 2 class case"
   ]
  },
  {
   "cell_type": "markdown",
   "metadata": {},
   "source": [
    "Assumptions:\n",
    "* class-conditional densities are Gaussian.  \n",
    "* All classes share the same covariance Matrix"
   ]
  },
  {
   "cell_type": "markdown",
   "metadata": {},
   "source": [
    "$$\n",
    "p(\\xb \\mid \\Ca_k) = \n",
    "\\fracrec{\\Paran{2\\pi}^{D/2}}\n",
    "\\fracrec{\\Mod{\\Sigma}^{1/2}}\n",
    "\\EXP{-\\half (\\xb - \\mub_k)^T \\inv{\\Sigma} (\\xb - \\mub_k)}\n",
    "$$"
   ]
  },
  {
   "cell_type": "markdown",
   "metadata": {},
   "source": [
    "$$\n",
    "a = \\Lnb{\\frac{p(\\xb \\mid \\Ca_1) ~p(\\Ca_1)}{p(\\xb \\mid \\Ca_2) ~p(\\Ca_2)}}\n",
    "$$\n",
    "\n",
    "For class 1\n",
    "$$\n",
    "-\\frachalf{D} \\ln(2\\pi) -\\half \\Mod{\\Sigma} - \\half \\Brace{\n",
    "\\xt \\Sigmai \\xb - 2 \\mub_1^T \\Sigmai \\xb + \\mub_1^T \\Sigmai \\mub_1\n",
    "+ \\ln ~p(\\Ca_1)\n",
    "}\n",
    "$$"
   ]
  },
  {
   "cell_type": "markdown",
   "metadata": {},
   "source": [
    "Hence\n",
    "$$\n",
    "\\arrthree{\n",
    "a &= \\mub_1^T \\Sigmai \\xb - \\half \\mub_1^T \\Sigmai \\mub_1 + \\ln ~p(\\Ca_1)\n",
    "\\\\ &- \\mub_2^T \\Sigmai \\xb + \\half \\mub_2^T \\Sigmai \\mub_2 - \\ln ~p(\\Ca_2)\n",
    "\\\\ &=\n",
    "\\Paran{\\underbrace{\\Sigmai (\\mub_1 - \\mub_2)}_{\\wb}}^T \\xb\n",
    "- \\half \\mub_1^T \\Sigmai \\mub_1\n",
    "+ \\half \\mub_2^T \\Sigmai \\mub_2\n",
    "+ \\ln ~p(\\Ca_1) - \\ln ~p(\\Ca_2)\n",
    "\\\\ &=\n",
    "\\wt \\xb + w_0\n",
    "}\n",
    "$$"
   ]
  },
  {
   "cell_type": "markdown",
   "metadata": {},
   "source": [
    "## Comments\n",
    "\n",
    "* Decision boundaries correspond to surfaces along which the posterior probabilities\n",
    "$p(\\Ca_k \\mid \\xb)$ are constant\n",
    "* Hence the boundaries are given by linear functions of **x**\n",
    "* Therefore decision boundaries are linear in input space."
   ]
  },
  {
   "cell_type": "markdown",
   "metadata": {},
   "source": [
    "* The prior probabilities $p(\\Ca_k)$ enter only through the bias parameter $w_0$\n",
    "* Hence changes in the priors have the effect of making \n",
    "  * parallel shifts of the decision boundary\n",
    "  * More generally of the parallel contours of constant posterior probability."
   ]
  },
  {
   "cell_type": "markdown",
   "metadata": {},
   "source": [
    "## multi class"
   ]
  },
  {
   "cell_type": "markdown",
   "metadata": {},
   "source": [
    "Since $a_k = \\ln p(\\xb \\mid \\Ca_k) ~p(\\Ca_k)$, we have for class k\n",
    "$$\n",
    "-\\frachalf{D} \\ln(2\\pi) -\\frachalf{\\Mod{\\Sigma}} - \\half \\Brace{\n",
    "\\xt \\Sigmai \\xb - 2 \\mub_k^T \\Sigmai \\xb + \\mub_k^T \\Sigmai \\mub_k\n",
    "+ \\ln ~p(\\Ca_k)\n",
    "}\n",
    "$$"
   ]
  },
  {
   "cell_type": "markdown",
   "metadata": {},
   "source": [
    "So first three terms gets the fuck lost coz of softmax denominator sharing terms with the numerator. That is\n",
    "$$\n",
    "\\arrthree{\n",
    "a_k(\\xb) &= \\Paran{\\Sigmai \\mub_k}^T \\xb -\\half \\mub_k^T \\Sigmai \\mub_k\n",
    "+ \\ln ~p(\\Ca_k)\n",
    "\\\\ &=\n",
    "\\wt \\xb + w_{k0}\n",
    "\\\\ \\text{where} \\\\\n",
    "\\wb &= \\Sigmai \\mub_k \\\\\n",
    "w_{k0} &= -\\half \\mub_k^T \\Sigmai \\mub_k\n",
    "+ \\ln ~p(\\Ca_k)\n",
    "}\n",
    "$$\n"
   ]
  },
  {
   "cell_type": "markdown",
   "metadata": {},
   "source": [
    "* The resulting decision boundary will occur if two of the posteriors (the two largest) are equal.\n",
    "* hence, the decision boundary in this case would be linear function of **x**\n",
    "* again, we have a generalized linear model"
   ]
  },
  {
   "cell_type": "markdown",
   "metadata": {},
   "source": [
    "* If we relax the assumption of a shared covar, we obtain a quadratic function of **x**\n",
    "* this is called a **quadratic discriminant**"
   ]
  },
  {
   "cell_type": "markdown",
   "metadata": {},
   "source": [
    "# ML solution"
   ]
  },
  {
   "cell_type": "markdown",
   "metadata": {},
   "source": [
    "## 2 class"
   ]
  },
  {
   "cell_type": "markdown",
   "metadata": {},
   "source": [
    "Given\n",
    "* data set $\\Paran{\\xb_n}_{n=1}^{N}$\n",
    "* $t_n = \\begin{cases} 1 & \\text{class 1} \\\\ 0 & \\text{class 2} \\end{cases}$\n",
    "* Priors\n",
    "  * $p(\\Ca_1) = \\pi$\n",
    "  * $p(\\Ca_2) = 1 - \\pi$"
   ]
  },
  {
   "cell_type": "markdown",
   "metadata": {},
   "source": [
    "For class 1\n",
    "$$\n",
    "p(\\xbn, \\Caone) = p(\\Caone) ~p(\\xbn \\mid \\Caone)\n",
    "= \\pi \\Nl{\\xbn}{\\mub_1}{\\Sigma}\n",
    "$$\n",
    "\n",
    "For class 2\n",
    "$$\n",
    "p(\\xbn, \\Catwo) = p(\\Catwo) ~p(\\xbn \\mid \\Catwo)\n",
    "= (1 - \\pi) \\Nl{\\xbn}{\\mub_2}{\\Sigma}\n",
    "$$"
   ]
  },
  {
   "cell_type": "markdown",
   "metadata": {},
   "source": [
    "Likelihood\n",
    "\n",
    "$$\n",
    "\\arrthree{\n",
    "p(\\tb \\mid \\pi, \\mub_1, \\mub_2, \\Sigma)\n",
    "&=\n",
    "\\prodnN\n",
    "\\Bracket{\\pi \\Nl{\\xbn}{\\mub_1}{\\Sigma}}^{t_n}\n",
    "\\Bracket{(1-\\pi) \\Nl{\\xbn}{\\mub_2}{\\Sigma}}^{1-t_n}\n",
    "}\n",
    "$$"
   ]
  },
  {
   "cell_type": "markdown",
   "metadata": {},
   "source": [
    "### wrt pi\n",
    "\n",
    "Terms of interest\n",
    "$$\n",
    "\\sumnN \\Brace{t_n \\ln \\pi + (1-t_n) \\ln (1-\\pi)}\n",
    "$$\n",
    "\n",
    "Setting the derivative of this wrt $\\pi$ to zero,\n",
    "$$\n",
    "\\arrthree{\n",
    "\\sumnN \\frac{t_n}{\\pi} - \\frac{1 - t_n}{1-\\pi} &= 0\n",
    "\\\\\n",
    "\\sumnN t_n (1-\\pi) - (1-t_n) \\pi &= 0 \\\\\n",
    "\\pi = \\fracrec{N} \\sumnN t_n &= \\frac{N_1}{N} = \\frac{N_1}{N_1 + N_2}\n",
    "}\n",
    "$$"
   ]
  },
  {
   "cell_type": "markdown",
   "metadata": {},
   "source": [
    "### wrt  mu"
   ]
  },
  {
   "cell_type": "markdown",
   "metadata": {},
   "source": [
    "Terms of interest\n",
    "$$\n",
    "\\sumnN t_n \\ln \\Nl{\\xbn}{\\mub_k}{\\Sigma} =\n",
    "-\\half \\sumnN t_n (\\xbn - \\mub_k)^T \\Sigmai (\\xbn - \\mub_k)\n",
    "$$"
   ]
  },
  {
   "cell_type": "markdown",
   "metadata": {},
   "source": [
    "Diff and setting to zero, we have\n",
    "$$\n",
    "\\arrthree{\n",
    "\\sumnN t_n \\Sigmai (\\xbn - \\mub_k) &= 0 \\\\\n",
    "\\sumnN t_n \\mub_k  &= \\sumnN t_n \\xbn\\\\\n",
    "\\mub_k &= \\fracrec{N} \\sumnN t_n \\xbn\n",
    "}\n",
    "$$"
   ]
  },
  {
   "cell_type": "markdown",
   "metadata": {},
   "source": [
    "### wrt sigma"
   ]
  },
  {
   "cell_type": "markdown",
   "metadata": {},
   "source": [
    "Terms of interest\n",
    "$$\n",
    "\\arrthree{\n",
    "\\sumkK \\Brace{\n",
    "-\\half \\sumnN t_n \\ln \\Mod{\\Sigma} \n",
    "-\\half \\sumnN t_n (\\xbn - \\mub_k)^T \\Sigmai (\\xbn - \\mub_k)}\n",
    "\\\\\n",
    "\\displaystyle \\frachalf{N} \\ln \\Mod{\\Sigma} - \\half \\sum_{n \\in \\Ca_k} (\\xbn - \\mub_k)^T \\Sigmai (\\xbn - \\mub_k)\n",
    "}\n",
    "$$"
   ]
  },
  {
   "cell_type": "markdown",
   "metadata": {},
   "source": [
    "$$\n",
    "\\displaystyle \\sum_{n \\in \\Ca_k} (\\xbn - \\mub_k)^T \\Sigmai (\\xbn - \\mub_k)\n",
    "\\\\\n",
    "N_k\n",
    "\\underbrace{\\fracrec{N_k} \\displaystyle \\sum_{n \\in \\Ca_k} \n",
    "\\Brace{\n",
    "(\\xbn - \\mub_k)^T \\Sigmai (\\xbn - \\mub_k)\n",
    "}}_{\\Sb_k}\n",
    "\\\\\n",
    "N_k \\Sb_k\n",
    "$$\n",
    "\n",
    "where\n",
    "$$\n",
    "\\Sb_k = \\fracrec{N_k} \\displaystyle \\sum_{n \\in \\Ca_k} \n",
    "\\Brace{\n",
    "(\\xbn - \\mub_k)^T \\Sigmai (\\xbn - \\mub_k)\n",
    "}\n",
    "$$"
   ]
  },
  {
   "cell_type": "markdown",
   "metadata": {},
   "source": [
    "hence, terms of interest becomes\n",
    "$$\n",
    "\\displaystyle -\\frachalf{N} \\ln \\Mod{\\Sigma} - \\half  \\sumkK N_k \\Sb_k\n",
    "\\\\\n",
    "\\displaystyle -\\frachalf{N} \\ln \\Mod{\\Sigma} - \\frachalf{N} \\sumkK \\frac{N_k}{N} \\Sb_k\n",
    "\\\\\n",
    "\\displaystyle -\\frachalf{N} \\ln \\Mod{\\Sigma} - \\frachalf{N} \\traceb{\\Sigmai \\Sb}\n",
    "$$\n",
    "where\n",
    "$$\n",
    "\\Sb = \\sumkK \\frac{N_k}{N} \\Sb_k\n",
    "$$"
   ]
  },
  {
   "cell_type": "markdown",
   "metadata": {},
   "source": [
    "The std result for ML solution for Gaussian gives $\\Sigma = \\Sb$"
   ]
  },
  {
   "cell_type": "markdown",
   "metadata": {},
   "source": [
    "# Exponential family"
   ]
  },
  {
   "cell_type": "markdown",
   "metadata": {},
   "source": [
    "If the class-conditional densities $p(\\xb \\mid \\Ca_k)$ are member of the exponential family,   \n",
    "then the posterior class probabilities are generalized linear models with activation as\n",
    "* logistic sigmoid (K=2)\n",
    "* softmax (K > 2)"
   ]
  },
  {
   "cell_type": "markdown",
   "metadata": {},
   "source": [
    "see PRML (4.2.4)[202] for the derivation"
   ]
  }
 ],
 "metadata": {
  "hide_input": false,
  "kernelspec": {
   "display_name": "Python 3",
   "language": "python",
   "name": "python3"
  },
  "language_info": {
   "codemirror_mode": {
    "name": "ipython",
    "version": 3
   },
   "file_extension": ".py",
   "mimetype": "text/x-python",
   "name": "python",
   "nbconvert_exporter": "python",
   "pygments_lexer": "ipython3",
   "version": "3.5.1"
  },
  "latex_envs": {
   "bibliofile": "biblio.bib",
   "cite_by": "apalike",
   "current_citInitial": 1,
   "eqLabelWithNumbers": true,
   "eqNumInitial": 0
  }
 },
 "nbformat": 4,
 "nbformat_minor": 0
}
