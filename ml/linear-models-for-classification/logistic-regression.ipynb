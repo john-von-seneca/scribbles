{
 "cells": [
  {
   "cell_type": "code",
   "execution_count": 96,
   "metadata": {
    "ExecuteTime": {
     "end_time": "2016-09-01T00:14:14.202060",
     "start_time": "2016-09-01T00:14:14.188433"
    },
    "collapsed": false,
    "run_control": {
     "frozen": false,
     "read_only": false
    }
   },
   "outputs": [],
   "source": [
    "import numpy as np\n",
    "import scipy as sp\n",
    "from matplotlib import pyplot as plt\n",
    "%matplotlib inline\n",
    "\n",
    "import random as rnd\n",
    "import os\n",
    "import math\n",
    "\n",
    "# required for interactive plotting\n",
    "from __future__ import print_function\n",
    "from ipywidgets import interact, interactive, fixed\n",
    "import ipywidgets as widgets\n",
    "import numpy.polynomial as np_poly\n",
    "\n",
    "from IPython.display import Math\n",
    "from IPython.display import Latex\n",
    "from IPython.display import HTML\n",
    "\n",
    "from pprint import pprint\n",
    "import functools as ft\n",
    "\n",
    "from graphviz import Digraph\n",
    "\n",
    "DIR_HOME = os.environ['HOME']\n",
    "DIR_REPOS = DIR_HOME + \"/neo-human/repos\"\n",
    "DIR_BMLSP = DIR_REPOS + \"/luispedro/BuildingMachineLearningSystemsWithPython\""
   ]
  },
  {
   "cell_type": "markdown",
   "metadata": {},
   "source": [
    "initialization\n",
    "$\n",
    "\\newcommand{\\Brace}[1]{\\left\\{#1\\right\\}}\n",
    "\\newcommand{\\Bracket}[1]{\\left[#1\\right]}\n",
    "\\newcommand{\\cases}[1]{\\begin{cases}#1\\end{cases}}\n",
    "\\newcommand{\\cov}[1]{\\text{cov} \\sigma\\left[#1\\right]}\n",
    "\\newcommand{\\diff}[2]{\\frac{d #1}{d #2}}\n",
    "\\newcommand{\\difftwo}[2]{\\frac{d^2 #1}{d {#2}^2}}\n",
    "\\newcommand{\\diffn}[2]{{#1}^{\\prime}(#2)}\n",
    "\\newcommand{\\ds}{\\displaystyle}\n",
    "\\newcommand{\\E}[1]{\\mathbb{E}\\left[ #1 \\right]}\n",
    "\\newcommand{\\expb}[1]{\\exp\\left\\{#1\\right\\}} \n",
    "\\newcommand{\\EXP}[1]{\\exp\\left\\{#1\\right\\}} \n",
    "\\newcommand{\\frachalf}[1]{\\frac{#1}{2}~}\n",
    "\\newcommand{\\fracone}[1]{\\frac{1}{#1}~}\n",
    "\\newcommand{\\fracrec}[1]{\\frac{1}{#1}~}\n",
    "\\newcommand{\\half}{\\fracone{2}}\n",
    "\\newcommand{\\H}[1]{\\mathbb{H}\\left[#1\\right]}\n",
    "\\newcommand{\\Int}[2]{\\displaystyle \\int_{#1}^{#2}~}\n",
    "\\newcommand{\\intinfinf}{\\Int{-\\infty}{\\infty}}\n",
    "\\newcommand{\\inv}[1]{#1^{-1}}\n",
    "\\newcommand{\\invp}[1]{\\left({#1}\\right)^{-1}}\n",
    "\\newcommand{\\KL}[2]{\\text{KL}\\left(#1 \\Vert #2\\right)}\n",
    "\\newcommand{\\Lim}[1]{\\displaystyle \\lim_{#1}}\n",
    "\\newcommand{\\Ln}[1]{\\ln \\left\\(#1\\right\\)}\n",
    "\\newcommand{\\Lnb}[1]{\\ln \\left\\{#1\\right\\} }\n",
    "\\newcommand{\\Mod}[1]{\\left|#1\\right|}\n",
    "\\newcommand{\\Norm}[1]{\\left\\lVert #1 \\right\\rVert}\n",
    "\\newcommand{\\Normsqr}[1]{\\Norm{#1}^2}\n",
    "\\newcommand{\\map}[1]{#1_{\\text{MAP}}}\n",
    "\\newcommand{\\ml}[1]{#1_{\\text{ML}}}\n",
    "\\newcommand{\\MI}[1]{\\mathcal{I}\\left(#1\\right)}\n",
    "\\newcommand{\\P}{\\mathbb{P}}\n",
    "\\newcommand{\\Paran}[1]{\\left(#1\\right)}\n",
    "\\newcommand{\\Partial}[2]{\\frac{\\partial #1}{\\partial #2}}\n",
    "\\newcommand{\\sqrbrkt}[1]{\\Bracket{#1}^2}\n",
    "\\newcommand{\\sqrbrc}[1]{\\Brace{#1}^2}\n",
    "\\newcommand{\\trace}[1]{\\text{Tr}\\left( #1 \\right)}\n",
    "\\newcommand{\\traceb}[1]{\\text{Tr}\\left\\{#1\\right\\}}\n",
    "\\newcommand{\\underl}[1]{\\text{$\\underline{#1}$}}\n",
    "\\newcommand{\\V}[1]{\\mathbb{V}\\left[#1\\right]}\n",
    "$\n",
    "$\n",
    "\\DeclareMathOperator*{\\argmin}{arg\\,min}\n",
    "\\DeclareMathOperator*{\\argmax}{arg\\,max}\n",
    "$\n",
    "$\n",
    "\\newcommand{\\mat}[1]{ \\left[ \\begin{matrix} #1 \\end{matrix} \\right] }\n",
    "\\newcommand{\\matp}[1]{ \\left( \\begin{matrix} #1 \\end{matrix} \\right)}\n",
    "\\newcommand{\\mats}[1]{ \\begin{matrix}#1\\end{matrix} }\n",
    "\\newcommand{\\arrthree}[1]{\n",
    "\\begin{array}{rlr} #1 \\end{array}}\n",
    "$"
   ]
  },
  {
   "cell_type": "markdown",
   "metadata": {},
   "source": [
    "$\n",
    "\\newcommand{\\C}{\\mathbb{C}}\n",
    "\\newcommand{\\Ca}{\\mathcal{C}}\n",
    "\\newcommand{\\Caone}{\\Ca_1}\n",
    "\\newcommand{\\Catwo}{\\Ca_2}\n",
    "\\newcommand{\\Cak}{\\Ca_k}\n",
    "\\newcommand{\\D}{\\mathcal{D}}\n",
    "\\newcommand{\\G}{\\mathcal{G}}\n",
    "\\newcommand{\\I}{\\mathcal{I}}\n",
    "\\newcommand{\\L}{\\mathcal{L}}\n",
    "\\newcommand{\\M}{\\mathcal{M}}\n",
    "\\newcommand{\\N}{\\mathbb{N}}\n",
    "\\newcommand{\\R}{\\mathbb{R}}\n",
    "\\newcommand{\\Ra}{\\mathcal{R}}\n",
    "$\n",
    "$\n",
    "\\newcommand{\\commentgray}[1]{\\color{gray}{\\text{#1}}}\n",
    "$"
   ]
  },
  {
   "cell_type": "markdown",
   "metadata": {},
   "source": [
    "sum, product\n",
    "$\n",
    "\\newcommand{\\sumi}{\\displaystyle \\sum_i}\n",
    "\\newcommand{\\sumiD}{\\displaystyle \\sum_{i=1}^{D}}\n",
    "\\newcommand{\\sumiL}{\\displaystyle \\sum_{i=1}^{L}}\n",
    "\\newcommand{\\sumiN}{\\displaystyle \\sum_{i=1}^{N}}\n",
    "\\newcommand{\\sumjD}{\\displaystyle \\sum_{j=1}^{D}}\n",
    "\\newcommand{\\sumjK}{\\displaystyle \\sum_{j=1}^{K}}\n",
    "\\newcommand{\\sumjMl}{\\sum_{j=1}^{M-1}}\n",
    "\\newcommand{\\sumkK}{\\displaystyle \\sum_{k=1}^{K}}\n",
    "\\newcommand{\\sumkM}{\\displaystyle \\sum_{k=1}^{M}}\n",
    "\\newcommand{\\sumkMl}{\\sum_{k=1}^{M-1}}\n",
    "\\newcommand{\\sumkp}{\\displaystyle \\sum_{k=1}^{p}}\n",
    "\\newcommand{\\summN}{\\displaystyle \\sum_{m=1}^{N}}\n",
    "\\newcommand{\\sumnN}{\\displaystyle \\sum_{n=1}^{N}}\n",
    "$\n",
    "$\n",
    "\\newcommand{\\prodi}{\\displaystyle \\prod_i}\n",
    "\\newcommand{\\prodiD}{\\displaystyle \\prod_{i=1}^{D}}\n",
    "\\newcommand{\\prodiL}{\\displaystyle \\prod_{i=1}^{L}}\n",
    "\\newcommand{\\prodiN}{\\displaystyle \\prod_{i=1}^{N}}\n",
    "\\newcommand{\\prodjK}{\\displaystyle \\prod_{j=1}^{K}}\n",
    "\\newcommand{\\prodkK}{\\displaystyle \\prod_{k=1}^{K}}\n",
    "\\newcommand{\\prodmN}{\\displaystyle \\prod_{m=1}^{N}}\n",
    "\\newcommand{\\prodnN}{\\displaystyle \\prod_{n=1}^{N}}\n",
    "$"
   ]
  },
  {
   "cell_type": "markdown",
   "metadata": {},
   "source": [
    "alphabet shortcuts\n",
    "$\n",
    "\\newcommand{\\ab}{\\mathbf{a}}\n",
    "\\newcommand{\\at}{\\ab^T}\n",
    "\\newcommand{\\Ab}{\\mathbf{A}}\n",
    "\\newcommand{\\At}{\\Ab^T}\n",
    "\\newcommand{\\Ai}{\\inv{\\Ab}}\n",
    "\\newcommand{\\Abjk}{\\Ab_{jk}}\n",
    "\\newcommand{\\bb}{\\mathbf{b}}\n",
    "\\newcommand{\\bt}{\\bb^T}\n",
    "\\newcommand{\\Bb}{\\mathbf{B}}\n",
    "\\newcommand{\\Bt}{\\Bb^T}\n",
    "\\newcommand{\\Cb}{\\mathbf{C}}\n",
    "\\newcommand{\\Cn}{\\Cb_{N}}\n",
    "\\newcommand{\\Db}{\\mathbf{D}}\n",
    "\\newcommand{\\fb}{\\mathbf{f}}\n",
    "\\newcommand{\\fp}{f^{\\prime}}\n",
    "\\newcommand{\\Hb}{\\mathbf{H}}\n",
    "\\newcommand{\\hx}{h(\\xb)}\n",
    "\\newcommand{\\Jb}{\\mathbf{J}}\n",
    "\\newcommand{\\kb}{\\mathbf{k}}\n",
    "\\newcommand{\\kt}{\\kb^T}\n",
    "\\newcommand{\\Kb}{\\mathbf{K}}\n",
    "\\newcommand{\\Lb}{\\mathbf{L}}\n",
    "\\newcommand{\\Lt}{\\Lb^T}\n",
    "\\newcommand{\\Lbi}{\\Lb^{-1}}\n",
    "\\newcommand{\\mb}{\\mathbf{m}}\n",
    "\\newcommand{\\mt}{\\mb^T}\n",
    "\\newcommand{\\mbn}{\\mb_N}\n",
    "\\newcommand{\\mbnt}{\\mbn^T}\n",
    "\\newcommand{\\mbN}{\\mb_N}\n",
    "\\newcommand{\\mbNt}{\\mbn^T}\n",
    "\\newcommand{\\Mb}{\\mathbf{M}}\n",
    "\\newcommand{\\Qb}{\\mathbf{Q}}\n",
    "\\newcommand{\\Rb}{\\mathbf{R}}\n",
    "\\newcommand{\\sb}{\\mathbf{s}}\n",
    "\\newcommand{\\Sb}{\\mathbf{S}}\n",
    "\\newcommand{\\tb}{\\mathbf{t}}\n",
    "\\newcommand{\\tbnn}{\\tb_{N}}\n",
    "\\newcommand{\\tbnp}{\\tb_{N+1}}\n",
    "\\newcommand{\\tt}{\\tb^T}\n",
    "\\newcommand{\\Tb}{\\mathbf{T}}\n",
    "\\newcommand{\\Tt}{\\Tb^T}\n",
    "\\newcommand{\\ub}{\\mathbf{u}}\n",
    "\\newcommand{\\Ub}{\\mathbf{U}}\n",
    "\\newcommand{\\Ut}{\\Ub^T}\n",
    "\\newcommand{\\vb}{\\mathbf{v}}\n",
    "\\newcommand{\\Vb}{\\mathbf{V}}\n",
    "\\newcommand{\\wb}{\\mathbf{w}}\n",
    "\\newcommand{\\wp}{\\wb^{\\prime}}\n",
    "\\newcommand{\\wnr}[1]{\\wb^{(\\text{#1})}}\n",
    "\\newcommand{\\wt}{\\wb^T}\n",
    "\\newcommand{\\Wb}{\\mathbf{W}}\n",
    "\\newcommand{\\Wt}{\\Wb^T}\n",
    "\\newcommand{\\Wtilde}{\\widetilde{\\Wb}}\n",
    "\\newcommand{\\Wtildet}{\\Wtilde^T}\n",
    "\\newcommand{\\Xb}{\\mathbf{X}}\n",
    "\\newcommand{\\Xt}{\\Xb^T}\n",
    "\\newcommand{\\Xk}{\\Xb_k}\n",
    "\\newcommand{\\Xkt}{\\Xk^T}\n",
    "\\newcommand{\\Xtilde}{\\widetilde{\\Xb}}\n",
    "\\newcommand{\\Xtildet}{\\Xtilde^T}\n",
    "\\newcommand{\\xb}{\\mathbf{x}}\n",
    "\\newcommand{\\xt}{\\xb^T}\n",
    "\\newcommand{\\xtilde}{\\widetilde{\\xb}}\n",
    "\\newcommand{\\xtilden}{\\xtilde_n}\n",
    "\\newcommand{\\xtildent}{\\xtilden^T}\n",
    "\\newcommand{\\xp}{x^{\\prime}}\n",
    "\\newcommand{\\xbp}{\\xb^{\\prime}}\n",
    "\\newcommand{\\xbm}{\\xb_m}\n",
    "\\newcommand{\\xbn}{\\xb_n}\n",
    "\\newcommand{\\xbnp}{\\xb_{N+1}}\n",
    "\\newcommand{\\xab}{\\mathbf{x_a}}\n",
    "\\newcommand{\\xabt}{\\mathbf{x_a}^T}\n",
    "\\newcommand{\\xbb}{\\mathbf{x_b}}\n",
    "\\newcommand{\\xbbt}{\\mathbf{x_b}^T}\n",
    "\\newcommand{\\yb}{\\mathbf{y}}\n",
    "\\newcommand{\\yt}{\\yb^T}\n",
    "\\newcommand{\\yx}{y(\\xb)}\n",
    "\\newcommand{\\Yb}{\\mathbf{Y}}\n",
    "\\newcommand{\\Yt}{\\Yb^T}\n",
    "\\newcommand{\\zb}{\\mathbf{z}}\n",
    "\\newcommand{\\zt}{\\zb^T}\n",
    "\\newcommand{\\zbm}{\\zb_m}\n",
    "\\newcommand{\\zbn}{\\zb_n}\n",
    "\\newcommand{\\zbnp}{\\zb_{n-1}}\n",
    "\\newcommand{\\znk}{\\zb_{nk}}\n",
    "\\newcommand{\\znpj}{\\zb_{n-1,j}}\n",
    "\\newcommand{\\Zb}{\\mathbf{Z}}\n",
    "$"
   ]
  },
  {
   "cell_type": "markdown",
   "metadata": {},
   "source": [
    "math shortcuts\n",
    "$\n",
    "\\newcommand{\\alphab}{\\pmb{\\alpha}}\n",
    "\\newcommand{\\alphabt}{\\alphab^T}\n",
    "\\newcommand{\\betab}{\\pmb{\\beta}}\n",
    "\\newcommand{\\betabp}{\\betab^{\\prime}}\n",
    "\\newcommand{\\chib}{\\boldsymbol{\\chi}}\n",
    "\\newcommand{\\etab}{\\pmb{\\eta}}\n",
    "\\newcommand{\\etabp}{\\etab^{\\prime}}\n",
    "\\newcommand{\\etat}{\\eta^T}\n",
    "\\newcommand{\\etabt}{\\etab^T}\n",
    "\\newcommand{\\Lambdab}{\\pmb{\\Lambda}}\n",
    "\\newcommand{\\laa}{\\Lambda_{aa}}\n",
    "\\newcommand{\\laai}{\\Lambda_{aa}^{-1}}\n",
    "\\newcommand{\\lab}{\\Lambda_{ab}}\n",
    "\\newcommand{\\lba}{\\Lambda_{ba}}\n",
    "\\newcommand{\\lbb}{\\Lambda_{bb}}\n",
    "\\newcommand{\\lbbi}{\\Lambda_{bb}^{-1}}\n",
    "\\newcommand{\\li}{\\Lambda^{-1}}\n",
    "\\newcommand{\\Li}{\\Lambda^{-1}}\n",
    "\\newcommand{\\mub}{\\pmb{\\mu}}\n",
    "\\newcommand{\\mut}{\\mub^T}\n",
    "\\newcommand{\\muab}{\\pmb{\\mu}_a}\n",
    "\\newcommand{\\mubb}{\\pmb{\\mu}_b}\n",
    "\\newcommand{\\Phib}{\\pmb{\\Phi}}\n",
    "\\newcommand{\\Phibt}{\\Phib^T}\n",
    "\\newcommand{\\pib}{\\pmb{\\pi}}\n",
    "\\newcommand{\\sigmasqr}{\\sigma^2}\n",
    "\\newcommand{\\saa}{\\Sigma_{aa}}\n",
    "\\newcommand{\\sab}{\\Sigma_{ab}}\n",
    "\\newcommand{\\sba}{\\Sigma_{ba}}\n",
    "\\newcommand{\\sbb}{\\Sigma_{bb}}\n",
    "\\newcommand{\\Sigmai}{\\inv{\\Sigma}}\n",
    "\\newcommand{\\thetab}{\\pmb{\\theta}}\n",
    "\\newcommand{\\thetat}{\\thetab^T}\n",
    "\\newcommand{\\thetabh}{\\hat{\\thetab}}\n",
    "\\newcommand{\\thetaold}{\\thetab^{\\text{old}}}\n",
    "$\n",
    "$\n",
    "\\newcommand{\\zerob}{\\pmb{0}}\n",
    "\\newcommand{\\oneb}{\\pmb{1}}\n",
    "\\newcommand{\\ed}{\\mathbb{E}_{\\D}}\n",
    "\\newcommand{\\edyx}{\\ed\\left[y(\\xb ; \\D)\\right]}\n",
    "\\newcommand{\\dx}{~dx}\n",
    "\\newcommand{\\dxb}{~d\\xb}\n",
    "\\newcommand{\\pxdxb}{p(\\xb) \\dxb}\n",
    "\\newcommand{\\dwb}{~d\\wb}\n",
    "$"
   ]
  },
  {
   "cell_type": "markdown",
   "metadata": {},
   "source": [
    "aliases for distributions\n",
    "$\\newcommand{\\multivarcoeff}{\\frac{1}{(2\\pi)^{D/2}}\n",
    "\\frac{1}{\\left| \\mathbf{\\Sigma}\\right|^{1/2}}}$\n",
    "$\\newcommand{\\multivarexp}[2]\n",
    "{\n",
    "\\left\\{\n",
    " -\\frac{1}{2} \n",
    " {#1}^T \n",
    " #2\n",
    " {#1}\n",
    "\\right\\}\n",
    "}$\n",
    "$\\newcommand{\\multivarexpx}[1]{\\multivarexp{#1}{\\Sigma^{-1}}}$\n",
    "$\\newcommand{\\multivarexpstd}{\\multivarexpx{(\\xb-\\mub)}}$\n",
    "$\\newcommand{\\gam}{\\operatorname{Gam}}$\n",
    "$\n",
    "\\newcommand{\\Nl}[3]{\\mathcal{N}\\left(#1 \\mid #2, #3\\right)}\n",
    "\\newcommand{\\Nstdx}{\\Nl{\\mathbf{x}}{\\mathbf{\\mu}}{\\Sigma}}\n",
    "$"
   ]
  },
  {
   "cell_type": "code",
   "execution_count": 97,
   "metadata": {
    "ExecuteTime": {
     "end_time": "2016-09-01T00:14:14.442449",
     "start_time": "2016-09-01T00:14:14.439053"
    },
    "collapsed": false,
    "run_control": {
     "frozen": false,
     "read_only": false
    }
   },
   "outputs": [
    {
     "data": {
      "text/html": [
       "<style>div.cell{width:100%;margin-left:0%;margin-right:auto;}</style>"
      ],
      "text/plain": [
       "<IPython.core.display.HTML object>"
      ]
     },
     "execution_count": 97,
     "metadata": {},
     "output_type": "execute_result"
    }
   ],
   "source": [
    "HTML(\"<style>\"\\\n",
    "    \"div.cell{\"\\\n",
    "        \"width:100%;\"\\\n",
    "        \"margin-left:0%;\"\\\n",
    "        \"margin-right:auto;\"\\\n",
    "    \"}\"\\\n",
    "\"</style>\")"
   ]
  },
  {
   "cell_type": "markdown",
   "metadata": {},
   "source": []
  },
  {
   "cell_type": "markdown",
   "metadata": {},
   "source": [
    "$$\n",
    "\\arrthree{\n",
    "p(\\Ca_1 \\mid \\phi) &= y(\\phi) = \\sigma(\\wt \\phi)\n",
    "\\\\\n",
    "p(\\Ca_2 \\mid \\phi) &= 1 - p(\\Ca_1 \\mid \\phi)\n",
    "\\\\\n",
    "\\sigma(a) &= \\ds \\fracone{1+e^{-a}}\n",
    "\\\\\n",
    "}\n",
    "$$\n",
    "\n",
    "* $$\n",
    "\\arrthree{\n",
    "\\ds \\Partial{\\sigma}{a} &= \\ds \\fracone{(1+e^{-a})^2} e^{-a}\n",
    "\\\\ &=\n",
    "\\ds \\fracone{1+e^{-a}} \\frac{e^{-a}}{1+e^{-a}}\n",
    "\\\\ &= \\sigma (1 - \\sigma)\n",
    "}\n",
    "$$\n",
    "\n",
    "* $$\n",
    "\\arrthree{\n",
    "\\ds \\frac{\\sigma}{1-\\sigma} &=\n",
    "\\ds \\frac{\\frac{1}{1+e^{-a}}}{\\frac{e^{-a}}{1+e^{-a}}}\n",
    "\\\\ &=\n",
    "e^{a}\n",
    "}\n",
    "$$\n",
    "\n",
    "$$\n",
    "1 - \\sigma = 1 - \\frac{1}{1+e^{-a}}\n",
    "= \\frac{e^{-a}}{1+e^{-a}} = \\frac{1}{1+e^a}\n",
    "$$"
   ]
  },
  {
   "cell_type": "markdown",
   "metadata": {},
   "source": [
    "$$\n",
    "p(\\tb \\mid \\wb) = \\prodnN y_n^{t_n} \\Brace{1-y_n}^{1-t_n}\n",
    "$$\n",
    "\n",
    "$$\n",
    "y_n = \\sigma(a_n) \\\\\n",
    "a_n = \\wt \\phi_n\n",
    "$$\n",
    "\n",
    "\n",
    "$$\n",
    "\\arrthree{\n",
    "E(\\wb) &= -\\ln p(\\tb \\mid \\wb)\n",
    "\\\\ &=\n",
    "- \\sumnN \\Brace{t_n \\ln y_n + (1 - t_n) \\ln (1-y_n)}\n",
    "\\\\ &=\n",
    "- \\sumnN \\Brace{t_n \\ln \\Paran{\\frac{y_n}{1-y_n}} + \\ln (1-y_n)}\n",
    "}\n",
    "$$"
   ]
  },
  {
   "cell_type": "markdown",
   "metadata": {},
   "source": [
    "Taking the gradient of error wrt **w**, we get\n",
    "$$\n",
    "\\arrthree{\n",
    "\\nabla E(\\wb) &=\n",
    "- \\sumnN \\Brace{\\frac{t_n}{y_n} y_n(1-y_n)\\phi_n - \\frac{1-tn}{1-y_n} y_n (1-y_n)\\phi_n}\n",
    "\\\\ &=\n",
    "- \\sumnN \\Brace{t_n (1-y_n) - (1-t_n)y_n} \\phi_n\n",
    "\\\\ &=\n",
    "- \\sumnN \\Brace{t_n - y_n} \\phi_n\n",
    "\\\\\n",
    "\\nabla E(\\wb) &=\n",
    "\\sumnN \\Brace{y_n - t_n} \\phi_n\n",
    "}\n",
    "$$"
   ]
  },
  {
   "cell_type": "markdown",
   "metadata": {},
   "source": [
    "$$\n",
    "\\Hb = \\nabla \\nabla E(\\wb) =\n",
    "\\sumnN y_n (1 - y_n) \\phi_n \\phi_n^T\n",
    "$$"
   ]
  },
  {
   "cell_type": "markdown",
   "metadata": {},
   "source": [
    "If we let\n",
    "$$\n",
    "\\arrthree{\n",
    "\\yb &= \\mat{y_1 \\\\ y_2 \\\\ \\vdots \\\\ y_N}\n",
    "&\n",
    "\\tb &= \\mat{t_1 \\\\ t_2 \\\\ \\vdots \\\\ t_N}\n",
    "&\n",
    "\\Phib &= \\mat{\\phi_1^t \\\\ \\vdots \\\\ \\phi_N^t}\n",
    "}\n",
    "$$"
   ]
  },
  {
   "cell_type": "markdown",
   "metadata": {},
   "source": [
    "$$\n",
    "\\arrthree{\n",
    "\\nabla E(\\wb) &= \\Phibt (\\yb - \\tb)\n",
    "\\\\\n",
    "\\Hb &= \\Phibt \\Rb \\Phib\n",
    "}\n",
    "$$\n",
    "\n",
    "where\n",
    "$$\n",
    "\\Rb = Diag \\Brace{y_n(1-y_n)}\n",
    "$$"
   ]
  },
  {
   "cell_type": "markdown",
   "metadata": {},
   "source": [
    "$$\n",
    "\\arrthree{\n",
    "\\wp &= \\wb - \\inv{\\Hb} \\nabla E(\\wb)\n",
    "\\\\ &=\n",
    "\\wb - \\inv{(\\Phibt \\Rb \\Phib)} \\Phibt (\\yb - \\tb)\n",
    "\\\\ &=\n",
    "\\inv{(\\Phibt \\Rb \\Phib)} \\Paran{\n",
    "\\Phibt \\Rb \\Phib \\wb - \\Phibt (\\yb - \\tb)\n",
    "}\n",
    "\\\\ &=\n",
    "\\inv{(\\Phibt \\Rb \\Phib)} \\Phibt \\Rb \n",
    "\\Paran{ \\Phib \\wb - \\inv{\\Rb} (\\yb - \\tb)}\n",
    "\\\\ &=\n",
    "\\inv{(\\Phibt \\Rb \\Phib)} \\Phibt \\Rb \\zb\n",
    "}\n",
    "$$\n",
    "\n",
    "where\n",
    "$$\n",
    "\\zb =  \\Phib \\wb - \\inv{\\Rb} (\\yb - \\tb)\n",
    "$$"
   ]
  },
  {
   "cell_type": "markdown",
   "metadata": {},
   "source": [
    "1. form $\\tb, \\Phib$\n",
    "1. init $\\wb$\n",
    "1. iterate till\n",
    "  1. $\\yb_n = \\sigma(\\wt \\phi_n)$\n",
    "  1. $\\Rb = Diag \\Brace{\\yb .* (1-\\yb)}$\n",
    "  1. $\\zb = \\Phib \\wb - \\inv{\\Rb} (\\yb - \\tb)$\n",
    "  1. $\\wb^{\\prime} = \\inv{(\\Phibt \\Rb \\Phib)} \\Phibt \\Rb \\zb$"
   ]
  },
  {
   "cell_type": "code",
   "execution_count": 98,
   "metadata": {
    "ExecuteTime": {
     "end_time": "2016-09-01T00:14:15.116830",
     "start_time": "2016-09-01T00:14:14.983333"
    },
    "code_folding": [
     9,
     12
    ],
    "collapsed": false
   },
   "outputs": [
    {
     "data": {
      "image/png": "[encoded data removed]",
      "text/plain": [
       "<matplotlib.figure.Figure at 0x7f46c4ddf438>"
      ]
     },
     "metadata": {},
     "output_type": "display_data"
    }
   ],
   "source": [
    "num_pts = 100\n",
    "covar = 0.9 * np.eye(2)\n",
    "num_classes = 2\n",
    "\n",
    "pts_class1 = np.random.multivariate_normal([-5,5], 15*covar, num_pts)\n",
    "pts_class2 = np.random.multivariate_normal([5,-5], 15*covar, num_pts)\n",
    "\n",
    "pts_all = np.vstack([pts_class1, pts_class2])\n",
    "class_labels = np.zeros((num_classes*num_pts,1)).ravel()\n",
    "for k in range(num_classes):\n",
    "    class_labels[k*num_pts:(k+1)*num_pts] = k\n",
    "    \n",
    "clr_classes2 = [(222/255,165/255,164/255),\n",
    "                (196/255,209/255,134/255),\n",
    "                (119/255,158/255,203/255),\n",
    "                (131/255,105/255,83/255),\n",
    "                (174/255,198/255,207/255),\n",
    "                (244/255,154/255,194/255),\n",
    "                (203/255,153/255,201/255),\n",
    "                (194/255,59/255,34/255),\n",
    "                (1,0,0),(0,1,0),(0,0,1),(1,0,1)]\n",
    "\n",
    "plt.plot(pts_class1[:,0], pts_class1[:,1], '.', c=clr_classes2[0],label='class 1')\n",
    "plt.plot(pts_class2[:,0], pts_class2[:,1], '.', c=clr_classes2[1],label='class 2')\n",
    "plt.legend(loc=(1,0.5))\n",
    "plt.show()"
   ]
  },
  {
   "cell_type": "markdown",
   "metadata": {},
   "source": [
    "1. form $\\tb, \\Phib$\n",
    "1. init $\\wb$\n",
    "1. iterate till\n",
    "  1. $\\yb_n = \\sigma(\\wt \\phi_n)$\n",
    "  1. $\\Rb = Diag \\Brace{\\yb .* (1-\\yb)}$\n",
    "  1. $\\zb = \\Phib \\wb - \\inv{\\Rb} (\\yb - \\tb)$\n",
    "  1. $\\wb^{\\prime} = \\inv{(\\Phibt \\Rb \\Phib)} \\Phibt \\Rb \\zb$"
   ]
  },
  {
   "cell_type": "code",
   "execution_count": 99,
   "metadata": {
    "ExecuteTime": {
     "end_time": "2016-09-01T00:14:16.631613",
     "start_time": "2016-09-01T00:14:15.117884"
    },
    "collapsed": false
   },
   "outputs": [],
   "source": [
    "def sigmoid(a):\n",
    "    return 1. / (1 + math.exp(-a))\n",
    "\n",
    "N,p = pts_all.shape[0], pts_all.shape[1]\n",
    "T = class_labels.reshape(-1,1)\n",
    "assert((N,1) == T.shape)\n",
    "\n",
    "Phi = np.hstack([np.ones((N,1)), pts_all])\n",
    "assert((N,p+1) == Phi.shape)\n",
    "\n",
    "num_iterations = 30\n",
    "w = np.zeros(((p+1),1))\n",
    "ws = np.zeros((p+1,num_iterations+1))\n",
    "errors = np.zeros((num_iterations,1))\n",
    "for ix in range(num_iterations):\n",
    "    Y = np.array([sigmoid(w.T @ phin.reshape(-1,1)) for phin in Phi]).reshape(-1,1)\n",
    "    assert((Y.shape == (N,1)))\n",
    "    Y_Y = Y * Y\n",
    "    assert((Y_Y.shape == Y.shape))\n",
    "    R = np.diag(Y_Y.ravel())\n",
    "    assert(R.shape == (N,N))\n",
    "    z = Phi @ w - np.linalg.inv(R) @ (Y - T)\n",
    "    assert((N,1) == z.shape)\n",
    "    w = np.linalg.inv(Phi.T @ R @ Phi) @ Phi.T @ R @ z\n",
    "    assert((p+1,1) == w.shape)\n",
    "    ws[:,ix+1] = w.ravel()\n",
    "    errors[ix] = -np.sum(T*np.log(Y) + (1-T)*np.log(1-Y),axis=0)\n",
    "    #print('error:',errors[ix], ' w:', w.T)\n"
   ]
  },
  {
   "cell_type": "code",
   "execution_count": 100,
   "metadata": {
    "ExecuteTime": {
     "end_time": "2016-09-01T00:14:16.650300",
     "start_time": "2016-09-01T00:14:16.633216"
    },
    "collapsed": false
   },
   "outputs": [
    {
     "data": {
      "text/plain": [
       "(3, 1)"
      ]
     },
     "execution_count": 100,
     "metadata": {},
     "output_type": "execute_result"
    }
   ],
   "source": [
    "w.shape"
   ]
  },
  {
   "cell_type": "code",
   "execution_count": 112,
   "metadata": {
    "ExecuteTime": {
     "end_time": "2016-09-01T00:19:05.604130",
     "start_time": "2016-09-01T00:19:05.417026"
    },
    "collapsed": false
   },
   "outputs": [
    {
     "data": {
      "image/png": "[encoded data removed]",
      "text/plain": [
       "<matplotlib.figure.Figure at 0x7f46c500d438>"
      ]
     },
     "metadata": {},
     "output_type": "display_data"
    }
   ],
   "source": [
    "N_test = 100\n",
    "xs = np.linspace(-10,8,N_test).reshape(-1,1)\n",
    "xs = np.hstack([np.ones((N_test,1)),xs])\n",
    "assert((N_test,2) == xs.shape)\n",
    "\n",
    "def interact_w(ix):\n",
    "    ix_iter = ix-1\n",
    "    w_pred = ws[:,ix_iter].reshape(-1,1)\n",
    "    ys = -1./w_pred[-1] * (xs @ w_pred[:2])\n",
    "    assert((N_test,1) == ys.shape)\n",
    "\n",
    "    plt.plot(xs[:,1], ys, label='prediction')\n",
    "    plt.plot(pts_class1[:,0], pts_class1[:,1], 'o', c=clr_classes2[0],label='class 1')\n",
    "    plt.plot(pts_class2[:,0], pts_class2[:,1], 'o', c=clr_classes2[1],label='class 2')\n",
    "\n",
    "    plt.legend(loc=(1,0.5))\n",
    "    plt.show()\n",
    "\n",
    "print(num_iterations)\n",
    "interact(interact_w, ix=(1,30,1))"
   ]
  },
  {
   "cell_type": "code",
   "execution_count": 102,
   "metadata": {
    "ExecuteTime": {
     "end_time": "2016-09-01T00:14:16.851578",
     "start_time": "2016-09-01T00:14:16.844717"
    },
    "collapsed": false
   },
   "outputs": [
    {
     "name": "stdout",
     "output_type": "stream",
     "text": [
      "[ 1.  1.  1.  1.  1.]\n",
      "(5,)\n"
     ]
    },
    {
     "data": {
      "text/plain": [
       "array([[ 1.,  0.,  0.,  0.,  0.],\n",
       "       [ 0.,  1.,  0.,  0.,  0.],\n",
       "       [ 0.,  0.,  1.,  0.,  0.],\n",
       "       [ 0.,  0.,  0.,  1.,  0.],\n",
       "       [ 0.,  0.,  0.,  0.,  1.]])"
      ]
     },
     "execution_count": 102,
     "metadata": {},
     "output_type": "execute_result"
    }
   ],
   "source": [
    "Phi.shape\n",
    "[phi.shape for phi in Phi]\n",
    "print(np.ones((5)))\n",
    "print(np.ones((5)).shape)\n",
    "np.diag(np.ones((5)))"
   ]
  },
  {
   "cell_type": "code",
   "execution_count": 103,
   "metadata": {
    "ExecuteTime": {
     "end_time": "2016-09-01T00:14:16.855845",
     "start_time": "2016-09-01T00:14:16.852878"
    },
    "collapsed": false
   },
   "outputs": [
    {
     "name": "stdout",
     "output_type": "stream",
     "text": [
      "Object `assert` not found.\n"
     ]
    }
   ],
   "source": [
    "?assert"
   ]
  },
  {
   "cell_type": "markdown",
   "metadata": {},
   "source": []
  },
  {
   "cell_type": "markdown",
   "metadata": {},
   "source": []
  },
  {
   "cell_type": "markdown",
   "metadata": {},
   "source": []
  },
  {
   "cell_type": "markdown",
   "metadata": {},
   "source": []
  },
  {
   "cell_type": "markdown",
   "metadata": {},
   "source": []
  }
 ],
 "metadata": {
  "hide_input": false,
  "kernelspec": {
   "display_name": "Python 3",
   "language": "python",
   "name": "python3"
  },
  "language_info": {
   "codemirror_mode": {
    "name": "ipython",
    "version": 3
   },
   "file_extension": ".py",
   "mimetype": "text/x-python",
   "name": "python",
   "nbconvert_exporter": "python",
   "pygments_lexer": "ipython3",
   "version": "3.5.2"
  },
  "latex_envs": {
   "bibliofile": "biblio.bib",
   "cite_by": "apalike",
   "current_citInitial": 1,
   "eqLabelWithNumbers": true,
   "eqNumInitial": 0
  },
  "nav_menu": {},
  "toc": {
   "navigate_menu": true,
   "number_sections": true,
   "sideBar": false,
   "threshold": 6,
   "toc_cell": false,
   "toc_section_display": "block",
   "toc_window_display": false
  },
  "widgets": {
   "state": {
    "8b6b77126ce64b8a93c7bbb4f6dbc217": {
     "views": [
      {
       "cell_index": 21
      }
     ]
    }
   },
   "version": "1.2.0"
  }
 },
 "nbformat": 4,
 "nbformat_minor": 0
}
