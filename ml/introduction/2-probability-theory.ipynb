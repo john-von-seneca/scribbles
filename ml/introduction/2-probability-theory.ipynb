{
 "cells": [
  {
   "cell_type": "code",
   "execution_count": 1,
   "metadata": {
    "ExecuteTime": {
     "end_time": "2017-10-30T13:27:09.366648Z",
     "start_time": "2017-10-30T13:27:05.543600Z"
    }
   },
   "outputs": [],
   "source": [
    "import numpy as np\n",
    "from matplotlib import pyplot as plt\n",
    "%matplotlib inline\n",
    "\n",
    "import random as rnd\n",
    "import os\n",
    "import math\n",
    "\n",
    "# required for interactive plotting\n",
    "from __future__ import print_function\n",
    "from ipywidgets import interact, interactive, fixed\n",
    "import ipywidgets as widgets\n",
    "import numpy.polynomial as np_poly\n",
    "\n",
    "from IPython.display import Math\n",
    "from IPython.display import Latex\n",
    "from IPython.display import HTML\n",
    "\n",
    "from pprint import pprint\n",
    "import functools as ft"
   ]
  },
  {
   "cell_type": "markdown",
   "metadata": {},
   "source": [
    "initialization  \n",
    "$\n",
    "\\newcommand{\\E}[1]{\\mathbb{E}\\left[ #1 \\right]}\n",
    "\\newcommand{\\V}[1]{\\mathbb{V}\\left[#1\\right]}\n",
    "\\newcommand{\\cov}[1]{\\text{cov} \\sigma\\left[#1\\right]}\n",
    "\\newcommand{\\EXP}[1]{\\exp\\left\\{#1\\right\\}} \n",
    "\\newcommand{\\LN}[1]{\\ln\\left\\{#1\\right\\}} \n",
    "\\newcommand{\\P}{\\mathbb{P}}\n",
    "\\newcommand{\\underl}[1]{\\text{$\\underline{#1}$}}\n",
    "\\newcommand{\\fracone}[1]{\\frac{1}{#1}}\n",
    "\\newcommand{\\half}{\\fracone{2}}\n",
    "\\newcommand{\\Lim}[1]{\\displaystyle \\lim_{#1}}\n",
    "\\newcommand{\\Norm}[1]{\\left\\lVert #1 \\right\\rVert}\n",
    "\\newcommand{\\inv}[1]{#1^{-1}}\n",
    "\\newcommand{\\invp}[1]{\\left({#1}\\right)^{-1}}\n",
    "\\DeclareMathOperator*{\\argmin}{arg\\,min}\n",
    "\\DeclareMathOperator*{\\argmax}{arg\\,max}\n",
    "\\newcommand{\\ml}[1]{#1_{\\text{ML}}}\n",
    "$\n",
    "\n",
    "$\n",
    "\\newcommand{\\mat}[1]{ \\left[ \\begin{matrix} #1 \\end{matrix} \\right] }\n",
    "\\newcommand{\\matp}[1]{ \\left( \\begin{matrix} #1 \\end{matrix} \\right)}\n",
    "\\newcommand{\\mats}[1]{ \\begin{matrix}#1\\end{matrix} }\n",
    "$\n",
    "\n",
    "$\\newcommand{\\arrthree}[1]{\n",
    "\\begin{array}{rlr} #1 \\end{array}}\n",
    "$\n",
    "\n",
    "$\n",
    "\\newcommand{\\D}{\\mathcal{D}}\n",
    "\\newcommand{\\G}{\\mathcal{G}}\n",
    "\\newcommand{\\I}{\\mathcal{I}}\n",
    "\\newcommand{\\N}{\\mathbb{N}}\n",
    "\\newcommand{\\R}{\\mathbb{R}}\n",
    "$\n",
    "\n",
    "$\n",
    "\\newcommand{\\commentgray}[1]{\\color{gray}{\\text{#1}}}\n",
    "$\n",
    "\n"
   ]
  },
  {
   "cell_type": "markdown",
   "metadata": {},
   "source": [
    "sum, product\n",
    "$\n",
    "\\newcommand{\\sumiN}{\\displaystyle \\sum_{i=1}^{N}}\n",
    "\\newcommand{\\sumjD}{\\displaystyle \\sum_{j=1}^{D}}\n",
    "\\newcommand{\\sumjK}{\\displaystyle \\sum_{j=1}^{K}}\n",
    "\\newcommand{\\sumjMl}{\\sum_{j=1}^{M-1}}\n",
    "\\newcommand{\\sumkK}{\\displaystyle \\sum_{k=1}^{K}}\n",
    "\\newcommand{\\sumkM}{\\displaystyle \\sum_{k=1}^{M}}\n",
    "\\newcommand{\\sumkMl}{\\sum_{k=1}^{M-1}}\n",
    "\\newcommand{\\summN}{\\displaystyle \\sum_{m=1}^{N}}\n",
    "\\newcommand{\\sumnN}{\\displaystyle \\sum_{n=1}^{N}}\n",
    "$\n",
    "$\n",
    "\\newcommand{\\prodiN}{\\displaystyle \\prod_{i=1}^{N}}\n",
    "\\newcommand{\\prodjK}{\\displaystyle \\prod_{j=1}^{K}}\n",
    "\\newcommand{\\prodkK}{\\displaystyle \\prod_{k=1}^{K}}\n",
    "\\newcommand{\\prodmN}{\\displaystyle \\prod_{m=1}^{N}}\n",
    "\\newcommand{\\prodnN}{\\displaystyle \\prod_{n=1}^{N}}\n",
    "$"
   ]
  },
  {
   "cell_type": "markdown",
   "metadata": {},
   "source": [
    "alphabet bold,\n",
    "$\n",
    "\\newcommand{\\ab}{\\mathbf{a}}\n",
    "\\newcommand{\\Ab}{\\mathbf{A}}\n",
    "\\newcommand{\\At}{\\Ab^T}\n",
    "\\newcommand{\\Abjk}{\\Ab_{jk}}\n",
    "\\newcommand{\\bb}{\\mathbf{b}}\n",
    "\\newcommand{\\Bb}{\\mathbf{B}}\n",
    "\\newcommand{\\Bt}{\\Bb^T}\n",
    "\\newcommand{\\Cb}{\\mathbf{C}}\n",
    "\\newcommand{\\Db}{\\mathbf{D}}\n",
    "\\newcommand{\\fb}{\\mathbf{f}}\n",
    "\\newcommand{\\fp}{f^{\\prime}}\n",
    "\\newcommand{\\Hb}{\\mathbf{H}}\n",
    "\\newcommand{\\Kb}{\\mathbf{K}}\n",
    "\\newcommand{\\Lb}{\\mathbf{L}}\n",
    "\\newcommand{\\Lt}{\\Lb^T}\n",
    "\\newcommand{\\Lbi}{\\Lb^{-1}}\n",
    "\\newcommand{\\mb}{\\mathbf{m}}\n",
    "\\newcommand{\\Mb}{\\mathbf{M}}\n",
    "\\newcommand{\\Qb}{\\mathbf{Q}}\n",
    "\\newcommand{\\Rb}{\\mathbf{R}}\n",
    "\\newcommand{\\Sb}{\\mathbf{S}}\n",
    "\\newcommand{\\tb}{\\mathbf{t}}\n",
    "\\newcommand{\\ub}{\\mathbf{u}}\n",
    "\\newcommand{\\Ub}{\\mathbf{U}}\n",
    "\\newcommand{\\Ut}{\\Ub^T}\n",
    "\\newcommand{\\vb}{\\mathbf{v}}\n",
    "\\newcommand{\\Vb}{\\mathbf{V}}\n",
    "\\newcommand{\\wb}{\\mathbf{w}}\n",
    "\\newcommand{\\wt}{\\wb^T}\n",
    "\\newcommand{\\Xb}{\\mathbf{X}}\n",
    "\\newcommand{\\Xt}{\\Xb^T}\n",
    "\\newcommand{\\xb}{\\mathbf{x}}\n",
    "\\newcommand{\\xt}{\\xb^T}\n",
    "\\newcommand{\\xp}{x^{\\prime}}\n",
    "\\newcommand{\\xbp}{\\xb^{\\prime}}\n",
    "\\newcommand{\\xbm}{\\xb_m}\n",
    "\\newcommand{\\xbn}{\\xb_n}\n",
    "\\newcommand{\\xab}{\\mathbf{x_a}}\n",
    "\\newcommand{\\xabt}{\\mathbf{x_a}^T}\n",
    "\\newcommand{\\xbb}{\\mathbf{x_b}}\n",
    "\\newcommand{\\xbbt}{\\mathbf{x_b}^T}\n",
    "\\newcommand{\\yb}{\\mathbf{y}}\n",
    "\\newcommand{\\yt}{\\yb^T}\n",
    "\\newcommand{\\zb}{\\mathbf{z}}\n",
    "\\newcommand{\\zt}{\\zb^T}\n",
    "\\newcommand{\\zbm}{\\zb_m}\n",
    "\\newcommand{\\zbn}{\\zb_n}\n",
    "\\newcommand{\\zbnp}{\\zb_{n-1}}\n",
    "\\newcommand{\\znk}{\\zb_{nk}}\n",
    "\\newcommand{\\znpj}{\\zb_{n-1,j}}\n",
    "\\newcommand{\\Zb}{\\mathbf{Z}}\n",
    "$"
   ]
  },
  {
   "cell_type": "markdown",
   "metadata": {},
   "source": [
    "math bold\n",
    "$\n",
    "\\newcommand{\\chib}{\\boldsymbol{\\chi}}\n",
    "\\newcommand{\\etab}{\\pmb{\\eta}}\n",
    "\\newcommand{\\etat}{\\eta^T}\n",
    "\\newcommand{\\etabt}{\\etab^T}\n",
    "\\newcommand{\\laa}{\\Lambda_{aa}}\n",
    "\\newcommand{\\laai}{\\Lambda_{aa}^{-1}}\n",
    "\\newcommand{\\lab}{\\Lambda_{ab}}\n",
    "\\newcommand{\\lba}{\\Lambda_{ba}}\n",
    "\\newcommand{\\lbb}{\\Lambda_{bb}}\n",
    "\\newcommand{\\lbbi}{\\Lambda_{bb}^{-1}}\n",
    "\\newcommand{\\li}{\\Lambda^{-1}}\n",
    "\\newcommand{\\mub}{\\pmb{\\mu}}\n",
    "\\newcommand{\\muab}{\\pmb{\\mu}_a}\n",
    "\\newcommand{\\mubb}{\\pmb{\\mu}_b}\n",
    "\\newcommand{\\pib}{\\pmb{\\pi}}\n",
    "\\newcommand{\\saa}{\\Sigma_{aa}}\n",
    "\\newcommand{\\sab}{\\Sigma_{ab}}\n",
    "\\newcommand{\\sba}{\\Sigma_{ba}}\n",
    "\\newcommand{\\sbb}{\\Sigma_{bb}}\n",
    "\\newcommand{\\thetab}{\\pmb{\\theta}}\n",
    "\\newcommand{\\thetat}{\\thetab^T}\n",
    "\\newcommand{\\thetabh}{\\hat{\\thetab}}\n",
    "\\newcommand{\\thetaold}{\\thetab^{\\text{old}}}\n",
    "$\n",
    "\n",
    "$\n",
    "\\newcommand{\\zerob}{\\pmb{0}}\n",
    "$\n"
   ]
  },
  {
   "cell_type": "markdown",
   "metadata": {},
   "source": [
    "aliases for distributions\n",
    "$\\newcommand{\\multivarcoeff}{\\frac{1}{(2\\pi)^{D/2}}\n",
    "\\frac{1}{\\left| \\mathbf{\\Sigma}\\right|^{1/2}}}$\n",
    "$\\newcommand{\\multivarexp}[2]\n",
    "{\n",
    "\\left\\{\n",
    " -\\frac{1}{2} \n",
    " {#1}^T \n",
    " #2\n",
    " {#1}\n",
    "\\right\\}\n",
    "}$\n",
    "$\\newcommand{\\multivarexpx}[1]{\\multivarexp{#1}{\\Sigma^{-1}}}$\n",
    "$\\newcommand{\\multivarexpstd}{\\multivarexpx{(\\xb-\\mub)}}$\n",
    "$\\newcommand{\\gam}{\\operatorname{Gam}}$\n",
    "\n",
    "$\n",
    "\\newcommand{\\Nl}[3]{\\mathcal{N}\\left(#1 \\mid #2, #3\\right)}\n",
    "\\newcommand{\\Nstdx}{\\Nl{\\mathbf{x}}{\\mathbf{\\mu}}{\\Sigma}}\n",
    "$"
   ]
  },
  {
   "cell_type": "markdown",
   "metadata": {},
   "source": [
    "Sum rule\n",
    "----------\n",
    "\n",
    "$$\n",
    "p(X) = \\displaystyle \\sum_Y p(X, Y)\n",
    "$$"
   ]
  },
  {
   "cell_type": "markdown",
   "metadata": {},
   "source": [
    "Product Rule\n",
    "------------\n",
    "$$\n",
    "\\underbrace{p(X, Y)}_{\\text{Joint}}\n",
    "=\n",
    "\\underbrace{p(Y \\mid X)}_{\\text{Conditional}}\n",
    "~\\overbrace{p(X)}^{\\text{Marginal}}\n",
    "$$"
   ]
  },
  {
   "cell_type": "code",
   "execution_count": 2,
   "metadata": {
    "ExecuteTime": {
     "end_time": "2017-10-30T13:27:09.387710Z",
     "start_time": "2017-10-30T13:27:09.371110Z"
    }
   },
   "outputs": [],
   "source": [
    "def make_equal_plot():\n",
    "    x_lim = plt.xlim()\n",
    "    y_lim = plt.ylim()\n",
    "    new_lim = [min(x_lim[0],y_lim[0]), max(x_lim[1], y_lim[1])]\n",
    "    plt.xlim(new_lim)\n",
    "    plt.ylim(new_lim)"
   ]
  },
  {
   "cell_type": "code",
   "execution_count": 3,
   "metadata": {
    "ExecuteTime": {
     "end_time": "2017-10-30T13:27:09.404685Z",
     "start_time": "2017-10-30T13:27:09.392790Z"
    }
   },
   "outputs": [],
   "source": [
    "def find_angle_vector(eigen_vector):\n",
    "    return math.atan2(eigen_vector[1], eigen_vector[0])"
   ]
  },
  {
   "cell_type": "code",
   "execution_count": 4,
   "metadata": {
    "ExecuteTime": {
     "end_time": "2017-10-30T13:27:09.431064Z",
     "start_time": "2017-10-30T13:27:09.415324Z"
    }
   },
   "outputs": [
    {
     "name": "stdout",
     "output_type": "stream",
     "text": [
      "[0, 45, 90]\n",
      "[90, 135, 0]\n",
      "[0, 45, 90]\n",
      "[90, 135, 0]\n"
     ]
    }
   ],
   "source": [
    "a = [[0, 45, 90],[90, 135, 180],[180, 225, 270],[270, 315, 360]]\n",
    "for aa in a:\n",
    "    print([xx % 180 for xx in aa])"
   ]
  },
  {
   "cell_type": "code",
   "execution_count": 5,
   "metadata": {
    "ExecuteTime": {
     "end_time": "2017-10-30T13:27:12.249691Z",
     "start_time": "2017-10-30T13:27:09.439025Z"
    }
   },
   "outputs": [
    {
     "data": {
      "image/png": "[encoded data removed]",
      "text/plain": [
       "<matplotlib.figure.Figure at 0x10d4295f8>"
      ]
     },
     "metadata": {},
     "output_type": "display_data"
    }
   ],
   "source": [
    "def plot_evector(eigen_val, eigen_vector, scaling, color='k'):\n",
    "    vector = eigen_val*scaling*eigen_vector\n",
    "    plt.plot([-vector[0,0], vector[0,0]],\n",
    "         [-vector[0,1], vector[0,1]],\n",
    "         color+'-', lw=1)\n",
    "\n",
    "def plot_ellipse(angle=30, a=9, b=3, scaling=1.5):\n",
    "    angle_rad = angle/180*math.pi\n",
    "    R = np.matrix([[math.cos(angle_rad), -math.sin(angle_rad)],\n",
    "                   [math.sin(angle_rad),  math.cos(angle_rad)]])\n",
    "    plot_evector(a, np.matrix([math.cos(angle_rad),  math.sin(angle_rad)]), scaling=scaling, color='r')\n",
    "    plot_evector(b, np.matrix([-math.sin(angle_rad), math.cos(angle_rad)]), scaling=scaling)\n",
    "    pts_circle = np.matrix([[scaling*a*math.cos(theta),scaling*b*math.sin(theta)] for theta in np.linspace(0,math.pi,200)]).T\n",
    "    pts = R * pts_circle\n",
    "    plt.plot(pts[0,:], pts[1,:],'.k',lw='2')\n",
    "    plt.plot(-pts[0,:], -pts[1,:],'.')\n",
    "    plt.xlim([-15,15]); plt.ylim([-15,15])\n",
    "\n",
    "def plot_ellipse2(angle=30, a=9, b=3):\n",
    "    plot_ellipse(angle=30, a=9,b=3)\n",
    "    plt.show()\n",
    "    \n",
    "interactive(plot_ellipse2, angle=(0,180), a=(1,10),b=(1,10))"
   ]
  },
  {
   "cell_type": "code",
   "execution_count": 6,
   "metadata": {
    "ExecuteTime": {
     "end_time": "2017-10-30T13:27:12.278079Z",
     "start_time": "2017-10-30T13:27:12.257982Z"
    }
   },
   "outputs": [
    {
     "name": "stdout",
     "output_type": "stream",
     "text": [
      "(5000, 2)\n"
     ]
    }
   ],
   "source": [
    "m = [0, 0]\n",
    "cov = [[1,0],[0,9]]\n",
    "x = np.random.multivariate_normal(m, cov, 5*10**3)\n",
    "print(x.shape)"
   ]
  },
  {
   "cell_type": "code",
   "execution_count": 7,
   "metadata": {
    "ExecuteTime": {
     "end_time": "2017-10-30T13:27:12.307193Z",
     "start_time": "2017-10-30T13:27:12.282261Z"
    }
   },
   "outputs": [
    {
     "name": "stdout",
     "output_type": "stream",
     "text": [
      "[[ 1.06924478  2.92904211]\n",
      " [-1.42699644 -0.0157843 ]\n",
      " [ 0.7541352  -4.69028843]\n",
      " [ 0.61862423 -0.59189682]\n",
      " [-1.36181161 -3.33857195]]\n",
      "-0.0157842990051\n"
     ]
    }
   ],
   "source": [
    "print(x[:5,:])\n",
    "print(x[1,1])"
   ]
  },
  {
   "cell_type": "code",
   "execution_count": 8,
   "metadata": {
    "ExecuteTime": {
     "end_time": "2017-10-30T13:27:12.365768Z",
     "start_time": "2017-10-30T13:27:12.325506Z"
    }
   },
   "outputs": [
    {
     "name": "stdout",
     "output_type": "stream",
     "text": [
      "[[ 4.    2.    0.6 ]\n",
      " [ 4.2   2.1   0.59]\n",
      " [ 3.9   2.    0.58]\n",
      " [ 4.3   2.1   0.62]\n",
      " [ 4.1   2.2   0.63]]\n",
      "[[ 4.1    2.08   0.604]]\n",
      "0.59\n"
     ]
    }
   ],
   "source": [
    "x=[[4.0,4.2,3.9,4.3,4.1],[2.0,2.1,2.0,2.1,2.2],[0.60,0.59,0.58,0.62,0.63]]\n",
    "x=np.matrix(x).T\n",
    "print(x)\n",
    "print(np.mean(x,0))\n",
    "print(x[1,2])"
   ]
  },
  {
   "cell_type": "code",
   "execution_count": 9,
   "metadata": {
    "ExecuteTime": {
     "end_time": "2017-10-30T13:27:13.118400Z",
     "start_time": "2017-10-30T13:27:12.369399Z"
    }
   },
   "outputs": [
    {
     "name": "stdout",
     "output_type": "stream",
     "text": [
      "[[ 4.1    2.08   0.604]]\n"
     ]
    },
    {
     "ename": "ValueError",
     "evalue": "shapes (1,3) and (1,3) not aligned: 3 (dim 1) != 1 (dim 0)",
     "output_type": "error",
     "traceback": [
      "\u001b[0;31m---------------------------------------------------------------------------\u001b[0m",
      "\u001b[0;31mValueError\u001b[0m                                Traceback (most recent call last)",
      "\u001b[0;32m<ipython-input-9-ddcee21299ca>\u001b[0m in \u001b[0;36m<module>\u001b[0;34m()\u001b[0m\n\u001b[1;32m     11\u001b[0m \u001b[0mcov_mine\u001b[0m \u001b[0;34m=\u001b[0m \u001b[0mnp\u001b[0m\u001b[0;34m.\u001b[0m\u001b[0mzeros\u001b[0m\u001b[0;34m(\u001b[0m\u001b[0;34m(\u001b[0m\u001b[0;36m2\u001b[0m\u001b[0;34m,\u001b[0m \u001b[0;36m2\u001b[0m\u001b[0;34m)\u001b[0m\u001b[0;34m)\u001b[0m\u001b[0;34m\u001b[0m\u001b[0m\n\u001b[1;32m     12\u001b[0m \u001b[0;32mfor\u001b[0m \u001b[0mix\u001b[0m \u001b[0;32min\u001b[0m \u001b[0mrange\u001b[0m\u001b[0;34m(\u001b[0m\u001b[0;36m50\u001b[0m\u001b[0;34m)\u001b[0m\u001b[0;34m:\u001b[0m\u001b[0;34m\u001b[0m\u001b[0m\n\u001b[0;32m---> 13\u001b[0;31m     \u001b[0mcov_mine\u001b[0m\u001b[0;34m[\u001b[0m\u001b[0;36m0\u001b[0m\u001b[0;34m,\u001b[0m\u001b[0;36m0\u001b[0m\u001b[0;34m]\u001b[0m \u001b[0;34m+=\u001b[0m \u001b[0;34m(\u001b[0m\u001b[0mx\u001b[0m\u001b[0;34m[\u001b[0m\u001b[0mix\u001b[0m\u001b[0;34m,\u001b[0m\u001b[0;36m0\u001b[0m\u001b[0;34m]\u001b[0m\u001b[0;34m-\u001b[0m\u001b[0mmean_mine\u001b[0m\u001b[0;34m[\u001b[0m\u001b[0;36m0\u001b[0m\u001b[0;34m]\u001b[0m\u001b[0;34m)\u001b[0m\u001b[0;34m*\u001b[0m\u001b[0;34m(\u001b[0m\u001b[0mx\u001b[0m\u001b[0;34m[\u001b[0m\u001b[0mix\u001b[0m\u001b[0;34m,\u001b[0m\u001b[0;36m0\u001b[0m\u001b[0;34m]\u001b[0m\u001b[0;34m-\u001b[0m\u001b[0mmean_mine\u001b[0m\u001b[0;34m[\u001b[0m\u001b[0;36m0\u001b[0m\u001b[0;34m]\u001b[0m\u001b[0;34m)\u001b[0m\u001b[0;34m\u001b[0m\u001b[0m\n\u001b[0m\u001b[1;32m     14\u001b[0m     \u001b[0mcov_mine\u001b[0m\u001b[0;34m[\u001b[0m\u001b[0;36m0\u001b[0m\u001b[0;34m,\u001b[0m\u001b[0;36m1\u001b[0m\u001b[0;34m]\u001b[0m \u001b[0;34m+=\u001b[0m \u001b[0;34m(\u001b[0m\u001b[0mx\u001b[0m\u001b[0;34m[\u001b[0m\u001b[0mix\u001b[0m\u001b[0;34m,\u001b[0m\u001b[0;36m0\u001b[0m\u001b[0;34m]\u001b[0m\u001b[0;34m-\u001b[0m\u001b[0mmean_mine\u001b[0m\u001b[0;34m[\u001b[0m\u001b[0;36m0\u001b[0m\u001b[0;34m]\u001b[0m\u001b[0;34m)\u001b[0m\u001b[0;34m*\u001b[0m\u001b[0;34m(\u001b[0m\u001b[0mx\u001b[0m\u001b[0;34m[\u001b[0m\u001b[0mix\u001b[0m\u001b[0;34m,\u001b[0m\u001b[0;36m1\u001b[0m\u001b[0;34m]\u001b[0m\u001b[0;34m-\u001b[0m\u001b[0mmean_mine\u001b[0m\u001b[0;34m[\u001b[0m\u001b[0;36m1\u001b[0m\u001b[0;34m]\u001b[0m\u001b[0;34m)\u001b[0m\u001b[0;34m\u001b[0m\u001b[0m\n\u001b[1;32m     15\u001b[0m     \u001b[0mcov_mine\u001b[0m\u001b[0;34m[\u001b[0m\u001b[0;36m1\u001b[0m\u001b[0;34m,\u001b[0m\u001b[0;36m1\u001b[0m\u001b[0;34m]\u001b[0m \u001b[0;34m+=\u001b[0m \u001b[0;34m(\u001b[0m\u001b[0mx\u001b[0m\u001b[0;34m[\u001b[0m\u001b[0mix\u001b[0m\u001b[0;34m,\u001b[0m\u001b[0;36m1\u001b[0m\u001b[0;34m]\u001b[0m\u001b[0;34m-\u001b[0m\u001b[0mmean_mine\u001b[0m\u001b[0;34m[\u001b[0m\u001b[0;36m1\u001b[0m\u001b[0;34m]\u001b[0m\u001b[0;34m)\u001b[0m\u001b[0;34m*\u001b[0m\u001b[0;34m(\u001b[0m\u001b[0mx\u001b[0m\u001b[0;34m[\u001b[0m\u001b[0mix\u001b[0m\u001b[0;34m,\u001b[0m\u001b[0;36m1\u001b[0m\u001b[0;34m]\u001b[0m\u001b[0;34m-\u001b[0m\u001b[0mmean_mine\u001b[0m\u001b[0;34m[\u001b[0m\u001b[0;36m1\u001b[0m\u001b[0;34m]\u001b[0m\u001b[0;34m)\u001b[0m\u001b[0;34m\u001b[0m\u001b[0m\n",
      "\u001b[0;32m~/Library/Python/3.6/lib/python/site-packages/numpy/matrixlib/defmatrix.py\u001b[0m in \u001b[0;36m__mul__\u001b[0;34m(self, other)\u001b[0m\n\u001b[1;32m    307\u001b[0m         \u001b[0;32mif\u001b[0m \u001b[0misinstance\u001b[0m\u001b[0;34m(\u001b[0m\u001b[0mother\u001b[0m\u001b[0;34m,\u001b[0m \u001b[0;34m(\u001b[0m\u001b[0mN\u001b[0m\u001b[0;34m.\u001b[0m\u001b[0mndarray\u001b[0m\u001b[0;34m,\u001b[0m \u001b[0mlist\u001b[0m\u001b[0;34m,\u001b[0m \u001b[0mtuple\u001b[0m\u001b[0;34m)\u001b[0m\u001b[0;34m)\u001b[0m \u001b[0;34m:\u001b[0m\u001b[0;34m\u001b[0m\u001b[0m\n\u001b[1;32m    308\u001b[0m             \u001b[0;31m# This promotes 1-D vectors to row vectors\u001b[0m\u001b[0;34m\u001b[0m\u001b[0;34m\u001b[0m\u001b[0m\n\u001b[0;32m--> 309\u001b[0;31m             \u001b[0;32mreturn\u001b[0m \u001b[0mN\u001b[0m\u001b[0;34m.\u001b[0m\u001b[0mdot\u001b[0m\u001b[0;34m(\u001b[0m\u001b[0mself\u001b[0m\u001b[0;34m,\u001b[0m \u001b[0masmatrix\u001b[0m\u001b[0;34m(\u001b[0m\u001b[0mother\u001b[0m\u001b[0;34m)\u001b[0m\u001b[0;34m)\u001b[0m\u001b[0;34m\u001b[0m\u001b[0m\n\u001b[0m\u001b[1;32m    310\u001b[0m         \u001b[0;32mif\u001b[0m \u001b[0misscalar\u001b[0m\u001b[0;34m(\u001b[0m\u001b[0mother\u001b[0m\u001b[0;34m)\u001b[0m \u001b[0;32mor\u001b[0m \u001b[0;32mnot\u001b[0m \u001b[0mhasattr\u001b[0m\u001b[0;34m(\u001b[0m\u001b[0mother\u001b[0m\u001b[0;34m,\u001b[0m \u001b[0;34m'__rmul__'\u001b[0m\u001b[0;34m)\u001b[0m \u001b[0;34m:\u001b[0m\u001b[0;34m\u001b[0m\u001b[0m\n\u001b[1;32m    311\u001b[0m             \u001b[0;32mreturn\u001b[0m \u001b[0mN\u001b[0m\u001b[0;34m.\u001b[0m\u001b[0mdot\u001b[0m\u001b[0;34m(\u001b[0m\u001b[0mself\u001b[0m\u001b[0;34m,\u001b[0m \u001b[0mother\u001b[0m\u001b[0;34m)\u001b[0m\u001b[0;34m\u001b[0m\u001b[0m\n",
      "\u001b[0;31mValueError\u001b[0m: shapes (1,3) and (1,3) not aligned: 3 (dim 1) != 1 (dim 0)"
     ]
    }
   ],
   "source": [
    "mean_mine = np.mean(x,0)\n",
    "print(mean_mine)\n",
    "# cov_mine = np.zeros((3,3))\n",
    "# for ix in range(3):\n",
    "#     for iy in range(ix,3):\n",
    "#         for n in range(x.shape[0]):\n",
    "#             cov_mine[ix,iy] += (x[n,ix]-mean_mine[0,ix])*(x[n,iy]-mean_mine[0,iy])\n",
    "#             cov_mine[iy,ix] = cov_mine[ix,iy]\n",
    "            \n",
    "# cov_mine /= 4.\n",
    "cov_mine = np.zeros((2, 2))\n",
    "for ix in range(50):\n",
    "    cov_mine[0,0] += (x[ix,0]-mean_mine[0])*(x[ix,0]-mean_mine[0])\n",
    "    cov_mine[0,1] += (x[ix,0]-mean_mine[0])*(x[ix,1]-mean_mine[1])\n",
    "    cov_mine[1,1] += (x[ix,1]-mean_mine[1])*(x[ix,1]-mean_mine[1])\n",
    "    cov_mine[1,0] = cov_mine[0, 1]\n",
    "cov_mine = cov_mine/49.0\n",
    "print('cov')\n",
    "print(cov_mine)\n",
    "evals_mine, evectors_mine = np.linalg.eig(cov_mine)\n",
    "print(evals_mine)\n",
    "print(evectors_mine)\n",
    "print(np.cov(x.T))\n",
    "# evals_mine, evectors_mine = np.linalg.eig(np.linalg.inv(cov_mine))\n",
    "# print(evals_mine)"
   ]
  },
  {
   "cell_type": "code",
   "execution_count": null,
   "metadata": {
    "ExecuteTime": {
     "end_time": "2017-10-30T13:27:13.119800Z",
     "start_time": "2017-10-30T13:27:06.635Z"
    }
   },
   "outputs": [],
   "source": [
    "m = [0, 0]\n",
    "cov = [[1,2],[2,9]]\n",
    "x = np.random.multivariate_normal(m, cov, 5*10**3)\n",
    "print(x.shape)\n",
    "\n",
    "# find the mean of the points\n",
    "mean_sample = np.mean(x,0)\n",
    "cov_sample = np.cov(x.T)\n",
    "print('sample covariance')\n",
    "print(cov_sample)\n",
    "print(np.linalg.inv(cov_sample))\n",
    "evals, evectors = np.linalg.eig(cov_sample)\n",
    "print('evals',evals)\n",
    "print('eigen vectors')\n",
    "print(evectors)\n",
    "print(evectors.shape)\n",
    "print(type(evectors))"
   ]
  },
  {
   "cell_type": "code",
   "execution_count": null,
   "metadata": {
    "ExecuteTime": {
     "end_time": "2017-10-30T13:27:13.121827Z",
     "start_time": "2017-10-30T13:27:06.641Z"
    }
   },
   "outputs": [],
   "source": [
    "S = np.linalg.inv(cov_sample)\n",
    "print('S')\n",
    "print(S)\n",
    "aa,bb,cc = np.linalg.svd(S)\n",
    "print('SVD')\n",
    "print(aa)\n",
    "print(bb)\n",
    "print(cc)\n",
    "print()\n",
    "x1 = np.matrix([[0,1],\n",
    "                [1,0],\n",
    "                [evals[0],evals[1]],\n",
    "                [evals[1],evals[0]],\n",
    "                [1./evals[0],1./evals[1]],\n",
    "                [1./evals[1],1./evals[0]]\n",
    "               ])\n",
    "for xx1 in x1:\n",
    "    print()\n",
    "    print(xx1)\n",
    "    print(S*xx1.T)\n",
    "    print((xx1 * S * xx1.T)[0,0])"
   ]
  },
  {
   "cell_type": "code",
   "execution_count": null,
   "metadata": {
    "ExecuteTime": {
     "end_time": "2017-10-30T13:27:13.123867Z",
     "start_time": "2017-10-30T13:27:06.647Z"
    }
   },
   "outputs": [],
   "source": [
    "plt.plot(x[:,0], x[:,1],'.')\n",
    "make_equal_plot()\n",
    "\n",
    "plt.plot(mean_sample[0], mean_sample[1], 'og', MarkerSize=20)\n",
    "plot_ellipse(a=1, b=9, angle=0, scaling=2)\n",
    "print('angle', find_angle_vector(evectors[:,0]))\n",
    "plt.show()"
   ]
  },
  {
   "cell_type": "code",
   "execution_count": null,
   "metadata": {
    "ExecuteTime": {
     "end_time": "2017-10-30T13:27:13.125467Z",
     "start_time": "2017-10-30T13:27:06.652Z"
    }
   },
   "outputs": [],
   "source": [
    "def plot_evectors(eigen_vals, eigen_vectors, scaling=3):\n",
    "    [plot_evector(eigen_vals[ix], eigen_vectors[:,ix], scaling) for ix in range(2)]"
   ]
  },
  {
   "cell_type": "code",
   "execution_count": null,
   "metadata": {
    "ExecuteTime": {
     "end_time": "2017-10-30T13:27:13.127476Z",
     "start_time": "2017-10-30T13:27:06.656Z"
    }
   },
   "outputs": [],
   "source": [
    "a= [[1,2],[3,4]]\n",
    "np.matrix(a)[:,1].shape"
   ]
  },
  {
   "cell_type": "markdown",
   "metadata": {},
   "source": [
    "Curve Fitting\n",
    "==============="
   ]
  },
  {
   "cell_type": "markdown",
   "metadata": {},
   "source": [
    "Given\n",
    "* data points: $\\xb = (x_1, x_2, \\cdots, x_N)^T$\n",
    "* target values $\\tb = (t_1, t_2, \\cdots, t_N)^T$\n",
    "\n",
    "Assume that, given a value x, the target t has a Gaussian distribution with mean $y(x, \\wb)$. hence\n",
    "\n",
    "$$\n",
    "p(t \\mid x, \\wb, \\beta) = \\Nl{t}{y(x,\\wb)}{\\inv{\\beta}}\n",
    "$$\n",
    "\n",
    "The uncertainty of the target value is $\\beta$"
   ]
  },
  {
   "cell_type": "markdown",
   "metadata": {},
   "source": [
    "if IID, then\n",
    "$$\n",
    "\\arrthree{\n",
    "p(\\tb \\mid \\xb, \\wb, \\beta)\n",
    "&=\n",
    "\\prodnN \\Nl{t_n}{y(x_n, \\wb)}{\\inv{\\beta}}\n",
    "}\n",
    "$$"
   ]
  },
  {
   "cell_type": "markdown",
   "metadata": {},
   "source": [
    "The log likelihood is given by\n",
    "$$\n",
    "\\ln p(\\tb \\mid \\xb, \\wb, \\beta)\n",
    "=\n",
    "-\\frac{\\beta}{2} \\sumnN\n",
    "\\left\\{\n",
    "  y(x_n,\\wb) - t_n\n",
    "\\right\\}^2\n",
    "+ \\frac{N}{2} \\ln{\\beta}\n",
    "- \\frac{N}{2} \\ln{2\\pi}\n",
    "$$"
   ]
  },
  {
   "cell_type": "markdown",
   "metadata": {},
   "source": [
    "## Max Likelihood\n"
   ]
  },
  {
   "cell_type": "markdown",
   "metadata": {},
   "source": [
    "If we consider diff wrt **w**, the last two terms dont matter. Hence, this becomes equivalent to minimizing the sum-of-squares error function.\n",
    "\n",
    "Thus, the sum-of-squares arises as a consequence of maximizing the likelihood under the assumption of a Gaussian noise distribution."
   ]
  },
  {
   "cell_type": "markdown",
   "metadata": {},
   "source": [
    "max wrt $\\beta$\n",
    "\n",
    "$$\n",
    "\\arrthree{\n",
    "-\\half \\sumnN\n",
    "\\left\\{\n",
    "  y(x_n, \\wb) - t_n\n",
    "\\right\\}^2\n",
    "+ \\frac{N}{2} \\fracone{\\beta}\n",
    "& = 0\n",
    "\\\\\n",
    "\\fracone{\\beta_{ML}}\n",
    "=\n",
    "\\frac{1}{N} \\sumnN\n",
    "\\left\\{\n",
    "  y(x_n, \\wb) - t_n\n",
    "\\right\\}^2\n",
    "}\n",
    "$$"
   ]
  },
  {
   "cell_type": "markdown",
   "metadata": {},
   "source": [
    "Having determined $\\wb, \\beta$, predictions can be expressed as a prob. dist. over t, rather than a point estimate.\n",
    "\n",
    "$$\n",
    "p(t \\mid x, \\ml{\\wb}, \\ml{\\beta})\n",
    "=\n",
    "\\Nl{t}{y(x, \\ml{\\wb})}{\\inv{\\ml{\\beta}}}\n",
    "$$"
   ]
  },
  {
   "cell_type": "markdown",
   "metadata": {},
   "source": [
    "### with prior\n",
    "\n",
    "If we introduce a Gaussian prior for **w**, we have\n",
    "$$\n",
    "p(\\wb \\mid \\alpha)\n",
    "=\n",
    "\\Nl{\\wb}{\\zerob}{\\inv{\\alpha}\\I}\n",
    "=\n",
    "\\left(\n",
    "  \\frac{\\alpha}{2\\pi}\n",
    "\\right)^{(M+1)/2}\n",
    "\\EXP{-\\frac{\\alpha}{2} \\wt \\wb}\n",
    "$$\n",
    "\n",
    "where $\\alpha$ is the precision and M+1 is the #elements in **w** for a $M^{th}$ order polynomial.\n",
    "\n",
    "The variables such as $\\alpha$ which control the dist. of the model parameters are called hyperparameters."
   ]
  },
  {
   "cell_type": "markdown",
   "metadata": {},
   "source": [
    "The posterior now becomes\n",
    "$$\n",
    "p(\\wb \\mid \\xb, \\tb, \\alpha, \\beta)\n",
    "\\propto\n",
    "p(\\tb \\mid \\xb, \\wb, \\beta) ~p(\\wb \\mid \\alpha)\n",
    "$$"
   ]
  },
  {
   "cell_type": "markdown",
   "metadata": {},
   "source": [
    "Since the determination of the parameters now happens by max. the posterior, it is called *maximum posterior* or *MAP*."
   ]
  },
  {
   "cell_type": "markdown",
   "metadata": {},
   "source": [
    "Taking the max of the log of the posterior is given as the min of \n",
    "$$\n",
    "\\frac{\\beta}{2}\n",
    "\\sumnN\n",
    "\\left\\{\n",
    "  y(x_n, \\wb) - t_n\n",
    "\\right\\}^2\n",
    "+ \\frac{\\alpha}{2} \\wt \\wb\n",
    "$$"
   ]
  },
  {
   "cell_type": "markdown",
   "metadata": {},
   "source": [
    "Thus the posterior is equiv to min the regularized sum of sequares error function with the regularization parameter given by $\\lambda = \\frac{\\alpha}{\\beta}$"
   ]
  },
  {
   "cell_type": "markdown",
   "metadata": {},
   "source": [
    "## Bayesian approach"
   ]
  },
  {
   "cell_type": "markdown",
   "metadata": {},
   "source": [
    "Bayesian treatment corresponds to the consistent application of the sum and product rules of probability. The predictive distribution is given by\n",
    "\n",
    "$$\n",
    "p(t \\mid x, \\xb, \\tb)\n",
    "=\n",
    "\\int p(t \\mid x, \\wb) ~p(\\wb \\mid \\xb, \\tb) ~d\\wb\n",
    "$$"
   ]
  },
  {
   "cell_type": "markdown",
   "metadata": {},
   "source": [
    "That is, instead of given out using a single value for the parameter $\\wb$, we integrate over all vals of **w**. This is in effect weighing the prediction given by a particular value of **w** by how likely the value is as predicted by the fucking data"
   ]
  },
  {
   "cell_type": "markdown",
   "metadata": {},
   "source": [
    "$$\n",
    "\\arrthree{\n",
    "p(t \\mid x, \\xb, \\tb)\n",
    "&=\n",
    "\\Nl{t}{m(x)}{s^2(x)}\n",
    "\\\\\n",
    "m(x)\n",
    "&=\n",
    "\\beta \\phi(x)^T \\Sb \\sumnN \\phi(x_n) t_n\n",
    "\\\\\n",
    "s^2(x)\n",
    "&=\n",
    "\\inv{\\beta} + \\phi(x)^T \\Sb \\phi(x)\n",
    "\\\\\n",
    "\\inv{\\Sb}\n",
    "&=\n",
    "\\alpha \\I + \\beta \\sumnN \\phi(x_n) \\phi(x_n)^T\n",
    "}\n",
    "$$"
   ]
  },
  {
   "cell_type": "markdown",
   "metadata": {},
   "source": [
    "The variance or the uncertainty has two terms\n",
    "* the first term is the same as the ml estimate\n",
    "* the second term depends on the location of $\\phi(x)$"
   ]
  },
  {
   "cell_type": "markdown",
   "metadata": {},
   "source": [
    "This can be explained using SVD\n",
    "\n",
    "$$\n",
    "\\inv{\\Sb} = \\Ub \\Db \\Ut\n",
    "$$\n",
    "where\n",
    "$$\n",
    "\\arrthree{\n",
    "\\Ub\n",
    "&=\n",
    "\\mat{\\vb_1 & \\vb_2 & \\cdots & \\vb_D}\n",
    "&\\commentgray{eigen vector matrix}\n",
    "\\\\\n",
    "\\Db \n",
    "&=\n",
    "\\text{diag}(\\lambda_1,\\cdots,\\lambda_D)\n",
    "& \\commentgray{diag of eigenvalues}\n",
    "}\n",
    "$$\n"
   ]
  },
  {
   "cell_type": "markdown",
   "metadata": {},
   "source": [
    "If we assume **U** to be orthonormal, then $\\inv{\\Ub} = \\Ut$. Hence\n",
    "\n",
    "$$\n",
    "\\Sb = \\Ub \\inv{\\Db} \\Ut\n",
    "$$\n",
    "\n",
    "Now, \n",
    "$$\n",
    "\\arrthree{\n",
    "\\xt \\Sb \\xb\n",
    "&=\n",
    "\\xt \\left(\\Ub \\inv{\\Db}\\Ut\\right) \\xb\n",
    "\\\\\n",
    "&=\n",
    "\\left( \\Ut \\xb \\right)^T \\Db^{-1/2} \\Db^{-1/2}\n",
    "\\left( \\Ut \\xb \\right)\n",
    "\\\\\n",
    "&=\n",
    "\\left( \\Db^{-1/2} \\Ut \\xb \\right)^T\n",
    "\\left( \\Db^{-1/2} \\Ut \\xb \\right)\n",
    "\\\\\n",
    "&=\n",
    "\\zt \\zb\n",
    "}\n",
    "$$\n",
    "\n",
    "where $\\zb = \\left( \\Db^{-1/2} \\Ut \\xb \\right)$, duh"
   ]
  },
  {
   "cell_type": "markdown",
   "metadata": {},
   "source": [
    "* The sexy part about this is it is a dot product.  \n",
    "* moreover, $\\Ut \\xb$ is nothing but the projection of the vector $\\xb$ on to the eigenvectors.\n",
    "  * Each of these projections will be high the more \\xb is aligned to that particular eigenvector\n",
    "* after the projection, we get a vector of projections or \"distances\" from the center of mass\n",
    "* these values are scaled down by the sqrt of eigenvalue along each projection. this has an amazing consequence\n",
    "  * the longer the axis is, farther a point can be along it than along a shorter axis, capturing the spread of the data"
   ]
  },
  {
   "cell_type": "markdown",
   "metadata": {},
   "source": []
  },
  {
   "cell_type": "markdown",
   "metadata": {},
   "source": []
  },
  {
   "cell_type": "markdown",
   "metadata": {},
   "source": []
  },
  {
   "cell_type": "markdown",
   "metadata": {},
   "source": []
  },
  {
   "cell_type": "markdown",
   "metadata": {},
   "source": []
  },
  {
   "cell_type": "markdown",
   "metadata": {},
   "source": []
  },
  {
   "cell_type": "markdown",
   "metadata": {},
   "source": []
  }
 ],
 "metadata": {
  "hide_input": false,
  "kernelspec": {
   "display_name": "Python 3",
   "language": "python3",
   "name": "python3"
  },
  "language_info": {
   "codemirror_mode": {
    "name": "ipython",
    "version": 3
   },
   "file_extension": ".py",
   "mimetype": "text/x-python",
   "name": "python",
   "nbconvert_exporter": "python",
   "pygments_lexer": "ipython3",
   "version": "3.6.3"
  },
  "latex_envs": {
   "bibliofile": "biblio.bib",
   "cite_by": "apalike",
   "current_citInitial": 1,
   "eqLabelWithNumbers": true,
   "eqNumInitial": 0
  },
  "nav_menu": {},
  "toc": {
   "nav_menu": {},
   "number_sections": true,
   "sideBar": true,
   "skip_h1_title": false,
   "toc_cell": false,
   "toc_position": {
    "height": "908px",
    "left": "0px",
    "right": "auto",
    "top": "137px",
    "width": "191px"
   },
   "toc_section_display": "block",
   "toc_window_display": true
  },
  "varInspector": {
   "cols": {
    "lenName": 16,
    "lenType": 16,
    "lenVar": 40
   },
   "kernels_config": {
    "python": {
     "delete_cmd_postfix": "",
     "delete_cmd_prefix": "del ",
     "library": "var_list.py",
     "varRefreshCmd": "print(var_dic_list())"
    },
    "r": {
     "delete_cmd_postfix": ") ",
     "delete_cmd_prefix": "rm(",
     "library": "var_list.r",
     "varRefreshCmd": "cat(var_dic_list()) "
    }
   },
   "types_to_exclude": [
    "module",
    "function",
    "builtin_function_or_method",
    "instance",
    "_Feature"
   ],
   "window_display": false
  }
 },
 "nbformat": 4,
 "nbformat_minor": 1
}
