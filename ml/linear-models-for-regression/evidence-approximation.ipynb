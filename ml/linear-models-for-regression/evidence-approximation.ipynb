{
 "cells": [
  {
   "cell_type": "code",
   "execution_count": 2,
   "metadata": {
    "collapsed": false
   },
   "outputs": [],
   "source": [
    "import numpy as np\n",
    "from matplotlib import pyplot as plt\n",
    "%matplotlib inline\n",
    "\n",
    "import random as rnd\n",
    "import os\n",
    "import math\n",
    "\n",
    "# required for interactive plotting\n",
    "from __future__ import print_function\n",
    "from ipywidgets import interact, interactive, fixed\n",
    "import ipywidgets as widgets\n",
    "import numpy.polynomial as np_poly\n",
    "\n",
    "from IPython.display import Math\n",
    "from IPython.display import Latex\n",
    "from IPython.display import HTML\n",
    "\n",
    "from pprint import pprint\n",
    "import functools as ft"
   ]
  },
  {
   "cell_type": "markdown",
   "metadata": {},
   "source": [
    "initialization\n",
    "$\n",
    "\\newcommand{\\E}[1]{\\mathbb{E}\\left[ #1 \\right]}\n",
    "\\newcommand{\\V}[1]{\\mathbb{V}\\left[#1\\right]}\n",
    "\\newcommand{\\H}[1]{\\mathbb{H}\\left[#1\\right]}\n",
    "\\newcommand{\\cov}[1]{\\text{cov} \\sigma\\left[#1\\right]}\n",
    "\\newcommand{\\EXP}[1]{\\exp\\left\\{#1\\right\\}} \n",
    "\\newcommand{\\LN}[1]{\\ln\\left\\{#1\\right\\}} \n",
    "\\newcommand{\\P}{\\mathbb{P}}\n",
    "\\newcommand{\\underl}[1]{\\text{$\\underline{#1}$}}\n",
    "\\newcommand{\\fracone}[1]{\\frac{1}{#1}}\n",
    "\\newcommand{\\half}{\\fracone{2}}\n",
    "\\newcommand{\\frachalf}[1]{\\frac{#1}{2}}\n",
    "\\newcommand{\\Lim}[1]{\\displaystyle \\lim_{#1}}\n",
    "\\newcommand{\\Norm}[1]{\\left\\lVert #1 \\right\\rVert}\n",
    "\\newcommand{\\Normsqr}[1]{\\Norm{#1}^2}\n",
    "\\newcommand{\\inv}[1]{#1^{-1}}\n",
    "\\newcommand{\\invp}[1]{\\left({#1}\\right)^{-1}}\n",
    "\\DeclareMathOperator*{\\argmin}{arg\\,min}\n",
    "\\DeclareMathOperator*{\\argmax}{arg\\,max}\n",
    "\\newcommand{\\ml}[1]{#1_{\\text{ML}}}\n",
    "\\newcommand{\\map}[1]{#1_{\\text{MAP}}}\n",
    "\\newcommand{\\Partial}[2]{\\frac{\\partial #1}{\\partial #2}}\n",
    "\\newcommand{\\KL}[2]{\\text{KL}\\left(#1 \\Vert #2\\right)}\n",
    "\\newcommand{\\MI}[1]{\\mathcal{I}\\left(#1\\right)}\n",
    "\\newcommand{\\Ln}[1]{\\ln \\left\\(#1\\right\\)}\n",
    "\\newcommand{\\Lnb}[1]{\\ln \\left\\{#1\\right\\} }\n",
    "\\newcommand{\\Mod}[1]{\\left|#1\\right|}\n",
    "\\newcommand{\\Bracket}[1]{\\left[#1\\right]}\n",
    "\\newcommand{\\Brace}[1]{\\left\\{#1\\right\\}}\n",
    "\\newcommand{\\trace}[1]{\\text{Tr}\\left( #1 \\right)}\n",
    "\\newcommand{\\sqrbrkt}[1]{\\Bracket{#1}^2}\n",
    "\\newcommand{\\sqrbrc}[1]{\\Brace{#1}^2}\n",
    "$\n",
    "$\n",
    "\\newcommand{\\mat}[1]{ \\left[ \\begin{matrix} #1 \\end{matrix} \\right] }\n",
    "\\newcommand{\\matp}[1]{ \\left( \\begin{matrix} #1 \\end{matrix} \\right)}\n",
    "\\newcommand{\\mats}[1]{ \\begin{matrix}#1\\end{matrix} }\n",
    "\\newcommand{\\arrthree}[1]{\n",
    "\\begin{array}{rlr} #1 \\end{array}}\n",
    "$\n",
    "$\n",
    "\\newcommand{\\C}{\\mathbb{C}}\n",
    "\\newcommand{\\Ca}{\\mathcal{C}}\n",
    "\\newcommand{\\D}{\\mathcal{D}}\n",
    "\\newcommand{\\G}{\\mathcal{G}}\n",
    "\\newcommand{\\I}{\\mathcal{I}}\n",
    "\\newcommand{\\L}{\\mathcal{L}}\n",
    "\\newcommand{\\M}{\\mathcal{M}}\n",
    "\\newcommand{\\N}{\\mathbb{N}}\n",
    "\\newcommand{\\R}{\\mathbb{R}}\n",
    "\\newcommand{\\Ra}{\\mathcal{R}}\n",
    "$\n",
    "$\n",
    "\\newcommand{\\commentgray}[1]{\\color{gray}{\\text{#1}}}\n",
    "$"
   ]
  },
  {
   "cell_type": "markdown",
   "metadata": {},
   "source": [
    "sum, product\n",
    "$\n",
    "\\newcommand{\\sumi}{\\displaystyle \\sum_i}\n",
    "\\newcommand{\\sumiD}{\\displaystyle \\sum_{i=1}^{D}}\n",
    "\\newcommand{\\sumiL}{\\displaystyle \\sum_{i=1}^{L}}\n",
    "\\newcommand{\\sumiN}{\\displaystyle \\sum_{i=1}^{N}}\n",
    "\\newcommand{\\sumjD}{\\displaystyle \\sum_{j=1}^{D}}\n",
    "\\newcommand{\\sumjK}{\\displaystyle \\sum_{j=1}^{K}}\n",
    "\\newcommand{\\sumjMl}{\\sum_{j=1}^{M-1}}\n",
    "\\newcommand{\\sumkK}{\\displaystyle \\sum_{k=1}^{K}}\n",
    "\\newcommand{\\sumkM}{\\displaystyle \\sum_{k=1}^{M}}\n",
    "\\newcommand{\\sumkMl}{\\sum_{k=1}^{M-1}}\n",
    "\\newcommand{\\summN}{\\displaystyle \\sum_{m=1}^{N}}\n",
    "\\newcommand{\\sumnN}{\\displaystyle \\sum_{n=1}^{N}}\n",
    "$\n",
    "$\n",
    "\\newcommand{\\prodi}{\\displaystyle \\prod_i}\n",
    "\\newcommand{\\prodiD}{\\displaystyle \\prod_{i=1}^{D}}\n",
    "\\newcommand{\\prodiL}{\\displaystyle \\prod_{i=1}^{L}}\n",
    "\\newcommand{\\prodiN}{\\displaystyle \\prod_{i=1}^{N}}\n",
    "\\newcommand{\\prodjK}{\\displaystyle \\prod_{j=1}^{K}}\n",
    "\\newcommand{\\prodkK}{\\displaystyle \\prod_{k=1}^{K}}\n",
    "\\newcommand{\\prodmN}{\\displaystyle \\prod_{m=1}^{N}}\n",
    "\\newcommand{\\prodnN}{\\displaystyle \\prod_{n=1}^{N}}\n",
    "$"
   ]
  },
  {
   "cell_type": "markdown",
   "metadata": {},
   "source": [
    "alphabet shortcuts\n",
    "$\n",
    "\\newcommand{\\ab}{\\mathbf{a}}\n",
    "\\newcommand{\\Ab}{\\mathbf{A}}\n",
    "\\newcommand{\\At}{\\Ab^T}\n",
    "\\newcommand{\\Ai}{\\inv{\\Ab}}\n",
    "\\newcommand{\\Abjk}{\\Ab_{jk}}\n",
    "\\newcommand{\\bb}{\\mathbf{b}}\n",
    "\\newcommand{\\bt}{\\bb^T}\n",
    "\\newcommand{\\Bb}{\\mathbf{B}}\n",
    "\\newcommand{\\Bt}{\\Bb^T}\n",
    "\\newcommand{\\Cb}{\\mathbf{C}}\n",
    "\\newcommand{\\Db}{\\mathbf{D}}\n",
    "\\newcommand{\\fb}{\\mathbf{f}}\n",
    "\\newcommand{\\fp}{f^{\\prime}}\n",
    "\\newcommand{\\Hb}{\\mathbf{H}}\n",
    "\\newcommand{\\hx}{h(\\xb)}\n",
    "\\newcommand{\\Jb}{\\mathbf{J}}\n",
    "\\newcommand{\\Kb}{\\mathbf{K}}\n",
    "\\newcommand{\\Lb}{\\mathbf{L}}\n",
    "\\newcommand{\\Lt}{\\Lb^T}\n",
    "\\newcommand{\\Lbi}{\\Lb^{-1}}\n",
    "\\newcommand{\\mb}{\\mathbf{m}}\n",
    "\\newcommand{\\mt}{\\mb^T}\n",
    "\\newcommand{\\mbn}{\\mb_N}\n",
    "\\newcommand{\\mbnt}{\\mbn^T}\n",
    "\\newcommand{\\Mb}{\\mathbf{M}}\n",
    "\\newcommand{\\Qb}{\\mathbf{Q}}\n",
    "\\newcommand{\\Rb}{\\mathbf{R}}\n",
    "\\newcommand{\\Sb}{\\mathbf{S}}\n",
    "\\newcommand{\\tb}{\\mathbf{t}}\n",
    "\\newcommand{\\tt}{\\tb^T}\n",
    "\\newcommand{\\ub}{\\mathbf{u}}\n",
    "\\newcommand{\\Ub}{\\mathbf{U}}\n",
    "\\newcommand{\\Ut}{\\Ub^T}\n",
    "\\newcommand{\\vb}{\\mathbf{v}}\n",
    "\\newcommand{\\Vb}{\\mathbf{V}}\n",
    "\\newcommand{\\wb}{\\mathbf{w}}\n",
    "\\newcommand{\\wt}{\\wb^T}\n",
    "\\newcommand{\\Wb}{\\mathbf{W}}\n",
    "\\newcommand{\\Xb}{\\mathbf{X}}\n",
    "\\newcommand{\\Xt}{\\Xb^T}\n",
    "\\newcommand{\\xb}{\\mathbf{x}}\n",
    "\\newcommand{\\xt}{\\xb^T}\n",
    "\\newcommand{\\xp}{x^{\\prime}}\n",
    "\\newcommand{\\xbp}{\\xb^{\\prime}}\n",
    "\\newcommand{\\xbm}{\\xb_m}\n",
    "\\newcommand{\\xbn}{\\xb_n}\n",
    "\\newcommand{\\xab}{\\mathbf{x_a}}\n",
    "\\newcommand{\\xabt}{\\mathbf{x_a}^T}\n",
    "\\newcommand{\\xbb}{\\mathbf{x_b}}\n",
    "\\newcommand{\\xbbt}{\\mathbf{x_b}^T}\n",
    "\\newcommand{\\yb}{\\mathbf{y}}\n",
    "\\newcommand{\\yt}{\\yb^T}\n",
    "\\newcommand{\\yx}{y(\\xb)}\n",
    "\\newcommand{\\zb}{\\mathbf{z}}\n",
    "\\newcommand{\\zt}{\\zb^T}\n",
    "\\newcommand{\\zbm}{\\zb_m}\n",
    "\\newcommand{\\zbn}{\\zb_n}\n",
    "\\newcommand{\\zbnp}{\\zb_{n-1}}\n",
    "\\newcommand{\\znk}{\\zb_{nk}}\n",
    "\\newcommand{\\znpj}{\\zb_{n-1,j}}\n",
    "\\newcommand{\\Zb}{\\mathbf{Z}}\n",
    "$"
   ]
  },
  {
   "cell_type": "markdown",
   "metadata": {},
   "source": [
    "math shortcuts\n",
    "$\n",
    "\\newcommand{\\chib}{\\boldsymbol{\\chi}}\n",
    "\\newcommand{\\etab}{\\pmb{\\eta}}\n",
    "\\newcommand{\\etat}{\\eta^T}\n",
    "\\newcommand{\\etabt}{\\etab^T}\n",
    "\\newcommand{\\Lambdab}{\\pmb{\\Lambda}}\n",
    "\\newcommand{\\laa}{\\Lambda_{aa}}\n",
    "\\newcommand{\\laai}{\\Lambda_{aa}^{-1}}\n",
    "\\newcommand{\\lab}{\\Lambda_{ab}}\n",
    "\\newcommand{\\lba}{\\Lambda_{ba}}\n",
    "\\newcommand{\\lbb}{\\Lambda_{bb}}\n",
    "\\newcommand{\\lbbi}{\\Lambda_{bb}^{-1}}\n",
    "\\newcommand{\\li}{\\Lambda^{-1}}\n",
    "\\newcommand{\\Li}{\\Lambda^{-1}}\n",
    "\\newcommand{\\mub}{\\pmb{\\mu}}\n",
    "\\newcommand{\\mut}{\\mub^T}\n",
    "\\newcommand{\\muab}{\\pmb{\\mu}_a}\n",
    "\\newcommand{\\mubb}{\\pmb{\\mu}_b}\n",
    "\\newcommand{\\Phib}{\\pmb{\\Phi}}\n",
    "\\newcommand{\\Phibt}{\\Phib^T}\n",
    "\\newcommand{\\pib}{\\pmb{\\pi}}\n",
    "\\newcommand{\\sigmasqr}{\\sigma^2}\n",
    "\\newcommand{\\saa}{\\Sigma_{aa}}\n",
    "\\newcommand{\\sab}{\\Sigma_{ab}}\n",
    "\\newcommand{\\sba}{\\Sigma_{ba}}\n",
    "\\newcommand{\\sbb}{\\Sigma_{bb}}\n",
    "\\newcommand{\\thetab}{\\pmb{\\theta}}\n",
    "\\newcommand{\\thetat}{\\thetab^T}\n",
    "\\newcommand{\\thetabh}{\\hat{\\thetab}}\n",
    "\\newcommand{\\thetaold}{\\thetab^{\\text{old}}}\n",
    "$\n",
    "$\n",
    "\\newcommand{\\zerob}{\\pmb{0}}\n",
    "\\newcommand{\\ed}{\\mathbb{E}_{\\D}}\n",
    "\\newcommand{\\edyx}{\\ed\\left[y(\\xb ; \\D)\\right]}\n",
    "\\newcommand{\\dx}{~dx}\n",
    "\\newcommand{\\dxb}{~d\\xb}\n",
    "\\newcommand{\\pxdxb}{p(\\xb) \\dxb}\n",
    "\\newcommand{\\dwb}{~d\\wb}\n",
    "$"
   ]
  },
  {
   "cell_type": "markdown",
   "metadata": {},
   "source": [
    "aliases for distributions\n",
    "$\\newcommand{\\multivarcoeff}{\\frac{1}{(2\\pi)^{D/2}}\n",
    "\\frac{1}{\\left| \\mathbf{\\Sigma}\\right|^{1/2}}}$\n",
    "$\\newcommand{\\multivarexp}[2]\n",
    "{\n",
    "\\left\\{\n",
    " -\\frac{1}{2} \n",
    " {#1}^T \n",
    " #2\n",
    " {#1}\n",
    "\\right\\}\n",
    "}$\n",
    "$\\newcommand{\\multivarexpx}[1]{\\multivarexp{#1}{\\Sigma^{-1}}}$\n",
    "$\\newcommand{\\multivarexpstd}{\\multivarexpx{(\\xb-\\mub)}}$\n",
    "$\\newcommand{\\gam}{\\operatorname{Gam}}$\n",
    "$\n",
    "\\newcommand{\\Nl}[3]{\\mathcal{N}\\left(#1 \\mid #2, #3\\right)}\n",
    "\\newcommand{\\Nstdx}{\\Nl{\\mathbf{x}}{\\mathbf{\\mu}}{\\Sigma}}\n",
    "$"
   ]
  },
  {
   "cell_type": "markdown",
   "metadata": {},
   "source": [
    "# Intro"
   ]
  },
  {
   "cell_type": "markdown",
   "metadata": {},
   "source": [
    "* There are two hyperparameters, $\\alpha$ and $\\beta$\n",
    " * $\\alpha$: for the prior of $\\wb$\n",
    " * $\\beta$ for the noise of y\n",
    " \n",
    "* Can integrate analytically over **w** or hyperparameters\n",
    "  * but complete marginalization is analytically intractable\n",
    "  \n",
    "* Here, we use an approximation to find the hyperparameters by maximizing marginal likelihood function obtained by first integrating over **w**\n",
    "* This framework is called\n",
    "  * empirical Bayes\n",
    "  * type 2 maximum likelihood\n",
    "  * generalized maximum likelihood\n",
    "  * evidence approximation\n",
    "  "
   ]
  },
  {
   "cell_type": "markdown",
   "metadata": {},
   "source": [
    "# Steps involved"
   ]
  },
  {
   "cell_type": "markdown",
   "metadata": {},
   "source": [
    "1. use the prior and likelihood forms\n",
    "1. complete the square to separate out **w**\n",
    "1. use normalization coefficient of a Gaussian\n",
    "1. compute the log evidence\n",
    "1. find $\\alpha$ and $\\beta$"
   ]
  },
  {
   "cell_type": "markdown",
   "metadata": {},
   "source": [
    "# Predictive distribution"
   ]
  },
  {
   "cell_type": "markdown",
   "metadata": {},
   "source": [
    "$$\n",
    "\\arrthree{\n",
    "p(t \\mid \\xb, \\tb)\n",
    "&= \n",
    "\\displaystyle \\iiint\n",
    "~p(t \\mid \\xb, \\wb, \\beta)\n",
    "~p(\\wb \\mid \\xb, \\tb, \\alpha, \\beta)\n",
    "~p(\\alpha, \\beta \\mid \\xb, \\tb)\n",
    "\\dwb ~d\\alpha ~d\\beta\n",
    "\\\\ \n",
    "p(t \\mid \\tb) &=\n",
    "\\displaystyle \\iiint\n",
    "~p(t \\mid \\wb, \\beta)\n",
    "~p(\\wb \\mid \\tb, \\alpha, \\beta)\n",
    "~p(\\alpha, \\beta \\mid \\tb)\n",
    "\\dwb ~d\\alpha ~d\\beta\n",
    "}\n",
    "$$"
   ]
  },
  {
   "cell_type": "markdown",
   "metadata": {},
   "source": [
    "$$\n",
    "\\arrthree{\n",
    "p(t \\mid \\xb, \\wb, \\beta) &= \\Nl{t}{y(\\xb, \\wb)}{\\inv{\\beta}}\n",
    "\\\\\n",
    "p(\\wb \\mid \\tb) &= \\Nl{\\wb}{\\mb_N}{\\Sb_N} \n",
    "\\\\\n",
    "\\text{where } \\mb_N &= \\Sb_N \\Brace{\\inv{\\Sb_0} \\mb_0 + \\beta \\Phibt \\tb}\n",
    "\\\\\n",
    "\\Sb_N &= \\inv{\\Sb_0} + \\beta \\Phibt \\Phib\n",
    "}\n",
    "$$"
   ]
  },
  {
   "cell_type": "markdown",
   "metadata": {},
   "source": [
    "If the posterior $p(\\alpha, \\beta \\mid \\tb)$ is sharply peaked around $\\hat{\\alpha}, \\hat{\\beta}$, then the predictive distribution is given by\n",
    "$$\n",
    "p(t \\mid \\xb, \\tb) \\approx\n",
    "p(t \\mid \\tb, \\hat{\\alpha}, \\hat{\\beta}) \\approx\n",
    "\\int p(t \\mid \\wb, \\hat{\\beta}) ~p(\\wb \\mid \\tb, \\hat{\\alpha}, \\hat{\\beta}) \\dwb\n",
    "$$"
   ]
  },
  {
   "cell_type": "markdown",
   "metadata": {},
   "source": [
    "The posterior of the hyperparameters is given by\n",
    "$$\n",
    "p(\\alpha, \\beta \\mid \\tb) \\propto p(\\tb \\mid \\alpha, \\beta) ~p(\\alpha, \\beta)\n",
    "$$\n",
    "\n",
    "* If the prior is relatively flat, then in the evidence framework, the values of $\\hat{\\alpha}$ and $\\hat{\\beta}$ are obtained by maximizing the marginal likelihood $p(\\tb \\mid \\alpha, \\beta)$\n",
    "* We eval the marginal likelihood and find its maxima\n",
    "* This allows us to determine the value of hyperparameters from training data alone, w/o cross validation"
   ]
  },
  {
   "cell_type": "markdown",
   "metadata": {},
   "source": [
    "## Aside"
   ]
  },
  {
   "cell_type": "markdown",
   "metadata": {},
   "source": [
    "* Define a conjugate prior of Gamma distribution over hyperparameters\n",
    "* Then, marginalization over hyperparameters in the predictive distribution $p(t \\mid \\tb)$ gives a [students-t distribution](../probability-distributions/3-gaussian-students-t.ipynb)\n",
    "* The resulting integral is not analytically tractable\n",
    "* Laplace approximation might help us evaluate\n",
    "* But, the integrand as a function of **w** has a strongly skewed mode\n",
    "  * Hence Laplace approximation fails \\citeme{Mackay 1999]"
   ]
  },
  {
   "cell_type": "markdown",
   "metadata": {},
   "source": [
    "Marginal likelihood:\n",
    "$$\n",
    "p(\\tb \\mid \\alpha, \\beta) = \n",
    "\\int\n",
    "~p(\\tb \\mid \\wb, \\alpha, \\beta)\n",
    "~p(\\wb \\mid \\alpha)\n",
    "~d\\wb\n",
    "$$\n",
    "\n",
    "* this can be evaluated using the [conditional distribution](/notebooks/void-main/Gaussian%20Stuff.ipynb#Conditional-Gaussian-Distributions) of a gaussian model\n",
    "* we shall evaluate by completing the integral and making use of the std. form of the normalization coefficient of the gaussian"
   ]
  },
  {
   "cell_type": "markdown",
   "metadata": {},
   "source": [
    "# Evaluation of evidence function"
   ]
  },
  {
   "cell_type": "markdown",
   "metadata": {},
   "source": [
    "$$\n",
    "p(\\tb \\mid \\alpha, \\beta) = \n",
    "\\int p(\\tb \\mid \\wb, \\beta) ~p(\\wb \\mid \\alpha) \\dwb\n",
    "$$"
   ]
  },
  {
   "cell_type": "markdown",
   "metadata": {},
   "source": [
    "Conditional likelihood:\n",
    "$$\n",
    "p(\\tb \\mid \\wb, \\beta) = \n",
    "\\mathcal{N}(t_n \\mid \\wt \\phi(\\xb_n), \\beta^{-1})\n",
    "=\n",
    "\\frac{N}{2} \\ln \\beta\n",
    "-\\frac{N}{2} \\ln(2\\pi)\n",
    "-\\beta E_D(\\wb)\n",
    "$$\n",
    "where\n",
    "$$\n",
    "E_D(\\wb) = \n",
    "\\frac12 \\sumnN\n",
    "\\Bracket{t_n - \\wt \\phi(\\xb_n)}^2\n",
    "$$"
   ]
  },
  {
   "cell_type": "markdown",
   "metadata": {},
   "source": [
    "Prior:\n",
    "$$\n",
    "p(\\wb \\mid \\alpha) = \n",
    "\\mathcal{N}(\\wb \\mid \\mathbf{0}, \\alpha^{-1} \\mathbf{I})\n",
    "$$"
   ]
  },
  {
   "cell_type": "markdown",
   "metadata": {},
   "source": [
    "Hence,\n",
    "$$\n",
    "\\arrthree{\n",
    "p(\\tb \\mid \\alpha, \\beta) &=\n",
    "\\left(\\frac{\\beta}{2\\pi}\\right)^{N/2}\n",
    "\\left(\\frac{\\alpha}{2\\pi}\\right)^{M/2}\n",
    "\\int \\exp\\{-E(\\wb)\\} ~d\\wb\n",
    "\\\\\n",
    "\\text{where} \\\\\n",
    "E(\\wb)\n",
    "&=\n",
    "\\frachalf{\\beta} E_D(\\wb) + \\alpha E_W(\\wb)\n",
    "\\\\ &=\n",
    "\\frachalf{\\beta} \\Normsqr{\\tb - \\Phi \\wb} +\n",
    "\\frachalf{\\alpha} \\wt \\wb\n",
    "}\n",
    "$$"
   ]
  },
  {
   "cell_type": "markdown",
   "metadata": {},
   "source": [
    "## Completing the square"
   ]
  },
  {
   "cell_type": "markdown",
   "metadata": {},
   "source": [
    "$$\n",
    "\\arrthree{\n",
    "E(\\wb)\n",
    "&=\n",
    "\\frachalf{\\beta} \\Normsqr{\\tb - \\Phi \\wb} + \\frachalf{\\alpha} \\wt \\wb\n",
    "\\\\ &=\n",
    "\\frachalf{\\beta} (\\tb - \\Phi \\wb)^T (\\tb - \\Phi \\wb) + \\frachalf{\\alpha} \\wt \\wb\n",
    "}\n",
    "$$"
   ]
  },
  {
   "cell_type": "markdown",
   "metadata": {},
   "source": [
    "Ignoring the half\n",
    "$$\n",
    "\\arrthree{\n",
    "\\beta\n",
    "\\left(\n",
    "  \\tb^T \\tb\n",
    "- \\tb^T \\Phi \\wb\n",
    "- \\wt \\Phi^T \\tb\n",
    "+ \\wt \\Phi^T \\Phi \\wb\n",
    "\\right)\n",
    "+ \\alpha \\wt \\wb\n",
    "}\n",
    "$$"
   ]
  },
  {
   "cell_type": "markdown",
   "metadata": {},
   "source": [
    "Complting the square wrt **w**"
   ]
  },
  {
   "cell_type": "markdown",
   "metadata": {},
   "source": [
    "\\begin{array}{l}\n",
    "\\wt \\left( \\alpha \\I + \\beta \\Phibt \\Phib \\right) \\wb \n",
    "- 2 \\beta \\wt \\Phibt \\tb\n",
    "+ \\beta \\tt \\tb\n",
    "\\\\\n",
    "\\wt \\Ab \\wb \n",
    "- 2 \\beta \\wt \\Phibt \\tb\n",
    "+ \\beta \\tt \\tb\n",
    "\\\\\n",
    "\\Brace{\\wb - \\beta \\Ai \\Phibt \\tb}^T \\Ab \\Brace{\\wb - \\beta \\Ai \\Phibt \\tb} + \\text{some things} + \\beta \\tt \\tb\n",
    "\\\\\n",
    "\\Brace{\\wb - \\mb_N}^T \\Ab \\Brace{\\wb - \\mb_N} - \\mb_N^T \\Ab \\mb_N + \\beta \\tt \\tb\n",
    "\\\\\n",
    "\\end{array}"
   ]
  },
  {
   "cell_type": "markdown",
   "metadata": {},
   "source": [
    "Consider the last pair of terms\n",
    "\n",
    "\\begin{array}{l}\n",
    "\\beta \\tt \\tb - \\mbnt \\Ab \\mbn \\\\\n",
    "\\beta \\tt \\tb - 2 \\mbnt \\Ab \\mbn + \\mbnt \\Ab \\mbn\\\\\n",
    "\\beta \\tt \\tb - 2 \\mbnt \\Ab \\Brace{\\beta \\Ai \\Phibt \\tb} + \\mbnt \\Brace{\\beta \\Phibt \\Phib + \\alpha \\I} \\mbn\\\\\n",
    "\\beta \\tt \\tb - 2 \\beta \\mbnt \\Phibt \\tb + \\beta \\mbnt \\Phibt \\Phib \\mbn + \\alpha \\mbnt \\mbn\\\\\n",
    "\\beta \\Brace{\\tb - \\Phib \\mbn}^T \\Brace{\\tb - \\Phib \\mbn} + \\alpha \\mbnt \\mbn\n",
    "\\end{array}"
   ]
  },
  {
   "cell_type": "markdown",
   "metadata": {},
   "source": [
    "Thus\n",
    "$$\n",
    "\\arrthree{\n",
    "E(\\wb) &=\n",
    "E(\\mb_N) + \\frac12 (\\wb-\\mb_N)^T \\Ab (\\wb -\\mb_N)\n",
    "\\\\\n",
    "\\text{where}\n",
    "\\\\\n",
    "\\Ab &= \\alpha \\I + \\beta \\Phibt \\Phib\n",
    "\\\\\n",
    "\\mb_N &= \\beta \\Ab^{-1} \\Phibt \\tb\n",
    "\\\\\n",
    "E(\\mb_N) &=\n",
    "\\frac{\\beta}{2} \\Normsqr{\\tb - \\Phi \\mb_N} \n",
    "+\\frac{\\alpha}{2} \\mb_{N}^{T} \\mb_N\n",
    "}\n",
    "$$"
   ]
  },
  {
   "cell_type": "markdown",
   "metadata": {},
   "source": [
    "Hence\n",
    "$$\n",
    "\\arrthree{\n",
    "\\int &\\exp \\left\\{ -E(\\wb) \\right\\} ~d\\wb\n",
    "\\\\ &=\n",
    "\\exp\\left\\{ -E(\\mb_N)\\right\\}\n",
    "\\int \\exp\n",
    "\\left\\{\n",
    "  -\\frac12 (\\wb - \\mb_N)^T \\Ab (\\wb - \\mb_N)\n",
    "\\right\\}\n",
    "~d\\wb\n",
    "\\\\ \n",
    "&=\n",
    "\\exp\\left\\{ -E(\\mb_N)\\right\\}\n",
    "(2\\pi)^{M/2}\n",
    "\\left| \\Ab \\right|^{-1/2}\n",
    "}\n",
    "$$"
   ]
  },
  {
   "cell_type": "markdown",
   "metadata": {},
   "source": [
    "Hence\n",
    "$$\n",
    "\\arrthree{\n",
    "\\ln p(\\tb \\mid \\alpha, \\beta)\n",
    "&=\n",
    "\\frachalf{M} \\ln \\alpha\n",
    "+ \\frachalf{N} \\ln \\beta\n",
    "- E(\\mb_N)\n",
    "- \\frac12 \\ln \\left|\\Ab\\right|\n",
    "- \\frac12 \\ln(2\\pi)\n",
    "}\n",
    "$$"
   ]
  },
  {
   "cell_type": "markdown",
   "metadata": {},
   "source": [
    "# Maximize evidence function"
   ]
  },
  {
   "cell_type": "markdown",
   "metadata": {},
   "source": [
    "Finding alpha\n",
    "-------------------------\n",
    "\n",
    "Consider the eigenvector equation\n",
    "$$\n",
    "\\left(\n",
    "  \\beta \\Phi^T \\Phi\n",
    "\\right)\n",
    "\\ub_i\n",
    "=\n",
    "\\lambda_i \\ub_i\n",
    "$$\n",
    "Hence the eigenvalues of **A** is $\\alpha + \\lambda_i$ since $\\Ab = \\alpha \\I + \\beta \\Phibt \\Phib$"
   ]
  },
  {
   "cell_type": "markdown",
   "metadata": {},
   "source": [
    "$$\n",
    "\\arrthree{\n",
    "\\frac{d}{d\\alpha} \\ln \\left| \\Ab \\right|\n",
    "&=\n",
    "\\frac{d}{d\\alpha} \\ln \\prodi \\left( \\alpha + \\lambda_i \\right)\n",
    "\\\\ &=\n",
    "\\frac{d}{d\\alpha} \\sumi \\ln \\left( \\alpha + \\lambda_i \\right)\n",
    "\\\\ &=\n",
    "\\displaystyle \\sum_i \\frac{1}{\\alpha + \\lambda_i}\n",
    "}\n",
    "$$"
   ]
  },
  {
   "cell_type": "markdown",
   "metadata": {},
   "source": [
    "Since, $$\n",
    "\\arrthree{\n",
    "\\ln p(\\tb \\mid \\alpha, \\beta)\n",
    "&=\n",
    "\\frachalf{M} \\ln \\alpha\n",
    "+ \\frachalf{N} \\ln \\beta\n",
    "- E(\\mb_N)\n",
    "- \\frac12 \\ln \\left|\\Ab\\right|\n",
    "- \\frac12 \\ln(2\\pi)\n",
    "}\n",
    "$$\n",
    "\n",
    "Now, diff ln p(**t** | $\\alpha,\\beta$) wrt $\\alpha$\n",
    "$$\n",
    "\\arrthree{\n",
    "0 &=\n",
    "\\frac{M}{2\\alpha}\n",
    "- \\frac12 \\mb_N^T \\mb_N\n",
    "- \\frac12 \\sum_i \\frac{1}{\\alpha + \\lambda_i}\n",
    "\\\\\n",
    "\\alpha \\mb_N^T \\mb_N\n",
    "&=\n",
    "M - \\alpha \\sum_i \\frac{1}{\\alpha + \\lambda_i}\n",
    "\\\\\n",
    "&=\n",
    "\\sum_i 1\n",
    "- \\sum_i \\frac{\\alpha}{\\alpha + \\lambda_i}\n",
    "\\\\ &=\n",
    "\\sum_i 1 - \\frac{\\alpha}{\\alpha + \\lambda_i}\n",
    "\\\\ &=\n",
    "\\sum_i \\frac{\\lambda_i}{\\alpha + \\lambda_i}\n",
    "\\\\ &=\n",
    "\\gamma\n",
    "\\\\ \\text{Thus,} \\\\\n",
    "\\alpha &= \\frac{\\gamma}{\\mb_N^T \\mb_N}\n",
    "}\n",
    "$$"
   ]
  },
  {
   "cell_type": "markdown",
   "metadata": {},
   "source": [
    "* This is an implicit solution for $\\alpha$\n",
    "* have to resort to an iterative procedure to find $\\alpha$ and $\\gamma$\n",
    "* Note that because the matrix $\\Phibt \\Phib$ is fixed, we can compute its eigenvalues once at the start and then simply multiply these by $\\beta$ to obtain the $\\lambda_i$.\n",
    "* value of $\\alpha$ has been determined purely by looking at the training data.\n",
    "  * In contrast to ML methods, no independent data set is required to optimize the model complexity."
   ]
  },
  {
   "cell_type": "markdown",
   "metadata": {},
   "source": [
    "Finding beta\n",
    "----------------\n",
    "\n",
    "* Eigenvalues $\\lambda_i$ are proportional to $\\beta$\n",
    "* Hence $$\\frac{d\\lambda_i}{d\\beta} = \\frac{\\lambda_i}{\\beta}$$\n",
    "Hence,\n",
    "$$\n",
    "\\arrthree{\n",
    "\\frac{d}{d\\beta}\n",
    "\\ln \\left| \\Ab \\right| &=\n",
    "\\frac{d}{d\\beta}\n",
    "\\ln \\prod_i (\\alpha + \\lambda_i)\n",
    "\\\\ &=\n",
    "\\frac{d}{d\\beta}\n",
    "\\sum_i \\ln (\\alpha + \\lambda_i)\n",
    "\\\\ &=\n",
    "\\frac{1}{\\beta} \\sum_i \\frac{\\lambda_i}{\\lambda_i + \\alpha}\n",
    "\\\\ &=\n",
    "\\frac{\\gamma}{\\beta}\n",
    "}\n",
    "$$"
   ]
  },
  {
   "cell_type": "markdown",
   "metadata": {},
   "source": [
    "Since\n",
    "$$\n",
    "\\arrthree{\n",
    "\\ln p(\\tb \\mid \\alpha, \\beta)\n",
    "&=\n",
    "\\frachalf{M} \\ln \\alpha\n",
    "+ \\frachalf{N} \\ln \\beta\n",
    "- E(\\mb_N)\n",
    "- \\frac12 \\ln \\left|\\Ab\\right|\n",
    "- \\frac12 \\ln(2\\pi)\n",
    "}\n",
    "$$\n",
    "\n",
    "Now, diff ln p(**t** | $\\alpha,\\beta$) wrt $\\beta$\n",
    "$$\n",
    "\\arrthree{\n",
    "0 &=\n",
    "\\frac{N}{2\\beta}\n",
    "-\\frac12 \\sumnN\n",
    "\\left\\{\n",
    "  t_n - \\mb_N^T \\phi(x_n)\n",
    "\\right\\}^2\n",
    "- \n",
    "\\frac{\\gamma}{2\\beta}\n",
    "\\\\\n",
    "\\frac{1}{\\beta}\n",
    "&=\n",
    "\\fracone{N-\\gamma}\n",
    "\\sumnN\n",
    "\\left\\{\n",
    "  t_n - \\mb_N^T \\phi(x_n)\n",
    "\\right\\}^2\n",
    "}\n",
    "$$"
   ]
  },
  {
   "cell_type": "markdown",
   "metadata": {},
   "source": [
    "Again, this is an implicit solution for $\\beta$ and we have to resort to an iterative procedure to find its value."
   ]
  },
  {
   "cell_type": "markdown",
   "metadata": {},
   "source": [
    "# Effective number of parameters"
   ]
  },
  {
   "cell_type": "markdown",
   "metadata": {},
   "source": [
    "* The eigenvalues $\\lambda_i$ measure the curvature of the likelihood function\n",
    "  * Lower the value, more elongated \n",
    "* Because $\\beta \\Phibt \\Phib$ is a positive definite matrix, it will have positive eigenvalues\n",
    "* Hence the ratio $\\lambda_i/(\\lambda_i + \\alpha)$ will lie between 0 and 1\n",
    "* Consequently, the quantity $\\gamma$ will lie in the range $[0, M]$\n",
    "* For directions in which $\\lambda_i \\gg \\alpha$, the corresponding parameter wi will be close to its ML value\n",
    "  * and the ratio $\\lambda_i/(\\lambda_i + \\alpha)$ will be close to 1.\n",
    "  * Such parameters are called well determined because their values are tightly constrained by the data\n",
    "* Conversely, for directions in which $\\lambda_i \\ll \\alpha$, the corresponding parameters wi will be close to zero\n",
    "  * as will the ratios $\\lambda_i/(\\lambda_i + \\alpha)$. \n",
    "  * These are directions in which the likelihood function is relatively insensitive to the parameter value\n",
    "  * so the parameter has been set to a small value by the prior. \n",
    "* The quantity $\\gamma$ therefore measures the effective total number of well determined parameters."
   ]
  },
  {
   "cell_type": "markdown",
   "metadata": {},
   "source": [
    "Consider the limit $N \\gg M$\n",
    "* Then all hyperparamters will be determined just from the data\n",
    "* The eigenvalues $\\lambda_i$ increase with the size of the data set\n",
    "* In this case, $\\gamma = M$\n",
    "Hence\n",
    "$$\n",
    "\\arrthree{\n",
    "\\alpha &= \n",
    "\\frac{M}{2E_W(\\mbn)} \n",
    "& \\commentgray{$E_W({\\wb}) = \\half \\wt \\wb$}\n",
    "\\\\\n",
    "\\beta &=\n",
    "\\frac{N}{2E_D(\\mbn)} \n",
    "& \\commentgray{$E_D(\\wb) = \\half \\sumnN \\Brace{t_n - \\wt \\Phi(\\xb_n)}^2$}\n",
    "}\n",
    "$$"
   ]
  },
  {
   "cell_type": "markdown",
   "metadata": {},
   "source": [
    "Thanks and Regards,  \n",
    "Your soul reaper"
   ]
  }
 ],
 "metadata": {
  "hide_input": true,
  "kernelspec": {
   "display_name": "Python 3",
   "language": "python3",
   "name": "python3"
  },
  "language_info": {
   "codemirror_mode": {
    "name": "ipython",
    "version": 3
   },
   "file_extension": ".py",
   "mimetype": "text/x-python",
   "name": "python",
   "nbconvert_exporter": "python",
   "pygments_lexer": "ipython3",
   "version": "3.5.2"
  },
  "latex_envs": {
   "bibliofile": "biblio.bib",
   "cite_by": "apalike",
   "current_citInitial": 1,
   "eqLabelWithNumbers": true,
   "eqNumInitial": 0
  }
 },
 "nbformat": 4,
 "nbformat_minor": 0
}
