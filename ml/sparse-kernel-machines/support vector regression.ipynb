{
 "cells": [
  {
   "cell_type": "markdown",
   "metadata": {},
   "source": [
    "$\n",
    "\\newcommand{\\half}{\\frac{1}{2}}\n",
    "\\newcommand{\\Brace}[1]{\\left\\{ #1 \\right\\}}\n",
    "\\newcommand{\\ds}{\\displaystyle}\n",
    "$\n",
    "\n",
    "$\n",
    "\\newcommand{\\wb}{\\mathbf{w}}\n",
    "\\newcommand{\\xb}{\\mathbf{x}}\n",
    "$"
   ]
  },
  {
   "cell_type": "markdown",
   "metadata": {},
   "source": [
    "$\\ds \\half \\sum_{n=1}^N \\Brace{y_n - t_n}^2 + \\frac{\\lambda}{2} ||\\wb||^2$"
   ]
  },
  {
   "cell_type": "markdown",
   "metadata": {},
   "source": [
    "$\\ds \n",
    "E_\\epsilon(y(\\xb) - t) = \n",
    "\\cases{\n",
    "0 & if $|y(\\xb) - t| < \\epsilon$ \\\\\n",
    "|y(\\xb) - t| - \\epsilon & otherwise\n",
    "}\n",
    "$"
   ]
  },
  {
   "cell_type": "markdown",
   "metadata": {},
   "source": [
    "Minimize  \n",
    "$\\ds \n",
    "C \\sum_{n=1}^{N} E_\\epsilon(y(\\xb_n) - t_n) + \\half ||\\wb||^2\n",
    "$"
   ]
  },
  {
   "cell_type": "markdown",
   "metadata": {},
   "source": [
    "We need to introduce two slack variables, $\\xi_n \\ge 0$ and $\\hat{\\xi}_n \\ge 0$"
   ]
  }
 ],
 "metadata": {
  "hide_input": false,
  "kernelspec": {
   "display_name": "Python 3",
   "language": "python3",
   "name": "python3"
  },
  "language_info": {
   "codemirror_mode": {
    "name": "ipython",
    "version": 3
   },
   "file_extension": ".py",
   "mimetype": "text/x-python",
   "name": "python",
   "nbconvert_exporter": "python",
   "pygments_lexer": "ipython3",
   "version": "3.6.3"
  },
  "toc": {
   "nav_menu": {},
   "number_sections": true,
   "sideBar": true,
   "skip_h1_title": false,
   "toc_cell": false,
   "toc_position": {},
   "toc_section_display": "block",
   "toc_window_display": false
  },
  "varInspector": {
   "cols": {
    "lenName": 16,
    "lenType": 16,
    "lenVar": 40
   },
   "kernels_config": {
    "python": {
     "delete_cmd_postfix": "",
     "delete_cmd_prefix": "del ",
     "library": "var_list.py",
     "varRefreshCmd": "print(var_dic_list())"
    },
    "r": {
     "delete_cmd_postfix": ") ",
     "delete_cmd_prefix": "rm(",
     "library": "var_list.r",
     "varRefreshCmd": "cat(var_dic_list()) "
    }
   },
   "types_to_exclude": [
    "module",
    "function",
    "builtin_function_or_method",
    "instance",
    "_Feature"
   ],
   "window_display": false
  }
 },
 "nbformat": 4,
 "nbformat_minor": 2
}
