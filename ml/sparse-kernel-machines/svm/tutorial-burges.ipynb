{
 "cells": [
  {
   "cell_type": "code",
   "execution_count": 1,
   "metadata": {
    "ExecuteTime": {
     "end_time": "2016-04-11T12:26:05.860836",
     "start_time": "2016-04-11T12:26:04.587567"
    },
    "collapsed": false,
    "run_control": {
     "frozen": false,
     "read_only": false
    }
   },
   "outputs": [],
   "source": [
    "import numpy as np\n",
    "from matplotlib import pyplot as plt\n",
    "%matplotlib inline\n",
    "\n",
    "import random as rnd\n",
    "import os\n",
    "import math\n",
    "\n",
    "# required for interactive plotting\n",
    "from __future__ import print_function\n",
    "from ipywidgets import interact, interactive, fixed\n",
    "import ipywidgets as widgets\n",
    "import numpy.polynomial as np_poly\n",
    "\n",
    "from IPython.display import Math\n",
    "from IPython.display import Latex\n",
    "from IPython.display import HTML\n",
    "\n",
    "from pprint import pprint\n",
    "import functools as ft"
   ]
  },
  {
   "cell_type": "markdown",
   "metadata": {},
   "source": [
    "initialization\n",
    "$\n",
    "\\newcommand{\\Brace}[1]{\\left\\{#1\\right\\}}\n",
    "\\newcommand{\\Bracket}[1]{\\left[#1\\right]}\n",
    "\\newcommand{\\cases}[1]{\\begin{cases}#1\\end{cases}}\n",
    "\\newcommand{\\cov}[1]{\\text{cov} \\sigma\\left[#1\\right]}\n",
    "\\newcommand{\\diff}[2]{\\frac{d #1}{d #2}}\n",
    "\\newcommand{\\difftwo}[2]{\\frac{d^2 #1}{d {#2}^2}}\n",
    "\\newcommand{\\diffn}[2]{{#1}^{\\prime}(#2)}\n",
    "\\newcommand{\\ds}{\\displaystyle}\n",
    "\\newcommand{\\E}[1]{\\mathbb{E}\\left[ #1 \\right]}\n",
    "\\newcommand{\\expb}[1]{\\exp\\left\\{#1\\right\\}} \n",
    "\\newcommand{\\EXP}[1]{\\exp\\left\\{#1\\right\\}} \n",
    "\\newcommand{\\frachalf}[1]{\\frac{#1}{2}~}\n",
    "\\newcommand{\\fracone}[1]{\\frac{1}{#1}~}\n",
    "\\newcommand{\\fracrec}[1]{\\frac{1}{#1}~}\n",
    "\\newcommand{\\half}{\\fracone{2}}\n",
    "\\newcommand{\\H}[1]{\\mathbb{H}\\left[#1\\right]}\n",
    "\\newcommand{\\Int}[2]{\\displaystyle \\int_{#1}^{#2}~}\n",
    "\\newcommand{\\intinfinf}{\\Int{-\\infty}{\\infty}}\n",
    "\\newcommand{\\inv}[1]{#1^{-1}}\n",
    "\\newcommand{\\invp}[1]{\\left({#1}\\right)^{-1}}\n",
    "\\newcommand{\\KL}[2]{\\text{KL}\\left(#1 \\Vert #2\\right)}\n",
    "\\newcommand{\\Lim}[1]{\\displaystyle \\lim_{#1}}\n",
    "\\newcommand{\\Ln}[1]{\\ln \\left\\(#1\\right\\)}\n",
    "\\newcommand{\\Lnb}[1]{\\ln \\left\\{#1\\right\\} }\n",
    "\\newcommand{\\Mod}[1]{\\left|#1\\right|}\n",
    "\\newcommand{\\Norm}[1]{\\left\\lVert #1 \\right\\rVert}\n",
    "\\newcommand{\\Normsqr}[1]{\\Norm{#1}^2}\n",
    "\\newcommand{\\map}[1]{#1_{\\text{MAP}}}\n",
    "\\newcommand{\\ml}[1]{#1_{\\text{ML}}}\n",
    "\\newcommand{\\MI}[1]{\\mathcal{I}\\left(#1\\right)}\n",
    "\\newcommand{\\P}{\\mathbb{P}}\n",
    "\\newcommand{\\Paran}[1]{\\left(#1\\right)}\n",
    "\\newcommand{\\Partial}[2]{\\frac{\\partial #1}{\\partial #2}}\n",
    "\\newcommand{\\sqrbrkt}[1]{\\Bracket{#1}^2}\n",
    "\\newcommand{\\sqrbrc}[1]{\\Brace{#1}^2}\n",
    "\\newcommand{\\trace}[1]{\\text{Tr}\\left( #1 \\right)}\n",
    "\\newcommand{\\traceb}[1]{\\text{Tr}\\left\\{#1\\right\\}}\n",
    "\\newcommand{\\underl}[1]{\\text{$\\underline{#1}$}}\n",
    "\\newcommand{\\V}[1]{\\mathbb{V}\\left[#1\\right]}\n",
    "$\n",
    "$\n",
    "\\DeclareMathOperator*{\\argmin}{arg\\,min}\n",
    "\\DeclareMathOperator*{\\argmax}{arg\\,max}\n",
    "$\n",
    "$\n",
    "\\newcommand{\\mat}[1]{ \\left[ \\begin{matrix} #1 \\end{matrix} \\right] }\n",
    "\\newcommand{\\matp}[1]{ \\left( \\begin{matrix} #1 \\end{matrix} \\right)}\n",
    "\\newcommand{\\mats}[1]{ \\begin{matrix}#1\\end{matrix} }\n",
    "\\newcommand{\\arrthree}[1]{\n",
    "\\begin{array}{rlr} #1 \\end{array}}\n",
    "$"
   ]
  },
  {
   "cell_type": "markdown",
   "metadata": {},
   "source": [
    "$\n",
    "\\newcommand{\\C}{\\mathbb{C}}\n",
    "\\newcommand{\\Ca}{\\mathcal{C}}\n",
    "\\newcommand{\\Caone}{\\Ca_1}\n",
    "\\newcommand{\\Catwo}{\\Ca_2}\n",
    "\\newcommand{\\Cak}{\\Ca_k}\n",
    "\\newcommand{\\D}{\\mathcal{D}}\n",
    "\\newcommand{\\G}{\\mathcal{G}}\n",
    "\\newcommand{\\I}{\\mathcal{I}}\n",
    "\\newcommand{\\L}{\\mathcal{L}}\n",
    "\\newcommand{\\M}{\\mathcal{M}}\n",
    "\\newcommand{\\N}{\\mathbb{N}}\n",
    "\\newcommand{\\R}{\\mathbb{R}}\n",
    "\\newcommand{\\Ra}{\\mathcal{R}}\n",
    "$\n",
    "$\n",
    "\\newcommand{\\commentgray}[1]{\\color{gray}{\\text{#1}}}\n",
    "$"
   ]
  },
  {
   "cell_type": "markdown",
   "metadata": {},
   "source": [
    "sum, product\n",
    "$\n",
    "\\newcommand{\\sumi}{\\displaystyle \\sum_i}\n",
    "\\newcommand{\\sumiD}{\\displaystyle \\sum_{i=1}^{D}}\n",
    "\\newcommand{\\sumiL}{\\displaystyle \\sum_{i=1}^{L}}\n",
    "\\newcommand{\\sumiN}{\\displaystyle \\sum_{i=1}^{N}}\n",
    "\\newcommand{\\sumjD}{\\displaystyle \\sum_{j=1}^{D}}\n",
    "\\newcommand{\\sumjK}{\\displaystyle \\sum_{j=1}^{K}}\n",
    "\\newcommand{\\sumjMl}{\\sum_{j=1}^{M-1}}\n",
    "\\newcommand{\\sumkK}{\\displaystyle \\sum_{k=1}^{K}}\n",
    "\\newcommand{\\sumkM}{\\displaystyle \\sum_{k=1}^{M}}\n",
    "\\newcommand{\\sumkMl}{\\sum_{k=1}^{M-1}}\n",
    "\\newcommand{\\summN}{\\displaystyle \\sum_{m=1}^{N}}\n",
    "\\newcommand{\\sumnN}{\\displaystyle \\sum_{n=1}^{N}}\n",
    "$\n",
    "$\n",
    "\\newcommand{\\prodi}{\\displaystyle \\prod_i}\n",
    "\\newcommand{\\prodiD}{\\displaystyle \\prod_{i=1}^{D}}\n",
    "\\newcommand{\\prodiL}{\\displaystyle \\prod_{i=1}^{L}}\n",
    "\\newcommand{\\prodiN}{\\displaystyle \\prod_{i=1}^{N}}\n",
    "\\newcommand{\\prodjK}{\\displaystyle \\prod_{j=1}^{K}}\n",
    "\\newcommand{\\prodkK}{\\displaystyle \\prod_{k=1}^{K}}\n",
    "\\newcommand{\\prodmN}{\\displaystyle \\prod_{m=1}^{N}}\n",
    "\\newcommand{\\prodnN}{\\displaystyle \\prod_{n=1}^{N}}\n",
    "$"
   ]
  },
  {
   "cell_type": "markdown",
   "metadata": {},
   "source": [
    "alphabet shortcuts\n",
    "$\n",
    "\\newcommand{\\ab}{\\mathbf{a}}\n",
    "\\newcommand{\\at}{\\ab^T}\n",
    "\\newcommand{\\Ab}{\\mathbf{A}}\n",
    "\\newcommand{\\At}{\\Ab^T}\n",
    "\\newcommand{\\Ai}{\\inv{\\Ab}}\n",
    "\\newcommand{\\Abjk}{\\Ab_{jk}}\n",
    "\\newcommand{\\bb}{\\mathbf{b}}\n",
    "\\newcommand{\\bt}{\\bb^T}\n",
    "\\newcommand{\\Bb}{\\mathbf{B}}\n",
    "\\newcommand{\\Bt}{\\Bb^T}\n",
    "\\newcommand{\\Cb}{\\mathbf{C}}\n",
    "\\newcommand{\\Cn}{\\Cb_{N}}\n",
    "\\newcommand{\\Db}{\\mathbf{D}}\n",
    "\\newcommand{\\fb}{\\mathbf{f}}\n",
    "\\newcommand{\\fp}{f^{\\prime}}\n",
    "\\newcommand{\\Hb}{\\mathbf{H}}\n",
    "\\newcommand{\\hx}{h(\\xb)}\n",
    "\\newcommand{\\Jb}{\\mathbf{J}}\n",
    "\\newcommand{\\kb}{\\mathbf{k}}\n",
    "\\newcommand{\\kt}{\\kb^T}\n",
    "\\newcommand{\\Kb}{\\mathbf{K}}\n",
    "\\newcommand{\\Lb}{\\mathbf{L}}\n",
    "\\newcommand{\\Lt}{\\Lb^T}\n",
    "\\newcommand{\\Lbi}{\\Lb^{-1}}\n",
    "\\newcommand{\\mb}{\\mathbf{m}}\n",
    "\\newcommand{\\mt}{\\mb^T}\n",
    "\\newcommand{\\mbn}{\\mb_N}\n",
    "\\newcommand{\\mbnt}{\\mbn^T}\n",
    "\\newcommand{\\mbN}{\\mb_N}\n",
    "\\newcommand{\\mbNt}{\\mbn^T}\n",
    "\\newcommand{\\Mb}{\\mathbf{M}}\n",
    "\\newcommand{\\Qb}{\\mathbf{Q}}\n",
    "\\newcommand{\\Rb}{\\mathbf{R}}\n",
    "\\newcommand{\\sb}{\\mathbf{s}}\n",
    "\\newcommand{\\Sb}{\\mathbf{S}}\n",
    "\\newcommand{\\tb}{\\mathbf{t}}\n",
    "\\newcommand{\\tbnn}{\\tb_{N}}\n",
    "\\newcommand{\\tbnp}{\\tb_{N+1}}\n",
    "\\newcommand{\\tt}{\\tb^T}\n",
    "\\newcommand{\\Tb}{\\mathbf{T}}\n",
    "\\newcommand{\\Tt}{\\Tb^T}\n",
    "\\newcommand{\\ub}{\\mathbf{u}}\n",
    "\\newcommand{\\Ub}{\\mathbf{U}}\n",
    "\\newcommand{\\Ut}{\\Ub^T}\n",
    "\\newcommand{\\vb}{\\mathbf{v}}\n",
    "\\newcommand{\\Vb}{\\mathbf{V}}\n",
    "\\newcommand{\\wb}{\\mathbf{w}}\n",
    "\\newcommand{\\wnr}[1]{\\wb^{(\\text{#1})}}\n",
    "\\newcommand{\\wt}{\\wb^T}\n",
    "\\newcommand{\\Wb}{\\mathbf{W}}\n",
    "\\newcommand{\\Wt}{\\Wb^T}\n",
    "\\newcommand{\\Wtilde}{\\widetilde{\\Wb}}\n",
    "\\newcommand{\\Wtildet}{\\Wtilde^T}\n",
    "\\newcommand{\\Xb}{\\mathbf{X}}\n",
    "\\newcommand{\\Xt}{\\Xb^T}\n",
    "\\newcommand{\\Xtilde}{\\widetilde{\\Xb}}\n",
    "\\newcommand{\\Xtildet}{\\Xtilde^T}\n",
    "\\newcommand{\\xb}{\\mathbf{x}}\n",
    "\\newcommand{\\xt}{\\xb^T}\n",
    "\\newcommand{\\xtilde}{\\widetilde{\\xb}}\n",
    "\\newcommand{\\xtilden}{\\xtilde_n}\n",
    "\\newcommand{\\xtildent}{\\xtilden^T}\n",
    "\\newcommand{\\xp}{x^{\\prime}}\n",
    "\\newcommand{\\xbp}{\\xb^{\\prime}}\n",
    "\\newcommand{\\xbm}{\\xb_m}\n",
    "\\newcommand{\\xbn}{\\xb_n}\n",
    "\\newcommand{\\xbnp}{\\xb_{N+1}}\n",
    "\\newcommand{\\xab}{\\mathbf{x_a}}\n",
    "\\newcommand{\\xabt}{\\mathbf{x_a}^T}\n",
    "\\newcommand{\\xbb}{\\mathbf{x_b}}\n",
    "\\newcommand{\\xbbt}{\\mathbf{x_b}^T}\n",
    "\\newcommand{\\yb}{\\mathbf{y}}\n",
    "\\newcommand{\\yt}{\\yb^T}\n",
    "\\newcommand{\\yx}{y(\\xb)}\n",
    "\\newcommand{\\zb}{\\mathbf{z}}\n",
    "\\newcommand{\\zt}{\\zb^T}\n",
    "\\newcommand{\\zbm}{\\zb_m}\n",
    "\\newcommand{\\zbn}{\\zb_n}\n",
    "\\newcommand{\\zbnp}{\\zb_{n-1}}\n",
    "\\newcommand{\\znk}{\\zb_{nk}}\n",
    "\\newcommand{\\znpj}{\\zb_{n-1,j}}\n",
    "\\newcommand{\\Zb}{\\mathbf{Z}}\n",
    "$"
   ]
  },
  {
   "cell_type": "markdown",
   "metadata": {},
   "source": [
    "math shortcuts\n",
    "$\n",
    "\\newcommand{\\alphab}{\\pmb{\\alpha}}\n",
    "\\newcommand{\\alphabt}{\\alphab^T}\n",
    "\\newcommand{\\chib}{\\boldsymbol{\\chi}}\n",
    "\\newcommand{\\etab}{\\pmb{\\eta}}\n",
    "\\newcommand{\\etat}{\\eta^T}\n",
    "\\newcommand{\\etabt}{\\etab^T}\n",
    "\\newcommand{\\Lambdab}{\\pmb{\\Lambda}}\n",
    "\\newcommand{\\laa}{\\Lambda_{aa}}\n",
    "\\newcommand{\\laai}{\\Lambda_{aa}^{-1}}\n",
    "\\newcommand{\\lab}{\\Lambda_{ab}}\n",
    "\\newcommand{\\lba}{\\Lambda_{ba}}\n",
    "\\newcommand{\\lbb}{\\Lambda_{bb}}\n",
    "\\newcommand{\\lbbi}{\\Lambda_{bb}^{-1}}\n",
    "\\newcommand{\\li}{\\Lambda^{-1}}\n",
    "\\newcommand{\\Li}{\\Lambda^{-1}}\n",
    "\\newcommand{\\mub}{\\pmb{\\mu}}\n",
    "\\newcommand{\\mut}{\\mub^T}\n",
    "\\newcommand{\\muab}{\\pmb{\\mu}_a}\n",
    "\\newcommand{\\mubb}{\\pmb{\\mu}_b}\n",
    "\\newcommand{\\Phib}{\\pmb{\\Phi}}\n",
    "\\newcommand{\\Phibt}{\\Phib^T}\n",
    "\\newcommand{\\pib}{\\pmb{\\pi}}\n",
    "\\newcommand{\\sigmasqr}{\\sigma^2}\n",
    "\\newcommand{\\saa}{\\Sigma_{aa}}\n",
    "\\newcommand{\\sab}{\\Sigma_{ab}}\n",
    "\\newcommand{\\sba}{\\Sigma_{ba}}\n",
    "\\newcommand{\\sbb}{\\Sigma_{bb}}\n",
    "\\newcommand{\\Sigmai}{\\inv{\\Sigma}}\n",
    "\\newcommand{\\thetab}{\\pmb{\\theta}}\n",
    "\\newcommand{\\thetat}{\\thetab^T}\n",
    "\\newcommand{\\thetabh}{\\hat{\\thetab}}\n",
    "\\newcommand{\\thetaold}{\\thetab^{\\text{old}}}\n",
    "$\n",
    "$\n",
    "\\newcommand{\\zerob}{\\pmb{0}}\n",
    "\\newcommand{\\oneb}{\\pmb{1}}\n",
    "\\newcommand{\\ed}{\\mathbb{E}_{\\D}}\n",
    "\\newcommand{\\edyx}{\\ed\\left[y(\\xb ; \\D)\\right]}\n",
    "\\newcommand{\\dx}{~dx}\n",
    "\\newcommand{\\dxb}{~d\\xb}\n",
    "\\newcommand{\\pxdxb}{p(\\xb) \\dxb}\n",
    "\\newcommand{\\dwb}{~d\\wb}\n",
    "$"
   ]
  },
  {
   "cell_type": "markdown",
   "metadata": {},
   "source": [
    "aliases for distributions\n",
    "$\\newcommand{\\multivarcoeff}{\\frac{1}{(2\\pi)^{D/2}}\n",
    "\\frac{1}{\\left| \\mathbf{\\Sigma}\\right|^{1/2}}}$\n",
    "$\\newcommand{\\multivarexp}[2]\n",
    "{\n",
    "\\left\\{\n",
    " -\\frac{1}{2} \n",
    " {#1}^T \n",
    " #2\n",
    " {#1}\n",
    "\\right\\}\n",
    "}$\n",
    "$\\newcommand{\\multivarexpx}[1]{\\multivarexp{#1}{\\Sigma^{-1}}}$\n",
    "$\\newcommand{\\multivarexpstd}{\\multivarexpx{(\\xb-\\mub)}}$\n",
    "$\\newcommand{\\gam}{\\operatorname{Gam}}$\n",
    "$\n",
    "\\newcommand{\\Nl}[3]{\\mathcal{N}\\left(#1 \\mid #2, #3\\right)}\n",
    "\\newcommand{\\Nstdx}{\\Nl{\\mathbf{x}}{\\mathbf{\\mu}}{\\Sigma}}\n",
    "$"
   ]
  },
  {
   "cell_type": "markdown",
   "metadata": {},
   "source": [
    "[diagonalize pos def matrix]\n",
    "James R. Bunch and Linda Kaufman. Some stable methods for calculating inertia and solving symmetric \n",
    "linear systems. Mathematics of computation, 31(137):163–179, 1977. ",
    "\n",
    "\n",
    "[diagonalize pos def matrix]\n",
    "James R. Bunch and Linda Kaufman. A computational method for the indefinite quadratic programming \n",
    "problem. Linear Algebra and its Applications, 34:341–370, 1980.\n",
    "\n",
    "\n",
    "[LOQO, interior point method, primal-dual path following algo]\n",
    "R. J. Vanderbei. Interior point methods : Algorithms and formulations. ORSA J. Computing, 6(1):32–34, \n",
    "1994. ",
    "\n",
    "\n",
    "[LOQO, interior point method, primal-dual path following algo]\n",
    "R.J. Vanderbei. LOQO: An interior point code for quadratic programming. Technical report, Program in \n",
    "Statistics & Operations Research, Princeton University, 1994. ",
    "\n",
    "mercer conditions\n",
    "\n",
    "embedding space ",
    "\n"
   ]
  },
  {
   "cell_type": "markdown",
   "metadata": {},
   "source": [
    "# Generalization performance"
   ]
  },
  {
   "cell_type": "markdown",
   "metadata": {},
   "source": [
    "(Expected) Risk\n",
    "$$\n",
    "\\Ra(\\alpha) = \n",
    "\\displaystyle \\int \\half\n",
    "\\Mod{y - f(\\xb, \\alpha)}\n",
    "~dP(\\xb, y)\n",
    "$$"
   ]
  },
  {
   "cell_type": "markdown",
   "metadata": {},
   "source": [
    "Empirical risk = measured mean error rate on the training set\n",
    "$$\n",
    "\\Ra_{\\text{emp}}(\\alpha)\n",
    "=\n",
    "\\fracrec{2 N} \\sumiN \\Mod{ y_i - f(\\xb_i, \\alpha)}\n",
    "$$"
   ]
  },
  {
   "cell_type": "markdown",
   "metadata": {},
   "source": [
    "with prob $\\eta, 0 \\le \\eta \\le 1$, we have\n",
    "$$\n",
    "\\Ra(\\alpha)\n",
    "\\le\n",
    "\\Ra_{\\text{emp}}(\\alpha)\n",
    "+ \n",
    "\\underbrace{\n",
    "\\sqrt{\n",
    "\\frac\n",
    "{h (\\log(2N/h) + 1) - \\log(\\eta/4)}\n",
    "{N}\n",
    "}\n",
    "}_{\\text{VC Confidence}}\n",
    "$$\n",
    "where h is called the Vapnik-Chervonenkis (VC) dimension"
   ]
  },
  {
   "cell_type": "markdown",
   "metadata": {},
   "source": [
    "## vc dimension"
   ]
  },
  {
   "cell_type": "markdown",
   "metadata": {},
   "source": [
    "**Shattering**\n",
    "\n",
    "Now if a given set of l points can be labeled in all possible 2l ways, and for each labeling, a member of the set {f(α)} can be found which correctly assigns those labels, we say that that set of points is shattered by that set of functions."
   ]
  },
  {
   "cell_type": "markdown",
   "metadata": {},
   "source": [
    "VC dimension for the set fo functions {f(a)} is the max no. of training points that can be shattered by {f(a)}"
   ]
  },
  {
   "cell_type": "markdown",
   "metadata": {},
   "source": [
    "If VC==h, then there exists at least one set of points that can be shattered, not evey set of h points can be shattered."
   ]
  },
  {
   "cell_type": "markdown",
   "metadata": {},
   "source": [
    "## shattering points w/ oriented hyperplanes"
   ]
  },
  {
   "cell_type": "markdown",
   "metadata": {},
   "source": [
    "Consider some set of *m* points in $\\R^n$. Choose any one of the points as origin. Then the *m* points can be shattered by oriented hyperplanes if and only if the position vectors of the remaining points are linearly independent."
   ]
  },
  {
   "cell_type": "markdown",
   "metadata": {},
   "source": [
    "## VC dimension and #parameters"
   ]
  },
  {
   "cell_type": "markdown",
   "metadata": {},
   "source": [
    "Step function\n",
    "$$\n",
    "\\theta(x) =\n",
    "\\cases{\n",
    "+1 & x >0 \\\\\n",
    "-1 & x \\le 0\n",
    "}\n",
    "$$"
   ]
  },
  {
   "cell_type": "markdown",
   "metadata": {},
   "source": [
    "One-parameter family of functions\n",
    "$$\n",
    "f(x, \\alpha) \\equiv \\theta(\\sin(\\alpha x))\n",
    "$$"
   ]
  },
  {
   "cell_type": "markdown",
   "metadata": {},
   "source": [
    "1. you choose a number $\\ell$\n",
    "1. i have to find the $\\ell$ points and i choose them to be\n",
    "$$\n",
    "x_i = 10^{-i}, ~~~ i = 1, \\cdots, \\ell\n",
    "$$\n",
    "1. you specify any labels you like\n",
    "$$\n",
    "y_1, \\cdots, y_\\ell, ~~~ y_i \\in \\Brace{-1, 1}\n",
    "$$\n",
    "1. i have to choose the function, ie, its parameter $\\alpha$, which i choose it to be\n",
    "$$\n",
    "\\alpha = \\pi \\Paran{\n",
    "1 +\n",
    "\\sum_i^\\ell \\frac{(1-y_i)10^i}{2}\n",
    "}\n",
    "$$\n",
    "1. this gives the same labelling as the y's\n",
    "\n",
    "what the fuck?"
   ]
  },
  {
   "cell_type": "code",
   "execution_count": 155,
   "metadata": {
    "ExecuteTime": {
     "end_time": "2016-04-11T13:04:49.339011",
     "start_time": "2016-04-11T13:04:49.087416"
    },
    "code_folding": [
     0,
     2,
     6
    ],
    "collapsed": false
   },
   "outputs": [
    {
     "name": "stdout",
     "output_type": "stream",
     "text": [
      "a:  3.14162721457e+16\n",
      "#mismatches:  1\n"
     ]
    },
    {
     "data": {
      "image/png": "[encoded data removed]",
      "text/plain": [
       "<matplotlib.figure.Figure at 0x7f2d38b8eeb8>"
      ]
     },
     "metadata": {},
     "output_type": "display_data"
    }
   ],
   "source": [
    "def get_random_labels(l):\n",
    "    return (np.random.randint(2, size=(1,l)) - 0.5)*2\n",
    "def fun_f(a, x):\n",
    "    s = np.sin(a*x)\n",
    "    t = (s>0)*1.0 # convert to 0's and 1's\n",
    "    return (s, (t-0.5)*2)\n",
    "def shatter_me(l=18):\n",
    "    ixs_l = np.arange(1, l+1, 1).reshape(1,l)\n",
    "    x = 10.**(-ixs_l)\n",
    "    y = get_random_labels(l)\n",
    "    a = math.pi*(1 + np.sum((1-y) * (10.**ixs_l))/2.)\n",
    "    xx = np.linspace(0, l+1, 5*10**2)\n",
    "    color = tuple([x/100. for x in [92.5,67.1, 80.8]])\n",
    "    plt.plot(xx, np.sin(a*xx),color=color)\n",
    "    s, f_vals = fun_f(a, x)\n",
    "    ixs_mismatch = (f_vals != y)\n",
    "    print('a: ', a)\n",
    "    print('#mismatches: ', f_vals[ixs_mismatch].shape[0])\n",
    "    plt.plot(ixs_l.T, s.T)\n",
    "    plt.plot(ixs_l.T, y.T, 'oy', MarkerSize=20, label='gt')\n",
    "    plt.plot(ixs_l.T, f_vals.T, 'or', MarkerSize=5, label='predicted')\n",
    "    plt.plot((0,l+1),(0,0), 'g')\n",
    "    plt.ylim(-2,2); plt.xlim(0, l+1)\n",
    "    plt.legend(loc=(1, 0.5))\n",
    "    plt.show()\n",
    "interact(shatter_me, l=(1,50))"
   ]
  },
  {
   "cell_type": "markdown",
   "metadata": {},
   "source": [
    "## minimizing the bound by minimizing h"
   ]
  },
  {
   "cell_type": "markdown",
   "metadata": {},
   "source": [
    "$$\n",
    "\\arrthree{\n",
    "f \n",
    "&=\n",
    "\\sqrt{\n",
    "\\frac\n",
    "{h (\\log(2N/h) + 1) - \\log(\\eta/4)}\n",
    "{N}\n",
    "}\n",
    "\\\\ &=\n",
    "\\sqrt{\n",
    "h^{\\prime} (\\log(2/h^{\\prime}) + 1)\n",
    "-\\fracrec{N}\n",
    "\\log(\\eta/4)\n",
    "}\n",
    "}\n",
    "$$"
   ]
  },
  {
   "cell_type": "code",
   "execution_count": 160,
   "metadata": {
    "ExecuteTime": {
     "end_time": "2016-04-11T18:02:14.006174",
     "start_time": "2016-04-11T18:02:13.872353"
    },
    "collapsed": false
   },
   "outputs": [
    {
     "data": {
      "image/png": "[encoded data removed]",
      "text/plain": [
       "<matplotlib.figure.Figure at 0x7f2d38e84860>"
      ]
     },
     "metadata": {},
     "output_type": "display_data"
    }
   ],
   "source": [
    "hp = np.linspace(1e-5,1,100)\n",
    "eta, N = 0.05, 10**4\n",
    "f = np.sqrt(hp * (np.log(2./hp) + 1) - math.log(eta/4)/N)\n",
    "plt.plot(hp, f)\n",
    "x_lims = plt.xlim()\n",
    "plt.plot((x_lims[0], x_lims[1]),(1,1))\n",
    "plt.title('vc confidence')\n",
    "plt.ylabel('vc confidence')\n",
    "plt.xlabel('h/N = vc dim/Sample size')\n",
    "plt.show()"
   ]
  },
  {
   "cell_type": "markdown",
   "metadata": {},
   "source": [
    "## two examples"
   ]
  },
  {
   "cell_type": "markdown",
   "metadata": {},
   "source": [
    "knn, with k=1 has infinite vc dim and zero empirical risk. \n",
    "\n",
    "for classifiers w/ infinite vc dim, the bound is not valid.  \n",
    "\n",
    "thus, infinite vc dim doesn't guarantee poor perf.  "
   ]
  },
  {
   "cell_type": "markdown",
   "metadata": {},
   "source": [
    "# linear svm"
   ]
  },
  {
   "cell_type": "markdown",
   "metadata": {},
   "source": [
    "## the seperable case"
   ]
  },
  {
   "cell_type": "markdown",
   "metadata": {},
   "source": [
    "## kkt conditions"
   ]
  },
  {
   "cell_type": "markdown",
   "metadata": {},
   "source": [
    "## optimal hyperplanes: an example"
   ]
  },
  {
   "cell_type": "markdown",
   "metadata": {},
   "source": [
    "$$\n",
    "x_{i \\mu} = \n",
    "-(1 - \\delta_{i \\mu})\n",
    "\\sqrt{\\frac{R}{n(n+1)}}\n",
    "+ \\delta_{i \\mu}\n",
    "\\sqrt{\\frac{Rn}{(n+1)}}\n",
    "$$"
   ]
  },
  {
   "cell_type": "markdown",
   "metadata": {},
   "source": [
    "$$\n",
    "\\arrthree{\n",
    "\\xb_i^T \\xb_i &=\n",
    "\\displaystyle n \\frac{R}{n(n+1)} + \\frac{Rn}{n+1} = R\n",
    "\\\\\n",
    "\\xb_i^T \\xb_j &=\n",
    "\\displaystyle -2 \\frac{R}{n+1}\n",
    "+ (n-1) \\frac{R}{n(n+1)} = -\\frac{R}{n}\n",
    "}\n",
    "$$\n",
    "That is\n",
    "$$\n",
    "\\xb_i^T \\xb_j = \\delta_{ij} R + \\Paran{1 - \\delta_{ij}} \\frac{R}{n}\n",
    "$$"
   ]
  },
  {
   "cell_type": "markdown",
   "metadata": {},
   "source": [
    "The dual formulation now becomes\n",
    "$$\n",
    "\\L_D \\equiv \\sum_i^{N+1} \\alpha_i - \\half \\sum_{i,j}^{N+1} \\alpha_i \\Hb_{ij} \\alpha_j\n",
    "- \\lambda \\sum_i^{N+1} \\alpha_i y_i\n",
    "$$\n",
    "\n",
    "where \n",
    "$$\n",
    "\\Hb_{ij} = y_i y_j \\xb_i^T \\xb_j\n",
    "$$"
   ]
  },
  {
   "cell_type": "markdown",
   "metadata": {},
   "source": [
    "now\n",
    "$$\n",
    "\\arrthree{\n",
    "\\displaystyle \\Partial{\\L_D}{\\alpha_i} &= 0\n",
    "\\\\\n",
    "1 - \\sum_j^{N+1} \\Hb_{ij} \\alpha_j - \\lambda y_i &= 0\n",
    "\\\\\n",
    "\\Paran{\\Hb \\alphab}_i + \\lambda y_i &= 1\n",
    "}\n",
    "$$"
   ]
  },
  {
   "cell_type": "markdown",
   "metadata": {},
   "source": [
    "Let\n",
    "$$\n",
    "\\alpha_i = \\Paran{\\frachalf{1+y_i}}a + \\Paran{\\frachalf{1-y_i}}b\n",
    "= \\frachalf{a+b} + \\frachalf{y_i}(a-b)\n",
    "$$\n",
    "Thus\n",
    "$$\n",
    "\\alphab = \\frachalf{a+b} \\oneb + \\frachalf{a-b} \\mat{y_1 \\\\ \\vdots \\\\ y_{N+1}}\n",
    "$$"
   ]
  },
  {
   "cell_type": "markdown",
   "metadata": {},
   "source": [
    "$$\n",
    "\\text{Remember }~~~~~~~~~~~~\n",
    "\\Hb_{ij} = \n",
    "\\cases{\n",
    "\\displaystyle -y_i y_j \\frac{R}{n} & \\text{if } i \\ne j \\\\\n",
    "R & \\text{if } i = j\n",
    "}\n",
    "$$"
   ]
  },
  {
   "cell_type": "markdown",
   "metadata": {},
   "source": [
    "Hence\n",
    "$$\n",
    "\\arrthree{\n",
    "(\\Hb \\alphab)_i &=\n",
    "\\displaystyle~\n",
    "\\Paran{\\frachalf{a+b}} \\Brace{\n",
    "R - \\frac{y_i R}{n} \\sum_{j \\ne i}^{n+1} y_j\n",
    "}\n",
    "+ \\Paran{\\frachalf{a-b}} \n",
    "\\Brace{ y_i R - n y_i \\frac{R}{n}}  \n",
    "\\\\\n",
    "\\displaystyle \\fracrec{R} (\\Hb \\alphab)_i &=\n",
    "\\displaystyle \\frachalf{a+b} \\Brace{\n",
    "1 + \\frac{y_i}{n} y_i - \\frac{y_i}{n} \\sum_{j}^{n+1} y_j\n",
    "}\n",
    "\\\\\n",
    "\\displaystyle \\frac{1 - \\lambda y_i}{R}\n",
    "&=\n",
    "\\displaystyle\n",
    "\\Paran{\\frachalf{a+b}}\n",
    "\\frac{n+1}{n}\n",
    "- \n",
    "\\Paran{\\frachalf{a+b}} \\frac{y_i p}{n}\n",
    "& \\commentgray{$p = \\sum_{j}^{n+1} y_j$}\n",
    "}\n",
    "$$"
   ]
  },
  {
   "cell_type": "markdown",
   "metadata": {},
   "source": [
    "Comparing the constant coefficients, we get\n",
    "$$\n",
    "a + b = \\frac{2n}{R(n+1)}\n",
    "$$"
   ]
  },
  {
   "cell_type": "markdown",
   "metadata": {},
   "source": [
    "Now since $\\sum \\alpha_i y_i = 0$ and $\\alpha_i = \\frachalf{a+b} + \\frachalf{y_i}(a-b)$, we have\n",
    "$$\n",
    "\\arrthree{\n",
    "\\sum \\alpha_i y_i &= 0\n",
    "\\\\\n",
    "\\ds \\Paran{\\frachalf{a+b}} \\sum y_i + \\frachalf{n+1} (a-b) &= 0\n",
    "\\\\\n",
    "a - b &= \\ds -\\frac{2 n p}{R (n+1)^2}\n",
    "}\n",
    "$$"
   ]
  },
  {
   "cell_type": "markdown",
   "metadata": {},
   "source": [
    "$$\n",
    "\\arrthree{\n",
    "a &= \\ds \\frac{n}{R(n+1)} \\Paran{1 - \\frac{p}{n+1}} \\\\\n",
    "b &= \\ds \\frac{n}{R(n+1)} \\Paran{1 + \\frac{p}{n+1}} \\\\\n",
    "}\n",
    "$$"
   ]
  },
  {
   "cell_type": "markdown",
   "metadata": {},
   "source": [
    "$$\n",
    "\\arrthree{\n",
    "\\ds \\text{Hence } & \\alpha_i = \n",
    "\\ds \\frac{n}{R(n+1)} - \\frac{n p y_i}{R(n+1)^2}\n",
    "= \\frac{n}{R(n+1)} ~\\Paran{1 - \\frac{p y_i}{(n+1)}}\n",
    "}\n",
    "$$"
   ]
  },
  {
   "cell_type": "markdown",
   "metadata": {},
   "source": [
    "Also, since $a + b = \\frac{2n}{R(n+1)}$, we have\n",
    "$$\n",
    "\\arrthree{\n",
    "\\displaystyle \\fracrec{R} (\\Hb \\alphab)_i &=\n",
    "\\ds \\frachalf{a+b} \\Brace{1 + \\fracrec{n} - \\frac{p y_i}{n}}\n",
    "= \\frachalf{a+b} \\Brace{\\frac{n+1}{n} - \\frac{p y_i}{n}}\n",
    "\\\\ &=\n",
    "\\ds \\frac{n}{R(n+1)} \\Brace{\\frac{n+1}{n} - \\frac{p y_i}{n}}\n",
    "\\\\\n",
    "(\\Hb \\alphab)_i &=\n",
    "\\ds 1 - \\frac{p y_i}{n+1}\n",
    "}\n",
    "$$"
   ]
  },
  {
   "cell_type": "markdown",
   "metadata": {},
   "source": [
    "Now, \n",
    "$$\n",
    "\\arrthree{\n",
    "\\Norm{\\wb}^2 &=\n",
    "\\ds \\sum_{i=1,j=1}^{N+1} \\alpha_i \\alpha_j y_i y_j <\\xb_i, \\xb_j>\n",
    "\\\\ &=\n",
    "\\alphab^T \\Hb \\alphab\n",
    "\\\\ &=\n",
    "\\alphab^T\n",
    "\\mat{y_1 \\xb_1^T \\\\ \\vdots \\\\ y_{N+1} \\xb_{N+1}^T}\n",
    "\\mat{y_1 \\xb_1 & \\cdots & y_{N+1} \\xb_{N+1}}\n",
    "\\alphab\n",
    "\\\\\n",
    "\\wt \\wb &= \\zt \\zb & \\commentgray{$\\zb = \\mat{y_1 \\xb_1 & \\cdots & y_{N+1} \\xb_{N+1}} \\alphab$} \n",
    "}\n",
    "$$"
   ]
  },
  {
   "cell_type": "markdown",
   "metadata": {},
   "source": [
    "Thus\n",
    "$$\n",
    "\\arrthree{\n",
    "\\wb &=\n",
    "\\mat{y_1 \\xb_1 & \\cdots & y_{N+1} \\xb_{n+1}} \\alphab\n",
    "\\\\ &=\n",
    "\\ds \\sum_i^{N+1} y_i \\alpha_i \\xb_i\n",
    "\\\\ &=\n",
    "\\ds \\frac{n}{R(n+1)} \\sum_i^{n+1} y_i ~\\Paran{1 - \\frac{p y_i}{(n+1)}} ~\\xb_i\n",
    "\\\\ &=\n",
    "\\ds \\frac{n}{R(n+1)} \\sum_i^{n+1} ~\\Paran{y_i - \\frac{p}{(n+1)}} ~\\xb_i\n",
    "}\n",
    "$$"
   ]
  },
  {
   "cell_type": "markdown",
   "metadata": {},
   "source": [
    "$$\n",
    "\\arrthree{\n",
    "\\wt \\wb &=\n",
    "\\alphabt \\Hb \\alphab\n",
    "\\\\ &=\n",
    "\\ds \\sum_i \\alpha_i (\\Hb \\alphab)_i \n",
    "\\\\ &=\n",
    "\\ds \\sum_i \\alpha_i \\Paran{1 - \\frac{p y_i}{n+1}}\n",
    "\\\\ &=\n",
    "\\ds \\sum_i \\alpha_i  - \\frac{p}{n+1} \\underbrace{\\sum_i \\alpha_i y_i}_{\\text{0}}\n",
    "\\\\ &=\n",
    "\\ds \\sum_i \\frac{n}{R(n+1)} ~\\Paran{1 - \\frac{p y_i}{(n+1)}}\n",
    "\\\\ &=\n",
    "\\ds \\frac{n}{R(n+1)} ~(n+1) - \\frac{n p}{R(n+1)^2} \\sum_i y_i \n",
    "\\\\\n",
    "\\wt \\wb = \\Norm{\\wb}^2 &= \n",
    "\\ds \\frac{n}{R} ~\\Paran{1 - \\frac{p^2}{(n+1)^2}}\n",
    "}\n",
    "$$"
   ]
  },
  {
   "cell_type": "markdown",
   "metadata": {},
   "source": [
    "Now, the maximum margin **M** is given as\n",
    "$$\n",
    "\\arrthree{\n",
    "\\Mb &=\n",
    "\\ds \\frac{2}{\\Norm{\\wb}}\n",
    "\\\\ &=\n",
    "\\ds \\frac\n",
    "{2 R}\n",
    "{\\sqrt{ n \\Paran{1 - \\ds \\frac{p^2}{(n+1)^2}}}}\n",
    "}\n",
    "$$"
   ]
  },
  {
   "cell_type": "markdown",
   "metadata": {},
   "source": [
    "**Min Margin**\n",
    "\n",
    "* when (n+1) is even\n",
    "  * there would be equal #positives & #negatives\n",
    "  * Hence p=0\n",
    "  * $\\ds \\Mb_{\\text{min}} = \\frac{2R}{\\sqrt{n}}$\n",
    "* when (n+1) is odd\n",
    "  * $p = \\pm 1$\n",
    "  * $\\ds \\Mb_{\\text{min}} = \\frac{2R (n+1)}{\\sqrt{n (n^2 + 2n)}} = \\frac{2R (n+1)}{n \\sqrt{n+2}}$\n",
    "$$\n",
    "$$"
   ]
  },
  {
   "cell_type": "markdown",
   "metadata": {},
   "source": [
    "# Methods of solution"
   ]
  },
  {
   "cell_type": "markdown",
   "metadata": {},
   "source": [
    "list of available solvers  => (More and Wright, 1993)."
   ]
  },
  {
   "cell_type": "markdown",
   "metadata": {},
   "source": []
  },
  {
   "cell_type": "markdown",
   "metadata": {},
   "source": [
    "$$\n",
    "\\arrthree{\n",
    "}\n",
    "$$"
   ]
  },
  {
   "cell_type": "markdown",
   "metadata": {},
   "source": [
    "$$\n",
    "\\arrthree{\n",
    "}\n",
    "$$"
   ]
  },
  {
   "cell_type": "markdown",
   "metadata": {},
   "source": [
    "$$\n",
    "\\arrthree{\n",
    "}\n",
    "$$"
   ]
  },
  {
   "cell_type": "markdown",
   "metadata": {},
   "source": [
    "$$\n",
    "\\arrthree{\n",
    "}\n",
    "$$"
   ]
  },
  {
   "cell_type": "markdown",
   "metadata": {},
   "source": [
    "$$\n",
    "\\arrthree{\n",
    "}\n",
    "$$"
   ]
  },
  {
   "cell_type": "markdown",
   "metadata": {},
   "source": [
    "$$\n",
    "\\arrthree{\n",
    "}\n",
    "$$"
   ]
  },
  {
   "cell_type": "markdown",
   "metadata": {},
   "source": [
    "$$\n",
    "\\arrthree{\n",
    "}\n",
    "$$"
   ]
  },
  {
   "cell_type": "markdown",
   "metadata": {},
   "source": [
    "$$\n",
    "\\arrthree{\n",
    "}\n",
    "$$"
   ]
  },
  {
   "cell_type": "markdown",
   "metadata": {},
   "source": []
  },
  {
   "cell_type": "markdown",
   "metadata": {},
   "source": []
  },
  {
   "cell_type": "markdown",
   "metadata": {},
   "source": []
  },
  {
   "cell_type": "markdown",
   "metadata": {},
   "source": []
  },
  {
   "cell_type": "markdown",
   "metadata": {},
   "source": []
  }
 ],
 "metadata": {
  "hide_input": false,
  "kernelspec": {
   "display_name": "Python 3",
   "language": "python3",
   "name": "python3"
  },
  "language_info": {
   "codemirror_mode": {
    "name": "ipython",
    "version": 3
   },
   "file_extension": ".py",
   "mimetype": "text/x-python",
   "name": "python",
   "nbconvert_exporter": "python",
   "pygments_lexer": "ipython3",
   "version": "3.5.1"
  },
  "latex_envs": {
   "bibliofile": "biblio.bib",
   "cite_by": "apalike",
   "current_citInitial": 1,
   "eqLabelWithNumbers": true,
   "eqNumInitial": 0
  },
  "toc": {
   "toc_cell": false,
   "toc_number_sections": true,
   "toc_threshold": 6,
   "toc_window_display": true
  },
  "toc_position": {
   "height": "134px",
   "left": "707.625px",
   "right": "20px",
   "top": "3px",
   "width": "250px"
  }
 },
 "nbformat": 4,
 "nbformat_minor": 0
}
