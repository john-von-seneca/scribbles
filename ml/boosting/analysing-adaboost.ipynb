{
 "cells": [
  {
   "cell_type": "markdown",
   "metadata": {
    "heading_collapsed": true
   },
   "source": [
    "# preamble"
   ]
  },
  {
   "cell_type": "code",
   "execution_count": 134,
   "metadata": {
    "ExecuteTime": {
     "end_time": "2017-06-21T18:37:54.666668Z",
     "start_time": "2017-06-21T18:37:54.503781Z"
    },
    "hidden": true
   },
   "outputs": [
    {
     "name": "stdout",
     "output_type": "stream",
     "text": [
      "import error while loading spark, skipping\n"
     ]
    }
   ],
   "source": [
    "# science-y\n",
    "#import fbprophet\n",
    "import math\n",
    "import numpy as np\n",
    "import numpy\n",
    "import numpy.polynomial as np_poly\n",
    "import pandas as pd\n",
    "import scipy as sp\n",
    "\n",
    "#ml stuff\n",
    "#import pandas_ml as pdml\n",
    "\n",
    "import scipy.interpolate as sp_interpolate\n",
    "import scipy.signal as sp_signal\n",
    "\n",
    "# sklearn\n",
    "import sklearn.discriminant_analysis as sk_disc\n",
    "import sklearn.ensemble as sk_ensemble\n",
    "import sklearn.linear_model as sk_lm\n",
    "import sklearn.metrics as sk_metrics\n",
    "from sklearn.model_selection import train_test_split\n",
    "from sklearn.model_selection import GridSearchCV\n",
    "from sklearn import preprocessing as sk_preprocess\n",
    "from sklearn import svm as sk_svm\n",
    "import sklearn.tree as sk_tree\n",
    "from sklearn import utils as sk_utils\n",
    "import sklearn.datasets as sk_datasets\n",
    "#from sklearn.ensemble import AdaBoostClassifier\n",
    "#from sklearn.tree import DecisionTreeClassifier\n",
    "\n",
    "# spark stuff\n",
    "try:\n",
    "    from pyspark.sql import SQLContext\n",
    "    from pyspark.sql import Row as SqlRow\n",
    "    import pyspark.ml.classification as ml_cl\n",
    "    import pyspark.ml.linalg as ml_linalg\n",
    "    import pyspark.ml.regression as ml_reg\n",
    "    import pyspark.ml.util as ml_util\n",
    "    import pyspark.sql.functions as sql_f\n",
    "    from pyspark.mllib.stat import Statistics as ml_stats\n",
    "    from pyspark.ml.evaluation import RegressionEvaluator as ml_reg_eval\n",
    "except ImportError:\n",
    "    print('import error while loading spark, skipping')\n",
    "    pass\n",
    "\n",
    "# python stuff\n",
    "import boto\n",
    "from collections import OrderedDict\n",
    "import copy\n",
    "from datetime import datetime, timedelta\n",
    "from datetime import date as dt_date\n",
    "import functools as ft\n",
    "from __future__ import print_function\n",
    "import itertools\n",
    "import json\n",
    "import multiprocessing\n",
    "import operator\n",
    "import os\n",
    "import pickle\n",
    "from pprint import pprint\n",
    "import re\n",
    "import random\n",
    "import string\n",
    "import subprocess\n",
    "import sys\n",
    "import time\n",
    "import tqdm\n",
    "\n",
    "# viz\n",
    "from graphviz import Digraph\n",
    "import matplotlib.colors as mpl_colors\n",
    "from matplotlib import pyplot as plt\n",
    "import matplotlib.patches as patches\n",
    "import matplotlib.lines as mlines\n",
    "import matplotlib.dates as mdates\n",
    "import mpld3\n",
    "import pydotplus\n",
    "import seaborn as sns"
   ]
  },
  {
   "cell_type": "code",
   "execution_count": 125,
   "metadata": {
    "ExecuteTime": {
     "end_time": "2017-06-21T18:34:45.985065Z",
     "start_time": "2017-06-21T18:34:45.978157Z"
    },
    "hidden": true
   },
   "outputs": [],
   "source": [
    "# widgets\n",
    "from ipywidgets import interact, interactive, fixed, interact_manual, Layout\n",
    "import ipywidgets\n",
    "#from IPython.html import widgets as html_widgets\n",
    "from IPython.display import display as ipython_display\n",
    "# from IPython.display import Math\n",
    "# from IPython.display import Latex\n",
    "# from IPython.display import HTML"
   ]
  },
  {
   "cell_type": "code",
   "execution_count": 6,
   "metadata": {
    "ExecuteTime": {
     "end_time": "2017-06-21T17:00:03.613726Z",
     "start_time": "2017-06-21T17:00:03.090701Z"
    },
    "hidden": true
   },
   "outputs": [],
   "source": [
    "%matplotlib inline\n",
    "%load_ext Cython\n",
    "#mpld3.enable_notebook()\n",
    "\n",
    "DIR_HOME = os.environ['HOME']\n",
    "DIR_REPOS = DIR_HOME + \"/repos\"\n",
    "DIR_BMLSP = DIR_REPOS + \"/luispedro/BuildingMachineLearningSystemsWithPython\"\n",
    "DIR_OLA_DATA = DIR_HOME + \"/ola-data\"\n",
    "fo_data = DIR_OLA_DATA + \"/driver-churn/qubole\""
   ]
  },
  {
   "cell_type": "code",
   "execution_count": 7,
   "metadata": {
    "ExecuteTime": {
     "end_time": "2017-06-21T17:00:11.344128Z",
     "start_time": "2017-06-21T17:00:11.330581Z"
    },
    "hidden": true
   },
   "outputs": [],
   "source": [
    "plt.rcParams['font.family'] = 'DejaVu Sans'\n",
    "plt.rcParams[\"figure.figsize\"] = [6,4]\n",
    "\n",
    "np.set_printoptions(precision=2)\n",
    "\n",
    "pd.options.display.float_format = '{:,.2f}'.format\n",
    "pd.set_option('precision', 2)\n",
    "pd.set_option('max_colwidth',20)"
   ]
  },
  {
   "cell_type": "code",
   "execution_count": 8,
   "metadata": {
    "ExecuteTime": {
     "end_time": "2017-06-21T17:00:23.235511Z",
     "start_time": "2017-06-21T17:00:23.228807Z"
    },
    "hidden": true
   },
   "outputs": [
    {
     "name": "stdout",
     "output_type": "stream",
     "text": [
      "sys.version_info(major=3, minor=6, micro=1, releaselevel='final', serial=0)\n",
      "3.6.1 (default, Apr  4 2017, 09:36:47) \n",
      "[GCC 4.2.1 Compatible Apple LLVM 7.0.2 (clang-700.1.81)]\n"
     ]
    }
   ],
   "source": [
    "print(sys.version_info)\n",
    "print(sys.version)"
   ]
  },
  {
   "cell_type": "code",
   "execution_count": 9,
   "metadata": {
    "ExecuteTime": {
     "end_time": "2017-06-21T17:00:29.813923Z",
     "start_time": "2017-06-21T17:00:29.808549Z"
    },
    "hidden": true
   },
   "outputs": [],
   "source": [
    "if 'sc' in locals():\n",
    "    sc.setLogLevel(\"WARN\")"
   ]
  },
  {
   "cell_type": "markdown",
   "metadata": {
    "hidden": true
   },
   "source": [
    "initialization\n",
    "$\n",
    "\\newcommand{\\Brace}[1]{\\left\\{#1\\right\\}}\n",
    "\\newcommand{\\Bracket}[1]{\\left[#1\\right]}\n",
    "\\newcommand{\\cases}[1]{\\begin{cases}#1\\end{cases}}\n",
    "\\newcommand{\\Ceil}[1]{\\left\\lceil {#1} \\right\\rceil}\n",
    "\\newcommand{\\cov}[1]{\\text{cov} \\sigma\\left[#1\\right]}\n",
    "\\newcommand{\\diff}[2]{\\frac{d #1}{d #2}}\n",
    "\\newcommand{\\difftwo}[2]{\\frac{d^2 #1}{d {#2}^2}}\n",
    "\\newcommand{\\diffn}[2]{{#1}^{\\prime}(#2)}\n",
    "\\newcommand{\\ds}{\\displaystyle}\n",
    "\\newcommand{\\E}[1]{\\mathbb{E}\\left[ #1 \\right]}\n",
    "\\newcommand{\\expb}[1]{\\exp\\left\\{#1\\right\\}} \n",
    "\\newcommand{\\EXP}[1]{\\exp\\left\\{#1\\right\\}} \n",
    "\\newcommand{\\frachalf}[1]{\\frac{#1}{2}~}\n",
    "\\newcommand{\\fracone}[1]{\\frac{1}{#1}~}\n",
    "\\newcommand{\\fracrec}[1]{\\frac{1}{#1}~}\n",
    "\\newcommand{\\Floor}[1]{\\left\\lfloor {#1} \\right\\rfloor}\n",
    "\\newcommand{\\half}{\\fracone{2}}\n",
    "\\newcommand{\\H}[1]{\\mathbb{H}\\left[#1\\right]}\n",
    "\\newcommand{\\Int}[2]{\\displaystyle \\int_{#1}^{#2}~}\n",
    "\\newcommand{\\intinfinf}{\\Int{-\\infty}{\\infty}}\n",
    "\\newcommand{\\inv}[1]{#1^{-1}}\n",
    "\\newcommand{\\invp}[1]{\\left({#1}\\right)^{-1}}\n",
    "\\newcommand{\\KL}[2]{\\text{KL}\\left(#1 \\Vert #2\\right)}\n",
    "\\newcommand{\\Lim}[1]{\\displaystyle \\lim_{#1}}\n",
    "\\newcommand{\\Ln}[1]{\\ln \\left\\(#1\\right\\)}\n",
    "\\newcommand{\\Lnb}[1]{\\ln \\left\\{#1\\right\\} }\n",
    "\\newcommand{\\Mod}[1]{\\left|#1\\right|}\n",
    "\\newcommand{\\Norm}[1]{\\left\\lVert #1 \\right\\rVert}\n",
    "\\newcommand{\\Normsqr}[1]{\\Norm{#1}^2}\n",
    "\\newcommand{\\map}[1]{#1_{\\text{MAP}}}\n",
    "\\newcommand{\\ml}[1]{#1_{\\text{ML}}}\n",
    "\\newcommand{\\MI}[1]{\\mathcal{I}\\left(#1\\right)}\n",
    "\\newcommand{\\P}{\\mathbb{P}}\n",
    "\\newcommand{\\Paran}[1]{\\left(#1\\right)}\n",
    "\\newcommand{\\Partial}[2]{\\frac{\\partial #1}{\\partial #2}}\n",
    "\\newcommand{\\Recip}[1]{ \\frac{1}{ #1 } }\n",
    "\\newcommand{\\sqrbrkt}[1]{\\Bracket{#1}^2}\n",
    "\\newcommand{\\sqrbrc}[1]{\\Brace{#1}^2}\n",
    "\\newcommand{\\trace}[1]{\\text{Tr}\\left( #1 \\right)}\n",
    "\\newcommand{\\traceb}[1]{\\text{Tr}\\left\\{#1\\right\\}}\n",
    "\\newcommand{\\underl}[1]{\\text{$\\underline{#1}$}}\n",
    "\\newcommand{\\V}[1]{\\mathbb{V}\\left[#1\\right]}\n",
    "$\n",
    "$\n",
    "\\DeclareMathOperator*{\\argmin}{arg\\,min}\n",
    "\\DeclareMathOperator*{\\argmax}{arg\\,max}\n",
    "$\n",
    "$\n",
    "\\newcommand{\\mat}[1]{ \\left[ \\begin{matrix} #1 \\end{matrix} \\right] }\n",
    "\\newcommand{\\matp}[1]{ \\left( \\begin{matrix} #1 \\end{matrix} \\right)}\n",
    "\\newcommand{\\mats}[1]{ \\begin{matrix}#1\\end{matrix} }\n",
    "\\newcommand{\\arrthree}[1]{\n",
    "\\begin{array}{rlr} #1 \\end{array}}\n",
    "$"
   ]
  },
  {
   "cell_type": "markdown",
   "metadata": {
    "hidden": true
   },
   "source": [
    "$\n",
    "\\newcommand{\\C}{\\mathbb{C}}\n",
    "\\newcommand{\\Ca}{\\mathcal{C}}\n",
    "\\newcommand{\\Caone}{\\Ca_1}\n",
    "\\newcommand{\\Catwo}{\\Ca_2}\n",
    "\\newcommand{\\Cak}{\\Ca_k}\n",
    "\\newcommand{\\D}{\\mathcal{D}}\n",
    "\\newcommand{\\G}{\\mathcal{G}}\n",
    "\\newcommand{\\I}{\\mathcal{I}}\n",
    "\\newcommand{\\L}{\\mathcal{L}}\n",
    "\\newcommand{\\M}{\\mathcal{M}}\n",
    "\\newcommand{\\N}{\\mathbb{N}}\n",
    "\\newcommand{\\R}{\\mathbb{R}}\n",
    "\\newcommand{\\Ra}{\\mathcal{R}}\n",
    "$\n",
    "$\n",
    "\\newcommand{\\commentgray}[1]{\\color{gray}{\\text{#1}}}\n",
    "$"
   ]
  },
  {
   "cell_type": "markdown",
   "metadata": {
    "hidden": true
   },
   "source": [
    "sum, product\n",
    "$\n",
    "\\newcommand{\\sumi}{\\displaystyle \\sum_i}\n",
    "\\newcommand{\\sumiD}{\\displaystyle \\sum_{i=1}^{D}}\n",
    "\\newcommand{\\sumiL}{\\displaystyle \\sum_{i=1}^{L}}\n",
    "\\newcommand{\\sumiN}{\\displaystyle \\sum_{i=1}^{N}}\n",
    "\\newcommand{\\sumjD}{\\displaystyle \\sum_{j=1}^{D}}\n",
    "\\newcommand{\\sumjK}{\\displaystyle \\sum_{j=1}^{K}}\n",
    "\\newcommand{\\sumjMl}{\\sum_{j=1}^{M-1}}\n",
    "\\newcommand{\\sumkK}{\\displaystyle \\sum_{k=1}^{K}}\n",
    "\\newcommand{\\sumkM}{\\displaystyle \\sum_{k=1}^{M}}\n",
    "\\newcommand{\\sumkMl}{\\sum_{k=1}^{M-1}}\n",
    "\\newcommand{\\sumkp}{\\displaystyle \\sum_{k=1}^{p}}\n",
    "\\newcommand{\\summN}{\\displaystyle \\sum_{m=1}^{N}}\n",
    "\\newcommand{\\sumnN}{\\displaystyle \\sum_{n=1}^{N}}\n",
    "$\n",
    "$\n",
    "\\newcommand{\\prodi}{\\displaystyle \\prod_i}\n",
    "\\newcommand{\\prodiD}{\\displaystyle \\prod_{i=1}^{D}}\n",
    "\\newcommand{\\prodiL}{\\displaystyle \\prod_{i=1}^{L}}\n",
    "\\newcommand{\\prodiN}{\\displaystyle \\prod_{i=1}^{N}}\n",
    "\\newcommand{\\prodjK}{\\displaystyle \\prod_{j=1}^{K}}\n",
    "\\newcommand{\\prodkK}{\\displaystyle \\prod_{k=1}^{K}}\n",
    "\\newcommand{\\prodmN}{\\displaystyle \\prod_{m=1}^{N}}\n",
    "\\newcommand{\\prodnN}{\\displaystyle \\prod_{n=1}^{N}}\n",
    "$"
   ]
  },
  {
   "cell_type": "markdown",
   "metadata": {
    "hidden": true
   },
   "source": [
    "alphabet shortcuts\n",
    "$\n",
    "\\newcommand{\\ab}{\\mathbf{a}}\n",
    "\\newcommand{\\at}{\\ab^T}\n",
    "\\newcommand{\\Ab}{\\mathbf{A}}\n",
    "\\newcommand{\\At}{\\Ab^T}\n",
    "\\newcommand{\\Ai}{\\inv{\\Ab}}\n",
    "\\newcommand{\\Abjk}{\\Ab_{jk}}\n",
    "\\newcommand{\\bb}{\\mathbf{b}}\n",
    "\\newcommand{\\bt}{\\bb^T}\n",
    "\\newcommand{\\Bb}{\\mathbf{B}}\n",
    "\\newcommand{\\Bt}{\\Bb^T}\n",
    "\\newcommand{\\Cb}{\\mathbf{C}}\n",
    "\\newcommand{\\Cn}{\\Cb_{N}}\n",
    "\\newcommand{\\Db}{\\mathbf{D}}\n",
    "\\newcommand{\\fb}{\\mathbf{f}}\n",
    "\\newcommand{\\fp}{f^{\\prime}}\n",
    "\\newcommand{\\Hb}{\\mathbf{H}}\n",
    "\\newcommand{\\hx}{h(\\xb)}\n",
    "\\newcommand{\\Jb}{\\mathbf{J}}\n",
    "\\newcommand{\\kb}{\\mathbf{k}}\n",
    "\\newcommand{\\kt}{\\kb^T}\n",
    "\\newcommand{\\Kb}{\\mathbf{K}}\n",
    "\\newcommand{\\Lb}{\\mathbf{L}}\n",
    "\\newcommand{\\Lt}{\\Lb^T}\n",
    "\\newcommand{\\Lbi}{\\Lb^{-1}}\n",
    "\\newcommand{\\mb}{\\mathbf{m}}\n",
    "\\newcommand{\\mt}{\\mb^T}\n",
    "\\newcommand{\\mbn}{\\mb_N}\n",
    "\\newcommand{\\mbnt}{\\mbn^T}\n",
    "\\newcommand{\\mbN}{\\mb_N}\n",
    "\\newcommand{\\mbNt}{\\mbn^T}\n",
    "\\newcommand{\\Mb}{\\mathbf{M}}\n",
    "\\newcommand{\\Qb}{\\mathbf{Q}}\n",
    "\\newcommand{\\Rb}{\\mathbf{R}}\n",
    "\\newcommand{\\sb}{\\mathbf{s}}\n",
    "\\newcommand{\\Sb}{\\mathbf{S}}\n",
    "\\newcommand{\\tb}{\\mathbf{t}}\n",
    "\\newcommand{\\tbnn}{\\tb_{N}}\n",
    "\\newcommand{\\tbnp}{\\tb_{N+1}}\n",
    "\\newcommand{\\tt}{\\tb^T}\n",
    "\\newcommand{\\Tb}{\\mathbf{T}}\n",
    "\\newcommand{\\Tt}{\\Tb^T}\n",
    "\\newcommand{\\ub}{\\mathbf{u}}\n",
    "\\newcommand{\\Ub}{\\mathbf{U}}\n",
    "\\newcommand{\\Ut}{\\Ub^T}\n",
    "\\newcommand{\\vb}{\\mathbf{v}}\n",
    "\\newcommand{\\Vb}{\\mathbf{V}}\n",
    "\\newcommand{\\wb}{\\mathbf{w}}\n",
    "\\newcommand{\\wnr}[1]{\\wb^{(\\text{#1})}}\n",
    "\\newcommand{\\wt}{\\wb^T}\n",
    "\\newcommand{\\Wb}{\\mathbf{W}}\n",
    "\\newcommand{\\Wt}{\\Wb^T}\n",
    "\\newcommand{\\Wtilde}{\\widetilde{\\Wb}}\n",
    "\\newcommand{\\Wtildet}{\\Wtilde^T}\n",
    "\\newcommand{\\Xb}{\\mathbf{X}}\n",
    "\\newcommand{\\Xt}{\\Xb^T}\n",
    "\\newcommand{\\Xk}{\\Xb_k}\n",
    "\\newcommand{\\Xkt}{\\Xk^T}\n",
    "\\newcommand{\\Xtilde}{\\widetilde{\\Xb}}\n",
    "\\newcommand{\\Xtildet}{\\Xtilde^T}\n",
    "\\newcommand{\\xb}{\\mathbf{x}}\n",
    "\\newcommand{\\xt}{\\xb^T}\n",
    "\\newcommand{\\xtilde}{\\widetilde{\\xb}}\n",
    "\\newcommand{\\xtilden}{\\xtilde_n}\n",
    "\\newcommand{\\xtildent}{\\xtilden^T}\n",
    "\\newcommand{\\xp}{x^{\\prime}}\n",
    "\\newcommand{\\xbp}{\\xb^{\\prime}}\n",
    "\\newcommand{\\xbm}{\\xb_m}\n",
    "\\newcommand{\\xbn}{\\xb_n}\n",
    "\\newcommand{\\xbnp}{\\xb_{N+1}}\n",
    "\\newcommand{\\xab}{\\mathbf{x_a}}\n",
    "\\newcommand{\\xabt}{\\mathbf{x_a}^T}\n",
    "\\newcommand{\\xbb}{\\mathbf{x_b}}\n",
    "\\newcommand{\\xbbt}{\\mathbf{x_b}^T}\n",
    "\\newcommand{\\yb}{\\mathbf{y}}\n",
    "\\newcommand{\\yt}{\\yb^T}\n",
    "\\newcommand{\\yx}{y(\\xb)}\n",
    "\\newcommand{\\Yb}{\\mathbf{Y}}\n",
    "\\newcommand{\\Yt}{\\Yb^T}\n",
    "\\newcommand{\\zb}{\\mathbf{z}}\n",
    "\\newcommand{\\zt}{\\zb^T}\n",
    "\\newcommand{\\zbm}{\\zb_m}\n",
    "\\newcommand{\\zbn}{\\zb_n}\n",
    "\\newcommand{\\zbnp}{\\zb_{n-1}}\n",
    "\\newcommand{\\znk}{\\zb_{nk}}\n",
    "\\newcommand{\\znpj}{\\zb_{n-1,j}}\n",
    "\\newcommand{\\Zb}{\\mathbf{Z}}\n",
    "$"
   ]
  },
  {
   "cell_type": "markdown",
   "metadata": {
    "hidden": true
   },
   "source": [
    "math shortcuts\n",
    "$\n",
    "\\newcommand{\\alphab}{\\pmb{\\alpha}}\n",
    "\\newcommand{\\alphabt}{\\alphab^T}\n",
    "\\newcommand{\\betab}{\\pmb{\\beta}}\n",
    "\\newcommand{\\betabp}{\\betab^{\\prime}}\n",
    "\\newcommand{\\chib}{\\boldsymbol{\\chi}}\n",
    "\\newcommand{\\etab}{\\pmb{\\eta}}\n",
    "\\newcommand{\\etabp}{\\etab^{\\prime}}\n",
    "\\newcommand{\\etat}{\\eta^T}\n",
    "\\newcommand{\\etabt}{\\etab^T}\n",
    "\\newcommand{\\Lambdab}{\\pmb{\\Lambda}}\n",
    "\\newcommand{\\laa}{\\Lambda_{aa}}\n",
    "\\newcommand{\\laai}{\\Lambda_{aa}^{-1}}\n",
    "\\newcommand{\\lab}{\\Lambda_{ab}}\n",
    "\\newcommand{\\lba}{\\Lambda_{ba}}\n",
    "\\newcommand{\\lbb}{\\Lambda_{bb}}\n",
    "\\newcommand{\\lbbi}{\\Lambda_{bb}^{-1}}\n",
    "\\newcommand{\\li}{\\Lambda^{-1}}\n",
    "\\newcommand{\\Li}{\\Lambda^{-1}}\n",
    "\\newcommand{\\mub}{\\pmb{\\mu}}\n",
    "\\newcommand{\\mut}{\\mub^T}\n",
    "\\newcommand{\\muab}{\\pmb{\\mu}_a}\n",
    "\\newcommand{\\mubb}{\\pmb{\\mu}_b}\n",
    "\\newcommand{\\Phib}{\\pmb{\\Phi}}\n",
    "\\newcommand{\\Phibt}{\\Phib^T}\n",
    "\\newcommand{\\pib}{\\pmb{\\pi}}\n",
    "\\newcommand{\\sigmasqr}{\\sigma^2}\n",
    "\\newcommand{\\saa}{\\Sigma_{aa}}\n",
    "\\newcommand{\\sab}{\\Sigma_{ab}}\n",
    "\\newcommand{\\sba}{\\Sigma_{ba}}\n",
    "\\newcommand{\\sbb}{\\Sigma_{bb}}\n",
    "\\newcommand{\\Sigmai}{\\inv{\\Sigma}}\n",
    "\\newcommand{\\thetab}{\\pmb{\\theta}}\n",
    "\\newcommand{\\thetat}{\\thetab^T}\n",
    "\\newcommand{\\thetabh}{\\hat{\\thetab}}\n",
    "\\newcommand{\\thetaold}{\\thetab^{\\text{old}}}\n",
    "$\n",
    "$\n",
    "\\newcommand{\\zerob}{\\pmb{0}}\n",
    "\\newcommand{\\oneb}{\\pmb{1}}\n",
    "\\newcommand{\\ed}{\\mathbb{E}_{\\D}}\n",
    "\\newcommand{\\edyx}{\\ed\\left[y(\\xb ; \\D)\\right]}\n",
    "\\newcommand{\\dx}{~dx}\n",
    "\\newcommand{\\dxb}{~d\\xb}\n",
    "\\newcommand{\\pxdxb}{p(\\xb) \\dxb}\n",
    "\\newcommand{\\dwb}{~d\\wb}\n",
    "$"
   ]
  },
  {
   "cell_type": "markdown",
   "metadata": {
    "hidden": true
   },
   "source": [
    "aliases for distributions\n",
    "$\\newcommand{\\multivarcoeff}{\\frac{1}{(2\\pi)^{D/2}}\n",
    "\\frac{1}{\\left| \\mathbf{\\Sigma}\\right|^{1/2}}}$\n",
    "$\\newcommand{\\multivarexp}[2]\n",
    "{\n",
    "\\left\\{\n",
    " -\\frac{1}{2} \n",
    " {#1}^T \n",
    " #2\n",
    " {#1}\n",
    "\\right\\}\n",
    "}$\n",
    "$\\newcommand{\\multivarexpx}[1]{\\multivarexp{#1}{\\Sigma^{-1}}}$\n",
    "$\\newcommand{\\multivarexpstd}{\\multivarexpx{(\\xb-\\mub)}}$\n",
    "$\\newcommand{\\gam}{\\operatorname{Gam}}$\n",
    "$\n",
    "\\newcommand{\\Nl}[3]{\\mathcal{N}\\left(#1 \\mid #2, #3\\right)}\n",
    "\\newcommand{\\Nstdx}{\\Nl{\\mathbf{x}}{\\mathbf{\\mu}}{\\Sigma}}\n",
    "$"
   ]
  },
  {
   "cell_type": "code",
   "execution_count": null,
   "metadata": {
    "hidden": true
   },
   "outputs": [],
   "source": [
    "HTML(\"<style>\"\\\n",
    "    \"div.cell{\"\\\n",
    "        \"width:50%;\"\\\n",
    "        \"margin-left:25%;\"\\\n",
    "        \"margin-right:auto;\"\\\n",
    "    \"}\"\\\n",
    "\"</style>\")"
   ]
  },
  {
   "cell_type": "markdown",
   "metadata": {
    "heading_collapsed": true
   },
   "source": [
    "# defs"
   ]
  },
  {
   "cell_type": "code",
   "execution_count": 65,
   "metadata": {
    "ExecuteTime": {
     "end_time": "2017-06-21T17:33:38.356881Z",
     "start_time": "2017-06-21T17:33:38.269900Z"
    },
    "hidden": true
   },
   "outputs": [],
   "source": [
    "def get_stump_str(t, feat_cols_, labels_, root=0, depth=1, feat_str_width=16):\n",
    "    left_child = t.children_left[0]\n",
    "    right_child = t.children_right[0]\n",
    "    l_vals, r_vals = t.value[left_child].ravel(), t.value[right_child].ravel()\n",
    "    return ('if %16s[%2d] <= %6.2f: {%7s [%.2f %.2f]} else: {%7s [%.2f %.2f]}' % (\n",
    "        feat_cols_[t.feature[0]], t.feature[0], t.threshold[0], \n",
    "        labels_[np.argmax(t.value[left_child])], l_vals[0], l_vals[1],\n",
    "        labels_[np.argmax(t.value[right_child])],r_vals[0], r_vals[1],\n",
    "    ))\n",
    "\n",
    "#print(get_stump_str(tmp_dtc.tree_, mdl_ab.data.feat_cols, ['present','absent']))\n",
    "\n",
    "def print_abc(mdl_abc_, feat_cols=None,labels=['present','absent']):\n",
    "    feat_cols_ = feat_cols\n",
    "    if type(mdl_abc_) is Model:\n",
    "        feat_cols_ = mdl_abc_.data.feat_cols\n",
    "        abc_best = mdl_abc_.grid_search_cv.best_estimator_\n",
    "    else:\n",
    "        if feat_cols is None:\n",
    "            raise Exception('feat cols null of non Model Object')\n",
    "        abc_best_ = mdl_abc_\n",
    "    \n",
    "    estimators_, weights_ = abc_best_.estimators_, abc_best_.estimator_weights_\n",
    "    errors_ = abc_best_.estimator_errors_\n",
    "    # hack for samme.r\n",
    "    # weights_ = np.log((1-errors_)/errors_)\n",
    "    for wt_, est_,err_ in zip(weights_,estimators_,errors_):\n",
    "        str1_ = get_stump_str(est_.tree_, feat_cols_, labels)\n",
    "        print('[e:%.2f, w:%.2f]: %s' % (err_,wt_,str1_))"
   ]
  },
  {
   "cell_type": "markdown",
   "metadata": {},
   "source": [
    "# core"
   ]
  },
  {
   "cell_type": "code",
   "execution_count": 13,
   "metadata": {
    "ExecuteTime": {
     "end_time": "2017-06-21T17:04:07.209959Z",
     "start_time": "2017-06-21T17:04:07.198101Z"
    }
   },
   "outputs": [],
   "source": [
    "# Construct dataset\n",
    "X1, y1 = sk_datasets.make_gaussian_quantiles(cov=2.,\n",
    "                                 n_samples=200, n_features=2,\n",
    "                                 n_classes=2, random_state=1)\n",
    "X2, y2 = sk_datasets.make_gaussian_quantiles(mean=(3, 3), cov=1.5,\n",
    "                                 n_samples=300, n_features=2,\n",
    "                                 n_classes=2, random_state=1)\n",
    "X = np.concatenate((X1, X2))\n",
    "y = np.concatenate((y1, - y2 + 1))"
   ]
  },
  {
   "cell_type": "code",
   "execution_count": 16,
   "metadata": {
    "ExecuteTime": {
     "end_time": "2017-06-21T17:04:35.183698Z",
     "start_time": "2017-06-21T17:04:34.891719Z"
    }
   },
   "outputs": [
    {
     "data": {
      "text/plain": [
       "AdaBoostClassifier(algorithm='SAMME.R',\n",
       "          base_estimator=DecisionTreeClassifier(class_weight=None, criterion='gini', max_depth=1,\n",
       "            max_features=None, max_leaf_nodes=None,\n",
       "            min_impurity_split=1e-07, min_samples_leaf=1,\n",
       "            min_samples_split=2, min_weight_fraction_leaf=0.0,\n",
       "            presort=False, random_state=None, splitter='best'),\n",
       "          learning_rate=1.0, n_estimators=200, random_state=None)"
      ]
     },
     "execution_count": 16,
     "metadata": {},
     "output_type": "execute_result"
    }
   ],
   "source": [
    "bdt = sk_ensemble.AdaBoostClassifier(sk_tree.DecisionTreeClassifier(max_depth=1),\n",
    "                         algorithm=\"SAMME.R\",\n",
    "                         n_estimators=200)\n",
    "\n",
    "bdt.fit(X, y)"
   ]
  },
  {
   "cell_type": "code",
   "execution_count": 25,
   "metadata": {
    "ExecuteTime": {
     "end_time": "2017-06-21T17:07:41.192826Z",
     "start_time": "2017-06-21T17:07:41.119529Z"
    }
   },
   "outputs": [],
   "source": [
    "sns.color_palette?"
   ]
  },
  {
   "cell_type": "code",
   "execution_count": 28,
   "metadata": {
    "ExecuteTime": {
     "end_time": "2017-06-21T17:08:52.265036Z",
     "start_time": "2017-06-21T17:08:52.257675Z"
    }
   },
   "outputs": [],
   "source": [
    "plt.cm.Paired?"
   ]
  },
  {
   "cell_type": "code",
   "execution_count": 29,
   "metadata": {
    "ExecuteTime": {
     "end_time": "2017-06-21T17:09:17.428975Z",
     "start_time": "2017-06-21T17:09:17.274893Z"
    }
   },
   "outputs": [
    {
     "data": {
      "text/plain": [
       "<matplotlib.colors.ListedColormap at 0x11082ae10>"
      ]
     },
     "execution_count": 29,
     "metadata": {},
     "output_type": "execute_result"
    },
    {
     "data": {
      "image/png": "[encoded data removed]",
      "text/plain": [
       "<matplotlib.figure.Figure at 0x11082ada0>"
      ]
     },
     "metadata": {},
     "output_type": "display_data"
    }
   ],
   "source": [
    "sns.palplot(sns.color_palette(\"muted\"))\n",
    "mpl_colors.ListedColormap(sns.color_palette(\"muted\"))"
   ]
  },
  {
   "cell_type": "code",
   "execution_count": 30,
   "metadata": {
    "ExecuteTime": {
     "end_time": "2017-06-21T17:09:36.227333Z",
     "start_time": "2017-06-21T17:09:26.090447Z"
    }
   },
   "outputs": [
    {
     "data": {
      "text/plain": [
       "<matplotlib.text.Text at 0x110714748>"
      ]
     },
     "execution_count": 30,
     "metadata": {},
     "output_type": "execute_result"
    },
    {
     "data": {
      "image/png": "[encoded data removed]",
      "text/plain": [
       "<matplotlib.figure.Figure at 0x1106f0128>"
      ]
     },
     "metadata": {},
     "output_type": "display_data"
    }
   ],
   "source": [
    "plot_colors = \"br\"\n",
    "plot_step = 0.02\n",
    "class_names = \"AB\"\n",
    "\n",
    "plt.figure(figsize=(10, 5))\n",
    "\n",
    "# Plot the decision boundaries\n",
    "plt.subplot(121)\n",
    "x_min, x_max = X[:, 0].min() - 1, X[:, 0].max() + 1\n",
    "y_min, y_max = X[:, 1].min() - 1, X[:, 1].max() + 1\n",
    "xx, yy = np.meshgrid(np.arange(x_min, x_max, plot_step),\n",
    "                     np.arange(y_min, y_max, plot_step))\n",
    "\n",
    "Z = bdt.predict(np.c_[xx.ravel(), yy.ravel()])\n",
    "Z = Z.reshape(xx.shape)\n",
    "cs = plt.contourf(xx, yy, Z, cmap=mpl_colors.ListedColormap(sns.color_palette(\"muted\")))\n",
    "plt.axis(\"tight\")\n",
    "\n",
    "# Plot the training points\n",
    "for i, n, c in zip(range(2), class_names, plot_colors):\n",
    "    idx = np.where(y == i)\n",
    "    plt.scatter(X[idx, 0], X[idx, 1],\n",
    "                c=c, cmap=plt.cm.Paired,\n",
    "                label=\"Class %s\" % n)\n",
    "plt.xlim(x_min, x_max)\n",
    "plt.ylim(y_min, y_max)\n",
    "plt.legend(loc='upper right')\n",
    "plt.xlabel('x')\n",
    "plt.ylabel('y')\n",
    "plt.title('Decision Boundary')"
   ]
  },
  {
   "cell_type": "code",
   "execution_count": 23,
   "metadata": {
    "ExecuteTime": {
     "end_time": "2017-06-21T17:06:35.948471Z",
     "start_time": "2017-06-21T17:06:35.603880Z"
    }
   },
   "outputs": [
    {
     "data": {
      "image/png": "[encoded data removed]",
      "text/plain": [
       "<matplotlib.figure.Figure at 0x1127bd278>"
      ]
     },
     "metadata": {},
     "output_type": "display_data"
    }
   ],
   "source": [
    "# Plot the two-class decision scores\n",
    "plt.rcParams['figure.figsize'] = [12,4]\n",
    "twoclass_output = bdt.decision_function(X)\n",
    "plot_range = (twoclass_output.min(), twoclass_output.max())\n",
    "plt.subplot(122)\n",
    "for i, n, c in zip(range(2), class_names, plot_colors):\n",
    "    plt.hist(twoclass_output[y == i],\n",
    "             bins=10,\n",
    "             range=plot_range,\n",
    "             label='Class %s' % n,\n",
    "             alpha=.5)\n",
    "x1, x2, y1, y2 = plt.axis()\n",
    "plt.axis((x1, x2, y1, y2 * 1.2))\n",
    "plt.legend(loc='upper right')\n",
    "plt.ylabel('Samples')\n",
    "plt.xlabel('Score')\n",
    "plt.title('Decision Scores')\n",
    "\n",
    "plt.tight_layout()\n",
    "plt.subplots_adjust(wspace=0.35)\n",
    "plt.show()"
   ]
  },
  {
   "cell_type": "code",
   "execution_count": 64,
   "metadata": {
    "ExecuteTime": {
     "end_time": "2017-06-21T17:32:47.154661Z",
     "start_time": "2017-06-21T17:32:47.148820Z"
    }
   },
   "outputs": [
    {
     "data": {
      "text/plain": [
       "DecisionTreeClassifier(class_weight=None, criterion='gini', max_depth=1,\n",
       "            max_features=None, max_leaf_nodes=None,\n",
       "            min_impurity_split=1e-07, min_samples_leaf=1,\n",
       "            min_samples_split=2, min_weight_fraction_leaf=0.0,\n",
       "            presort=False, random_state=1199425558, splitter='best')"
      ]
     },
     "execution_count": 64,
     "metadata": {},
     "output_type": "execute_result"
    }
   ],
   "source": [
    "bdt_est_0 = bdt.estimators_[0]\n",
    "bdt_est_0"
   ]
  },
  {
   "cell_type": "code",
   "execution_count": 82,
   "metadata": {
    "ExecuteTime": {
     "end_time": "2017-06-21T17:39:38.876736Z",
     "start_time": "2017-06-21T17:39:38.870697Z"
    }
   },
   "outputs": [
    {
     "data": {
      "text/plain": [
       "(500, 2)"
      ]
     },
     "execution_count": 82,
     "metadata": {},
     "output_type": "execute_result"
    }
   ],
   "source": [
    "X[:,1]"
   ]
  },
  {
   "cell_type": "code",
   "execution_count": 94,
   "metadata": {
    "ExecuteTime": {
     "end_time": "2017-06-21T17:49:21.147504Z",
     "start_time": "2017-06-21T17:49:21.139456Z"
    }
   },
   "outputs": [
    {
     "data": {
      "text/plain": [
       "array([[ 0.4 ,  0.5 ,  0.7 , -0.25],\n",
       "       [ 0.4 ,  0.5 , -3.95,  2.74],\n",
       "       [ 0.4 ,  0.5 ,  0.15, -2.16],\n",
       "       ..., \n",
       "       [ 0.4 ,  0.5 ,  0.89,  3.07],\n",
       "       [ 0.4 ,  0.5 ,  0.85,  3.88],\n",
       "       [ 0.4 ,  0.5 ,  5.22,  1.4 ]])"
      ]
     },
     "execution_count": 94,
     "metadata": {},
     "output_type": "execute_result"
    }
   ],
   "source": [
    "np.concatenate((bdt_est_0.tree_.predict(bdt_est_0._validate_X_predict(X, check_input=True)), X),axis=1)"
   ]
  },
  {
   "cell_type": "code",
   "execution_count": 100,
   "metadata": {
    "ExecuteTime": {
     "end_time": "2017-06-21T17:55:00.872685Z",
     "start_time": "2017-06-21T17:55:00.799404Z"
    }
   },
   "outputs": [
    {
     "name": "stdout",
     "output_type": "stream",
     "text": [
      "self.n_outputs_ 1\n"
     ]
    },
    {
     "data": {
      "text/plain": [
       "array([[-0.8 , -0.59],\n",
       "       [-0.8 , -0.59],\n",
       "       [-0.8 , -0.59],\n",
       "       [-0.8 , -0.59],\n",
       "       [-0.8 , -0.59],\n",
       "       [-0.8 , -0.59],\n",
       "       [-0.8 , -0.59],\n",
       "       [-0.8 , -0.59],\n",
       "       [-0.8 , -0.59],\n",
       "       [-0.8 , -0.59],\n",
       "       [-0.8 , -0.59],\n",
       "       [-0.8 , -0.59],\n",
       "       [-0.8 , -0.59],\n",
       "       [-0.8 , -0.59],\n",
       "       [-0.8 , -0.59],\n",
       "       [-0.8 , -0.59],\n",
       "       [-0.8 , -0.59],\n",
       "       [-0.8 , -0.59],\n",
       "       [-0.8 , -0.59],\n",
       "       [-0.8 , -0.59],\n",
       "       [-0.8 , -0.59],\n",
       "       [-0.8 , -0.59],\n",
       "       [-0.8 , -0.59],\n",
       "       [-0.8 , -0.59],\n",
       "       [-0.8 , -0.59],\n",
       "       [-0.8 , -0.59],\n",
       "       [-0.8 , -0.59],\n",
       "       [-0.8 , -0.59],\n",
       "       [-0.8 , -0.59],\n",
       "       [-0.8 , -0.59],\n",
       "       [-0.8 , -0.59],\n",
       "       [-0.8 , -0.59],\n",
       "       [-0.8 , -0.59],\n",
       "       [-0.8 , -0.59],\n",
       "       [-0.8 , -0.59],\n",
       "       [-0.8 , -0.59],\n",
       "       [-0.8 , -0.59],\n",
       "       [-0.8 , -0.59],\n",
       "       [-0.8 , -0.59],\n",
       "       [-0.8 , -0.59],\n",
       "       [-0.8 , -0.59],\n",
       "       [-0.8 , -0.59],\n",
       "       [-0.8 , -0.59],\n",
       "       [-0.8 , -0.59],\n",
       "       [-0.8 , -0.59],\n",
       "       [-0.8 , -0.59],\n",
       "       [-0.8 , -0.59],\n",
       "       [-0.8 , -0.59],\n",
       "       [-0.8 , -0.59],\n",
       "       [-0.8 , -0.59],\n",
       "       [-0.8 , -0.59],\n",
       "       [-0.8 , -0.59],\n",
       "       [-0.8 , -0.59],\n",
       "       [-0.8 , -0.59],\n",
       "       [-0.8 , -0.59],\n",
       "       [-0.8 , -0.59],\n",
       "       [-0.8 , -0.59],\n",
       "       [-0.8 , -0.59],\n",
       "       [-0.8 , -0.59],\n",
       "       [-0.8 , -0.59],\n",
       "       [-0.8 , -0.59],\n",
       "       [-0.8 , -0.59],\n",
       "       [-0.8 , -0.59],\n",
       "       [-0.8 , -0.59],\n",
       "       [-0.8 , -0.59],\n",
       "       [-0.8 , -0.59],\n",
       "       [-0.8 , -0.59],\n",
       "       [-0.8 , -0.59],\n",
       "       [-0.8 , -0.59],\n",
       "       [-0.8 , -0.59],\n",
       "       [-0.8 , -0.59],\n",
       "       [-0.8 , -0.59],\n",
       "       [-0.8 , -0.59],\n",
       "       [-0.8 , -0.59],\n",
       "       [-0.8 , -0.59],\n",
       "       [-0.8 , -0.59],\n",
       "       [-0.8 , -0.59],\n",
       "       [-0.8 , -0.59],\n",
       "       [-0.8 , -0.59],\n",
       "       [-0.8 , -0.59],\n",
       "       [-0.8 , -0.59],\n",
       "       [-0.8 , -0.59],\n",
       "       [-0.8 , -0.59],\n",
       "       [-0.8 , -0.59],\n",
       "       [-0.8 , -0.59],\n",
       "       [-0.8 , -0.59],\n",
       "       [-0.8 , -0.59],\n",
       "       [-0.8 , -0.59],\n",
       "       [-0.8 , -0.59],\n",
       "       [-0.8 , -0.59],\n",
       "       [-0.8 , -0.59],\n",
       "       [-0.8 , -0.59],\n",
       "       [-0.8 , -0.59],\n",
       "       [-0.8 , -0.59],\n",
       "       [-0.8 , -0.59],\n",
       "       [-0.8 , -0.59],\n",
       "       [-0.8 , -0.59],\n",
       "       [-0.8 , -0.59],\n",
       "       [-0.8 , -0.59],\n",
       "       [-0.8 , -0.59],\n",
       "       [-0.8 , -0.59],\n",
       "       [-0.8 , -0.59],\n",
       "       [-0.8 , -0.59],\n",
       "       [-0.8 , -0.59],\n",
       "       [-0.8 , -0.59],\n",
       "       [-0.8 , -0.59],\n",
       "       [-0.8 , -0.59],\n",
       "       [-0.8 , -0.59],\n",
       "       [-0.8 , -0.59],\n",
       "       [-0.8 , -0.59],\n",
       "       [-0.8 , -0.59],\n",
       "       [-0.8 , -0.59],\n",
       "       [-0.8 , -0.59],\n",
       "       [-0.8 , -0.59],\n",
       "       [-0.8 , -0.59],\n",
       "       [-0.8 , -0.59],\n",
       "       [-0.8 , -0.59],\n",
       "       [-0.8 , -0.59],\n",
       "       [-0.8 , -0.59],\n",
       "       [-0.8 , -0.59],\n",
       "       [-0.8 , -0.59],\n",
       "       [-0.8 , -0.59],\n",
       "       [-0.8 , -0.59],\n",
       "       [-0.8 , -0.59],\n",
       "       [-0.8 , -0.59],\n",
       "       [-0.8 , -0.59],\n",
       "       [-0.8 , -0.59],\n",
       "       [-0.8 , -0.59],\n",
       "       [-0.8 , -0.59],\n",
       "       [-0.8 , -0.59],\n",
       "       [-0.8 , -0.59],\n",
       "       [-0.8 , -0.59],\n",
       "       [-0.8 , -0.59],\n",
       "       [-0.8 , -0.59],\n",
       "       [-0.8 , -0.59],\n",
       "       [-0.8 , -0.59],\n",
       "       [-0.8 , -0.59],\n",
       "       [-0.8 , -0.59],\n",
       "       [-0.8 , -0.59],\n",
       "       [-0.8 , -0.59],\n",
       "       [-0.8 , -0.59],\n",
       "       [-0.8 , -0.59],\n",
       "       [-0.8 , -0.59],\n",
       "       [-0.8 , -0.59],\n",
       "       [-0.8 , -0.59],\n",
       "       [-0.8 , -0.59],\n",
       "       [-0.8 , -0.59],\n",
       "       [-0.8 , -0.59],\n",
       "       [-0.8 , -0.59],\n",
       "       [-0.8 , -0.59],\n",
       "       [-0.8 , -0.59],\n",
       "       [-0.8 , -0.59],\n",
       "       [-0.8 , -0.59],\n",
       "       [-0.8 , -0.59],\n",
       "       [-0.8 , -0.59],\n",
       "       [-0.8 , -0.59],\n",
       "       [-0.8 , -0.59],\n",
       "       [-0.8 , -0.59],\n",
       "       [-0.8 , -0.59],\n",
       "       [-0.8 , -0.59],\n",
       "       [-0.8 , -0.59],\n",
       "       [-0.8 , -0.59],\n",
       "       [-0.8 , -0.59],\n",
       "       [-0.8 , -0.59],\n",
       "       [-0.8 , -0.59],\n",
       "       [-0.8 , -0.59],\n",
       "       [-0.8 , -0.59],\n",
       "       [-0.8 , -0.59],\n",
       "       [-0.8 , -0.59],\n",
       "       [-0.8 , -0.59],\n",
       "       [-0.8 , -0.59],\n",
       "       [-0.8 , -0.59],\n",
       "       [-0.8 , -0.59],\n",
       "       [-0.8 , -0.59],\n",
       "       [-0.8 , -0.59],\n",
       "       [-0.8 , -0.59],\n",
       "       [-0.8 , -0.59],\n",
       "       [-0.8 , -0.59],\n",
       "       [-0.8 , -0.59],\n",
       "       [-0.8 , -0.59],\n",
       "       [-0.8 , -0.59],\n",
       "       [-0.8 , -0.59],\n",
       "       [-0.8 , -0.59],\n",
       "       [-0.8 , -0.59],\n",
       "       [-0.8 , -0.59],\n",
       "       [-0.8 , -0.59],\n",
       "       [-0.8 , -0.59],\n",
       "       [-0.8 , -0.59],\n",
       "       [-0.8 , -0.59],\n",
       "       [-0.8 , -0.59],\n",
       "       [-0.8 , -0.59],\n",
       "       [-0.8 , -0.59],\n",
       "       [-0.8 , -0.59],\n",
       "       [-0.8 , -0.59],\n",
       "       [-0.8 , -0.59],\n",
       "       [-0.8 , -0.59],\n",
       "       [-0.8 , -0.59],\n",
       "       [-0.8 , -0.59],\n",
       "       [-0.8 , -0.59],\n",
       "       [-0.8 , -0.59],\n",
       "       [-0.8 , -0.59],\n",
       "       [-0.02, -3.89],\n",
       "       [-0.8 , -0.59],\n",
       "       [-0.8 , -0.59],\n",
       "       [-0.8 , -0.59],\n",
       "       [-0.8 , -0.59],\n",
       "       [-0.8 , -0.59],\n",
       "       [-0.8 , -0.59],\n",
       "       [-0.8 , -0.59],\n",
       "       [-0.02, -3.89],\n",
       "       [-0.02, -3.89],\n",
       "       [-0.02, -3.89],\n",
       "       [-0.8 , -0.59],\n",
       "       [-0.02, -3.89],\n",
       "       [-0.8 , -0.59],\n",
       "       [-0.8 , -0.59],\n",
       "       [-0.8 , -0.59],\n",
       "       [-0.8 , -0.59],\n",
       "       [-0.8 , -0.59],\n",
       "       [-0.02, -3.89],\n",
       "       [-0.8 , -0.59],\n",
       "       [-0.8 , -0.59],\n",
       "       [-0.8 , -0.59],\n",
       "       [-0.8 , -0.59],\n",
       "       [-0.8 , -0.59],\n",
       "       [-0.8 , -0.59],\n",
       "       [-0.8 , -0.59],\n",
       "       [-0.8 , -0.59],\n",
       "       [-0.8 , -0.59],\n",
       "       [-0.8 , -0.59],\n",
       "       [-0.8 , -0.59],\n",
       "       [-0.02, -3.89],\n",
       "       [-0.8 , -0.59],\n",
       "       [-0.8 , -0.59],\n",
       "       [-0.02, -3.89],\n",
       "       [-0.8 , -0.59],\n",
       "       [-0.8 , -0.59],\n",
       "       [-0.8 , -0.59],\n",
       "       [-0.8 , -0.59],\n",
       "       [-0.8 , -0.59],\n",
       "       [-0.8 , -0.59],\n",
       "       [-0.8 , -0.59],\n",
       "       [-0.8 , -0.59],\n",
       "       [-0.8 , -0.59],\n",
       "       [-0.02, -3.89],\n",
       "       [-0.8 , -0.59],\n",
       "       [-0.8 , -0.59],\n",
       "       [-0.02, -3.89],\n",
       "       [-0.02, -3.89],\n",
       "       [-0.8 , -0.59],\n",
       "       [-0.8 , -0.59],\n",
       "       [-0.02, -3.89],\n",
       "       [-0.8 , -0.59],\n",
       "       [-0.8 , -0.59],\n",
       "       [-0.8 , -0.59],\n",
       "       [-0.8 , -0.59],\n",
       "       [-0.8 , -0.59],\n",
       "       [-0.8 , -0.59],\n",
       "       [-0.8 , -0.59],\n",
       "       [-0.8 , -0.59],\n",
       "       [-0.8 , -0.59],\n",
       "       [-0.02, -3.89],\n",
       "       [-0.8 , -0.59],\n",
       "       [-0.8 , -0.59],\n",
       "       [-0.8 , -0.59],\n",
       "       [-0.8 , -0.59],\n",
       "       [-0.8 , -0.59],\n",
       "       [-0.8 , -0.59],\n",
       "       [-0.02, -3.89],\n",
       "       [-0.8 , -0.59],\n",
       "       [-0.8 , -0.59],\n",
       "       [-0.8 , -0.59],\n",
       "       [-0.8 , -0.59],\n",
       "       [-0.8 , -0.59],\n",
       "       [-0.8 , -0.59],\n",
       "       [-0.8 , -0.59],\n",
       "       [-0.02, -3.89],\n",
       "       [-0.8 , -0.59],\n",
       "       [-0.8 , -0.59],\n",
       "       [-0.8 , -0.59],\n",
       "       [-0.8 , -0.59],\n",
       "       [-0.8 , -0.59],\n",
       "       [-0.8 , -0.59],\n",
       "       [-0.02, -3.89],\n",
       "       [-0.8 , -0.59],\n",
       "       [-0.02, -3.89],\n",
       "       [-0.8 , -0.59],\n",
       "       [-0.8 , -0.59],\n",
       "       [-0.8 , -0.59],\n",
       "       [-0.8 , -0.59],\n",
       "       [-0.8 , -0.59],\n",
       "       [-0.8 , -0.59],\n",
       "       [-0.8 , -0.59],\n",
       "       [-0.8 , -0.59],\n",
       "       [-0.02, -3.89],\n",
       "       [-0.8 , -0.59],\n",
       "       [-0.8 , -0.59],\n",
       "       [-0.8 , -0.59],\n",
       "       [-0.8 , -0.59],\n",
       "       [-0.8 , -0.59],\n",
       "       [-0.8 , -0.59],\n",
       "       [-0.8 , -0.59],\n",
       "       [-0.8 , -0.59],\n",
       "       [-0.02, -3.89],\n",
       "       [-0.8 , -0.59],\n",
       "       [-0.8 , -0.59],\n",
       "       [-0.8 , -0.59],\n",
       "       [-0.02, -3.89],\n",
       "       [-0.8 , -0.59],\n",
       "       [-0.8 , -0.59],\n",
       "       [-0.8 , -0.59],\n",
       "       [-0.8 , -0.59],\n",
       "       [-0.8 , -0.59],\n",
       "       [-0.8 , -0.59],\n",
       "       [-0.8 , -0.59],\n",
       "       [-0.8 , -0.59],\n",
       "       [-0.8 , -0.59],\n",
       "       [-0.8 , -0.59],\n",
       "       [-0.8 , -0.59],\n",
       "       [-0.8 , -0.59],\n",
       "       [-0.8 , -0.59],\n",
       "       [-0.8 , -0.59],\n",
       "       [-0.8 , -0.59],\n",
       "       [-0.8 , -0.59],\n",
       "       [-0.8 , -0.59],\n",
       "       [-0.8 , -0.59],\n",
       "       [-0.8 , -0.59],\n",
       "       [-0.02, -3.89],\n",
       "       [-0.8 , -0.59],\n",
       "       [-0.8 , -0.59],\n",
       "       [-0.8 , -0.59],\n",
       "       [-0.8 , -0.59],\n",
       "       [-0.8 , -0.59],\n",
       "       [-0.02, -3.89],\n",
       "       [-0.02, -3.89],\n",
       "       [-0.8 , -0.59],\n",
       "       [-0.8 , -0.59],\n",
       "       [-0.8 , -0.59],\n",
       "       [-0.8 , -0.59],\n",
       "       [-0.8 , -0.59],\n",
       "       [-0.02, -3.89],\n",
       "       [-0.8 , -0.59],\n",
       "       [-0.8 , -0.59],\n",
       "       [-0.02, -3.89],\n",
       "       [-0.8 , -0.59],\n",
       "       [-0.8 , -0.59],\n",
       "       [-0.8 , -0.59],\n",
       "       [-0.8 , -0.59],\n",
       "       [-0.02, -3.89],\n",
       "       [-0.8 , -0.59],\n",
       "       [-0.8 , -0.59],\n",
       "       [-0.8 , -0.59],\n",
       "       [-0.8 , -0.59],\n",
       "       [-0.8 , -0.59],\n",
       "       [-0.8 , -0.59],\n",
       "       [-0.8 , -0.59],\n",
       "       [-0.8 , -0.59],\n",
       "       [-0.8 , -0.59],\n",
       "       [-0.02, -3.89],\n",
       "       [-0.8 , -0.59],\n",
       "       [-0.8 , -0.59],\n",
       "       [-0.8 , -0.59],\n",
       "       [-0.8 , -0.59],\n",
       "       [-0.02, -3.89],\n",
       "       [-0.8 , -0.59],\n",
       "       [-0.8 , -0.59],\n",
       "       [-0.02, -3.89],\n",
       "       [-0.8 , -0.59],\n",
       "       [-0.8 , -0.59],\n",
       "       [-0.8 , -0.59],\n",
       "       [-0.8 , -0.59],\n",
       "       [-0.8 , -0.59],\n",
       "       [-0.8 , -0.59],\n",
       "       [-0.8 , -0.59],\n",
       "       [-0.8 , -0.59],\n",
       "       [-0.8 , -0.59],\n",
       "       [-0.8 , -0.59],\n",
       "       [-0.8 , -0.59],\n",
       "       [-0.8 , -0.59],\n",
       "       [-0.02, -3.89],\n",
       "       [-0.8 , -0.59],\n",
       "       [-0.8 , -0.59],\n",
       "       [-0.8 , -0.59],\n",
       "       [-0.8 , -0.59],\n",
       "       [-0.8 , -0.59],\n",
       "       [-0.8 , -0.59],\n",
       "       [-0.8 , -0.59],\n",
       "       [-0.8 , -0.59],\n",
       "       [-0.8 , -0.59],\n",
       "       [-0.8 , -0.59],\n",
       "       [-0.8 , -0.59],\n",
       "       [-0.8 , -0.59],\n",
       "       [-0.8 , -0.59],\n",
       "       [-0.8 , -0.59],\n",
       "       [-0.8 , -0.59],\n",
       "       [-0.8 , -0.59],\n",
       "       [-0.8 , -0.59],\n",
       "       [-0.8 , -0.59],\n",
       "       [-0.8 , -0.59],\n",
       "       [-0.8 , -0.59],\n",
       "       [-0.8 , -0.59],\n",
       "       [-0.8 , -0.59],\n",
       "       [-0.8 , -0.59],\n",
       "       [-0.8 , -0.59],\n",
       "       [-0.8 , -0.59],\n",
       "       [-0.8 , -0.59],\n",
       "       [-0.02, -3.89],\n",
       "       [-0.8 , -0.59],\n",
       "       [-0.02, -3.89],\n",
       "       [-0.8 , -0.59],\n",
       "       [-0.8 , -0.59],\n",
       "       [-0.8 , -0.59],\n",
       "       [-0.02, -3.89],\n",
       "       [-0.8 , -0.59],\n",
       "       [-0.02, -3.89],\n",
       "       [-0.8 , -0.59],\n",
       "       [-0.8 , -0.59],\n",
       "       [-0.8 , -0.59],\n",
       "       [-0.8 , -0.59],\n",
       "       [-0.8 , -0.59],\n",
       "       [-0.8 , -0.59],\n",
       "       [-0.02, -3.89],\n",
       "       [-0.8 , -0.59],\n",
       "       [-0.8 , -0.59],\n",
       "       [-0.02, -3.89],\n",
       "       [-0.8 , -0.59],\n",
       "       [-0.8 , -0.59],\n",
       "       [-0.8 , -0.59],\n",
       "       [-0.8 , -0.59],\n",
       "       [-0.02, -3.89],\n",
       "       [-0.8 , -0.59],\n",
       "       [-0.8 , -0.59],\n",
       "       [-0.8 , -0.59],\n",
       "       [-0.02, -3.89],\n"
      ]
     },
     "execution_count": 100,
     "metadata": {},
     "output_type": "execute_result"
    },
    {
     "data": {
      "text/html": [
       "<b>limit_output extension: Maximum message size of 10000 exceeded with 11518 characters</b>"
      ]
     },
     "metadata": {},
     "output_type": "display_data"
    }
   ],
   "source": [
    "def predict_proba_dt(self, X, check_input=True):\n",
    "    X = self._validate_X_predict(X, check_input)\n",
    "    # returns the leaf node distribution of classes\n",
    "    proba = self.tree_.predict(X)\n",
    "\n",
    "    print('self.n_outputs_',self.n_outputs_)\n",
    "    if self.n_outputs_ == 1:\n",
    "        # normlize so that the sum along rows == 1\n",
    "        proba = proba[:, :self.n_classes_]\n",
    "        normalizer = proba.sum(axis=1)[:, np.newaxis]\n",
    "        normalizer[normalizer == 0.0] = 1.0\n",
    "        proba /= normalizer\n",
    "\n",
    "        return proba\n",
    "\n",
    "    else:\n",
    "        all_proba = []\n",
    "\n",
    "        for k in range(self.n_outputs_):\n",
    "            proba_k = proba[:, k, :self.n_classes_[k]]\n",
    "            normalizer = proba_k.sum(axis=1)[:, np.newaxis]\n",
    "            normalizer[normalizer == 0.0] = 1.0\n",
    "            proba_k /= normalizer\n",
    "            all_proba.append(proba_k)\n",
    "\n",
    "        return all_proba\n",
    "#predict_proba_dt(bdt_est_0, X)\n",
    "np.log(predict_proba_dt(bdt_est_0, X))"
   ]
  },
  {
   "cell_type": "code",
   "execution_count": 105,
   "metadata": {
    "ExecuteTime": {
     "end_time": "2017-06-21T17:55:54.000752Z",
     "start_time": "2017-06-21T17:55:53.971671Z"
    }
   },
   "outputs": [
    {
     "data": {
      "text/plain": [
       "array([[-0.8 , -0.59],\n",
       "       [-0.8 , -0.59],\n",
       "       [-0.8 , -0.59],\n",
       "       [-0.8 , -0.59],\n",
       "       [-0.8 , -0.59],\n",
       "       [-0.8 , -0.59],\n",
       "       [-0.8 , -0.59],\n",
       "       [-0.8 , -0.59],\n",
       "       [-0.8 , -0.59],\n",
       "       [-0.8 , -0.59],\n",
       "       [-0.8 , -0.59],\n",
       "       [-0.8 , -0.59],\n",
       "       [-0.8 , -0.59],\n",
       "       [-0.8 , -0.59],\n",
       "       [-0.8 , -0.59],\n",
       "       [-0.8 , -0.59],\n",
       "       [-0.8 , -0.59],\n",
       "       [-0.8 , -0.59],\n",
       "       [-0.8 , -0.59],\n",
       "       [-0.8 , -0.59],\n",
       "       [-0.8 , -0.59],\n",
       "       [-0.8 , -0.59],\n",
       "       [-0.8 , -0.59],\n",
       "       [-0.8 , -0.59],\n",
       "       [-0.8 , -0.59],\n",
       "       [-0.8 , -0.59],\n",
       "       [-0.8 , -0.59],\n",
       "       [-0.8 , -0.59],\n",
       "       [-0.8 , -0.59],\n",
       "       [-0.8 , -0.59],\n",
       "       [-0.8 , -0.59],\n",
       "       [-0.8 , -0.59],\n",
       "       [-0.8 , -0.59],\n",
       "       [-0.8 , -0.59],\n",
       "       [-0.8 , -0.59],\n",
       "       [-0.8 , -0.59],\n",
       "       [-0.8 , -0.59],\n",
       "       [-0.8 , -0.59],\n",
       "       [-0.8 , -0.59],\n",
       "       [-0.8 , -0.59],\n",
       "       [-0.8 , -0.59],\n",
       "       [-0.8 , -0.59],\n",
       "       [-0.8 , -0.59],\n",
       "       [-0.8 , -0.59],\n",
       "       [-0.8 , -0.59],\n",
       "       [-0.8 , -0.59],\n",
       "       [-0.8 , -0.59],\n",
       "       [-0.8 , -0.59],\n",
       "       [-0.8 , -0.59],\n",
       "       [-0.8 , -0.59],\n",
       "       [-0.8 , -0.59],\n",
       "       [-0.8 , -0.59],\n",
       "       [-0.8 , -0.59],\n",
       "       [-0.8 , -0.59],\n",
       "       [-0.8 , -0.59],\n",
       "       [-0.8 , -0.59],\n",
       "       [-0.8 , -0.59],\n",
       "       [-0.8 , -0.59],\n",
       "       [-0.8 , -0.59],\n",
       "       [-0.8 , -0.59],\n",
       "       [-0.8 , -0.59],\n",
       "       [-0.8 , -0.59],\n",
       "       [-0.8 , -0.59],\n",
       "       [-0.8 , -0.59],\n",
       "       [-0.8 , -0.59],\n",
       "       [-0.8 , -0.59],\n",
       "       [-0.8 , -0.59],\n",
       "       [-0.8 , -0.59],\n",
       "       [-0.8 , -0.59],\n",
       "       [-0.8 , -0.59],\n",
       "       [-0.8 , -0.59],\n",
       "       [-0.8 , -0.59],\n",
       "       [-0.8 , -0.59],\n",
       "       [-0.8 , -0.59],\n",
       "       [-0.8 , -0.59],\n",
       "       [-0.8 , -0.59],\n",
       "       [-0.8 , -0.59],\n",
       "       [-0.8 , -0.59],\n",
       "       [-0.8 , -0.59],\n",
       "       [-0.8 , -0.59],\n",
       "       [-0.8 , -0.59],\n",
       "       [-0.8 , -0.59],\n",
       "       [-0.8 , -0.59],\n",
       "       [-0.8 , -0.59],\n",
       "       [-0.8 , -0.59],\n",
       "       [-0.8 , -0.59],\n",
       "       [-0.8 , -0.59],\n",
       "       [-0.8 , -0.59],\n",
       "       [-0.8 , -0.59],\n",
       "       [-0.8 , -0.59],\n",
       "       [-0.8 , -0.59],\n",
       "       [-0.8 , -0.59],\n",
       "       [-0.8 , -0.59],\n",
       "       [-0.8 , -0.59],\n",
       "       [-0.8 , -0.59],\n",
       "       [-0.8 , -0.59],\n",
       "       [-0.8 , -0.59],\n",
       "       [-0.8 , -0.59],\n",
       "       [-0.8 , -0.59],\n",
       "       [-0.8 , -0.59],\n",
       "       [-0.8 , -0.59],\n",
       "       [-0.8 , -0.59],\n",
       "       [-0.8 , -0.59],\n",
       "       [-0.8 , -0.59],\n",
       "       [-0.8 , -0.59],\n",
       "       [-0.8 , -0.59],\n",
       "       [-0.8 , -0.59],\n",
       "       [-0.8 , -0.59],\n",
       "       [-0.8 , -0.59],\n",
       "       [-0.8 , -0.59],\n",
       "       [-0.8 , -0.59],\n",
       "       [-0.8 , -0.59],\n",
       "       [-0.8 , -0.59],\n",
       "       [-0.8 , -0.59],\n",
       "       [-0.8 , -0.59],\n",
       "       [-0.8 , -0.59],\n",
       "       [-0.8 , -0.59],\n",
       "       [-0.8 , -0.59],\n",
       "       [-0.8 , -0.59],\n",
       "       [-0.8 , -0.59],\n",
       "       [-0.8 , -0.59],\n",
       "       [-0.8 , -0.59],\n",
       "       [-0.8 , -0.59],\n",
       "       [-0.8 , -0.59],\n",
       "       [-0.8 , -0.59],\n",
       "       [-0.8 , -0.59],\n",
       "       [-0.8 , -0.59],\n",
       "       [-0.8 , -0.59],\n",
       "       [-0.8 , -0.59],\n",
       "       [-0.8 , -0.59],\n",
       "       [-0.8 , -0.59],\n",
       "       [-0.8 , -0.59],\n",
       "       [-0.8 , -0.59],\n",
       "       [-0.8 , -0.59],\n",
       "       [-0.8 , -0.59],\n",
       "       [-0.8 , -0.59],\n",
       "       [-0.8 , -0.59],\n",
       "       [-0.8 , -0.59],\n",
       "       [-0.8 , -0.59],\n",
       "       [-0.8 , -0.59],\n",
       "       [-0.8 , -0.59],\n",
       "       [-0.8 , -0.59],\n",
       "       [-0.8 , -0.59],\n",
       "       [-0.8 , -0.59],\n",
       "       [-0.8 , -0.59],\n",
       "       [-0.8 , -0.59],\n",
       "       [-0.8 , -0.59],\n",
       "       [-0.8 , -0.59],\n",
       "       [-0.8 , -0.59],\n",
       "       [-0.8 , -0.59],\n",
       "       [-0.8 , -0.59],\n",
       "       [-0.8 , -0.59],\n",
       "       [-0.8 , -0.59],\n",
       "       [-0.8 , -0.59],\n",
       "       [-0.8 , -0.59],\n",
       "       [-0.8 , -0.59],\n",
       "       [-0.8 , -0.59],\n",
       "       [-0.8 , -0.59],\n",
       "       [-0.8 , -0.59],\n",
       "       [-0.8 , -0.59],\n",
       "       [-0.8 , -0.59],\n",
       "       [-0.8 , -0.59],\n",
       "       [-0.8 , -0.59],\n",
       "       [-0.8 , -0.59],\n",
       "       [-0.8 , -0.59],\n",
       "       [-0.8 , -0.59],\n",
       "       [-0.8 , -0.59],\n",
       "       [-0.8 , -0.59],\n",
       "       [-0.8 , -0.59],\n",
       "       [-0.8 , -0.59],\n",
       "       [-0.8 , -0.59],\n",
       "       [-0.8 , -0.59],\n",
       "       [-0.8 , -0.59],\n",
       "       [-0.8 , -0.59],\n",
       "       [-0.8 , -0.59],\n",
       "       [-0.8 , -0.59],\n",
       "       [-0.8 , -0.59],\n",
       "       [-0.8 , -0.59],\n",
       "       [-0.8 , -0.59],\n",
       "       [-0.8 , -0.59],\n",
       "       [-0.8 , -0.59],\n",
       "       [-0.8 , -0.59],\n",
       "       [-0.8 , -0.59],\n",
       "       [-0.8 , -0.59],\n",
       "       [-0.8 , -0.59],\n",
       "       [-0.8 , -0.59],\n",
       "       [-0.8 , -0.59],\n",
       "       [-0.8 , -0.59],\n",
       "       [-0.8 , -0.59],\n",
       "       [-0.8 , -0.59],\n",
       "       [-0.8 , -0.59],\n",
       "       [-0.8 , -0.59],\n",
       "       [-0.8 , -0.59],\n",
       "       [-0.8 , -0.59],\n",
       "       [-0.8 , -0.59],\n",
       "       [-0.8 , -0.59],\n",
       "       [-0.8 , -0.59],\n",
       "       [-0.8 , -0.59],\n",
       "       [-0.8 , -0.59],\n",
       "       [-0.8 , -0.59],\n",
       "       [-0.8 , -0.59],\n",
       "       [-0.02, -3.89],\n",
       "       [-0.8 , -0.59],\n",
       "       [-0.8 , -0.59],\n",
       "       [-0.8 , -0.59],\n",
       "       [-0.8 , -0.59],\n",
       "       [-0.8 , -0.59],\n",
       "       [-0.8 , -0.59],\n",
       "       [-0.8 , -0.59],\n",
       "       [-0.02, -3.89],\n",
       "       [-0.02, -3.89],\n",
       "       [-0.02, -3.89],\n",
       "       [-0.8 , -0.59],\n",
       "       [-0.02, -3.89],\n",
       "       [-0.8 , -0.59],\n",
       "       [-0.8 , -0.59],\n",
       "       [-0.8 , -0.59],\n",
       "       [-0.8 , -0.59],\n",
       "       [-0.8 , -0.59],\n",
       "       [-0.02, -3.89],\n",
       "       [-0.8 , -0.59],\n",
       "       [-0.8 , -0.59],\n",
       "       [-0.8 , -0.59],\n",
       "       [-0.8 , -0.59],\n",
       "       [-0.8 , -0.59],\n",
       "       [-0.8 , -0.59],\n",
       "       [-0.8 , -0.59],\n",
       "       [-0.8 , -0.59],\n",
       "       [-0.8 , -0.59],\n",
       "       [-0.8 , -0.59],\n",
       "       [-0.8 , -0.59],\n",
       "       [-0.02, -3.89],\n",
       "       [-0.8 , -0.59],\n",
       "       [-0.8 , -0.59],\n",
       "       [-0.02, -3.89],\n",
       "       [-0.8 , -0.59],\n",
       "       [-0.8 , -0.59],\n",
       "       [-0.8 , -0.59],\n",
       "       [-0.8 , -0.59],\n",
       "       [-0.8 , -0.59],\n",
       "       [-0.8 , -0.59],\n",
       "       [-0.8 , -0.59],\n",
       "       [-0.8 , -0.59],\n",
       "       [-0.8 , -0.59],\n",
       "       [-0.02, -3.89],\n",
       "       [-0.8 , -0.59],\n",
       "       [-0.8 , -0.59],\n",
       "       [-0.02, -3.89],\n",
       "       [-0.02, -3.89],\n",
       "       [-0.8 , -0.59],\n",
       "       [-0.8 , -0.59],\n",
       "       [-0.02, -3.89],\n",
       "       [-0.8 , -0.59],\n",
       "       [-0.8 , -0.59],\n",
       "       [-0.8 , -0.59],\n",
       "       [-0.8 , -0.59],\n",
       "       [-0.8 , -0.59],\n",
       "       [-0.8 , -0.59],\n",
       "       [-0.8 , -0.59],\n",
       "       [-0.8 , -0.59],\n",
       "       [-0.8 , -0.59],\n",
       "       [-0.02, -3.89],\n",
       "       [-0.8 , -0.59],\n",
       "       [-0.8 , -0.59],\n",
       "       [-0.8 , -0.59],\n",
       "       [-0.8 , -0.59],\n",
       "       [-0.8 , -0.59],\n",
       "       [-0.8 , -0.59],\n",
       "       [-0.02, -3.89],\n",
       "       [-0.8 , -0.59],\n",
       "       [-0.8 , -0.59],\n",
       "       [-0.8 , -0.59],\n",
       "       [-0.8 , -0.59],\n",
       "       [-0.8 , -0.59],\n",
       "       [-0.8 , -0.59],\n",
       "       [-0.8 , -0.59],\n",
       "       [-0.02, -3.89],\n",
       "       [-0.8 , -0.59],\n",
       "       [-0.8 , -0.59],\n",
       "       [-0.8 , -0.59],\n",
       "       [-0.8 , -0.59],\n",
       "       [-0.8 , -0.59],\n",
       "       [-0.8 , -0.59],\n",
       "       [-0.02, -3.89],\n",
       "       [-0.8 , -0.59],\n",
       "       [-0.02, -3.89],\n",
       "       [-0.8 , -0.59],\n",
       "       [-0.8 , -0.59],\n",
       "       [-0.8 , -0.59],\n",
       "       [-0.8 , -0.59],\n",
       "       [-0.8 , -0.59],\n",
       "       [-0.8 , -0.59],\n",
       "       [-0.8 , -0.59],\n",
       "       [-0.8 , -0.59],\n",
       "       [-0.02, -3.89],\n",
       "       [-0.8 , -0.59],\n",
       "       [-0.8 , -0.59],\n",
       "       [-0.8 , -0.59],\n",
       "       [-0.8 , -0.59],\n",
       "       [-0.8 , -0.59],\n",
       "       [-0.8 , -0.59],\n",
       "       [-0.8 , -0.59],\n",
       "       [-0.8 , -0.59],\n",
       "       [-0.02, -3.89],\n",
       "       [-0.8 , -0.59],\n",
       "       [-0.8 , -0.59],\n",
       "       [-0.8 , -0.59],\n",
       "       [-0.02, -3.89],\n",
       "       [-0.8 , -0.59],\n",
       "       [-0.8 , -0.59],\n",
       "       [-0.8 , -0.59],\n",
       "       [-0.8 , -0.59],\n",
       "       [-0.8 , -0.59],\n",
       "       [-0.8 , -0.59],\n",
       "       [-0.8 , -0.59],\n",
       "       [-0.8 , -0.59],\n",
       "       [-0.8 , -0.59],\n",
       "       [-0.8 , -0.59],\n",
       "       [-0.8 , -0.59],\n",
       "       [-0.8 , -0.59],\n",
       "       [-0.8 , -0.59],\n",
       "       [-0.8 , -0.59],\n",
       "       [-0.8 , -0.59],\n",
       "       [-0.8 , -0.59],\n",
       "       [-0.8 , -0.59],\n",
       "       [-0.8 , -0.59],\n",
       "       [-0.8 , -0.59],\n",
       "       [-0.02, -3.89],\n",
       "       [-0.8 , -0.59],\n",
       "       [-0.8 , -0.59],\n",
       "       [-0.8 , -0.59],\n",
       "       [-0.8 , -0.59],\n",
       "       [-0.8 , -0.59],\n",
       "       [-0.02, -3.89],\n",
       "       [-0.02, -3.89],\n",
       "       [-0.8 , -0.59],\n",
       "       [-0.8 , -0.59],\n",
       "       [-0.8 , -0.59],\n",
       "       [-0.8 , -0.59],\n",
       "       [-0.8 , -0.59],\n",
       "       [-0.02, -3.89],\n",
       "       [-0.8 , -0.59],\n",
       "       [-0.8 , -0.59],\n",
       "       [-0.02, -3.89],\n",
       "       [-0.8 , -0.59],\n",
       "       [-0.8 , -0.59],\n",
       "       [-0.8 , -0.59],\n",
       "       [-0.8 , -0.59],\n",
       "       [-0.02, -3.89],\n",
       "       [-0.8 , -0.59],\n",
       "       [-0.8 , -0.59],\n",
       "       [-0.8 , -0.59],\n",
       "       [-0.8 , -0.59],\n",
       "       [-0.8 , -0.59],\n",
       "       [-0.8 , -0.59],\n",
       "       [-0.8 , -0.59],\n",
       "       [-0.8 , -0.59],\n",
       "       [-0.8 , -0.59],\n",
       "       [-0.02, -3.89],\n",
       "       [-0.8 , -0.59],\n",
       "       [-0.8 , -0.59],\n",
       "       [-0.8 , -0.59],\n",
       "       [-0.8 , -0.59],\n",
       "       [-0.02, -3.89],\n",
       "       [-0.8 , -0.59],\n",
       "       [-0.8 , -0.59],\n",
       "       [-0.02, -3.89],\n",
       "       [-0.8 , -0.59],\n",
       "       [-0.8 , -0.59],\n",
       "       [-0.8 , -0.59],\n",
       "       [-0.8 , -0.59],\n",
       "       [-0.8 , -0.59],\n",
       "       [-0.8 , -0.59],\n",
       "       [-0.8 , -0.59],\n",
       "       [-0.8 , -0.59],\n",
       "       [-0.8 , -0.59],\n",
       "       [-0.8 , -0.59],\n",
       "       [-0.8 , -0.59],\n",
       "       [-0.8 , -0.59],\n",
       "       [-0.02, -3.89],\n",
       "       [-0.8 , -0.59],\n",
       "       [-0.8 , -0.59],\n",
       "       [-0.8 , -0.59],\n",
       "       [-0.8 , -0.59],\n",
       "       [-0.8 , -0.59],\n",
       "       [-0.8 , -0.59],\n",
       "       [-0.8 , -0.59],\n",
       "       [-0.8 , -0.59],\n",
       "       [-0.8 , -0.59],\n",
       "       [-0.8 , -0.59],\n",
       "       [-0.8 , -0.59],\n",
       "       [-0.8 , -0.59],\n",
       "       [-0.8 , -0.59],\n",
       "       [-0.8 , -0.59],\n",
       "       [-0.8 , -0.59],\n",
       "       [-0.8 , -0.59],\n",
       "       [-0.8 , -0.59],\n",
       "       [-0.8 , -0.59],\n",
       "       [-0.8 , -0.59],\n",
       "       [-0.8 , -0.59],\n",
       "       [-0.8 , -0.59],\n",
       "       [-0.8 , -0.59],\n",
       "       [-0.8 , -0.59],\n",
       "       [-0.8 , -0.59],\n",
       "       [-0.8 , -0.59],\n",
       "       [-0.8 , -0.59],\n",
       "       [-0.02, -3.89],\n",
       "       [-0.8 , -0.59],\n",
       "       [-0.02, -3.89],\n",
       "       [-0.8 , -0.59],\n",
       "       [-0.8 , -0.59],\n",
       "       [-0.8 , -0.59],\n",
       "       [-0.02, -3.89],\n",
       "       [-0.8 , -0.59],\n",
       "       [-0.02, -3.89],\n",
       "       [-0.8 , -0.59],\n",
       "       [-0.8 , -0.59],\n",
       "       [-0.8 , -0.59],\n",
       "       [-0.8 , -0.59],\n",
       "       [-0.8 , -0.59],\n",
       "       [-0.8 , -0.59],\n",
       "       [-0.02, -3.89],\n",
       "       [-0.8 , -0.59],\n",
       "       [-0.8 , -0.59],\n",
       "       [-0.02, -3.89],\n",
       "       [-0.8 , -0.59],\n",
       "       [-0.8 , -0.59],\n",
       "       [-0.8 , -0.59],\n",
       "       [-0.8 , -0.59],\n",
       "       [-0.02, -3.89],\n",
       "       [-0.8 , -0.59],\n",
       "       [-0.8 , -0.59],\n",
       "       [-0.8 , -0.59],\n",
       "       [-0.02, -3.89],\n",
       "       [-0.8 , -0."
      ]
     },
     "execution_count": 105,
     "metadata": {},
     "output_type": "execute_result"
    },
    {
     "data": {
      "text/html": [
       "<b>limit_output extension: Maximum message size of 10000 exceeded with 11500 characters</b>"
      ]
     },
     "metadata": {},
     "output_type": "display_data"
    }
   ],
   "source": [
    "_samme_proba(bdt_est_0,2,X)"
   ]
  },
  {
   "cell_type": "code",
   "execution_count": 107,
   "metadata": {
    "ExecuteTime": {
     "end_time": "2017-06-21T17:58:23.691901Z",
     "start_time": "2017-06-21T17:58:23.661583Z"
    }
   },
   "outputs": [
    {
     "data": {
      "text/plain": [
       "array([[-0.1 ,  0.1 ],\n",
       "       [-0.1 ,  0.1 ],\n",
       "       [-0.1 ,  0.1 ],\n",
       "       [-0.1 ,  0.1 ],\n",
       "       [-0.1 ,  0.1 ],\n",
       "       [-0.1 ,  0.1 ],\n",
       "       [-0.1 ,  0.1 ],\n",
       "       [-0.1 ,  0.1 ],\n",
       "       [-0.1 ,  0.1 ],\n",
       "       [-0.1 ,  0.1 ],\n",
       "       [-0.1 ,  0.1 ],\n",
       "       [-0.1 ,  0.1 ],\n",
       "       [-0.1 ,  0.1 ],\n",
       "       [-0.1 ,  0.1 ],\n",
       "       [-0.1 ,  0.1 ],\n",
       "       [-0.1 ,  0.1 ],\n",
       "       [-0.1 ,  0.1 ],\n",
       "       [-0.1 ,  0.1 ],\n",
       "       [-0.1 ,  0.1 ],\n",
       "       [-0.1 ,  0.1 ],\n",
       "       [-0.1 ,  0.1 ],\n",
       "       [-0.1 ,  0.1 ],\n",
       "       [-0.1 ,  0.1 ],\n",
       "       [-0.1 ,  0.1 ],\n",
       "       [-0.1 ,  0.1 ],\n",
       "       [-0.1 ,  0.1 ],\n",
       "       [-0.1 ,  0.1 ],\n",
       "       [-0.1 ,  0.1 ],\n",
       "       [-0.1 ,  0.1 ],\n",
       "       [-0.1 ,  0.1 ],\n",
       "       [-0.1 ,  0.1 ],\n",
       "       [-0.1 ,  0.1 ],\n",
       "       [-0.1 ,  0.1 ],\n",
       "       [-0.1 ,  0.1 ],\n",
       "       [-0.1 ,  0.1 ],\n",
       "       [-0.1 ,  0.1 ],\n",
       "       [-0.1 ,  0.1 ],\n",
       "       [-0.1 ,  0.1 ],\n",
       "       [-0.1 ,  0.1 ],\n",
       "       [-0.1 ,  0.1 ],\n",
       "       [-0.1 ,  0.1 ],\n",
       "       [-0.1 ,  0.1 ],\n",
       "       [-0.1 ,  0.1 ],\n",
       "       [-0.1 ,  0.1 ],\n",
       "       [-0.1 ,  0.1 ],\n",
       "       [-0.1 ,  0.1 ],\n",
       "       [-0.1 ,  0.1 ],\n",
       "       [-0.1 ,  0.1 ],\n",
       "       [-0.1 ,  0.1 ],\n",
       "       [-0.1 ,  0.1 ],\n",
       "       [-0.1 ,  0.1 ],\n",
       "       [-0.1 ,  0.1 ],\n",
       "       [-0.1 ,  0.1 ],\n",
       "       [-0.1 ,  0.1 ],\n",
       "       [-0.1 ,  0.1 ],\n",
       "       [-0.1 ,  0.1 ],\n",
       "       [-0.1 ,  0.1 ],\n",
       "       [-0.1 ,  0.1 ],\n",
       "       [-0.1 ,  0.1 ],\n",
       "       [-0.1 ,  0.1 ],\n",
       "       [-0.1 ,  0.1 ],\n",
       "       [-0.1 ,  0.1 ],\n",
       "       [-0.1 ,  0.1 ],\n",
       "       [-0.1 ,  0.1 ],\n",
       "       [-0.1 ,  0.1 ],\n",
       "       [-0.1 ,  0.1 ],\n",
       "       [-0.1 ,  0.1 ],\n",
       "       [-0.1 ,  0.1 ],\n",
       "       [-0.1 ,  0.1 ],\n",
       "       [-0.1 ,  0.1 ],\n",
       "       [-0.1 ,  0.1 ],\n",
       "       [-0.1 ,  0.1 ],\n",
       "       [-0.1 ,  0.1 ],\n",
       "       [-0.1 ,  0.1 ],\n",
       "       [-0.1 ,  0.1 ],\n",
       "       [-0.1 ,  0.1 ],\n",
       "       [-0.1 ,  0.1 ],\n",
       "       [-0.1 ,  0.1 ],\n",
       "       [-0.1 ,  0.1 ],\n",
       "       [-0.1 ,  0.1 ],\n",
       "       [-0.1 ,  0.1 ],\n",
       "       [-0.1 ,  0.1 ],\n",
       "       [-0.1 ,  0.1 ],\n",
       "       [-0.1 ,  0.1 ],\n",
       "       [-0.1 ,  0.1 ],\n",
       "       [-0.1 ,  0.1 ],\n",
       "       [-0.1 ,  0.1 ],\n",
       "       [-0.1 ,  0.1 ],\n",
       "       [-0.1 ,  0.1 ],\n",
       "       [-0.1 ,  0.1 ],\n",
       "       [-0.1 ,  0.1 ],\n",
       "       [-0.1 ,  0.1 ],\n",
       "       [-0.1 ,  0.1 ],\n",
       "       [-0.1 ,  0.1 ],\n",
       "       [-0.1 ,  0.1 ],\n",
       "       [-0.1 ,  0.1 ],\n",
       "       [-0.1 ,  0.1 ],\n",
       "       [-0.1 ,  0.1 ],\n",
       "       [-0.1 ,  0.1 ],\n",
       "       [-0.1 ,  0.1 ],\n",
       "       [-0.1 ,  0.1 ],\n",
       "       [-0.1 ,  0.1 ],\n",
       "       [-0.1 ,  0.1 ],\n",
       "       [-0.1 ,  0.1 ],\n",
       "       [-0.1 ,  0.1 ],\n",
       "       [-0.1 ,  0.1 ],\n",
       "       [-0.1 ,  0.1 ],\n",
       "       [-0.1 ,  0.1 ],\n",
       "       [-0.1 ,  0.1 ],\n",
       "       [-0.1 ,  0.1 ],\n",
       "       [-0.1 ,  0.1 ],\n",
       "       [-0.1 ,  0.1 ],\n",
       "       [-0.1 ,  0.1 ],\n",
       "       [-0.1 ,  0.1 ],\n",
       "       [-0.1 ,  0.1 ],\n",
       "       [-0.1 ,  0.1 ],\n",
       "       [-0.1 ,  0.1 ],\n",
       "       [-0.1 ,  0.1 ],\n",
       "       [-0.1 ,  0.1 ],\n",
       "       [-0.1 ,  0.1 ],\n",
       "       [-0.1 ,  0.1 ],\n",
       "       [-0.1 ,  0.1 ],\n",
       "       [-0.1 ,  0.1 ],\n",
       "       [-0.1 ,  0.1 ],\n",
       "       [-0.1 ,  0.1 ],\n",
       "       [-0.1 ,  0.1 ],\n",
       "       [-0.1 ,  0.1 ],\n",
       "       [-0.1 ,  0.1 ],\n",
       "       [-0.1 ,  0.1 ],\n",
       "       [-0.1 ,  0.1 ],\n",
       "       [-0.1 ,  0.1 ],\n",
       "       [-0.1 ,  0.1 ],\n",
       "       [-0.1 ,  0.1 ],\n",
       "       [-0.1 ,  0.1 ],\n",
       "       [-0.1 ,  0.1 ],\n",
       "       [-0.1 ,  0.1 ],\n",
       "       [-0.1 ,  0.1 ],\n",
       "       [-0.1 ,  0.1 ],\n",
       "       [-0.1 ,  0.1 ],\n",
       "       [-0.1 ,  0.1 ],\n",
       "       [-0.1 ,  0.1 ],\n",
       "       [-0.1 ,  0.1 ],\n",
       "       [-0.1 ,  0.1 ],\n",
       "       [-0.1 ,  0.1 ],\n",
       "       [-0.1 ,  0.1 ],\n",
       "       [-0.1 ,  0.1 ],\n",
       "       [-0.1 ,  0.1 ],\n",
       "       [-0.1 ,  0.1 ],\n",
       "       [-0.1 ,  0.1 ],\n",
       "       [-0.1 ,  0.1 ],\n",
       "       [-0.1 ,  0.1 ],\n",
       "       [-0.1 ,  0.1 ],\n",
       "       [-0.1 ,  0.1 ],\n",
       "       [-0.1 ,  0.1 ],\n",
       "       [-0.1 ,  0.1 ],\n",
       "       [-0.1 ,  0.1 ],\n",
       "       [-0.1 ,  0.1 ],\n",
       "       [-0.1 ,  0.1 ],\n",
       "       [-0.1 ,  0.1 ],\n",
       "       [-0.1 ,  0.1 ],\n",
       "       [-0.1 ,  0.1 ],\n",
       "       [-0.1 ,  0.1 ],\n",
       "       [-0.1 ,  0.1 ],\n",
       "       [-0.1 ,  0.1 ],\n",
       "       [-0.1 ,  0.1 ],\n",
       "       [-0.1 ,  0.1 ],\n",
       "       [-0.1 ,  0.1 ],\n",
       "       [-0.1 ,  0.1 ],\n",
       "       [-0.1 ,  0.1 ],\n",
       "       [-0.1 ,  0.1 ],\n",
       "       [-0.1 ,  0.1 ],\n",
       "       [-0.1 ,  0.1 ],\n",
       "       [-0.1 ,  0.1 ],\n",
       "       [-0.1 ,  0.1 ],\n",
       "       [-0.1 ,  0.1 ],\n",
       "       [-0.1 ,  0.1 ],\n",
       "       [-0.1 ,  0.1 ],\n",
       "       [-0.1 ,  0.1 ],\n",
       "       [-0.1 ,  0.1 ],\n",
       "       [-0.1 ,  0.1 ],\n",
       "       [-0.1 ,  0.1 ],\n",
       "       [-0.1 ,  0.1 ],\n",
       "       [-0.1 ,  0.1 ],\n",
       "       [-0.1 ,  0.1 ],\n",
       "       [-0.1 ,  0.1 ],\n",
       "       [-0.1 ,  0.1 ],\n",
       "       [-0.1 ,  0.1 ],\n",
       "       [-0.1 ,  0.1 ],\n",
       "       [-0.1 ,  0.1 ],\n",
       "       [-0.1 ,  0.1 ],\n",
       "       [-0.1 ,  0.1 ],\n",
       "       [-0.1 ,  0.1 ],\n",
       "       [-0.1 ,  0.1 ],\n",
       "       [-0.1 ,  0.1 ],\n",
       "       [-0.1 ,  0.1 ],\n",
       "       [-0.1 ,  0.1 ],\n",
       "       [-0.1 ,  0.1 ],\n",
       "       [-0.1 ,  0.1 ],\n",
       "       [-0.1 ,  0.1 ],\n",
       "       [-0.1 ,  0.1 ],\n",
       "       [-0.1 ,  0.1 ],\n",
       "       [ 1.94, -1.94],\n",
       "       [-0.1 ,  0.1 ],\n",
       "       [-0.1 ,  0.1 ],\n",
       "       [-0.1 ,  0.1 ],\n",
       "       [-0.1 ,  0.1 ],\n",
       "       [-0.1 ,  0.1 ],\n",
       "       [-0.1 ,  0.1 ],\n",
       "       [-0.1 ,  0.1 ],\n",
       "       [ 1.94, -1.94],\n",
       "       [ 1.94, -1.94],\n",
       "       [ 1.94, -1.94],\n",
       "       [-0.1 ,  0.1 ],\n",
       "       [ 1.94, -1.94],\n",
       "       [-0.1 ,  0.1 ],\n",
       "       [-0.1 ,  0.1 ],\n",
       "       [-0.1 ,  0.1 ],\n",
       "       [-0.1 ,  0.1 ],\n",
       "       [-0.1 ,  0.1 ],\n",
       "       [ 1.94, -1.94],\n",
       "       [-0.1 ,  0.1 ],\n",
       "       [-0.1 ,  0.1 ],\n",
       "       [-0.1 ,  0.1 ],\n",
       "       [-0.1 ,  0.1 ],\n",
       "       [-0.1 ,  0.1 ],\n",
       "       [-0.1 ,  0.1 ],\n",
       "       [-0.1 ,  0.1 ],\n",
       "       [-0.1 ,  0.1 ],\n",
       "       [-0.1 ,  0.1 ],\n",
       "       [-0.1 ,  0.1 ],\n",
       "       [-0.1 ,  0.1 ],\n",
       "       [ 1.94, -1.94],\n",
       "       [-0.1 ,  0.1 ],\n",
       "       [-0.1 ,  0.1 ],\n",
       "       [ 1.94, -1.94],\n",
       "       [-0.1 ,  0.1 ],\n",
       "       [-0.1 ,  0.1 ],\n",
       "       [-0.1 ,  0.1 ],\n",
       "       [-0.1 ,  0.1 ],\n",
       "       [-0.1 ,  0.1 ],\n",
       "       [-0.1 ,  0.1 ],\n",
       "       [-0.1 ,  0.1 ],\n",
       "       [-0.1 ,  0.1 ],\n",
       "       [-0.1 ,  0.1 ],\n",
       "       [ 1.94, -1.94],\n",
       "       [-0.1 ,  0.1 ],\n",
       "       [-0.1 ,  0.1 ],\n",
       "       [ 1.94, -1.94],\n",
       "       [ 1.94, -1.94],\n",
       "       [-0.1 ,  0.1 ],\n",
       "       [-0.1 ,  0.1 ],\n",
       "       [ 1.94, -1.94],\n",
       "       [-0.1 ,  0.1 ],\n",
       "       [-0.1 ,  0.1 ],\n",
       "       [-0.1 ,  0.1 ],\n",
       "       [-0.1 ,  0.1 ],\n",
       "       [-0.1 ,  0.1 ],\n",
       "       [-0.1 ,  0.1 ],\n",
       "       [-0.1 ,  0.1 ],\n",
       "       [-0.1 ,  0.1 ],\n",
       "       [-0.1 ,  0.1 ],\n",
       "       [ 1.94, -1.94],\n",
       "       [-0.1 ,  0.1 ],\n",
       "       [-0.1 ,  0.1 ],\n",
       "       [-0.1 ,  0.1 ],\n",
       "       [-0.1 ,  0.1 ],\n",
       "       [-0.1 ,  0.1 ],\n",
       "       [-0.1 ,  0.1 ],\n",
       "       [ 1.94, -1.94],\n",
       "       [-0.1 ,  0.1 ],\n",
       "       [-0.1 ,  0.1 ],\n",
       "       [-0.1 ,  0.1 ],\n",
       "       [-0.1 ,  0.1 ],\n",
       "       [-0.1 ,  0.1 ],\n",
       "       [-0.1 ,  0.1 ],\n",
       "       [-0.1 ,  0.1 ],\n",
       "       [ 1.94, -1.94],\n",
       "       [-0.1 ,  0.1 ],\n",
       "       [-0.1 ,  0.1 ],\n",
       "       [-0.1 ,  0.1 ],\n",
       "       [-0.1 ,  0.1 ],\n",
       "       [-0.1 ,  0.1 ],\n",
       "       [-0.1 ,  0.1 ],\n",
       "       [ 1.94, -1.94],\n",
       "       [-0.1 ,  0.1 ],\n",
       "       [ 1.94, -1.94],\n",
       "       [-0.1 ,  0.1 ],\n",
       "       [-0.1 ,  0.1 ],\n",
       "       [-0.1 ,  0.1 ],\n",
       "       [-0.1 ,  0.1 ],\n",
       "       [-0.1 ,  0.1 ],\n",
       "       [-0.1 ,  0.1 ],\n",
       "       [-0.1 ,  0.1 ],\n",
       "       [-0.1 ,  0.1 ],\n",
       "       [ 1.94, -1.94],\n",
       "       [-0.1 ,  0.1 ],\n",
       "       [-0.1 ,  0.1 ],\n",
       "       [-0.1 ,  0.1 ],\n",
       "       [-0.1 ,  0.1 ],\n",
       "       [-0.1 ,  0.1 ],\n",
       "       [-0.1 ,  0.1 ],\n",
       "       [-0.1 ,  0.1 ],\n",
       "       [-0.1 ,  0.1 ],\n",
       "       [ 1.94, -1.94],\n",
       "       [-0.1 ,  0.1 ],\n",
       "       [-0.1 ,  0.1 ],\n",
       "       [-0.1 ,  0.1 ],\n",
       "       [ 1.94, -1.94],\n",
       "       [-0.1 ,  0.1 ],\n",
       "       [-0.1 ,  0.1 ],\n",
       "       [-0.1 ,  0.1 ],\n",
       "       [-0.1 ,  0.1 ],\n",
       "       [-0.1 ,  0.1 ],\n",
       "       [-0.1 ,  0.1 ],\n",
       "       [-0.1 ,  0.1 ],\n",
       "       [-0.1 ,  0.1 ],\n",
       "       [-0.1 ,  0.1 ],\n",
       "       [-0.1 ,  0.1 ],\n",
       "       [-0.1 ,  0.1 ],\n",
       "       [-0.1 ,  0.1 ],\n",
       "       [-0.1 ,  0.1 ],\n",
       "       [-0.1 ,  0.1 ],\n",
       "       [-0.1 ,  0.1 ],\n",
       "       [-0.1 ,  0.1 ],\n",
       "       [-0.1 ,  0.1 ],\n",
       "       [-0.1 ,  0.1 ],\n",
       "       [-0.1 ,  0.1 ],\n",
       "       [ 1.94, -1.94],\n",
       "       [-0.1 ,  0.1 ],\n",
       "       [-0.1 ,  0.1 ],\n",
       "       [-0.1 ,  0.1 ],\n",
       "       [-0.1 ,  0.1 ],\n",
       "       [-0.1 ,  0.1 ],\n",
       "       [ 1.94, -1.94],\n",
       "       [ 1.94, -1.94],\n",
       "       [-0.1 ,  0.1 ],\n",
       "       [-0.1 ,  0.1 ],\n",
       "       [-0.1 ,  0.1 ],\n",
       "       [-0.1 ,  0.1 ],\n",
       "       [-0.1 ,  0.1 ],\n",
       "       [ 1.94, -1.94],\n",
       "       [-0.1 ,  0.1 ],\n",
       "       [-0.1 ,  0.1 ],\n",
       "       [ 1.94, -1.94],\n",
       "       [-0.1 ,  0.1 ],\n",
       "       [-0.1 ,  0.1 ],\n",
       "       [-0.1 ,  0.1 ],\n",
       "       [-0.1 ,  0.1 ],\n",
       "       [ 1.94, -1.94],\n",
       "       [-0.1 ,  0.1 ],\n",
       "       [-0.1 ,  0.1 ],\n",
       "       [-0.1 ,  0.1 ],\n",
       "       [-0.1 ,  0.1 ],\n",
       "       [-0.1 ,  0.1 ],\n",
       "       [-0.1 ,  0.1 ],\n",
       "       [-0.1 ,  0.1 ],\n",
       "       [-0.1 ,  0.1 ],\n",
       "       [-0.1 ,  0.1 ],\n",
       "       [ 1.94, -1.94],\n",
       "       [-0.1 ,  0.1 ],\n",
       "       [-0.1 ,  0.1 ],\n",
       "       [-0.1 ,  0.1 ],\n",
       "       [-0.1 ,  0.1 ],\n",
       "       [ 1.94, -1.94],\n",
       "       [-0.1 ,  0.1 ],\n",
       "       [-0.1 ,  0.1 ],\n",
       "       [ 1.94, -1.94],\n",
       "       [-0.1 ,  0.1 ],\n",
       "       [-0.1 ,  0.1 ],\n",
       "       [-0.1 ,  0.1 ],\n",
       "       [-0.1 ,  0.1 ],\n",
       "       [-0.1 ,  0.1 ],\n",
       "       [-0.1 ,  0.1 ],\n",
       "       [-0.1 ,  0.1 ],\n",
       "       [-0.1 ,  0.1 ],\n",
       "       [-0.1 ,  0.1 ],\n",
       "       [-0.1 ,  0.1 ],\n",
       "       [-0.1 ,  0.1 ],\n",
       "       [-0.1 ,  0.1 ],\n",
       "       [ 1.94, -1.94],\n",
       "       [-0.1 ,  0.1 ],\n",
       "       [-0.1 ,  0.1 ],\n",
       "       [-0.1 ,  0.1 ],\n",
       "       [-0.1 ,  0.1 ],\n",
       "       [-0.1 ,  0.1 ],\n",
       "       [-0.1 ,  0.1 ],\n",
       "       [-0.1 ,  0.1 ],\n",
       "       [-0.1 ,  0.1 ],\n",
       "       [-0.1 ,  0.1 ],\n",
       "       [-0.1 ,  0.1 ],\n",
       "       [-0.1 ,  0.1 ],\n",
       "       [-0.1 ,  0.1 ],\n",
       "       [-0.1 ,  0.1 ],\n",
       "       [-0.1 ,  0.1 ],\n",
       "       [-0.1 ,  0.1 ],\n",
       "       [-0.1 ,  0.1 ],\n",
       "       [-0.1 ,  0.1 ],\n",
       "       [-0.1 ,  0.1 ],\n",
       "       [-0.1 ,  0.1 ],\n",
       "       [-0.1 ,  0.1 ],\n",
       "       [-0.1 ,  0.1 ],\n",
       "       [-0.1 ,  0.1 ],\n",
       "       [-0.1 ,  0.1 ],\n",
       "       [-0.1 ,  0.1 ],\n",
       "       [-0.1 ,  0.1 ],\n",
       "       [-0.1 ,  0.1 ],\n",
       "       [ 1.94, -1.94],\n",
       "       [-0.1 ,  0.1 ],\n",
       "       [ 1.94, -1.94],\n",
       "       [-0.1 ,  0.1 ],\n",
       "       [-0.1 ,  0.1 ],\n",
       "       [-0.1 ,  0.1 ],\n",
       "       [ 1.94, -1.94],\n",
       "       [-0.1 ,  0.1 ],\n",
       "       [ 1.94, -1.94],\n",
       "       [-0.1 ,  0.1 ],\n",
       "       [-0.1 ,  0.1 ],\n",
       "       [-0.1 ,  0.1 ],\n",
       "       [-0.1 ,  0.1 ],\n",
       "       [-0.1 ,  0.1 ],\n",
       "       [-0.1 ,  0.1 ],\n",
       "       [ 1.94, -1.94],\n",
       "       [-0.1 ,  0.1 ],\n",
       "       [-0.1 ,  0.1 ],\n",
       "       [ 1.94, -1.94],\n",
       "       [-0.1 ,  0.1 ],\n",
       "       [-0.1 ,  0.1 ],\n",
       "       [-0.1 ,  0.1 ],\n",
       "       [-0.1 ,  0.1 ],\n",
       "       [ 1.94, -1.94],\n",
       "       [-0.1 ,  0.1 ],\n",
       "       [-0.1 ,  0.1 ],\n",
       "       [-0.1 ,  0.1 ],\n",
       "       [ 1.94, -1.94],\n",
       "       [-0.1 ,  0."
      ]
     },
     "execution_count": 107,
     "metadata": {},
     "output_type": "execute_result"
    },
    {
     "data": {
      "text/html": [
       "<b>limit_output extension: Maximum message size of 10000 exceeded with 11500 characters</b>"
      ]
     },
     "metadata": {},
     "output_type": "display_data"
    }
   ],
   "source": [
    "_samme_proba(bdt_est_0,2,X)"
   ]
  },
  {
   "cell_type": "code",
   "execution_count": 106,
   "metadata": {
    "ExecuteTime": {
     "end_time": "2017-06-21T17:58:18.063840Z",
     "start_time": "2017-06-21T17:58:18.052911Z"
    }
   },
   "outputs": [],
   "source": [
    "def _samme_proba(estimator, n_classes, X):\n",
    "    proba = estimator.predict_proba(X)\n",
    "\n",
    "    # Displace zero probabilities so the log is defined.\n",
    "    # Also fix negative elements which may occur with\n",
    "    # negative sample weights.\n",
    "    proba[proba < np.finfo(proba.dtype).eps] = np.finfo(proba.dtype).eps\n",
    "    log_proba = np.log(proba)\n",
    "    #return log_proba\n",
    "    return (n_classes - 1) * \\\n",
    "                (log_proba - \n",
    "                 (1. / n_classes) * log_proba.sum(axis=1)[:, np.newaxis]\n",
    "                )"
   ]
  },
  {
   "cell_type": "code",
   "execution_count": 154,
   "metadata": {
    "ExecuteTime": {
     "end_time": "2017-06-22T12:40:11.275962Z",
     "start_time": "2017-06-22T12:40:11.270267Z"
    }
   },
   "outputs": [
    {
     "data": {
      "text/plain": [
       "'digraph Tree {\\nnode [shape=box, style=\"filled, rounded\", color=\"black\", fontname=helvetica] ;\\nedge [fontname=helvetica] ;\\n0 [label=<first &le; 4.3584<br/>gini = 0.5<br/>samples = 500<br/>value = [0.5, 0.5]<br/>class = absent>, fillcolor=\"#e5813900\"] ;\\n1 [label=<gini = 0.4946<br/>samples = 451<br/>value = [0.404, 0.498]<br/>class = present>, fillcolor=\"#399de530\"] ;\\n0 -> 1 [labeldistance=2.5, labelangle=45, headlabel=\"True\"] ;\\n2 [label=<gini = 0.04<br/>samples = 49<br/>value = [0.096, 0.002]<br/>class = absent>, fillcolor=\"#e58139fa\"] ;\\n0 -> 2 [labeldistance=2.5, labelangle=-45, headlabel=\"False\"] ;\\n}'"
      ]
     },
     "execution_count": 154,
     "metadata": {},
     "output_type": "execute_result"
    }
   ],
   "source": [
    "dot_data"
   ]
  },
  {
   "cell_type": "code",
   "execution_count": 155,
   "metadata": {
    "ExecuteTime": {
     "end_time": "2017-06-22T12:40:26.626134Z",
     "start_time": "2017-06-22T12:40:26.617844Z"
    }
   },
   "outputs": [
    {
     "data": {
      "text/plain": [
       "<pydotplus.graphviz.Dot at 0x1106e1f60>"
      ]
     },
     "execution_count": 155,
     "metadata": {},
     "output_type": "execute_result"
    }
   ],
   "source": [
    "graph"
   ]
  },
  {
   "cell_type": "code",
   "execution_count": 140,
   "metadata": {
    "ExecuteTime": {
     "end_time": "2017-06-21T18:38:58.571069Z",
     "start_time": "2017-06-21T18:38:58.445632Z"
    }
   },
   "outputs": [
    {
     "data": {
      "image/jpeg": "[encoded data removed]",
      "text/plain": [
       "<IPython.core.display.Image object>"
      ]
     },
     "execution_count": 140,
     "metadata": {},
     "output_type": "execute_result"
    }
   ],
   "source": [
    "dot_data = sk_tree.export_graphviz(bdt_est_0, out_file=None, \n",
    "                         feature_names=['zeroth','first'],  \n",
    "                         class_names=['absent','present'],  \n",
    "                         filled=True, rounded=True,  \n",
    "                         special_characters=True) \n",
    "graph = pydotplus.graph_from_dot_data(dot_data)  \n",
    "Image(graph.create_jpg())"
   ]
  },
  {
   "cell_type": "code",
   "execution_count": 150,
   "metadata": {
    "ExecuteTime": {
     "end_time": "2017-06-21T18:51:33.132797Z",
     "start_time": "2017-06-21T18:51:33.126643Z"
    }
   },
   "outputs": [],
   "source": [
    "np.average?"
   ]
  },
  {
   "cell_type": "code",
   "execution_count": 151,
   "metadata": {
    "ExecuteTime": {
     "end_time": "2017-06-21T18:52:14.966190Z",
     "start_time": "2017-06-21T18:52:14.947420Z"
    }
   },
   "outputs": [],
   "source": [
    "bdt._boost_real??"
   ]
  },
  {
   "cell_type": "code",
   "execution_count": 143,
   "metadata": {
    "ExecuteTime": {
     "end_time": "2017-06-21T18:49:24.034019Z",
     "start_time": "2017-06-21T18:49:24.024785Z"
    }
   },
   "outputs": [
    {
     "data": {
      "text/plain": [
       "array([ 0.41,  0.33,  0.36,  0.33,  0.39,  0.41,  0.38,  0.41,  0.45,\n",
       "        0.37,  0.46,  0.42,  0.41,  0.46,  0.41,  0.4 ,  0.47,  0.42,\n",
       "        0.48,  0.46,  0.47,  0.43,  0.45,  0.44,  0.48,  0.47,  0.46,\n",
       "        0.47,  0.46,  0.45,  0.46,  0.46,  0.49,  0.48,  0.47,  0.49,\n",
       "        0.49,  0.49,  0.48,  0.46,  0.47,  0.47,  0.47,  0.47,  0.44,\n",
       "        0.45,  0.46,  0.46,  0.46,  0.47,  0.47,  0.49,  0.49,  0.47,\n",
       "        0.46,  0.46,  0.46,  0.46,  0.46,  0.47,  0.46,  0.47,  0.46,\n",
       "        0.46,  0.46,  0.47,  0.47,  0.48,  0.47,  0.47,  0.46,  0.46,\n",
       "        0.47,  0.47,  0.47,  0.47,  0.46,  0.47,  0.5 ,  0.5 ,  0.49,\n",
       "        0.49,  0.49,  0.49,  0.47,  0.5 ,  0.49,  0.48,  0.47,  0.46,\n",
       "        0.46,  0.46,  0.48,  0.49,  0.47,  0.47,  0.47,  0.48,  0.47,\n",
       "        0.47,  0.47,  0.46,  0.46,  0.47,  0.47,  0.46,  0.47,  0.47,\n",
       "        0.47,  0.47,  0.47,  0.47,  0.47,  0.47,  0.47,  0.47,  0.48,\n",
       "        0.48,  0.47,  0.48,  0.48,  0.49,  0.5 ,  0.49,  0.49,  0.49,\n",
       "        0.48,  0.47,  0.48,  0.49,  0.48,  0.47,  0.47,  0.47,  0.46,\n",
       "        0.47,  0.47,  0.47,  0.47,  0.47,  0.47,  0.48,  0.48,  0.48,\n",
       "        0.48,  0.48,  0.48,  0.48,  0.48,  0.49,  0.5 ,  0.49,  0.48,\n",
       "        0.48,  0.48,  0.48,  0.48,  0.48,  0.49,  0.48,  0.47,  0.47,\n",
       "        0.47,  0.47,  0.47,  0.47,  0.47,  0.47,  0.47,  0.47,  0.47,\n",
       "        0.47,  0.47,  0.47,  0.47,  0.47,  0.47,  0.47,  0.47,  0.48,\n",
       "        0.49,  0.49,  0.48,  0.48,  0.48,  0.47,  0.47,  0.47,  0.48,\n",
       "        0.47,  0.47,  0.47,  0.48,  0.48,  0.47,  0.47,  0.47,  0.47,\n",
       "        0.47,  0.47])"
      ]
     },
     "execution_count": 143,
     "metadata": {},
     "output_type": "execute_result"
    }
   ],
   "source": [
    "bdt.estimator_errors_"
   ]
  },
  {
   "cell_type": "code",
   "execution_count": 141,
   "metadata": {
    "ExecuteTime": {
     "end_time": "2017-06-21T18:48:22.790796Z",
     "start_time": "2017-06-21T18:48:22.783645Z"
    }
   },
   "outputs": [
    {
     "data": {
      "text/plain": [
       "'if            first[ 1] <=   4.36: {present [0.40 0.50]} else: { absent [0.10 0.00]}'"
      ]
     },
     "execution_count": 141,
     "metadata": {},
     "output_type": "execute_result"
    }
   ],
   "source": [
    "get_stump_str(bdt_est_0.tree_, feat_cols_=['zeroth','first'], labels_=['absent','present'])"
   ]
  },
  {
   "cell_type": "code",
   "execution_count": 130,
   "metadata": {
    "ExecuteTime": {
     "end_time": "2017-06-21T18:36:18.938820Z",
     "start_time": "2017-06-21T18:36:18.920763Z"
    }
   },
   "outputs": [
    {
     "ename": "NameError",
     "evalue": "name 'pydotplus' is not defined",
     "output_type": "error",
     "traceback": [
      "\u001b[0;31m---------------------------------------------------------------------------\u001b[0m",
      "\u001b[0;31mNameError\u001b[0m                                 Traceback (most recent call last)",
      "\u001b[0;32m<ipython-input-130-bdea296931bc>\u001b[0m in \u001b[0;36m<module>\u001b[0;34m()\u001b[0m\n\u001b[1;32m      5\u001b[0m                          \u001b[0mfilled\u001b[0m\u001b[0;34m=\u001b[0m\u001b[0;32mTrue\u001b[0m\u001b[0;34m,\u001b[0m \u001b[0mrounded\u001b[0m\u001b[0;34m=\u001b[0m\u001b[0;32mTrue\u001b[0m\u001b[0;34m,\u001b[0m\u001b[0;34m\u001b[0m\u001b[0m\n\u001b[1;32m      6\u001b[0m                          special_characters=True)  \n\u001b[0;32m----> 7\u001b[0;31m \u001b[0mgraph\u001b[0m \u001b[0;34m=\u001b[0m \u001b[0mpydotplus\u001b[0m\u001b[0;34m.\u001b[0m\u001b[0mgraph_from_dot_data\u001b[0m\u001b[0;34m(\u001b[0m\u001b[0mdot_data\u001b[0m\u001b[0;34m)\u001b[0m\u001b[0;34m\u001b[0m\u001b[0m\n\u001b[0m\u001b[1;32m      8\u001b[0m \u001b[0mipython_display\u001b[0m\u001b[0;34m.\u001b[0m\u001b[0mImage\u001b[0m\u001b[0;34m(\u001b[0m\u001b[0mgraph\u001b[0m\u001b[0;34m.\u001b[0m\u001b[0mcreate_png\u001b[0m\u001b[0;34m(\u001b[0m\u001b[0;34m)\u001b[0m\u001b[0;34m)\u001b[0m\u001b[0;34m\u001b[0m\u001b[0m\n",
      "\u001b[0;31mNameError\u001b[0m: name 'pydotplus' is not defined"
     ]
    }
   ],
   "source": [
    ">>> from IPython.display import Image  \n",
    ">>> dot_data = sk_tree.export_graphviz(bdt_est_0, out_file=None, \n",
    "                         feature_names=['zeroth','first'],  \n",
    "                         class_names=['absent','present'],  \n",
    "                         filled=True, rounded=True,  \n",
    "                         special_characters=True)  \n",
    ">>> graph = pydotplus.graph_from_dot_data(dot_data)  \n",
    ">>> ipython_display.Image(graph.create_png()) "
   ]
  },
  {
   "cell_type": "code",
   "execution_count": 123,
   "metadata": {
    "ExecuteTime": {
     "end_time": "2017-06-21T18:22:42.630583Z",
     "start_time": "2017-06-21T18:22:42.381249Z"
    }
   },
   "outputs": [
    {
     "data": {
      "image/png": "[encoded data removed]",
      "text/plain": [
       "<matplotlib.figure.Figure at 0x1105c4ba8>"
      ]
     },
     "metadata": {},
     "output_type": "display_data"
    }
   ],
   "source": [
    "def plot_gini_impurity():\n",
    "    prob_a_ = np.linspace(0,1,20)\n",
    "    gini_impurity_ = 1 - prob_a_*prob_a_ - (1-prob_a_)*(1-prob_a_)\n",
    "    plt.plot(prob_a_, gini_impurity_)\n",
    "    plt.show()\n",
    "plot_gini_impurity()"
   ]
  },
  {
   "cell_type": "code",
   "execution_count": 115,
   "metadata": {
    "ExecuteTime": {
     "end_time": "2017-06-21T18:08:16.838603Z",
     "start_time": "2017-06-21T18:08:16.829969Z"
    }
   },
   "outputs": [],
   "source": [
    "bdt_est_0.feature_importances_??"
   ]
  },
  {
   "cell_type": "code",
   "execution_count": 112,
   "metadata": {
    "ExecuteTime": {
     "end_time": "2017-06-21T18:07:05.600340Z",
     "start_time": "2017-06-21T18:07:05.591361Z"
    }
   },
   "outputs": [
    {
     "data": {
      "text/plain": [
       "array([ 1.,  1.,  1.,  1.,  1.,  1.,  1.,  1.,  1.,  1.,  1.,  1.,  1.,\n",
       "        1.,  1.,  1.,  1.,  1.,  1.,  1.,  1.,  1.,  1.,  1.,  1.,  1.,\n",
       "        1.,  1.,  1.,  1.,  1.,  1.,  1.,  1.,  1.,  1.,  1.,  1.,  1.,\n",
       "        1.,  1.,  1.,  1.,  1.,  1.,  1.,  1.,  1.,  1.,  1.,  1.,  1.,\n",
       "        1.,  1.,  1.,  1.,  1.,  1.,  1.,  1.,  1.,  1.,  1.,  1.,  1.,\n",
       "        1.,  1.,  1.,  1.,  1.,  1.,  1.,  1.,  1.,  1.,  1.,  1.,  1.,\n",
       "        1.,  1.,  1.,  1.,  1.,  1.,  1.,  1.,  1.,  1.,  1.,  1.,  1.,\n",
       "        1.,  1.,  1.,  1.,  1.,  1.,  1.,  1.,  1.,  1.,  1.,  1.,  1.,\n",
       "        1.,  1.,  1.,  1.,  1.,  1.,  1.,  1.,  1.,  1.,  1.,  1.,  1.,\n",
       "        1.,  1.,  1.,  1.,  1.,  1.,  1.,  1.,  1.,  1.,  1.,  1.,  1.,\n",
       "        1.,  1.,  1.,  1.,  1.,  1.,  1.,  1.,  1.,  1.,  1.,  1.,  1.,\n",
       "        1.,  1.,  1.,  1.,  1.,  1.,  1.,  1.,  1.,  1.,  1.,  1.,  1.,\n",
       "        1.,  1.,  1.,  1.,  1.,  1.,  1.,  1.,  1.,  1.,  1.,  1.,  1.,\n",
       "        1.,  1.,  1.,  1.,  1.,  1.,  1.,  1.,  1.,  1.,  1.,  1.,  1.,\n",
       "        1.,  1.,  1.,  1.,  1.,  1.,  1.,  1.,  1.,  1.,  1.,  1.,  1.,\n",
       "        1.,  1.,  1.,  1.,  1.])"
      ]
     },
     "execution_count": 112,
     "metadata": {},
     "output_type": "execute_result"
    }
   ],
   "source": [
    "bdt.estimator_weights_"
   ]
  },
  {
   "cell_type": "code",
   "execution_count": 111,
   "metadata": {
    "ExecuteTime": {
     "end_time": "2017-06-21T18:04:21.015729Z",
     "start_time": "2017-06-21T18:04:21.009325Z"
    }
   },
   "outputs": [
    {
     "data": {
      "text/plain": [
       "200"
      ]
     },
     "execution_count": 111,
     "metadata": {},
     "output_type": "execute_result"
    }
   ],
   "source": [
    "len(bdt.estimators_)"
   ]
  },
  {
   "cell_type": "code",
   "execution_count": 60,
   "metadata": {
    "ExecuteTime": {
     "end_time": "2017-06-21T17:30:59.762204Z",
     "start_time": "2017-06-21T17:30:59.749235Z"
    }
   },
   "outputs": [],
   "source": [
    "def decision_function_bdt(bdt,X):\n",
    "    n_classes = bdt.n_classes_\n",
    "    print('n-classes:', n_classes)\n",
    "    classes = bdt.classes_[:, np.newaxis]\n",
    "    pred = sum(_samme_proba(estimator, n_classes, X) for estimator in bdt.estimators_)\n",
    "    pred /= bdt.estimator_weights_.sum()\n",
    "    if n_classes == 2:\n",
    "        pred[:, 0] *= -1\n",
    "        return pred.sum(axis=1)\n",
    "    return pred"
   ]
  },
  {
   "cell_type": "code",
   "execution_count": 61,
   "metadata": {
    "ExecuteTime": {
     "end_time": "2017-06-21T17:31:01.781228Z",
     "start_time": "2017-06-21T17:31:01.714459Z"
    }
   },
   "outputs": [
    {
     "name": "stdout",
     "output_type": "stream",
     "text": [
      "n-classes: 2\n"
     ]
    },
    {
     "data": {
      "text/plain": [
       "True"
      ]
     },
     "execution_count": 61,
     "metadata": {},
     "output_type": "execute_result"
    }
   ],
   "source": [
    "np.all(decision_function_bdt(bdt,X) == bdt.decision_function(X))"
   ]
  },
  {
   "cell_type": "code",
   "execution_count": 70,
   "metadata": {
    "ExecuteTime": {
     "end_time": "2017-06-21T17:35:40.918279Z",
     "start_time": "2017-06-21T17:35:40.910105Z"
    }
   },
   "outputs": [
    {
     "data": {
      "text/plain": [
       "'if              two[ 1] <=   4.36: {present [0.40 0.50]} else: { absent [0.10 0.00]}'"
      ]
     },
     "execution_count": 70,
     "metadata": {},
     "output_type": "execute_result"
    }
   ],
   "source": [
    "get_stump_str(bdt_est_0.tree_, feat_cols_=['one','two'], labels_=['absent','present'])"
   ]
  },
  {
   "cell_type": "code",
   "execution_count": null,
   "metadata": {},
   "outputs": [],
   "source": []
  },
  {
   "cell_type": "code",
   "execution_count": null,
   "metadata": {},
   "outputs": [],
   "source": []
  },
  {
   "cell_type": "code",
   "execution_count": null,
   "metadata": {},
   "outputs": [],
   "source": []
  },
  {
   "cell_type": "code",
   "execution_count": null,
   "metadata": {},
   "outputs": [],
   "source": []
  },
  {
   "cell_type": "code",
   "execution_count": null,
   "metadata": {},
   "outputs": [],
   "source": []
  },
  {
   "cell_type": "code",
   "execution_count": null,
   "metadata": {},
   "outputs": [],
   "source": []
  },
  {
   "cell_type": "code",
   "execution_count": null,
   "metadata": {},
   "outputs": [],
   "source": []
  }
 ],
 "metadata": {
  "hide_input": false,
  "kernelspec": {
   "display_name": "Python 3",
   "language": "python3",
   "name": "python3"
  },
  "language_info": {
   "codemirror_mode": {
    "name": "ipython",
    "version": 3
   },
   "file_extension": ".py",
   "mimetype": "text/x-python",
   "name": "python",
   "nbconvert_exporter": "python",
   "pygments_lexer": "ipython3",
   "version": "3.6.1"
  },
  "latex_envs": {
   "bibliofile": "biblio.bib",
   "cite_by": "apalike",
   "current_citInitial": 1,
   "eqLabelWithNumbers": true,
   "eqNumInitial": 0
  },
  "nav_menu": {},
  "toc": {
   "colors": {
    "hover_highlight": "#DAA520",
    "running_highlight": "#FF0000",
    "selected_highlight": "#FFD700"
   },
   "moveMenuLeft": true,
   "nav_menu": {
    "height": "12px",
    "width": "252px"
   },
   "navigate_menu": true,
   "number_sections": true,
   "sideBar": true,
   "threshold": 4,
   "toc_cell": false,
   "toc_position": {
    "height": "791px",
    "left": "0px",
    "right": "auto",
    "top": "131px",
    "width": "176px"
   },
   "toc_section_display": "block",
   "toc_window_display": true,
   "widenNotebook": false
  },
  "varInspector": {
   "cols": {
    "lenName": 16,
    "lenType": 16,
    "lenVar": 40
   },
   "kernels_config": {
    "python": {
     "delete_cmd_postfix": "",
     "delete_cmd_prefix": "del ",
     "library": "var_list.py",
     "varRefreshCmd": "print(var_dic_list())"
    },
    "r": {
     "delete_cmd_postfix": ") ",
     "delete_cmd_prefix": "rm(",
     "library": "var_list.r",
     "varRefreshCmd": "cat(var_dic_list()) "
    }
   },
   "types_to_exclude": [
    "module",
    "function",
    "builtin_function_or_method",
    "instance",
    "_Feature"
   ],
   "window_display": false
  }
 },
 "nbformat": 4,
 "nbformat_minor": 1
}
