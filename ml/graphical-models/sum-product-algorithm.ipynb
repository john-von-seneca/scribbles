{
 "cells": [
  {
   "cell_type": "code",
   "execution_count": 2,
   "metadata": {
    "collapsed": true
   },
   "outputs": [],
   "source": [
    "import math\n",
    "import scipy as sp\n",
    "import numpy as np\n",
    "import matplotlib.pyplot as plt\n",
    "%matplotlib inline\n",
    "\n",
    "# required for interactive plotting\n",
    "from __future__ import print_function\n",
    "from ipywidgets import interact, interactive, fixed\n",
    "import ipywidgets as widgets\n",
    "import numpy.polynomial as np_poly\n",
    "\n",
    "from IPython.display import Math\n",
    "from IPython.display import Latex\n",
    "from IPython.display import HTML"
   ]
  },
  {
   "cell_type": "markdown",
   "metadata": {},
   "source": [
    "initialization  \n",
    "$ \\newcommand{\\E}[1]{\\mathbb{E}\\left[#1\\right]}$  \n",
    "$ \\newcommand{\\V}[1]{\\mathbb{V}\\left[#1\\right]}$\n",
    "$ \\newcommand{\\cov}[1]{\\text{cov} \\sigma\\left[#1\\right]}$\n",
    "$ \\newcommand{\\EXP}[1]{\\exp\\left(#1\\right)}$  \n",
    "$\\newcommand{\\P}{\\mathbb{P}}$\n",
    "$\\newcommand{\\ds}{\\displaystyle}$\n",
    "$\\newcommand{\\mat}[1]{\n",
    "\\left[\n",
    "\\begin{matrix}\n",
    "#1\n",
    "\\end{matrix}\n",
    "\\right]\n",
    "}$\n",
    "$\\newcommand{\\commentgray}[1]{\\color{gray}{\\text{#1}}}$\n",
    "$\\newcommand{\\arrthree}[1]{\n",
    "\\begin{array}{rlr}\n",
    "#1\n",
    "\\end{array}\n",
    "}\n",
    "$\n",
    "\n",
    "$\n",
    "\\newcommand{\\sumnN}{\\sum_{n=1}^{N}}\n",
    "\\newcommand{\\sumkM}{\\sum_{k=1}^{M}}\n",
    "\\newcommand{\\prodnN}{\\prod_{n=1}^{N}}\n",
    "$\n",
    "$\n",
    "\\newcommand{\\sumset}[1]{\\stackrel{\\Sigma^{*}}{#1}}\n",
    "$\n",
    "$\n",
    "\\newcommand{\\chib}{\\boldsymbol{\\chi}}\n",
    "$"
   ]
  },
  {
   "cell_type": "markdown",
   "metadata": {},
   "source": [
    "$\\newcommand{\\Nl}[3]{\\mathcal{N}\\left(#1 \\mid #2, #3\\right)}$\n",
    "$\\newcommand{\\Nstdx}{\\Nl{\\mathbf{x}}{\\mathbf{\\mu}}{\\Sigma}}$\n",
    "$\\newcommand{\\ab}{\\mathbf{a}}$\n",
    "$\\newcommand{\\Ab}{\\mathbf{A}}$\n",
    "$\\newcommand{\\Abt}{\\Ab^T}$\n",
    "$\\newcommand{\\bb}{\\mathbf{b}}$\n",
    "$\\newcommand{\\Bb}{\\mathbf{B}}$\n",
    "$\\newcommand{\\Cb}{\\mathbf{C}}$\n",
    "$\\newcommand{\\Db}{\\mathbf{D}}$\n",
    "$\\newcommand{\\Lb}{\\mathbf{L}}$\n",
    "$\\newcommand{\\Lbi}{\\Lb^{-1}}$\n",
    "$\\newcommand{\\mb}{\\mathbf{m}}$\n",
    "$\\newcommand{\\Mb}{\\mathbf{M}}$\n",
    "$\\newcommand{\\Rb}{\\mathbf{R}}$\n",
    "$\\newcommand{\\ub}{\\mathbf{u}}$\n",
    "$\\newcommand{\\Xb}{\\mathbf{X}}$\n",
    "$\\newcommand{\\xb}{\\mathbf{x}}$\n",
    "$\\newcommand{\\xab}{\\mathbf{x_a}}$\n",
    "$\\newcommand{\\xabt}{\\mathbf{x_a}^T}$\n",
    "$\\newcommand{\\xbb}{\\mathbf{x_b}}$\n",
    "$\\newcommand{\\xbbt}{\\mathbf{x_b}^T}$\n",
    "$\\newcommand{\\yb}{\\mathbf{y}}$\n",
    "$\\newcommand{\\zb}{\\mathbf{z}}$\n",
    "$\\newcommand{\\Ub}{\\mathbf{U}}$\n",
    "\n",
    "$\\newcommand{\\mub}{\\pmb{\\mu}}$\n",
    "$\\newcommand{\\muab}{\\pmb{\\mu}_a}$\n",
    "$\\newcommand{\\mubb}{\\pmb{\\mu}_b}$\n",
    "$\\newcommand{\\saa}{\\Sigma_{aa}}$\n",
    "$\\newcommand{\\sab}{\\Sigma_{ab}}$\n",
    "$\\newcommand{\\sba}{\\Sigma_{ba}}$\n",
    "$\\newcommand{\\sbb}{\\Sigma_{bb}}$\n",
    "$\\newcommand{\\laa}{\\Lambda_{aa}}$\n",
    "$\\newcommand{\\laai}{\\Lambda_{aa}^{-1}}$\n",
    "$\\newcommand{\\lab}{\\Lambda_{ab}}$\n",
    "$\\newcommand{\\lba}{\\Lambda_{ba}}$\n",
    "$\\newcommand{\\lbb}{\\Lambda_{bb}}$\n",
    "$\\newcommand{\\lbbi}{\\Lambda_{bb}^{-1}}$\n",
    "$\\newcommand{\\li}{\\Lambda^{-1}}$\n",
    "$\n",
    "\\newcommand{\\etab}{\\pmb{\\eta}}\n",
    "\\newcommand{\\etat}{\\eta^T}\n",
    "\\newcommand{\\etabt}{\\etab^T}\n",
    "$\n",
    "\n",
    "$\\newcommand{\\multivarcoeff}{\\frac{1}{(2\\pi)^{D/2}}\n",
    "\\frac{1}{\\left| \\mathbf{\\Sigma}\\right|^{1/2}}}$\n",
    "$\\newcommand{\\multivarexp}[2]\n",
    "{\n",
    "\\left\\{\n",
    " -\\frac{1}{2} \n",
    " {#1}^T \n",
    " #2\n",
    " {#1}\n",
    "\\right\\}\n",
    "}$\n",
    "$\\newcommand{\\multivarexpx}[1]{\\multivarexp{#1}{\\Sigma^{-1}}}$\n",
    "$\\newcommand{\\multivarexpstd}{\\multivarexpx{(\\xb-\\mub)}}$\n",
    "$\\newcommand{\\gam}{\\operatorname{Gam}}$\n",
    "$\n",
    "\\newcommand{\\sumkMl}{\\sum_{k=1}^{M-1}}\n",
    "\\newcommand{\\sumjMl}{\\sum_{j=1}^{M-1}}\n",
    "$\n"
   ]
  },
  {
   "cell_type": "markdown",
   "metadata": {},
   "source": [
    "* We shall assume that the original graph is an undirected tree or a directed tree or polytree\n",
    "  * so that the corresponding factor graph has a tree structure.\n",
    "* We first convert the original graph into a factor graph\n",
    "  * so that we can deal with both directed and undirected models using the same framework. \n",
    "* Our goal is to exploit the structure of the graph to achieve two things\n",
    ":\n",
    "  1. to obtain an efficient, exact inference algorithm for finding marginals\n",
    "  1. sin situations where several marginals are required to allow computations to be shared efficiently."
   ]
  },
  {
   "cell_type": "markdown",
   "metadata": {},
   "source": [
    "Factor Graph expression\n",
    "$$\n",
    "p(\\xb) = \\prod_s f_s(\\xb_s)\n",
    "$$"
   ]
  },
  {
   "cell_type": "markdown",
   "metadata": {},
   "source": [
    "We begin by considering the problem of finding the marginal p(x) for particular variable node x. For the moment, we shall suppose that all of the variables are hidden"
   ]
  },
  {
   "cell_type": "markdown",
   "metadata": {},
   "source": [
    "Finding the marginal of a variable x\n",
    "$$\n",
    "p(x) = \\sum_{\\xb ~\\setminus~ x} p(\\xb)\n",
    "$$\n",
    "\n",
    "$\\xb ~\\setminus~ x$ is the set of variables in $\\xb$ except x"
   ]
  },
  {
   "cell_type": "markdown",
   "metadata": {},
   "source": [
    "The idea is to substitute for p(x) using the factor graph expression and then interchange summations and products in order to obtain an efficient algorithm. "
   ]
  },
  {
   "cell_type": "markdown",
   "metadata": {},
   "source": [
    "**Definitions**\n",
    "$$\n",
    "\\arrthree{\n",
    "\\text{ne}(x) &: \\text{set of factor nodes which are neighbors of x}\n",
    "\\\\\n",
    "X_s &: \\text{set of } \\mathbf{all} \\text{ variables in the subtree connected to x via }f_s\n",
    "\\\\\n",
    "F_s(x, X_s) &: \\text{product of all the factors associated with factor } f_s\n",
    "}\n",
    "$$"
   ]
  },
  {
   "cell_type": "markdown",
   "metadata": {},
   "source": [
    "# Marginal at x\n",
    "\n",
    "Then\n",
    "$$\n",
    "\\arrthree{\n",
    "p(x)\n",
    "&= \\ds \\sum_{\\xb ~\\setminus~ x} ~\\prod_{s ~\\in ~ne(x)} F_s(x, X_s)\n",
    "\\\\\n",
    "&= \\ds \\prod_{s ~\\in ~ne(x)} \\left[ \\sum_{X_s} F_s(x, X_s) \\right]\n",
    "\\\\\n",
    "&= \\ds \\prod_{s ~\\in ~ne(x)} \\mu_{f_s \\rightarrow x}(x)\n",
    "}\n",
    "$$\n",
    "\n",
    "This says, that the marginal probability of a node x is given by the product of messages from the factor nodes $f_s$ associated with x."
   ]
  },
  {
   "cell_type": "markdown",
   "metadata": {},
   "source": [
    "# Msg from factor to node\n",
    "\n",
    "$$\n",
    "\\mu_{f_s \\rightarrow x}(x) = \\sum_{\\{X_s\\}} F_s(x, X_s)\n",
    "$$\n",
    "* $\\sum\\limits_{\\{.\\}}$ indicates multiple summations, not just a single one.\n",
    "* This is the message from the factor node $f_s$ to the variable node x."
   ]
  },
  {
   "cell_type": "markdown",
   "metadata": {},
   "source": [
    "# Refine: msg from factor to node\n",
    "\n",
    "* Say, the factor $f_s$ is *directly* and *immediately* connected to variable nodes $X_{si} = \\{x_m\\}_{m=1}^{M}$ along with x. Here the additional suffix *i* stands for immediate\n",
    "* Please note that $X_{si} \\subseteq X_s$ (ssince the latter is the set of all the node variables under the factor s)\n",
    "\n",
    "$$\n",
    "F_s(x, X_s)\n",
    "= f_s(x, x_1, \\cdots, x_M)\n",
    "\\prod_{m ~\\in ~ne(f_s) \\setminus x} G_m(x_m, X_{sm})\n",
    "$$\n",
    "* Fret not, G would be defined soon. Hold on."
   ]
  },
  {
   "cell_type": "markdown",
   "metadata": {},
   "source": [
    "That is,\n",
    "$$\n",
    "\\arrthree{\n",
    "\\mu_{f_s \\rightarrow x}(x)\n",
    "&=\n",
    "%% line 1\n",
    "\\overbrace{\n",
    "\\sum\\limits_{x_1} \\cdots \\sum\\limits_{x_M}}^{\n",
    "\\begin{matrix}\n",
    "  \\text{summations} \\\\ \\text{for imm nbrs}\n",
    "\\end{matrix}\n",
    "}\n",
    "~~ f_s(x, x_1, \\cdots, x_M)\n",
    "\\overbrace{\n",
    "\\sum\\limits_{\\{X_s \\setminus X_{si}\\}}}^{\n",
    "\\begin{matrix}\n",
    "  \\text{terms in }X_s \\\\ \\text{other than } \\\\ \\text{imm nbrs}\n",
    "\\end{matrix}\n",
    "}\n",
    "\\left[\n",
    "  \\prod\\limits_{m \\in ne(f_s) \\setminus x}\n",
    "  G_m(x_m, X_{sm})\n",
    "\\right]\n",
    "%% line 2\n",
    "\\\\ &=\n",
    "\\sum\\limits_{\\{X_{si}\\}}\n",
    "f_s(x, x_1, \\cdots, x_M)\n",
    "\\prod\\limits_{m ~\\in ~ne(f_s) ~\\setminus ~x}\n",
    "\\left[\n",
    "\\sum\\limits_{\\{X_{sm}\\}}\n",
    "G_m(x_m, X_{sm})\n",
    "\\right]\n",
    "\\\\ &=\n",
    "%% line 3\n",
    "\\sum\\limits_{\\{X_{si}\\}}\n",
    "f_s(x, x_1, \\cdots, x_M)\n",
    "\\prod\\limits_{m ~\\in ~ne(f_s) ~\\setminus ~x}\n",
    "\\mu_{x_m \\rightarrow f_s}(x_m)\n",
    "}\n",
    "$$"
   ]
  },
  {
   "cell_type": "markdown",
   "metadata": {},
   "source": [
    "* Here $\\{X_{sm}\\}$ refers to the variable nodes present in the subtree under the variable node $x_m$, which in turn is associated with the factor node $f_s$\n",
    "* This says that to evaluate the message sent from the factor node $f_s$ to x along the link connecting them, we have to\n",
    "  1. take the product of the incoming messages $\\mu_{[.] \\rightarrow f_s}$\n",
    "  1. multiply by the factor associated with the factor node $f_s$\n",
    "  1. marginalize over all the variables immediately connected to the factor node $f_s$"
   ]
  },
  {
   "cell_type": "markdown",
   "metadata": {},
   "source": [
    "We have therefore introduced two distinct kinds of message,\n",
    "* those that go from factor nodes to variable nodes denoted $\\mu_{f \\rightarrow x}(x)$\n",
    "* those that go from variable nodes to factor nodes denoted $\\mu_{x \\rightarrow f}(x)$."
   ]
  },
  {
   "cell_type": "markdown",
   "metadata": {},
   "source": [
    "It is important to note that a factor node can send a message to a variable node once it has received incoming messages from all other neighbouring variable nodes."
   ]
  },
  {
   "cell_type": "markdown",
   "metadata": {},
   "source": [
    "* Say $x_m$ is one of the variable nodes connected to factor node $f_s$\n",
    "* Let $ne(x_m)$ be the set of factor nodes connected directly to $x_m$\n",
    "\n",
    "Then\n",
    "$$\n",
    "G_m(x_m, X_{sm})\n",
    "=\n",
    "\\prod\\limits_{l ~\\in ~ne(x_m) ~\\setminus ~f_s} F_l(x_m, X_{ml})\n",
    "$$\n",
    "\n",
    "* The factors $F_l(x_m, X_{ml})$ denote the subtree of the original graph we began with.\n",
    "* Also, the form of the equation for G(.) is the same as that of p(x)"
   ]
  },
  {
   "cell_type": "markdown",
   "metadata": {},
   "source": [
    "Thus,  \n",
    "$$\n",
    "\\arrthree{\n",
    "\\mu_{x_m \\rightarrow f_s}(x_m)\n",
    "&=\n",
    "\\sum\\limits_{\\{X_{sm}\\}}\n",
    "G_m(x_m, X_{sm})\n",
    "&\n",
    "\\commentgray{$\\{X_{sm}\\}$: \n",
    "$\\begin{matrix}\n",
    "    \\text{variable nodes under} \\\\ \\text{the subtree rooted at } x_m\n",
    "\\end{matrix}$\n",
    "}\n",
    "\\\\ &=\n",
    "\\sum\\limits_{\\{X_{sm}\\}}\n",
    "\\left[\n",
    "  \\prod\\limits_{\\ell ~\\in ~ne(x_m) ~\\setminus ~f_s} F_l(x_m, X_{ml})\n",
    "\\right]\n",
    "&\n",
    "\\commentgray{$\\ell$: $\\begin{matrix}\n",
    "\\text{set of factors} \\\\ \n",
    "\\text{under } x_m \\text{excluding } f_s\n",
    "\\end{matrix}$}\n",
    "\\\\ &=\n",
    "\\prod\\limits_{l ~\\in ~ne(x_m) ~\\setminus ~f_s}\n",
    "\\left[\n",
    "  \\sum\\limits_{\\{X_{ml}\\}}\n",
    "  F_l(x_m, X_{ml})\n",
    "\\right]\n",
    "&\n",
    "\\commentgray{$\\{X_{ml}\\}$: $\n",
    "\\begin{matrix}\n",
    "    \\text{set of variable nodes} \\\\ \\text{under the factor }\\ell\n",
    "\\end{matrix} \n",
    "$}\n",
    "\\\\ &=\n",
    "\\prod\\limits_{l ~\\in ~ne(x_m) ~\\setminus ~f_s}\n",
    "\\mu_{f_l \\rightarrow x_m} (x_m)\n",
    "}\n",
    "$$"
   ]
  },
  {
   "cell_type": "markdown",
   "metadata": {},
   "source": [
    "* that is, to evaluate the message sent by a variable node to an adjacent factor node, take the product of the incoming messages across all other links.\n",
    "* Any variable node that has only two neighbours performs no computation but simply passes messages through unchanged.\n",
    "* A variable node can send a message to a factor node once it has received incoming messages from all other neighbouring factor nodes."
   ]
  },
  {
   "cell_type": "markdown",
   "metadata": {},
   "source": [
    "# Putting it all together\n",
    "\n",
    "* Our original goal was to calculate the marginal for variable node x\n",
    "* This marginal is given by the product of incoming messages along all of the links arriving at that node.\n",
    "  * Each of these messages can be computed recursively in terms of other messages."
   ]
  },
  {
   "cell_type": "markdown",
   "metadata": {},
   "source": [
    "* In order to start this recursion, we can view the node x as the root of the tree and begin at the leaf nodes.\n",
    "* From the definition of $\\mu_{x_m \\rightarrow f_s}(x_m)$, we see that if a leaf node is\n",
    "  * a variable node: the message that it sends along its one and only link is given by $\\mu_{x \\rightarrow f}(x) = 1$, as illustrated in Figure 8.49(a). \n",
    "  * factor node: from $\\mu_{f_s \\rightarrow x}(x)$ that the message sent should take the form $\\mu_{f \\rightarrow x}(x) = f(x)$, as illustrated in Figure 8.49(b)"
   ]
  },
  {
   "cell_type": "markdown",
   "metadata": {},
   "source": [
    "* Now suppose we wish to find the marginals for every variable node in the graph.\n",
    "\n",
    "**Naive way**\n",
    "* This could be done by simply running the above algorithm afresh for each such node.\n",
    "* However, this would be very wasteful as many of the required computations would be repeated. \n",
    "\n",
    "**Better way**\n",
    "* We can obtain a much more efficient procedure by ‘overlaying’ these multiple message passing algorithms to obtain the general sum-product algorithm as follows.\n",
    "* Arbitrarily pick any (variable or factor) node and designate it as the root.\n",
    "* Propagate messages from the leaves to the root as before.\n",
    "* At this point, the root node will have received messages from all of its neighbours. It can therefore send out messages to all of its neighbours.\n",
    "* These in turn will then have received messages from all of their neighbours and so can send out messages along the links going away from the root, and so on. \n",
    "* In this way, messages are passed outwards from the root all the way to the leaves.\n",
    "* By now, a message will have passed in both directions across every link in the graph, and every node will have received a message from all of its neighbours.\n",
    "* Again a simple inductive argument can be used to verify the validity of this message passing protocol.\n",
    "  * Every variable node will have received messages from all of its neighbours\n",
    "  * So we can readily calculate the marginal distribution for every variable in the graph.\n",
    "* The number of messages that have to be computed is given by twice the number of links in the graph and so involves only twice the computation involved in finding a single marginal. \n",
    "* By comparison, if we had run the sum-product algorithm separately for each node, the amount of computation would grow quadratically with the size of the graph.\n",
    "* Note that this algorithm is in fact independent of which node was designated as the root,"
   ]
  },
  {
   "cell_type": "markdown",
   "metadata": {},
   "source": []
  },
  {
   "cell_type": "markdown",
   "metadata": {},
   "source": []
  },
  {
   "cell_type": "markdown",
   "metadata": {},
   "source": []
  },
  {
   "cell_type": "markdown",
   "metadata": {},
   "source": []
  },
  {
   "cell_type": "markdown",
   "metadata": {},
   "source": []
  }
 ],
 "metadata": {
  "hide_input": false,
  "kernelspec": {
   "display_name": "Python 3",
   "language": "python3",
   "name": "python3"
  },
  "language_info": {
   "codemirror_mode": {
    "name": "ipython",
    "version": 3
   },
   "file_extension": ".py",
   "mimetype": "text/x-python",
   "name": "python",
   "nbconvert_exporter": "python",
   "pygments_lexer": "ipython3",
   "version": "3.5.1"
  },
  "latex_envs": {
   "bibliofile": "biblio.bib",
   "cite_by": "apalike",
   "current_citInitial": 1,
   "eqLabelWithNumbers": true,
   "eqNumInitial": 0
  }
 },
 "nbformat": 4,
 "nbformat_minor": 0
}
