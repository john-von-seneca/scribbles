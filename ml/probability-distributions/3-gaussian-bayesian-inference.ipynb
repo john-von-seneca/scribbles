{
 "cells": [
  {
   "cell_type": "code",
   "execution_count": 2,
   "metadata": {
    "collapsed": false
   },
   "outputs": [],
   "source": [
    "import numpy as np\n",
    "from matplotlib import pyplot as plt\n",
    "%matplotlib inline\n",
    "\n",
    "import random as rnd\n",
    "import os\n",
    "import math\n",
    "\n",
    "# required for interactive plotting\n",
    "from __future__ import print_function\n",
    "from ipywidgets import interact, interactive, fixed\n",
    "import ipywidgets as widgets\n",
    "import numpy.polynomial as np_poly\n",
    "\n",
    "from IPython.display import Math\n",
    "from IPython.display import Latex\n",
    "from IPython.display import HTML\n",
    "\n",
    "from pprint import pprint\n",
    "import functools as ft"
   ]
  },
  {
   "cell_type": "markdown",
   "metadata": {},
   "source": [
    "initialization  \n",
    "$\n",
    "\\newcommand{\\E}[1]{\\mathbb{E}\\left[ #1 \\right]}\n",
    "\\newcommand{\\V}[1]{\\mathbb{V}\\left[#1\\right]}\n",
    "\\newcommand{\\H}[1]{\\mathbb{H}\\left[#1\\right]}\n",
    "\\newcommand{\\cov}[1]{\\text{cov} \\sigma\\left[#1\\right]}\n",
    "\\newcommand{\\EXP}[1]{\\exp\\left\\{#1\\right\\}} \n",
    "\\newcommand{\\LN}[1]{\\ln\\left\\{#1\\right\\}} \n",
    "\\newcommand{\\P}{\\mathbb{P}}\n",
    "\\newcommand{\\underl}[1]{\\text{$\\underline{#1}$}}\n",
    "\\newcommand{\\fracone}[1]{\\frac{1}{#1}}\n",
    "\\newcommand{\\half}{\\fracone{2}}\n",
    "\\newcommand{\\Lim}[1]{\\displaystyle \\lim_{#1}}\n",
    "\\newcommand{\\Norm}[1]{\\left\\lVert #1 \\right\\rVert}\n",
    "\\newcommand{\\inv}[1]{#1^{-1}}\n",
    "\\newcommand{\\invp}[1]{\\left({#1}\\right)^{-1}}\n",
    "\\DeclareMathOperator*{\\argmin}{arg\\,min}\n",
    "\\DeclareMathOperator*{\\argmax}{arg\\,max}\n",
    "\\newcommand{\\ml}[1]{#1_{\\text{ML}}}\n",
    "\\newcommand{\\Partial}[2]{\\frac{\\partial #1}{\\partial #2}}\n",
    "\\newcommand{\\KL}[2]{\\text{KL}\\left(#1 \\Vert #2\\right)}\n",
    "\\newcommand{\\MI}[1]{\\mathcal{I}\\left(#1\\right)}\n",
    "\\newcommand{\\Ln}[1]{\\ln \\left\\(#1\\right\\)}\n",
    "\\newcommand{\\Lnb}[1]{\\ln \\left\\{#1\\right\\} }\n",
    "\\newcommand{\\Mod}[1]{\\left|#1\\right|}\n",
    "\\newcommand{\\Bracket}[1]{\\left[#1\\right]}\n",
    "\\newcommand{\\trace}[1]{\\text{Tr}\\left( #1 \\right)}\n",
    "$\n",
    "\n",
    "$\n",
    "\\newcommand{\\mat}[1]{ \\left[ \\begin{matrix} #1 \\end{matrix} \\right] }\n",
    "\\newcommand{\\matp}[1]{ \\left( \\begin{matrix} #1 \\end{matrix} \\right)}\n",
    "\\newcommand{\\mats}[1]{ \\begin{matrix}#1\\end{matrix} }\n",
    "\\newcommand{\\arrthree}[1]{\n",
    "\\begin{array}{rlr} #1 \\end{array}}\n",
    "$\n",
    "\n",
    "$\n",
    "\\newcommand{\\C}{\\mathbb{C}}\n",
    "\\newcommand{\\Ca}{\\mathcal{C}}\n",
    "\\newcommand{\\D}{\\mathcal{D}}\n",
    "\\newcommand{\\G}{\\mathcal{G}}\n",
    "\\newcommand{\\I}{\\mathcal{I}}\n",
    "\\newcommand{\\L}{\\mathcal{L}}\n",
    "\\newcommand{\\N}{\\mathbb{N}}\n",
    "\\newcommand{\\R}{\\mathbb{R}}\n",
    "\\newcommand{\\Ra}{\\mathcal{R}}\n",
    "$\n",
    "\n",
    "$\n",
    "\\newcommand{\\commentgray}[1]{\\color{gray}{\\text{#1}}}\n",
    "$\n",
    "\n"
   ]
  },
  {
   "cell_type": "markdown",
   "metadata": {},
   "source": [
    "sum, product\n",
    "$\n",
    "\\newcommand{\\sumiD}{\\displaystyle \\sum_{i=1}^{D}}\n",
    "\\newcommand{\\sumiN}{\\displaystyle \\sum_{i=1}^{N}}\n",
    "\\newcommand{\\sumjD}{\\displaystyle \\sum_{j=1}^{D}}\n",
    "\\newcommand{\\sumjK}{\\displaystyle \\sum_{j=1}^{K}}\n",
    "\\newcommand{\\sumjMl}{\\sum_{j=1}^{M-1}}\n",
    "\\newcommand{\\sumkK}{\\displaystyle \\sum_{k=1}^{K}}\n",
    "\\newcommand{\\sumkM}{\\displaystyle \\sum_{k=1}^{M}}\n",
    "\\newcommand{\\sumkMl}{\\sum_{k=1}^{M-1}}\n",
    "\\newcommand{\\summN}{\\displaystyle \\sum_{m=1}^{N}}\n",
    "\\newcommand{\\sumnN}{\\displaystyle \\sum_{n=1}^{N}}\n",
    "$\n",
    "$\n",
    "\\newcommand{\\prodiD}{\\displaystyle \\prod_{i=1}^{D}}\n",
    "\\newcommand{\\prodiN}{\\displaystyle \\prod_{i=1}^{N}}\n",
    "\\newcommand{\\prodjK}{\\displaystyle \\prod_{j=1}^{K}}\n",
    "\\newcommand{\\prodkK}{\\displaystyle \\prod_{k=1}^{K}}\n",
    "\\newcommand{\\prodmN}{\\displaystyle \\prod_{m=1}^{N}}\n",
    "\\newcommand{\\prodnN}{\\displaystyle \\prod_{n=1}^{N}}\n",
    "$"
   ]
  },
  {
   "cell_type": "markdown",
   "metadata": {},
   "source": [
    "alphabet bold,\n",
    "$\n",
    "\\newcommand{\\ab}{\\mathbf{a}}\n",
    "\\newcommand{\\Ab}{\\mathbf{A}}\n",
    "\\newcommand{\\At}{\\Ab^T}\n",
    "\\newcommand{\\Abjk}{\\Ab_{jk}}\n",
    "\\newcommand{\\bb}{\\mathbf{b}}\n",
    "\\newcommand{\\Bb}{\\mathbf{B}}\n",
    "\\newcommand{\\Bt}{\\Bb^T}\n",
    "\\newcommand{\\Cb}{\\mathbf{C}}\n",
    "\\newcommand{\\Db}{\\mathbf{D}}\n",
    "\\newcommand{\\fb}{\\mathbf{f}}\n",
    "\\newcommand{\\fp}{f^{\\prime}}\n",
    "\\newcommand{\\Hb}{\\mathbf{H}}\n",
    "\\newcommand{\\Jb}{\\mathbf{J}}\n",
    "\\newcommand{\\Kb}{\\mathbf{K}}\n",
    "\\newcommand{\\Lb}{\\mathbf{L}}\n",
    "\\newcommand{\\Lt}{\\Lb^T}\n",
    "\\newcommand{\\Lbi}{\\Lb^{-1}}\n",
    "\\newcommand{\\mb}{\\mathbf{m}}\n",
    "\\newcommand{\\Mb}{\\mathbf{M}}\n",
    "\\newcommand{\\Qb}{\\mathbf{Q}}\n",
    "\\newcommand{\\Rb}{\\mathbf{R}}\n",
    "\\newcommand{\\Sb}{\\mathbf{S}}\n",
    "\\newcommand{\\tb}{\\mathbf{t}}\n",
    "\\newcommand{\\ub}{\\mathbf{u}}\n",
    "\\newcommand{\\Ub}{\\mathbf{U}}\n",
    "\\newcommand{\\Ut}{\\Ub^T}\n",
    "\\newcommand{\\vb}{\\mathbf{v}}\n",
    "\\newcommand{\\Vb}{\\mathbf{V}}\n",
    "\\newcommand{\\wb}{\\mathbf{w}}\n",
    "\\newcommand{\\wt}{\\wb^T}\n",
    "\\newcommand{\\Wb}{\\mathbf{W}}\n",
    "\\newcommand{\\Xb}{\\mathbf{X}}\n",
    "\\newcommand{\\Xt}{\\Xb^T}\n",
    "\\newcommand{\\xb}{\\mathbf{x}}\n",
    "\\newcommand{\\xt}{\\xb^T}\n",
    "\\newcommand{\\xp}{x^{\\prime}}\n",
    "\\newcommand{\\xbp}{\\xb^{\\prime}}\n",
    "\\newcommand{\\xbm}{\\xb_m}\n",
    "\\newcommand{\\xbn}{\\xb_n}\n",
    "\\newcommand{\\xab}{\\mathbf{x_a}}\n",
    "\\newcommand{\\xabt}{\\mathbf{x_a}^T}\n",
    "\\newcommand{\\xbb}{\\mathbf{x_b}}\n",
    "\\newcommand{\\xbbt}{\\mathbf{x_b}^T}\n",
    "\\newcommand{\\yb}{\\mathbf{y}}\n",
    "\\newcommand{\\yt}{\\yb^T}\n",
    "\\newcommand{\\zb}{\\mathbf{z}}\n",
    "\\newcommand{\\zt}{\\zb^T}\n",
    "\\newcommand{\\zbm}{\\zb_m}\n",
    "\\newcommand{\\zbn}{\\zb_n}\n",
    "\\newcommand{\\zbnp}{\\zb_{n-1}}\n",
    "\\newcommand{\\znk}{\\zb_{nk}}\n",
    "\\newcommand{\\znpj}{\\zb_{n-1,j}}\n",
    "\\newcommand{\\Zb}{\\mathbf{Z}}\n",
    "$"
   ]
  },
  {
   "cell_type": "markdown",
   "metadata": {},
   "source": [
    "math bold\n",
    "$\n",
    "\\newcommand{\\chib}{\\boldsymbol{\\chi}}\n",
    "\\newcommand{\\etab}{\\pmb{\\eta}}\n",
    "\\newcommand{\\etat}{\\eta^T}\n",
    "\\newcommand{\\etabt}{\\etab^T}\n",
    "\\newcommand{\\Lambdab}{\\pmb{\\Lambda}}\n",
    "\\newcommand{\\laa}{\\Lambda_{aa}}\n",
    "\\newcommand{\\laai}{\\Lambda_{aa}^{-1}}\n",
    "\\newcommand{\\lab}{\\Lambda_{ab}}\n",
    "\\newcommand{\\lba}{\\Lambda_{ba}}\n",
    "\\newcommand{\\lbb}{\\Lambda_{bb}}\n",
    "\\newcommand{\\lbbi}{\\Lambda_{bb}^{-1}}\n",
    "\\newcommand{\\li}{\\Lambda^{-1}}\n",
    "\\newcommand{\\mub}{\\pmb{\\mu}}\n",
    "\\newcommand{\\muab}{\\pmb{\\mu}_a}\n",
    "\\newcommand{\\mubb}{\\pmb{\\mu}_b}\n",
    "\\newcommand{\\pib}{\\pmb{\\pi}}\n",
    "\\newcommand{\\saa}{\\Sigma_{aa}}\n",
    "\\newcommand{\\sab}{\\Sigma_{ab}}\n",
    "\\newcommand{\\sba}{\\Sigma_{ba}}\n",
    "\\newcommand{\\sbb}{\\Sigma_{bb}}\n",
    "\\newcommand{\\thetab}{\\pmb{\\theta}}\n",
    "\\newcommand{\\thetat}{\\thetab^T}\n",
    "\\newcommand{\\thetabh}{\\hat{\\thetab}}\n",
    "\\newcommand{\\thetaold}{\\thetab^{\\text{old}}}\n",
    "$\n",
    "\n",
    "$\n",
    "\\newcommand{\\zerob}{\\pmb{0}}\n",
    "$\n"
   ]
  },
  {
   "cell_type": "markdown",
   "metadata": {},
   "source": [
    "aliases for distributions\n",
    "$\\newcommand{\\multivarcoeff}{\\frac{1}{(2\\pi)^{D/2}}\n",
    "\\frac{1}{\\left| \\mathbf{\\Sigma}\\right|^{1/2}}}$\n",
    "$\\newcommand{\\multivarexp}[2]\n",
    "{\n",
    "\\left\\{\n",
    " -\\frac{1}{2} \n",
    " {#1}^T \n",
    " #2\n",
    " {#1}\n",
    "\\right\\}\n",
    "}$\n",
    "$\\newcommand{\\multivarexpx}[1]{\\multivarexp{#1}{\\Sigma^{-1}}}$\n",
    "$\\newcommand{\\multivarexpstd}{\\multivarexpx{(\\xb-\\mub)}}$\n",
    "$\\newcommand{\\gam}{\\operatorname{Gam}}$\n",
    "\n",
    "$\n",
    "\\newcommand{\\Nl}[3]{\\mathcal{N}\\left(#1 \\mid #2, #3\\right)}\n",
    "\\newcommand{\\Nstdx}{\\Nl{\\mathbf{x}}{\\mathbf{\\mu}}{\\Sigma}}\n",
    "$"
   ]
  },
  {
   "cell_type": "markdown",
   "metadata": {},
   "source": [
    "# Unknown Mean, Known Variance"
   ]
  },
  {
   "cell_type": "markdown",
   "metadata": {},
   "source": [
    "ML framework gives point estimates for $\\mub$ and $\\Sigma$.\n",
    "Say there is a single Gaussian variable x.\n",
    "Say, the variance $\\sigma^2$ is known.\n",
    "Task: Infer mean $\\mu$ from N observations $\\Xb = \\{x_1,\\cdots,x_N\\}$\n",
    "\n",
    "$$\n",
    "p(\\Xb \\mid \\mu)\n",
    "= \\prod_{n=1}^{N} p(x_n \\mid \\mu)\n",
    "= \\frac{1}{\\left(2\\pi\\sigma^2\\right)^{N/2}}\n",
    "\\exp\\left\\{\n",
    "  -\\frac{1}{2\\sigma^2} \\sum_{n=1}^{N} (x_n-\\mu)^2\n",
    "\\right\\}\n",
    "$$\n",
    "This quantity is not normalized."
   ]
  },
  {
   "cell_type": "markdown",
   "metadata": {},
   "source": [
    "The likehood has exponential of a quadratic form over $\\mu$.\n",
    "If we choose the prior to be Gaussian, it will be a conjugate dist. to the likelihood.\n",
    "$$\n",
    "\\arrthree{\n",
    "\\text{Prior }\n",
    "p(\\mu)\n",
    "&=\n",
    "\\mathcal{N}\\left( \\mu \\mid \\mu_0, \\sigma_0^2 \\right)\n",
    "\\\\\n",
    "\\text{Posterior }\n",
    "p(\\mu \\mid \\Xb)\n",
    "&\\propto\n",
    "p(\\Xb \\mid \\mu) p(\\mu)\n",
    "\\\\\n",
    "&=\n",
    "\\arrthree{\n",
    "-\\frac{1}{2\\sigma^2} \\sumnN (x_n - \\mu)^2\n",
    "-\\frac{1}{2\\sigma_o^2} (\\mu - \\mu_0)^2\n",
    "}\n",
    "}\n",
    "$$\n",
    "\n",
    "We can use <a href='#StandardExpansion'>Standard Expansion</a> to find the mean and covar."
   ]
  },
  {
   "cell_type": "markdown",
   "metadata": {},
   "source": [
    "## covar/precision"
   ]
  },
  {
   "cell_type": "markdown",
   "metadata": {},
   "source": [
    "Take out the quadratic terms out in $\\mu$\n",
    "$$\n",
    "-\\frac{1}{2\\sigma^2}\\sumnN \\mu^2\n",
    "-\\frac{1}{2\\sigma_0^2} \\mu^2\n",
    "=\n",
    "-\\frac{N}{2\\sigma^2} \\mu^2\n",
    "-\\frac{1}{2\\sigma_0^2} \\mu^2\n",
    "=\n",
    "- \\frac{1}{2}\n",
    "  \\left(\n",
    "    \\frac{N}{\\sigma^2} + \n",
    "    \\frac{1}{\\sigma_0^2}\n",
    "  \\right) \\mu^2\n",
    "$$\n",
    "Hence\n",
    "$$\n",
    "\\color{green}{\n",
    "\\frac{1}{\\sigma_N^2} =\\frac{N}{\\sigma^2} + \\frac{1}{\\sigma_0^2}\n",
    "}\n",
    "$$"
   ]
  },
  {
   "cell_type": "markdown",
   "metadata": {},
   "source": [
    "## Mean"
   ]
  },
  {
   "cell_type": "markdown",
   "metadata": {},
   "source": [
    "Taking out the linear terms in $\\mu$, we have  \n",
    "$$\n",
    "-\\frac{1}{\\sigma^2} (-\\mu) \\sumnN x_n\n",
    "-\\frac{1}{\\sigma_0^2} (-\\mu_0) \\mu \n",
    "=\\left( \n",
    "  \\frac{1}{\\sigma^2} N \\mu_{ML} +\n",
    "  \\frac{1}{\\sigma_0^2} \\mu_0\n",
    " \\right) \\mu\n",
    "$$\n",
    "where\n",
    "$$\n",
    "\\mu_{ML} = \\frac{1}{N} \\sumnN x_n\n",
    "$$\n",
    "Hence\n",
    "$$\n",
    "\\arrthree{\n",
    "\\mu_N\n",
    "=\n",
    "\\Sigma \\times \\text{coefficient}\n",
    "&= \n",
    "\\sigma_N^2 \\times \\left( \n",
    "  \\frac{1}{\\sigma^2} N \\mu_{ML} +\n",
    "  \\frac{1}{\\sigma_0^2} \\mu_0\n",
    " \\right)\n",
    "\\\\\n",
    "&=\n",
    "\\frac{ \n",
    "  \\left( \n",
    "    \\frac{1}{\\sigma^2} N \\mu_{ML} +\n",
    "    \\frac{1}{\\sigma_0^2} \\mu_0\n",
    "  \\right)\n",
    "}\n",
    "{\n",
    " \\frac{N}{\\sigma^2} + \\frac{1}{\\sigma_0^2}\n",
    "}\n",
    "\\\\\n",
    "&=\n",
    "\\frac{N\\sigma_0^2}{N\\sigma_0^2 + \\sigma^2} \\mu_{ML} +\n",
    "\\frac{\\sigma^2}{N\\sigma_0^2 + \\sigma^2} \\mu_0\n",
    "}\n",
    "$$"
   ]
  },
  {
   "cell_type": "markdown",
   "metadata": {},
   "source": [
    "Hence\n",
    "\n",
    "$$\n",
    "\\color{green}{\n",
    "\\mu_N = \\frac{N\\sigma_0^2}{N\\sigma_0^2 + \\sigma^2} \\mu_{ML} +\n",
    "\\frac{\\sigma^2}{N\\sigma_0^2 + \\sigma^2} \\mu_0\n",
    "}\n",
    "$$"
   ]
  },
  {
   "cell_type": "markdown",
   "metadata": {},
   "source": [
    "## Summary - case 1\n",
    "\n",
    "$$\n",
    "\\arrthree{\n",
    "\\mu_N &= \\frac{N\\sigma_0^2}{N\\sigma_0^2 + \\sigma^2} \\mu_{ML} +\n",
    "\\frac{\\sigma^2}{N\\sigma_0^2 + \\sigma^2} \\mu_0\n",
    "\\\\\n",
    "\\frac{1}{\\sigma_N^2} &= \\frac{N}{\\sigma^2} + \\frac{1}{\\sigma_0^2}\n",
    "}\n",
    "$$"
   ]
  },
  {
   "cell_type": "markdown",
   "metadata": {},
   "source": [
    "## Implications"
   ]
  },
  {
   "cell_type": "markdown",
   "metadata": {},
   "source": [
    "$$\n",
    "\\mu_N = \\frac{N\\sigma_0^2}{N\\sigma_0^2 + \\sigma^2} \\mu_{ML} +\n",
    "\\frac{\\sigma^2}{N\\sigma_0^2 + \\sigma^2} \\mu_0\n",
    "$$\n",
    "* Mean of the posterior distribution is a compromise between the prior mean $\\mu_0$ and the maximum likelihood solution $\\ml{\\mu}$.\n",
    "  * If the number of observed data points N = 0, then $\\mu_N$ reduces to the prior mean as expected.\n",
    "  * For $N \\rightarrow \\infty$, the posterior mean is given by the maximum likelihood solution."
   ]
  },
  {
   "cell_type": "markdown",
   "metadata": {},
   "source": [
    "$$\n",
    "\\frac{1}{\\sigma_N^2} =\\frac{N}{\\sigma^2} + \\frac{1}{\\sigma_0^2}\n",
    "$$\n",
    "* most naturally expressed in terms of precision.\n",
    "* The precisions are additive\n",
    "* As N increases, the precision steadily increases, corresponding to a posterior distribution with steadily decreasing variance.\n",
    "  * When N=0, we have the prior variance\n",
    "  * if $N \\rightarrow \\infty$, the variance $\\sigma_N^2$ goes to zero and the posterior distribution becomes infinitely peaked around the maximum likelihood solution."
   ]
  },
  {
   "cell_type": "markdown",
   "metadata": {},
   "source": [
    "Effect of N on the parameters $\\mu$ and $\\sigma$\n",
    "\\begin{array}{|c|c|c|}\n",
    "  \\hline\n",
    "  N & \\mu & \\sigma \\\\\n",
    "  \\hline\n",
    "  0 & \\mu_0 & \\sigma_0 \\\\\n",
    "  \\infty & \\ml{\\mu} & 0 \\\\\n",
    "  \\hline\n",
    "\\end{array}"
   ]
  },
  {
   "cell_type": "markdown",
   "metadata": {},
   "source": [
    "* The ML result of a point estimate for $\\mu$ is recovered precisely from the Bayesian formalism in the limit of an infinite number of observations.\n",
    "* For finite N , if we take the limit $\\mu_0^2$, that is, (broad) prior has infinite variance\n",
    "  * Posterior mean reduces to the maximum likelihood result\n",
    "  * Posterior variance is given by $\\sigma_N^2 = \\sigma^2/N$"
   ]
  },
  {
   "cell_type": "markdown",
   "metadata": {},
   "source": [
    "When $\\sigma_0^2 \\rightarrow \\infty$, both the mean and variance tend to the ML solutions. That is\n",
    "* $\\mu_N = \\ml{\\mu}$\n",
    "* $\\sigma_N^2 = \\sigma^2/N$\n",
    "\n",
    "Also see [Noninformative Priors](4-exponential-family.ipynb#Example---Translation-invariance)"
   ]
  },
  {
   "cell_type": "markdown",
   "metadata": {},
   "source": [
    "# Known Mean, Unknown Variance"
   ]
  },
  {
   "cell_type": "markdown",
   "metadata": {},
   "source": [
    "Its more convenient to work with the precision $\\lambda \\equiv 1 / \\sigma^2$\n",
    "\n",
    "The likelihood function becomes\n",
    "$$\n",
    "\\arrthree{\n",
    "p(\\Xb \\mid \\lambda)\n",
    "& \\propto\n",
    "\\prodnN\n",
    "\\mathcal{N}(x_n \\mid \\mu, \\lambda^{-1})\n",
    "\\\\\n",
    "&=\n",
    "\\lambda^{N/2}\n",
    "\\exp\n",
    "\\left\\{\n",
    "  -\\frac{\\lambda}{2}\n",
    "  \\sumnN (x_n - \\mu)^2\n",
    "\\right\\}\n",
    "}\n",
    "$$"
   ]
  },
  {
   "cell_type": "markdown",
   "metadata": {},
   "source": [
    "The conjugate prior should be proportional to the product of power of $\\lambda$ and the exponential of a linear function of $\\lambda$. Seems we have one distribution like that or it was made for that. who knows. "
   ]
  },
  {
   "cell_type": "markdown",
   "metadata": {},
   "source": [
    "The [Gamma distribution](/notebooks/probability-distributions/gamma.ipynb) is defined by\n",
    "$$\n",
    "\\gam(\\lambda \\mid a,b)\n",
    "=\n",
    "\\frac{1}{\\Gamma(a)}\n",
    "b^a \\lambda^{a-1} \\exp(-b \\lambda)\n",
    "$$\n",
    "The mean and variance are\n",
    "$$\n",
    "\\arrthree{\n",
    "\\E{\\lambda} &= \\frac{a}{b} &  & &&\n",
    "\\V{\\lambda} &= \\frac{a}{b^2}\\\\\n",
    "}\n",
    "$$"
   ]
  },
  {
   "cell_type": "markdown",
   "metadata": {},
   "source": [
    "## Summary - case 2"
   ]
  },
  {
   "cell_type": "markdown",
   "metadata": {},
   "source": [
    "Now the posterior is given by\n",
    "$$\n",
    "\\arrthree{\n",
    "p(\\lambda \\mid \\Xb)\n",
    "& \\propto\n",
    "\\lambda^{a_0 - 1}\n",
    "\\exp\n",
    "\\left\\{\n",
    "  -b_N \\lambda\n",
    "\\right\\}\n",
    "\\\\\n",
    "\\text{where }\n",
    "a_N\n",
    "&=\n",
    "a_0 + \\frac{N}{2}\n",
    "\\\\\n",
    "b_N\n",
    "&=\n",
    "b_0 + \\frac{1}{2} \\sumnN (x_n - \\mu)^2\n",
    "=\n",
    "b_0 + \\frac{N}{2} \\sigma^{2}_{ML}\n",
    "\\\\\n",
    "\\text{That is the posterior }\n",
    "p(\\lambda \\mid \\Xb)\n",
    "& \\propto\n",
    "\\gam(\\lambda \\mid a_N, b_N)\n",
    "}\n",
    "$$"
   ]
  },
  {
   "cell_type": "markdown",
   "metadata": {},
   "source": [
    "## Implications - case 2"
   ]
  },
  {
   "cell_type": "markdown",
   "metadata": {},
   "source": [
    "* Effect of observing N data points\n",
    "  * coefficient a\n",
    "    * increases by N/2\n",
    "    * $2a_0$ prior observations\n",
    "  * coefficient b\n",
    "    * N data points contribute $N\\sigma_{ML}^{2}/2$\n",
    "    * $2a_0$ prior observations each having variance $2b_0/(2a_0) = b_0/a_0$"
   ]
  },
  {
   "cell_type": "markdown",
   "metadata": {},
   "source": [
    "# Unknown mean, unknown variance"
   ]
  },
  {
   "cell_type": "markdown",
   "metadata": {},
   "source": [
    "## Likelihood"
   ]
  },
  {
   "cell_type": "markdown",
   "metadata": {},
   "source": [
    "$$\n",
    "\\arrthree{\n",
    "p(\\xb \\mid \\mu, \\lambda)\n",
    "&=\n",
    "\\prodnN\n",
    "\\left( \\frac{\\lambda}{2\\pi} \\right)^{1/2}\n",
    "\\EXP{-\\frac{\\lambda}{2} (x_n - \\mu)^2}\n",
    "\\\\ &\\propto\n",
    "\\left( \\frac{\\lambda}{2} \\right)^N\n",
    "\\EXP{-\\frac{\\lambda}{2} \\sumnN (x_n^2 -2x_n\\mu + \\mu^2)}\n",
    "\\\\ &=\n",
    "\\left( \\frac{\\lambda}{2} \\EXP{-\\frac{\\lambda \\mu^2}{2}} \\right)^N\n",
    "\\EXP{-\\frac{\\lambda}{2} \\sumnN x_n^2 + \\lambda \\mu \\sumnN x_n}\n",
    "}\n",
    "$$"
   ]
  },
  {
   "cell_type": "markdown",
   "metadata": {},
   "source": [
    "## Figuring out prior"
   ]
  },
  {
   "cell_type": "markdown",
   "metadata": {},
   "source": [
    "$$\n",
    "\\arrthree{\n",
    "p(\\mu, \\lambda)\n",
    "& \\propto\n",
    "\\Bracket{ \\lambda^{1/2} \\EXP{ -\\frac{\\lambda \\mu^2}{2}}}^{\\beta}\n",
    "\\EXP{c \\lambda \\mu - d \\lambda}\n",
    "\\\\ &=\n",
    "\\lambda^{\\beta/2}\n",
    "\\EXP{-\\frac{\\lambda \\beta \\mu^2}{2}}\n",
    "\\EXP{c \\lambda \\mu - d \\lambda}\n",
    "\\\\ &=\n",
    "\\underbrace{\n",
    "\\EXP{-\\frac{\\lambda \\beta \\mu^2}{2} + c \\lambda \\mu}}_{\\text{Gaussian}}\n",
    "~~\n",
    "\\underbrace{\\lambda^{\\beta/2} \\EXP{ - d \\lambda}}_{\\text{Gamma}}\n",
    "}\n",
    "$$"
   ]
  },
  {
   "cell_type": "markdown",
   "metadata": {},
   "source": [
    "We know that\n",
    "$$\n",
    "\\arrthree{\n",
    "ax^2 - bx \n",
    "&= \n",
    "a\n",
    "\\left(\n",
    "  x^2 - 2 \\frac{b}{2a}x\n",
    "\\right)\n",
    "\\\\ &=\n",
    "a\n",
    "\\left(\n",
    "  x^2 - 2 \\frac{b}{2a}x + \\frac{b^2}{4a^2} - \\frac{b^2}{4a^2}\n",
    "\\right)\n",
    "\\\\ &=\n",
    "a \\left( x - \\frac{b}{2a} \\right)^2\n",
    "- \\frac{b^2}{4a}\n",
    "}\n",
    "$$"
   ]
  },
  {
   "cell_type": "markdown",
   "metadata": {},
   "source": [
    "Hence,\n",
    "$$\n",
    "\\frac{\\lambda \\beta}{2} \\mu^2 - c \\lambda \\mu\n",
    "= \n",
    "\\overbrace{\\left(\\frac{\\lambda \\beta}{2}\\right)}^{\\text{a}} \\mu^2\n",
    "- \\overbrace{\\left(c \\lambda\\right)}^{\\text{b}}~ \\mu\n",
    "=\n",
    "\\frac{\\lambda \\beta}{2} \\left( \\mu - \\frac{c}{\\beta} \\right)^2 - \\frac{c^2 \\lambda}{2 \\beta}\n",
    "$$"
   ]
  },
  {
   "cell_type": "markdown",
   "metadata": {},
   "source": [
    "$$\n",
    "\\arrthree{\n",
    "p(\\mu, \\lambda)\n",
    "& \\propto\n",
    "\\EXP{-\\frac{\\lambda \\beta}{2} \\left( \\mu - \\frac{c}{\\beta} \\right)^2 + \\frac{c^2 \\lambda}{2\\beta}}\n",
    "~~ \\lambda^{\\beta/2} \\EXP{ - d \\lambda}\n",
    "\\\\ &=\n",
    "\\EXP{-\\frac{\\lambda \\beta}{2} \\left( \\mu - \\frac{c}{\\beta} \\right)^2}\n",
    "~~ \\lambda^{\\beta/2} \\EXP{ - d \\lambda + \\frac{c^2 \\lambda}{2\\beta}}\n",
    "\\\\ &=\n",
    "\\EXP{-\\frac{\\lambda \\beta}{2} \\left( \\mu - \\frac{c}{\\beta} \\right)^2}\n",
    "~~ \\lambda^{\\beta/2} \\EXP{ - \\left(d - \\frac{c^2}{2\\beta} \\right) \\lambda}\n",
    "\\\\ &=\n",
    "\\underbrace{\\Nl{\\mu}{\\frac{c}{\\beta}}{\\inv{(\\lambda \\beta)}}}_{p(\\mu \\mid \\lambda)}\n",
    "~~~ \\underbrace{\\text{Gam}\\left(\n",
    "\\lambda \\mid 1 + \\frac{\\beta}{2}, d - \\frac{c^2}{2\\beta}\n",
    "\\right)}_{p(\\lambda)}\n",
    "}\n",
    "$$"
   ]
  },
  {
   "cell_type": "markdown",
   "metadata": {},
   "source": [
    "This is called the *normal-gamma* or *Gaussian-gamma* distribution"
   ]
  },
  {
   "cell_type": "markdown",
   "metadata": {},
   "source": [
    "# Multivariate"
   ]
  },
  {
   "cell_type": "markdown",
   "metadata": {},
   "source": [
    "## Known mean, Unknown precision\n",
    "\n",
    "The conjugate prior is a Wishart distribution given by\n",
    "$$\n",
    "\\mathcal{W}(\\Lambdab \\mid \\Wb, \\nu)\n",
    "=\n",
    "B\n",
    "~|\\Lambdab|^{(\\nu - D -1)/2}\n",
    "\\EXP{-\\half \\trace{\\inv{W}\\Lambdab}}\n",
    "$$\n",
    "Here\n",
    "* $\\nu$ is the number of degrees of freedom,\n",
    "* **W** is a $D \\times D$ matrix\n",
    "\n",
    "The normalization constant is given by\n",
    "$$\n",
    "|\\Wb|^{-\\nu/2}\n",
    "\\inv{\\left(\n",
    "  2^{\\nu D /2} \\pi^{D(D-1)/4}\n",
    "  \\prodiD \\Gamma\n",
    "  \\left(\n",
    "    \\frac{\\nu+1-i}{2}\n",
    "  \\right)\n",
    "\\right)}\n",
    "$$"
   ]
  },
  {
   "cell_type": "markdown",
   "metadata": {},
   "source": [
    "## Unknown mean, unknown precision\n",
    "\n",
    "the conjugate prior is a *normal-Wishart* or *Gaussian-Wishart* distribution, which is given by\n",
    "\n",
    "$$\n",
    "p(\\mub, \\Lambdab \\mid \\mub_0, \\beta, \\Wb, \\nu)\n",
    "=\n",
    "\\Nl{\\mub}{\\mub_0}{\\inv{(\\beta \\Lambdab)}}\n",
    "~\n",
    "\\mathcal{W}(\\Lambdab \\mid \\Wb, \\nu)\n",
    "$$"
   ]
  }
 ],
 "metadata": {
  "hide_input": true,
  "kernelspec": {
   "display_name": "Python 3",
   "language": "python3",
   "name": "python3"
  },
  "language_info": {
   "codemirror_mode": {
    "name": "ipython",
    "version": 3
   },
   "file_extension": ".py",
   "mimetype": "text/x-python",
   "name": "python",
   "nbconvert_exporter": "python",
   "pygments_lexer": "ipython3",
   "version": "3.5.1"
  },
  "latex_envs": {
   "bibliofile": "biblio.bib",
   "cite_by": "apalike",
   "current_citInitial": 1,
   "eqLabelWithNumbers": true,
   "eqNumInitial": 0
  }
 },
 "nbformat": 4,
 "nbformat_minor": 0
}
