{
 "cells": [
  {
   "cell_type": "code",
   "execution_count": 2,
   "metadata": {
    "collapsed": false
   },
   "outputs": [],
   "source": [
    "import numpy as np\n",
    "from matplotlib import pyplot as plt\n",
    "%matplotlib inline\n",
    "\n",
    "import random as rnd\n",
    "import os\n",
    "import math\n",
    "\n",
    "# required for interactive plotting\n",
    "from __future__ import print_function\n",
    "from ipywidgets import interact, interactive, fixed\n",
    "import ipywidgets as widgets\n",
    "import numpy.polynomial as np_poly\n",
    "\n",
    "from IPython.display import Math\n",
    "from IPython.display import Latex\n",
    "from IPython.display import HTML\n",
    "\n",
    "from pprint import pprint\n",
    "import functools as ft"
   ]
  },
  {
   "cell_type": "markdown",
   "metadata": {},
   "source": [
    "initialization  \n",
    "$\n",
    "\\newcommand{\\Brace}[1]{\\left\\{#1\\right\\}}\n",
    "\\newcommand{\\E}[1]{\\mathbb{E}\\left[ #1 \\right]}\n",
    "\\newcommand{\\V}[1]{\\mathbb{V}\\left[#1\\right]}\n",
    "\\newcommand{\\H}[1]{\\mathbb{H}\\left[#1\\right]}\n",
    "\\newcommand{\\cov}[1]{\\text{cov} \\sigma\\left[#1\\right]}\n",
    "\\newcommand{\\EXP}[1]{\\exp\\left\\{#1\\right\\}} \n",
    "\\newcommand{\\LN}[1]{\\ln\\left\\{#1\\right\\}} \n",
    "\\newcommand{\\P}{\\mathbb{P}}\n",
    "\\newcommand{\\underl}[1]{\\text{$\\underline{#1}$}}\n",
    "\\newcommand{\\fracone}[1]{\\frac{1}{#1}}\n",
    "\\newcommand{\\half}{\\fracone{2}}\n",
    "\\newcommand{\\Lim}[1]{\\displaystyle \\lim_{#1}}\n",
    "\\newcommand{\\Norm}[1]{\\left\\lVert #1 \\right\\rVert}\n",
    "\\newcommand{\\inv}[1]{#1^{-1}}\n",
    "\\newcommand{\\invp}[1]{\\left({#1}\\right)^{-1}}\n",
    "\\DeclareMathOperator*{\\argmin}{arg\\,min}\n",
    "\\DeclareMathOperator*{\\argmax}{arg\\,max}\n",
    "\\newcommand{\\ml}[1]{#1_{\\text{ML}}}\n",
    "\\newcommand{\\Partial}[2]{\\frac{\\partial #1}{\\partial #2}}\n",
    "\\newcommand{\\KL}[2]{\\text{KL}\\left(#1 \\Vert #2\\right)}\n",
    "\\newcommand{\\MI}[1]{\\mathcal{I}\\left(#1\\right)}\n",
    "\\newcommand{\\Ln}[1]{\\ln \\left\\(#1\\right\\)}\n",
    "\\newcommand{\\Lnb}[1]{\\ln \\left\\{#1\\right\\} }\n",
    "\\newcommand{\\Mod}[1]{\\left|#1\\right|}\n",
    "$\n",
    "\n",
    "$\n",
    "\\newcommand{\\mat}[1]{ \\left[ \\begin{matrix} #1 \\end{matrix} \\right] }\n",
    "\\newcommand{\\matp}[1]{ \\left( \\begin{matrix} #1 \\end{matrix} \\right)}\n",
    "\\newcommand{\\mats}[1]{ \\begin{matrix}#1\\end{matrix} }\n",
    "$\n",
    "\n",
    "$\\newcommand{\\arrthree}[1]{\n",
    "\\begin{array}{rlr} #1 \\end{array}}\n",
    "$\n",
    "\n",
    "$\n",
    "\\newcommand{\\C}{\\mathbb{C}}\n",
    "\\newcommand{\\Ca}{\\mathcal{C}}\n",
    "\\newcommand{\\D}{\\mathcal{D}}\n",
    "\\newcommand{\\G}{\\mathcal{G}}\n",
    "\\newcommand{\\I}{\\mathcal{I}}\n",
    "\\newcommand{\\L}{\\mathcal{L}}\n",
    "\\newcommand{\\N}{\\mathbb{N}}\n",
    "\\newcommand{\\R}{\\mathbb{R}}\n",
    "\\newcommand{\\Ra}{\\mathcal{R}}\n",
    "$\n",
    "\n",
    "$\n",
    "\\newcommand{\\commentgray}[1]{\\color{gray}{\\text{#1}}}\n",
    "$\n",
    "\n"
   ]
  },
  {
   "cell_type": "markdown",
   "metadata": {},
   "source": [
    "sum, product\n",
    "$\n",
    "\\newcommand{\\sumiN}{\\displaystyle \\sum_{i=1}^{N}}\n",
    "\\newcommand{\\sumjD}{\\displaystyle \\sum_{j=1}^{D}}\n",
    "\\newcommand{\\sumjK}{\\displaystyle \\sum_{j=1}^{K}}\n",
    "\\newcommand{\\sumjMl}{\\sum_{j=1}^{M-1}}\n",
    "\\newcommand{\\sumkK}{\\displaystyle \\sum_{k=1}^{K}}\n",
    "\\newcommand{\\sumkM}{\\displaystyle \\sum_{k=1}^{M}}\n",
    "\\newcommand{\\sumkMl}{\\sum_{k=1}^{M-1}}\n",
    "\\newcommand{\\summN}{\\displaystyle \\sum_{m=1}^{N}}\n",
    "\\newcommand{\\sumnN}{\\displaystyle \\sum_{n=1}^{N}}\n",
    "$\n",
    "$\n",
    "\\newcommand{\\prodiN}{\\displaystyle \\prod_{i=1}^{N}}\n",
    "\\newcommand{\\prodjK}{\\displaystyle \\prod_{j=1}^{K}}\n",
    "\\newcommand{\\prodkK}{\\displaystyle \\prod_{k=1}^{K}}\n",
    "\\newcommand{\\prodmN}{\\displaystyle \\prod_{m=1}^{N}}\n",
    "\\newcommand{\\prodnN}{\\displaystyle \\prod_{n=1}^{N}}\n",
    "$"
   ]
  },
  {
   "cell_type": "markdown",
   "metadata": {},
   "source": [
    "alphabet bold,\n",
    "$\n",
    "\\newcommand{\\ab}{\\mathbf{a}}\n",
    "\\newcommand{\\Ab}{\\mathbf{A}}\n",
    "\\newcommand{\\Ai}{\\inv{\\Ab}}\n",
    "\\newcommand{\\At}{\\Ab^T}\n",
    "\\newcommand{\\Abjk}{\\Ab_{jk}}\n",
    "\\newcommand{\\bb}{\\mathbf{b}}\n",
    "\\newcommand{\\bt}{\\bb^T}\n",
    "\\newcommand{\\Bb}{\\mathbf{B}}\n",
    "\\newcommand{\\Bt}{\\Bb^T}\n",
    "\\newcommand{\\Cb}{\\mathbf{C}}\n",
    "\\newcommand{\\Db}{\\mathbf{D}}\n",
    "\\newcommand{\\fb}{\\mathbf{f}}\n",
    "\\newcommand{\\fp}{f^{\\prime}}\n",
    "\\newcommand{\\Hb}{\\mathbf{H}}\n",
    "\\newcommand{\\Jb}{\\mathbf{J}}\n",
    "\\newcommand{\\Kb}{\\mathbf{K}}\n",
    "\\newcommand{\\Lb}{\\mathbf{L}}\n",
    "\\newcommand{\\Lt}{\\Lb^T}\n",
    "\\newcommand{\\Lbi}{\\Lb^{-1}}\n",
    "\\newcommand{\\mb}{\\mathbf{m}}\n",
    "\\newcommand{\\mt}{\\mb^T}\n",
    "\\newcommand{\\Mb}{\\mathbf{M}}\n",
    "\\newcommand{\\Qb}{\\mathbf{Q}}\n",
    "\\newcommand{\\Rb}{\\mathbf{R}}\n",
    "\\newcommand{\\Sb}{\\mathbf{S}}\n",
    "\\newcommand{\\tb}{\\mathbf{t}}\n",
    "\\newcommand{\\ub}{\\mathbf{u}}\n",
    "\\newcommand{\\Ub}{\\mathbf{U}}\n",
    "\\newcommand{\\Ut}{\\Ub^T}\n",
    "\\newcommand{\\vb}{\\mathbf{v}}\n",
    "\\newcommand{\\Vb}{\\mathbf{V}}\n",
    "\\newcommand{\\wb}{\\mathbf{w}}\n",
    "\\newcommand{\\wt}{\\wb^T}\n",
    "\\newcommand{\\Xb}{\\mathbf{X}}\n",
    "\\newcommand{\\Xt}{\\Xb^T}\n",
    "\\newcommand{\\xb}{\\mathbf{x}}\n",
    "\\newcommand{\\xt}{\\xb^T}\n",
    "\\newcommand{\\xp}{x^{\\prime}}\n",
    "\\newcommand{\\xbp}{\\xb^{\\prime}}\n",
    "\\newcommand{\\xbm}{\\xb_m}\n",
    "\\newcommand{\\xbn}{\\xb_n}\n",
    "\\newcommand{\\xab}{\\mathbf{x_a}}\n",
    "\\newcommand{\\xabt}{\\mathbf{x_a}^T}\n",
    "\\newcommand{\\xbb}{\\mathbf{x_b}}\n",
    "\\newcommand{\\xbbt}{\\mathbf{x_b}^T}\n",
    "\\newcommand{\\yb}{\\mathbf{y}}\n",
    "\\newcommand{\\yt}{\\yb^T}\n",
    "\\newcommand{\\zb}{\\mathbf{z}}\n",
    "\\newcommand{\\zt}{\\zb^T}\n",
    "\\newcommand{\\zbm}{\\zb_m}\n",
    "\\newcommand{\\zbn}{\\zb_n}\n",
    "\\newcommand{\\zbnp}{\\zb_{n-1}}\n",
    "\\newcommand{\\znk}{\\zb_{nk}}\n",
    "\\newcommand{\\znpj}{\\zb_{n-1,j}}\n",
    "\\newcommand{\\Zb}{\\mathbf{Z}}\n",
    "$"
   ]
  },
  {
   "cell_type": "markdown",
   "metadata": {},
   "source": [
    "math bold\n",
    "$\n",
    "\\newcommand{\\chib}{\\boldsymbol{\\chi}}\n",
    "\\newcommand{\\etab}{\\pmb{\\eta}}\n",
    "\\newcommand{\\etat}{\\eta^T}\n",
    "\\newcommand{\\etabt}{\\etab^T}\n",
    "\\newcommand{\\laa}{\\Lambda_{aa}}\n",
    "\\newcommand{\\laai}{\\Lambda_{aa}^{-1}}\n",
    "\\newcommand{\\lab}{\\Lambda_{ab}}\n",
    "\\newcommand{\\lba}{\\Lambda_{ba}}\n",
    "\\newcommand{\\lbb}{\\Lambda_{bb}}\n",
    "\\newcommand{\\lbbi}{\\Lambda_{bb}^{-1}}\n",
    "\\newcommand{\\li}{\\lambda_i}\n",
    "\\newcommand{\\Li}{\\Lambda^{-1}}\n",
    "\\newcommand{\\mub}{\\pmb{\\mu}}\n",
    "\\newcommand{\\mut}{\\mub^T}\n",
    "\\newcommand{\\muab}{\\pmb{\\mu}_a}\n",
    "\\newcommand{\\mubb}{\\pmb{\\mu}_b}\n",
    "\\newcommand{\\pib}{\\pmb{\\pi}}\n",
    "\\newcommand{\\saa}{\\Sigma_{aa}}\n",
    "\\newcommand{\\sab}{\\Sigma_{ab}}\n",
    "\\newcommand{\\sba}{\\Sigma_{ba}}\n",
    "\\newcommand{\\sbb}{\\Sigma_{bb}}\n",
    "\\newcommand{\\thetab}{\\pmb{\\theta}}\n",
    "\\newcommand{\\thetat}{\\thetab^T}\n",
    "\\newcommand{\\thetabh}{\\hat{\\thetab}}\n",
    "\\newcommand{\\thetaold}{\\thetab^{\\text{old}}}\n",
    "$\n",
    "\n",
    "$\n",
    "\\newcommand{\\zerob}{\\pmb{0}}\n",
    "$\n"
   ]
  },
  {
   "cell_type": "markdown",
   "metadata": {},
   "source": [
    "aliases for distributions\n",
    "$\\newcommand{\\multivarcoeff}{\\frac{1}{(2\\pi)^{D/2}}\n",
    "\\frac{1}{\\left| \\mathbf{\\Sigma}\\right|^{1/2}}}$\n",
    "$\\newcommand{\\multivarexp}[2]\n",
    "{\n",
    "\\left\\{\n",
    " -\\frac{1}{2} \n",
    " {#1}^T \n",
    " #2\n",
    " {#1}\n",
    "\\right\\}\n",
    "}$\n",
    "$\\newcommand{\\multivarexpx}[1]{\\multivarexp{#1}{\\Sigma^{-1}}}$\n",
    "$\\newcommand{\\multivarexpstd}{\\multivarexpx{(\\xb-\\mub)}}$\n",
    "$\\newcommand{\\gam}{\\operatorname{Gam}}$\n",
    "\n",
    "$\n",
    "\\newcommand{\\Nl}[3]{\\mathcal{N}\\left(#1 \\mid #2, #3\\right)}\n",
    "\\newcommand{\\Nstdx}{\\Nl{\\mathbf{x}}{\\mathbf{\\mu}}{\\Sigma}}\n",
    "$"
   ]
  },
  {
   "cell_type": "markdown",
   "metadata": {},
   "source": [
    "Conditional Gaussian Distributions\n",
    "==================="
   ]
  },
  {
   "cell_type": "markdown",
   "metadata": {},
   "source": [
    "\\begin{matrix}\n",
    "\\xb\n",
    "&=\n",
    "\\mat{\\xab \\\\ \\xbb}\n",
    "&\n",
    "\\mub\n",
    "&=\n",
    "\\mat{\\muab \\\\ \\mubb}\n",
    "&\n",
    "\\Sigma\n",
    "&=\n",
    "\\mat{\\saa & \\sab \\\\ \\sba & \\sbb}\n",
    "\\end{matrix}"
   ]
  },
  {
   "cell_type": "markdown",
   "metadata": {},
   "source": [
    "Since $\\Sigma^T = \\Sigma$, we have $\\saa$ and $\\sbb$ being symmetric and $\\sba = \\sab^T$\n",
    "\\begin{matrix}\n",
    "\\Lambda &\\equiv \\Sigma^{-1}\n",
    "&\n",
    "\\Lambda\n",
    "\\mat{\\laa & \\lab \\\\ \\lba & \\lbb}\n",
    "\\end{matrix}"
   ]
  },
  {
   "cell_type": "markdown",
   "metadata": {},
   "source": [
    "To find the conditional $p(\\xab \\mid \\xbb)$, we can set $\\xbb$ in the joint distribution $p(\\xab, \\xbb)$. But there is another way. By using  <a href=\"#QuadraticForm\">Quadratic Form</a>, "
   ]
  },
  {
   "cell_type": "markdown",
   "metadata": {},
   "source": [
    "## Completing the square"
   ]
  },
  {
   "cell_type": "markdown",
   "metadata": {},
   "source": [
    "<div id='StandardExpansion' />\n",
    "Given the quadratic form, we can find the mean and covariance by completing the square. Expanding the quadratic form, we get\n",
    "$$\n",
    "-\\frac{1}{2} (\\xb-\\mub)^T \\Sigma^{-1} (\\xb-\\mub)\n",
    "=\n",
    "-\\frac{1}{2} \\xb^T \\Sigma^{-1} \\xb\n",
    "+\\xb^T \\Sigma^{-1} \\mub\n",
    "+ const\n",
    "$$\n",
    "If we can equate the coefficients of any quadratic form similar to the RHS of the above equation, it becomes straightforward to find the mean and covariance.\n",
    "\n",
    "That is,\n",
    "* the covar is the matrix \"in between\" the **x**'s\n",
    "* mean is part of the linear term in the form of $\\Sigma^{-1} \\mu$"
   ]
  },
  {
   "cell_type": "markdown",
   "metadata": {},
   "source": [
    "## Quadratic form"
   ]
  },
  {
   "cell_type": "markdown",
   "metadata": {},
   "source": [
    "<div id='partitionedexpansion'/>\n",
    "\\begin{array}{rll}\n",
    "-\\frac{1}{2} (\\xb - \\mub)^T \\Sigma^{-1} (\\xb - \\mub)\n",
    "&=&\n",
    "\\mat{\\xab-\\muab & \\xbb-\\mubb}\n",
    "\\mat{\\laa & \\lab \\\\ \\lba & \\lbb}\n",
    "\\mat{\\xab-\\muab \\\\ \\xbb-\\mubb}\n",
    "\\\\\n",
    "&=\n",
    "&-\\frac{1}{2} (\\xab - \\muab)^T \\laa (\\xab - \\muab)\n",
    "-\\frac{1}{2} (\\xab - \\muab)^T \\lab (\\xbb - \\mubb)\n",
    "\\\\\n",
    "&&\n",
    "-\\frac{1}{2} (\\xbb - \\mubb)^T \\lba (\\xab - \\muab)\n",
    "-\\frac{1}{2} (\\xbb - \\mubb)^T \\lbb (\\xbb - \\mubb)\n",
    "\\end{array}"
   ]
  },
  {
   "cell_type": "markdown",
   "metadata": {},
   "source": [
    "Now we need to find $\\mu_{\\ab \\mid \\bb}$ and $\\Sigma_{\\ab \\mid \\bb}$. "
   ]
  },
  {
   "cell_type": "markdown",
   "metadata": {},
   "source": [
    "### Finding covar"
   ]
  },
  {
   "cell_type": "markdown",
   "metadata": {},
   "source": [
    "If we consider $\\xbb$ as constant and pick the terms of second order in $\\xab$, we get\n",
    "\n",
    "\\begin{array}{llr}\n",
    "-\\frac{1}{2} \\xab^T \\laa \\xab\n",
    "\\end{array}\n",
    "\n",
    "Hence, $\\Sigma_{\\ab \\mid \\bb} = \\laa^{-1}$"
   ]
  },
  {
   "cell_type": "markdown",
   "metadata": {},
   "source": [
    "### Finding Mean"
   ]
  },
  {
   "cell_type": "markdown",
   "metadata": {},
   "source": [
    "Coefficients of the terms linear in $\\xab$  \n",
    "$$\n",
    "\\arrthree{\n",
    "\\Sigma^{-1}_{\\ab \\mid \\bb} \\mu_{\\ab \\mid \\bb}\n",
    "&= \n",
    "\\laa\\muab\n",
    "-\\half \\lab (\\xbb - \\mubb)\n",
    "-\\half \\lba (\\xbb - \\mubb)\n",
    "\\\\ \\laa \\mu_{\\ab \\mid \\bb} &=\n",
    "\\laa\\muab - \\lab (\\xbb - \\mubb)\n",
    "\\\\\n",
    "\\mu_{\\ab \\mid \\bb}\n",
    "&=\n",
    "\\muab - \\laa^{-1} \\lab (\\xbb - \\mubb)\n",
    "\\\\\n",
    "}\n",
    "$$"
   ]
  },
  {
   "cell_type": "markdown",
   "metadata": {},
   "source": [
    "<div id='ConditionalMoments' />\n",
    "Hence, the mean and covariance of the condional are\n",
    "$$\n",
    "\\arrthree{\n",
    "\\E{\\mub_{\\ab \\mid \\bb}}\n",
    "&=\n",
    "\\muab - \\laa^{-1} \\lab (\\xbb - \\mubb)\n",
    "\\\\\n",
    "\\cov{\\ab \\mid \\bb}\n",
    "&=\n",
    "\\laai\n",
    "}\n",
    "$$"
   ]
  },
  {
   "cell_type": "markdown",
   "metadata": {},
   "source": [
    "## Alt way"
   ]
  },
  {
   "cell_type": "markdown",
   "metadata": {},
   "source": [
    "<div id='ParitionInverse'/>\n",
    "[Since](notebooks/void-main/appendix/linear-algebra.ipynb#Schur-Complement)\n",
    "\\begin{array}{rlr}\n",
    "\\mat{\n",
    "\\Ab & \\Bb\\\\\n",
    "\\Cb & \\Db\n",
    "}^{-1}\n",
    "&=\n",
    "\\mat{\n",
    "\\Mb & -\\Mb\\Bb\\Db^{-1}\n",
    "\\\\\n",
    "-\\Db^{-1}\\Cb\\Mb &\n",
    "\\Db^{-1}+\\Db^{-1}\\Cb\\Mb\\Bb\\Db^{-1}\n",
    "}\n",
    "\\\\\n",
    "\\text{where }\n",
    "\\Mb\n",
    "&=\n",
    "\\left(\n",
    "  \\Ab - \\Bb\\Db^{-1}\\Cb\n",
    "\\right)^{-1}\n",
    "\\\\\n",
    "\\end{array}"
   ]
  },
  {
   "cell_type": "markdown",
   "metadata": {},
   "source": [
    "Using the covariance matrix instead of the precision matrix, we get\n",
    "\n",
    "$$\n",
    "\\arrthree{\n",
    "\\mat{\n",
    "\\saa & \\sab \\\\\n",
    "\\sba & \\sbb\n",
    "}^{-1}\n",
    "&=\n",
    "\\mat{\\laa & \\lab \\\\ \\lba & \\lbb}\n",
    "\\\\\n",
    "\\laa\n",
    "&=\n",
    "\\mathbf{M} = (\\saa - \\sab \\sbb^{-1} \\sba)^{-1}\n",
    "\\\\\n",
    "\\lab\n",
    "&= -\\mathbf{M} \\sab \\sbb^{-1}\n",
    " = -(\\saa - \\sab \\sbb^{-1} \\sba)^{-1} \\sab \\sbb^{-1}\n",
    "\\\\\n",
    "}\n",
    "$$"
   ]
  },
  {
   "cell_type": "markdown",
   "metadata": {},
   "source": [
    "$$\n",
    "\\arrthree{\n",
    "\\mu_{\\ab \\mid \\bb}\n",
    "&=\n",
    "\\muab - \\laa^{-1} \\lab (\\xbb - \\mubb)\n",
    "\\\\\n",
    "&=\n",
    "\\muab\n",
    "-\n",
    "\\laa^{-1}\n",
    "(-\\laa \\sab \\sbb^{-1})\n",
    "(\\xbb - \\mubb)\n",
    "\\\\\n",
    "&=\n",
    "\\muab + \\sab \\sbb^{-1} (\\xbb -\\mubb)\n",
    "\\\\\n",
    "\\Sigma_{\\ab \\mid \\bb}\n",
    "&=\n",
    "\\saa - \\sab\\sbb^{-1}\\sba\n",
    "}\n",
    "$$"
   ]
  },
  {
   "cell_type": "markdown",
   "metadata": {},
   "source": [
    "Marginal Gaussian Distributions\n",
    "================="
   ]
  },
  {
   "cell_type": "markdown",
   "metadata": {},
   "source": [
    "## Goal\n",
    "\n",
    "Transform the standard expansion in $(\\xab,\\xbb)$ as a quadratic expansion in $\\xab$"
   ]
  },
  {
   "cell_type": "markdown",
   "metadata": {},
   "source": [
    "Need to find $p(\\xab) = \\int p(\\xab, \\xbb) d\\xbb$.\n",
    "From <a href=\"#partitionedexpansion\">Partitioned Expansion</a>, we have the following terms involving only $\\xbb$."
   ]
  },
  {
   "cell_type": "markdown",
   "metadata": {},
   "source": [
    "## Terms with $\\xbb$"
   ]
  },
  {
   "cell_type": "markdown",
   "metadata": {},
   "source": [
    "Remember this\n",
    "$$\n",
    "\\arrthree{\n",
    "\\xt \\Ab \\xb - 2\\xt \\bb\n",
    "&=\n",
    "\\left(\n",
    "  \\xb - \\underl{\\text{some term}}\n",
    "\\right)^T\n",
    "~\\Ab \n",
    "~\\left(\n",
    "  \\xb - \\underl{\\text{some term}}\n",
    "\\right)\n",
    "+ \\text{extra terms}\n",
    "\\\\ &=\n",
    "\\left(\n",
    "  \\xb - \\Ai \\bb\n",
    "\\right)^T\n",
    "~\\Ab\n",
    "\\left(\n",
    "  \\xb - \\Ai \\bb\n",
    "\\right)\n",
    "+ \\text{extra terms}\n",
    "\\\\ &=\n",
    "\\left(\n",
    "  \\xb - \\Ai \\bb\n",
    "\\right)^T\n",
    "~\\Ab\n",
    "\\left(\n",
    "  \\xb - \\Ai \\bb\n",
    "\\right)\n",
    "- \\bt \\Ai \\bb\n",
    "}\n",
    "$$"
   ]
  },
  {
   "cell_type": "markdown",
   "metadata": {},
   "source": [
    "$$\n",
    "\\arrthree{\n",
    "\\text{Terms having }\\xbb\n",
    "&=\n",
    "-\\frac{1}{2}(\\xab-\\muab)^T \\lab \\xbb\n",
    "\\\\\n",
    "&~~~ \n",
    "-\\frac{1}{2}\\xbb^T \\lba (\\xab-\\muab)\n",
    "\\\\\n",
    "&~~~\n",
    "-\\frac{1}{2} \\xbb^T \\lbb \\xbb\n",
    "+ \\xbb^T \\lbb \\mubb\n",
    "\\\\\n",
    "&=\n",
    "-\\frac{1}{2} \\xbb^T \\lbb \\xbb\n",
    "+ \\xbb^T \\lbb \\mubb\n",
    "- \\xbb^T \\lba (\\xab-\\muab)\n",
    "\\\\\n",
    "&=\n",
    "-\\frac{1}{2} \\xbb^T \\lbb \\xbb\n",
    "+ \\xbb^T ( \\lbb \\mubb - \\lba (\\xab-\\muab))\n",
    "\\\\\n",
    "&=\n",
    "-\\frac{1}{2} \\xbb^T \\lbb \\xbb\n",
    "+ \\xbb^T \\mb\n",
    "\\\\ &=\n",
    "-\\half\n",
    "\\left\\{\n",
    "  \\xbb^T \\lbb \\xbb - 2 \\xbb^T \\mb\n",
    "\\right\\} & \\commentgray{Apply the f. formula}\n",
    "\\\\\n",
    "&=\n",
    "-\\half\n",
    "\\left\\{\n",
    "  (\\xbb - \\lbbi \\mb)^T \\lbb (\\xbb - \\lbbi \\mb) - \\mb^T \\lbbi \\mb\n",
    "\\right\\}\n",
    "\\\\ &=\n",
    "-\\frac{1}{2}\n",
    "(\\xbb - \\lbb^{-1} \\mb)^{-1}\n",
    "\\lbb\n",
    "(\\xbb - \\lbb^{-1} \\mb)\n",
    "+ \\frac{1}{2} \\mb^T \\lbb^{-1} \\mb\n",
    "}\n",
    "$$"
   ]
  },
  {
   "cell_type": "markdown",
   "metadata": {},
   "source": [
    "The first term gets integrated out and the second term contains only $\\xab$"
   ]
  },
  {
   "cell_type": "markdown",
   "metadata": {},
   "source": [
    "## Term with $\\xab$ from prev"
   ]
  },
  {
   "cell_type": "markdown",
   "metadata": {},
   "source": [
    "For your fucking reference\n",
    "$$\n",
    "\\arrthree{\n",
    "\\mt \\lbbi \\mb\n",
    "&=\n",
    "\\left\\{\n",
    "  \\lbb \\mubb - \\lba (\\xab-\\muab)\n",
    "\\right\\}^T \\lbbi \n",
    "\\left\\{\n",
    "  \\lbb \\mubb - \\lba (\\xab-\\muab)\n",
    "\\right\\}\n",
    "\\\\ &=\n",
    "\\mub_b^T \\lbb \\lbbi \\lbb \\mubb + (\\xb_a - \\mub_a)^T \\lab \\lbbi \\lba (\\xb_a - \\mub_a)\n",
    "- 2 \\mub_b^T \\lba (\\xb_a - \\mu_a)\n",
    "\\\\ &=\n",
    "\\underbrace{\n",
    "\\xb_a^T \\laa \\lbbi \\lba \\xb_a}_{\\text{quadratic}}\n",
    "+\n",
    "\\underbrace{\n",
    "\\xb_a^T \\lab \\lbbi \\lba \\mub_a - 2 \\xb_a^T \\lab \\mubb}_{\\text{linear}}\n",
    "+ \\text{const}\n",
    "}\n",
    "$$\n",
    "\n",
    "Hence\n",
    "$$\n",
    "\\half \\mt \\lbbi \\mb = \n",
    "\\underbrace{\n",
    "\\half \\xb_a^T \\laa \\lbbi \\lba \\xb_a}_{\\text{quadratic}}\n",
    "+\n",
    "\\underbrace{\n",
    "\\half \\xb_a^T \\lab \\lbbi \\lba \\mub_a - \\xb_a^T \\lab \\mubb}_{\\text{linear}}\n",
    "$$"
   ]
  },
  {
   "cell_type": "markdown",
   "metadata": {},
   "source": [
    "## Combining terms"
   ]
  },
  {
   "cell_type": "markdown",
   "metadata": {},
   "source": [
    "Only the last term is dependent on $\\xab$. Taking this term along with the other terms that depend on $\\xab$ in <a href=\"#partitionedexpansion\">Partitioned Expansion</a>, we get\n",
    "$$\n",
    "\\arrthree{\n",
    "\\text{Terms having }\\xab\n",
    "&=\n",
    "\\overbrace{\n",
    "\\frac{1}{2} \\mb^T \\lbbi \\mb}^{\\text{From previous}}\n",
    "~~\n",
    "\\overbrace{\n",
    "-\\frac{1}{2}\\xabt \\laa \\xab\n",
    "+\\xabt (\\laa \\muab + \\lab \\mubb)}^{\\text{std. expansion}}\n",
    "\\\\\n",
    "&=\n",
    "-\\frac{1}{2} \\xabt \\left( \n",
    "\\laa - \\lab \\lbbi \\lba\n",
    "\\right) \\xab\n",
    "\\\\\n",
    "& ~~~\n",
    "+ \\xabt \\left( \\laa - \\lab \\lbbi \\lba \\right)^{-1} \\muab\n",
    "+ const\n",
    "}\n",
    "$$"
   ]
  },
  {
   "cell_type": "markdown",
   "metadata": {},
   "source": [
    "From <a href='#StandardExpansion'>Standard Expansion</a>, we get\n",
    "$$\n",
    "\\arrthree{\n",
    "\\text{Covariance} \\\\\n",
    "\\Sigma_a\n",
    "&=\n",
    "\\left( \\laa - \\lab \\lbbi \\lba \\right)^{-1}\n",
    "& \\commentgray{From quadratic term}\n",
    "\\\\\n",
    "\\text{Mean}\n",
    "&=\n",
    "\\Sigma^{-1} \\left( \\laa\\muab - \\lab \\lbbi \\lba \\right) \\muab &  \\commentgray{coeff of linear term}\n",
    "\\\\\n",
    "&=\n",
    "\\Sigma_a \\left( \\laa\\muab - \\lab \\lbbi \\lba \\right) \\muab\n",
    "\\\\\n",
    "&= \\muab\n",
    "}\n",
    "$$"
   ]
  },
  {
   "cell_type": "markdown",
   "metadata": {},
   "source": [
    "Another vantage point\n",
    "$$\n",
    "\\text{Since }\n",
    "\\mat{\\laa & \\lab \\\\ \\lba & \\lbb}^{-1}\n",
    "=\n",
    "\\mat{\\saa & \\sab \\\\ \\sba & \\sbb}\n",
    "$$\n",
    "we can use <a href='#ParitionInverse'>General Partition Inverse</a>,\n",
    "to have $\\saa = \\left( \\laa - \\lab \\lbbi \\lba \\right)^{-1}$"
   ]
  },
  {
   "cell_type": "markdown",
   "metadata": {},
   "source": [
    "<div id='MarginalMoments'/>\n",
    "Thus, the mean and covariance for marginals is given by\n",
    "$$\n",
    "\\arrthree{\n",
    "\\E{\\xab} &= \\muab \\\\\n",
    "\\cov{\\xab} &= \\saa\n",
    "}$$"
   ]
  },
  {
   "cell_type": "markdown",
   "metadata": {},
   "source": [
    "# Summary for conditionals and marginal"
   ]
  },
  {
   "cell_type": "markdown",
   "metadata": {},
   "source": [
    "In conclusion, for partitioned gaussians, we have\n",
    "\n",
    "\\begin{array}{rllrl}\n",
    "\\xb\n",
    "&=\n",
    "\\mat{\\xab \\\\ \\xbb}\n",
    "&&\n",
    "\\mub\n",
    "&=\n",
    "\\mat{\\muab \\\\ \\mubb}\n",
    "\\\\\n",
    "\\Sigma\n",
    "&=\n",
    "\\mat{\\saa & \\sab \\\\ \\sba & \\sbb}\n",
    "&&\n",
    "\\Lambda\n",
    "&=\n",
    "\\mat{\\laa & \\lab \\\\ \\lba & \\lbb}\n",
    "\\\\\n",
    "\\end{array}"
   ]
  },
  {
   "cell_type": "markdown",
   "metadata": {},
   "source": [
    "\\begin{array}{rlr}\n",
    "\\text{Conditional Distribution}\\\\\n",
    "p(\\xab \\mid \\xbb)\n",
    "&=\n",
    "\\mathcal{N}\n",
    "\\left(\n",
    "  \\xb \\mid \\mu_{\\ab \\mid \\bb}, \\laai\n",
    "\\right)\n",
    "\\\\\n",
    "\\mu_{\\ab \\mid \\bb}\n",
    "&=\n",
    "\\muab - \\laa^{-1} \\lab (\\xbb - \\mubb)\n",
    "\\\\\n",
    "\\text{Marginal Distribution} \\\\\n",
    "p(\\xab)\n",
    "&=\n",
    "\\mathcal{N} \\left( \\xab \\mid \\muab, \\saa \\right)\n",
    "\\end{array}"
   ]
  },
  {
   "cell_type": "markdown",
   "metadata": {},
   "source": [
    "Bayes' Theorem for Gaussian Variables\n",
    "====================="
   ]
  },
  {
   "cell_type": "markdown",
   "metadata": {},
   "source": [
    "Given\n",
    "* $p(\\xb)$\n",
    "* $p(\\yb \\mid \\xb)$\n",
    "  * mean: linear function of **x** [Very important]\n",
    "  * covar: independent of **x**\n",
    "* This is a linear Gaussian Model\n",
    "\n",
    "Find\n",
    "* $p(\\yb)$\n",
    "* $p(\\xb \\mid \\yb)$\n",
    "\n",
    "Let\n",
    "$$\n",
    "p(\\xb) = \\Nl{\\xb}{\\mu}{\\Lambda^{-1}}\\\\\n",
    "p(\\yb \\mid \\xb) = \\Nl{\\yb}{\\Ab\\xb + \\bb}{\\Lb^{-1}}\n",
    "$$"
   ]
  },
  {
   "cell_type": "markdown",
   "metadata": {},
   "source": [
    "## Finding Marginal (Nemo?)"
   ]
  },
  {
   "cell_type": "markdown",
   "metadata": {},
   "source": [
    "### Goal\n",
    "Express the joint as $\\zt \\Rb \\zb$ where $\\zb = \\mat{\\xb \\\\ \\yb}$ and for some **R**"
   ]
  },
  {
   "cell_type": "markdown",
   "metadata": {},
   "source": [
    "* let $\\zb = \\mat{\\xb \\\\ \\yb}$\n",
    "* Then\n",
    "\\begin{array}{llr}\n",
    "\\ln p(\\zb)\n",
    "&=\n",
    "\\ln p(\\xb) + \\ln p(\\yb \\mid \\xb)\n",
    "\\\\\n",
    "&=\n",
    "\\multivarexp{(\\xb - \\mub)}{\\Lambda}\n",
    "\\\\\n",
    "&~~~\n",
    "+\\multivarexp{(\\yb-\\Ab\\xb-\\bb)}{\\Lb}\n",
    "+\\text{const}\n",
    "&\n",
    "\\commentgray{terms ind of $\\xb, \\yb$}\n",
    "\\\\\n",
    "\\end{array}"
   ]
  },
  {
   "cell_type": "markdown",
   "metadata": {},
   "source": [
    "### Finding Variance"
   ]
  },
  {
   "cell_type": "markdown",
   "metadata": {},
   "source": [
    "To find the variance consider the second order terms\n",
    "\\begin{array}{llr}\n",
    "\\text{Ma Behen}\n",
    "&=\n",
    "-\\half \\xb^T (\\overbrace{\\Lambda + \\Ab^T\\Lb\\Ab}^{\\text{(1,1)}}) \\xb\n",
    "+\\half \\xb^{T} \\overbrace{\\Ab^T\\Lb}^{\\text{(1,2)}} \\yb\n",
    "+\\half \\yb^{T}\\overbrace{\\Lb\\Ab}^{\\text{(2,1)}} \\xb\n",
    "-\\half \\yb^{T}\\overbrace{\\Lb}^{\\text{(2,2)}} \\yb\n",
    "\\\\\n",
    "&=\n",
    "-\\frac{1}{2}\n",
    "\\mat{\\xb & \\yb}\n",
    "\\mat{\n",
    "\\Lambda+\\Ab^T\\Lb\\Ab & -\\Ab^T\\Lb\\\\\n",
    "-\\Lb\\Ab & \\Lb\n",
    "}\n",
    "\\mat{\\xb \\\\ \\yb}\n",
    "\\\\\n",
    "&=\n",
    "-\\frac{1}{2} \\zb^T \\Rb \\zb\n",
    "\\end{array}"
   ]
  },
  {
   "cell_type": "markdown",
   "metadata": {},
   "source": [
    "Since\n",
    "$$\n",
    "\\mat{x & y} \\mat{A & B\\\\ C & D} \\mat{x \\\\ y}\n",
    "=\n",
    "x^TAx + x^TBy + y^TCx  + y^TDy\n",
    "$$\n",
    "and\n",
    "\\begin{array}{rlr}\n",
    "\\mat{\n",
    "\\Ab & \\Bb\\\\\n",
    "\\Cb & \\Db\n",
    "}^{-1}\n",
    "&=\n",
    "\\mat{\n",
    "\\Mb & -\\Mb\\Bb\\Db^{-1}\n",
    "\\\\\n",
    "-\\Db^{-1}\\Cb\\Mb &\n",
    "\\Db^{-1}+\\Db^{-1}\\Cb\\Mb\\Bb\\Db^{-1}\n",
    "}\n",
    "\\\\\n",
    "\\text{where }\n",
    "\\Mb\n",
    "&=\n",
    "\\left(\n",
    "  \\Ab - \\Bb\\Db^{-1}\\Cb\n",
    "\\right)^{-1}\n",
    "\\\\\n",
    "\\end{array}"
   ]
  },
  {
   "cell_type": "markdown",
   "metadata": {},
   "source": [
    "<div id='JoinCovariance'/>\n",
    "\\begin{array}{rlr}\n",
    "\\text{we have for }\\Rb\\\\\n",
    "\\Mb & = \\Lambda + \\Ab^T\\Lb\\Ab - (-\\Ab^T\\Lb)(\\Lb^{-1})(-\\Lb\\Ab) = \\Lambda\n",
    "\\\\\n",
    "\\text{Hence }\n",
    "\\cov{\\zb} = \\Rb^{-1}\n",
    "&=\n",
    "\\mat{\n",
    "\\Lambda^{-1} & \\Lambda^{-1}\\Ab^T\\\\\n",
    "\\Ab\\Lambda^{-1} & \\Lb^{-1} + \\Ab\\Lambda^{-1}\\Ab^T\n",
    "}\n",
    "\\end{array}"
   ]
  },
  {
   "cell_type": "markdown",
   "metadata": {},
   "source": [
    "### Finding Mean"
   ]
  },
  {
   "cell_type": "markdown",
   "metadata": {},
   "source": [
    "\n",
    "Identifying the mean involves the linear terms in $\\ln p(\\zb)$\n",
    "$$\n",
    "\\xb^T \\Lambda \\mub - \\xb^T \\Ab^T \\Lb \\bb + \\yb^T \\Lb \\bb\n",
    "=\n",
    "\\mat{\\xb \\\\ \\yb}^T\n",
    "\\mat{\\Lambda \\mub - \\Ab^T \\Lb \\bb \\\\ \\Lb \\bb}\n",
    "$$\n",
    "From <a href='#StandardExpansion'>Standard Expansion</a>, we have\n",
    "$$\n",
    "\\arrthree{\n",
    "\\E{\\zb}\n",
    "&=\n",
    "\\text{cov} \\times \\text{Coeff of linear term}\n",
    "\\\\\n",
    "&=\n",
    "R^{-1} \\mat{\\Lambda \\mub - \\At \\Lb \\bb \\\\ \\Lb \\bb}\n",
    "\\\\\n",
    "&=\n",
    "\\mat{\n",
    "\\Lambda^{-1} & \\Lambda^{-1}\\At \\\\\n",
    "\\Ab\\Lambda^{-1} & \\Lb^{-1} + \\Ab \\Lambda^{-1}\\At\n",
    "}\n",
    "\\mat{\\Lambda \\mub - \\Ab^T \\Lb \\bb \\\\ \\Lb \\bb}\n",
    "\\\\\n",
    "&=\n",
    "\\left[\n",
    "  \\begin{array}{rlrl}\n",
    "     \\Li\n",
    "     &\n",
    "     \\left( \\Lambda \\mu - \\At \\Lb \\bb\\right)\n",
    "     &+\n",
    "     \\Li \\At\n",
    "     &\n",
    "     \\Lb \\bb\n",
    "     \\\\\n",
    "     \\Ab \\Li \n",
    "     &\n",
    "     \\left( \\Lambda \\mu - \\At \\Lb \\bb\\right)\n",
    "     &+\n",
    "     \\left( \\Lb^{-1} + \\Ab \\Li \\At \\right)\n",
    "     &\n",
    "     \\Lb \\bb\n",
    "  \\end{array}\n",
    "\\right]\n",
    "\\\\\n",
    "&=\n",
    "\\mat{\n",
    "  \\mub \\\\\n",
    "  \\Ab \\mu + \\bb\n",
    "}\n",
    "}\n",
    "$$"
   ]
  },
  {
   "cell_type": "markdown",
   "metadata": {},
   "source": [
    "From <a href='#MarginalMoments'>Moments of Marginals</a> and \n",
    "<a href='#JoinCovariance'>Covariance **R**</a> , we have,\n",
    "$$\n",
    "\\arrthree{\n",
    "\\E{\\yb}\n",
    "&=\n",
    "\\Ab \\mub + \\bb\n",
    "\\\\\n",
    "\\cov{\\yb}\n",
    "&=\n",
    "\\Lbi + \\Ab \\Li \\At\n",
    "}\n",
    "$$"
   ]
  },
  {
   "cell_type": "markdown",
   "metadata": {},
   "source": [
    "## Finding Conditional"
   ]
  },
  {
   "cell_type": "markdown",
   "metadata": {},
   "source": [
    "Now we need to seek closure for Conditional $p(\\xb \\mid \\yb)$.\n",
    "\n",
    "The expressions for conditional is better expressed using the precision matrix as in <a href='#ConditionalMoments'>Moments of Conditionals</a>.\n",
    "\n",
    "Precision matrix, for reference\n",
    "$$\n",
    "\\mat{\n",
    "\\Lambda+\\Ab^T\\Lb\\Ab & -\\Ab^T\\Lb\\\\\n",
    "-\\Lb\\Ab & \\Lb\n",
    "}\n",
    "$$"
   ]
  },
  {
   "cell_type": "markdown",
   "metadata": {},
   "source": [
    "$$\n",
    "\\newcommand{\\latla}{\\left( \\Lambda + \\At \\Lb \\Ab \\right)}\n",
    "\\newcommand{\\latlai}{\\latla^{-1}}\n",
    "$$"
   ]
  },
  {
   "cell_type": "markdown",
   "metadata": {},
   "source": [
    "$$\n",
    "\\arrthree{\n",
    "\\cov{\\xb \\mid \\yb}\n",
    "&=\n",
    "\\laai = \\latlai\n",
    "}\n",
    "$$"
   ]
  },
  {
   "cell_type": "markdown",
   "metadata": {},
   "source": [
    "$$\n",
    "\\arrthree{\n",
    "\\E{\\xb \\mid \\yb}\n",
    "&=\n",
    "\\muab - \\laai \\lab (\\xbb - \\mubb)\n",
    "\\\\\n",
    "&=\n",
    " \\muab\n",
    " -\\laai\n",
    " \\left( -\\At \\Lb \\right)\n",
    " (\\yb - \\Ab \\mub - \\bb)\n",
    "\\\\ &=\n",
    "\\laai \\laa \\mub\n",
    " +\\laai \\left\\{\\At \\Lb (\\yb - \\bb) - \\At \\Lb \\Ab \\mub \\right\\}\n",
    "\\\\ &=\n",
    "\\laai \\latla \\mub\n",
    " +\\laai \\left\\{\\At \\Lb (\\yb - \\bb) - \\At \\Lb \\Ab \\mub \\right\\}\n",
    "\\\\ &=\n",
    "\\laai \\Brace{\\Lambda \\mub + \\color{green}{\\At \\Lb \\Ab \\mub}}\n",
    " +\\laai \\left\\{\\At \\Lb (\\yb - \\bb) - \\color{fuchsia}{\\At \\Lb \\Ab \\mub} \\right\\}\n",
    "\\\\\n",
    "&=\n",
    "\\laai \\left( \\At \\Lb (\\yb - \\bb) + \\Lambda \\mub \\right)\n",
    "\\\\\n",
    "&=\n",
    "\\laai \\left( \\At \\Lb (\\yb - \\bb) + \\Lambda \\mub \\right)\n",
    "}\n",
    "$$"
   ]
  },
  {
   "cell_type": "markdown",
   "metadata": {},
   "source": [
    "# Summary"
   ]
  },
  {
   "cell_type": "markdown",
   "metadata": {},
   "source": [
    "<div id='BayesTheoremForGaussianVariables'/>\n",
    "Given a marginal Gaussian for **x** and a conditional gaussian for **y** given **x** of the form\n",
    "$$\n",
    "\\arrthree{\n",
    "p(\\xb) \n",
    "&=\n",
    "\\Nl{\\xb}{\\mub}{\\Li}\n",
    "\\\\\n",
    "p(\\yb \\mid \\xb)\n",
    "&=\n",
    "\\Nl{\\yb}{\\Ab\\xb + \\bb}{\\Lbi}\n",
    "}\n",
    "$$"
   ]
  },
  {
   "cell_type": "markdown",
   "metadata": {},
   "source": [
    "$$\n",
    "\\arrthree{\n",
    "\\mathbf{Marginal:    }~~~~~~\n",
    "p(\\yb)\n",
    "&=\n",
    "\\Nl{\\yb}{\\Ab\\mub+\\bb}{\\Lbi + \\Ab\\Lambda^{-1}\\At}\n",
    "}\n",
    "$$\n",
    "*********************************************************************\n",
    "$$\n",
    "\\arrthree{\n",
    "\\mathbf{Conditional:} ~~~~\n",
    "p(\\xb \\mid \\yb)\n",
    "&=\n",
    "\\Nl\n",
    "{\\xb}\n",
    "{\\Sigma \\left\\{ \\At\\Lb(\\yb-\\bb) + \\Lambda\\mub \\right\\}}\n",
    "{\\Sigma}\n",
    "\\\\\n",
    "\\text{where}\n",
    "\\\\\n",
    "\\Sigma\n",
    "&= \\left(\\Lambda + \\At\\Lb\\Ab\\right)^{-1}\n",
    "}\n",
    "$$"
   ]
  },
  {
   "cell_type": "markdown",
   "metadata": {},
   "source": [
    "## Marginal distribution of  y"
   ]
  },
  {
   "cell_type": "markdown",
   "metadata": {},
   "source": [
    "$$\n",
    "\\arrthree{\n",
    "p(\\yb)\n",
    "&=\n",
    "\\Nl{\\yb}{\\Ab\\mub+\\bb}{\\Lbi + \\Ab\\Lambda^{-1}\\At}\n",
    "}\n",
    "$$"
   ]
  },
  {
   "cell_type": "markdown",
   "metadata": {},
   "source": [
    "### Comments for x"
   ]
  },
  {
   "cell_type": "markdown",
   "metadata": {},
   "source": [
    "* The mean of the marginal **y** is the same transformation of the conditional $\\yb \\mid \\xb$ applied to the mean of **x**\n",
    "* The covariance requires more work  \n",
    "Since $\\Li = \\sum_i \\li \\ub_i \\ub_i^T$, we have\n",
    "$$\n",
    "\\arrthree{\n",
    "\\Ab \\Li \\At \n",
    "&=\n",
    "\\Ab\n",
    "\\left\\{\n",
    "  \\sum_i \\li \\ub_i \\ub_i^T \n",
    "\\right\\}\n",
    "\\At\n",
    "\\\\ &=\n",
    "\\sum_i \\li (\\Ab \\ub_i) (\\Ab \\ub_i)^T\n",
    "}\n",
    "$$\n",
    "That is, the eigen vectors of **x** are tranformed by **A** and this gets added to the precision of the conditional **y**."
   ]
  },
  {
   "cell_type": "markdown",
   "metadata": {},
   "source": [
    "## Conditional distribution of x | y"
   ]
  },
  {
   "cell_type": "markdown",
   "metadata": {},
   "source": [
    "$$\n",
    "\\arrthree{\n",
    "p(\\xb) \n",
    "&=\n",
    "\\Nl{\\xb}{\\mub}{\\Li}\n",
    "\\\\\n",
    "p(\\yb \\mid \\xb)\n",
    "&=\n",
    "\\Nl{\\yb}{\\Ab\\xb + \\bb}{\\Lbi}\n",
    "}\n",
    "$$\n",
    "******************************************************************\n",
    "$$\n",
    "\\arrthree{\n",
    "p(\\xb \\mid \\yb)\n",
    "&=\n",
    "\\Nl\n",
    "{\\xb}\n",
    "{\\Sigma \\left\\{ \\At\\Lb(\\yb-\\bb) + \\Lambda\\mub \\right\\}}\n",
    "{\\Sigma}\n",
    "\\\\\n",
    "\\text{where}\n",
    "\\\\\n",
    "\\Sigma\n",
    "&= \\left(\\Lambda + \\At\\Lb\\Ab\\right)^{-1}\n",
    "}\n",
    "$$"
   ]
  },
  {
   "cell_type": "markdown",
   "metadata": {},
   "source": [
    "### Comments for x | y"
   ]
  },
  {
   "cell_type": "markdown",
   "metadata": {},
   "source": [
    "There is no such thing. the expression looks like a martian puke"
   ]
  },
  {
   "cell_type": "markdown",
   "metadata": {},
   "source": [
    "* The covariance is nothing but the inverse of the sum of two precisions\n",
    "  * the first one comes from **x** itself\n",
    "  * the second term is the reverse transformation of the precision of the conditional\n",
    "* The second term in the expression for mean is the sum of two covar transformations\n",
    "  1. reverse transformation of the covar times **y**\n",
    "  1. covar of x times the mean of **x**. \n",
    "  \n",
    "I told you it would be horse shite."
   ]
  }
 ],
 "metadata": {
  "hide_input": true,
  "kernelspec": {
   "display_name": "Python 3",
   "language": "python",
   "name": "python3"
  },
  "language_info": {
   "codemirror_mode": {
    "name": "ipython",
    "version": 3
   },
   "file_extension": ".py",
   "mimetype": "text/x-python",
   "name": "python",
   "nbconvert_exporter": "python",
   "pygments_lexer": "ipython3",
   "version": "3.5.1"
  },
  "latex_envs": {
   "bibliofile": "biblio.bib",
   "cite_by": "apalike",
   "current_citInitial": 1,
   "eqLabelWithNumbers": true,
   "eqNumInitial": 0
  }
 },
 "nbformat": 4,
 "nbformat_minor": 0
}
