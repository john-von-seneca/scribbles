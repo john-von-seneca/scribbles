{
 "cells": [
  {
   "cell_type": "code",
   "execution_count": 2,
   "metadata": {
    "collapsed": true
   },
   "outputs": [],
   "source": [
    "import numpy as np\n",
    "from matplotlib import pyplot as plt\n",
    "%matplotlib inline\n",
    "\n",
    "import random as rnd\n",
    "import os\n",
    "import math\n",
    "\n",
    "# required for interactive plotting\n",
    "from __future__ import print_function\n",
    "from ipywidgets import interact, interactive, fixed\n",
    "import ipywidgets as widgets\n",
    "import numpy.polynomial as np_poly\n",
    "\n",
    "from IPython.display import Math\n",
    "from IPython.display import Latex\n",
    "from IPython.display import HTML"
   ]
  },
  {
   "cell_type": "markdown",
   "metadata": {},
   "source": [
    "initialization  \n",
    "$ \\newcommand{\\E}[1]{\\mathbb{E}\\left[#1\\right]}$  \n",
    "$ \\newcommand{\\V}[1]{\\mathbb{V}\\left[#1\\right]}$\n",
    "$ \\newcommand{\\cov}[1]{\\text{cov} \\sigma\\left[#1\\right]}$\n",
    "$ \\newcommand{\\EXP}[1]{\\exp\\left(#1\\right)}$  \n",
    "$ \\newcommand{\\P}{\\mathbb{P}}$\n",
    "$\\newcommand{\\mat}[1]{\n",
    "\\left[\n",
    "\\begin{matrix}\n",
    "#1\n",
    "\\end{matrix}\n",
    "\\right]\n",
    "}$\n",
    "$\\newcommand{\\commentgray}[1]{\\color{gray}{\\text{#1}}}$\n",
    "$\\newcommand{\\arrthree}[1]{\n",
    "\\begin{array}{rlr}\n",
    "#1\n",
    "\\end{array}\n",
    "}\n",
    "$"
   ]
  },
  {
   "cell_type": "markdown",
   "metadata": {},
   "source": [
    "sum, product\n",
    "$\n",
    "\\newcommand{\\sumnN}{\\displaystyle \\sum_{n=1}^{N}}\n",
    "\\newcommand{\\sumjK}{\\displaystyle \\sum_{j=1}^{K}}\n",
    "\\newcommand{\\sumkK}{\\displaystyle \\sum_{k=1}^{K}}\n",
    "\\newcommand{\\sumkK}{\\displaystyle \\sum_{k=1}^{K}}\n",
    "\\newcommand{\\sumkM}{\\displaystyle \\sum_{k=1}^{M}}\n",
    "\\newcommand{\\summN}{\\displaystyle \\sum_{m=1}^{N}}\n",
    "\\newcommand{\\prodjK}{\\displaystyle \\prod_{j=1}^{K}}\n",
    "\\newcommand{\\prodkK}{\\displaystyle \\prod_{k=1}^{K}}\n",
    "\\newcommand{\\prodmN}{\\displaystyle \\prod_{m=1}^{N}}\n",
    "\\newcommand{\\prodnN}{\\displaystyle \\prod_{n=1}^{N}}\n",
    "$"
   ]
  },
  {
   "cell_type": "markdown",
   "metadata": {},
   "source": [
    "alphabet bold,\n",
    "$\n",
    "\\newcommand{\\Nl}[3]{\\mathcal{N}\\left(#1 \\mid #2, #3\\right)}\n",
    "\\newcommand{\\Nstdx}{\\Nl{\\mathbf{x}}{\\mathbf{\\mu}}{\\Sigma}}\n",
    "\\newcommand{\\ab}{\\mathbf{a}}\n",
    "\\newcommand{\\Ab}{\\mathbf{A}}\n",
    "\\newcommand{\\Abt}{\\Ab^T}\n",
    "\\newcommand{\\Abjk}{\\Ab_{jk}}\n",
    "\\newcommand{\\bb}{\\mathbf{b}}\n",
    "\\newcommand{\\Bb}{\\mathbf{B}}\n",
    "\\newcommand{\\Cb}{\\mathbf{C}}\n",
    "\\newcommand{\\Db}{\\mathbf{D}}\n",
    "\\newcommand{\\Lb}{\\mathbf{L}}\n",
    "\\newcommand{\\Lbi}{\\Lb^{-1}}\n",
    "\\newcommand{\\mb}{\\mathbf{m}}\n",
    "\\newcommand{\\Mb}{\\mathbf{M}}\n",
    "\\newcommand{\\Qb}{\\mathbf{Q}}\n",
    "\\newcommand{\\Rb}{\\mathbf{R}}\n",
    "\\newcommand{\\ub}{\\mathbf{u}}\n",
    "\\newcommand{\\Xb}{\\mathbf{X}}\n",
    "\\newcommand{\\xb}{\\mathbf{x}}\n",
    "\\newcommand{\\xbm}{\\xb_m}\n",
    "\\newcommand{\\xbn}{\\xb_n}\n",
    "\\newcommand{\\xab}{\\mathbf{x_a}}\n",
    "\\newcommand{\\xabt}{\\mathbf{x_a}^T}\n",
    "\\newcommand{\\xbb}{\\mathbf{x_b}}\n",
    "\\newcommand{\\xbbt}{\\mathbf{x_b}^T}\n",
    "\\newcommand{\\yb}{\\mathbf{y}}\n",
    "\\newcommand{\\zb}{\\mathbf{z}}\n",
    "\\newcommand{\\zbm}{\\zb_m}\n",
    "\\newcommand{\\zbn}{\\zb_n}\n",
    "\\newcommand{\\zbnp}{\\zb_{n-1}}\n",
    "\\newcommand{\\znk}{\\zb_{nk}}\n",
    "\\newcommand{\\znpj}{\\zb_{n-1,j}}\n",
    "\\newcommand{\\Zb}{\\mathbf{Z}}\n",
    "\\newcommand{\\Ub}{\\mathbf{U}}\n",
    "$"
   ]
  },
  {
   "cell_type": "markdown",
   "metadata": {},
   "source": [
    "math bold\n",
    "$\n",
    "\\newcommand{\\chib}{\\boldsymbol{\\chi}}\n",
    "\\newcommand{\\etab}{\\pmb{\\eta}}\n",
    "\\newcommand{\\etat}{\\eta^T}\n",
    "\\newcommand{\\etabt}{\\etab^T}\n",
    "\\newcommand{\\laa}{\\Lambda_{aa}}\n",
    "\\newcommand{\\laai}{\\Lambda_{aa}^{-1}}\n",
    "\\newcommand{\\lab}{\\Lambda_{ab}}\n",
    "\\newcommand{\\lba}{\\Lambda_{ba}}\n",
    "\\newcommand{\\lbb}{\\Lambda_{bb}}\n",
    "\\newcommand{\\lbbi}{\\Lambda_{bb}^{-1}}\n",
    "\\newcommand{\\li}{\\Lambda^{-1}}\n",
    "\\newcommand{\\mub}{\\pmb{\\mu}}\n",
    "\\newcommand{\\muab}{\\pmb{\\mu}_a}\n",
    "\\newcommand{\\mubb}{\\pmb{\\mu}_b}\n",
    "\\newcommand{\\pib}{\\pmb{\\pi}}\n",
    "\\newcommand{\\saa}{\\Sigma_{aa}}\n",
    "\\newcommand{\\sab}{\\Sigma_{ab}}\n",
    "\\newcommand{\\sba}{\\Sigma_{ba}}\n",
    "\\newcommand{\\sbb}{\\Sigma_{bb}}\n",
    "\\newcommand{\\thetab}{\\pmb{\\theta}}\n",
    "\\newcommand{\\thetaold}{\\thetab^{\\text{old}}}\n",
    "$\n",
    "\n",
    "$\n",
    "\\newcommand{\\E}[1]{\\mathbb{E}\\left[ #1 \\right]}\n",
    "$"
   ]
  },
  {
   "cell_type": "markdown",
   "metadata": {},
   "source": [
    "aliases for distributions\n",
    "$\\newcommand{\\multivarcoeff}{\\frac{1}{(2\\pi)^{D/2}}\n",
    "\\frac{1}{\\left| \\mathbf{\\Sigma}\\right|^{1/2}}}$\n",
    "$\\newcommand{\\multivarexp}[2]\n",
    "{\n",
    "\\left\\{\n",
    " -\\frac{1}{2} \n",
    " {#1}^T \n",
    " #2\n",
    " {#1}\n",
    "\\right\\}\n",
    "}$\n",
    "$\\newcommand{\\multivarexpx}[1]{\\multivarexp{#1}{\\Sigma^{-1}}}$\n",
    "$\\newcommand{\\multivarexpstd}{\\multivarexpx{(\\xb-\\mub)}}$\n",
    "$\\newcommand{\\gam}{\\operatorname{Gam}}$\n",
    "$\n",
    "\\newcommand{\\sumkMl}{\\sum_{k=1}^{M-1}}\n",
    "\\newcommand{\\sumjMl}{\\sum_{j=1}^{M-1}}\n",
    "$"
   ]
  },
  {
   "cell_type": "markdown",
   "metadata": {},
   "source": [
    "Setting the landscape\n",
    "======================"
   ]
  },
  {
   "cell_type": "markdown",
   "metadata": {},
   "source": [
    "\n",
    "From the graphical model, \n",
    "$$\n",
    "p(\\Xb , \\Zb \\mid \\thetab)\n",
    "=\n",
    "p(\\zb_1 \\mid \\pib)\n",
    "\\left[\n",
    "  \\prod_{n=2}^{N} p(\\zbn \\mid \\zbnp, \\Ab)\n",
    "\\right]\n",
    "\\prodmN p(\\xbm \\mid \\zbm, \\phi)\n",
    "$$"
   ]
  },
  {
   "cell_type": "markdown",
   "metadata": {},
   "source": [
    "Transition Probabilities  \n",
    "-------------------------\n",
    "\n",
    "\\begin{array}{rlr}\n",
    "A_{jk} &\\equiv p(z_{nk} = 1 \\mid z_{n-1,j}=1)\n",
    "\\\\\n",
    "0 &\\le A_{jk} \\le 1\n",
    "\\\\\n",
    "\\sum_k A_{jk} &= 1 & \\commentgray{gotta go to sth}\n",
    "\\end{array}\n",
    "\n",
    "Thus, we can write the conditional distribution as\n",
    "$$\n",
    "p(\\zb_n \\mid \\zb_{n-1}, \\Ab)\n",
    "=\n",
    "\\prodkK \\prodjK A_{jk}^{z_{n-1,j} z_{n,k}}\n",
    "$$\n",
    "\n",
    "The initial latent node $\\zb_1$ doesnt have a parent node and its marginal distribution is represented using $\\pib$, with $\\pi_k \\equiv p(z_{1k} = 1)$, so that\n",
    "$$\n",
    "p(\\zb_1 \\mid \\pib) = \\prodkK \\pi_{k}^{z_{1k}}\n",
    "$$\n",
    "and $\\sum_k \\pi_k = 1$"
   ]
  },
  {
   "cell_type": "markdown",
   "metadata": {},
   "source": [
    "Emission probabilities\n",
    "------------------------\n",
    "\n",
    "spec of the probabilistic model is completed by defining the conditional distributions of the observed variables $p(\\xb_n \\mid \\zb_n, \\phi)$, where $\\phi$ is a set of parameters governing p.\n",
    "\n",
    "since $\\xb_n$ is observed, the distribution $p(\\xb \\mid \\zb_n, \\phi)$, for a given value of $\\phi$, consists of vector of K numbers corresponding to the K states of $\\zb_n$\n",
    "\n",
    "$$\n",
    "p(\\xbn \\mid \\zbn, \\phi) = \\prodkK p(\\xbn \\mid \\phi_k)^{z_{nk}}\n",
    "$$"
   ]
  },
  {
   "cell_type": "markdown",
   "metadata": {},
   "source": [
    "Assumptions\n",
    "\n",
    "* we will focus only on homogeneous models, ie, the conditional distributions governing the latent variables share the same parameters **A**\n",
    "* All emission distributions share the same parameters $\\phi$\n",
    "\n",
    "Note that the mixture model for i.i.d data corresponds to the special case in which $\\Abjk$ are same for all values of j. that is, $p(\\zbn \\mid \\zb_{n-1}) = p(\\zbn)$"
   ]
  },
  {
   "cell_type": "markdown",
   "metadata": {},
   "source": [
    "Joint probability distribution\n",
    "------------------------------\n",
    "\n",
    "\n",
    "from the graphical model, \n",
    "<div id=\"joint-probability\">\n",
    "$$\n",
    "p(\\Xb, \\Zb \\mid \\thetab)\n",
    "=\n",
    "p(\\zb_1 \\mid \\thetab)\n",
    "\\left[\n",
    "  \\prod_{n=2}^{N} p(\\zbn \\mid \\zb_{n-1}, \\Ab)\n",
    "\\right]\n",
    "\\prodmN p(\\xb_m \\mid \\zb_m, \\phi)\n",
    "$$\n",
    "where\n",
    "$$\n",
    "\\arrthree{\n",
    "\\Xb &= \\left\\{ \\xb_1, \\cdots, \\xb_N \\right\\}\n",
    "\\\\\n",
    "\\Zb &= \\left\\{ \\zb_1, \\cdots, \\zb_N \\right\\}\n",
    "\\\\\n",
    "\\thetab &= \\left\\{ \\pib, \\Ab, \\phi \\right\\}\n",
    "}\n",
    "$$"
   ]
  },
  {
   "cell_type": "markdown",
   "metadata": {},
   "source": [
    "ML for HMM\n",
    "============="
   ]
  },
  {
   "cell_type": "markdown",
   "metadata": {},
   "source": [
    "$$\n",
    "p(\\Xb \\mid \\thetab)\n",
    "=\n",
    "\\sum_{\\Zb} p(\\Xb, \\Zb \\mid \\thetab)\n",
    "$$\n",
    "\n",
    "* the joint distribution $p(\\Xb, \\Zb \\mid \\thetab)$ does not factorize over n, hence cannot treat each of the summations over $\\zb_n$ independently\n",
    "* since there are N variables $\\zb_n$, each with K states, the no. of terms would be $K^N$"
   ]
  },
  {
   "cell_type": "markdown",
   "metadata": {},
   "source": [
    "overview of EM\n",
    "-----------------\n",
    "\n",
    "* init model parameters, $\\thetab^{\\text{old}}$\n",
    "* in e step, we take these parameter values and find the posterior of latent variables $p(\\Zb \\mid \\Xb, \\thetab^{\\text{old}})$\n",
    "* using this posterior, eval the expectation of the log of complete-data likelihood \n",
    "\n",
    "$$\n",
    "\\Qb(\\thetab, \\thetab^{\\text{old}})\n",
    "=\n",
    "\\sum_{\\Zb}\n",
    "p(\\Zb \\mid \\Xb, \\thetab^{\\text{old}})\n",
    "\\ln p(\\Xb , \\Zb \\mid \\thetab)\n",
    "$$"
   ]
  },
  {
   "cell_type": "markdown",
   "metadata": {},
   "source": [
    "Shorthand\n",
    "-----------\n",
    "\n",
    "$$\n",
    "\\arrthree{\n",
    "\\gamma(z_n) &= p(\\zbn \\mid \\Xb, \\thetaold)\n",
    "\\\\\n",
    "\\xi(\\zbnp,\\zbn) &= \n",
    "p(\\zbnp, \\zbn \\mid \\Xb, \\thetaold)\n",
    "}\n",
    "$$\n",
    "\n",
    "fuck yeah\n",
    "\n",
    "\n",
    "\\begin{array}{rll}\n",
    "\\gamma(\\znk) &= \\E{\\znk} \n",
    "&= \\sum_\\zb \\gamma(\\zb) \\znk\n",
    "\\\\\n",
    "\\xi(\\znpj, \\znk)\n",
    "&= \\E{\\znpj \\znk}\n",
    "&= \\sum_\\zb \\gamma(\\zb) \\znpj \\znk\n",
    "\\end{array}"
   ]
  },
  {
   "cell_type": "markdown",
   "metadata": {},
   "source": [
    "Thus, from <a href=\"#joint-probability\">joint prob</a>\n",
    "\\begin{array}{lll}\n",
    "\\ln p(\\Xb , \\Zb \\mid \\thetab)\n",
    "&=\n",
    "\\ln p(\\zb_1 \\mid \\pib)\n",
    "&+\n",
    "\\left[\n",
    "  \\displaystyle \\sum_{n=2}^{N} \\ln p(\\zbn \\mid \\zbnp, \\Ab)\n",
    "\\right]\n",
    "\\\\&&+\n",
    "\\summN \\ln p(\\xbm \\mid \\zbm, \\phi)\n",
    "\\\\\n",
    "&=\n",
    "\\sumkK z_{1k} \\ln \\pi_k\n",
    "&+\n",
    "\\left[\n",
    "  \\displaystyle  \\sum_{n=2}^{N} \\sumkK \\sumjK \\znpj\\znk\n",
    "    \\ln A_{jk}\n",
    "\\right]\n",
    "\\\\&&+\n",
    "\\summN \\sumkK z_{nk} \\ln p(\\xbm \\mid \\phi_k)\n",
    "\\\\\n",
    "\\end{array}"
   ]
  },
  {
   "cell_type": "markdown",
   "metadata": {},
   "source": [
    "Thus,\n",
    "\\begin{array}{lll}\n",
    "Q(\\thetab, \\thetaold)\n",
    "&=\n",
    "\\sumkK \\E{z_{1k}} \\ln \\pi_k\n",
    "&+\n",
    "\\left[\n",
    "  \\displaystyle  \\sum_{n=2}^{N} \\sumkK \\sumjK \\E{\\znpj,\\znk}\n",
    "    \\ln A_{jk}\n",
    "\\right]\n",
    "\\\\&&+\n",
    "\\sumnN \\sumkK \\E{z_{nk}} \\ln p(\\xbn \\mid \\phi_k)\n",
    "\\\\\n",
    "&=\n",
    "\\sumkK \\gamma(z_{1k}) \\ln \\pi_k\n",
    "&+\n",
    "\\left[\n",
    "  \\displaystyle  \\sum_{n=2}^{N} \\sumkK \\sumjK \\xi(\\znpj,\\znk)\n",
    "    \\ln A_{jk}\n",
    "\\right]\n",
    "\\\\&&+\n",
    "\\sumnN \\sumkK \\gamma(z_{nk}) \\ln p(\\xbn \\mid \\phi_k)\n",
    "\\end{array}"
   ]
  },
  {
   "cell_type": "markdown",
   "metadata": {},
   "source": [
    "In the E step, we eval $\\gamma(\\zbn)$ and $\\xi(\\zbnp,\\zbn)$ efficiently later on"
   ]
  },
  {
   "cell_type": "markdown",
   "metadata": {},
   "source": [
    "In the M step, we max $Q(\\thetab,\\thetaold)$ wrt parameters $\\{\\pib,\\Ab,\\phi\\}$. while doing so, we treat $\\gamma(\\zbn)$ and $\\xi(\\zbnp,\\zbn)$ as constant"
   ]
  },
  {
   "cell_type": "markdown",
   "metadata": {},
   "source": [
    "max wrt $\\pib$\n",
    "$$\n",
    "\\arrthree{\n",
    "J_{\\pi} & \\sumkK \\gamma(z_{1k}) \\ln \\pi_k + \\lambda \\left(\\sumkK \\pi_k - 1\\right)\n",
    "}\n",
    "$$"
   ]
  },
  {
   "cell_type": "markdown",
   "metadata": {},
   "source": []
  },
  {
   "cell_type": "markdown",
   "metadata": {},
   "source": []
  },
  {
   "cell_type": "markdown",
   "metadata": {},
   "source": []
  },
  {
   "cell_type": "markdown",
   "metadata": {},
   "source": []
  },
  {
   "cell_type": "markdown",
   "metadata": {},
   "source": []
  },
  {
   "cell_type": "markdown",
   "metadata": {},
   "source": []
  },
  {
   "cell_type": "markdown",
   "metadata": {},
   "source": []
  },
  {
   "cell_type": "markdown",
   "metadata": {},
   "source": []
  },
  {
   "cell_type": "markdown",
   "metadata": {},
   "source": []
  },
  {
   "cell_type": "markdown",
   "metadata": {},
   "source": []
  },
  {
   "cell_type": "markdown",
   "metadata": {},
   "source": []
  }
 ],
 "metadata": {
  "hide_input": false,
  "kernelspec": {
   "display_name": "Python 3",
   "language": "python",
   "name": "python3"
  },
  "language_info": {
   "codemirror_mode": {
    "name": "ipython",
    "version": 3
   },
   "file_extension": ".py",
   "mimetype": "text/x-python",
   "name": "python",
   "nbconvert_exporter": "python",
   "pygments_lexer": "ipython3",
   "version": "3.4.3"
  },
  "latex_envs": {
   "bibliofile": "biblio.bib",
   "cite_by": "apalike",
   "current_citInitial": 1,
   "eqLabelWithNumbers": true,
   "eqNumInitial": 0
  }
 },
 "nbformat": 4,
 "nbformat_minor": 0
}
