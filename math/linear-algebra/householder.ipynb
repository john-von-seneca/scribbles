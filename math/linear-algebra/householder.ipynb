{
 "cells": [
  {
   "cell_type": "code",
   "metadata": {},
   "outputs": [],
   "source": [
    "import numpy as np\n",
    "from scipy import linalg\n",
    "import matplotlib.pyplot as plt\n",
    "%matplotlib inline"
   ]
  },
  {
   "cell_type": "markdown",
   "metadata": {},
   "source": [
    "from http://fa.bianp.net/blog/tag/linear-algebra.html"
   ]
  },
  {
   "cell_type": "code",
   "metadata": {},
   "outputs": [],
   "source": [
    "from matplotlib import animation\n",
    "from JSAnimation import IPython_display"
   ]
  },
  {
   "cell_type": "code",
   "metadata": {},
   "outputs": [],
   "source": [
    "def house(x):\n",
    "    \"\"\"\n",
    "    Given a vetor x, computes vectors v with v[0] = 1\n",
    "    and scalar beta such that P = I - beta v v^T\n",
    "    is orthogonal and P x = ||x|| e_1\n",
    "\n",
    "    Parameters\n",
    "    ----------\n",
    "    x : array, shape (n,) or (n, 1)\n",
    "\n",
    "    Returns\n",
    "    -------\n",
    "    beta : scalar\n",
    "    v : array, shape (n, 1)\n",
    "    \"\"\"\n",
    "    x = np.asarray(x)\n",
    "    if x.ndim == 1:\n",
    "        x = x[:, np.newaxis]\n",
    "    sigma = linalg.norm(x[1:, 0]) ** 2\n",
    "    v = np.vstack((1, x[1:]))\n",
    "    if sigma == 0:\n",
    "        beta = 0\n",
    "    else:\n",
    "        mu = np.sqrt(x[0, 0] ** 2 + sigma)\n",
    "        if x[0, 0] <= 0:\n",
    "            v[0, 0] = x[0, 0] - mu\n",
    "        else:\n",
    "            v[0, 0] = - sigma / (x[0, 0] + mu)\n",
    "        beta = 2 * (v[0, 0] ** 2) / (sigma + v[0, 0] ** 2)\n",
    "        v /= v[0, 0]\n",
    "    return beta, v"
   ]
  },
  {
   "cell_type": "code",
   "metadata": {},
   "outputs": [],
   "source": [
    "n = 5\n",
    "np.random.seed(0)\n",
    "x = np.random.randn(n)\n",
    "beta, v = house(x)\n",
    "P = np.eye(n) - beta * np.dot(v, v.T)\n",
    "print(np.round(P.dot(x) / linalg.norm(x), decimals=15))"
   ]
  },
  {
   "cell_type": "markdown",
   "metadata": {},
   "source": [
    "QR decomposition using Householder reflections. To generate the animated gif from the saved pictures I run the command-line <code>convert -delay 30 -loop 0 house_*.png house.gif</code>"
   ]
  },
  {
   "cell_type": "code",
   "metadata": {},
   "outputs": [],
   "source": [
    "fig = plt.figure()\n",
    "ax = plt.axes(xlim=(0, 10), ylim=(-2, 2))\n",
    "line, = ax.plot([], [], lw=2)"
   ]
  },
  {
   "cell_type": "code",
   "metadata": {},
   "outputs": [],
   "source": [
    "mat1 = ax.matshow(X)\n",
    "mat1.set_data(X + 5)"
   ]
  },
  {
   "cell_type": "code",
   "metadata": {},
   "outputs": [],
   "source": [
    "?ax.matshow"
   ]
  },
  {
   "cell_type": "code",
   "metadata": {},
   "outputs": [],
   "source": [
    "n = 20\n",
    "X = np.random.randn(n, n)\n",
    "\n",
    "#plt.matshow(np.abs(X), cmap=pl.cm.Paired, vmax=5.)\n",
    "\n",
    "fig = plt.figure()\n",
    "ax = plt.axes()\n",
    "mat1 = ax.matshow(X, cmap=pl.cm.Paired, vmax=5.)\n",
    "X_0 = X.copy()\n",
    "\n",
    "def init():\n",
    "    global X_0\n",
    "    mat1.set_data(np.abs(X))\n",
    "    X_0 = X.copy()\n",
    "    return mat1,\n",
    "\n",
    "def animate(i):\n",
    "    global X_0\n",
    "    #title = ('P_{%s} ' % i) + title\n",
    "    beta, v = house(X_0[i:, i])\n",
    "    P = np.eye(X.shape[1])\n",
    "    P[i:, i:] = np.eye(n - i) - beta * np.dot(v, v.T)\n",
    "    X_0 = P.dot(X_0)\n",
    "    mat1.set_data(np.abs(X_0))\n",
    "    return mat1,\n",
    "    #plt.matshow(np.abs(X_0), cmap=pl.cm.Paired, vmax=5.)\n",
    "    #fig = plt.gcf()\n",
    "    #fig.set_size_inches(8.5,6.0)\n",
    "    #plt.title('$' + title + '$', fontsize='xx-large',x =1., ha='right')\n",
    "    #plt.axis('off')\n",
    "    #plt.colorbar()\n",
    "\n",
    "animation.FuncAnimation(fig, animate, init_func=init,\n",
    "                        frames=X.shape[1] -1, interval=500)"
   ]
  },
  {
   "cell_type": "code",
   "metadata": {},
   "outputs": [],
   "source": [
    "n = 20\n",
    "X = np.random.randn(n, n)\n",
    "\n",
    "plt.matshow(np.abs(X), cmap=pl.cm.Paired, vmax=5.)\n",
    "fig = plt.gcf()\n",
    "fig.set_size_inches(8.5,6.0)\n",
    "plt.axis('off')\n",
    "plt.colorbar()\n",
    "plt.savefig('house_random.png')\n",
    "X_0 = X.copy()\n",
    "title = 'X'\n",
    "for i in range(X.shape[1] -1):\n",
    "    title = ('P_{%s} ' % i) + title\n",
    "    beta, v = house(X_0[i:, i])\n",
    "    P = np.eye(X.shape[1])\n",
    "    P[i:, i:] = np.eye(n - i) - beta * np.dot(v, v.T)\n",
    "    X_0 = P.dot(X_0)\n",
    "    plt.matshow(np.abs(X_0), cmap=pl.cm.Paired, vmax=5.)\n",
    "    fig = plt.gcf()\n",
    "    fig.set_size_inches(8.5,6.0)\n",
    "    plt.title('$' + title + '$', fontsize='xx-large',x =1., ha='right')\n",
    "    plt.axis('off')\n",
    "    plt.colorbar()\n",
    "    #plt.savefig('house_%03d.png' % i)"
   ]
  },
  {
   "cell_type": "code",
   "metadata": {},
   "outputs": [],
   "source": [
    "X = (X + X.T) / 2.\n",
    "\n",
    "X_0 = X.copy()\n",
    "title = 'X'\n",
    "for i in range(X.shape[1] - 2):\n",
    "    title = ('P_{%s} ' % i) + title + ('P_{%s} ' % i)\n",
    "    beta, v = house(X_0[i+1:, i])\n",
    "    P = np.eye(X.shape[1])\n",
    "    P[i+1:, i+1:] = np.eye(n - i - 1) - beta * np.dot(v, v.T)\n",
    "    X_0 = P.T.dot(X_0).dot(P)\n",
    "    plt.matshow(np.abs(X_0), cmap=pl.cm.Paired, vmax=5.)\n",
    "    fig = plt.gcf()\n",
    "    fig.set_size_inches(8.5,6.0)\n",
    "    plt.title('$' + title + '$', fontsize='xx-large',x =.5, ha='center')\n",
    "    plt.axis('off')\n",
    "    plt.colorbar()\n",
    "    plt.savefig('house_tridiag_%03d.png' % i)"
   ]
  }
 ],
 "metadata": {
  "hide_input": false,
  "kernelspec": {
   "display_name": "Python 3",
   "language": "python3",
   "name": "python3"
  },
  "language_info": {
   "codemirror_mode": {
    "name": "ipython",
    "version": 3
   },
   "file_extension": ".py",
   "mimetype": "text/x-python",
   "name": "python",
   "nbconvert_exporter": "python",
   "pygments_lexer": "ipython3"
  },
  "latex_envs": {
   "bibliofile": "biblio.bib",
   "cite_by": "apalike",
   "current_citInitial": 1,
   "eqLabelWithNumbers": true,
   "eqNumInitial": 0
  }
 },
 "nbformat": 4,
 "nbformat_minor": 0
}
