{
 "cells": [
  {
   "cell_type": "markdown",
   "metadata": {},
   "source": [
    "Consider the Gram–Schmidt process applied to the columns of the full column rank matrix \n",
    "$A=[\\mathbf{a}_1, \\cdots, \\mathbf{a}_n]$, with inner product $\\langle\\mathbf{v},\\mathbf{w}\\rangle = \\mathbf{v}^\\top \\mathbf{w}$ (or $\\langle\\mathbf{v},\\mathbf{w}\\rangle = \\mathbf{v}^* \\mathbf{w}$ for the complex case)."
   ]
  },
  {
   "cell_type": "markdown",
   "metadata": {},
   "source": [
    "Define the projection:\n",
    "\n",
    "$$\n",
    "\\mathrm{proj}_{\\mathbf{e}}\\mathbf{a}\n",
    "= \\frac{\\left\\langle\\mathbf{e},\\mathbf{a}\\right\\rangle}{\\left\\langle\\mathbf{e},\\mathbf{e}\\right\\rangle}\\mathbf{e}\n",
    "$$"
   ]
  },
  {
   "cell_type": "markdown",
   "metadata": {},
   "source": [
    "then:\n",
    "\n",
    "\\begin{align}\n",
    " \\mathbf{u}_1 &= \\mathbf{a}_1,\n",
    "  & \\mathbf{e}_1 &= {\\mathbf{u}_1 \\over \\|\\mathbf{u}_1\\|} \\\\\n",
    " \\mathbf{u}_2 &= \\mathbf{a}_2-\\mathrm{proj}_{\\mathbf{u}_1}\\,\\mathbf{a}_2,\n",
    "  & \\mathbf{e}_2 &= {\\mathbf{u}_2 \\over \\|\\mathbf{u}_2\\|} \\\\\n",
    " \\mathbf{u}_3 &= \\mathbf{a}_3-\\mathrm{proj}_{\\mathbf{u}_1}\\,\\mathbf{a}_3-\\mathrm{proj}_{\\mathbf{u}_2}\\,\\mathbf{a}_3,\n",
    "  & \\mathbf{e}_3 &= {\\mathbf{u}_3 \\over \\|\\mathbf{u}_3\\|} \\\\\n",
    " & \\vdots &&\\vdots \\\\\n",
    " \\mathbf{u}_k &= \\mathbf{a}_k-\\sum_{j=1}^{k-1}\\mathrm{proj}_{\\mathbf{u}_j}\\,\\mathbf{a}_k,\n",
    "  &\\mathbf{e}_k &= {\\mathbf{u}_k\\over\\|\\mathbf{u}_k\\|}\n",
    "\\end{align}"
   ]
  },
  {
   "cell_type": "markdown",
   "metadata": {},
   "source": [
    "We can now express the \\mathbf{a}_is over our newly computed orthonormal basis:\n",
    "\n",
    "\n",
    "\\begin{align}\n",
    " \\mathbf{a}_1 &= \\langle\\mathbf{e}_1,\\mathbf{a}_1 \\rangle \\mathbf{e}_1  \\\\\n",
    " \\mathbf{a}_2 &= \\langle\\mathbf{e}_1,\\mathbf{a}_2 \\rangle \\mathbf{e}_1\n",
    "  + \\langle\\mathbf{e}_2,\\mathbf{a}_2 \\rangle \\mathbf{e}_2 \\\\\n",
    " \\mathbf{a}_3 &= \\langle\\mathbf{e}_1,\\mathbf{a}_3 \\rangle \\mathbf{e}_1\n",
    "  + \\langle\\mathbf{e}_2,\\mathbf{a}_3 \\rangle \\mathbf{e}_2\n",
    "  + \\langle\\mathbf{e}_3,\\mathbf{a}_3 \\rangle \\mathbf{e}_3 \\\\\n",
    " &\\vdots \\\\\n",
    " \\mathbf{a}_k &= \\sum_{j=1}^{k} \\langle \\mathbf{e}_j, \\mathbf{a}_k \\rangle \\mathbf{e}_j\n",
    "\\end{align}\n",
    "where $\\langle\\mathbf{e}_i,\\mathbf{a}_i \\rangle = \\|\\mathbf{u}_i\\|$. "
   ]
  },
  {
   "cell_type": "markdown",
   "metadata": {},
   "source": [
    "This can be written in matrix form:\n",
    "\n",
    " A = Q R \n",
    "where:\n",
    "\n",
    "Q = $\\left[ \\mathbf{e}_1, \\cdots, \\mathbf{e}_n\\right] \\qquad \\text{and} \\qquad$\n",
    "\n",
    "$$\n",
    "R = \\begin{pmatrix}\n",
    "\\langle\\mathbf{e}_1,\\mathbf{a}_1\\rangle & \\langle\\mathbf{e}_1,\\mathbf{a}_2\\rangle &  \\langle\\mathbf{e}_1,\\mathbf{a}_3\\rangle  & \\ldots \\\\\n",
    "0                & \\langle\\mathbf{e}_2,\\mathbf{a}_2\\rangle                        &  \\langle\\mathbf{e}_2,\\mathbf{a}_3\\rangle  & \\ldots \\\\\n",
    "0                & 0                                       & \\langle\\mathbf{e}_3,\\mathbf{a}_3\\rangle                          & \\ldots \\\\\n",
    "\\vdots           & \\vdots                                  & \\vdots                                    & \\ddots \\end{pmatrix}.\n",
    "$$"
   ]
  },
  {
   "cell_type": "markdown",
   "metadata": {},
   "source": [
    "# Example"
   ]
  },
  {
   "cell_type": "markdown",
   "metadata": {},
   "source": [
    "## from wiki\n",
    "\n",
    "Consider the decomposition of\n",
    "$$\n",
    "A = \n",
    "\\begin{pmatrix}\n",
    "12 & -51 & 4 \\\\\n",
    "6 & 167 & -68 \\\\\n",
    "-4 & 24 & -41\n",
    "\\end{pmatrix}\n",
    "$$"
   ]
  },
  {
   "cell_type": "markdown",
   "metadata": {},
   "source": [
    "Recall that an orthonormal matrix Q has the property\n",
    "\n",
    "\n",
    "\\begin{matrix}\n",
    " Q^T \\,Q = I.\n",
    "\\end{matrix}\n",
    "Then, we can calculate Q by means of Gram–Schmidt as follows:\n",
    "\n",
    "$$U = \n",
    "\\begin{pmatrix}\n",
    "\\mathbf u_1 & \\mathbf u_2 & \\mathbf u_3\n",
    "\\end{pmatrix}\n",
    "=\n",
    "\\begin{pmatrix}\n",
    "12 & -69 & -58/5 \\\\\n",
    "6  & 158 & 6/5 \\\\\n",
    "-4 &  30 & -33\n",
    "\\end{pmatrix};\n",
    "$$"
   ]
  },
  {
   "cell_type": "markdown",
   "metadata": {},
   "source": [
    "$$\n",
    "Q = \n",
    "\\begin{pmatrix}\n",
    "\\frac{\\mathbf u_1}{\\|\\mathbf u_1\\|} &\n",
    "\\frac{\\mathbf u_2}{\\|\\mathbf u_2\\|} &\n",
    "\\frac{\\mathbf u_3}{\\|\\mathbf u_3\\|}\n",
    "\\end{pmatrix}\n",
    "=\n",
    "\\begin{pmatrix}\n",
    "     6/7    &    -69/175   &   -58/175   \\\\\n",
    "     3/7    &    158/175   &     6/175   \\\\\n",
    "    -2/7    &      6/35    &   -33/35\n",
    "\\end{pmatrix}.\n",
    "$$"
   ]
  },
  {
   "cell_type": "markdown",
   "metadata": {},
   "source": [
    "Thus, we have\n",
    "\n",
    "\\begin{matrix}\n",
    " Q^{T} A = Q^{T}Q\\,R = R;\n",
    "\\end{matrix}\n",
    "\n",
    "$$\n",
    "\\begin{matrix}\n",
    " R = Q^{T}A =\n",
    "\\end{matrix}\n",
    "\\begin{pmatrix}\n",
    "    14  &  21          &            -14 \\\\\n",
    "     0  & 175          &           -70 \\\\\n",
    "     0  &   0          &           35\n",
    "\\end{pmatrix}.\n",
    "$$"
   ]
  },
  {
   "cell_type": "markdown",
   "metadata": {},
   "source": [
    "## Code"
   ]
  },
  {
   "cell_type": "code",
   "execution_count": 7,
   "metadata": {
    "collapsed": false
   },
   "outputs": [
    {
     "data": {
      "text/plain": [
       "array([[ 12, -51,   4],\n",
       "       [  6, 167, -68],\n",
       "       [ -4,  24, -41]])"
      ]
     },
     "execution_count": 7,
     "metadata": {},
     "output_type": "execute_result"
    }
   ],
   "source": [
    "import numpy as np\n",
    "import numpy.linalg as la\n",
    "A = np.array([[12, -51, 4],[6,167,-68],[-4,24,-41]])\n",
    "A"
   ]
  },
  {
   "cell_type": "code",
   "execution_count": 49,
   "metadata": {
    "collapsed": false
   },
   "outputs": [
    {
     "name": "stdout",
     "output_type": "stream",
     "text": [
      "Q:\n",
      " [[ 0.85714286 -0.39428571 -0.33142857]\n",
      " [ 0.42857143  0.90285714  0.03428571]\n",
      " [-0.28571429  0.17142857 -0.94285714]]\n",
      "R:\n",
      " [[  1.40000000e+01   2.10000000e+01  -1.40000000e+01]\n",
      " [ -6.66133815e-16   1.75000000e+02  -7.00000000e+01]\n",
      " [ -1.33226763e-15  -1.77635684e-14   3.50000000e+01]]\n"
     ]
    }
   ],
   "source": [
    "Q = np.zeros(A.shape,dtype=float)\n",
    "for k in range(A.shape[1]):\n",
    "    avec = A[:, k]\n",
    "    q = avec\n",
    "    for j in range(k):\n",
    "        q = q - np.dot(avec, Q[:,j])*Q[:,j]\n",
    "    qq = q*1./la.norm(q)\n",
    "    qq = qq.reshape(1,-1)\n",
    "    Q[:, k] = qq\n",
    "print('Q:\\n',Q)\n",
    "R = Q.T @ A\n",
    "print('R:\\n', R)"
   ]
  }
 ],
 "metadata": {
  "hide_input": true,
  "kernelspec": {
   "display_name": "Python 3",
   "language": "python3",
   "name": "python3"
  },
  "language_info": {
   "codemirror_mode": {
    "name": "ipython",
    "version": 3
   },
   "file_extension": ".py",
   "mimetype": "text/x-python",
   "name": "python",
   "nbconvert_exporter": "python",
   "pygments_lexer": "ipython3",
   "version": "3.5.1"
  },
  "latex_envs": {
   "bibliofile": "biblio.bib",
   "cite_by": "apalike",
   "current_citInitial": 1,
   "eqLabelWithNumbers": true,
   "eqNumInitial": 0
  }
 },
 "nbformat": 4,
 "nbformat_minor": 0
}
