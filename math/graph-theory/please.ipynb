{
 "cells": [
  {
   "cell_type": "code",
   "metadata": {},
   "outputs": [],
   "source": [
    "import networkx as nx\n",
    "import nxpd\n",
    "import string\n",
    "import math\n",
    "import graphviz as gv\n"
   ]
  },
  {
   "cell_type": "code",
   "metadata": {},
   "outputs": [],
   "source": [
    "G = nx.DiGraph()\n",
    "G.graph['dpi'] = 120\n",
    "G.add_nodes_from(range(1,9))\n",
    "G.add_edges_from([(1,2),(1,3),(2,4),(3,6),(4,5),(4,6),(5,7),(5,8)])\n",
    "nxpd.draw(G, show='ipynb')"
   ]
  },
  {
   "cell_type": "code",
   "metadata": {},
   "outputs": [],
   "source": [
    "g_ordered = nx.DiGraph()\n",
    "g_ordered"
   ]
  },
  {
   "cell_type": "code",
   "metadata": {},
   "outputs": [],
   "source": [
    "list(string.ascii_lowercase)[:13] + ['r']"
   ]
  },
  {
   "cell_type": "code",
   "metadata": {},
   "outputs": [],
   "source": [
    "type(string.ascii_lowercase) is str"
   ]
  },
  {
   "cell_type": "code",
   "metadata": {},
   "outputs": [],
   "source": [
    "def add_edges_path(graph1, vertices_path):\n",
    "    if vertices_path is str:\n",
    "        vertices_path = list(vertices_path)\n",
    "    for ix in range(len(vertices_path)-1):\n",
    "        graph1.add_edge(vertices_path[ix],vertices_path[ix+1])"
   ]
  },
  {
   "cell_type": "code",
   "metadata": {},
   "outputs": [],
   "source": [
    "G1 = nx.DiGraph()\n",
    "G.graph['dpi'] = 60\n",
    "G1.add_nodes_from(list(string.ascii_lowercase)[:13] + ['r'])\n",
    "add_edges_path(G1,'rm')\n",
    "add_edges_path(G1,'bfgkl')\n",
    "add_edges_path(G1,'r'+ string.ascii_lowercase[:5])\n",
    "add_edges_path(G1,'ghi')\n",
    "add_edges_path(G1,'hj')\n",
    "nxpd.draw(G1, show='ipynb')"
   ]
  },
  {
   "cell_type": "code",
   "metadata": {},
   "outputs": [],
   "source": [
    "G1.adj"
   ]
  },
  {
   "cell_type": "code",
   "metadata": {},
   "outputs": [],
   "source": [
    "def tee_at(g1, node):\n",
    "    g2 = nx.DiGraph()\n",
    "    list_nodes = [node]\n",
    "    while(len(list_nodes)>0):\n",
    "        node_current = list_nodes.pop()\n",
    "        if not g2.has_node(node_current):\n",
    "            g2.add_node(node_current)\n",
    "        for neighbor in g1.adj[node_current].keys():\n",
    "            g2.add_edge(node_current, neighbor)\n",
    "            list_nodes.append(neighbor)\n",
    "    return g2"
   ]
  },
  {
   "cell_type": "code",
   "metadata": {},
   "outputs": [],
   "source": [
    "g2_at_f = tee_at(G1, 'f')\n",
    "nxpd.draw(g2_at_f, show='ipynb')"
   ]
  },
  {
   "cell_type": "code",
   "metadata": {},
   "outputs": [],
   "source": [
    "def find_path(g2, node1, node2):\n",
    "    if node1==node2:\n",
    "        return [node1]\n",
    "    \n",
    "    for child in g2.adj[node1].keys():\n",
    "        result = find_path(g2, child, node2)\n",
    "        if len(result)>0:\n",
    "            return [node1] + result\n",
    "    return []\n",
    "        \n",
    "print(find_path(g2_at_f, 'f','i'))\n",
    "    "
   ]
  },
  {
   "cell_type": "code",
   "metadata": {},
   "outputs": [],
   "source": [
    "def path_to_edges(path1):\n",
    "    return [ (path1[ix],path1[ix+1]) for ix in range(len(path1)-1)]\n",
    "path1 = path_to_edges(find_path(g2_at_f, 'f', 'i'))\n",
    "print(path1)\n",
    "for (a,b) in path1:\n",
    "    print(a,b)"
   ]
  },
  {
   "cell_type": "code",
   "metadata": {},
   "outputs": [],
   "source": [
    "def make_parent(g1, node_parent, node_child):\n",
    "    # remove the child -> parent link if present\n",
    "    if node_parent in g1[node_child]:\n",
    "        g1.remove_edge(node_child, node_parent)\n",
    "        \n",
    "    # link node_child's parents to node_parent\n",
    "    print(g1.predecessors(node_child))\n",
    "    for predecessor in g1.predecessors(node_child):\n",
    "        print(predecessor)\n",
    "        g1.remove_edge(predecessor, node_child)\n",
    "        g1.add_edge(predecessor, node_parent)\n",
    "        \n",
    "    # make parent -> child link\n",
    "    g1.add_edge(node_parent, node_child)\n",
    "        \n",
    "g_make_parent = nx.DiGraph()\n",
    "g_make_parent.add_edge('a','b')\n",
    "g_make_parent.add_edge('b','c')\n",
    "print(g_make_parent.adj)\n",
    "print(g_make_parent.predecessors('c'))\n",
    "make_parent(g_make_parent, 'c', 'b')\n",
    "print(g_make_parent.adj)"
   ]
  },
  {
   "cell_type": "code",
   "metadata": {},
   "outputs": [],
   "source": [
    "g_make_parent"
   ]
  },
  {
   "cell_type": "code",
   "metadata": {},
   "outputs": [],
   "source": [
    "def reroot(g1, r0, r_prime):\n",
    "    path1 = find_path(g1, r0, r_prime)\n",
    "    for (a,b) in path_to_edges(path1):\n",
    "        make_parent(g1, b, a)\n",
    "        # for each child c of b\n",
    "        for c in g1.adj[b]:\n",
    "            # c is in path(r0, r')\n",
    "            if c in path1:\n",
    "                continue\n",
    "            result1 = query(g1, c, r0, b)\n",
    "            if result1 is None:\n",
    "                continue\n",
    "            (u, v) = result1\n",
    "            reroot(g1, c, v)\n",
    "            make_parent(u, v)\n",
    "            \n",
    "            \n",
    "        "
   ]
  },
  {
   "cell_type": "markdown",
   "metadata": {},
   "source": [
    "Making the data structure\n",
    "==============================="
   ]
  },
  {
   "cell_type": "markdown",
   "metadata": {},
   "source": [
    "emulate figure 5"
   ]
  },
  {
   "cell_type": "code",
   "metadata": {},
   "outputs": [],
   "source": [
    "help(nx.depth_first_search.dfs_tree)"
   ]
  },
  {
   "cell_type": "code",
   "metadata": {},
   "outputs": [],
   "source": [
    "g2 = nx.Graph()\n",
    "add_edges_path(g2, 'xzws')\n",
    "add_edges_path(g2, 'xuv')\n",
    "add_edges_path(g2, 'zy')\n",
    "add_edges_path(g2, 'wt')\n",
    "add_edges_path(g2, 'xs')\n",
    "add_edges_path(g2, 'zt')\n",
    "nxpd.draw(g2, show='ipynb')"
   ]
  },
  {
   "cell_type": "code",
   "metadata": {},
   "outputs": [],
   "source": [
    "a = [1,2]\n",
    "a.append(3)\n",
    "print(a.pop())"
   ]
  },
  {
   "cell_type": "code",
   "metadata": {},
   "outputs": [],
   "source": [
    "'s' in g2_dfs.nodes()"
   ]
  },
  {
   "cell_type": "code",
   "metadata": {},
   "outputs": [],
   "source": [
    "def form_dfs_tree_slave(g, g_dfs, node, visited):\n",
    "    if node in visited:\n",
    "        return\n",
    "    visited.append(node)\n",
    "    children = sorted(g.adj[node].keys())\n",
    "    children.reverse()\n",
    "    for child in children:\n",
    "        if child in visited:\n",
    "            continue\n",
    "        g_dfs.add_edge(node, child)\n",
    "        form_dfs_tree_slave(g, g_dfs, child, visited)\n",
    "    \n",
    "def form_dfs_tree(g, source):\n",
    "    g_dfs = nx.DiGraph()\n",
    "    form_dfs_tree_slave(g, g_dfs, source, [])\n",
    "    return g_dfs\n",
    "    \n",
    "nxpd.draw(form_dfs_tree(g2,'x'), show='ipynb')"
   ]
  },
  {
   "cell_type": "code",
   "metadata": {},
   "outputs": [],
   "source": [
    "g2_dfs = nx.depth_first_search.dfs_tree(g2,source='x')"
   ]
  },
  {
   "cell_type": "code",
   "metadata": {},
   "outputs": [],
   "source": [
    "type(g2.adj['x'])"
   ]
  },
  {
   "cell_type": "code",
   "metadata": {},
   "outputs": [],
   "source": [
    "nxpd.draw(g2_dfs, show='ipynb')"
   ]
  },
  {
   "cell_type": "code",
   "metadata": {},
   "outputs": [],
   "source": [
    "['x', 'z', 't', 'w', 's', 'y', 'u', 'v']\n",
    "g2_dfs.__dict__"
   ]
  },
  {
   "cell_type": "markdown",
   "metadata": {},
   "source": [
    "Heavy-light decomposition\n",
    "--------------------------"
   ]
  },
  {
   "cell_type": "markdown",
   "metadata": {},
   "source": [
    "step 0: find the size of each node in the dfs"
   ]
  },
  {
   "cell_type": "code",
   "metadata": {},
   "outputs": [],
   "source": [
    "def find_root_dfs(g_dfs):\n",
    "   return [child for (child,parent) in g_dfs.pred.items() if not parent][0]\n",
    "\n",
    "def subtree_sizes(g_dfs, root_dfs=None):\n",
    "    if root_dfs is None:\n",
    "        root_dfs = find_root_dfs(g_dfs)\n",
    "    dict_1 = {root_dfs: 1}\n",
    "    for child in g_dfs.adj[root_dfs].keys():\n",
    "        dict_child = subtree_sizes(g_dfs, child)\n",
    "        if not dict_child:\n",
    "            continue\n",
    "        dict_1[root_dfs] += dict_child[child]\n",
    "        dict_1.update(dict_child)\n",
    "    return dict_1\n",
    "\n",
    "subtree_sizes(g2_dfs)"
   ]
  },
  {
   "cell_type": "markdown",
   "metadata": {},
   "source": [
    "step 1: form the preorder traversal list"
   ]
  },
  {
   "cell_type": "code",
   "metadata": {},
   "outputs": [],
   "source": [
    "def preorder_heavy_light(g_dfs, root_dfs=None, g_dfs_sizes=None):\n",
    "    if root_dfs is None:\n",
    "        root_dfs = find_root_dfs(g_dfs)\n",
    "    if g_dfs_sizes is None:\n",
    "        g_dfs_sizes = subtree_sizes(g_dfs, root_dfs)\n",
    "    list1 = [root_dfs]\n",
    "    children = list(g_dfs.adj[root_dfs].keys())\n",
    "    children.sort(key=lambda x: -g_dfs_sizes[x])\n",
    "    print(root_dfs, children)\n",
    "    for child in children:\n",
    "        list1 += preorder_heavy_light(g_dfs, child, g_dfs_sizes)\n",
    "    return list1\n",
    "    \n",
    "preorder_heavy_light(g2_dfs)"
   ]
  },
  {
   "cell_type": "code",
   "metadata": {},
   "outputs": [],
   "source": [
    "help([1,2].sort)"
   ]
  },
  {
   "cell_type": "markdown",
   "metadata": {},
   "source": [
    "step 2: form the segment tree"
   ]
  },
  {
   "cell_type": "code",
   "metadata": {},
   "outputs": [],
   "source": [
    "a = list(range(5))\n",
    "a.reverse()\n",
    "print(a)\n",
    "print(a[::2])\n",
    "print(a[1::2])"
   ]
  },
  {
   "cell_type": "code",
   "metadata": {},
   "outputs": [],
   "source": [
    "class st_node:\n",
    "    def __init__(self, name=None, bst=None):\n",
    "        self.name = name\n",
    "        self.add_bst(bst)\n",
    "        self.parent = None\n",
    "        self.left = None\n",
    "        self.right = None\n",
    "    def add_bst(self, bst):\n",
    "        self.bst = bst\n",
    "    def make_bst(self, neighbors):\n",
    "        if self.bst is None:\n",
    "            self.bst = {}\n",
    "        for nbr in neighbors:\n",
    "            self.bst[nbr] = self.name"
   ]
  },
  {
   "cell_type": "code",
   "metadata": {},
   "outputs": [],
   "source": [
    "# currently 2\n",
    "def groups_of(list1, n):\n",
    "    even_list, odd_list = list1[0::2], list1[1::2]\n",
    "    if len(odd_list)!=len(even_list):\n",
    "        odd_list.append(None)\n",
    "    return [[even_list[ix], odd_list[ix]] for ix in range(len(even_list))]\n"
   ]
  },
  {
   "cell_type": "code",
   "metadata": {
    "code_folding": [
     1,
     6,
     26
    ]
   },
   "outputs": [],
   "source": [
    "class seg_tree:\n",
    "    def __init__(self, g2, root_dfs):\n",
    "        self.graph = g2\n",
    "        self.root_dfs = root_dfs\n",
    "        self.main()\n",
    "        \n",
    "    def make_dfs(self):\n",
    "        make_dfs = form_dfs_tree\n",
    "        self.dfs = make_dfs(self.graph, self.root_dfs)\n",
    "        self.dfs_sz = subtree_sizes(self.dfs, self.root_dfs)\n",
    "    \n",
    "    def make_list_heavy_light(self):\n",
    "        self.hl_list = preorder_heavy_light(self.dfs,\n",
    "                                           self.root_dfs,\n",
    "                                           self.dfs_sz)\n",
    "    \n",
    "    def make_st_leaves(self):\n",
    "        leaves = []\n",
    "        for node_name in self.hl_list:\n",
    "            st_node_leaf = st_node(node_name)\n",
    "            st_node_leaf.make_bst(self.graph.adj[node_name].keys())\n",
    "            leaves.append(st_node_leaf)\n",
    "        return leaves\n",
    "    \n",
    "    def st_layerize(self, nodes):\n",
    "        node_pairs = groups_of(nodes, 2)\n",
    "        print('layerize', [[[n[0].name,n[1].name] for n in node_pairs]])\n",
    "        return [self.st_add_parent(node_pair) for node_pair in node_pairs]\n",
    "    def st_add_parent(self, node_pair):\n",
    "        str_name = self.conc_name(node_pair)\n",
    "        st_parent = st_node(str_name)\n",
    "        [self.st_add_edge(st_parent, child) for child in node_pair]\n",
    "        return st_parent\n",
    "    def st_add_edge(self, parent, child):\n",
    "        if child is None:\n",
    "            return\n",
    "        # add edges from child\n",
    "        self.st_add_edges_from_child(parent, child)\n",
    "        if parent.left is None:\n",
    "            parent.left = child\n",
    "        else:\n",
    "            parent.right = child\n",
    "    def st_add_edges_from_child(self, parent, child):\n",
    "        pass\n",
    "    def conc_name(self, node_pair):\n",
    "        str_name =  node_pair[0].name\n",
    "        str_name += node_pair[1].name if node_pair[1] else ''\n",
    "        return str_name\n",
    "    \n",
    "    def make_st(self):\n",
    "        nodes = self.make_st_leaves()\n",
    "        while(len(nodes)>1):\n",
    "            nodes = self.st_layerize(nodes)\n",
    "        self.st_root = nodes[0]\n",
    "    \n",
    "    def main(self):\n",
    "        self.make_dfs()\n",
    "        self.make_list_heavy_light()\n",
    "        self.make_st()\n",
    "        \n",
    "    \n",
    "    def draw_st(self):\n",
    "        g = gv.Digraph()\n",
    "        self.form_st(g, self.st_root)\n",
    "        return g\n",
    "        \n",
    "    def form_st(self, g, node):\n",
    "        #print(node.name)\n",
    "        self.form_st_child(g, node, node.left)\n",
    "        self.form_st_child(g, node, node.right)\n",
    "    def form_st_child(self, g, node, child):\n",
    "        if child:\n",
    "            g.edge(node.name, child.name)\n",
    "            self.form_st(g, child)\n",
    "        \n",
    "        \n"
   ]
  },
  {
   "cell_type": "code",
   "metadata": {
    "code_folding": [
     1,
     6,
     22,
     26
    ]
   },
   "outputs": [],
   "source": [
    "t2b = seg_tree(g2, 'x')\n",
    "#t2b.draw_dfs()\n",
    "#t2b.segment_tree.node\n",
    "print('hl_list', t2b.hl_list)\n",
    "#nxpd.draw(t2b.dfs, show='ipynb')\n",
    "#nxpd.draw(t2b.segment_tree, show='ipynb')\n",
    "print(t2b.st_root.name)\n",
    "t2b.draw_st()"
   ]
  },
  {
   "cell_type": "code",
   "metadata": {},
   "outputs": [],
   "source": [
    "from drawtree import draw_bst\n",
    "nums = [55, 30, 10, 5, 2, 20, 15, 25, 40, 35, 70, 60, 80, 75, 95]\n",
    "draw_bst(nums)"
   ]
  },
  {
   "cell_type": "code",
   "metadata": {},
   "outputs": [],
   "source": [
    "t2b.segment_tree.node['z']['st_node'].__dict__"
   ]
  },
  {
   "cell_type": "code",
   "metadata": {},
   "outputs": [],
   "source": [
    "g2.adj['x'].keys()"
   ]
  },
  {
   "cell_type": "code",
   "metadata": {},
   "outputs": [],
   "source": [
    "nxpd.draw(g2, show='ipynb')"
   ]
  },
  {
   "cell_type": "code",
   "metadata": {},
   "outputs": [],
   "source": [
    "g2_dfs.nodes()"
   ]
  },
  {
   "cell_type": "code",
   "metadata": {},
   "outputs": [],
   "source": [
    "help(g2_dfs.add_node)"
   ]
  },
  {
   "cell_type": "code",
   "metadata": {},
   "outputs": [],
   "source": []
  },
  {
   "cell_type": "code",
   "metadata": {},
   "outputs": [],
   "source": []
  },
  {
   "cell_type": "code",
   "metadata": {},
   "outputs": [],
   "source": []
  },
  {
   "cell_type": "code",
   "metadata": {},
   "outputs": [],
   "source": []
  },
  {
   "cell_type": "code",
   "metadata": {},
   "outputs": [],
   "source": []
  },
  {
   "cell_type": "code",
   "metadata": {},
   "outputs": [],
   "source": [
    "a=[1,2,3]\n",
    "a.sort(f)"
   ]
  },
  {
   "cell_type": "code",
   "metadata": {},
   "outputs": [],
   "source": [
    "b_hash = {'a': 1, 'b': 2, 'c': 3}\n",
    "[a for a in b_hash]\n",
    "list(b_hash.keys())"
   ]
  },
  {
   "cell_type": "code",
   "metadata": {},
   "outputs": [],
   "source": [
    "b_hash = {'a': 1, 'b': 2, 'c': 3}\n",
    "print(b_hash)\n",
    "key_to_remove = 'e'\n",
    "if key_to_remove in b_hash:\n",
    "    b_hash.pop(key_to_remove)\n",
    "print(b_hash)"
   ]
  },
  {
   "cell_type": "code",
   "metadata": {},
   "outputs": [],
   "source": [
    "len(G1.adj['i'].keys())"
   ]
  },
  {
   "cell_type": "code",
   "metadata": {},
   "outputs": [],
   "source": [
    "a=[1,2,3]\n",
    "print(a)\n",
    "a.pop()\n",
    "print(a)\n",
    "a.append(4)\n",
    "print(a)"
   ]
  },
  {
   "cell_type": "code",
   "metadata": {},
   "outputs": [],
   "source": [
    "G1.adj"
   ]
  }
 ],
 "metadata": {
  "hide_input": false,
  "kernelspec": {
   "display_name": "Python 3",
   "language": "python",
   "name": "python3"
  },
  "language_info": {
   "codemirror_mode": {
    "name": "ipython",
    "version": 3
   },
   "file_extension": ".py",
   "mimetype": "text/x-python",
   "name": "python",
   "nbconvert_exporter": "python",
   "pygments_lexer": "ipython3"
  },
  "latex_envs": {
   "bibliofile": "biblio.bib",
   "cite_by": "apalike",
   "current_citInitial": 1,
   "eqLabelWithNumbers": true,
   "eqNumInitial": 0
  }
 },
 "nbformat": 4,
 "nbformat_minor": 0
}
