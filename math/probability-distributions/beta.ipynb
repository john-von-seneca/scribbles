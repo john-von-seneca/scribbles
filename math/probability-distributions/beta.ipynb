{
 "cells": [
  {
   "cell_type": "code",
   "execution_count": 1,
   "metadata": {
    "ExecuteTime": {
     "end_time": "2016-09-01T00:17:32.371577",
     "start_time": "2016-09-01T00:17:32.109715"
    },
    "collapsed": false,
    "run_control": {
     "frozen": false,
     "read_only": false
    }
   },
   "outputs": [],
   "source": [
    "import numpy as np\n",
    "from matplotlib import pyplot as plt\n",
    "%matplotlib inline\n",
    "\n",
    "import random as rnd\n",
    "import os\n",
    "import math\n",
    "\n",
    "# required for interactive plotting\n",
    "from __future__ import print_function\n",
    "from ipywidgets import interact, interactive, fixed\n",
    "import ipywidgets as widgets\n",
    "import numpy.polynomial as np_poly\n",
    "\n",
    "from IPython.display import Math\n",
    "from IPython.display import Latex\n",
    "from IPython.display import HTML\n",
    "\n",
    "from pprint import pprint\n",
    "import functools as ft"
   ]
  },
  {
   "cell_type": "markdown",
   "metadata": {},
   "source": [
    "initialization  \n",
    "$\n",
    "\\newcommand{\\E}[1]{\\mathbb{E}\\left[ #1 \\right]}\n",
    "\\newcommand{\\V}[1]{\\mathbb{V}\\left[#1\\right]}\n",
    "\\newcommand{\\H}[1]{\\mathbb{H}\\left[#1\\right]}\n",
    "\\newcommand{\\cov}[1]{\\text{cov} \\sigma\\left[#1\\right]}\n",
    "\\newcommand{\\EXP}[1]{\\exp\\left\\{#1\\right\\}} \n",
    "\\newcommand{\\LN}[1]{\\ln\\left\\{#1\\right\\}} \n",
    "\\newcommand{\\P}{\\mathbb{P}}\n",
    "\\newcommand{\\underl}[1]{\\text{$\\underline{#1}$}}\n",
    "\\newcommand{\\fracone}[1]{\\frac{1}{#1}}\n",
    "\\newcommand{\\half}{\\fracone{2}}\n",
    "\\newcommand{\\Lim}[1]{\\displaystyle \\lim_{#1}}\n",
    "\\newcommand{\\Norm}[1]{\\left\\lVert #1 \\right\\rVert}\n",
    "\\newcommand{\\inv}[1]{#1^{-1}}\n",
    "\\newcommand{\\invp}[1]{\\left({#1}\\right)^{-1}}\n",
    "\\DeclareMathOperator*{\\argmin}{arg\\,min}\n",
    "\\DeclareMathOperator*{\\argmax}{arg\\,max}\n",
    "\\newcommand{\\ml}[1]{#1_{\\text{ML}}}\n",
    "\\newcommand{\\Partial}[2]{\\frac{\\partial #1}{\\partial #2}}\n",
    "\\newcommand{\\KL}[2]{\\text{KL}\\left(#1 \\Vert #2\\right)}\n",
    "\\newcommand{\\MI}[1]{\\mathcal{I}\\left(#1\\right)}\n",
    "\\newcommand{\\Ln}[1]{\\ln \\left\\(#1\\right\\)}\n",
    "\\newcommand{\\Lnb}[1]{\\ln \\left\\{#1\\right\\} }\n",
    "\\newcommand{\\Mod}[1]{\\left|#1\\right|}\n",
    "$\n",
    "\n",
    "$\n",
    "\\newcommand{\\mat}[1]{ \\left[ \\begin{matrix} #1 \\end{matrix} \\right] }\n",
    "\\newcommand{\\matp}[1]{ \\left( \\begin{matrix} #1 \\end{matrix} \\right)}\n",
    "\\newcommand{\\mats}[1]{ \\begin{matrix}#1\\end{matrix} }\n",
    "$\n",
    "\n",
    "$\\newcommand{\\arrthree}[1]{\n",
    "\\begin{array}{rlr} #1 \\end{array}}\n",
    "$\n",
    "\n",
    "$\n",
    "\\newcommand{\\C}{\\mathbb{C}}\n",
    "\\newcommand{\\Ca}{\\mathcal{C}}\n",
    "\\newcommand{\\D}{\\mathcal{D}}\n",
    "\\newcommand{\\G}{\\mathcal{G}}\n",
    "\\newcommand{\\I}{\\mathcal{I}}\n",
    "\\newcommand{\\L}{\\mathcal{L}}\n",
    "\\newcommand{\\N}{\\mathbb{N}}\n",
    "\\newcommand{\\R}{\\mathbb{R}}\n",
    "\\newcommand{\\Ra}{\\mathcal{R}}\n",
    "$\n",
    "\n",
    "$\n",
    "\\newcommand{\\commentgray}[1]{\\color{gray}{\\text{#1}}}\n",
    "$\n",
    "\n"
   ]
  },
  {
   "cell_type": "markdown",
   "metadata": {},
   "source": [
    "sum, product\n",
    "$\n",
    "\\newcommand{\\sumiN}{\\displaystyle \\sum_{i=1}^{N}}\n",
    "\\newcommand{\\sumjD}{\\displaystyle \\sum_{j=1}^{D}}\n",
    "\\newcommand{\\sumjK}{\\displaystyle \\sum_{j=1}^{K}}\n",
    "\\newcommand{\\sumjMl}{\\sum_{j=1}^{M-1}}\n",
    "\\newcommand{\\sumkK}{\\displaystyle \\sum_{k=1}^{K}}\n",
    "\\newcommand{\\sumkM}{\\displaystyle \\sum_{k=1}^{M}}\n",
    "\\newcommand{\\sumkMl}{\\sum_{k=1}^{M-1}}\n",
    "\\newcommand{\\summN}{\\displaystyle \\sum_{m=1}^{N}}\n",
    "\\newcommand{\\sumnN}{\\displaystyle \\sum_{n=1}^{N}}\n",
    "$\n",
    "$\n",
    "\\newcommand{\\prodiN}{\\displaystyle \\prod_{i=1}^{N}}\n",
    "\\newcommand{\\prodjK}{\\displaystyle \\prod_{j=1}^{K}}\n",
    "\\newcommand{\\prodkK}{\\displaystyle \\prod_{k=1}^{K}}\n",
    "\\newcommand{\\prodmN}{\\displaystyle \\prod_{m=1}^{N}}\n",
    "\\newcommand{\\prodnN}{\\displaystyle \\prod_{n=1}^{N}}\n",
    "$"
   ]
  },
  {
   "cell_type": "markdown",
   "metadata": {},
   "source": [
    "alphabet bold,\n",
    "$\n",
    "\\newcommand{\\ab}{\\mathbf{a}}\n",
    "\\newcommand{\\Ab}{\\mathbf{A}}\n",
    "\\newcommand{\\Ai}{\\inv{\\Ab}}\n",
    "\\newcommand{\\At}{\\Ab^T}\n",
    "\\newcommand{\\Abjk}{\\Ab_{jk}}\n",
    "\\newcommand{\\bb}{\\mathbf{b}}\n",
    "\\newcommand{\\bt}{\\bb^T}\n",
    "\\newcommand{\\Bb}{\\mathbf{B}}\n",
    "\\newcommand{\\Bt}{\\Bb^T}\n",
    "\\newcommand{\\Cb}{\\mathbf{C}}\n",
    "\\newcommand{\\Db}{\\mathbf{D}}\n",
    "\\newcommand{\\fb}{\\mathbf{f}}\n",
    "\\newcommand{\\fp}{f^{\\prime}}\n",
    "\\newcommand{\\Hb}{\\mathbf{H}}\n",
    "\\newcommand{\\Jb}{\\mathbf{J}}\n",
    "\\newcommand{\\Kb}{\\mathbf{K}}\n",
    "\\newcommand{\\Lb}{\\mathbf{L}}\n",
    "\\newcommand{\\Lt}{\\Lb^T}\n",
    "\\newcommand{\\Lbi}{\\Lb^{-1}}\n",
    "\\newcommand{\\mb}{\\mathbf{m}}\n",
    "\\newcommand{\\mt}{\\mb^T}\n",
    "\\newcommand{\\Mb}{\\mathbf{M}}\n",
    "\\newcommand{\\Qb}{\\mathbf{Q}}\n",
    "\\newcommand{\\Rb}{\\mathbf{R}}\n",
    "\\newcommand{\\Sb}{\\mathbf{S}}\n",
    "\\newcommand{\\tb}{\\mathbf{t}}\n",
    "\\newcommand{\\ub}{\\mathbf{u}}\n",
    "\\newcommand{\\Ub}{\\mathbf{U}}\n",
    "\\newcommand{\\Ut}{\\Ub^T}\n",
    "\\newcommand{\\vb}{\\mathbf{v}}\n",
    "\\newcommand{\\Vb}{\\mathbf{V}}\n",
    "\\newcommand{\\wb}{\\mathbf{w}}\n",
    "\\newcommand{\\wt}{\\wb^T}\n",
    "\\newcommand{\\Xb}{\\mathbf{X}}\n",
    "\\newcommand{\\Xt}{\\Xb^T}\n",
    "\\newcommand{\\xb}{\\mathbf{x}}\n",
    "\\newcommand{\\xt}{\\xb^T}\n",
    "\\newcommand{\\xp}{x^{\\prime}}\n",
    "\\newcommand{\\xbp}{\\xb^{\\prime}}\n",
    "\\newcommand{\\xbm}{\\xb_m}\n",
    "\\newcommand{\\xbn}{\\xb_n}\n",
    "\\newcommand{\\xab}{\\mathbf{x_a}}\n",
    "\\newcommand{\\xabt}{\\mathbf{x_a}^T}\n",
    "\\newcommand{\\xbb}{\\mathbf{x_b}}\n",
    "\\newcommand{\\xbbt}{\\mathbf{x_b}^T}\n",
    "\\newcommand{\\yb}{\\mathbf{y}}\n",
    "\\newcommand{\\yt}{\\yb^T}\n",
    "\\newcommand{\\zb}{\\mathbf{z}}\n",
    "\\newcommand{\\zt}{\\zb^T}\n",
    "\\newcommand{\\zbm}{\\zb_m}\n",
    "\\newcommand{\\zbn}{\\zb_n}\n",
    "\\newcommand{\\zbnp}{\\zb_{n-1}}\n",
    "\\newcommand{\\znk}{\\zb_{nk}}\n",
    "\\newcommand{\\znpj}{\\zb_{n-1,j}}\n",
    "\\newcommand{\\Zb}{\\mathbf{Z}}\n",
    "$"
   ]
  },
  {
   "cell_type": "markdown",
   "metadata": {},
   "source": [
    "math bold\n",
    "$\n",
    "\\newcommand{\\chib}{\\boldsymbol{\\chi}}\n",
    "\\newcommand{\\etab}{\\pmb{\\eta}}\n",
    "\\newcommand{\\etat}{\\eta^T}\n",
    "\\newcommand{\\etabt}{\\etab^T}\n",
    "\\newcommand{\\laa}{\\Lambda_{aa}}\n",
    "\\newcommand{\\laai}{\\Lambda_{aa}^{-1}}\n",
    "\\newcommand{\\lab}{\\Lambda_{ab}}\n",
    "\\newcommand{\\lba}{\\Lambda_{ba}}\n",
    "\\newcommand{\\lbb}{\\Lambda_{bb}}\n",
    "\\newcommand{\\lbbi}{\\Lambda_{bb}^{-1}}\n",
    "\\newcommand{\\li}{\\lambda_i}\n",
    "\\newcommand{\\Li}{\\Lambda^{-1}}\n",
    "\\newcommand{\\mub}{\\pmb{\\mu}}\n",
    "\\newcommand{\\mut}{\\mub^T}\n",
    "\\newcommand{\\muab}{\\pmb{\\mu}_a}\n",
    "\\newcommand{\\mubb}{\\pmb{\\mu}_b}\n",
    "\\newcommand{\\pib}{\\pmb{\\pi}}\n",
    "\\newcommand{\\saa}{\\Sigma_{aa}}\n",
    "\\newcommand{\\sab}{\\Sigma_{ab}}\n",
    "\\newcommand{\\sba}{\\Sigma_{ba}}\n",
    "\\newcommand{\\sbb}{\\Sigma_{bb}}\n",
    "\\newcommand{\\thetab}{\\pmb{\\theta}}\n",
    "\\newcommand{\\thetat}{\\thetab^T}\n",
    "\\newcommand{\\thetabh}{\\hat{\\thetab}}\n",
    "\\newcommand{\\thetaold}{\\thetab^{\\text{old}}}\n",
    "$\n",
    "\n",
    "$\n",
    "\\newcommand{\\zerob}{\\pmb{0}}\n",
    "$\n"
   ]
  },
  {
   "cell_type": "markdown",
   "metadata": {},
   "source": [
    "aliases for distributions\n",
    "$\\newcommand{\\multivarcoeff}{\\frac{1}{(2\\pi)^{D/2}}\n",
    "\\frac{1}{\\left| \\mathbf{\\Sigma}\\right|^{1/2}}}$\n",
    "$\\newcommand{\\multivarexp}[2]\n",
    "{\n",
    "\\left\\{\n",
    " -\\frac{1}{2} \n",
    " {#1}^T \n",
    " #2\n",
    " {#1}\n",
    "\\right\\}\n",
    "}$\n",
    "$\\newcommand{\\multivarexpx}[1]{\\multivarexp{#1}{\\Sigma^{-1}}}$\n",
    "$\\newcommand{\\multivarexpstd}{\\multivarexpx{(\\xb-\\mub)}}$\n",
    "$\\newcommand{\\gam}{\\operatorname{Gam}}$\n",
    "\n",
    "$\n",
    "\\newcommand{\\Nl}[3]{\\mathcal{N}\\left(#1 \\mid #2, #3\\right)}\n",
    "\\newcommand{\\Nstdx}{\\Nl{\\mathbf{x}}{\\mathbf{\\mu}}{\\Sigma}}\n",
    "$"
   ]
  },
  {
   "cell_type": "markdown",
   "metadata": {},
   "source": [
    "$\\newcommand{\\betaf}[2]{\\mathbf{B}(#1,#2)}$\n",
    "$\\newcommand{\\betaab}{\\betaf{\\alpha}{\\beta}}$\n",
    "\n",
    "$f(x) = \\frac{\\Gamma(\\alpha+\\beta)}{\\Gamma(\\alpha)\\Gamma(\\beta)}\n",
    "x^{\\alpha-1} (1-x)^{\\beta-1}, 0 < x < 1$\n",
    "\n",
    "This can be written as follows:\n",
    "\n",
    "$$\n",
    "\\begin{align}\n",
    "f(x; \\alpha, \\beta) & = constant . x^{\\alpha-1} (1-x)^{\\beta-1} \\\\\n",
    "& = \\frac{x^{\\alpha-1} (1-x)^{\\beta-1}}\n",
    "         {\\int_{0}^{1} u^{\\alpha-1} (1-u)^{\\beta-1} du} \\\\\n",
    "& = \\frac{\\Gamma(\\alpha+\\beta)}{\\Gamma(\\alpha)\\Gamma(\\beta)} \n",
    "x^{\\alpha-1} (1-x)^{\\beta-1} \\\\\n",
    "& = \\frac{1}{\\betaab} x^{\\alpha-1} (1-x)^{\\beta-1}\n",
    "\\end{align}\n",
    "$$"
   ]
  },
  {
   "cell_type": "markdown",
   "metadata": {},
   "source": [
    "\\begin{array}{lrl}\n",
    "\\Gamma(a) \\Gamma(b)\n",
    "&=\n",
    "\\int_{0}^{\\infty} x^{a-1} e^{-x} ~dx\n",
    "\\int_{0}^{\\infty} y^{a-1} e^{-y} ~dy\n",
    "\\\\ &=\n",
    "\\int_{0}^{\\infty} x^{a-1} \n",
    "\\left(\n",
    "  \\int_{0}^{\\infty} y^{a-1} e^{-x-y} ~dy\n",
    "\\right) ~dx\n",
    "\\end{array}"
   ]
  },
  {
   "cell_type": "markdown",
   "metadata": {},
   "source": [
    "# Deriving the constant"
   ]
  },
  {
   "cell_type": "markdown",
   "metadata": {},
   "source": [
    "$$\n",
    "t = x+y \\\\ dt = dy \\\\\n",
    "y:[0 \\rightarrow \\infty] \\Rightarrow t:[x \\rightarrow \\infty]\n",
    "$$"
   ]
  },
  {
   "cell_type": "markdown",
   "metadata": {},
   "source": [
    "\\begin{array}{lrl}\n",
    "\\Gamma(a) \\Gamma(b) \n",
    "&=\n",
    "\\int_{0}^{\\infty} x^{a-1}\n",
    "\\left\\{\n",
    "  \\int_{x}^{\\infty} (t-x)^{a-1} e^{-t} ~dt\n",
    "\\right\\} ~dx\n",
    "\\\\ &=\n",
    "\\int_{0}^{\\infty} e^{-t}\n",
    "\\left\\{\n",
    "  \\int_{0}^{t} x^{a-1} (t-x)^{a-1}  ~dx\n",
    "\\right\\} ~dt\n",
    "\\end{array}"
   ]
  },
  {
   "cell_type": "markdown",
   "metadata": {},
   "source": [
    "$$\n",
    "x = t \\mu \\\\\n",
    "dx = t d\\mu \\\\\n",
    "x:[0 \\rightarrow t] \\Rightarrow t\\mu: [0 \\rightarrow 1]\n",
    "$$"
   ]
  },
  {
   "cell_type": "markdown",
   "metadata": {},
   "source": [
    "\\begin{array}{lll}\n",
    "\\Gamma(a) \\Gamma(b)\n",
    "&=\n",
    "\\int_{0}^{\\infty} e^{-t}\n",
    "\\left\\{\n",
    "  \\int_{0}^{1} t^{a-1} ~\\mu^{a-1} ~t^{a-1} ~(1-\\mu)^{a-1} ~t ~d\\mu\n",
    "\\right\\} ~dt\n",
    "\\\\ &=\n",
    "\\int_{0}^{\\infty} e^{-t} t^{a-1} ~t^{a-1} ~t ~dt\n",
    "~\\left\\{\n",
    "  \\int_{0}^{1} ~\\mu^{a-1} ~(1-\\mu)^{a-1} ~d\\mu\n",
    "\\right\\}\n",
    "\\\\ &=\n",
    "\\int_{0}^{\\infty} e^{-t} t^{a+b-1} ~dt\n",
    "~\\int_{0}^{1} ~\\mu^{a-1} ~(1-\\mu)^{a-1} ~d\\mu\n",
    "\\\\ &=\n",
    "\\Gamma(a+b) ~\\int_{0}^{1} ~\\mu^{a-1} ~(1-\\mu)^{a-1} ~d\\mu\n",
    "\\\\\n",
    "\\int_{0}^{1} ~\\mu^{a-1} ~(1-\\mu)^{a-1} ~d\\mu &=\n",
    "\\frac\n",
    "{\\Gamma(a) \\Gamma(b)}\n",
    "{\\Gamma(a+b)}\n",
    "\\end{array}"
   ]
  },
  {
   "cell_type": "markdown",
   "metadata": {},
   "source": [
    "\n",
    "Here **B(.)** is the quite interesting [beta function](https://en.wikipedia.org/wiki/Beta_distribution?oldformat=true) which given by \n",
    "$$\n",
    "\\betaab = \\frac{\\Gamma(\\alpha)\\Gamma(\\beta)}{\\Gamma(\\alpha+\\beta)}\n",
    "$$\n",
    "\n",
    "Gamma function is given by \n",
    "\\begin{array}{ll}\n",
    "\\Gamma(x) &= \\int_{0}^{\\infty} u^{x-1} e^{-u} du \\\\\n",
    "\\Gamma(x) &= (x-1) ~\\Gamma(x-1)\\\\\n",
    "\\end{array}\n",
    "\n",
    "Since\n",
    "\\begin{array}{llr}\n",
    "\\frac{1}{\\betaab} \\int_{0}^{1} x^{\\alpha-1}(1-x)^{\\beta-1} dx = 1\\\\\n",
    "\\text{we have },\\\\\n",
    "\\betaab = \\int_{0}^{1} x^{\\alpha-1}(1-x)^{\\beta-1} dx\n",
    "\\end{array}\n",
    "[Note: Its the other way around. But this makes it easy to understand/remember]"
   ]
  },
  {
   "cell_type": "markdown",
   "metadata": {},
   "source": [
    "# Statistics"
   ]
  },
  {
   "cell_type": "markdown",
   "metadata": {},
   "source": [
    "## E[X]\n",
    "\n",
    "\\begin{array}{llr}\n",
    "\\E{X}\n",
    "&= \\frac{1}{\\betaab} \\int_{0}^{1} x ~ x^{\\alpha-1} ~(1-x)^{\\beta-1} ~dx\n",
    "\\\\\n",
    "&=\n",
    "\\frac{1}{\\betaab} \\int_{0}^{1} x^{\\alpha} ~(1-x)^{\\beta-1} ~dx\n",
    "\\\\\n",
    "&=\n",
    "\\frac{1}{\\betaab} \\betaf{\\alpha+1}{\\beta} \\\\\n",
    "&=\n",
    "\\frac{\\Gamma(\\alpha+\\beta)}{\\Gamma(\\alpha)\\Gamma(\\beta)}\n",
    "\\frac{\\Gamma(\\alpha+1)\\Gamma(\\beta)}{\\Gamma(\\alpha+\\beta+1)}\n",
    "\\\\\n",
    "&=\n",
    "\\frac{\\Gamma(\\alpha+\\beta)}{\\Gamma(\\alpha+\\beta+1)}\n",
    "\\frac{\\Gamma(\\alpha+1)}{\\Gamma(\\alpha)}\n",
    "\\\\\n",
    "&=\n",
    "\\frac{\\alpha}{\\alpha+\\beta}\n",
    "\\end{array}"
   ]
  },
  {
   "cell_type": "markdown",
   "metadata": {},
   "source": [
    "## E[X^2]\n",
    "\\begin{array}{llr}\n",
    "\\E{X^2}\n",
    "&=\n",
    "\\frac{1}{\\betaab} \\int_{0}^{1} x^{\\alpha+1} ~(1-x)^{\\beta-1} ~dx\n",
    "\\\\\n",
    "&=\n",
    "\\frac{1}{\\betaab} \\betaf{\\alpha+2}{\\beta}\n",
    "\\\\\n",
    "&=\n",
    "\\frac{\\Gamma(\\alpha+\\beta)}{\\Gamma(\\alpha+\\beta+2)}\n",
    "\\frac{\\Gamma(\\alpha+2)}{\\Gamma(\\alpha)}\n",
    "\\\\\n",
    "&=\n",
    "\\frac{(\\alpha+1)\\alpha}{(\\alpha+\\beta+1)(\\alpha+\\beta)}\n",
    "\\end{array}"
   ]
  },
  {
   "cell_type": "markdown",
   "metadata": {},
   "source": [
    "## Var\n",
    "\n",
    "\\begin{array}{llr}\n",
    "\\V{X}\n",
    "&=\n",
    "\\frac{(\\alpha+1)\\alpha}{(\\alpha+\\beta+1)(\\alpha+\\beta)}\n",
    "-\n",
    "\\left(\\frac{\\alpha}{\\alpha+\\beta}\\right)^2\n",
    "\\\\\n",
    "&=\n",
    "\\frac\n",
    "{\\alpha(\\alpha+1)(\\alpha+\\beta) - \\alpha^2(\\alpha+\\beta+1)}\n",
    "{(\\alpha+\\beta+1)(\\alpha+\\beta)^2}\n",
    "\\\\\n",
    "&=\n",
    "\\frac\n",
    "{\\alpha\\beta}\n",
    "{(\\alpha+\\beta+1)(\\alpha+\\beta)^2}\n",
    "\\end{array}"
   ]
  },
  {
   "cell_type": "markdown",
   "metadata": {},
   "source": [
    "# Uses\n",
    "\n",
    "* Conjugate prior for binomial\n",
    "* The beta distribution has been applied to model the behavior of random variables \n",
    "limited to intervals of finite length in a wide variety of disciplines.\n",
    "For example, it has been used as a statistical description of \n",
    "  * allele frequencies in population genetics;[1] \n",
    "  * time allocation in project management / control systems;[2] \n",
    "  * sunshine data;[3] \n",
    "  * variability of soil properties;[4] \n",
    "  * proportions of the minerals in rocks in stratigraphy;[5]\n",
    "  * heterogeneity in the probability of HIV transmission.[6]"
   ]
  },
  {
   "cell_type": "code",
   "execution_count": 2,
   "metadata": {
    "ExecuteTime": {
     "end_time": "2016-09-01T00:17:32.897621",
     "start_time": "2016-09-01T00:17:32.637074"
    },
    "collapsed": false,
    "run_control": {
     "frozen": false,
     "read_only": false
    }
   },
   "outputs": [
    {
     "name": "stderr",
     "output_type": "stream",
     "text": [
      "/home/dragon/.local/lib/python3.5/site-packages/ipykernel/__main__.py:2: RuntimeWarning: divide by zero encountered in double_scalars\n",
      "  from ipykernel import kernelapp as app\n"
     ]
    },
    {
     "data": {
      "image/png": "[encoded data removed]",
      "text/plain": [
       "<matplotlib.figure.Figure at 0x7f1e4e9773c8>"
      ]
     },
     "metadata": {},
     "output_type": "display_data"
    },
    {
     "data": {
      "text/plain": [
       "<function __main__.interact_beta>"
      ]
     },
     "execution_count": 2,
     "metadata": {},
     "output_type": "execute_result"
    }
   ],
   "source": [
    "def compute_beta(x, a, b):\n",
    "    return (math.gamma(a+b)/(math.gamma(a)*math.gamma(b))) * (x**(a-1)) * ((1-x)**(b-1))\n",
    "\n",
    "def show_beta(alpha, beta):\n",
    "    x = np.linspace(0, 1, 100)\n",
    "    y = [compute_beta(xx, alpha, beta) for xx in x]\n",
    "    plt.plot(x, y, label='a={0}, b={1}'.format(alpha,beta))\n",
    "    \n",
    "    \n",
    "def interact_beta(alpha=2,beta=3,show_all=True):\n",
    "    params = [[0.1,0.1],[1,1],[2,3],[8,4]]\n",
    "    [show_beta(param[0],param[1]) for param in params] if show_all else show_beta(alpha,beta)\n",
    "    plt.legend(loc='upper left')\n",
    "    plt.grid();plt.show()\n",
    "    \n",
    "interact(interact_beta, alpha=(0.5,100,0.5), beta=(0.5,100,.5))"
   ]
  }
 ],
 "metadata": {
  "hide_input": false,
  "kernelspec": {
   "display_name": "Python 3",
   "language": "python",
   "name": "python3"
  },
  "language_info": {
   "codemirror_mode": {
    "name": "ipython",
    "version": 3
   },
   "file_extension": ".py",
   "mimetype": "text/x-python",
   "name": "python",
   "nbconvert_exporter": "python",
   "pygments_lexer": "ipython3",
   "version": "3.5.2"
  },
  "latex_envs": {
   "bibliofile": "biblio.bib",
   "cite_by": "apalike",
   "current_citInitial": 1,
   "eqLabelWithNumbers": true,
   "eqNumInitial": 0
  },
  "nav_menu": {},
  "toc": {
   "navigate_menu": true,
   "number_sections": true,
   "sideBar": false,
   "threshold": 6,
   "toc_cell": false,
   "toc_section_display": "block",
   "toc_window_display": false
  },
  "widgets": {
   "state": {
    "b1a63e77682e438b8a5dc2e9f08da2b1": {
     "views": [
      {
       "cell_index": 19
      }
     ]
    }
   },
   "version": "1.2.0"
  }
 },
 "nbformat": 4,
 "nbformat_minor": 0
}
