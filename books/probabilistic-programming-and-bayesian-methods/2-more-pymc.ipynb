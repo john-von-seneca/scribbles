{
 "cells": [
  {
   "cell_type": "markdown",
   "metadata": {
    "heading_collapsed": true
   },
   "source": [
    "# preamble"
   ]
  },
  {
   "cell_type": "code",
   "execution_count": 25,
   "metadata": {
    "ExecuteTime": {
     "end_time": "2017-06-26T06:21:59.512045Z",
     "start_time": "2017-06-26T06:21:59.479589Z"
    },
    "hidden": true,
    "init_cell": true
   },
   "outputs": [],
   "source": [
    "# science-y\n",
    "#import fbprophet\n",
    "import math\n",
    "import numpy as np\n",
    "import numpy\n",
    "import numpy.polynomial as np_poly\n",
    "import pandas as pd\n",
    "import pystan\n",
    "import scipy as sp\n",
    "import pymc3 as pm\n",
    "import theano\n",
    "\n",
    "#ml stuff\n",
    "#import pandas_ml as pdml"
   ]
  },
  {
   "cell_type": "code",
   "execution_count": 26,
   "metadata": {
    "ExecuteTime": {
     "end_time": "2017-06-26T06:21:59.523440Z",
     "start_time": "2017-06-26T06:21:59.513754Z"
    },
    "hidden": true,
    "init_cell": true
   },
   "outputs": [],
   "source": [
    "import scipy.interpolate as sp_interpolate\n",
    "import scipy.signal as sp_signal\n",
    "import scipy.stats as sp_stats"
   ]
  },
  {
   "cell_type": "code",
   "execution_count": 27,
   "metadata": {
    "ExecuteTime": {
     "end_time": "2017-06-26T06:21:59.545445Z",
     "start_time": "2017-06-26T06:21:59.526074Z"
    },
    "hidden": true,
    "init_cell": true
   },
   "outputs": [],
   "source": [
    "# sklearn\n",
    "import sklearn.discriminant_analysis as sk_disc\n",
    "import sklearn.ensemble as sk_ensemble\n",
    "import sklearn.linear_model as sk_lm\n",
    "import sklearn.metrics as sk_metrics\n",
    "from sklearn.model_selection import train_test_split\n",
    "from sklearn.model_selection import GridSearchCV\n",
    "from sklearn import preprocessing as sk_preprocess\n",
    "from sklearn import svm as sk_svm\n",
    "import sklearn.tree as sk_tree\n",
    "from sklearn import utils as sk_utils\n",
    "import sklearn.datasets as sk_datasets\n",
    "#from sklearn.ensemble import AdaBoostClassifier\n",
    "#from sklearn.tree import DecisionTreeClassifier"
   ]
  },
  {
   "cell_type": "code",
   "execution_count": 28,
   "metadata": {
    "ExecuteTime": {
     "end_time": "2017-06-26T06:21:59.575515Z",
     "start_time": "2017-06-26T06:21:59.548391Z"
    },
    "hidden": true,
    "init_cell": true
   },
   "outputs": [
    {
     "name": "stdout",
     "output_type": "stream",
     "text": [
      "import error while loading spark, skipping\n"
     ]
    }
   ],
   "source": [
    "# spark stuff\n",
    "try:\n",
    "    from pyspark.sql import SQLContext\n",
    "    from pyspark.sql import Row as SqlRow\n",
    "    import pyspark.ml.classification as ml_cl\n",
    "    import pyspark.ml.linalg as ml_linalg\n",
    "    import pyspark.ml.regression as ml_reg\n",
    "    import pyspark.ml.util as ml_util\n",
    "    import pyspark.sql.functions as sql_f\n",
    "    from pyspark.mllib.stat import Statistics as ml_stats\n",
    "    from pyspark.ml.evaluation import RegressionEvaluator as ml_reg_eval\n",
    "except ImportError:\n",
    "    print('import error while loading spark, skipping')\n",
    "    pass"
   ]
  },
  {
   "cell_type": "code",
   "execution_count": 29,
   "metadata": {
    "ExecuteTime": {
     "end_time": "2017-06-26T06:21:59.607613Z",
     "start_time": "2017-06-26T06:21:59.578084Z"
    },
    "hidden": true,
    "init_cell": true
   },
   "outputs": [],
   "source": [
    "# python stuff\n",
    "import boto\n",
    "from collections import OrderedDict\n",
    "import copy\n",
    "from datetime import datetime, timedelta\n",
    "from datetime import date as dt_date\n",
    "import functools as ft\n",
    "from __future__ import print_function\n",
    "import itertools\n",
    "import json\n",
    "import multiprocessing\n",
    "import operator\n",
    "import os\n",
    "import pickle\n",
    "from pprint import pprint\n",
    "import re\n",
    "import random\n",
    "import string\n",
    "import subprocess\n",
    "import sys\n",
    "import time\n",
    "import tqdm"
   ]
  },
  {
   "cell_type": "code",
   "execution_count": 30,
   "metadata": {
    "ExecuteTime": {
     "end_time": "2017-06-26T06:21:59.624343Z",
     "start_time": "2017-06-26T06:21:59.609695Z"
    },
    "hidden": true,
    "init_cell": true
   },
   "outputs": [],
   "source": [
    "# viz\n",
    "import daft\n",
    "from graphviz import Digraph\n",
    "import matplotlib\n",
    "import matplotlib.colors as mpl_colors\n",
    "from matplotlib import pyplot as plt\n",
    "import matplotlib.patches as patches\n",
    "import matplotlib.lines as mlines\n",
    "import matplotlib.dates as mdates\n",
    "import mpld3\n",
    "import pydotplus\n",
    "import seaborn as sns"
   ]
  },
  {
   "cell_type": "code",
   "execution_count": 31,
   "metadata": {
    "ExecuteTime": {
     "end_time": "2017-06-26T06:21:59.638042Z",
     "start_time": "2017-06-26T06:21:59.627233Z"
    },
    "hidden": true,
    "init_cell": true
   },
   "outputs": [],
   "source": [
    "# widgets\n",
    "from ipywidgets import interact, interactive, fixed, interact_manual, Layout\n",
    "import ipywidgets\n",
    "#from IPython.html import widgets as html_widgets\n",
    "from IPython.display import display as ipython_display\n",
    "# from IPython.display import Math\n",
    "# from IPython.display import Latex\n",
    "from IPython.display import HTML as iHTML\n",
    "from IPython.core.pylabtools import figsize as i_figsize"
   ]
  },
  {
   "cell_type": "code",
   "execution_count": 38,
   "metadata": {
    "ExecuteTime": {
     "end_time": "2017-06-26T06:22:21.219636Z",
     "start_time": "2017-06-26T06:22:21.211380Z"
    },
    "hidden": true,
    "init_cell": true
   },
   "outputs": [],
   "source": [
    "DIR_HOME = os.environ['HOME']\n",
    "DIR_REPOS = DIR_HOME + \"/repos\"\n",
    "DIR_BMLSP = DIR_REPOS + \"/luispedro/BuildingMachineLearningSystemsWithPython\"\n",
    "DIR_PPBM  = DIR_REPOS + '/CamDavidsonPilon/Probabilistic-Programming-and-Bayesian-Methods-for-Hackers'\n",
    "DIR_OLA_DATA = DIR_HOME + \"/ola-data\"\n",
    "fo_data = DIR_OLA_DATA + \"/driver-churn/qubole\""
   ]
  },
  {
   "cell_type": "code",
   "execution_count": 33,
   "metadata": {
    "ExecuteTime": {
     "end_time": "2017-06-26T06:21:59.676852Z",
     "start_time": "2017-06-26T06:21:59.651116Z"
    },
    "hidden": true,
    "init_cell": true
   },
   "outputs": [],
   "source": [
    "# plt.rcParams['font.family'] = 'DejaVu Sans'\n",
    "# plt.rcParams[\"figure.figsize\"] = [6,4]\n",
    "\n",
    "matplotlib.rcParams.update(json.load(open(DIR_HOME+\"/.matplotlib/matplotlibrc.json\")))\n",
    "\n",
    "np.set_printoptions(precision=2)\n",
    "\n",
    "pd.options.display.float_format = '{:,.2f}'.format\n",
    "pd.set_option('precision', 2)\n",
    "pd.set_option('max_colwidth',20)"
   ]
  },
  {
   "cell_type": "code",
   "execution_count": 34,
   "metadata": {
    "ExecuteTime": {
     "end_time": "2017-06-26T06:21:59.695119Z",
     "start_time": "2017-06-26T06:21:59.679411Z"
    },
    "hidden": true,
    "init_cell": true
   },
   "outputs": [
    {
     "name": "stdout",
     "output_type": "stream",
     "text": [
      "The Cython extension is already loaded. To reload it, use:\n",
      "  %reload_ext Cython\n"
     ]
    }
   ],
   "source": [
    "%matplotlib inline\n",
    "%load_ext Cython\n",
    "#mpld3.enable_notebook()"
   ]
  },
  {
   "cell_type": "code",
   "execution_count": 35,
   "metadata": {
    "ExecuteTime": {
     "end_time": "2017-06-26T06:21:59.705065Z",
     "start_time": "2017-06-26T06:21:59.698066Z"
    },
    "hidden": true,
    "init_cell": true
   },
   "outputs": [
    {
     "name": "stdout",
     "output_type": "stream",
     "text": [
      "sys.version_info(major=3, minor=6, micro=1, releaselevel='final', serial=0)\n",
      "3.6.1 (default, Apr  4 2017, 09:36:47) \n",
      "[GCC 4.2.1 Compatible Apple LLVM 7.0.2 (clang-700.1.81)]\n"
     ]
    }
   ],
   "source": [
    "print(sys.version_info)\n",
    "print(sys.version)"
   ]
  },
  {
   "cell_type": "code",
   "execution_count": 36,
   "metadata": {
    "ExecuteTime": {
     "end_time": "2017-06-26T06:21:59.713841Z",
     "start_time": "2017-06-26T06:21:59.709342Z"
    },
    "hidden": true,
    "init_cell": true
   },
   "outputs": [],
   "source": [
    "if 'sc' in locals():\n",
    "    sc.setLogLevel(\"WARN\")"
   ]
  },
  {
   "cell_type": "markdown",
   "metadata": {
    "hidden": true
   },
   "source": [
    "initialization\n",
    "$\n",
    "\\newcommand{\\Brace}[1]{\\left\\{#1\\right\\}}\n",
    "\\newcommand{\\Bracket}[1]{\\left[#1\\right]}\n",
    "\\newcommand{\\cases}[1]{\\begin{cases}#1\\end{cases}}\n",
    "\\newcommand{\\Ceil}[1]{\\left\\lceil {#1} \\right\\rceil}\n",
    "\\newcommand{\\cov}[1]{\\text{cov} \\sigma\\left[#1\\right]}\n",
    "\\newcommand{\\diff}[2]{\\frac{d #1}{d #2}}\n",
    "\\newcommand{\\difftwo}[2]{\\frac{d^2 #1}{d {#2}^2}}\n",
    "\\newcommand{\\diffn}[2]{{#1}^{\\prime}(#2)}\n",
    "\\newcommand{\\ds}{\\displaystyle}\n",
    "\\newcommand{\\E}[1]{\\mathbb{E}\\left[ #1 \\right]}\n",
    "\\newcommand{\\expb}[1]{\\exp\\left\\{#1\\right\\}} \n",
    "\\newcommand{\\EXP}[1]{\\exp\\left\\{#1\\right\\}} \n",
    "\\newcommand{\\frachalf}[1]{\\frac{#1}{2}~}\n",
    "\\newcommand{\\fracone}[1]{\\frac{1}{#1}~}\n",
    "\\newcommand{\\fracrec}[1]{\\frac{1}{#1}~}\n",
    "\\newcommand{\\Floor}[1]{\\left\\lfloor {#1} \\right\\rfloor}\n",
    "\\newcommand{\\half}{\\fracone{2}}\n",
    "\\newcommand{\\H}[1]{\\mathbb{H}\\left[#1\\right]}\n",
    "\\newcommand{\\Int}[2]{\\displaystyle \\int_{#1}^{#2}~}\n",
    "\\newcommand{\\intinfinf}{\\Int{-\\infty}{\\infty}}\n",
    "\\newcommand{\\inv}[1]{#1^{-1}}\n",
    "\\newcommand{\\invp}[1]{\\left({#1}\\right)^{-1}}\n",
    "\\newcommand{\\KL}[2]{\\text{KL}\\left(#1 \\Vert #2\\right)}\n",
    "\\newcommand{\\Lim}[1]{\\displaystyle \\lim_{#1}}\n",
    "\\newcommand{\\Ln}[1]{\\ln \\left\\(#1\\right\\)}\n",
    "\\newcommand{\\Lnb}[1]{\\ln \\left\\{#1\\right\\} }\n",
    "\\newcommand{\\Mod}[1]{\\left|#1\\right|}\n",
    "\\newcommand{\\Norm}[1]{\\left\\lVert #1 \\right\\rVert}\n",
    "\\newcommand{\\Normsqr}[1]{\\Norm{#1}^2}\n",
    "\\newcommand{\\map}[1]{#1_{\\text{MAP}}}\n",
    "\\newcommand{\\ml}[1]{#1_{\\text{ML}}}\n",
    "\\newcommand{\\MI}[1]{\\mathcal{I}\\left(#1\\right)}\n",
    "\\newcommand{\\P}{\\mathbb{P}}\n",
    "\\newcommand{\\Paran}[1]{\\left(#1\\right)}\n",
    "\\newcommand{\\Partial}[2]{\\frac{\\partial #1}{\\partial #2}}\n",
    "\\newcommand{\\Recip}[1]{ \\frac{1}{ #1 } }\n",
    "\\newcommand{\\sqrbrkt}[1]{\\Bracket{#1}^2}\n",
    "\\newcommand{\\sqrbrc}[1]{\\Brace{#1}^2}\n",
    "\\newcommand{\\trace}[1]{\\text{Tr}\\left( #1 \\right)}\n",
    "\\newcommand{\\traceb}[1]{\\text{Tr}\\left\\{#1\\right\\}}\n",
    "\\newcommand{\\underl}[1]{\\text{$\\underline{#1}$}}\n",
    "\\newcommand{\\V}[1]{\\mathbb{V}\\left[#1\\right]}\n",
    "$\n",
    "$\n",
    "\\DeclareMathOperator*{\\argmin}{arg\\,min}\n",
    "\\DeclareMathOperator*{\\argmax}{arg\\,max}\n",
    "$\n",
    "$\n",
    "\\newcommand{\\mat}[1]{ \\left[ \\begin{matrix} #1 \\end{matrix} \\right] }\n",
    "\\newcommand{\\matp}[1]{ \\left( \\begin{matrix} #1 \\end{matrix} \\right)}\n",
    "\\newcommand{\\mats}[1]{ \\begin{matrix}#1\\end{matrix} }\n",
    "\\newcommand{\\arrthree}[1]{\n",
    "\\begin{array}{rlr} #1 \\end{array}}\n",
    "$"
   ]
  },
  {
   "cell_type": "markdown",
   "metadata": {
    "hidden": true
   },
   "source": [
    "$\n",
    "\\newcommand{\\C}{\\mathbb{C}}\n",
    "\\newcommand{\\Ca}{\\mathcal{C}}\n",
    "\\newcommand{\\Caone}{\\Ca_1}\n",
    "\\newcommand{\\Catwo}{\\Ca_2}\n",
    "\\newcommand{\\Cak}{\\Ca_k}\n",
    "\\newcommand{\\D}{\\mathcal{D}}\n",
    "\\newcommand{\\G}{\\mathcal{G}}\n",
    "\\newcommand{\\I}{\\mathcal{I}}\n",
    "\\newcommand{\\L}{\\mathcal{L}}\n",
    "\\newcommand{\\M}{\\mathcal{M}}\n",
    "\\newcommand{\\N}{\\mathbb{N}}\n",
    "\\newcommand{\\R}{\\mathbb{R}}\n",
    "\\newcommand{\\Ra}{\\mathcal{R}}\n",
    "$\n",
    "$\n",
    "\\newcommand{\\commentgray}[1]{\\color{gray}{\\text{#1}}}\n",
    "$"
   ]
  },
  {
   "cell_type": "markdown",
   "metadata": {
    "hidden": true
   },
   "source": [
    "sum, product\n",
    "$\n",
    "\\newcommand{\\sumi}{\\displaystyle \\sum_i}\n",
    "\\newcommand{\\sumiD}{\\displaystyle \\sum_{i=1}^{D}}\n",
    "\\newcommand{\\sumiL}{\\displaystyle \\sum_{i=1}^{L}}\n",
    "\\newcommand{\\sumiN}{\\displaystyle \\sum_{i=1}^{N}}\n",
    "\\newcommand{\\sumjD}{\\displaystyle \\sum_{j=1}^{D}}\n",
    "\\newcommand{\\sumjK}{\\displaystyle \\sum_{j=1}^{K}}\n",
    "\\newcommand{\\sumjMl}{\\sum_{j=1}^{M-1}}\n",
    "\\newcommand{\\sumkK}{\\displaystyle \\sum_{k=1}^{K}}\n",
    "\\newcommand{\\sumkM}{\\displaystyle \\sum_{k=1}^{M}}\n",
    "\\newcommand{\\sumkMl}{\\sum_{k=1}^{M-1}}\n",
    "\\newcommand{\\sumkp}{\\displaystyle \\sum_{k=1}^{p}}\n",
    "\\newcommand{\\summN}{\\displaystyle \\sum_{m=1}^{N}}\n",
    "\\newcommand{\\sumnN}{\\displaystyle \\sum_{n=1}^{N}}\n",
    "$\n",
    "$\n",
    "\\newcommand{\\prodi}{\\displaystyle \\prod_i}\n",
    "\\newcommand{\\prodiD}{\\displaystyle \\prod_{i=1}^{D}}\n",
    "\\newcommand{\\prodiL}{\\displaystyle \\prod_{i=1}^{L}}\n",
    "\\newcommand{\\prodiN}{\\displaystyle \\prod_{i=1}^{N}}\n",
    "\\newcommand{\\prodjK}{\\displaystyle \\prod_{j=1}^{K}}\n",
    "\\newcommand{\\prodkK}{\\displaystyle \\prod_{k=1}^{K}}\n",
    "\\newcommand{\\prodmN}{\\displaystyle \\prod_{m=1}^{N}}\n",
    "\\newcommand{\\prodnN}{\\displaystyle \\prod_{n=1}^{N}}\n",
    "$"
   ]
  },
  {
   "cell_type": "markdown",
   "metadata": {
    "hidden": true
   },
   "source": [
    "alphabet shortcuts\n",
    "$\n",
    "\\newcommand{\\ab}{\\mathbf{a}}\n",
    "\\newcommand{\\at}{\\ab^T}\n",
    "\\newcommand{\\Ab}{\\mathbf{A}}\n",
    "\\newcommand{\\At}{\\Ab^T}\n",
    "\\newcommand{\\Ai}{\\inv{\\Ab}}\n",
    "\\newcommand{\\Abjk}{\\Ab_{jk}}\n",
    "\\newcommand{\\bb}{\\mathbf{b}}\n",
    "\\newcommand{\\bt}{\\bb^T}\n",
    "\\newcommand{\\Bb}{\\mathbf{B}}\n",
    "\\newcommand{\\Bt}{\\Bb^T}\n",
    "\\newcommand{\\Cb}{\\mathbf{C}}\n",
    "\\newcommand{\\Cn}{\\Cb_{N}}\n",
    "\\newcommand{\\Db}{\\mathbf{D}}\n",
    "\\newcommand{\\fb}{\\mathbf{f}}\n",
    "\\newcommand{\\fp}{f^{\\prime}}\n",
    "\\newcommand{\\Hb}{\\mathbf{H}}\n",
    "\\newcommand{\\hx}{h(\\xb)}\n",
    "\\newcommand{\\Jb}{\\mathbf{J}}\n",
    "\\newcommand{\\kb}{\\mathbf{k}}\n",
    "\\newcommand{\\kt}{\\kb^T}\n",
    "\\newcommand{\\Kb}{\\mathbf{K}}\n",
    "\\newcommand{\\Lb}{\\mathbf{L}}\n",
    "\\newcommand{\\Lt}{\\Lb^T}\n",
    "\\newcommand{\\Lbi}{\\Lb^{-1}}\n",
    "\\newcommand{\\mb}{\\mathbf{m}}\n",
    "\\newcommand{\\mt}{\\mb^T}\n",
    "\\newcommand{\\mbn}{\\mb_N}\n",
    "\\newcommand{\\mbnt}{\\mbn^T}\n",
    "\\newcommand{\\mbN}{\\mb_N}\n",
    "\\newcommand{\\mbNt}{\\mbn^T}\n",
    "\\newcommand{\\Mb}{\\mathbf{M}}\n",
    "\\newcommand{\\Qb}{\\mathbf{Q}}\n",
    "\\newcommand{\\Rb}{\\mathbf{R}}\n",
    "\\newcommand{\\sb}{\\mathbf{s}}\n",
    "\\newcommand{\\Sb}{\\mathbf{S}}\n",
    "\\newcommand{\\tb}{\\mathbf{t}}\n",
    "\\newcommand{\\tbnn}{\\tb_{N}}\n",
    "\\newcommand{\\tbnp}{\\tb_{N+1}}\n",
    "\\newcommand{\\tt}{\\tb^T}\n",
    "\\newcommand{\\Tb}{\\mathbf{T}}\n",
    "\\newcommand{\\Tt}{\\Tb^T}\n",
    "\\newcommand{\\ub}{\\mathbf{u}}\n",
    "\\newcommand{\\Ub}{\\mathbf{U}}\n",
    "\\newcommand{\\Ut}{\\Ub^T}\n",
    "\\newcommand{\\vb}{\\mathbf{v}}\n",
    "\\newcommand{\\Vb}{\\mathbf{V}}\n",
    "\\newcommand{\\wb}{\\mathbf{w}}\n",
    "\\newcommand{\\wnr}[1]{\\wb^{(\\text{#1})}}\n",
    "\\newcommand{\\wt}{\\wb^T}\n",
    "\\newcommand{\\Wb}{\\mathbf{W}}\n",
    "\\newcommand{\\Wt}{\\Wb^T}\n",
    "\\newcommand{\\Wtilde}{\\widetilde{\\Wb}}\n",
    "\\newcommand{\\Wtildet}{\\Wtilde^T}\n",
    "\\newcommand{\\Xb}{\\mathbf{X}}\n",
    "\\newcommand{\\Xt}{\\Xb^T}\n",
    "\\newcommand{\\Xk}{\\Xb_k}\n",
    "\\newcommand{\\Xkt}{\\Xk^T}\n",
    "\\newcommand{\\Xtilde}{\\widetilde{\\Xb}}\n",
    "\\newcommand{\\Xtildet}{\\Xtilde^T}\n",
    "\\newcommand{\\xb}{\\mathbf{x}}\n",
    "\\newcommand{\\xt}{\\xb^T}\n",
    "\\newcommand{\\xtilde}{\\widetilde{\\xb}}\n",
    "\\newcommand{\\xtilden}{\\xtilde_n}\n",
    "\\newcommand{\\xtildent}{\\xtilden^T}\n",
    "\\newcommand{\\xp}{x^{\\prime}}\n",
    "\\newcommand{\\xbp}{\\xb^{\\prime}}\n",
    "\\newcommand{\\xbm}{\\xb_m}\n",
    "\\newcommand{\\xbn}{\\xb_n}\n",
    "\\newcommand{\\xbnp}{\\xb_{N+1}}\n",
    "\\newcommand{\\xab}{\\mathbf{x_a}}\n",
    "\\newcommand{\\xabt}{\\mathbf{x_a}^T}\n",
    "\\newcommand{\\xbb}{\\mathbf{x_b}}\n",
    "\\newcommand{\\xbbt}{\\mathbf{x_b}^T}\n",
    "\\newcommand{\\yb}{\\mathbf{y}}\n",
    "\\newcommand{\\yt}{\\yb^T}\n",
    "\\newcommand{\\yx}{y(\\xb)}\n",
    "\\newcommand{\\Yb}{\\mathbf{Y}}\n",
    "\\newcommand{\\Yt}{\\Yb^T}\n",
    "\\newcommand{\\zb}{\\mathbf{z}}\n",
    "\\newcommand{\\zt}{\\zb^T}\n",
    "\\newcommand{\\zbm}{\\zb_m}\n",
    "\\newcommand{\\zbn}{\\zb_n}\n",
    "\\newcommand{\\zbnp}{\\zb_{n-1}}\n",
    "\\newcommand{\\znk}{\\zb_{nk}}\n",
    "\\newcommand{\\znpj}{\\zb_{n-1,j}}\n",
    "\\newcommand{\\Zb}{\\mathbf{Z}}\n",
    "$"
   ]
  },
  {
   "cell_type": "markdown",
   "metadata": {
    "hidden": true
   },
   "source": [
    "math shortcuts\n",
    "$\n",
    "\\newcommand{\\alphab}{\\pmb{\\alpha}}\n",
    "\\newcommand{\\alphabt}{\\alphab^T}\n",
    "\\newcommand{\\betab}{\\pmb{\\beta}}\n",
    "\\newcommand{\\betabp}{\\betab^{\\prime}}\n",
    "\\newcommand{\\chib}{\\boldsymbol{\\chi}}\n",
    "\\newcommand{\\etab}{\\pmb{\\eta}}\n",
    "\\newcommand{\\etabp}{\\etab^{\\prime}}\n",
    "\\newcommand{\\etat}{\\eta^T}\n",
    "\\newcommand{\\etabt}{\\etab^T}\n",
    "\\newcommand{\\Lambdab}{\\pmb{\\Lambda}}\n",
    "\\newcommand{\\laa}{\\Lambda_{aa}}\n",
    "\\newcommand{\\laai}{\\Lambda_{aa}^{-1}}\n",
    "\\newcommand{\\lab}{\\Lambda_{ab}}\n",
    "\\newcommand{\\lba}{\\Lambda_{ba}}\n",
    "\\newcommand{\\lbb}{\\Lambda_{bb}}\n",
    "\\newcommand{\\lbbi}{\\Lambda_{bb}^{-1}}\n",
    "\\newcommand{\\li}{\\Lambda^{-1}}\n",
    "\\newcommand{\\Li}{\\Lambda^{-1}}\n",
    "\\newcommand{\\mub}{\\pmb{\\mu}}\n",
    "\\newcommand{\\mut}{\\mub^T}\n",
    "\\newcommand{\\muab}{\\pmb{\\mu}_a}\n",
    "\\newcommand{\\mubb}{\\pmb{\\mu}_b}\n",
    "\\newcommand{\\Phib}{\\pmb{\\Phi}}\n",
    "\\newcommand{\\Phibt}{\\Phib^T}\n",
    "\\newcommand{\\pib}{\\pmb{\\pi}}\n",
    "\\newcommand{\\sigmasqr}{\\sigma^2}\n",
    "\\newcommand{\\saa}{\\Sigma_{aa}}\n",
    "\\newcommand{\\sab}{\\Sigma_{ab}}\n",
    "\\newcommand{\\sba}{\\Sigma_{ba}}\n",
    "\\newcommand{\\sbb}{\\Sigma_{bb}}\n",
    "\\newcommand{\\Sigmai}{\\inv{\\Sigma}}\n",
    "\\newcommand{\\thetab}{\\pmb{\\theta}}\n",
    "\\newcommand{\\thetat}{\\thetab^T}\n",
    "\\newcommand{\\thetabh}{\\hat{\\thetab}}\n",
    "\\newcommand{\\thetaold}{\\thetab^{\\text{old}}}\n",
    "$\n",
    "$\n",
    "\\newcommand{\\zerob}{\\pmb{0}}\n",
    "\\newcommand{\\oneb}{\\pmb{1}}\n",
    "\\newcommand{\\ed}{\\mathbb{E}_{\\D}}\n",
    "\\newcommand{\\edyx}{\\ed\\left[y(\\xb ; \\D)\\right]}\n",
    "\\newcommand{\\dx}{~dx}\n",
    "\\newcommand{\\dxb}{~d\\xb}\n",
    "\\newcommand{\\pxdxb}{p(\\xb) \\dxb}\n",
    "\\newcommand{\\dwb}{~d\\wb}\n",
    "$"
   ]
  },
  {
   "cell_type": "markdown",
   "metadata": {
    "hidden": true
   },
   "source": [
    "aliases for distributions\n",
    "$\\newcommand{\\multivarcoeff}{\\frac{1}{(2\\pi)^{D/2}}\n",
    "\\frac{1}{\\left| \\mathbf{\\Sigma}\\right|^{1/2}}}$\n",
    "$\\newcommand{\\multivarexp}[2]\n",
    "{\n",
    "\\left\\{\n",
    " -\\frac{1}{2} \n",
    " {#1}^T \n",
    " #2\n",
    " {#1}\n",
    "\\right\\}\n",
    "}$\n",
    "$\\newcommand{\\multivarexpx}[1]{\\multivarexp{#1}{\\Sigma^{-1}}}$\n",
    "$\\newcommand{\\multivarexpstd}{\\multivarexpx{(\\xb-\\mub)}}$\n",
    "$\\newcommand{\\gam}{\\operatorname{Gam}}$\n",
    "$\n",
    "\\newcommand{\\Nl}[3]{\\mathcal{N}\\left(#1 \\mid #2, #3\\right)}\n",
    "\\newcommand{\\Nstdx}{\\Nl{\\mathbf{x}}{\\mathbf{\\mu}}{\\Sigma}}\n",
    "$"
   ]
  },
  {
   "cell_type": "code",
   "execution_count": 37,
   "metadata": {
    "ExecuteTime": {
     "end_time": "2017-06-26T06:21:59.727046Z",
     "start_time": "2017-06-26T06:21:59.716717Z"
    },
    "hidden": true,
    "init_cell": true
   },
   "outputs": [
    {
     "data": {
      "text/html": [
       "\n",
       "<style>\n",
       ".cm-s-ipython span.cm-comment {color: #777777;}\n",
       ".cm-s-ipython span.cm-string {color: #3e9448;}\n",
       ".cm-s-ipython span.cm-string {color: #7f9f7f;}\n",
       ".cm-s-ipython span.cm-string {color: #b0559e;}\n",
       ".cm-s-ipython span.cm-variable {color: #666666;}\n",
       ".cm-s-ipython span.cm-variable-2 {color: #6f42c1;}\n",
       ".cm-keyword { color: #f0dfaf; font-weight: bold; }\n",
       ".cm-s-ipython span.cm-operator {color: #a3685a;}\n",
       ".cm-s-ipython span.cm-builtin {color: #7e4a15; font-weight: bold; }\n",
       "</style>\n"
      ],
      "text/plain": [
       "<IPython.core.display.HTML object>"
      ]
     },
     "execution_count": 37,
     "metadata": {},
     "output_type": "execute_result"
    }
   ],
   "source": [
    "iHTML(\"\"\"\n",
    "<style>\n",
    ".cm-s-ipython span.cm-comment {color: #777777;}\n",
    ".cm-s-ipython span.cm-string {color: #3e9448;}\n",
    ".cm-s-ipython span.cm-string {color: #7f9f7f;}\n",
    ".cm-s-ipython span.cm-string {color: #b0559e;}\n",
    ".cm-s-ipython span.cm-variable {color: #666666;}\n",
    ".cm-s-ipython span.cm-variable-2 {color: #6f42c1;}\n",
    ".cm-keyword { color: #f0dfaf; font-weight: bold; }\n",
    ".cm-s-ipython span.cm-operator {color: #a3685a;}\n",
    ".cm-s-ipython span.cm-builtin {color: #7e4a15; font-weight: bold; }\n",
    "</style>\n",
    "\"\"\")"
   ]
  },
  {
   "cell_type": "markdown",
   "metadata": {
    "heading_collapsed": true
   },
   "source": [
    "# core"
   ]
  },
  {
   "cell_type": "markdown",
   "metadata": {
    "hidden": true
   },
   "source": [
    "Hello "
   ]
  },
  {
   "cell_type": "markdown",
   "metadata": {
    "heading_collapsed": true,
    "hidden": true
   },
   "source": [
    "## hello"
   ]
  },
  {
   "cell_type": "markdown",
   "metadata": {
    "ExecuteTime": {
     "end_time": "2017-06-25T14:23:50.753051Z",
     "start_time": "2017-06-25T14:23:50.749484Z"
    },
    "heading_collapsed": true,
    "hidden": true
   },
   "source": [
    "### voila"
   ]
  },
  {
   "cell_type": "code",
   "execution_count": 14,
   "metadata": {
    "ExecuteTime": {
     "end_time": "2017-06-25T19:24:22.288920Z",
     "start_time": "2017-06-25T19:24:21.901189Z"
    },
    "hidden": true
   },
   "outputs": [],
   "source": [
    "import pymc3 as pm\n",
    "\n",
    "with pm.Model() as model:\n",
    "    parameter = pm.Exponential(\"poisson_param\", 1)\n",
    "    data_generator = pm.Poisson(\"data_generator\", parameter)"
   ]
  },
  {
   "cell_type": "markdown",
   "metadata": {
    "hidden": true
   },
   "source": [
    "yMC3 is concerned with two types of programming variables: stochastic and deterministic.\n",
    "stochastic variables are variables that are not deterministic, i.e., even if you knew all the values of the variables' parameters and components, it would still be random. Included in this category are instances of classes Poisson, DiscreteUniform, and Exponential.\n",
    "deterministic variables are variables that are not random if the variables' parameters and components were known. This might be confusing at first: a quick mental check is if I knew all of variable foo's component variables, I could determine what foo's value is.\n"
   ]
  },
  {
   "cell_type": "code",
   "execution_count": 15,
   "metadata": {
    "ExecuteTime": {
     "end_time": "2017-06-25T19:24:22.523479Z",
     "start_time": "2017-06-25T19:24:22.291109Z"
    },
    "hidden": true
   },
   "outputs": [],
   "source": [
    "with pm.Model() as model_tmp:\n",
    "    betas_tmp = pm.Beta(\"betas_tmp\", 0, 1, shape=20)"
   ]
  },
  {
   "cell_type": "code",
   "execution_count": 16,
   "metadata": {
    "ExecuteTime": {
     "end_time": "2017-06-25T19:24:22.530875Z",
     "start_time": "2017-06-25T19:24:22.525291Z"
    },
    "hidden": true
   },
   "outputs": [
    {
     "data": {
      "text/plain": [
       "array([ 0.,  0.,  0.,  0.,  0.,  0.,  0.,  0.,  0.,  0.,  0.,  0.,  0.,\n",
       "        0.,  0.,  0.,  0.,  0.,  0.,  0.])"
      ]
     },
     "execution_count": 16,
     "metadata": {},
     "output_type": "execute_result"
    }
   ],
   "source": [
    "betas_tmp.tag.test_value"
   ]
  },
  {
   "cell_type": "code",
   "execution_count": 44,
   "metadata": {
    "ExecuteTime": {
     "end_time": "2017-06-25T20:00:04.845225Z",
     "start_time": "2017-06-25T20:00:04.675869Z"
    },
    "hidden": true
   },
   "outputs": [],
   "source": [
    "idx = np.arange(5)\n",
    "with pm.Model() as model_tmp:\n",
    "    lambda_1 = pm.Exponential(\"lambda_1\", 1)\n",
    "    lambda_2 = pm.Exponential(\"lambda_2\", 5)\n",
    "    tau = pm.DiscreteUniform(\"tau\", lower=0, upper=10)\n",
    "    lambda_ = pm.math.switch(tau>=idx, lambda_1, lambda_2)\n",
    "    \n"
   ]
  },
  {
   "cell_type": "markdown",
   "metadata": {
    "hidden": true
   },
   "source": [
    "```python\n",
    "    def subtract(x, y):\n",
    "        return x - y\n",
    "    \n",
    "    stochastic_1 = pm.Uniform(\"U_1\", 0, 1)\n",
    "    stochastic_2 = pm.Uniform(\"U_2\", 0, 1)\n",
    "    \n",
    "    det_1 = pm.Deterministic(\"Delta\", subtract(stochastic_1, stochastic_2))\n",
    "```"
   ]
  },
  {
   "cell_type": "code",
   "execution_count": 76,
   "metadata": {
    "ExecuteTime": {
     "end_time": "2017-06-25T20:25:17.119555Z",
     "start_time": "2017-06-25T20:25:14.365599Z"
    },
    "hidden": true
   },
   "outputs": [
    {
     "data": {
      "image/png": "[encoded data removed]",
      "text/plain": [
       "<matplotlib.figure.Figure at 0x1166680b8>"
      ]
     },
     "metadata": {},
     "output_type": "display_data"
    }
   ],
   "source": [
    "plt.rcParams['figure.figsize'] = [10,5]\n",
    "samples = [lambda_1.random()[0] for i in range(20000)]\n",
    "plt.hist(samples, bins=70, normed=True, histtype=\"stepfilled\", alpha=0.4, label='$\\lambda_1$')\n",
    "samples = [lambda_2.random()[0] for i in range(20000)]\n",
    "plt.hist(samples, bins=70, normed=True, histtype=\"stepfilled\", alpha=0.4, label='$\\lambda_2$')\n",
    "plt.title(\"Prior distribution for $\\lambda_1$\")\n",
    "plt.legend(loc=(1,0.5))\n",
    "plt.xlim(0, 8)\n",
    "plt.show()"
   ]
  },
  {
   "cell_type": "code",
   "execution_count": 80,
   "metadata": {
    "ExecuteTime": {
     "end_time": "2017-06-25T20:26:50.695595Z",
     "start_time": "2017-06-25T20:26:48.939556Z"
    },
    "hidden": true
   },
   "outputs": [
    {
     "data": {
      "image/png": "[encoded data removed]",
      "text/plain": [
       "<matplotlib.figure.Figure at 0x115fb8d68>"
      ]
     },
     "metadata": {},
     "output_type": "display_data"
    }
   ],
   "source": [
    "def plot_artificial_sms_dataset():\n",
    "    tau = sp_stats.randint.rvs(0, 80) # switch point\n",
    "    alpha = 1./20. # pmtr of exponential\n",
    "    lambda_1, lambda_2 = sp_stats.expon.rvs(scale=1/alpha, size=2) # rvs from expo, for freq before and after\n",
    "    data = np.r_[sp_stats.poisson.rvs(mu=lambda_1, size=tau), sp_stats.poisson.rvs(mu=lambda_2, size=80 - tau)]\n",
    "    plt.bar(np.arange(80), data, alpha=0.6)\n",
    "    plt.bar(tau - 1, data[tau-1], color='r',label=\"user behaviour changed\")\n",
    "    plt.xlim(0, 80);\n",
    "\n",
    "i_figsize(12.5, 5)\n",
    "plt.title(\"More example of artificial datasets\")\n",
    "for i in range(4):\n",
    "    plt.subplot(4, 1, i+1)\n",
    "    plot_artificial_sms_dataset()\n",
    "    \n",
    "plt.subplot(4,1,1); plt.title(\"Different realizations of $\\lambda$\")\n",
    "plt.tight_layout()"
   ]
  },
  {
   "cell_type": "markdown",
   "metadata": {
    "heading_collapsed": true,
    "hidden": true
   },
   "source": [
    "## simulate site A purchases"
   ]
  },
  {
   "cell_type": "code",
   "execution_count": 106,
   "metadata": {
    "ExecuteTime": {
     "end_time": "2017-06-25T20:45:57.829918Z",
     "start_time": "2017-06-25T20:45:57.823171Z"
    },
    "hidden": true
   },
   "outputs": [],
   "source": [
    "#sns.set_palette(sns.color_palette(\"Set2\", 10))\n",
    "sns.set_palette(sns.color_palette(\"Set2\", 10))"
   ]
  },
  {
   "cell_type": "code",
   "execution_count": 99,
   "metadata": {
    "ExecuteTime": {
     "end_time": "2017-06-25T20:43:53.740770Z",
     "start_time": "2017-06-25T20:43:53.737695Z"
    },
    "hidden": true
   },
   "outputs": [],
   "source": [
    "# sns.choose_colorbrewer_palette('qualitative')"
   ]
  },
  {
   "cell_type": "code",
   "execution_count": 111,
   "metadata": {
    "ExecuteTime": {
     "end_time": "2017-06-25T20:48:17.909549Z",
     "start_time": "2017-06-25T20:48:13.519405Z"
    },
    "hidden": true
   },
   "outputs": [
    {
     "name": "stderr",
     "output_type": "stream",
     "text": [
      "/Users/dragon/Library/Python/3.6/lib/python/site-packages/theano/tensor/basic.py:2146: UserWarning: theano.tensor.round() changed its default from `half_away_from_zero` to `half_to_even` to have the same default as NumPy. Use the Theano flag `warn.round=False` to disable this warning.\n",
      "  \"theano.tensor.round() changed its default from\"\n",
      "100%|██████████| 18000/18000 [00:03<00:00, 5212.46it/s]\n"
     ]
    },
    {
     "data": {
      "image/png": "[encoded data removed]",
      "text/plain": [
       "<matplotlib.figure.Figure at 0x117242978>"
      ]
     },
     "metadata": {},
     "output_type": "display_data"
    }
   ],
   "source": [
    "p_true,N = 0.05,1500\n",
    "occurrences = sp_stats.bernoulli.rvs(p_true, size=N)\n",
    "with pm.Model() as site_a_model:\n",
    "    p_a = pm.Uniform('p_a', lower=0, upper=1)\n",
    "    obs = pm.Bernoulli('obs', p_a, observed=occurrences)\n",
    "    step = pm.Metropolis()\n",
    "    trace = pm.sample(18000,step=step)\n",
    "    burned_trace = trace[1000:]\n",
    "\n",
    "i_figsize(12.5, 4)\n",
    "plt.title(\"Posterior distribution of $p_A$, the true effectiveness of site A\")\n",
    "plt.vlines(p_true, 0, 90, linestyle=\"--\", label=\"true $p_A$ (unknown)\")\n",
    "plt.hist(burned_trace[\"p_a\"], bins=25, histtype=\"stepfilled\", normed=True, color='#7A68A6', alpha=0.6)\n",
    "plt.legend()\n",
    "plt.show()"
   ]
  },
  {
   "cell_type": "markdown",
   "metadata": {
    "heading_collapsed": true,
    "hidden": true
   },
   "source": [
    "## simulate site A,B purchases"
   ]
  },
  {
   "cell_type": "code",
   "execution_count": null,
   "metadata": {
    "hidden": true
   },
   "outputs": [],
   "source": [
    "true_p_A = 0.05\n",
    "true_p_B = 0.04\n",
    "\n",
    "#notice the unequal sample sizes -- no problem in Bayesian analysis.\n",
    "N_A = 1500\n",
    "N_B = 750\n",
    "\n",
    "#generate some observations\n",
    "observations_A = sp_stats.bernoulli.rvs(true_p_A, size=N_A)\n",
    "observations_B = sp_stats.bernoulli.rvs(true_p_B, size=N_B)"
   ]
  },
  {
   "cell_type": "markdown",
   "metadata": {
    "hidden": true
   },
   "source": [
    "note that in real world, observations_{A,B} wont be simulated. (Duh!)"
   ]
  },
  {
   "cell_type": "code",
   "execution_count": null,
   "metadata": {
    "hidden": true,
    "run_control": {
     "marked": false
    }
   },
   "outputs": [],
   "source": [
    "# Set up the pymc3 model. Again assume Uniform priors for p_A and p_B.\n",
    "with pm.Model() as model_a_b:\n",
    "    p_A = pm.Uniform(\"p_A\", 0, 1)\n",
    "    p_B = pm.Uniform(\"p_B\", 0, 1)\n",
    "    \n",
    "    # Define the deterministic delta function. This is our unknown of interest.\n",
    "    delta = pm.Deterministic(\"delta\", p_A - p_B)\n",
    "\n",
    "    \n",
    "    # Set of observations, in this case we have two observation datasets.\n",
    "    obs_A = pm.Bernoulli(\"obs_A\", p_A, observed=observations_A)\n",
    "    obs_B = pm.Bernoulli(\"obs_B\", p_B, observed=observations_B)\n",
    "\n",
    "    # To be explained in chapter 3.\n",
    "    step = pm.Metropolis()\n",
    "    trace = pm.sample(20000, step=step)\n",
    "    burned_trace=trace[1000:]\n",
    "    \n",
    "p_A_samples = burned_trace[\"p_A\"]\n",
    "p_B_samples = burned_trace[\"p_B\"]\n",
    "delta_samples = burned_trace[\"delta\"]"
   ]
  },
  {
   "cell_type": "code",
   "execution_count": 121,
   "metadata": {
    "ExecuteTime": {
     "end_time": "2017-06-25T20:54:00.136445Z",
     "start_time": "2017-06-25T20:53:59.101493Z"
    },
    "hidden": true
   },
   "outputs": [
    {
     "data": {
      "image/png": "[encoded data removed]",
      "text/plain": [
       "<matplotlib.figure.Figure at 0x11740e390>"
      ]
     },
     "metadata": {},
     "output_type": "display_data"
    }
   ],
   "source": [
    "i_figsize(12,8)\n",
    "ax = plt.subplot(311)\n",
    "plt.xlim(0, .1)\n",
    "plt.hist(p_A_samples, histtype='stepfilled', bins=25, alpha=0.85,\n",
    "         label=\"posterior of $p_A$\", color=\"#A60628\", normed=True)\n",
    "plt.vlines(true_p_A, 0, 80, linestyle=\"--\", label=\"true $p_A$ (unknown)\")\n",
    "plt.legend(loc=(1,0.5))\n",
    "plt.title(\"Posterior distributions of $p_A$, $p_B$, and delta unknowns\")\n",
    "\n",
    "ax = plt.subplot(312)\n",
    "\n",
    "plt.xlim(0, .1)\n",
    "plt.hist(p_B_samples, histtype='stepfilled', bins=25, alpha=0.85,\n",
    "         label=\"posterior of $p_B$\", color=\"#467821\", normed=True)\n",
    "plt.vlines(true_p_B, 0, 80, linestyle=\"--\", label=\"true $p_B$ (unknown)\")\n",
    "plt.legend(loc=(1,0.5))\n",
    "\n",
    "ax = plt.subplot(313)\n",
    "plt.hist(delta_samples, histtype='stepfilled', bins=30, alpha=0.85,\n",
    "         label=\"posterior of delta\", color=\"#7A68A6\", normed=True)\n",
    "plt.vlines(true_p_A - true_p_B, 0, 60, linestyle=\"--\",\n",
    "           label=\"true delta (unknown)\")\n",
    "plt.vlines(0, 0, 60, color=\"black\", alpha=0.2)\n",
    "plt.legend(loc=(1,0.5))\n",
    "\n",
    "plt.tight_layout()\n",
    "plt.show()"
   ]
  },
  {
   "cell_type": "markdown",
   "metadata": {
    "heading_collapsed": true,
    "hidden": true
   },
   "source": [
    "## binomial"
   ]
  },
  {
   "cell_type": "code",
   "execution_count": 138,
   "metadata": {
    "ExecuteTime": {
     "end_time": "2017-06-25T21:02:48.112308Z",
     "start_time": "2017-06-25T21:02:48.103936Z"
    },
    "hidden": true
   },
   "outputs": [],
   "source": [
    "sp_stats.binom.pmf?"
   ]
  },
  {
   "cell_type": "code",
   "execution_count": 137,
   "metadata": {
    "ExecuteTime": {
     "end_time": "2017-06-25T21:02:03.871819Z",
     "start_time": "2017-06-25T21:02:02.545583Z"
    },
    "hidden": true
   },
   "outputs": [
    {
     "data": {
      "image/png": "[encoded data removed]",
      "text/plain": [
       "<matplotlib.figure.Figure at 0x116497588>"
      ]
     },
     "metadata": {},
     "output_type": "display_data"
    }
   ],
   "source": [
    "i_figsize(12.5, 4)\n",
    "sns.set_palette(sns.color_palette(\"Set1\", 10))\n",
    "parameters = [(10, .2), (10,.5) , (10, .8)]\n",
    "for i in range(len(parameters)):\n",
    "    N, p = parameters[i]\n",
    "    N = 100\n",
    "    _x = np.arange(N + 1)\n",
    "    plt.bar(_x - 0.5, sp_stats.binom.pmf(_x, N, p),\n",
    "            alpha=0.6,\n",
    "            label=\"$N$: %d, $p$: %.1f\" % (N, p))\n",
    "\n",
    "plt.legend(loc=\"upper left\")\n",
    "plt.xlabel(\"$k$\")\n",
    "plt.ylabel(\"$P(X = k)$\")\n",
    "plt.title(\"Probability mass distributions of binomial random variables\");"
   ]
  },
  {
   "cell_type": "markdown",
   "metadata": {
    "heading_collapsed": true,
    "hidden": true
   },
   "source": [
    "## Privacy Algorithm"
   ]
  },
  {
   "cell_type": "code",
   "execution_count": 17,
   "metadata": {
    "ExecuteTime": {
     "end_time": "2017-06-25T21:22:46.861739Z",
     "start_time": "2017-06-25T21:18:33.228830Z"
    },
    "hidden": true
   },
   "outputs": [
    {
     "name": "stderr",
     "output_type": "stream",
     "text": [
      "/Users/dragon/Library/Python/3.6/lib/python/site-packages/theano/tensor/basic.py:2146: UserWarning: theano.tensor.round() changed its default from `half_away_from_zero` to `half_to_even` to have the same default as NumPy. Use the Theano flag `warn.round=False` to disable this warning.\n",
      "  \"theano.tensor.round() changed its default from\"\n",
      "/Users/dragon/Library/Python/3.6/lib/python/site-packages/theano/tensor/basic.py:2146: UserWarning: theano.tensor.round() changed its default from `half_away_from_zero` to `half_to_even` to have the same default as NumPy. Use the Theano flag `warn.round=False` to disable this warning.\n",
      "  \"theano.tensor.round() changed its default from\"\n",
      "/Users/dragon/Library/Python/3.6/lib/python/site-packages/theano/tensor/basic.py:2146: UserWarning: theano.tensor.round() changed its default from `half_away_from_zero` to `half_to_even` to have the same default as NumPy. Use the Theano flag `warn.round=False` to disable this warning.\n",
      "  \"theano.tensor.round() changed its default from\"\n",
      "/Users/dragon/Library/Python/3.6/lib/python/site-packages/theano/tensor/basic.py:2146: UserWarning: theano.tensor.round() changed its default from `half_away_from_zero` to `half_to_even` to have the same default as NumPy. Use the Theano flag `warn.round=False` to disable this warning.\n",
      "  \"theano.tensor.round() changed its default from\"\n",
      "INFO:pymc3:Assigned BinaryGibbsMetropolis to truths\n",
      "INFO:pymc3:Assigned BinaryGibbsMetropolis to first_flips\n",
      "INFO:pymc3:Assigned BinaryGibbsMetropolis to second_flips\n",
      "100%|██████████| 3000/3000 [04:10<00:00, 11.96it/s]\n"
     ]
    }
   ],
   "source": [
    "\n",
    "N = 100\n",
    "with pm.Model() as model_privacy:\n",
    "    p = pm.Uniform(\"freq_cheating\", 0, 1) # we know not, hence uniform\n",
    "    # ground-truth\n",
    "    true_answers      = pm.Bernoulli(\"truths\",         p, shape=N, testval=np.random.binomial(1, 0.5, N))\n",
    "    \n",
    "    first_coin_flips  = pm.Bernoulli(\"first_flips\",  0.5, shape=N, testval=np.random.binomial(1, 0.5, N))\n",
    "    second_coin_flips = pm.Bernoulli(\"second_flips\", 0.5, shape=N, testval=np.random.binomial(1, 0.5, N))\n",
    "    \n",
    "    val = first_coin_flips*true_answers + (1 - first_coin_flips)*second_coin_flips\n",
    "    observed_proportion = pm.Deterministic(\"observed_proportion\", theano.tensor.sum(val)/float(N))\n",
    "    \n",
    "    # lets say we observed 35 answers as yes\n",
    "    observations = pm.Binomial(\"obs\", N, observed_proportion, observed=35)\n",
    "    \n",
    "    step = pm.Metropolis(vars=[p])\n",
    "    trace = pm.sample(3000, step=step, njobs=multiprocessing.cpu_count()-1)\n",
    "    burned_trace = trace[1500:]"
   ]
  },
  {
   "cell_type": "code",
   "execution_count": 23,
   "metadata": {
    "ExecuteTime": {
     "end_time": "2017-06-25T21:29:14.407508Z",
     "start_time": "2017-06-25T21:29:14.400744Z"
    },
    "hidden": true
   },
   "outputs": [
    {
     "data": {
      "text/html": [
       "\n",
       "<style>\n",
       ".cm-s-ipython span.cm-comment {color: #777777;}\n",
       ".cm-s-ipython span.cm-string {color: #3e9448;}\n",
       ".cm-s-ipython span.cm-string {color: #7f9f7f;}\n",
       ".cm-s-ipython span.cm-string {color: #b0559e;}\n",
       ".cm-s-ipython span.cm-variable {color: #666666;}\n",
       ".cm-s-ipython span.cm-variable-2 {color: #6f42c1;}\n",
       ".cm-keyword { color: #f0dfaf; font-weight: bold; }\n",
       ".cm-s-ipython span.cm-operator {color: #a3685a;}\n",
       ".cm-s-ipython span.cm-builtin {color: #7e4a15; font-weight: bold; }\n",
       "</style>\n"
      ],
      "text/plain": [
       "<IPython.core.display.HTML object>"
      ]
     },
     "execution_count": 23,
     "metadata": {},
     "output_type": "execute_result"
    }
   ],
   "source": [
    "iHTML(\"\"\"\n",
    "<style>\n",
    ".cm-s-ipython span.cm-comment {color: #777777;}\n",
    ".cm-s-ipython span.cm-string {color: #3e9448;}\n",
    ".cm-s-ipython span.cm-string {color: #7f9f7f;}\n",
    ".cm-s-ipython span.cm-string {color: #b0559e;}\n",
    ".cm-s-ipython span.cm-variable {color: #666666;}\n",
    ".cm-s-ipython span.cm-variable-2 {color: #6f42c1;}\n",
    ".cm-keyword { color: #f0dfaf; font-weight: bold; }\n",
    ".cm-s-ipython span.cm-operator {color: #a3685a;}\n",
    ".cm-s-ipython span.cm-builtin {color: #7e4a15; font-weight: bold; }\n",
    "</style>\n",
    "\"\"\")"
   ]
  },
  {
   "cell_type": "code",
   "execution_count": 18,
   "metadata": {
    "ExecuteTime": {
     "end_time": "2017-06-25T21:22:53.373300Z",
     "start_time": "2017-06-25T21:22:53.055855Z"
    },
    "hidden": true
   },
   "outputs": [
    {
     "data": {
      "image/png": "[encoded data removed]",
      "text/plain": [
       "<matplotlib.figure.Figure at 0x10d089940>"
      ]
     },
     "metadata": {},
     "output_type": "display_data"
    }
   ],
   "source": [
    "i_figsize(12.5, 3)\n",
    "p_trace = burned_trace[\"freq_cheating\"][1500:]\n",
    "plt.hist(p_trace, histtype=\"stepfilled\", normed=True, alpha=0.85, bins=30, \n",
    "         label=\"posterior distribution\")\n",
    "plt.vlines([.05, .35], [0, 0], [5, 5], alpha=0.3)\n",
    "plt.xlim(0, 1)\n",
    "plt.legend()\n",
    "plt.show()"
   ]
  },
  {
   "cell_type": "markdown",
   "metadata": {
    "hidden": true
   },
   "source": [
    "## challenger"
   ]
  },
  {
   "cell_type": "code",
   "execution_count": 40,
   "metadata": {
    "ExecuteTime": {
     "end_time": "2017-06-26T06:23:12.666067Z",
     "start_time": "2017-06-26T06:23:12.660433Z"
    },
    "hidden": true
   },
   "outputs": [
    {
     "data": {
      "text/plain": [
       "'/Users/dragon/repos/CamDavidsonPilon/Probabilistic-Programming-and-Bayesian-Methods-for-Hackers'"
      ]
     },
     "execution_count": 40,
     "metadata": {},
     "output_type": "execute_result"
    }
   ],
   "source": [
    "DIR_PPBM"
   ]
  },
  {
   "cell_type": "code",
   "execution_count": 59,
   "metadata": {
    "ExecuteTime": {
     "end_time": "2017-06-26T06:30:02.138300Z",
     "start_time": "2017-06-26T06:30:02.123631Z"
    },
    "collapsed": true,
    "hidden": true
   },
   "outputs": [],
   "source": [
    "pd.read_csv?"
   ]
  },
  {
   "cell_type": "code",
   "execution_count": 65,
   "metadata": {
    "ExecuteTime": {
     "end_time": "2017-06-26T06:34:23.611535Z",
     "start_time": "2017-06-26T06:34:23.606609Z"
    },
    "hidden": true
   },
   "outputs": [
    {
     "name": "stdout",
     "output_type": "stream",
     "text": [
      "['Date,Temperature,Damage Incident\\n', '04/12/1981,66,0\\n', '11/12/1981,70,1\\n', '3/22/82,69,0\\n', '6/27/82,80,NA\\n', '01/11/1982,68,0\\n', '04/04/1983,67,0\\n', '6/18/83,72,0\\n', '8/30/83,73,0\\n', '11/28/83,70,0\\n', '02/03/1984,57,1\\n', '04/06/1984,63,1\\n', '8/30/84,70,1\\n', '10/05/1984,78,0\\n', '11/08/1984,67,0\\n', '1/24/85,53,1\\n', '04/12/1985,67,0\\n', '4/29/85,75,0\\n', '6/17/85,70,0\\n', '7/29/85,81,0\\n', '8/27/85,76,0\\n', '10/03/1985,79,0\\n', '10/30/85,75,1\\n', '11/26/85,76,0\\n', '01/12/1986,58,1\\n', '1/28/86,31,Challenger Accident\\n']\n"
     ]
    }
   ],
   "source": [
    "with open(fi_chall) as f:\n",
    "    print(f.readlines())"
   ]
  },
  {
   "cell_type": "code",
   "execution_count": null,
   "metadata": {
    "collapsed": true,
    "hidden": true
   },
   "outputs": [],
   "source": [
    "def date_parser_1(x):\n",
    "    try:\n",
    "        return datetime.strptime(x,'%m/%d/%Y')\n",
    "    except ValueError:\n",
    "        return datetime.strptime(x,'%m/%d/%y')\n",
    "    \n",
    "fi_chall = (DIR_PPBM+'/Chapter2_MorePyMC/data/challenger_data.csv')\n",
    "df_chall = pd.read_csv(fi_chall, \n",
    "                       dtype={'Date': str, 'Temperature': np.float32, 'Damage Incident': str},\n",
    "                       parse_dates=['Date'], na_values='NA',\n",
    "                       date_parser=date_parser_1\n",
    "                      )"
   ]
  },
  {
   "cell_type": "code",
   "execution_count": 108,
   "metadata": {
    "ExecuteTime": {
     "end_time": "2017-06-26T06:53:34.348225Z",
     "start_time": "2017-06-26T06:53:34.342419Z"
    },
    "hidden": true
   },
   "outputs": [
    {
     "data": {
      "text/plain": [
       "array([False, False, False, False, False, False, False, False, False,\n",
       "       False, False, False, False, False, False, False, False, False,\n",
       "       False, False, False, False, False, False], dtype=bool)"
      ]
     },
     "execution_count": 108,
     "metadata": {},
     "output_type": "execute_result"
    }
   ],
   "source": [
    "ixs_acc"
   ]
  },
  {
   "cell_type": "code",
   "execution_count": 114,
   "metadata": {
    "ExecuteTime": {
     "end_time": "2017-06-26T06:55:52.390457Z",
     "start_time": "2017-06-26T06:55:51.980062Z"
    },
    "hidden": true
   },
   "outputs": [
    {
     "data": {
      "image/png": "[encoded data removed]",
      "text/plain": [
       "<matplotlib.figure.Figure at 0x10e2136a0>"
      ]
     },
     "metadata": {},
     "output_type": "display_data"
    }
   ],
   "source": [
    "with sns.color_palette('Set1',10):\n",
    "    i_figsize(12,6)\n",
    "    vals = df_chall.loc[:23, ['Temperature','Damage Incident']].values\n",
    "    ixs_acc = (vals[:,1]=='1')\n",
    "    plt.plot(vals[ixs_acc,0], vals[ ixs_acc,1], 'o', markersize=15, label='incident')\n",
    "    plt.plot(vals[~ixs_acc,0],vals[~ixs_acc,1], '.', markersize=15, label='no incident')\n",
    "    plt.legend(loc=(1,0.5))\n",
    "    plt.xlabel('temperature'); plt.ylabel('incident')\n",
    "    plt.show()"
   ]
  },
  {
   "cell_type": "code",
   "execution_count": 204,
   "metadata": {
    "ExecuteTime": {
     "end_time": "2017-06-26T08:18:07.561130Z",
     "start_time": "2017-06-26T08:18:06.858477Z"
    },
    "hidden": true
   },
   "outputs": [
    {
     "data": {
      "image/png": "[encoded data removed]",
      "text/plain": [
       "<matplotlib.figure.Figure at 0x10d044438>"
      ]
     },
     "metadata": {},
     "output_type": "display_data"
    }
   ],
   "source": [
    "def logistic(x,beta,alpha=0): return 1./(1. + np.exp(beta*x + alpha))\n",
    "with sns.color_palette('Set1',4):\n",
    "    i_figsize(12,4)\n",
    "    x = np.linspace(-10,10,100)\n",
    "    plt.plot(x, logistic(x, 5),   label=r'$\\beta= 5$')\n",
    "    plt.plot(x, logistic(x, 1),   label=r'$\\beta= 1$')\n",
    "    plt.plot(x, logistic(x, 0.2), label=r'$\\beta=.2$')\n",
    "    plt.plot(x, logistic(x,-1),   label=r'$\\beta=-1$')\n",
    "    \n",
    "    plt.plot(x, logistic(x, 5,  5),  '--', label=r'$\\beta=5,  \\alpha=5$', alpha=0.5)\n",
    "    plt.plot(x, logistic(x, 1,  5),  '--', label=r'$\\beta=1,  \\alpha=5$', alpha=0.5)\n",
    "    plt.plot(x, logistic(x, .2, 5),  '--', label=r'$\\beta=.2, \\alpha=5$', alpha=0.5)\n",
    "    plt.plot(x, logistic(x, -1, 5),  '--', label=r'$\\beta=-1, \\alpha=5$', alpha=0.5)\n",
    "\n",
    "    plt.legend(loc=(1,0))\n",
    "    plt.title(r'logistic function: $1 / {(1 + \\exp(\\beta x))}$')\n",
    "    plt.show()\n",
    "    "
   ]
  },
  {
   "cell_type": "code",
   "execution_count": 184,
   "metadata": {
    "ExecuteTime": {
     "end_time": "2017-06-26T07:55:22.353081Z",
     "start_time": "2017-06-26T07:55:22.300913Z"
    },
    "hidden": true
   },
   "outputs": [
    {
     "data": {
      "text/html": [
       "<div>\n",
       "<style>\n",
       "    .dataframe thead tr:only-child th {\n",
       "        text-align: right;\n",
       "    }\n",
       "\n",
       "    .dataframe thead th {\n",
       "        text-align: left;\n",
       "    }\n",
       "\n",
       "    .dataframe tbody tr th {\n",
       "        vertical-align: top;\n",
       "    }\n",
       "</style>\n",
       "<table border=\"1\" class=\"dataframe\">\n",
       "  <thead>\n",
       "    <tr style=\"text-align: right;\">\n",
       "      <th></th>\n",
       "      <th>0</th>\n",
       "      <th>1</th>\n",
       "      <th>2</th>\n",
       "      <th>4</th>\n",
       "      <th>5</th>\n",
       "      <th>6</th>\n",
       "      <th>7</th>\n",
       "      <th>8</th>\n",
       "      <th>9</th>\n",
       "      <th>10</th>\n",
       "      <th>...</th>\n",
       "      <th>14</th>\n",
       "      <th>15</th>\n",
       "      <th>16</th>\n",
       "      <th>17</th>\n",
       "      <th>18</th>\n",
       "      <th>19</th>\n",
       "      <th>20</th>\n",
       "      <th>21</th>\n",
       "      <th>22</th>\n",
       "      <th>23</th>\n",
       "    </tr>\n",
       "  </thead>\n",
       "  <tbody>\n",
       "    <tr>\n",
       "      <th>Date</th>\n",
       "      <td>1981-04-12 00:00:00</td>\n",
       "      <td>1981-11-12 00:00:00</td>\n",
       "      <td>1982-03-22 00:00:00</td>\n",
       "      <td>1982-01-11 00:00:00</td>\n",
       "      <td>1983-04-04 00:00:00</td>\n",
       "      <td>1983-06-18 00:00:00</td>\n",
       "      <td>1983-08-30 00:00:00</td>\n",
       "      <td>1983-11-28 00:00:00</td>\n",
       "      <td>1984-02-03 00:00:00</td>\n",
       "      <td>1984-04-06 00:00:00</td>\n",
       "      <td>...</td>\n",
       "      <td>1985-01-24 00:00:00</td>\n",
       "      <td>1985-04-12 00:00:00</td>\n",
       "      <td>1985-04-29 00:00:00</td>\n",
       "      <td>1985-06-17 00:00:00</td>\n",
       "      <td>1985-07-29 00:00:00</td>\n",
       "      <td>1985-08-27 00:00:00</td>\n",
       "      <td>1985-10-03 00:00:00</td>\n",
       "      <td>1985-10-30 00:00:00</td>\n",
       "      <td>1985-11-26 00:00:00</td>\n",
       "      <td>1986-01-12 00:00:00</td>\n",
       "    </tr>\n",
       "    <tr>\n",
       "      <th>Temperature</th>\n",
       "      <td>66.00</td>\n",
       "      <td>70.00</td>\n",
       "      <td>69.00</td>\n",
       "      <td>68.00</td>\n",
       "      <td>67.00</td>\n",
       "      <td>72.00</td>\n",
       "      <td>73.00</td>\n",
       "      <td>70.00</td>\n",
       "      <td>57.00</td>\n",
       "      <td>63.00</td>\n",
       "      <td>...</td>\n",
       "      <td>53.00</td>\n",
       "      <td>67.00</td>\n",
       "      <td>75.00</td>\n",
       "      <td>70.00</td>\n",
       "      <td>81.00</td>\n",
       "      <td>76.00</td>\n",
       "      <td>79.00</td>\n",
       "      <td>75.00</td>\n",
       "      <td>76.00</td>\n",
       "      <td>58.00</td>\n",
       "    </tr>\n",
       "    <tr>\n",
       "      <th>Damage Incident</th>\n",
       "      <td>0</td>\n",
       "      <td>1</td>\n",
       "      <td>0</td>\n",
       "      <td>0</td>\n",
       "      <td>0</td>\n",
       "      <td>0</td>\n",
       "      <td>0</td>\n",
       "      <td>0</td>\n",
       "      <td>1</td>\n",
       "      <td>1</td>\n",
       "      <td>...</td>\n",
       "      <td>1</td>\n",
       "      <td>0</td>\n",
       "      <td>0</td>\n",
       "      <td>0</td>\n",
       "      <td>0</td>\n",
       "      <td>0</td>\n",
       "      <td>0</td>\n",
       "      <td>1</td>\n",
       "      <td>0</td>\n",
       "      <td>1</td>\n",
       "    </tr>\n",
       "    <tr>\n",
       "      <th>damage</th>\n",
       "      <td>0</td>\n",
       "      <td>1</td>\n",
       "      <td>0</td>\n",
       "      <td>0</td>\n",
       "      <td>0</td>\n",
       "      <td>0</td>\n",
       "      <td>0</td>\n",
       "      <td>0</td>\n",
       "      <td>1</td>\n",
       "      <td>1</td>\n",
       "      <td>...</td>\n",
       "      <td>1</td>\n",
       "      <td>0</td>\n",
       "      <td>0</td>\n",
       "      <td>0</td>\n",
       "      <td>0</td>\n",
       "      <td>0</td>\n",
       "      <td>0</td>\n",
       "      <td>1</td>\n",
       "      <td>0</td>\n",
       "      <td>1</td>\n",
       "    </tr>\n",
       "    <tr>\n",
       "      <th>defect</th>\n",
       "      <td>0</td>\n",
       "      <td>1</td>\n",
       "      <td>0</td>\n",
       "      <td>0</td>\n",
       "      <td>0</td>\n",
       "      <td>0</td>\n",
       "      <td>0</td>\n",
       "      <td>0</td>\n",
       "      <td>1</td>\n",
       "      <td>1</td>\n",
       "      <td>...</td>\n",
       "      <td>1</td>\n",
       "      <td>0</td>\n",
       "      <td>0</td>\n",
       "      <td>0</td>\n",
       "      <td>0</td>\n",
       "      <td>0</td>\n",
       "      <td>0</td>\n",
       "      <td>1</td>\n",
       "      <td>0</td>\n",
       "      <td>1</td>\n",
       "    </tr>\n",
       "  </tbody>\n",
       "</table>\n",
       "<p>5 rows × 23 columns</p>\n",
       "</div>"
      ],
      "text/plain": [
       "                                  0                    1   \\\n",
       "Date             1981-04-12 00:00:00  1981-11-12 00:00:00   \n",
       "Temperature                    66.00                70.00   \n",
       "Damage Incident                    0                    1   \n",
       "damage                             0                    1   \n",
       "defect                             0                    1   \n",
       "\n",
       "                                  2                    4   \\\n",
       "Date             1982-03-22 00:00:00  1982-01-11 00:00:00   \n",
       "Temperature                    69.00                68.00   \n",
       "Damage Incident                    0                    0   \n",
       "damage                             0                    0   \n",
       "defect                             0                    0   \n",
       "\n",
       "                                  5                    6   \\\n",
       "Date             1983-04-04 00:00:00  1983-06-18 00:00:00   \n",
       "Temperature                    67.00                72.00   \n",
       "Damage Incident                    0                    0   \n",
       "damage                             0                    0   \n",
       "defect                             0                    0   \n",
       "\n",
       "                                  7                    8   \\\n",
       "Date             1983-08-30 00:00:00  1983-11-28 00:00:00   \n",
       "Temperature                    73.00                70.00   \n",
       "Damage Incident                    0                    0   \n",
       "damage                             0                    0   \n",
       "defect                             0                    0   \n",
       "\n",
       "                                  9                    10  \\\n",
       "Date             1984-02-03 00:00:00  1984-04-06 00:00:00   \n",
       "Temperature                    57.00                63.00   \n",
       "Damage Incident                    1                    1   \n",
       "damage                             1                    1   \n",
       "defect                             1                    1   \n",
       "\n",
       "                        ...                            14  \\\n",
       "Date                    ...           1985-01-24 00:00:00   \n",
       "Temperature             ...                         53.00   \n",
       "Damage Incident         ...                             1   \n",
       "damage                  ...                             1   \n",
       "defect                  ...                             1   \n",
       "\n",
       "                                  15                   16  \\\n",
       "Date             1985-04-12 00:00:00  1985-04-29 00:00:00   \n",
       "Temperature                    67.00                75.00   \n",
       "Damage Incident                    0                    0   \n",
       "damage                             0                    0   \n",
       "defect                             0                    0   \n",
       "\n",
       "                                  17                   18  \\\n",
       "Date             1985-06-17 00:00:00  1985-07-29 00:00:00   \n",
       "Temperature                    70.00                81.00   \n",
       "Damage Incident                    0                    0   \n",
       "damage                             0                    0   \n",
       "defect                             0                    0   \n",
       "\n",
       "                                  19                   20  \\\n",
       "Date             1985-08-27 00:00:00  1985-10-03 00:00:00   \n",
       "Temperature                    76.00                79.00   \n",
       "Damage Incident                    0                    0   \n",
       "damage                             0                    0   \n",
       "defect                             0                    0   \n",
       "\n",
       "                                  21                   22                   23  \n",
       "Date             1985-10-30 00:00:00  1985-11-26 00:00:00  1986-01-12 00:00:00  \n",
       "Temperature                    75.00                76.00                58.00  \n",
       "Damage Incident                    1                    0                    1  \n",
       "damage                             1                    0                    1  \n",
       "defect                             1                    0                    1  \n",
       "\n",
       "[5 rows x 23 columns]"
      ]
     },
     "execution_count": 184,
     "metadata": {},
     "output_type": "execute_result"
    }
   ],
   "source": [
    "df_chall['defect'] = (df_chall['Damage Incident'] == '1')*1\n",
    "df_chall_cl = df_chall[(df_chall['Damage Incident']=='1') | (df_chall['Damage Incident']=='0')]\n",
    "df_chall_cl.T"
   ]
  },
  {
   "cell_type": "code",
   "execution_count": 230,
   "metadata": {
    "ExecuteTime": {
     "end_time": "2017-06-26T08:31:07.744496Z",
     "start_time": "2017-06-26T08:30:10.871510Z"
    },
    "hidden": true
   },
   "outputs": [
    {
     "name": "stderr",
     "output_type": "stream",
     "text": [
      "/Users/dragon/Library/Python/3.6/lib/python/site-packages/theano/tensor/basic.py:2146: UserWarning: theano.tensor.round() changed its default from `half_away_from_zero` to `half_to_even` to have the same default as NumPy. Use the Theano flag `warn.round=False` to disable this warning.\n",
      "  \"theano.tensor.round() changed its default from\"\n"
     ]
    },
    {
     "name": "stdout",
     "output_type": "stream",
     "text": [
      "Optimization terminated successfully.\n",
      "         Current function value: 19.010705\n",
      "         Iterations: 14\n",
      "         Function evaluations: 17\n",
      "         Gradient evaluations: 17\n"
     ]
    },
    {
     "name": "stderr",
     "output_type": "stream",
     "text": [
      "100%|██████████| 120000/120000 [00:53<00:00, 2256.77it/s]\n"
     ]
    }
   ],
   "source": [
    "temperatures = df_chall_cl['Temperature']\n",
    "defects = df_chall_cl['defect']\n",
    "with pm.Model() as mdl_chall:\n",
    "    beta  = pm.Normal('beta' , mu=0, tau=.001, testval=0)\n",
    "    alpha = pm.Normal('alpha', mu=0, tau=.001, testval=0)\n",
    "    p_d = pm.Deterministic('p_d', 1./(1.+theano.tensor.exp(beta*temperatures+alpha)))\n",
    "    observed = pm.Bernoulli('observed', p_d, observed=defects)\n",
    "    \n",
    "    start = pm.find_MAP()\n",
    "    step  = pm.Metropolis()\n",
    "    trace = pm.sample(120000, step=step, start=start, njobs=multiprocessing.cpu_count()-1)\n",
    "    burned_trace = trace[100000::2]"
   ]
  },
  {
   "cell_type": "code",
   "execution_count": 231,
   "metadata": {
    "ExecuteTime": {
     "end_time": "2017-06-26T08:31:07.754321Z",
     "start_time": "2017-06-26T08:31:07.747920Z"
    },
    "collapsed": true,
    "hidden": true
   },
   "outputs": [],
   "source": [
    "alpha_samples = burned_trace['alpha'][:,None]\n",
    "beta_samples  = burned_trace['beta'][:, None]"
   ]
  },
  {
   "cell_type": "code",
   "execution_count": 232,
   "metadata": {
    "ExecuteTime": {
     "end_time": "2017-06-26T08:31:08.308520Z",
     "start_time": "2017-06-26T08:31:07.756344Z"
    },
    "hidden": true
   },
   "outputs": [
    {
     "data": {
      "image/png": "[encoded data removed]",
      "text/plain": [
       "<matplotlib.figure.Figure at 0x115620470>"
      ]
     },
     "metadata": {},
     "output_type": "display_data"
    }
   ],
   "source": [
    "fig,axes=plt.subplots(2)\n",
    "axes[0].hist(alpha_samples, bins=40, histtype='stepfilled',label=r'posterior $\\alpha$')\n",
    "axes[0].legend()\n",
    "\n",
    "axes[1].hist(beta_samples, bins=40, label=r'posterior $\\beta$')\n",
    "axes[1].legend();"
   ]
  },
  {
   "cell_type": "code",
   "execution_count": 233,
   "metadata": {
    "ExecuteTime": {
     "end_time": "2017-06-26T08:31:08.456431Z",
     "start_time": "2017-06-26T08:31:08.310323Z"
    },
    "hidden": true
   },
   "outputs": [
    {
     "name": "stdout",
     "output_type": "stream",
     "text": [
      "(100, 1) (30000, 1) (30000, 1) (30000, 100) (100,) (100,)\n"
     ]
    }
   ],
   "source": [
    "t = np.linspace(temperatures.min()-5,temperatures.max()+5,100)[:, None]\n",
    "p_t = logistic(t.T, beta_samples, alpha_samples)\n",
    "p_t_mean = p_t.mean(axis=0)\n",
    "p_t_sd = p_t.std(axis=0)\n",
    "\n",
    "print(t.shape, beta_samples.shape, alpha_samples.shape, p_t.shape, p_t_mean.shape, p_t_sd.shape)"
   ]
  },
  {
   "cell_type": "code",
   "execution_count": 237,
   "metadata": {
    "ExecuteTime": {
     "end_time": "2017-06-26T08:31:29.231519Z",
     "start_time": "2017-06-26T08:31:28.939790Z"
    },
    "hidden": true
   },
   "outputs": [
    {
     "data": {
      "image/png": "[encoded data removed]",
      "text/plain": [
       "<matplotlib.figure.Figure at 0x119d4eeb8>"
      ]
     },
     "metadata": {},
     "output_type": "display_data"
    }
   ],
   "source": [
    "plt.plot(t, p_t_mean)\n",
    "# plt.plot(t, p_t_mean+p_t_sd)\n",
    "# plt.plot(t, p_t_mean-p_t_sd)\n",
    "plt.fill_between(t.ravel(), (p_t_mean-p_t_sd).ravel(), (p_t_mean+p_t_sd).ravel(), alpha=0.1)\n",
    "plt.xlabel('temperature')\n",
    "plt.ylabel('prob of defect')\n",
    "plt.scatter(temperatures, defects, color=\"k\", s=50, alpha=0.5)\n",
    "plt.show()"
   ]
  },
  {
   "cell_type": "code",
   "execution_count": 242,
   "metadata": {
    "ExecuteTime": {
     "end_time": "2017-06-26T08:32:06.612848Z",
     "start_time": "2017-06-26T08:32:06.063704Z"
    },
    "hidden": true
   },
   "outputs": [
    {
     "data": {
      "image/png": "[encoded data removed]",
      "text/plain": [
       "<matplotlib.figure.Figure at 0x11c2726a0>"
      ]
     },
     "metadata": {},
     "output_type": "display_data"
    }
   ],
   "source": [
    "plt.plot(t, p_t_mean)\n",
    "qs = sp_stats.mstats.mquantiles(p_t, [0.025, 0.975], axis=0)\n",
    "plt.fill_between(t.ravel(), *qs, alpha=0.2)\n",
    "plt.xlabel('temperature')\n",
    "plt.ylabel('prob of defect')\n",
    "plt.scatter(temperatures, defects, color=\"k\", s=50, alpha=0.7)\n",
    "plt.show()\n"
   ]
  },
  {
   "cell_type": "code",
   "execution_count": 243,
   "metadata": {
    "ExecuteTime": {
     "end_time": "2017-06-26T08:34:17.934002Z",
     "start_time": "2017-06-26T08:34:17.925611Z"
    },
    "hidden": true
   },
   "outputs": [
    {
     "data": {
      "text/plain": [
       "Date               1986-01-28 00:00:00\n",
       "Temperature                      31.00\n",
       "Damage Incident    Challenger Accident\n",
       "damage                               0\n",
       "defect                               0\n",
       "Name: 24, dtype: object"
      ]
     },
     "execution_count": 243,
     "metadata": {},
     "output_type": "execute_result"
    }
   ],
   "source": [
    "df_chall.iloc[-1,:]"
   ]
  },
  {
   "cell_type": "markdown",
   "metadata": {
    "hidden": true
   },
   "source": [
    "on the day of the accident, the temperature was 31.0 "
   ]
  },
  {
   "cell_type": "code",
   "execution_count": 244,
   "metadata": {
    "ExecuteTime": {
     "end_time": "2017-06-26T08:35:05.956436Z",
     "start_time": "2017-06-26T08:35:05.632195Z"
    },
    "hidden": true
   },
   "outputs": [
    {
     "data": {
      "image/png": "[encoded data removed]",
      "text/plain": [
       "<matplotlib.figure.Figure at 0x11801d198>"
      ]
     },
     "metadata": {},
     "output_type": "display_data"
    }
   ],
   "source": [
    "temp_today = 31\n",
    "prob_today = logistic(temp_today, beta_samples, alpha_samples)\n",
    "\n",
    "plt.xlim(0.995, 1)\n",
    "plt.hist(prob_today, bins=1000, normed=True, histtype='stepfilled')\n",
    "plt.title(\"Posterior distribution of probability of defect, given $t = 31$\")\n",
    "plt.xlabel(\"probability of defect occurring in O-ring\");"
   ]
  },
  {
   "cell_type": "markdown",
   "metadata": {
    "heading_collapsed": true,
    "hidden": true
   },
   "source": [
    "## what are these seperation plots??"
   ]
  },
  {
   "cell_type": "code",
   "execution_count": null,
   "metadata": {
    "collapsed": true,
    "hidden": true
   },
   "outputs": [],
   "source": []
  },
  {
   "cell_type": "code",
   "execution_count": null,
   "metadata": {
    "collapsed": true,
    "hidden": true
   },
   "outputs": [],
   "source": []
  },
  {
   "cell_type": "code",
   "execution_count": null,
   "metadata": {
    "collapsed": true,
    "hidden": true
   },
   "outputs": [],
   "source": []
  },
  {
   "cell_type": "markdown",
   "metadata": {},
   "source": [
    "# scratch"
   ]
  },
  {
   "cell_type": "markdown",
   "metadata": {
    "heading_collapsed": true
   },
   "source": [
    "## daft tmp"
   ]
  },
  {
   "cell_type": "code",
   "execution_count": 56,
   "metadata": {
    "ExecuteTime": {
     "end_time": "2017-06-25T20:09:08.393728Z",
     "start_time": "2017-06-25T20:09:07.864985Z"
    },
    "hidden": true
   },
   "outputs": [
    {
     "data": {
      "image/png": "[encoded data removed]",
      "text/plain": [
       "<matplotlib.figure.Figure at 0x115a91f60>"
      ]
     },
     "metadata": {},
     "output_type": "display_data"
    }
   ],
   "source": [
    "plt.rcParams['figure.figsize'] = [10,6]\n",
    "p_color = {\"ec\": \"#46a546\"}; s_color = {\"ec\": \"#f89406\"}\n",
    "pgm = daft.PGM([3.6, 3.5], origin=[0.7, 0])\n",
    "\n",
    "n = daft.Node(\"phi\", r\"$\\phi$\", 1, 3, plot_params=s_color)\n",
    "n.va = \"baseline\"\n",
    "pgm.add_node(n)\n",
    "pgm.add_node(daft.Node(\"speckle_coeff\", r\"$z_i$\", 2, 3, plot_params=s_color))\n",
    "pgm.add_node(daft.Node(\"speckle_img\", r\"$x_i$\", 2, 2, plot_params=s_color))\n",
    "\n",
    "pgm.add_node(daft.Node(\"spec\", r\"$s$\", 4, 3, plot_params=p_color))\n",
    "pgm.add_node(daft.Node(\"shape\", r\"$g$\", 4, 2, plot_params=p_color))\n",
    "pgm.add_node(daft.Node(\"planet_pos\", r\"$\\mu_i$\", 3, 3, plot_params=p_color))\n",
    "pgm.add_node(daft.Node(\"planet_img\", r\"$p_i$\", 3, 2, plot_params=p_color))\n",
    "\n",
    "pgm.add_node(daft.Node(\"pixels\", r\"$y_i ^j$\", 2.5, 1, observed=True))\n",
    "\n",
    "# Edges.\n",
    "pgm.add_edge(\"phi\", \"speckle_coeff\")\n",
    "pgm.add_edge(\"speckle_coeff\", \"speckle_img\")\n",
    "pgm.add_edge(\"speckle_img\", \"pixels\")\n",
    "\n",
    "pgm.add_edge(\"spec\", \"planet_img\")\n",
    "pgm.add_edge(\"shape\", \"planet_img\")\n",
    "pgm.add_edge(\"planet_pos\", \"planet_img\")\n",
    "pgm.add_edge(\"planet_img\", \"pixels\")\n",
    "\n",
    "# And a plate.\n",
    "pgm.add_plate(daft.Plate([1.5, 0.2, 2, 3.2], label=r\"exposure $i$\",\n",
    "    shift=-0.1))\n",
    "pgm.add_plate(daft.Plate([2, 0.5, 1, 1], label=r\"pixel $j$\",\n",
    "    shift=-0.1))\n",
    "\n",
    "# Render and save.\n",
    "pgm.render()\n",
    "plt.show()"
   ]
  },
  {
   "cell_type": "code",
   "execution_count": 18,
   "metadata": {
    "ExecuteTime": {
     "end_time": "2017-06-25T19:53:57.152027Z",
     "start_time": "2017-06-25T19:53:57.145467Z"
    },
    "hidden": true
   },
   "outputs": [
    {
     "data": {
      "text/plain": [
       "'/Users/dragon/.matplotlib'"
      ]
     },
     "execution_count": 18,
     "metadata": {},
     "output_type": "execute_result"
    }
   ],
   "source": []
  },
  {
   "cell_type": "code",
   "execution_count": null,
   "metadata": {
    "hidden": true
   },
   "outputs": [],
   "source": []
  },
  {
   "cell_type": "code",
   "execution_count": null,
   "metadata": {
    "hidden": true
   },
   "outputs": [],
   "source": []
  },
  {
   "cell_type": "code",
   "execution_count": null,
   "metadata": {
    "hidden": true
   },
   "outputs": [],
   "source": []
  },
  {
   "cell_type": "code",
   "execution_count": null,
   "metadata": {
    "hidden": true
   },
   "outputs": [],
   "source": []
  },
  {
   "cell_type": "code",
   "execution_count": null,
   "metadata": {
    "hidden": true
   },
   "outputs": [],
   "source": []
  },
  {
   "cell_type": "code",
   "execution_count": null,
   "metadata": {
    "hidden": true
   },
   "outputs": [],
   "source": []
  }
 ],
 "metadata": {
  "celltoolbar": "Initialization Cell",
  "hide_input": false,
  "kernelspec": {
   "display_name": "Python 3",
   "language": "python3",
   "name": "python3"
  },
  "language_info": {
   "codemirror_mode": {
    "name": "ipython",
    "version": 3
   },
   "file_extension": ".py",
   "mimetype": "text/x-python",
   "name": "python",
   "nbconvert_exporter": "python",
   "pygments_lexer": "ipython3",
   "version": "3.6.1"
  },
  "latex_envs": {
   "bibliofile": "biblio.bib",
   "cite_by": "apalike",
   "current_citInitial": 1,
   "eqLabelWithNumbers": true,
   "eqNumInitial": 0
  },
  "nav_menu": {},
  "toc": {
   "colors": {
    "hover_highlight": "#DAA520",
    "running_highlight": "#FF0000",
    "selected_highlight": "#FFD700"
   },
   "moveMenuLeft": true,
   "nav_menu": {
    "height": "12px",
    "width": "252px"
   },
   "navigate_menu": true,
   "number_sections": true,
   "sideBar": true,
   "threshold": 4,
   "toc_cell": false,
   "toc_position": {
    "height": "791px",
    "left": "0px",
    "right": "auto",
    "top": "131px",
    "width": "176px"
   },
   "toc_section_display": "block",
   "toc_window_display": true,
   "widenNotebook": false
  },
  "varInspector": {
   "cols": {
    "lenName": 16,
    "lenType": 16,
    "lenVar": 40
   },
   "kernels_config": {
    "python": {
     "delete_cmd_postfix": "",
     "delete_cmd_prefix": "del ",
     "library": "var_list.py",
     "varRefreshCmd": "print(var_dic_list())"
    },
    "r": {
     "delete_cmd_postfix": ") ",
     "delete_cmd_prefix": "rm(",
     "library": "var_list.r",
     "varRefreshCmd": "cat(var_dic_list()) "
    }
   },
   "types_to_exclude": [
    "module",
    "function",
    "builtin_function_or_method",
    "instance",
    "_Feature"
   ],
   "window_display": false
  }
 },
 "nbformat": 4,
 "nbformat_minor": 1
}
