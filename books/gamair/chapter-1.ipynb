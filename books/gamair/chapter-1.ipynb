{
 "cells": [
  {
   "cell_type": "code",
   "metadata": {},
   "outputs": [],
   "source": [
    "options(repr.plot.width  = 6,\n",
    "        repr.plot.height = 6)"
   ]
  },
  {
   "cell_type": "code",
   "metadata": {},
   "outputs": [],
   "source": [
    "library(gamair)\n",
    "data(hubble)\n",
    "ls()"
   ]
  },
  {
   "cell_type": "code",
   "metadata": {},
   "outputs": [],
   "source": [
    "?lm"
   ]
  },
  {
   "cell_type": "code",
   "metadata": {},
   "outputs": [],
   "source": [
    "hub.mod = lm(y~x-1, data=hubble)\n",
    "summary(hub.mod)"
   ]
  },
  {
   "cell_type": "code",
   "metadata": {},
   "outputs": [],
   "source": [
    "print(fitted(hub.mod))\n",
    "plot(fitted(hub.mod),residuals(hub.mod),xlab=\"fitted values\",\n",
    "ylab=\"residuals\")"
   ]
  },
  {
   "cell_type": "markdown",
   "metadata": {},
   "source": [
    "two points, 3, 15, have high variance. lets remove em and see"
   ]
  },
  {
   "cell_type": "code",
   "metadata": {},
   "outputs": [],
   "source": [
    "hub.mod1 <- lm(y~x-1,data=hubble[-c(3,15),])\n",
    "summary(hub.mod1)"
   ]
  },
  {
   "cell_type": "markdown",
   "metadata": {},
   "source": [
    "he Hubble constant estimates have units of $(km)s^{−1} (Mpc)^{−1}$.  \n",
    "A Mega-parsec is 3.09 × 1019km, so we need to divide $\\hat{\\beta}$ by this amount, in order to obtain Hubble’s\n",
    "constant with units of $s^{−1}$.  \n",
    "The approximate age of the universe, in seconds, is then given by the reciprocal of $\\beta^{-1}$.\n",
    "\n",
    "Here are the two possible estimates expressed in years:"
   ]
  },
  {
   "cell_type": "code",
   "metadata": {},
   "outputs": [],
   "source": [
    "print(c(coef(hub.mod),coef(hub.mod1)))\n",
    "hubble.const <- c(coef(hub.mod),coef(hub.mod1))/3.09e19\n",
    "age <- 1/hubble.const\n",
    "age/(60^2*24*365)"
   ]
  },
  {
   "cell_type": "markdown",
   "metadata": {},
   "source": [
    "Lets add a distributionality assumption.  \n",
    "Let $\\epsilon_i \\sim \\mathcal{N}(0, \\sigma^2)$ for all i.  \n",
    "That is, $Y_i ~\\sim~ \\mathcal{N}(x_i \\beta, \\sigma^2)$\n",
    "\n",
    "Also,\n",
    "\n",
    "Hence\n",
    "$$\n",
    "\\hat{\\beta} = \\mathcal{N}\\left( \\beta, \\left(\\sum x_i\\right)^{-1} \\sigma^2 \\right)\n",
    "$$"
   ]
  },
  {
   "cell_type": "markdown",
   "metadata": {},
   "source": [
    "# Practical linear models"
   ]
  },
  {
   "cell_type": "code",
   "metadata": {},
   "outputs": [],
   "source": [
    "data(sperm.comp1)"
   ]
  },
  {
   "cell_type": "code",
   "metadata": {},
   "outputs": [],
   "source": [
    "pairs(sperm.comp1[,-1])\n"
   ]
  },
  {
   "cell_type": "markdown",
   "metadata": {},
   "source": [
    "Following Baker & Bellis, a reasonable model would be\n",
    "$$\n",
    "y_i = \\beta_0 + t_i \\beta_1 + p_i \\beta_2 + \\epsilon_i\n",
    "$$\n",
    "where\n",
    "* $y_i$: sperm count (count)\n",
    "* $t_i$: time spent since last copulation (time.ipc)\n",
    "* $p_i$: proportion of time, since last copulation, that the pair have spent together (prop.partner)\n",
    "* $\\epsilon_i \\sim \\mathcal{N}(0, \\sigma^2)$"
   ]
  },
  {
   "cell_type": "code",
   "metadata": {},
   "outputs": [],
   "source": [
    "sc.mod1 <- lm(count ~ time.ipc+prop.partner,sperm.comp1)\n",
    "summary(sc.mod1)"
   ]
  },
  {
   "cell_type": "code",
   "metadata": {},
   "outputs": [],
   "source": [
    "model.matrix(sc.mod1)"
   ]
  },
  {
   "cell_type": "markdown",
   "metadata": {},
   "source": [
    "standardized residuals:  s\n",
    "the residuals have been scaled, by dividing them by their estimated standard deviation"
   ]
  },
  {
   "cell_type": "code",
   "metadata": {},
   "outputs": [],
   "source": [
    "res1 = residuals.lm(sc.mod1)\n",
    "std_dev = sqrt(var(res1))\n",
    "print('std_dev')\n",
    "print(std_dev)\n",
    "res_std = res1/std_dev"
   ]
  },
  {
   "cell_type": "markdown",
   "metadata": {},
   "source": [
    "Cook's distance\n",
    "\n",
    "$$\n",
    "d_k = \\frac{1}{(p+1)\\hat{\\sigma}^2} \\sum_{i=1}^n\n",
    "\\left(\n",
    "  \\hat{\\mu}_i^{[ks]} - \\hat{\\mu}_i\n",
    "\\right)^2\n",
    "$$"
   ]
  },
  {
   "cell_type": "code",
   "metadata": {},
   "outputs": [],
   "source": [
    "fitted.values(sc.mod1)"
   ]
  },
  {
   "cell_type": "code",
   "metadata": {},
   "outputs": [],
   "source": [
    "fitted.values(sc.mod1)[-5]"
   ]
  },
  {
   "cell_type": "code",
   "metadata": {},
   "outputs": [],
   "source": []
  },
  {
   "cell_type": "code",
   "metadata": {},
   "outputs": [],
   "source": [
    "p=2\n",
    "fv_all = fitted.values(sc.mod1)\n",
    "var_all = var(fv_all)\n",
    "cook_number1 <- function(k) {\n",
    "    fv_k = fitted.values(lm(count ~ time.ipc+prop.partner,sperm.comp1[-k,]))\n",
    "    sum((fv_k-fv_all[-k])**2)/((p+1)*var_all)\n",
    "}\n",
    "cook_distances = sapply(1:15, cook_number1)"
   ]
  },
  {
   "cell_type": "code",
   "metadata": {},
   "outputs": [],
   "source": [
    "par(mfcol=c(2,2))\n",
    "plot(fitted.values(sc.mod1), residuals.lm(sc.mod1))\n",
    "plot(fitted.values(sc.mod1), sqrt(abs(res_std)))\n",
    "plot(sort(res_std))\n",
    "plot(cook_distances)"
   ]
  },
  {
   "cell_type": "code",
   "metadata": {},
   "outputs": [],
   "source": []
  },
  {
   "cell_type": "code",
   "metadata": {},
   "outputs": [],
   "source": []
  },
  {
   "cell_type": "code",
   "metadata": {},
   "outputs": [],
   "source": []
  },
  {
   "cell_type": "code",
   "metadata": {},
   "outputs": [],
   "source": []
  },
  {
   "cell_type": "code",
   "metadata": {},
   "outputs": [],
   "source": []
  },
  {
   "cell_type": "code",
   "metadata": {},
   "outputs": [],
   "source": []
  },
  {
   "cell_type": "code",
   "metadata": {},
   "outputs": [],
   "source": []
  },
  {
   "cell_type": "code",
   "metadata": {},
   "outputs": [],
   "source": []
  },
  {
   "cell_type": "code",
   "metadata": {},
   "outputs": [],
   "source": []
  },
  {
   "cell_type": "code",
   "metadata": {},
   "outputs": [],
   "source": []
  },
  {
   "cell_type": "code",
   "metadata": {},
   "outputs": [],
   "source": []
  },
  {
   "cell_type": "code",
   "metadata": {},
   "outputs": [],
   "source": []
  }
 ],
 "metadata": {
  "hide_input": false,
  "kernelspec": {
   "display_name": "R",
   "language": "R",
   "name": "ir"
  },
  "language_info": {
   "codemirror_mode": "r",
   "file_extension": ".r",
   "mimetype": "text/x-r-source",
   "name": "R",
   "pygments_lexer": "r"
  },
  "latex_envs": {
   "bibliofile": "biblio.bib",
   "cite_by": "apalike",
   "current_citInitial": 1,
   "eqLabelWithNumbers": true,
   "eqNumInitial": 0
  },
  "toc": {
   "toc_cell": false,
   "toc_number_sections": true,
   "toc_threshold": 6,
   "toc_window_display": false
  }
 },
 "nbformat": 4,
 "nbformat_minor": 0
}
