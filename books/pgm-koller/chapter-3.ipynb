{
 "cells": [
  {
   "cell_type": "code",
   "execution_count": 5,
   "metadata": {
    "ExecuteTime": {
     "end_time": "2016-06-08T00:06:55.257248",
     "start_time": "2016-06-08T00:06:55.226703"
    },
    "collapsed": false,
    "run_control": {
     "frozen": false,
     "read_only": false
    }
   },
   "outputs": [],
   "source": [
    "import numpy as np\n",
    "import scipy as sp\n",
    "from matplotlib import pyplot as plt\n",
    "%matplotlib inline\n",
    "\n",
    "import random as rnd\n",
    "import os\n",
    "import math\n",
    "\n",
    "# required for interactive plotting\n",
    "from __future__ import print_function\n",
    "from ipywidgets import interact, interactive, fixed\n",
    "import ipywidgets as widgets\n",
    "import numpy.polynomial as np_poly\n",
    "\n",
    "from IPython.display import Math\n",
    "from IPython.display import Latex\n",
    "from IPython.display import HTML\n",
    "\n",
    "from pprint import pprint\n",
    "import functools as ft\n",
    "\n",
    "from graphviz import Digraph\n",
    "\n",
    "DIR_HOME = os.environ['HOME']\n",
    "DIR_REPOS = DIR_HOME + \"/neo-human/repos\"\n",
    "DIR_BMLSP = DIR_REPOS + \"/luispedro/BuildingMachineLearningSystemsWithPython\""
   ]
  },
  {
   "cell_type": "markdown",
   "metadata": {},
   "source": [
    "initialization\n",
    "$\n",
    "\\newcommand{\\Brace}[1]{\\left\\{#1\\right\\}}\n",
    "\\newcommand{\\Bracket}[1]{\\left[#1\\right]}\n",
    "\\newcommand{\\cases}[1]{\\begin{cases}#1\\end{cases}}\n",
    "\\newcommand{\\cov}[1]{\\text{cov} \\sigma\\left[#1\\right]}\n",
    "\\newcommand{\\diff}[2]{\\frac{d #1}{d #2}}\n",
    "\\newcommand{\\difftwo}[2]{\\frac{d^2 #1}{d {#2}^2}}\n",
    "\\newcommand{\\diffn}[2]{{#1}^{\\prime}(#2)}\n",
    "\\newcommand{\\ds}{\\displaystyle}\n",
    "\\newcommand{\\E}[1]{\\mathbb{E}\\left[ #1 \\right]}\n",
    "\\newcommand{\\expb}[1]{\\exp\\left\\{#1\\right\\}} \n",
    "\\newcommand{\\EXP}[1]{\\exp\\left\\{#1\\right\\}} \n",
    "\\newcommand{\\frachalf}[1]{\\frac{#1}{2}~}\n",
    "\\newcommand{\\fracone}[1]{\\frac{1}{#1}~}\n",
    "\\newcommand{\\fracrec}[1]{\\frac{1}{#1}~}\n",
    "\\newcommand{\\half}{\\fracone{2}}\n",
    "\\newcommand{\\H}[1]{\\mathbb{H}\\left[#1\\right]}\n",
    "\\newcommand{\\Int}[2]{\\displaystyle \\int_{#1}^{#2}~}\n",
    "\\newcommand{\\intinfinf}{\\Int{-\\infty}{\\infty}}\n",
    "\\newcommand{\\inv}[1]{#1^{-1}}\n",
    "\\newcommand{\\invp}[1]{\\left({#1}\\right)^{-1}}\n",
    "\\newcommand{\\KL}[2]{\\text{KL}\\left(#1 \\Vert #2\\right)}\n",
    "\\newcommand{\\Lim}[1]{\\displaystyle \\lim_{#1}}\n",
    "\\newcommand{\\Ln}[1]{\\ln \\left\\(#1\\right\\)}\n",
    "\\newcommand{\\Lnb}[1]{\\ln \\left\\{#1\\right\\} }\n",
    "\\newcommand{\\Mod}[1]{\\left|#1\\right|}\n",
    "\\newcommand{\\Norm}[1]{\\left\\lVert #1 \\right\\rVert}\n",
    "\\newcommand{\\Normsqr}[1]{\\Norm{#1}^2}\n",
    "\\newcommand{\\map}[1]{#1_{\\text{MAP}}}\n",
    "\\newcommand{\\ml}[1]{#1_{\\text{ML}}}\n",
    "\\newcommand{\\MI}[1]{\\mathcal{I}\\left(#1\\right)}\n",
    "\\newcommand{\\P}{\\mathbb{P}}\n",
    "\\newcommand{\\Paran}[1]{\\left(#1\\right)}\n",
    "\\newcommand{\\Partial}[2]{\\frac{\\partial #1}{\\partial #2}}\n",
    "\\newcommand{\\sqrbrkt}[1]{\\Bracket{#1}^2}\n",
    "\\newcommand{\\sqrbrc}[1]{\\Brace{#1}^2}\n",
    "\\newcommand{\\trace}[1]{\\text{Tr}\\left( #1 \\right)}\n",
    "\\newcommand{\\traceb}[1]{\\text{Tr}\\left\\{#1\\right\\}}\n",
    "\\newcommand{\\underl}[1]{\\text{$\\underline{#1}$}}\n",
    "\\newcommand{\\V}[1]{\\mathbb{V}\\left[#1\\right]}\n",
    "$\n",
    "$\n",
    "\\DeclareMathOperator*{\\argmin}{arg\\,min}\n",
    "\\DeclareMathOperator*{\\argmax}{arg\\,max}\n",
    "$\n",
    "$\n",
    "\\newcommand{\\mat}[1]{ \\left[ \\begin{matrix} #1 \\end{matrix} \\right] }\n",
    "\\newcommand{\\matp}[1]{ \\left( \\begin{matrix} #1 \\end{matrix} \\right)}\n",
    "\\newcommand{\\mats}[1]{ \\begin{matrix}#1\\end{matrix} }\n",
    "\\newcommand{\\arrthree}[1]{\n",
    "\\begin{array}{rlr} #1 \\end{array}}\n",
    "$"
   ]
  },
  {
   "cell_type": "markdown",
   "metadata": {},
   "source": [
    "$\n",
    "\\newcommand{\\C}{\\mathbb{C}}\n",
    "\\newcommand{\\Ca}{\\mathcal{C}}\n",
    "\\newcommand{\\Caone}{\\Ca_1}\n",
    "\\newcommand{\\Catwo}{\\Ca_2}\n",
    "\\newcommand{\\Cak}{\\Ca_k}\n",
    "\\newcommand{\\D}{\\mathcal{D}}\n",
    "\\newcommand{\\G}{\\mathcal{G}}\n",
    "\\newcommand{\\I}{\\mathcal{I}}\n",
    "\\newcommand{\\L}{\\mathcal{L}}\n",
    "\\newcommand{\\M}{\\mathcal{M}}\n",
    "\\newcommand{\\N}{\\mathbb{N}}\n",
    "\\newcommand{\\R}{\\mathbb{R}}\n",
    "\\newcommand{\\Ra}{\\mathcal{R}}\n",
    "$\n",
    "$\n",
    "\\newcommand{\\commentgray}[1]{\\color{gray}{\\text{#1}}}\n",
    "$"
   ]
  },
  {
   "cell_type": "markdown",
   "metadata": {},
   "source": [
    "sum, product\n",
    "$\n",
    "\\newcommand{\\sumi}{\\displaystyle \\sum_i}\n",
    "\\newcommand{\\sumiD}{\\displaystyle \\sum_{i=1}^{D}}\n",
    "\\newcommand{\\sumiL}{\\displaystyle \\sum_{i=1}^{L}}\n",
    "\\newcommand{\\sumiN}{\\displaystyle \\sum_{i=1}^{N}}\n",
    "\\newcommand{\\sumjD}{\\displaystyle \\sum_{j=1}^{D}}\n",
    "\\newcommand{\\sumjK}{\\displaystyle \\sum_{j=1}^{K}}\n",
    "\\newcommand{\\sumjMl}{\\sum_{j=1}^{M-1}}\n",
    "\\newcommand{\\sumkK}{\\displaystyle \\sum_{k=1}^{K}}\n",
    "\\newcommand{\\sumkM}{\\displaystyle \\sum_{k=1}^{M}}\n",
    "\\newcommand{\\sumkMl}{\\sum_{k=1}^{M-1}}\n",
    "\\newcommand{\\sumkp}{\\displaystyle \\sum_{k=1}^{p}}\n",
    "\\newcommand{\\summN}{\\displaystyle \\sum_{m=1}^{N}}\n",
    "\\newcommand{\\sumnN}{\\displaystyle \\sum_{n=1}^{N}}\n",
    "$\n",
    "$\n",
    "\\newcommand{\\prodi}{\\displaystyle \\prod_i}\n",
    "\\newcommand{\\prodiD}{\\displaystyle \\prod_{i=1}^{D}}\n",
    "\\newcommand{\\prodiL}{\\displaystyle \\prod_{i=1}^{L}}\n",
    "\\newcommand{\\prodiN}{\\displaystyle \\prod_{i=1}^{N}}\n",
    "\\newcommand{\\prodjK}{\\displaystyle \\prod_{j=1}^{K}}\n",
    "\\newcommand{\\prodkK}{\\displaystyle \\prod_{k=1}^{K}}\n",
    "\\newcommand{\\prodmN}{\\displaystyle \\prod_{m=1}^{N}}\n",
    "\\newcommand{\\prodnN}{\\displaystyle \\prod_{n=1}^{N}}\n",
    "$"
   ]
  },
  {
   "cell_type": "markdown",
   "metadata": {},
   "source": [
    "alphabet shortcuts\n",
    "$\n",
    "\\newcommand{\\ab}{\\mathbf{a}}\n",
    "\\newcommand{\\at}{\\ab^T}\n",
    "\\newcommand{\\Ab}{\\mathbf{A}}\n",
    "\\newcommand{\\At}{\\Ab^T}\n",
    "\\newcommand{\\Ai}{\\inv{\\Ab}}\n",
    "\\newcommand{\\Abjk}{\\Ab_{jk}}\n",
    "\\newcommand{\\bb}{\\mathbf{b}}\n",
    "\\newcommand{\\bt}{\\bb^T}\n",
    "\\newcommand{\\Bb}{\\mathbf{B}}\n",
    "\\newcommand{\\Bt}{\\Bb^T}\n",
    "\\newcommand{\\Cb}{\\mathbf{C}}\n",
    "\\newcommand{\\Cn}{\\Cb_{N}}\n",
    "\\newcommand{\\Db}{\\mathbf{D}}\n",
    "\\newcommand{\\fb}{\\mathbf{f}}\n",
    "\\newcommand{\\fp}{f^{\\prime}}\n",
    "\\newcommand{\\Hb}{\\mathbf{H}}\n",
    "\\newcommand{\\hx}{h(\\xb)}\n",
    "\\newcommand{\\Jb}{\\mathbf{J}}\n",
    "\\newcommand{\\kb}{\\mathbf{k}}\n",
    "\\newcommand{\\kt}{\\kb^T}\n",
    "\\newcommand{\\Kb}{\\mathbf{K}}\n",
    "\\newcommand{\\Lb}{\\mathbf{L}}\n",
    "\\newcommand{\\Lt}{\\Lb^T}\n",
    "\\newcommand{\\Lbi}{\\Lb^{-1}}\n",
    "\\newcommand{\\mb}{\\mathbf{m}}\n",
    "\\newcommand{\\mt}{\\mb^T}\n",
    "\\newcommand{\\mbn}{\\mb_N}\n",
    "\\newcommand{\\mbnt}{\\mbn^T}\n",
    "\\newcommand{\\mbN}{\\mb_N}\n",
    "\\newcommand{\\mbNt}{\\mbn^T}\n",
    "\\newcommand{\\Mb}{\\mathbf{M}}\n",
    "\\newcommand{\\Qb}{\\mathbf{Q}}\n",
    "\\newcommand{\\Rb}{\\mathbf{R}}\n",
    "\\newcommand{\\sb}{\\mathbf{s}}\n",
    "\\newcommand{\\Sb}{\\mathbf{S}}\n",
    "\\newcommand{\\tb}{\\mathbf{t}}\n",
    "\\newcommand{\\tbnn}{\\tb_{N}}\n",
    "\\newcommand{\\tbnp}{\\tb_{N+1}}\n",
    "\\newcommand{\\tt}{\\tb^T}\n",
    "\\newcommand{\\Tb}{\\mathbf{T}}\n",
    "\\newcommand{\\Tt}{\\Tb^T}\n",
    "\\newcommand{\\ub}{\\mathbf{u}}\n",
    "\\newcommand{\\Ub}{\\mathbf{U}}\n",
    "\\newcommand{\\Ut}{\\Ub^T}\n",
    "\\newcommand{\\vb}{\\mathbf{v}}\n",
    "\\newcommand{\\Vb}{\\mathbf{V}}\n",
    "\\newcommand{\\wb}{\\mathbf{w}}\n",
    "\\newcommand{\\wnr}[1]{\\wb^{(\\text{#1})}}\n",
    "\\newcommand{\\wt}{\\wb^T}\n",
    "\\newcommand{\\Wb}{\\mathbf{W}}\n",
    "\\newcommand{\\Wt}{\\Wb^T}\n",
    "\\newcommand{\\Wtilde}{\\widetilde{\\Wb}}\n",
    "\\newcommand{\\Wtildet}{\\Wtilde^T}\n",
    "\\newcommand{\\Xb}{\\mathbf{X}}\n",
    "\\newcommand{\\Xt}{\\Xb^T}\n",
    "\\newcommand{\\Xk}{\\Xb_k}\n",
    "\\newcommand{\\Xkt}{\\Xk^T}\n",
    "\\newcommand{\\Xtilde}{\\widetilde{\\Xb}}\n",
    "\\newcommand{\\Xtildet}{\\Xtilde^T}\n",
    "\\newcommand{\\xb}{\\mathbf{x}}\n",
    "\\newcommand{\\xt}{\\xb^T}\n",
    "\\newcommand{\\xtilde}{\\widetilde{\\xb}}\n",
    "\\newcommand{\\xtilden}{\\xtilde_n}\n",
    "\\newcommand{\\xtildent}{\\xtilden^T}\n",
    "\\newcommand{\\xp}{x^{\\prime}}\n",
    "\\newcommand{\\xbp}{\\xb^{\\prime}}\n",
    "\\newcommand{\\xbm}{\\xb_m}\n",
    "\\newcommand{\\xbn}{\\xb_n}\n",
    "\\newcommand{\\xbnp}{\\xb_{N+1}}\n",
    "\\newcommand{\\xab}{\\mathbf{x_a}}\n",
    "\\newcommand{\\xabt}{\\mathbf{x_a}^T}\n",
    "\\newcommand{\\xbb}{\\mathbf{x_b}}\n",
    "\\newcommand{\\xbbt}{\\mathbf{x_b}^T}\n",
    "\\newcommand{\\yb}{\\mathbf{y}}\n",
    "\\newcommand{\\yt}{\\yb^T}\n",
    "\\newcommand{\\yx}{y(\\xb)}\n",
    "\\newcommand{\\Yb}{\\mathbf{Y}}\n",
    "\\newcommand{\\Yt}{\\Yb^T}\n",
    "\\newcommand{\\zb}{\\mathbf{z}}\n",
    "\\newcommand{\\zt}{\\zb^T}\n",
    "\\newcommand{\\zbm}{\\zb_m}\n",
    "\\newcommand{\\zbn}{\\zb_n}\n",
    "\\newcommand{\\zbnp}{\\zb_{n-1}}\n",
    "\\newcommand{\\znk}{\\zb_{nk}}\n",
    "\\newcommand{\\znpj}{\\zb_{n-1,j}}\n",
    "\\newcommand{\\Zb}{\\mathbf{Z}}\n",
    "$"
   ]
  },
  {
   "cell_type": "markdown",
   "metadata": {},
   "source": [
    "math shortcuts\n",
    "$\n",
    "\\newcommand{\\alphab}{\\pmb{\\alpha}}\n",
    "\\newcommand{\\alphabt}{\\alphab^T}\n",
    "\\newcommand{\\betab}{\\pmb{\\beta}}\n",
    "\\newcommand{\\betabp}{\\betab^{\\prime}}\n",
    "\\newcommand{\\chib}{\\boldsymbol{\\chi}}\n",
    "\\newcommand{\\etab}{\\pmb{\\eta}}\n",
    "\\newcommand{\\etabp}{\\etab^{\\prime}}\n",
    "\\newcommand{\\etat}{\\eta^T}\n",
    "\\newcommand{\\etabt}{\\etab^T}\n",
    "\\newcommand{\\Lambdab}{\\pmb{\\Lambda}}\n",
    "\\newcommand{\\laa}{\\Lambda_{aa}}\n",
    "\\newcommand{\\laai}{\\Lambda_{aa}^{-1}}\n",
    "\\newcommand{\\lab}{\\Lambda_{ab}}\n",
    "\\newcommand{\\lba}{\\Lambda_{ba}}\n",
    "\\newcommand{\\lbb}{\\Lambda_{bb}}\n",
    "\\newcommand{\\lbbi}{\\Lambda_{bb}^{-1}}\n",
    "\\newcommand{\\li}{\\Lambda^{-1}}\n",
    "\\newcommand{\\Li}{\\Lambda^{-1}}\n",
    "\\newcommand{\\mub}{\\pmb{\\mu}}\n",
    "\\newcommand{\\mut}{\\mub^T}\n",
    "\\newcommand{\\muab}{\\pmb{\\mu}_a}\n",
    "\\newcommand{\\mubb}{\\pmb{\\mu}_b}\n",
    "\\newcommand{\\Phib}{\\pmb{\\Phi}}\n",
    "\\newcommand{\\Phibt}{\\Phib^T}\n",
    "\\newcommand{\\pib}{\\pmb{\\pi}}\n",
    "\\newcommand{\\sigmasqr}{\\sigma^2}\n",
    "\\newcommand{\\saa}{\\Sigma_{aa}}\n",
    "\\newcommand{\\sab}{\\Sigma_{ab}}\n",
    "\\newcommand{\\sba}{\\Sigma_{ba}}\n",
    "\\newcommand{\\sbb}{\\Sigma_{bb}}\n",
    "\\newcommand{\\Sigmai}{\\inv{\\Sigma}}\n",
    "\\newcommand{\\thetab}{\\pmb{\\theta}}\n",
    "\\newcommand{\\thetat}{\\thetab^T}\n",
    "\\newcommand{\\thetabh}{\\hat{\\thetab}}\n",
    "\\newcommand{\\thetaold}{\\thetab^{\\text{old}}}\n",
    "$\n",
    "$\n",
    "\\newcommand{\\zerob}{\\pmb{0}}\n",
    "\\newcommand{\\oneb}{\\pmb{1}}\n",
    "\\newcommand{\\ed}{\\mathbb{E}_{\\D}}\n",
    "\\newcommand{\\edyx}{\\ed\\left[y(\\xb ; \\D)\\right]}\n",
    "\\newcommand{\\dx}{~dx}\n",
    "\\newcommand{\\dxb}{~d\\xb}\n",
    "\\newcommand{\\pxdxb}{p(\\xb) \\dxb}\n",
    "\\newcommand{\\dwb}{~d\\wb}\n",
    "$"
   ]
  },
  {
   "cell_type": "markdown",
   "metadata": {},
   "source": [
    "aliases for distributions\n",
    "$\\newcommand{\\multivarcoeff}{\\frac{1}{(2\\pi)^{D/2}}\n",
    "\\frac{1}{\\left| \\mathbf{\\Sigma}\\right|^{1/2}}}$\n",
    "$\\newcommand{\\multivarexp}[2]\n",
    "{\n",
    "\\left\\{\n",
    " -\\frac{1}{2} \n",
    " {#1}^T \n",
    " #2\n",
    " {#1}\n",
    "\\right\\}\n",
    "}$\n",
    "$\\newcommand{\\multivarexpx}[1]{\\multivarexp{#1}{\\Sigma^{-1}}}$\n",
    "$\\newcommand{\\multivarexpstd}{\\multivarexpx{(\\xb-\\mub)}}$\n",
    "$\\newcommand{\\gam}{\\operatorname{Gam}}$\n",
    "$\n",
    "\\newcommand{\\Nl}[3]{\\mathcal{N}\\left(#1 \\mid #2, #3\\right)}\n",
    "\\newcommand{\\Nstdx}{\\Nl{\\mathbf{x}}{\\mathbf{\\mu}}{\\Sigma}}\n",
    "$"
   ]
  },
  {
   "cell_type": "code",
   "execution_count": 6,
   "metadata": {
    "ExecuteTime": {
     "end_time": "2016-06-08T00:06:59.312817",
     "start_time": "2016-06-08T00:06:59.085942"
    },
    "collapsed": false,
    "run_control": {
     "frozen": false,
     "read_only": false
    }
   },
   "outputs": [
    {
     "data": {
      "image/svg+xml": [
       "<?xml version=\"1.0\" encoding=\"UTF-8\" standalone=\"no\"?>\n",
       "<!DOCTYPE svg PUBLIC \"-//W3C//DTD SVG 1.1//EN\"\n",
       " \"http://www.w3.org/Graphics/SVG/1.1/DTD/svg11.dtd\">\n",
       "<!-- Generated by graphviz version 2.38.0 (20140413.2041)\n",
       " -->\n",
       "<!-- Title: %3 Pages: 1 -->\n",
       "<svg width=\"220pt\" height=\"188pt\"\n",
       " viewBox=\"0.00 0.00 220.49 188.00\" xmlns=\"http://www.w3.org/2000/svg\" xmlns:xlink=\"http://www.w3.org/1999/xlink\">\n",
       "<g id=\"graph0\" class=\"graph\" transform=\"scale(1 1) rotate(0) translate(4 184)\">\n",
       "<title>%3</title>\n",
       "<polygon fill=\"white\" stroke=\"none\" points=\"-4,4 -4,-184 216.491,-184 216.491,4 -4,4\"/>\n",
       "<!-- Difficulty -->\n",
       "<g id=\"node1\" class=\"node\"><title>Difficulty</title>\n",
       "<ellipse fill=\"none\" stroke=\"black\" cx=\"45.496\" cy=\"-162\" rx=\"45.4919\" ry=\"18\"/>\n",
       "<text text-anchor=\"middle\" x=\"45.496\" y=\"-158.3\" font-family=\"Times,serif\" font-size=\"14.00\">Difficulty</text>\n",
       "</g>\n",
       "<!-- Grade -->\n",
       "<g id=\"node2\" class=\"node\"><title>Grade</title>\n",
       "<ellipse fill=\"none\" stroke=\"black\" cx=\"63.496\" cy=\"-90\" rx=\"32.4942\" ry=\"18\"/>\n",
       "<text text-anchor=\"middle\" x=\"63.496\" y=\"-86.3\" font-family=\"Times,serif\" font-size=\"14.00\">Grade</text>\n",
       "</g>\n",
       "<!-- Difficulty&#45;&gt;Grade -->\n",
       "<g id=\"edge1\" class=\"edge\"><title>Difficulty&#45;&gt;Grade</title>\n",
       "<path fill=\"none\" stroke=\"black\" d=\"M49.8533,-144.055C51.8574,-136.261 54.2846,-126.822 56.5328,-118.079\"/>\n",
       "<polygon fill=\"black\" stroke=\"black\" points=\"59.953,-118.832 59.0537,-108.275 53.1735,-117.089 59.953,-118.832\"/>\n",
       "</g>\n",
       "<!-- Letter -->\n",
       "<g id=\"node5\" class=\"node\"><title>Letter</title>\n",
       "<ellipse fill=\"none\" stroke=\"black\" cx=\"63.496\" cy=\"-18\" rx=\"31.6951\" ry=\"18\"/>\n",
       "<text text-anchor=\"middle\" x=\"63.496\" y=\"-14.3\" font-family=\"Times,serif\" font-size=\"14.00\">Letter</text>\n",
       "</g>\n",
       "<!-- Grade&#45;&gt;Letter -->\n",
       "<g id=\"edge4\" class=\"edge\"><title>Grade&#45;&gt;Letter</title>\n",
       "<path fill=\"none\" stroke=\"black\" d=\"M63.496,-71.6966C63.496,-63.9827 63.496,-54.7125 63.496,-46.1124\"/>\n",
       "<polygon fill=\"black\" stroke=\"black\" points=\"66.9961,-46.1043 63.496,-36.1043 59.9961,-46.1044 66.9961,-46.1043\"/>\n",
       "</g>\n",
       "<!-- Intelligence -->\n",
       "<g id=\"node3\" class=\"node\"><title>Intelligence</title>\n",
       "<ellipse fill=\"none\" stroke=\"black\" cx=\"160.496\" cy=\"-162\" rx=\"51.9908\" ry=\"18\"/>\n",
       "<text text-anchor=\"middle\" x=\"160.496\" y=\"-158.3\" font-family=\"Times,serif\" font-size=\"14.00\">Intelligence</text>\n",
       "</g>\n",
       "<!-- Intelligence&#45;&gt;Grade -->\n",
       "<g id=\"edge2\" class=\"edge\"><title>Intelligence&#45;&gt;Grade</title>\n",
       "<path fill=\"none\" stroke=\"black\" d=\"M138.969,-145.465C124.878,-135.296 106.334,-121.914 91.1537,-110.959\"/>\n",
       "<polygon fill=\"black\" stroke=\"black\" points=\"92.8208,-107.846 82.6637,-104.832 88.7245,-113.522 92.8208,-107.846\"/>\n",
       "</g>\n",
       "<!-- SAT -->\n",
       "<g id=\"node4\" class=\"node\"><title>SAT</title>\n",
       "<ellipse fill=\"none\" stroke=\"black\" cx=\"160.496\" cy=\"-90\" rx=\"27.0966\" ry=\"18\"/>\n",
       "<text text-anchor=\"middle\" x=\"160.496\" y=\"-86.3\" font-family=\"Times,serif\" font-size=\"14.00\">SAT</text>\n",
       "</g>\n",
       "<!-- Intelligence&#45;&gt;SAT -->\n",
       "<g id=\"edge3\" class=\"edge\"><title>Intelligence&#45;&gt;SAT</title>\n",
       "<path fill=\"none\" stroke=\"black\" d=\"M160.496,-143.697C160.496,-135.983 160.496,-126.712 160.496,-118.112\"/>\n",
       "<polygon fill=\"black\" stroke=\"black\" points=\"163.996,-118.104 160.496,-108.104 156.996,-118.104 163.996,-118.104\"/>\n",
       "</g>\n",
       "</g>\n",
       "</svg>\n"
      ],
      "text/plain": [
       "<graphviz.dot.Digraph at 0x7fe0799a1400>"
      ]
     },
     "execution_count": 6,
     "metadata": {},
     "output_type": "execute_result"
    }
   ],
   "source": [
    "b_student = Digraph()\n",
    "b_student.edge('Difficulty', 'Grade')\n",
    "b_student.edge('Intelligence', 'Grade')\n",
    "b_student.edge('Intelligence', 'SAT')\n",
    "b_student.edge('Grade', 'Letter')\n",
    "b_student"
   ]
  },
  {
   "cell_type": "code",
   "execution_count": 28,
   "metadata": {
    "ExecuteTime": {
     "end_time": "2016-06-08T00:19:57.377467",
     "start_time": "2016-06-08T00:19:57.372207"
    },
    "collapsed": false
   },
   "outputs": [
    {
     "data": {
      "text/plain": [
       "array([], shape=(2, 0), dtype=float64)"
      ]
     },
     "execution_count": 28,
     "metadata": {},
     "output_type": "execute_result"
    }
   ],
   "source": [
    "np.empty([2, 0])"
   ]
  },
  {
   "cell_type": "code",
   "execution_count": 105,
   "metadata": {
    "ExecuteTime": {
     "end_time": "2016-06-08T01:14:40.024972",
     "start_time": "2016-06-08T01:14:39.932410"
    },
    "collapsed": false
   },
   "outputs": [
    {
     "name": "stdout",
     "output_type": "stream",
     "text": [
      "0.08\n"
     ]
    }
   ],
   "source": [
    "class CPD:\n",
    "    def __init__(self, base, card_base, \n",
    "                 parents=None, card_parents=None,\n",
    "                 ix_start_base = 0, ixs_start_parents=None\n",
    "                ):\n",
    "        self.base = base\n",
    "        self.parents = parents\n",
    "        self.data = np.empty([0, card_base])\n",
    "        self.card_base = card_base\n",
    "        self.card_parents = card_parents\n",
    "        self.ix_by_row_names = {}\n",
    "        self.ix_by_col_names = {}\n",
    "        self.ix_start_base = ix_start_base\n",
    "        self.ixs_start_parents = ixs_start_parents\n",
    "        \n",
    "    def add(self, arr_probs, row_name=None):\n",
    "        if (type(arr_probs) is list):\n",
    "            arr_probs = np.array(arr_probs)\n",
    "        # very inefficient\n",
    "        if self.parents is None:\n",
    "            self.data = arr_probs\n",
    "        else:\n",
    "            self.data = np.concatenate((self.data, arr_probs), axis=0)\n",
    "        self.update_col_names(row_name)\n",
    "\n",
    "    # row_name should be computed automatically\n",
    "    def update_col_names(self, row_name=None):\n",
    "        ix_curr = self.data.shape[0]-1\n",
    "        self.ix_by_col_names[row_name] = ix_curr\n",
    "        \n",
    "    def get(self, ix_col, row_name=None):\n",
    "        ix_row = self.ix_by_col_names[row_name]\n",
    "        return self.data[ix_row][ix_col]\n",
    "    \n",
    "    # cpd['s_1 | i_1']\n",
    "    def __getitem__(self, str_index):\n",
    "        if(str_index.find('|') == -1):\n",
    "            str_col, str_row = str_index, None\n",
    "        else:\n",
    "            str_col, str_row = str_index.split('|')\n",
    "        \n",
    "        ix_col = int(str_col.split('_')[-1]) - self.ix_start_base\n",
    "        if str_row is None:\n",
    "            return self.data[ix_col]\n",
    "        \n",
    "        ix_rows = [int(xx.split('_')[-1]) for xx in str_row.split(',')]\n",
    "        ix_row_final = ix_rows[-1] - self.get_base(-1)\n",
    "        sz_tmp = self.card_parents[-1]\n",
    "        for ix, ix_row in enumerate(ix_rows[-2::-1]):\n",
    "            ix_ix_curr = -ix-2\n",
    "            ix_row_actual = ix_row - self.get_base(ix_ix_curr)\n",
    "            ix_row_final += (ix_row_actual)*sz_tmp\n",
    "            sz_tmp *= self.card_parents[ix_ix_curr]\n",
    "        return self.data[ix_row_final][ix_col]\n",
    "    \n",
    "    def get_base(self, ix_ix_curr):\n",
    "        if(self.ixs_start_parents is None):\n",
    "            return 0\n",
    "        else:\n",
    "            return self.ixs_start_parents[ix_ix_curr]\n",
    "    \n",
    "cpd_grade_g_intel_diff = CPD('Grade', 3, \n",
    "                             ['Intelligence', 'Difficulty'], [2,2],\n",
    "                             ix_start_base=1)\n",
    "cpd_grade_g_intel_diff.add([[0.3,0.4,0.3]],   'i_0,d_0')\n",
    "cpd_grade_g_intel_diff.add([[0.05,0.25,0.7]], 'i_0,d_1')\n",
    "cpd_grade_g_intel_diff.add([[0.9,0.08,0.02]], 'i_1,d_0')\n",
    "cpd_grade_g_intel_diff.add([[0.5,0.3,0.2]],   'i_1,d_1')\n",
    "\n",
    "print(cpd_grade_g_intel_diff['g_2 | i_1,d_0'])\n"
   ]
  },
  {
   "cell_type": "code",
   "execution_count": 80,
   "metadata": {
    "ExecuteTime": {
     "end_time": "2016-06-08T01:01:34.384682",
     "start_time": "2016-06-08T01:01:34.381862"
    },
    "collapsed": false
   },
   "outputs": [
    {
     "data": {
      "text/plain": [
       "-1"
      ]
     },
     "execution_count": 80,
     "metadata": {},
     "output_type": "execute_result"
    }
   ],
   "source": [
    "'g_2 | i_1,d_0'.find('=')"
   ]
  },
  {
   "cell_type": "code",
   "execution_count": 123,
   "metadata": {
    "ExecuteTime": {
     "end_time": "2016-06-08T01:19:07.006757",
     "start_time": "2016-06-08T01:19:07.003266"
    },
    "collapsed": false
   },
   "outputs": [
    {
     "name": "stdout",
     "output_type": "stream",
     "text": [
      "cpd -- Difficulty\n",
      "0.6 0.4\n"
     ]
    }
   ],
   "source": [
    "cpd_diff = CPD('Difficulty', 2)\n",
    "cpd_diff.add([0.6,0.4])\n",
    "print('cpd -- Difficulty')\n",
    "print(cpd_diff['d_0'], cpd_diff['d_1'])"
   ]
  },
  {
   "cell_type": "code",
   "execution_count": 122,
   "metadata": {
    "ExecuteTime": {
     "end_time": "2016-06-08T01:19:06.332511",
     "start_time": "2016-06-08T01:19:06.328843"
    },
    "collapsed": false
   },
   "outputs": [
    {
     "name": "stdout",
     "output_type": "stream",
     "text": [
      "\n",
      "cpd -- Intelligence\n",
      "0.7 0.3\n"
     ]
    }
   ],
   "source": [
    "cpd_intel = CPD('Intelligence', 2)\n",
    "cpd_intel.add([0.7,0.3])\n",
    "print('\\ncpd -- Intelligence')\n",
    "print(cpd_intel['i_0'], cpd_intel['i_1'])"
   ]
  },
  {
   "cell_type": "code",
   "execution_count": 121,
   "metadata": {
    "ExecuteTime": {
     "end_time": "2016-06-08T01:19:05.678580",
     "start_time": "2016-06-08T01:19:05.673997"
    },
    "collapsed": false
   },
   "outputs": [
    {
     "name": "stdout",
     "output_type": "stream",
     "text": [
      "\n",
      "cpd -- SAT | Intelligence\n",
      "0.95 0.05\n",
      "0.2 0.8\n"
     ]
    }
   ],
   "source": [
    "cpd_sat_g_intel = CPD('SAT', 2, ['Intelligence'], [2])\n",
    "cpd_sat_g_intel.add([[0.95, 0.05]], 'i_0')\n",
    "cpd_sat_g_intel.add([[0.2, 0.8]],   'i_1')\n",
    "print('\\ncpd -- SAT | Intelligence')\n",
    "print(cpd_sat_g_intel['s_0 | i_0'], cpd_sat_g_intel['s_1 | i_0'])\n",
    "print(cpd_sat_g_intel['s_0 | i_1'], cpd_sat_g_intel['s_1 | i_1'])"
   ]
  },
  {
   "cell_type": "code",
   "execution_count": 120,
   "metadata": {
    "ExecuteTime": {
     "end_time": "2016-06-08T01:19:04.609013",
     "start_time": "2016-06-08T01:19:04.595596"
    },
    "collapsed": false
   },
   "outputs": [
    {
     "name": "stdout",
     "output_type": "stream",
     "text": [
      "\n",
      "cpd -- Letter | Grade\n",
      "0.1 0.9\n",
      "0.4 0.6\n",
      "0.99 0.01\n"
     ]
    }
   ],
   "source": [
    "cpd_letter_g_grade = CPD('Letter', 2,\n",
    "                         'Grade', [3],\n",
    "                         ixs_start_parents=[1])\n",
    "cpd_letter_g_grade.add([[0.1,0.9]])\n",
    "cpd_letter_g_grade.add([[0.4, 0.6]])\n",
    "cpd_letter_g_grade.add([[0.99, 0.01]])\n",
    "print('\\ncpd -- Letter | Grade')\n",
    "print(cpd_letter_g_grade['l_0 | g_1'], cpd_letter_g_grade['l_1 | g_1'])\n",
    "print(cpd_letter_g_grade['l_0 | g_2'], cpd_letter_g_grade['l_1 | g_2'])\n",
    "print(cpd_letter_g_grade['l_0 | g_3'], cpd_letter_g_grade['l_1 | g_3'])"
   ]
  },
  {
   "cell_type": "code",
   "execution_count": 119,
   "metadata": {
    "ExecuteTime": {
     "end_time": "2016-06-08T01:19:02.203962",
     "start_time": "2016-06-08T01:19:02.188632"
    },
    "collapsed": false
   },
   "outputs": [
    {
     "name": "stdout",
     "output_type": "stream",
     "text": [
      "\n",
      "cpd -- Grade | Intelligence, Difficulty\n",
      "0.3 0.4 0.3\n",
      "0.05 0.25 0.7\n",
      "0.9 0.08 0.02\n",
      "0.5 0.3 0.2\n"
     ]
    }
   ],
   "source": [
    "cpd_grade_g_intel_diff = CPD('Grade', 3, \n",
    "                             ['Intelligence', 'Difficulty'], [2,2],\n",
    "                             ix_start_base=1)\n",
    "cpd_grade_g_intel_diff.add([[0.3,0.4,0.3]],   'i_0,d_0')\n",
    "cpd_grade_g_intel_diff.add([[0.05,0.25,0.7]], 'i_0,d_1')\n",
    "cpd_grade_g_intel_diff.add([[0.9,0.08,0.02]], 'i_1,d_0')\n",
    "cpd_grade_g_intel_diff.add([[0.5,0.3,0.2]],   'i_1,d_1')\n",
    "print('\\ncpd -- Grade | Intelligence, Difficulty')\n",
    "print(cpd_grade_g_intel_diff['g_1 | i_0,d_0'],\n",
    "      cpd_grade_g_intel_diff['g_2 | i_0,d_0'],\n",
    "      cpd_grade_g_intel_diff['g_3 | i_0,d_0'])\n",
    "print(cpd_grade_g_intel_diff['g_1 | i_0,d_1'],\n",
    "      cpd_grade_g_intel_diff['g_2 | i_0,d_1'],\n",
    "      cpd_grade_g_intel_diff['g_3 | i_0,d_1'])\n",
    "print(cpd_grade_g_intel_diff['g_1 | i_1,d_0'],\n",
    "      cpd_grade_g_intel_diff['g_2 | i_1,d_0'],\n",
    "      cpd_grade_g_intel_diff['g_3 | i_1,d_0'])\n",
    "print(cpd_grade_g_intel_diff['g_1 | i_1,d_1'],\n",
    "      cpd_grade_g_intel_diff['g_2 | i_1,d_1'],\n",
    "      cpd_grade_g_intel_diff['g_3 | i_1,d_1'])"
   ]
  },
  {
   "cell_type": "code",
   "execution_count": 134,
   "metadata": {
    "ExecuteTime": {
     "end_time": "2016-06-08T01:24:27.478864",
     "start_time": "2016-06-08T01:24:27.476787"
    },
    "collapsed": true
   },
   "outputs": [],
   "source": [
    "a = list(range(20))"
   ]
  },
  {
   "cell_type": "code",
   "execution_count": 142,
   "metadata": {
    "ExecuteTime": {
     "end_time": "2016-06-08T01:33:25.111296",
     "start_time": "2016-06-08T01:33:25.106690"
    },
    "collapsed": true
   },
   "outputs": [],
   "source": [
    "result_1 = cpd_intel['i_1'] * \\\n",
    "cpd_diff['d_0'] *\\\n",
    "cpd_grade_g_intel_diff['g_2 | i_1,d_0'] *\\\n",
    "cpd_sat_g_intel['s_1 | i_1'] *\\\n",
    "cpd_letter_g_grade['l_0 | g_2']"
   ]
  },
  {
   "cell_type": "markdown",
   "metadata": {
    "variables": {
     "'%.2f' % cpd_diff['d_0']": "0.60",
     "'%.2f' % cpd_grade_g_intel_diff['g_2 | i_1,d_0']": "0.08",
     "'%.2f' % cpd_intel['i_1']": "0.30",
     "'%.2f' % cpd_letter_g_grade['l_0 | g_2']": "0.40",
     "'%.2f' % cpd_sat_g_intel['s_1 | i_1']": "0.80",
     "'%.6f' % result_1": "0.004608"
    }
   },
   "source": [
    "$P(i^1, d^0, g^2, s^1, l^0) = \n",
    "P(i^1) P(d^0) P(g^2 \\mid i^1, d^0) P(s^1 \\mid i^1)\n",
    "P(l^0 \\mid g^2)\n",
    "$\n",
    "\n",
    "= {{'%.2f' % cpd_intel['i_1']}} . \n",
    "{{'%.2f' % cpd_diff['d_0']}} .\n",
    "{{'%.2f' % cpd_grade_g_intel_diff['g_2 | i_1,d_0']}} .\n",
    "{{'%.2f' % cpd_sat_g_intel['s_1 | i_1']}}.\n",
    "{{'%.2f' % cpd_letter_g_grade['l_0 | g_2']}}\n",
    "\n",
    "= {{'%.6f' % result_1}}"
   ]
  },
  {
   "cell_type": "markdown",
   "metadata": {},
   "source": []
  },
  {
   "cell_type": "markdown",
   "metadata": {},
   "source": []
  },
  {
   "cell_type": "markdown",
   "metadata": {},
   "source": []
  },
  {
   "cell_type": "code",
   "execution_count": null,
   "metadata": {
    "collapsed": true,
    "run_control": {
     "frozen": false,
     "read_only": false
    }
   },
   "outputs": [],
   "source": []
  }
 ],
 "metadata": {
  "hide_input": false,
  "kernelspec": {
   "display_name": "Python 3",
   "language": "python",
   "name": "python3"
  },
  "language_info": {
   "codemirror_mode": {
    "name": "ipython",
    "version": 3
   },
   "file_extension": ".py",
   "mimetype": "text/x-python",
   "name": "python",
   "nbconvert_exporter": "python",
   "pygments_lexer": "ipython3",
   "version": "3.5.1+"
  },
  "latex_envs": {
   "bibliofile": "biblio.bib",
   "cite_by": "apalike",
   "current_citInitial": 1,
   "eqLabelWithNumbers": true,
   "eqNumInitial": 0
  },
  "toc": {
   "toc_cell": false,
   "toc_number_sections": true,
   "toc_threshold": 6,
   "toc_window_display": false
  },
  "widgets": {
   "state": {},
   "version": "1.1.0"
  }
 },
 "nbformat": 4,
 "nbformat_minor": 0
}
