{
 "cells": [
  {
   "cell_type": "code",
   "execution_count": 27,
   "metadata": {
    "ExecuteTime": {
     "end_time": "2017-06-23T20:26:31.106298Z",
     "start_time": "2017-06-23T20:26:30.698Z"
    }
   },
   "outputs": [
    {
     "name": "stdout",
     "output_type": "stream",
     "text": [
      "scala version: version 2.11.8\n"
     ]
    }
   ],
   "source": [
    "println(\"scala version: \" + util.Properties.versionString)"
   ]
  },
  {
   "cell_type": "code",
   "execution_count": 2,
   "metadata": {
    "ExecuteTime": {
     "end_time": "2017-06-23T20:13:11.662040Z",
     "start_time": "2017-06-23T20:13:09.964Z"
    }
   },
   "outputs": [
    {
     "data": {
      "text/plain": [
       "\u001b[32mimport \u001b[39m\u001b[36m$ivy.$                                   \u001b[39m"
      ]
     },
     "execution_count": 2,
     "metadata": {},
     "output_type": "execute_result"
    }
   ],
   "source": [
    "import $ivy.`com.cra.figaro:figaro_2.11:4.1.0.0`"
   ]
  },
  {
   "cell_type": "code",
   "execution_count": 4,
   "metadata": {
    "ExecuteTime": {
     "end_time": "2017-06-23T20:13:24.829091Z",
     "start_time": "2017-06-23T20:13:24.386Z"
    }
   },
   "outputs": [
    {
     "data": {
      "text/plain": [
       "\u001b[32mimport \u001b[39m\u001b[36mcom.cra.figaro\n",
       "\u001b[39m\n",
       "\u001b[32mimport \u001b[39m\u001b[36mfigaro.language.{Flip, Select}\n",
       "\u001b[39m\n",
       "\u001b[32mimport \u001b[39m\u001b[36mfigaro.library.compound.If\n",
       "\u001b[39m\n",
       "\u001b[32mimport \u001b[39m\u001b[36mfigaro.algorithm.factored.VariableElimination\n",
       "\u001b[39m\n",
       "\u001b[32mimport \u001b[39m\u001b[36mfigaro.language._\u001b[39m"
      ]
     },
     "execution_count": 4,
     "metadata": {},
     "output_type": "execute_result"
    }
   ],
   "source": [
    "import com.cra.figaro\n",
    "import figaro.language.{Flip, Select}\n",
    "import figaro.library.compound.If\n",
    "import figaro.algorithm.factored.VariableElimination\n",
    "import figaro.language._"
   ]
  },
  {
   "cell_type": "code",
   "execution_count": 28,
   "metadata": {
    "ExecuteTime": {
     "end_time": "2017-06-23T20:27:46.865299Z",
     "start_time": "2017-06-23T20:27:45.576Z"
    }
   },
   "outputs": [
    {
     "data": {
      "text/plain": [
       "\u001b[36msunnyToday\u001b[39m: \u001b[32mAtomicFlip\u001b[39m = Flip(0.2)\n",
       "\u001b[36mgreetingToday\u001b[39m: \u001b[32mIf\u001b[39m[\u001b[32mString\u001b[39m] = If(Flip(0.2), Select(0.6 -> Hello, world!, 0.4 -> Howdy, universe!), Select(0.2 -> Hello, world!, 0.8 -> Oh no, not again))\n",
       "\u001b[36msunnyTomorrow\u001b[39m: \u001b[32mIf\u001b[39m[\u001b[32mBoolean\u001b[39m] = If(Flip(0.2), Flip(0.8), Flip(0.05))\n",
       "\u001b[36mgreetingTomorrow\u001b[39m: \u001b[32mIf\u001b[39m[\u001b[32mString\u001b[39m] = If(If(Flip(0.2), Flip(0.8), Flip(0.05)), Select(0.6 -> Hello, world!, 0.4 -> Howdy, universe!), Select(0.2 -> Hello, world!, 0.8 -> Oh no, not again))"
      ]
     },
     "execution_count": 28,
     "metadata": {},
     "output_type": "execute_result"
    }
   ],
   "source": [
    "val sunnyToday = Flip(0.2)\n",
    "val greetingToday = If(\n",
    "    sunnyToday,\n",
    "    Select(\n",
    "        0.6 -> \"Hello, world!\",\n",
    "        0.4 -> \"Howdy, universe!\"\n",
    "    ),\n",
    "    Select(\n",
    "        0.2 -> \"Hello, world!\",\n",
    "        0.8 -> \"Oh no, not again\"\n",
    "    )\n",
    ")\n",
    "val sunnyTomorrow = If(\n",
    "    sunnyToday, \n",
    "    Flip(0.8), Flip(0.05))\n",
    "val greetingTomorrow = If(\n",
    "    sunnyTomorrow,\n",
    "    Select(\n",
    "        0.6 -> \"Hello, world!\",\n",
    "        0.4 -> \"Howdy, universe!\"\n",
    "    ),\n",
    "    Select(\n",
    "        0.2 -> \"Hello, world!\",\n",
    "        0.8 -> \"Oh no, not again\"\n",
    "    )\n",
    ")"
   ]
  },
  {
   "cell_type": "code",
   "execution_count": 32,
   "metadata": {
    "ExecuteTime": {
     "end_time": "2017-06-23T20:28:44.035323Z",
     "start_time": "2017-06-23T20:28:43.702Z"
    }
   },
   "outputs": [
    {
     "data": {
      "text/plain": [
       "\u001b[36mres31\u001b[39m: \u001b[32msunnyToday\u001b[39m.\u001b[32mValue\u001b[39m = \u001b[32mfalse\u001b[39m"
      ]
     },
     "execution_count": 32,
     "metadata": {},
     "output_type": "execute_result"
    }
   ],
   "source": [
    "sunnyToday.value"
   ]
  },
  {
   "cell_type": "code",
   "execution_count": 29,
   "metadata": {
    "ExecuteTime": {
     "end_time": "2017-06-23T20:27:50.354285Z",
     "start_time": "2017-06-23T20:27:49.963Z"
    }
   },
   "outputs": [
    {
     "name": "stdout",
     "output_type": "stream",
     "text": [
      "Today's greeting is \"Hello, world!\" with probability 0.27999999999999997.\n"
     ]
    },
    {
     "data": {
      "text/plain": [
       "defined \u001b[32mfunction\u001b[39m \u001b[36mpredict\u001b[39m"
      ]
     },
     "execution_count": 29,
     "metadata": {},
     "output_type": "execute_result"
    }
   ],
   "source": [
    "def predict() = {\n",
    "    val result = VariableElimination.probability(\n",
    "        greetingToday, \"Hello, world!\"\n",
    "    )\n",
    "    println(\"Today's greeting is \\\"Hello, world!\\\" \" +\n",
    "            \"with probability \" + result + \".\"\n",
    "           )\n",
    "}\n",
    "\n",
    "predict()"
   ]
  },
  {
   "cell_type": "code",
   "execution_count": 25,
   "metadata": {
    "ExecuteTime": {
     "end_time": "2017-06-23T20:23:51.689112Z",
     "start_time": "2017-06-23T20:23:51.304Z"
    }
   },
   "outputs": [
    {
     "name": "stdout",
     "output_type": "stream",
     "text": [
      "If today's greeting is \"Hello, world!\", today's weather is sunny with a probability 0.4285714285714285.\n"
     ]
    },
    {
     "data": {
      "text/plain": [
       "defined \u001b[32mfunction\u001b[39m \u001b[36minfer\u001b[39m"
      ]
     },
     "execution_count": 25,
     "metadata": {},
     "output_type": "execute_result"
    }
   ],
   "source": [
    "def infer() = {\n",
    "    greetingToday.observe(\"Hello, world!\")\n",
    "    val result = \n",
    "        VariableElimination.probability(sunnyToday, true)\n",
    "    println(\"\"\"If today's greeting is \"Hello, world!\",\n",
    "             | today's weather is sunny with a probability \"\"\".stripMargin.replaceAll(\"\\n\",\"\") \n",
    "            + result + \".\"\n",
    "    )\n",
    "}\n",
    "infer()"
   ]
  },
  {
   "cell_type": "code",
   "execution_count": 26,
   "metadata": {
    "ExecuteTime": {
     "end_time": "2017-06-23T20:26:04.998555Z",
     "start_time": "2017-06-23T20:26:04.584Z"
    }
   },
   "outputs": [
    {
     "name": "stdout",
     "output_type": "stream",
     "text": [
      "if today's greeting is \"Hello, world!\",  tomorrow's greeting will be \"Hello, world!\" with prob 0.3485714285714286.\n"
     ]
    },
    {
     "data": {
      "text/plain": [
       "defined \u001b[32mfunction\u001b[39m \u001b[36mlearnAndPredict\u001b[39m"
      ]
     },
     "execution_count": 26,
     "metadata": {},
     "output_type": "execute_result"
    }
   ],
   "source": [
    "def learnAndPredict() = {\n",
    "    greetingToday.observe(\"Hello, world!\")\n",
    "    val result = VariableElimination.probability(\n",
    "        greetingTomorrow, \"Hello, world!\"\n",
    "    )\n",
    "    println(\"\"\"if today's greeting is \"Hello, world!\", \n",
    "             | tomorrow's greeting will be \"Hello, world!\"\n",
    "             | with prob \"\"\".stripMargin.replaceAll(\"\\n\",\"\")\n",
    "           + result + \".\")\n",
    "}\n",
    "learnAndPredict"
   ]
  },
  {
   "cell_type": "code",
   "execution_count": null,
   "metadata": {},
   "outputs": [],
   "source": []
  },
  {
   "cell_type": "code",
   "execution_count": null,
   "metadata": {},
   "outputs": [],
   "source": []
  },
  {
   "cell_type": "code",
   "execution_count": null,
   "metadata": {},
   "outputs": [],
   "source": []
  },
  {
   "cell_type": "code",
   "execution_count": null,
   "metadata": {},
   "outputs": [],
   "source": []
  }
 ],
 "metadata": {
  "hide_input": false,
  "kernelspec": {
   "display_name": "Scala",
   "language": "scala",
   "name": "scala"
  },
  "language_info": {
   "codemirror_mode": "text/x-scala",
   "file_extension": ".scala",
   "mimetype": "text/x-scala",
   "name": "scala211",
   "nbconvert_exporter": "scala",
   "pygments_lexer": "scala",
   "version": "2.11.8"
  },
  "toc": {
   "colors": {
    "hover_highlight": "#DAA520",
    "running_highlight": "#FF0000",
    "selected_highlight": "#FFD700"
   },
   "moveMenuLeft": true,
   "nav_menu": {
    "height": "12px",
    "width": "252px"
   },
   "navigate_menu": true,
   "number_sections": true,
   "sideBar": true,
   "threshold": 4,
   "toc_cell": false,
   "toc_section_display": "block",
   "toc_window_display": false,
   "widenNotebook": false
  },
  "varInspector": {
   "cols": {
    "lenName": 16,
    "lenType": 16,
    "lenVar": 40
   },
   "kernels_config": {
    "python": {
     "delete_cmd_postfix": "",
     "delete_cmd_prefix": "del ",
     "library": "var_list.py",
     "varRefreshCmd": "print(var_dic_list())"
    },
    "r": {
     "delete_cmd_postfix": ") ",
     "delete_cmd_prefix": "rm(",
     "library": "var_list.r",
     "varRefreshCmd": "cat(var_dic_list()) "
    }
   },
   "types_to_exclude": [
    "module",
    "function",
    "builtin_function_or_method",
    "instance",
    "_Feature"
   ],
   "window_display": false
  }
 },
 "nbformat": 4,
 "nbformat_minor": 2
}
