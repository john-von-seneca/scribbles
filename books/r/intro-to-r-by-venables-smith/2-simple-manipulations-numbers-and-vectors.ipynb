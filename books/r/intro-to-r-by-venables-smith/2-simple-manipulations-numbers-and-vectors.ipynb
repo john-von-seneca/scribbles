{
 "cells": [
  {
   "cell_type": "markdown",
   "metadata": {},
   "source": [
    "# Vectors and assignment"
   ]
  },
  {
   "cell_type": "markdown",
   "metadata": {},
   "source": [
    "```r\n",
    "c(<csv>)\n",
    "```\n",
    "will create a vector"
   ]
  },
  {
   "cell_type": "code",
   "metadata": {},
   "outputs": [],
   "source": [
    "x <- c(10.4, 5.6, 3.1, 6.4, 21.7)\n",
    "x"
   ]
  },
  {
   "cell_type": "markdown",
   "metadata": {},
   "source": [
    "```r\n",
    "assign(\"x\", c(10.4, 5.6, 3.1, 6.4, 21.7))\n",
    "```\n",
    "is the same as above"
   ]
  },
  {
   "cell_type": "markdown",
   "metadata": {},
   "source": [
    "you can do it the other \"direction\" as well\n",
    "```r\n",
    "c(10.4, 5.6, 3.1, 6.4, 21.7) -> x\n",
    "```"
   ]
  },
  {
   "cell_type": "markdown",
   "metadata": {},
   "source": [
    "## last value\n",
    "\n",
    "```r\n",
    ".Last.value\n",
    "```"
   ]
  },
  {
   "cell_type": "code",
   "metadata": {},
   "outputs": [],
   "source": [
    ".Last.value"
   ]
  },
  {
   "cell_type": "code",
   "metadata": {},
   "outputs": [],
   "source": [
    "1-4"
   ]
  },
  {
   "cell_type": "code",
   "metadata": {},
   "outputs": [],
   "source": [
    ".Last.value"
   ]
  },
  {
   "cell_type": "markdown",
   "metadata": {},
   "source": [
    "## concatenation of assorted items"
   ]
  },
  {
   "cell_type": "markdown",
   "metadata": {},
   "source": [
    "```r\n",
    "y = c(x, 0, x)\n",
    "```\n",
    "will create b consisting of two \"copies\" of x with 0 in the middle"
   ]
  },
  {
   "cell_type": "code",
   "metadata": {},
   "outputs": [],
   "source": [
    "y = c(x, 0, x)\n",
    "y"
   ]
  },
  {
   "cell_type": "code",
   "metadata": {},
   "outputs": [],
   "source": [
    "x[1] = 5\n",
    "x"
   ]
  },
  {
   "cell_type": "code",
   "metadata": {},
   "outputs": [],
   "source": [
    "y"
   ]
  },
  {
   "cell_type": "markdown",
   "metadata": {},
   "source": [
    "# Vector arithmetic"
   ]
  },
  {
   "cell_type": "markdown",
   "metadata": {},
   "source": [
    "```r\n",
    "v = 2*x + y + 1\n",
    "```\n",
    "\n",
    "will make every element to the size of the max element, by repeating. the result would be a vector of the size |max-element-size|"
   ]
  },
  {
   "cell_type": "markdown",
   "metadata": {},
   "source": [
    "Here y is of size 3, x is of size 5.  \n",
    "so y is repeated twice, only 5 elements retained, the tail is discarded"
   ]
  },
  {
   "cell_type": "code",
   "metadata": {},
   "outputs": [],
   "source": [
    "x = c(1,1,1,1,1)\n",
    "y = c(10,20,30)\n",
    "v = 2*x + y + 1\n",
    "v"
   ]
  },
  {
   "cell_type": "markdown",
   "metadata": {},
   "source": [
    "## frequently used"
   ]
  },
  {
   "cell_type": "markdown",
   "metadata": {},
   "source": [
    "^ : raising to a power"
   ]
  },
  {
   "cell_type": "markdown",
   "metadata": {},
   "source": [
    "```r\n",
    "range(x) = c(min(x), max(x))\n",
    "```"
   ]
  },
  {
   "cell_type": "markdown",
   "metadata": {},
   "source": [
    "```r\n",
    "length(x)\n",
    "sum(x)\n",
    "prod(x)\n",
    "```"
   ]
  },
  {
   "cell_type": "markdown",
   "metadata": {},
   "source": [
    "## mean, var"
   ]
  },
  {
   "cell_type": "markdown",
   "metadata": {},
   "source": [
    "```r\n",
    "mean(x) == sum(x)/length(x)\n",
    "```"
   ]
  },
  {
   "cell_type": "markdown",
   "metadata": {},
   "source": [
    "```r\n",
    "var(x) = sum((x-mean(x))^2) / (length(x)-1)\n",
    "```\n",
    "\n",
    "if x is a $n \\times p$ matrix, then the output is a $p \\times p$ matrix, rows regarded as sample vectors"
   ]
  },
  {
   "cell_type": "markdown",
   "metadata": {},
   "source": [
    "## sort"
   ]
  },
  {
   "cell_type": "markdown",
   "metadata": {},
   "source": [
    "```r\n",
    "sort(x)\n",
    "```\n",
    "\n",
    "others: \n",
    "```r\n",
    "order(x)\n",
    "sort.list()\n",
    "```"
   ]
  },
  {
   "cell_type": "markdown",
   "metadata": {},
   "source": [
    "## parallel min, max"
   ]
  },
  {
   "cell_type": "markdown",
   "metadata": {},
   "source": [
    "```r\n",
    "pmax()\n",
    "pmin()\n",
    "```\n",
    "are the parallel equivalents"
   ]
  },
  {
   "cell_type": "markdown",
   "metadata": {},
   "source": [
    "## storage"
   ]
  },
  {
   "cell_type": "markdown",
   "metadata": {},
   "source": [
    "numbers are stored as double precision reals or complex numbers"
   ]
  },
  {
   "cell_type": "markdown",
   "metadata": {},
   "source": [
    "## complex numbers"
   ]
  },
  {
   "cell_type": "markdown",
   "metadata": {},
   "source": [
    "```r\n",
    "sqrt(-1)\n",
    "```\n",
    "gives NaN\n",
    "\n",
    "right way:\n",
    "```r\n",
    "sqrt(-1+0i)\n",
    "```"
   ]
  },
  {
   "cell_type": "code",
   "metadata": {},
   "outputs": [],
   "source": [
    "sqrt(-1)"
   ]
  },
  {
   "cell_type": "code",
   "metadata": {},
   "outputs": [],
   "source": [
    "sqrt(-1+0i)"
   ]
  },
  {
   "cell_type": "markdown",
   "metadata": {},
   "source": [
    "# Generating regular sequences"
   ]
  },
  {
   "cell_type": "markdown",
   "metadata": {},
   "source": [
    "## precedence\n",
    "\n",
    ": has a higher precedence"
   ]
  },
  {
   "cell_type": "code",
   "metadata": {},
   "outputs": [],
   "source": [
    "n = 5\n",
    "\n",
    "print(1:n-1)\n",
    "print(1:(n-1))"
   ]
  },
  {
   "cell_type": "code",
   "metadata": {},
   "outputs": [],
   "source": [
    "10:1"
   ]
  },
  {
   "cell_type": "markdown",
   "metadata": {},
   "source": [
    "## seq"
   ]
  },
  {
   "cell_type": "markdown",
   "metadata": {},
   "source": [
    "```r\n",
    "seq(from=,to=,length=,by=,along=)\n",
    "```"
   ]
  },
  {
   "cell_type": "code",
   "metadata": {},
   "outputs": [],
   "source": [
    "seq(-5, 5, by=.5)"
   ]
  },
  {
   "cell_type": "code",
   "metadata": {},
   "outputs": [],
   "source": [
    "seq(length=10, from=-5, by=.2)"
   ]
  },
  {
   "cell_type": "code",
   "metadata": {},
   "outputs": [],
   "source": [
    "seq(from=1, to=20, along=1:10)"
   ]
  },
  {
   "cell_type": "markdown",
   "metadata": {},
   "source": [
    "## rep"
   ]
  },
  {
   "cell_type": "markdown",
   "metadata": {},
   "source": [
    "```r\n",
    "rep(x, times=,each=)\n",
    "```"
   ]
  },
  {
   "cell_type": "markdown",
   "metadata": {},
   "source": [
    "times connects x tail to head said times"
   ]
  },
  {
   "cell_type": "code",
   "metadata": {},
   "outputs": [],
   "source": [
    "rep(1:5, times=3)"
   ]
  },
  {
   "cell_type": "markdown",
   "metadata": {},
   "source": [
    "each will repeat each element said times before moving on to the next element"
   ]
  },
  {
   "cell_type": "code",
   "metadata": {},
   "outputs": [],
   "source": [
    "rep(1:5, each=3)"
   ]
  },
  {
   "cell_type": "markdown",
   "metadata": {},
   "source": [
    "# Logical vectors"
   ]
  },
  {
   "cell_type": "markdown",
   "metadata": {},
   "source": [
    "```r\n",
    "TRUE\n",
    "FALSE\n",
    "T\n",
    "F\n",
    "NA\n",
    "```"
   ]
  },
  {
   "cell_type": "markdown",
   "metadata": {},
   "source": [
    "T and F are just variables and aint reserved.  \n",
    "better used TRUE and FALSE"
   ]
  },
  {
   "cell_type": "markdown",
   "metadata": {},
   "source": [
    "Generating by conditions"
   ]
  },
  {
   "cell_type": "code",
   "metadata": {},
   "outputs": [],
   "source": [
    "1:10>5"
   ]
  },
  {
   "cell_type": "markdown",
   "metadata": {},
   "source": [
    "## set operations"
   ]
  },
  {
   "cell_type": "markdown",
   "metadata": {},
   "source": [
    "**operators**  \n",
    "<. <=, >, >=, ==, !=\n",
    "\n",
    "**intersection**\n",
    "```r\n",
    "c1 & c2\n",
    "```\n",
    "\n",
    "**union**\n",
    "```r\n",
    "c1 | c2\n",
    "```\n",
    "\n",
    "**negation**\n",
    "```r\n",
    "!c1\n",
    "```"
   ]
  },
  {
   "cell_type": "markdown",
   "metadata": {},
   "source": [
    "In numerical arithmetic,  \n",
    "TRUE becomes 1  \n",
    "FALSE becomes 0"
   ]
  },
  {
   "cell_type": "markdown",
   "metadata": {},
   "source": [
    "# Missing Values"
   ]
  },
  {
   "cell_type": "markdown",
   "metadata": {},
   "source": [
    "## NA"
   ]
  },
  {
   "cell_type": "code",
   "metadata": {},
   "outputs": [],
   "source": [
    "is.na(c(1:3,NA))"
   ]
  },
  {
   "cell_type": "markdown",
   "metadata": {},
   "source": [
    "beware"
   ]
  },
  {
   "cell_type": "code",
   "metadata": {},
   "outputs": [],
   "source": [
    "c(1:3,NA) == NA"
   ]
  },
  {
   "cell_type": "markdown",
   "metadata": {},
   "source": [
    "## NaN"
   ]
  },
  {
   "cell_type": "code",
   "metadata": {},
   "outputs": [],
   "source": [
    "1/0"
   ]
  },
  {
   "cell_type": "code",
   "metadata": {},
   "outputs": [],
   "source": [
    "0/0"
   ]
  },
  {
   "cell_type": "code",
   "metadata": {},
   "outputs": [],
   "source": [
    "Inf - Inf"
   ]
  },
  {
   "cell_type": "markdown",
   "metadata": {},
   "source": [
    "# is.na, is.nan"
   ]
  },
  {
   "cell_type": "markdown",
   "metadata": {},
   "source": [
    "is.na is TRUE for *both* NA and NaN  \n",
    "is.nan is TRUE *only* for NaN"
   ]
  },
  {
   "cell_type": "code",
   "metadata": {},
   "outputs": [],
   "source": [
    "print(is.na(c(1:3,NA)))\n",
    "print(is.na(1/0))\n",
    "print(is.na(0/0))\n",
    "print(is.na(Inf-Inf))\n"
   ]
  },
  {
   "cell_type": "code",
   "metadata": {},
   "outputs": [],
   "source": [
    "print(is.nan(is.na(c(1:3,NA))))\n",
    "print(is.nan(1/0))\n",
    "print(is.nan(0/0))\n",
    "print(is.nan(Inf-Inf))"
   ]
  },
  {
   "cell_type": "markdown",
   "metadata": {},
   "source": [
    "# Character vectors"
   ]
  },
  {
   "cell_type": "markdown",
   "metadata": {},
   "source": [
    "double or single quotes, just like python  "
   ]
  },
  {
   "cell_type": "markdown",
   "metadata": {},
   "source": [
    "## escape sequences\n",
    "  1. \\\"\n",
    "  1. \\\\\n",
    "  1. \\t\n",
    "  1. \\n\n",
    "\n",
    "```r\n",
    "?Quotes\n",
    "```\n",
    "to get the full list of escape characters"
   ]
  },
  {
   "cell_type": "markdown",
   "metadata": {},
   "source": [
    "## paste"
   ]
  },
  {
   "cell_type": "markdown",
   "metadata": {},
   "source": [
    "```r\n",
    "paste(v1, v2, v3, ..., sep=)\n",
    "```\n",
    "zips v1,v2,v3,... by \"recycling\" them and joins the elements using sep"
   ]
  },
  {
   "cell_type": "code",
   "metadata": {},
   "outputs": [],
   "source": [
    "paste(c('X','Y'), c('A','B','C'), 1:10, sep=':')"
   ]
  },
  {
   "cell_type": "markdown",
   "metadata": {},
   "source": [
    "# indexing"
   ]
  },
  {
   "cell_type": "markdown",
   "metadata": {},
   "source": [
    "## logical vector"
   ]
  },
  {
   "cell_type": "markdown",
   "metadata": {},
   "source": [
    "recycles the index vector"
   ]
  },
  {
   "cell_type": "code",
   "metadata": {},
   "outputs": [],
   "source": [
    "x = c(-1:3, NA, -1:4, NA, 3)\n",
    "print(x)\n",
    "print(x[c(TRUE,FALSE)])\n",
    "print(x[!is.na(x)])\n",
    "print(x[!is.na(x) & x>0])"
   ]
  },
  {
   "cell_type": "markdown",
   "metadata": {},
   "source": [
    "## positive integers"
   ]
  },
  {
   "cell_type": "code",
   "metadata": {},
   "outputs": [],
   "source": [
    "c('x',1)[rep(c(1,2,2,1),times=4)]"
   ]
  },
  {
   "cell_type": "markdown",
   "metadata": {},
   "source": [
    "## negative integers"
   ]
  },
  {
   "cell_type": "markdown",
   "metadata": {},
   "source": [
    "negative indices are excluded"
   ]
  },
  {
   "cell_type": "code",
   "metadata": {},
   "outputs": [],
   "source": [
    "(1:10)[-seq(1,10,by = 2)]"
   ]
  },
  {
   "cell_type": "markdown",
   "metadata": {},
   "source": [
    "## character strings"
   ]
  },
  {
   "cell_type": "markdown",
   "metadata": {},
   "source": [
    "applies only if the vector has **names** attributes set"
   ]
  },
  {
   "cell_type": "code",
   "metadata": {},
   "outputs": [],
   "source": [
    "fruit = c(5,10,1,20)\n",
    "names(fruit) = c('orange','banana','apple','peach')\n",
    "fruit[c('banana','peach', 'berry')]"
   ]
  },
  {
   "cell_type": "markdown",
   "metadata": {},
   "source": [
    "## assignment"
   ]
  },
  {
   "cell_type": "code",
   "metadata": {},
   "outputs": [],
   "source": [
    "x = c(-1:3, NA, -1:4, NA, 3)\n",
    "print(x)\n",
    "x[is.na(x)] = 10\n",
    "print(x)"
   ]
  },
  {
   "cell_type": "markdown",
   "metadata": {},
   "source": [
    "```r\n",
    "y[y<0] = -y[y<0]\n",
    "```\n",
    "is the same as\n",
    "```r\n",
    "y = abs(y)\n",
    "```"
   ]
  },
  {
   "cell_type": "code",
   "metadata": {},
   "outputs": [],
   "source": [
    "y = (1:10) * c(-1,1)\n",
    "print(y)\n",
    "y[y<0] = -y[y<0]\n",
    "print(y)"
   ]
  },
  {
   "cell_type": "markdown",
   "metadata": {},
   "source": [
    "# other object types"
   ]
  },
  {
   "cell_type": "markdown",
   "metadata": {},
   "source": [
    "1. *matrices*:  or more generally, arrays\n",
    "1. *factors*: compact ways to handle categorical data \n",
    "1. *lists*: can have elements of different type\n",
    "1. *data frames*: matrix-like, cols of different types\n",
    "1. *functions*: are objects in R\n"
   ]
  }
 ],
 "metadata": {
  "hide_input": false,
  "kernelspec": {
   "display_name": "R",
   "language": "R",
   "name": "ir"
  },
  "language_info": {
   "codemirror_mode": "r",
   "file_extension": ".r",
   "mimetype": "text/x-r-source",
   "name": "R",
   "pygments_lexer": "r"
  },
  "latex_envs": {
   "bibliofile": "biblio.bib",
   "cite_by": "apalike",
   "current_citInitial": 1,
   "eqLabelWithNumbers": true,
   "eqNumInitial": 0
  },
  "toc": {
   "toc_cell": false,
   "toc_number_sections": true,
   "toc_section_display": "block",
   "toc_threshold": 6,
   "toc_window_display": true
  },
  "toc_position": {
   "height": "274px",
   "left": "602.747px",
   "right": "20px",
   "top": "109.957px",
   "width": "235px"
  }
 },
 "nbformat": 4,
 "nbformat_minor": 0
}
