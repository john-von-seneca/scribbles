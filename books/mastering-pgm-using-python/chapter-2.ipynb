{
 "cells": [
  {
   "cell_type": "code",
   "execution_count": 1,
   "metadata": {
    "ExecuteTime": {
     "end_time": "2016-08-08T00:45:30.334435",
     "start_time": "2016-08-08T00:45:29.948755"
    },
    "collapsed": false,
    "run_control": {
     "frozen": false,
     "read_only": false
    }
   },
   "outputs": [],
   "source": [
    "import numpy as np\n",
    "import scipy as sp\n",
    "from matplotlib import pyplot as plt\n",
    "%matplotlib inline\n",
    "\n",
    "import random as rnd\n",
    "import os\n",
    "import math\n",
    "\n",
    "# required for interactive plotting\n",
    "from __future__ import print_function\n",
    "from ipywidgets import interact, interactive, fixed\n",
    "import ipywidgets as widgets\n",
    "import numpy.polynomial as np_poly\n",
    "\n",
    "from IPython.display import Math\n",
    "from IPython.display import Latex\n",
    "from IPython.display import HTML\n",
    "\n",
    "from pprint import pprint\n",
    "import functools as ft\n",
    "\n",
    "from graphviz import Digraph\n",
    "\n",
    "DIR_HOME = os.environ['HOME']\n",
    "DIR_REPOS = DIR_HOME + \"/neo-human/repos\"\n",
    "DIR_BMLSP = DIR_REPOS + \"/luispedro/BuildingMachineLearningSystemsWithPython\""
   ]
  },
  {
   "cell_type": "markdown",
   "metadata": {},
   "source": [
    "initialization\n",
    "$\n",
    "\\newcommand{\\Brace}[1]{\\left\\{#1\\right\\}}\n",
    "\\newcommand{\\Bracket}[1]{\\left[#1\\right]}\n",
    "\\newcommand{\\cases}[1]{\\begin{cases}#1\\end{cases}}\n",
    "\\newcommand{\\cov}[1]{\\text{cov} \\sigma\\left[#1\\right]}\n",
    "\\newcommand{\\diff}[2]{\\frac{d #1}{d #2}}\n",
    "\\newcommand{\\difftwo}[2]{\\frac{d^2 #1}{d {#2}^2}}\n",
    "\\newcommand{\\diffn}[2]{{#1}^{\\prime}(#2)}\n",
    "\\newcommand{\\ds}{\\displaystyle}\n",
    "\\newcommand{\\E}[1]{\\mathbb{E}\\left[ #1 \\right]}\n",
    "\\newcommand{\\expb}[1]{\\exp\\left\\{#1\\right\\}} \n",
    "\\newcommand{\\EXP}[1]{\\exp\\left\\{#1\\right\\}} \n",
    "\\newcommand{\\frachalf}[1]{\\frac{#1}{2}~}\n",
    "\\newcommand{\\fracone}[1]{\\frac{1}{#1}~}\n",
    "\\newcommand{\\fracrec}[1]{\\frac{1}{#1}~}\n",
    "\\newcommand{\\given}{\\mid}\n",
    "\\newcommand{\\half}{\\fracone{2}}\n",
    "\\newcommand{\\H}[1]{\\mathbb{H}\\left[#1\\right]}\n",
    "\\newcommand{\\ind}{\\perp}\n",
    "\\newcommand{\\Int}[2]{\\displaystyle \\int_{#1}^{#2}~}\n",
    "\\newcommand{\\intinfinf}{\\Int{-\\infty}{\\infty}}\n",
    "\\newcommand{\\inv}[1]{#1^{-1}}\n",
    "\\newcommand{\\invp}[1]{\\left({#1}\\right)^{-1}}\n",
    "\\newcommand{\\KL}[2]{\\text{KL}\\left(#1 \\Vert #2\\right)}\n",
    "\\newcommand{\\Lim}[1]{\\displaystyle \\lim_{#1}}\n",
    "\\newcommand{\\Ln}[1]{\\ln \\left\\(#1\\right\\)}\n",
    "\\newcommand{\\Lnb}[1]{\\ln \\left\\{#1\\right\\} }\n",
    "\\newcommand{\\Mod}[1]{\\left|#1\\right|}\n",
    "\\newcommand{\\Norm}[1]{\\left\\lVert #1 \\right\\rVert}\n",
    "\\newcommand{\\Normsqr}[1]{\\Norm{#1}^2}\n",
    "\\newcommand{\\map}[1]{#1_{\\text{MAP}}}\n",
    "\\newcommand{\\ml}[1]{#1_{\\text{ML}}}\n",
    "\\newcommand{\\MI}[1]{\\mathcal{I}\\left(#1\\right)}\n",
    "\\newcommand{\\P}{\\mathbb{P}}\n",
    "\\newcommand{\\Paran}[1]{\\left(#1\\right)}\n",
    "\\newcommand{\\Partial}[2]{\\frac{\\partial #1}{\\partial #2}}\n",
    "\\newcommand{\\sqrbrkt}[1]{\\Bracket{#1}^2}\n",
    "\\newcommand{\\sqrbrc}[1]{\\Brace{#1}^2}\n",
    "\\newcommand{\\trace}[1]{\\text{Tr}\\left( #1 \\right)}\n",
    "\\newcommand{\\traceb}[1]{\\text{Tr}\\left\\{#1\\right\\}}\n",
    "\\newcommand{\\underl}[1]{\\text{$\\underline{#1}$}}\n",
    "\\newcommand{\\V}[1]{\\mathbb{V}\\left[#1\\right]}\n",
    "$\n",
    "$\n",
    "\\DeclareMathOperator*{\\argmin}{arg\\,min}\n",
    "\\DeclareMathOperator*{\\argmax}{arg\\,max}\n",
    "$\n",
    "$\n",
    "\\newcommand{\\mat}[1]{ \\left[ \\begin{matrix} #1 \\end{matrix} \\right] }\n",
    "\\newcommand{\\matp}[1]{ \\left( \\begin{matrix} #1 \\end{matrix} \\right)}\n",
    "\\newcommand{\\mats}[1]{ \\begin{matrix}#1\\end{matrix} }\n",
    "\\newcommand{\\arrthree}[1]{\n",
    "\\begin{array}{rlr} #1 \\end{array}}\n",
    "$"
   ]
  },
  {
   "cell_type": "markdown",
   "metadata": {},
   "source": [
    "$\n",
    "\\newcommand{\\C}{\\mathbb{C}}\n",
    "\\newcommand{\\Ca}{\\mathcal{C}}\n",
    "\\newcommand{\\Caone}{\\Ca_1}\n",
    "\\newcommand{\\Catwo}{\\Ca_2}\n",
    "\\newcommand{\\Cak}{\\Ca_k}\n",
    "\\newcommand{\\D}{\\mathcal{D}}\n",
    "\\newcommand{\\G}{\\mathcal{G}}\n",
    "\\newcommand{\\I}{\\mathcal{I}}\n",
    "\\newcommand{\\L}{\\mathcal{L}}\n",
    "\\newcommand{\\M}{\\mathcal{M}}\n",
    "\\newcommand{\\N}{\\mathbb{N}}\n",
    "\\newcommand{\\R}{\\mathbb{R}}\n",
    "\\newcommand{\\Ra}{\\mathcal{R}}\n",
    "$\n",
    "$\n",
    "\\newcommand{\\commentgray}[1]{\\color{gray}{\\text{#1}}}\n",
    "$"
   ]
  },
  {
   "cell_type": "markdown",
   "metadata": {},
   "source": [
    "sum, product\n",
    "$\n",
    "\\newcommand{\\sumi}{\\displaystyle \\sum_i}\n",
    "\\newcommand{\\sumiD}{\\displaystyle \\sum_{i=1}^{D}}\n",
    "\\newcommand{\\sumiL}{\\displaystyle \\sum_{i=1}^{L}}\n",
    "\\newcommand{\\sumiN}{\\displaystyle \\sum_{i=1}^{N}}\n",
    "\\newcommand{\\sumjD}{\\displaystyle \\sum_{j=1}^{D}}\n",
    "\\newcommand{\\sumjK}{\\displaystyle \\sum_{j=1}^{K}}\n",
    "\\newcommand{\\sumjMl}{\\sum_{j=1}^{M-1}}\n",
    "\\newcommand{\\sumkK}{\\displaystyle \\sum_{k=1}^{K}}\n",
    "\\newcommand{\\sumkM}{\\displaystyle \\sum_{k=1}^{M}}\n",
    "\\newcommand{\\sumkMl}{\\sum_{k=1}^{M-1}}\n",
    "\\newcommand{\\sumkp}{\\displaystyle \\sum_{k=1}^{p}}\n",
    "\\newcommand{\\summN}{\\displaystyle \\sum_{m=1}^{N}}\n",
    "\\newcommand{\\sumnN}{\\displaystyle \\sum_{n=1}^{N}}\n",
    "$\n",
    "$\n",
    "\\newcommand{\\prodi}{\\displaystyle \\prod_i}\n",
    "\\newcommand{\\prodiD}{\\displaystyle \\prod_{i=1}^{D}}\n",
    "\\newcommand{\\prodiL}{\\displaystyle \\prod_{i=1}^{L}}\n",
    "\\newcommand{\\prodiN}{\\displaystyle \\prod_{i=1}^{N}}\n",
    "\\newcommand{\\prodjK}{\\displaystyle \\prod_{j=1}^{K}}\n",
    "\\newcommand{\\prodkK}{\\displaystyle \\prod_{k=1}^{K}}\n",
    "\\newcommand{\\prodmN}{\\displaystyle \\prod_{m=1}^{N}}\n",
    "\\newcommand{\\prodnN}{\\displaystyle \\prod_{n=1}^{N}}\n",
    "$"
   ]
  },
  {
   "cell_type": "markdown",
   "metadata": {},
   "source": [
    "alphabet shortcuts\n",
    "$\n",
    "\\newcommand{\\ab}{\\mathbf{a}}\n",
    "\\newcommand{\\at}{\\ab^T}\n",
    "\\newcommand{\\Ab}{\\mathbf{A}}\n",
    "\\newcommand{\\At}{\\Ab^T}\n",
    "\\newcommand{\\Ai}{\\inv{\\Ab}}\n",
    "\\newcommand{\\Abjk}{\\Ab_{jk}}\n",
    "\\newcommand{\\bb}{\\mathbf{b}}\n",
    "\\newcommand{\\bt}{\\bb^T}\n",
    "\\newcommand{\\Bb}{\\mathbf{B}}\n",
    "\\newcommand{\\Bt}{\\Bb^T}\n",
    "\\newcommand{\\Cb}{\\mathbf{C}}\n",
    "\\newcommand{\\Cn}{\\Cb_{N}}\n",
    "\\newcommand{\\Db}{\\mathbf{D}}\n",
    "\\newcommand{\\fb}{\\mathbf{f}}\n",
    "\\newcommand{\\fp}{f^{\\prime}}\n",
    "\\newcommand{\\Hb}{\\mathbf{H}}\n",
    "\\newcommand{\\hx}{h(\\xb)}\n",
    "\\newcommand{\\Jb}{\\mathbf{J}}\n",
    "\\newcommand{\\kb}{\\mathbf{k}}\n",
    "\\newcommand{\\kt}{\\kb^T}\n",
    "\\newcommand{\\Kb}{\\mathbf{K}}\n",
    "\\newcommand{\\Lb}{\\mathbf{L}}\n",
    "\\newcommand{\\Lt}{\\Lb^T}\n",
    "\\newcommand{\\Lbi}{\\Lb^{-1}}\n",
    "\\newcommand{\\mb}{\\mathbf{m}}\n",
    "\\newcommand{\\mt}{\\mb^T}\n",
    "\\newcommand{\\mbn}{\\mb_N}\n",
    "\\newcommand{\\mbnt}{\\mbn^T}\n",
    "\\newcommand{\\mbN}{\\mb_N}\n",
    "\\newcommand{\\mbNt}{\\mbn^T}\n",
    "\\newcommand{\\Mb}{\\mathbf{M}}\n",
    "\\newcommand{\\Qb}{\\mathbf{Q}}\n",
    "\\newcommand{\\Rb}{\\mathbf{R}}\n",
    "\\newcommand{\\sb}{\\mathbf{s}}\n",
    "\\newcommand{\\Sb}{\\mathbf{S}}\n",
    "\\newcommand{\\tb}{\\mathbf{t}}\n",
    "\\newcommand{\\tbnn}{\\tb_{N}}\n",
    "\\newcommand{\\tbnp}{\\tb_{N+1}}\n",
    "\\newcommand{\\tt}{\\tb^T}\n",
    "\\newcommand{\\Tb}{\\mathbf{T}}\n",
    "\\newcommand{\\Tt}{\\Tb^T}\n",
    "\\newcommand{\\ub}{\\mathbf{u}}\n",
    "\\newcommand{\\Ub}{\\mathbf{U}}\n",
    "\\newcommand{\\Ut}{\\Ub^T}\n",
    "\\newcommand{\\vb}{\\mathbf{v}}\n",
    "\\newcommand{\\Vb}{\\mathbf{V}}\n",
    "\\newcommand{\\wb}{\\mathbf{w}}\n",
    "\\newcommand{\\wnr}[1]{\\wb^{(\\text{#1})}}\n",
    "\\newcommand{\\wt}{\\wb^T}\n",
    "\\newcommand{\\Wb}{\\mathbf{W}}\n",
    "\\newcommand{\\Wt}{\\Wb^T}\n",
    "\\newcommand{\\Wtilde}{\\widetilde{\\Wb}}\n",
    "\\newcommand{\\Wtildet}{\\Wtilde^T}\n",
    "\\newcommand{\\Xb}{\\mathbf{X}}\n",
    "\\newcommand{\\Xt}{\\Xb^T}\n",
    "\\newcommand{\\Xk}{\\Xb_k}\n",
    "\\newcommand{\\Xkt}{\\Xk^T}\n",
    "\\newcommand{\\Xtilde}{\\widetilde{\\Xb}}\n",
    "\\newcommand{\\Xtildet}{\\Xtilde^T}\n",
    "\\newcommand{\\xb}{\\mathbf{x}}\n",
    "\\newcommand{\\xt}{\\xb^T}\n",
    "\\newcommand{\\xtilde}{\\widetilde{\\xb}}\n",
    "\\newcommand{\\xtilden}{\\xtilde_n}\n",
    "\\newcommand{\\xtildent}{\\xtilden^T}\n",
    "\\newcommand{\\xp}{x^{\\prime}}\n",
    "\\newcommand{\\xbp}{\\xb^{\\prime}}\n",
    "\\newcommand{\\xbm}{\\xb_m}\n",
    "\\newcommand{\\xbn}{\\xb_n}\n",
    "\\newcommand{\\xbnp}{\\xb_{N+1}}\n",
    "\\newcommand{\\xab}{\\mathbf{x_a}}\n",
    "\\newcommand{\\xabt}{\\mathbf{x_a}^T}\n",
    "\\newcommand{\\xbb}{\\mathbf{x_b}}\n",
    "\\newcommand{\\xbbt}{\\mathbf{x_b}^T}\n",
    "\\newcommand{\\yb}{\\mathbf{y}}\n",
    "\\newcommand{\\yt}{\\yb^T}\n",
    "\\newcommand{\\yx}{y(\\xb)}\n",
    "\\newcommand{\\Yb}{\\mathbf{Y}}\n",
    "\\newcommand{\\Yt}{\\Yb^T}\n",
    "\\newcommand{\\zb}{\\mathbf{z}}\n",
    "\\newcommand{\\zt}{\\zb^T}\n",
    "\\newcommand{\\zbm}{\\zb_m}\n",
    "\\newcommand{\\zbn}{\\zb_n}\n",
    "\\newcommand{\\zbnp}{\\zb_{n-1}}\n",
    "\\newcommand{\\znk}{\\zb_{nk}}\n",
    "\\newcommand{\\znpj}{\\zb_{n-1,j}}\n",
    "\\newcommand{\\Zb}{\\mathbf{Z}}\n",
    "$"
   ]
  },
  {
   "cell_type": "markdown",
   "metadata": {},
   "source": [
    "math shortcuts\n",
    "$\n",
    "\\newcommand{\\alphab}{\\pmb{\\alpha}}\n",
    "\\newcommand{\\alphabt}{\\alphab^T}\n",
    "\\newcommand{\\betab}{\\pmb{\\beta}}\n",
    "\\newcommand{\\betabp}{\\betab^{\\prime}}\n",
    "\\newcommand{\\chib}{\\boldsymbol{\\chi}}\n",
    "\\newcommand{\\etab}{\\pmb{\\eta}}\n",
    "\\newcommand{\\etabp}{\\etab^{\\prime}}\n",
    "\\newcommand{\\etat}{\\eta^T}\n",
    "\\newcommand{\\etabt}{\\etab^T}\n",
    "\\newcommand{\\Lambdab}{\\pmb{\\Lambda}}\n",
    "\\newcommand{\\laa}{\\Lambda_{aa}}\n",
    "\\newcommand{\\laai}{\\Lambda_{aa}^{-1}}\n",
    "\\newcommand{\\lab}{\\Lambda_{ab}}\n",
    "\\newcommand{\\lba}{\\Lambda_{ba}}\n",
    "\\newcommand{\\lbb}{\\Lambda_{bb}}\n",
    "\\newcommand{\\lbbi}{\\Lambda_{bb}^{-1}}\n",
    "\\newcommand{\\li}{\\Lambda^{-1}}\n",
    "\\newcommand{\\Li}{\\Lambda^{-1}}\n",
    "\\newcommand{\\mub}{\\pmb{\\mu}}\n",
    "\\newcommand{\\mut}{\\mub^T}\n",
    "\\newcommand{\\muab}{\\pmb{\\mu}_a}\n",
    "\\newcommand{\\mubb}{\\pmb{\\mu}_b}\n",
    "\\newcommand{\\Phib}{\\pmb{\\Phi}}\n",
    "\\newcommand{\\Phibt}{\\Phib^T}\n",
    "\\newcommand{\\pib}{\\pmb{\\pi}}\n",
    "\\newcommand{\\sigmasqr}{\\sigma^2}\n",
    "\\newcommand{\\saa}{\\Sigma_{aa}}\n",
    "\\newcommand{\\sab}{\\Sigma_{ab}}\n",
    "\\newcommand{\\sba}{\\Sigma_{ba}}\n",
    "\\newcommand{\\sbb}{\\Sigma_{bb}}\n",
    "\\newcommand{\\Sigmai}{\\inv{\\Sigma}}\n",
    "\\newcommand{\\thetab}{\\pmb{\\theta}}\n",
    "\\newcommand{\\thetat}{\\thetab^T}\n",
    "\\newcommand{\\thetabh}{\\hat{\\thetab}}\n",
    "\\newcommand{\\thetaold}{\\thetab^{\\text{old}}}\n",
    "$\n",
    "$\n",
    "\\newcommand{\\zerob}{\\pmb{0}}\n",
    "\\newcommand{\\oneb}{\\pmb{1}}\n",
    "\\newcommand{\\ed}{\\mathbb{E}_{\\D}}\n",
    "\\newcommand{\\edyx}{\\ed\\left[y(\\xb ; \\D)\\right]}\n",
    "\\newcommand{\\dx}{~dx}\n",
    "\\newcommand{\\dxb}{~d\\xb}\n",
    "\\newcommand{\\pxdxb}{p(\\xb) \\dxb}\n",
    "\\newcommand{\\dwb}{~d\\wb}\n",
    "$"
   ]
  },
  {
   "cell_type": "markdown",
   "metadata": {},
   "source": [
    "aliases for distributions\n",
    "$\\newcommand{\\multivarcoeff}{\\frac{1}{(2\\pi)^{D/2}}\n",
    "\\frac{1}{\\left| \\mathbf{\\Sigma}\\right|^{1/2}}}$\n",
    "$\\newcommand{\\multivarexp}[2]\n",
    "{\n",
    "\\left\\{\n",
    " -\\frac{1}{2} \n",
    " {#1}^T \n",
    " #2\n",
    " {#1}\n",
    "\\right\\}\n",
    "}$\n",
    "$\\newcommand{\\multivarexpx}[1]{\\multivarexp{#1}{\\Sigma^{-1}}}$\n",
    "$\\newcommand{\\multivarexpstd}{\\multivarexpx{(\\xb-\\mub)}}$\n",
    "$\\newcommand{\\gam}{\\operatorname{Gam}}$\n",
    "$\n",
    "\\newcommand{\\Nl}[3]{\\mathcal{N}\\left(#1 \\mid #2, #3\\right)}\n",
    "\\newcommand{\\Nstdx}{\\Nl{\\mathbf{x}}{\\mathbf{\\mu}}{\\Sigma}}\n",
    "$"
   ]
  },
  {
   "cell_type": "markdown",
   "metadata": {},
   "source": [
    "$$\n",
    "X \\ind Y\n",
    "$$"
   ]
  },
  {
   "cell_type": "code",
   "execution_count": 2,
   "metadata": {
    "ExecuteTime": {
     "end_time": "2016-08-08T00:45:30.944533",
     "start_time": "2016-08-08T00:45:30.335833"
    },
    "collapsed": false,
    "run_control": {
     "frozen": false,
     "read_only": false
    }
   },
   "outputs": [
    {
     "data": {
      "text/plain": [
       "(X _|_ Y)"
      ]
     },
     "execution_count": 2,
     "metadata": {},
     "output_type": "execute_result"
    }
   ],
   "source": [
    "from pgmpy.independencies import IndependenceAssertion\n",
    "assertion1 = IndependenceAssertion('X', 'Y')\n",
    "assertion1"
   ]
  },
  {
   "cell_type": "markdown",
   "metadata": {},
   "source": [
    "$$\n",
    "X \\ind Y \\given Z\n",
    "$$"
   ]
  },
  {
   "cell_type": "code",
   "execution_count": 3,
   "metadata": {
    "ExecuteTime": {
     "end_time": "2016-08-08T00:45:30.951247",
     "start_time": "2016-08-08T00:45:30.946376"
    },
    "collapsed": false,
    "run_control": {
     "frozen": false,
     "read_only": false
    }
   },
   "outputs": [
    {
     "data": {
      "text/plain": [
       "(X _|_ Y | Z)"
      ]
     },
     "execution_count": 3,
     "metadata": {},
     "output_type": "execute_result"
    }
   ],
   "source": [
    "assertion2 = IndependenceAssertion('X','Y','Z')\n",
    "assertion2"
   ]
  },
  {
   "cell_type": "markdown",
   "metadata": {},
   "source": [
    "$X \\ind Y,Z ~\\given~ A,B$"
   ]
  },
  {
   "cell_type": "code",
   "execution_count": 4,
   "metadata": {
    "ExecuteTime": {
     "end_time": "2016-08-08T00:45:30.960288",
     "start_time": "2016-08-08T00:45:30.952703"
    },
    "collapsed": false,
    "run_control": {
     "frozen": false,
     "read_only": false
    }
   },
   "outputs": [
    {
     "name": "stdout",
     "output_type": "stream",
     "text": [
      "(X _|_ Z, Y | B, A)\n"
     ]
    },
    {
     "data": {
      "text/plain": [
       "pgmpy.independencies.Independencies.IndependenceAssertion"
      ]
     },
     "execution_count": 4,
     "metadata": {},
     "output_type": "execute_result"
    }
   ],
   "source": [
    "assertion3 = IndependenceAssertion('X', ['Y','Z'], ['A','B'])\n",
    "print(assertion3)\n",
    "type(assertion3)"
   ]
  },
  {
   "cell_type": "markdown",
   "metadata": {
    "collapsed": true,
    "run_control": {
     "frozen": false,
     "read_only": false
    }
   },
   "source": [
    "## representing joint prob distributions"
   ]
  },
  {
   "cell_type": "code",
   "execution_count": 34,
   "metadata": {
    "ExecuteTime": {
     "end_time": "2016-08-08T00:46:22.752467",
     "start_time": "2016-08-08T00:46:22.746531"
    },
    "collapsed": false,
    "run_control": {
     "frozen": false,
     "read_only": false
    }
   },
   "outputs": [
    {
     "name": "stdout",
     "output_type": "stream",
     "text": [
      "╒═════════╤═════════╤══════════════════╕\n",
      "│ coin1   │ coin2   │   P(coin1,coin2) │\n",
      "╞═════════╪═════════╪══════════════════╡\n",
      "│ coin1_0 │ coin2_0 │           0.2500 │\n",
      "├─────────┼─────────┼──────────────────┤\n",
      "│ coin1_0 │ coin2_1 │           0.2500 │\n",
      "├─────────┼─────────┼──────────────────┤\n",
      "│ coin1_1 │ coin2_0 │           0.2500 │\n",
      "├─────────┼─────────┼──────────────────┤\n",
      "│ coin1_1 │ coin2_1 │           0.2500 │\n",
      "╘═════════╧═════════╧══════════════════╛\n"
     ]
    }
   ],
   "source": [
    "from pgmpy.factors import JointProbabilityDistribution as jpd\n",
    "dist1 = jpd(['coin1','coin2'], [2,2],[1/4]*4)\n",
    "print(dist1)"
   ]
  },
  {
   "cell_type": "markdown",
   "metadata": {},
   "source": [
    "check if arg1 is indedependent of arg2 [given arg3] "
   ]
  },
  {
   "cell_type": "code",
   "execution_count": 6,
   "metadata": {
    "ExecuteTime": {
     "end_time": "2016-08-08T00:45:30.973997",
     "start_time": "2016-08-08T00:45:30.967654"
    },
    "collapsed": false,
    "run_control": {
     "frozen": false,
     "read_only": false
    }
   },
   "outputs": [
    {
     "data": {
      "text/plain": [
       "True"
      ]
     },
     "execution_count": 6,
     "metadata": {},
     "output_type": "execute_result"
    }
   ],
   "source": [
    "dist1.check_independence(['coin1'],['coin2'])"
   ]
  },
  {
   "cell_type": "code",
   "execution_count": 7,
   "metadata": {
    "ExecuteTime": {
     "end_time": "2016-08-08T00:45:30.998276",
     "start_time": "2016-08-08T00:45:30.975966"
    },
    "collapsed": true,
    "run_control": {
     "frozen": false,
     "read_only": false
    }
   },
   "outputs": [],
   "source": [
    "?dist1.check_independence"
   ]
  },
  {
   "cell_type": "markdown",
   "metadata": {
    "collapsed": true,
    "run_control": {
     "frozen": false,
     "read_only": false
    }
   },
   "source": [
    "## cpd"
   ]
  },
  {
   "cell_type": "markdown",
   "metadata": {
    "collapsed": true,
    "run_control": {
     "frozen": false,
     "read_only": false
    }
   },
   "source": [
    "| Quality | P(Q) |\n",
    "|----     |------|\n",
    "| Good    | 0.3  |\n",
    "| Normal  | 0.5  |\n",
    "| Bad     | 0.2  |"
   ]
  },
  {
   "cell_type": "code",
   "execution_count": 8,
   "metadata": {
    "ExecuteTime": {
     "end_time": "2016-08-08T00:45:31.002449",
     "start_time": "2016-08-08T00:45:30.999638"
    },
    "collapsed": true,
    "run_control": {
     "frozen": false,
     "read_only": false
    }
   },
   "outputs": [],
   "source": [
    "from pgmpy.factors import TabularCPD as cpdt"
   ]
  },
  {
   "cell_type": "code",
   "execution_count": 9,
   "metadata": {
    "ExecuteTime": {
     "end_time": "2016-08-08T00:45:31.009605",
     "start_time": "2016-08-08T00:45:31.003757"
    },
    "collapsed": false,
    "run_control": {
     "frozen": false,
     "read_only": false
    }
   },
   "outputs": [
    {
     "name": "stdout",
     "output_type": "stream",
     "text": [
      "╒═══════════╤═════╕\n",
      "│ Quality_0 │ 0.3 │\n",
      "├───────────┼─────┤\n",
      "│ Quality_1 │ 0.5 │\n",
      "├───────────┼─────┤\n",
      "│ Quality_2 │ 0.2 │\n",
      "╘═══════════╧═════╛\n",
      "variables ['Quality']\n",
      "card [3]\n",
      "values [ 0.3  0.5  0.2]\n"
     ]
    }
   ],
   "source": [
    "quality = cpdt(variable='Quality', variable_card=3, values=[[0.3],[0.5],[0.2]])\n",
    "print(quality)\n",
    "print('variables' ,quality.variables)\n",
    "print('card', quality.cardinality)\n",
    "print('values', quality.values)"
   ]
  },
  {
   "cell_type": "markdown",
   "metadata": {},
   "source": [
    "| location | p(L) |\n",
    "| -------- | ---- |\n",
    "| Good     | 0.6  |\n",
    "| Bad      | 0.4  |"
   ]
  },
  {
   "cell_type": "code",
   "execution_count": 10,
   "metadata": {
    "ExecuteTime": {
     "end_time": "2016-08-08T00:45:31.017092",
     "start_time": "2016-08-08T00:45:31.010810"
    },
    "collapsed": false,
    "run_control": {
     "frozen": false,
     "read_only": false
    }
   },
   "outputs": [
    {
     "name": "stdout",
     "output_type": "stream",
     "text": [
      "╒════════════╤═════╕\n",
      "│ Location_0 │ 0.6 │\n",
      "├────────────┼─────┤\n",
      "│ Location_1 │ 0.4 │\n",
      "╘════════════╧═════╛\n"
     ]
    }
   ],
   "source": [
    "location = cpdt(variable='Location', variable_card=2, values=[[0.6],[0.4]])\n",
    "print(location)"
   ]
  },
  {
   "cell_type": "markdown",
   "metadata": {},
   "source": [
    "$P(C \\given Q, L)$  \n",
    "\n",
    "\n",
    "| Location | Good ||| Bad |||\n",
    "| -------- | :----: |:-:|:-:| :---: |:-:|:-:|\n",
    "| Quality  | Good | Normal | Bad | Good | Normal | Bad | \n",
    "| High     | 0.8  | 0.6    | 0.1 | 0.6  | 0.6    | 0.05 |\n",
    "| LOw      | 0.2  | 0.4    | 0.9 | 0.4  | 0.4    | 0.95 |"
   ]
  },
  {
   "cell_type": "code",
   "execution_count": 11,
   "metadata": {
    "ExecuteTime": {
     "end_time": "2016-08-08T00:45:31.025777",
     "start_time": "2016-08-08T00:45:31.018440"
    },
    "collapsed": false,
    "run_control": {
     "frozen": false,
     "read_only": false
    }
   },
   "outputs": [
    {
     "name": "stdout",
     "output_type": "stream",
     "text": [
      "╒════════╤═════╤═════╤═════╤═════╤═════╤══════╕\n",
      "│ L      │ L_0 │ L_0 │ L_0 │ L_1 │ L_1 │ L_1  │\n",
      "├────────┼─────┼─────┼─────┼─────┼─────┼──────┤\n",
      "│ Q      │ Q_0 │ Q_1 │ Q_2 │ Q_0 │ Q_1 │ Q_2  │\n",
      "├────────┼─────┼─────┼─────┼─────┼─────┼──────┤\n",
      "│ cost_0 │ 0.8 │ 0.6 │ 0.1 │ 0.6 │ 0.6 │ 0.05 │\n",
      "├────────┼─────┼─────┼─────┼─────┼─────┼──────┤\n",
      "│ cost_1 │ 0.2 │ 0.4 │ 0.9 │ 0.4 │ 0.4 │ 0.95 │\n",
      "╘════════╧═════╧═════╧═════╧═════╧═════╧══════╛\n",
      "[[ 0.8   0.6   0.1   0.6   0.6   0.05]\n",
      " [ 0.2   0.4   0.9   0.4   0.4   0.95]]\n"
     ]
    }
   ],
   "source": [
    "cost = cpdt(variable='cost',\n",
    "            variable_card = 2,\n",
    "            values = [[0.8,0.6,0.1,0.6,0.6,0.05],\n",
    "                      [0.2,0.4,0.9,0.4,0.4,0.95]],\n",
    "            evidence=['L','Q'],\n",
    "            evidence_card=[2,3]\n",
    "           )\n",
    "print(cost)\n",
    "print(cost.get_cpd())"
   ]
  },
  {
   "cell_type": "code",
   "execution_count": null,
   "metadata": {
    "ExecuteTime": {
     "end_time": "2016-07-22T15:56:35.105370",
     "start_time": "2016-07-22T15:56:35.102027"
    },
    "collapsed": false,
    "run_control": {
     "frozen": false,
     "read_only": false
    }
   },
   "outputs": [],
   "source": []
  },
  {
   "cell_type": "markdown",
   "metadata": {},
   "source": [
    "## graph theory"
   ]
  },
  {
   "cell_type": "markdown",
   "metadata": {},
   "source": [
    "walk is a sequence of vertices in which each adj pair is connected by an edge.  \n",
    "trail: walk with no repeated edges  \n",
    "path: walk with no repeated vertices"
   ]
  },
  {
   "cell_type": "markdown",
   "metadata": {},
   "source": [
    "## bayesian networks"
   ]
  },
  {
   "cell_type": "code",
   "execution_count": 12,
   "metadata": {
    "ExecuteTime": {
     "end_time": "2016-08-08T00:45:31.031851",
     "start_time": "2016-08-08T00:45:31.027268"
    },
    "collapsed": true,
    "run_control": {
     "frozen": false,
     "read_only": false
    }
   },
   "outputs": [],
   "source": [
    "from pgmpy.models import BayesianModel"
   ]
  },
  {
   "cell_type": "code",
   "execution_count": 13,
   "metadata": {
    "ExecuteTime": {
     "end_time": "2016-08-08T00:45:31.038780",
     "start_time": "2016-08-08T00:45:31.033228"
    },
    "collapsed": false,
    "run_control": {
     "frozen": false,
     "read_only": false
    }
   },
   "outputs": [],
   "source": [
    "model = BayesianModel()\n",
    "str_rain, str_traffic_jam, str_accident= 'rain', 'traffic_jam', 'accident'\n",
    "model.add_nodes_from([str_rain, str_traffic_jam])\n",
    "model.add_edge(str_rain, str_traffic_jam)\n",
    "model.add_edge(str_accident, str_traffic_jam)"
   ]
  },
  {
   "cell_type": "code",
   "execution_count": 14,
   "metadata": {
    "ExecuteTime": {
     "end_time": "2016-08-08T00:45:31.046756",
     "start_time": "2016-08-08T00:45:31.040158"
    },
    "collapsed": false,
    "run_control": {
     "frozen": false,
     "read_only": false
    }
   },
   "outputs": [
    {
     "name": "stdout",
     "output_type": "stream",
     "text": [
      "╒═══════════════╤════════════╤════════════╤════════════╤════════════╕\n",
      "│ rain          │ rain_0     │ rain_0     │ rain_1     │ rain_1     │\n",
      "├───────────────┼────────────┼────────────┼────────────┼────────────┤\n",
      "│ accident      │ accident_0 │ accident_1 │ accident_0 │ accident_1 │\n",
      "├───────────────┼────────────┼────────────┼────────────┼────────────┤\n",
      "│ traffic_jam_0 │ 0.9        │ 0.6        │ 0.7        │ 0.1        │\n",
      "├───────────────┼────────────┼────────────┼────────────┼────────────┤\n",
      "│ traffic_jam_1 │ 0.1        │ 0.4        │ 0.3        │ 0.9        │\n",
      "╘═══════════════╧════════════╧════════════╧════════════╧════════════╛\n"
     ]
    }
   ],
   "source": [
    "cpd_rain = cpdt(str_rain, 2, [[0.4],[0.6]])\n",
    "cpd_accident = cpdt(str_accident, 2, [[0.2],[0.8]])\n",
    "cpd_traffic_jam = cpdt(str_traffic_jam, 2,\n",
    "                       [[0.9,0.6,0.7,0.1],\n",
    "                        [0.1,0.4,0.3,0.9]],\n",
    "                       evidence=[str_rain, str_accident],\n",
    "                       evidence_card=[2,2]\n",
    "                      )\n",
    "print(cpd_traffic_jam)"
   ]
  },
  {
   "cell_type": "code",
   "execution_count": 15,
   "metadata": {
    "ExecuteTime": {
     "end_time": "2016-08-08T00:45:31.053086",
     "start_time": "2016-08-08T00:45:31.047946"
    },
    "collapsed": false,
    "run_control": {
     "frozen": false,
     "read_only": false
    }
   },
   "outputs": [
    {
     "name": "stdout",
     "output_type": "stream",
     "text": [
      "[<TabularCPD representing P(rain:2) at 0x7f6390aacef0>, <TabularCPD representing P(accident:2) at 0x7f6390aacd68>, <TabularCPD representing P(traffic_jam:2 | rain:2, accident:2) at 0x7f6390aacba8>]\n",
      "╒════════╤═════╕\n",
      "│ rain_0 │ 0.4 │\n",
      "├────────┼─────┤\n",
      "│ rain_1 │ 0.6 │\n",
      "╘════════╧═════╛\n"
     ]
    }
   ],
   "source": [
    "model.add_cpds(cpd_rain, cpd_accident, cpd_traffic_jam)\n",
    "print(model.get_cpds())\n",
    "print(model.get_cpds()[0])"
   ]
  },
  {
   "cell_type": "code",
   "execution_count": 16,
   "metadata": {
    "ExecuteTime": {
     "end_time": "2016-08-08T00:45:31.060912",
     "start_time": "2016-08-08T00:45:31.055334"
    },
    "collapsed": true,
    "run_control": {
     "frozen": false,
     "read_only": false
    }
   },
   "outputs": [],
   "source": [
    "str_long_queues = 'long_queues'\n",
    "model.add_edge(str_traffic_jam, str_long_queues)\n",
    "cpd_long_queues = cpdt(str_long_queues, 2,\n",
    "                       [[0.9,0.2],\n",
    "                        [0.1,0.8]],\n",
    "                       evidence=str_traffic_jam,\n",
    "                       evidence_card=2)\n",
    "model.add_cpds(cpd_long_queues)"
   ]
  },
  {
   "cell_type": "code",
   "execution_count": 17,
   "metadata": {
    "ExecuteTime": {
     "end_time": "2016-08-08T00:45:31.071134",
     "start_time": "2016-08-08T00:45:31.062418"
    },
    "collapsed": false,
    "run_control": {
     "frozen": false,
     "read_only": false
    }
   },
   "outputs": [
    {
     "data": {
      "text/plain": [
       "[<TabularCPD representing P(rain:2) at 0x7f6390aacef0>,\n",
       " <TabularCPD representing P(accident:2) at 0x7f6390aacd68>,\n",
       " <TabularCPD representing P(traffic_jam:2 | rain:2, accident:2) at 0x7f6390aacba8>,\n",
       " <TabularCPD representing P(long_queues:2 | traffic_jam:2) at 0x7f6390aaccc0>,\n",
       " <TabularCPD representing P(getting_up_late:2) at 0x7f6390ab84e0>,\n",
       " <TabularCPD representing P(late_for_school:2 | getting_up_late:2, traffic_jam:2) at 0x7f6390ab8518>]"
      ]
     },
     "execution_count": 17,
     "metadata": {},
     "output_type": "execute_result"
    }
   ],
   "source": [
    "str_getting_up_late, str_late_for_school = 'getting_up_late', 'late_for_school'\n",
    "model.add_edges_from([(str_getting_up_late, str_late_for_school),\n",
    "                      (str_traffic_jam, str_late_for_school)])\n",
    "cpd_getting_up_late = cpdt(str_getting_up_late, 2, [[0.6],[0.4]])\n",
    "cpd_late_for_school = cpdt(str_late_for_school, 2, \n",
    "                           [[0.9,0.45,0.8,0.1],\n",
    "                            [0.1,0.55,0.2,0.9]],\n",
    "                           evidence=[str_getting_up_late, str_traffic_jam],\n",
    "                           evidence_card = [2,2])\n",
    "model.add_cpds(cpd_getting_up_late, cpd_late_for_school)\n",
    "model.get_cpds()"
   ]
  },
  {
   "cell_type": "code",
   "execution_count": 18,
   "metadata": {
    "ExecuteTime": {
     "end_time": "2016-08-08T00:45:31.079188",
     "start_time": "2016-08-08T00:45:31.072325"
    },
    "collapsed": false,
    "run_control": {
     "frozen": false,
     "read_only": false
    }
   },
   "outputs": [
    {
     "data": {
      "text/plain": [
       "True"
      ]
     },
     "execution_count": 18,
     "metadata": {},
     "output_type": "execute_result"
    }
   ],
   "source": [
    "model.check_model()"
   ]
  },
  {
   "cell_type": "code",
   "execution_count": 19,
   "metadata": {
    "ExecuteTime": {
     "end_time": "2016-08-08T00:45:31.117137",
     "start_time": "2016-08-08T00:45:31.080589"
    },
    "collapsed": false,
    "run_control": {
     "frozen": false,
     "read_only": false
    }
   },
   "outputs": [
    {
     "data": {
      "image/svg+xml": [
       "<?xml version=\"1.0\" encoding=\"UTF-8\" standalone=\"no\"?>\n",
       "<!DOCTYPE svg PUBLIC \"-//W3C//DTD SVG 1.1//EN\"\n",
       " \"http://www.w3.org/Graphics/SVG/1.1/DTD/svg11.dtd\">\n",
       "<!-- Generated by graphviz version 2.38.0 (20140413.2041)\n",
       " -->\n",
       "<!-- Title: %3 Pages: 1 -->\n",
       "<svg width=\"293pt\" height=\"188pt\"\n",
       " viewBox=\"0.00 0.00 292.94 188.00\" xmlns=\"http://www.w3.org/2000/svg\" xmlns:xlink=\"http://www.w3.org/1999/xlink\">\n",
       "<g id=\"graph0\" class=\"graph\" transform=\"scale(1 1) rotate(0) translate(4 184)\">\n",
       "<title>%3</title>\n",
       "<polygon fill=\"white\" stroke=\"none\" points=\"-4,4 -4,-184 288.941,-184 288.941,4 -4,4\"/>\n",
       "<!-- rain -->\n",
       "<g id=\"node1\" class=\"node\"><title>rain</title>\n",
       "<ellipse fill=\"none\" stroke=\"black\" cx=\"159.644\" cy=\"-162\" rx=\"27\" ry=\"18\"/>\n",
       "<text text-anchor=\"middle\" x=\"159.644\" y=\"-158.3\" font-family=\"Times,serif\" font-size=\"14.00\">rain</text>\n",
       "</g>\n",
       "<!-- traffic_jam -->\n",
       "<g id=\"node2\" class=\"node\"><title>traffic_jam</title>\n",
       "<ellipse fill=\"none\" stroke=\"black\" cx=\"201.644\" cy=\"-90\" rx=\"50.0912\" ry=\"18\"/>\n",
       "<text text-anchor=\"middle\" x=\"201.644\" y=\"-86.3\" font-family=\"Times,serif\" font-size=\"14.00\">traffic_jam</text>\n",
       "</g>\n",
       "<!-- rain&#45;&gt;traffic_jam -->\n",
       "<g id=\"edge1\" class=\"edge\"><title>rain&#45;&gt;traffic_jam</title>\n",
       "<path fill=\"none\" stroke=\"black\" d=\"M169.175,-145.116C174.237,-136.679 180.582,-126.104 186.316,-116.547\"/>\n",
       "<polygon fill=\"black\" stroke=\"black\" points=\"189.422,-118.173 191.566,-107.797 183.42,-114.572 189.422,-118.173\"/>\n",
       "</g>\n",
       "<!-- late_for_school -->\n",
       "<g id=\"node4\" class=\"node\"><title>late_for_school</title>\n",
       "<ellipse fill=\"none\" stroke=\"black\" cx=\"65.6442\" cy=\"-18\" rx=\"65.7887\" ry=\"18\"/>\n",
       "<text text-anchor=\"middle\" x=\"65.6442\" y=\"-14.3\" font-family=\"Times,serif\" font-size=\"14.00\">late_for_school</text>\n",
       "</g>\n",
       "<!-- traffic_jam&#45;&gt;late_for_school -->\n",
       "<g id=\"edge5\" class=\"edge\"><title>traffic_jam&#45;&gt;late_for_school</title>\n",
       "<path fill=\"none\" stroke=\"black\" d=\"M174.123,-74.8345C153.93,-64.4413 126.251,-50.1945 103.906,-38.6936\"/>\n",
       "<polygon fill=\"black\" stroke=\"black\" points=\"105.501,-35.578 95.0076,-34.1135 102.297,-41.802 105.501,-35.578\"/>\n",
       "</g>\n",
       "<!-- long_queues -->\n",
       "<g id=\"node6\" class=\"node\"><title>long_queues</title>\n",
       "<ellipse fill=\"none\" stroke=\"black\" cx=\"204.644\" cy=\"-18\" rx=\"55.4913\" ry=\"18\"/>\n",
       "<text text-anchor=\"middle\" x=\"204.644\" y=\"-14.3\" font-family=\"Times,serif\" font-size=\"14.00\">long_queues</text>\n",
       "</g>\n",
       "<!-- traffic_jam&#45;&gt;long_queues -->\n",
       "<g id=\"edge4\" class=\"edge\"><title>traffic_jam&#45;&gt;long_queues</title>\n",
       "<path fill=\"none\" stroke=\"black\" d=\"M202.386,-71.6966C202.716,-63.9827 203.114,-54.7125 203.482,-46.1124\"/>\n",
       "<polygon fill=\"black\" stroke=\"black\" points=\"206.98,-46.2451 203.911,-36.1043 199.986,-45.9453 206.98,-46.2451\"/>\n",
       "</g>\n",
       "<!-- getting_up_late -->\n",
       "<g id=\"node3\" class=\"node\"><title>getting_up_late</title>\n",
       "<ellipse fill=\"none\" stroke=\"black\" cx=\"65.6442\" cy=\"-90\" rx=\"65.7887\" ry=\"18\"/>\n",
       "<text text-anchor=\"middle\" x=\"65.6442\" y=\"-86.3\" font-family=\"Times,serif\" font-size=\"14.00\">getting_up_late</text>\n",
       "</g>\n",
       "<!-- getting_up_late&#45;&gt;late_for_school -->\n",
       "<g id=\"edge2\" class=\"edge\"><title>getting_up_late&#45;&gt;late_for_school</title>\n",
       "<path fill=\"none\" stroke=\"black\" d=\"M65.6442,-71.6966C65.6442,-63.9827 65.6442,-54.7125 65.6442,-46.1124\"/>\n",
       "<polygon fill=\"black\" stroke=\"black\" points=\"69.1443,-46.1043 65.6442,-36.1043 62.1443,-46.1044 69.1443,-46.1043\"/>\n",
       "</g>\n",
       "<!-- accident -->\n",
       "<g id=\"node5\" class=\"node\"><title>accident</title>\n",
       "<ellipse fill=\"none\" stroke=\"black\" cx=\"244.644\" cy=\"-162\" rx=\"40.0939\" ry=\"18\"/>\n",
       "<text text-anchor=\"middle\" x=\"244.644\" y=\"-158.3\" font-family=\"Times,serif\" font-size=\"14.00\">accident</text>\n",
       "</g>\n",
       "<!-- accident&#45;&gt;traffic_jam -->\n",
       "<g id=\"edge3\" class=\"edge\"><title>accident&#45;&gt;traffic_jam</title>\n",
       "<path fill=\"none\" stroke=\"black\" d=\"M234.454,-144.411C229.335,-136.077 223.02,-125.797 217.301,-116.488\"/>\n",
       "<polygon fill=\"black\" stroke=\"black\" points=\"220.277,-114.645 212.06,-107.956 214.312,-118.309 220.277,-114.645\"/>\n",
       "</g>\n",
       "</g>\n",
       "</svg>\n"
      ],
      "text/plain": [
       "<graphviz.dot.Digraph at 0x7f6390aac940>"
      ]
     },
     "execution_count": 19,
     "metadata": {},
     "output_type": "execute_result"
    }
   ],
   "source": [
    "dg_tmp = Digraph()\n",
    "[dg_tmp.edge(n1,n2) for n1,n2 in model.edges()]\n",
    "dg_tmp"
   ]
  },
  {
   "cell_type": "code",
   "execution_count": 20,
   "metadata": {
    "ExecuteTime": {
     "end_time": "2016-08-08T00:45:31.128647",
     "start_time": "2016-08-08T00:45:31.118795"
    },
    "collapsed": false,
    "run_control": {
     "frozen": false,
     "read_only": false
    }
   },
   "outputs": [
    {
     "name": "stdout",
     "output_type": "stream",
     "text": [
      "['rain', 'accident']\n",
      "[[ 0.9  0.6  0.7  0.1]\n",
      " [ 0.1  0.4  0.3  0.9]]\n",
      "╒═══════════════╤════════════╤════════════╤════════════╤════════════╕\n",
      "│ accident      │ accident_0 │ accident_0 │ accident_1 │ accident_1 │\n",
      "├───────────────┼────────────┼────────────┼────────────┼────────────┤\n",
      "│ rain          │ rain_0     │ rain_1     │ rain_0     │ rain_1     │\n",
      "├───────────────┼────────────┼────────────┼────────────┼────────────┤\n",
      "│ traffic_jam_0 │ 0.9        │ 0.6        │ 0.7        │ 0.1        │\n",
      "├───────────────┼────────────┼────────────┼────────────┼────────────┤\n",
      "│ traffic_jam_1 │ 0.1        │ 0.4        │ 0.3        │ 0.9        │\n",
      "╘═══════════════╧════════════╧════════════╧════════════╧════════════╛\n"
     ]
    }
   ],
   "source": [
    "cpd_traffic_jam2 = cpdt(str_traffic_jam, 2,\n",
    "                       [[0.9,0.6,0.7,0.1],\n",
    "                        [0.1,0.4,0.3,0.9]],\n",
    "                      # evidence=[str_rain, str_accident],\n",
    "                         evidence=[str_accident, str_rain],\n",
    "                       evidence_card=[2,2]\n",
    "                      )\n",
    "print(cpd_traffic_jam2.get_evidence())\n",
    "print(cpd_traffic_jam2.get_cpd())\n",
    "print(cpd_traffic_jam2)\n",
    "?cpd_traffic_jam2.get_evidence()"
   ]
  },
  {
   "cell_type": "markdown",
   "metadata": {
    "collapsed": true,
    "run_control": {
     "frozen": false,
     "read_only": false
    }
   },
   "source": [
    "## Causal reasoning\n",
    "\n",
    "The observation of the outcome of the parent in a Bayesian network influences the probability of its children.  \n",
    "This is known as causal reasoning.  \n",
    "Causal reasoning need not only be the effect of parent on its children; it can go further downstream in the network.\n"
   ]
  },
  {
   "cell_type": "markdown",
   "metadata": {},
   "source": [
    "$P(TrafficJam)$"
   ]
  },
  {
   "cell_type": "code",
   "execution_count": 21,
   "metadata": {
    "ExecuteTime": {
     "end_time": "2016-08-08T00:45:31.136529",
     "start_time": "2016-08-08T00:45:31.130215"
    },
    "collapsed": false,
    "run_control": {
     "frozen": false,
     "read_only": false
    }
   },
   "outputs": [
    {
     "name": "stdout",
     "output_type": "stream",
     "text": [
      "╒═══════════════╤════════════╤════════════╤════════════╤════════════╕\n",
      "│ rain          │ rain_0     │ rain_0     │ rain_1     │ rain_1     │\n",
      "├───────────────┼────────────┼────────────┼────────────┼────────────┤\n",
      "│ accident      │ accident_0 │ accident_1 │ accident_0 │ accident_1 │\n",
      "├───────────────┼────────────┼────────────┼────────────┼────────────┤\n",
      "│ traffic_jam_0 │ 0.9        │ 0.6        │ 0.7        │ 0.1        │\n",
      "├───────────────┼────────────┼────────────┼────────────┼────────────┤\n",
      "│ traffic_jam_1 │ 0.1        │ 0.4        │ 0.3        │ 0.9        │\n",
      "╘═══════════════╧════════════╧════════════╧════════════╧════════════╛\n",
      "probability of jam - unnormalized [ 2.3  1.7]\n",
      "probability of jam [ 0.575  0.425]\n"
     ]
    }
   ],
   "source": [
    "print(cpd_traffic_jam)\n",
    "p_jam_unnorm = np.sum(cpd_traffic_jam.get_cpd(),axis=1)\n",
    "print('probability of jam - unnormalized', p_jam_unnorm)\n",
    "p_jam = p_jam_unnorm / np.sum(p_jam_unnorm)\n",
    "print('probability of jam', p_jam)"
   ]
  },
  {
   "cell_type": "code",
   "execution_count": 22,
   "metadata": {
    "ExecuteTime": {
     "end_time": "2016-08-08T00:45:31.144185",
     "start_time": "2016-08-08T00:45:31.138414"
    },
    "collapsed": false,
    "run_control": {
     "frozen": false,
     "read_only": false
    }
   },
   "outputs": [
    {
     "name": "stdout",
     "output_type": "stream",
     "text": [
      "probability of jam | acc - unnormalized [ 0.7  1.3]\n",
      "prob of jam | acc [ 0.35  0.65]\n",
      "╒═══════════════╤════════════╤════════════╕\n",
      "│ accident      │ accident_0 │ accident_1 │\n",
      "├───────────────┼────────────┼────────────┤\n",
      "│ traffic_jam_0 │ 0.8        │ 0.35       │\n",
      "├───────────────┼────────────┼────────────┤\n",
      "│ traffic_jam_1 │ 0.2        │ 0.65       │\n",
      "╘═══════════════╧════════════╧════════════╛\n"
     ]
    }
   ],
   "source": [
    "p_jam_given_accident_unnorm = np.sum(cpd_traffic_jam.get_cpd()[:,1::2], axis=1)\n",
    "print('probability of jam | acc - unnormalized', p_jam_given_accident_unnorm)\n",
    "p_jam_given_accident = p_jam_given_accident_unnorm / np.sum(p_jam_given_accident_unnorm)\n",
    "print('prob of jam | acc', p_jam_given_accident)\n",
    "print(cpd_traffic_jam.marginalize(['rain'], inplace=False))"
   ]
  },
  {
   "cell_type": "markdown",
   "metadata": {},
   "source": [
    "## Evidential reasoning\n",
    "\n",
    "$$\n",
    "p(R \\given J) = \\frac{p(J \\given R) ~p(R)}{\\sum_{\\text{rain}} p(J \\given R) ~p(R)}\n",
    "$$"
   ]
  },
  {
   "cell_type": "code",
   "execution_count": 23,
   "metadata": {
    "ExecuteTime": {
     "end_time": "2016-08-08T00:45:31.149255",
     "start_time": "2016-08-08T00:45:31.145299"
    },
    "collapsed": false,
    "run_control": {
     "frozen": false,
     "read_only": false
    },
    "scrolled": true
   },
   "outputs": [
    {
     "name": "stdout",
     "output_type": "stream",
     "text": [
      "['accident', 'rain']\n",
      "╒═══════════════╤════════════╤════════════╤════════════╤════════════╕\n",
      "│ rain          │ rain_0     │ rain_0     │ rain_1     │ rain_1     │\n",
      "├───────────────┼────────────┼────────────┼────────────┼────────────┤\n",
      "│ accident      │ accident_0 │ accident_1 │ accident_0 │ accident_1 │\n",
      "├───────────────┼────────────┼────────────┼────────────┼────────────┤\n",
      "│ traffic_jam_0 │ 0.9        │ 0.6        │ 0.7        │ 0.1        │\n",
      "├───────────────┼────────────┼────────────┼────────────┼────────────┤\n",
      "│ traffic_jam_1 │ 0.1        │ 0.4        │ 0.3        │ 0.9        │\n",
      "╘═══════════════╧════════════╧════════════╧════════════╧════════════╛\n"
     ]
    }
   ],
   "source": [
    "print(cpd_traffic_jam.get_evidence())\n",
    "print(cpd_traffic_jam)"
   ]
  },
  {
   "cell_type": "markdown",
   "metadata": {},
   "source": [
    "$p(J \\given R)$"
   ]
  },
  {
   "cell_type": "code",
   "execution_count": 24,
   "metadata": {
    "ExecuteTime": {
     "end_time": "2016-08-08T00:45:31.158640",
     "start_time": "2016-08-08T00:45:31.151049"
    },
    "collapsed": false,
    "run_control": {
     "frozen": false,
     "read_only": false
    }
   },
   "outputs": [
    {
     "name": "stdout",
     "output_type": "stream",
     "text": [
      "╒═══════════════╤════════╤═════════════════════╕\n",
      "│ rain          │ rain_0 │ rain_1              │\n",
      "├───────────────┼────────┼─────────────────────┤\n",
      "│ traffic_jam_0 │ 0.75   │ 0.39999999999999997 │\n",
      "├───────────────┼────────┼─────────────────────┤\n",
      "│ traffic_jam_1 │ 0.25   │ 0.6                 │\n",
      "╘═══════════════╧════════╧═════════════════════╛\n",
      "[[ 0.75  0.4 ]\n",
      " [ 0.25  0.6 ]]\n"
     ]
    }
   ],
   "source": [
    "cpd_tf_given_rain = cpd_traffic_jam.marginalize(['accident'],inplace=False)\n",
    "print(cpd_tf_given_rain)\n",
    "print(cpd_tf_given_rain.get_cpd())"
   ]
  },
  {
   "cell_type": "markdown",
   "metadata": {},
   "source": [
    "$p(R)$"
   ]
  },
  {
   "cell_type": "code",
   "execution_count": 25,
   "metadata": {
    "ExecuteTime": {
     "end_time": "2016-08-08T00:45:31.166155",
     "start_time": "2016-08-08T00:45:31.159973"
    },
    "collapsed": false,
    "run_control": {
     "frozen": false,
     "read_only": false
    }
   },
   "outputs": [
    {
     "name": "stdout",
     "output_type": "stream",
     "text": [
      "╒════════╤═════╕\n",
      "│ rain_0 │ 0.4 │\n",
      "├────────┼─────┤\n",
      "│ rain_1 │ 0.6 │\n",
      "╘════════╧═════╛\n",
      "[[ 0.4]\n",
      " [ 0.6]]\n"
     ]
    }
   ],
   "source": [
    "print(cpd_rain)\n",
    "print(cpd_rain.get_cpd())"
   ]
  },
  {
   "cell_type": "code",
   "execution_count": 26,
   "metadata": {
    "ExecuteTime": {
     "end_time": "2016-08-08T00:45:31.172868",
     "start_time": "2016-08-08T00:45:31.167909"
    },
    "collapsed": false,
    "run_control": {
     "frozen": false,
     "read_only": false
    }
   },
   "outputs": [
    {
     "data": {
      "text/plain": [
       "array([[ 0.3 ,  0.24],\n",
       "       [ 0.1 ,  0.36]])"
      ]
     },
     "execution_count": 26,
     "metadata": {},
     "output_type": "execute_result"
    }
   ],
   "source": [
    "cpd_tf_given_rain.get_cpd() * cpd_rain.get_cpd().T"
   ]
  },
  {
   "cell_type": "code",
   "execution_count": 27,
   "metadata": {
    "ExecuteTime": {
     "end_time": "2016-08-08T00:45:31.177946",
     "start_time": "2016-08-08T00:45:31.174155"
    },
    "collapsed": true,
    "run_control": {
     "frozen": false,
     "read_only": false
    }
   },
   "outputs": [],
   "source": [
    "from pgmpy.factors import JointProbabilityDistribution as jpd"
   ]
  },
  {
   "cell_type": "markdown",
   "metadata": {},
   "source": [
    "$p(J, R)$"
   ]
  },
  {
   "cell_type": "code",
   "execution_count": 28,
   "metadata": {
    "ExecuteTime": {
     "end_time": "2016-08-08T00:45:31.186373",
     "start_time": "2016-08-08T00:45:31.179518"
    },
    "collapsed": false,
    "run_control": {
     "frozen": false,
     "read_only": false
    }
   },
   "outputs": [
    {
     "name": "stdout",
     "output_type": "stream",
     "text": [
      "╒═══════════════╤════════╤═══════════════════════╕\n",
      "│ traffic_jam   │ rain   │   P(traffic_jam,rain) │\n",
      "╞═══════════════╪════════╪═══════════════════════╡\n",
      "│ traffic_jam_0 │ rain_0 │                0.3000 │\n",
      "├───────────────┼────────┼───────────────────────┤\n",
      "│ traffic_jam_0 │ rain_1 │                0.2400 │\n",
      "├───────────────┼────────┼───────────────────────┤\n",
      "│ traffic_jam_1 │ rain_0 │                0.1000 │\n",
      "├───────────────┼────────┼───────────────────────┤\n",
      "│ traffic_jam_1 │ rain_1 │                0.3600 │\n",
      "╘═══════════════╧════════╧═══════════════════════╛\n",
      "[[ 0.3   0.24]\n",
      " [ 0.1   0.36]]\n"
     ]
    }
   ],
   "source": [
    "jpd_jam__rain = jpd(variables=[str_traffic_jam, str_rain],\n",
    "                    cardinality=[2,2],\n",
    "                    values=cpd_tf_given_rain.get_cpd() * cpd_rain.get_cpd().T)\n",
    "print(jpd_jam__rain)\n",
    "print(jpd_jam__rain.values)"
   ]
  },
  {
   "cell_type": "code",
   "execution_count": 29,
   "metadata": {
    "ExecuteTime": {
     "end_time": "2016-08-08T00:45:31.193265",
     "start_time": "2016-08-08T00:45:31.187959"
    },
    "collapsed": false,
    "run_control": {
     "frozen": false,
     "read_only": false
    }
   },
   "outputs": [
    {
     "name": "stdout",
     "output_type": "stream",
     "text": [
      "╒═══════════════╤══════════════════╕\n",
      "│ traffic_jam   │   P(traffic_jam) │\n",
      "╞═══════════════╪══════════════════╡\n",
      "│ traffic_jam_0 │           0.5400 │\n",
      "├───────────────┼──────────────────┤\n",
      "│ traffic_jam_1 │           0.4600 │\n",
      "╘═══════════════╧══════════════════╛\n",
      "[ 0.54  0.46]\n"
     ]
    }
   ],
   "source": [
    "jpd_jam = jpd_jam__rain.marginalize([str_rain], inplace=False)\n",
    "print(jpd_jam)\n",
    "print(jpd_jam.values)"
   ]
  },
  {
   "cell_type": "code",
   "execution_count": 30,
   "metadata": {
    "ExecuteTime": {
     "end_time": "2016-08-08T00:45:31.201375",
     "start_time": "2016-08-08T00:45:31.194737"
    },
    "collapsed": false,
    "run_control": {
     "frozen": false,
     "read_only": false
    }
   },
   "outputs": [
    {
     "data": {
      "text/plain": [
       "[[0.5555555555555556, 0.2173913043478261],\n",
       " [0.44444444444444436, 0.782608695652174]]"
      ]
     },
     "execution_count": 30,
     "metadata": {},
     "output_type": "execute_result"
    }
   ],
   "source": [
    "(jpd_jam__rain.values.T / jpd_jam.values).tolist()"
   ]
  },
  {
   "cell_type": "markdown",
   "metadata": {},
   "source": [
    "$p(R \\given J)$"
   ]
  },
  {
   "cell_type": "code",
   "execution_count": 31,
   "metadata": {
    "ExecuteTime": {
     "end_time": "2016-08-08T00:45:31.207857",
     "start_time": "2016-08-08T00:45:31.203058"
    },
    "collapsed": false,
    "run_control": {
     "frozen": false,
     "read_only": false
    }
   },
   "outputs": [
    {
     "name": "stdout",
     "output_type": "stream",
     "text": [
      "╒═════════════╤═════════════════════╤════════════════════╕\n",
      "│ traffic_jam │ traffic_jam_0       │ traffic_jam_1      │\n",
      "├─────────────┼─────────────────────┼────────────────────┤\n",
      "│ rain_0      │ 0.5555555555555556  │ 0.2173913043478261 │\n",
      "├─────────────┼─────────────────────┼────────────────────┤\n",
      "│ rain_1      │ 0.44444444444444436 │ 0.782608695652174  │\n",
      "╘═════════════╧═════════════════════╧════════════════════╛\n"
     ]
    }
   ],
   "source": [
    "cpd_rain_given_jam = cpdt(str_rain,2,(jpd_jam__rain.values.T / jpd_jam.values).tolist(),\n",
    "                        evidence=[str_traffic_jam], evidence_card=[2])\n",
    "print(cpd_rain_given_jam)"
   ]
  },
  {
   "cell_type": "code",
   "execution_count": 32,
   "metadata": {
    "ExecuteTime": {
     "end_time": "2016-08-08T00:45:31.216247",
     "start_time": "2016-08-08T00:45:31.209249"
    },
    "collapsed": false,
    "run_control": {
     "frozen": false,
     "read_only": false
    }
   },
   "outputs": [
    {
     "data": {
      "text/plain": [
       "[0.5555555555555555, 0.4444444444444444]"
      ]
     },
     "execution_count": 32,
     "metadata": {},
     "output_type": "execute_result"
    }
   ],
   "source": [
    "[.3 / 0.54, 0.24/0.54]"
   ]
  },
  {
   "cell_type": "code",
   "execution_count": 33,
   "metadata": {
    "ExecuteTime": {
     "end_time": "2016-08-08T00:45:31.221530",
     "start_time": "2016-08-08T00:45:31.218180"
    },
    "collapsed": false,
    "run_control": {
     "frozen": false,
     "read_only": false
    }
   },
   "outputs": [
    {
     "data": {
      "text/plain": [
       "0.7826086956521738"
      ]
     },
     "execution_count": 33,
     "metadata": {},
     "output_type": "execute_result"
    }
   ],
   "source": [
    "0.36/0.46"
   ]
  },
  {
   "cell_type": "code",
   "execution_count": null,
   "metadata": {
    "collapsed": true,
    "run_control": {
     "frozen": false,
     "read_only": false
    }
   },
   "outputs": [],
   "source": []
  },
  {
   "cell_type": "code",
   "execution_count": null,
   "metadata": {
    "collapsed": true,
    "run_control": {
     "frozen": false,
     "read_only": false
    }
   },
   "outputs": [],
   "source": []
  },
  {
   "cell_type": "code",
   "execution_count": null,
   "metadata": {
    "collapsed": true,
    "run_control": {
     "frozen": false,
     "read_only": false
    }
   },
   "outputs": [],
   "source": []
  },
  {
   "cell_type": "code",
   "execution_count": null,
   "metadata": {
    "collapsed": true,
    "run_control": {
     "frozen": false,
     "read_only": false
    }
   },
   "outputs": [],
   "source": []
  },
  {
   "cell_type": "code",
   "execution_count": null,
   "metadata": {
    "collapsed": true,
    "run_control": {
     "frozen": false,
     "read_only": false
    }
   },
   "outputs": [],
   "source": []
  },
  {
   "cell_type": "code",
   "execution_count": null,
   "metadata": {
    "collapsed": true,
    "run_control": {
     "frozen": false,
     "read_only": false
    }
   },
   "outputs": [],
   "source": []
  },
  {
   "cell_type": "code",
   "execution_count": null,
   "metadata": {
    "collapsed": true,
    "run_control": {
     "frozen": false,
     "read_only": false
    }
   },
   "outputs": [],
   "source": []
  },
  {
   "cell_type": "code",
   "execution_count": null,
   "metadata": {
    "collapsed": true,
    "run_control": {
     "frozen": false,
     "read_only": false
    }
   },
   "outputs": [],
   "source": []
  },
  {
   "cell_type": "code",
   "execution_count": null,
   "metadata": {
    "collapsed": true,
    "run_control": {
     "frozen": false,
     "read_only": false
    }
   },
   "outputs": [],
   "source": []
  },
  {
   "cell_type": "code",
   "execution_count": null,
   "metadata": {
    "collapsed": true,
    "run_control": {
     "frozen": false,
     "read_only": false
    }
   },
   "outputs": [],
   "source": []
  },
  {
   "cell_type": "code",
   "execution_count": null,
   "metadata": {
    "collapsed": true,
    "run_control": {
     "frozen": false,
     "read_only": false
    }
   },
   "outputs": [],
   "source": []
  },
  {
   "cell_type": "code",
   "execution_count": null,
   "metadata": {
    "collapsed": true,
    "run_control": {
     "frozen": false,
     "read_only": false
    }
   },
   "outputs": [],
   "source": []
  },
  {
   "cell_type": "code",
   "execution_count": null,
   "metadata": {
    "collapsed": true,
    "run_control": {
     "frozen": false,
     "read_only": false
    }
   },
   "outputs": [],
   "source": []
  },
  {
   "cell_type": "code",
   "execution_count": null,
   "metadata": {
    "collapsed": true,
    "run_control": {
     "frozen": false,
     "read_only": false
    }
   },
   "outputs": [],
   "source": []
  },
  {
   "cell_type": "code",
   "execution_count": null,
   "metadata": {
    "collapsed": true,
    "run_control": {
     "frozen": false,
     "read_only": false
    }
   },
   "outputs": [],
   "source": []
  },
  {
   "cell_type": "code",
   "execution_count": null,
   "metadata": {
    "collapsed": true,
    "run_control": {
     "frozen": false,
     "read_only": false
    }
   },
   "outputs": [],
   "source": []
  },
  {
   "cell_type": "code",
   "execution_count": null,
   "metadata": {
    "collapsed": true,
    "run_control": {
     "frozen": false,
     "read_only": false
    }
   },
   "outputs": [],
   "source": []
  },
  {
   "cell_type": "code",
   "execution_count": null,
   "metadata": {
    "collapsed": true,
    "run_control": {
     "frozen": false,
     "read_only": false
    }
   },
   "outputs": [],
   "source": []
  }
 ],
 "metadata": {
  "hide_input": true,
  "kernelspec": {
   "display_name": "Python 3",
   "language": "python",
   "name": "python3"
  },
  "language_info": {
   "codemirror_mode": {
    "name": "ipython",
    "version": 3
   },
   "file_extension": ".py",
   "mimetype": "text/x-python",
   "name": "python",
   "nbconvert_exporter": "python",
   "pygments_lexer": "ipython3",
   "version": "3.5.1+"
  },
  "latex_envs": {
   "bibliofile": "biblio.bib",
   "cite_by": "apalike",
   "current_citInitial": 1,
   "eqLabelWithNumbers": true,
   "eqNumInitial": 0
  },
  "nav_menu": {},
  "toc": {
   "navigate_menu": true,
   "number_sections": true,
   "sideBar": false,
   "threshold": 6,
   "toc_cell": false,
   "toc_section_display": "none",
   "toc_window_display": true
  },
  "toc_position": {
   "height": "110px",
   "left": "1714.38px",
   "right": "20px",
   "top": "120px",
   "width": "189px"
  },
  "widgets": {
   "state": {},
   "version": "1.1.0"
  }
 },
 "nbformat": 4,
 "nbformat_minor": 0
}
