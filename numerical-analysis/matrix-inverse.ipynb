{
 "cells": [
  {
   "cell_type": "code",
   "execution_count": 43,
   "metadata": {
    "ExecuteTime": {
     "end_time": "2016-09-02T07:27:50.085040",
     "start_time": "2016-09-02T07:27:50.081666"
    },
    "collapsed": true,
    "run_control": {
     "frozen": false,
     "read_only": false
    }
   },
   "outputs": [],
   "source": [
    "import math\n",
    "import numpy as np"
   ]
  },
  {
   "cell_type": "code",
   "execution_count": 81,
   "metadata": {
    "ExecuteTime": {
     "end_time": "2016-09-02T08:01:55.364916",
     "start_time": "2016-09-02T08:01:55.354005"
    },
    "collapsed": true
   },
   "outputs": [],
   "source": [
    "def inv_safe(mat1):\n",
    "    matinv = np.zeros_like(mat1)\n",
    "    for ix in range(mat1.shape[0]):\n",
    "        elem = mat1[ix,ix]\n",
    "        if abs(elem) > 1e-5:\n",
    "            matinv[ix,ix] = 1./elem\n",
    "        else:\n",
    "            matinv[ix,ix] = 0\n",
    "    #print(matinv)\n",
    "    return matinv\n",
    "\n",
    "def validate_inv(a, ai):\n",
    "    eye_a = a @ ai\n",
    "    diff = np.sum(abs(eye_a - np.eye(a.shape[0])).ravel())\n",
    "    print(diff)\n",
    "    return diff < 1e-5\n",
    "\n",
    "def total_unimodularize(mat1):\n",
    "    mat1[mat1 < 0.33] = -1\n",
    "    mat1[np.logical_and(mat1>=0.33,mat1<0.66)] = 0\n",
    "    mat1[mat1>=0.66] = +1\n",
    "    return mat1\n",
    "\n"
   ]
  },
  {
   "cell_type": "code",
   "execution_count": 82,
   "metadata": {
    "ExecuteTime": {
     "end_time": "2016-09-02T08:02:04.554249",
     "start_time": "2016-09-02T08:02:04.545400"
    },
    "collapsed": false
   },
   "outputs": [
    {
     "name": "stdout",
     "output_type": "stream",
     "text": [
      "zz\n",
      " [[ 0. -1.  1. -1.  1.]\n",
      " [-1.  0.  0.  1. -1.]\n",
      " [-1. -1.  0. -1.  0.]]\n",
      "zzz\n",
      " [[ 4. -2.  2.]\n",
      " [-2.  3.  0.]\n",
      " [ 2.  0.  3.]]\n",
      "zzzi\n",
      " [[ 0.75        0.5        -0.5       ]\n",
      " [ 0.5         0.66666667 -0.33333333]\n",
      " [-0.5        -0.33333333  0.66666667]]\n",
      "5.3290705182e-15\n"
     ]
    },
    {
     "data": {
      "text/plain": [
       "True"
      ]
     },
     "execution_count": 82,
     "metadata": {},
     "output_type": "execute_result"
    }
   ],
   "source": [
    "zz = total_unimodularize(np.random.rand(3,5))\n",
    "print('zz\\n',zz)\n",
    "\n",
    "zzz = zz @ zz.T\n",
    "print('zzz\\n',zzz)\n",
    "\n",
    "u, s, v = np.linalg.svd(zzz)\n",
    "#print('u\\n', u); print('s\\n', s); print('v\\n', v)\n",
    "\n",
    "zzzi = v.T @ inv_safe(np.diag(s)) @ u.T \n",
    "print('zzzi\\n', zzzi)\n",
    "\n",
    "validate_inv(zzz, zzzi)"
   ]
  },
  {
   "cell_type": "code",
   "execution_count": 50,
   "metadata": {
    "ExecuteTime": {
     "end_time": "2016-09-02T07:28:30.616369",
     "start_time": "2016-09-02T07:28:30.611155"
    },
    "collapsed": false
   },
   "outputs": [
    {
     "data": {
      "text/plain": [
       "-0.66810109918390403"
      ]
     },
     "execution_count": 50,
     "metadata": {},
     "output_type": "execute_result"
    }
   ],
   "source": [
    "u[0,0]"
   ]
  },
  {
   "cell_type": "markdown",
   "metadata": {},
   "source": [
    "# Gaussian Elimination\n",
    "\n",
    "Computational efficiency\n",
    "The number of arithmetic operations required to perform row reduction is one way of measuring the algorithm's computational efficiency. For example, to solve a system of n equations for n unknowns by performing row operations on the matrix until it is in echelon form, and then solving for each unknown in reverse order, requires n(n+1) / 2 divisions, (2n3 + 3n2 − 5n)/6 multiplications, and (2n3 + 3n2 − 5n)/6 subtractions,[8] for a total of approximately 2n3 / 3 operations. Thus it has arithmetic complexity of O(n3); see Big O notation. This arithmetic complexity is a good measure of the time needed for the whole computation when the time for each arithmetic operation is approximately constant. This is the case when the coefficients are represented by floating point numbers or when they belong to a finite field. If the coefficients are integers or rational numbers exactly represented, the intermediate entries can grow exponentially large, so the bit complexity is exponential.[9] However, there is a variant of Gaussian elimination, called Bareiss algorithm that avoids this exponential growth of the intermediate entries, and, with the same arithmetic complexity of O(n3), has a bit complexity of O(n5).\n",
    "\n",
    "This algorithm can be used on a computer for systems with thousands of equations and unknowns. However, the cost becomes prohibitive for systems with millions of equations. These large systems are generally solved using iterative methods. Specific methods exist for systems whose coefficients follow a regular pattern (see system of linear equations).\n",
    "\n",
    "To put an n by n matrix into reduced echelon form by row operations, one needs n^{3} arithmetic operations; which is approximately 50% more computation steps.[10]\n",
    "\n",
    "One possible problem is numerical instability, caused by the possibility of dividing by very small numbers. If, for example, the leading coefficient of one of the rows is very close to zero, then to row reduce the matrix one would need to divide by that number so the leading coefficient is 1. This means any error that existed for the number which was close to zero would be amplified. Gaussian elimination is numerically stable for diagonally dominant or positive-definite matrices. For general matrices, Gaussian elimination is usually considered to be stable, when using partial pivoting, even though there are examples of stable matrices for which it is unstable.[11]\n",
    "\n",
    "src: [wiki](https://www.wikiwand.com/en/Gaussian_elimination#/Computational_efficiency)"
   ]
  },
  {
   "cell_type": "markdown",
   "metadata": {},
   "source": [
    "# SVD\n",
    "\n",
    "The SVD of a matrix M is typically computed by a two-step procedure. In the first step, the matrix is reduced to a bidiagonal matrix. This takes O(mn2) floating-point operations (flops), assuming that m ≥ n. The second step is to compute the SVD of the bidiagonal matrix. This step can only be done with an iterative method (as with eigenvalue algorithms). \n",
    "\n",
    "[wiki](https://www.wikiwand.com/en/Singular_value_decomposition#/Calculating_the_SVD)"
   ]
  },
  {
   "cell_type": "markdown",
   "metadata": {},
   "source": [
    "# QR Decomposition\n",
    "\n",
    "\n",
    "The QR decomposition via Givens rotations is the most involved to implement, as the ordering of the rows required to fully exploit the algorithm are not trivial to determine. However, it has a significant advantage in that each new zero element affects only the row with the element to be zeroed and the row above. This makes the Givens rotation algorithm more bandwidth efficient and parallelisable, in contrast with the Householder reflection technique.\n",
    "\n",
    "[wiki](https://www.wikiwand.com/en/QR_decomposition#/Computing_the_QR_decomposition)"
   ]
  },
  {
   "cell_type": "markdown",
   "metadata": {},
   "source": [
    "# Gram Schmidt\n",
    "\n",
    "The cost of this algorithm is asymptotically 2nk2 floating point operations, where n is the dimensionality of the vectors (Golub & Van Loan 1996, §5.2.8).\n",
    "\n"
   ]
  },
  {
   "cell_type": "markdown",
   "metadata": {},
   "source": [
    "# Cholesky\n",
    "\n",
    "There are various methods for calculating the Cholesky decomposition. The computational complexity of commonly used algorithms is O(n3) in general.[citation needed] The algorithms described below all involve about n3/3 FLOPs, where n is the size of the matrix A. Hence, they are half the cost of the LU decomposition, which uses 2n3/3 FLOPs (see Trefethen and Bau 1997).\n",
    "\n",
    "Which of the algorithms below is faster depends on the details of the implementation. Generally, the first algorithm will be slightly slower because it accesses the data in a less regular manner.\n",
    "\n",
    "[wiki](https://www.wikiwand.com/en/Cholesky_decomposition#/Computation)"
   ]
  }
 ],
 "metadata": {
  "hide_input": false,
  "kernelspec": {
   "display_name": "Python 3",
   "language": "python",
   "name": "python3"
  },
  "language_info": {
   "codemirror_mode": {
    "name": "ipython",
    "version": 3
   },
   "file_extension": ".py",
   "mimetype": "text/x-python",
   "name": "python",
   "nbconvert_exporter": "python",
   "pygments_lexer": "ipython3",
   "version": "3.5.2"
  },
  "latex_envs": {
   "bibliofile": "biblio.bib",
   "cite_by": "apalike",
   "current_citInitial": 1,
   "eqLabelWithNumbers": true,
   "eqNumInitial": 0
  },
  "nav_menu": {},
  "toc": {
   "navigate_menu": true,
   "number_sections": true,
   "sideBar": false,
   "threshold": 6,
   "toc_cell": false,
   "toc_section_display": "block",
   "toc_window_display": false
  }
 },
 "nbformat": 4,
 "nbformat_minor": 1
}
