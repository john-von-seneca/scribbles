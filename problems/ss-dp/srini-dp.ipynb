{
 "cells": [
  {
   "cell_type": "code",
   "metadata": {},
   "outputs": [],
   "source": [
    "import numpy as np\n",
    "import matplotlib.pyplot as plt\n",
    "%matplotlib inline\n",
    "import math"
   ]
  },
  {
   "cell_type": "markdown",
   "metadata": {},
   "source": [
    "$\n",
    "\\newcommand{\\xb}{\\mathbf{x}}\n",
    "$\n"
   ]
  },
  {
   "cell_type": "code",
   "metadata": {},
   "outputs": [],
   "source": [
    "lines = open(\"points_file2.txt\").readlines()\n",
    "points = np.array([list(map(float, line[:-1].split())) for line in lines])\n",
    "print(points.shape)"
   ]
  },
  {
   "cell_type": "code",
   "metadata": {},
   "outputs": [],
   "source": [
    "def distance_pts(pt1, pt2):\n",
    "    return np.sqrt(np.sum(np.square(pt1 - pt2)))"
   ]
  },
  {
   "cell_type": "markdown",
   "metadata": {},
   "source": [
    "init the memo matrix.  \n",
    "* diagonals are zero\n",
    "* we need to worry about the upper triangle\n",
    "* compute (i, i+1) as the distance between the points right away"
   ]
  },
  {
   "cell_type": "code",
   "metadata": {},
   "outputs": [],
   "source": [
    "n = points.shape[0]\n",
    "print(points.shape)\n",
    "memo = np.zeros((n,n))\n",
    "for ix in range(n-1):\n",
    "    memo[ix, ix+1] = distance_pts(points[ix,:], points[ix+1,:])"
   ]
  },
  {
   "cell_type": "code",
   "metadata": {},
   "outputs": [],
   "source": [
    "fig = plt.figure()\n",
    "ax = fig.add_subplot(111, projection='3d')\n",
    "ax.scatter(points[:,0], points[:,1], points[:,2])\n",
    "plt.show()"
   ]
  },
  {
   "cell_type": "markdown",
   "metadata": {
    "hide_input": false
   },
   "source": [
    "$$\n",
    " t=-\\frac{(\\xb_1-\\xb_0)^T (\\xb_2-\\xb_1)}{|\\xb_2-\\xb_1|^2} \n",
    " $$\n",
    " \n",
    "$$\n",
    "d=\\frac{|\\xb_1-\\xb_0|^2|\\xb_2-\\xb_1|^2-[(\\xb_1-\\xb_0)·(\\xb_2-\\xb_1)]^2}{|\\xb_2-\\xb_1|^2}\n",
    "$$"
   ]
  },
  {
   "cell_type": "code",
   "metadata": {},
   "outputs": [],
   "source": [
    "def distance_pt_line(pt1, pt2, pt0):\n",
    "    num_1 = np.sum(np.square(pt1-pt0)) * np.sum(np.square(pt2-pt1))\n",
    "    num_2 = (np.sum((pt1-pt0)*(pt2-pt1)))**2\n",
    "    den_1 = np.sum(np.square(pt2-pt1))\n",
    "    #print(num_1, num_2, den_1)\n",
    "    return math.sqrt((num_1 - num_2)/den_1)\n",
    "#distance_pt_line(points[0,:], points[1,:], points[4,:])\n",
    "#distances = np.zeros((n,n))"
   ]
  },
  {
   "cell_type": "code",
   "metadata": {},
   "outputs": [],
   "source": [
    "def compute_cost(points, memo, j, k, verbose=False, force=False):\n",
    "    if(not(force) and not(np.isnan(memo[j,k]))):\n",
    "        return memo[j, k]\n",
    "    if verbose:\n",
    "        print(\"compute cost {0},{1}\".format(j,k))\n",
    "    \n",
    "    p_start = points[j, :]\n",
    "    p_end = points[k, :]\n",
    "    memo[j, k] = 2*distance_pts(points[j, :], points[k, :])\n",
    "    for i in range(j+1, k):\n",
    "        memo[j, k] += distance_pt_line(p_start, p_end, points[i,:])\n",
    "\n",
    "    return memo[j, k]"
   ]
  },
  {
   "cell_type": "code",
   "metadata": {},
   "outputs": [],
   "source": [
    "distance_pt_line(np.array([0,0,0]), np.array([1,0,0]), np.array([0,1,0]))"
   ]
  },
  {
   "cell_type": "code",
   "metadata": {},
   "outputs": [],
   "source": [
    "memo_tmp = np.full((3,3), np.nan)\n",
    "pts_tmp = np.array([[0,0,0],[0,1,0],[1,0,0]])\n",
    "compute_cost(pts_tmp, memo_tmp, 0, 2)"
   ]
  },
  {
   "cell_type": "code",
   "metadata": {},
   "outputs": [],
   "source": [
    "memo_tmp = np.full((4,4), np.nan)\n",
    "compute_cost(points, memo_tmp, 0, 3)"
   ]
  },
  {
   "cell_type": "code",
   "metadata": {},
   "outputs": [],
   "source": [
    "def flatten(list1):\n",
    "    return [item for sublist in list1 for item in sublist]\n",
    "def compute_best(points, memo_cost, memo_splits, j=0, k=n-1, verbose=False):\n",
    "    if verbose:\n",
    "        print('compute_best: {0},{1}'.format(j, k))\n",
    "    if(not(np.isnan(memo_cost[j, k])) and (memo_splits[j][k] is not None)):\n",
    "        return (memo_cost[j, k], memo_splits[j][k])\n",
    "    \n",
    "    min_cost = compute_cost(points, memo_cost, j, k, verbose)    \n",
    "    best_splits = [j,k]\n",
    "\n",
    "    if((k-j)==1):\n",
    "        if verbose:\n",
    "            print('k-j==1')\n",
    "        memo_cost[j,k] = min_cost\n",
    "        memo_splits[j][k] = best_splits\n",
    "        return (memo_cost[j,k], memo_splits[j][k])\n",
    "    if(k==j):\n",
    "        if verbose:\n",
    "            print('k==j')\n",
    "        return (0, [])\n",
    "    if(k<j):\n",
    "        1/0\n",
    "    \n",
    "    for i in range(j+1,k):\n",
    "        if verbose:\n",
    "            print('compute-best::split::{0}'.format(i))\n",
    "        val1, splits1 = compute_best(points, memo_cost, memo_splits, j, i, verbose)\n",
    "        if val1 > min_cost:\n",
    "            continue\n",
    "        val2, splits2 = compute_best(points, memo_cost, memo_splits, i, k, verbose)\n",
    "        current_cost = val1 + val2\n",
    "        if(current_cost < min_cost):\n",
    "            min_cost = current_cost\n",
    "            best_splits = flatten([splits1, splits2[1:]])\n",
    "    memo_cost[j,k] = min_cost\n",
    "    memo_splits[j][k] = best_splits\n",
    "\n",
    "    return (memo_cost[j,k], memo_splits[j][k])\n",
    "\n",
    "memo_cost = np.full((n,n), np.nan)\n",
    "print(np.isnan(memo_cost[1,3]))\n",
    "memo_splits = [[None for ix in range(n)] for jx in range(n)]\n",
    "compute_best(points, memo_cost, memo_splits, 0, n-1, verbose=False)"
   ]
  },
  {
   "cell_type": "code",
   "metadata": {},
   "outputs": [],
   "source": [
    "print(memo_cost[0,:])"
   ]
  }
 ],
 "metadata": {
  "hide_input": false,
  "kernelspec": {
   "display_name": "Python 3",
   "language": "python",
   "name": "python3"
  },
  "language_info": {
   "codemirror_mode": {
    "name": "ipython",
    "version": 3
   },
   "file_extension": ".py",
   "mimetype": "text/x-python",
   "name": "python",
   "nbconvert_exporter": "python",
   "pygments_lexer": "ipython3"
  },
  "latex_envs": {
   "bibliofile": "biblio.bib",
   "cite_by": "apalike",
   "current_citInitial": 1,
   "eqLabelWithNumbers": true,
   "eqNumInitial": 0
  },
  "toc": {
   "toc_cell": false,
   "toc_number_sections": true,
   "toc_threshold": 6,
   "toc_window_display": false
  }
 },
 "nbformat": 4,
 "nbformat_minor": 0
}
