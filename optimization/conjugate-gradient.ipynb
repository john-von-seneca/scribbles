{
 "cells": [
  {
   "cell_type": "code",
   "metadata": {},
   "outputs": [],
   "source": [
    "import numpy as np\n",
    "import scipy as sp\n",
    "\n",
    "from matplotlib import pyplot as plt\n",
    "from matplotlib import cm as mp_cm\n",
    "from mpl_toolkits.mplot3d import Axes3D\n",
    "%matplotlib inline\n",
    "\n",
    "import random as rnd\n",
    "import os\n",
    "import math\n",
    "\n",
    "# required for interactive plotting\n",
    "from __future__ import print_function\n",
    "from ipywidgets import interact, interactive, fixed\n",
    "import ipywidgets as widgets\n",
    "import numpy.polynomial as np_poly\n",
    "\n",
    "from IPython.display import Math\n",
    "from IPython.display import Latex\n",
    "from IPython.display import HTML\n",
    "\n",
    "from pprint import pprint\n",
    "import functools as ft\n",
    "\n",
    "from graphviz import Digraph\n",
    "\n",
    "DIR_HOME = os.environ['HOME']\n",
    "DIR_REPOS = DIR_HOME + \"/neo-human/repos\"\n",
    "DIR_BMLSP = DIR_REPOS + \"/luispedro/BuildingMachineLearningSystemsWithPython\""
   ]
  },
  {
   "cell_type": "markdown",
   "metadata": {},
   "source": [
    "initialization\n",
    "$\n",
    "\\newcommand{\\Brace}[1]{\\left\\{#1\\right\\}}\n",
    "\\newcommand{\\Bracket}[1]{\\left[#1\\right]}\n",
    "\\newcommand{\\cases}[1]{\\begin{cases}#1\\end{cases}}\n",
    "\\newcommand{\\cov}[1]{\\text{cov} \\sigma\\left[#1\\right]}\n",
    "\\newcommand{\\diff}[2]{\\frac{d #1}{d #2}}\n",
    "\\newcommand{\\difftwo}[2]{\\frac{d^2 #1}{d {#2}^2}}\n",
    "\\newcommand{\\diffn}[2]{{#1}^{\\prime}(#2)}\n",
    "\\newcommand{\\ds}{\\displaystyle}\n",
    "\\newcommand{\\E}[1]{\\mathbb{E}\\left[ #1 \\right]}\n",
    "\\newcommand{\\expb}[1]{\\exp\\left\\{#1\\right\\}} \n",
    "\\newcommand{\\EXP}[1]{\\exp\\left\\{#1\\right\\}} \n",
    "\\newcommand{\\frachalf}[1]{\\frac{#1}{2}~}\n",
    "\\newcommand{\\fracone}[1]{\\frac{1}{#1}~}\n",
    "\\newcommand{\\fracrec}[1]{\\frac{1}{#1}~}\n",
    "\\newcommand{\\half}{\\fracone{2}}\n",
    "\\newcommand{\\H}[1]{\\mathbb{H}\\left[#1\\right]}\n",
    "\\newcommand{\\Int}[2]{\\displaystyle \\int_{#1}^{#2}~}\n",
    "\\newcommand{\\intinfinf}{\\Int{-\\infty}{\\infty}}\n",
    "\\newcommand{\\inv}[1]{#1^{-1}}\n",
    "\\newcommand{\\invp}[1]{\\left({#1}\\right)^{-1}}\n",
    "\\newcommand{\\KL}[2]{\\text{KL}\\left(#1 \\Vert #2\\right)}\n",
    "\\newcommand{\\Lim}[1]{\\displaystyle \\lim_{#1}}\n",
    "\\newcommand{\\Ln}[1]{\\ln \\left\\(#1\\right\\)}\n",
    "\\newcommand{\\Lnb}[1]{\\ln \\left\\{#1\\right\\} }\n",
    "\\newcommand{\\Mod}[1]{\\left|#1\\right|}\n",
    "\\newcommand{\\Norm}[1]{\\left\\lVert #1 \\right\\rVert}\n",
    "\\newcommand{\\Normsqr}[1]{\\Norm{#1}^2}\n",
    "\\newcommand{\\map}[1]{#1_{\\text{MAP}}}\n",
    "\\newcommand{\\ml}[1]{#1_{\\text{ML}}}\n",
    "\\newcommand{\\MI}[1]{\\mathcal{I}\\left(#1\\right)}\n",
    "\\newcommand{\\P}{\\mathbb{P}}\n",
    "\\newcommand{\\Paran}[1]{\\left(#1\\right)}\n",
    "\\newcommand{\\Partial}[2]{\\frac{\\partial #1}{\\partial #2}}\n",
    "\\newcommand{\\sqrbrkt}[1]{\\Bracket{#1}^2}\n",
    "\\newcommand{\\sqrbrc}[1]{\\Brace{#1}^2}\n",
    "\\newcommand{\\trace}[1]{\\text{Tr}\\left( #1 \\right)}\n",
    "\\newcommand{\\traceb}[1]{\\text{Tr}\\left\\{#1\\right\\}}\n",
    "\\newcommand{\\underl}[1]{\\text{$\\underline{#1}$}}\n",
    "\\newcommand{\\V}[1]{\\mathbb{V}\\left[#1\\right]}\n",
    "$\n",
    "$\n",
    "\\DeclareMathOperator*{\\argmin}{arg\\,min}\n",
    "\\DeclareMathOperator*{\\argmax}{arg\\,max}\n",
    "$\n",
    "$\n",
    "\\newcommand{\\mat}[1]{ \\left[ \\begin{matrix} #1 \\end{matrix} \\right] }\n",
    "\\newcommand{\\matp}[1]{ \\left( \\begin{matrix} #1 \\end{matrix} \\right)}\n",
    "\\newcommand{\\mats}[1]{ \\begin{matrix}#1\\end{matrix} }\n",
    "\\newcommand{\\arrthree}[1]{\n",
    "\\begin{array}{rlr} #1 \\end{array}}\n",
    "$"
   ]
  },
  {
   "cell_type": "markdown",
   "metadata": {},
   "source": [
    "$\n",
    "\\newcommand{\\C}{\\mathbb{C}}\n",
    "\\newcommand{\\Ca}{\\mathcal{C}}\n",
    "\\newcommand{\\Caone}{\\Ca_1}\n",
    "\\newcommand{\\Catwo}{\\Ca_2}\n",
    "\\newcommand{\\Cak}{\\Ca_k}\n",
    "\\newcommand{\\D}{\\mathcal{D}}\n",
    "\\newcommand{\\G}{\\mathcal{G}}\n",
    "\\newcommand{\\I}{\\mathcal{I}}\n",
    "\\newcommand{\\L}{\\mathcal{L}}\n",
    "\\newcommand{\\M}{\\mathcal{M}}\n",
    "\\newcommand{\\N}{\\mathbb{N}}\n",
    "\\newcommand{\\R}{\\mathbb{R}}\n",
    "\\newcommand{\\Ra}{\\mathcal{R}}\n",
    "$\n",
    "$\n",
    "\\newcommand{\\commentgray}[1]{\\color{gray}{\\text{#1}}}\n",
    "$"
   ]
  },
  {
   "cell_type": "markdown",
   "metadata": {},
   "source": [
    "sum, product\n",
    "$\n",
    "\\newcommand{\\sumi}{\\displaystyle \\sum_i}\n",
    "\\newcommand{\\sumiD}{\\displaystyle \\sum_{i=1}^{D}}\n",
    "\\newcommand{\\sumiL}{\\displaystyle \\sum_{i=1}^{L}}\n",
    "\\newcommand{\\sumiN}{\\displaystyle \\sum_{i=1}^{N}}\n",
    "\\newcommand{\\sumjnl}{\\sum_{j=0}^{n-1}}\n",
    "\\newcommand{\\sumjD}{\\displaystyle \\sum_{j=1}^{D}}\n",
    "\\newcommand{\\sumjK}{\\displaystyle \\sum_{j=1}^{K}}\n",
    "\\newcommand{\\sumjMl}{\\sum_{j=1}^{M-1}}\n",
    "\\newcommand{\\sumkK}{\\displaystyle \\sum_{k=1}^{K}}\n",
    "\\newcommand{\\sumkM}{\\displaystyle \\sum_{k=1}^{M}}\n",
    "\\newcommand{\\sumkMl}{\\sum_{k=1}^{M-1}}\n",
    "\\newcommand{\\sumkp}{\\displaystyle \\sum_{k=1}^{p}}\n",
    "\\newcommand{\\summN}{\\displaystyle \\sum_{m=1}^{N}}\n",
    "\\newcommand{\\sumnN}{\\displaystyle \\sum_{n=1}^{N}}\n",
    "$\n",
    "$\n",
    "\\newcommand{\\prodi}{\\displaystyle \\prod_i}\n",
    "\\newcommand{\\prodiD}{\\displaystyle \\prod_{i=1}^{D}}\n",
    "\\newcommand{\\prodiL}{\\displaystyle \\prod_{i=1}^{L}}\n",
    "\\newcommand{\\prodiN}{\\displaystyle \\prod_{i=1}^{N}}\n",
    "\\newcommand{\\prodjK}{\\displaystyle \\prod_{j=1}^{K}}\n",
    "\\newcommand{\\prodkK}{\\displaystyle \\prod_{k=1}^{K}}\n",
    "\\newcommand{\\prodmN}{\\displaystyle \\prod_{m=1}^{N}}\n",
    "\\newcommand{\\prodnN}{\\displaystyle \\prod_{n=1}^{N}}\n",
    "$"
   ]
  },
  {
   "cell_type": "markdown",
   "metadata": {},
   "source": [
    "alphabet shortcuts\n",
    "$\n",
    "\\newcommand{\\ab}{\\mathbf{a}}\n",
    "\\newcommand{\\at}{\\ab^T}\n",
    "\\newcommand{\\Ab}{\\mathbf{A}}\n",
    "\\newcommand{\\At}{\\Ab^T}\n",
    "\\newcommand{\\Ai}{\\inv{\\Ab}}\n",
    "\\newcommand{\\Abjk}{\\Ab_{jk}}\n",
    "\\newcommand{\\bb}{\\mathbf{b}}\n",
    "\\newcommand{\\bt}{\\bb^T}\n",
    "\\newcommand{\\Bb}{\\mathbf{B}}\n",
    "\\newcommand{\\Bt}{\\Bb^T}\n",
    "\\newcommand{\\Cb}{\\mathbf{C}}\n",
    "\\newcommand{\\Cn}{\\Cb_{N}}\n",
    "\\newcommand{\\Db}{\\mathbf{D}}\n",
    "\\newcommand{\\fb}{\\mathbf{f}}\n",
    "\\newcommand{\\fp}{f^{\\prime}}\n",
    "\\newcommand{\\Hb}{\\mathbf{H}}\n",
    "\\newcommand{\\hx}{h(\\xb)}\n",
    "\\newcommand{\\Jb}{\\mathbf{J}}\n",
    "\\newcommand{\\kb}{\\mathbf{k}}\n",
    "\\newcommand{\\kt}{\\kb^T}\n",
    "\\newcommand{\\Kb}{\\mathbf{K}}\n",
    "\\newcommand{\\Lb}{\\mathbf{L}}\n",
    "\\newcommand{\\Lt}{\\Lb^T}\n",
    "\\newcommand{\\Lbi}{\\Lb^{-1}}\n",
    "\\newcommand{\\mb}{\\mathbf{m}}\n",
    "\\newcommand{\\mt}{\\mb^T}\n",
    "\\newcommand{\\mbn}{\\mb_N}\n",
    "\\newcommand{\\mbnt}{\\mbn^T}\n",
    "\\newcommand{\\mbN}{\\mb_N}\n",
    "\\newcommand{\\mbNt}{\\mbn^T}\n",
    "\\newcommand{\\Mb}{\\mathbf{M}}\n",
    "\\newcommand{\\Qb}{\\mathbf{Q}}\n",
    "\\newcommand{\\Rb}{\\mathbf{R}}\n",
    "\\newcommand{\\sb}{\\mathbf{s}}\n",
    "\\newcommand{\\Sb}{\\mathbf{S}}\n",
    "\\newcommand{\\tb}{\\mathbf{t}}\n",
    "\\newcommand{\\tbnn}{\\tb_{N}}\n",
    "\\newcommand{\\tbnp}{\\tb_{N+1}}\n",
    "\\newcommand{\\tt}{\\tb^T}\n",
    "\\newcommand{\\Tb}{\\mathbf{T}}\n",
    "\\newcommand{\\Tt}{\\Tb^T}\n",
    "\\newcommand{\\ub}{\\mathbf{u}}\n",
    "\\newcommand{\\Ub}{\\mathbf{U}}\n",
    "\\newcommand{\\Ut}{\\Ub^T}\n",
    "\\newcommand{\\vb}{\\mathbf{v}}\n",
    "\\newcommand{\\Vb}{\\mathbf{V}}\n",
    "\\newcommand{\\wb}{\\mathbf{w}}\n",
    "\\newcommand{\\wnr}[1]{\\wb^{(\\text{#1})}}\n",
    "\\newcommand{\\wt}{\\wb^T}\n",
    "\\newcommand{\\Wb}{\\mathbf{W}}\n",
    "\\newcommand{\\Wt}{\\Wb^T}\n",
    "\\newcommand{\\Wtilde}{\\widetilde{\\Wb}}\n",
    "\\newcommand{\\Wtildet}{\\Wtilde^T}\n",
    "\\newcommand{\\Xb}{\\mathbf{X}}\n",
    "\\newcommand{\\Xt}{\\Xb^T}\n",
    "\\newcommand{\\Xk}{\\Xb_k}\n",
    "\\newcommand{\\Xkt}{\\Xk^T}\n",
    "\\newcommand{\\Xtilde}{\\widetilde{\\Xb}}\n",
    "\\newcommand{\\Xtildet}{\\Xtilde^T}\n",
    "\\newcommand{\\xb}{\\mathbf{x}}\n",
    "\\newcommand{\\xt}{\\xb^T}\n",
    "\\newcommand{\\xtilde}{\\widetilde{\\xb}}\n",
    "\\newcommand{\\xtilden}{\\xtilde_n}\n",
    "\\newcommand{\\xtildent}{\\xtilden^T}\n",
    "\\newcommand{\\xp}{x^{\\prime}}\n",
    "\\newcommand{\\xbp}{\\xb^{\\prime}}\n",
    "\\newcommand{\\xbm}{\\xb_m}\n",
    "\\newcommand{\\xbn}{\\xb_n}\n",
    "\\newcommand{\\xbnp}{\\xb_{N+1}}\n",
    "\\newcommand{\\xab}{\\mathbf{x_a}}\n",
    "\\newcommand{\\xabt}{\\mathbf{x_a}^T}\n",
    "\\newcommand{\\xbb}{\\mathbf{x_b}}\n",
    "\\newcommand{\\xbbt}{\\mathbf{x_b}^T}\n",
    "\\newcommand{\\yb}{\\mathbf{y}}\n",
    "\\newcommand{\\yt}{\\yb^T}\n",
    "\\newcommand{\\yx}{y(\\xb)}\n",
    "\\newcommand{\\Yb}{\\mathbf{Y}}\n",
    "\\newcommand{\\Yt}{\\Yb^T}\n",
    "\\newcommand{\\zb}{\\mathbf{z}}\n",
    "\\newcommand{\\zt}{\\zb^T}\n",
    "\\newcommand{\\zbm}{\\zb_m}\n",
    "\\newcommand{\\zbn}{\\zb_n}\n",
    "\\newcommand{\\zbnp}{\\zb_{n-1}}\n",
    "\\newcommand{\\znk}{\\zb_{nk}}\n",
    "\\newcommand{\\znpj}{\\zb_{n-1,j}}\n",
    "\\newcommand{\\Zb}{\\mathbf{Z}}\n",
    "$"
   ]
  },
  {
   "cell_type": "markdown",
   "metadata": {},
   "source": [
    "math shortcuts\n",
    "$\n",
    "\\newcommand{\\alphab}{\\pmb{\\alpha}}\n",
    "\\newcommand{\\alphabt}{\\alphab^T}\n",
    "\\newcommand{\\betab}{\\pmb{\\beta}}\n",
    "\\newcommand{\\betabp}{\\betab^{\\prime}}\n",
    "\\newcommand{\\chib}{\\boldsymbol{\\chi}}\n",
    "\\newcommand{\\etab}{\\pmb{\\eta}}\n",
    "\\newcommand{\\etabp}{\\etab^{\\prime}}\n",
    "\\newcommand{\\etat}{\\eta^T}\n",
    "\\newcommand{\\etabt}{\\etab^T}\n",
    "\\newcommand{\\Lambdab}{\\pmb{\\Lambda}}\n",
    "\\newcommand{\\laa}{\\Lambda_{aa}}\n",
    "\\newcommand{\\laai}{\\Lambda_{aa}^{-1}}\n",
    "\\newcommand{\\lab}{\\Lambda_{ab}}\n",
    "\\newcommand{\\lba}{\\Lambda_{ba}}\n",
    "\\newcommand{\\lbb}{\\Lambda_{bb}}\n",
    "\\newcommand{\\lbbi}{\\Lambda_{bb}^{-1}}\n",
    "\\newcommand{\\li}{\\Lambda^{-1}}\n",
    "\\newcommand{\\Li}{\\Lambda^{-1}}\n",
    "\\newcommand{\\mub}{\\pmb{\\mu}}\n",
    "\\newcommand{\\mut}{\\mub^T}\n",
    "\\newcommand{\\muab}{\\pmb{\\mu}_a}\n",
    "\\newcommand{\\mubb}{\\pmb{\\mu}_b}\n",
    "\\newcommand{\\Phib}{\\pmb{\\Phi}}\n",
    "\\newcommand{\\Phibt}{\\Phib^T}\n",
    "\\newcommand{\\pib}{\\pmb{\\pi}}\n",
    "\\newcommand{\\sigmasqr}{\\sigma^2}\n",
    "\\newcommand{\\saa}{\\Sigma_{aa}}\n",
    "\\newcommand{\\sab}{\\Sigma_{ab}}\n",
    "\\newcommand{\\sba}{\\Sigma_{ba}}\n",
    "\\newcommand{\\sbb}{\\Sigma_{bb}}\n",
    "\\newcommand{\\Sigmai}{\\inv{\\Sigma}}\n",
    "\\newcommand{\\thetab}{\\pmb{\\theta}}\n",
    "\\newcommand{\\thetat}{\\thetab^T}\n",
    "\\newcommand{\\thetabh}{\\hat{\\thetab}}\n",
    "\\newcommand{\\thetaold}{\\thetab^{\\text{old}}}\n",
    "$\n",
    "$\n",
    "\\newcommand{\\zerob}{\\pmb{0}}\n",
    "\\newcommand{\\oneb}{\\pmb{1}}\n",
    "\\newcommand{\\ed}{\\mathbb{E}_{\\D}}\n",
    "\\newcommand{\\edyx}{\\ed\\left[y(\\xb ; \\D)\\right]}\n",
    "\\newcommand{\\dx}{~dx}\n",
    "\\newcommand{\\dxb}{~d\\xb}\n",
    "\\newcommand{\\pxdxb}{p(\\xb) \\dxb}\n",
    "\\newcommand{\\dwb}{~d\\wb}\n",
    "$"
   ]
  },
  {
   "cell_type": "markdown",
   "metadata": {},
   "source": [
    "aliases for distributions\n",
    "$\\newcommand{\\multivarcoeff}{\\frac{1}{(2\\pi)^{D/2}}\n",
    "\\frac{1}{\\left| \\mathbf{\\Sigma}\\right|^{1/2}}}$\n",
    "$\\newcommand{\\multivarexp}[2]\n",
    "{\n",
    "\\left\\{\n",
    " -\\frac{1}{2} \n",
    " {#1}^T \n",
    " #2\n",
    " {#1}\n",
    "\\right\\}\n",
    "}$\n",
    "$\\newcommand{\\multivarexpx}[1]{\\multivarexp{#1}{\\Sigma^{-1}}}$\n",
    "$\\newcommand{\\multivarexpstd}{\\multivarexpx{(\\xb-\\mub)}}$\n",
    "$\\newcommand{\\gam}{\\operatorname{Gam}}$\n",
    "$\n",
    "\\newcommand{\\Nl}[3]{\\mathcal{N}\\left(#1 \\mid #2, #3\\right)}\n",
    "\\newcommand{\\Nstdx}{\\Nl{\\mathbf{x}}{\\mathbf{\\mu}}{\\Sigma}}\n",
    "$"
   ]
  },
  {
   "cell_type": "markdown",
   "metadata": {},
   "source": [
    "$\n",
    "\\newcommand{\\ai}{\\alpha_{(i)}}\n",
    "\\newcommand{\\aj}{\\alpha_{(j)}}\n",
    "\\newcommand{\\bi}{\\beta_{(i)}}\n",
    "\\newcommand{\\bij}{\\beta_{ij}}\n",
    "\\newcommand{\\bik}{\\beta_{ik}}\n",
    "\\newcommand{\\di}{d_{(i)}}\n",
    "\\newcommand{\\dit}{\\di^T}\n",
    "\\newcommand{\\dii}{d_{(i+1)}}\n",
    "\\newcommand{\\diit}{\\dii^T}\n",
    "\\newcommand{\\dj}{d_{(j)}}\n",
    "\\newcommand{\\djt}{\\dj^T}\n",
    "\\newcommand{\\dk}{d_{(k)}}\n",
    "\\newcommand{\\dkt}{\\dk^T}\n",
    "\\newcommand{\\ei}{e_{(i)}}\n",
    "\\newcommand{\\eii}{e_{(i+1)}}\n",
    "\\newcommand{\\ek}{e_{(k)}}\n",
    "\\newcommand{\\ri}{r_{(i)}}\n",
    "\\newcommand{\\rit}{\\ri^T}\n",
    "\\newcommand{\\rii}{r_{(i+1)}}\n",
    "\\newcommand{\\rj}{r_{(j)}}\n",
    "\\newcommand{\\rjt}{\\rj^T}\n",
    "\\newcommand{\\rjj}{r_{(j+1)}}\n",
    "\\newcommand{\\ui}{u_i}\n",
    "\\newcommand{\\uit}{\\ui^T}\n",
    "\\newcommand{\\xi}{x_{(i)}}\n",
    "\\newcommand{\\xii}{x_{(i+1)}}\n",
    "$\n"
   ]
  },
  {
   "cell_type": "code",
   "metadata": {},
   "outputs": [],
   "source": [
    "HTML(\"<style>\"\\\n",
    "    \"div.cell{\"\\\n",
    "        \"width:50%;\"\\\n",
    "        \"margin-left:25%;\"\\\n",
    "        \"margin-right:auto;\"\\\n",
    "    \"}\"\\\n",
    "\"</style>\")"
   ]
  },
  {
   "cell_type": "markdown",
   "metadata": {},
   "source": [
    "# Quadratic form"
   ]
  },
  {
   "cell_type": "markdown",
   "metadata": {},
   "source": [
    "consider\n",
    "$$\n",
    "f(\\xb) = \\xt \\Ab \\xb - \\bt \\xb + c \n",
    "$$\n",
    "\n",
    "f(**x**) is minimized at the solution to $\\Ab \\xb = \\bb$"
   ]
  },
  {
   "cell_type": "code",
   "metadata": {},
   "outputs": [],
   "source": [
    "A = np.array([[3,2],[2,6]])\n",
    "b = np.array([[2],[-8]]).reshape(-1,1)\n",
    "c = 0\n",
    "print('shapes: A,b,c ::', A.shape, b.shape)\n",
    "\n",
    "x_star = np.linalg.inv(A) @ b\n",
    "print(x_star)"
   ]
  },
  {
   "cell_type": "code",
   "metadata": {},
   "outputs": [],
   "source": [
    "num_pts = 3e2\n",
    "x,y = np.meshgrid(np.linspace(-6,8,num_pts), np.linspace(-10,6,num_pts))\n",
    "X = np.vstack([x.ravel(), y.ravel()])\n",
    "\n",
    "z = X * (A @ X) - b.T @ X - c\n",
    "z = np.sum(z, axis=0).reshape((x.shape[0],y.shape[0]))\n",
    "print('shapes: x,y,X,z ::', x.shape, y.shape, X.shape, z.shape)\n",
    "\n",
    "%matplotlib notebook\n",
    "\n",
    "fig = plt.figure()\n",
    "ax = fig.gca(projection='3d')\n",
    "surf = ax.plot_surface(x, y, z, linewidth=0, cmap=mp_cm.coolwarm)\n",
    "fig.colorbar(surf)\n",
    "\n",
    "plt.show()\n",
    "\n",
    "plt_cf = plt.contourf(x,y,z)\n",
    "plt.colorbar(plt_cf)\n",
    "#plt.show()\n",
    "\n",
    "#plt.contour(x,y,z)\n",
    "#plt.show()"
   ]
  },
  {
   "cell_type": "code",
   "metadata": {},
   "outputs": [],
   "source": [
    "%matplotlib inline"
   ]
  },
  {
   "cell_type": "code",
   "metadata": {},
   "outputs": [],
   "source": [
    "plt.contourf(x,y,z)\n",
    "plt.show()\n",
    "\n",
    "plt.contour(x,y,z)\n",
    "plt.show()"
   ]
  },
  {
   "cell_type": "markdown",
   "metadata": {},
   "source": [
    "# convergence analysis of steepest descent"
   ]
  },
  {
   "cell_type": "markdown",
   "metadata": {},
   "source": [
    "## instant results"
   ]
  },
  {
   "cell_type": "markdown",
   "metadata": {},
   "source": [
    "Consider the case when $\\ei$ is an eigenvector with eigenvalue $\\lambda_e$  \n",
    "\n",
    "Then, the residual becomes\n",
    "$\\ri = -\\Ab \\ei = \\lambda_e \\ei$\n",
    "\n",
    "$$\n",
    "\\arrthree{\n",
    "\\xii &= \\xi + \\ai \\ri\n",
    "\\\\\n",
    "\\eii &= \\ei + \\ai \\ri\n",
    "\\\\ &=\n",
    "\\ds \\ei + \\frac{\\rit \\ri}{\\rit \\Ab \\ri} \\ri\n",
    "\\\\ &=\n",
    "\\ds \\ei + \\frac{\\rit \\ri}{\\rit \\Ab \\ri} (-\\lambda_e \\ei)\n",
    "\\\\ &= 0\n",
    "}\n",
    "$$"
   ]
  },
  {
   "cell_type": "markdown",
   "metadata": {},
   "source": []
  },
  {
   "cell_type": "markdown",
   "metadata": {
    "cell_style": "split"
   },
   "source": [
    "# Method of conjugate directions"
   ]
  },
  {
   "cell_type": "markdown",
   "metadata": {},
   "source": [
    "## intro"
   ]
  },
  {
   "cell_type": "markdown",
   "metadata": {},
   "source": [
    "If we dont wanna step into the same direction again, one way would be to make $\\eii \\perp \\di$.  \n",
    "If **A** were spherical, then it would resemble figure 21"
   ]
  },
  {
   "cell_type": "markdown",
   "metadata": {},
   "source": [
    "Now, as in SD, we can have the x-iterates as \n",
    "$$\n",
    "\\xii = \\xi + \\ai \\di\n",
    "$$"
   ]
  },
  {
   "cell_type": "markdown",
   "metadata": {},
   "source": [
    "Now, putting in the constraint that $\\eii \\perp \\di$, we have\n",
    "$$\n",
    "\\arrthree{\n",
    "\\xii &= \\xi + \\ai \\di\n",
    "\\\\\n",
    "\\eii &= \\ei + \\ai \\di\n",
    "}\n",
    "$$"
   ]
  },
  {
   "cell_type": "markdown",
   "metadata": {},
   "source": [
    "Hence\n",
    "$$\n",
    "\\arrthree{\n",
    "\\dit \\eii &= 0\n",
    "\\\\\n",
    "\\dit \\Paran{\\ei + \\ai \\di} &= 0\n",
    "\\\\\n",
    "\\ai &= \\ds -\\frac{\\dit \\ei}{\\dit \\di}\n",
    "}\n",
    "$$"
   ]
  },
  {
   "cell_type": "markdown",
   "metadata": {},
   "source": [
    "Now, we dont know $\\ei$. so we just encountered a dead end."
   ]
  },
  {
   "cell_type": "markdown",
   "metadata": {},
   "source": [
    "Lets try this. Lets make the search directions A-orthogonal instead of just orthogonal."
   ]
  },
  {
   "cell_type": "markdown",
   "metadata": {},
   "source": [
    "That is so say, $\\di$ is A-orthogonal to $\\eii$.  \n",
    "Coincidentally, this is equivalent to finding the minimum point along search direction $\\di$.\n",
    "\n",
    "$$\n",
    "\\arrthree{\n",
    "\\ds \\diff{}{\\alpha} ~f(\\xii) &= 0\n",
    "\\\\\n",
    "\\ds \\diffn{f}{\\xii}^T \\diff{}{\\alpha} ~\\xii &= 0\n",
    "\\\\\n",
    "\\ds -\\rit \\di &= 0\n",
    "\\\\\n",
    "\\ds \\dit \\Ab \\eii &= 0\n",
    "}\n",
    "$$"
   ]
  },
  {
   "cell_type": "markdown",
   "metadata": {},
   "source": [
    "Hence\n",
    "$$\n",
    "\\arrthree{\n",
    "\\dit \\Ab \\eii &= 0\n",
    "\\\\\n",
    "\\dit \\Ab \\Paran{\\ei + \\ai \\di} &= 0\n",
    "\\\\\n",
    "\\ai &= \\ds -\\frac{\\dit \\Ab \\ei}{\\dit \\Ab \\di}\n",
    "}\n",
    "$$"
   ]
  },
  {
   "cell_type": "markdown",
   "metadata": {},
   "source": [
    "Since we have $\\ri = \\Ab \\ei$, we get\n",
    "$$\n",
    "\\ai = \\ds -\\frac{\\dit \\ri}{\\dit \\Ab \\di}\n",
    "$$\n",
    "This is computable. cool."
   ]
  },
  {
   "cell_type": "markdown",
   "metadata": {},
   "source": [
    "## Proof that this completes in n steps"
   ]
  },
  {
   "cell_type": "markdown",
   "metadata": {},
   "source": [
    "Let\n",
    "$$\n",
    "e_0 = \\sumjnl \\delta_j \\dj\n",
    "$$"
   ]
  },
  {
   "cell_type": "markdown",
   "metadata": {},
   "source": [
    "Now, how do we find $\\delta_j$?  \n",
    "Since the search directions are A-orthogonal, we can use that here.  \n",
    "Multiple both sides by $\\dkt \\Ab$ and we get\n",
    "$$\n",
    "\\arrthree{\n",
    "\\dkt \\Ab e_0 &= \\sumjnl \\delta_j \\dkt \\Ab \\dj\n",
    "\\\\\n",
    "\\dkt \\Ab e_0 &= \\delta_k \\dkt \\Ab \\dk\n",
    "\\\\\n",
    "\\delta_k &= \\ds \\frac{\\dkt \\Ab e_0}{\\dkt \\Ab \\dk}\n",
    "}\n",
    "$$"
   ]
  },
  {
   "cell_type": "markdown",
   "metadata": {},
   "source": [
    "Now, since the current search direction be A-orthogonal to the previous ones,\n",
    "\n",
    "$$\n",
    "\\arrthree{\n",
    "\\delta_k &= \\ds\n",
    "\\frac{\\dkt \\Ab \\Paran{e_0 + \\sum_{i=0}^{k-1} \\alpha_i \\di}}\n",
    "{\\dkt \\Ab \\dk}\n",
    "\\\\\n",
    "\\delta_k &= \\ds \\frac{\\dkt \\Ab \\ek}{\\dkt \\Ab \\dk}\n",
    "}\n",
    "$$"
   ]
  },
  {
   "cell_type": "markdown",
   "metadata": {},
   "source": [
    "Hence $\\delta_i = - \\ai$. Thus\n",
    "\n",
    "$$\n",
    "\\arrthree{\n",
    "\\ei &= \\ds e_0 + \\sum_{j=0}^{i-1} \\aj \\dj\n",
    "\\\\ &=\n",
    "\\ds \\sumjnl \\delta_j \\dj - \\sum_{j=0}^{i-1} \\delta_j \\dj\n",
    "\\\\ \n",
    "\\ei &= \\ds \\sum_{j=i}^{n-1} \\delta_j \\dj & \\commentgray{[35]}\n",
    "}\n",
    "$$\n",
    "\n",
    "Thus, at each iteration, one component of the error is stripped off and in n steps, everything goes off"
   ]
  },
  {
   "cell_type": "markdown",
   "metadata": {},
   "source": [
    "## Gram Schmidt Conjugation"
   ]
  },
  {
   "cell_type": "markdown",
   "metadata": {},
   "source": [
    "All we now need a set of A-orthogonal {$\\di$}. we can use GS process as follows:\n",
    "\n",
    "* We are given a set of lin ind vectors $\\Brace{u_i}_{i=0}^{n-1}$\n",
    "* Set $d_{(0)} = u_0$\n",
    "* $\\di = u_i + \\sum_{k=0}^{i-1} \\bik \\dk$"
   ]
  },
  {
   "cell_type": "markdown",
   "metadata": {},
   "source": [
    "To find the $\\bik$'s, we can use the same trick we used to find $\\delta_j$"
   ]
  },
  {
   "cell_type": "markdown",
   "metadata": {},
   "source": [
    "For j < i, multiply the above d-iterate by $\\Ab \\dj$.  \n",
    "\n",
    "$$\n",
    "\\arrthree{\n",
    "\\dit \\Ab \\dj &= \\uit \\Ab \\dj + \\sum_{k=0}^{i-1} \\bik \\dkt \\Ab \\dj\n",
    "\\\\\n",
    "0 &= \\uit \\Ab \\dj + \\bij \\djt \\Ab \\dj\n",
    "\\\\\n",
    "\\bij &= \\ds -\\frac{\\uit \\Ab \\dj}{\\djt \\Ab \\dj}\n",
    "}\n",
    "$$"
   ]
  },
  {
   "cell_type": "markdown",
   "metadata": {},
   "source": [
    "What do we have now?  \n",
    "* given a set of lin ind vectors, we can find the corresponding A-orthogonal whose spans are equal"
   ]
  },
  {
   "cell_type": "markdown",
   "metadata": {},
   "source": [
    "## Optimality of the error term"
   ]
  },
  {
   "cell_type": "markdown",
   "metadata": {},
   "source": [
    "Let $\\D_i = span \\Brace{d_{(0)},d_{(1)},\\cdots,d_{(i-1)}}$ \n",
    "\n",
    "Now since $\\eii = \\ei + \\ai \\di$,   \n",
    "we have that $\\eii$ is chosen from $e_{(0)} + \\D_i$"
   ]
  },
  {
   "cell_type": "markdown",
   "metadata": {},
   "source": [
    "see text for more explanation"
   ]
  },
  {
   "cell_type": "markdown",
   "metadata": {},
   "source": [
    "Now, we have four important things to remember"
   ]
  },
  {
   "cell_type": "markdown",
   "metadata": {},
   "source": [
    "### residuals are orthogonal to span of search directions\n",
    "\n",
    "* the hyperplane $x_{(0)} + \\D_i$ is tangent to the ellipsoid on which $\\xi$ lies.\n",
    "* residual at any point is orthogonal to the ellipsoidal surface at that point.\n",
    "* Thus $\\ri$ is orthogonal to $\\D_i$ as well.\n",
    "* To see this, consider $\\dk$ where $k \\lt i$\n",
    "$$\n",
    "\\arrthree{\n",
    "\\ei &= \\ds \\sum_{j=i}^{n-1} \\delta_j \\dj & \\commentgray{from equation 35}\n",
    "\\\\\n",
    "- \\dkt \\Ab \\ei &=\n",
    "\\ds \\dkt \\Ab \\sum_{j=i}^{n-1} \\delta_j \\dj & \\commentgray{Premultiply by $\\dkt \\Ab$}\n",
    "\\\\\n",
    "\\dkt \\ri &= 0 & \\commentgray{by A-orthogonality}\n",
    "}\n",
    "$$"
   ]
  },
  {
   "cell_type": "markdown",
   "metadata": {},
   "source": [
    "### residuals orthogonal to u's as well\n",
    "\n",
    "* The search directions $\\Brace{\\di}$ are constructed from $\\Brace{\\ui}$\n",
    "* Hence, if $\\ri$ is orthogonal to $\\Brace{\\di}$, it is orthogonal to $\\Brace{\\ui}$ as well\n",
    "* From Gram-Schmidt conjugation and for $\\rj$ such that $j \\gt i$, we have\n",
    "\n",
    "$$\n",
    "\\arrthree{\n",
    "\\di &= \\ds \\ui + \\sum_{k=0}^{i-1} \\bik \\dk\n",
    "\\\\\n",
    "\\dit \\rj &= \\ds \\uit \\rj + \\sum_{k=0}^{i-1} \\bik \\dkt \\rj\n",
    "\\\\\n",
    "0 &= \\uit \\rj \\text{ for j } \\gt i\n",
    "}\n",
    "$$"
   ]
  },
  {
   "cell_type": "markdown",
   "metadata": {},
   "source": [
    "### projections onto residuals of u, d\n",
    "\n",
    "* From Gram-Schmidt conjugation, we have\n",
    "\n",
    "$$\n",
    "\\arrthree{\n",
    "\\di &= \\ds \\ui + \\sum_{k=0}^{i-1} \\bik \\dk\n",
    "\\\\\n",
    "\\dit \\ri &= \\ds \\uit \\ri + \\sum_{k=0}^{i-1} \\bik \\dkt \\ri\n",
    "\\\\\n",
    "\\dit \\ri &= \\uit \\ri\n",
    "}\n",
    "$$"
   ]
  },
  {
   "cell_type": "markdown",
   "metadata": {},
   "source": [
    "### residual iterate\n",
    "\n",
    "$$\n",
    "\\arrthree{\n",
    "\\rii &= -\\Ab \\eii\n",
    "\\\\ &=\n",
    "-\\Ab \\Paran{\\ei + \\ai \\di}\n",
    "\\\\\n",
    "\\rii &= \\ri - \\ai \\Ab \\di\n",
    "}\n",
    "$$"
   ]
  },
  {
   "cell_type": "markdown",
   "metadata": {},
   "source": [
    "# Method of CG"
   ]
  },
  {
   "cell_type": "markdown",
   "metadata": {},
   "source": [
    "* The crux of CG is that the search directions $\\ui$ are the residuals $\\ri$ themselves  \n",
    "\n",
    "Implications:\n",
    "* Hence, $\\D_i = span \\Brace{r_{(0)},r_{(1)},\\cdots,r_{(i-1)}}$\n",
    "* Since the residuals are orthogonal to previous search directions. That is\n",
    "$$\n",
    "\\rit \\rj = 0 \\text{ for } i \\ne j {\\color{gray}{\\text{   -- Equation 44}}}\n",
    "$$\n",
    "* Since $\\ri = r_{i-1} - a_{i-1} \\Ab d_{i-1}$, $\\ri$ is the linear combination of previous residual $r_{i-1}$ and $\\Ab d_{i-1}$\n",
    "  * Since $d_{(i-1)} \\in \\D_{i}$, we have that $\\D_{i+1}$ is formed from the union of $\\D_i$ and $\\Ab \\D_i$.\n",
    "  * Hence\n",
    "  $$\n",
    "  \\arrthree{\n",
    "    \\D_i &= span \\Brace{d_{(0)},d_{(1)},\\cdots,d_{(i-1)}} \\\\\n",
    "         &= span \\Brace{d_{(0)},\\Ab d_{(0)},\\cdots,\\Ab^{i-1} d_{(0)}} \\\\\n",
    "         &= span \\Brace{r_{(0)},\\Ab r_{(0)},\\cdots,\\Ab^{i-1} r_{(0)}} \\\\\n",
    "  }\n",
    "  $$"
   ]
  },
  {
   "cell_type": "markdown",
   "metadata": {},
   "source": [
    "Now, since\n",
    "* $\\Ab \\D_i$ is included in $\\D_{i+1}$ and \n",
    "* $\\rii$ is orthogonal to $\\D_{i+1}$\n",
    "* we have $\\rii$ is A-orthogonal to $\\D_i$\n",
    "\n",
    "Implication\n",
    "* Gram-Schmidt conjugation is eacy since $\\rii$ is A-orthogonal to all previous search directions except $\\di$"
   ]
  },
  {
   "cell_type": "markdown",
   "metadata": {},
   "source": [
    "## Gram Schmidt"
   ]
  },
  {
   "cell_type": "markdown",
   "metadata": {},
   "source": [
    "Recall that\n",
    "$$\n",
    "\\bij = -\\frac{\\uit \\Ab \\dj}{\\djt \\Ab \\dj} = -\\frac{\\rit \\Ab \\dj}{\\djt \\Ab \\dj}\n",
    "\\color{\\gray}{\\text{  j < i  }}\n",
    "$$\n",
    "and \n",
    "$$\n",
    "\\rit \\rj = 0 \\text{ for } i \\ne j\n",
    "$$\n",
    "\n",
    "This gives\n",
    "\n",
    "$$\n",
    "\\arrthree{\n",
    "\\rjj &= \\rj - \\aj \\Ab \\dj\n",
    "\\\\\n",
    "\\rit \\rjj &= \\rit \\rj - \\aj \\rit \\Ab \\dj\n",
    "\\\\\n",
    "\\aj \\rit \\Ab \\dj &= \\rit \\rj - \\rit \\rjj\n",
    "\\\\\n",
    "\\rit \\Ab \\dj &=\n",
    "\\cases{\n",
    "\\ds \\fracrec{\\ai} \\rit \\rit & \\text{ i = j}\n",
    "\\\\\n",
    "\\ds -\\fracrec{a_{(i-1)}} \\rit \\ri & \\text{ i = j+1}\n",
    "\\\\\n",
    "0 & \\text{ otherwise }\n",
    "}\n",
    "}\n",
    "$$"
   ]
  },
  {
   "cell_type": "markdown",
   "metadata": {},
   "source": [
    "Sub this into $\\bij$ formulation considering only the later case since $\\bij$ is defined only for j < i. Thus the first case is off the table and \n",
    "$$\n",
    "\\bij = \\cases{\n",
    "\\ds \\fracrec{\\alpha_{i-1}} \\frac{\\rit \\ri}{d_{(i-1)}^T \\Ab d_{(i-1)}}\n",
    "\\\\\n",
    "0 & \\text{  i > j+1 }\n",
    "}\n",
    "$$\n"
   ]
  },
  {
   "cell_type": "markdown",
   "metadata": {},
   "source": [
    "Major advance et al."
   ]
  },
  {
   "cell_type": "markdown",
   "metadata": {},
   "source": [
    "Let $\\bi = \\beta_{i,i-1}$\n",
    "\n",
    "$$\n",
    "\\arrthree{\n",
    "\\bi &= \\ds \\fracrec{\\alpha_{(i-1)}} \\frac{\\rit \\ri}{d_{(i-1)}^T \\Ab d_{(i-1)}}\n",
    "\\\\\n",
    "&= \\ds \\frac{d_{(i-1)}^T \\Ab d_{(i-1)}}{d_{(i-1)}^T r_{(i-1)}} \\frac{\\rit \\ri}{d_{(i-1)}^T \\Ab d_{(i-1)}}\n",
    "& \\commentgray{$\\ai = \\frac{\\dit \\ri}{\\dit \\Ab \\di}$}\n",
    "\\\\ &=\n",
    "\\ds \\frac{\\rit \\ri}{d_{(i-1)}^T r_{(i-1)}}\n",
    "\\\\ \n",
    "\\bi\n",
    "&=\n",
    "\\ds \\frac{\\rit \\ri}{r_{(i-1)}^T r_{(i-1)}} &\n",
    "\\commentgray{$\\dit \\ri = \\uit \\ri = \\rit \\ri$}\n",
    "}\n",
    "$$"
   ]
  },
  {
   "cell_type": "markdown",
   "metadata": {},
   "source": [
    "# Convergence Analysis of Conjugate Gradients\n"
   ]
  },
  {
   "cell_type": "markdown",
   "metadata": {},
   "source": [
    "## Picking Perfect Polynomials\n"
   ]
  },
  {
   "cell_type": "markdown",
   "metadata": {},
   "source": [
    "Equation 51 [36]\n",
    "\n",
    "$$\n",
    "\\Norm{\\ei}_\\Ab = 2\n",
    "\\Bracket{\n",
    "  \\Paran{\\frac{\\sqrt{\\kappa}+1}{\\sqrt{\\kappa}-1}}^{i} +\n",
    "  \\Paran{\\frac{\\sqrt{\\kappa}-1}{\\sqrt{\\kappa}+1}}^{i}\n",
    "}^{-1}\n",
    "~\\Norm{e_{(0)}}_\\Ab\n",
    "$$"
   ]
  },
  {
   "cell_type": "markdown",
   "metadata": {},
   "source": [
    "$$\n",
    "\\frac{\\sqrt{\\kappa}+1}{2}\n",
    "$$"
   ]
  },
  {
   "cell_type": "code",
   "metadata": {},
   "outputs": [],
   "source": [
    "np.hstack([np.arange(0,1,0.1),np.arange(1,100,20)])"
   ]
  },
  {
   "cell_type": "code",
   "metadata": {},
   "outputs": [],
   "source": [
    "k = np.hstack([np.arange(0,1,0.2),np.arange(1,100,20)])\n",
    "k_plus  = np.sqrt(k) + 1\n",
    "k_minus = np.sqrt(k) - 1\n",
    "term1 = k_plus / k_minus\n",
    "term2 = k_minus / k_plus\n",
    "num_iterations = 10\n",
    "y = np.zeros((10,np.shape(k)[0]))\n",
    "for ix in range(num_iterations):\n",
    "    y[ix,:] = 1 / (term1**ix + term2**ix)\n",
    "for kk in range(len(k)):\n",
    "    plt.plot(np.arange(num_iterations), y[:,kk], label='k='+str(k[kk]))\n",
    "plt.legend(loc=(1,0.215))\n",
    "plt.rc('text', usetex=True)\n",
    "plt.xlabel('iteration')\n",
    "plt.grid()\n",
    "plt.show()"
   ]
  },
  {
   "cell_type": "markdown",
   "metadata": {},
   "source": []
  },
  {
   "cell_type": "markdown",
   "metadata": {},
   "source": []
  },
  {
   "cell_type": "markdown",
   "metadata": {},
   "source": []
  },
  {
   "cell_type": "markdown",
   "metadata": {},
   "source": []
  },
  {
   "cell_type": "markdown",
   "metadata": {},
   "source": []
  },
  {
   "cell_type": "markdown",
   "metadata": {},
   "source": []
  },
  {
   "cell_type": "code",
   "metadata": {},
   "outputs": [],
   "source": []
  }
 ],
 "metadata": {
  "hide_input": true,
  "kernelspec": {
   "display_name": "Python 3",
   "language": "python",
   "name": "python3"
  },
  "language_info": {
   "codemirror_mode": {
    "name": "ipython",
    "version": 3
   },
   "file_extension": ".py",
   "mimetype": "text/x-python",
   "name": "python",
   "nbconvert_exporter": "python",
   "pygments_lexer": "ipython3"
  },
  "latex_envs": {
   "bibliofile": "biblio.bib",
   "cite_by": "apalike",
   "current_citInitial": 1,
   "eqLabelWithNumbers": true,
   "eqNumInitial": 0
  },
  "nav_menu": {},
  "toc": {
   "navigate_menu": true,
   "number_sections": true,
   "sideBar": false,
   "threshold": 6,
   "toc_cell": false,
   "toc_section_display": "block",
   "toc_window_display": true
  },
  "toc_position": {
   "height": "417px",
   "left": "1502.53px",
   "right": "20px",
   "top": "121px",
   "width": "397px"
  }
 },
 "nbformat": 4,
 "nbformat_minor": 0
}
