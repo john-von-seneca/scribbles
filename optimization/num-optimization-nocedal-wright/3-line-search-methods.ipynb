{
 "cells": [
  {
   "cell_type": "code",
   "metadata": {},
   "outputs": [],
   "source": [
    "import numpy as np\n",
    "from matplotlib import pyplot as plt\n",
    "%matplotlib inline\n",
    "\n",
    "import random as rnd\n",
    "import os\n",
    "import math\n",
    "\n",
    "# required for interactive plotting\n",
    "from __future__ import print_function\n",
    "from ipywidgets import interact, interactive, fixed\n",
    "import ipywidgets as widgets\n",
    "import numpy.polynomial as np_poly\n",
    "\n",
    "from IPython.display import Math\n",
    "from IPython.display import Latex\n",
    "from IPython.display import HTML\n",
    "\n",
    "from pprint import pprint\n",
    "import functools as ft"
   ]
  },
  {
   "cell_type": "markdown",
   "metadata": {},
   "source": [
    "initialization\n",
    "$\n",
    "\\newcommand{\\Brace}[1]{\\left\\{#1\\right\\}}\n",
    "\\newcommand{\\Bracket}[1]{\\left[#1\\right]}\n",
    "\\newcommand{\\cases}[1]{\\begin{cases}#1\\end{cases}}\n",
    "\\newcommand{\\Cos}[1]{\\cos\\Paran{#1}}\n",
    "\\newcommand{\\cov}[1]{\\text{cov} \\sigma\\left[#1\\right]}\n",
    "\\newcommand{\\diff}[2]{\\frac{d #1}{d #2}}\n",
    "\\newcommand{\\difftwo}[2]{\\frac{d^2 #1}{d {#2}^2}}\n",
    "\\newcommand{\\diffn}[2]{{#1}^{\\prime}(#2)}\n",
    "\\newcommand{\\E}[1]{\\mathbb{E}\\left[ #1 \\right]}\n",
    "\\newcommand{\\expb}[1]{\\exp\\left\\{#1\\right\\}} \n",
    "\\newcommand{\\EXP}[1]{\\exp\\left\\{#1\\right\\}} \n",
    "\\newcommand{\\frachalf}[1]{\\frac{#1}{2}~}\n",
    "\\newcommand{\\fracone}[1]{\\frac{1}{#1}~}\n",
    "\\newcommand{\\fracrec}[1]{\\frac{1}{#1}~}\n",
    "\\newcommand{\\half}{\\fracone{2}}\n",
    "\\newcommand{\\H}[1]{\\mathbb{H}\\left[#1\\right]}\n",
    "\\newcommand{\\Int}[2]{\\displaystyle \\int_{#1}^{#2}~}\n",
    "\\newcommand{\\intinfinf}{\\Int{-\\infty}{\\infty}}\n",
    "\\newcommand{\\inv}[1]{#1^{-1}}\n",
    "\\newcommand{\\invp}[1]{\\left({#1}\\right)^{-1}}\n",
    "\\newcommand{\\KL}[2]{\\text{KL}\\left(#1 \\Vert #2\\right)}\n",
    "\\newcommand{\\Lim}[1]{\\displaystyle \\lim_{#1}}\n",
    "\\newcommand{\\Ln}[1]{\\ln \\left\\(#1\\right\\)}\n",
    "\\newcommand{\\Lnb}[1]{\\ln \\left\\{#1\\right\\} }\n",
    "\\newcommand{\\Mod}[1]{\\left|#1\\right|}\n",
    "\\newcommand{\\Norm}[1]{\\left\\lVert #1 \\right\\rVert}\n",
    "\\newcommand{\\Normsqr}[1]{\\Norm{#1}^2}\n",
    "\\newcommand{\\map}[1]{#1_{\\text{MAP}}}\n",
    "\\newcommand{\\ml}[1]{#1_{\\text{ML}}}\n",
    "\\newcommand{\\MI}[1]{\\mathcal{I}\\left(#1\\right)}\n",
    "\\newcommand{\\P}{\\mathbb{P}}\n",
    "\\newcommand{\\Paran}[1]{\\left(#1\\right)}\n",
    "\\newcommand{\\Partial}[2]{\\frac{\\partial #1}{\\partial #2}}\n",
    "\\newcommand{\\Sin}[1]{\\sin\\Paran{#1}}\n",
    "\\newcommand{\\sqrbrkt}[1]{\\Bracket{#1}^2}\n",
    "\\newcommand{\\sqrbrc}[1]{\\Brace{#1}^2}\n",
    "\\newcommand{\\trace}[1]{\\text{Tr}\\left( #1 \\right)}\n",
    "\\newcommand{\\traceb}[1]{\\text{Tr}\\left\\{#1\\right\\}}\n",
    "\\newcommand{\\underl}[1]{\\text{$\\underline{#1}$}}\n",
    "\\newcommand{\\V}[1]{\\mathbb{V}\\left[#1\\right]}\n",
    "$\n",
    "$\n",
    "\\DeclareMathOperator*{\\argmin}{arg\\,min}\n",
    "\\DeclareMathOperator*{\\argmax}{arg\\,max}\n",
    "$\n",
    "$\n",
    "\\newcommand{\\mat}[1]{ \\left[ \\begin{matrix} #1 \\end{matrix} \\right] }\n",
    "\\newcommand{\\matp}[1]{ \\left( \\begin{matrix} #1 \\end{matrix} \\right)}\n",
    "\\newcommand{\\mats}[1]{ \\begin{matrix}#1\\end{matrix} }\n",
    "\\newcommand{\\arrthree}[1]{\n",
    "\\begin{array}{rlr} #1 \\end{array}}\n",
    "$"
   ]
  },
  {
   "cell_type": "markdown",
   "metadata": {},
   "source": [
    "$\n",
    "\\newcommand{\\C}{\\mathbb{C}}\n",
    "\\newcommand{\\Ca}{\\mathcal{C}}\n",
    "\\newcommand{\\Caone}{\\Ca_1}\n",
    "\\newcommand{\\Catwo}{\\Ca_2}\n",
    "\\newcommand{\\Cak}{\\Ca_k}\n",
    "\\newcommand{\\D}{\\mathcal{D}}\n",
    "\\newcommand{\\G}{\\mathcal{G}}\n",
    "\\newcommand{\\I}{\\mathcal{I}}\n",
    "\\newcommand{\\L}{\\mathcal{L}}\n",
    "\\newcommand{\\M}{\\mathcal{M}}\n",
    "\\newcommand{\\N}{\\mathbb{N}}\n",
    "\\newcommand{\\R}{\\mathbb{R}}\n",
    "\\newcommand{\\Ra}{\\mathcal{R}}\n",
    "$\n",
    "$\n",
    "\\newcommand{\\commentgray}[1]{\\color{gray}{\\text{#1}}}\n",
    "$"
   ]
  },
  {
   "cell_type": "markdown",
   "metadata": {},
   "source": [
    "sum, product\n",
    "$\n",
    "\\newcommand{\\sumi}{\\displaystyle \\sum_i}\n",
    "\\newcommand{\\sumiD}{\\displaystyle \\sum_{i=1}^{D}}\n",
    "\\newcommand{\\sumiL}{\\displaystyle \\sum_{i=1}^{L}}\n",
    "\\newcommand{\\sumiN}{\\displaystyle \\sum_{i=1}^{N}}\n",
    "\\newcommand{\\sumjD}{\\displaystyle \\sum_{j=1}^{D}}\n",
    "\\newcommand{\\sumjK}{\\displaystyle \\sum_{j=1}^{K}}\n",
    "\\newcommand{\\sumjMl}{\\sum_{j=1}^{M-1}}\n",
    "\\newcommand{\\sumkK}{\\displaystyle \\sum_{k=1}^{K}}\n",
    "\\newcommand{\\sumkM}{\\displaystyle \\sum_{k=1}^{M}}\n",
    "\\newcommand{\\sumkMl}{\\sum_{k=1}^{M-1}}\n",
    "\\newcommand{\\summN}{\\displaystyle \\sum_{m=1}^{N}}\n",
    "\\newcommand{\\sumnN}{\\displaystyle \\sum_{n=1}^{N}}\n",
    "$\n",
    "$\n",
    "\\newcommand{\\prodi}{\\displaystyle \\prod_i}\n",
    "\\newcommand{\\prodiD}{\\displaystyle \\prod_{i=1}^{D}}\n",
    "\\newcommand{\\prodiL}{\\displaystyle \\prod_{i=1}^{L}}\n",
    "\\newcommand{\\prodiN}{\\displaystyle \\prod_{i=1}^{N}}\n",
    "\\newcommand{\\prodjK}{\\displaystyle \\prod_{j=1}^{K}}\n",
    "\\newcommand{\\prodkK}{\\displaystyle \\prod_{k=1}^{K}}\n",
    "\\newcommand{\\prodmN}{\\displaystyle \\prod_{m=1}^{N}}\n",
    "\\newcommand{\\prodnN}{\\displaystyle \\prod_{n=1}^{N}}\n",
    "$"
   ]
  },
  {
   "cell_type": "markdown",
   "metadata": {},
   "source": [
    "alphabet shortcuts\n",
    "$\n",
    "\\newcommand{\\ab}{\\mathbf{a}}\n",
    "\\newcommand{\\at}{\\ab^T}\n",
    "\\newcommand{\\Ab}{\\mathbf{A}}\n",
    "\\newcommand{\\At}{\\Ab^T}\n",
    "\\newcommand{\\Ai}{\\inv{\\Ab}}\n",
    "\\newcommand{\\Abjk}{\\Ab_{jk}}\n",
    "\\newcommand{\\bb}{\\mathbf{b}}\n",
    "\\newcommand{\\bt}{\\bb^T}\n",
    "\\newcommand{\\Bb}{\\mathbf{B}}\n",
    "\\newcommand{\\Bt}{\\Bb^T}\n",
    "\\newcommand{\\Cb}{\\mathbf{C}}\n",
    "\\newcommand{\\Cn}{\\Cb_{N}}\n",
    "\\newcommand{\\Db}{\\mathbf{D}}\n",
    "\\newcommand{\\fb}{\\mathbf{f}}\n",
    "\\newcommand{\\fp}{f^{\\prime}}\n",
    "\\newcommand{\\Hb}{\\mathbf{H}}\n",
    "\\newcommand{\\hx}{h(\\xb)}\n",
    "\\newcommand{\\Jb}{\\mathbf{J}}\n",
    "\\newcommand{\\kb}{\\mathbf{k}}\n",
    "\\newcommand{\\kt}{\\kb^T}\n",
    "\\newcommand{\\Kb}{\\mathbf{K}}\n",
    "\\newcommand{\\Lb}{\\mathbf{L}}\n",
    "\\newcommand{\\Lt}{\\Lb^T}\n",
    "\\newcommand{\\Lbi}{\\Lb^{-1}}\n",
    "\\newcommand{\\mb}{\\mathbf{m}}\n",
    "\\newcommand{\\mt}{\\mb^T}\n",
    "\\newcommand{\\mbn}{\\mb_N}\n",
    "\\newcommand{\\mbnt}{\\mbn^T}\n",
    "\\newcommand{\\mbN}{\\mb_N}\n",
    "\\newcommand{\\mbNt}{\\mbn^T}\n",
    "\\newcommand{\\Mb}{\\mathbf{M}}\n",
    "\\newcommand{\\Qb}{\\mathbf{Q}}\n",
    "\\newcommand{\\Rb}{\\mathbf{R}}\n",
    "\\newcommand{\\sb}{\\mathbf{s}}\n",
    "\\newcommand{\\Sb}{\\mathbf{S}}\n",
    "\\newcommand{\\tb}{\\mathbf{t}}\n",
    "\\newcommand{\\tbnn}{\\tb_{N}}\n",
    "\\newcommand{\\tbnp}{\\tb_{N+1}}\n",
    "\\newcommand{\\tt}{\\tb^T}\n",
    "\\newcommand{\\Tb}{\\mathbf{T}}\n",
    "\\newcommand{\\Tt}{\\Tb^T}\n",
    "\\newcommand{\\ub}{\\mathbf{u}}\n",
    "\\newcommand{\\Ub}{\\mathbf{U}}\n",
    "\\newcommand{\\Ut}{\\Ub^T}\n",
    "\\newcommand{\\vb}{\\mathbf{v}}\n",
    "\\newcommand{\\Vb}{\\mathbf{V}}\n",
    "\\newcommand{\\wb}{\\mathbf{w}}\n",
    "\\newcommand{\\wnr}[1]{\\wb^{(\\text{#1})}}\n",
    "\\newcommand{\\wt}{\\wb^T}\n",
    "\\newcommand{\\Wb}{\\mathbf{W}}\n",
    "\\newcommand{\\Wt}{\\Wb^T}\n",
    "\\newcommand{\\Wtilde}{\\widetilde{\\Wb}}\n",
    "\\newcommand{\\Wtildet}{\\Wtilde^T}\n",
    "\\newcommand{\\Xb}{\\mathbf{X}}\n",
    "\\newcommand{\\Xt}{\\Xb^T}\n",
    "\\newcommand{\\Xtilde}{\\widetilde{\\Xb}}\n",
    "\\newcommand{\\Xtildet}{\\Xtilde^T}\n",
    "\\newcommand{\\xb}{\\mathbf{x}}\n",
    "\\newcommand{\\xt}{\\xb^T}\n",
    "\\newcommand{\\xtilde}{\\widetilde{\\xb}}\n",
    "\\newcommand{\\xtilden}{\\xtilde_n}\n",
    "\\newcommand{\\xtildent}{\\xtilden^T}\n",
    "\\newcommand{\\xp}{x^{\\prime}}\n",
    "\\newcommand{\\xbp}{\\xb^{\\prime}}\n",
    "\\newcommand{\\xbk}{\\xb_k}\n",
    "\\newcommand{\\xbm}{\\xb_m}\n",
    "\\newcommand{\\xbn}{\\xb_n}\n",
    "\\newcommand{\\xbnp}{\\xb_{N+1}}\n",
    "\\newcommand{\\xab}{\\mathbf{x_a}}\n",
    "\\newcommand{\\xabt}{\\mathbf{x_a}^T}\n",
    "\\newcommand{\\xbb}{\\mathbf{x_b}}\n",
    "\\newcommand{\\xbbt}{\\mathbf{x_b}^T}\n",
    "\\newcommand{\\yb}{\\mathbf{y}}\n",
    "\\newcommand{\\yt}{\\yb^T}\n",
    "\\newcommand{\\yx}{y(\\xb)}\n",
    "\\newcommand{\\zb}{\\mathbf{z}}\n",
    "\\newcommand{\\zt}{\\zb^T}\n",
    "\\newcommand{\\zbm}{\\zb_m}\n",
    "\\newcommand{\\zbn}{\\zb_n}\n",
    "\\newcommand{\\zbnp}{\\zb_{n-1}}\n",
    "\\newcommand{\\znk}{\\zb_{nk}}\n",
    "\\newcommand{\\znpj}{\\zb_{n-1,j}}\n",
    "\\newcommand{\\Zb}{\\mathbf{Z}}\n",
    "$"
   ]
  },
  {
   "cell_type": "markdown",
   "metadata": {},
   "source": [
    "math shortcuts\n",
    "$\n",
    "\\newcommand{\\chib}{\\boldsymbol{\\chi}}\n",
    "\\newcommand{\\etab}{\\pmb{\\eta}}\n",
    "\\newcommand{\\etat}{\\eta^T}\n",
    "\\newcommand{\\etabt}{\\etab^T}\n",
    "\\newcommand{\\Lambdab}{\\pmb{\\Lambda}}\n",
    "\\newcommand{\\laa}{\\Lambda_{aa}}\n",
    "\\newcommand{\\laai}{\\Lambda_{aa}^{-1}}\n",
    "\\newcommand{\\lab}{\\Lambda_{ab}}\n",
    "\\newcommand{\\lba}{\\Lambda_{ba}}\n",
    "\\newcommand{\\lbb}{\\Lambda_{bb}}\n",
    "\\newcommand{\\lbbi}{\\Lambda_{bb}^{-1}}\n",
    "\\newcommand{\\li}{\\Lambda^{-1}}\n",
    "\\newcommand{\\Li}{\\Lambda^{-1}}\n",
    "\\newcommand{\\mub}{\\pmb{\\mu}}\n",
    "\\newcommand{\\mut}{\\mub^T}\n",
    "\\newcommand{\\muab}{\\pmb{\\mu}_a}\n",
    "\\newcommand{\\mubb}{\\pmb{\\mu}_b}\n",
    "\\newcommand{\\Phib}{\\pmb{\\Phi}}\n",
    "\\newcommand{\\Phibt}{\\Phib^T}\n",
    "\\newcommand{\\pib}{\\pmb{\\pi}}\n",
    "\\newcommand{\\sigmasqr}{\\sigma^2}\n",
    "\\newcommand{\\saa}{\\Sigma_{aa}}\n",
    "\\newcommand{\\sab}{\\Sigma_{ab}}\n",
    "\\newcommand{\\sba}{\\Sigma_{ba}}\n",
    "\\newcommand{\\sbb}{\\Sigma_{bb}}\n",
    "\\newcommand{\\Sigmai}{\\inv{\\Sigma}}\n",
    "\\newcommand{\\thetab}{\\pmb{\\theta}}\n",
    "\\newcommand{\\thetat}{\\thetab^T}\n",
    "\\newcommand{\\thetabh}{\\hat{\\thetab}}\n",
    "\\newcommand{\\thetaold}{\\thetab^{\\text{old}}}\n",
    "$\n",
    "$\n",
    "\\newcommand{\\zerob}{\\pmb{0}}\n",
    "\\newcommand{\\ed}{\\mathbb{E}_{\\D}}\n",
    "\\newcommand{\\edyx}{\\ed\\left[y(\\xb ; \\D)\\right]}\n",
    "\\newcommand{\\dx}{~dx}\n",
    "\\newcommand{\\dxb}{~d\\xb}\n",
    "\\newcommand{\\pxdxb}{p(\\xb) \\dxb}\n",
    "\\newcommand{\\dwb}{~d\\wb}\n",
    "$"
   ]
  },
  {
   "cell_type": "markdown",
   "metadata": {},
   "source": [
    "aliases for distributions\n",
    "$\\newcommand{\\multivarcoeff}{\\frac{1}{(2\\pi)^{D/2}}\n",
    "\\frac{1}{\\left| \\mathbf{\\Sigma}\\right|^{1/2}}}$\n",
    "$\\newcommand{\\multivarexp}[2]\n",
    "{\n",
    "\\left\\{\n",
    " -\\frac{1}{2} \n",
    " {#1}^T \n",
    " #2\n",
    " {#1}\n",
    "\\right\\}\n",
    "}$\n",
    "$\\newcommand{\\multivarexpx}[1]{\\multivarexp{#1}{\\Sigma^{-1}}}$\n",
    "$\\newcommand{\\multivarexpstd}{\\multivarexpx{(\\xb-\\mub)}}$\n",
    "$\\newcommand{\\gam}{\\operatorname{Gam}}$\n",
    "$\n",
    "\\newcommand{\\Nl}[3]{\\mathcal{N}\\left(#1 \\mid #2, #3\\right)}\n",
    "\\newcommand{\\Nstdx}{\\Nl{\\mathbf{x}}{\\mathbf{\\mu}}{\\Sigma}}\n",
    "$"
   ]
  },
  {
   "cell_type": "markdown",
   "metadata": {},
   "source": [
    "Newton direction  \n",
    "\n",
    "$$\n",
    "p_k = - \\inv{\\Paran{\\nabla^2 f_k}} \\nabla f_k\n",
    "$$"
   ]
  },
  {
   "cell_type": "markdown",
   "metadata": {},
   "source": [
    "# Sufficient decrease condition"
   ]
  },
  {
   "cell_type": "markdown",
   "metadata": {},
   "source": [
    "$$f(x_k + \\alpha p_k) \\le f(x_k) + c \\alpha \\nabla f(x_k)^T p_k$$"
   ]
  },
  {
   "cell_type": "markdown",
   "metadata": {},
   "source": [
    "# Sufficient decrease and backtracking"
   ]
  },
  {
   "cell_type": "markdown",
   "metadata": {},
   "source": [
    "Algorithm: Backtracking line search\n",
    "\n",
    "1. $\\widehat{\\alpha} > 0, ~~~ \\rho \\in (0,1), ~~~ c \\in (0,1)$\n",
    "1. set $\\alpha = \\widehat{\\alpha}$\n",
    "1. repeat until $f(x_k + \\alpha p_k) \\le f(x_k) + c \\alpha \\nabla f(x_k)^T p_k$\n",
    "  1. $\\alpha \\leftarrow \\rho \\alpha$\n",
    "1. end"
   ]
  },
  {
   "cell_type": "markdown",
   "metadata": {
    "code_folding": [
     0
    ]
   },
   "source": [
    "$$f(x) = x^4 \\cos(1/x) + 2x^4 - \\sin(1/x) ~~,~~ f(0)=0$$\n",
    "\n",
    "$$\n",
    "\\arrthree{\n",
    "f^{\\prime}(x)\n",
    "&= 4x^3 \\cos(1/x) - x^4 \\sin(1/x) (-1/x^2) + 8x^3 - cos(1/x) (-1/x^2)\n",
    "\\\\ &=\n",
    "\\displaystyle\n",
    "4x^3 \\cos\\Paran{\\fracrec{x}} + x^2 \\sin\\Paran{\\fracrec{x}} + 8x^3 + \\fracrec{x^2} \\cos\\Paran{\\fracrec{x}}\n",
    "}\n",
    "$$"
   ]
  },
  {
   "cell_type": "markdown",
   "metadata": {},
   "source": [
    "$$\n",
    "\\arrthree{\n",
    "f^{\\prime \\prime}(x) &=\n",
    "\\displaystyle\n",
    "12x^2 \\Cos{\\fracrec{x}} + 4x \\Sin{\\fracrec{x}} \n",
    "+ 2x \\Sin{\\fracrec{x}} - \\Cos{\\fracrec{x}} + 24x^2\n",
    "- \\frac{2}{x^3} \\Cos{\\fracrec{x}} - \\fracrec{x^4} \\Sin{\\fracrec{x}}\n",
    "\\\\ &=\n",
    "\\displaystyle\n",
    "\\Cos{\\fracrec{x}}\n",
    "\\Brace{12x^2 - 1 - \\frac{2}{x^3}}\n",
    "+ \\Sin{\\fracrec{x}}\n",
    "\\Brace{6x - \\fracrec{x^4}}\n",
    "+ 24x^2\n",
    "}\n",
    "$$"
   ]
  },
  {
   "cell_type": "code",
   "metadata": {},
   "outputs": [],
   "source": [
    "def f_zeroth(x):\n",
    "    val_cos, val_sin = math.cos(1./x), math.sin(1./x)\n",
    "    return (x**4)*val_cos + 2*(x**4) - val_sin\n",
    "def f_first(x):\n",
    "    val_cos, val_sin = math.cos(1./x), math.sin(1./x)\n",
    "    return (4*(x**3) + 1./(x**2))*val_cos + (x**2)*val_sin + 8*(x**3)\n",
    "def f_second(x):\n",
    "    val_cos, val_sin = math.cos(1./x), math.sin(1./x)\n",
    "    return val_cos*(12*(x**2) - 1 - 2./(x**3)) + val_sin*(6*x - 1./(x**4)) + 24*(x**2)\n",
    "def search_direction(f_first, f_second, x):\n",
    "    return -1.*f_first(x)/f_second(x)\n",
    "def backtracking_with_line_search(x, alpha_hat=1, rho=0.5, c=1e-4, verbose=False):\n",
    "    p_k = search_direction(f_first, f_second, x)\n",
    "    alpha = alpha_hat\n",
    "    f_k, f_kk = f_zeroth(x), f_zeroth(x + alpha*p_k)\n",
    "    f_k_first = f_first(x)\n",
    "    in_steps = 1\n",
    "    while(f_kk > (f_k + c*alpha*f_k_first*p_k)):\n",
    "        alpha = rho*alpha\n",
    "        f_kk = f_zeroth(x + alpha*p_k)\n",
    "        in_steps += 1\n",
    "    if(verbose):\n",
    "        print('alpha: ', alpha, ' p_k: ', p_k)\n",
    "    return (x + alpha*p_k, in_steps, alpha)\n",
    "def plot_fun_f(x_end=0.05):\n",
    "    x = np.linspace(-x_end,x_end,100)\n",
    "    x[0] = 1e-10\n",
    "    x_4 = x**4\n",
    "    y = x_4 * np.cos(1./x) + 2*x_4 - np.sin(1./x)\n",
    "    plt.rc('text', usetex=True)\n",
    "    plt.plot(x,y)\n",
    "    plt.title(r\"$\\displaystyle x^4 \\cos(1/x) + 2x^4 - \\sin(1/x)$\",fontsize=20)\n",
    "    "
   ]
  },
  {
   "cell_type": "code",
   "metadata": {
    "code_folding": [
     0
    ]
   },
   "outputs": [],
   "source": [
    "def find_min(x_start, rho):\n",
    "    x = x_start\n",
    "    plot_fun_f(0.6)\n",
    "    plt.plot(x, f_zeroth(x), 'o' ,label=str(0))\n",
    "    for ix in range(9):\n",
    "        x_old = x\n",
    "        x, in_steps, alpha = backtracking_with_line_search(x_old, rho=rho)\n",
    "        print('old: (%.5f, %.5f), new: (%.5f, %.5f), first: %.5f, x%03d a:%.5f' % \n",
    "              (x_old, f_zeroth(x_old), x, f_zeroth(x), f_first(x), in_steps, alpha))\n",
    "        plt.plot(x, f_zeroth(x), 'o' ,label=str(ix+1) + ':' + '%.5f' % (x))\n",
    "    plt.legend(loc=(1,0.5))\n",
    "    plt.show()"
   ]
  },
  {
   "cell_type": "code",
   "metadata": {
    "code_folding": [
     0
    ]
   },
   "outputs": [],
   "source": [
    "find_min(0.3, 0.5)\n",
    "find_min(0.3, 0.9)\n",
    "find_min(-0.24188, 0.5)\n"
   ]
  },
  {
   "cell_type": "markdown",
   "metadata": {},
   "source": [
    "# now for a convex function"
   ]
  },
  {
   "cell_type": "code",
   "metadata": {},
   "outputs": [],
   "source": [
    "def search_direction(f_first, f_second, x):\n",
    "    return -1.*f_first(x)/f_second(x)\n",
    "def backtracking_with_line_search(x, alpha_hat=1, rho=0.5, c=1e-4, verbose=False, functions=[f_zeroth, f_first, f_second]):\n",
    "    p_k = search_direction(f_first, f_second, x)\n",
    "    alpha = alpha_hat\n",
    "    f_k, f_kk = f_zeroth(x), f_zeroth(x + alpha*p_k)\n",
    "    f_k_first = f_first(x)\n",
    "    in_steps = 1\n",
    "    while(f_kk > (f_k + c*alpha*f_k_first*p_k)):\n",
    "        alpha = rho*alpha\n",
    "        f_kk = f_zeroth(x + alpha*p_k)\n",
    "        in_steps += 1\n",
    "    if(verbose):\n",
    "        print('alpha: ', alpha, ' p_k: ', p_k)\n",
    "    return (x + alpha*p_k, in_steps, alpha)\n",
    "def plot_fun_f(f_zeroth, x_end=3):\n",
    "    x = np.linspace(-x_end,x_end,100)\n",
    "    plt.rc('text', usetex=True)\n",
    "    plt.plot(x, f_zeroth(x))\n",
    "    plt.title(r\"$\\displaystyle x^4$\",fontsize=20)\n",
    "\n",
    "def f_zeroth(x): return x**4\n",
    "def f_first(x): return 4*(x**3)\n",
    "def f_second(x): return 12*(x**2)\n",
    "def find_min(x_start=0.5, rho=0.9):\n",
    "    x = x_start\n",
    "    plot_fun_f(f_zeroth, x_start)\n",
    "    plt.plot(x, f_zeroth(x), 'o' ,label=str(0))\n",
    "    for ix in range(9):\n",
    "        x_old = x\n",
    "        x, in_steps, alpha = backtracking_with_line_search(x_old, rho=rho, functions=[f_zeroth, f_first, f_second])\n",
    "        print('old: (%.5f, %.5f), new: (%.5f, %.5f), first: %.5f, x%03d a:%.5f' % \n",
    "              (x_old, f_zeroth(x_old), x, f_zeroth(x), f_first(x), in_steps, alpha))\n",
    "        plt.plot(x, f_zeroth(x), 'o' ,label=str(ix+1) + ':' + '%.5f' % (x))\n",
    "    plt.legend(loc=(1,0.5))\n",
    "    plt.show()\n",
    "interact(find_min, x_start=(0.1,2.0,0.1), rho=(0.1,0.9,0.1))"
   ]
  },
  {
   "cell_type": "markdown",
   "metadata": {},
   "source": [
    "# Convergence rates"
   ]
  },
  {
   "cell_type": "markdown",
   "metadata": {},
   "source": [
    "## convergence rate of steepest descent"
   ]
  },
  {
   "cell_type": "markdown",
   "metadata": {},
   "source": [
    "Suppose\n",
    "$$\n",
    "f(x) = \\half \\xt \\Qb \\xb - \\bt \\xb\n",
    "$$\n",
    "where **Q** is symmetric positive definite.\n",
    "$$\n",
    "\\nabla f(\\xb) = \\Qb \\xb - \\bb\n",
    "$$"
   ]
  },
  {
   "cell_type": "markdown",
   "metadata": {},
   "source": [
    "$$\n",
    "f(\\xbk - \\alpha \\nabla f_k) =\n",
    "\\half (\\xbk - \\alpha \\nabla f_k)^T\n",
    "\\Qb\n",
    "(\\xbk - \\alpha \\nabla f_k)\n",
    "- \\bt (\\xbk - \\alpha \\nabla f_k)\n",
    "$$"
   ]
  },
  {
   "cell_type": "markdown",
   "metadata": {},
   "source": [
    "diff wrt $\\alpha$ and eq it to zero, we get\n",
    "$$\n",
    "\\arrthree{\n",
    "0 &=\n",
    "- \\nabla f_k^T \\Qb \\xbk + \\alpha_k \\nabla f_k^T \\Qb f_k + \\nabla f_k^T \\bb\n",
    "\\\\\n",
    "\\alpha_k &=\n",
    "\\displaystyle \n",
    "\\frac\n",
    "{\\nabla f_k^T \\Qb \\xbk - \\nabla f_k^T \\bb}{\\nabla f_k^T \\Qb f_k}\n",
    "=\n",
    "\\frac\n",
    "{\\nabla f_k^T (\\Qb \\xbk - \\bb)}{\\nabla f_k^T \\Qb f_k}\n",
    "\\\\\n",
    "\\alpha_k &=\n",
    "\\displaystyle \n",
    "\\frac\n",
    "{\\nabla f_k^T \\nabla f_k}{\\nabla f_k^T \\Qb \\nabla f_k}\n",
    "}\n",
    "$$"
   ]
  },
  {
   "cell_type": "markdown",
   "metadata": {},
   "source": [
    "Now\n",
    "$$\n",
    "\\arrthree{\n",
    "\\xb_{k+1} &= x_k - \\alpha_k \\nabla f_k\n",
    "\\\\ &=\n",
    "\\displaystyle \n",
    "x_k -\n",
    "\\Paran{\n",
    "\\frac\n",
    "{\\nabla f_k^T \\nabla f_k}{\\nabla f_k^T \\Qb \\nabla f_k}\n",
    "}\n",
    "\\nabla f_k\n",
    "}\n",
    "$$"
   ]
  },
  {
   "cell_type": "markdown",
   "metadata": {},
   "source": [
    "refer [Ellipse stuff](http://localhost:8888/notebooks/in-other-news/ellipse-covariance-matrix.ipynb)"
   ]
  },
  {
   "cell_type": "code",
   "metadata": {},
   "outputs": [],
   "source": [
    "def get_ell_matrix(a,b,phi):\n",
    "    c, s = math.cos(phi), math.sin(phi)\n",
    "    return np.array([[a*c,-b*s],[a*s,b*c]])\n",
    "def covar_matrix(a,b,phi):\n",
    "    c, s = math.cos(phi), math.sin(phi)\n",
    "    ev1 = np.array([c, s]).reshape(-1,1)\n",
    "    ev2 = np.array([-s, c]).reshape(-1,1)\n",
    "    U = np.hstack([ev1,ev2])\n",
    "    D = np.diag([a**2,b**2])\n",
    "    Zc = U @ D @ U.T\n",
    "    return Zc\n",
    "def get_pts_circle(in_pts=100):\n",
    "    thetas = np.linspace(0,2*math.pi,in_pts)\n",
    "    ct = [math.cos(tt) for tt in thetas]\n",
    "    st = [math.sin(tt) for tt in thetas]\n",
    "    return np.array([ct,st])\n",
    "def plot_ellipse(a, b, phi=0):\n",
    "    pts = get_pts_circle()\n",
    "    Z = get_ell_matrix(a,b,phi)\n",
    "    ptsr = Z @ pts\n",
    "    plt.plot(ptsr[0,:], ptsr[1,:])\n",
    "    max_axis = max(a,b)\n",
    "    plt.xlim([-max_axis-1, max_axis+1])\n",
    "    plt.ylim([-max_axis-1, max_axis+1])"
   ]
  },
  {
   "cell_type": "markdown",
   "metadata": {},
   "source": [
    "$$\n",
    "\\arrthree{\n",
    "f(x) &= \\half \\xt \\Qb \\xb - \\bt \\xb\n",
    "\\\\\n",
    "f^{\\prime}(x) &= \\Qb \\xb - \\bb\n",
    "}\n",
    "$$"
   ]
  },
  {
   "cell_type": "code",
   "metadata": {},
   "outputs": [],
   "source": [
    "def f_zero(Q, b, x):\n",
    "    return 0.5*(x.T @ Q @ x) - b.T @ x\n",
    "def f_first(Q, b, x):\n",
    "    return Q @ x - b"
   ]
  },
  {
   "cell_type": "markdown",
   "metadata": {},
   "source": [
    "$$\n",
    "x_{k+1} = x_k -\n",
    "\\Paran{\n",
    "\\frac\n",
    "{\\nabla f_k^T \\nabla f_k}{\\nabla f_k^T \\Qb \\nabla f_k}\n",
    "}\n",
    "\\nabla f_k\n",
    "$$"
   ]
  },
  {
   "cell_type": "code",
   "metadata": {},
   "outputs": [],
   "source": [
    "def x_next(Q, bb, x):\n",
    "    f_first_k = f_first(Q, bb, x)\n",
    "    x_next = x - (f_first_k.T @ f_first_k)/(f_first_k.T @ Q @ f_first_k) * f_first_k\n",
    "    plt.plot(x_next[0], x_next[1], 'or')\n",
    "    plt.plot([x[0],x_next[0]], [x[1], x_next[1]])\n",
    "    return (x_next, f_first_k[0][0])"
   ]
  },
  {
   "cell_type": "markdown",
   "metadata": {},
   "source": [
    "$$\n",
    "1 = \\displaystyle \\frac{x^2}{(ka)^2} + \\frac{y^2}{(kb)^2}\n",
    "~~~ \\Rightarrow ~~~\n",
    "k = \\displaystyle \\sqrt{\\frac{x^2}{a^2} + \\frac{y^2}{b^2}}\n",
    "$$"
   ]
  },
  {
   "cell_type": "code",
   "metadata": {},
   "outputs": [],
   "source": [
    "def find_ell_pmtrs_x(a, b, x):\n",
    "    ell_val = (x[0]/a)**2 + (x[1]/b)**2\n",
    "    k = abs(math.sqrt(ell_val))\n",
    "    return (a*k, b*k)"
   ]
  },
  {
   "cell_type": "code",
   "metadata": {},
   "outputs": [],
   "source": [
    "def plot_sd_path(a=5, b=3, x_start = -4, phi=0.0, times=25):\n",
    "    bb = np.array([1,1]).reshape(-1, 1)\n",
    "    y_start = -abs(math.sqrt((b**2)*(1 - (x_start/a)**2)))\n",
    "    x = np.array([x_start, y_start]).reshape(-1, 1)\n",
    "    plot_ellipse(a,b,phi)\n",
    "    plt.plot(x[0], x[1], 'or')\n",
    "    f_firsts = []\n",
    "    for _ in range(times):\n",
    "        (x, f_first_k) = x_next(Q, bb, x)\n",
    "        plot_ellipse(*find_ell_pmtrs_x(a, b, x))\n",
    "        f_firsts.append(f_first_k)\n",
    "        if f_first_k==0.0:\n",
    "            break\n",
    "    max_axis = max(a,b); plt.xlim([-max_axis, max_axis]); plt.ylim([-max_axis, max_axis])\n",
    "    plt.show()\n",
    "    plt.plot(f_firsts);\n",
    "    plt.title('times: {0}'.format(len(f_firsts)))\n",
    "    plt.show()\n",
    "    \n",
    "    \n",
    "interact(plot_sd_path, a=(1,10), b=(1,10), x_start=(-10,10), phi=(0, math.pi), times=(1,50))"
   ]
  },
  {
   "cell_type": "markdown",
   "metadata": {},
   "source": []
  },
  {
   "cell_type": "markdown",
   "metadata": {},
   "source": []
  },
  {
   "cell_type": "markdown",
   "metadata": {},
   "source": []
  },
  {
   "cell_type": "markdown",
   "metadata": {},
   "source": []
  },
  {
   "cell_type": "markdown",
   "metadata": {},
   "source": []
  },
  {
   "cell_type": "markdown",
   "metadata": {},
   "source": []
  }
 ],
 "metadata": {
  "hide_input": false,
  "kernelspec": {
   "display_name": "Python 3",
   "language": "python",
   "name": "python3"
  },
  "language_info": {
   "codemirror_mode": {
    "name": "ipython",
    "version": 3
   },
   "file_extension": ".py",
   "mimetype": "text/x-python",
   "name": "python",
   "nbconvert_exporter": "python",
   "pygments_lexer": "ipython3"
  },
  "latex_envs": {
   "bibliofile": "biblio.bib",
   "cite_by": "apalike",
   "current_citInitial": 1,
   "eqLabelWithNumbers": true,
   "eqNumInitial": 0
  }
 },
 "nbformat": 4,
 "nbformat_minor": 0
}
