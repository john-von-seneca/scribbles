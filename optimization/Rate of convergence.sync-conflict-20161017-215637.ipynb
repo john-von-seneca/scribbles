{
 "cells": [
  {
   "cell_type": "code",
   "execution_count": 3,
   "metadata": {
    "ExecuteTime": {
     "end_time": "2016-10-17T21:36:15.072914",
     "start_time": "2016-10-17T21:36:15.066910"
    },
    "collapsed": false
   },
   "outputs": [
    {
     "data": {
      "text/html": [
       "<style>div.cell{width:70%;margin-left:15%;margin-right:auto;}</style>"
      ],
      "text/plain": [
       "<IPython.core.display.HTML object>"
      ]
     },
     "execution_count": 3,
     "metadata": {},
     "output_type": "execute_result"
    }
   ],
   "source": [
    "from IPython.display import HTML\n",
    "HTML(\"<style>\"\\\n",
    "    \"div.cell{\"\\\n",
    "        \"width:70%;\"\\\n",
    "        \"margin-left:15%;\"\\\n",
    "        \"margin-right:auto;\"\\\n",
    "    \"}\"\\\n",
    "\"</style>\")"
   ]
  },
  {
   "cell_type": "markdown",
   "metadata": {},
   "source": [
    "Simple definition\n",
    "==========\n",
    "\n",
    "* converges linearly to L if $\\exists \\mu \\in (0,1)$ such that\n",
    "$$\n",
    "\\lim_{k\\to \\infty}\n",
    "\\frac\n",
    "{\\left|x_{k+1}-L\\right|}\n",
    "{\\left|x_k-L\\right|} = \\mu.\n",
    "$$\n",
    "  * $\\mu$ is the rate of convergence\n",
    "  * the sequence $C \\mu^k$ converges linearly at rate $\\mu$ if $\\mid \\mu \\mid \\lt 1$\n",
    "  \n",
    "Say $\\mu_k$ varies at each step and consider $k \\rightarrow \\infty$\n",
    "* **superlinear**: if $\\mu_k \\rightarrow 0$\n",
    "* **sublinear**: if $\\mu_k \\rightarrow 1$\n",
    "* **logarithmic**: if sublinear and \n",
    "$$\n",
    "\\lim_{k\\to \\infty}\n",
    "\\frac\n",
    "{\\left| x_{k+2} - x_{k+1} \\right|}\n",
    "{\\left| x_{k+1} - x_k \\right|} = 1,\n",
    "$$\n",
    "* **with order k**: if \n",
    "$$\n",
    "\\lim_{k\\to \\infty}\n",
    "\\frac\n",
    "{\\left| x_{k+1}-L \\right|}\n",
    "{\\left| x_k-L \\right|^q}\n",
    "= \\mu \\,\\big|\\; \\mu > 0.\n",
    "$$\n",
    "  * q=2 : **quadratic convergence**\n",
    "  * q=3 : **cubic convergence**"
   ]
  },
  {
   "cell_type": "markdown",
   "metadata": {},
   "source": [
    "New definition\n",
    "========\n",
    "\n",
    "If the sequence $\\{ x_k \\}$ converges with at least order q if there exists a sequence $\\{ \\epsilon_k \\}$ such that\n",
    "$$\n",
    "\\mid\n",
    "x_k - L\n",
    "\\mid\n",
    "\\le\n",
    "\\epsilon_k\n",
    "\\text{ for all k}\n",
    "$$\n",
    "and $\\{ \\epsilon_k \\}$ converges with order q according to the simple definition\n"
   ]
  },
  {
   "cell_type": "markdown",
   "metadata": {},
   "source": [
    "Examples\n",
    "====\n",
    "\n",
    "$$\n",
    "\\begin{align}\n",
    "a_0 &= 1\n",
    "&&\n",
    "a_1 = \\frac12\n",
    "&&\n",
    "a_2 = \\frac14\n",
    "&&\n",
    "a_3 = \\frac18\n",
    "&&\n",
    "a_4 = \\frac1{16}\n",
    "&&\n",
    "a_5 = \\frac1{32}\n",
    "&&\n",
    "\\ldots\n",
    "&&\n",
    "a_k = \\frac1{2^k}\n",
    "&&\n",
    "\\ldots\n",
    "\\\\\n",
    "b_0 &= 1\n",
    "&&\n",
    "b_1 = 1\n",
    "&&\n",
    "b_2 = \\frac12\n",
    "&&\n",
    "b_3 = \\frac12\n",
    "&&\n",
    "b_4 = \\frac18\n",
    "&&\n",
    "b_5 = \\frac18\n",
    "&&\n",
    "\\ldots\n",
    "&&\n",
    "b_k = \\frac1{4^{\\left\\lfloor \\frac{k}{2} \\right\\rfloor}} ,\\,\n",
    "&&\n",
    "\\ldots\n",
    "\\\\\n",
    "c_0 &= \\frac12    &&\n",
    "c_1 = \\frac14     &&\n",
    "c_2 = \\frac1{16}  &&\n",
    "c_3 = \\frac1{256}     &&\n",
    "c_4 = \\frac1{65\\,536} && &&\n",
    "\\ldots &&\n",
    "c_k = \\frac1{2^{2^k}} &&\n",
    "\\ldots\n",
    "\\\\\n",
    "d_0 &= 1 &&\n",
    "d_1 = \\frac12 ,\\, &&\n",
    "d_2 = \\frac13 ,\\, &&\n",
    "d_3 = \\frac14 ,\\, &&\n",
    "d_4 = \\frac15 ,\\, &&\n",
    "d_5 = \\frac16 ,\\, &&\n",
    "\\ldots ,\\, &&\n",
    "d_k = \\frac1{k+1} ,\\, &&\n",
    "\\ldots\n",
    "\\end{align}\n",
    "$$"
   ]
  },
  {
   "cell_type": "markdown",
   "metadata": {},
   "source": [
    "* $\\{a_k\\}$:\n",
    "  * $\\displaystyle \\frac{ 1/2^{k+1}}{1/2^k} = \\frac{1}{2} = \\mu$\n",
    "  * $|\\mu| \\lt 1 \\Rightarrow $ linear convergence\n",
    "  * converges linearly to 0 with rate 1/2"
   ]
  },
  {
   "cell_type": "markdown",
   "metadata": {},
   "source": [
    "* $\\{b_k\\}$ converges linearly to 0 with rate 1/2 under new deftn."
   ]
  },
  {
   "cell_type": "markdown",
   "metadata": {},
   "source": [
    "$\\{c_k\\}$:\n",
    "* $\\displaystyle \\frac{1/2^{2^{k+1}}}{1/2^{2^k}} = \\frac{1}{2^k} = \\mu_k$\n",
    "* $\\mu_k \\rightarrow 0$, hence converges superlinearly\n",
    "  \n",
    "* $\\displaystyle \\frac{1/2^{2^{k+1}}}{\\left(1/2^{2^k}\\right)^2} = \\mu = 1$\n",
    "* $\\mu = 1$ and $q = 2$, hence quadratic\n",
    "\n",
    "$\\{c_k\\}$ converges superlinearly and is quadractic\n",
    "  "
   ]
  },
  {
   "cell_type": "markdown",
   "metadata": {},
   "source": [
    "$\\{d_k\\}$\n",
    "* $\\displaystyle \\frac{1/(k+1)}{1/k} = \\frac{k}{k+1} = \\mu_k$\n",
    "* $\\mu_k \\rightarrow 1$, hence converges sublinearly\n",
    "\n",
    "* $\\displaystyle \\frac{1/(k+2) - 1/(k+1)}{1/(k+1) - 1/k} = \\frac{1/k+2}{1/k} = \\frac{k}{k+2}$\n",
    "* $\\frac{k}{k+2} \\rightarrow 1$, hence logarithmic\n",
    "\n",
    "Thus $\\{d_k\\}$ converges sublinearly and logarithmically"
   ]
  }
 ],
 "metadata": {
  "hide_input": true,
  "kernelspec": {
   "display_name": "Python 3",
   "language": "python",
   "name": "python3"
  },
  "language_info": {
   "codemirror_mode": {
    "name": "ipython",
    "version": 3
   },
   "file_extension": ".py",
   "mimetype": "text/x-python",
   "name": "python",
   "nbconvert_exporter": "python",
   "pygments_lexer": "ipython3",
   "version": "3.5.2"
  },
  "latex_envs": {
   "bibliofile": "biblio.bib",
   "cite_by": "apalike",
   "current_citInitial": 1,
   "eqLabelWithNumbers": true,
   "eqNumInitial": 0
  },
  "nav_menu": {},
  "toc": {
   "navigate_menu": true,
   "number_sections": true,
   "sideBar": false,
   "threshold": 6,
   "toc_cell": false,
   "toc_section_display": "block",
   "toc_window_display": true
  },
  "toc_position": {
   "height": "158px",
   "left": "1234.078125px",
   "right": "20px",
   "top": "120px",
   "width": "184px"
  }
 },
 "nbformat": 4,
 "nbformat_minor": 0
}
