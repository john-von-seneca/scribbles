{
 "cells": [
  {
   "cell_type": "markdown",
   "metadata": {},
   "source": [
    "# create a git repo\n",
    "\n",
    "```shell\n",
    "> git init test\n",
    "Initialized empty Git repository in /tmp/test/.git/\n",
    "> cd test\n",
    "> find .git/objects\n",
    ".git/objects\n",
    ".git/objects/info\n",
    ".git/objects/pack\n",
    "> find .git/objects -type f\n",
    ">\n",
    "# ie, there are no files currently in an empty repo\n",
    "```"
   ]
  },
  {
   "cell_type": "markdown",
   "metadata": {},
   "source": [
    "## Store an object"
   ]
  },
  {
   "cell_type": "markdown",
   "metadata": {},
   "source": [
    "```bash\n",
    "> echo 'test content' | git hash-object -w --stdin\n",
    "d670460b4b4aece5915caf5c68d12f560a9fe3e4\n",
    "```"
   ]
  },
  {
   "cell_type": "markdown",
   "metadata": {},
   "source": [
    "* -w tells hash-object to store the object\n",
    "  * otherwise, the command simply tells you what the key would be\n",
    "* --stdin tells the command to read the content from stdin\n",
    "  * if you don’t specify this, hash-object expects a file path at the end.\n",
    "* The output from the command is a 40-character checksum hash.\n",
    "* This is the SHA-1 hash – a checksum of the content you’re storing plus a header"
   ]
  },
  {
   "cell_type": "markdown",
   "metadata": {},
   "source": [
    "```shell\n",
    "> find .git/objects -type f\n",
    ".git/objects/d6/70460b4b4aece5915caf5c68d12f560a9fe3e4\n",
    "```"
   ]
  },
  {
   "cell_type": "markdown",
   "metadata": {},
   "source": [
    "* You can see a file in the objects directory.\n",
    "* This is how Git stores the content initially\n",
    "  * as a single file per piece of content\n",
    "  * named with the SHA-1 checksum of the content and its header\n",
    "  * The subdirectory is named with the first 2 characters of the SHA-1\n",
    "  * the filename is the remaining 38 characters."
   ]
  },
  {
   "cell_type": "markdown",
   "metadata": {},
   "source": [
    "### cat-file\n",
    "\n",
    "* You can pull the content back out of Git with the cat-file command.\n",
    "* This command is sort of a Swiss army knife for inspecting Git objects.\n",
    "* Passing -p to it instructs the cat-file, ie, pretty printing"
   ]
  },
  {
   "cell_type": "markdown",
   "metadata": {},
   "source": [
    "```shell\n",
    "> git cat-file -p d670460b4b4aece5915caf5c68d12f560a9fe3e4\n",
    "test content\n",
    "```"
   ]
  },
  {
   "cell_type": "markdown",
   "metadata": {},
   "source": [
    "## adding content"
   ]
  },
  {
   "cell_type": "markdown",
   "metadata": {},
   "source": [
    "```shell\n",
    "> echo 'version 1' &gt; test.txt\n",
    "> git hash-object -w test.txt\n",
    "83baae61804e65cc73a7201a7252750c76066a30\n",
    "```"
   ]
  },
  {
   "cell_type": "markdown",
   "metadata": {},
   "source": [
    "```shell\n",
    "> echo 'version 2' &gt; test.txt\n",
    "> git hash-object -w test.txt\n",
    "1f7a7a472abf3dd9643fd615f6da379c4acb3e3a\n",
    "```"
   ]
  },
  {
   "cell_type": "markdown",
   "metadata": {},
   "source": [
    "```shell\n",
    "> find .git/objects -type f\n",
    ".git/objects/1f/7a7a472abf3dd9643fd615f6da379c4acb3e3a\n",
    ".git/objects/83/baae61804e65cc73a7201a7252750c76066a30\n",
    ".git/objects/d6/70460b4b4aece5915caf5c68d12f560a9fe3e4\n",
    "```"
   ]
  },
  {
   "cell_type": "markdown",
   "metadata": {},
   "source": [
    "```shell\n",
    "> git cat-file -t 1f7a7a472abf3dd9643fd615f6da379c4acb3e3a\n",
    "blob\n",
    "```"
   ]
  },
  {
   "cell_type": "markdown",
   "metadata": {},
   "source": [
    "# Tree objects"
   ]
  },
  {
   "cell_type": "markdown",
   "metadata": {},
   "source": [
    "```shell\n",
    "> git cat-file -p master^{tree}\n",
    "100644 blob a906cb2a4a904a152e80877d4088654daad0c859      README\n",
    "100644 blob 8f94139338f9404f26296befa88755fc2598c289      Rakefile\n",
    "040000 tree 99f1a6d12cb4b6f19c8655fca46c3ecf317074e0      lib\n",
    "```"
   ]
  },
  {
   "cell_type": "markdown",
   "metadata": {},
   "source": [
    "So, to create a tree object, you first have to set up an index by staging some files. To create an index with a single entry – the first version of your test.txt file – you can use the plumbing command update-index. You use this command to artificially add the earlier version of the test.txt file to a new staging area"
   ]
  },
  {
   "cell_type": "markdown",
   "metadata": {},
   "source": [
    "* 83baae61804e65cc73a7201a7252750c76066a30 is the hash of the first version of test.txt\n",
    "* --add : because the file doesn’t yet exist in your staging area \n",
    "* --cacheinfo : because the file you’re adding isn’t in your directory but is in your database\n",
    "* 100644 : Mode\n",
    "  * 100755, which means it’s an executable file\n",
    "  * 120000, which specifies a symbolic link"
   ]
  },
  {
   "cell_type": "markdown",
   "metadata": {},
   "source": [
    "```shell\n",
    "git update-index --add --cacheinfo 100644 83baae61804e65cc73a7201a7252750c76066a30 test.txt\n",
    "```"
   ]
  },
  {
   "cell_type": "markdown",
   "metadata": {},
   "source": [
    "Now, you can use the write-tree command to write the staging area out to a tree object. No -w option is needed – calling write-tree automatically creates a tree object from the state of the index if that tree doesn’t yet exist:"
   ]
  },
  {
   "cell_type": "markdown",
   "metadata": {},
   "source": [
    "```shell\n",
    "> git write-tree\n",
    "d8329fc1cc938780ffdd9f94e0d364e0ea74f579\n",
    "> git cat-file -p d8329fc1cc938780ffdd9f94e0d364e0ea74f579\n",
    "100644 blob 83baae61804e65cc73a7201a7252750c76066a30      test.txt\n",
    "```"
   ]
  },
  {
   "cell_type": "markdown",
   "metadata": {},
   "source": [
    "You can also verify that this is a tree object:\n",
    "```shell\n",
    "> git cat-file -t d8329fc1cc938780ffdd9f94e0d364e0ea74f579\n",
    "tree\n",
    "```"
   ]
  },
  {
   "cell_type": "markdown",
   "metadata": {},
   "source": [
    "You’ll now create a new tree with the second version of test.txt and a new file as well:"
   ]
  },
  {
   "cell_type": "markdown",
   "metadata": {},
   "source": [
    "```shell\n",
    "-> echo 'new file' > new.txt\n",
    "-> git update-index test.txt\n",
    "-> git update-index --add new.txt\n",
    "```"
   ]
  },
  {
   "cell_type": "markdown",
   "metadata": {},
   "source": [
    "Your staging area now has the new version of test.txt as well as the new file new.txt. Write out that tree (recording the state of the staging area or index to a tree object) and see what it looks like:"
   ]
  },
  {
   "cell_type": "markdown",
   "metadata": {},
   "source": [
    "```shell\n",
    "-> git write-tree\n",
    "0155eb4229851634a0f03eb265b69f5a2d56f341\n",
    "-> git cat-file -p 0155eb4229851634a0f03eb265b69f5a2d56f341\n",
    "100644 blob fa49b077972391ad58037050f2a75f74e3671e92      new.txt\n",
    "100644 blob 1f7a7a472abf3dd9643fd615f6da379c4acb3e3a      test.txt\n",
    "```"
   ]
  },
  {
   "cell_type": "markdown",
   "metadata": {},
   "source": [
    "Notice that this tree has both file entries and also that the test.txt SHA-1 is the “version 2” SHA-1 from earlier (1f7a7a). Just for fun, you’ll add the first tree as a subdirectory into this one. You can read trees into your staging area by calling read-tree. In this case, you can read an existing tree into your staging area as a subtree by using the --prefix option to read-tree:"
   ]
  },
  {
   "cell_type": "markdown",
   "metadata": {},
   "source": [
    "```shell\n",
    "-> git read-tree --prefix=bak d8329fc1cc938780ffdd9f94e0d364e0ea74f579\n",
    "-> git write-tree\n",
    "3c4e9cd789d88d8d89c1073707c3585e41b0e614\n",
    "-> git cat-file -p 3c4e9cd789d88d8d89c1073707c3585e41b0e614\n",
    "040000 tree d8329fc1cc938780ffdd9f94e0d364e0ea74f579      bak\n",
    "100644 blob fa49b077972391ad58037050f2a75f74e3671e92      new.txt\n",
    "100644 blob 1f7a7a472abf3dd9643fd615f6da379c4acb3e3a      test.txt\n",
    "```"
   ]
  },
  {
   "cell_type": "markdown",
   "metadata": {},
   "source": [
    "# Commit objects"
   ]
  },
  {
   "cell_type": "markdown",
   "metadata": {},
   "source": [
    "You have three trees that specify the different snapshots of your project that you want to track, but the earlier problem remains: you must remember all three SHA-1 values in order to recall the snapshots. You also don’t have any information about who saved the snapshots, when they were saved, or why they were saved. This is the basic information that the commit object stores for you."
   ]
  },
  {
   "cell_type": "markdown",
   "metadata": {},
   "source": [
    "To create a commit object, you call commit-tree and specify a single tree SHA-1 and which commit objects, if any, directly preceded it. Start with the first tree you wrote:"
   ]
  },
  {
   "cell_type": "markdown",
   "metadata": {},
   "source": [
    "```shell\n",
    "-> echo 'first commit' | git commit-tree d8329f\n",
    "fdf4fc3344e67ab068f836878b6c4951e3b15f3d\n",
    "```"
   ]
  },
  {
   "cell_type": "markdown",
   "metadata": {},
   "source": [
    "You will get a different hash value because of different creation time and author data. Replace commit and tag hashes with your own checksums further in this chapter. Now you can look at your new commit object with cat-file:"
   ]
  },
  {
   "cell_type": "markdown",
   "metadata": {},
   "source": [
    "```shell\n",
    "✗ git cat-file -p ae0b21e8f28f71fce63aa4123db21590a2fb9386\n",
    "tree d8329fc1cc938780ffdd9f94e0d364e0ea74f579\n",
    "author jvs <john.von.seneca@gmail.com> 1462024110 +0530\n",
    "committer jvs <john.von.seneca@gmail.com> 1462024110 +0530\n",
    "\n",
    "first commit\n",
    "```"
   ]
  },
  {
   "cell_type": "markdown",
   "metadata": {},
   "source": [
    "Next, you’ll write the other two commit objects, each referencing the commit that came directly before it:\n",
    "\n"
   ]
  },
  {
   "cell_type": "markdown",
   "metadata": {},
   "source": [
    "```shell\n",
    "✗ echo 'second commit' | git commit-tree 0155eb4229851634a0f03eb265b69f5a2d56f341 -p ae0b21e8f28f71fce63aa4123db21590a2fb9386\n",
    "35a741bd9e435f5249fc8f9298319752b8e09e3c\n",
    "✗ echo 'third commit'  | git commit-tree 3c4e9cd789d88d8d89c1073707c3585e41b0e614 -p 35a741bd9e435f5249fc8f9298319752b8e09e3c\n",
    "46d99088da8b65c2d355eab938517022a096908c\n",
    "```"
   ]
  },
  {
   "cell_type": "markdown",
   "metadata": {},
   "source": [
    "Each of the three commit objects points to one of the three snapshot trees you created. Oddly enough, you have a real Git history now that you can view with the git log command, if you run it on the last commit SHA-1:"
   ]
  },
  {
   "cell_type": "markdown",
   "metadata": {},
   "source": [
    "```shell\n",
    "-> git log --stat 46d99088da8b65c2d355eab938517022a096908c\n",
    "commit 46d99088da8b65c2d355eab938517022a096908c\n",
    "Author: jvs <john.von.seneca@gmail.com>\n",
    "Date:   Sat Apr 30 19:21:01 2016 +0530\n",
    "\n",
    "    third commit\n",
    "\n",
    " bak/test.txt | 1 +\n",
    " 1 file changed, 1 insertion(+)\n",
    "\n",
    "commit 35a741bd9e435f5249fc8f9298319752b8e09e3c\n",
    "Author: jvs <john.von.seneca@gmail.com>\n",
    "Date:   Sat Apr 30 19:20:25 2016 +0530\n",
    "\n",
    "    second commit\n",
    "\n",
    " new.txt  | 1 +\n",
    " test.txt | 2 +-\n",
    " 2 files changed, 2 insertions(+), 1 deletion(-)\n",
    "\n",
    "commit ae0b21e8f28f71fce63aa4123db21590a2fb9386\n",
    "Author: jvs <john.von.seneca@gmail.com>\n",
    "Date:   Sat Apr 30 19:18:30 2016 +0530\n",
    "\n",
    "    first commit\n",
    "\n",
    " test.txt | 1 +\n",
    " 1 file changed, 1 insertion(+)\n",
    " ```"
   ]
  },
  {
   "cell_type": "markdown",
   "metadata": {},
   "source": [
    "```shell\n",
    "✗ find .git/objects -type f\n",
    ".git/objects/01/55eb4229851634a0f03eb265b69f5a2d56f341\n",
    ".git/objects/1f/7a7a472abf3dd9643fd615f6da379c4acb3e3a\n",
    ".git/objects/35/a741bd9e435f5249fc8f9298319752b8e09e3c\n",
    ".git/objects/3c/4e9cd789d88d8d89c1073707c3585e41b0e614\n",
    ".git/objects/46/d99088da8b65c2d355eab938517022a096908c\n",
    ".git/objects/83/baae61804e65cc73a7201a7252750c76066a30\n",
    ".git/objects/ae/0b21e8f28f71fce63aa4123db21590a2fb9386\n",
    ".git/objects/bd/9dbf5aae1a3862dd1526723246b20206e5fc37\n",
    ".git/objects/d8/329fc1cc938780ffdd9f94e0d364e0ea74f579\n",
    ".git/objects/fa/49b077972391ad58037050f2a75f74e3671e92\n",
    "```"
   ]
  },
  {
   "cell_type": "markdown",
   "metadata": {},
   "source": [
    "# Object storage"
   ]
  },
  {
   "cell_type": "markdown",
   "metadata": {},
   "source": [
    "```shell\n",
    "-> irb\n",
    "```"
   ]
  },
  {
   "cell_type": "markdown",
   "metadata": {},
   "source": [
    "```ruby\n",
    "irb(main):001:0> content = 'what is up, doc?'\n",
    "=> \"what is up, doc?\"\n",
    "irb(main):002:0> head = \"blob #{content.length}\"\n",
    "=> \"blob 16\"\n",
    "irb(main):003:0> head = \"blob #{content.length}\\0\"\n",
    "=> \"blob 16\\u0000\"\n",
    "irb(main):005:0> store = head + content\n",
    "=> \"blob 16\\u0000what is up, doc?\"\n",
    "```"
   ]
  },
  {
   "cell_type": "markdown",
   "metadata": {},
   "source": [
    "Git constructs a header that starts with the type of the object, in this case a blob. Then, it adds a space followed by the size of the content and finally a null byte:\n",
    "\n",
    "Git concatenates the header and the original content and then calculates the SHA-1 checksum of that new content"
   ]
  },
  {
   "cell_type": "markdown",
   "metadata": {},
   "source": [
    "You can calculate the SHA-1 value of a string in Ruby by including the SHA1 digest library with the require command and then calling Digest::SHA1.hexdigest() with the string"
   ]
  },
  {
   "cell_type": "markdown",
   "metadata": {},
   "source": [
    "```ruby\n",
    "irb(main):006:0> require 'digest/sha1'\n",
    "=> true\n",
    "irb(main):007:0> sha1 = Digest::SHA1.hexdigest(store)\n",
    "=> \"bd9dbf5aae1a3862dd1526723246b20206e5fc37\"\n",
    "```"
   ]
  },
  {
   "cell_type": "markdown",
   "metadata": {},
   "source": [
    "\n",
    "Git compresses the new content with zlib, which you can do in Ruby with the zlib library. First, you need to require the library and then run Zlib::Deflate.deflate() on the content:"
   ]
  },
  {
   "cell_type": "markdown",
   "metadata": {},
   "source": [
    "```ruby\n",
    "irb(main):008:0> require 'zlib'\n",
    "=> true\n",
    "irb(main):009:0> zlib_content = Zlib::Deflate.deflate(store)\n",
    "=> \"x\\x9CK\\xCA\\xC9OR04c(\\xCFH,Q\\xC8,V(-\\xD0QH\\xC9O\\xB6\\a\\x00_\\x1C\\a\\x9D\"\n",
    "irb(main):010:0> path = \".git/objects/#{sha1[0,2]}/#{sha1[2,38]}\"\n",
    "=> \".git/objects/bd/9dbf5aae1a3862dd1526723246b20206e5fc37\"\n",
    "```"
   ]
  },
  {
   "cell_type": "markdown",
   "metadata": {},
   "source": [
    "Finally, you’ll write your zlib-deflated content to an object on disk. You’ll determine the path of the object you want to write out (the first two characters of the SHA-1 value being the subdirectory name, and the last 38 characters being the filename within that directory). In Ruby, you can use the FileUtils.mkdir_p() function to create the subdirectory if it doesn’t exist. Then, open the file with File.open() and write out the previously zlib-compressed content to the file with a write() call on the resulting file handle:"
   ]
  },
  {
   "cell_type": "markdown",
   "metadata": {},
   "source": [
    "```ruby\n",
    "irb(main):011:0> require 'fileutils'\n",
    "=> true\n",
    "irb(main):012:0> FileUtils.mkdir_p(File.dirname(path))\n",
    "=> [\".git/objects/bd\"]\n",
    "irb(main):013:0> File.open(path, 'w') {|f| f.write(zlib_content)}\n",
    "=> 32\n",
    "irb(main):014:0>\n",
    "```"
   ]
  },
  {
   "cell_type": "markdown",
   "metadata": {},
   "source": [
    "```shell\n",
    "```"
   ]
  },
  {
   "cell_type": "markdown",
   "metadata": {},
   "source": []
  },
  {
   "cell_type": "markdown",
   "metadata": {},
   "source": []
  },
  {
   "cell_type": "markdown",
   "metadata": {},
   "source": []
  },
  {
   "cell_type": "markdown",
   "metadata": {},
   "source": []
  },
  {
   "cell_type": "markdown",
   "metadata": {},
   "source": []
  },
  {
   "cell_type": "markdown",
   "metadata": {},
   "source": []
  },
  {
   "cell_type": "markdown",
   "metadata": {},
   "source": []
  },
  {
   "cell_type": "markdown",
   "metadata": {},
   "source": []
  },
  {
   "cell_type": "markdown",
   "metadata": {},
   "source": []
  },
  {
   "cell_type": "markdown",
   "metadata": {},
   "source": []
  },
  {
   "cell_type": "markdown",
   "metadata": {},
   "source": []
  },
  {
   "cell_type": "markdown",
   "metadata": {},
   "source": []
  },
  {
   "cell_type": "code",
   "execution_count": null,
   "metadata": {
    "collapsed": true
   },
   "outputs": [],
   "source": []
  },
  {
   "cell_type": "code",
   "execution_count": null,
   "metadata": {
    "collapsed": true
   },
   "outputs": [],
   "source": []
  }
 ],
 "metadata": {
  "hide_input": true,
  "kernelspec": {
   "display_name": "Python 3",
   "language": "python3",
   "name": "python3"
  },
  "language_info": {
   "codemirror_mode": {
    "name": "ipython",
    "version": 3
   },
   "file_extension": ".py",
   "mimetype": "text/x-python",
   "name": "python",
   "nbconvert_exporter": "python",
   "pygments_lexer": "ipython3",
   "version": "3.5.1"
  },
  "latex_envs": {
   "bibliofile": "biblio.bib",
   "cite_by": "apalike",
   "current_citInitial": 1,
   "eqLabelWithNumbers": true,
   "eqNumInitial": 0
  }
 },
 "nbformat": 4,
 "nbformat_minor": 0
}
